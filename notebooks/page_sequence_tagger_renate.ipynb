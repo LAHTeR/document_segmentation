{
 "cells": [
  {
   "cell_type": "code",
   "execution_count": 1,
   "metadata": {},
   "outputs": [],
   "source": [
    "%load_ext autoreload\n",
    "%autoreload now"
   ]
  },
  {
   "cell_type": "code",
   "execution_count": 2,
   "metadata": {},
   "outputs": [],
   "source": [
    "import os\n",
    "\n",
    "os.environ[\"CUDA_VISIBLE_DEVICES\"] = \"MIG-08137aa2-e69b-5e74-8390-7997329b1336\"\n",
    "# os.environ[\"WORLD_SIZE\"] = \"1\""
   ]
  },
  {
   "cell_type": "markdown",
   "metadata": {},
   "source": [
    "# Download and convert data"
   ]
  },
  {
   "cell_type": "code",
   "execution_count": 3,
   "metadata": {},
   "outputs": [
    {
     "name": "stderr",
     "output_type": "stream",
     "text": [
      "Writing documents: 0doc [00:00, ?doc/s]\n"
     ]
    }
   ],
   "source": [
    "from tqdm import tqdm\n",
    "\n",
    "from document_segmentation.pagexml.annotations.renate_analysis import RenateAnalysis\n",
    "from document_segmentation.settings import RENATE_ANALYSIS_DIR\n",
    "\n",
    "N = None\n",
    "\n",
    "RENATE_ANALYSIS_DIR.mkdir(parents=True, exist_ok=True)\n",
    "\n",
    "sheet = RenateAnalysis()\n",
    "\n",
    "\n",
    "existing_docs = {\n",
    "    path.stem for path in RENATE_ANALYSIS_DIR.glob(\"Globdoc_*.json\") if path.is_file()\n",
    "}\n",
    "\n",
    "for document in tqdm(\n",
    "    sheet.to_documents(n=N, skip_ids=existing_docs),\n",
    "    total=(N or len(sheet)) - len(existing_docs),\n",
    "    desc=\"Writing documents\",\n",
    "    unit=\"doc\",\n",
    "):\n",
    "    document_file = RENATE_ANALYSIS_DIR / f\"{document.id}.json\"\n",
    "\n",
    "    with document_file.open(\"xt\") as f:\n",
    "        f.write(document.model_dump_json())\n",
    "        f.write(\"\\n\")"
   ]
  },
  {
   "cell_type": "code",
   "execution_count": 4,
   "metadata": {},
   "outputs": [
    {
     "name": "stderr",
     "output_type": "stream",
     "text": [
      "Writing documents:   0%|          | 0/26 [00:00<?, ?doc/s]"
     ]
    },
    {
     "name": "stderr",
     "output_type": "stream",
     "text": [
      "Writing documents: 100%|██████████| 26/26 [00:10<00:00,  2.55doc/s]\n"
     ]
    }
   ],
   "source": [
    "import logging\n",
    "\n",
    "from tqdm import tqdm\n",
    "\n",
    "from document_segmentation.pagexml.annotations.renate_analysis import RenateAnalysisInv\n",
    "from document_segmentation.settings import RENATE_ANALYSIS_DIR, RENATE_ANALYSIS_SHEETS\n",
    "\n",
    "N = None\n",
    "\n",
    "\n",
    "sheet = RenateAnalysisInv(RENATE_ANALYSIS_SHEETS[0])  # TODO: use both sheets\n",
    "\n",
    "for document in tqdm(\n",
    "    sheet.to_documents(n=N), desc=\"Writing documents\", unit=\"doc\", total=26\n",
    "):\n",
    "    document_file = RENATE_ANALYSIS_DIR / f\"{document.id}.json\"\n",
    "\n",
    "    if document_file.exists():\n",
    "        logging.info(f\"Document {document.id} already exists, skipping\")\n",
    "    else:\n",
    "        with document_file.open(\"xt\") as f:\n",
    "            f.write(document.model_dump_json())\n",
    "            f.write(\"\\n\")"
   ]
  },
  {
   "cell_type": "markdown",
   "metadata": {},
   "source": [
    "# Load Data"
   ]
  },
  {
   "cell_type": "code",
   "execution_count": 18,
   "metadata": {},
   "outputs": [],
   "source": [
    "%autoreload now"
   ]
  },
  {
   "cell_type": "code",
   "execution_count": 19,
   "metadata": {},
   "outputs": [],
   "source": [
    "TRAINING_DATA = 0.8"
   ]
  },
  {
   "cell_type": "code",
   "execution_count": 20,
   "metadata": {},
   "outputs": [
    {
     "name": "stderr",
     "output_type": "stream",
     "text": [
      "Reading JSON files: 100%|██████████| 104/104 [00:00<00:00, 176.63file/s]\n"
     ]
    },
    {
     "data": {
      "text/plain": [
       "2184"
      ]
     },
     "execution_count": 20,
     "metadata": {},
     "output_type": "execute_result"
    }
   ],
   "source": [
    "from document_segmentation.model.dataset import DocumentDataset\n",
    "\n",
    "dataset: DocumentDataset = DocumentDataset.from_dir(RENATE_ANALYSIS_DIR)\n",
    "len(dataset)"
   ]
  },
  {
   "cell_type": "code",
   "execution_count": 21,
   "metadata": {},
   "outputs": [
    {
     "data": {
      "text/plain": [
       "Counter({<Label.IN: 1>: 1907,\n",
       "         <Label.BEGIN: 0>: 104,\n",
       "         <Label.END: 2>: 100,\n",
       "         <Label.OUT: 3>: 73})"
      ]
     },
     "execution_count": 21,
     "metadata": {},
     "output_type": "execute_result"
    }
   ],
   "source": [
    "dataset._class_counts()"
   ]
  },
  {
   "cell_type": "code",
   "execution_count": 22,
   "metadata": {},
   "outputs": [
    {
     "data": {
      "text/plain": [
       "[20.8, 1.1446540880503144, 21.623762376237625, 29.513513513513512]"
      ]
     },
     "execution_count": 22,
     "metadata": {},
     "output_type": "execute_result"
    }
   ],
   "source": [
    "dataset.class_weights()"
   ]
  },
  {
   "cell_type": "code",
   "execution_count": 24,
   "metadata": {},
   "outputs": [],
   "source": [
    "training_data, test_data = dataset.split(TRAINING_DATA)"
   ]
  },
  {
   "cell_type": "code",
   "execution_count": 26,
   "metadata": {},
   "outputs": [
    {
     "data": {
      "text/plain": [
       "Counter({<Label.IN: 1>: 1591,\n",
       "         <Label.BEGIN: 0>: 83,\n",
       "         <Label.END: 2>: 81,\n",
       "         <Label.OUT: 3>: 67})"
      ]
     },
     "execution_count": 26,
     "metadata": {},
     "output_type": "execute_result"
    }
   ],
   "source": [
    "training_data._class_counts()"
   ]
  },
  {
   "cell_type": "code",
   "execution_count": 27,
   "metadata": {},
   "outputs": [
    {
     "data": {
      "text/plain": [
       "Counter({<Label.IN: 1>: 316,\n",
       "         <Label.BEGIN: 0>: 21,\n",
       "         <Label.END: 2>: 19,\n",
       "         <Label.OUT: 3>: 6})"
      ]
     },
     "execution_count": 27,
     "metadata": {},
     "output_type": "execute_result"
    }
   ],
   "source": [
    "test_data._class_counts()"
   ]
  },
  {
   "cell_type": "markdown",
   "metadata": {},
   "source": [
    "# Train Model"
   ]
  },
  {
   "cell_type": "code",
   "execution_count": 28,
   "metadata": {},
   "outputs": [],
   "source": [
    "import torch\n",
    "\n",
    "BATCH_SIZE = 32\n",
    "EPOCHS = 10\n",
    "WEIGHTS = torch.Tensor(dataset.class_weights())  # For an imbalanced dataset"
   ]
  },
  {
   "cell_type": "code",
   "execution_count": null,
   "metadata": {},
   "outputs": [],
   "source": [
    "%autoreload now"
   ]
  },
  {
   "cell_type": "code",
   "execution_count": 29,
   "metadata": {},
   "outputs": [],
   "source": [
    "from document_segmentation.model.page_sequence_tagger import PageSequenceTagger\n",
    "\n",
    "tagger = PageSequenceTagger()"
   ]
  },
  {
   "cell_type": "code",
   "execution_count": 30,
   "metadata": {},
   "outputs": [
    {
     "data": {
      "text/plain": [
       "'mps'"
      ]
     },
     "execution_count": 30,
     "metadata": {},
     "output_type": "execute_result"
    }
   ],
   "source": [
    "tagger._device"
   ]
  },
  {
   "cell_type": "code",
   "execution_count": 31,
   "metadata": {},
   "outputs": [
    {
     "data": {
      "text/plain": [
       "PageSequenceTagger(\n",
       "  (_page_embedding): PageEmbedding(\n",
       "    (_region_model): RegionEmbeddingSentenceTransformer(\n",
       "      (_transformer_model): SentenceTransformer(\n",
       "        (0): Transformer({'max_seq_length': 128, 'do_lower_case': False}) with Transformer model: RobertaModel \n",
       "        (1): Pooling({'word_embedding_dimension': 768, 'pooling_mode_cls_token': False, 'pooling_mode_mean_tokens': True, 'pooling_mode_max_tokens': False, 'pooling_mode_mean_sqrt_len_tokens': False, 'pooling_mode_weightedmean_tokens': False, 'pooling_mode_lasttoken': False})\n",
       "      )\n",
       "      (_region_type): Embedding(9, 16)\n",
       "      (_linear): Linear(in_features=784, out_features=512, bias=True)\n",
       "    )\n",
       "    (_rnn): LSTM(512, 256, num_layers=2, batch_first=True, dropout=0.1, bidirectional=True)\n",
       "    (_linear): Linear(in_features=512, out_features=256, bias=True)\n",
       "  )\n",
       "  (_rnn): LSTM(256, 256, num_layers=2, batch_first=True, dropout=0.1, bidirectional=True)\n",
       "  (_linear): Linear(in_features=512, out_features=4, bias=True)\n",
       "  (_softmax): Softmax(dim=1)\n",
       ")"
      ]
     },
     "execution_count": 31,
     "metadata": {},
     "output_type": "execute_result"
    }
   ],
   "source": [
    "tagger"
   ]
  },
  {
   "cell_type": "code",
   "execution_count": 32,
   "metadata": {},
   "outputs": [
    {
     "name": "stderr",
     "output_type": "stream",
     "text": [
      "\n",
      "/Users/carstenschnober/LAHTeR/workspace/document-segmentation/.venv/lib/python3.11/site-packages/tqdm/std.py:636: TqdmWarning: clamping frac to range [0, 1]\n",
      "116batch [01:44,  1.11batch/s]\n",
      "Reading JSON files:   0%|          | 0/104 [09:17<?, ?file/s]"
     ]
    },
    {
     "name": "stdout",
     "output_type": "stream",
     "text": [
      "Current allocated memory (MPS): 1182 MB\n",
      "Driver allocated memory (MPS): 2906 MB\n",
      "[Loss:\t6.392]\n"
     ]
    },
    {
     "name": "stderr",
     "output_type": "stream",
     "text": [
      "116batch [00:06, 18.18batch/s]\n",
      "Reading JSON files:   0%|          | 0/104 [09:23<?, ?file/s]"
     ]
    },
    {
     "name": "stdout",
     "output_type": "stream",
     "text": [
      "Current allocated memory (MPS): 1182 MB\n",
      "Driver allocated memory (MPS): 2860 MB\n",
      "[Loss:\t4.474]\n"
     ]
    },
    {
     "name": "stderr",
     "output_type": "stream",
     "text": [
      "116batch [00:06, 18.00batch/s]\n",
      "Reading JSON files:   0%|          | 0/104 [09:30<?, ?file/s]"
     ]
    },
    {
     "name": "stdout",
     "output_type": "stream",
     "text": [
      "Current allocated memory (MPS): 1182 MB\n",
      "Driver allocated memory (MPS): 2842 MB\n",
      "[Loss:\t4.442]\n"
     ]
    },
    {
     "name": "stderr",
     "output_type": "stream",
     "text": [
      "116batch [00:06, 19.33batch/s]\n",
      "Reading JSON files:   0%|          | 0/104 [09:36<?, ?file/s]"
     ]
    },
    {
     "name": "stdout",
     "output_type": "stream",
     "text": [
      "Current allocated memory (MPS): 1182 MB\n",
      "Driver allocated memory (MPS): 2842 MB\n",
      "[Loss:\t4.433]\n"
     ]
    },
    {
     "name": "stderr",
     "output_type": "stream",
     "text": [
      "116batch [00:05, 19.72batch/s]\n",
      "Reading JSON files:   0%|          | 0/104 [09:41<?, ?file/s]"
     ]
    },
    {
     "name": "stdout",
     "output_type": "stream",
     "text": [
      "Current allocated memory (MPS): 1182 MB\n",
      "Driver allocated memory (MPS): 2842 MB\n",
      "[Loss:\t4.131]\n"
     ]
    },
    {
     "name": "stderr",
     "output_type": "stream",
     "text": [
      "116batch [00:05, 19.71batch/s]\n",
      "Reading JSON files:   0%|          | 0/104 [09:47<?, ?file/s]"
     ]
    },
    {
     "name": "stdout",
     "output_type": "stream",
     "text": [
      "Current allocated memory (MPS): 1182 MB\n",
      "Driver allocated memory (MPS): 2842 MB\n",
      "[Loss:\t3.584]\n"
     ]
    },
    {
     "name": "stderr",
     "output_type": "stream",
     "text": [
      "116batch [00:05, 19.84batch/s]\n",
      "Reading JSON files:   0%|          | 0/104 [09:53<?, ?file/s]"
     ]
    },
    {
     "name": "stdout",
     "output_type": "stream",
     "text": [
      "Current allocated memory (MPS): 1182 MB\n",
      "Driver allocated memory (MPS): 2842 MB\n",
      "[Loss:\t3.574]\n"
     ]
    },
    {
     "name": "stderr",
     "output_type": "stream",
     "text": [
      "116batch [00:05, 19.80batch/s]\n",
      "Reading JSON files:   0%|          | 0/104 [09:59<?, ?file/s]"
     ]
    },
    {
     "name": "stdout",
     "output_type": "stream",
     "text": [
      "Current allocated memory (MPS): 1182 MB\n",
      "Driver allocated memory (MPS): 2842 MB\n",
      "[Loss:\t3.569]\n"
     ]
    },
    {
     "name": "stderr",
     "output_type": "stream",
     "text": [
      "116batch [00:05, 19.60batch/s]\n",
      "Reading JSON files:   0%|          | 0/104 [10:05<?, ?file/s]"
     ]
    },
    {
     "name": "stdout",
     "output_type": "stream",
     "text": [
      "Current allocated memory (MPS): 1182 MB\n",
      "Driver allocated memory (MPS): 2842 MB\n",
      "[Loss:\t3.568]\n"
     ]
    },
    {
     "name": "stderr",
     "output_type": "stream",
     "text": [
      "116batch [00:05, 19.56batch/s]\n",
      "Reading JSON files:   0%|          | 0/104 [10:11<?, ?file/s]"
     ]
    },
    {
     "name": "stdout",
     "output_type": "stream",
     "text": [
      "Current allocated memory (MPS): 1182 MB\n",
      "Driver allocated memory (MPS): 2842 MB\n",
      "[Loss:\t3.567]\n"
     ]
    }
   ],
   "source": [
    "tagger.train_(training_data, EPOCHS, BATCH_SIZE, WEIGHTS.to(tagger._device))"
   ]
  },
  {
   "cell_type": "markdown",
   "metadata": {},
   "source": [
    "# Evaluate Model"
   ]
  },
  {
   "cell_type": "code",
   "execution_count": 33,
   "metadata": {},
   "outputs": [
    {
     "name": "stderr",
     "output_type": "stream",
     "text": [
      "Reading JSON files:   0%|          | 0/104 [10:23<?, ?file/s]\n"
     ]
    },
    {
     "name": "stdout",
     "output_type": "stream",
     "text": [
      "Predicted\tActual\tPage ID\tText\tScores\n"
     ]
    },
    {
     "name": "stderr",
     "output_type": "stream",
     "text": [
      " 18%|█▊        | 2/11.3125 [00:00<00:03,  2.72batch/s]"
     ]
    },
    {
     "name": "stdout",
     "output_type": "stream",
     "text": [
      "BEGIN\tBEGIN\tNL-HaNA_1.04.02_1060_0435.jpg\tAlsoo het schip der Goes, als t'Jacht Cleijn Enckh\t[0.9996637105941772, 0.0002524361771065742, 5.55374936084263e-05, 2.8267319066799246e-05]\n",
      "IN\tIN\tNL-HaNA_1.04.02_1060_0436.jpg\tOp heden den 5 feb. @ 1614, door beroep vanden E. \t[0.0012747891014441848, 0.997553288936615, 0.0011668851366266608, 5.150438937562285e-06]\n",
      "IN\tIN\tNL-HaNA_1.04.02_1060_0437.jpg\t@ 1615. Dondergeschreven te soonen; Soo Is bij d' \t[0.0007243358995765448, 0.9982724189758301, 0.0009999239118769765, 3.3418723432987463e-06]\n",
      "IN\tIN\tNL-HaNA_1.04.02_1060_0438.jpg\tDen 19 feb. . vernomen hebbende op de factorije to\t[0.0006676050252281129, 0.9983349442481995, 0.0009944145567715168, 3.1268480142898625e-06]\n",
      "IN\tIN\tNL-HaNA_1.04.02_1060_0439.jpg\tErt Dircx wttgevaren voor Soldaet, opt schip Banta\t[0.0006568318349309266, 0.9983606934547424, 0.000979323056526482, 3.1010447401058627e-06]\n",
      "IN\tIN\tNL-HaNA_1.04.02_1060_0440.jpg\tComptoir deeart sullen gaen, omme door den opperco\t[0.0006553619750775397, 0.9983624815940857, 0.0009790909243747592, 3.096177124461974e-06]\n",
      "IN\tIN\tNL-HaNA_1.04.02_1060_0441.jpg\tAl500. Anthonij Caen, getrout met Jannetien Gillis\t[0.0006557885790243745, 0.9983627200126648, 0.0009783399291336536, 3.096124828516622e-06]\n",
      "IN\tIN\tNL-HaNA_1.04.02_1060_0442.jpg\tssouden mogen geraecken, &ne ten derden vermits al\t[0.0006503397016786039, 0.9983595013618469, 0.0009869943605735898, 3.0627386422565905e-06]\n",
      "IN\tIN\tNL-HaNA_1.04.02_1060_0443.jpg\tAlsoo tot noch toe geen schepen wt het vaderlant, \t[0.0006529833772219718, 0.9983555674552917, 0.000988348270766437, 3.0696569410793018e-06]\n",
      "IN\tIN\tNL-HaNA_1.04.02_1060_0444.jpg\tNaerder gelet sijnde, volgens apostile door d Ed. \t[0.0006359292892739177, 0.9983248114585876, 0.001036216039210558, 3.0179642180883093e-06]\n",
      "IN\tIN\tNL-HaNA_1.04.02_1060_0445.jpg\t@ 1615; E; Den 14e. septemb. d'onderges raden, opt\t[0.0006385945598594844, 0.9982671737670898, 0.0010911064455285668, 3.07789468934061e-06]\n",
      "IN\tIN\tNL-HaNA_1.04.02_1060_0446.jpg\tge; Alsoo 'T schip Esterre, tot zijnne te doene vo\t[0.0006711218156851828, 0.9979767203330994, 0.0013488966505974531, 3.373667823325377e-06]\n",
      "IN\tIN\tNL-HaNA_1.04.02_1060_0447.jpg\tMaendach den xiiije Decemb. @ 1615 &; Alsoo bij de\t[0.0008880437817424536, 0.9964327812194824, 0.0026738967280834913, 5.252621122053824e-06]\n",
      "END\tEND\tNL-HaNA_1.04.02_1060_0448.jpg\tSivert Sipkens sargeant die de voors compe. tot nu\t[0.00011219384032301605, 0.00034786525066010654, 0.9995321035385132, 7.816047400410753e-06]\n",
      "BEGIN\tBEGIN\tNL-HaNA_1.04.02_1066_0065.jpg\tNo. 1— Originelen missive door d' H=r Presidt Cocn\t[0.9980794191360474, 0.0010041077621281147, 0.0007949898717924953, 0.00012147149391239509]\n"
     ]
    },
    {
     "name": "stderr",
     "output_type": "stream",
     "text": [
      " 27%|██▋       | 3/11.3125 [00:01<00:03,  2.38batch/s]"
     ]
    },
    {
     "name": "stdout",
     "output_type": "stream",
     "text": [
      "OUT\tOUT\tNL-HaNA_1.04.02_1547_0348.jpg\t\t[3.767828457057476e-05, 1.168915241578361e-05, 1.6890284314285964e-05, 0.9999337196350098]\n",
      "OUT\tOUT\tNL-HaNA_1.04.02_1547_0349.jpg\t\t[1.3423024938674644e-05, 5.066107860329794e-06, 6.1292248574318364e-06, 0.9999754428863525]\n",
      "OUT\tOUT\tNL-HaNA_1.04.02_1547_0350.jpg\t\t[2.89409035758581e-05, 1.1263072337897029e-05, 1.1508109309943393e-05, 0.9999483823776245]\n",
      "BEGIN\tBEGIN\tNL-HaNA_1.04.02_1547_0351.jpg\tTranslaat ola door haar E:; heer Commandeur adriaa\t[0.9994751811027527, 0.00016204184794332832, 5.188388240640052e-05, 0.0003109582175966352]\n",
      "IN\tIN\tNL-HaNA_1.04.02_1547_0352.jpg\tgegeven werd op dit alle onlusten verweijderinghe \t[0.002426056656986475, 0.9959057569503784, 0.0015960998134687543, 7.202728738775477e-05]\n",
      "END\tEND\tNL-HaNA_1.04.02_1547_0353.jpg\ten het Cochinisz rijk herwaarts te senden om over \t[0.0002140397991752252, 0.0006525940843857825, 0.9990953207015991, 3.8060639781178907e-05]\n"
     ]
    },
    {
     "name": "stderr",
     "output_type": "stream",
     "text": [
      " 35%|███▌      | 4/11.3125 [00:03<00:06,  1.06batch/s]"
     ]
    },
    {
     "name": "stdout",
     "output_type": "stream",
     "text": [
      "BEGIN\tBEGIN\tNL-HaNA_1.04.02_1506_1034.jpg\t-; d; E; 7.; decken; 8; 2; van de; 5; ƒ; 3; E; E; \t[0.999672532081604, 0.0002436629729345441, 5.570215216721408e-05, 2.817159656842705e-05]\n",
      "IN\tIN\tNL-HaNA_1.04.02_1506_1035.jpg\tbinnewater; een lamme; D95; same; uijt; ies; Cas; \t[0.0013309026835486293, 0.9972808361053467, 0.0013826104113832116, 5.614747806248488e-06]\n",
      "IN\tIN\tNL-HaNA_1.04.02_1506_1036.jpg\t30 vrs; o; Janor; 6; 5o; e; x; 116; E; 6.; 1.; :; \t[0.0011187694035470486, 0.9959751963615417, 0.0029000823851674795, 5.9029798649135046e-06]\n",
      "END\tEND\tNL-HaNA_1.04.02_1506_1037.jpg\tk; „noortvelt; rogons; „1; rsame; uijt; eruijt; ƒ;\t[0.00011362581426510587, 0.0002934639051090926, 0.9995860457420349, 6.863442195026437e-06]\n"
     ]
    },
    {
     "name": "stderr",
     "output_type": "stream",
     "text": [
      " 44%|████▍     | 5/11.3125 [00:04<00:07,  1.26s/batch]"
     ]
    },
    {
     "name": "stdout",
     "output_type": "stream",
     "text": [
      "BEGIN\tBEGIN\tNL-HaNA_1.04.02_3060_0043.jpg\tNa dat de Leeden deeser Vergaadering bij een geroe\t[0.9717885255813599, 0.010821838863193989, 0.001531894551590085, 0.015857649967074394]\n",
      "IN\tIN\tNL-HaNA_1.04.02_3060_0044.jpg\t\t[0.004722322802990675, 0.9493709206581116, 0.0015321957180276513, 0.04437460005283356]\n",
      "OUT\tIN\tNL-HaNA_1.04.02_3060_0045.jpg\t\t[0.007382892072200775, 0.4826573133468628, 0.0038950678426772356, 0.5060647130012512]\n",
      "OUT\tIN\tNL-HaNA_1.04.02_3060_0046.jpg\t\t[0.00460227532312274, 0.07550110667943954, 0.002633779775351286, 0.917262852191925]\n",
      "BEGIN\tIN\tNL-HaNA_1.04.02_3060_0047.jpg\tWoensdag den 13: ' October A„o 1762.; Na dat de Le\t[0.9990507960319519, 0.000773828593082726, 6.256939377635717e-05, 0.00011286102380836383]\n",
      "IN\tIN\tNL-HaNA_1.04.02_3060_0048.jpg\tNagesien; G„s V„n Aken\t[0.0006021875306032598, 0.998832643032074, 0.0005534070078283548, 1.1793497833423316e-05]\n",
      "IN\tIN\tNL-HaNA_1.04.02_3060_0049.jpg\tWoensdag den 13.:' October A„o 1762.; Na dat de Le\t[0.0004429000255186111, 0.9989116191864014, 0.0006400637212209404, 5.48712705494836e-06]\n",
      "IN\tIN\tNL-HaNA_1.04.02_3060_0050.jpg\t\t[0.00018856636597774923, 0.9996403455734253, 0.00016884997603483498, 2.226365950264153e-06]\n",
      "IN\tIN\tNL-HaNA_1.04.02_3060_0051.jpg\tDingsdag Den 2:' November A„o 1762. —; Den Raad bi\t[0.0003259384538978338, 0.9992011189460754, 0.0004702103906311095, 2.7024852897739038e-06]\n",
      "IN\tIN\tNL-HaNA_1.04.02_3060_0052.jpg\tOver te haalen geweest, dan ruijm, een halff Capit\t[0.0003086228098254651, 0.9992207288742065, 0.000468130805529654, 2.5027261472132523e-06]\n",
      "IN\tIN\tNL-HaNA_1.04.02_3060_0053.jpg\tDen bottelier Jan Fredrik Smit, van SHage; Hoffmee\t[0.0003080040623899549, 0.9992508292198181, 0.00043879984878003597, 2.3482602955482434e-06]\n",
      "IN\tIN\tNL-HaNA_1.04.02_3060_0054.jpg\tNagesien; P: D Lahaije\t[0.00034751128987409174, 0.9985083937644958, 0.001141131273470819, 2.927337618530146e-06]\n",
      "IN\tIN\tNL-HaNA_1.04.02_3060_0055.jpg\t\t[7.474747690139338e-05, 0.9997588992118835, 0.00016449566464871168, 1.8904104308603564e-06]\n",
      "IN\tIN\tNL-HaNA_1.04.02_3060_0056.jpg\tNagesien; G: B: D Leeuw; d\t[0.0002799463109113276, 0.9991633892059326, 0.0005544282612390816, 2.249772705908981e-06]\n",
      "IN\tIN\tNL-HaNA_1.04.02_3060_0057.jpg\tMaandag Den 15„e November A„o 1762. —; Het ingedie\t[0.00021810679754707962, 0.9988507032394409, 0.0009280692902393639, 3.1204417609842494e-06]\n",
      "IN\tIN\tNL-HaNA_1.04.02_3060_0058.jpg\t\t[5.8035740948980674e-05, 0.999651312828064, 0.00028814852703362703, 2.5526228455419187e-06]\n",
      "IN\tIN\tNL-HaNA_1.04.02_3060_0059.jpg\tAan den wel Edelen Agtb: Heere; Fredrik Willem Win\t[0.00016706687165424228, 0.999198853969574, 0.000631461851298809, 2.6729103410616517e-06]\n",
      "IN\tIN\tNL-HaNA_1.04.02_3060_0060.jpg\t\t[7.107856799848378e-05, 0.9995469450950623, 0.0003768093592952937, 5.119145498611033e-06]\n",
      "IN\tIN\tNL-HaNA_1.04.02_3060_0061.jpg\t\t[4.72973842988722e-05, 0.9997743964195251, 0.00017536479572299868, 2.9717202778556384e-06]\n",
      "IN\tIN\tNL-HaNA_1.04.02_3060_0062.jpg\tNagesien; J:B: D Leeuw.\t[0.00025144353276118636, 0.999152421951294, 0.0005938347894698381, 2.2149658889247803e-06]\n",
      "IN\tIN\tNL-HaNA_1.04.02_3060_0063.jpg\t\t[4.685004387283698e-05, 0.999716579914093, 0.00023126271844375879, 5.296661129250424e-06]\n",
      "IN\tIN\tNL-HaNA_1.04.02_3060_0064.jpg\t\t[8.079639519564807e-05, 0.9997493624687195, 0.0001671453646849841, 2.706362010940211e-06]\n",
      "IN\tIN\tNL-HaNA_1.04.02_3060_0065.jpg\tE:E: Agtbaaren Heer Johannes Heijnouts; Sondergete\t[0.0006782092386856675, 0.9972317814826965, 0.002083816332742572, 6.235086857486749e-06]\n",
      "END\tEND\tNL-HaNA_1.04.02_3060_0066.jpg\tNoering hem daar toe sijne hulpe leenen; Voor 't o\t[0.00011268273374298587, 0.00047187641030177474, 0.9994056224822998, 9.839123777055647e-06]\n"
     ]
    },
    {
     "name": "stderr",
     "output_type": "stream",
     "text": [
      " 53%|█████▎    | 6/11.3125 [00:06<00:07,  1.35s/batch]"
     ]
    },
    {
     "name": "stdout",
     "output_type": "stream",
     "text": [
      "BEGIN\tBEGIN\tNL-HaNA_1.04.02_1088_0511.jpg\tNaer dat den 8en. septembr 1625, het fergatt Surat\t[0.9995299577713013, 0.00038027067785151303, 5.3568310249829665e-05, 3.61987404176034e-05]\n",
      "IN\tIN\tNL-HaNA_1.04.02_1088_0512.jpg\tdie van Lohoe waren hem gevolcht, tot op lebeleeuw\t[0.000736082496587187, 0.998572587966919, 0.0006874403916299343, 3.958030447392957e-06]\n",
      "IN\tIN\tNL-HaNA_1.04.02_1088_0513.jpg\twederom afgesonden, naar Bouro, om te vernemen, wa\t[0.00042865300201810896, 0.9989858269691467, 0.000582914159167558, 2.585274387456593e-06]\n",
      "IN\tIN\tNL-HaNA_1.04.02_1088_0514.jpg\tende ten deele onwillich, soo dat met schoon spree\t[0.00039627691148780286, 0.99903404712677, 0.0005673717241734266, 2.425034153930028e-06]\n",
      "IN\tIN\tNL-HaNA_1.04.02_1088_0515.jpg\tons voor antwoort, dat wel waar was, dat sijn Vade\t[0.0003879569412674755, 0.9990419745445251, 0.0005676839500665665, 2.3906254682515282e-06]\n",
      "IN\tIN\tNL-HaNA_1.04.02_1088_0516.jpg\tnoch al wel toeginck, ende mijn hier van noch vrij\t[0.00037304774741642177, 0.9990683197975159, 0.0005563857848756015, 2.2562601316167274e-06]\n",
      "IN\tIN\tNL-HaNA_1.04.02_1088_0517.jpg\tblijcken wat parthij hij hielt van dese uijr affso\t[0.0003848453634418547, 0.999031662940979, 0.0005811068695038557, 2.431185521345469e-06]\n",
      "IN\tIN\tNL-HaNA_1.04.02_1088_0518.jpg\tdus lange was gedaen, hebben den raet dit in Beden\t[0.0003658614296000451, 0.999068558216095, 0.0005631050444208086, 2.4951484647317557e-06]\n",
      "IN\tIN\tNL-HaNA_1.04.02_1088_0519.jpg\tte mogen werden, met cruijt ende Loot, ende soo he\t[0.000388613116228953, 0.9990730285644531, 0.0005354683962650597, 2.913227945100516e-06]\n",
      "IN\tIN\tNL-HaNA_1.04.02_1088_0520.jpg\tDen 9=en d=o smorgens, quamen voor Oerien, ofte no\t[0.00033083491143770516, 0.9990574717521667, 0.0006093983538448811, 2.32057254834217e-06]\n",
      "IN\tIN\tNL-HaNA_1.04.02_1088_0521.jpg\tmede die van Cabau, den Sergeant aldaer op Hatuha \t[0.00025400155573152006, 0.9991673231124878, 0.0005759106134064496, 2.6939485451293876e-06]\n",
      "IN\tIN\tNL-HaNA_1.04.02_1088_0522.jpg\tSijn voorts doorgepangaijt naer Oma, de corcoiren \t[0.00024546129861846566, 0.9987925291061401, 0.0009588291868567467, 3.1289973776438273e-06]\n",
      "IN\tIN\tNL-HaNA_1.04.02_1088_0523.jpg\t\t[8.456283831037581e-05, 0.9994126558303833, 0.0004990313900634646, 3.7855336358916247e-06]\n",
      "IN\tIN\tNL-HaNA_1.04.02_1088_0524.jpg\t\t[4.827751763514243e-05, 0.9996603727340698, 0.0002867144939955324, 4.662781975639518e-06]\n",
      "IN\tIN\tNL-HaNA_1.04.02_1088_0525.jpg\t\t[3.0766390409553424e-05, 0.9998379945755005, 0.00012662635708693415, 4.588804131344659e-06]\n",
      "IN\tIN\tNL-HaNA_1.04.02_1088_0526.jpg\t\t[5.8023830206366256e-05, 0.9998161196708679, 0.0001114564947783947, 1.4409305549634155e-05]\n",
      "IN\tIN\tNL-HaNA_1.04.02_1088_0527.jpg\t\t[4.426787199918181e-05, 0.999848484992981, 9.675458568381146e-05, 1.049168440658832e-05]\n",
      "IN\tIN\tNL-HaNA_1.04.02_1088_0528.jpg\t\t[4.8987825721269473e-05, 0.9998522996902466, 8.598091517342255e-05, 1.2806456652469933e-05]\n",
      "IN\tIN\tNL-HaNA_1.04.02_1088_0529.jpg\t\t[6.0005735576851293e-05, 0.9998226761817932, 0.00010063667286885902, 1.6681164197507314e-05]\n",
      "IN\tIN\tNL-HaNA_1.04.02_1088_0530.jpg\t\t[5.474875069921836e-05, 0.9998317956924438, 9.496723941992968e-05, 1.841938865254633e-05]\n",
      "IN\tIN\tNL-HaNA_1.04.02_1088_0531.jpg\t\t[9.093455446418375e-05, 0.9997462630271912, 0.0001457376783946529, 1.703287853160873e-05]\n",
      "IN\tIN\tNL-HaNA_1.04.02_1088_0532.jpg\tin Ambonia tsedert 8 septemb.; Daghregister vant g\t[0.0004185232683084905, 0.9988825917243958, 0.0006958474987186491, 3.050959094252903e-06]\n",
      "IN\tIN\tNL-HaNA_1.04.02_1088_0533.jpg\t\t[0.0001893408189062029, 0.9996381998062134, 0.00016916441381908953, 3.3635622003203025e-06]\n",
      "IN\tIN\tNL-HaNA_1.04.02_1088_0534.jpg\tCopien van resolutien tsedert; 21 Julij 1628. tet \t[0.000524799688719213, 0.998666524887085, 0.0008052625344134867, 3.4743839023576584e-06]\n",
      "IN\tIN\tNL-HaNA_1.04.02_1088_0535.jpg\tberockt ons alsoo weder werck, geeft ons de handen\t[0.00047077046474441886, 0.9986982345581055, 0.0008276932057924569, 3.2896382435865235e-06]\n",
      "IN\tIN\tNL-HaNA_1.04.02_1088_0536.jpg\tgewacht, dat sulcx de ongelegentheijt van tijt, en\t[0.000457533955341205, 0.9987055063247681, 0.0008337534964084625, 3.237969167457777e-06]\n",
      "IN\tIN\tNL-HaNA_1.04.02_1088_0537.jpg\tDen 22.en s=o vertrocken van lato ende Holoij, end\t[0.00045695199514739215, 0.9987030029296875, 0.0008367759874090552, 3.2347047635994386e-06]\n",
      "IN\tIN\tNL-HaNA_1.04.02_1088_0538.jpg\tdit geweest sijn, hebben nu inder daatr bevonden, \t[0.0004614722856786102, 0.9986867308616638, 0.0008485791622661054, 3.259247478126781e-06]\n",
      "IN\tIN\tNL-HaNA_1.04.02_1088_0539.jpg\tende gewillich aengenomen, hadden mede al begonnen\t[0.0004731345397885889, 0.9985716342926025, 0.0009519452578388155, 3.2703010219847783e-06]\n",
      "IN\tIN\tNL-HaNA_1.04.02_1088_0540.jpg\tDen 6. H=o Ist fargatt Suratte, Wederom op Amboijn\t[0.0005657071596942842, 0.9982045888900757, 0.0012259373906999826, 3.849762379104504e-06]\n",
      "IN\tIN\tNL-HaNA_1.04.02_1088_0541.jpg\tOuer het Verlies van Rommite, hadden ouer Hittoe, \t[0.0007319174474105239, 0.9970439076423645, 0.0022183102555572987, 5.8309406085754745e-06]\n",
      "END\tIN\tNL-HaNA_1.04.02_1088_0542.jpg\twaren, het selue achter nelis hoeck te brengen, om\t[0.00012539722956717014, 0.0005359701463021338, 0.9993280172348022, 1.0601354915706906e-05]\n"
     ]
    },
    {
     "name": "stderr",
     "output_type": "stream",
     "text": [
      " 62%|██████▏   | 7/11.3125 [00:07<00:05,  1.21s/batch]"
     ]
    },
    {
     "name": "stdout",
     "output_type": "stream",
     "text": [
      "BEGIN\tIN\tNL-HaNA_1.04.02_1088_0543.jpg\t244; voorganis, datmen ons niet en mocht vertrouwe\t[0.9996716976165771, 0.0002440052921883762, 5.560545832850039e-05, 2.864483576558996e-05]\n",
      "IN\tIN\tNL-HaNA_1.04.02_1088_0544.jpg\tvrouw, den man niet mede toebehoorde, niet meer an\t[0.0013026803499087691, 0.9975475668907166, 0.0011445655254647136, 5.290075478114886e-06]\n",
      "IN\tIN\tNL-HaNA_1.04.02_1088_0545.jpg\tsoete middelen te werck gaen, hoewel daar mede nie\t[0.000736430985853076, 0.9982445240020752, 0.0010156105272471905, 3.414582806726685e-06]\n",
      "IN\tIN\tNL-HaNA_1.04.02_1088_0546.jpg\tsoude mogen bewaert leggen, maer alst nu alsoo bes\t[0.0006624372908845544, 0.998327910900116, 0.0010065833339467645, 3.124250497421599e-06]\n",
      "IN\tIN\tNL-HaNA_1.04.02_1088_0547.jpg\tsij seijden dat op Hattamana, den Jongen Coninck, \t[0.0006504838238470256, 0.9983435869216919, 0.0010027886601164937, 3.0803296340309316e-06]\n",
      "IN\tIN\tNL-HaNA_1.04.02_1088_0548.jpg\tuijt de quartieren van hittoe, dit heele Mosson, m\t[0.0006729831220582128, 0.9983543157577515, 0.0009696476627141237, 3.129384595013107e-06]\n",
      "IN\tIN\tNL-HaNA_1.04.02_1088_0549.jpg\tdaer van wachten soude, hebben de gevangenen ontsl\t[0.0006439752178266644, 0.9982763528823853, 0.0010766031919047236, 3.1295940061681904e-06]\n",
      "IN\tIN\tNL-HaNA_1.04.02_1088_0550.jpg\thebben geconsenteert, haer best te doen, ende reve\t[0.0006456052651628852, 0.9982292056083679, 0.0011220307787880301, 3.1833753837418044e-06]\n",
      "IN\tIN\tNL-HaNA_1.04.02_1088_0551.jpg\tselffs dootlijck gewont, waar op die van Cambello \t[0.000643562467303127, 0.9981923699378967, 0.0011608133791014552, 3.2136783829628257e-06]\n",
      "IN\tIN\tNL-HaNA_1.04.02_1088_0552.jpg\tspoedich affhandelen, ende ons laeten weeten, waer\t[0.0006327332812361419, 0.9981871247291565, 0.0011769258417189121, 3.1538636449113255e-06]\n",
      "IN\tIN\tNL-HaNA_1.04.02_1088_0553.jpg\tpattij naij, met haer souden afsenden, om den Coni\t[0.0006450952496379614, 0.9981984496116638, 0.0011532953940331936, 3.1781326015334344e-06]\n",
      "IN\tIN\tNL-HaNA_1.04.02_1088_0554.jpg\tbegeerden alleen te verstaen, wat antwoort den kim\t[0.0006323644774965942, 0.9981972575187683, 0.0011673056287690997, 3.137434759992175e-06]\n",
      "IN\tIN\tNL-HaNA_1.04.02_1088_0555.jpg\tsij hadden geseijt voor ons bevreest te weesen, en\t[0.0006447727209888399, 0.9982115030288696, 0.0011405465193092823, 3.1629288059775718e-06]\n",
      "IN\tIN\tNL-HaNA_1.04.02_1088_0556.jpg\tTarnataensen aenhanck, vande custe van Ceram: niet\t[0.0006336785736493766, 0.9982084035873413, 0.0011548417387530208, 3.127799345747917e-06]\n",
      "IN\tIN\tNL-HaNA_1.04.02_1088_0557.jpg\top houden, conde niet bedencken wat Excusien sij d\t[0.0006333737983368337, 0.9982457160949707, 0.0011178076965734363, 3.0894120754965115e-06]\n",
      "IN\tIN\tNL-HaNA_1.04.02_1088_0558.jpg\tvereenichde Nederlanden, maer deselue hebben haren\t[0.0006291400059126318, 0.9981916546821594, 0.0011761009227484465, 3.115921572316438e-06]\n",
      "IN\tIN\tNL-HaNA_1.04.02_1088_0559.jpg\tte werden, het welck wij hebben naergecommen, ende\t[0.0006258258363232017, 0.9981827735900879, 0.00118834909517318, 3.119759185210569e-06]\n",
      "IN\tIN\tNL-HaNA_1.04.02_1088_0560.jpg\ttraecheijt des Conincx van Saulauw, niet en soude \t[0.0006248016143217683, 0.9981860518455505, 0.0011860891245305538, 3.1027441309561254e-06]\n",
      "IN\tIN\tNL-HaNA_1.04.02_1088_0561.jpg\top dat alsoo de oude vruntschap, mocht vernieuwt w\t[0.0006235522450879216, 0.9981833100318909, 0.0011899573728442192, 3.1006238714326173e-06]\n",
      "IN\tIN\tNL-HaNA_1.04.02_1088_0562.jpg\tarmoede die zijn bolck leet, doch ten laetsten hei\t[0.0006269865552894771, 0.9981860518455505, 0.001183861750178039, 3.108519649686059e-06]\n",
      "IN\tIN\tNL-HaNA_1.04.02_1088_0563.jpg\tte assisteeren.; Capn. Hittoe quam ons mede besoec\t[0.0006210214924067259, 0.9981801509857178, 0.0011957986280322075, 3.0843812055536546e-06]\n",
      "IN\tIN\tNL-HaNA_1.04.02_1088_0564.jpg\tHebben den gesant Noffa Maniera, bij ons ontbooden\t[0.0006196658359840512, 0.9981772899627686, 0.0011999757261946797, 3.074886080867145e-06]\n",
      "IN\tIN\tNL-HaNA_1.04.02_1088_0565.jpg\tgoetgevoelen vandese saack; Wij Eijschten vanden g\t[0.0006176775204949081, 0.9981793165206909, 0.001199985621497035, 3.0709593374922406e-06]\n",
      "IN\tIN\tNL-HaNA_1.04.02_1088_0566.jpg\tDit staat ons vreemt aen, connes oock niet geloove\t[0.0006274364423006773, 0.9981719255447388, 0.0011975679080933332, 3.0950491236581e-06]\n",
      "IN\tIN\tNL-HaNA_1.04.02_1088_0567.jpg\tworden, met veel meer schoone woorden daar noch bi\t[0.0006245552212931216, 0.9981446266174316, 0.001227743225172162, 3.108811597485328e-06]\n",
      "IN\tIN\tNL-HaNA_1.04.02_1088_0568.jpg\tnaar Hittoe, aenden ondercoopman vant Nederlants C\t[0.0006667859270237386, 0.9979243278503418, 0.0014055630890652537, 3.372686478542164e-06]\n",
      "IN\tIN\tNL-HaNA_1.04.02_1088_0569.jpg\tdat denselven soude doen translateren, op dat aen \t[0.0009438418201170862, 0.9958733916282654, 0.00317723979242146, 5.5447162594646215e-06]\n",
      "END\tEND\tNL-HaNA_1.04.02_1088_0570.jpg\tende geen meer en haddent, schreeff Helenij aen on\t[0.00011120597628178075, 0.00034481132752262056, 0.9995362758636475, 7.70642509451136e-06]\n"
     ]
    },
    {
     "name": "stderr",
     "output_type": "stream",
     "text": [
      " 71%|███████   | 8/11.3125 [00:08<00:03,  1.12s/batch]"
     ]
    },
    {
     "name": "stdout",
     "output_type": "stream",
     "text": [
      "BEGIN\tBEGIN\tNL-HaNA_1.04.02_8099_0205.jpg\tVan Ternaten onder dato 11:' 7ber: 1732; van alle \t[0.9996312856674194, 0.0002860643435269594, 5.3606450819643214e-05, 2.9019489375059493e-05]\n",
      "IN\tIN\tNL-HaNA_1.04.02_8099_0206.jpg\tVan Ternaten onder dato 11:' Septemb:r 1732; Lauwt\t[0.0012760489480569959, 0.9975454211235046, 0.0011733275605365634, 5.199290171731263e-06]\n",
      "IN\tIN\tNL-HaNA_1.04.02_8099_0207.jpg\tVan Ternaten onder dato 11:' 7ber: 1732; door hem \t[0.0007270185160450637, 0.99822598695755, 0.0010435982840135694, 3.4044653602904873e-06]\n",
      "IN\tIN\tNL-HaNA_1.04.02_8099_0208.jpg\tTernaten onder dato 11:' 7ber: 1732; Van; „dugting\t[0.0006661674124188721, 0.9983421564102173, 0.000988578307442367, 3.148679070363869e-06]\n",
      "IN\tIN\tNL-HaNA_1.04.02_8099_0209.jpg\tTernaten onder dato 11:' 7ber: 1732; Van; Ternaten\t[0.0006602519424632192, 0.9983484745025635, 0.0009882479207590222, 3.1223669338942273e-06]\n",
      "IN\tIN\tNL-HaNA_1.04.02_8099_0210.jpg\tTernaten onder dato 11:' Sepb: 1732; Van; voor ops\t[0.0006329501629807055, 0.9983215928077698, 0.0010424710344523191, 3.014485400854028e-06]\n",
      "IN\tIN\tNL-HaNA_1.04.02_8099_0211.jpg\tTernaten onder dato 17:' 7ber: 1732; E; Van; en we\t[0.0006278455257415771, 0.9983351826667786, 0.0010340239387005568, 2.9740178888459923e-06]\n",
      "IN\tIN\tNL-HaNA_1.04.02_8099_0212.jpg\tVan Ternaten onder dato 11:' Jber: 1732; Saturdag \t[0.0006291165482252836, 0.9983553290367126, 0.0010125287808477879, 2.9532704957091482e-06]\n",
      "IN\tIN\tNL-HaNA_1.04.02_8099_0213.jpg\tVan Ternaten onder dato 11:' Jber: A„o 1732; AAan \t[0.0006303767440840602, 0.9983378648757935, 0.0010287839686498046, 2.9729740163020324e-06]\n",
      "IN\tIN\tNL-HaNA_1.04.02_8099_0214.jpg\tVan Ternaten onder dato 11:' Septemb: A„o 1732; ee\t[0.0006384073640219867, 0.9982411861419678, 0.0011173522798344493, 3.0961286938691046e-06]\n",
      "IN\tIN\tNL-HaNA_1.04.02_8099_0215.jpg\tVan Ternaten onder dato 11:' Septemb: 1732; waar v\t[0.0006639689090661705, 0.9979673027992249, 0.0013653250643983483, 3.383792318345513e-06]\n",
      "IN\tIN\tNL-HaNA_1.04.02_8099_0216.jpg\tTernaten onder dato 11:' 7ber: A„o 1732; Van; uijt\t[0.0009230943396687508, 0.9954870343208313, 0.003584187012165785, 5.737602805311326e-06]\n",
      "END\tEND\tNL-HaNA_1.04.02_8099_0217.jpg\tVan Ternaten onder dato 11:' Septemb: 1732; s geli\t[0.00011093446664744988, 0.00034825963666662574, 0.9995331764221191, 7.678319889237173e-06]\n"
     ]
    },
    {
     "name": "stderr",
     "output_type": "stream",
     "text": [
      " 80%|███████▉  | 9/11.3125 [00:08<00:02,  1.08batch/s]"
     ]
    },
    {
     "name": "stdout",
     "output_type": "stream",
     "text": [
      "BEGIN\tBEGIN\tNL-HaNA_1.04.02_1070_0199.jpg\t2 saeckers Elck van 3000 lb; 2 halve dittos elck v\t[0.9980164766311646, 0.0011951117776334286, 0.0004300513246562332, 0.00035834635491482913]\n",
      "IN\tIN\tNL-HaNA_1.04.02_1070_0200.jpg\t\t[0.0033359762746840715, 0.9911088943481445, 0.002743801102042198, 0.002811391605064273]\n",
      "IN\tEND\tNL-HaNA_1.04.02_1070_0201.jpg\tAdriaen gerritsz van utrecht sergiant; marijn Ding\t[0.008283664472401142, 0.8976438045501709, 0.09393522888422012, 0.00013724264863412827]\n"
     ]
    },
    {
     "name": "stderr",
     "output_type": "stream",
     "text": [
      " 88%|████████▊ | 10/11.3125 [00:10<00:01,  1.23s/batch]"
     ]
    },
    {
     "name": "stdout",
     "output_type": "stream",
     "text": [
      "BEGIN\tBEGIN\tNL-HaNA_1.04.02_1509_1538.jpg\tMonsterolle van alle sComp:s Loontreckende; Monste\t[0.9996657371520996, 0.0002513462968636304, 5.458337182062678e-05, 2.8321261197561398e-05]\n",
      "IN\tIN\tNL-HaNA_1.04.02_1509_1539.jpg\tdienaren dewelcke in't Cormandelse Gouvernement bi\t[0.001239656237885356, 0.9975988268852234, 0.0011563834268599749, 5.0744920372380875e-06]\n",
      "IN\tIN\tNL-HaNA_1.04.02_1509_1540.jpg\t339. en 35. persoonen p=r Transport. —; Namen, Toe\t[0.0007339020376093686, 0.9982773065567017, 0.000985415535978973, 3.334223038109485e-06]\n",
      "IN\tIN\tNL-HaNA_1.04.02_1509_1541.jpg\t90; d=o.. . ..; Adsistent; Chirurgijn. . . . ƒ 36.\t[0.0006549559766426682, 0.9983497858047485, 0.0009921861346811056, 3.074438154726522e-06]\n",
      "IN\tIN\tNL-HaNA_1.04.02_1509_1542.jpg\t339 en 74. persoonen P=r Transport; Namen, Toename\t[0.0006838284898549318, 0.9983718991279602, 0.0009412301005795598, 3.1212073281494668e-06]\n",
      "IN\tIN\tNL-HaNA_1.04.02_1509_1543.jpg\tsiekevaar. . . ƒ 20. walcheren. . . . . 1662. Zeel\t[0.0006473595276474953, 0.9983565211296082, 0.000993035384453833, 3.036265070477384e-06]\n",
      "IN\tIN\tNL-HaNA_1.04.02_1509_1544.jpg\t339. en 113. persoonen P=r Transport.; Namen, Toen\t[0.00063288863748312, 0.9983593821525574, 0.001004778896458447, 2.969991783174919e-06]\n",
      "IN\tIN\tNL-HaNA_1.04.02_1509_1545.jpg\tp:l timmerman. ƒ 11. d' bergh China. . . 1682. Ams\t[0.000654469826258719, 0.9983716607093811, 0.0009709415026009083, 3.0092189717834117e-06]\n",
      "IN\tIN\tNL-HaNA_1.04.02_1509_1546.jpg\t339. en 155. persoonen P=r Transport; 1. Abraham f\t[0.0006219803472049534, 0.9983568787574768, 0.0010181806283071637, 2.9162526971049374e-06]\n",
      "IN\tIN\tNL-HaNA_1.04.02_1509_1547.jpg\t90; 90; 90; 90; D=o; d=o; 90; D=o; 90; 90; D=o; D=\t[0.0006546429940499365, 0.9983752965927124, 0.0009670706349425018, 2.977298890982638e-06]\n",
      "IN\tIN\tNL-HaNA_1.04.02_1509_1548.jpg\t339. en 195. persoonen P=r Transport —; Namen, Toe\t[0.0006408162880688906, 0.9983689188957214, 0.0009873026283457875, 2.9449377052515047e-06]\n",
      "IN\tIN\tNL-HaNA_1.04.02_1509_1549.jpg\t90; 90; 90; 40; 90; D=; D=o; D=o; D=o; D=o; D=o; 9\t[0.000621116952970624, 0.9983568787574768, 0.0010191069450229406, 2.9039415494480636e-06]\n",
      "IN\tIN\tNL-HaNA_1.04.02_1509_1550.jpg\t339. en 236. persoonen p=r Transport; Namen, Toena\t[0.0006209887797012925, 0.9983565211296082, 0.0010196373332291842, 2.900132358263363e-06]\n",
      "IN\tIN\tNL-HaNA_1.04.02_1509_1551.jpg\tdo.; 90; do; 90; do; do; 90; 90; 90; D=o. . . . „;\t[0.0006199268973432481, 0.9983583092689514, 0.001018935232423246, 2.899922037613578e-06]\n",
      "IN\tIN\tNL-HaNA_1.04.02_1509_1552.jpg\t339. en 278. persoonen P=r Transport; Namen, Toena\t[0.0006503808544948697, 0.9983755350112915, 0.0009711466846056283, 2.959453922812827e-06]\n",
      "IN\tIN\tNL-HaNA_1.04.02_1509_1553.jpg\tw:t p:r met wat schip in india; presente qualitijt\t[0.0006205200334079564, 0.9983571171760559, 0.0010194774949923158, 2.8985857625229983e-06]\n",
      "IN\tIN\tNL-HaNA_1.04.02_1509_1554.jpg\t339. en 320. persoonen p=r Transport; Namen, Toena\t[0.0006219208589754999, 0.9983585476875305, 0.0010167122818529606, 2.8993031264690217e-06]\n",
      "IN\tIN\tNL-HaNA_1.04.02_1509_1555.jpg\tCommand:r te water en te; noorder Cormandel; „coop\t[0.0006171274580992758, 0.9983555674552917, 0.0010244391160085797, 2.8856841254309984e-06]\n",
      "IN\tIN\tNL-HaNA_1.04.02_1509_1556.jpg\t356. persoonen p=r Transport; Namen toenamen en ge\t[0.0006180928903631866, 0.9983566403388977, 0.0010223871795460582, 2.8807789931306615e-06]\n",
      "IN\tIN\tNL-HaNA_1.04.02_1509_1557.jpg\tw:t p:r met wat schip in jndia..; presente qualiti\t[0.0006177755421958864, 0.9983567595481873, 0.0010225330479443073, 2.8885124265798368e-06]\n",
      "IN\tIN\tNL-HaNA_1.04.02_1509_1558.jpg\t391. persoonen p:r transport; Namen, Toenamen, en \t[0.0006166246021166444, 0.9983578324317932, 0.0010226486483588815, 2.8809390641981736e-06]\n",
      "IN\tIN\tNL-HaNA_1.04.02_1509_1559.jpg\tw:t p:r met wat schip in; presente qualitijt. maen\t[0.0006184214144013822, 0.9983540773391724, 0.0010246264282613993, 2.8859990379714873e-06]\n",
      "IN\tIN\tNL-HaNA_1.04.02_1509_1560.jpg\tNamen Toenamen en Geboorte plaatsen; 1. bastiaan I\t[0.0006180882919579744, 0.9983578324317932, 0.0010212593479081988, 2.88676983473124e-06]\n",
      "IN\tIN\tNL-HaNA_1.04.02_1509_1561.jpg\tw:t p:r met wat schip in jndia/; presente qualitij\t[0.0006156605668365955, 0.9983575940132141, 0.0010238527320325375, 2.8753993319696747e-06]\n",
      "IN\tIN\tNL-HaNA_1.04.02_1509_1562.jpg\t464. persoonen p:r transport; Namen Toenamen en Ge\t[0.0006167965475469828, 0.9983571171760559, 0.0010231551714241505, 2.8833778742409777e-06]\n",
      "IN\tIN\tNL-HaNA_1.04.02_1509_1563.jpg\tp:r coopm: en opperh:t van; tegenep: en p:r novo: \t[0.0006195646128617227, 0.9983536005020142, 0.0010240058181807399, 2.893173586926423e-06]\n",
      "IN\tIN\tNL-HaNA_1.04.02_1509_1564.jpg\t504. persoonen p=r Transport; Namen, Toenamen, en \t[0.0006254959153011441, 0.9983232617378235, 0.0010481951758265495, 2.9282271043484798e-06]\n",
      "IN\tIN\tNL-HaNA_1.04.02_1509_1565.jpg\tw:t p:r met wat schip in; presente qualitijt maent\t[0.00067210040288046, 0.9981207251548767, 0.0012038942659273744, 3.1878291792963864e-06]\n",
      "IN\tIN\tNL-HaNA_1.04.02_1509_1566.jpg\tOp Nagapatnam zijn nogh bescheijden d'volgende; Bo\t[0.0009380431729368865, 0.9964576363563538, 0.0025993590243160725, 5.031526143284282e-06]\n",
      "END\tEND\tNL-HaNA_1.04.02_1509_1567.jpg\t103 en 84. persoonen p:r transport; 1. toatongoe v\t[0.0001313278917223215, 0.0004021788772661239, 0.9994580149650574, 8.483448254992254e-06]\n"
     ]
    },
    {
     "name": "stderr",
     "output_type": "stream",
     "text": [
      " 97%|█████████▋| 11/11.3125 [00:13<00:00,  1.77s/batch]"
     ]
    },
    {
     "name": "stdout",
     "output_type": "stream",
     "text": [
      "BEGIN\tBEGIN\tNL-HaNA_1.04.02_1490_0583.jpg\tCopije Secrete Resolutien; genomen bij de Ho: Rege\t[0.9996656179428101, 0.0002538571716286242, 5.294060247251764e-05, 2.766472243820317e-05]\n",
      "IN\tIN\tNL-HaNA_1.04.02_1490_0584.jpg\tin presentie; van zijn Ed. t te; volbrengen, soo s\t[0.0012668200070038438, 0.9975445866584778, 0.0011833261232823133, 5.190873253013706e-06]\n",
      "IN\tIN\tNL-HaNA_1.04.02_1490_0585.jpg\tdat 's Comp. s dienaren en wel voorna„; mentlijk p\t[0.0007265448803082108, 0.9982732534408569, 0.0009968261001631618, 3.3520634588057874e-06]\n",
      "IN\tIN\tNL-HaNA_1.04.02_1490_0586.jpg\tbij ons te boeck staen voor niet wel; geintentione\t[0.0006719699595123529, 0.9983534812927246, 0.0009714624029584229, 3.1505230708717136e-06]\n",
      "IN\tIN\tNL-HaNA_1.04.02_1490_0587.jpg\tgoetgevonden dat dese ontbiedinge; bij ons gemeen \t[0.0006590731791220605, 0.9983616471290588, 0.0009761892142705619, 3.1130866773310117e-06]\n",
      "IN\tIN\tNL-HaNA_1.04.02_1490_0588.jpg\tschaap harder herwaerts aen te doen; overkomen, ge\t[0.0006577562307938933, 0.9983550906181335, 0.0009840548736974597, 3.1000397484604036e-06]\n",
      "IN\tIN\tNL-HaNA_1.04.02_1490_0589.jpg\tmilitie daer in te houden in goede; ordre soo is v\t[0.0006411481881514192, 0.9983574748039246, 0.000998393865302205, 3.0138292004266987e-06]\n",
      "IN\tIN\tNL-HaNA_1.04.02_1490_0590.jpg\tdertig of veertigh persoonen ten; hoogsten; genome\t[0.0006400620914064348, 0.9983604550361633, 0.0009964691707864404, 3.007888381034718e-06]\n",
      "IN\tIN\tNL-HaNA_1.04.02_1490_0591.jpg\twillem van outhoorn, wouter; valkenier, abraham va\t[0.0006397810648195446, 0.9983595013618469, 0.0009977606823667884, 3.005955932167126e-06]\n",
      "IN\tIN\tNL-HaNA_1.04.02_1490_0592.jpg\tsijner goet staende maentgelden; en verdere annexe\t[0.0006385218002833426, 0.9983605742454529, 0.0009979187743738294, 3.0011240141902817e-06]\n",
      "IN\tIN\tNL-HaNA_1.04.02_1490_0593.jpg\tmaer sijne valsche betigters; en aenklagers tumput\t[0.000645994849037379, 0.9983643889427185, 0.000986626953817904, 3.013062496393104e-06]\n",
      "IN\tIN\tNL-HaNA_1.04.02_1490_0594.jpg\taen uwe Edelhedens, niet; demoedig versoeck, dat u\t[0.0006371470517478883, 0.9983605742454529, 0.0009992739651352167, 2.994636815856211e-06]\n",
      "IN\tIN\tNL-HaNA_1.04.02_1490_0595.jpg\tacte van herstellinge en verdere; ten desen dienen\t[0.0006402351427823305, 0.9983566403388977, 0.001000152318738401, 2.9996699595358223e-06]\n",
      "IN\tIN\tNL-HaNA_1.04.02_1490_0596.jpg\ten omme de france vijanden, soo der; eenige quamen\t[0.0006359116523526609, 0.9983590245246887, 0.0010020154295489192, 2.9870052458136342e-06]\n",
      "IN\tIN\tNL-HaNA_1.04.02_1490_0597.jpg\tde ridderschap voerende 60. stucken ges:t; waterla\t[0.0006360727711580694, 0.9983534812927246, 0.0010074685560539365, 2.9669874948012875e-06]\n",
      "IN\tIN\tNL-HaNA_1.04.02_1490_0598.jpg\tstierlijk pennisten, kranckbesoekers; en chirurgij\t[0.0006283663096837699, 0.9983598589897156, 0.001008728751912713, 2.9394143439276377e-06]\n",
      "IN\tIN\tNL-HaNA_1.04.02_1490_0599.jpg\tvan hier nevens „200.; en uijt 170. Comp:s lijfeij\t[0.0006252375314943492, 0.9983664155006409, 0.0010055446764454246, 2.9153879950172268e-06]\n",
      "IN\tIN\tNL-HaNA_1.04.02_1490_0600.jpg\tsterck 1662. Coppen, daer onder; gerekent, de oude\t[0.0006513104890473187, 0.9983715415000916, 0.0009741550893522799, 2.9891341455368092e-06]\n",
      "IN\tIN\tNL-HaNA_1.04.02_1490_0601.jpg\tbleven met 70. â 80. jnlanders, als; mede ongevaer\t[0.0006280566449277103, 0.9983575940132141, 0.0010113875614479184, 2.9419766178762075e-06]\n",
      "IN\tIN\tNL-HaNA_1.04.02_1490_0602.jpg\tsodanig quame te vereijsschen, ende; sonder dat ie\t[0.0006310389726422727, 0.998358428478241, 0.0010075909085571766, 2.9464631552400533e-06]\n",
      "IN\tIN\tNL-HaNA_1.04.02_1490_0603.jpg\tveranderinge ofte bijvoeginge diende; te geschiede\t[0.0006265107658691704, 0.9983532428741455, 0.0010172664187848568, 2.9217371775303036e-06]\n",
      "IN\tIN\tNL-HaNA_1.04.02_1490_0604.jpg\tdiscoureren en te verklaren hoe; dat hij bij sig s\t[0.0006250430014915764, 0.9983550906181335, 0.0010169099550694227, 2.9288230507518165e-06]\n",
      "IN\tIN\tNL-HaNA_1.04.02_1490_0605.jpg\tquamen overvallen en aentasten:; soo meende sijn E\t[0.0006212848820723593, 0.9983564019203186, 0.0010194826172664762, 2.906475401687203e-06]\n",
      "IN\tIN\tNL-HaNA_1.04.02_1490_0606.jpg\tdeselve niet ten proije mogten werden,; wanneer on\t[0.0006196452886797488, 0.998357355594635, 0.0010200910037383437, 2.898404090956319e-06]\n",
      "IN\tIN\tNL-HaNA_1.04.02_1490_0607.jpg\tvan meerdere versekeringe mogten; oordelen behoord\t[0.000620724109467119, 0.99835604429245, 0.001020309398882091, 2.903130734921433e-06]\n",
      "IN\tIN\tNL-HaNA_1.04.02_1490_0608.jpg\tvanden Command:r Sijmon vander; stel, en raed aend\t[0.000619244878180325, 0.9983580708503723, 0.0010197954252362251, 2.8970518997084582e-06]\n",
      "IN\tIN\tNL-HaNA_1.04.02_1490_0609.jpg\talthans te deser rhede leggende; zeemagt wel van e\t[0.0006209546118043363, 0.9983539581298828, 0.0010222658747807145, 2.901192601711955e-06]\n",
      "IN\tIN\tNL-HaNA_1.04.02_1490_0610.jpg\tvan het verleden Iaer, als wanneer; volgens het sp\t[0.0006279792869463563, 0.998332679271698, 0.0010363407200202346, 2.9264288059493992e-06]\n",
      "IN\tIN\tNL-HaNA_1.04.02_1490_0611.jpg\twas, onaengesien het goet succes; der negotie veel\t[0.0006686467677354813, 0.9981945157051086, 0.0011338115436956286, 3.0664407404401572e-06]\n",
      "IN\tIN\tNL-HaNA_1.04.02_1490_0612.jpg\twas getekent; als vooren.; willem van Outhoorn,; w\t[0.0008010026649571955, 0.9977357387542725, 0.0014596428954973817, 3.6242556689103367e-06]\n",
      "IN\tIN\tNL-HaNA_1.04.02_1490_0613.jpg\tdat over de saken van Japan aen; dese tafel wierde\t[0.0010392291005700827, 0.9963023662567139, 0.0026527675800025463, 5.5267964853555895e-06]\n",
      "END\tIN\tNL-HaNA_1.04.02_1490_0614.jpg\ttot uijtvindinge van een expedient,; waer door de \t[0.0001319567672908306, 0.0004154530761297792, 0.9994438290596008, 8.69086852617329e-06]\n"
     ]
    },
    {
     "name": "stderr",
     "output_type": "stream",
     "text": [
      "12batch [00:15,  1.65s/batch]                          "
     ]
    },
    {
     "name": "stdout",
     "output_type": "stream",
     "text": [
      "BEGIN\tIN\tNL-HaNA_1.04.02_1490_0615.jpg\ten ons buijten postuer te brengen,; om de dierbare\t[0.9996631145477295, 0.00025345568428747356, 5.472698467201553e-05, 2.8706832381431013e-05]\n",
      "IN\tIN\tNL-HaNA_1.04.02_1490_0616.jpg\ta:o 1684. wierde geordonneert in; haere herwaerts \t[0.0012444094754755497, 0.9975848197937012, 0.0011656596325337887, 5.085044904262759e-06]\n",
      "IN\tIN\tNL-HaNA_1.04.02_1490_0617.jpg\trijkelijk te konnen versorgen,; mitsgaders het mis\t[0.0007251425413414836, 0.9982725381851196, 0.000998975709080696, 3.343217713336344e-06]\n",
      "IN\tIN\tNL-HaNA_1.04.02_1490_0618.jpg\tgepractiseert geworden is, sullen; moeten doen hou\t[0.0006678376812487841, 0.9983385801315308, 0.0009903855388984084, 3.1583035706717055e-06]\n",
      "IN\tIN\tNL-HaNA_1.04.02_1490_0619.jpg\tover te steeken, agtervolgens; sodanige Zeijlaes o\t[0.0006566886440850794, 0.9982996582984924, 0.0010404939530417323, 3.1756430871610064e-06]\n",
      "IN\tIN\tNL-HaNA_1.04.02_1490_0620.jpg\tgecarteert legt, maer dat oock de; stronien inde m\t[0.0006548099918290973, 0.9982233643531799, 0.001118555199354887, 3.1896015570964664e-06]\n",
      "IN\tIN\tNL-HaNA_1.04.02_1490_0621.jpg\tde stranen sig veeltijts daer na; reguleeren van g\t[0.0006491956301033497, 0.9982098340988159, 0.0011378113413229585, 3.2301334158546524e-06]\n",
      "IN\tIN\tNL-HaNA_1.04.02_1490_0622.jpg\teen weg is, nu wel eenige jaren; van japan na bata\t[0.0006489203660748899, 0.9981948733329773, 0.0011529838666319847, 3.243203082092805e-06]\n",
      "IN\tIN\tNL-HaNA_1.04.02_1490_0623.jpg\tten zuijden om beoosten de eijlanden; van natuna o\t[0.0006433538510464132, 0.9981895089149475, 0.0011639344738796353, 3.2173334147955757e-06]\n",
      "IN\tIN\tNL-HaNA_1.04.02_1490_0624.jpg\tnog een droogte genaemt kleijn; enckhuijser sant, \t[0.0006793365464545786, 0.9982150793075562, 0.0011023260885849595, 3.2933630791376345e-06]\n",
      "IN\tIN\tNL-HaNA_1.04.02_1490_0625.jpg\tlange jaren niet voorgevallen is; dat dese coursen\t[0.0006404592422768474, 0.9981909394264221, 0.001165404450148344, 3.1857982776273275e-06]\n",
      "IN\tIN\tNL-HaNA_1.04.02_1490_0626.jpg\tvan siam en Toncquin herwaerts; sullen komen, als \t[0.0006345402216538787, 0.9981821775436401, 0.0011800663778558373, 3.1648241929360665e-06]\n",
      "IN\tIN\tNL-HaNA_1.04.02_1490_0627.jpg\tvan een hogre prijse als ordinair; te nootsaeken, \t[0.0006346344598568976, 0.9981833100318909, 0.001178803388029337, 3.1598758596373955e-06]\n",
      "IN\tIN\tNL-HaNA_1.04.02_1490_0628.jpg\tals voren. was getekent. . ..; . . . . - Willem va\t[0.0006395544041879475, 0.998151957988739, 0.001205200795084238, 3.1904289699014043e-06]\n",
      "IN\tIN\tNL-HaNA_1.04.02_1490_0629.jpg\tin eenig emploij van onsien kan; werden gebruijckt\t[0.0006873567472212017, 0.9979308843612671, 0.0013783191097900271, 3.461678034000215e-06]\n",
      "IN\tIN\tNL-HaNA_1.04.02_1490_0630.jpg\tvoorde schipper aende Tafel en in het; gebet, eeni\t[0.0009467980125918984, 0.9958017468452454, 0.003246003994718194, 5.453542598843342e-06]\n",
      "END\tEND\tNL-HaNA_1.04.02_1490_0631.jpg\tBo0; Secrets.; wee; De bovenstaende secrete resolu\t[0.0001117201754823327, 0.0003412311489228159, 0.9995393753051758, 7.70781571191037e-06]\n"
     ]
    },
    {
     "name": "stderr",
     "output_type": "stream",
     "text": [
      "13batch [00:15,  1.31s/batch]"
     ]
    },
    {
     "name": "stdout",
     "output_type": "stream",
     "text": [
      "BEGIN\tBEGIN\tNL-HaNA_1.04.02_1547_0110.jpg\tgemerkt &E.; Waarmeede; Edele hoog agtbaare gebied\t[0.9996683597564697, 0.00023772170243319124, 6.379025580827147e-05, 3.0142153264023364e-05]\n",
      "IN\tIN\tNL-HaNA_1.04.02_1547_0111.jpg\tMinuit ola door den P„r gesaghebber ale ander wigl\t[0.0016885414952412248, 0.9953450560569763, 0.002958133118227124, 8.329462616529781e-06]\n",
      "END\tEND\tNL-HaNA_1.04.02_1547_0112.jpg\tl  eene heben em maede slekt e ondergeende kopmans\t[0.00012205754319438711, 0.00031572484294883907, 0.9995546936988831, 7.4977456279157195e-06]\n"
     ]
    },
    {
     "name": "stderr",
     "output_type": "stream",
     "text": [
      "14batch [00:15,  1.00s/batch]"
     ]
    },
    {
     "name": "stdout",
     "output_type": "stream",
     "text": [
      "BEGIN\tBEGIN\tNL-HaNA_1.04.02_8820_0069.jpg\tVan Cormandel deder 24: November ao 1702.; Jck ond\t[0.9996696710586548, 0.00024816161021590233, 5.3943706006975845e-05, 2.814264917105902e-05]\n",
      "IN\tIN\tNL-HaNA_1.04.02_8820_0070.jpg\tVan Cormandel onder 24: November 1702.; gevonden 6\t[0.0012739149387925863, 0.9975729584693909, 0.0011480273678898811, 5.127843905938789e-06]\n",
      "IN\tIN\tNL-HaNA_1.04.02_8820_0071.jpg\tVan Cormandel onder 24: November 1702.; had geordo\t[0.0007494880701415241, 0.9982807636260986, 0.0009664397803135216, 3.3273411190748448e-06]\n",
      "IN\tIN\tNL-HaNA_1.04.02_8820_0072.jpg\tVan Cormandel onder 24: November 1702:; Aen den He\t[0.0006500694435089827, 0.9983468055725098, 0.0010000088950619102, 3.0433000119955977e-06]\n",
      "IN\tIN\tNL-HaNA_1.04.02_8820_0073.jpg\tVan Cormandel onder 24: November 1702.; gedoente d\t[0.0006400021375156939, 0.9983522891998291, 0.0010047731921076775, 3.0109290491964202e-06]\n",
      "IN\tIN\tNL-HaNA_1.04.02_8820_0074.jpg\tVan Cormandel onder 24: November 1702.; soo sal de\t[0.0006451566005125642, 0.9983273148536682, 0.0010244193254038692, 3.0376211270777276e-06]\n",
      "IN\tIN\tNL-HaNA_1.04.02_8820_0075.jpg\tVan Cormandel onder 24: November 1702.; ten dienst\t[0.0006939803133718669, 0.9981359243392944, 0.0011667419457808137, 3.3261733278777683e-06]\n",
      "IN\tIN\tNL-HaNA_1.04.02_8820_0076.jpg\tVan Cormandel onder 24: November 1702.; de allermi\t[0.0009801369160413742, 0.9958691000938416, 0.0031452695839107037, 5.456814960780321e-06]\n",
      "END\tEND\tNL-HaNA_1.04.02_8820_0077.jpg\tVan Cormandel onder 24: November 1702.; gevolgen, \t[0.0001225833548232913, 0.0003959170717280358, 0.9994732737541199, 8.190352673409507e-06]\n"
     ]
    },
    {
     "name": "stderr",
     "output_type": "stream",
     "text": [
      "15batch [00:16,  1.22batch/s]"
     ]
    },
    {
     "name": "stdout",
     "output_type": "stream",
     "text": [
      "BEGIN\tBEGIN\tNL-HaNA_1.04.02_2682_0249.jpg\tMet het ondergenoemde schip; vertrekken over China\t[0.9980717897415161, 0.00100780522916466, 0.0007985559059306979, 0.00012173243158031255]\n"
     ]
    },
    {
     "name": "stderr",
     "output_type": "stream",
     "text": [
      "16batch [00:23,  2.78s/batch]"
     ]
    },
    {
     "name": "stdout",
     "output_type": "stream",
     "text": [
      "BEGIN\tBEGIN\tNL-HaNA_1.04.02_3095_0015.jpg\tRegister der Papieren; werdende versonden per het \t[0.9996663331985474, 0.00024714358733035624, 5.76371603528969e-05, 2.8874936106149107e-05]\n",
      "IN\tIN\tNL-HaNA_1.04.02_3095_0016.jpg\t4.; orig: in genaagt, a:o p„o; d'Edele Groot Agtba\t[0.001223199418745935, 0.997593104839325, 0.0011785266688093543, 5.070771749160485e-06]\n",
      "IN\tIN\tNL-HaNA_1.04.02_3095_0017.jpg\tN:o 7. Copia Generale Resolutien des Casteels; Bat\t[0.0007239365368150175, 0.9982640147209167, 0.0010087478440254927, 3.3508467822684906e-06]\n",
      "IN\tIN\tNL-HaNA_1.04.02_3095_0018.jpg\tCommissien, Memorien,; Jnstructien en z:, welke; v\t[0.0006688731373287737, 0.9983238577842712, 0.0010040155611932278, 3.1686290640209336e-06]\n",
      "IN\tIN\tNL-HaNA_1.04.02_3095_0019.jpg\tNo 14. Thien. Gesloten Pacquetten, houdende; de ad\t[0.0006571879494003952, 0.9983505010604858, 0.0009891919326037169, 3.1126539852266433e-06]\n",
      "IN\tIN\tNL-HaNA_1.04.02_3095_0020.jpg\tCommissien, Memorien; Jnstructien en z:, weg; van \t[0.000654137518722564, 0.9983620047569275, 0.0009807328460738063, 3.0887349566910416e-06]\n",
      "IN\tIN\tNL-HaNA_1.04.02_3095_0021.jpg\tden Raad ten evengemelde; Gouvernemente aan als; v\t[0.0006300818058662117, 0.9983458518981934, 0.0010211337357759476, 2.9517161692638183e-06]\n",
      "IN\tIN\tNL-HaNA_1.04.02_3095_0022.jpg\tBengale zyn vertrokken; zynde dit paquet gelegt; i\t[0.0006266740383580327, 0.9983575940132141, 0.001012682798318565, 2.941516640930786e-06]\n",
      "IN\tIN\tNL-HaNA_1.04.02_3095_0023.jpg\tGouverneur van Malacca; Mr. Thomas Schippers; als \t[0.0006260615191422403, 0.9983388185501099, 0.0010320721194148064, 2.9539201022998895e-06]\n",
      "IN\tIN\tNL-HaNA_1.04.02_3095_0024.jpg\tdit berigt nog niet; ingekomen zijnde; zal bij nad\t[0.0006380101549439132, 0.9983629584312439, 0.000996013288386166, 2.9559894301200984e-06]\n",
      "IN\tIN\tNL-HaNA_1.04.02_3095_0025.jpg\tN:o 22. Copia Berigt vande Administra„; teurs inde\t[0.0006246310658752918, 0.9983581900596619, 0.0010141890961676836, 2.9250443276396254e-06]\n",
      "IN\tIN\tNL-HaNA_1.04.02_3095_0026.jpg\tde met verscheide scheepen; aangebragte Manufactuu\t[0.0006234394968487322, 0.9983590245246887, 0.0010145062115043402, 2.919158532677102e-06]\n",
      "IN\tIN\tNL-HaNA_1.04.02_3095_0027.jpg\ten 1769. van Cochim overge; sonden, waarbij densel\t[0.0006224109674803913, 0.9983538389205933, 0.0010209041647613049, 2.9081786578899482e-06]\n",
      "IN\tIN\tNL-HaNA_1.04.02_3095_0028.jpg\tN:o 28 Drie Copia Berigten van eevengem:; E: Honti\t[0.0006207165424712002, 0.9983552098274231, 0.0010211959015578032, 2.9008285764575703e-06]\n",
      "IN\tIN\tNL-HaNA_1.04.02_3095_0029.jpg\tN:o 30 Copia Request door den advocaat M:r Jacob; \t[0.0006263265968300402, 0.9983614087104797, 0.0010093736927956343, 2.9127859306754544e-06]\n",
      "IN\tIN\tNL-HaNA_1.04.02_3095_0030.jpg\tsComp:s wapenkamer Reisich; en Expresse gecommitte\t[0.000619604776147753, 0.9983559250831604, 0.0010215521324425936, 2.9019347493886016e-06]\n",
      "IN\tIN\tNL-HaNA_1.04.02_3095_0031.jpg\tN:o 35. Een Exomplaar van het Generaal Re„; 1 glem\t[0.0006216022884473205, 0.9983589053153992, 0.0010166752617806196, 2.9052880563540384e-06]\n",
      "IN\tIN\tNL-HaNA_1.04.02_3095_0032.jpg\tN:o 38. Tes origineele; Actens van Indem; & niteil\t[0.0006200880161486566, 0.9983568787574768, 0.0010201653931289911, 2.9012344384682365e-06]\n",
      "IN\tIN\tNL-HaNA_1.04.02_3095_0033.jpg\tN:o 40. Vier Turksche Passen vande afgelegde en; v\t[0.0006214953027665615, 0.998354971408844, 0.0010206407168880105, 2.905681412812555e-06]\n",
      "IN\tIN\tNL-HaNA_1.04.02_3095_0034.jpg\tGeneraalen Eisch van behoeftens uijt; No 44; Neder\t[0.0006247332785278559, 0.9983287453651428, 0.0010435209842398763, 2.935535349024576e-06]\n",
      "IN\tIN\tNL-HaNA_1.04.02_3095_0035.jpg\tN:o 49 Generaal Rendement vande verkogte; 1 onbesc\t[0.0006622809451073408, 0.9981604218482971, 0.001174126984551549, 3.159577545375214e-06]\n",
      "IN\tIN\tNL-HaNA_1.04.02_3095_0036.jpg\tN: 53. Maandelyksche Restanten inde; groote geldka\t[0.0008991407230496407, 0.9968094229698181, 0.0022863915655761957, 5.0018397814710625e-06]\n",
      "END\tEND\tNL-HaNA_1.04.02_3095_0037.jpg\tN:o 57: Sommarium van het geladene in tien; Retoúr\t[0.0001341540482826531, 0.0004345295892562717, 0.999422550201416, 8.789587809587829e-06]\n"
     ]
    },
    {
     "name": "stderr",
     "output_type": "stream",
     "text": [
      "17batch [00:24,  2.23s/batch]"
     ]
    },
    {
     "name": "stdout",
     "output_type": "stream",
     "text": [
      "BEGIN\tBEGIN\tNL-HaNA_1.04.02_8260_0061.jpg\tS morgens te agt uuren nog geen bevoeging in het B\t[0.9996588230133057, 0.0002552396326791495, 5.6450662668794394e-05, 2.949877489299979e-05]\n",
      "IN\tIN\tNL-HaNA_1.04.02_8260_0062.jpg\tinsgelijks een bentings op te werepan, waarop ik h\t[0.0012324214912950993, 0.9976182579994202, 0.0011441261740401387, 5.056373993284069e-06]\n",
      "IN\tIN\tNL-HaNA_1.04.02_8260_0063.jpg\tgeschied zynde, goa zig 's morgens te negen uuren \t[0.0007091356092132628, 0.9982755184173584, 0.0010121166706085205, 3.2632633519824594e-06]\n",
      "IN\tIN\tNL-HaNA_1.04.02_8260_0064.jpg\tverlies van onsekant Heer op mij wederom met den p\t[0.0006529196980409324, 0.9983458518981934, 0.0009981091134250164, 3.0607200187660055e-06]\n",
      "IN\tIN\tNL-HaNA_1.04.02_8260_0065.jpg\tIk gaf dierhalven den provisconelen vandrig sor sc\t[0.0006436578114517033, 0.998359739780426, 0.0009936420246958733, 3.0210069326130906e-06]\n",
      "IN\tIN\tNL-HaNA_1.04.02_8260_0066.jpg\tvan goa lag, zullende zyn volk zuyd wertwaarts vuu\t[0.0006423511076718569, 0.9983603358268738, 0.0009943749755620956, 3.0264532142609823e-06]\n",
      "IN\tIN\tNL-HaNA_1.04.02_8260_0067.jpg\tpligt gadesloeg, ende ordres stijtelijk op gevolgd\t[0.0006398091209121048, 0.9982814788818359, 0.0010757429990917444, 2.927981540779001e-06]\n",
      "IN\tIN\tNL-HaNA_1.04.02_8260_0068.jpg\teyndelijk de banting ook verlaten waar door wij da\t[0.0006296708597801626, 0.9983571171760559, 0.0010101791704073548, 2.9558877940871753e-06]\n",
      "IN\tIN\tNL-HaNA_1.04.02_8260_0069.jpg\tvagd: den 31 octob 1757; Zatuad„ 1 Nov: 1777; Maan\t[0.0006317142397165298, 0.998335063457489, 0.0010302405571565032, 2.9675154564756667e-06]\n",
      "IN\tIN\tNL-HaNA_1.04.02_8260_0070.jpg\thadden met vorsheid en onder de bedreiging gevraag\t[0.0006252776365727186, 0.9982781410217285, 0.0010936630424112082, 3.009861302416539e-06]\n",
      "IN\tIN\tNL-HaNA_1.04.02_8260_0071.jpg\tDe Heere gouverneur goedgevonden hebbende den post\t[0.0006344968569464982, 0.9983128309249878, 0.0010497220791876316, 2.981579200422857e-06]\n",
      "IN\tIN\tNL-HaNA_1.04.02_8260_0072.jpg\tneur addaes seeren moest; vryd. den 21 Noo 1oor De\t[0.0006755624199286103, 0.9981073141098022, 0.001213898416608572, 3.181742386004771e-06]\n",
      "IN\tIN\tNL-HaNA_1.04.02_8260_0073.jpg\tden ged den 2: Aor 1757; rijst navens een Jnlandse\t[0.0008250745013356209, 0.9974762797355652, 0.0016947472468018532, 3.909864062734414e-06]\n",
      "IN\tIN\tNL-HaNA_1.04.02_8260_0074.jpg\teenige maanden neets anders te hebben gedaan als k\t[0.0011982565047219396, 0.9945869445800781, 0.00420792493969202, 6.928751645318698e-06]\n",
      "END\tEND\tNL-HaNA_1.04.02_8260_0075.jpg\tAan den Lieutenant militair Alexander LeCerf; Comm\t[0.00011157513654325157, 0.0003471864911261946, 0.9995335340499878, 7.767402166791726e-06]\n"
     ]
    },
    {
     "name": "stderr",
     "output_type": "stream",
     "text": [
      "18batch [00:25,  1.87s/batch]"
     ]
    },
    {
     "name": "stdout",
     "output_type": "stream",
     "text": [
      "BEGIN\tBEGIN\tNL-HaNA_1.04.02_3248_0877.jpg\tOp Huijden den 5: October a„o 1761: voor mij Wolfe\t[0.9996320009231567, 0.0002867208095267415, 4.938192796544172e-05, 3.196508623659611e-05]\n",
      "IN\tIN\tNL-HaNA_1.04.02_3248_0878.jpg\top die wijze gedurende hun verblijf aldaar, en ond\t[0.001041713054291904, 0.9980586171150208, 0.0008950007613748312, 4.679641733673634e-06]\n",
      "IN\tIN\tNL-HaNA_1.04.02_3248_0879.jpg\tniet krijgende ! de Xullas aandoen, en overweldige\t[0.0006033992394804955, 0.9986262321472168, 0.0007672395440749824, 3.0666906241094694e-06]\n",
      "IN\tIN\tNL-HaNA_1.04.02_3248_0880.jpg\tvan Christoffel dias, en Adriaan Rijkschroef clerc\t[0.0005511748022399843, 0.998690664768219, 0.0007553162868134677, 2.8560384635056835e-06]\n",
      "IN\tIN\tNL-HaNA_1.04.02_3248_0881.jpg\tHeden den 8:e Maart 1762: Compareerde voor mij Ioh\t[0.0005697144661098719, 0.9987142086029053, 0.0007132465834729373, 2.879525027310592e-06]\n",
      "IN\tIN\tNL-HaNA_1.04.02_3248_0882.jpg\tdog Een van derzelver prauwen bleeft op de droogte\t[0.0005534894298762083, 0.998711347579956, 0.0007322736782953143, 2.8159558951301733e-06]\n",
      "IN\tIN\tNL-HaNA_1.04.02_3248_0883.jpg\teenige hostiliteijten en moorderijen gepleegt hadd\t[0.0005315798334777355, 0.9986990690231323, 0.0007666207966394722, 2.751178499238449e-06]\n",
      "IN\tIN\tNL-HaNA_1.04.02_3248_0884.jpg\twaar op hij relatant door de papoeers, mits absent\t[0.0005253515555523336, 0.9987032413482666, 0.0007686518947593868, 2.715064510994125e-06]\n",
      "IN\tIN\tNL-HaNA_1.04.02_3248_0885.jpg\tanders te zeggen, als 't geen in 't Casteel orange\t[0.0005246676737442613, 0.9986818432807922, 0.0007907043327577412, 2.6881239136855584e-06]\n",
      "IN\tIN\tNL-HaNA_1.04.02_3248_0886.jpg\thij relatant in dien zoo wel onder Ambon als Terna\t[0.0005455595091916621, 0.9986900687217712, 0.0007616047514602542, 2.7401929401094094e-06]\n",
      "IN\tIN\tNL-HaNA_1.04.02_3248_0887.jpg\tGevende voor redenen van wetenschap als in den tex\t[0.0005269972607493401, 0.9985861778259277, 0.0008841806557029486, 2.5771616947167786e-06]\n",
      "IN\tIN\tNL-HaNA_1.04.02_3248_0888.jpg\t\t[0.0004617199010681361, 0.99873286485672, 0.00080327526666224, 2.091157512040809e-06]\n",
      "IN\tIN\tNL-HaNA_1.04.02_3248_0889.jpg\tHeden morgen den 23:e April 1765: zont den heer„; \t[0.0004745962214656174, 0.998802900314331, 0.0007198433158919215, 2.6311706733395113e-06]\n",
      "IN\tIN\tNL-HaNA_1.04.02_3248_0890.jpg\ten 's konings goetaardigheijt, de wezentlijke oerz\t[0.00046428231871686876, 0.9988126754760742, 0.0007204760331660509, 2.6017896743724123e-06]\n",
      "IN\tIN\tNL-HaNA_1.04.02_3248_0891.jpg\tomtrent zij vermeenden nu niets meer te vreezen te\t[0.0004948658170178533, 0.9985785484313965, 0.0009241001098416746, 2.4571056655986467e-06]\n",
      "IN\tIN\tNL-HaNA_1.04.02_3248_0892.jpg\t\t[0.00031867981306277215, 0.9991738200187683, 0.0005054727080278099, 1.9789638372458285e-06]\n",
      "IN\tIN\tNL-HaNA_1.04.02_3248_0893.jpg\tHeden den 4:e Februarij 1768: Compareerde; voor mi\t[0.0004300725122448057, 0.9987701773643494, 0.000797189655713737, 2.5076935799006606e-06]\n",
      "IN\tIN\tNL-HaNA_1.04.02_3248_0894.jpg\tgelegen op 't groot Eijland salwattij vervoert en \t[0.0004951527807861567, 0.9981460571289062, 0.0013563052052631974, 2.5523279418848688e-06]\n",
      "IN\tIN\tNL-HaNA_1.04.02_3248_0895.jpg\t\t[0.00019082750077359378, 0.9993895292282104, 0.00041762084583751857, 2.0116340238018893e-06]\n",
      "IN\tIN\tNL-HaNA_1.04.02_3248_0896.jpg\t\t[0.00017521920381113887, 0.9995705485343933, 0.0002525212476029992, 1.6441463230876252e-06]\n",
      "IN\tIN\tNL-HaNA_1.04.02_3248_0897.jpg\tOp heden den 4:e Februarij 160: Compareerde voor; \t[0.0004479634517338127, 0.9987395405769348, 0.0008095962693914771, 2.9945965707156574e-06]\n",
      "IN\tIN\tNL-HaNA_1.04.02_3248_0898.jpg\tte Batchian ter hou gekomen waren, en zig dien twe\t[0.0004694670205935836, 0.9987322688102722, 0.0007951332372613251, 3.0624830742453923e-06]\n",
      "IN\tIN\tNL-HaNA_1.04.02_3248_0899.jpg\tWaar mede den relatant dit zijne gegevene relaas c\t[0.000499177083838731, 0.9984733462333679, 0.0010242389980703592, 3.1782651603862178e-06]\n",
      "IN\tIN\tNL-HaNA_1.04.02_3248_0900.jpg\t\t[0.00047722746967338026, 0.997931718826294, 0.0015879261773079634, 3.0549574603355723e-06]\n",
      "IN\tIN\tNL-HaNA_1.04.02_3248_0901.jpg\tOp heden den 8:e Februarij 1768: Compa„; „reerde v\t[0.0007398593006655574, 0.9967026114463806, 0.002552059479057789, 5.509052698471351e-06]\n",
      "END\tEND\tNL-HaNA_1.04.02_3248_0902.jpg\twaar mede den relatant zijn gegevene relaas quam t\t[0.00011051086039515212, 0.00041598553070798516, 0.9994648098945618, 8.639186489745043e-06]\n",
      "BEGIN\tBEGIN\tNL-HaNA_1.04.02_1547_0107.jpg\tExtracten uijt de Daagelijkse Aanteeckeningen, Con\t[0.9996719360351562, 0.00018414098303765059, 0.00010387448855908588, 4.000259650638327e-05]\n",
      "END\tEND\tNL-HaNA_1.04.02_1547_0108.jpg\top desen holvn en dass: matthijs in ve totenende a\t[0.0002052070340141654, 0.0003014642861671746, 0.9994825124740601, 1.080017591448268e-05]\n"
     ]
    },
    {
     "name": "stderr",
     "output_type": "stream",
     "text": [
      "21batch [00:26,  1.09batch/s]"
     ]
    },
    {
     "name": "stdout",
     "output_type": "stream",
     "text": [
      "OUT\tOUT\tNL-HaNA_1.04.02_1547_0360.jpg\t\t[4.6434310206677765e-05, 2.5492503482382745e-05, 1.813627386582084e-05, 0.9999098777770996]\n",
      "OUT\tOUT\tNL-HaNA_1.04.02_1547_0361.jpg\t\t[1.5475776308448985e-05, 8.291252925118897e-06, 6.33479203315801e-06, 0.9999698400497437]\n",
      "OUT\tOUT\tNL-HaNA_1.04.02_1547_0362.jpg\t\t[2.7481732104206458e-05, 1.5985984646249563e-05, 1.1455773346824571e-05, 0.9999450445175171]\n",
      "BEGIN\tBEGIN\tNL-HaNA_1.04.02_1547_0363.jpg\tJnstructie voor den onder„; Sonsbeek, vertreckende\t[0.9995558857917786, 0.00018646824173629284, 3.85285857191775e-05, 0.00021914199169259518]\n",
      "IN\tIN\tNL-HaNA_1.04.02_1547_0364.jpg\top te wakkeren sijn, soo meede te Ervaaren wat; Ef\t[0.002504652366042137, 0.9966664910316467, 0.0007734567625448108, 5.537641845876351e-05]\n",
      "IN\tIN\tNL-HaNA_1.04.02_1547_0365.jpg\tVan ons gering vermoogen, voort te setten onder an\t[0.0008247647783719003, 0.9984316229820251, 0.0007315014954656363, 1.215212614624761e-05]\n",
      "IN\tIN\tNL-HaNA_1.04.02_1547_0366.jpg\taanslaagen der picaten en roovers, en des noods; s\t[0.0005118739209137857, 0.9987766146659851, 0.0007074211025610566, 4.018368144897977e-06]\n",
      "IN\tIN\tNL-HaNA_1.04.02_1547_0367.jpg\tgesant Pannejapaija gemaakt, sijn afgehaald; dan g\t[0.00045651374966837466, 0.9988409876823425, 0.0006995375733822584, 3.011161879840074e-06]\n",
      "IN\tIN\tNL-HaNA_1.04.02_1547_0368.jpg\ten hem aanbeveelt om ten uijterken mogelijk den ge\t[0.00044906220864504576, 0.9988435506820679, 0.0007044600206427276, 2.8988090434722835e-06]\n",
      "IN\tIN\tNL-HaNA_1.04.02_1547_0369.jpg\tdat sijne regenten een slankxe parthonen; te speel\t[0.0004513795138336718, 0.9988102912902832, 0.0007353551918640733, 2.9356237973843236e-06]\n",
      "IN\tIN\tNL-HaNA_1.04.02_1547_0370.jpg\tIagthens de Jaager en plathuijs zullen connen; lad\t[0.00046287011355161667, 0.9986509680747986, 0.0008831138256937265, 3.122991074633319e-06]\n",
      "IN\tIN\tNL-HaNA_1.04.02_1547_0371.jpg\td'E Comp=es mogte te verrigten wesen, maar; de wij\t[0.0006486622733063996, 0.9967778325080872, 0.002568044001236558, 5.455006430565845e-06]\n",
      "END\tEND\tNL-HaNA_1.04.02_1547_0372.jpg\taanbevoolen, en uwE: onder godes geleyjd een; spoe\t[0.00010998263314832002, 0.0004691403592005372, 0.9994113445281982, 9.502371540293097e-06]\n",
      "BEGIN\tBEGIN\tNL-HaNA_1.04.02_8846_0473.jpg\tVan Cormandel onder dato 27:e 8ber: 1726.; Nederla\t[0.9996780157089233, 0.0002323529333807528, 6.03265616518911e-05, 2.930586379079614e-05]\n",
      "IN\tIN\tNL-HaNA_1.04.02_8846_0474.jpg\tVan Cormandel onder dato 27=e 8ber: 1726.; der inl\t[0.0017240848392248154, 0.9953752160072327, 0.002892346354201436, 8.376827281608712e-06]\n",
      "END\tEND\tNL-HaNA_1.04.02_8846_0475.jpg\tVan Cormandel onder dato 27=e 8ber: 1726.; Agtbaar\t[0.00012310445890761912, 0.00031795402173884213, 0.9995513558387756, 7.550971076852875e-06]\n"
     ]
    },
    {
     "name": "stderr",
     "output_type": "stream",
     "text": [
      "23batch [00:29,  1.13s/batch]"
     ]
    },
    {
     "name": "stdout",
     "output_type": "stream",
     "text": [
      "BEGIN\tBEGIN\tNL-HaNA_1.04.02_1083_0013.jpg\tadn. 6=en augustij Anoo 1624; Octe der kerckelijck\t[0.999489426612854, 0.00037690700264647603, 8.722964412299916e-05, 4.6380584535654634e-05]\n",
      "IN\tIN\tNL-HaNA_1.04.02_1083_0014.jpg\t\t[0.006468998268246651, 0.9929623007774353, 0.0003682940441649407, 0.0002003989793593064]\n",
      "IN\tIN\tNL-HaNA_1.04.02_1083_0015.jpg\tInt Jaer des Heeren onses Salichmaeckers Jesu Chri\t[0.002301795408129692, 0.996840238571167, 0.0008491344633512199, 8.752758731134236e-06]\n",
      "IN\tIN\tNL-HaNA_1.04.02_1083_0016.jpg\tKercken dienaers soo te lande als opde; Rhede alhi\t[0.0005745316157117486, 0.9986787438392639, 0.0007434916333295405, 3.1757979286339832e-06]\n",
      "IN\tIN\tNL-HaNA_1.04.02_1083_0017.jpg\tVerlost moeten werden midtsgaders offf oock eenige\t[0.0005185448681004345, 0.9987021684646606, 0.0007762503810226917, 2.94998312710959e-06]\n",
      "IN\tIN\tNL-HaNA_1.04.02_1083_0018.jpg\tAlsoo de Generale Comp. e. dageluckx boven haer ve\t[0.0005135959945619106, 0.9986936450004578, 0.0007897705072537065, 2.926774868683424e-06]\n",
      "IN\tIN\tNL-HaNA_1.04.02_1083_0019.jpg\tAdvijs vande Kerckelijcke vergaderinge (door orden\t[0.0005006034625694156, 0.998701810836792, 0.0007947087869979441, 2.837919964804314e-06]\n",
      "IN\tIN\tNL-HaNA_1.04.02_1083_0020.jpg\tArt 1; Om goede ordre inde gemeente Christij te on\t[0.000499618356116116, 0.9987049102783203, 0.0007926252437755466, 2.830986886692699e-06]\n",
      "IN\tIN\tNL-HaNA_1.04.02_1083_0021.jpg\tHantwercx lieden ofte andere die niet gestudeert h\t[0.0004995114868506789, 0.9987039566040039, 0.0007936035981401801, 2.829575123541872e-06]\n",
      "IN\tIN\tNL-HaNA_1.04.02_1083_0022.jpg\tVertrecken ofte andersins eenige veranderingen van\t[0.0004985055420547724, 0.9987051486968994, 0.0007934898603707552, 2.8246315650903853e-06]\n",
      "IN\tIN\tNL-HaNA_1.04.02_1083_0023.jpg\ttot een meerder kerckelicke vergaderinghe vereepen\t[0.0005042327102273703, 0.9987081289291382, 0.0007847902015782893, 2.8356409984553466e-06]\n",
      "IN\tIN\tNL-HaNA_1.04.02_1083_0024.jpg\tArmen scholen besorcht werden ten laesten offer; y\t[0.0004974631010554731, 0.9987051486968994, 0.0007945378310978413, 2.8187973839521874e-06]\n",
      "IN\tIN\tNL-HaNA_1.04.02_1083_0025.jpg\tals de beyaerde persoonen de formeliere vande Inst\t[0.0004998924559913576, 0.9987020492553711, 0.0007952404557727277, 2.8236072466825135e-06]\n",
      "IN\tIN\tNL-HaNA_1.04.02_1083_0026.jpg\tDe dienaers sullen alomme soo veel alsmogelyck is \t[0.0004965164698660374, 0.9987039566040039, 0.0007966588018462062, 2.8116924113419373e-06]\n",
      "IN\tIN\tNL-HaNA_1.04.02_1083_0027.jpg\tsoo wie hartneckelijcke de vermaninge des kercken;\t[0.0004965902771800756, 0.9986995458602905, 0.0008010820602066815, 2.79268761005369e-06]\n",
      "IN\tIN\tNL-HaNA_1.04.02_1083_0028.jpg\traets der selver ende der naestgelegener gemeente \t[0.000490343663841486, 0.9987045526504517, 0.0008023062837310135, 2.765329782050685e-06]\n",
      "IN\tIN\tNL-HaNA_1.04.02_1083_0029.jpg\tEenige poincten de welcke de kerckelijcke; vergade\t[0.00048802929813973606, 0.9987095594406128, 0.0007996756467036903, 2.742923470577807e-06]\n",
      "IN\tIN\tNL-HaNA_1.04.02_1083_0030.jpg\tSimode gehouden tot dordrecht sess 19. dit sul; in\t[0.0005082749994471669, 0.9987139701843262, 0.0007748546195216477, 2.8119002308812924e-06]\n",
      "IN\tIN\tNL-HaNA_1.04.02_1083_0031.jpg\tgevisiteert de plaetse tot opbouwinge der kercken \t[0.0004902033833786845, 0.9987026453018188, 0.0008044058922678232, 2.7678759124682983e-06]\n",
      "IN\tIN\tNL-HaNA_1.04.02_1083_0032.jpg\thouden des H: Avondtmaels ende telckens tusschen d\t[0.0004924112581647933, 0.9987032413482666, 0.0008015438797883689, 2.771329718598281e-06]\n",
      "IN\tIN\tNL-HaNA_1.04.02_1083_0033.jpg\tdaer naer met den volcke singht oit wert den kerck\t[0.0004889032570645213, 0.9986991882324219, 0.0008091583731584251, 2.74801891464449e-06]\n",
      "IN\tIN\tNL-HaNA_1.04.02_1083_0034.jpg\tWaer dient een retutatie des Moorsdoms ofte mahune\t[0.00048767434782348573, 0.9987004995346069, 0.0008090248447842896, 2.7543642318050843e-06]\n",
      "IN\tIN\tNL-HaNA_1.04.02_1083_0035.jpg\tnaecome volgens de order en vande kercken beraempt\t[0.00048454091302119195, 0.9987013339996338, 0.000811391044408083, 2.73178011411801e-06]\n",
      "IN\tIN\tNL-HaNA_1.04.02_1083_0036.jpg\tmoeten opseggen; de Schoolmr. moet sorge dragen da\t[0.00048317291657440364, 0.9987021684646606, 0.0008119366830214858, 2.7236351343162823e-06]\n",
      "IN\tIN\tNL-HaNA_1.04.02_1083_0037.jpg\tatechismum met sin aenhanghar ondr. Sebast: danck \t[0.0004839519679080695, 0.9987010955810547, 0.0008121808641590178, 2.7275518732494675e-06]\n",
      "IN\tIN\tNL-HaNA_1.04.02_1083_0038.jpg\tAlle de Gene die tot noch toe geseten hebben ende \t[0.0004827906668651849, 0.9987027645111084, 0.0008117486140690744, 2.7222135940974113e-06]\n",
      "IN\tIN\tNL-HaNA_1.04.02_1083_0039.jpg\tleeren lesen schrijven ende in Christelycke deuchd\t[0.0004841367481276393, 0.998699426651001, 0.0008137177210301161, 2.725838839978678e-06]\n",
      "IN\tIN\tNL-HaNA_1.04.02_1083_0040.jpg\tgelegentheyt der plaetsen door de welcke de andere\t[0.0004895331803709269, 0.9986829161643982, 0.0008247890509665012, 2.7491826131154085e-06]\n",
      "IN\tIN\tNL-HaNA_1.04.02_1083_0041.jpg\tCorte, bedenckinge op eenige verhandelde; poincten\t[0.0005203329492360353, 0.9985746145248413, 0.0009021282312460244, 2.8756567189702764e-06]\n",
      "IN\tIN\tNL-HaNA_1.04.02_1083_0042.jpg\tWert verstaen de bedieninge vant Sacrament des H; \t[0.000623463885858655, 0.9982129335403442, 0.0011601283913478255, 3.3944261303986423e-06]\n",
      "IN\tIN\tNL-HaNA_1.04.02_1083_0043.jpg\tbijde Gecommitteerde wegen de Zinodale Classe; van\t[0.0008165809558704495, 0.9970476031303406, 0.0021305617410689592, 5.17204853167641e-06]\n",
      "END\tIN\tNL-HaNA_1.04.02_1083_0044.jpg\tOp Appendicx vande kercken ordeninge ten aensien d\t[0.0001296506088692695, 0.0005003982805646956, 0.9993603825569153, 9.660720024839975e-06]\n",
      "BEGIN\tIN\tNL-HaNA_1.04.02_1083_0045.jpg\tInt laeste vandese Schiftelijcke voorstellinge; so\t[0.9996755123138428, 0.00024183573259506375, 5.48631142009981e-05, 2.7853617211803794e-05]\n",
      "IN\tIN\tNL-HaNA_1.04.02_1083_0046.jpg\tEd: Hr Generael vallende soo is Octob. 23 de ver; \t[0.0013425718061625957, 0.9972915053367615, 0.0013602792751044035, 5.607696493825642e-06]\n",
      "IN\tIN\tNL-HaNA_1.04.02_1083_0047.jpg\tJustus Hurnius, O Sebastianus danckaerts door siec\t[0.001119152526371181, 0.9960830211639404, 0.002791952108964324, 5.809199137729593e-06]\n",
      "END\tEND\tNL-HaNA_1.04.02_1083_0048.jpg\tDes avondts voor het aronsteten is den predicanten\t[0.00011469714809209108, 0.0002957984106615186, 0.9995825886726379, 6.894711077620741e-06]\n"
     ]
    },
    {
     "name": "stderr",
     "output_type": "stream",
     "text": [
      "24batch [00:30,  1.29s/batch]"
     ]
    },
    {
     "name": "stdout",
     "output_type": "stream",
     "text": [
      "BEGIN\tBEGIN\tNL-HaNA_1.04.02_8696_0051.jpg\tVan Siam onder dato 20: april 1737; Dag-register, \t[0.999670147895813, 0.0002444376586936414, 5.7068929891102016e-05, 2.8394919354468584e-05]\n",
      "IN\tIN\tNL-HaNA_1.04.02_8696_0052.jpg\tVan Siam onder dato 20:' april 1731; moesten verbl\t[0.0013370545348152518, 0.9975607395172119, 0.0010970152216032147, 5.258822511677863e-06]\n",
      "IN\tIN\tNL-HaNA_1.04.02_8696_0053.jpg\tVan Siam onder dato 20: april 1737; zijn aen gesig\t[0.0007060010102577507, 0.9982632994651794, 0.0010274903615936637, 3.2366833693231456e-06]\n",
      "IN\tIN\tNL-HaNA_1.04.02_8696_0054.jpg\tSiam onder dato 2 april 1737; den 8:e _=o alvroeg \t[0.0006481486489064991, 0.9983488321304321, 0.0010000128531828523, 3.0164023883116897e-06]\n",
      "IN\tIN\tNL-HaNA_1.04.02_8696_0055.jpg\tVan Siam onder dato: 20: april 1737; ons aengewees\t[0.0006393356015905738, 0.9983567595481873, 0.0010009024990722537, 3.0001624509168323e-06]\n",
      "IN\tIN\tNL-HaNA_1.04.02_8696_0056.jpg\tVan Siam onder dato: 20: april 1737; Maart; die ge\t[0.000636874872725457, 0.9983591437339783, 0.0010010089026764035, 2.9910390821896726e-06]\n",
      "IN\tIN\tNL-HaNA_1.04.02_8696_0057.jpg\tVan Siam onder dato 20: april 1737; vergadert was \t[0.0006361103733070195, 0.9983586668968201, 0.0010022283531725407, 2.9903987979196245e-06]\n",
      "IN\tIN\tNL-HaNA_1.04.02_8696_0058.jpg\tVan Siam onder dato: 20: april 1737; Maart voogd v\t[0.0006340733380056918, 0.9983593821525574, 0.001003555953502655, 2.9765162707917625e-06]\n",
      "IN\tIN\tNL-HaNA_1.04.02_8696_0059.jpg\tVan Siam onder dato: 20: april 1737; houden dit go\t[0.0006316512590274215, 0.9983568787574768, 0.0010085266549140215, 2.960318852274213e-06]\n",
      "IN\tIN\tNL-HaNA_1.04.02_8696_0060.jpg\tSiam onder dato: 20: april 1737; an; kittelde en h\t[0.0006313940975815058, 0.9983612895011902, 0.0010042975191026926, 2.9419848033285234e-06]\n",
      "IN\tIN\tNL-HaNA_1.04.02_8696_0061.jpg\tVan Siam onder dato: 20:' april 1737; Excuseert, m\t[0.0006212075240910053, 0.9983558058738708, 0.001020123832859099, 2.905534074670868e-06]\n",
      "IN\tIN\tNL-HaNA_1.04.02_8696_0062.jpg\tan Siam onder dato: 20: april 1737; kittelde en he\t[0.0006206798716448247, 0.9983577132225037, 0.0010187646839767694, 2.9037501008133404e-06]\n",
      "IN\tIN\tNL-HaNA_1.04.02_8696_0063.jpg\tVan Siam onder dato: 20=' april 1737; Excuseert, m\t[0.000621096754912287, 0.9983554482460022, 0.0010206052102148533, 2.9039154014753876e-06]\n",
      "IN\tIN\tNL-HaNA_1.04.02_8696_0064.jpg\tSiam onder dato: 20: april 1737; opperhoofd een ro\t[0.0006202600779943168, 0.998357355594635, 0.0010195111390203238, 2.9013215225859312e-06]\n",
      "IN\tIN\tNL-HaNA_1.04.02_8696_0065.jpg\tVan Siam onder dato 20: april 1737; op thee en Con\t[0.0006205941317602992, 0.9983564019203186, 0.0010200762189924717, 2.9026832635281608e-06]\n",
      "IN\tIN\tNL-HaNA_1.04.02_8696_0066.jpg\tSiam onder dato: 20: april 1737; -; Aan; Maart; te\t[0.0006209531566128135, 0.9983554482460022, 0.0010207360610365868, 2.9002260362176457e-06]\n",
      "IN\tIN\tNL-HaNA_1.04.02_8696_0067.jpg\tSiam onder dato: 20: april 1737; N6; an alderhande\t[0.0006203092634677887, 0.9983568787574768, 0.0010199133539572358, 2.9018706300121266e-06]\n",
      "IN\tIN\tNL-HaNA_1.04.02_8696_0068.jpg\tSiam onder dato: 20: apr; an; telaeten zien met we\t[0.0006232424639165401, 0.9983499050140381, 0.0010239380644634366, 2.9159541554690804e-06]\n",
      "IN\tIN\tNL-HaNA_1.04.02_8696_0069.jpg\tVan Siam onder dato: 29:' april 1737; koraelen van\t[0.000619316182564944, 0.9983554482460022, 0.0010223675053566694, 2.89698346023215e-06]\n",
      "IN\tIN\tNL-HaNA_1.04.02_8696_0070.jpg\tVan Siam onder dato: 20: april 1737; den 16:e d:o \t[0.0006296892534010112, 0.9983629584312439, 0.0010043432703241706, 2.919083726737881e-06]\n",
      "IN\tIN\tNL-HaNA_1.04.02_8696_0071.jpg\tVan Siam onder dato: 20: april 1737; middelpunt te\t[0.0006444074679166079, 0.9983673691749573, 0.000985319260507822, 2.942080982393236e-06]\n",
      "IN\tIN\tNL-HaNA_1.04.02_8696_0072.jpg\tan Siam onder dato: 20: april 1737; Elders wierd g\t[0.0006191381835378706, 0.9983527660369873, 0.0010252174688503146, 2.895453917517443e-06]\n",
      "IN\tIN\tNL-HaNA_1.04.02_8696_0073.jpg\tVan Siam onder dato: 20: april 1737; te hebben ons\t[0.0006266593700274825, 0.9983281493186951, 0.001042242394760251, 2.9253412776597543e-06]\n",
      "IN\tIN\tNL-HaNA_1.04.02_8696_0074.jpg\tSiam onder dato: 20: april 1737; An; 99; Elders wi\t[0.000664147490169853, 0.998204231262207, 0.0011285552754998207, 3.0738140139874304e-06]\n",
      "IN\tIN\tNL-HaNA_1.04.02_8696_0075.jpg\tVan Siam onder dato: 20: april 1737; te hebben ons\t[0.0008026157156564295, 0.9976639747619629, 0.0015297934878617525, 3.7259728742355946e-06]\n",
      "IN\tIN\tNL-HaNA_1.04.02_8696_0076.jpg\tVan Siam onder dato: 20: april 1737; van hof order\t[0.001106353709474206, 0.9949514865875244, 0.003935439046472311, 6.783654498576652e-06]\n",
      "END\tEND\tNL-HaNA_1.04.02_8696_0077.jpg\tVan Siam onder dato: 20: april 1737; Translaet Sia\t[0.00011269961396465078, 0.00034607292036525905, 0.9995334148406982, 7.784056833770592e-06]\n"
     ]
    },
    {
     "name": "stderr",
     "output_type": "stream",
     "text": [
      "\n"
     ]
    }
   ],
   "source": [
    "import csv\n",
    "import sys\n",
    "\n",
    "from torcheval.metrics import (\n",
    "    MulticlassAccuracy,\n",
    "    MulticlassF1Score,\n",
    "    MulticlassPrecision,\n",
    "    MulticlassRecall,\n",
    ")\n",
    "from tqdm import tqdm\n",
    "\n",
    "from document_segmentation.pagexml.datamodel.label import Label\n",
    "\n",
    "writer = csv.DictWriter(\n",
    "    sys.stdout,\n",
    "    fieldnames=(\"Predicted\", \"Actual\", \"Page ID\", \"Text\", \"Scores\"),\n",
    "    delimiter=\"\\t\",\n",
    ")\n",
    "\n",
    "writer.writeheader()\n",
    "\n",
    "accuracy = MulticlassAccuracy(num_classes=len(Label))\n",
    "precision = MulticlassPrecision(average=None, num_classes=len(Label))\n",
    "recall = MulticlassRecall(average=None, num_classes=len(Label))\n",
    "f1_score = MulticlassF1Score(average=None, num_classes=len(Label))\n",
    "\n",
    "for batch in tqdm(\n",
    "    test_data.batches(BATCH_SIZE), total=len(test_data) / BATCH_SIZE, unit=\"batch\"\n",
    "):\n",
    "    predicted = tagger(batch)\n",
    "    labels = batch.labels()\n",
    "\n",
    "    _labels = torch.Tensor([label.value for label in labels]).to(int)\n",
    "    accuracy.update(predicted, _labels)\n",
    "    precision.update(predicted, _labels)\n",
    "    recall.update(predicted, _labels)\n",
    "    f1_score.update(predicted, _labels)\n",
    "\n",
    "    for page, pred, label in zip(batch.pages, predicted, labels):\n",
    "        pred_label = Label(pred.argmax().item())\n",
    "        # if pred_label != Label.IN or label != Label.IN:\n",
    "        writer.writerow(\n",
    "            {\n",
    "                \"Predicted\": pred_label.name,\n",
    "                \"Actual\": label.name,\n",
    "                \"Page ID\": page.doc_id,\n",
    "                \"Text\": page.text(delimiter=\"; \")[:50],\n",
    "                \"Scores\": str(pred.tolist()),\n",
    "            }\n",
    "        )"
   ]
  },
  {
   "cell_type": "code",
   "execution_count": 34,
   "metadata": {},
   "outputs": [
    {
     "name": "stdout",
     "output_type": "stream",
     "text": [
      "Metric\tBEGIN\tIN\tEND\tOUT\n",
      "MulticlassPrecision\t0.8400\t0.9968\t0.8571\t0.7500\n",
      "MulticlassRecall\t1.0000\t0.9715\t0.9474\t1.0000\n",
      "MulticlassF1Score\t0.9130\t0.9840\t0.9000\t0.8571\n",
      "Accuracy (micro average):\t0.9724\n"
     ]
    }
   ],
   "source": [
    "writer = csv.DictWriter(\n",
    "    sys.stdout,\n",
    "    fieldnames=[\"Metric\"] + [label.name for label in Label],\n",
    "    delimiter=\"\\t\",\n",
    ")\n",
    "writer.writeheader()\n",
    "\n",
    "for metric in (precision, recall, f1_score):\n",
    "    scores = {\n",
    "        label.name: f\"{score:.4f}\"\n",
    "        for label, score in zip(Label, metric.compute().tolist())\n",
    "    }\n",
    "    writer.writerow({\"Metric\": metric.__class__.__name__} | scores)\n",
    "\n",
    "print(f\"Accuracy ({accuracy.average} average):\\t{accuracy.compute().item():.4f}\")"
   ]
  }
 ],
 "metadata": {
  "kernelspec": {
   "display_name": ".venv",
   "language": "python",
   "name": "python3"
  },
  "language_info": {
   "codemirror_mode": {
    "name": "ipython",
    "version": 3
   },
   "file_extension": ".py",
   "mimetype": "text/x-python",
   "name": "python",
   "nbconvert_exporter": "python",
   "pygments_lexer": "ipython3",
   "version": "3.11.2"
  }
 },
 "nbformat": 4,
 "nbformat_minor": 2
}
