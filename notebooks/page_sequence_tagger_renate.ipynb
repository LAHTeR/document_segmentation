{
 "cells": [
  {
   "cell_type": "code",
   "execution_count": 1,
   "metadata": {},
   "outputs": [],
   "source": [
    "%load_ext autoreload\n",
    "%autoreload now"
   ]
  },
  {
   "cell_type": "code",
   "execution_count": 2,
   "metadata": {},
   "outputs": [],
   "source": [
    "import os\n",
    "\n",
    "os.environ[\"CUDA_VISIBLE_DEVICES\"] = \"MIG-08137aa2-e69b-5e74-8390-7997329b1336\""
   ]
  },
  {
   "cell_type": "markdown",
   "metadata": {},
   "source": [
    "# Download and convert data"
   ]
  },
  {
   "cell_type": "code",
   "execution_count": 3,
   "metadata": {},
   "outputs": [
    {
     "name": "stderr",
     "output_type": "stream",
     "text": [
      "WARNING:root: total length does not work for RenateAnalysis sheets\n",
      "Writing documents: 0doc [00:00, ?doc/s]\n"
     ]
    }
   ],
   "source": [
    "from document_segmentation.pagexml.annotations.renate_analysis import RenateAnalysis\n",
    "from document_segmentation.settings import RENATE_ANALYSIS_DIR\n",
    "\n",
    "N = None\n",
    "\n",
    "\n",
    "sheet = RenateAnalysis()\n",
    "\n",
    "\n",
    "sheet.download(RENATE_ANALYSIS_DIR, N)"
   ]
  },
  {
   "cell_type": "code",
   "execution_count": 4,
   "metadata": {},
   "outputs": [
    {
     "name": "stderr",
     "output_type": "stream",
     "text": [
      "Writing documents:   0%|          | 0/26 [00:00<?, ?doc/s]"
     ]
    },
    {
     "name": "stderr",
     "output_type": "stream",
     "text": [
      "Writing documents: 100%|██████████| 26/26 [00:10<00:00,  2.39doc/s]\n"
     ]
    }
   ],
   "source": [
    "from document_segmentation.pagexml.annotations.renate_analysis import RenateAnalysisInv\n",
    "from document_segmentation.settings import RENATE_ANALYSIS_DIR, RENATE_ANALYSIS_SHEETS\n",
    "\n",
    "N = None\n",
    "\n",
    "\n",
    "sheet = RenateAnalysisInv(RENATE_ANALYSIS_SHEETS[0])  # TODO: use both sheets\n",
    "sheet.download(RENATE_ANALYSIS_DIR, N)"
   ]
  },
  {
   "cell_type": "markdown",
   "metadata": {},
   "source": [
    "# Load Data"
   ]
  },
  {
   "cell_type": "code",
   "execution_count": 5,
   "metadata": {},
   "outputs": [],
   "source": [
    "%autoreload now"
   ]
  },
  {
   "cell_type": "code",
   "execution_count": 6,
   "metadata": {},
   "outputs": [],
   "source": [
    "TRAINING_DATA = 0.8"
   ]
  },
  {
   "cell_type": "code",
   "execution_count": 7,
   "metadata": {},
   "outputs": [
    {
     "name": "stderr",
     "output_type": "stream",
     "text": [
      "Reading JSON files: 100%|██████████| 104/104 [00:01<00:00, 92.40file/s] \n"
     ]
    },
    {
     "data": {
      "text/plain": [
       "104"
      ]
     },
     "execution_count": 7,
     "metadata": {},
     "output_type": "execute_result"
    }
   ],
   "source": [
    "from document_segmentation.model.dataset import DocumentDataset\n",
    "\n",
    "dataset: DocumentDataset = DocumentDataset.from_dir(RENATE_ANALYSIS_DIR)\n",
    "dataset.shuffle()\n",
    "\n",
    "len(dataset)"
   ]
  },
  {
   "cell_type": "code",
   "execution_count": 8,
   "metadata": {},
   "outputs": [
    {
     "data": {
      "text/plain": [
       "Counter({<Label.IN: 1>: 1907,\n",
       "         <Label.BEGIN: 0>: 104,\n",
       "         <Label.END: 2>: 100,\n",
       "         <Label.OUT: 3>: 73})"
      ]
     },
     "execution_count": 8,
     "metadata": {},
     "output_type": "execute_result"
    }
   ],
   "source": [
    "dataset._class_counts()"
   ]
  },
  {
   "cell_type": "code",
   "execution_count": 9,
   "metadata": {},
   "outputs": [
    {
     "data": {
      "text/plain": [
       "[0.9904761904761905,\n",
       " 0.05450733752620545,\n",
       " 1.0297029702970297,\n",
       " 1.4054054054054055]"
      ]
     },
     "execution_count": 9,
     "metadata": {},
     "output_type": "execute_result"
    }
   ],
   "source": [
    "dataset.class_weights()"
   ]
  },
  {
   "cell_type": "code",
   "execution_count": 10,
   "metadata": {},
   "outputs": [],
   "source": [
    "training_data, test_data = dataset.split(TRAINING_DATA)"
   ]
  },
  {
   "cell_type": "code",
   "execution_count": 11,
   "metadata": {},
   "outputs": [
    {
     "data": {
      "text/plain": [
       "Counter({<Label.IN: 1>: 1569,\n",
       "         <Label.BEGIN: 0>: 83,\n",
       "         <Label.END: 2>: 79,\n",
       "         <Label.OUT: 3>: 68})"
      ]
     },
     "execution_count": 11,
     "metadata": {},
     "output_type": "execute_result"
    }
   ],
   "source": [
    "training_data._class_counts()"
   ]
  },
  {
   "cell_type": "code",
   "execution_count": 12,
   "metadata": {},
   "outputs": [
    {
     "data": {
      "text/plain": [
       "Counter({<Label.IN: 1>: 338,\n",
       "         <Label.BEGIN: 0>: 21,\n",
       "         <Label.END: 2>: 21,\n",
       "         <Label.OUT: 3>: 5})"
      ]
     },
     "execution_count": 12,
     "metadata": {},
     "output_type": "execute_result"
    }
   ],
   "source": [
    "test_data._class_counts()"
   ]
  },
  {
   "cell_type": "markdown",
   "metadata": {},
   "source": [
    "# Train Model"
   ]
  },
  {
   "cell_type": "code",
   "execution_count": 13,
   "metadata": {},
   "outputs": [],
   "source": [
    "BATCH_SIZE = 64\n",
    "EPOCHS = 10\n",
    "WEIGHTS = dataset.class_weights()"
   ]
  },
  {
   "cell_type": "code",
   "execution_count": 14,
   "metadata": {},
   "outputs": [],
   "source": [
    "from document_segmentation.model.page_sequence_tagger import PageSequenceTagger\n",
    "\n",
    "tagger = PageSequenceTagger()"
   ]
  },
  {
   "cell_type": "code",
   "execution_count": 15,
   "metadata": {},
   "outputs": [
    {
     "data": {
      "text/plain": [
       "'mps'"
      ]
     },
     "execution_count": 15,
     "metadata": {},
     "output_type": "execute_result"
    }
   ],
   "source": [
    "tagger._device"
   ]
  },
  {
   "cell_type": "code",
   "execution_count": 16,
   "metadata": {},
   "outputs": [
    {
     "data": {
      "text/plain": [
       "PageSequenceTagger(\n",
       "  (_page_embedding): PageEmbedding(\n",
       "    (_region_model): RegionEmbeddingSentenceTransformer(\n",
       "      (_transformer_model): SentenceTransformer(\n",
       "        (0): Transformer({'max_seq_length': 128, 'do_lower_case': False}) with Transformer model: RobertaModel \n",
       "        (1): Pooling({'word_embedding_dimension': 768, 'pooling_mode_cls_token': False, 'pooling_mode_mean_tokens': True, 'pooling_mode_max_tokens': False, 'pooling_mode_mean_sqrt_len_tokens': False, 'pooling_mode_weightedmean_tokens': False, 'pooling_mode_lasttoken': False})\n",
       "      )\n",
       "      (_region_type): Embedding(9, 16)\n",
       "      (_linear): Linear(in_features=784, out_features=512, bias=True)\n",
       "    )\n",
       "    (_rnn): LSTM(512, 256, num_layers=2, batch_first=True, dropout=0.1, bidirectional=True)\n",
       "    (_linear): Linear(in_features=512, out_features=256, bias=True)\n",
       "  )\n",
       "  (_rnn): LSTM(256, 256, num_layers=2, batch_first=True, dropout=0.1, bidirectional=True)\n",
       "  (_linear): Linear(in_features=512, out_features=4, bias=True)\n",
       "  (_softmax): Softmax(dim=1)\n",
       ")"
      ]
     },
     "execution_count": 16,
     "metadata": {},
     "output_type": "execute_result"
    }
   ],
   "source": [
    "tagger"
   ]
  },
  {
   "cell_type": "code",
   "execution_count": 22,
   "metadata": {},
   "outputs": [
    {
     "name": "stderr",
     "output_type": "stream",
     "text": [
      "Training: 100%|██████████| 94/94 [00:05<00:00, 18.10batch/s]\n"
     ]
    },
    {
     "name": "stdout",
     "output_type": "stream",
     "text": [
      "[Loss:\t0.243]\n"
     ]
    },
    {
     "name": "stderr",
     "output_type": "stream",
     "text": [
      "Training: 100%|██████████| 94/94 [00:05<00:00, 17.88batch/s]\n"
     ]
    },
    {
     "name": "stdout",
     "output_type": "stream",
     "text": [
      "[Loss:\t0.243]\n"
     ]
    },
    {
     "name": "stderr",
     "output_type": "stream",
     "text": [
      "Training: 100%|██████████| 94/94 [00:05<00:00, 18.02batch/s]\n"
     ]
    },
    {
     "name": "stdout",
     "output_type": "stream",
     "text": [
      "[Loss:\t0.243]\n"
     ]
    },
    {
     "name": "stderr",
     "output_type": "stream",
     "text": [
      "Training: 100%|██████████| 94/94 [00:05<00:00, 18.11batch/s]\n"
     ]
    },
    {
     "name": "stdout",
     "output_type": "stream",
     "text": [
      "[Loss:\t0.243]\n"
     ]
    },
    {
     "name": "stderr",
     "output_type": "stream",
     "text": [
      "Training: 100%|██████████| 94/94 [00:05<00:00, 17.89batch/s]\n"
     ]
    },
    {
     "name": "stdout",
     "output_type": "stream",
     "text": [
      "[Loss:\t0.243]\n"
     ]
    },
    {
     "name": "stderr",
     "output_type": "stream",
     "text": [
      "Training: 100%|██████████| 94/94 [00:05<00:00, 17.98batch/s]\n"
     ]
    },
    {
     "name": "stdout",
     "output_type": "stream",
     "text": [
      "[Loss:\t0.243]\n"
     ]
    },
    {
     "name": "stderr",
     "output_type": "stream",
     "text": [
      "Training: 100%|██████████| 94/94 [00:05<00:00, 18.23batch/s]\n"
     ]
    },
    {
     "name": "stdout",
     "output_type": "stream",
     "text": [
      "[Loss:\t0.243]\n"
     ]
    },
    {
     "name": "stderr",
     "output_type": "stream",
     "text": [
      "Training: 100%|██████████| 94/94 [00:05<00:00, 18.20batch/s]\n"
     ]
    },
    {
     "name": "stdout",
     "output_type": "stream",
     "text": [
      "[Loss:\t0.243]\n"
     ]
    },
    {
     "name": "stderr",
     "output_type": "stream",
     "text": [
      "Training: 100%|██████████| 94/94 [00:05<00:00, 18.34batch/s]\n"
     ]
    },
    {
     "name": "stdout",
     "output_type": "stream",
     "text": [
      "[Loss:\t0.243]\n"
     ]
    },
    {
     "name": "stderr",
     "output_type": "stream",
     "text": [
      "Training: 100%|██████████| 94/94 [00:05<00:00, 18.31batch/s]"
     ]
    },
    {
     "name": "stdout",
     "output_type": "stream",
     "text": [
      "[Loss:\t0.243]\n"
     ]
    },
    {
     "name": "stderr",
     "output_type": "stream",
     "text": [
      "\n"
     ]
    }
   ],
   "source": [
    "tagger.train_(training_data, EPOCHS, BATCH_SIZE, WEIGHTS)"
   ]
  },
  {
   "cell_type": "code",
   "execution_count": 23,
   "metadata": {},
   "outputs": [],
   "source": [
    "import torch\n",
    "\n",
    "with open(\"page_sequence_tagger.pt\", \"xb\") as f:\n",
    "    torch.save(tagger, f)"
   ]
  },
  {
   "cell_type": "markdown",
   "metadata": {},
   "source": [
    "# Evaluate Model"
   ]
  },
  {
   "cell_type": "code",
   "execution_count": 24,
   "metadata": {},
   "outputs": [
    {
     "name": "stdout",
     "output_type": "stream",
     "text": [
      "Predicted\tActual\tPage ID\tText\tScores\n"
     ]
    },
    {
     "name": "stderr",
     "output_type": "stream",
     "text": [
      "Evaluating:  18%|█▊        | 4/22 [00:00<00:00, 38.44batch/s]"
     ]
    },
    {
     "name": "stdout",
     "output_type": "stream",
     "text": [
      "OUT\tOUT\tNL-HaNA_1.04.02_1547_0097.jpg\t\t[0.00021971484238747507, 0.0001265001919819042, 9.484372753831849e-08, 0.9996535778045654]\n",
      "OUT\tOUT\tNL-HaNA_1.04.02_1547_0098.jpg\t\t[0.00043388621998019516, 0.0004980390076525509, 1.780613416713095e-07, 0.9990678429603577]\n",
      "BEGIN\tBEGIN\tNL-HaNA_1.04.02_1547_0099.jpg\tuwe; Hoog Edele agtb: gebiedende Heere en Heeren; \t[0.9530397057533264, 0.012777706608176231, 5.952011179033434e-06, 0.03417663648724556]\n",
      "IN\tIN\tNL-HaNA_1.04.02_1547_0100.jpg\theen mne  dn d n n lel een w en de e sou co  an d;\t[0.0020858743228018284, 0.9964151382446289, 0.0004819313180632889, 0.001016985042952001]\n",
      "IN\tIN\tNL-HaNA_1.04.02_1547_0101.jpg\tte Nambedle, den prince Cartadavile, en Moerianato\t[0.0010368991643190384, 0.9930505752563477, 0.005753073841333389, 0.00015941268065944314]\n",
      "IN\tIN\tNL-HaNA_1.04.02_1547_0102.jpg\twerden; war op de ehien anmandijn lae telkens tot \t[0.0007002142956480384, 0.9838862419128418, 0.015348009765148163, 6.552737613674253e-05]\n",
      "IN\tIN\tNL-HaNA_1.04.02_1547_0103.jpg\t41; Mallabaar soude konnen doen, waarop sijnEe zal\t[0.0007189724128693342, 0.9718911051750183, 0.027347810566425323, 4.2004430724773556e-05]\n",
      "IN\tIN\tNL-HaNA_1.04.02_1547_0104.jpg\top Cochim benrogener aalewinsten des heevd Cochim \t[0.0007439633482135832, 0.9576236605644226, 0.04159839078783989, 3.4026172215817496e-05]\n",
      "IN\tIN\tNL-HaNA_1.04.02_1547_0105.jpg\t42; moerlikeden raelde den presenten desolaaten to\t[0.0005052454653196037, 0.8420445919036865, 0.1574198603630066, 3.0364490157808177e-05]\n",
      "END\tEND\tNL-HaNA_1.04.02_1547_0106.jpg\tgemerktaan dienkant moogelijk meerder vertier van \t[1.4821134186604468e-07, 1.884796620288398e-05, 0.9999810457229614, 8.931360540032074e-09]\n",
      "OUT\tOUT\tNL-HaNA_1.04.02_1547_0638.jpg\t\t[3.0064195470913546e-06, 7.288783763215179e-06, 8.912753202139356e-09, 0.9999897480010986]\n",
      "OUT\tBEGIN\tNL-HaNA_1.04.02_1547_0639.jpg\t\t[2.736357146204682e-06, 1.3717388355871662e-05, 1.832289697745182e-08, 0.999983549118042]\n",
      "BEGIN\tIN\tNL-HaNA_1.04.02_1547_0640.jpg\tMemorie: en korte AanWijsinge der Genara; 5: Panan\t[0.9998170733451843, 6.332383782137185e-05, 1.3681214738880954e-07, 0.00011954925139434636]\n",
      "IN\tIN\tNL-HaNA_1.04.02_1547_0641.jpg\tLasten en Winsten tot Cochim, forten en Comptoiren\t[0.0001284161990042776, 0.9997480511665344, 4.604832429322414e-05, 7.747003837721422e-05]\n",
      "IN\tIN\tNL-HaNA_1.04.02_1547_0642.jpg\tDe Generale Ongelden; Tot Cochim Gelijk aande omme\t[5.130643330630846e-05, 0.9997556805610657, 0.00017016439232975245, 2.2940294002182782e-05]\n",
      "END\tEND\tNL-HaNA_1.04.02_1547_0643.jpg\ten en Winsten: tosfochim, Coilan, Cananoor, en De \t[1.0350058801122941e-06, 3.7198045902187005e-05, 0.9999616146087646, 6.050897383147458e-08]\n",
      "BEGIN\tBEGIN\tNL-HaNA_1.04.02_3577_0658.jpg\tTonoraaae Sima der Artnuuerg en; De Corre Corre Bo\t[0.9999864101409912, 8.797440386842936e-06, 1.0298479935499927e-07, 4.621014795702649e-06]\n",
      "END\tEND\tNL-HaNA_1.04.02_3577_0659.jpg\tAmmunitie Goederen, waar meede de Ondervolgende Co\t[4.811684902961133e-06, 4.4995475036557764e-05, 0.9999501705169678, 1.1357428064684427e-07]\n",
      "OUT\tOUT\tNL-HaNA_1.04.02_1547_0354.jpg\t\t[1.5351590263890103e-05, 3.03408014588058e-05, 2.6318456747276286e-08, 0.9999542236328125]\n",
      "BEGIN\tBEGIN\tNL-HaNA_1.04.02_1547_0355.jpg\tMinuit ola door den E Heer; Het de terugh komste v\t[0.9999287128448486, 3.201857543899678e-05, 1.0208805889533323e-07, 3.9181410102173686e-05]\n",
      "IN\tIN\tNL-HaNA_1.04.02_1547_0356.jpg\tals vooren door den Ragia; U Dola hebbe ontvangen \t[0.0001370305981254205, 0.9997639060020447, 6.248526187846437e-05, 3.655949331005104e-05]\n",
      "IN\tIN\tNL-HaNA_1.04.02_1547_0357.jpg\tis; tot andwoort op uh=rs olees aengaande d' voart\t[5.468701056088321e-05, 0.9998574256896973, 7.60094408178702e-05, 1.1764058399421629e-05]\n",
      "IN\tIN\tNL-HaNA_1.04.02_1547_0358.jpg\tweegens den handel in ons land en de van 't onser \t[4.8549347411608323e-05, 0.9997285008430481, 0.0002105648018186912, 1.2425070963217877e-05]\n",
      "END\tEND\tNL-HaNA_1.04.02_1547_0359.jpg\tUE=ts ola hebbe ontvangen, enden Jnhout verstaan, \t[1.002669478111784e-06, 3.542641206877306e-05, 0.9999635219573975, 4.7181455187228494e-08]\n",
      "BEGIN\tBEGIN\tNL-HaNA_1.04.02_1060_0435.jpg\tAlsoo het schip der Goes, als t'Jacht Cleijn Enckh\t[0.9999796152114868, 1.6020663679228164e-05, 7.63960912308903e-08, 4.271840680303285e-06]\n",
      "IN\tIN\tNL-HaNA_1.04.02_1060_0436.jpg\tOp heden den 5 feb. @ 1614, door beroep vanden E. \t[0.00026075835921801627, 0.9996448755264282, 7.196717342594638e-05, 2.236091131635476e-05]\n",
      "IN\tIN\tNL-HaNA_1.04.02_1060_0437.jpg\t@ 1615. Dondergeschreven te soonen; Soo Is bij d' \t[0.00010339508298784494, 0.999805748462677, 7.947484846226871e-05, 1.1499073480081279e-05]\n",
      "IN\tIN\tNL-HaNA_1.04.02_1060_0438.jpg\tDen 19 feb. . vernomen hebbende op de factorije to\t[9.549041715217754e-05, 0.9998134970664978, 7.968630234245211e-05, 1.1359980817360338e-05]\n",
      "IN\tIN\tNL-HaNA_1.04.02_1060_0439.jpg\tErt Dircx wttgevaren voor Soldaet, opt schip Banta\t[8.761915523791686e-05, 0.9998210072517395, 8.088013419182971e-05, 1.0436259799462277e-05]\n",
      "IN\tIN\tNL-HaNA_1.04.02_1060_0440.jpg\tComptoir deeart sullen gaen, omme door den opperco\t[8.747852552914992e-05, 0.9998236298561096, 7.880455086706206e-05, 1.0100294275616761e-05]\n",
      "IN\tIN\tNL-HaNA_1.04.02_1060_0441.jpg\tAl500. Anthonij Caen, getrout met Jannetien Gillis\t[8.84789988049306e-05, 0.9998210072517395, 8.042984700296074e-05, 1.0113434655067977e-05]\n",
      "IN\tIN\tNL-HaNA_1.04.02_1060_0442.jpg\tssouden mogen geraecken, &ne ten derden vermits al\t[8.725556108402088e-05, 0.9998236298561096, 7.896975876064971e-05, 1.0160561032535043e-05]\n",
      "IN\tIN\tNL-HaNA_1.04.02_1060_0443.jpg\tAlsoo tot noch toe geen schepen wt het vaderlant, \t[8.470073953503743e-05, 0.9998250603675842, 8.017141226446256e-05, 1.0157339602301363e-05]\n",
      "IN\tIN\tNL-HaNA_1.04.02_1060_0444.jpg\tNaerder gelet sijnde, volgens apostile door d Ed. \t[7.965014083310962e-05, 0.9998335838317871, 7.711229409324005e-05, 9.624224730941933e-06]\n",
      "IN\tIN\tNL-HaNA_1.04.02_1060_0445.jpg\t@ 1615; E; Den 14e. septemb. d'onderges raden, opt\t[6.897658022353426e-05, 0.9998509883880615, 7.128513971110806e-05, 8.755266208027024e-06]\n",
      "IN\tIN\tNL-HaNA_1.04.02_1060_0446.jpg\tge; Alsoo 'T schip Esterre, tot zijnne te doene vo\t[5.807892375742085e-05, 0.999859094619751, 7.454786100424826e-05, 8.258965863205958e-06]\n",
      "IN\tIN\tNL-HaNA_1.04.02_1060_0447.jpg\tMaendach den xiiije Decemb. @ 1615 &; Alsoo bij de\t[5.029290332458913e-05, 0.9997686743736267, 0.00016997067723423243, 1.103263821278233e-05]\n",
      "END\tEND\tNL-HaNA_1.04.02_1060_0448.jpg\tSivert Sipkens sargeant die de voors compe. tot nu\t[1.2359848824416986e-06, 4.337209975346923e-05, 0.999955415725708, 5.274604575333797e-08]\n",
      "BEGIN\tBEGIN\tNL-HaNA_1.04.02_1088_0511.jpg\tNaer dat den 8en. septembr 1625, het fergatt Surat\t[0.9995830655097961, 0.00034592958400025964, 1.9955939478677465e-07, 7.07570361555554e-05]\n",
      "IN\tIN\tNL-HaNA_1.04.02_1088_0512.jpg\tdie van Lohoe waren hem gevolcht, tot op lebeleeuw\t[0.0022750231437385082, 0.9933473467826843, 0.004259032662957907, 0.00011853045725729316]\n",
      "IN\tIN\tNL-HaNA_1.04.02_1088_0513.jpg\twederom afgesonden, naar Bouro, om te vernemen, wa\t[0.0009748960728757083, 0.9817205667495728, 0.017248766496777534, 5.568041524384171e-05]\n",
      "IN\tIN\tNL-HaNA_1.04.02_1088_0514.jpg\tende ten deele onwillich, soo dat met schoon spree\t[0.0007969856960698962, 0.9742072224617004, 0.024950655177235603, 4.519621506915428e-05]\n",
      "IN\tIN\tNL-HaNA_1.04.02_1088_0515.jpg\tons voor antwoort, dat wel waar was, dat sijn Vade\t[0.0007801015162840486, 0.9709984660148621, 0.028180591762065887, 4.087538763997145e-05]\n",
      "IN\tIN\tNL-HaNA_1.04.02_1088_0516.jpg\tnoch al wel toeginck, ende mijn hier van noch vrij\t[0.0007951298612169921, 0.9683382511138916, 0.030826808884739876, 3.98391748603899e-05]\n",
      "IN\tIN\tNL-HaNA_1.04.02_1088_0517.jpg\tblijcken wat parthij hij hielt van dese uijr affso\t[0.000719997042324394, 0.9678726196289062, 0.03136549890041351, 4.188288585282862e-05]\n",
      "IN\tIN\tNL-HaNA_1.04.02_1088_0518.jpg\tdus lange was gedaen, hebben den raet dit in Beden\t[0.0006825283635407686, 0.9668770432472229, 0.032394833862781525, 4.554319821181707e-05]\n",
      "IN\tIN\tNL-HaNA_1.04.02_1088_0519.jpg\tte mogen werden, met cruijt ende Loot, ende soo he\t[0.0006686239503324032, 0.9636449217796326, 0.03563523665070534, 5.120045898365788e-05]\n",
      "IN\tIN\tNL-HaNA_1.04.02_1088_0520.jpg\tDen 9=en d=o smorgens, quamen voor Oerien, ofte no\t[0.0006095034186728299, 0.9597271084785461, 0.03960246592760086, 6.099836900830269e-05]\n",
      "IN\tIN\tNL-HaNA_1.04.02_1088_0521.jpg\tmede die van Cabau, den Sergeant aldaer op Hatuha \t[0.0006196971517056227, 0.95331209897995, 0.045998282730579376, 6.986928929109126e-05]\n",
      "IN\tIN\tNL-HaNA_1.04.02_1088_0522.jpg\tSijn voorts doorgepangaijt naer Oma, de corcoiren \t[0.0007293808739632368, 0.9302100539207458, 0.06896792352199554, 9.273771138396114e-05]\n",
      "IN\tIN\tNL-HaNA_1.04.02_1088_0523.jpg\t\t[0.0009600327466614544, 0.8715865015983582, 0.12727852165699005, 0.000174970569787547]\n",
      "IN\tIN\tNL-HaNA_1.04.02_1088_0524.jpg\t\t[0.0009181840578094125, 0.8786017298698425, 0.12029445916414261, 0.00018570768588688225]\n",
      "IN\tIN\tNL-HaNA_1.04.02_1088_0525.jpg\t\t[0.0007430908153764904, 0.9057134985923767, 0.09335727989673615, 0.00018616562010720372]\n",
      "IN\tIN\tNL-HaNA_1.04.02_1088_0526.jpg\t\t[0.0006967292865738273, 0.921772301197052, 0.07734494656324387, 0.00018603037460707128]\n",
      "IN\tIN\tNL-HaNA_1.04.02_1088_0527.jpg\t\t[0.000735786568839103, 0.9278742671012878, 0.07120543718338013, 0.00018449178605806082]\n",
      "IN\tIN\tNL-HaNA_1.04.02_1088_0528.jpg\t\t[0.000775560038164258, 0.9322764873504639, 0.06677095592021942, 0.0001770499802660197]\n",
      "IN\tIN\tNL-HaNA_1.04.02_1088_0529.jpg\t\t[0.0007944226963445544, 0.9407703280448914, 0.058280039578676224, 0.00015525445633102208]\n",
      "IN\tIN\tNL-HaNA_1.04.02_1088_0530.jpg\t\t[0.0008189701475203037, 0.9431955814361572, 0.05586306005716324, 0.00012232366134412587]\n",
      "IN\tIN\tNL-HaNA_1.04.02_1088_0531.jpg\t\t[0.0008862254908308387, 0.9496064782142639, 0.049429748207330704, 7.751672092126682e-05]\n",
      "IN\tIN\tNL-HaNA_1.04.02_1088_0532.jpg\tin Ambonia tsedert 8 septemb.; Daghregister vant g\t[0.0010095551842823625, 0.9496651887893677, 0.0492800734937191, 4.5144781324779615e-05]\n",
      "IN\tIN\tNL-HaNA_1.04.02_1088_0533.jpg\t\t[0.0009313906775787473, 0.9525988101959229, 0.046412330120801926, 5.745049929828383e-05]\n",
      "IN\tIN\tNL-HaNA_1.04.02_1088_0534.jpg\tCopien van resolutien tsedert; 21 Julij 1628. tet \t[0.0010460431221872568, 0.966442883014679, 0.032477471977472305, 3.368755278643221e-05]\n",
      "IN\tIN\tNL-HaNA_1.04.02_1088_0535.jpg\tberockt ons alsoo weder werck, geeft ons de handen\t[0.000964590348303318, 0.9655242562294006, 0.033478520810604095, 3.255535921198316e-05]\n",
      "IN\tIN\tNL-HaNA_1.04.02_1088_0536.jpg\tgewacht, dat sulcx de ongelegentheijt van tijt, en\t[0.0009533172706142068, 0.9650889039039612, 0.0339256152510643, 3.213112722733058e-05]\n",
      "IN\tIN\tNL-HaNA_1.04.02_1088_0537.jpg\tDen 22.en s=o vertrocken van lato ende Holoij, end\t[0.0009688238496892154, 0.9642515778541565, 0.034747470170259476, 3.2046998967416584e-05]\n",
      "IN\tIN\tNL-HaNA_1.04.02_1088_0538.jpg\tdit geweest sijn, hebben nu inder daatr bevonden, \t[0.0010690175695344806, 0.9608753323554993, 0.038023341447114944, 3.225485124858096e-05]\n",
      "IN\tIN\tNL-HaNA_1.04.02_1088_0539.jpg\tende gewillich aengenomen, hadden mede al begonnen\t[0.0014386891853064299, 0.9484050869941711, 0.05012248456478119, 3.367327371961437e-05]\n",
      "IN\tIN\tNL-HaNA_1.04.02_1088_0540.jpg\tDen 6. H=o Ist fargatt Suratte, Wederom op Amboijn\t[0.0016393600963056087, 0.9364827871322632, 0.06184376776218414, 3.4130298445234075e-05]\n",
      "IN\tIN\tNL-HaNA_1.04.02_1088_0541.jpg\tOuer het Verlies van Rommite, hadden ouer Hittoe, \t[0.001720364554785192, 0.9320310950279236, 0.06621433049440384, 3.427622141316533e-05]\n",
      "IN\tIN\tNL-HaNA_1.04.02_1088_0542.jpg\twaren, het selue achter nelis hoeck te brengen, om\t[0.0017351607093587518, 0.9315541386604309, 0.06667663902044296, 3.413618469494395e-05]\n",
      "IN\tIN\tNL-HaNA_1.04.02_1088_0543.jpg\t244; voorganis, datmen ons niet en mocht vertrouwe\t[0.0017880763625726104, 0.9317532181739807, 0.06642445176839828, 3.421379005885683e-05]\n",
      "IN\tIN\tNL-HaNA_1.04.02_1088_0544.jpg\tvrouw, den man niet mede toebehoorde, niet meer an\t[0.0017361590871587396, 0.9309712648391724, 0.06725864112377167, 3.3934058592421934e-05]\n",
      "IN\tIN\tNL-HaNA_1.04.02_1088_0545.jpg\tsoete middelen te werck gaen, hoewel daar mede nie\t[0.0017829776043072343, 0.9313305616378784, 0.06685251742601395, 3.397679029149003e-05]\n",
      "IN\tIN\tNL-HaNA_1.04.02_1088_0546.jpg\tsoude mogen bewaert leggen, maer alst nu alsoo bes\t[0.0017271623946726322, 0.9299278855323792, 0.06831129640340805, 3.372686842340045e-05]\n",
      "IN\tIN\tNL-HaNA_1.04.02_1088_0547.jpg\tsij seijden dat op Hattamana, den Jongen Coninck, \t[0.00172028923407197, 0.9298657178878784, 0.06838047504425049, 3.351687337271869e-05]\n",
      "IN\tIN\tNL-HaNA_1.04.02_1088_0548.jpg\tuijt de quartieren van hittoe, dit heele Mosson, m\t[0.0017143599689006805, 0.9303945899009705, 0.06785771995782852, 3.3232277928618714e-05]\n",
      "IN\tIN\tNL-HaNA_1.04.02_1088_0549.jpg\tdaer van wachten soude, hebben de gevangenen ontsl\t[0.0017602185253053904, 0.9307091236114502, 0.06749750673770905, 3.3194974093930796e-05]\n",
      "IN\tIN\tNL-HaNA_1.04.02_1088_0550.jpg\thebben geconsenteert, haer best te doen, ende reve\t[0.0017051991308107972, 0.9292258024215698, 0.06903612613677979, 3.287296203779988e-05]\n",
      "IN\tIN\tNL-HaNA_1.04.02_1088_0551.jpg\tselffs dootlijck gewont, waar op die van Cambello \t[0.0016972182784229517, 0.9298629760742188, 0.06840718537569046, 3.256249692640267e-05]\n",
      "IN\tIN\tNL-HaNA_1.04.02_1088_0552.jpg\tspoedich affhandelen, ende ons laeten weeten, waer\t[0.0017407314153388143, 0.9302340745925903, 0.06799262762069702, 3.255524643464014e-05]\n",
      "IN\tIN\tNL-HaNA_1.04.02_1088_0553.jpg\tpattij naij, met haer souden afsenden, om den Coni\t[0.0016825506463646889, 0.928830087184906, 0.06945513188838959, 3.227526758564636e-05]\n",
      "IN\tIN\tNL-HaNA_1.04.02_1088_0554.jpg\tbegeerden alleen te verstaen, wat antwoort den kim\t[0.0016714936355128884, 0.9288561940193176, 0.06944025307893753, 3.208115231245756e-05]\n",
      "IN\tIN\tNL-HaNA_1.04.02_1088_0555.jpg\tsij hadden geseijt voor ons bevreest te weesen, en\t[0.0016605998389422894, 0.9288780093193054, 0.06942950189113617, 3.1894414860289544e-05]\n",
      "IN\tIN\tNL-HaNA_1.04.02_1088_0556.jpg\tTarnataensen aenhanck, vande custe van Ceram: niet\t[0.001647091587074101, 0.9296489357948303, 0.06867239624261856, 3.16371260851156e-05]\n",
      "IN\tIN\tNL-HaNA_1.04.02_1088_0557.jpg\top houden, conde niet bedencken wat Excusien sij d\t[0.0016788289649412036, 0.9302847981452942, 0.06800471991300583, 3.160802589263767e-05]\n",
      "IN\tIN\tNL-HaNA_1.04.02_1088_0558.jpg\tvereenichde Nederlanden, maer deselue hebben haren\t[0.0016030725091695786, 0.929110586643219, 0.06925512850284576, 3.120942346868105e-05]\n",
      "IN\tIN\tNL-HaNA_1.04.02_1088_0559.jpg\tte werden, het welck wij hebben naergecommen, ende\t[0.0015707237180322409, 0.9293092489242554, 0.06908926367759705, 3.085265416302718e-05]\n",
      "IN\tIN\tNL-HaNA_1.04.02_1088_0560.jpg\ttraecheijt des Conincx van Saulauw, niet en soude \t[0.001531022833660245, 0.9294883012771606, 0.06895013153553009, 3.0418363166972995e-05]\n",
      "IN\tIN\tNL-HaNA_1.04.02_1088_0561.jpg\top dat alsoo de oude vruntschap, mocht vernieuwt w\t[0.0014806402614340186, 0.929759681224823, 0.06872975826263428, 2.9871696824557148e-05]\n",
      "IN\tIN\tNL-HaNA_1.04.02_1088_0562.jpg\tarmoede die zijn bolck leet, doch ten laetsten hei\t[0.0014190134825184941, 0.9301075339317322, 0.06844434887170792, 2.9197457479313016e-05]\n",
      "IN\tIN\tNL-HaNA_1.04.02_1088_0563.jpg\tte assisteeren.; Capn. Hittoe quam ons mede besoec\t[0.001347350887954235, 0.9304856061935425, 0.06813859939575195, 2.8397966161719523e-05]\n",
      "IN\tIN\tNL-HaNA_1.04.02_1088_0564.jpg\tHebben den gesant Noffa Maniera, bij ons ontbooden\t[0.0012689090799540281, 0.9308357238769531, 0.06786782294511795, 2.7493202651385218e-05]\n",
      "IN\tIN\tNL-HaNA_1.04.02_1088_0565.jpg\tgoetgevoelen vandese saack; Wij Eijschten vanden g\t[0.0011870088055729866, 0.9310416579246521, 0.06774479150772095, 2.6512039767112583e-05]\n",
      "IN\tIN\tNL-HaNA_1.04.02_1088_0566.jpg\tDit staat ons vreemt aen, connes oock niet geloove\t[0.001103401300497353, 0.9308694005012512, 0.06800168007612228, 2.5472270863247104e-05]\n",
      "IN\tIN\tNL-HaNA_1.04.02_1088_0567.jpg\tworden, met veel meer schoone woorden daar noch bi\t[0.0010128198191523552, 0.9298480153083801, 0.06911486387252808, 2.431406028335914e-05]\n",
      "IN\tIN\tNL-HaNA_1.04.02_1088_0568.jpg\tnaar Hittoe, aenden ondercoopman vant Nederlants C\t[0.0008872530306689441, 0.9224684238433838, 0.07662142068147659, 2.2876216462464072e-05]\n",
      "IN\tIN\tNL-HaNA_1.04.02_1088_0569.jpg\tdat denselven soude doen translateren, op dat aen \t[0.0006120571633800864, 0.8074249029159546, 0.19194109737873077, 2.1933505195192993e-05]\n",
      "END\tEND\tNL-HaNA_1.04.02_1088_0570.jpg\tende geen meer en haddent, schreeff Helenij aen on\t[2.53322042453874e-07, 2.6343837816966698e-05, 0.9999734163284302, 1.0549901396927908e-08]\n"
     ]
    },
    {
     "name": "stderr",
     "output_type": "stream",
     "text": [
      "Evaluating:  36%|███▋      | 8/22 [00:00<00:00, 22.70batch/s]"
     ]
    },
    {
     "name": "stdout",
     "output_type": "stream",
     "text": [
      "BEGIN\tBEGIN\tNL-HaNA_1.04.02_1490_0583.jpg\tCopije Secrete Resolutien; genomen bij de Ho: Rege\t[0.9998180270195007, 0.0001491154107498005, 9.984536575302627e-08, 3.276505594840273e-05]\n",
      "IN\tIN\tNL-HaNA_1.04.02_1490_0584.jpg\tin presentie; van zijn Ed. t te; volbrengen, soo s\t[0.004640901926904917, 0.9898576736450195, 0.005366253666579723, 0.00013527320697903633]\n",
      "IN\tIN\tNL-HaNA_1.04.02_1490_0585.jpg\tdat 's Comp. s dienaren en wel voorna„; mentlijk p\t[0.001961312023922801, 0.9759576916694641, 0.022016899660229683, 6.41572114545852e-05]\n",
      "IN\tIN\tNL-HaNA_1.04.02_1490_0586.jpg\tbij ons te boeck staen voor niet wel; geintentione\t[0.001705485163256526, 0.9658207297325134, 0.03242245316505432, 5.1397470087977126e-05]\n",
      "IN\tIN\tNL-HaNA_1.04.02_1490_0587.jpg\tgoetgevonden dat dese ontbiedinge; bij ons gemeen \t[0.00170176534447819, 0.9612826704978943, 0.03696996718645096, 4.563002585200593e-05]\n",
      "IN\tIN\tNL-HaNA_1.04.02_1490_0588.jpg\tschaap harder herwaerts aen te doen; overkomen, ge\t[0.0017693917034193873, 0.9599291682243347, 0.03825916722416878, 4.2266834498150274e-05]\n",
      "IN\tIN\tNL-HaNA_1.04.02_1490_0589.jpg\tmilitie daer in te houden in goede; ordre soo is v\t[0.001775640295818448, 0.9574072360992432, 0.04077627509832382, 4.0803617594065145e-05]\n",
      "IN\tIN\tNL-HaNA_1.04.02_1490_0590.jpg\tdertig of veertigh persoonen ten; hoogsten; genome\t[0.0017124746227636933, 0.9550493359565735, 0.043198369443416595, 3.983466376666911e-05]\n",
      "IN\tIN\tNL-HaNA_1.04.02_1490_0591.jpg\twillem van outhoorn, wouter; valkenier, abraham va\t[0.001784631866030395, 0.9552024602890015, 0.042973633855581284, 3.924847987946123e-05]\n",
      "IN\tIN\tNL-HaNA_1.04.02_1490_0592.jpg\tsijner goet staende maentgelden; en verdere annexe\t[0.001761241932399571, 0.9538857936859131, 0.04431430622935295, 3.866983388434164e-05]\n",
      "IN\tIN\tNL-HaNA_1.04.02_1490_0593.jpg\tmaer sijne valsche betigters; en aenklagers tumput\t[0.0017544993897899985, 0.9527626037597656, 0.045444611459970474, 3.824427767540328e-05]\n",
      "IN\tIN\tNL-HaNA_1.04.02_1490_0594.jpg\taen uwe Edelhedens, niet; demoedig versoeck, dat u\t[0.0017464121337980032, 0.951568067073822, 0.04664771258831024, 3.7878886359976605e-05]\n",
      "IN\tIN\tNL-HaNA_1.04.02_1490_0595.jpg\tacte van herstellinge en verdere; ten desen dienen\t[0.001733597251586616, 0.9499022960662842, 0.048326533287763596, 3.764899884117767e-05]\n",
      "IN\tIN\tNL-HaNA_1.04.02_1490_0596.jpg\ten omme de france vijanden, soo der; eenige quamen\t[0.0016525093233212829, 0.9473671913146973, 0.05094275251030922, 3.748673043446615e-05]\n",
      "IN\tIN\tNL-HaNA_1.04.02_1490_0597.jpg\tde ridderschap voerende 60. stucken ges:t; waterla\t[0.001652657170780003, 0.9462285041809082, 0.052081651985645294, 3.7216359487501904e-05]\n",
      "IN\tIN\tNL-HaNA_1.04.02_1490_0598.jpg\tstierlijk pennisten, kranckbesoekers; en chirurgij\t[0.001654820516705513, 0.9451572299003601, 0.05315099656581879, 3.6985918995924294e-05]\n",
      "IN\tIN\tNL-HaNA_1.04.02_1490_0599.jpg\tvan hier nevens „200.; en uijt 170. Comp:s lijfeij\t[0.0016569382278248668, 0.9442152976989746, 0.05409090593457222, 3.676698179333471e-05]\n",
      "IN\tIN\tNL-HaNA_1.04.02_1490_0600.jpg\tsterck 1662. Coppen, daer onder; gerekent, de oude\t[0.0016588272992521524, 0.943368136882782, 0.05493645370006561, 3.6556044506141916e-05]\n",
      "IN\tIN\tNL-HaNA_1.04.02_1490_0601.jpg\tbleven met 70. â 80. jnlanders, als; mede ongevaer\t[0.001660368638113141, 0.9425973296165466, 0.05570588633418083, 3.635214306996204e-05]\n",
      "IN\tIN\tNL-HaNA_1.04.02_1490_0602.jpg\tsodanig quame te vereijsschen, ende; sonder dat ie\t[0.0016616000793874264, 0.9418931603431702, 0.05640903115272522, 3.6153669498162344e-05]\n",
      "IN\tIN\tNL-HaNA_1.04.02_1490_0603.jpg\tveranderinge ofte bijvoeginge diende; te geschiede\t[0.0016621635295450687, 0.9412426948547363, 0.05705926939845085, 3.59609148290474e-05]\n",
      "IN\tIN\tNL-HaNA_1.04.02_1490_0604.jpg\tdiscoureren en te verklaren hoe; dat hij bij sig s\t[0.0016625062562525272, 0.9406415820121765, 0.057660169899463654, 3.576989547582343e-05]\n",
      "IN\tIN\tNL-HaNA_1.04.02_1490_0605.jpg\tquamen overvallen en aentasten:; soo meende sijn E\t[0.0016620928654447198, 0.9400749802589417, 0.05822721868753433, 3.558134631020948e-05]\n",
      "IN\tIN\tNL-HaNA_1.04.02_1490_0606.jpg\tdeselve niet ten proije mogten werden,; wanneer on\t[0.0016617197543382645, 0.9395431876182556, 0.05875968933105469, 3.538945020409301e-05]\n",
      "IN\tIN\tNL-HaNA_1.04.02_1490_0607.jpg\tvan meerdere versekeringe mogten; oordelen behoord\t[0.0016607082216069102, 0.9390285611152649, 0.059275612235069275, 3.5195265809306875e-05]\n",
      "IN\tIN\tNL-HaNA_1.04.02_1490_0608.jpg\tvanden Command:r Sijmon vander; stel, en raed aend\t[0.001659916713833809, 0.9385340809822083, 0.05977105349302292, 3.49916736013256e-05]\n",
      "IN\tIN\tNL-HaNA_1.04.02_1490_0609.jpg\talthans te deser rhede leggende; zeemagt wel van e\t[0.001659658388234675, 0.9381038546562195, 0.06020175293087959, 3.4770233469316736e-05]\n",
      "IN\tIN\tNL-HaNA_1.04.02_1490_0610.jpg\tvan het verleden Iaer, als wanneer; volgens het sp\t[0.0016595515189692378, 0.938616156578064, 0.059689782559871674, 3.4440596209606156e-05]\n",
      "IN\tIN\tNL-HaNA_1.04.02_1490_0611.jpg\twas, onaengesien het goet succes; der negotie veel\t[0.0017084693536162376, 0.9407451152801514, 0.05751238763332367, 3.413435842958279e-05]\n",
      "IN\tIN\tNL-HaNA_1.04.02_1490_0612.jpg\twas getekent; als vooren.; willem van Outhoorn,; w\t[0.0017188021447509527, 0.9391635656356812, 0.059083350002765656, 3.421145083848387e-05]\n",
      "IN\tIN\tNL-HaNA_1.04.02_1490_0613.jpg\tdat over de saken van Japan aen; dese tafel wierde\t[0.0016070895362645388, 0.937538206577301, 0.06082072854042053, 3.393627775949426e-05]\n",
      "IN\tIN\tNL-HaNA_1.04.02_1490_0614.jpg\ttot uijtvindinge van een expedient,; waer door de \t[0.0015951328678056598, 0.9372484683990479, 0.06112263724207878, 3.369585465406999e-05]\n",
      "IN\tIN\tNL-HaNA_1.04.02_1490_0615.jpg\ten ons buijten postuer te brengen,; om de dierbare\t[0.0015840360429137945, 0.9368592500686646, 0.061523206532001495, 3.346423909533769e-05]\n",
      "IN\tIN\tNL-HaNA_1.04.02_1490_0616.jpg\ta:o 1684. wierde geordonneert in; haere herwaerts \t[0.0015717751812189817, 0.9365265369415283, 0.06186848506331444, 3.32029776473064e-05]\n",
      "IN\tIN\tNL-HaNA_1.04.02_1490_0617.jpg\trijkelijk te konnen versorgen,; mitsgaders het mis\t[0.0015582889318466187, 0.9362521767616272, 0.062156639993190765, 3.289965388830751e-05]\n",
      "IN\tIN\tNL-HaNA_1.04.02_1490_0618.jpg\tgepractiseert geworden is, sullen; moeten doen hou\t[0.001542580546811223, 0.9368051886558533, 0.06161976233124733, 3.2470816222485155e-05]\n",
      "IN\tIN\tNL-HaNA_1.04.02_1490_0619.jpg\tover te steeken, agtervolgens; sodanige Zeijlaes o\t[0.0015663037775084376, 0.9381607174873352, 0.06024088338017464, 3.207719055353664e-05]\n",
      "IN\tIN\tNL-HaNA_1.04.02_1490_0620.jpg\tgecarteert legt, maer dat oock de; stronien inde m\t[0.0014432042371481657, 0.9365196824073792, 0.062005672603845596, 3.1518778996542096e-05]\n",
      "IN\tIN\tNL-HaNA_1.04.02_1490_0621.jpg\tde stranen sig veeltijts daer na; reguleeren van g\t[0.0014096819795668125, 0.9362978339195251, 0.06226146221160889, 3.1036684958962724e-05]\n",
      "IN\tIN\tNL-HaNA_1.04.02_1490_0622.jpg\teen weg is, nu wel eenige jaren; van japan na bata\t[0.0013753814855590463, 0.9359617829322815, 0.0626322403550148, 3.052977626794018e-05]\n",
      "IN\tIN\tNL-HaNA_1.04.02_1490_0623.jpg\tten zuijden om beoosten de eijlanden; van natuna o\t[0.001338563160970807, 0.9356347322463989, 0.06299670785665512, 2.9963537599542178e-05]\n",
      "IN\tIN\tNL-HaNA_1.04.02_1490_0624.jpg\tnog een droogte genaemt kleijn; enckhuijser sant, \t[0.0012982068583369255, 0.9360694885253906, 0.06260305643081665, 2.92546483251499e-05]\n",
      "IN\tIN\tNL-HaNA_1.04.02_1490_0625.jpg\tlange jaren niet voorgevallen is; dat dese coursen\t[0.0012864434393122792, 0.9370991587638855, 0.06158597394824028, 2.8528871553135104e-05]\n",
      "IN\tIN\tNL-HaNA_1.04.02_1490_0626.jpg\tvan siam en Toncquin herwaerts; sullen komen, als \t[0.0011376530164852738, 0.9350609183311462, 0.06377416104078293, 2.7336251150700264e-05]\n",
      "IN\tIN\tNL-HaNA_1.04.02_1490_0627.jpg\tvan een hogre prijse als ordinair; te nootsaeken, \t[0.0010881321504712105, 0.9349515438079834, 0.0639338493347168, 2.643363222887274e-05]\n",
      "IN\tIN\tNL-HaNA_1.04.02_1490_0628.jpg\tals voren. was getekent. . ..; . . . . - Willem va\t[0.001061120186932385, 0.9347192645072937, 0.06419423222541809, 2.5460580218350515e-05]\n",
      "IN\tIN\tNL-HaNA_1.04.02_1490_0629.jpg\tin eenig emploij van onsien kan; werden gebruijckt\t[0.0008705345680937171, 0.9266798496246338, 0.07242603600025177, 2.3661368686589412e-05]\n",
      "IN\tIN\tNL-HaNA_1.04.02_1490_0630.jpg\tvoorde schipper aende Tafel en in het; gebet, eeni\t[0.0006188069237396121, 0.8348742723464966, 0.16448424756526947, 2.273058817081619e-05]\n",
      "END\tEND\tNL-HaNA_1.04.02_1490_0631.jpg\tBo0; Secrets.; wee; De bovenstaende secrete resolu\t[3.267103636517277e-07, 3.115592699032277e-05, 0.9999685287475586, 1.2596545140297621e-08]\n",
      "BEGIN\tBEGIN\tNL-HaNA_1.04.02_8260_0061.jpg\tS morgens te agt uuren nog geen bevoeging in het B\t[0.9999632835388184, 3.068535079364665e-05, 7.642777433147785e-08, 5.908168532187119e-06]\n",
      "IN\tIN\tNL-HaNA_1.04.02_8260_0062.jpg\tinsgelijks een bentings op te werepan, waarop ik h\t[0.00032055386691354215, 0.9995724558830261, 8.179016003850847e-05, 2.5093355361605063e-05]\n",
      "IN\tIN\tNL-HaNA_1.04.02_8260_0063.jpg\tgeschied zynde, goa zig 's morgens te negen uuren \t[0.00010526429832680151, 0.9998031258583069, 8.002039248822257e-05, 1.1587871995288879e-05]\n",
      "IN\tIN\tNL-HaNA_1.04.02_8260_0064.jpg\tverlies van onsekant Heer op mij wederom met den p\t[9.013377712108195e-05, 0.9998189806938171, 8.061760308919474e-05, 1.0200007636740338e-05]\n",
      "IN\tIN\tNL-HaNA_1.04.02_8260_0065.jpg\tIk gaf dierhalven den provisconelen vandrig sor sc\t[8.87330825207755e-05, 0.99982088804245, 8.0354162491858e-05, 9.962413969333284e-06]\n",
      "IN\tIN\tNL-HaNA_1.04.02_8260_0066.jpg\tvan goa lag, zullende zyn volk zuyd wertwaarts vuu\t[8.651397365611047e-05, 0.999824583530426, 7.884679507697001e-05, 1.0093352102558129e-05]\n",
      "IN\tIN\tNL-HaNA_1.04.02_8260_0067.jpg\tpligt gadesloeg, ende ordres stijtelijk op gevolgd\t[9.743450209498405e-05, 0.999813973903656, 7.76919987401925e-05, 1.0999853657267522e-05]\n",
      "IN\tIN\tNL-HaNA_1.04.02_8260_0068.jpg\teyndelijk de banting ook verlaten waar door wij da\t[8.589350909460336e-05, 0.9998290538787842, 7.466095121344551e-05, 1.0381312677054666e-05]\n",
      "IN\tIN\tNL-HaNA_1.04.02_8260_0069.jpg\tvagd: den 31 octob 1757; Zatuad„ 1 Nov: 1777; Maan\t[6.211149593582377e-05, 0.9998525381088257, 7.625083526363596e-05, 9.097115253098309e-06]\n",
      "IN\tIN\tNL-HaNA_1.04.02_8260_0070.jpg\thadden met vorsheid en onder de bedreiging gevraag\t[6.592904537683353e-05, 0.99985671043396, 6.827936158515513e-05, 9.10047583602136e-06]\n",
      "IN\tIN\tNL-HaNA_1.04.02_8260_0071.jpg\tDe Heere gouverneur goedgevonden hebbende den post\t[5.4209722293308005e-05, 0.9998729228973389, 6.521901377709582e-05, 7.570817160740262e-06]\n",
      "IN\tIN\tNL-HaNA_1.04.02_8260_0072.jpg\tneur addaes seeren moest; vryd. den 21 Noo 1oor De\t[5.011974280932918e-05, 0.9998759031295776, 6.645969551755115e-05, 7.50447634345619e-06]\n",
      "IN\tIN\tNL-HaNA_1.04.02_8260_0073.jpg\tden ged den 2: Aor 1757; rijst navens een Jnlandse\t[5.559208511840552e-05, 0.9998593330383301, 7.642462151125073e-05, 8.602534762758296e-06]\n",
      "IN\tIN\tNL-HaNA_1.04.02_8260_0074.jpg\teenige maanden neets anders te hebben gedaan als k\t[5.5122505727922544e-05, 0.9997612833976746, 0.00017304760694969445, 1.0575529813650064e-05]\n",
      "END\tEND\tNL-HaNA_1.04.02_8260_0075.jpg\tAan den Lieutenant militair Alexander LeCerf; Comm\t[1.1376901056792121e-06, 3.823598672170192e-05, 0.9999605417251587, 4.572219580722958e-08]\n",
      "BEGIN\tBEGIN\tNL-HaNA_1.04.02_1108_0653.jpg\td' E. d: heeren Bewindehebberen; mpult. febr. 1633\t[0.9999788999557495, 1.6157981008291245e-05, 7.454893591329892e-08, 4.763052857015282e-06]\n",
      "IN\tIN\tNL-HaNA_1.04.02_1108_0654.jpg\tsyn gecompareert, die terstont liet vast binden, e\t[0.00027347696595825255, 0.9996283054351807, 7.402487972285599e-05, 2.4149880118784495e-05]\n",
      "IN\tIN\tNL-HaNA_1.04.02_1108_0655.jpg\t3a di dito smorgens sagen seecker vaertuyg onder't\t[0.0001147342991316691, 0.9997919201850891, 8.043364505283535e-05, 1.2830082596337888e-05]\n",
      "IN\tIN\tNL-HaNA_1.04.02_1108_0656.jpg\tvoor de Manipo, vandewelcke voor desen geschreven \t[8.712275302968919e-05, 0.9998214840888977, 8.118186087813228e-05, 1.022311334963888e-05]\n",
      "IN\tIN\tNL-HaNA_1.04.02_1108_0657.jpg\ttegenwoordigh inde Negrij geen nagelen waren: dien\t[9.454539394937456e-05, 0.9998155236244202, 7.86957680247724e-05, 1.1200309927517083e-05]\n",
      "IN\tIN\tNL-HaNA_1.04.02_1108_0658.jpg\tdie haer aenhouden, te straffen, so veel als in on\t[8.550270285923034e-05, 0.9998244643211365, 7.996206113602966e-05, 1.0086096153827384e-05]\n",
      "IN\tIN\tNL-HaNA_1.04.02_1108_0659.jpg\t2 a 3 Portugeesche 23 haar nagelen hadden, doch de\t[9.667465928941965e-05, 0.9998136162757874, 7.848575478419662e-05, 1.1261070540058427e-05]\n",
      "IN\tIN\tNL-HaNA_1.04.02_1108_0660.jpg\tTerstont soud d' H. r Gouvr beyde sloupen, d'een a\t[8.685797365615144e-05, 0.9998227953910828, 8.03805305622518e-05, 1.0049419870483689e-05]\n",
      "IN\tIN\tNL-HaNA_1.04.02_1108_0661.jpg\td' E.d: heeren Bewindthebberen; van Iustitia gehoo\t[8.98823855095543e-05, 0.9998164772987366, 8.331881690537557e-05, 1.0374124940426555e-05]\n",
      "IN\tIN\tNL-HaNA_1.04.02_1108_0662.jpg\tVruchtbomen, te weten Ionge clappus, pinang als an\t[8.678816084284335e-05, 0.9998188614845276, 8.426465501543134e-05, 1.0176260730077047e-05]\n",
      "IN\tIN\tNL-HaNA_1.04.02_1108_0663.jpg\tdoor de ruychte vant strand te gaen: ('t pad voor \t[9.190828131977469e-05, 0.9998154044151306, 8.208928193198517e-05, 1.0616745385050308e-05]\n",
      "IN\tIN\tNL-HaNA_1.04.02_1108_0664.jpg\tmede op 't strand by d'Inwoonders van kelang getre\t[8.698987221578136e-05, 0.9998200535774231, 8.295709267258644e-05, 1.004431578621734e-05]\n",
      "IN\tIN\tNL-HaNA_1.04.02_1108_0665.jpg\tNde 9 dito smorgens heeft syn Ed. de twee gevangen\t[9.244165266864002e-05, 0.9998140931129456, 8.270382386399433e-05, 1.0728477718657814e-05]\n",
      "IN\tIN\tNL-HaNA_1.04.02_1108_0666.jpg\tinformatie te nemen wegens de saaken vanden Vaendr\t[8.980621350929141e-05, 0.999817430973053, 8.237136353272945e-05, 1.037666697811801e-05]\n",
      "IN\tIN\tNL-HaNA_1.04.02_1108_0667.jpg\tdEenwinne, om de stucken ten lasten vanden Vaendri\t[9.827360918279737e-05, 0.9998089671134949, 8.150875510182232e-05, 1.1298322533548344e-05]\n",
      "IN\tIN\tNL-HaNA_1.04.02_1108_0668.jpg\tCambello op Lissien te houden, en daer door d'inwo\t[8.764186350163072e-05, 0.9998199343681335, 8.242006151704118e-05, 1.0041785571957007e-05]\n",
      "IN\tIN\tNL-HaNA_1.04.02_1108_0669.jpg\tsyn noch twee gelycke sterckten gepasseert: Eyndlj\t[7.981479575391859e-05, 0.9998179078102112, 9.185409726342186e-05, 1.0484090125828516e-05]\n",
      "IN\tIN\tNL-HaNA_1.04.02_1108_0670.jpg\tdat 't schijnt de Magellaense Vloot haer devoir op\t[8.611959492554888e-05, 0.9998199343681335, 8.407049608649686e-05, 9.943572877091356e-06]\n",
      "IN\tIN\tNL-HaNA_1.04.02_1108_0671.jpg\tbeneden monsteren, ende bevonden de soldaten 48 co\t[8.386903209611773e-05, 0.9998192191123962, 8.68276838446036e-05, 1.0156370080949273e-05]\n",
      "IN\tIN\tNL-HaNA_1.04.02_1108_0672.jpg\tJoncq) diep inde Livier opgehaelt: deden deselve e\t[9.525112545816228e-05, 0.999811589717865, 8.214700210373849e-05, 1.1124175216536969e-05]\n",
      "IN\tIN\tNL-HaNA_1.04.02_1108_0673.jpg\tdie gansch te raseeren: doch weynich daer nae quam\t[9.404754382558167e-05, 0.9998125433921814, 8.233099651988596e-05, 1.1031649592041504e-05]\n",
      "IN\tIN\tNL-HaNA_1.04.02_1108_0674.jpg\tSyn Ed. heeft eenige der Principaelste Orangquais \t[8.62514425534755e-05, 0.9998200535774231, 8.376064215553924e-05, 9.981805305869784e-06]\n",
      "IN\tIN\tNL-HaNA_1.04.02_1108_0675.jpg\tschilden ende omhieuwen, alwaer met een bas cogel \t[9.374231012770906e-05, 0.9998119473457336, 8.330302080139518e-05, 1.1094968613178935e-05]\n",
      "IN\tIN\tNL-HaNA_1.04.02_1108_0676.jpg\tVarend Volck met wel gemonteerde Jachten, dewelcke\t[8.706107473699376e-05, 0.9998180270195007, 8.4835228335578e-05, 1.0152309187105857e-05]\n",
      "IN\tIN\tNL-HaNA_1.04.02_1108_0677.jpg\tvan Justitia gehoort ende geexamineert is Joncker \t[8.926189912017435e-05, 0.9998176693916321, 8.267737575806677e-05, 1.0324343747925013e-05]\n",
      "IN\tIN\tNL-HaNA_1.04.02_1108_0678.jpg\td'Armade, en 't Jacht Ceylon met timmerhout voor B\t[8.37741099530831e-05, 0.9998206496238708, 8.555693784728646e-05, 1.0068824849440716e-05]\n",
      "IN\tIN\tNL-HaNA_1.04.02_1108_0679.jpg\tVoor Cambelle comen is de corrocor van Loemecaij d\t[8.878688095137477e-05, 0.9998186230659485, 8.25491952127777e-05, 1.002383214654401e-05]\n",
      "IN\tIN\tNL-HaNA_1.04.02_1108_0680.jpg\tbeyjde sijden vande Logie een corps da guarde soud\t[9.249629511032254e-05, 0.9998118281364441, 8.450815221294761e-05, 1.1170880497957114e-05]\n",
      "IN\tIN\tNL-HaNA_1.04.02_1108_0681.jpg\tGouv. heeft onse Corrocorren genomen, en d' Negrij\t[8.930277545005083e-05, 0.9998100399971008, 8.929859905038029e-05, 1.1363668818376027e-05]\n",
      "IN\tIN\tNL-HaNA_1.04.02_1108_0682.jpg\tNdi 4 dito: den nur voor dagh quam de slonp aen bo\t[8.694381540408358e-05, 0.999819815158844, 8.320745109813288e-05, 9.981575203710236e-06]\n",
      "IN\tIN\tNL-HaNA_1.04.02_1108_0683.jpg\tTorrocor vast, doch quamen sond schade daer weder \t[8.107106987154111e-05, 0.9998196959495544, 8.90624214662239e-05, 1.0226312951999716e-05]\n",
      "IN\tIN\tNL-HaNA_1.04.02_1108_0684.jpg\tVersoeckende eenige sloupen om de soldaten vande s\t[9.282168321078643e-05, 0.999813973903656, 8.236935536842793e-05, 1.079135836334899e-05]\n",
      "IN\tIN\tNL-HaNA_1.04.02_1108_0685.jpg\tAdy 16 dito. naermiddags omtrent 5 uyren arriveerd\t[8.820045331958681e-05, 0.9998188614845276, 8.277893357444555e-05, 1.0152830327569973e-05]\n",
      "IN\tIN\tNL-HaNA_1.04.02_1108_0686.jpg\tDes voormiddaghs ongevaer 10 uyren met onse Vlote \t[8.794329914962873e-05, 0.9998154044151306, 8.644917397759855e-05, 1.0197793926636223e-05]\n",
      "IN\tIN\tNL-HaNA_1.04.02_1108_0687.jpg\tPersonen ongemolesteert in vrede wederom souden se\t[0.00010025070514529943, 0.9998052716255188, 8.276305015897378e-05, 1.162138596555451e-05]\n",
      "IN\tIN\tNL-HaNA_1.04.02_1108_0688.jpg\taldus met ons volck beset hebbende, is by haer Ed.\t[9.317180229118094e-05, 0.9998127818107605, 8.289716788567603e-05, 1.1234534213144798e-05]\n",
      "IN\tIN\tNL-HaNA_1.04.02_1108_0689.jpg\tende dat hare meeste macht op Killibya, Kelebrot e\t[8.999063720693812e-05, 0.9998175501823425, 8.248481753980741e-05, 1.005285776045639e-05]\n",
      "IN\tIN\tNL-HaNA_1.04.02_1108_0690.jpg\tsel gesecondeert op den Vyant doortchergeeren der \t[9.523492190055549e-05, 0.9998102784156799, 8.33423764561303e-05, 1.1190641998837236e-05]\n",
      "IN\tIN\tNL-HaNA_1.04.02_1108_0691.jpg\tCorrocorre sijn geraackt, bequamen een gequeste, w\t[9.551151015330106e-05, 0.9998093247413635, 8.473527850583196e-05, 1.0446693522681016e-05]\n",
      "IN\tIN\tNL-HaNA_1.04.02_1108_0692.jpg\ttot welcken eynde oock van onse sterckte boven op \t[9.642649092711508e-05, 0.9998106360435486, 8.18782500573434e-05, 1.1135001841466874e-05]\n",
      "IN\tIN\tNL-HaNA_1.04.02_1108_0693.jpg\tden selven sijn vrydom belovende, soo sich hier vr\t[0.00010978154023177922, 0.9997984766960144, 8.001818787306547e-05, 1.1830462426587474e-05]\n",
      "IN\tIN\tNL-HaNA_1.04.02_1108_0694.jpg\tDe sloupen, en 'tcleen vaertuygh inde Baij onder d\t[8.733289723750204e-05, 0.9998188614845276, 8.376206096727401e-05, 1.0025583833339624e-05]\n",
      "IN\tIN\tNL-HaNA_1.04.02_1108_0695.jpg\tGemelte personen met d'Inwoonders gesproocken hebb\t[9.407584730070084e-05, 0.9998120665550232, 8.292913116747513e-05, 1.1023661500075832e-05]\n",
      "IN\tIN\tNL-HaNA_1.04.02_1108_0696.jpg\tvoor haer stercte gecomen waren, al voren besloote\t[8.854943735059351e-05, 0.9998186230659485, 8.283632632810622e-05, 1.0034093975264113e-05]\n",
      "IN\tIN\tNL-HaNA_1.04.02_1108_0697.jpg\tspits afmoeten byten, en niet buyten haer geledere\t[8.880739915184677e-05, 0.9998131394386292, 8.77327547641471e-05, 1.038300797517877e-05]\n",
      "IN\tIN\tNL-HaNA_1.04.02_1108_0698.jpg\tBij S. r. Hulft missive wert syn Ed. geadviseert, \t[9.303382103098556e-05, 0.999812662601471, 8.36505860206671e-05, 1.0717868462961633e-05]\n",
      "IN\tIN\tNL-HaNA_1.04.02_1108_0699.jpg\tde Bas, die 't volck van't Jacht Contchin, als met\t[9.507332288194448e-05, 0.9998114705085754, 8.222575706895441e-05, 1.1157780136272777e-05]\n",
      "IN\tIN\tNL-HaNA_1.04.02_1108_0700.jpg\tpasseren, twelck nu vol rudsen en clippen van Extr\t[9.454861719859764e-05, 0.9998114705085754, 8.288552635349333e-05, 1.1048082342313137e-05]\n",
      "IN\tIN\tNL-HaNA_1.04.02_1108_0701.jpg\tVerstonden vande Vaendrich Jonge dan, dat met sijn\t[9.447214688407257e-05, 0.9998119473457336, 8.25793540570885e-05, 1.1066119441238698e-05]\n",
      "IN\tIN\tNL-HaNA_1.04.02_1108_0702.jpg\tondersaten schuldigh syn, te quijten. Dienvolgende\t[9.413299994776025e-05, 0.9998119473457336, 8.282069029519334e-05, 1.1039810488000512e-05]\n",
      "IN\tIN\tNL-HaNA_1.04.02_1108_0703.jpg\tover te leveren, sulcx gedaen synde, als dan syn r\t[9.151612175628543e-05, 0.9998157620429993, 8.24269445729442e-05, 1.0327770723961294e-05]\n",
      "IN\tIN\tNL-HaNA_1.04.02_1108_0704.jpg\tbij sijn Ed. Corrocor gehouden had, die sulcx, Exc\t[9.478573338128626e-05, 0.9998118281364441, 8.331469871336594e-05, 1.0110371476912405e-05]\n",
      "IN\tIN\tNL-HaNA_1.04.02_1108_0705.jpg\tdoor des kumelahas volck /s meestert waren, waer v\t[0.00010409887909190729, 0.9997296929359436, 0.00015696381160523742, 9.192121979140211e-06]\n",
      "IN\tIN\tNL-HaNA_1.04.02_1108_0706.jpg\t\t[5.8755231293616816e-05, 0.999815046787262, 0.00011225857451790944, 1.3912575923313852e-05]\n",
      "IN\tIN\tNL-HaNA_1.04.02_1108_0707.jpg\td'EEd: heeren Bewindehebberen; Niet tegenstaende b\t[9.385717567056417e-05, 0.9997765421867371, 0.00011941052798647434, 1.0283062692906242e-05]\n",
      "IN\tIN\tNL-HaNA_1.04.02_1108_0708.jpg\tvertrecken: 3½ maent Victualie voort' ' acht de so\t[9.161378693534061e-05, 0.9997798800468445, 0.00011903537961188704, 9.487318493484054e-06]\n",
      "IN\tIN\tNL-HaNA_1.04.02_1108_0709.jpg\tveele met pack en sack vluchten, end syn alsoo tot\t[9.500086889602244e-05, 0.9997815489768982, 0.00011340378114255145, 9.994709216698539e-06]\n",
      "IN\tIN\tNL-HaNA_1.04.02_1108_0710.jpg\tGelaly met een champan, dewelcke aldaer met volck \t[7.820978498784825e-05, 0.9998036026954651, 0.0001090039440896362, 9.118070011027157e-06]\n",
      "IN\tIN\tNL-HaNA_1.04.02_1108_0711.jpg\tVan Loehoe overgelopen, die alhier eenige tyt gele\t[8.143270679283887e-05, 0.9998090863227844, 0.00010021075286203995, 9.352831511932891e-06]\n",
      "IN\tIN\tNL-HaNA_1.04.02_1108_0712.jpg\tnagelbomen stont, het welck syn Ed. , en veel met \t[5.1646838983288035e-05, 0.999841570854187, 9.996077278628945e-05, 6.780459898436675e-06]\n",
      "IN\tIN\tNL-HaNA_1.04.02_1108_0713.jpg\tbomen beplant gevonden te hebben, dat men qual. tu\t[6.463568570325151e-05, 0.9998340606689453, 9.307991422247142e-05, 8.21645517135039e-06]\n",
      "IN\tIN\tNL-HaNA_1.04.02_1108_0714.jpg\tvertoonden haer boven op 't gebercht, ende sagen v\t[5.1521299610612914e-05, 0.9998311996459961, 0.00011000249651260674, 7.235847533593187e-06]\n",
      "IN\tIN\tNL-HaNA_1.04.02_1108_0715.jpg\tVande negrie: Terstont hebben alle de clappus bome\t[4.8687947128200904e-05, 0.9996486902236938, 0.00029257824644446373, 1.0038830623670947e-05]\n",
      "END\tIN\tNL-HaNA_1.04.02_1108_0716.jpg\tverstaande, dat Cerelant afgelopen, ende so menich\t[9.979776223190129e-07, 3.5757209843723103e-05, 0.9999632835388184, 4.1181280607816007e-08]\n",
      "BEGIN\tEND\tNL-HaNA_1.04.02_1108_0717.jpg\tvoortpangayen, end syn met de corrocorren, Namentl\t[0.9999895095825195, 2.9154277854104294e-06, 5.723207777919015e-06, 1.8406233266432537e-06]\n"
     ]
    },
    {
     "name": "stderr",
     "output_type": "stream",
     "text": [
      "Evaluating:  82%|████████▏ | 18/22 [00:00<00:00, 33.30batch/s]"
     ]
    },
    {
     "name": "stdout",
     "output_type": "stream",
     "text": [
      "BEGIN\tBEGIN\tNL-HaNA_1.04.02_2356_0028.jpg\tMocha den 15 augustus 1734:; Van; Mocha onder Dato\t[0.9999734163284302, 2.1198251488385722e-05, 7.084087627617919e-08, 5.3206749726086855e-06]\n",
      "IN\tIN\tNL-HaNA_1.04.02_2356_0029.jpg\tVan Bovia onder dato 15 augustus 1734; Van; Colba \t[0.0002637459256220609, 0.999639630317688, 7.285345054697245e-05, 2.3691380192758515e-05]\n",
      "IN\tIN\tNL-HaNA_1.04.02_2356_0030.jpg\tSacha Onder Dato 15. Aug: 1734; Van; Cocha onder D\t[0.00010390162788098678, 0.9998053908348083, 7.916913455119357e-05, 1.1566015018615872e-05]\n",
      "IN\tIN\tNL-HaNA_1.04.02_2356_0031.jpg\tVan Mocha onder dato 15 aug:s 1734; Van; Mocha ond\t[9.593649883754551e-05, 0.9998134970664978, 7.921530777821317e-05, 1.1348437510605436e-05]\n",
      "IN\tIN\tNL-HaNA_1.04.02_2356_0032.jpg\tCocha onder dato 18 Augutus 1744; Van; Augustus; V\t[0.00010297694097971544, 0.9998037219047546, 8.166378393070772e-05, 1.1629648724920116e-05]\n",
      "IN\tIN\tNL-HaNA_1.04.02_2356_0033.jpg\tVan Norsa onder dato 15 Aug 1734:; Van Mocha onder\t[9.888029308058321e-05, 0.9998102784156799, 7.962602830957621e-05, 1.1168157470820006e-05]\n",
      "IN\tIN\tNL-HaNA_1.04.02_2356_0034.jpg\tVan Cocha onder Dato 15 Augustus 1734.; Mocha onde\t[0.00016766357293818146, 0.9997158646583557, 0.00010108114656759426, 1.535443152533844e-05]\n",
      "IN\tIN\tNL-HaNA_1.04.02_2356_0035.jpg\tVan Mocha onder dato 15 August: 1734; Van Norsa on\t[9.371569467475638e-05, 0.9998160004615784, 7.920545613160357e-05, 1.114139195124153e-05]\n",
      "IN\tIN\tNL-HaNA_1.04.02_2356_0036.jpg\tCoisa onder Dato 15 aug:s 1734:; Van; Cocha onder \t[9.383963333675638e-05, 0.9998157620429993, 7.922417717054486e-05, 1.1201220331713557e-05]\n",
      "IN\tIN\tNL-HaNA_1.04.02_2356_0037.jpg\tCoist onder Dato 15 Aug 1734; G; Van; 1; Van Moiba\t[9.437787957722321e-05, 0.999815046787262, 7.930499850772321e-05, 1.1292229828541167e-05]\n",
      "IN\tIN\tNL-HaNA_1.04.02_2356_0038.jpg\tMosa onder dato 15:' Aug:s 1734; Van Mocha onder D\t[9.53626076807268e-05, 0.999815046787262, 7.826768705854192e-05, 1.1271066796325613e-05]\n",
      "IN\tIN\tNL-HaNA_1.04.02_2356_0039.jpg\tMocha onder Dato 15 aug: 1734; Mocha onder Dato 15\t[9.818349644774571e-05, 0.99981290102005, 7.753248792141676e-05, 1.1393955901439767e-05]\n",
      "IN\tIN\tNL-HaNA_1.04.02_2356_0040.jpg\tCocha onder dato 15 aug: 1734; G; Van; Van Mocha o\t[8.87483693077229e-05, 0.999813973903656, 8.652427641209215e-05, 1.070275448000757e-05]\n",
      "IN\tIN\tNL-HaNA_1.04.02_2356_0041.jpg\tVan Mocha onder Dato 15 augus: 1734; Mocha onder D\t[9.134678839473054e-05, 0.9998175501823425, 8.000643720151857e-05, 1.1026855645468459e-05]\n",
      "IN\tIN\tNL-HaNA_1.04.02_2356_0042.jpg\tMocha onder Dato 15 Augustus 1734.; G; 1; Van; och\t[8.662042819196358e-05, 0.9998241066932678, 7.912404544185847e-05, 1.0087937880598474e-05]\n",
      "IN\tIN\tNL-HaNA_1.04.02_2356_0043.jpg\tMocha onder dato 15 augustus 1734; Van Mocha onder\t[9.508374205324799e-05, 0.9998151659965515, 7.860759797040373e-05, 1.1177759006386623e-05]\n",
      "IN\tIN\tNL-HaNA_1.04.02_2356_0044.jpg\tMoesa onder dato 15 Augustus 1734; Van Mocha onder\t[8.437188080279157e-05, 0.9998277425765991, 7.79603433329612e-05, 9.874307579593733e-06]\n",
      "IN\tIN\tNL-HaNA_1.04.02_2356_0045.jpg\tMocha onder Dato 15 Augustus 1734.; Van; Schenkagi\t[7.262535655172542e-05, 0.999840497970581, 7.768673094687983e-05, 9.139798748947214e-06]\n",
      "IN\tIN\tNL-HaNA_1.04.02_2356_0046.jpg\tDetraordinarij Ongelden 1733/7; Cocha onder Dato 1\t[6.1733131587971e-05, 0.999862790107727, 6.675165059277788e-05, 8.702890227141324e-06]\n",
      "IN\tIN\tNL-HaNA_1.04.02_2356_0047.jpg\tMocha onder dato 15 aug 1734; Van; Van Mocha onder\t[5.091128696221858e-05, 0.9998748302459717, 6.668355490546674e-05, 7.548784651589813e-06]\n",
      "IN\tIN\tNL-HaNA_1.04.02_2356_0048.jpg\tBocha onder Dato 15 Augs 1734; Van Mocha onder Dat\t[5.164796675671823e-05, 0.999866247177124, 7.422363705700263e-05, 7.906487553555053e-06]\n",
      "IN\tIN\tNL-HaNA_1.04.02_2356_0049.jpg\tocha onder Dato 15 augus: 1734.; 7; Van Mocha onde\t[5.484754001372494e-05, 0.999758780002594, 0.00017491242033429444, 1.1497623745526653e-05]\n",
      "END\tEND\tNL-HaNA_1.04.02_2356_0050.jpg\tMocha onder Dato 15 aug:s 1734.; Van; ƒ; Mocha ond\t[1.1762433587136911e-06, 3.871226363116875e-05, 0.9999600648880005, 4.7811170134082204e-08]\n",
      "BEGIN\tBEGIN\tNL-HaNA_1.04.02_3589_0657.jpg\tExtract uijt de Gehoudene; aantekening door den Op\t[0.9997765421867371, 0.00018594977154862136, 1.1367482244395433e-07, 3.739794556167908e-05]\n",
      "IN\tIN\tNL-HaNA_1.04.02_3589_0658.jpg\tantwoord als eenvoudig, Ja of en een, mede; te bre\t[0.004792515188455582, 0.9897761344909668, 0.005306525621563196, 0.00012486358173191547]\n",
      "IN\tIN\tNL-HaNA_1.04.02_3589_0659.jpg\theen te gaan, dog toen wierd hij nog; meer verleeg\t[0.0019258358515799046, 0.9765625596046448, 0.02145279385149479, 5.8798250393010676e-05]\n",
      "IN\tIN\tNL-HaNA_1.04.02_3589_0660.jpg\tkelijk was, zig over dat geval niet ab„; leen zeer\t[0.0016123995883390307, 0.9673771262168884, 0.03096395917236805, 4.6429595386143774e-05]\n",
      "IN\tIN\tNL-HaNA_1.04.02_3589_0661.jpg\tden 30 jJanuorij Donderdag zond lij de ordinarie A\t[0.0016386904753744602, 0.9616425633430481, 0.036677174270153046, 4.16670591221191e-05]\n",
      "IN\tIN\tNL-HaNA_1.04.02_3589_0662.jpg\tkelijk was, tig over dat geval niet; leen zeer ge-\t[0.0016007150989025831, 0.958943784236908, 0.03941737860441208, 3.813631701632403e-05]\n",
      "IN\tIN\tNL-HaNA_1.04.02_3589_0663.jpg\tden 30 januorij Donderdag zond lij de ordinare Age\t[0.001643436262384057, 0.9555644392967224, 0.04275519400835037, 3.689685763674788e-05]\n",
      "IN\tIN\tNL-HaNA_1.04.02_3589_0664.jpg\tonverkogt bleef legge, doordien de; Paleatcherijse\t[0.0015827241586521268, 0.9537951946258545, 0.044586509466171265, 3.5608438338385895e-05]\n",
      "IN\tIN\tNL-HaNA_1.04.02_3589_0665.jpg\touden gang hebben gegaan; hoe zij„; ho:t 't zedert\t[0.0015545649221166968, 0.9521518349647522, 0.04625893384218216, 3.4712018532445654e-05]\n",
      "IN\tIN\tNL-HaNA_1.04.02_3589_0666.jpg\timmers zelfs kon verbieden om in onze; pagterijen \t[0.0015147655503824353, 0.9507840275764465, 0.04766741022467613, 3.378795008757152e-05]\n",
      "IN\tIN\tNL-HaNA_1.04.02_3589_0667.jpg\tkopen, en zulks hadde willen beletten, door; „hun;\t[0.0014577859546989202, 0.9497197866439819, 0.04878973215818405, 3.270220258855261e-05]\n",
      "IN\tIN\tNL-HaNA_1.04.02_3589_0668.jpg\tcasche wijse tabak op de eene of andere; wijze zel\t[0.0013763894094154239, 0.9489763379096985, 0.04961591213941574, 3.133607606287114e-05]\n",
      "IN\tIN\tNL-HaNA_1.04.02_3589_0669.jpg\topzigt voor zig gehoopt en verwagt had,; bij zijn \t[0.0012678580824285746, 0.9486663937568665, 0.05003611743450165, 2.962405778816901e-05]\n",
      "IN\tIN\tNL-HaNA_1.04.02_3589_0670.jpg\toneenigheijd afschildende, even eens als; of zijn \t[0.0011721812188625336, 0.94576495885849, 0.0530349425971508, 2.8007001674268395e-05]\n",
      "IN\tIN\tNL-HaNA_1.04.02_3589_0671.jpg\tden 20 februarij Dingsdag liet zijn wel Ed: Agtb: \t[0.000988736399449408, 0.9367800951004028, 0.06220531463623047, 2.592455166450236e-05]\n",
      "IN\tIN\tNL-HaNA_1.04.02_3589_0672.jpg\tgens aan zijne zijde, het geval omtrend; zo eenen \t[0.0006322762346826494, 0.857233464717865, 0.14211003482341766, 2.4168815798475407e-05]\n",
      "END\tEND\tNL-HaNA_1.04.02_3589_0673.jpg\ten borg te dragen, dat hij zo inden verkoop; van z\t[3.672660682241258e-07, 3.442477827775292e-05, 0.9999651908874512, 1.423222251162315e-08]\n",
      "BEGIN\tBEGIN\tNL-HaNA_1.04.02_8737_0089.jpg\tVan Bengale, onder dato 28„' 8ber: A. o 1705.; voo\t[0.9999864101409912, 8.88703561940929e-06, 1.117706105446814e-07, 4.5907459025329445e-06]\n",
      "END\tEND\tNL-HaNA_1.04.02_8737_0090.jpg\tVan Bengale onder dato 28:' xber: A:o 1705.; waar \t[4.820364665647503e-06, 4.3150521378265694e-05, 0.999951958656311, 1.2234738733241102e-07]\n",
      "BEGIN\tBEGIN\tNL-HaNA_1.04.02_1547_0107.jpg\tExtracten uijt de Daagelijkse Aanteeckeningen, Con\t[0.9999864101409912, 8.797398550086655e-06, 1.0298853680978937e-07, 4.621120751835406e-06]\n",
      "END\tEND\tNL-HaNA_1.04.02_1547_0108.jpg\top desen holvn en dass: matthijs in ve totenende a\t[4.811629878531676e-06, 4.499534406932071e-05, 0.9999501705169678, 1.135738401103481e-07]\n",
      "BEGIN\tBEGIN\tNL-HaNA_1.04.02_3952_0232.jpg\tMoegle in Bengale; den 2e January 1793.; Hemels aa\t[0.9999791383743286, 1.6546207916690037e-05, 7.485900255232991e-08, 4.231018465361558e-06]\n",
      "IN\tIN\tNL-HaNA_1.04.02_3952_0233.jpg\tgeweezene Ffiscaal is opgelegd de vergoe¬; „ding v\t[0.00023480395611841232, 0.999672532081604, 7.148785516619682e-05, 2.1212841602391563e-05]\n",
      "IN\tIN\tNL-HaNA_1.04.02_3952_0234.jpg\tdat het daar voor meerder, opgebragte ook; waarach\t[8.21523426566273e-05, 0.9998356103897095, 7.203604764072224e-05, 1.0076555554405786e-05]\n",
      "IN\tIN\tNL-HaNA_1.04.02_3952_0235.jpg\tMaatschappy als een waarborg voor; de hem opgelegd\t[5.763734952779487e-05, 0.9998669624328613, 6.742487312294543e-05, 7.980802365636919e-06]\n",
      "IN\tIN\tNL-HaNA_1.04.02_3952_0236.jpg\tzwaar drukkende restitutie, zo wel als die; hem in\t[5.724357470171526e-05, 0.9998694658279419, 6.493027467513457e-05, 8.319661901623476e-06]\n",
      "IN\tIN\tNL-HaNA_1.04.02_3952_0237.jpg\tzeer kostbaar is, en hem de middelen ont„; „breeke\t[5.6169421441154554e-05, 0.9998607635498047, 7.478496991097927e-05, 8.182564670278225e-06]\n",
      "IN\tIN\tNL-HaNA_1.04.02_3952_0238.jpg\tSamuel Radermacher en; Somma van Sa. ro 3200 te st\t[5.5030213843565434e-05, 0.9997707009315491, 0.00016216706717386842, 1.2110007446608506e-05]\n",
      "END\tEND\tNL-HaNA_1.04.02_3952_0239.jpg\tExtract uit als vooren; op; Maandag den 26:e Novem\t[1.189888280350715e-06, 3.9626895159017295e-05, 0.9999591112136841, 4.854672042142738e-08]\n",
      "BEGIN\tBEGIN\tNL-HaNA_1.04.02_1118_1175.jpg\tOp sondach den 23=en september Anno 1635.; Donderd\t[0.9999772310256958, 1.730588155623991e-05, 7.028477000403655e-08, 5.370128292270238e-06]\n",
      "IN\tIN\tNL-HaNA_1.04.02_1118_1176.jpg\tErvaren, oversulx door sijne diligentie ende naars\t[0.0002475378569215536, 0.9996572732925415, 7.302161975530908e-05, 2.2147110939840786e-05]\n",
      "IN\tIN\tNL-HaNA_1.04.02_1118_1177.jpg\t4; (door dien voor desen 't selue ampt lange in't \t[0.00012706233246717602, 0.9997836947441101, 7.580129022244364e-05, 1.352167146251304e-05]\n",
      "IN\tIN\tNL-HaNA_1.04.02_1118_1178.jpg\tvermits den voornoemde Anachoda Alij der pas vande\t[9.344422142021358e-05, 0.9998131394386292, 8.255905413534492e-05, 1.08504082163563e-05]\n",
      "IN\tIN\tNL-HaNA_1.04.02_1118_1179.jpg\tMaj:t van Banjermassingh wil solemniseren ende bev\t[7.765788905089721e-05, 0.9998286962509155, 8.345311653101817e-05, 1.0188392479903996e-05]\n",
      "IN\tIN\tNL-HaNA_1.04.02_1118_1180.jpg\tbrant te crijgen ende sulx geheelijk te vernielen;\t[7.024619117146358e-05, 0.9998481273651123, 7.273445226019248e-05, 8.870330020727124e-06]\n",
      "IN\tIN\tNL-HaNA_1.04.02_1118_1181.jpg\tMissiven 't zedert den 15=en septemb:; Achtbare; E\t[5.62614768568892e-05, 0.9998694658279419, 6.637889600824565e-05, 7.890100278018508e-06]\n",
      "IN\tIN\tNL-HaNA_1.04.02_1118_1182.jpg\tManhafte, Wijse,; Ed:, Erentvheste; Voorsiange H:a\t[4.980607991456054e-05, 0.9998760223388672, 6.669437425443903e-05, 7.489319614251144e-06]\n",
      "IN\tIN\tNL-HaNA_1.04.02_1118_1183.jpg\t8; opstantij is goet gevonden (gelijck datelijk ge\t[5.806662011309527e-05, 0.9998646974563599, 6.85515915392898e-05, 8.66603477334138e-06]\n",
      "IN\tIN\tNL-HaNA_1.04.02_1118_1184.jpg\tEd:e, Erentvheste, Manhafte, Wijse„; H:r, De Ed. e\t[5.166065602679737e-05, 0.9998639822006226, 7.633982022525743e-05, 7.997296961548273e-06]\n",
      "IN\tIN\tNL-HaNA_1.04.02_1118_1185.jpg\t8; opstantij is goet gevonden (gelijck datelijk ge\t[5.514988151844591e-05, 0.9997275471687317, 0.00020650254737120122, 1.0857936104002874e-05]\n",
      "END\tEND\tNL-HaNA_1.04.02_1118_1186.jpg\thollanderen niets te doen hebbe, ende dat wij ten \t[1.1100074743808364e-06, 3.728566662175581e-05, 0.9999616146087646, 4.409209708455819e-08]\n",
      "BEGIN\tBEGIN\tNL-HaNA_1.04.02_1635_0857.jpg\tser maend; In Souratta.; wint ropijas—; 93: Inlant\t[0.9999843835830688, 1.1392748092475813e-05, 7.146036296035163e-08, 4.148088919464499e-06]\n",
      "IN\tIN\tNL-HaNA_1.04.02_1635_0858.jpg\t14: Persoonen, als. —; 93: en 33: Persoonen Van Hi\t[0.00022360550065059215, 0.9995738863945007, 0.0001753115648170933, 2.7215406589675695e-05]\n",
      "END\tEND\tNL-HaNA_1.04.02_1635_0859.jpg\t129: en 3: persoonen, van Hier omme. . . . . . . .\t[1.4825109246885404e-06, 3.031964661204256e-05, 0.9999681711196899, 4.961999522379301e-08]\n",
      "BEGIN\tBEGIN\tNL-HaNA_1.04.02_3060_0043.jpg\tNa dat de Leeden deeser Vergaadering bij een geroe\t[0.9980469942092896, 0.000730174477212131, 1.9211379367334303e-06, 0.0012209289707243443]\n",
      "IN\tIN\tNL-HaNA_1.04.02_3060_0044.jpg\t\t[0.0003292517503723502, 0.9985014200210571, 0.0002808378485497087, 0.0008885881397873163]\n",
      "IN\tIN\tNL-HaNA_1.04.02_3060_0045.jpg\t\t[0.00015846673341002315, 0.9989075660705566, 0.00022728815383743495, 0.0007067258702591062]\n",
      "IN\tIN\tNL-HaNA_1.04.02_3060_0046.jpg\t\t[7.611010369146243e-05, 0.9993815422058105, 0.0001455836754757911, 0.000396753050154075]\n",
      "IN\tIN\tNL-HaNA_1.04.02_3060_0047.jpg\tWoensdag den 13: ' October A„o 1762.; Na dat de Le\t[2.6597310352372006e-05, 0.9998941421508789, 4.356767749413848e-05, 3.560923141776584e-05]\n",
      "IN\tIN\tNL-HaNA_1.04.02_3060_0048.jpg\tNagesien; G„s V„n Aken\t[1.5315163182094693e-05, 0.9999160766601562, 4.5982422307133675e-05, 2.2613026885665022e-05]\n",
      "IN\tIN\tNL-HaNA_1.04.02_3060_0049.jpg\tWoensdag den 13.:' October A„o 1762.; Na dat de Le\t[2.254943137813825e-05, 0.9998949766159058, 5.2542720368364826e-05, 2.9927294235676527e-05]\n",
      "IN\tIN\tNL-HaNA_1.04.02_3060_0050.jpg\t\t[1.9143106328556314e-05, 0.9998679161071777, 6.300958921201527e-05, 4.991647074348293e-05]\n",
      "IN\tIN\tNL-HaNA_1.04.02_3060_0051.jpg\tDingsdag Den 2:' November A„o 1762. —; Den Raad bi\t[1.6409852833021432e-05, 0.9999228715896606, 4.2823809053516015e-05, 1.7829212083597668e-05]\n",
      "IN\tIN\tNL-HaNA_1.04.02_3060_0052.jpg\tOver te haalen geweest, dan ruijm, een halff Capit\t[1.6327832781826146e-05, 0.9999189376831055, 4.012322460766882e-05, 2.452470471325796e-05]\n",
      "IN\tIN\tNL-HaNA_1.04.02_3060_0053.jpg\tDen bottelier Jan Fredrik Smit, van SHage; Hoffmee\t[1.9330302166054025e-05, 0.9998717308044434, 8.794691530056298e-05, 2.103662336594425e-05]\n",
      "IN\tIN\tNL-HaNA_1.04.02_3060_0054.jpg\tNagesien; P: D Lahaije\t[1.6572168533457443e-05, 0.9997368454933167, 0.00022021419135853648, 2.629057598824147e-05]\n",
      "IN\tIN\tNL-HaNA_1.04.02_3060_0055.jpg\t\t[1.626244920771569e-05, 0.9997231364250183, 0.00019361641898285598, 6.695392221445218e-05]\n",
      "IN\tIN\tNL-HaNA_1.04.02_3060_0056.jpg\tNagesien; G: B: D Leeuw; d\t[1.3288103218656033e-05, 0.9998743534088135, 8.82720050867647e-05, 2.4095472326735035e-05]\n",
      "IN\tIN\tNL-HaNA_1.04.02_3060_0057.jpg\tMaandag Den 15„e November A„o 1762. —; Het ingedie\t[1.1368026207492221e-05, 0.9997079968452454, 0.000256892031757161, 2.370626862102654e-05]\n",
      "IN\tIN\tNL-HaNA_1.04.02_3060_0058.jpg\t\t[1.3055228919256479e-05, 0.9997310042381287, 0.00018660284695215523, 6.930284143891186e-05]\n",
      "IN\tIN\tNL-HaNA_1.04.02_3060_0059.jpg\tAan den wel Edelen Agtb: Heere; Fredrik Willem Win\t[1.1477993211883586e-05, 0.9997304081916809, 0.0002332311705686152, 2.488230893504806e-05]\n",
      "IN\tIN\tNL-HaNA_1.04.02_3060_0060.jpg\t\t[1.2532078471849672e-05, 0.9996902942657471, 0.00022713825455866754, 7.006723899394274e-05]\n",
      "IN\tIN\tNL-HaNA_1.04.02_3060_0061.jpg\t\t[1.459035229345318e-05, 0.9997072815895081, 0.00021290038421284407, 6.51731388643384e-05]\n",
      "IN\tIN\tNL-HaNA_1.04.02_3060_0062.jpg\tNagesien; J:B: D Leeuw.\t[1.288365456275642e-05, 0.9998674392700195, 9.157045133179054e-05, 2.8148837373009883e-05]\n",
      "IN\tIN\tNL-HaNA_1.04.02_3060_0063.jpg\t\t[1.6247589883278124e-05, 0.999733030796051, 0.00017556603415869176, 7.522401574533433e-05]\n",
      "IN\tIN\tNL-HaNA_1.04.02_3060_0064.jpg\t\t[1.6011210391297936e-05, 0.999835729598999, 0.00010798053699545562, 4.032264041597955e-05]\n",
      "IN\tIN\tNL-HaNA_1.04.02_3060_0065.jpg\tE:E: Agtbaaren Heer Johannes Heijnouts; Sondergete\t[2.7049209165852517e-05, 0.9998075366020203, 0.00014156698307488114, 2.38332650042139e-05]\n",
      "END\tEND\tNL-HaNA_1.04.02_3060_0066.jpg\tNoering hem daar toe sijne hulpe leenen; Voor 't o\t[8.932755690693739e-07, 7.251179340528324e-05, 0.9999264478683472, 1.8221352604541607e-07]\n",
      "BEGIN\tBEGIN\tNL-HaNA_1.04.02_2617_0409.jpg\tLijst van de onderstaande persoonen welke 't seder\t[0.9999862909317017, 9.006897926155943e-06, 9.437356141006603e-08, 4.615059879142791e-06]\n",
      "END\tEND\tNL-HaNA_1.04.02_2617_0410.jpg\tCornelis Vincentsz: van Houglij Jonge ƒ5. —. , den\t[4.869714302913053e-06, 4.4604767026612535e-05, 0.9999504089355469, 1.155637932015452e-07]\n",
      "OUT\tOUT\tNL-HaNA_1.04.02_1547_0430.jpg\t\t[1.9306602553115226e-05, 2.9146347515052184e-05, 3.826878014479007e-08, 0.9999514818191528]\n",
      "BEGIN\tBEGIN\tNL-HaNA_1.04.02_1547_0431.jpg\tMondelingh Berigt ge„; „daen door den E: Cop=n; 1;\t[0.9999289512634277, 3.490385279292241e-05, 1.1895920692950313e-07, 3.602099241106771e-05]\n",
      "IN\tIN\tNL-HaNA_1.04.02_1547_0432.jpg\tEn motiven wat uijt d' verweijderingen tusschen; d\t[0.0001779520243871957, 0.9997163414955139, 6.847445183666423e-05, 3.7171437725191936e-05]\n",
      "IN\tIN\tNL-HaNA_1.04.02_1547_0433.jpg\thet geheele gebret van het Land van Elledetta„; „s\t[8.777048060437664e-05, 0.9998195767402649, 7.86833988968283e-05, 1.3972806300444063e-05]\n",
      "IN\tIN\tNL-HaNA_1.04.02_1547_0434.jpg\tvant perisolisehe Rijck, zijn h:r den ragia; van c\t[8.402032108278945e-05, 0.9998226761817932, 8.163347956724465e-05, 1.1642642675724346e-05]\n",
      "IN\tIN\tNL-HaNA_1.04.02_1547_0435.jpg\tBetuijginge: bij haer hoogh=t wierde, versogt te; \t[8.518395770806819e-05, 0.9998213648796082, 8.139099372783676e-05, 1.2055723345838487e-05]\n",
      "IN\tIN\tNL-HaNA_1.04.02_1547_0436.jpg\tmissoeijen zijn h=t weder na zin voorige; Resident\t[8.407732093473896e-05, 0.9998227953910828, 8.207407518057153e-05, 1.1027565960830543e-05]\n",
      "IN\tIN\tNL-HaNA_1.04.02_1547_0437.jpg\ten haer h=t kwam selffs ook met Een groote; macht \t[7.902126526460052e-05, 0.9998204112052917, 8.952198550105095e-05, 1.1115120287286118e-05]\n",
      "IN\tIN\tNL-HaNA_1.04.02_1547_0438.jpg\t2 h:t den; hadden Bij Eerste gelegenth=t zijn ^ oo\t[7.999008084880188e-05, 0.9998200535774231, 8.93706310307607e-05, 1.0624453352647834e-05]\n",
      "IN\tIN\tNL-HaNA_1.04.02_1547_0439.jpg\tnu mede aen d' kant van tesancoor was; off gecomen\t[7.554185867775232e-05, 0.9998266100883484, 8.68168062879704e-05, 1.1114553672086913e-05]\n",
      "IN\tIN\tNL-HaNA_1.04.02_1547_0440.jpg\ttoegevinge; corressen, gisen, nogh drijgge„; „ment\t[7.48272577766329e-05, 0.9998282194137573, 8.59810461406596e-05, 1.0949188435915858e-05]\n",
      "IN\tIN\tNL-HaNA_1.04.02_1547_0441.jpg\ten dewijl alle dagen een Commissaris; een Command:\t[8.190175867639482e-05, 0.9998173117637634, 8.832960884319618e-05, 1.2462204722396564e-05]\n",
      "IN\tIN\tNL-HaNA_1.04.02_1547_0442.jpg\tvan d E Comp:e, met verdere Bijvoeginge dat; zijn \t[8.533402433386073e-05, 0.9998210072517395, 8.162852464010939e-05, 1.2062020687153563e-05]\n",
      "IN\tIN\tNL-HaNA_1.04.02_1547_0443.jpg\twijnige tijk door een duijster woerhige zijn; glan\t[7.783774344716221e-05, 0.9998266100883484, 8.480610267724842e-05, 1.07501191450865e-05]\n",
      "IN\tIN\tNL-HaNA_1.04.02_1547_0444.jpg\tuijt sulx ontsloot, want het land em de; coopl: wa\t[7.19799572834745e-05, 0.9998273253440857, 8.966290624812245e-05, 1.1078370334871579e-05]\n",
      "IN\tIN\tNL-HaNA_1.04.02_1547_0445.jpg\tvan d' teruntschap Jongst Eenige bluijckerije; In \t[8.120283746393397e-05, 0.9998262524604797, 8.138758857967332e-05, 1.126278039009776e-05]\n",
      "IN\tIN\tNL-HaNA_1.04.02_1547_0446.jpg\tdoese Is moten doen om te Leten, Iwage; dat den Co\t[8.108314796118066e-05, 0.9998292922973633, 7.859500328777358e-05, 1.095922925742343e-05]\n",
      "IN\tIN\tNL-HaNA_1.04.02_1547_0447.jpg\tLoedoart tot manapaer haer verbooden, eenige; nego\t[6.744614074705169e-05, 0.9998457431793213, 7.685055606998503e-05, 9.892694833979476e-06]\n",
      "IN\tIN\tNL-HaNA_1.04.02_1547_0448.jpg\tvan des E Comp:s regotie, war op het selve antrus;\t[7.53461936255917e-05, 0.9998356103897095, 7.785701745888218e-05, 1.1156730579386931e-05]\n",
      "IN\tIN\tNL-HaNA_1.04.02_1547_0449.jpg\tdoer bij souden voegen, seer op konden te; 6; Besw\t[5.955835513304919e-05, 0.9998596906661987, 7.096194167388603e-05, 9.734426384966355e-06]\n",
      "IN\tIN\tNL-HaNA_1.04.02_1547_0450.jpg\tkennisse van boosen te nemen, zoo hebbenske; hun b\t[6.746130384271964e-05, 0.9998492002487183, 7.374400593107566e-05, 9.541568033455405e-06]\n",
      "IN\tIN\tNL-HaNA_1.04.02_1547_0451.jpg\tontrent dese onderhandelinge, meer end' meer; te b\t[5.381804294302128e-05, 0.9998693466186523, 6.760087126167491e-05, 9.138667337538209e-06]\n",
      "IN\tIN\tNL-HaNA_1.04.02_1547_0452.jpg\tder vreede sonder hem te doen geven de ge„; Requin\t[4.672053182730451e-05, 0.9998742341995239, 7.062769145704806e-05, 8.29461987450486e-06]\n",
      "IN\tIN\tNL-HaNA_1.04.02_1547_0453.jpg\tdoen over seer onvergenoegt, en daer op geresoldee\t[4.9828828196041286e-05, 0.9998615980148315, 7.951499719638377e-05, 9.043705176736694e-06]\n",
      "IN\tIN\tNL-HaNA_1.04.02_1547_0454.jpg\thelpen seszertigen en ook niet soo dwaar Jon; wese\t[4.5211527321953326e-05, 0.9997517466545105, 0.00019151208107359707, 1.1557742254808545e-05]\n",
      "END\tEND\tNL-HaNA_1.04.02_1547_0455.jpg\tverbreekende den voornoem fronsuer heer; als oijne\t[1.0269777703797445e-06, 3.83661717933137e-05, 0.9999605417251587, 4.947559162360449e-08]\n"
     ]
    },
    {
     "name": "stderr",
     "output_type": "stream",
     "text": [
      "Evaluating: 100%|██████████| 22/22 [00:00<00:00, 30.76batch/s]"
     ]
    },
    {
     "name": "stdout",
     "output_type": "stream",
     "text": [
      "BEGIN\tBEGIN\tNL-HaNA_1.04.02_3248_0877.jpg\tOp Huijden den 5: October a„o 1761: voor mij Wolfe\t[0.9999746084213257, 2.06444165087305e-05, 7.695143011687833e-08, 4.609969437296968e-06]\n",
      "IN\tIN\tNL-HaNA_1.04.02_3248_0878.jpg\top die wijze gedurende hun verblijf aldaar, en ond\t[0.0002955368545372039, 0.9996078610420227, 7.158010703278705e-05, 2.499421862012241e-05]\n",
      "IN\tIN\tNL-HaNA_1.04.02_3248_0879.jpg\tniet krijgende ! de Xullas aandoen, en overweldige\t[0.00010563666728558019, 0.9998038411140442, 7.878089672885835e-05, 1.1790100870712195e-05]\n",
      "IN\tIN\tNL-HaNA_1.04.02_3248_0880.jpg\tvan Christoffel dias, en Adriaan Rijkschroef clerc\t[8.880866516847163e-05, 0.9998216032981873, 7.93698345660232e-05, 1.0287281838827766e-05]\n",
      "IN\tIN\tNL-HaNA_1.04.02_3248_0881.jpg\tHeden den 8:e Maart 1762: Compareerde voor mij Ioh\t[8.860236994223669e-05, 0.999821126461029, 7.981384260347113e-05, 1.0543864846113138e-05]\n",
      "IN\tIN\tNL-HaNA_1.04.02_3248_0882.jpg\tdog Een van derzelver prauwen bleeft op de droogte\t[9.352608321933076e-05, 0.9998162388801575, 7.915564492577687e-05, 1.1126772733405232e-05]\n",
      "IN\tIN\tNL-HaNA_1.04.02_3248_0883.jpg\teenige hostiliteijten en moorderijen gepleegt hadd\t[9.139976464211941e-05, 0.9998175501823425, 8.085108856903389e-05, 1.0247574209643062e-05]\n",
      "IN\tIN\tNL-HaNA_1.04.02_3248_0884.jpg\twaar op hij relatant door de papoeers, mits absent\t[8.133459050441161e-05, 0.9997221827507019, 0.00018675110186450183, 9.781660992302932e-06]\n",
      "IN\tIN\tNL-HaNA_1.04.02_3248_0885.jpg\tanders te zeggen, als 't geen in 't Casteel orange\t[8.667713700560853e-05, 0.9997633099555969, 0.0001406188530381769, 9.45421288633952e-06]\n",
      "IN\tIN\tNL-HaNA_1.04.02_3248_0886.jpg\thij relatant in dien zoo wel onder Ambon als Terna\t[7.96380772953853e-05, 0.9997814297676086, 0.00012908071221318096, 9.938847142620943e-06]\n",
      "IN\tIN\tNL-HaNA_1.04.02_3248_0887.jpg\tGevende voor redenen van wetenschap als in den tex\t[6.14504242548719e-05, 0.9995710253715515, 0.0003572520799934864, 1.0209311767539475e-05]\n",
      "IN\tIN\tNL-HaNA_1.04.02_3248_0888.jpg\t\t[7.219944382086396e-05, 0.9997238516807556, 0.00018770256428979337, 1.6185547792701982e-05]\n",
      "IN\tIN\tNL-HaNA_1.04.02_3248_0889.jpg\tHeden morgen den 23:e April 1765: zont den heer„; \t[7.090721192071214e-05, 0.9997653365135193, 0.00015313373296521604, 1.058306861523306e-05]\n",
      "IN\tIN\tNL-HaNA_1.04.02_3248_0890.jpg\ten 's konings goetaardigheijt, de wezentlijke oerz\t[5.937253081356175e-05, 0.9996969699859619, 0.00023443246027454734, 9.309595043305308e-06]\n",
      "IN\tIN\tNL-HaNA_1.04.02_3248_0891.jpg\tomtrent zij vermeenden nu niets meer te vreezen te\t[5.403615068644285e-05, 0.9995918869972229, 0.0003440754662733525, 9.999248504755087e-06]\n",
      "IN\tIN\tNL-HaNA_1.04.02_3248_0892.jpg\t\t[7.544282561866567e-05, 0.9997202754020691, 0.00018943440227303654, 1.4758124962099828e-05]\n",
      "IN\tIN\tNL-HaNA_1.04.02_3248_0893.jpg\tHeden den 4:e Februarij 1768: Compareerde; voor mi\t[6.873487291159108e-05, 0.9996660947799683, 0.0002557587868068367, 9.404287084180396e-06]\n",
      "IN\tIN\tNL-HaNA_1.04.02_3248_0894.jpg\tgelegen op 't groot Eijland salwattij vervoert en \t[5.0922979426104575e-05, 0.9994065761566162, 0.0005306791863404214, 1.1805418580479454e-05]\n",
      "IN\tIN\tNL-HaNA_1.04.02_3248_0895.jpg\t\t[7.000741607043892e-05, 0.9995294809341431, 0.00036350832669995725, 3.6998353607486933e-05]\n",
      "IN\tIN\tNL-HaNA_1.04.02_3248_0896.jpg\t\t[8.63281893543899e-05, 0.999716579914093, 0.00018256080511491746, 1.4529863619827665e-05]\n",
      "IN\tIN\tNL-HaNA_1.04.02_3248_0897.jpg\tOp heden den 4:e Februarij 160: Compareerde voor; \t[7.058204937493429e-05, 0.9997828602790833, 0.0001385855721309781, 7.978503163030837e-06]\n",
      "IN\tIN\tNL-HaNA_1.04.02_3248_0898.jpg\tte Batchian ter hou gekomen waren, en zig dien twe\t[5.413499820861034e-05, 0.9998134970664978, 0.00012518158473540097, 7.213781373138772e-06]\n",
      "IN\tIN\tNL-HaNA_1.04.02_3248_0899.jpg\tWaar mede den relatant dit zijne gegevene relaas c\t[4.212652493151836e-05, 0.9996358156204224, 0.00031472768750973046, 7.3013329711102415e-06]\n",
      "IN\tIN\tNL-HaNA_1.04.02_3248_0900.jpg\t\t[3.799659316428006e-05, 0.9997499585151672, 0.00019883042841684073, 1.3179309462429956e-05]\n",
      "IN\tIN\tNL-HaNA_1.04.02_3248_0901.jpg\tOp heden den 8:e Februarij 1768: Compa„; „reerde v\t[4.924548193230294e-05, 0.9995716214179993, 0.0003694166662171483, 9.765276445250493e-06]\n",
      "END\tEND\tNL-HaNA_1.04.02_3248_0902.jpg\twaar mede den relatant zijn gegevene relaas quam t\t[9.328077794634737e-07, 3.3922722650459036e-05, 0.9999650716781616, 3.908450807443842e-08]\n",
      "BEGIN\tBEGIN\tNL-HaNA_1.04.02_8099_0205.jpg\tVan Ternaten onder dato 11:' 7ber: 1732; van alle \t[0.9999786615371704, 1.6761161532485858e-05, 7.109573374464162e-08, 4.473052285902668e-06]\n",
      "IN\tIN\tNL-HaNA_1.04.02_8099_0206.jpg\tVan Ternaten onder dato 11:' Septemb:r 1732; Lauwt\t[0.0003055156848859042, 0.9995922446250916, 7.674948574276641e-05, 2.5469777028774843e-05]\n",
      "IN\tIN\tNL-HaNA_1.04.02_8099_0207.jpg\tVan Ternaten onder dato 11:' 7ber: 1732; door hem \t[0.00011168263881700113, 0.999796450138092, 8.003695984371006e-05, 1.1802400877058972e-05]\n",
      "IN\tIN\tNL-HaNA_1.04.02_8099_0208.jpg\tTernaten onder dato 11:' 7ber: 1732; Van; „dugting\t[9.071313252206892e-05, 0.9998183846473694, 8.072055788943544e-05, 1.0241407835565042e-05]\n",
      "IN\tIN\tNL-HaNA_1.04.02_8099_0209.jpg\tTernaten onder dato 11:' 7ber: 1732; Van; Ternaten\t[0.00010253615619149059, 0.9998103976249695, 7.586066931253299e-05, 1.1174540304637048e-05]\n",
      "IN\tIN\tNL-HaNA_1.04.02_8099_0210.jpg\tTernaten onder dato 11:' Sepb: 1732; Van; voor ops\t[9.523064363747835e-05, 0.999815046787262, 7.853678107494488e-05, 1.1225723028474022e-05]\n",
      "IN\tIN\tNL-HaNA_1.04.02_8099_0211.jpg\tTernaten onder dato 17:' 7ber: 1732; E; Van; en we\t[8.672411786392331e-05, 0.9998236298561096, 7.954223110573366e-05, 1.0153701623494271e-05]\n",
      "IN\tIN\tNL-HaNA_1.04.02_8099_0212.jpg\tVan Ternaten onder dato 11:' Jber: 1732; Saturdag \t[9.171385318040848e-05, 0.9998158812522888, 8.105669257929549e-05, 1.1274775715719443e-05]\n",
      "IN\tIN\tNL-HaNA_1.04.02_8099_0213.jpg\tVan Ternaten onder dato 11:' Jber: A„o 1732; AAan \t[0.00010305675095878541, 0.9998117089271545, 7.358007860602811e-05, 1.1636631825240329e-05]\n",
      "IN\tIN\tNL-HaNA_1.04.02_8099_0214.jpg\tVan Ternaten onder dato 11:' Septemb: A„o 1732; ee\t[7.342654862441123e-05, 0.9998438358306885, 7.305991312023252e-05, 9.61693876888603e-06]\n",
      "IN\tIN\tNL-HaNA_1.04.02_8099_0215.jpg\tVan Ternaten onder dato 11:' Septemb: 1732; waar v\t[5.6171647884184495e-05, 0.9998594522476196, 7.596792420372367e-05, 8.39548920339439e-06]\n",
      "IN\tIN\tNL-HaNA_1.04.02_8099_0216.jpg\tTernaten onder dato 11:' 7ber: A„o 1732; Van; uijt\t[4.999190423404798e-05, 0.9997672438621521, 0.00017143589502666146, 1.1310594345559366e-05]\n",
      "END\tEND\tNL-HaNA_1.04.02_8099_0217.jpg\tVan Ternaten onder dato 11:' Septemb: 1732; s geli\t[1.2517922414190252e-06, 4.0053553675534204e-05, 0.9999586343765259, 5.183286688748012e-08]\n"
     ]
    },
    {
     "name": "stderr",
     "output_type": "stream",
     "text": [
      "\n"
     ]
    }
   ],
   "source": [
    "import sys\n",
    "\n",
    "precision, recall, f1, accuracy = tagger.eval_(test_data, BATCH_SIZE, sys.stdout)"
   ]
  },
  {
   "cell_type": "code",
   "execution_count": 25,
   "metadata": {},
   "outputs": [
    {
     "name": "stdout",
     "output_type": "stream",
     "text": [
      "Metric\tBEGIN\tIN\tEND\tOUT\n",
      "MulticlassPrecision\t0.9091\t1.0000\t0.9524\t0.8333\n",
      "MulticlassRecall\t0.9524\t0.9941\t0.9524\t1.0000\n",
      "MulticlassF1Score\t0.9302\t0.9970\t0.9524\t0.9091\n",
      "MulticlassF1Score (micro average):\t0.9896\n"
     ]
    }
   ],
   "source": [
    "import csv\n",
    "\n",
    "from document_segmentation.pagexml.datamodel.label import Label\n",
    "\n",
    "writer = csv.DictWriter(\n",
    "    sys.stdout, fieldnames=[\"Metric\"] + [label.name for label in Label], delimiter=\"\\t\"\n",
    ")\n",
    "\n",
    "writer.writeheader()\n",
    "\n",
    "for metric in precision, recall, f1:\n",
    "    assert metric.average is None\n",
    "\n",
    "    scores: list[float] = metric.compute().tolist()\n",
    "    writer.writerow(\n",
    "        {\"Metric\": metric.__class__.__name__}\n",
    "        | {label.name: f\"{score:.4f}\" for label, score in zip(Label, scores)}\n",
    "    )\n",
    "\n",
    "assert accuracy.average is not None\n",
    "\n",
    "print(\n",
    "    f\"{metric.__class__.__name__} ({accuracy.average} average):\\t{accuracy.compute().item():.4f}\",\n",
    "    file=sys.stdout,\n",
    ")"
   ]
  }
 ],
 "metadata": {
  "kernelspec": {
   "display_name": ".venv",
   "language": "python",
   "name": "python3"
  },
  "language_info": {
   "codemirror_mode": {
    "name": "ipython",
    "version": 3
   },
   "file_extension": ".py",
   "mimetype": "text/x-python",
   "name": "python",
   "nbconvert_exporter": "python",
   "pygments_lexer": "ipython3",
   "version": "3.11.2"
  }
 },
 "nbformat": 4,
 "nbformat_minor": 2
}
