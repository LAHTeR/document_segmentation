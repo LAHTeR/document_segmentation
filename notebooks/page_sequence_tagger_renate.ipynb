{
 "cells": [
  {
   "cell_type": "code",
   "execution_count": 1,
   "metadata": {},
   "outputs": [],
   "source": [
    "%load_ext autoreload\n",
    "%autoreload now"
   ]
  },
  {
   "cell_type": "code",
   "execution_count": 2,
   "metadata": {},
   "outputs": [],
   "source": [
    "import os\n",
    "\n",
    "os.environ[\"CUDA_VISIBLE_DEVICES\"] = \"MIG-08137aa2-e69b-5e74-8390-7997329b1336\""
   ]
  },
  {
   "cell_type": "markdown",
   "metadata": {},
   "source": [
    "# Download and convert data"
   ]
  },
  {
   "cell_type": "code",
   "execution_count": 3,
   "metadata": {},
   "outputs": [
    {
     "name": "stderr",
     "output_type": "stream",
     "text": [
      "Writing documents: 0doc [00:00, ?doc/s]\n"
     ]
    }
   ],
   "source": [
    "from tqdm import tqdm\n",
    "\n",
    "from document_segmentation.pagexml.annotations.renate_analysis import RenateAnalysis\n",
    "from document_segmentation.settings import RENATE_ANALYSIS_DIR\n",
    "\n",
    "N = None\n",
    "\n",
    "RENATE_ANALYSIS_DIR.mkdir(parents=True, exist_ok=True)\n",
    "\n",
    "sheet = RenateAnalysis()\n",
    "\n",
    "\n",
    "existing_docs = {\n",
    "    path.stem for path in RENATE_ANALYSIS_DIR.glob(\"Globdoc_*.json\") if path.is_file()\n",
    "}\n",
    "\n",
    "for document in tqdm(\n",
    "    sheet.to_documents(n=N, skip_ids=existing_docs),\n",
    "    total=(N or len(sheet)) - len(existing_docs),\n",
    "    desc=\"Writing documents\",\n",
    "    unit=\"doc\",\n",
    "):\n",
    "    document_file = RENATE_ANALYSIS_DIR / f\"{document.id}.json\"\n",
    "\n",
    "    with document_file.open(\"xt\") as f:\n",
    "        f.write(document.model_dump_json())\n",
    "        f.write(\"\\n\")"
   ]
  },
  {
   "cell_type": "code",
   "execution_count": 4,
   "metadata": {},
   "outputs": [
    {
     "name": "stderr",
     "output_type": "stream",
     "text": [
      "Writing documents: 100%|██████████| 26/26 [00:11<00:00,  2.33doc/s]\n"
     ]
    }
   ],
   "source": [
    "import logging\n",
    "\n",
    "from tqdm import tqdm\n",
    "\n",
    "from document_segmentation.pagexml.annotations.renate_analysis import RenateAnalysisInv\n",
    "from document_segmentation.settings import RENATE_ANALYSIS_DIR, RENATE_ANALYSIS_SHEETS\n",
    "\n",
    "N = None\n",
    "\n",
    "\n",
    "sheet = RenateAnalysisInv(RENATE_ANALYSIS_SHEETS[0])  # TODO: use both sheets\n",
    "\n",
    "for document in tqdm(\n",
    "    sheet.to_documents(n=N), desc=\"Writing documents\", unit=\"doc\", total=26\n",
    "):\n",
    "    document_file = RENATE_ANALYSIS_DIR / f\"{document.id}.json\"\n",
    "\n",
    "    if document_file.exists():\n",
    "        logging.info(f\"Document {document.id} already exists, skipping\")\n",
    "    else:\n",
    "        with document_file.open(\"xt\") as f:\n",
    "            f.write(document.model_dump_json())\n",
    "            f.write(\"\\n\")"
   ]
  },
  {
   "cell_type": "markdown",
   "metadata": {},
   "source": [
    "# Load Data"
   ]
  },
  {
   "cell_type": "code",
   "execution_count": 5,
   "metadata": {},
   "outputs": [],
   "source": [
    "%autoreload now"
   ]
  },
  {
   "cell_type": "code",
   "execution_count": 6,
   "metadata": {},
   "outputs": [],
   "source": [
    "TRAINING_DATA = 0.8"
   ]
  },
  {
   "cell_type": "code",
   "execution_count": 7,
   "metadata": {},
   "outputs": [
    {
     "name": "stderr",
     "output_type": "stream",
     "text": [
      "Reading JSON files: 100%|██████████| 104/104 [00:00<00:00, 160.10file/s]\n"
     ]
    },
    {
     "data": {
      "text/plain": [
       "104"
      ]
     },
     "execution_count": 7,
     "metadata": {},
     "output_type": "execute_result"
    }
   ],
   "source": [
    "from document_segmentation.model.dataset import DocumentDataset\n",
    "\n",
    "dataset: DocumentDataset = DocumentDataset.from_dir(RENATE_ANALYSIS_DIR)\n",
    "dataset.shuffle()\n",
    "\n",
    "len(dataset)"
   ]
  },
  {
   "cell_type": "code",
   "execution_count": 8,
   "metadata": {},
   "outputs": [
    {
     "data": {
      "text/plain": [
       "Counter({<Label.IN: 1>: 1907,\n",
       "         <Label.BEGIN: 0>: 104,\n",
       "         <Label.END: 2>: 100,\n",
       "         <Label.OUT: 3>: 73})"
      ]
     },
     "execution_count": 8,
     "metadata": {},
     "output_type": "execute_result"
    }
   ],
   "source": [
    "dataset._class_counts()"
   ]
  },
  {
   "cell_type": "code",
   "execution_count": 9,
   "metadata": {},
   "outputs": [
    {
     "data": {
      "text/plain": [
       "[0.9904761904761905,\n",
       " 0.05450733752620545,\n",
       " 1.0297029702970297,\n",
       " 1.4054054054054055]"
      ]
     },
     "execution_count": 9,
     "metadata": {},
     "output_type": "execute_result"
    }
   ],
   "source": [
    "dataset.class_weights()"
   ]
  },
  {
   "cell_type": "code",
   "execution_count": 10,
   "metadata": {},
   "outputs": [],
   "source": [
    "training_data, test_data = dataset.split(TRAINING_DATA)"
   ]
  },
  {
   "cell_type": "code",
   "execution_count": 11,
   "metadata": {},
   "outputs": [
    {
     "data": {
      "text/plain": [
       "Counter({<Label.IN: 1>: 1613,\n",
       "         <Label.BEGIN: 0>: 83,\n",
       "         <Label.END: 2>: 79,\n",
       "         <Label.OUT: 3>: 54})"
      ]
     },
     "execution_count": 11,
     "metadata": {},
     "output_type": "execute_result"
    }
   ],
   "source": [
    "training_data._class_counts()"
   ]
  },
  {
   "cell_type": "code",
   "execution_count": 12,
   "metadata": {},
   "outputs": [
    {
     "data": {
      "text/plain": [
       "Counter({<Label.IN: 1>: 294,\n",
       "         <Label.BEGIN: 0>: 21,\n",
       "         <Label.END: 2>: 21,\n",
       "         <Label.OUT: 3>: 19})"
      ]
     },
     "execution_count": 12,
     "metadata": {},
     "output_type": "execute_result"
    }
   ],
   "source": [
    "test_data._class_counts()"
   ]
  },
  {
   "cell_type": "markdown",
   "metadata": {},
   "source": [
    "# Train Model"
   ]
  },
  {
   "cell_type": "code",
   "execution_count": 13,
   "metadata": {},
   "outputs": [],
   "source": [
    "import torch\n",
    "\n",
    "BATCH_SIZE = 64\n",
    "EPOCHS = 10\n",
    "WEIGHTS = dataset.class_weights()"
   ]
  },
  {
   "cell_type": "code",
   "execution_count": 14,
   "metadata": {},
   "outputs": [],
   "source": [
    "from document_segmentation.model.page_sequence_tagger import PageSequenceTagger\n",
    "\n",
    "tagger = PageSequenceTagger()"
   ]
  },
  {
   "cell_type": "code",
   "execution_count": 15,
   "metadata": {},
   "outputs": [
    {
     "data": {
      "text/plain": [
       "'mps'"
      ]
     },
     "execution_count": 15,
     "metadata": {},
     "output_type": "execute_result"
    }
   ],
   "source": [
    "tagger._device"
   ]
  },
  {
   "cell_type": "code",
   "execution_count": 16,
   "metadata": {},
   "outputs": [
    {
     "data": {
      "text/plain": [
       "PageSequenceTagger(\n",
       "  (_page_embedding): PageEmbedding(\n",
       "    (_region_model): RegionEmbeddingSentenceTransformer(\n",
       "      (_transformer_model): SentenceTransformer(\n",
       "        (0): Transformer({'max_seq_length': 128, 'do_lower_case': False}) with Transformer model: RobertaModel \n",
       "        (1): Pooling({'word_embedding_dimension': 768, 'pooling_mode_cls_token': False, 'pooling_mode_mean_tokens': True, 'pooling_mode_max_tokens': False, 'pooling_mode_mean_sqrt_len_tokens': False, 'pooling_mode_weightedmean_tokens': False, 'pooling_mode_lasttoken': False})\n",
       "      )\n",
       "      (_region_type): Embedding(9, 16)\n",
       "      (_linear): Linear(in_features=784, out_features=512, bias=True)\n",
       "    )\n",
       "    (_rnn): LSTM(512, 256, num_layers=2, batch_first=True, dropout=0.1, bidirectional=True)\n",
       "    (_linear): Linear(in_features=512, out_features=256, bias=True)\n",
       "  )\n",
       "  (_rnn): LSTM(256, 256, num_layers=2, batch_first=True, dropout=0.1, bidirectional=True)\n",
       "  (_linear): Linear(in_features=512, out_features=4, bias=True)\n",
       "  (_softmax): Softmax(dim=1)\n",
       ")"
      ]
     },
     "execution_count": 16,
     "metadata": {},
     "output_type": "execute_result"
    }
   ],
   "source": [
    "tagger"
   ]
  },
  {
   "cell_type": "code",
   "execution_count": 17,
   "metadata": {},
   "outputs": [
    {
     "name": "stderr",
     "output_type": "stream",
     "text": [
      "Training: 100%|██████████| 93/93 [01:46<00:00,  1.15s/batch]\n"
     ]
    },
    {
     "name": "stdout",
     "output_type": "stream",
     "text": [
      "[Loss:\t0.124]\n"
     ]
    },
    {
     "name": "stderr",
     "output_type": "stream",
     "text": [
      "Training: 100%|██████████| 93/93 [00:05<00:00, 17.93batch/s]\n"
     ]
    },
    {
     "name": "stdout",
     "output_type": "stream",
     "text": [
      "[Loss:\t0.123]\n"
     ]
    },
    {
     "name": "stderr",
     "output_type": "stream",
     "text": [
      "Training: 100%|██████████| 93/93 [00:05<00:00, 17.81batch/s]\n"
     ]
    },
    {
     "name": "stdout",
     "output_type": "stream",
     "text": [
      "[Loss:\t0.122]\n"
     ]
    },
    {
     "name": "stderr",
     "output_type": "stream",
     "text": [
      "Training: 100%|██████████| 93/93 [00:05<00:00, 17.96batch/s]\n"
     ]
    },
    {
     "name": "stdout",
     "output_type": "stream",
     "text": [
      "[Loss:\t0.075]\n"
     ]
    },
    {
     "name": "stderr",
     "output_type": "stream",
     "text": [
      "Training: 100%|██████████| 93/93 [00:05<00:00, 17.92batch/s]\n"
     ]
    },
    {
     "name": "stdout",
     "output_type": "stream",
     "text": [
      "[Loss:\t0.075]\n"
     ]
    },
    {
     "name": "stderr",
     "output_type": "stream",
     "text": [
      "Training: 100%|██████████| 93/93 [00:05<00:00, 17.86batch/s]\n"
     ]
    },
    {
     "name": "stdout",
     "output_type": "stream",
     "text": [
      "[Loss:\t0.074]\n"
     ]
    },
    {
     "name": "stderr",
     "output_type": "stream",
     "text": [
      "Training: 100%|██████████| 93/93 [00:05<00:00, 17.96batch/s]\n"
     ]
    },
    {
     "name": "stdout",
     "output_type": "stream",
     "text": [
      "[Loss:\t0.074]\n"
     ]
    },
    {
     "name": "stderr",
     "output_type": "stream",
     "text": [
      "Training: 100%|██████████| 93/93 [00:05<00:00, 17.98batch/s]\n"
     ]
    },
    {
     "name": "stdout",
     "output_type": "stream",
     "text": [
      "[Loss:\t0.074]\n"
     ]
    },
    {
     "name": "stderr",
     "output_type": "stream",
     "text": [
      "Training: 100%|██████████| 93/93 [00:05<00:00, 18.06batch/s]\n"
     ]
    },
    {
     "name": "stdout",
     "output_type": "stream",
     "text": [
      "[Loss:\t0.074]\n"
     ]
    },
    {
     "name": "stderr",
     "output_type": "stream",
     "text": [
      "Training: 100%|██████████| 93/93 [00:05<00:00, 18.10batch/s]"
     ]
    },
    {
     "name": "stdout",
     "output_type": "stream",
     "text": [
      "[Loss:\t0.074]\n"
     ]
    },
    {
     "name": "stderr",
     "output_type": "stream",
     "text": [
      "\n"
     ]
    }
   ],
   "source": [
    "tagger.train_(training_data, EPOCHS, BATCH_SIZE, WEIGHTS.to(tagger._device))"
   ]
  },
  {
   "cell_type": "code",
   "execution_count": 18,
   "metadata": {},
   "outputs": [],
   "source": [
    "with open(\"page_sequence_tagger.pt\", \"xb\") as f:\n",
    "    torch.save(tagger, f)"
   ]
  },
  {
   "cell_type": "markdown",
   "metadata": {},
   "source": [
    "# Evaluate Model"
   ]
  },
  {
   "cell_type": "code",
   "execution_count": 19,
   "metadata": {},
   "outputs": [
    {
     "name": "stdout",
     "output_type": "stream",
     "text": [
      "Predicted\tActual\tPage ID\tText\tScores\n"
     ]
    },
    {
     "name": "stderr",
     "output_type": "stream",
     "text": [
      "Evaluating:   0%|          | 0/23 [00:00<?, ?batch/s]"
     ]
    },
    {
     "name": "stdout",
     "output_type": "stream",
     "text": [
      "BEGIN\tBEGIN\tNL-HaNA_1.04.02_8737_0089.jpg\tVan Bengale, onder dato 28„' 8ber: A. o 1705.; voo\t[0.9998795986175537, 4.716290277428925e-05, 5.450770186143927e-05, 1.8789738533087075e-05]\n"
     ]
    },
    {
     "name": "stderr",
     "output_type": "stream",
     "text": [
      "Evaluating:   4%|▍         | 1/23 [00:00<00:04,  5.00batch/s]"
     ]
    },
    {
     "name": "stdout",
     "output_type": "stream",
     "text": [
      "END\tEND\tNL-HaNA_1.04.02_8737_0090.jpg\tVan Bengale onder dato 28:' xber: A:o 1705.; waar \t[0.0003245954285375774, 0.00012509663065429777, 0.9995437264442444, 6.612697234231746e-06]\n"
     ]
    },
    {
     "name": "stderr",
     "output_type": "stream",
     "text": [
      "Evaluating:   9%|▊         | 2/23 [00:02<00:31,  1.48s/batch]"
     ]
    },
    {
     "name": "stdout",
     "output_type": "stream",
     "text": [
      "OUT\tOUT\tNL-HaNA_1.04.02_1547_0020.jpg\t\t[6.891964585520327e-05, 4.436900417204015e-05, 1.554836126160808e-05, 0.9998711347579956]\n",
      "OUT\tOUT\tNL-HaNA_1.04.02_1547_0021.jpg\t\t[3.485719935270026e-05, 2.1129219021531753e-05, 9.011316251417156e-06, 0.9999350309371948]\n",
      "OUT\tOUT\tNL-HaNA_1.04.02_1547_0022.jpg\t\t[3.9889069739729166e-05, 1.9674509530887008e-05, 9.324101483798586e-06, 0.9999310970306396]\n",
      "OUT\tOUT\tNL-HaNA_1.04.02_1547_0023.jpg\t1.; Hrigineele briev; No\t[0.08336205035448074, 0.00025207537692040205, 0.0003549853863660246, 0.9160308837890625]\n",
      "OUT\tOUT\tNL-HaNA_1.04.02_1547_0024.jpg\t\t[0.00012575231085065752, 0.00010892363206949085, 2.3612075892742723e-05, 0.9997417330741882]\n",
      "OUT\tOUT\tNL-HaNA_1.04.02_1547_0025.jpg\t\t[8.848142897477373e-05, 5.1348499255254865e-05, 1.5468025594600476e-05, 0.9998446702957153]\n",
      "OUT\tOUT\tNL-HaNA_1.04.02_1547_0026.jpg\t\t[0.00013648535241372883, 4.937762059853412e-05, 1.9503198927850462e-05, 0.9997946619987488]\n",
      "BEGIN\tBEGIN\tNL-HaNA_1.04.02_1547_0027.jpg\tAan d' Edele Hog Agbaare Heeren; De Heeren Bewindh\t[0.9996926784515381, 8.798846101853997e-05, 3.36738012265414e-05, 0.000185617376700975]\n",
      "IN\tIN\tNL-HaNA_1.04.02_1547_0028.jpg\tHoog Agtbaare te schrijven, en den toestand deser;\t[0.0014325425727292895, 0.9981070756912231, 0.0004000931221526116, 6.034519901731983e-05]\n",
      "IN\tIN\tNL-HaNA_1.04.02_1547_0029.jpg\tdeses Jaars p:r 'tschip Courtgena med; soodanige b\t[0.0009721624082885683, 0.9985994696617126, 0.0003944511408917606, 3.392631697352044e-05]\n",
      "IN\tIN\tNL-HaNA_1.04.02_1547_0030.jpg\tkonnende ophaalen, door swackheijt van volk; vermi\t[0.000742301344871521, 0.9988401532173157, 0.00039962949813343585, 1.7972304704017006e-05]\n",
      "IN\tIN\tNL-HaNA_1.04.02_1547_0031.jpg\tgeneraale Comp: onder dit ons aan; vertrouwde mall\t[0.0004469164414331317, 0.9992094039916992, 0.00033780705416575074, 5.877194325876189e-06]\n",
      "IN\tIN\tNL-HaNA_1.04.02_1547_0032.jpg\tanders vermoedelijk zij, soo sal sulcx; soo gemack\t[0.0002943330619018525, 0.999405026435852, 0.0002984081511385739, 2.2712865757057443e-06]\n",
      "IN\tIN\tNL-HaNA_1.04.02_1547_0033.jpg\tte ontwaaren, bij het schrijvens van dien; moors b\t[0.00024062303418759257, 0.9994511008262634, 0.0003067313227802515, 1.498270080446673e-06]\n",
      "IN\tIN\tNL-HaNA_1.04.02_1547_0034.jpg\tsoo als het bij een vreedige regeeringe eertijts; \t[0.00021843667491339147, 0.9994745850563049, 0.0003056878049392253, 1.3009334907110315e-06]\n",
      "IN\tIN\tNL-HaNA_1.04.02_1547_0035.jpg\t17:e februarij deses Jaars, belaaden med; verschei\t[0.000214160667383112, 0.9994660019874573, 0.0003186906105838716, 1.2237829878358752e-06]\n",
      "IN\tIN\tNL-HaNA_1.04.02_1547_0036.jpg\tals onder N:o 9. in Copia hier nevens; overgaat, w\t[0.00022376325796358287, 0.9994838237762451, 0.0002910667972173542, 1.3527784403777332e-06]\n",
      "IN\tIN\tNL-HaNA_1.04.02_1547_0037.jpg\tweesen, dierhalven sulkx bij ons in aan„; merkinge\t[0.0002227613003924489, 0.9994803071022034, 0.000295614154310897, 1.3089704680169234e-06]\n",
      "IN\tIN\tNL-HaNA_1.04.02_1547_0038.jpg\talhier aanland doen lighten en mied het; schip sil\t[0.00021699740318581462, 0.9994785189628601, 0.00030318315839394927, 1.2564571534312563e-06]\n",
      "IN\tIN\tNL-HaNA_1.04.02_1547_0039.jpg\t150. lb champhur; 5. stx. rootscharlaaken; Alsoo d\t[0.00021921764709986746, 0.9994681477546692, 0.00031146593391895294, 1.239359562532627e-06]\n",
      "IN\tIN\tNL-HaNA_1.04.02_1547_0040.jpg\tvan wijser ordeel soohet daarlijcks soo„; danigh w\t[0.00021556299179792404, 0.999477207660675, 0.0003058950824197382, 1.293141735914105e-06]\n",
      "IN\tIN\tNL-HaNA_1.04.02_1547_0041.jpg\tbuijtende hovs:n gesinde dat voorregt sullen; over\t[0.00022002363402862102, 0.9994367957115173, 0.0003418569976929575, 1.2658797459152993e-06]\n",
      "IN\tIN\tNL-HaNA_1.04.02_1547_0042.jpg\tregering med een ijgelijk koopman te mogen; drijve\t[0.00022357759007718414, 0.9994596838951111, 0.0003154119476675987, 1.2770290140906582e-06]\n",
      "IN\tIN\tNL-HaNA_1.04.02_1547_0043.jpg\tdie aan Jnlantsz barcque voor den; overvoer alhier\t[0.0002367508423049003, 0.9994775652885437, 0.00028433845727704465, 1.4382799236045685e-06]\n",
      "IN\tIN\tNL-HaNA_1.04.02_1547_0044.jpg\ttot soo lange het een of ander expedient; sal konn\t[0.00021779518283437937, 0.999491810798645, 0.00028912228299304843, 1.3354866723602754e-06]\n",
      "IN\tIN\tNL-HaNA_1.04.02_1547_0045.jpg\tJn conformite van haar hoog Edele; agtbaare tot ba\t[0.00022320922289509326, 0.9994500279426575, 0.0003254887124057859, 1.2585716149260406e-06]\n",
      "IN\tIN\tNL-HaNA_1.04.02_1547_0046.jpg\tmaar ook den staad en gelegenth:t der; negotie mit\t[0.00022653497580904514, 0.9994502663612366, 0.0003219545178581029, 1.2477610198402544e-06]\n",
      "IN\tIN\tNL-HaNA_1.04.02_1547_0047.jpg\thier aangekoomen, tot nogh geen tijt; genogh gehad\t[0.00022244162391871214, 0.999464213848114, 0.00031211826717481017, 1.2399315210132045e-06]\n",
      "IN\tIN\tNL-HaNA_1.04.02_1547_0048.jpg\tgewoonen landweg van persia een waar; berigt te do\t[0.0002183883188990876, 0.9994725584983826, 0.0003078203881159425, 1.2765791552737937e-06]\n",
      "IN\tIN\tNL-HaNA_1.04.02_1547_0049.jpg\tde stad te willen komen ontmoeten,; terwijle de ro\t[0.00021321297390386462, 0.9994608759880066, 0.00032478151842951775, 1.1928734693356091e-06]\n",
      "IN\tIN\tNL-HaNA_1.04.02_1547_0050.jpg\thoog:ts afgevaardigd schrijvens gecarteert, nevens\t[0.0002257648011436686, 0.9994569420814514, 0.00031605936237610877, 1.2230694892423344e-06]\n",
      "IN\tIN\tNL-HaNA_1.04.02_1547_0051.jpg\thoe gecommitteerde ofte ragiadoor den; onderkoopma\t[0.000216384680243209, 0.9994804263114929, 0.0003019576834049076, 1.2922002952109324e-06]\n",
      "IN\tIN\tNL-HaNA_1.04.02_1547_0052.jpg\tzal:r het tegendeel tot zijn verdried, en groot; h\t[0.00022337761765811592, 0.9994679093360901, 0.0003074484411627054, 1.2941241038788576e-06]\n",
      "IN\tIN\tNL-HaNA_1.04.02_1547_0053.jpg\ten te herstellen, willende verhoopen dat; haar Ed:\t[0.0002126312319887802, 0.9994828701019287, 0.0003032154345419258, 1.2732634786516428e-06]\n",
      "IN\tIN\tNL-HaNA_1.04.02_1547_0054.jpg\t„linge der zaaken ten principaale tot; een beeter \t[0.00022904113575350493, 0.99941086769104, 0.00035882205702364445, 1.2901610944027198e-06]\n",
      "IN\tIN\tNL-HaNA_1.04.02_1547_0055.jpg\tte werden de briev, en schenckagie ins ge„; „lijcx\t[0.0002103595616063103, 0.9994801878929138, 0.0003082296170759946, 1.2473652759581455e-06]\n",
      "IN\tIN\tNL-HaNA_1.04.02_1547_0056.jpg\tsig onmoogelijk tot de afreijse na Crangan; „konde\t[0.00020538328681141138, 0.999494194984436, 0.00029903874383307993, 1.2597164413818973e-06]\n",
      "IN\tIN\tNL-HaNA_1.04.02_1547_0057.jpg\tdie med den sammorijn voor het Intrest; en belang \t[0.00022833504772279412, 0.9994437098503113, 0.00032676898990757763, 1.2435617691153311e-06]\n",
      "IN\tIN\tNL-HaNA_1.04.02_1547_0058.jpg\twas, ende laastelijk, 't gunt wel 't swaar„; „ste \t[0.000217676380998455, 0.9994506239891052, 0.0003305553400423378, 1.2467777423808002e-06]\n",
      "IN\tIN\tNL-HaNA_1.04.02_1547_0059.jpg\tbehalven nog de huijsmeubelen bedragende; in gelde\t[0.0002193224645452574, 0.9994854927062988, 0.00029383174842223525, 1.2818635468647699e-06]\n",
      "IN\tIN\tNL-HaNA_1.04.02_1547_0060.jpg\tals kennende haar wispeltuurigen aard, en; spoorel\t[0.00021278052008710802, 0.9994761347770691, 0.0003098457818850875, 1.2516990182120935e-06]\n",
      "IN\tIN\tNL-HaNA_1.04.02_1547_0061.jpg\tCommandeur goed gedagt tot bereijk van; dat goed o\t[0.00021844101138412952, 0.9994648098945618, 0.0003154710284434259, 1.2562375104607781e-06]\n",
      "IN\tIN\tNL-HaNA_1.04.02_1547_0062.jpg\tkonde te resolteeren, invoegen uw Ed:le hoog; agtb\t[0.00021369860041886568, 0.9994729161262512, 0.0003121129411738366, 1.2724178759526694e-06]\n",
      "IN\tIN\tNL-HaNA_1.04.02_1547_0063.jpg\tafgesant van sijn maijesteijt niet alleen; dierwee\t[0.0002173975808545947, 0.9994680285453796, 0.0003133300051558763, 1.2828488706873031e-06]\n",
      "IN\tIN\tNL-HaNA_1.04.02_1547_0064.jpg\tna sijn E. voorneemen, en het afvaardigen; deses s\t[0.00021182223281357437, 0.9994732737541199, 0.00031376854167319834, 1.249633214683854e-06]\n",
      "IN\tIN\tNL-HaNA_1.04.02_1547_0065.jpg\thoe wel den Calicoijlander het liever anders; wens\t[0.00020847471023444086, 0.999468982219696, 0.00032131397165358067, 1.2069478998455452e-06]\n",
      "IN\tIN\tNL-HaNA_1.04.02_1547_0066.jpg\teen gewenschte occagie gebooren souden; zijn de be\t[0.00021514331456273794, 0.9994576573371887, 0.00032606718013994396, 1.1938564057345502e-06]\n",
      "IN\tIN\tNL-HaNA_1.04.02_1547_0067.jpg\tinwickelinge tot haare onderlinge krackeelen; stil\t[0.00020890326413791627, 0.9994702935218811, 0.000319594400934875, 1.236981574948004e-06]\n",
      "IN\tIN\tNL-HaNA_1.04.02_1547_0068.jpg\toverleeden oud heer Command:j van Dielen; zal:r La\t[0.00021204074437264353, 0.9994648098945618, 0.00032199485576711595, 1.2405804454829195e-06]\n",
      "IN\tIN\tNL-HaNA_1.04.02_1547_0069.jpg\tsoo lange men van haar Ho: Ed:le agtb=re; ordres d\t[0.0002210298553109169, 0.9994744658470154, 0.0003032128734048456, 1.3058071317573194e-06]\n",
      "IN\tIN\tNL-HaNA_1.04.02_1547_0070.jpg\tsoo verre te ontslaan dat, volgens het gedan; Rapp\t[0.0002080875274259597, 0.999473512172699, 0.00031722872518002987, 1.2076072835043306e-06]\n",
      "IN\tIN\tNL-HaNA_1.04.02_1547_0071.jpg\tvan saaken zullen koomen te treeden; ende de oneff\t[0.00021028508490417153, 0.9994702935218811, 0.0003181888023391366, 1.2425219892975292e-06]\n",
      "IN\tIN\tNL-HaNA_1.04.02_1547_0072.jpg\tingewortelt, en qualijk weeder uijt te; roeijen si\t[0.00021615765581373125, 0.9994749426841736, 0.00030777501524426043, 1.2408888778736582e-06]\n",
      "IN\tIN\tNL-HaNA_1.04.02_1547_0073.jpg\tde fortresse aldaar, op soo een voornaame; frontuu\t[0.00020965392468497157, 0.9994780421257019, 0.0003109896497335285, 1.2588926665557665e-06]\n",
      "IN\tIN\tNL-HaNA_1.04.02_1547_0074.jpg\tsuccessivelijk dien aanbelangende, gesz:; soo wel \t[0.00020707363728433847, 0.9994767308235168, 0.0003150628472212702, 1.2483975524446578e-06]\n",
      "IN\tIN\tNL-HaNA_1.04.02_1547_0075.jpg\ten vriendschap te bejegenen, mitsgaders; alle moog\t[0.000207451987080276, 0.999480664730072, 0.0003106356889475137, 1.2555423154481105e-06]\n",
      "IN\tIN\tNL-HaNA_1.04.02_1547_0076.jpg\tagtb: tot batavia ook niet hebben; nagelaaten onse\t[0.00022828095825389028, 0.9994519352912903, 0.0003185093228239566, 1.2636530755116837e-06]\n",
      "IN\tIN\tNL-HaNA_1.04.02_1547_0077.jpg\theere Commissaris (L: m:) aan hem; toegebraght en \t[0.00022703905415255576, 0.9994499087333679, 0.00032174139050766826, 1.3677855577043374e-06]\n",
      "IN\tIN\tNL-HaNA_1.04.02_1547_0078.jpg\tte betragten, Jnvoegen de versellende afschriven; \t[0.00021247896074783057, 0.9994674324989319, 0.00031880021560937166, 1.257421445188811e-06]\n",
      "IN\tIN\tNL-HaNA_1.04.02_1547_0079.jpg\tsullen vinden de handen aan het werk; teslaan, end\t[0.0002089366316795349, 0.9994716048240662, 0.00031824351754039526, 1.2370232980174478e-06]\n",
      "IN\tIN\tNL-HaNA_1.04.02_1547_0080.jpg\tmed de N=rst:t 18, 19. en 20. geteekent med aan„; \t[0.0002194457483710721, 0.9994361996650696, 0.00034300959669053555, 1.286287101720518e-06]\n",
      "IN\tIN\tNL-HaNA_1.04.02_1547_0081.jpg\tDe generaale lasten hebben a:o 1693. beloopen tot;\t[0.00021239891066215932, 0.9994139671325684, 0.0003723098197951913, 1.263521880900953e-06]\n",
      "IN\tIN\tNL-HaNA_1.04.02_1547_0082.jpg\talles breeder gespecificeert inde memorie; daar va\t[0.0004133640613872558, 0.997816801071167, 0.0017676755087450147, 2.135576323780697e-06]\n",
      "END\tIN\tNL-HaNA_1.04.02_1547_0083.jpg\tin't vervolg mogte vergroot ende konnen; g'accrese\t[0.00016643958224449307, 0.00017075568030122668, 0.9996587038040161, 4.02588511860813e-06]\n"
     ]
    },
    {
     "name": "stderr",
     "output_type": "stream",
     "text": [
      "Evaluating:  17%|█▋        | 4/23 [00:03<00:14,  1.28batch/s]"
     ]
    },
    {
     "name": "stdout",
     "output_type": "stream",
     "text": [
      "BEGIN\tIN\tNL-HaNA_1.04.02_1547_0084.jpg\thebbende konnen gesleeten werden, en; 'twelke haar\t[0.9998729228973389, 6.188813858898357e-05, 4.6217315684771165e-05, 1.898204027384054e-05]\n",
      "IN\tIN\tNL-HaNA_1.04.02_1547_0085.jpg\t11602¼. lb= bengaalse sijden, teweeten; 4651¾ lb C\t[0.0004650719929486513, 0.9992179870605469, 0.0003147173556499183, 2.272505753353471e-06]\n",
      "IN\tIN\tNL-HaNA_1.04.02_1547_0086.jpg\t54534. p:s mogta kleeden of Chiomas. —; 5697. —. t\t[0.00026869200519286096, 0.999468982219696, 0.00026091045583598316, 1.4025550854057656e-06]\n",
      "IN\tIN\tNL-HaNA_1.04.02_1547_0087.jpg\t4. packen med gebleekte gerras. —; 14. d=os mallem\t[0.00022760876163374633, 0.9994956254959106, 0.0002756057947408408, 1.2111519254176528e-06]\n",
      "IN\tIN\tNL-HaNA_1.04.02_1547_0088.jpg\t2210. lb Ceijlonse caneel; 6826:- Jappanse Camphur\t[0.00022158713545650244, 0.999498724937439, 0.00027853541541844606, 1.1722523822754738e-06]\n",
      "IN\tIN\tNL-HaNA_1.04.02_1547_0089.jpg\tin heede van den overleeden capitain hend:k; Reijn\t[0.00023988602333702147, 0.9994981288909912, 0.00026077975053340197, 1.2241700915183173e-06]\n",
      "IN\tIN\tNL-HaNA_1.04.02_1547_0090.jpg\t„jmploijeert was, tot de weeder reijse na batavia;\t[0.00022687787713948637, 0.9994997978210449, 0.00027207721723243594, 1.2312345916143386e-06]\n",
      "IN\tIN\tNL-HaNA_1.04.02_1547_0091.jpg\tbehaagen scheppen, en gelieven te oordeelen; na de\t[0.00024193785793613642, 0.9994931221008301, 0.0002637107972986996, 1.1742172318918165e-06]\n",
      "IN\tIN\tNL-HaNA_1.04.02_1547_0092.jpg\tDe generaale monsteringe van alle 's con; Europ: e\t[0.00023315103317145258, 0.999485969543457, 0.00027962253079749644, 1.2284250487937243e-06]\n",
      "IN\tIN\tNL-HaNA_1.04.02_1547_0093.jpg\tnademaal haar hoog Ed=le agtb: totbatavia; ons heb\t[0.00023653340758755803, 0.9994799494743347, 0.0002822232781909406, 1.2565704992084648e-06]\n",
      "IN\tIN\tNL-HaNA_1.04.02_1547_0094.jpg\tbesorginge derselve sijn g'abuseert ende missei„; \t[0.00023507035803049803, 0.9994418025016785, 0.0003217965131625533, 1.2770733519573696e-06]\n",
      "IN\tIN\tNL-HaNA_1.04.02_1547_0095.jpg\tblijven, gedencken den Inkoop derselve, als; voorh\t[0.0004288894706405699, 0.9981437921524048, 0.0014247236540541053, 2.6125896965822903e-06]\n",
      "END\tEND\tNL-HaNA_1.04.02_1547_0096.jpg\tgunstig welneemen:) abrievieerende, en besluijte; \t[0.00016542348021175712, 0.0001564833364682272, 0.9996738433837891, 4.265792540536495e-06]\n",
      "BEGIN\tBEGIN\tNL-HaNA_1.04.02_1147_0807.jpg\tInden Name Godes Amen, Cout ende; kennelijck zij e\t[0.9998688697814941, 6.065400884835981e-05, 5.1376682677073404e-05, 1.9069364498136565e-05]\n",
      "IN\tIN\tNL-HaNA_1.04.02_1147_0808.jpg\tmetten anderen tot zijnder gedachtenisse sullen; v\t[0.0008439333760179579, 0.9975782036781311, 0.0015738882357254624, 4.014962996734539e-06]\n",
      "END\tEND\tNL-HaNA_1.04.02_1147_0809.jpg\td' h:ren weesmeesteren, als oock andere magistrate\t[0.00017279322491958737, 0.00011512848868733272, 0.999708354473114, 3.6547651234286604e-06]\n"
     ]
    },
    {
     "name": "stderr",
     "output_type": "stream",
     "text": [
      "Evaluating:  26%|██▌       | 6/23 [00:03<00:07,  2.40batch/s]"
     ]
    },
    {
     "name": "stdout",
     "output_type": "stream",
     "text": [
      "BEGIN\tBEGIN\tNL-HaNA_1.04.02_1239_0447.jpg\tN=a 1: Origineele brieff door d' h=ren Rijckloff v\t[0.9998810291290283, 4.634555079974234e-05, 5.37945561518427e-05, 1.8800501493387856e-05]\n",
      "END\tEND\tNL-HaNA_1.04.02_1239_0448.jpg\tcasje den schipper ter; met opschrift aen d'Ede:; \t[0.00032319853198714554, 0.00012580906332004815, 0.9995444416999817, 6.615167421841761e-06]\n",
      "BEGIN\tBEGIN\tNL-HaNA_1.04.02_1072_0529.jpg\tErntfeste wijse voorsinnighe seer discrete heeren.\t[0.9998761415481567, 5.658320151269436e-05, 4.91199862153735e-05, 1.8194217773270793e-05]\n",
      "IN\tIN\tNL-HaNA_1.04.02_1072_0530.jpg\thouden want comen alle Jaren hier expresselijck me\t[0.0008431379101239145, 0.9976963400840759, 0.001456424011848867, 4.008799805887975e-06]\n",
      "END\tEND\tNL-HaNA_1.04.02_1072_0531.jpg\talle mogelijcke middelen naersticht te doen, om so\t[0.0001756351557560265, 0.00011641135643003508, 0.9997041821479797, 3.6990197713748785e-06]\n"
     ]
    },
    {
     "name": "stderr",
     "output_type": "stream",
     "text": [
      "Evaluating:  30%|███       | 7/23 [00:04<00:07,  2.02batch/s]"
     ]
    },
    {
     "name": "stdout",
     "output_type": "stream",
     "text": [
      "BEGIN\tBEGIN\tNL-HaNA_1.04.02_2438_0087.jpg\tVan Timor onder dato 7:' September A„o 1738: —.; d\t[0.9998769760131836, 6.052240860299207e-05, 4.4100837840233e-05, 1.839783726609312e-05]\n",
      "IN\tIN\tNL-HaNA_1.04.02_2438_0088.jpg\tdog niet anders als onder behoorlijke verband schr\t[0.00046211786684580147, 0.9991857409477234, 0.00034984314697794616, 2.207261104558711e-06]\n",
      "IN\tIN\tNL-HaNA_1.04.02_2438_0089.jpg\tVan Timor onder dato 7:' September A„o 170: —.; vo\t[0.00039823708357289433, 0.9980746507644653, 0.0015246078837662935, 2.558035021138494e-06]\n",
      "END\tEND\tNL-HaNA_1.04.02_2438_0090.jpg\tVan Timor onder dato 7:' September A„o 1738: —; /:\t[0.00015663965314161032, 0.00014568098413292319, 0.9996938705444336, 3.856774583255174e-06]\n",
      "OUT\tOUT\tNL-HaNA_1.04.02_1547_0603.jpg\t\t[3.62904611392878e-05, 2.180961746489629e-05, 1.3792511708743405e-05, 0.9999281167984009]\n",
      "OUT\tOUT\tNL-HaNA_1.04.02_1547_0604.jpg\t\t[1.5617306416970678e-05, 6.994436716922792e-06, 5.732850695494562e-06, 0.9999716281890869]\n",
      "OUT\tOUT\tNL-HaNA_1.04.02_1547_0605.jpg\t\t[1.2551666259241756e-05, 5.729678377974778e-06, 4.771409294335172e-06, 0.9999769926071167]\n",
      "OUT\tOUT\tNL-HaNA_1.04.02_1547_0606.jpg\t\t[1.629650068935007e-05, 6.287308224273147e-06, 5.170264557818882e-06, 0.9999722242355347]\n",
      "OUT\tOUT\tNL-HaNA_1.04.02_1547_0607.jpg\t\t[1.8684158931137063e-05, 9.412634426553268e-06, 6.069949449738488e-06, 0.9999657869338989]\n",
      "OUT\tOUT\tNL-HaNA_1.04.02_1547_0608.jpg\t\t[2.5009199816850014e-05, 1.1322100363031495e-05, 8.512911335856188e-06, 0.9999551773071289]\n",
      "OUT\tBEGIN\tNL-HaNA_1.04.02_1547_0609.jpg\t\t[6.322666740743443e-05, 1.7124202713603154e-05, 1.79730704985559e-05, 0.9999016523361206]\n",
      "BEGIN\tIN\tNL-HaNA_1.04.02_1547_0610.jpg\tJ=o W:t Namen toenamen, en geboorte plaatsen... ..\t[0.9997584223747253, 4.074021489941515e-05, 2.7753441827371716e-05, 0.00017309299437329173]\n",
      "IN\tIN\tNL-HaNA_1.04.02_1547_0611.jpg\tder naarvolgende Personen; ultimo Iunij (agtervolg\t[0.003690360113978386, 0.9955520033836365, 0.000675559916999191, 8.201425225706771e-05]\n",
      "IN\tIN\tNL-HaNA_1.04.02_1547_0612.jpg\t32. Coppen P„r Transport van d' andere seijde. —; \t[0.0016411065589636564, 0.996665894985199, 0.0016428973758593202, 5.0082962843589485e-05]\n",
      "END\tEND\tNL-HaNA_1.04.02_1547_0613.jpg\tIn't schip Cortgene den 30=en Iunij Anno 1694. —; \t[0.00045370569569058716, 0.0001319017173955217, 0.9993614554405212, 5.295352457324043e-05]\n"
     ]
    },
    {
     "name": "stderr",
     "output_type": "stream",
     "text": [
      "Evaluating:  39%|███▉      | 9/23 [00:05<00:08,  1.72batch/s]"
     ]
    },
    {
     "name": "stdout",
     "output_type": "stream",
     "text": [
      "BEGIN\tBEGIN\tNL-HaNA_1.04.02_1218_0951.jpg\tBeschrijvinge den Bormosaansche; Docken, huijsen e\t[0.9998676776885986, 6.654661410721019e-05, 4.618970342562534e-05, 1.9472785425023176e-05]\n",
      "IN\tIN\tNL-HaNA_1.04.02_1218_0952.jpg\tTarrouquan.-; Takkais; Poalij - - - -; Balis; Baba\t[0.0004196111985947937, 0.999277651309967, 0.00030072772642597556, 2.0250317902537063e-06]\n",
      "IN\tIN\tNL-HaNA_1.04.02_1218_0953.jpg\tdalivo; Goumol:..; Doubale Bajan; Ballebais; dubal\t[0.0002543299051467329, 0.99947589635849, 0.00026847433764487505, 1.342199425380386e-06]\n",
      "IN\tIN\tNL-HaNA_1.04.02_1218_0954.jpg\tKatsileij Rebel.; . .; Todorouw; Barbaras . . .; C\t[0.00022546703985426575, 0.9994694590568542, 0.00030388354207389057, 1.243108954440686e-06]\n",
      "IN\tIN\tNL-HaNA_1.04.02_1218_0955.jpg\t96. Dorpen.; Saradick.; Schitsiringh..; De Volgend\t[0.0002316978498129174, 0.9994916915893555, 0.00027536010020412505, 1.2073046491423156e-06]\n",
      "IN\tIN\tNL-HaNA_1.04.02_1218_0956.jpg\tEquintouwante dorpen; Appassouangh; Taramimissan; \t[0.00026630665524862707, 0.9993428587913513, 0.00038965133717283607, 1.2014376125080162e-06]\n",
      "IN\tIN\tNL-HaNA_1.04.02_1218_0957.jpg\tSalibon. . .; Sippejen; Turreturrick; Canaperappej\t[0.0005507582100108266, 0.9967130422592163, 0.0027327556163072586, 3.40042447533051e-06]\n",
      "END\tEND\tNL-HaNA_1.04.02_1218_0958.jpg\tKincolan; Roepop; Nammearij; Rurameij; Arangh- . .\t[0.0001706058974377811, 0.00017065064457710832, 0.9996546506881714, 4.079276095581008e-06]\n"
     ]
    },
    {
     "name": "stderr",
     "output_type": "stream",
     "text": [
      "Evaluating:  48%|████▊     | 11/23 [00:06<00:06,  1.89batch/s]"
     ]
    },
    {
     "name": "stdout",
     "output_type": "stream",
     "text": [
      "BEGIN\tBEGIN\tNL-HaNA_1.04.02_8526_0329.jpg\tSumatras West cust onder dato 6„' Jan: 1723.; Jan;\t[0.9998862743377686, 5.509870243258774e-05, 4.048737173434347e-05, 1.806340333132539e-05]\n",
      "IN\tIN\tNL-HaNA_1.04.02_8526_0330.jpg\tVan Sumatras West uust onder dato 6:' jan: 1733.; \t[0.00047383917262777686, 0.999228835105896, 0.00029496592469513416, 2.349859641981311e-06]\n",
      "IN\tIN\tNL-HaNA_1.04.02_8526_0331.jpg\tO; Jan; Sumatras West cust onder dato 6„' Janu: 17\t[0.0002546056639403105, 0.9994675517082214, 0.0002765245153568685, 1.3048694427197916e-06]\n",
      "IN\tIN\tNL-HaNA_1.04.02_8526_0332.jpg\tVan Sumatras Westcust onder dato 6„' Janu: 1733.; \t[0.00024465785827487707, 0.9994930028915405, 0.00026107302983291447, 1.1916645235032775e-06]\n",
      "IN\tIN\tNL-HaNA_1.04.02_8526_0333.jpg\tSumatras West Cust onder dato 6„' Janu: 1733.; Van\t[0.00023226681514643133, 0.9994962215423584, 0.0002703368372749537, 1.2037071428494528e-06]\n",
      "IN\tIN\tNL-HaNA_1.04.02_8526_0334.jpg\tVan Sumatras West Cust onder dato 6„' Janu: 1733.;\t[0.00022623715631198138, 0.9995042085647583, 0.0002683698257897049, 1.2019822861475404e-06]\n",
      "IN\tIN\tNL-HaNA_1.04.02_8526_0335.jpg\tVan Sumatras Westcust onder dato 6„e Janu: 173.; B\t[0.00022664378047920763, 0.9995059967041016, 0.000266189657850191, 1.2134952385167708e-06]\n",
      "IN\tIN\tNL-HaNA_1.04.02_8526_0336.jpg\t&; Sumatras West Cust onder dato 6„' Janu: 1733; V\t[0.0002476885565556586, 0.9994953870773315, 0.0002555427490733564, 1.3169513977118186e-06]\n",
      "IN\tIN\tNL-HaNA_1.04.02_8526_0337.jpg\tSumatras West Cust onder dato 6„' Janu: 1733.; Van\t[0.0002379233337705955, 0.9994767308235168, 0.00028419101727195084, 1.1672043456201209e-06]\n",
      "IN\tIN\tNL-HaNA_1.04.02_8526_0338.jpg\tSumatras West Cust onder dato 6„en Janu: 1733.; Va\t[0.00022495009761769325, 0.9995019435882568, 0.00027185914223082364, 1.1414396112741088e-06]\n",
      "IN\tIN\tNL-HaNA_1.04.02_8526_0339.jpg\tSumatras West Cust onder dato 6:„' Janu: 1733.; Va\t[0.00023115806106943637, 0.9994757771492004, 0.0002918750105891377, 1.1404792985558743e-06]\n",
      "IN\tIN\tNL-HaNA_1.04.02_8526_0340.jpg\tSumatras West Cust onder dato 6„e Janu: 1733; Jan;\t[0.0002453209599480033, 0.9993558526039124, 0.0003976559382863343, 1.1997472029179335e-06]\n",
      "IN\tIN\tNL-HaNA_1.04.02_8526_0341.jpg\tVan Sumatras West Cust onder dato 6„' Janu: 1733. \t[0.0004669323971029371, 0.9974015951156616, 0.0021286550909280777, 2.8564622880367097e-06]\n",
      "END\tEND\tNL-HaNA_1.04.02_8526_0342.jpg\tVan Sumatras West Cust onder dato 6:' Janu: 1733.;\t[0.00015270894800778478, 0.00014546028978656977, 0.9996979236602783, 3.99307418774697e-06]\n",
      "BEGIN\tBEGIN\tNL-HaNA_1.04.02_1376_0500.jpg\tVan ternaten onder dato 7 octob=r 1681.; Generael \t[0.9998794794082642, 4.721946970676072e-05, 5.4414933401858434e-05, 1.8783053747029044e-05]\n",
      "END\tEND\tNL-HaNA_1.04.02_1376_0501.jpg\tVan ternaten onder dato 7 October 1684. —; krijvin\t[0.00032403081422671676, 0.00012425998284015805, 0.999545156955719, 6.595807462872472e-06]\n",
      "BEGIN\tBEGIN\tNL-HaNA_1.04.02_2617_0409.jpg\tLijst van de onderstaande persoonen welke 't seder\t[0.9998799562454224, 4.696215910371393e-05, 5.425359995570034e-05, 1.880894706118852e-05]\n",
      "END\tEND\tNL-HaNA_1.04.02_2617_0410.jpg\tCornelis Vincentsz: van Houglij Jonge ƒ5. —. , den\t[0.0003228125860914588, 0.00012514456466306, 0.9995453953742981, 6.5936210376094095e-06]\n"
     ]
    },
    {
     "name": "stderr",
     "output_type": "stream",
     "text": [
      "Evaluating:  57%|█████▋    | 13/23 [00:08<00:05,  1.78batch/s]"
     ]
    },
    {
     "name": "stdout",
     "output_type": "stream",
     "text": [
      "BEGIN\tBEGIN\tNL-HaNA_1.04.02_3973_0739.jpg\tMonster Retle; Van den; Vier Compagnien; des; Regi\t[0.999751627445221, 0.0001526404230389744, 6.21325962129049e-05, 3.3646701922407374e-05]\n",
      "IN\tIN\tNL-HaNA_1.04.02_3973_0740.jpg\t\t[0.0005547282635234296, 0.9991912245750427, 0.00023758310999255627, 1.6462368876091205e-05]\n",
      "IN\tIN\tNL-HaNA_1.04.02_3973_0741.jpg\tƒ2873; DVos. und Kleiner Staad; Geburts observa; V\t[0.00022789867944084108, 0.9995496869087219, 0.00022106988762971014, 1.3496833162207622e-06]\n",
      "IN\tIN\tNL-HaNA_1.04.02_3973_0742.jpg\t\t[0.0002122478181263432, 0.9994423985481262, 0.00034211968886666, 3.251393536629621e-06]\n",
      "IN\tIN\tNL-HaNA_1.04.02_3973_0743.jpg\t16 Buxenmacker; 14 Corporaals; Ludwigsburg; Lorrac\t[0.00023518933448940516, 0.9994947910308838, 0.00026866100961342454, 1.341317670267017e-06]\n",
      "IN\tIN\tNL-HaNA_1.04.02_3973_0744.jpg\tFriederich Maase; George Monold; „  Christoph Mart\t[0.00023754093854222447, 0.9994704127311707, 0.0002907926682382822, 1.2689502000284847e-06]\n",
      "IN\tIN\tNL-HaNA_1.04.02_3973_0745.jpg\tFriederich Wilh: Armsdorf; Joh: Leonh: Bamberger; \t[0.0002259724569739774, 0.9994988441467285, 0.0002738462935667485, 1.287420786866278e-06]\n",
      "IN\tIN\tNL-HaNA_1.04.02_3973_0746.jpg\tJohann Pallmans; Aloijsius Trugel; Johannes Ruder;\t[0.00022868168889544904, 0.9994853734970093, 0.00028473578277044, 1.2414830052875914e-06]\n",
      "IN\tIN\tNL-HaNA_1.04.02_3973_0747.jpg\t2876; Vor„ and; Geburts; observa„; Porte tiones; L\t[0.00023451710876543075, 0.9994630217552185, 0.0003011701628565788, 1.2696367548414855e-06]\n",
      "IN\tIN\tNL-HaNA_1.04.02_3973_0748.jpg\tSourier; 12 Chirurgien; 1. Capitian Chef Alexander\t[0.0002376822376390919, 0.9994708895683289, 0.0002901274128817022, 1.2848996675529634e-06]\n",
      "IN\tIN\tNL-HaNA_1.04.02_3973_0749.jpg\torte tiones; Beauvais; Grenadier Baptist Britteuxe\t[0.00023085850989446044, 0.9994760155677795, 0.00029199590790085495, 1.2303366929700132e-06]\n",
      "IN\tIN\tNL-HaNA_1.04.02_3973_0750.jpg\turban Rittelberger; Daniel Krieger; Abraham Loff; \t[0.00022685655858367682, 0.9994812607765198, 0.00029071816243231297, 1.2351443956504227e-06]\n",
      "IN\tIN\tNL-HaNA_1.04.02_3973_0751.jpg\tobserva; Geburts,; For„; und; tiones; Corte; 24„; \t[0.00023487026919610798, 0.9994638562202454, 0.0003000792348757386, 1.2450357189663919e-06]\n",
      "IN\tIN\tNL-HaNA_1.04.02_3973_0752.jpg\tGeburts observate; Lu„ Namen; orte; „ones; 10 Four\t[0.00023325838265009224, 0.9994484782218933, 0.0003170378040522337, 1.1767968999265577e-06]\n",
      "IN\tIN\tNL-HaNA_1.04.02_3973_0753.jpg\t40 Fusiliers Heinrich Baquet; George Belzer; „ Ale\t[0.00022783187159802765, 0.9994739890098572, 0.0002970526984427124, 1.2128999742344604e-06]\n",
      "IN\tIN\tNL-HaNA_1.04.02_3973_0754.jpg\tRosenfeld; 80 Jufilier Michael Iaeger; Christian O\t[0.00023074002820067108, 0.9994633793830872, 0.0003045919584110379, 1.2572292007462238e-06]\n",
      "IN\tIN\tNL-HaNA_1.04.02_3973_0755.jpg\t2880; Geburts observa; tiones; 128. Iusiliers Andr\t[0.00023155864619184285, 0.9994361996650696, 0.0003310812171548605, 1.1916604307771195e-06]\n",
      "IN\tIN\tNL-HaNA_1.04.02_3973_0756.jpg\t5 Crem: Segg„; Sec: Irg„t; 23 Spielleute; 22. Zime\t[0.0002200657472712919, 0.9994518160820007, 0.00032696209382265806, 1.185042378892831e-06]\n",
      "IN\tIN\tNL-HaNA_1.04.02_3973_0757.jpg\tIaegers Johanes Bluum; en ortende den  n ee  ateoe\t[0.0002405164996162057, 0.999377429485321, 0.0003808110486716032, 1.2515359912868007e-06]\n",
      "IN\tIN\tNL-HaNA_1.04.02_3973_0758.jpg\tGeburts observa„; tiones; Jacob Hauk; G; Melchia A\t[0.0004640648257918656, 0.9977497458457947, 0.001783654559403658, 2.4642874905111967e-06]\n",
      "END\tEND\tNL-HaNA_1.04.02_3973_0759.jpg\tobserva„; Geburts; orte; tiones; enn I chn do; Joh\t[0.00016448937822133303, 0.0001486010878579691, 0.9996826648712158, 4.329574494477129e-06]\n"
     ]
    },
    {
     "name": "stderr",
     "output_type": "stream",
     "text": [
      "Evaluating:  61%|██████    | 14/23 [00:10<00:08,  1.11batch/s]"
     ]
    },
    {
     "name": "stdout",
     "output_type": "stream",
     "text": [
      "BEGIN\tBEGIN\tNL-HaNA_1.04.02_1506_1034.jpg\t-; d; E; 7.; decken; 8; 2; van de; 5; ƒ; 3; E; E; \t[0.9998776912689209, 6.0226044297451153e-05, 4.376927245175466e-05, 1.8321543393540196e-05]\n",
      "IN\tIN\tNL-HaNA_1.04.02_1506_1035.jpg\tbinnewater; een lamme; D95; same; uijt; ies; Cas; \t[0.0004626619047485292, 0.9991897940635681, 0.0003453302779234946, 2.2273372906056466e-06]\n",
      "IN\tIN\tNL-HaNA_1.04.02_1506_1036.jpg\t30 vrs; o; Janor; 6; 5o; e; x; 116; E; 6.; 1.; :; \t[0.0003593015717342496, 0.9985028505325317, 0.0011355736060068011, 2.2701908619637834e-06]\n",
      "END\tEND\tNL-HaNA_1.04.02_1506_1037.jpg\tk; „noortvelt; rogons; „1; rsame; uijt; eruijt; ƒ;\t[0.00016161671373993158, 0.00016525697719771415, 0.999669075012207, 4.135435119678732e-06]\n"
     ]
    },
    {
     "name": "stderr",
     "output_type": "stream",
     "text": [
      "Evaluating:  65%|██████▌   | 15/23 [00:10<00:06,  1.20batch/s]"
     ]
    },
    {
     "name": "stdout",
     "output_type": "stream",
     "text": [
      "BEGIN\tBEGIN\tNL-HaNA_1.04.02_1432_1553.jpg\tvan d' Eel Ed=le Heeren d' Respective; heeren Bewi\t[0.9998749494552612, 6.184548692544922e-05, 4.444837031769566e-05, 1.8674552848096937e-05]\n",
      "IN\tIN\tNL-HaNA_1.04.02_1432_1554.jpg\tdeductie der Complotterie quam te bemelk; deselve \t[0.0004607670125551522, 0.9991875290870667, 0.0003495339478831738, 2.1985129023960326e-06]\n",
      "IN\tIN\tNL-HaNA_1.04.02_1432_1555.jpg\toff tot verantwoording vant gene ik van; ter sijde\t[0.0004050038696732372, 0.9980037808418274, 0.0015885611064732075, 2.5996307613240788e-06]\n",
      "END\tEND\tNL-HaNA_1.04.02_1432_1556.jpg\tniet te importimeeren, desen eijndige; ende, naar \t[0.00015616961172781885, 0.0001445325033273548, 0.9996955394744873, 3.840385943476576e-06]\n"
     ]
    },
    {
     "name": "stderr",
     "output_type": "stream",
     "text": [
      "Evaluating:  70%|██████▉   | 16/23 [00:11<00:04,  1.46batch/s]"
     ]
    },
    {
     "name": "stdout",
     "output_type": "stream",
     "text": [
      "BEGIN\tBEGIN\tNL-HaNA_1.04.02_2548_1310.jpg\tVan Iavas o:t Cust onder Dato 25:' aug:s 1741.; Re\t[0.9923582673072815, 0.003696547821164131, 0.0007193058845587075, 0.003225902561098337]\n",
      "IN\tIN\tNL-HaNA_1.04.02_2548_1311.jpg\tJan; Iavaso:t Cust onder Dato 25 aug:s 1741.; afge\t[0.20379382371902466, 0.7193674445152283, 0.07488834857940674, 0.0019503687508404255]\n",
      "IN\tIN\tNL-HaNA_1.04.02_2548_1312.jpg\tVan Java so:t Cust onder Dato 25:' ug:s 1741. /; s\t[0.05997362360358238, 0.7786190509796143, 0.16088823974132538, 0.0005190082592889667]\n",
      "IN\tIN\tNL-HaNA_1.04.02_2548_1313.jpg\tCust onder dato 25 aug:s 1741.; Van Javas; rondsoe\t[0.031973011791706085, 0.5004207491874695, 0.46730318665504456, 0.0003030599909834564]\n",
      "END\tEND\tNL-HaNA_1.04.02_2548_1314.jpg\tVan Java so:t Cust onder Dato 25:' ug:s 1741. /; s\t[0.0007415168802253902, 0.003432970028370619, 0.9957906603813171, 3.4878510632552207e-05]\n"
     ]
    },
    {
     "name": "stderr",
     "output_type": "stream",
     "text": [
      "Evaluating:  74%|███████▍  | 17/23 [00:11<00:03,  1.56batch/s]"
     ]
    },
    {
     "name": "stdout",
     "output_type": "stream",
     "text": [
      "BEGIN\tBEGIN\tNL-HaNA_1.04.02_1210_0135.jpg\tIntleger van d' heer nabab alhier ofte aen sijn; E\t[0.9998032450675964, 0.00011883557453984395, 4.821622496820055e-05, 2.963235237984918e-05]\n",
      "IN\tIN\tNL-HaNA_1.04.02_1210_0136.jpg\teijndelijk met sijne mede gebrachte juweelen bij; \t[0.0004538159992080182, 0.9992780089378357, 0.0002657740842550993, 2.3844631868996657e-06]\n",
      "IN\tIN\tNL-HaNA_1.04.02_1210_0137.jpg\tDen koninck van Carnaticas; swager blijft tot noch\t[0.0002505024604033679, 0.9994860887527466, 0.00026195382815785706, 1.446069973098929e-06]\n",
      "IN\tIN\tNL-HaNA_1.04.02_1210_0138.jpg\tmadure ende tansjouwer heeft becomen hoe; sij luij\t[0.00023582503490615636, 0.9995161294937134, 0.000246759329456836, 1.3433766525849933e-06]\n",
      "IN\tIN\tNL-HaNA_1.04.02_1210_0139.jpg\tDen koninck van Carnatica; die eenige juweelen 2 o\t[0.00022716056264471263, 0.9995033740997314, 0.00026826595421880484, 1.2067547459082562e-06]\n",
      "IN\tIN\tNL-HaNA_1.04.02_1210_0140.jpg\tsulcx niet als schade sullen behaelen soo dat; dag\t[0.000237882457440719, 0.9995042085647583, 0.0002567262854427099, 1.2487770391089725e-06]\n",
      "IN\tIN\tNL-HaNA_1.04.02_1210_0141.jpg\t665; die gecommitteerde aen sijn ex=ie als vele au\t[0.00022647743753623217, 0.9994994401931763, 0.0002728966937866062, 1.1949041436309926e-06]\n",
      "IN\tIN\tNL-HaNA_1.04.02_1210_0142.jpg\tafmaecken soude connen geschieden, maer so den sel\t[0.00023435069306287915, 0.9994969367980957, 0.0002674274146556854, 1.265475589207199e-06]\n",
      "IN\tIN\tNL-HaNA_1.04.02_1210_0143.jpg\tadij 30. e decemb. r; 1655; diverse novos door 's \t[0.0002389349538134411, 0.9994624257087708, 0.0002974217350129038, 1.2027301181660732e-06]\n",
      "IN\tIN\tNL-HaNA_1.04.02_1210_0144.jpg\tbevrijt te sijn, waer op den prins beloftenisz. va\t[0.00024519601720385253, 0.9994825124740601, 0.00027111751842312515, 1.244791860699479e-06]\n",
      "IN\tIN\tNL-HaNA_1.04.02_1210_0145.jpg\tprince genegen was, Carnatica weder te herstellen,\t[0.0002581664302852005, 0.9994714856147766, 0.00026899954536929727, 1.3414856994131696e-06]\n",
      "IN\tIN\tNL-HaNA_1.04.02_1210_0146.jpg\tseer onaengenaem soude sijn, dat d' mabas aende; s\t[0.00023000540386419743, 0.9994722008705139, 0.0002967554610222578, 1.1229896017539431e-06]\n",
      "IN\tIN\tNL-HaNA_1.04.02_1210_0147.jpg\tmaisoerder 50 O pardaus maendel contribueeren; sou\t[0.0002364394604228437, 0.9994145631790161, 0.00034787924960255623, 1.1844107348224497e-06]\n",
      "IN\tIN\tNL-HaNA_1.04.02_1210_0148.jpg\tdoch seijde nu sal icq den nabab geen consent geve\t[0.001286967541091144, 0.9801730513572693, 0.018529964610934258, 1.0006928278016858e-05]\n",
      "END\tEND\tNL-HaNA_1.04.02_1210_0149.jpg\thollanders op d' portugesz. (met 1000. m:n) soude;\t[0.00017185894830618054, 0.00015706857084296644, 0.9996674060821533, 3.6652716062235413e-06]\n"
     ]
    },
    {
     "name": "stderr",
     "output_type": "stream",
     "text": [
      "Evaluating:  78%|███████▊  | 18/23 [00:12<00:03,  1.66batch/s]"
     ]
    },
    {
     "name": "stdout",
     "output_type": "stream",
     "text": [
      "BEGIN\tBEGIN\tNL-HaNA_1.04.02_1268_1095.jpg\tIs nae aen roepingh van godes Heijsige naeme; vers\t[0.9998844861984253, 5.652234540320933e-05, 4.075343531440012e-05, 1.816506846807897e-05]\n",
      "IN\tIN\tNL-HaNA_1.04.02_1268_1096.jpg\tberaemen op dat achtervolgens d'ordre Ind Indische\t[0.00044357767910696566, 0.9992609620094299, 0.0002933080540969968, 2.1616494905174477e-06]\n",
      "IN\tIN\tNL-HaNA_1.04.02_1268_1097.jpg\tdwijl bevonden wort dat Eenige particoliere predic\t[0.0002592344826553017, 0.9994524121284485, 0.0002870506723411381, 1.2969296676601516e-06]\n",
      "IN\tIN\tNL-HaNA_1.04.02_1268_1098.jpg\td'wijl ondervonden wert dat sonder d' Inlandse tae\t[0.00023611904180143028, 0.9995099306106567, 0.00025260806432925165, 1.2784214504790725e-06]\n",
      "IN\tIN\tNL-HaNA_1.04.02_1268_1099.jpg\twij nader aen schrijvens Expatria vercregen hebben\t[0.00022568582789972425, 0.9995027780532837, 0.00027032417710870504, 1.1946415270358557e-06]\n",
      "IN\tIN\tNL-HaNA_1.04.02_1268_1100.jpg\tnaet vaderlandt ofte ook aen andre Conrespondeeren\t[0.00023714714916422963, 0.9995068311691284, 0.00025479469331912696, 1.242036546500458e-06]\n",
      "IN\tIN\tNL-HaNA_1.04.02_1268_1101.jpg\tresolutie niet weijnigh versterkt door het geene v\t[0.00022630649618804455, 0.9995015859603882, 0.0002708657702896744, 1.1970453215326415e-06]\n",
      "IN\tIN\tNL-HaNA_1.04.02_1268_1102.jpg\tEenige veranderinge daer in te maecken en dat wij \t[0.0002330381394131109, 0.9995013475418091, 0.00026430864818394184, 1.2555804005387472e-06]\n",
      "IN\tIN\tNL-HaNA_1.04.02_1268_1103.jpg\t2=e; de Inlandse schoolmeesters sullen oock daer t\t[0.00023877801140770316, 0.9994643330574036, 0.00029568077297881246, 1.201655777549604e-06]\n",
      "IN\tIN\tNL-HaNA_1.04.02_1268_1104.jpg\tOock dat alle predicanten die naemaels sullen Come\t[0.00024362033582292497, 0.9994862079620361, 0.00026896962663158774, 1.2441615808711504e-06]\n",
      "IN\tIN\tNL-HaNA_1.04.02_1268_1105.jpg\tofte oock haer advijs afte wagten bij geschrift ma\t[0.0002557245024945587, 0.9994778037071228, 0.00026521951076574624, 1.3235660389909754e-06]\n",
      "IN\tIN\tNL-HaNA_1.04.02_1268_1106.jpg\tgouverneur generael Anthonio van diemen loffelijck\t[0.0002308730036020279, 0.9994768500328064, 0.0002910550683736801, 1.1360883718225523e-06]\n",
      "IN\tIN\tNL-HaNA_1.04.02_1268_1107.jpg\tdat de broederen haer met de kerken vergaderingh r\t[0.00023217445414047688, 0.9994475245475769, 0.0003190654970239848, 1.2032307949993992e-06]\n",
      "IN\tIN\tNL-HaNA_1.04.02_1268_1108.jpg\tder H:r saeken die daer toe sullen werden gecommit\t[0.0003884726029355079, 0.9983308911323547, 0.0012784764403477311, 2.1518292214750545e-06]\n",
      "END\tEND\tNL-HaNA_1.04.02_1268_1109.jpg\tg'admitteert en tot godes kerke aengenomen werden \t[0.00021283373644109815, 0.0002330903080292046, 0.9995496869087219, 4.348189122538315e-06]\n"
     ]
    },
    {
     "name": "stderr",
     "output_type": "stream",
     "text": [
      "Evaluating:  83%|████████▎ | 19/23 [00:12<00:01,  2.00batch/s]"
     ]
    },
    {
     "name": "stdout",
     "output_type": "stream",
     "text": [
      "BEGIN\tBEGIN\tNL-HaNA_1.04.02_1637_0144.jpg\tVan Banda de dato 25=en maij Ao 1700; Van banda on\t[0.9998792409896851, 5.466859511216171e-05, 4.8415960918646306e-05, 1.7667336578597315e-05]\n",
      "IN\tIN\tNL-HaNA_1.04.02_1637_0145.jpg\tVan banda onder dato 25„e maij 1700; van banda ond\t[0.0008113057119771838, 0.9978908896446228, 0.0012938608415424824, 3.925445980712539e-06]\n",
      "END\tEND\tNL-HaNA_1.04.02_1637_0146.jpg\tVan banda onder dato 25 maij 1700; Van banda onder\t[0.00017904503329191357, 0.0001201531122205779, 0.9996970891952515, 3.7806139516760595e-06]\n"
     ]
    },
    {
     "name": "stderr",
     "output_type": "stream",
     "text": [
      "Evaluating:  87%|████████▋ | 20/23 [00:18<00:06,  2.24s/batch]"
     ]
    },
    {
     "name": "stdout",
     "output_type": "stream",
     "text": [
      "OUT\tOUT\tNL-HaNA_1.04.02_1547_0489.jpg\t\t[0.00019818692817352712, 0.00012456582044251263, 3.611252395785414e-05, 0.9996411800384521]\n",
      "OUT\tOUT\tNL-HaNA_1.04.02_1547_0490.jpg\t\t[0.00021097721764817834, 7.218324026325718e-05, 3.716944047482684e-05, 0.999679684638977]\n",
      "BEGIN\tOUT\tNL-HaNA_1.04.02_1547_0491.jpg\tGenerale Monster Rolle van Alle; des EComp. s zoon\t[0.9883937835693359, 0.0002698586031328887, 0.00013766804477199912, 0.011198733933269978]\n",
      "IN\tOUT\tNL-HaNA_1.04.02_1547_0492.jpg\t\t[0.010556105524301529, 0.9363459348678589, 0.002419911790639162, 0.05067805200815201]\n",
      "IN\tOUT\tNL-HaNA_1.04.02_1547_0493.jpg\t\t[0.0006934978882782161, 0.9977061748504639, 0.0006513927364721894, 0.0009488693322055042]\n",
      "IN\tOUT\tNL-HaNA_1.04.02_1547_0494.jpg\t\t[0.00021360030223149806, 0.9994304776191711, 0.00030492982477881014, 5.093546860734932e-05]\n",
      "IN\tBEGIN\tNL-HaNA_1.04.02_1547_0495.jpg\t\t[0.00022827929933555424, 0.9994704127311707, 0.00028148863930255175, 1.9773126041400246e-05]\n",
      "IN\tIN\tNL-HaNA_1.04.02_1547_0496.jpg\t1729„ Persoonen soo van de Commersie Militie als a\t[0.00025662852567620575, 0.9995065927505493, 0.00023441441589966416, 2.4283638140332187e-06]\n",
      "IN\tIN\tNL-HaNA_1.04.02_1547_0497.jpg\tGenerale Monster Rolle van alle des E: Comp„s hoog\t[0.0002298039908055216, 0.9995239973068237, 0.0002441798569634557, 1.967140178749105e-06]\n",
      "IN\tIN\tNL-HaNA_1.04.02_1547_0498.jpg\t20: – Persoonen P„r Transport; Namen Toenaem en wa\t[0.00022778975835535675, 0.999515175819397, 0.000255398714216426, 1.6918213532335358e-06]\n",
      "IN\tIN\tNL-HaNA_1.04.02_1547_0499.jpg\td' presente qualitijt winnende.  't schip waermeed\t[0.00022910931147634983, 0.9994805455207825, 0.0002888888993766159, 1.4532355407936848e-06]\n",
      "IN\tIN\tNL-HaNA_1.04.02_1547_0500.jpg\t48: - Persoonen P„r Transport; Namen Toenaem en ge\t[0.0002244768984382972, 0.999484658241272, 0.00028956864844076335, 1.3521372466129833e-06]\n",
      "IN\tIN\tNL-HaNA_1.04.02_1547_0501.jpg\t. . . . . ƒ60. vrije Zee. . . . . . . . 1670. delf\t[0.00022414444538298994, 0.9994893074035645, 0.0002852699253708124, 1.345787040918367e-06]\n",
      "IN\tIN\tNL-HaNA_1.04.02_1547_0502.jpg\t77:- Persoonen P„r Transport; Namen Toenaem en geb\t[0.00022768048802390695, 0.9994645714759827, 0.0003064761112909764, 1.3124823681209818e-06]\n",
      "IN\tIN\tNL-HaNA_1.04.02_1547_0503.jpg\tpresente qualiteijt en winnende):'t schip waer med\t[0.00022126930707599968, 0.9994691014289856, 0.0003083576157223433, 1.2719897313218098e-06]\n",
      "IN\tIN\tNL-HaNA_1.04.02_1547_0504.jpg\t94:— Persoonen P„r Transport; Namen Toenaem en wae\t[0.0002203116746386513, 0.9994547963142395, 0.00032373282010667026, 1.2250093277543783e-06]\n",
      "IN\tIN\tNL-HaNA_1.04.02_1547_0505.jpg\tdaen, sd: presente qualiteijt winnende. ) 't schip\t[0.00023082454572431743, 0.9994729161262512, 0.00029502727556973696, 1.3573343267125892e-06]\n",
      "IN\tIN\tNL-HaNA_1.04.02_1547_0506.jpg\t115. Persoonen P„r Transport; Naemen Toenaem en ge\t[0.00022977298067416996, 0.9994692206382751, 0.00029969876050017774, 1.3150292943464592e-06]\n",
      "IN\tIN\tNL-HaNA_1.04.02_1547_0507.jpg\tte Plaats : presente qualiteijt en winnende 7't sc\t[0.00022339317365549505, 0.9994688630104065, 0.0003064519551116973, 1.2604727999132592e-06]\n",
      "IN\tIN\tNL-HaNA_1.04.02_1547_0508.jpg\t142. Persoonen P„r Transport; Naemen Toenaem en ge\t[0.00022589316358789802, 0.9994578957557678, 0.0003149935510009527, 1.2464907968023908e-06]\n",
      "IN\tIN\tNL-HaNA_1.04.02_1547_0509.jpg\tpresente qualiteijt winnende. 't schip waer mede i\t[0.0002224180643679574, 0.9994660019874573, 0.0003102521295659244, 1.3005527534915018e-06]\n",
      "IN\tIN\tNL-HaNA_1.04.02_1547_0510.jpg\tabraham gerritsz. van amsterdam. . . . . . . . . .\t[0.00022712795180268586, 0.9994246959686279, 0.00034692278131842613, 1.2749862889904762e-06]\n",
      "IN\tIN\tNL-HaNA_1.04.02_1547_0511.jpg\td presente qualiteijt en winnende 't schip waermed\t[0.00023035245249047875, 0.9994493126869202, 0.0003189936396665871, 1.2827697446482489e-06]\n",
      "IN\tIN\tNL-HaNA_1.04.02_1547_0512.jpg\t193: Persoonen P„r Transport; Naemen Toenaem en ge\t[0.00024366150319110602, 0.9994673132896423, 0.0002876046346500516, 1.4425124845729442e-06]\n",
      "IN\tIN\tNL-HaNA_1.04.02_1547_0513.jpg\trte stans d: presente qualiteijt en winnenden, 't \t[0.00022372583043761551, 0.9994825124740601, 0.00029247216298244894, 1.3363968491830747e-06]\n",
      "IN\tIN\tNL-HaNA_1.04.02_1547_0514.jpg\t221: Persoonen P„r Transport; abraham mesoeter van\t[0.00023061642423272133, 0.9994377493858337, 0.00033029488986358047, 1.2650747294173925e-06]\n",
      "IN\tIN\tNL-HaNA_1.04.02_1547_0515.jpg\td' presente qualiteijt, en winnenden 't schip waer\t[0.00023369934933725744, 0.9994392991065979, 0.00032571813790127635, 1.2537052498373669e-06]\n",
      "IN\tIN\tNL-HaNA_1.04.02_1547_0516.jpg\t253: Persoonen P„r Transport; Naemen Toenaem en ge\t[0.0002299789630342275, 0.9994515776634216, 0.00031724749715067446, 1.2439570582500892e-06]\n",
      "IN\tIN\tNL-HaNA_1.04.02_1547_0517.jpg\tpresente qualiteijt, en winnende 't schip waer med\t[0.0002249205281259492, 0.9994620680809021, 0.0003117644810117781, 1.2829549405068974e-06]\n",
      "IN\tIN\tNL-HaNA_1.04.02_1547_0518.jpg\t290: Persoonen P„r Transport; Namen Toenaem en wae\t[0.0002199194423155859, 0.9994495511054993, 0.00032932907924987376, 1.198705604110728e-06]\n",
      "IN\tIN\tNL-HaNA_1.04.02_1547_0519.jpg\td:' presente qualiteijt, en winnende) 't schip wae\t[0.00023272293037734926, 0.9994458556175232, 0.0003202291263733059, 1.2291081930015935e-06]\n",
      "IN\tIN\tNL-HaNA_1.04.02_1547_0520.jpg\t327: Persoonen P„r Transport; Naemen Toenaem en wa\t[0.00022219143284019083, 0.9994707703590393, 0.00030579042504541576, 1.2952809811395127e-06]\n",
      "IN\tIN\tNL-HaNA_1.04.02_1547_0521.jpg\tvan daer sde presente qualiteijt, en winnende) 't \t[0.00022986573458183557, 0.9994569420814514, 0.00031188630964607, 1.2959797004441498e-06]\n",
      "IN\tIN\tNL-HaNA_1.04.02_1547_0522.jpg\t369: Persoonen P„r Transport; Namen Toenaem en wae\t[0.0002187715726904571, 0.9994730353355408, 0.00030684337252750993, 1.2780635643139249e-06]\n",
      "IN\tIN\tNL-HaNA_1.04.02_1547_0523.jpg\tpresente qualiteyt en winnende/ 't schip waer mede\t[0.00023715794668532908, 0.9993951320648193, 0.0003663688257802278, 1.2997810472370475e-06]\n",
      "IN\tIN\tNL-HaNA_1.04.02_1547_0524.jpg\t400: Persoonen P„r Transport.; Namen Toenarm en wa\t[0.00021626509260386229, 0.999471127986908, 0.00031133470474742353, 1.2538707778730895e-06]\n",
      "IN\tIN\tNL-HaNA_1.04.02_1547_0525.jpg\td presente qualiteijt, en winnendejk 't schip waer\t[0.0002112646761815995, 0.9994848966598511, 0.00030251272255554795, 1.2647099083551439e-06]\n",
      "IN\tIN\tNL-HaNA_1.04.02_1547_0526.jpg\t421: Persoonen P„r Transport; Naemen Toenaem en wa\t[0.00023581839923281223, 0.9994308352470398, 0.00033215503208339214, 1.2495754617702914e-06]\n",
      "IN\tIN\tNL-HaNA_1.04.02_1547_0527.jpg\taen d:' presente qualiteijt, en winnende) 't schip\t[0.00022432697005569935, 0.9994383454322815, 0.000335960736265406, 1.2527921171567868e-06]\n",
      "IN\tIN\tNL-HaNA_1.04.02_1547_0528.jpg\t447: Persoonen P„r Transport; Namen Toenaem en wae\t[0.00022581090161111206, 0.9994751811027527, 0.0002977371623273939, 1.2869826377936988e-06]\n",
      "IN\tIN\tNL-HaNA_1.04.02_1547_0529.jpg\tmaandgelden; . . . . . . . . zoldaet en handgranad\t[0.00021891537471674383, 0.9994663596153259, 0.00031344813760370016, 1.2581746204887168e-06]\n",
      "IN\tIN\tNL-HaNA_1.04.02_1547_0530.jpg\t486: Persoonen P„r Transport; Namen Toenaem en wae\t[0.00022507412359118462, 0.9994532465934753, 0.000320318533340469, 1.2612274531420553e-06]\n",
      "IN\tIN\tNL-HaNA_1.04.02_1547_0531.jpg\tmaand gelden. . . . . . . . . . . 3 land gecomen, \t[0.0002201269380748272, 0.999461829662323, 0.00031673378543928266, 1.278468630516727e-06]\n",
      "IN\tIN\tNL-HaNA_1.04.02_1547_0532.jpg\t529: Persoonen P„r Transport; Namen Toenaem en wae\t[0.00022418584558181465, 0.9994575381278992, 0.000316969642881304, 1.293006562264054e-06]\n",
      "IN\tIN\tNL-HaNA_1.04.02_1547_0533.jpg\tpresente qualiteijt en winnende. ) 't schip waer m\t[0.0002179177536163479, 0.9994631409645081, 0.00031759412377141416, 1.2563899645101628e-06]\n",
      "IN\tIN\tNL-HaNA_1.04.02_1547_0534.jpg\t556: Persoonen P„r Transport; Namen Toenaem en wae\t[0.0002147441846318543, 0.9994584918022156, 0.0003256022755522281, 1.2135186580053414e-06]\n",
      "IN\tIN\tNL-HaNA_1.04.02_1547_0535.jpg\t. . . . . . . . . zargiant; daer sd presente quali\t[0.00022193432960193604, 0.9994450211524963, 0.00033189187524840236, 1.2026414424326504e-06]\n",
      "IN\tIN\tNL-HaNA_1.04.02_1547_0536.jpg\t589: Persoonen P„r Transport; Namen Toenaem en wae\t[0.00021496473345905542, 0.9994598031044006, 0.00032406774698756635, 1.2438249541446567e-06]\n",
      "IN\tIN\tNL-HaNA_1.04.02_1547_0537.jpg\td presente qualiteijt, en winnende, 't schip waer \t[0.0002186260389862582, 0.9994532465934753, 0.00032696849666535854, 1.246538545274234e-06]\n",
      "IN\tIN\tNL-HaNA_1.04.02_1547_0538.jpg\t619. Persoonen P„r Transport; Namen Toenaem en wae\t[0.00022757917759008706, 0.9994638562202454, 0.0003072891850024462, 1.3110952750139404e-06]\n",
      "IN\tIN\tNL-HaNA_1.04.02_1547_0539.jpg\tcorporael - . . . . . . . . . . . . . . . . 16. ma\t[0.00021399273828137666, 0.9994636178016663, 0.0003211716248188168, 1.2122825410187943e-06]\n",
      "IN\tIN\tNL-HaNA_1.04.02_1547_0540.jpg\t637: Persoonen P„r Transport; Namen Toenaem en wae\t[0.0002161426964448765, 0.9994601607322693, 0.0003224954998586327, 1.2483030786825111e-06]\n",
      "IN\tIN\tNL-HaNA_1.04.02_1547_0541.jpg\td' presente qualiteijt, en winnenden 't schip waer\t[0.00022205759887583554, 0.99946528673172, 0.0003114299906883389, 1.2453675708457013e-06]\n",
      "IN\tIN\tNL-HaNA_1.04.02_1547_0542.jpg\t660: Persoonen P„r Transport; Namen Toenaem en wae\t[0.0002154873072868213, 0.9994683861732483, 0.0003147824318148196, 1.2652969871851383e-06]\n",
      "IN\tIN\tNL-HaNA_1.04.02_1547_0543.jpg\t. . . 16. d.' leck. . . . . . . . . 1687. _o; . . \t[0.00021313823526725173, 0.9994660019874573, 0.0003195247845724225, 1.2542374179247417e-06]\n",
      "IN\tIN\tNL-HaNA_1.04.02_1547_0544.jpg\t693: Persoonen P„r Transport; op 't vaartuijgh de \t[0.00021333101904019713, 0.9994707703590393, 0.00031463580671697855, 1.2611017154995352e-06]\n",
      "IN\tIN\tNL-HaNA_1.04.02_1547_0545.jpg\td' presente qualiteijt, en winnende) 't schip waer\t[0.00023457103816326708, 0.9994410872459412, 0.000323068059515208, 1.2671970353039796e-06]\n",
      "IN\tIN\tNL-HaNA_1.04.02_1547_0546.jpg\t720: Persoonen P„r Transport; Naemen Toenaem en wa\t[0.00023370236158370972, 0.9994379878044128, 0.0003269372973591089, 1.3683171573575237e-06]\n",
      "IN\tIN\tNL-HaNA_1.04.02_1547_0547.jpg\t. groff smith. . . . . . . . . . . . . . ƒ 20. Een\t[0.00021887844195589423, 0.999455988407135, 0.0003238128556404263, 1.2607488315552473e-06]\n",
      "IN\tIN\tNL-HaNA_1.04.02_1547_0548.jpg\t751: Persoonen P„r Transport; Naemen Toenaem, en g\t[0.00021476908295881003, 0.9994619488716125, 0.00032212689984589815, 1.238662889591069e-06]\n",
      "IN\tIN\tNL-HaNA_1.04.02_1547_0549.jpg\tte slaatsed presente qualiteijt, en winnenbejk t s\t[0.0002269256510771811, 0.9994214773178101, 0.000350295944372192, 1.2942355169798248e-06]\n",
      "IN\tIN\tNL-HaNA_1.04.02_1547_0550.jpg\t761:– Persoonen P„r Transport; Naemen Toenaem en g\t[0.0002182398602599278, 0.9994009733200073, 0.0003795068769250065, 1.2618978644240997e-06]\n",
      "IN\tIN\tNL-HaNA_1.04.02_1547_0551.jpg\tmaendgelden. . . . - - - } land gecomen, en 'tjaer\t[0.00046575674787163734, 0.9974068999290466, 0.002124942373484373, 2.322191448911326e-06]\n",
      "END\tIN\tNL-HaNA_1.04.02_1547_0552.jpg\t778. Persoonen P„r Transport; Naemen Toenaem en ge\t[0.00016861884796526283, 0.00016455406148452312, 0.9996628761291504, 3.971735168306623e-06]\n"
     ]
    },
    {
     "name": "stderr",
     "output_type": "stream",
     "text": [
      "Evaluating:  91%|█████████▏| 21/23 [00:23<00:05,  2.85s/batch]"
     ]
    },
    {
     "name": "stdout",
     "output_type": "stream",
     "text": [
      "BEGIN\tIN\tNL-HaNA_1.04.02_1547_0553.jpg\t. . . . . . . . soldaet. . . . . . . . . . . . . 1\t[0.9951327443122864, 0.0022832206450402737, 0.000586451671551913, 0.0019975262694060802]\n",
      "IN\tIN\tNL-HaNA_1.04.02_1547_0554.jpg\t807. Persoonen P„r Transport; Naemen Toenaem en ge\t[0.20820622146129608, 0.682439386844635, 0.10669571906328201, 0.0026586188469082117]\n",
      "IN\tIN\tNL-HaNA_1.04.02_1547_0555.jpg\tte staats presente qualiteijt, en winnende 7 't sc\t[0.07234015315771103, 0.7741838693618774, 0.1525031477212906, 0.0009728281875140965]\n",
      "IN\tIN\tNL-HaNA_1.04.02_1547_0556.jpg\t838. Persoonen P„r Transport; Naemen Toenaemen geb\t[0.05923589691519737, 0.7543302774429321, 0.18561431765556335, 0.0008195725968107581]\n",
      "IN\tIN\tNL-HaNA_1.04.02_1547_0557.jpg\tPlaatsd presente qualiteijt, en winnenden 't schip\t[0.05670130252838135, 0.7429326176643372, 0.19957104325294495, 0.0007950470899231732]\n",
      "IN\tIN\tNL-HaNA_1.04.02_1547_0558.jpg\tNaemen Toenaem en geboorte Plaats; 861. Persoonen \t[0.05579344928264618, 0.7378417253494263, 0.20557519793510437, 0.0007895930320955813]\n",
      "IN\tIN\tNL-HaNA_1.04.02_1547_0559.jpg\tmaand gelden. . . . . . . . . 'sland gecomen, en t\t[0.05531534180045128, 0.7350624203681946, 0.20883508026599884, 0.000787117169238627]\n",
      "IN\tIN\tNL-HaNA_1.04.02_1547_0560.jpg\t878. Persoonen P„r Transport; Naemen en Tornaem en\t[0.05500395968556404, 0.733259916305542, 0.2109508216381073, 0.0007853187271393836]\n",
      "IN\tIN\tNL-HaNA_1.04.02_1547_0561.jpg\tporte stats presente qualiteijt en winnendejk 't s\t[0.0547720342874527, 0.7321341633796692, 0.21230968832969666, 0.0007840958423912525]\n",
      "IN\tIN\tNL-HaNA_1.04.02_1547_0562.jpg\tNamen Toenaem en geboorte Plaats; 898. Persoonen P\t[0.054596707224845886, 0.7314460277557373, 0.2131742537021637, 0.000783048162702471]\n",
      "IN\tIN\tNL-HaNA_1.04.02_1547_0563.jpg\tpresente qualiteijt en winnende) 't schip waer mee\t[0.0544683039188385, 0.7309607863426208, 0.21378910541534424, 0.0007818725425750017]\n",
      "IN\tIN\tNL-HaNA_1.04.02_1547_0564.jpg\t915. Persoonen P„r Transport; Namen Toenaem en wae\t[0.05437464639544487, 0.730513334274292, 0.2143315076828003, 0.0007805022178217769]\n",
      "IN\tIN\tNL-HaNA_1.04.02_1547_0565.jpg\t'presente qualiteijt en winnende, 't schip waer me\t[0.05428942292928696, 0.7303261160850525, 0.214604914188385, 0.0007795378915034235]\n",
      "IN\tIN\tNL-HaNA_1.04.02_1547_0566.jpg\t953. Persoonen P„r Transport; Namen Toenaem en geb\t[0.054222848266363144, 0.7301247715950012, 0.21487414836883545, 0.0007781841559335589]\n",
      "IN\tIN\tNL-HaNA_1.04.02_1547_0567.jpg\tdpresente qualiteijt en winnende 't schip waar mee\t[0.05415269359946251, 0.7301430106163025, 0.21492700278759003, 0.0007772382232360542]\n",
      "IN\tIN\tNL-HaNA_1.04.02_1547_0568.jpg\tBehalven alle des E Comp. hier —; francisco dCroes\t[0.05409001186490059, 0.7302384376525879, 0.21489548683166504, 0.0007760897860862315]\n",
      "IN\tIN\tNL-HaNA_1.04.02_1547_0569.jpg\t1004. Persoonen P„r Transport; qualiteijt en wat j\t[0.054028287529945374, 0.7304015755653381, 0.21479524672031403, 0.0007748582283966243]\n",
      "IN\tIN\tNL-HaNA_1.04.02_1547_0570.jpg\tqualiteijt en winnende e jaer en voor w; manuel de\t[0.05396626144647598, 0.7306554913520813, 0.21460463106632233, 0.0007736022234894335]\n",
      "IN\tIN\tNL-HaNA_1.04.02_1547_0571.jpg\t1110 Persoonen P:r Transport; zoeden; Zoldt. genie\t[0.05391412600874901, 0.7309562563896179, 0.21435745060443878, 0.0007721867877990007]\n",
      "IN\tIN\tNL-HaNA_1.04.02_1547_0572.jpg\t1135 Persoonen P„r Transport; qualiteijt en smaand\t[0.0538751594722271, 0.7310611009597778, 0.21429359912872314, 0.000770096608903259]\n",
      "IN\tIN\tNL-HaNA_1.04.02_1547_0573.jpg\t1172 Persoonen P r Transport; Zoldt. ijder; geniet\t[0.053799815475940704, 0.7314523458480835, 0.21397925913333893, 0.0007685745949856937]\n",
      "IN\tIN\tNL-HaNA_1.04.02_1547_0574.jpg\tqualiteijt en maandel.; belooningh —; 1209 Persoon\t[0.05371604487299919, 0.7321466207504272, 0.21337023377418518, 0.0007671340135857463]\n",
      "IN\tIN\tNL-HaNA_1.04.02_1547_0575.jpg\t1233 Persoonen P. r Transport; 49. gemeene; qualit\t[0.053646836429834366, 0.7325989603996277, 0.21298977732658386, 0.0007644286961294711]\n",
      "IN\tIN\tNL-HaNA_1.04.02_1547_0576.jpg\t1270 Persoonen P„r Transport; qualiteijt en maande\t[0.053551655262708664, 0.7334198355674744, 0.2122659981250763, 0.0007625830476172268]\n",
      "IN\tIN\tNL-HaNA_1.04.02_1547_0577.jpg\t1296 Persoonen Pr Transport; qualiteijt en maendel\t[0.05346958711743355, 0.7342230081558228, 0.21154797077178955, 0.0007595011848025024]\n",
      "IN\tIN\tNL-HaNA_1.04.02_1547_0578.jpg\t1331. Persoonen P. r Transport; qualiteijten maand\t[0.05338149145245552, 0.7349399328231812, 0.2109229415655136, 0.0007556347991339862]\n",
      "IN\tIN\tNL-HaNA_1.04.02_1547_0579.jpg\t1357. Persoonen P.r Transport; pasquael de brito s\t[0.053281527012586594, 0.7357332110404968, 0.21023358404636383, 0.0007516775513067842]\n",
      "IN\tIN\tNL-HaNA_1.04.02_1547_0580.jpg\t1388. Persoonen P„r Transport; qualiteijt en wat j\t[0.05314040556550026, 0.7368660569190979, 0.209245964884758, 0.0007475101156160235]\n",
      "IN\tIN\tNL-HaNA_1.04.02_1547_0581.jpg\t1425 Persoonen P„r Transport; ten; zold.t sonder; \t[0.05296984314918518, 0.7382948994636536, 0.2079925239086151, 0.0007427234086208045]\n",
      "IN\tIN\tNL-HaNA_1.04.02_1547_0582.jpg\tqualiteijt en wat jder; 1456. Persoonen P„r Transp\t[0.05277865007519722, 0.7399805188179016, 0.20650368928909302, 0.0007371408864855766]\n",
      "IN\tIN\tNL-HaNA_1.04.02_1547_0583.jpg\tPr; 1482 Persoonen P„r Transport; Simon gousae - -\t[0.05256367474794388, 0.7418718934059143, 0.2048339992761612, 0.0007304248283617198]\n",
      "IN\tIN\tNL-HaNA_1.04.02_1547_0584.jpg\t1510 Persoonen P r. Transport; 6: Toepasse zoldaet\t[0.05231424421072006, 0.744173526763916, 0.20278936624526978, 0.0007229192997328937]\n",
      "IN\tIN\tNL-HaNA_1.04.02_1547_0585.jpg\t1537 Persoonen P. r Transport; vasten; genieten; .\t[0.051985085010528564, 0.7467705011367798, 0.2005303055047989, 0.0007141614914871752]\n",
      "IN\tIN\tNL-HaNA_1.04.02_1547_0586.jpg\t1561. Persoonen P„r Transport; qualiteijt en winne\t[0.051780618727207184, 0.7511233687400818, 0.19638849794864655, 0.0007075721514411271]\n",
      "IN\tIN\tNL-HaNA_1.04.02_1547_0587.jpg\t1586 Persoonen P. r Transport; Iacobo. . . . . . .\t[0.051422663033008575, 0.754155695438385, 0.19373486936092377, 0.0006868020282126963]\n",
      "IN\tIN\tNL-HaNA_1.04.02_1547_0588.jpg\t1608 Persoonen P. r Transport; qualiteijt en wat; \t[0.05112003907561302, 0.7577570080757141, 0.1904498189687729, 0.0006731169414706528]\n",
      "IN\tIN\tNL-HaNA_1.04.02_1547_0589.jpg\t1630 Persoonen P r. Transport; 6. in de waght plaa\t[0.050772447139024734, 0.7621234059333801, 0.18644772469997406, 0.0006564461509697139]\n",
      "IN\tIN\tNL-HaNA_1.04.02_1547_0590.jpg\tqualiteijt en maandel.; 1654. Persoonen P„r Transp\t[0.050428468734025955, 0.7668516635894775, 0.18208113312721252, 0.0006387227331288159]\n",
      "IN\tIN\tNL-HaNA_1.04.02_1547_0591.jpg\t1689 Persoonen Pr Transport; 1. Ignatio gonsal - -\t[0.0500984862446785, 0.7716681361198425, 0.1776130050420761, 0.000620379694737494]\n",
      "IN\tIN\tNL-HaNA_1.04.02_1547_0592.jpg\td' persoonen die in en ontrent; d' stadt Cochim zi\t[0.04978136718273163, 0.7762361168861389, 0.17338010668754578, 0.0006025258917361498]\n",
      "IN\tIN\tNL-HaNA_1.04.02_1547_0593.jpg\tet; Corte Tsamentreckingh der vooren aengehaelde; \t[0.049461930990219116, 0.7803091406822205, 0.16964252293109894, 0.0005863728001713753]\n",
      "IN\tIN\tNL-HaNA_1.04.02_1547_0594.jpg\t989. 761. 637. 469. Persoonen P. r Transport; 91. \t[0.049128126353025436, 0.7836800217628479, 0.1666194349527359, 0.0005724416696466506]\n",
      "IN\tIN\tNL-HaNA_1.04.02_1547_0595.jpg\t989. 761. 637. Persoonen P. r Transport; 62. zeeva\t[0.04875323921442032, 0.7862266898155212, 0.16445982456207275, 0.0005603362806141376]\n",
      "IN\tIN\tNL-HaNA_1.04.02_1547_0596.jpg\t989. 761. 712. Persoonen P. r Transport; 40. ambac\t[0.04829662665724754, 0.7878106236457825, 0.1633441001176834, 0.0005486505106091499]\n",
      "IN\tIN\tNL-HaNA_1.04.02_1547_0597.jpg\t137. Europiaense 'sComp. s dienaren ter fortresse \t[0.04770207777619362, 0.7881636023521423, 0.16359946131706238, 0.0005349285784177482]\n",
      "IN\tIN\tNL-HaNA_1.04.02_1547_0598.jpg\t989. 898. Persoonen P„r Transport; 91. persoonen E\t[0.04692208766937256, 0.7859720587730408, 0.166592076420784, 0.000513863458763808]\n",
      "IN\tIN\tNL-HaNA_1.04.02_1547_0599.jpg\t1729. 607. 393. 30. Persoonen p. r transport; 45. \t[0.04573516175150871, 0.775854766368866, 0.17793777585029602, 0.0004722320009022951]\n",
      "IN\tIN\tNL-HaNA_1.04.02_1547_0600.jpg\t1729. 607. 393. 393. 231. Persoonen p. r Transport\t[0.04211055859923363, 0.734002411365509, 0.22349952161312103, 0.00038756022695451975]\n",
      "IN\tIN\tNL-HaNA_1.04.02_1547_0601.jpg\t5. Lascorijns tot Compare; 5. d=os - - - „ Trenale\t[0.028070274740457535, 0.4991508722305298, 0.4725060760974884, 0.0002726853999774903]\n",
      "END\tEND\tNL-HaNA_1.04.02_1547_0602.jpg\t1729. 709. 96. 30. persoonen p:r Transport; 7. Zol\t[0.0007230277406051755, 0.0036016027443110943, 0.9956411123275757, 3.427173214731738e-05]\n"
     ]
    },
    {
     "name": "stderr",
     "output_type": "stream",
     "text": [
      "Evaluating:  96%|█████████▌| 22/23 [00:24<00:02,  2.41s/batch]"
     ]
    },
    {
     "name": "stdout",
     "output_type": "stream",
     "text": [
      "BEGIN\tBEGIN\tNL-HaNA_1.04.02_1081_0045.jpg\tSaterdach den 22 octob 1622; Alsoo de scheepen gro\t[0.9946178793907166, 0.0024721540976315737, 0.0006270447629503906, 0.0022829489316791296]\n",
      "IN\tIN\tNL-HaNA_1.04.02_1081_0046.jpg\tMede is goedt geuonden dat Sr. Cornelis van Neyenr\t[0.21198444068431854, 0.6825459599494934, 0.10268929600715637, 0.0027802332770079374]\n",
      "IN\tIN\tNL-HaNA_1.04.02_1081_0047.jpg\tSondach den 6 novemb. 1622„; -; Alsoo goedt geuond\t[0.07224947959184647, 0.7775067090988159, 0.14925150573253632, 0.0009923357283696532]\n",
      "IN\tIN\tNL-HaNA_1.04.02_1081_0048.jpg\tAchter de Eijlanden aende zuijtzijde vande baeij; \t[0.05883494019508362, 0.7577874064445496, 0.1825484335422516, 0.0008292103884741664]\n",
      "IN\tIN\tNL-HaNA_1.04.02_1081_0049.jpg\tHerwaerts spoeije om onse Instructie ende goet voo\t[0.05623100325465202, 0.7462183237075806, 0.19674964249134064, 0.0008010139572434127]\n",
      "IN\tIN\tNL-HaNA_1.04.02_1081_0050.jpg\tSaterdach den 19 Novemb 1622; Alsoo op gisteren go\t[0.05531591176986694, 0.7409116625785828, 0.20297837257385254, 0.0007940100622363389]\n",
      "IN\tIN\tNL-HaNA_1.04.02_1081_0051.jpg\tOock dat alle de genomen chiness synde het getal; \t[0.05483287200331688, 0.7384234070777893, 0.20595227181911469, 0.0007914690067991614]\n",
      "IN\tIN\tNL-HaNA_1.04.02_1081_0052.jpg\tDinsdach den 29 ditto; Alsoo bevinden dat de oorlo\t[0.0542975589632988, 0.7375072240829468, 0.2074064314365387, 0.0007886880775913596]\n",
      "IN\tIN\tNL-HaNA_1.04.02_1081_0053.jpg\tDonderdach den 1 decemb. 1625; 85; den 1e2 Marie A\t[0.05409935861825943, 0.738533079624176, 0.20657548308372498, 0.0007921038777567446]\n",
      "IN\tIN\tNL-HaNA_1.04.02_1081_0054.jpg\tGeuouchlijcke plaedts sal soecken om water te hael\t[0.05393083393573761, 0.7374123334884644, 0.2078772485256195, 0.0007795316632837057]\n",
      "IN\tIN\tNL-HaNA_1.04.02_1081_0055.jpg\tAlsoo den tijt van geleijn Cornelissen ondr. stier\t[0.05379902198910713, 0.7367138266563416, 0.20871084928512573, 0.0007762880413793027]\n",
      "IN\tIN\tNL-HaNA_1.04.02_1081_0056.jpg\tEen door een Jonck verlooren ende hier int baeijke\t[0.05369727686047554, 0.7369098663330078, 0.20861946046352386, 0.0007734167738817632]\n",
      "IN\tIN\tNL-HaNA_1.04.02_1081_0057.jpg\tMede is goedt gevonden alsoo bevonden is op eenige\t[0.05346527323126793, 0.7376343607902527, 0.20813259482383728, 0.0007677343091927469]\n",
      "IN\tIN\tNL-HaNA_1.04.02_1081_0058.jpg\tDinsdach den 13 decemb. 1622; Alsoo harde rencontr\t[0.05329349637031555, 0.7384598255157471, 0.20748378336429596, 0.0007628944586031139]\n",
      "IN\tIN\tNL-HaNA_1.04.02_1081_0059.jpg\tIs mede goedt gevonden datmen het goedt vande; sch\t[0.053097594529390335, 0.739625871181488, 0.20651927590370178, 0.0007572799222543836]\n",
      "IN\tIN\tNL-HaNA_1.04.02_1081_0060.jpg\tOversulcx is goedt geuonden dat men 2 vande voorn.\t[0.05286585912108421, 0.741122305393219, 0.20526094734668732, 0.0007508777198381722]\n",
      "IN\tIN\tNL-HaNA_1.04.02_1081_0061.jpg\tOp hoope dat de E Hr Gurl ander ordre sal geven; o\t[0.05261273309588432, 0.7433043718338013, 0.2033385932445526, 0.0007442820933647454]\n",
      "IN\tIN\tNL-HaNA_1.04.02_1081_0062.jpg\tNaer hertelijcke groetenisse wensche UEE een; lang\t[0.05234403535723686, 0.7454989552497864, 0.20142297446727753, 0.0007340987795032561]\n",
      "IN\tIN\tNL-HaNA_1.04.02_1081_0063.jpg\tEerstelijcken sal ul wel letten op de reden die de\t[0.052027009427547455, 0.748026967048645, 0.1992223709821701, 0.0007236627279780805]\n",
      "IN\tIN\tNL-HaNA_1.04.02_1081_0064.jpg\tEnde sy ul yet meer voorwerpende sal wtselve; aent\t[0.051682379096746445, 0.7519193887710571, 0.1956845372915268, 0.0007137365755625069]\n",
      "IN\tIN\tNL-HaNA_1.04.02_1081_0065.jpg\td'heer Commdr. Corn. reijertsz Inn; T Sedert vertr\t[0.051317356526851654, 0.7557796239852905, 0.1922062784433365, 0.000696796050760895]\n",
      "IN\tIN\tNL-HaNA_1.04.02_1081_0066.jpg\tSommige chinesz werpen uijt op een vande eylanden;\t[0.051028553396463394, 0.7598558068275452, 0.18843573331832886, 0.0006799226975999773]\n",
      "IN\tIN\tNL-HaNA_1.04.02_1081_0067.jpg\tDeryckel lijden, Soo wij hier langer sullen blijve\t[0.05062152072787285, 0.7648985385894775, 0.18381965160369873, 0.0006602891953662038]\n",
      "IN\tIN\tNL-HaNA_1.04.02_1081_0068.jpg\tDynsdach den 10 Jannuary 1623; stilsland van; wase\t[0.05014466494321823, 0.7703958749771118, 0.17882049083709717, 0.0006390003254637122]\n",
      "IN\tIN\tNL-HaNA_1.04.02_1081_0069.jpg\tde rng: beer blyft; van Eentee; Zamen tselve onwae\t[0.0497705414891243, 0.7755588293075562, 0.1740519404411316, 0.0006187427788972855]\n",
      "IN\tIN\tNL-HaNA_1.04.02_1081_0070.jpg\tReyars en van Mollants; op 12 Janel naar.; Andor.;\t[0.049378182739019394, 0.7806983590126038, 0.16932296752929688, 0.0006004523020237684]\n",
      "IN\tIN\tNL-HaNA_1.04.02_1081_0071.jpg\top te zulken niet; eeen harm, geschurt; hulp dee C\t[0.04903411865234375, 0.7845517992973328, 0.16583149135112762, 0.0005825490807183087]\n",
      "IN\tIN\tNL-HaNA_1.04.02_1081_0072.jpg\tDe Jachten de haen ende victoria sullen dienen ges\t[0.04863779619336128, 0.7874503135681152, 0.16334372758865356, 0.0005681782495230436]\n",
      "IN\tIN\tNL-HaNA_1.04.02_1081_0073.jpg\tSt. Adam verhult met den haen; De voorss. sin copi\t[0.04816208779811859, 0.7893055081367493, 0.1619773954153061, 0.0005549375200644135]\n",
      "IN\tIN\tNL-HaNA_1.04.02_1081_0074.jpg\tTot welcken eynde 2 pilooten mede sijn gegeven; de\t[0.047542475163936615, 0.7898082733154297, 0.1621088981628418, 0.000540316803380847]\n",
      "IN\tIN\tNL-HaNA_1.04.02_1081_0075.jpg\tHet kofferken met de Ingeleijde goederen sijn/ mij\t[0.046745121479034424, 0.7877956628799438, 0.1649394929409027, 0.0005197511636652052]\n",
      "IN\tIN\tNL-HaNA_1.04.02_1081_0076.jpg\tde Chinereed pikken; weder in. —; Batavia te denee\t[0.045721057802438736, 0.7777774333953857, 0.17602267861366272, 0.00047891997382976115]\n",
      "IN\tIN\tNL-HaNA_1.04.02_1081_0077.jpg\tDe selve niet en vermogen te verlaten ofte eenige \t[0.04228819161653519, 0.7325568199157715, 0.2247643619775772, 0.00039057506364770234]\n",
      "IN\tIN\tNL-HaNA_1.04.02_1081_0078.jpg\t25 January n; Sr. Sael op huijden hebben UE geadui\t[0.028042400255799294, 0.4909696877002716, 0.48071345686912537, 0.0002744931844063103]\n",
      "END\tEND\tNL-HaNA_1.04.02_1081_0079.jpg\tUE als nu ofte morgen hier soude hebben geweest da\t[0.000716192414984107, 0.003513679374009371, 0.9957358837127686, 3.418639607843943e-05]\n"
     ]
    },
    {
     "name": "stderr",
     "output_type": "stream",
     "text": [
      "Evaluating: 100%|██████████| 23/23 [00:25<00:00,  1.09s/batch]"
     ]
    },
    {
     "name": "stdout",
     "output_type": "stream",
     "text": [
      "BEGIN\tBEGIN\tNL-HaNA_1.04.02_1647_0632.jpg\tVan Macassar Anno 1701—; Vervolgens quam by den He\t[0.9998655319213867, 6.913366087246686e-05, 4.472258660825901e-05, 2.0562354620778933e-05]\n",
      "IN\tIN\tNL-HaNA_1.04.02_1647_0633.jpg\tVan Macassar Anno 1701; Van Macassar Anno 1701.; a\t[0.0004996329662390053, 0.9992245435714722, 0.0002733964647632092, 2.3458528630726505e-06]\n",
      "IN\tIN\tNL-HaNA_1.04.02_1647_0634.jpg\tVan Macassar Anno 1701; Van Macassar Anno 1701; va\t[0.00025200346135534346, 0.9994682669639587, 0.00027840209077112377, 1.3643231113746879e-06]\n",
      "IN\tIN\tNL-HaNA_1.04.02_1647_0635.jpg\tVan Macassar Anno 1701; Van Macassar Anno 1701; ve\t[0.00023022093228064477, 0.9994932413101196, 0.0002751544816419482, 1.252047582056548e-06]\n",
      "IN\tIN\tNL-HaNA_1.04.02_1647_0636.jpg\tVan Macassar Anno 1701; Van Macassar A„o 1701; het\t[0.00023508621961809695, 0.9994787573814392, 0.0002849498705472797, 1.2003226856904803e-06]\n",
      "IN\tIN\tNL-HaNA_1.04.02_1647_0637.jpg\tVan Macassar Anno 1701; Van Macassar A„o 1701.; mo\t[0.00023212775704450905, 0.9994943141937256, 0.0002723737561609596, 1.23257427731005e-06]\n",
      "IN\tIN\tNL-HaNA_1.04.02_1647_0638.jpg\tVan Macassar Anno 1701.; Van Macassar Anno 1701; g\t[0.00022319018898997456, 0.9994858503341675, 0.0002897131780628115, 1.181072889266943e-06]\n",
      "IN\tIN\tNL-HaNA_1.04.02_1647_0639.jpg\tVan; Macassar A„o 1701; Van Macassar A„o 1701; nae\t[0.00023351826530415565, 0.9994643330574036, 0.00030094891553744674, 1.1820570762210991e-06]\n",
      "IN\tIN\tNL-HaNA_1.04.02_1647_0640.jpg\tVan Macassar Anno 1701.; Van Macassar Anno 1701; W\t[0.00023358063481282443, 0.9994138479232788, 0.00035129504976794124, 1.2830765854232595e-06]\n",
      "IN\tIN\tNL-HaNA_1.04.02_1647_0641.jpg\tVan Macassar A„o 1701; Van Macassar Anno 1781; den\t[0.0005462541012093425, 0.9973400235176086, 0.0021109264343976974, 2.889748429879546e-06]\n",
      "END\tEND\tNL-HaNA_1.04.02_1647_0642.jpg\tVan Macassar A„o 1701; Van Macassar Anno 1701; had\t[0.0001702106965240091, 0.0001515805342933163, 0.9996739625930786, 4.327963779360289e-06]\n"
     ]
    },
    {
     "name": "stderr",
     "output_type": "stream",
     "text": [
      "\n"
     ]
    }
   ],
   "source": [
    "import sys\n",
    "\n",
    "precision, recall, f1, accuracy = tagger.eval_(test_data, BATCH_SIZE, sys.stdout)"
   ]
  },
  {
   "cell_type": "code",
   "execution_count": 20,
   "metadata": {},
   "outputs": [
    {
     "name": "stdout",
     "output_type": "stream",
     "text": [
      "Metric\tBEGIN\tIN\tEND\tOUT\n",
      "MulticlassPrecision\t0.8261\t0.9863\t0.9130\t0.9375\n",
      "MulticlassRecall\t0.9048\t0.9830\t1.0000\t0.7895\n",
      "MulticlassF1Score\t0.8636\t0.9847\t0.9545\t0.8571\n",
      "MulticlassF1Score (micro average):\t0.9690\n"
     ]
    }
   ],
   "source": [
    "import csv\n",
    "\n",
    "from document_segmentation.pagexml.datamodel.label import Label\n",
    "\n",
    "writer = csv.DictWriter(\n",
    "    sys.stdout, fieldnames=[\"Metric\"] + [label.name for label in Label], delimiter=\"\\t\"\n",
    ")\n",
    "\n",
    "writer.writeheader()\n",
    "\n",
    "for metric in precision, recall, f1:\n",
    "    assert metric.average is None\n",
    "\n",
    "    scores: list[float] = metric.compute().tolist()\n",
    "    writer.writerow(\n",
    "        {\"Metric\": metric.__class__.__name__}\n",
    "        | {label.name: f\"{score:.4f}\" for label, score in zip(Label, scores)}\n",
    "    )\n",
    "\n",
    "assert accuracy.average is not None\n",
    "\n",
    "print(\n",
    "    f\"{metric.__class__.__name__} ({accuracy.average} average):\\t{accuracy.compute().item():.4f}\",\n",
    "    file=sys.stdout,\n",
    ")"
   ]
  }
 ],
 "metadata": {
  "kernelspec": {
   "display_name": ".venv",
   "language": "python",
   "name": "python3"
  },
  "language_info": {
   "codemirror_mode": {
    "name": "ipython",
    "version": 3
   },
   "file_extension": ".py",
   "mimetype": "text/x-python",
   "name": "python",
   "nbconvert_exporter": "python",
   "pygments_lexer": "ipython3",
   "version": "3.11.2"
  }
 },
 "nbformat": 4,
 "nbformat_minor": 2
}
