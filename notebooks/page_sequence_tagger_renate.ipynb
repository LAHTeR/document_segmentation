{
 "cells": [
  {
   "cell_type": "code",
   "execution_count": 1,
   "metadata": {},
   "outputs": [],
   "source": [
    "%load_ext autoreload\n",
    "%autoreload now"
   ]
  },
  {
   "cell_type": "code",
   "execution_count": 2,
   "metadata": {},
   "outputs": [],
   "source": [
    "import os\n",
    "\n",
    "os.environ[\"CUDA_VISIBLE_DEVICES\"] = \"MIG-08137aa2-e69b-5e74-8390-7997329b1336\"\n",
    "# os.environ[\"WORLD_SIZE\"] = \"1\""
   ]
  },
  {
   "cell_type": "markdown",
   "metadata": {},
   "source": [
    "# Download and convert data"
   ]
  },
  {
   "cell_type": "code",
   "execution_count": 7,
   "metadata": {},
   "outputs": [
    {
     "name": "stderr",
     "output_type": "stream",
     "text": [
      "Writing documents: 100%|██████████| 78/78 [03:02<00:00,  2.34s/doc]\n"
     ]
    }
   ],
   "source": [
    "from tqdm import tqdm\n",
    "\n",
    "from document_segmentation.pagexml.annotations.renate_analysis import RenateAnalysis\n",
    "from document_segmentation.settings import RENATE_ANALYSIS_DIR\n",
    "\n",
    "N = None\n",
    "\n",
    "RENATE_ANALYSIS_DIR.mkdir(parents=True, exist_ok=True)\n",
    "\n",
    "sheet = RenateAnalysis()\n",
    "\n",
    "\n",
    "existing_docs = {\n",
    "    path.stem for path in RENATE_ANALYSIS_DIR.glob(\"Globdoc_*.json\") if path.is_file()\n",
    "}\n",
    "\n",
    "for document in tqdm(\n",
    "    sheet.to_documents(n=N, skip_ids=existing_docs),\n",
    "    total=(N or len(sheet)) - len(existing_docs),\n",
    "    desc=\"Writing documents\",\n",
    "    unit=\"doc\",\n",
    "):\n",
    "    document_file = RENATE_ANALYSIS_DIR / f\"{document.id}.json\"\n",
    "\n",
    "    with document_file.open(\"xt\") as f:\n",
    "        f.write(document.model_dump_json())\n",
    "        f.write(\"\\n\")"
   ]
  },
  {
   "cell_type": "code",
   "execution_count": 6,
   "metadata": {},
   "outputs": [
    {
     "name": "stderr",
     "output_type": "stream",
     "text": [
      "Writing documents:   0%|          | 0/664 [00:00<?, ?doc/s]"
     ]
    },
    {
     "name": "stderr",
     "output_type": "stream",
     "text": [
      "Writing documents:   4%|▍         | 26/664 [00:20<08:26,  1.26doc/s]\n"
     ]
    }
   ],
   "source": [
    "from tqdm import tqdm\n",
    "\n",
    "from document_segmentation.pagexml.annotations.renate_analysis import RenateAnalysisInv\n",
    "from document_segmentation.settings import RENATE_ANALYSIS_DIR, RENATE_ANALYSIS_SHEETS\n",
    "\n",
    "N = None\n",
    "\n",
    "\n",
    "sheet = RenateAnalysisInv(RENATE_ANALYSIS_SHEETS[0])  # TODO: use both sheets\n",
    "\n",
    "for document in tqdm(sheet.to_documents(n=N), desc=\"Writing documents\", unit=\"doc\"):\n",
    "    document_file = RENATE_ANALYSIS_DIR / f\"{document.id}.json\"\n",
    "\n",
    "    with document_file.open(\"xt\") as f:\n",
    "        f.write(document.model_dump_json())\n",
    "        f.write(\"\\n\")"
   ]
  },
  {
   "cell_type": "markdown",
   "metadata": {},
   "source": [
    "# Load Data"
   ]
  },
  {
   "cell_type": "code",
   "execution_count": null,
   "metadata": {},
   "outputs": [],
   "source": [
    "%autoreload now"
   ]
  },
  {
   "cell_type": "code",
   "execution_count": 8,
   "metadata": {},
   "outputs": [],
   "source": [
    "TRAINING_DATA = 0.8"
   ]
  },
  {
   "cell_type": "code",
   "execution_count": 9,
   "metadata": {},
   "outputs": [
    {
     "name": "stderr",
     "output_type": "stream",
     "text": [
      "Reading JSON files: 100%|██████████| 104/104 [00:00<00:00, 152.02file/s]\n"
     ]
    },
    {
     "data": {
      "text/plain": [
       "2184"
      ]
     },
     "execution_count": 9,
     "metadata": {},
     "output_type": "execute_result"
    }
   ],
   "source": [
    "from document_segmentation.model.dataset import PageDataset\n",
    "from document_segmentation.settings import MIN_REGION_TEXT_LENGTH\n",
    "\n",
    "dataset = PageDataset.from_dir(RENATE_ANALYSIS_DIR).remove_short_regions(\n",
    "    MIN_REGION_TEXT_LENGTH\n",
    ")\n",
    "len(dataset)"
   ]
  },
  {
   "cell_type": "code",
   "execution_count": 10,
   "metadata": {},
   "outputs": [
    {
     "data": {
      "text/plain": [
       "Counter({<Label.IN: 1>: 1907,\n",
       "         <Label.BEGIN: 0>: 104,\n",
       "         <Label.END: 2>: 100,\n",
       "         <Label.OUT: 3>: 73})"
      ]
     },
     "execution_count": 10,
     "metadata": {},
     "output_type": "execute_result"
    }
   ],
   "source": [
    "dataset._class_counts()"
   ]
  },
  {
   "cell_type": "code",
   "execution_count": 11,
   "metadata": {},
   "outputs": [
    {
     "data": {
      "text/plain": [
       "[20.8, 1.1446540880503144, 21.623762376237625, 29.513513513513512]"
      ]
     },
     "execution_count": 11,
     "metadata": {},
     "output_type": "execute_result"
    }
   ],
   "source": [
    "dataset.class_weights()"
   ]
  },
  {
   "cell_type": "code",
   "execution_count": 12,
   "metadata": {},
   "outputs": [
    {
     "data": {
      "text/plain": [
       "Counter({<Label.IN: 1>: 1533,\n",
       "         <Label.BEGIN: 0>: 77,\n",
       "         <Label.END: 2>: 75,\n",
       "         <Label.OUT: 3>: 62})"
      ]
     },
     "execution_count": 12,
     "metadata": {},
     "output_type": "execute_result"
    }
   ],
   "source": [
    "split = int(len(dataset) * TRAINING_DATA)\n",
    "\n",
    "training_data = dataset[:split]\n",
    "training_data._class_counts()"
   ]
  },
  {
   "cell_type": "code",
   "execution_count": 13,
   "metadata": {},
   "outputs": [
    {
     "data": {
      "text/plain": [
       "Counter({<Label.IN: 1>: 374,\n",
       "         <Label.BEGIN: 0>: 27,\n",
       "         <Label.END: 2>: 25,\n",
       "         <Label.OUT: 3>: 11})"
      ]
     },
     "execution_count": 13,
     "metadata": {},
     "output_type": "execute_result"
    }
   ],
   "source": [
    "test_data = dataset[split:]\n",
    "test_data._class_counts()"
   ]
  },
  {
   "cell_type": "markdown",
   "metadata": {},
   "source": [
    "# Train Model"
   ]
  },
  {
   "cell_type": "code",
   "execution_count": 14,
   "metadata": {},
   "outputs": [],
   "source": [
    "import torch\n",
    "\n",
    "BATCH_SIZE = 32\n",
    "EPOCHS = 10\n",
    "WEIGHTS = torch.Tensor(dataset.class_weights())  # For an imbalanced dataset"
   ]
  },
  {
   "cell_type": "code",
   "execution_count": 15,
   "metadata": {},
   "outputs": [],
   "source": [
    "%autoreload now"
   ]
  },
  {
   "cell_type": "code",
   "execution_count": 16,
   "metadata": {},
   "outputs": [],
   "source": [
    "from document_segmentation.model.page_sequence_tagger import PageSequenceTagger\n",
    "\n",
    "tagger = PageSequenceTagger()"
   ]
  },
  {
   "cell_type": "code",
   "execution_count": 17,
   "metadata": {},
   "outputs": [
    {
     "data": {
      "text/plain": [
       "'mps'"
      ]
     },
     "execution_count": 17,
     "metadata": {},
     "output_type": "execute_result"
    }
   ],
   "source": [
    "tagger._device"
   ]
  },
  {
   "cell_type": "code",
   "execution_count": 18,
   "metadata": {},
   "outputs": [
    {
     "data": {
      "text/plain": [
       "PageSequenceTagger(\n",
       "  (_page_embedding): PageEmbedding(\n",
       "    (_region_model): RegionEmbeddingSentenceTransformer(\n",
       "      (_transformer_model): SentenceTransformer(\n",
       "        (0): Transformer({'max_seq_length': 128, 'do_lower_case': False}) with Transformer model: RobertaModel \n",
       "        (1): Pooling({'word_embedding_dimension': 768, 'pooling_mode_cls_token': False, 'pooling_mode_mean_tokens': True, 'pooling_mode_max_tokens': False, 'pooling_mode_mean_sqrt_len_tokens': False, 'pooling_mode_weightedmean_tokens': False, 'pooling_mode_lasttoken': False})\n",
       "      )\n",
       "      (_region_type): Embedding(9, 16)\n",
       "      (_linear): Linear(in_features=784, out_features=512, bias=True)\n",
       "    )\n",
       "    (_rnn): LSTM(512, 256, num_layers=2, batch_first=True, dropout=0.1, bidirectional=True)\n",
       "    (_linear): Linear(in_features=512, out_features=256, bias=True)\n",
       "  )\n",
       "  (_rnn): LSTM(256, 256, num_layers=2, batch_first=True, dropout=0.1, bidirectional=True)\n",
       "  (_linear): Linear(in_features=512, out_features=4, bias=True)\n",
       "  (_softmax): Softmax(dim=1)\n",
       ")"
      ]
     },
     "execution_count": 18,
     "metadata": {},
     "output_type": "execute_result"
    }
   ],
   "source": [
    "tagger"
   ]
  },
  {
   "cell_type": "code",
   "execution_count": 24,
   "metadata": {},
   "outputs": [
    {
     "name": "stderr",
     "output_type": "stream",
     "text": [
      "  0%|          | 0/54.59375 [00:00<?, ?batch/s]"
     ]
    },
    {
     "name": "stderr",
     "output_type": "stream",
     "text": [
      "101%|██████████| 55/54.59375 [00:04<00:00, 11.73batch/s]\n"
     ]
    },
    {
     "name": "stdout",
     "output_type": "stream",
     "text": [
      "Current allocated memory (MPS): 1378 MB\n",
      "Driver allocated memory (MPS): 3060 MB\n",
      "[Loss:\t1.054]\n"
     ]
    },
    {
     "name": "stderr",
     "output_type": "stream",
     "text": [
      "101%|██████████| 55/54.59375 [00:04<00:00, 13.37batch/s]\n"
     ]
    },
    {
     "name": "stdout",
     "output_type": "stream",
     "text": [
      "Current allocated memory (MPS): 1378 MB\n",
      "Driver allocated memory (MPS): 3070 MB\n",
      "[Loss:\t1.085]\n"
     ]
    },
    {
     "name": "stderr",
     "output_type": "stream",
     "text": [
      "101%|██████████| 55/54.59375 [00:04<00:00, 13.61batch/s]\n"
     ]
    },
    {
     "name": "stdout",
     "output_type": "stream",
     "text": [
      "Current allocated memory (MPS): 1378 MB\n",
      "Driver allocated memory (MPS): 3070 MB\n",
      "[Loss:\t1.098]\n"
     ]
    },
    {
     "name": "stderr",
     "output_type": "stream",
     "text": [
      "101%|██████████| 55/54.59375 [00:04<00:00, 13.21batch/s]\n"
     ]
    },
    {
     "name": "stdout",
     "output_type": "stream",
     "text": [
      "Current allocated memory (MPS): 1378 MB\n",
      "Driver allocated memory (MPS): 3070 MB\n",
      "[Loss:\t1.109]\n"
     ]
    },
    {
     "name": "stderr",
     "output_type": "stream",
     "text": [
      "101%|██████████| 55/54.59375 [00:04<00:00, 13.74batch/s]\n"
     ]
    },
    {
     "name": "stdout",
     "output_type": "stream",
     "text": [
      "Current allocated memory (MPS): 1378 MB\n",
      "Driver allocated memory (MPS): 3070 MB\n",
      "[Loss:\t1.116]\n"
     ]
    },
    {
     "name": "stderr",
     "output_type": "stream",
     "text": [
      "101%|██████████| 55/54.59375 [00:04<00:00, 13.54batch/s]\n"
     ]
    },
    {
     "name": "stdout",
     "output_type": "stream",
     "text": [
      "Current allocated memory (MPS): 1378 MB\n",
      "Driver allocated memory (MPS): 3070 MB\n",
      "[Loss:\t1.097]\n"
     ]
    },
    {
     "name": "stderr",
     "output_type": "stream",
     "text": [
      "101%|██████████| 55/54.59375 [00:04<00:00, 13.56batch/s]\n"
     ]
    },
    {
     "name": "stdout",
     "output_type": "stream",
     "text": [
      "Current allocated memory (MPS): 1378 MB\n",
      "Driver allocated memory (MPS): 3070 MB\n",
      "[Loss:\t1.079]\n"
     ]
    },
    {
     "name": "stderr",
     "output_type": "stream",
     "text": [
      "101%|██████████| 55/54.59375 [00:04<00:00, 13.56batch/s]\n"
     ]
    },
    {
     "name": "stdout",
     "output_type": "stream",
     "text": [
      "Current allocated memory (MPS): 1378 MB\n",
      "Driver allocated memory (MPS): 3070 MB\n",
      "[Loss:\t1.054]\n"
     ]
    },
    {
     "name": "stderr",
     "output_type": "stream",
     "text": [
      "101%|██████████| 55/54.59375 [00:03<00:00, 13.83batch/s]\n"
     ]
    },
    {
     "name": "stdout",
     "output_type": "stream",
     "text": [
      "Current allocated memory (MPS): 1378 MB\n",
      "Driver allocated memory (MPS): 3070 MB\n",
      "[Loss:\t1.144]\n"
     ]
    },
    {
     "name": "stderr",
     "output_type": "stream",
     "text": [
      "101%|██████████| 55/54.59375 [00:04<00:00, 13.45batch/s]"
     ]
    },
    {
     "name": "stdout",
     "output_type": "stream",
     "text": [
      "Current allocated memory (MPS): 1378 MB\n",
      "Driver allocated memory (MPS): 3070 MB\n",
      "[Loss:\t1.250]\n"
     ]
    },
    {
     "name": "stderr",
     "output_type": "stream",
     "text": [
      "\n"
     ]
    }
   ],
   "source": [
    "tagger.train_(training_data, EPOCHS, BATCH_SIZE, WEIGHTS.to(tagger._device))"
   ]
  },
  {
   "cell_type": "markdown",
   "metadata": {},
   "source": [
    "# Evaluate Model"
   ]
  },
  {
   "cell_type": "code",
   "execution_count": 27,
   "metadata": {},
   "outputs": [
    {
     "name": "stdout",
     "output_type": "stream",
     "text": [
      "Predicted\tActual\tPage ID\tText\tScores\n"
     ]
    },
    {
     "name": "stderr",
     "output_type": "stream",
     "text": [
      "  7%|▋         | 1/13.65625 [00:00<00:01,  8.55batch/s]"
     ]
    },
    {
     "name": "stdout",
     "output_type": "stream",
     "text": [
      "IN\tIN\tNL-HaNA_1.04.02_3524_0970.jpg\tEen Praurmaijang en arriveerd en den 4 te Mampau„;\t[0.1231585219502449, 0.6661331057548523, 0.20988833904266357, 0.0008200352895073593]\n",
      "IN\tIN\tNL-HaNA_1.04.02_3524_0971.jpg\tmet den dogter van den Panumbahan aldaar ge„; stro\t[0.13595041632652283, 0.6782530546188354, 0.18533653020858765, 0.0004599464882630855]\n",
      "IN\tIN\tNL-HaNA_1.04.02_3524_0972.jpg\tRaadsaam was dat de Pangerang zijn schoonzoon; zel\t[0.14104604721069336, 0.6879023313522339, 0.17063266038894653, 0.000418944691773504]\n",
      "IN\tIN\tNL-HaNA_1.04.02_3524_0973.jpg\tdat hem dit zeerlieff was dat de Landakers affalli\t[0.1505967080593109, 0.6758900284767151, 0.1730610728263855, 0.00045220437459647655]\n",
      "IN\tIN\tNL-HaNA_1.04.02_3524_0974.jpg\tRaadsaam was dat de Pangerang zijn schoonzoon; zel\t[0.15059442818164825, 0.6761804819107056, 0.1727742999792099, 0.0004507791600190103]\n",
      "IN\tIN\tNL-HaNA_1.04.02_3524_0975.jpg\tdat hem dit zeerlieff was dat de Landakers affalli\t[0.15530365705490112, 0.6721768975257874, 0.17207029461860657, 0.00044913310557603836]\n",
      "IN\tIN\tNL-HaNA_1.04.02_3524_0976.jpg\tDen Hoog Edelen Gestr Groot Agtb en wydgebiedende \t[0.20839835703372955, 0.5927276611328125, 0.19831205904483795, 0.0005618694121949375]\n",
      "IN\tIN\tNL-HaNA_1.04.02_3524_0977.jpg\tzulks wierd afgeslaagen eyndelyk haalden wij hem d\t[0.18795116245746613, 0.6261001229286194, 0.185466468334198, 0.0004821923212148249]\n",
      "IN\tIN\tNL-HaNA_1.04.02_3524_0978.jpg\tdat hem den songer bij ons heeft doen koomen want;\t[0.17730414867401123, 0.6366567015647888, 0.1855565905570984, 0.0004825497744604945]\n",
      "IN\tIN\tNL-HaNA_1.04.02_3524_0979.jpg\tPandak door Bantams oorst aan de Comp over gegeven\t[0.17682938277721405, 0.6302940249443054, 0.19239062070846558, 0.00048599523142911494]\n",
      "IN\tIN\tNL-HaNA_1.04.02_3524_0980.jpg\tLijst der Schulden van den Pangerang; Annakkoda La\t[0.2132713347673416, 0.5637866258621216, 0.22240817546844482, 0.0005338207702152431]\n",
      "IN\tIN\tNL-HaNA_1.04.02_3524_0981.jpg\t„donneeren dat hij een ander plaats tot zyn verbly\t[0.21429210901260376, 0.5800853371620178, 0.20514751970767975, 0.00047501755761913955]\n",
      "IN\tIN\tNL-HaNA_1.04.02_3524_0982.jpg\tNotitie van de Onderstaanden Proviesien dewelke; u\t[0.204691544175148, 0.5853591561317444, 0.2094675451517105, 0.0004816784639842808]\n",
      "IN\tIN\tNL-HaNA_1.04.02_3524_0983.jpg\t3 halve legges. voor watervaaten in der wagt; 1 p.\t[0.19902393221855164, 0.5885394215583801, 0.21196705102920532, 0.00046957339509390295]\n",
      "IN\tIN\tNL-HaNA_1.04.02_3524_0984.jpg\tDe Hoog Edele Gestr Groot Agtb en wydgebiedende He\t[0.19689933955669403, 0.5944874286651611, 0.2081911563873291, 0.00042209852836094797]\n",
      "IN\tIN\tNL-HaNA_1.04.02_3524_0985.jpg\tCoijangs rijst de eerste teegens 25 kijsers daalde\t[0.1894029825925827, 0.59218829870224, 0.21793599426746368, 0.00047268052003346384]\n",
      "IN\tIN\tNL-HaNA_1.04.02_3524_0986.jpg\tvan 10000 kyserdaalders ter leen zullende hij alle\t[0.19460883736610413, 0.5687077045440674, 0.23616449534893036, 0.0005189969670027494]\n",
      "IN\tIN\tNL-HaNA_1.04.02_3524_0987.jpg\tHier meede deesen bekortende maatigen wij ons de; \t[0.20996135473251343, 0.4968831539154053, 0.2925398051738739, 0.0006156691233627498]\n",
      "IN\tEND\tNL-HaNA_1.04.02_3524_0988.jpg\tNotitie van Zodaanige Coopmansz:; etc: als Sariepr\t[0.22716283798217773, 0.43809202313423157, 0.33412495255470276, 0.0006201791111379862]\n",
      "END\tOUT\tNL-HaNA_1.04.02_1547_0481.jpg\t\t[0.339977502822876, 0.2769583761692047, 0.3822918236255646, 0.0007723094313405454]\n",
      "BEGIN\tOUT\tNL-HaNA_1.04.02_1547_0482.jpg\t\t[0.3845382332801819, 0.3004537522792816, 0.3142997622489929, 0.0007082080701366067]\n",
      "IN\tBEGIN\tNL-HaNA_1.04.02_1547_0483.jpg\tSaterdagh den 4=en xber; Present den Commandeur; P\t[0.25057172775268555, 0.5393986105918884, 0.20957808196544647, 0.00045156091800890863]\n",
      "IN\tIN\tNL-HaNA_1.04.02_1547_0484.jpg\tna batavia, ende de tot nogh binnen dien; stad ber\t[0.22888891398906708, 0.5393284559249878, 0.23136116564273834, 0.0004214728542137891]\n",
      "IN\tIN\tNL-HaNA_1.04.02_1547_0485.jpg\tbedencken wat met den meester Compagnies; 2; diens\t[0.23188014328479767, 0.5283152461051941, 0.2393314242362976, 0.00047316623385995626]\n",
      "IN\tIN\tNL-HaNA_1.04.02_1547_0486.jpg\tgr=t agtb goede jntentien daar ontrent aan —; alle\t[0.2400600016117096, 0.46552732586860657, 0.2938116788864136, 0.0006010393844917417]\n",
      "END\tIN\tNL-HaNA_1.04.02_1547_0487.jpg\tEnde aangesiene het schip goudesteijn volgens —; d\t[0.22483786940574646, 0.3796190321445465, 0.3949398696422577, 0.0006031990051269531]\n",
      "END\tEND\tNL-HaNA_1.04.02_1547_0488.jpg\tDe voormelte Copia resolmitie door den Eh=r; Comma\t[0.19436639547348022, 0.22126343846321106, 0.5837563276290894, 0.0006138331373222172]\n",
      "END\tOUT\tNL-HaNA_1.04.02_1547_0456.jpg\t\t[0.32239702343940735, 0.15724734961986542, 0.5196882486343384, 0.0006673965253867209]\n",
      "END\tOUT\tNL-HaNA_1.04.02_1547_0457.jpg\t\t[0.3653159737586975, 0.16200658679008484, 0.47199246287345886, 0.0006849775090813637]\n",
      "END\tOUT\tNL-HaNA_1.04.02_1547_0458.jpg\t\t[0.3294140696525574, 0.1709538847208023, 0.4989725649356842, 0.0006594667211174965]\n",
      "IN\tBEGIN\tNL-HaNA_1.04.02_1547_0459.jpg\tRapport gedaen Ter ordre; van d' E. heer Adriaen V\t[0.27370670437812805, 0.4099394679069519, 0.3156913220882416, 0.0006624871748499572]\n",
      "END\tIN\tNL-HaNA_1.04.02_1547_0460.jpg\tdat den bovengem: veltheer, zyn seconde genaem; pi\t[0.29299893975257874, 0.21731440722942352, 0.4887281358242035, 0.0009585170773789287]\n",
      "IN\tIN\tNL-HaNA_1.04.02_1547_0461.jpg\t212; lieten uijtwaijen sonder te konnen uijtten op\t[0.12718608975410461, 0.6581971645355225, 0.213838130235672, 0.0007786275236867368]\n",
      "IN\tIN\tNL-HaNA_1.04.02_1547_0462.jpg\tden principaelsten schelm naer mijn gesegt wert ov\t[0.13529324531555176, 0.6817895770072937, 0.1824895739555359, 0.0004276258696336299]\n",
      "IN\tIN\tNL-HaNA_1.04.02_1547_0463.jpg\tden schadt van d' E Comp:e niet kwam aen tewijsen;\t[0.13956192135810852, 0.690478503704071, 0.16956312954425812, 0.0003963947528973222]\n",
      "IN\tIN\tNL-HaNA_1.04.02_1547_0464.jpg\tWingurla dus verre verrigt waeren heefen sigh zijn\t[0.14994461834430695, 0.6791617274284363, 0.17046977579593658, 0.00042380011291243136]\n",
      "IN\tIN\tNL-HaNA_1.04.02_1547_0465.jpg\tvoor ons thien menschen intgetal wierd opgedist; e\t[0.14823724329471588, 0.6781796216964722, 0.1731596440076828, 0.0004234856169205159]\n",
      "IN\tIN\tNL-HaNA_1.04.02_1547_0466.jpg\tom welke voorseijde reedenen hy velt overste den r\t[0.15629994869232178, 0.671306848526001, 0.17196501791477203, 0.00042822075192816556]\n",
      "IN\tEND\tNL-HaNA_1.04.02_1547_0467.jpg\tWaer seven daegen zoo aen mijn lighaem te verschoo\t[0.15559862554073334, 0.6711593270301819, 0.1728082001209259, 0.0004338797880336642]\n",
      "IN\tBEGIN\tNL-HaNA_1.04.02_1268_1095.jpg\tIs nae aen roepingh van godes Heijsige naeme; vers\t[0.15831544995307922, 0.6693838238716125, 0.17186422646045685, 0.0004365566710475832]\n",
      "IN\tIN\tNL-HaNA_1.04.02_1268_1096.jpg\tberaemen op dat achtervolgens d'ordre Ind Indische\t[0.15471792221069336, 0.6716065406799316, 0.173241525888443, 0.0004340260929893702]\n",
      "IN\tIN\tNL-HaNA_1.04.02_1268_1097.jpg\tdwijl bevonden wort dat Eenige particoliere predic\t[0.15851885080337524, 0.6687657833099365, 0.1722734570503235, 0.0004419265897013247]\n",
      "IN\tIN\tNL-HaNA_1.04.02_1268_1098.jpg\td'wijl ondervonden wert dat sonder d' Inlandse tae\t[0.16432149708271027, 0.6605690121650696, 0.1746576577425003, 0.00045183897600509226]\n",
      "IN\tIN\tNL-HaNA_1.04.02_1268_1099.jpg\twij nader aen schrijvens Expatria vercregen hebben\t[0.1727895885705948, 0.6496272087097168, 0.17714303731918335, 0.00044016013271175325]\n",
      "IN\tIN\tNL-HaNA_1.04.02_1268_1100.jpg\tnaet vaderlandt ofte ook aen andre Conrespondeeren\t[0.17287340760231018, 0.6480416655540466, 0.17864476144313812, 0.00044014258310198784]\n",
      "IN\tIN\tNL-HaNA_1.04.02_1268_1101.jpg\tresolutie niet weijnigh versterkt door het geene v\t[0.17810386419296265, 0.6402470469474792, 0.18121905624866486, 0.0004300487053114921]\n",
      "IN\tIN\tNL-HaNA_1.04.02_1268_1102.jpg\tEenige veranderinge daer in te maecken en dat wij \t[0.1741306632757187, 0.6469888687133789, 0.17844557762145996, 0.0004348571819718927]\n",
      "IN\tIN\tNL-HaNA_1.04.02_1268_1103.jpg\t2=e; de Inlandse schoolmeesters sullen oock daer t\t[0.19097794592380524, 0.6181098818778992, 0.19040526449680328, 0.0005068654427304864]\n",
      "IN\tIN\tNL-HaNA_1.04.02_1268_1104.jpg\tOock dat alle predicanten die naemaels sullen Come\t[0.1917513757944107, 0.6242028474807739, 0.18360278010368347, 0.00044303268077783287]\n",
      "IN\tIN\tNL-HaNA_1.04.02_1268_1105.jpg\tofte oock haer advijs afte wagten bij geschrift ma\t[0.1885944902896881, 0.6239297986030579, 0.18699456751346588, 0.0004811798280570656]\n",
      "IN\tIN\tNL-HaNA_1.04.02_1268_1106.jpg\tgouverneur generael Anthonio van diemen loffelijck\t[0.18209587037563324, 0.6359028816223145, 0.18157057464122772, 0.00043073866982012987]\n",
      "IN\tIN\tNL-HaNA_1.04.02_1268_1107.jpg\tdat de broederen haer met de kerken vergaderingh r\t[0.18156976997852325, 0.6367211937904358, 0.1812719851732254, 0.0004370612441562116]\n",
      "IN\tIN\tNL-HaNA_1.04.02_1268_1108.jpg\tder H:r saeken die daer toe sullen werden gecommit\t[0.17571915686130524, 0.6444221138954163, 0.17942769825458527, 0.00043096698937006295]\n",
      "IN\tEND\tNL-HaNA_1.04.02_1268_1109.jpg\tg'admitteert en tot godes kerke aengenomen werden \t[0.18611912429332733, 0.6301312446594238, 0.1833193451166153, 0.00043035822454839945]\n",
      "IN\tBEGIN\tNL-HaNA_1.04.02_3446_0595.jpg\tAan De Edele Hoog Agtb„e Heeren; Bewindhebberen va\t[0.18293602764606476, 0.632973849773407, 0.1836433708667755, 0.0004467506951186806]\n",
      "IN\tIN\tNL-HaNA_1.04.02_3446_0596.jpg\tOctober 1776 met de voorzeilder de Boven; . .; „ke\t[0.18872889876365662, 0.6273429989814758, 0.1834936887025833, 0.00043443875620141625]\n",
      "IN\tIN\tNL-HaNA_1.04.02_3446_0597.jpg\tinhouden 21339: lb: een minderheijt bevonden; is v\t[0.18785050511360168, 0.6266059279441833, 0.18510478734970093, 0.00043875325354747474]\n",
      "IN\tIN\tNL-HaNA_1.04.02_3446_0598.jpg\tverantwoord en de overige 139: lb. bij naweging; v\t[0.18952974677085876, 0.6242184638977051, 0.1858091652393341, 0.0004425727529451251]\n",
      "IN\tIN\tNL-HaNA_1.04.02_3446_0599.jpg\tbreng van het schip Mentor een vol vat bruto; wege\t[0.18957939743995667, 0.6221216917037964, 0.18785247206687927, 0.00044644682202488184]\n",
      "IN\tIN\tNL-HaNA_1.04.02_3446_0600.jpg\tverantwoord en de overige 139: lb. bij nawe„; van \t[0.18980750441551208, 0.6129487156867981, 0.1967705935239792, 0.0004731705121230334]\n",
      "IN\tIN\tNL-HaNA_1.04.02_3446_0601.jpg\tbreng van het schip Mentor een vol vat bruto; wege\t[0.1840009242296219, 0.6049435138702393, 0.21060466766357422, 0.00045090634375810623]\n",
      "IN\tIN\tNL-HaNA_1.04.02_3446_0602.jpg\tBotthland, Topkensburg, de Held Wolthemade, Mentor\t[0.19885443150997162, 0.5540777444839478, 0.24655961990356445, 0.0005082078278064728]\n",
      "IN\tEND\tNL-HaNA_1.04.02_3446_0603.jpg\tBatavia; in 't Casteel den; 25:e october; waar mee\t[0.2246626764535904, 0.48094192147254944, 0.2936418652534485, 0.0007535244221799076]\n",
      "END\tBEGIN\tNL-HaNA_1.04.02_2542_0114.jpg\tVan Mallabaar onder dato; 9. stux te weeten; 6. ma\t[0.2611084580421448, 0.26199063658714294, 0.47596052289009094, 0.0009403910953551531]\n"
     ]
    },
    {
     "name": "stderr",
     "output_type": "stream",
     "text": [
      " 22%|██▏       | 3/13.65625 [00:00<00:00, 13.72batch/s]"
     ]
    },
    {
     "name": "stdout",
     "output_type": "stream",
     "text": [
      "IN\tBEGIN\tNL-HaNA_1.04.02_1647_0632.jpg\tVan Macassar Anno 1701—; Vervolgens quam by den He\t[0.12395356595516205, 0.6638548970222473, 0.21137934923171997, 0.0008122037397697568]\n",
      "IN\tIN\tNL-HaNA_1.04.02_1647_0633.jpg\tVan Macassar Anno 1701; Van Macassar Anno 1701.; a\t[0.13473038375377655, 0.6803565621376038, 0.1844596564769745, 0.00045336579205468297]\n",
      "IN\tIN\tNL-HaNA_1.04.02_1647_0634.jpg\tVan Macassar Anno 1701; Van Macassar Anno 1701; va\t[0.140029177069664, 0.6896322965621948, 0.16992247104644775, 0.00041610473999753594]\n",
      "IN\tIN\tNL-HaNA_1.04.02_1647_0635.jpg\tVan Macassar Anno 1701; Van Macassar Anno 1701; ve\t[0.1512736678123474, 0.6765015125274658, 0.1717754304409027, 0.0004493932065088302]\n",
      "IN\tIN\tNL-HaNA_1.04.02_1647_0636.jpg\tVan Macassar Anno 1701; Van Macassar A„o 1701; het\t[0.1493915617465973, 0.6775469183921814, 0.172615647315979, 0.00044592225458472967]\n",
      "IN\tIN\tNL-HaNA_1.04.02_1647_0637.jpg\tVan Macassar Anno 1701; Van Macassar A„o 1701.; mo\t[0.1560990810394287, 0.6709672808647156, 0.17248138785362244, 0.0004522496019490063]\n",
      "IN\tIN\tNL-HaNA_1.04.02_1647_0638.jpg\tVan Macassar Anno 1701.; Van Macassar Anno 1701; g\t[0.22917282581329346, 0.5602574944496155, 0.20999546349048615, 0.0005741496570408344]\n",
      "IN\tIN\tNL-HaNA_1.04.02_1647_0639.jpg\tVan; Macassar A„o 1701; Van Macassar A„o 1701; nae\t[0.20590084791183472, 0.5975102782249451, 0.19611206650733948, 0.0004768311628140509]\n",
      "IN\tIN\tNL-HaNA_1.04.02_1647_0640.jpg\tVan Macassar Anno 1701.; Van Macassar Anno 1701; W\t[0.19229285418987274, 0.6120503544807434, 0.19518201053142548, 0.0004747292259708047]\n",
      "IN\tIN\tNL-HaNA_1.04.02_1647_0641.jpg\tVan Macassar A„o 1701; Van Macassar Anno 1781; den\t[0.19082403182983398, 0.6125960350036621, 0.19611093401908875, 0.0004689886118285358]\n",
      "IN\tEND\tNL-HaNA_1.04.02_1647_0642.jpg\tVan Macassar A„o 1701; Van Macassar Anno 1701; had\t[0.19552946090698242, 0.5951502323150635, 0.20885595679283142, 0.00046436523552984]\n",
      "IN\tBEGIN\tNL-HaNA_1.04.02_1060_0435.jpg\tAlsoo het schip der Goes, als t'Jacht Cleijn Enckh\t[0.20790059864521027, 0.59159916639328, 0.20004522800445557, 0.00045504161971621215]\n",
      "IN\tIN\tNL-HaNA_1.04.02_1060_0436.jpg\tOp heden den 5 feb. @ 1614, door beroep vanden E. \t[0.20746584236621857, 0.590502917766571, 0.2015550583600998, 0.0004761872114613652]\n",
      "IN\tIN\tNL-HaNA_1.04.02_1060_0437.jpg\t@ 1615. Dondergeschreven te soonen; Soo Is bij d' \t[0.2073177844285965, 0.5901011824607849, 0.20211003720760345, 0.000470929458970204]\n",
      "IN\tIN\tNL-HaNA_1.04.02_1060_0438.jpg\tDen 19 feb. . vernomen hebbende op de factorije to\t[0.20750676095485687, 0.5922558903694153, 0.19978193938732147, 0.0004553981707431376]\n",
      "IN\tIN\tNL-HaNA_1.04.02_1060_0439.jpg\tErt Dircx wttgevaren voor Soldaet, opt schip Banta\t[0.22996683418750763, 0.5551401972770691, 0.2143542468547821, 0.0005387505516409874]\n",
      "IN\tIN\tNL-HaNA_1.04.02_1060_0440.jpg\tComptoir deeart sullen gaen, omme door den opperco\t[0.2272082269191742, 0.5642900466918945, 0.20801609754562378, 0.0004855831793975085]\n",
      "IN\tIN\tNL-HaNA_1.04.02_1060_0441.jpg\tAl500. Anthonij Caen, getrout met Jannetien Gillis\t[0.21940892934799194, 0.5698021054267883, 0.21028819680213928, 0.0005007454892620444]\n",
      "IN\tIN\tNL-HaNA_1.04.02_1060_0442.jpg\tssouden mogen geraecken, &ne ten derden vermits al\t[0.20794738829135895, 0.5811906456947327, 0.21043384075164795, 0.00042809065780602396]\n",
      "IN\tIN\tNL-HaNA_1.04.02_1060_0443.jpg\tAlsoo tot noch toe geen schepen wt het vaderlant, \t[0.20441082119941711, 0.5810114741325378, 0.2141304612159729, 0.0004472167929634452]\n",
      "IN\tIN\tNL-HaNA_1.04.02_1060_0444.jpg\tNaerder gelet sijnde, volgens apostile door d Ed. \t[0.1998315155506134, 0.5863195061683655, 0.21342794597148895, 0.0004210502956993878]\n",
      "IN\tIN\tNL-HaNA_1.04.02_1060_0445.jpg\t@ 1615; E; Den 14e. septemb. d'onderges raden, opt\t[0.1984020471572876, 0.5831089019775391, 0.21802616119384766, 0.0004628821916412562]\n",
      "IN\tIN\tNL-HaNA_1.04.02_1060_0446.jpg\tge; Alsoo 'T schip Esterre, tot zijnne te doene vo\t[0.1919216811656952, 0.5625850558280945, 0.24500028789043427, 0.0004929662100039423]\n",
      "IN\tIN\tNL-HaNA_1.04.02_1060_0447.jpg\tMaendach den xiiije Decemb. @ 1615 &; Alsoo bij de\t[0.20451603829860687, 0.5404966473579407, 0.2543669641017914, 0.0006203789380379021]\n",
      "IN\tEND\tNL-HaNA_1.04.02_1060_0448.jpg\tSivert Sipkens sargeant die de voors compe. tot nu\t[0.22536660730838776, 0.4459518790245056, 0.3280097246170044, 0.0006718285731039941]\n",
      "END\tBEGIN\tNL-HaNA_1.04.02_1066_0065.jpg\tNo. 1— Originelen missive door d' H=r Presidt Cocn\t[0.21636663377285004, 0.30262237787246704, 0.48043110966682434, 0.0005797959747724235]\n",
      "END\tOUT\tNL-HaNA_1.04.02_1547_0348.jpg\t\t[0.3304864764213562, 0.18544264137744904, 0.4834105670452118, 0.0006603572983294725]\n",
      "END\tOUT\tNL-HaNA_1.04.02_1547_0349.jpg\t\t[0.3204514682292938, 0.20593197643756866, 0.47292768955230713, 0.0006888258503749967]\n",
      "END\tOUT\tNL-HaNA_1.04.02_1547_0350.jpg\t\t[0.35588353872299194, 0.2415366917848587, 0.40190452337265015, 0.0006752334302291274]\n",
      "IN\tBEGIN\tNL-HaNA_1.04.02_1547_0351.jpg\tTranslaat ola door haar E:; heer Commandeur adriaa\t[0.26451611518859863, 0.5019306540489197, 0.23303744196891785, 0.0005158418207429349]\n",
      "IN\tIN\tNL-HaNA_1.04.02_1547_0352.jpg\tgegeven werd op dit alle onlusten verweijderinghe \t[0.2587278485298157, 0.4308733642101288, 0.309732049703598, 0.0006668136338703334]\n",
      "END\tEND\tNL-HaNA_1.04.02_1547_0353.jpg\ten het Cochinisz rijk herwaarts te senden om over \t[0.27576541900634766, 0.22703464329242706, 0.4962993264198303, 0.0009006165200844407]\n",
      "IN\tBEGIN\tNL-HaNA_1.04.02_1506_1034.jpg\t-; d; E; 7.; decken; 8; 2; van de; 5; ƒ; 3; E; E; \t[0.11448346078395844, 0.6758450269699097, 0.2089116871356964, 0.0007598279044032097]\n",
      "IN\tIN\tNL-HaNA_1.04.02_1506_1035.jpg\tbinnewater; een lamme; D95; same; uijt; ies; Cas; \t[0.1325017213821411, 0.6776821613311768, 0.1893334835767746, 0.00048264767974615097]\n",
      "IN\tIN\tNL-HaNA_1.04.02_1506_1036.jpg\t30 vrs; o; Janor; 6; 5o; e; x; 116; E; 6.; 1.; :; \t[0.13322339951992035, 0.6764953136444092, 0.18973992764949799, 0.0005413414328359067]\n",
      "IN\tEND\tNL-HaNA_1.04.02_1506_1037.jpg\tk; „noortvelt; rogons; „1; rsame; uijt; eruijt; ƒ;\t[0.173891082406044, 0.5663397908210754, 0.25919654965400696, 0.0005726039526052773]\n",
      "IN\tBEGIN\tNL-HaNA_1.04.02_3060_0043.jpg\tNa dat de Leeden deeser Vergaadering bij een geroe\t[0.18850813806056976, 0.4708155393600464, 0.3400689959526062, 0.0006073274998925626]\n",
      "BEGIN\tIN\tNL-HaNA_1.04.02_3060_0044.jpg\t\t[0.35526204109191895, 0.30140119791030884, 0.34264424443244934, 0.0006925964262336493]\n",
      "BEGIN\tIN\tNL-HaNA_1.04.02_3060_0045.jpg\t\t[0.3702048063278198, 0.28144121170043945, 0.3476824164390564, 0.0006715888739563525]\n",
      "BEGIN\tIN\tNL-HaNA_1.04.02_3060_0046.jpg\t\t[0.3832387924194336, 0.28568893671035767, 0.3304426074028015, 0.0006296462379395962]\n",
      "IN\tIN\tNL-HaNA_1.04.02_3060_0047.jpg\tWoensdag den 13: ' October A„o 1762.; Na dat de Le\t[0.2532379925251007, 0.5288215279579163, 0.21744978427886963, 0.0004906879039481282]\n",
      "IN\tIN\tNL-HaNA_1.04.02_3060_0048.jpg\tNagesien; G„s V„n Aken\t[0.2602235972881317, 0.4688705503940582, 0.2703266739845276, 0.000579180137719959]\n",
      "IN\tIN\tNL-HaNA_1.04.02_3060_0049.jpg\tWoensdag den 13.:' October A„o 1762.; Na dat de Le\t[0.272487074136734, 0.4100693464279175, 0.31683218479156494, 0.0006113972049206495]\n",
      "BEGIN\tIN\tNL-HaNA_1.04.02_3060_0050.jpg\t\t[0.35832878947257996, 0.2931559383869171, 0.34781110286712646, 0.0007041605422273278]\n",
      "IN\tIN\tNL-HaNA_1.04.02_3060_0051.jpg\tDingsdag Den 2:' November A„o 1762. —; Den Raad bi\t[0.24837808310985565, 0.5291040539741516, 0.2220669984817505, 0.00045091696665622294]\n",
      "IN\tIN\tNL-HaNA_1.04.02_3060_0052.jpg\tOver te haalen geweest, dan ruijm, een halff Capit\t[0.24305762350559235, 0.5128145813941956, 0.24355003237724304, 0.0005777910118922591]\n",
      "IN\tIN\tNL-HaNA_1.04.02_3060_0053.jpg\tDen bottelier Jan Fredrik Smit, van SHage; Hoffmee\t[0.2594742178916931, 0.46821409463882446, 0.27171051502227783, 0.0006011686054989696]\n",
      "IN\tIN\tNL-HaNA_1.04.02_3060_0054.jpg\tNagesien; P: D Lahaije\t[0.24756570160388947, 0.4138874113559723, 0.3379914462566376, 0.0005554512608796358]\n",
      "END\tIN\tNL-HaNA_1.04.02_3060_0055.jpg\t\t[0.34331732988357544, 0.25777530670166016, 0.39814460277557373, 0.0007628189050592482]\n",
      "IN\tIN\tNL-HaNA_1.04.02_3060_0056.jpg\tNagesien; G: B: D Leeuw; d\t[0.2867405414581299, 0.4243544340133667, 0.28829699754714966, 0.000607942754868418]\n",
      "END\tIN\tNL-HaNA_1.04.02_3060_0057.jpg\tMaandag Den 15„e November A„o 1762. —; Het ingedie\t[0.3430905342102051, 0.30784010887145996, 0.34830743074417114, 0.0007619906100444496]\n",
      "END\tIN\tNL-HaNA_1.04.02_3060_0058.jpg\t\t[0.3511180877685547, 0.2627635598182678, 0.38536855578422546, 0.0007497703190892935]\n",
      "IN\tIN\tNL-HaNA_1.04.02_3060_0059.jpg\tAan den wel Edelen Agtb: Heere; Fredrik Willem Win\t[0.3172149956226349, 0.37618687748908997, 0.3060208261013031, 0.0005772957811132073]\n",
      "BEGIN\tIN\tNL-HaNA_1.04.02_3060_0060.jpg\t\t[0.36307138204574585, 0.2818451225757599, 0.35429853200912476, 0.0007849361863918602]\n",
      "BEGIN\tIN\tNL-HaNA_1.04.02_3060_0061.jpg\t\t[0.36604446172714233, 0.2974752187728882, 0.335798054933548, 0.0006822844734415412]\n",
      "IN\tIN\tNL-HaNA_1.04.02_3060_0062.jpg\tNagesien; J:B: D Leeuw.\t[0.305795282125473, 0.39683598279953003, 0.2968212962150574, 0.0005473951459862292]\n",
      "BEGIN\tIN\tNL-HaNA_1.04.02_3060_0063.jpg\t\t[0.37496140599250793, 0.29032444953918457, 0.3339678645133972, 0.0007462769863195717]\n",
      "BEGIN\tIN\tNL-HaNA_1.04.02_3060_0064.jpg\t\t[0.39441657066345215, 0.29403460025787354, 0.31081774830818176, 0.0007310580695047975]\n",
      "IN\tIN\tNL-HaNA_1.04.02_3060_0065.jpg\tE:E: Agtbaaren Heer Johannes Heijnouts; Sondergete\t[0.27511805295944214, 0.5208274722099304, 0.2035953253507614, 0.0004591619363054633]\n",
      "IN\tEND\tNL-HaNA_1.04.02_3060_0066.jpg\tNoering hem daar toe sijne hulpe leenen; Voor 't o\t[0.24005600810050964, 0.535645067691803, 0.22389616072177887, 0.00040278100641444325]\n",
      "IN\tBEGIN\tNL-HaNA_1.04.02_1088_0511.jpg\tNaer dat den 8en. septembr 1625, het fergatt Surat\t[0.24713720381259918, 0.5236415266990662, 0.2287902981042862, 0.0004309544456191361]\n",
      "IN\tIN\tNL-HaNA_1.04.02_1088_0512.jpg\tdie van Lohoe waren hem gevolcht, tot op lebeleeuw\t[0.24243740737438202, 0.5134482979774475, 0.24364732205867767, 0.0004669547488447279]\n",
      "IN\tIN\tNL-HaNA_1.04.02_1088_0513.jpg\twederom afgesonden, naar Bouro, om te vernemen, wa\t[0.2566356658935547, 0.4456460177898407, 0.2970398962497711, 0.0006783909047953784]\n",
      "END\tIN\tNL-HaNA_1.04.02_1088_0514.jpg\tende ten deele onwillich, soo dat met schoon spree\t[0.2650003731250763, 0.23765206336975098, 0.49646493792533875, 0.0008826314588077366]\n"
     ]
    },
    {
     "name": "stderr",
     "output_type": "stream",
     "text": [
      " 44%|████▍     | 6/13.65625 [00:00<00:00, 16.61batch/s]"
     ]
    },
    {
     "name": "stdout",
     "output_type": "stream",
     "text": [
      "IN\tIN\tNL-HaNA_1.04.02_1088_0515.jpg\tons voor antwoort, dat wel waar was, dat sijn Vade\t[0.12300992757081985, 0.6676484942436218, 0.2085222452878952, 0.0008192991372197866]\n",
      "IN\tIN\tNL-HaNA_1.04.02_1088_0516.jpg\tnoch al wel toeginck, ende mijn hier van noch vrij\t[0.1371178925037384, 0.6777298450469971, 0.18468590080738068, 0.0004663012514356524]\n",
      "IN\tIN\tNL-HaNA_1.04.02_1088_0517.jpg\tblijcken wat parthij hij hielt van dese uijr affso\t[0.14017949998378754, 0.6881232261657715, 0.17127247154712677, 0.0004248098412062973]\n",
      "IN\tIN\tNL-HaNA_1.04.02_1088_0518.jpg\tdus lange was gedaen, hebben den raet dit in Beden\t[0.15155616402626038, 0.673597514629364, 0.17435970902442932, 0.00048659005551598966]\n",
      "IN\tIN\tNL-HaNA_1.04.02_1088_0519.jpg\tte mogen werden, met cruijt ende Loot, ende soo he\t[0.14337728917598724, 0.664137065410614, 0.19196680188179016, 0.0005187909700907767]\n",
      "IN\tIN\tNL-HaNA_1.04.02_1088_0520.jpg\tDen 9=en d=o smorgens, quamen voor Oerien, ofte no\t[0.15297247469425201, 0.6291505098342896, 0.21734876930713654, 0.0005282526835799217]\n",
      "IN\tIN\tNL-HaNA_1.04.02_1088_0521.jpg\tmede die van Cabau, den Sergeant aldaer op Hatuha \t[0.17781686782836914, 0.5413885712623596, 0.2802218198776245, 0.0005727903917431831]\n",
      "IN\tIN\tNL-HaNA_1.04.02_1088_0522.jpg\tSijn voorts doorgepangaijt naer Oma, de corcoiren \t[0.22235259413719177, 0.4052996337413788, 0.37184420228004456, 0.0005035870708525181]\n",
      "END\tIN\tNL-HaNA_1.04.02_1088_0523.jpg\t\t[0.34384027123451233, 0.27237260341644287, 0.38304245471954346, 0.0007446848321706057]\n",
      "END\tIN\tNL-HaNA_1.04.02_1088_0524.jpg\t\t[0.35519739985466003, 0.27058297395706177, 0.37346336245536804, 0.0007562588434666395]\n",
      "BEGIN\tIN\tNL-HaNA_1.04.02_1088_0525.jpg\t\t[0.38397568464279175, 0.2655954658985138, 0.3497171998023987, 0.0007117179338820279]\n",
      "BEGIN\tIN\tNL-HaNA_1.04.02_1088_0526.jpg\t\t[0.38085898756980896, 0.2699090540409088, 0.3484577536582947, 0.0007742696907371283]\n",
      "BEGIN\tIN\tNL-HaNA_1.04.02_1088_0527.jpg\t\t[0.38876497745513916, 0.30107226967811584, 0.30947038531303406, 0.0006923926412127912]\n",
      "BEGIN\tIN\tNL-HaNA_1.04.02_1088_0528.jpg\t\t[0.37730973958969116, 0.2639063000679016, 0.35803547501564026, 0.0007485183887183666]\n",
      "BEGIN\tIN\tNL-HaNA_1.04.02_1088_0529.jpg\t\t[0.3985578417778015, 0.26463231444358826, 0.3360494077205658, 0.0007604577112942934]\n",
      "BEGIN\tIN\tNL-HaNA_1.04.02_1088_0530.jpg\t\t[0.41898423433303833, 0.2835767865180969, 0.2968009114265442, 0.0006380120757967234]\n",
      "BEGIN\tIN\tNL-HaNA_1.04.02_1088_0531.jpg\t\t[0.4124943017959595, 0.2477325201034546, 0.3391472399234772, 0.0006259811343625188]\n",
      "BEGIN\tIN\tNL-HaNA_1.04.02_1088_0532.jpg\tin Ambonia tsedert 8 septemb.; Daghregister vant g\t[0.3637464642524719, 0.3505188524723053, 0.28517234325408936, 0.000562339264433831]\n",
      "BEGIN\tIN\tNL-HaNA_1.04.02_1088_0533.jpg\t\t[0.43763428926467896, 0.27337101101875305, 0.28840354084968567, 0.0005911268526688218]\n",
      "IN\tIN\tNL-HaNA_1.04.02_1088_0534.jpg\tCopien van resolutien tsedert; 21 Julij 1628. tet \t[0.3155929148197174, 0.4904439449310303, 0.1934983730316162, 0.00046481186291202903]\n",
      "IN\tIN\tNL-HaNA_1.04.02_1088_0535.jpg\tberockt ons alsoo weder werck, geeft ons de handen\t[0.2672829031944275, 0.5335298180580139, 0.19881278276443481, 0.000374471303075552]\n",
      "IN\tIN\tNL-HaNA_1.04.02_1088_0536.jpg\tgewacht, dat sulcx de ongelegentheijt van tijt, en\t[0.25624993443489075, 0.5421118140220642, 0.2012500911951065, 0.00038813703577034175]\n",
      "IN\tIN\tNL-HaNA_1.04.02_1088_0537.jpg\tDen 22.en s=o vertrocken van lato ende Holoij, end\t[0.25562939047813416, 0.5396353006362915, 0.20433470606803894, 0.0004005951341241598]\n",
      "IN\tIN\tNL-HaNA_1.04.02_1088_0538.jpg\tdit geweest sijn, hebben nu inder daatr bevonden, \t[0.26257631182670593, 0.5346569418907166, 0.20233187079429626, 0.00043485016794875264]\n",
      "IN\tIN\tNL-HaNA_1.04.02_1088_0539.jpg\tende gewillich aengenomen, hadden mede al begonnen\t[0.2886029779911041, 0.5120407938957214, 0.1988372653722763, 0.0005188938230276108]\n",
      "IN\tIN\tNL-HaNA_1.04.02_1088_0540.jpg\tDen 6. H=o Ist fargatt Suratte, Wederom op Amboijn\t[0.2594652771949768, 0.5330973863601685, 0.20700904726982117, 0.00042828175355680287]\n",
      "IN\tIN\tNL-HaNA_1.04.02_1088_0541.jpg\tOuer het Verlies van Rommite, hadden ouer Hittoe, \t[0.2562984824180603, 0.5362821817398071, 0.20701301097869873, 0.0004063316446263343]\n",
      "IN\tIN\tNL-HaNA_1.04.02_1088_0542.jpg\twaren, het selue achter nelis hoeck te brengen, om\t[0.24197758734226227, 0.5390496253967285, 0.21856585144996643, 0.0004069438436999917]\n",
      "IN\tIN\tNL-HaNA_1.04.02_1088_0543.jpg\t244; voorganis, datmen ons niet en mocht vertrouwe\t[0.24281878769397736, 0.5282832980155945, 0.22848521173000336, 0.0004127765423618257]\n",
      "IN\tIN\tNL-HaNA_1.04.02_1088_0544.jpg\tvrouw, den man niet mede toebehoorde, niet meer an\t[0.23340623080730438, 0.5220819711685181, 0.24405722320079803, 0.0004545701667666435]\n",
      "IN\tIN\tNL-HaNA_1.04.02_1088_0545.jpg\tsoete middelen te werck gaen, hoewel daar mede nie\t[0.25791940093040466, 0.45204269886016846, 0.2893565595149994, 0.0006813481450080872]\n",
      "END\tIN\tNL-HaNA_1.04.02_1088_0546.jpg\tsoude mogen bewaert leggen, maer alst nu alsoo bes\t[0.26809072494506836, 0.24341358244419098, 0.48758774995803833, 0.0009079193696379662]\n",
      "IN\tIN\tNL-HaNA_1.04.02_1088_0547.jpg\tsij seijden dat op Hattamana, den Jongen Coninck, \t[0.1267382651567459, 0.6588939428329468, 0.21358662843704224, 0.0007811356917954981]\n",
      "IN\tIN\tNL-HaNA_1.04.02_1088_0548.jpg\tuijt de quartieren van hittoe, dit heele Mosson, m\t[0.13476139307022095, 0.6825922131538391, 0.18221749365329742, 0.00042890210170298815]\n",
      "IN\tIN\tNL-HaNA_1.04.02_1088_0549.jpg\tdaer van wachten soude, hebben de gevangenen ontsl\t[0.13901746273040771, 0.6912644505500793, 0.16932040452957153, 0.00039770713192410767]\n",
      "IN\tIN\tNL-HaNA_1.04.02_1088_0550.jpg\thebben geconsenteert, haer best te doen, ende reve\t[0.14931754767894745, 0.6800357103347778, 0.17022162675857544, 0.00042507576290518045]\n",
      "IN\tIN\tNL-HaNA_1.04.02_1088_0551.jpg\tselffs dootlijck gewont, waar op die van Cambello \t[0.1476431041955948, 0.6789968609809875, 0.17293523252010345, 0.00042479002149775624]\n",
      "IN\tIN\tNL-HaNA_1.04.02_1088_0552.jpg\tspoedich affhandelen, ende ons laeten weeten, waer\t[0.1557537019252777, 0.6720818877220154, 0.17173460125923157, 0.0004298138665035367]\n",
      "IN\tIN\tNL-HaNA_1.04.02_1088_0553.jpg\tpattij naij, met haer souden afsenden, om den Coni\t[0.15486840903759003, 0.6721320152282715, 0.1725643277168274, 0.0004352289834059775]\n",
      "IN\tIN\tNL-HaNA_1.04.02_1088_0554.jpg\tbegeerden alleen te verstaen, wat antwoort den kim\t[0.1576693207025528, 0.6702572107315063, 0.17163555324077606, 0.0004379762685857713]\n",
      "IN\tIN\tNL-HaNA_1.04.02_1088_0555.jpg\tsij hadden geseijt voor ons bevreest te weesen, en\t[0.15413637459278107, 0.6724469661712646, 0.17298132181167603, 0.0004353015392553061]\n",
      "IN\tIN\tNL-HaNA_1.04.02_1088_0556.jpg\tTarnataensen aenhanck, vande custe van Ceram: niet\t[0.15783248841762543, 0.669690728187561, 0.1720336228609085, 0.00044316769344732165]\n",
      "IN\tIN\tNL-HaNA_1.04.02_1088_0557.jpg\top houden, conde niet bedencken wat Excusien sij d\t[0.16365547478199005, 0.6614834070205688, 0.17440761625766754, 0.00045346535625867546]\n",
      "IN\tIN\tNL-HaNA_1.04.02_1088_0558.jpg\tvereenichde Nederlanden, maer deselue hebben haren\t[0.17205794155597687, 0.6506412625312805, 0.17685900628566742, 0.0004418030730448663]\n",
      "IN\tIN\tNL-HaNA_1.04.02_1088_0559.jpg\tte werden, het welck wij hebben naergecommen, ende\t[0.17198924720287323, 0.6493304371833801, 0.17823895812034607, 0.0004413993447087705]\n",
      "IN\tIN\tNL-HaNA_1.04.02_1088_0560.jpg\ttraecheijt des Conincx van Saulauw, niet en soude \t[0.17608331143856049, 0.6433331370353699, 0.18015241622924805, 0.00043117234599776566]\n",
      "IN\tIN\tNL-HaNA_1.04.02_1088_0561.jpg\top dat alsoo de oude vruntschap, mocht vernieuwt w\t[0.16751140356063843, 0.6570090055465698, 0.17504067718982697, 0.0004388841916806996]\n",
      "IN\tIN\tNL-HaNA_1.04.02_1088_0562.jpg\tarmoede die zijn bolck leet, doch ten laetsten hei\t[0.16767334938049316, 0.6517078280448914, 0.1801905333995819, 0.0004282818699721247]\n",
      "IN\tIN\tNL-HaNA_1.04.02_1088_0563.jpg\tte assisteeren.; Capn. Hittoe quam ons mede besoec\t[0.1728457361459732, 0.6492084860801697, 0.17750990390777588, 0.0004358838777989149]\n",
      "IN\tIN\tNL-HaNA_1.04.02_1088_0564.jpg\tHebben den gesant Noffa Maniera, bij ons ontbooden\t[0.17864994704723358, 0.6377575993537903, 0.18313351273536682, 0.00045899144606664777]\n",
      "IN\tIN\tNL-HaNA_1.04.02_1088_0565.jpg\tgoetgevoelen vandese saack; Wij Eijschten vanden g\t[0.171361044049263, 0.651186466217041, 0.17701546847820282, 0.00043705428834073246]\n",
      "IN\tIN\tNL-HaNA_1.04.02_1088_0566.jpg\tDit staat ons vreemt aen, connes oock niet geloove\t[0.1696617603302002, 0.6536412835121155, 0.17626269161701202, 0.00043425356852822006]\n",
      "IN\tIN\tNL-HaNA_1.04.02_1088_0567.jpg\tworden, met veel meer schoone woorden daar noch bi\t[0.1631295084953308, 0.660554826259613, 0.17588947713375092, 0.0004261934373062104]\n",
      "IN\tIN\tNL-HaNA_1.04.02_1088_0568.jpg\tnaar Hittoe, aenden ondercoopman vant Nederlants C\t[0.1811760663986206, 0.6365489959716797, 0.18184778094291687, 0.00042720790952444077]\n",
      "IN\tIN\tNL-HaNA_1.04.02_1088_0569.jpg\tdat denselven soude doen translateren, op dat aen \t[0.17453879117965698, 0.6420176029205322, 0.1830010563135147, 0.0004425579681992531]\n",
      "IN\tEND\tNL-HaNA_1.04.02_1088_0570.jpg\tende geen meer en haddent, schreeff Helenij aen on\t[0.18532457947731018, 0.6303381323814392, 0.18388479948043823, 0.00045248703099787235]\n",
      "IN\tBEGIN\tNL-HaNA_1.04.02_8099_0205.jpg\tVan Ternaten onder dato 11:' 7ber: 1732; van alle \t[0.23320156335830688, 0.5606920123100281, 0.20551282167434692, 0.0005935766967013478]\n",
      "IN\tIN\tNL-HaNA_1.04.02_8099_0206.jpg\tVan Ternaten onder dato 11:' Septemb:r 1732; Lauwt\t[0.21736741065979004, 0.5752289891242981, 0.2069225311279297, 0.0004811066610272974]\n",
      "IN\tIN\tNL-HaNA_1.04.02_8099_0207.jpg\tVan Ternaten onder dato 11:' 7ber: 1732; door hem \t[0.21378496289253235, 0.5740087628364563, 0.21172350645065308, 0.0004827335651498288]\n",
      "IN\tIN\tNL-HaNA_1.04.02_8099_0208.jpg\tTernaten onder dato 11:' 7ber: 1732; Van; „dugting\t[0.20884670317173004, 0.556013822555542, 0.23466110229492188, 0.00047835256555117667]\n",
      "IN\tIN\tNL-HaNA_1.04.02_8099_0209.jpg\tTernaten onder dato 11:' 7ber: 1732; Van; Ternaten\t[0.25902488827705383, 0.4668359160423279, 0.27356189489364624, 0.0005773216253146529]\n",
      "IN\tIN\tNL-HaNA_1.04.02_8099_0210.jpg\tTernaten onder dato 11:' Sepb: 1732; Van; voor ops\t[0.21809186041355133, 0.5306696891784668, 0.2506937086582184, 0.0005447531584650278]\n",
      "IN\tIN\tNL-HaNA_1.04.02_8099_0211.jpg\tTernaten onder dato 17:' 7ber: 1732; E; Van; en we\t[0.2343817949295044, 0.4645187258720398, 0.30031129717826843, 0.000788263336289674]\n",
      "END\tIN\tNL-HaNA_1.04.02_8099_0212.jpg\tVan Ternaten onder dato 11:' Jber: 1732; Saturdag \t[0.2649657726287842, 0.25235363841056824, 0.48173031210899353, 0.0009503070614300668]\n",
      "IN\tIN\tNL-HaNA_1.04.02_8099_0213.jpg\tVan Ternaten onder dato 11:' Jber: A„o 1732; AAan \t[0.12641237676143646, 0.6644463539123535, 0.2083406299352646, 0.0008006145944818854]\n",
      "IN\tIN\tNL-HaNA_1.04.02_8099_0214.jpg\tVan Ternaten onder dato 11:' Septemb: A„o 1732; ee\t[0.13823112845420837, 0.6796778440475464, 0.18163222074508667, 0.00045873437193222344]\n",
      "IN\tIN\tNL-HaNA_1.04.02_8099_0215.jpg\tVan Ternaten onder dato 11:' Septemb: 1732; waar v\t[0.2025464028120041, 0.5984074473381042, 0.19847528636455536, 0.0005708063836209476]\n",
      "IN\tIN\tNL-HaNA_1.04.02_8099_0216.jpg\tTernaten onder dato 11:' 7ber: A„o 1732; Van; uijt\t[0.1834653615951538, 0.6315121054649353, 0.18450617790222168, 0.000516348285600543]\n",
      "IN\tEND\tNL-HaNA_1.04.02_8099_0217.jpg\tVan Ternaten onder dato 11:' Septemb: 1732; s geli\t[0.18318724632263184, 0.6054268479347229, 0.21083082258701324, 0.0005551087087951601]\n",
      "IN\tBEGIN\tNL-HaNA_1.04.02_1070_0199.jpg\t2 saeckers Elck van 3000 lb; 2 halve dittos elck v\t[0.21341148018836975, 0.5050438046455383, 0.2808862328529358, 0.0006585560040548444]\n",
      "BEGIN\tIN\tNL-HaNA_1.04.02_1070_0200.jpg\t\t[0.3837254047393799, 0.305451899766922, 0.31007444858551025, 0.0007482473738491535]\n",
      "IN\tEND\tNL-HaNA_1.04.02_1070_0201.jpg\tAdriaen gerritsz van utrecht sergiant; marijn Ding\t[0.25310689210891724, 0.5502375364303589, 0.19621437788009644, 0.0004412290873005986]\n",
      "IN\tBEGIN\tNL-HaNA_1.04.02_1509_1538.jpg\tMonsterolle van alle sComp:s Loontreckende; Monste\t[0.22532926499843597, 0.5766720175743103, 0.19758208096027374, 0.00041665317257866263]\n",
      "IN\tIN\tNL-HaNA_1.04.02_1509_1539.jpg\tdienaren dewelcke in't Cormandelse Gouvernement bi\t[0.22118012607097626, 0.5826095938682556, 0.1957959532737732, 0.00041435123421251774]\n",
      "IN\tIN\tNL-HaNA_1.04.02_1509_1540.jpg\t339. en 35. persoonen p=r Transport. —; Namen, Toe\t[0.22883693873882294, 0.567142903804779, 0.2036011666059494, 0.00041893793968483806]\n",
      "IN\tIN\tNL-HaNA_1.04.02_1509_1541.jpg\t90; d=o.. . ..; Adsistent; Chirurgijn. . . . ƒ 36.\t[0.23830784857273102, 0.5576146841049194, 0.2036828100681305, 0.0003946674696635455]\n",
      "IN\tIN\tNL-HaNA_1.04.02_1509_1542.jpg\t339 en 74. persoonen P=r Transport; Namen, Toename\t[0.23833869397640228, 0.556958794593811, 0.20429331064224243, 0.00040916461148299277]\n",
      "IN\tIN\tNL-HaNA_1.04.02_1509_1543.jpg\tsiekevaar. . . ƒ 20. walcheren. . . . . 1662. Zeel\t[0.23904012143611908, 0.5565422177314758, 0.2040257453918457, 0.000391931040212512]\n",
      "IN\tIN\tNL-HaNA_1.04.02_1509_1544.jpg\t339. en 113. persoonen P=r Transport.; Namen, Toen\t[0.233232319355011, 0.5661326050758362, 0.2002490758895874, 0.0003860536962747574]\n",
      "IN\tIN\tNL-HaNA_1.04.02_1509_1545.jpg\tp:l timmerman. ƒ 11. d' bergh China. . . 1682. Ams\t[0.23228438198566437, 0.5626633167266846, 0.20466545224189758, 0.0003868199128191918]\n",
      "IN\tIN\tNL-HaNA_1.04.02_1509_1546.jpg\t339. en 155. persoonen P=r Transport; 1. Abraham f\t[0.23553071916103363, 0.5620721578598022, 0.20200437307357788, 0.00039267970714718103]\n",
      "IN\tIN\tNL-HaNA_1.04.02_1509_1547.jpg\t90; 90; 90; 90; D=o; d=o; 90; D=o; 90; 90; D=o; D=\t[0.23814980685710907, 0.5549279451370239, 0.20649434626102448, 0.0004278637934476137]\n",
      "IN\tIN\tNL-HaNA_1.04.02_1509_1548.jpg\t339. en 195. persoonen P=r Transport —; Namen, Toe\t[0.23055964708328247, 0.5678804516792297, 0.2011728584766388, 0.0003870239306706935]\n",
      "IN\tIN\tNL-HaNA_1.04.02_1509_1549.jpg\t90; 90; 90; 40; 90; D=; D=o; D=o; D=o; D=o; D=o; 9\t[0.23026658594608307, 0.5681942701339722, 0.2011461704969406, 0.00039291035500355065]\n",
      "IN\tIN\tNL-HaNA_1.04.02_1509_1550.jpg\t339. en 236. persoonen p=r Transport; Namen, Toena\t[0.22447910904884338, 0.5751739740371704, 0.1999584287405014, 0.0003884818288497627]\n",
      "IN\tIN\tNL-HaNA_1.04.02_1509_1551.jpg\tdo.; 90; do; 90; do; do; 90; 90; 90; D=o. . . . „;\t[0.23675177991390228, 0.5593635439872742, 0.20350080728530884, 0.00038388065877370536]\n",
      "IN\tIN\tNL-HaNA_1.04.02_1509_1552.jpg\t339. en 278. persoonen P=r Transport; Namen, Toena\t[0.2351241260766983, 0.5612884163856506, 0.20318685472011566, 0.0004005790106020868]\n",
      "IN\tIN\tNL-HaNA_1.04.02_1509_1553.jpg\tw:t p:r met wat schip in india; presente qualitijt\t[0.24124285578727722, 0.5547809600830078, 0.20358724892139435, 0.00038894012686796486]\n",
      "IN\tIN\tNL-HaNA_1.04.02_1509_1554.jpg\t339. en 320. persoonen p=r Transport; Namen, Toena\t[0.23958231508731842, 0.553878664970398, 0.2061389833688736, 0.0003999731270596385]\n",
      "IN\tIN\tNL-HaNA_1.04.02_1509_1555.jpg\tCommand:r te water en te; noorder Cormandel; „coop\t[0.24106480181217194, 0.5505529046058655, 0.20796671509742737, 0.0004155739152338356]\n",
      "IN\tIN\tNL-HaNA_1.04.02_1509_1556.jpg\t356. persoonen p=r Transport; Namen toenamen en ge\t[0.23097911477088928, 0.5443649291992188, 0.22423259913921356, 0.00042334452155046165]\n",
      "IN\tIN\tNL-HaNA_1.04.02_1509_1557.jpg\tw:t p:r met wat schip in jndia..; presente qualiti\t[0.24947476387023926, 0.5082489848136902, 0.24177466332912445, 0.000501569826155901]\n",
      "IN\tIN\tNL-HaNA_1.04.02_1509_1558.jpg\t391. persoonen p:r transport; Namen, Toenamen, en \t[0.23669962584972382, 0.5312386155128479, 0.2316216677427292, 0.0004401302139740437]\n",
      "IN\tIN\tNL-HaNA_1.04.02_1509_1559.jpg\tw:t p:r met wat schip in; presente qualitijt. maen\t[0.22907333076000214, 0.521134614944458, 0.2493247240781784, 0.0004673415969591588]\n",
      "IN\tIN\tNL-HaNA_1.04.02_1509_1560.jpg\tNamen Toenamen en Geboorte plaatsen; 1. bastiaan I\t[0.2510015368461609, 0.45092105865478516, 0.2973700761795044, 0.000707298400811851]\n",
      "END\tIN\tNL-HaNA_1.04.02_1509_1561.jpg\tw:t p:r met wat schip in jndia/; presente qualitij\t[0.2744083106517792, 0.24395757913589478, 0.48071447014808655, 0.0009195776074193418]\n"
     ]
    },
    {
     "name": "stderr",
     "output_type": "stream",
     "text": [
      " 59%|█████▊    | 8/13.65625 [00:00<00:00, 14.59batch/s]"
     ]
    },
    {
     "name": "stdout",
     "output_type": "stream",
     "text": [
      "IN\tIN\tNL-HaNA_1.04.02_1509_1562.jpg\t464. persoonen p:r transport; Namen Toenamen en Ge\t[0.12717807292938232, 0.6669479608535767, 0.20509423315525055, 0.0007797127473168075]\n",
      "IN\tIN\tNL-HaNA_1.04.02_1509_1563.jpg\tp:r coopm: en opperh:t van; tegenep: en p:r novo: \t[0.20447637140750885, 0.6038725972175598, 0.19107909500598907, 0.0005719168693758547]\n",
      "IN\tIN\tNL-HaNA_1.04.02_1509_1564.jpg\t504. persoonen p=r Transport; Namen, Toenamen, en \t[0.1593000441789627, 0.6723264455795288, 0.16791807115077972, 0.0004554121114779264]\n",
      "IN\tIN\tNL-HaNA_1.04.02_1509_1565.jpg\tw:t p:r met wat schip in; presente qualitijt maent\t[0.16074635088443756, 0.6690497398376465, 0.16975799202919006, 0.00044589844765141606]\n",
      "IN\tIN\tNL-HaNA_1.04.02_1509_1566.jpg\tOp Nagapatnam zijn nogh bescheijden d'volgende; Bo\t[0.16036903858184814, 0.6660071015357971, 0.17316178977489471, 0.0004620686231646687]\n",
      "IN\tEND\tNL-HaNA_1.04.02_1509_1567.jpg\t103 en 84. persoonen p:r transport; 1. toatongoe v\t[0.1625780314207077, 0.6644097566604614, 0.17257022857666016, 0.000441959360614419]\n",
      "IN\tBEGIN\tNL-HaNA_1.04.02_1490_0583.jpg\tCopije Secrete Resolutien; genomen bij de Ho: Rege\t[0.16546478867530823, 0.6603347063064575, 0.1737585961818695, 0.0004418912576511502]\n",
      "IN\tIN\tNL-HaNA_1.04.02_1490_0584.jpg\tin presentie; van zijn Ed. t te; volbrengen, soo s\t[0.1640106588602066, 0.6632469296455383, 0.17229853570461273, 0.0004438703472260386]\n",
      "IN\tIN\tNL-HaNA_1.04.02_1490_0585.jpg\tdat 's Comp. s dienaren en wel voorna„; mentlijk p\t[0.16316282749176025, 0.6633104681968689, 0.17308121919631958, 0.00044546095887199044]\n",
      "IN\tIN\tNL-HaNA_1.04.02_1490_0586.jpg\tbij ons te boeck staen voor niet wel; geintentione\t[0.16387243568897247, 0.6629466414451599, 0.17273154854774475, 0.00044934506877325475]\n",
      "IN\tIN\tNL-HaNA_1.04.02_1490_0587.jpg\tgoetgevonden dat dese ontbiedinge; bij ons gemeen \t[0.1702859103679657, 0.6514386534690857, 0.17781366407871246, 0.00046176661271601915]\n",
      "IN\tIN\tNL-HaNA_1.04.02_1490_0588.jpg\tschaap harder herwaerts aen te doen; overkomen, ge\t[0.18034836649894714, 0.6388893127441406, 0.18032334744930267, 0.00043900145101360977]\n",
      "IN\tIN\tNL-HaNA_1.04.02_1490_0589.jpg\tmilitie daer in te houden in goede; ordre soo is v\t[0.18125027418136597, 0.6369695663452148, 0.18133307993412018, 0.00044700808939523995]\n",
      "IN\tIN\tNL-HaNA_1.04.02_1490_0590.jpg\tdertig of veertigh persoonen ten; hoogsten; genome\t[0.18298915028572083, 0.6347494125366211, 0.18182864785194397, 0.000432806700700894]\n",
      "IN\tIN\tNL-HaNA_1.04.02_1490_0591.jpg\twillem van outhoorn, wouter; valkenier, abraham va\t[0.17566919326782227, 0.6464359760284424, 0.17746086418628693, 0.0004339509760029614]\n",
      "IN\tIN\tNL-HaNA_1.04.02_1490_0592.jpg\tsijner goet staende maentgelden; en verdere annexe\t[0.17539624869823456, 0.6422619819641113, 0.18191279470920563, 0.0004290082142688334]\n",
      "IN\tIN\tNL-HaNA_1.04.02_1490_0593.jpg\tmaer sijne valsche betigters; en aenklagers tumput\t[0.1796717643737793, 0.6402472853660583, 0.17964474856853485, 0.00043626283877529204]\n",
      "IN\tIN\tNL-HaNA_1.04.02_1490_0594.jpg\taen uwe Edelhedens, niet; demoedig versoeck, dat u\t[0.18268050253391266, 0.6323989033699036, 0.18445061147212982, 0.00046997974277473986]\n",
      "IN\tIN\tNL-HaNA_1.04.02_1490_0595.jpg\tacte van herstellinge en verdere; ten desen dienen\t[0.1756250113248825, 0.6453670859336853, 0.17857380211353302, 0.0004341620078776032]\n",
      "IN\tIN\tNL-HaNA_1.04.02_1490_0596.jpg\ten omme de france vijanden, soo der; eenige quamen\t[0.17520514130592346, 0.6460074186325073, 0.17835259437561035, 0.00043489603558555245]\n",
      "IN\tIN\tNL-HaNA_1.04.02_1490_0597.jpg\tde ridderschap voerende 60. stucken ges:t; waterla\t[0.1699139028787613, 0.6526714563369751, 0.1769840121269226, 0.00043064606143161654]\n",
      "IN\tIN\tNL-HaNA_1.04.02_1490_0598.jpg\tstierlijk pennisten, kranckbesoekers; en chirurgij\t[0.18346057832241058, 0.6341111063957214, 0.18199974298477173, 0.0004285937175154686]\n",
      "IN\tIN\tNL-HaNA_1.04.02_1490_0599.jpg\tvan hier nevens „200.; en uijt 170. Comp:s lijfeij\t[0.17836633324623108, 0.6393428444862366, 0.181844100356102, 0.0004466776445042342]\n",
      "IN\tIN\tNL-HaNA_1.04.02_1490_0600.jpg\tsterck 1662. Coppen, daer onder; gerekent, de oude\t[0.18662512302398682, 0.6306056380271912, 0.18233615159988403, 0.0004330466908868402]\n",
      "IN\tIN\tNL-HaNA_1.04.02_1490_0601.jpg\tbleven met 70. â 80. jnlanders, als; mede ongevaer\t[0.18617424368858337, 0.6294214725494385, 0.18396919965744019, 0.00043505767825990915]\n",
      "IN\tIN\tNL-HaNA_1.04.02_1490_0602.jpg\tsodanig quame te vereijsschen, ende; sonder dat ie\t[0.1880376636981964, 0.6269393563270569, 0.18458417057991028, 0.00043878707219846547]\n",
      "IN\tIN\tNL-HaNA_1.04.02_1490_0603.jpg\tveranderinge ofte bijvoeginge diende; te geschiede\t[0.18781577050685883, 0.6249831914901733, 0.18675817549228668, 0.0004428267711773515]\n",
      "IN\tIN\tNL-HaNA_1.04.02_1490_0604.jpg\tdiscoureren en te verklaren hoe; dat hij bij sig s\t[0.18821433186531067, 0.6157792806625366, 0.19553595781326294, 0.00047040305798873305]\n",
      "IN\tIN\tNL-HaNA_1.04.02_1490_0605.jpg\tquamen overvallen en aentasten:; soo meende sijn E\t[0.1814906895160675, 0.6078569889068604, 0.21020562946796417, 0.00044671815703622997]\n",
      "IN\tIN\tNL-HaNA_1.04.02_1490_0606.jpg\tdeselve niet ten proije mogten werden,; wanneer on\t[0.19786973297595978, 0.5529146790504456, 0.2487141638994217, 0.0005013854242861271]\n",
      "IN\tIN\tNL-HaNA_1.04.02_1490_0607.jpg\tvan meerdere versekeringe mogten; oordelen behoord\t[0.2238064557313919, 0.4795139729976654, 0.2959268093109131, 0.0007527563138864934]\n",
      "END\tIN\tNL-HaNA_1.04.02_1490_0608.jpg\tvanden Command:r Sijmon vander; stel, en raed aend\t[0.2614988684654236, 0.25724607706069946, 0.48030149936676025, 0.0009535719291307032]\n",
      "IN\tIN\tNL-HaNA_1.04.02_1490_0609.jpg\talthans te deser rhede leggende; zeemagt wel van e\t[0.12676014006137848, 0.6589105129241943, 0.21354921162128448, 0.0007801610045135021]\n",
      "IN\tIN\tNL-HaNA_1.04.02_1490_0610.jpg\tvan het verleden Iaer, als wanneer; volgens het sp\t[0.13482318818569183, 0.682574450969696, 0.18217363953590393, 0.00042872820631600916]\n",
      "IN\tIN\tNL-HaNA_1.04.02_1490_0611.jpg\twas, onaengesien het goet succes; der negotie veel\t[0.13895373046398163, 0.6912961006164551, 0.16935238242149353, 0.0003978185122832656]\n",
      "IN\tIN\tNL-HaNA_1.04.02_1490_0612.jpg\twas getekent; als vooren.; willem van Outhoorn,; w\t[0.14950305223464966, 0.679724931716919, 0.170345738530159, 0.00042626549839042127]\n",
      "IN\tIN\tNL-HaNA_1.04.02_1490_0613.jpg\tdat over de saken van Japan aen; dese tafel wierde\t[0.14787037670612335, 0.678826093673706, 0.17287810146808624, 0.0004254002997186035]\n",
      "IN\tIN\tNL-HaNA_1.04.02_1490_0614.jpg\ttot uijtvindinge van een expedient,; waer door de \t[0.15602198243141174, 0.6718164086341858, 0.17173096537590027, 0.0004306164919398725]\n",
      "IN\tIN\tNL-HaNA_1.04.02_1490_0615.jpg\ten ons buijten postuer te brengen,; om de dierbare\t[0.1552555114030838, 0.6715906262397766, 0.17271915078163147, 0.0004347034264355898]\n",
      "IN\tIN\tNL-HaNA_1.04.02_1490_0616.jpg\ta:o 1684. wierde geordonneert in; haere herwaerts \t[0.15793216228485107, 0.669964075088501, 0.17166566848754883, 0.00043803363223560154]\n",
      "IN\tIN\tNL-HaNA_1.04.02_1490_0617.jpg\trijkelijk te konnen versorgen,; mitsgaders het mis\t[0.15429028868675232, 0.672273576259613, 0.17300088703632355, 0.0004352534015197307]\n",
      "IN\tIN\tNL-HaNA_1.04.02_1490_0618.jpg\tgepractiseert geworden is, sullen; moeten doen hou\t[0.1579713225364685, 0.6694770455360413, 0.17210893332958221, 0.000442577205831185]\n",
      "IN\tIN\tNL-HaNA_1.04.02_1490_0619.jpg\tover te steeken, agtervolgens; sodanige Zeijlaes o\t[0.1638731211423874, 0.6611338257789612, 0.17454060912132263, 0.0004524537653196603]\n",
      "IN\tIN\tNL-HaNA_1.04.02_1490_0620.jpg\tgecarteert legt, maer dat oock de; stronien inde m\t[0.1727645993232727, 0.6496157646179199, 0.17717866599559784, 0.00044093176256865263]\n",
      "IN\tIN\tNL-HaNA_1.04.02_1490_0621.jpg\tde stranen sig veeltijts daer na; reguleeren van g\t[0.17252112925052643, 0.648541271686554, 0.17849688231945038, 0.000440721632912755]\n",
      "IN\tIN\tNL-HaNA_1.04.02_1490_0622.jpg\teen weg is, nu wel eenige jaren; van japan na bata\t[0.17651167511940002, 0.6427064538002014, 0.18035148084163666, 0.00043031980749219656]\n",
      "IN\tIN\tNL-HaNA_1.04.02_1490_0623.jpg\tten zuijden om beoosten de eijlanden; van natuna o\t[0.16779671609401703, 0.6565806269645691, 0.1751844882965088, 0.0004381423641461879]\n",
      "IN\tIN\tNL-HaNA_1.04.02_1490_0624.jpg\tnog een droogte genaemt kleijn; enckhuijser sant, \t[0.16811016201972961, 0.6510683298110962, 0.18039388954639435, 0.00042754184687510133]\n",
      "IN\tIN\tNL-HaNA_1.04.02_1490_0625.jpg\tlange jaren niet voorgevallen is; dat dese coursen\t[0.17321431636810303, 0.6486334800720215, 0.177717387676239, 0.00043489265954121947]\n",
      "IN\tIN\tNL-HaNA_1.04.02_1490_0626.jpg\tvan siam en Toncquin herwaerts; sullen komen, als \t[0.17919635772705078, 0.6368286609649658, 0.18351641297340393, 0.0004584990383591503]\n",
      "IN\tIN\tNL-HaNA_1.04.02_1490_0627.jpg\tvan een hogre prijse als ordinair; te nootsaeken, \t[0.17228758335113525, 0.6498554944992065, 0.17742100358009338, 0.00043590215500444174]\n",
      "IN\tIN\tNL-HaNA_1.04.02_1490_0628.jpg\tals voren. was getekent. . ..; . . . . - Willem va\t[0.1713108867406845, 0.651217520236969, 0.17703872919082642, 0.0004328705254010856]\n",
      "IN\tIN\tNL-HaNA_1.04.02_1490_0629.jpg\tin eenig emploij van onsien kan; werden gebruijckt\t[0.16729460656642914, 0.6544650197029114, 0.17781677842140198, 0.00042358454084023833]\n",
      "IN\tIN\tNL-HaNA_1.04.02_1490_0630.jpg\tvoorde schipper aende Tafel en in het; gebet, eeni\t[0.18193282186985016, 0.6322675943374634, 0.185337632894516, 0.00046197211486287415]\n",
      "IN\tEND\tNL-HaNA_1.04.02_1490_0631.jpg\tBo0; Secrets.; wee; De bovenstaende secrete resolu\t[0.2320868968963623, 0.5498899817466736, 0.21743501722812653, 0.0005880903918296099]\n",
      "IN\tBEGIN\tNL-HaNA_1.04.02_1547_0110.jpg\tgemerkt &E.; Waarmeede; Edele hoog agtbaare gebied\t[0.2211690992116928, 0.5735907554626465, 0.20474472641944885, 0.0004953928873874247]\n",
      "IN\tIN\tNL-HaNA_1.04.02_1547_0111.jpg\tMinuit ola door den P„r gesaghebber ale ander wigl\t[0.21406836807727814, 0.5584779381752014, 0.2269720882177353, 0.00048158192657865584]\n",
      "IN\tEND\tNL-HaNA_1.04.02_1547_0112.jpg\tl  eene heben em maede slekt e ondergeende kopmans\t[0.27044403553009033, 0.46632206439971924, 0.2627047300338745, 0.0005290826666168869]\n",
      "IN\tBEGIN\tNL-HaNA_1.04.02_8820_0069.jpg\tVan Cormandel deder 24: November ao 1702.; Jck ond\t[0.25601711869239807, 0.5272312164306641, 0.2161468118429184, 0.0006048479117453098]\n",
      "IN\tIN\tNL-HaNA_1.04.02_8820_0070.jpg\tVan Cormandel onder 24: November 1702.; gevonden 6\t[0.2156076431274414, 0.5524832010269165, 0.23144979774951935, 0.00045931784552522004]\n",
      "IN\tIN\tNL-HaNA_1.04.02_8820_0071.jpg\tVan Cormandel onder 24: November 1702.; had geordo\t[0.21742494404315948, 0.546341598033905, 0.2357611507177353, 0.0004722295270767063]\n",
      "IN\tIN\tNL-HaNA_1.04.02_8820_0072.jpg\tVan Cormandel onder 24: November 1702:; Aen den He\t[0.21297387778759003, 0.5346386432647705, 0.25186729431152344, 0.0005201102467253804]\n",
      "IN\tIN\tNL-HaNA_1.04.02_8820_0073.jpg\tVan Cormandel onder 24: November 1702.; gedoente d\t[0.23521912097930908, 0.4637710452079773, 0.30023348331451416, 0.0007763498579151928]\n",
      "END\tIN\tNL-HaNA_1.04.02_8820_0074.jpg\tVan Cormandel onder 24: November 1702.; soo sal de\t[0.2654220759868622, 0.25423768162727356, 0.4793967008590698, 0.0009435239480808377]\n"
     ]
    },
    {
     "name": "stderr",
     "output_type": "stream",
     "text": [
      " 73%|███████▎  | 10/13.65625 [00:00<00:00, 15.65batch/s]"
     ]
    },
    {
     "name": "stdout",
     "output_type": "stream",
     "text": [
      "IN\tIN\tNL-HaNA_1.04.02_8820_0075.jpg\tVan Cormandel onder 24: November 1702.; ten dienst\t[0.12715326249599457, 0.6582581996917725, 0.21381030976772308, 0.0007782831089571118]\n",
      "IN\tIN\tNL-HaNA_1.04.02_8820_0076.jpg\tVan Cormandel onder 24: November 1702.; de allermi\t[0.13509301841259003, 0.6820201873779297, 0.18245910108089447, 0.0004277309635654092]\n",
      "IN\tEND\tNL-HaNA_1.04.02_8820_0077.jpg\tVan Cormandel onder 24: November 1702.; gevolgen, \t[0.13931158185005188, 0.6907104253768921, 0.1695808470249176, 0.0003971432743128389]\n",
      "IN\tBEGIN\tNL-HaNA_1.04.02_2682_0249.jpg\tMet het ondergenoemde schip; vertrekken over China\t[0.1499280035495758, 0.6791777014732361, 0.17046895623207092, 0.0004253980587236583]\n",
      "IN\tBEGIN\tNL-HaNA_1.04.02_3095_0015.jpg\tRegister der Papieren; werdende versonden per het \t[0.1480630487203598, 0.6783959865570068, 0.17311644554138184, 0.0004244910378474742]\n",
      "IN\tIN\tNL-HaNA_1.04.02_3095_0016.jpg\t4.; orig: in genaagt, a:o p„o; d'Edele Groot Agtba\t[0.15643933415412903, 0.6712308526039124, 0.1718977987766266, 0.00043212264426983893]\n",
      "IN\tIN\tNL-HaNA_1.04.02_3095_0017.jpg\tN:o 7. Copia Generale Resolutien des Casteels; Bat\t[0.15568934381008148, 0.6708029508590698, 0.17307429015636444, 0.0004333798715379089]\n",
      "IN\tIN\tNL-HaNA_1.04.02_3095_0018.jpg\tCommissien, Memorien,; Jnstructien en z:, welke; v\t[0.15883411467075348, 0.6687590479850769, 0.17196930944919586, 0.00043755071237683296]\n",
      "IN\tIN\tNL-HaNA_1.04.02_3095_0019.jpg\tNo 14. Thien. Gesloten Pacquetten, houdende; de ad\t[0.1550607979297638, 0.6711352467536926, 0.17336830496788025, 0.0004356468853075057]\n",
      "IN\tIN\tNL-HaNA_1.04.02_3095_0020.jpg\tCommissien, Memorien; Jnstructien en z:, weg; van \t[0.1592031568288803, 0.6673834323883057, 0.1729709506034851, 0.00044250430073589087]\n",
      "IN\tIN\tNL-HaNA_1.04.02_3095_0021.jpg\tden Raad ten evengemelde; Gouvernemente aan als; v\t[0.17105688154697418, 0.6478689908981323, 0.18060322105884552, 0.00047090512816794217]\n",
      "IN\tIN\tNL-HaNA_1.04.02_3095_0022.jpg\tBengale zyn vertrokken; zynde dit paquet gelegt; i\t[0.20548203587532043, 0.602337658405304, 0.19162124395370483, 0.0005590973305515945]\n",
      "IN\tIN\tNL-HaNA_1.04.02_3095_0023.jpg\tGouverneur van Malacca; Mr. Thomas Schippers; als \t[0.19437068700790405, 0.6172412037849426, 0.18792995810508728, 0.00045812566531822085]\n",
      "IN\tIN\tNL-HaNA_1.04.02_3095_0024.jpg\tdit berigt nog niet; ingekomen zijnde; zal bij nad\t[0.19107399880886078, 0.6222462058067322, 0.1862439662218094, 0.0004357950820121914]\n",
      "IN\tIN\tNL-HaNA_1.04.02_3095_0025.jpg\tN:o 22. Copia Berigt vande Administra„; teurs inde\t[0.18515357375144958, 0.6321037411689758, 0.1823115050792694, 0.0004312395758461207]\n",
      "IN\tIN\tNL-HaNA_1.04.02_3095_0026.jpg\tde met verscheide scheepen; aangebragte Manufactuu\t[0.18386603891849518, 0.6292756199836731, 0.18642787635326385, 0.0004304127360228449]\n",
      "IN\tIN\tNL-HaNA_1.04.02_3095_0027.jpg\ten 1769. van Cochim overge; sonden, waarbij densel\t[0.1867036521434784, 0.6290291547775269, 0.18383102118968964, 0.0004360829771030694]\n",
      "IN\tIN\tNL-HaNA_1.04.02_3095_0028.jpg\tN:o 28 Drie Copia Berigten van eevengem:; E: Honti\t[0.18838410079479218, 0.6228868365287781, 0.18826015293598175, 0.00046889579971320927]\n",
      "IN\tIN\tNL-HaNA_1.04.02_3095_0029.jpg\tN:o 30 Copia Request door den advocaat M:r Jacob; \t[0.18227174878120422, 0.6345449090003967, 0.18275023996829987, 0.0004331009404268116]\n",
      "IN\tIN\tNL-HaNA_1.04.02_3095_0030.jpg\tsComp:s wapenkamer Reisich; en Expresse gecommitte\t[0.18207743763923645, 0.6349672079086304, 0.1825205534696579, 0.00043478989391587675]\n",
      "IN\tIN\tNL-HaNA_1.04.02_3095_0031.jpg\tN:o 35. Een Exomplaar van het Generaal Re„; 1 glem\t[0.17615853250026703, 0.6423985362052917, 0.18101240694522858, 0.0004305170150473714]\n",
      "IN\tIN\tNL-HaNA_1.04.02_3095_0032.jpg\tN:o 38. Tes origineele; Actens van Indem; & niteil\t[0.18828462064266205, 0.6259459853172302, 0.1853402704000473, 0.0004290625511202961]\n",
      "IN\tIN\tNL-HaNA_1.04.02_3095_0033.jpg\tN:o 40. Vier Turksche Passen vande afgelegde en; v\t[0.18378883600234985, 0.6300652623176575, 0.1857001632452011, 0.00044579184032045305]\n",
      "IN\tIN\tNL-HaNA_1.04.02_3095_0034.jpg\tGeneraalen Eisch van behoeftens uijt; No 44; Neder\t[0.1909637600183487, 0.6230934858322144, 0.18550975620746613, 0.00043296319199725986]\n",
      "IN\tIN\tNL-HaNA_1.04.02_3095_0035.jpg\tN:o 49 Generaal Rendement vande verkogte; 1 onbesc\t[0.19040152430534363, 0.6221733093261719, 0.18699191510677338, 0.0004332413082011044]\n",
      "IN\tIN\tNL-HaNA_1.04.02_3095_0036.jpg\tN: 53. Maandelyksche Restanten inde; groote geldka\t[0.19225645065307617, 0.6197754740715027, 0.18753084540367126, 0.0004372509429231286]\n",
      "IN\tEND\tNL-HaNA_1.04.02_3095_0037.jpg\tN:o 57: Sommarium van het geladene in tien; Retoúr\t[0.19151991605758667, 0.6181311011314392, 0.18990938365459442, 0.00043958742753602564]\n",
      "IN\tBEGIN\tNL-HaNA_1.04.02_8260_0061.jpg\tS morgens te agt uuren nog geen bevoeging in het B\t[0.1926615834236145, 0.6071746945381165, 0.1996929794549942, 0.0004707563784904778]\n",
      "IN\tIN\tNL-HaNA_1.04.02_8260_0062.jpg\tinsgelijks een bentings op te werepan, waarop ik h\t[0.18495914340019226, 0.600207507610321, 0.21438847482204437, 0.0004448955587577075]\n",
      "IN\tIN\tNL-HaNA_1.04.02_8260_0063.jpg\tgeschied zynde, goa zig 's morgens te negen uuren \t[0.1996176689863205, 0.5491329431533813, 0.2507488429546356, 0.000500530528370291]\n",
      "IN\tIN\tNL-HaNA_1.04.02_8260_0064.jpg\tverlies van onsekant Heer op mij wederom met den p\t[0.22383636236190796, 0.47764718532562256, 0.2977680265903473, 0.0007484073285013437]\n",
      "END\tIN\tNL-HaNA_1.04.02_8260_0065.jpg\tIk gaf dierhalven den provisconelen vandrig sor sc\t[0.2629050314426422, 0.25641217827796936, 0.47973302006721497, 0.000949709617998451]\n",
      "IN\tIN\tNL-HaNA_1.04.02_8260_0066.jpg\tvan goa lag, zullende zyn volk zuyd wertwaarts vuu\t[0.1229785904288292, 0.6666591763496399, 0.20954151451587677, 0.0008206904167309403]\n",
      "IN\tIN\tNL-HaNA_1.04.02_8260_0067.jpg\tpligt gadesloeg, ende ordres stijtelijk op gevolgd\t[0.1365281045436859, 0.6778196096420288, 0.1851920634508133, 0.0004602284461725503]\n",
      "IN\tIN\tNL-HaNA_1.04.02_8260_0068.jpg\teyndelijk de banting ook verlaten waar door wij da\t[0.1411125361919403, 0.687727153301239, 0.1707402914762497, 0.00041999699897132814]\n",
      "IN\tIN\tNL-HaNA_1.04.02_8260_0069.jpg\tvagd: den 31 octob 1757; Zatuad„ 1 Nov: 1777; Maan\t[0.15085271000862122, 0.6756444573402405, 0.17304953932762146, 0.00045331960427574813]\n",
      "IN\tIN\tNL-HaNA_1.04.02_8260_0070.jpg\thadden met vorsheid en onder de bedreiging gevraag\t[0.15077148377895355, 0.6760764122009277, 0.1727028787136078, 0.00044922265806235373]\n",
      "IN\tIN\tNL-HaNA_1.04.02_8260_0071.jpg\tDe Heere gouverneur goedgevonden hebbende den post\t[0.1552550494670868, 0.672640323638916, 0.17166076600551605, 0.00044380410690791905]\n",
      "IN\tIN\tNL-HaNA_1.04.02_8260_0072.jpg\tneur addaes seeren moest; vryd. den 21 Noo 1oor De\t[0.16285835206508636, 0.6618435382843018, 0.1748485565185547, 0.0004495923058129847]\n",
      "IN\tIN\tNL-HaNA_1.04.02_8260_0073.jpg\tden ged den 2: Aor 1757; rijst navens een Jnlandse\t[0.1640034019947052, 0.6592527031898499, 0.17625948786735535, 0.00048438480007462204]\n",
      "IN\tIN\tNL-HaNA_1.04.02_8260_0074.jpg\teenige maanden neets anders te hebben gedaan als k\t[0.2275676429271698, 0.560318112373352, 0.21158525347709656, 0.0005290370318107307]\n",
      "IN\tEND\tNL-HaNA_1.04.02_8260_0075.jpg\tAan den Lieutenant militair Alexander LeCerf; Comm\t[0.20056380331516266, 0.590142011642456, 0.20882321894168854, 0.00047093554167076945]\n",
      "IN\tBEGIN\tNL-HaNA_1.04.02_3248_0877.jpg\tOp Huijden den 5: October a„o 1761: voor mij Wolfe\t[0.19530409574508667, 0.5871886610984802, 0.21704719960689545, 0.0004600067331921309]\n",
      "IN\tIN\tNL-HaNA_1.04.02_3248_0878.jpg\top die wijze gedurende hun verblijf aldaar, en ond\t[0.20122775435447693, 0.5927642583847046, 0.20557208359241486, 0.00043586702668108046]\n",
      "IN\tIN\tNL-HaNA_1.04.02_3248_0879.jpg\tniet krijgende ! de Xullas aandoen, en overweldige\t[0.19517004489898682, 0.5943316221237183, 0.21005016565322876, 0.00044817852904088795]\n",
      "IN\tIN\tNL-HaNA_1.04.02_3248_0880.jpg\tvan Christoffel dias, en Adriaan Rijkschroef clerc\t[0.1941637396812439, 0.595647931098938, 0.2097603976726532, 0.00042798594222404063]\n",
      "IN\tIN\tNL-HaNA_1.04.02_3248_0881.jpg\tHeden den 8:e Maart 1762: Compareerde voor mij Ioh\t[0.19202375411987305, 0.6021409034729004, 0.20542903244495392, 0.00040633807657286525]\n",
      "IN\tIN\tNL-HaNA_1.04.02_3248_0882.jpg\tdog Een van derzelver prauwen bleeft op de droogte\t[0.19006109237670898, 0.5983905792236328, 0.21112865209579468, 0.00041968695586547256]\n",
      "IN\tIN\tNL-HaNA_1.04.02_3248_0883.jpg\teenige hostiliteijten en moorderijen gepleegt hadd\t[0.1921582818031311, 0.5941954851150513, 0.2131955772638321, 0.00045071050408296287]\n",
      "IN\tIN\tNL-HaNA_1.04.02_3248_0884.jpg\twaar op hij relatant door de papoeers, mits absent\t[0.19367414712905884, 0.589846670627594, 0.21598924696445465, 0.0004899678751826286]\n",
      "IN\tIN\tNL-HaNA_1.04.02_3248_0885.jpg\tanders te zeggen, als 't geen in 't Casteel orange\t[0.1802726835012436, 0.5811598300933838, 0.2380952090024948, 0.0004723060701508075]\n",
      "IN\tIN\tNL-HaNA_1.04.02_3248_0886.jpg\thij relatant in dien zoo wel onder Ambon als Terna\t[0.20362144708633423, 0.5225910544395447, 0.2731133699417114, 0.0006741334800608456]\n",
      "IN\tIN\tNL-HaNA_1.04.02_3248_0887.jpg\tGevende voor redenen van wetenschap als in den tex\t[0.2405497133731842, 0.43609344959259033, 0.32267481088638306, 0.0006821387214586139]\n",
      "END\tIN\tNL-HaNA_1.04.02_3248_0888.jpg\t\t[0.3414632976055145, 0.29158031940460205, 0.36611562967300415, 0.0008407265413552523]\n",
      "IN\tIN\tNL-HaNA_1.04.02_3248_0889.jpg\tHeden morgen den 23:e April 1765: zont den heer„; \t[0.24137015640735626, 0.5043260455131531, 0.253665030002594, 0.0006388036417774856]\n",
      "IN\tIN\tNL-HaNA_1.04.02_3248_0890.jpg\ten 's konings goetaardigheijt, de wezentlijke oerz\t[0.25276967883110046, 0.45565709471702576, 0.29092663526535034, 0.0006466030608862638]\n",
      "END\tIN\tNL-HaNA_1.04.02_3248_0891.jpg\tomtrent zij vermeenden nu niets meer te vreezen te\t[0.24014368653297424, 0.32911235094070435, 0.43013495206832886, 0.0006090105744078755]\n",
      "END\tIN\tNL-HaNA_1.04.02_3248_0892.jpg\t\t[0.29587963223457336, 0.22680158913135529, 0.4765976071357727, 0.0007211209158413112]\n",
      "IN\tIN\tNL-HaNA_1.04.02_3248_0893.jpg\tHeden den 4:e Februarij 1768: Compareerde; voor mi\t[0.2572922110557556, 0.3905166983604431, 0.35152697563171387, 0.000664182472974062]\n",
      "END\tIN\tNL-HaNA_1.04.02_3248_0894.jpg\tgelegen op 't groot Eijland salwattij vervoert en \t[0.2188585251569748, 0.254109263420105, 0.526413083076477, 0.0006191789289005101]\n",
      "END\tIN\tNL-HaNA_1.04.02_3248_0895.jpg\t\t[0.3571406304836273, 0.16726776957511902, 0.47488489747047424, 0.0007067376282066107]\n",
      "END\tIN\tNL-HaNA_1.04.02_3248_0896.jpg\t\t[0.32698139548301697, 0.1743241399526596, 0.49802467226982117, 0.0006697867065668106]\n",
      "IN\tIN\tNL-HaNA_1.04.02_3248_0897.jpg\tOp heden den 4:e Februarij 160: Compareerde voor; \t[0.27060645818710327, 0.41701769828796387, 0.3117138743400574, 0.0006619609775952995]\n",
      "END\tIN\tNL-HaNA_1.04.02_3248_0898.jpg\tte Batchian ter hou gekomen waren, en zig dien twe\t[0.29076501727104187, 0.22294668853282928, 0.4853399395942688, 0.0009483363828621805]\n"
     ]
    },
    {
     "name": "stderr",
     "output_type": "stream",
     "text": [
      " 88%|████████▊ | 12/13.65625 [00:00<00:00, 16.48batch/s]"
     ]
    },
    {
     "name": "stdout",
     "output_type": "stream",
     "text": [
      "IN\tIN\tNL-HaNA_1.04.02_3248_0899.jpg\tWaar mede den relatant dit zijne gegevene relaas c\t[0.16347582638263702, 0.5671754479408264, 0.26833581924438477, 0.0010129263391718268]\n",
      "BEGIN\tIN\tNL-HaNA_1.04.02_3248_0900.jpg\t\t[0.404065877199173, 0.30468520522117615, 0.29047891497612, 0.0007700325222685933]\n",
      "IN\tIN\tNL-HaNA_1.04.02_3248_0901.jpg\tOp heden den 8:e Februarij 1768: Compa„; „reerde v\t[0.2528277635574341, 0.5486882328987122, 0.19793754816055298, 0.0005464744754135609]\n",
      "IN\tEND\tNL-HaNA_1.04.02_3248_0902.jpg\twaar mede den relatant zijn gegevene relaas quam t\t[0.24869173765182495, 0.5353215932846069, 0.21540138125419617, 0.0005852750036865473]\n",
      "IN\tBEGIN\tNL-HaNA_1.04.02_1547_0107.jpg\tExtracten uijt de Daagelijkse Aanteeckeningen, Con\t[0.24311599135398865, 0.5059977769851685, 0.2502225935459137, 0.0006636455073021352]\n",
      "IN\tEND\tNL-HaNA_1.04.02_1547_0108.jpg\top desen holvn en dass: matthijs in ve totenende a\t[0.2662496566772461, 0.4181278347969055, 0.3150073289871216, 0.0006151841371320188]\n",
      "BEGIN\tOUT\tNL-HaNA_1.04.02_1547_0360.jpg\t\t[0.38792672753334045, 0.2790113687515259, 0.3323174715042114, 0.0007444789516739547]\n",
      "BEGIN\tOUT\tNL-HaNA_1.04.02_1547_0361.jpg\t\t[0.40287598967552185, 0.27278777956962585, 0.32363441586494446, 0.000701794633641839]\n",
      "BEGIN\tOUT\tNL-HaNA_1.04.02_1547_0362.jpg\t\t[0.40479233860969543, 0.287615031003952, 0.3069426119327545, 0.0006500289309769869]\n",
      "IN\tBEGIN\tNL-HaNA_1.04.02_1547_0363.jpg\tJnstructie voor den onder„; Sonsbeek, vertreckende\t[0.27019259333610535, 0.5314686298370361, 0.19784635305404663, 0.000492435647174716]\n",
      "IN\tIN\tNL-HaNA_1.04.02_1547_0364.jpg\top te wakkeren sijn, soo meede te Ervaaren wat; Ef\t[0.240231454372406, 0.5416097044944763, 0.2177363783121109, 0.0004224160802550614]\n",
      "IN\tIN\tNL-HaNA_1.04.02_1547_0365.jpg\tVan ons gering vermoogen, voort te setten onder an\t[0.2511919438838959, 0.5443711876869202, 0.20402605831623077, 0.00041078179492615163]\n",
      "IN\tIN\tNL-HaNA_1.04.02_1547_0366.jpg\taanslaagen der picaten en roovers, en des noods; s\t[0.24922041594982147, 0.5441848039627075, 0.20616810023784637, 0.00042663715430535376]\n",
      "IN\tIN\tNL-HaNA_1.04.02_1547_0367.jpg\tgesant Pannejapaija gemaakt, sijn afgehaald; dan g\t[0.2522987127304077, 0.5419290065765381, 0.20534691214561462, 0.0004253606020938605]\n",
      "IN\tIN\tNL-HaNA_1.04.02_1547_0368.jpg\ten hem aanbeveelt om ten uijterken mogelijk den ge\t[0.24825763702392578, 0.5511225461959839, 0.20023828744888306, 0.00038151227636262774]\n",
      "IN\tIN\tNL-HaNA_1.04.02_1547_0369.jpg\tdat sijne regenten een slankxe parthonen; te speel\t[0.2443467080593109, 0.548782229423523, 0.20647618174552917, 0.00039486659807153046]\n",
      "IN\tIN\tNL-HaNA_1.04.02_1547_0370.jpg\tIagthens de Jaager en plathuijs zullen connen; lad\t[0.2504853904247284, 0.5457558035850525, 0.20335087180137634, 0.000407906889449805]\n",
      "IN\tIN\tNL-HaNA_1.04.02_1547_0371.jpg\td'E Comp=es mogte te verrigten wesen, maar; de wij\t[0.25018197298049927, 0.5427674055099487, 0.20661084353923798, 0.0004397702869027853]\n",
      "IN\tEND\tNL-HaNA_1.04.02_1547_0372.jpg\taanbevoolen, en uwE: onder godes geleyjd een; spoe\t[0.24363942444324493, 0.5493484139442444, 0.20662541687488556, 0.0003867594641633332]\n",
      "IN\tBEGIN\tNL-HaNA_1.04.02_8846_0473.jpg\tVan Cormandel onder dato 27:e 8ber: 1726.; Nederla\t[0.24753443896770477, 0.5396149158477783, 0.21240253746509552, 0.000448106846306473]\n",
      "IN\tIN\tNL-HaNA_1.04.02_8846_0474.jpg\tVan Cormandel onder dato 27=e 8ber: 1726.; der inl\t[0.237867534160614, 0.5460650324821472, 0.2156161665916443, 0.0004513066087383777]\n",
      "IN\tEND\tNL-HaNA_1.04.02_8846_0475.jpg\tVan Cormandel onder dato 27=e 8ber: 1726.; Agtbaar\t[0.22493045032024384, 0.5238449573516846, 0.25068947672843933, 0.0005351129220798612]\n",
      "IN\tBEGIN\tNL-HaNA_1.04.02_1083_0013.jpg\tadn. 6=en augustij Anoo 1624; Octe der kerckelijck\t[0.2503430247306824, 0.4232264757156372, 0.3258838653564453, 0.0005466037546284497]\n",
      "END\tIN\tNL-HaNA_1.04.02_1083_0014.jpg\t\t[0.3541170656681061, 0.28761062026023865, 0.35749247670173645, 0.0007798480219207704]\n",
      "IN\tIN\tNL-HaNA_1.04.02_1083_0015.jpg\tInt Jaer des Heeren onses Salichmaeckers Jesu Chri\t[0.24869343638420105, 0.5304282903671265, 0.22042664885520935, 0.00045158129069022834]\n",
      "IN\tIN\tNL-HaNA_1.04.02_1083_0016.jpg\tKercken dienaers soo te lande als opde; Rhede alhi\t[0.23113231360912323, 0.5328245759010315, 0.23560276627540588, 0.00044036543113179505]\n",
      "IN\tIN\tNL-HaNA_1.04.02_1083_0017.jpg\tVerlost moeten werden midtsgaders offf oock eenige\t[0.21636749804019928, 0.523986279964447, 0.2591531276702881, 0.0004930731956847012]\n",
      "IN\tIN\tNL-HaNA_1.04.02_1083_0018.jpg\tAlsoo de Generale Comp. e. dageluckx boven haer ve\t[0.22251415252685547, 0.45213961601257324, 0.32482847571372986, 0.0005178310675546527]\n",
      "END\tIN\tNL-HaNA_1.04.02_1083_0019.jpg\tAdvijs vande Kerckelijcke vergaderinge (door orden\t[0.22812868654727936, 0.34043920040130615, 0.43081897497177124, 0.0006130755646154284]\n",
      "END\tIN\tNL-HaNA_1.04.02_1083_0020.jpg\tArt 1; Om goede ordre inde gemeente Christij te on\t[0.2373349517583847, 0.17322024703025818, 0.5887227058410645, 0.00072209577774629]\n",
      "END\tIN\tNL-HaNA_1.04.02_1083_0021.jpg\tHantwercx lieden ofte andere die niet gestudeert h\t[0.3095687925815582, 0.14390526711940765, 0.5456234216690063, 0.0009024696773849428]\n",
      "BEGIN\tIN\tNL-HaNA_1.04.02_1083_0022.jpg\tVertrecken ofte andersins eenige veranderingen van\t[0.47273483872413635, 0.10651517659425735, 0.4197530746459961, 0.0009968876838684082]\n",
      "IN\tIN\tNL-HaNA_1.04.02_1083_0023.jpg\ttot een meerder kerckelicke vergaderinghe vereepen\t[0.1267438530921936, 0.6585469245910645, 0.21393071115016937, 0.0007785495254211128]\n",
      "IN\tIN\tNL-HaNA_1.04.02_1083_0024.jpg\tArmen scholen besorcht werden ten laesten offer; y\t[0.13496361672878265, 0.6818667054176331, 0.18274125456809998, 0.0004284452006686479]\n",
      "IN\tIN\tNL-HaNA_1.04.02_1083_0025.jpg\tals de beyaerde persoonen de formeliere vande Inst\t[0.13938528299331665, 0.6905369758605957, 0.16967914998531342, 0.00039859069511294365]\n",
      "IN\tIN\tNL-HaNA_1.04.02_1083_0026.jpg\tDe dienaers sullen alomme soo veel alsmogelyck is \t[0.1506916880607605, 0.6781184077262878, 0.17076247930526733, 0.0004274495877325535]\n",
      "IN\tIN\tNL-HaNA_1.04.02_1083_0027.jpg\tsoo wie hartneckelijcke de vermaninge des kercken;\t[0.14843390882015228, 0.6781166791915894, 0.17302361130714417, 0.0004257345281075686]\n",
      "IN\tIN\tNL-HaNA_1.04.02_1083_0028.jpg\traets der selver ende der naestgelegener gemeente \t[0.15672403573989868, 0.670933187007904, 0.1719101071357727, 0.0004327048663981259]\n",
      "IN\tIN\tNL-HaNA_1.04.02_1083_0029.jpg\tEenige poincten de welcke de kerckelijcke; vergade\t[0.15649959444999695, 0.6698415875434875, 0.17322520911693573, 0.00043355420348234475]\n",
      "IN\tIN\tNL-HaNA_1.04.02_1083_0030.jpg\tSimode gehouden tot dordrecht sess 19. dit sul; in\t[0.1588013619184494, 0.6688539981842041, 0.1719067543745041, 0.00043793636723421514]\n",
      "IN\tIN\tNL-HaNA_1.04.02_1083_0031.jpg\tgevisiteert de plaetse tot opbouwinge der kercken \t[0.15486185252666473, 0.6713660359382629, 0.1733369380235672, 0.00043510860996320844]\n",
      "IN\tIN\tNL-HaNA_1.04.02_1083_0032.jpg\thouden des H: Avondtmaels ende telckens tusschen d\t[0.1586809605360031, 0.6684062480926514, 0.1724713295698166, 0.0004415478906594217]\n",
      "IN\tIN\tNL-HaNA_1.04.02_1083_0033.jpg\tdaer naer met den volcke singht oit wert den kerck\t[0.16479511559009552, 0.6596965193748474, 0.1750565618276596, 0.00045178778236731887]\n",
      "IN\tIN\tNL-HaNA_1.04.02_1083_0034.jpg\tWaer dient een retutatie des Moorsdoms ofte mahune\t[0.17425166070461273, 0.6474534273147583, 0.17785558104515076, 0.00043935823487117887]\n",
      "IN\tIN\tNL-HaNA_1.04.02_1083_0035.jpg\tnaecome volgens de order en vande kercken beraempt\t[0.17393149435520172, 0.6464105248451233, 0.17921841144561768, 0.00043954525608569384]\n",
      "IN\tIN\tNL-HaNA_1.04.02_1083_0036.jpg\tmoeten opseggen; de Schoolmr. moet sorge dragen da\t[0.17918673157691956, 0.6385741233825684, 0.1818091720342636, 0.00042992777889594436]\n",
      "IN\tIN\tNL-HaNA_1.04.02_1083_0037.jpg\tatechismum met sin aenhanghar ondr. Sebast: danck \t[0.17691253125667572, 0.6428461670875549, 0.17980755865573883, 0.00043372646905481815]\n",
      "IN\tIN\tNL-HaNA_1.04.02_1083_0038.jpg\tAlle de Gene die tot noch toe geseten hebben ende \t[0.20262908935546875, 0.601445734500885, 0.1954043060541153, 0.0005208944203332067]\n",
      "IN\tIN\tNL-HaNA_1.04.02_1083_0039.jpg\tleeren lesen schrijven ende in Christelycke deuchd\t[0.20049981772899628, 0.6099770069122314, 0.18907858431339264, 0.00044454846647568047]\n",
      "IN\tIN\tNL-HaNA_1.04.02_1083_0040.jpg\tgelegentheyt der plaetsen door de welcke de andere\t[0.19652719795703888, 0.6102893948554993, 0.19269995391368866, 0.0004834132269024849]\n",
      "IN\tIN\tNL-HaNA_1.04.02_1083_0041.jpg\tCorte, bedenckinge op eenige verhandelde; poincten\t[0.1896388679742813, 0.6228156685829163, 0.18711379170417786, 0.0004316671402193606]\n",
      "IN\tIN\tNL-HaNA_1.04.02_1083_0042.jpg\tWert verstaen de bedieninge vant Sacrament des H; \t[0.189518004655838, 0.6231236457824707, 0.18692056834697723, 0.00043771928176283836]\n",
      "IN\tIN\tNL-HaNA_1.04.02_1083_0043.jpg\tbijde Gecommitteerde wegen de Zinodale Classe; van\t[0.18365614116191864, 0.6306939721107483, 0.1852179765701294, 0.00043188914423808455]\n",
      "IN\tIN\tNL-HaNA_1.04.02_1083_0044.jpg\tOp Appendicx vande kercken ordeninge ten aensien d\t[0.19358593225479126, 0.6172189712524414, 0.1887642741203308, 0.0004308386705815792]\n",
      "IN\tIN\tNL-HaNA_1.04.02_1083_0045.jpg\tInt laeste vandese Schiftelijcke voorstellinge; so\t[0.19087976217269897, 0.6192488670349121, 0.18942320346832275, 0.00044819535105489194]\n",
      "IN\tIN\tNL-HaNA_1.04.02_1083_0046.jpg\tEd: Hr Generael vallende soo is Octob. 23 de ver; \t[0.1961316168308258, 0.6145504117012024, 0.1888827681541443, 0.0004352719697635621]\n",
      "IN\tIN\tNL-HaNA_1.04.02_1083_0047.jpg\tJustus Hurnius, O Sebastianus danckaerts door siec\t[0.1952386498451233, 0.6137292385101318, 0.19059142470359802, 0.0004406470980029553]\n",
      "IN\tEND\tNL-HaNA_1.04.02_1083_0048.jpg\tDes avondts voor het aronsteten is den predicanten\t[0.19688139855861664, 0.611501157283783, 0.19117450714111328, 0.0004428866959642619]\n",
      "IN\tBEGIN\tNL-HaNA_1.04.02_8696_0051.jpg\tVan Siam onder dato 20: april 1737; Dag-register, \t[0.19678451120853424, 0.6095700860023499, 0.19320029020309448, 0.0004450826963875443]\n",
      "IN\tIN\tNL-HaNA_1.04.02_8696_0052.jpg\tVan Siam onder dato 20:' april 1731; moesten verbl\t[0.19672466814517975, 0.6006214022636414, 0.20218022167682648, 0.0004736868431791663]\n",
      "IN\tIN\tNL-HaNA_1.04.02_8696_0053.jpg\tVan Siam onder dato 20: april 1737; zijn aen gesig\t[0.18965472280979156, 0.5932475328445435, 0.21665093302726746, 0.0004467937396839261]\n",
      "IN\tIN\tNL-HaNA_1.04.02_8696_0054.jpg\tSiam onder dato 2 april 1737; den 8:e _=o alvroeg \t[0.19975076615810394, 0.5499035120010376, 0.24984210729599, 0.0005035650101490319]\n",
      "IN\tIN\tNL-HaNA_1.04.02_8696_0055.jpg\tVan Siam onder dato: 20: april 1737; ons aengewees\t[0.22482094168663025, 0.4781900644302368, 0.29623714089393616, 0.0007518759230151772]\n",
      "END\tIN\tNL-HaNA_1.04.02_8696_0056.jpg\tVan Siam onder dato: 20: april 1737; Maart; die ge\t[0.26162421703338623, 0.26148125529289246, 0.4759552776813507, 0.0009392626234330237]\n"
     ]
    },
    {
     "name": "stderr",
     "output_type": "stream",
     "text": [
      "103%|██████████| 14/13.65625 [00:00<00:00, 15.93batch/s]"
     ]
    },
    {
     "name": "stdout",
     "output_type": "stream",
     "text": [
      "IN\tIN\tNL-HaNA_1.04.02_8696_0057.jpg\tVan Siam onder dato 20: april 1737; vergadert was \t[0.1308359056711197, 0.6738881468772888, 0.1945958137512207, 0.0006801239214837551]\n",
      "IN\tIN\tNL-HaNA_1.04.02_8696_0058.jpg\tVan Siam onder dato: 20: april 1737; Maart voogd v\t[0.12245719879865646, 0.6935535669326782, 0.18355098366737366, 0.0004382397746667266]\n",
      "IN\tIN\tNL-HaNA_1.04.02_8696_0059.jpg\tVan Siam onder dato: 20: april 1737; houden dit go\t[0.1412268877029419, 0.6839978098869324, 0.17438267171382904, 0.0003925894561689347]\n",
      "IN\tIN\tNL-HaNA_1.04.02_8696_0060.jpg\tSiam onder dato: 20: april 1737; an; kittelde en h\t[0.1528184711933136, 0.6743114590644836, 0.17245063185691833, 0.00041942019015550613]\n",
      "IN\tIN\tNL-HaNA_1.04.02_8696_0061.jpg\tVan Siam onder dato: 20:' april 1737; Excuseert, m\t[0.15676839649677277, 0.6717154383659363, 0.1710730344057083, 0.0004431256093084812]\n",
      "IN\tIN\tNL-HaNA_1.04.02_8696_0062.jpg\tan Siam onder dato: 20: april 1737; kittelde en he\t[0.15608811378479004, 0.6699219346046448, 0.17355549335479736, 0.00043446820927783847]\n",
      "IN\tIN\tNL-HaNA_1.04.02_8696_0063.jpg\tVan Siam onder dato: 20=' april 1737; Excuseert, m\t[0.15607145428657532, 0.6712591648101807, 0.17223240435123444, 0.00043693723273463547]\n",
      "IN\tIN\tNL-HaNA_1.04.02_8696_0064.jpg\tSiam onder dato: 20: april 1737; opperhoofd een ro\t[0.15860149264335632, 0.6698997020721436, 0.17104968428611755, 0.0004491464060265571]\n",
      "IN\tIN\tNL-HaNA_1.04.02_8696_0065.jpg\tVan Siam onder dato 20: april 1737; op thee en Con\t[0.16983801126480103, 0.653423547744751, 0.1762995719909668, 0.00043881702004000545]\n",
      "IN\tIN\tNL-HaNA_1.04.02_8696_0066.jpg\tSiam onder dato: 20: april 1737; -; Aan; Maart; te\t[0.1711394488811493, 0.6492423415184021, 0.17917907238006592, 0.00043912691762670875]\n",
      "IN\tIN\tNL-HaNA_1.04.02_8696_0067.jpg\tSiam onder dato: 20: april 1737; N6; an alderhande\t[0.16716787219047546, 0.6573337912559509, 0.17505662143230438, 0.0004417449526954442]\n",
      "IN\tIN\tNL-HaNA_1.04.02_8696_0068.jpg\tSiam onder dato: 20: apr; an; telaeten zien met we\t[0.18082080781459808, 0.6375390887260437, 0.18120408058166504, 0.0004360258753877133]\n",
      "IN\tIN\tNL-HaNA_1.04.02_8696_0069.jpg\tVan Siam onder dato: 29:' april 1737; koraelen van\t[0.1644667088985443, 0.6587917804718018, 0.17626376450061798, 0.0004777166177518666]\n",
      "IN\tIN\tNL-HaNA_1.04.02_8696_0070.jpg\tVan Siam onder dato: 20: april 1737; den 16:e d:o \t[0.17959387600421906, 0.6375470757484436, 0.1824018359184265, 0.000457230256870389]\n",
      "IN\tIN\tNL-HaNA_1.04.02_8696_0071.jpg\tVan Siam onder dato: 20: april 1737; middelpunt te\t[0.1890939325094223, 0.6264989376068115, 0.18393364548683167, 0.00047344109043478966]\n",
      "IN\tIN\tNL-HaNA_1.04.02_8696_0072.jpg\tan Siam onder dato: 20: april 1737; Elders wierd g\t[0.1709858924150467, 0.6214116811752319, 0.20715180039405823, 0.00045059790136292577]\n",
      "IN\tIN\tNL-HaNA_1.04.02_8696_0073.jpg\tVan Siam onder dato: 20: april 1737; te hebben ons\t[0.23080672323703766, 0.5225225687026978, 0.24610145390033722, 0.0005692907725460827]\n",
      "IN\tIN\tNL-HaNA_1.04.02_8696_0074.jpg\tSiam onder dato: 20: april 1737; An; 99; Elders wi\t[0.2087714523077011, 0.5423439145088196, 0.24832576513290405, 0.0005588378407992423]\n",
      "IN\tIN\tNL-HaNA_1.04.02_8696_0075.jpg\tVan Siam onder dato: 20: april 1737; te hebben ons\t[0.2580002248287201, 0.4139590263366699, 0.3274947702884674, 0.0005459398962557316]\n",
      "IN\tIN\tNL-HaNA_1.04.02_8696_0076.jpg\tVan Siam onder dato: 20: april 1737; van hof order\t[0.24737635254859924, 0.44463592767715454, 0.3072328269481659, 0.0007548223366029561]\n",
      "END\tEND\tNL-HaNA_1.04.02_8696_0077.jpg\tVan Siam onder dato: 20: april 1737; Translaet Sia\t[0.25154754519462585, 0.26024264097213745, 0.4872395098209381, 0.0009702928946353495]\n"
     ]
    },
    {
     "name": "stderr",
     "output_type": "stream",
     "text": [
      "\n"
     ]
    }
   ],
   "source": [
    "import csv\n",
    "import sys\n",
    "\n",
    "from torcheval.metrics import (\n",
    "    MulticlassAccuracy,\n",
    "    MulticlassF1Score,\n",
    "    MulticlassPrecision,\n",
    "    MulticlassRecall,\n",
    ")\n",
    "from tqdm import tqdm\n",
    "\n",
    "from document_segmentation.pagexml.datamodel.label import Label\n",
    "\n",
    "writer = csv.DictWriter(\n",
    "    sys.stdout,\n",
    "    fieldnames=(\"Predicted\", \"Actual\", \"Page ID\", \"Text\", \"Scores\"),\n",
    "    delimiter=\"\\t\",\n",
    ")\n",
    "\n",
    "writer.writeheader()\n",
    "\n",
    "accuracy = MulticlassAccuracy(num_classes=len(Label))\n",
    "precision = MulticlassPrecision(average=None, num_classes=len(Label))\n",
    "recall = MulticlassRecall(average=None, num_classes=len(Label))\n",
    "f1_score = MulticlassF1Score(average=None, num_classes=len(Label))\n",
    "\n",
    "for batch in tqdm(\n",
    "    test_data.batches(BATCH_SIZE), total=len(test_data) / BATCH_SIZE, unit=\"batch\"\n",
    "):\n",
    "    predicted = tagger(batch)\n",
    "    labels = batch.labels()\n",
    "\n",
    "    _labels = torch.Tensor([label.value for label in labels]).to(int)\n",
    "    accuracy.update(predicted, _labels)\n",
    "    precision.update(predicted, _labels)\n",
    "    recall.update(predicted, _labels)\n",
    "    f1_score.update(predicted, _labels)\n",
    "\n",
    "    for page, pred, label in zip(batch.pages, predicted, labels):\n",
    "        pred_label = Label(pred.argmax().item())\n",
    "        # if pred_label != Label.IN or label != Label.IN:\n",
    "        writer.writerow(\n",
    "            {\n",
    "                \"Predicted\": pred_label.name,\n",
    "                \"Actual\": label.name,\n",
    "                \"Page ID\": page.doc_id,\n",
    "                \"Text\": page.text(delimiter=\"; \")[:50],\n",
    "                \"Scores\": str(pred.tolist()),\n",
    "            }\n",
    "        )"
   ]
  },
  {
   "cell_type": "code",
   "execution_count": 26,
   "metadata": {},
   "outputs": [
    {
     "name": "stderr",
     "output_type": "stream",
     "text": [
      "WARNING:root:tensor([[3]]) classes have zero instances in both the predictions and the ground truth labels. Precision is still logged as zero.\n"
     ]
    },
    {
     "name": "stdout",
     "output_type": "stream",
     "text": [
      "Metric\tBEGIN\tIN\tEND\tOUT\n",
      "MulticlassPrecision\t0.0000\t0.8747\t0.0789\t0.0000\n",
      "MulticlassRecall\t0.0000\t0.8770\t0.1200\t0.0000\n",
      "MulticlassF1Score\t0.0000\t0.8758\t0.0952\t0.0000\n",
      "Accuracy (micro average):\t0.7574\n"
     ]
    }
   ],
   "source": [
    "writer = csv.DictWriter(\n",
    "    sys.stdout,\n",
    "    fieldnames=[\"Metric\"] + [label.name for label in Label],\n",
    "    delimiter=\"\\t\",\n",
    ")\n",
    "writer.writeheader()\n",
    "\n",
    "for metric in (precision, recall, f1_score):\n",
    "    scores = {\n",
    "        label.name: f\"{score:.4f}\"\n",
    "        for label, score in zip(Label, metric.compute().tolist())\n",
    "    }\n",
    "    writer.writerow({\"Metric\": metric.__class__.__name__} | scores)\n",
    "\n",
    "print(f\"Accuracy ({accuracy.average} average):\\t{accuracy.compute().item():.4f}\")"
   ]
  }
 ],
 "metadata": {
  "kernelspec": {
   "display_name": ".venv",
   "language": "python",
   "name": "python3"
  },
  "language_info": {
   "codemirror_mode": {
    "name": "ipython",
    "version": 3
   },
   "file_extension": ".py",
   "mimetype": "text/x-python",
   "name": "python",
   "nbconvert_exporter": "python",
   "pygments_lexer": "ipython3",
   "version": "3.11.2"
  }
 },
 "nbformat": 4,
 "nbformat_minor": 2
}
