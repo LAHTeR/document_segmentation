{
 "cells": [
  {
   "cell_type": "code",
   "execution_count": 1,
   "metadata": {},
   "outputs": [],
   "source": [
    "%load_ext autoreload\n",
    "%autoreload now"
   ]
  },
  {
   "cell_type": "code",
   "execution_count": 2,
   "metadata": {},
   "outputs": [],
   "source": [
    "import os\n",
    "\n",
    "os.environ[\"CUDA_VISIBLE_DEVICES\"] = \"MIG-08137aa2-e69b-5e74-8390-7997329b1336\"\n",
    "# os.environ[\"WORLD_SIZE\"] = \"1\""
   ]
  },
  {
   "cell_type": "markdown",
   "metadata": {},
   "source": [
    "# Download and convert data"
   ]
  },
  {
   "cell_type": "code",
   "execution_count": 3,
   "metadata": {},
   "outputs": [
    {
     "name": "stderr",
     "output_type": "stream",
     "text": [
      "Writing documents: 0doc [00:00, ?doc/s]\n"
     ]
    }
   ],
   "source": [
    "from tqdm import tqdm\n",
    "\n",
    "from document_segmentation.pagexml.annotations.renate_analysis import RenateAnalysis\n",
    "from document_segmentation.settings import RENATE_ANALYSIS_DIR\n",
    "\n",
    "N = None\n",
    "\n",
    "RENATE_ANALYSIS_DIR.mkdir(parents=True, exist_ok=True)\n",
    "\n",
    "sheet = RenateAnalysis()\n",
    "\n",
    "\n",
    "existing_docs = {\n",
    "    path.stem for path in RENATE_ANALYSIS_DIR.glob(\"Globdoc_*.json\") if path.is_file()\n",
    "}\n",
    "\n",
    "for document in tqdm(\n",
    "    sheet.to_documents(n=N, skip_ids=existing_docs),\n",
    "    total=(N or len(sheet)) - len(existing_docs),\n",
    "    desc=\"Writing documents\",\n",
    "    unit=\"doc\",\n",
    "):\n",
    "    document_file = RENATE_ANALYSIS_DIR / f\"{document.id}.json\"\n",
    "\n",
    "    with document_file.open(\"xt\") as f:\n",
    "        f.write(document.model_dump_json())\n",
    "        f.write(\"\\n\")"
   ]
  },
  {
   "cell_type": "code",
   "execution_count": 4,
   "metadata": {},
   "outputs": [
    {
     "name": "stderr",
     "output_type": "stream",
     "text": [
      "Writing documents:   0%|          | 0/26 [00:00<?, ?doc/s]"
     ]
    },
    {
     "name": "stderr",
     "output_type": "stream",
     "text": [
      "Writing documents: 100%|██████████| 26/26 [00:10<00:00,  2.54doc/s]\n"
     ]
    }
   ],
   "source": [
    "import logging\n",
    "\n",
    "from tqdm import tqdm\n",
    "\n",
    "from document_segmentation.pagexml.annotations.renate_analysis import RenateAnalysisInv\n",
    "from document_segmentation.settings import RENATE_ANALYSIS_DIR, RENATE_ANALYSIS_SHEETS\n",
    "\n",
    "N = None\n",
    "\n",
    "\n",
    "sheet = RenateAnalysisInv(RENATE_ANALYSIS_SHEETS[0])  # TODO: use both sheets\n",
    "\n",
    "for document in tqdm(\n",
    "    sheet.to_documents(n=N), desc=\"Writing documents\", unit=\"doc\", total=26\n",
    "):\n",
    "    document_file = RENATE_ANALYSIS_DIR / f\"{document.id}.json\"\n",
    "\n",
    "    if document_file.exists():\n",
    "        logging.info(f\"Document {document.id} already exists, skipping\")\n",
    "    else:\n",
    "        with document_file.open(\"xt\") as f:\n",
    "            f.write(document.model_dump_json())\n",
    "            f.write(\"\\n\")"
   ]
  },
  {
   "cell_type": "markdown",
   "metadata": {},
   "source": [
    "# Load Data"
   ]
  },
  {
   "cell_type": "code",
   "execution_count": 5,
   "metadata": {},
   "outputs": [],
   "source": [
    "%autoreload now"
   ]
  },
  {
   "cell_type": "code",
   "execution_count": 6,
   "metadata": {},
   "outputs": [],
   "source": [
    "TRAINING_DATA = 0.8"
   ]
  },
  {
   "cell_type": "code",
   "execution_count": 7,
   "metadata": {},
   "outputs": [
    {
     "name": "stderr",
     "output_type": "stream",
     "text": [
      "Reading JSON files: 100%|██████████| 104/104 [00:00<00:00, 179.17file/s]\n"
     ]
    },
    {
     "data": {
      "text/plain": [
       "104"
      ]
     },
     "execution_count": 7,
     "metadata": {},
     "output_type": "execute_result"
    }
   ],
   "source": [
    "from document_segmentation.model.dataset import DocumentDataset\n",
    "\n",
    "dataset: DocumentDataset = DocumentDataset.from_dir(RENATE_ANALYSIS_DIR)\n",
    "dataset.shuffle()\n",
    "\n",
    "len(dataset)"
   ]
  },
  {
   "cell_type": "code",
   "execution_count": 8,
   "metadata": {},
   "outputs": [
    {
     "data": {
      "text/plain": [
       "Counter({<Label.IN: 1>: 1907,\n",
       "         <Label.BEGIN: 0>: 104,\n",
       "         <Label.END: 2>: 100,\n",
       "         <Label.OUT: 3>: 73})"
      ]
     },
     "execution_count": 8,
     "metadata": {},
     "output_type": "execute_result"
    }
   ],
   "source": [
    "dataset._class_counts()"
   ]
  },
  {
   "cell_type": "code",
   "execution_count": 9,
   "metadata": {},
   "outputs": [
    {
     "data": {
      "text/plain": [
       "[0.9904761904761905,\n",
       " 0.05450733752620545,\n",
       " 1.0297029702970297,\n",
       " 1.4054054054054055]"
      ]
     },
     "execution_count": 9,
     "metadata": {},
     "output_type": "execute_result"
    }
   ],
   "source": [
    "dataset.class_weights()"
   ]
  },
  {
   "cell_type": "code",
   "execution_count": 10,
   "metadata": {},
   "outputs": [],
   "source": [
    "training_data, test_data = dataset.split(TRAINING_DATA)"
   ]
  },
  {
   "cell_type": "code",
   "execution_count": 11,
   "metadata": {},
   "outputs": [
    {
     "data": {
      "text/plain": [
       "Counter({<Label.IN: 1>: 1642,\n",
       "         <Label.BEGIN: 0>: 83,\n",
       "         <Label.END: 2>: 80,\n",
       "         <Label.OUT: 3>: 68})"
      ]
     },
     "execution_count": 11,
     "metadata": {},
     "output_type": "execute_result"
    }
   ],
   "source": [
    "training_data._class_counts()"
   ]
  },
  {
   "cell_type": "code",
   "execution_count": 12,
   "metadata": {},
   "outputs": [
    {
     "data": {
      "text/plain": [
       "Counter({<Label.IN: 1>: 265,\n",
       "         <Label.BEGIN: 0>: 21,\n",
       "         <Label.END: 2>: 20,\n",
       "         <Label.OUT: 3>: 5})"
      ]
     },
     "execution_count": 12,
     "metadata": {},
     "output_type": "execute_result"
    }
   ],
   "source": [
    "test_data._class_counts()"
   ]
  },
  {
   "cell_type": "markdown",
   "metadata": {},
   "source": [
    "# Train Model"
   ]
  },
  {
   "cell_type": "code",
   "execution_count": 13,
   "metadata": {},
   "outputs": [],
   "source": [
    "import torch\n",
    "\n",
    "BATCH_SIZE = 64\n",
    "EPOCHS = 5\n",
    "WEIGHTS = torch.Tensor(dataset.class_weights())  # For an imbalanced dataset"
   ]
  },
  {
   "cell_type": "code",
   "execution_count": 14,
   "metadata": {},
   "outputs": [],
   "source": [
    "%autoreload now"
   ]
  },
  {
   "cell_type": "code",
   "execution_count": 15,
   "metadata": {},
   "outputs": [],
   "source": [
    "from document_segmentation.model.page_sequence_tagger import PageSequenceTagger\n",
    "\n",
    "tagger = PageSequenceTagger()"
   ]
  },
  {
   "cell_type": "code",
   "execution_count": 16,
   "metadata": {},
   "outputs": [
    {
     "data": {
      "text/plain": [
       "'mps'"
      ]
     },
     "execution_count": 16,
     "metadata": {},
     "output_type": "execute_result"
    }
   ],
   "source": [
    "tagger._device"
   ]
  },
  {
   "cell_type": "code",
   "execution_count": 17,
   "metadata": {},
   "outputs": [
    {
     "data": {
      "text/plain": [
       "PageSequenceTagger(\n",
       "  (_page_embedding): PageEmbedding(\n",
       "    (_region_model): RegionEmbeddingSentenceTransformer(\n",
       "      (_transformer_model): SentenceTransformer(\n",
       "        (0): Transformer({'max_seq_length': 128, 'do_lower_case': False}) with Transformer model: RobertaModel \n",
       "        (1): Pooling({'word_embedding_dimension': 768, 'pooling_mode_cls_token': False, 'pooling_mode_mean_tokens': True, 'pooling_mode_max_tokens': False, 'pooling_mode_mean_sqrt_len_tokens': False, 'pooling_mode_weightedmean_tokens': False, 'pooling_mode_lasttoken': False})\n",
       "      )\n",
       "      (_region_type): Embedding(9, 16)\n",
       "      (_linear): Linear(in_features=784, out_features=512, bias=True)\n",
       "    )\n",
       "    (_rnn): LSTM(512, 256, num_layers=2, batch_first=True, dropout=0.1, bidirectional=True)\n",
       "    (_linear): Linear(in_features=512, out_features=256, bias=True)\n",
       "  )\n",
       "  (_rnn): LSTM(256, 256, num_layers=2, batch_first=True, dropout=0.1, bidirectional=True)\n",
       "  (_linear): Linear(in_features=512, out_features=4, bias=True)\n",
       "  (_softmax): Softmax(dim=1)\n",
       ")"
      ]
     },
     "execution_count": 17,
     "metadata": {},
     "output_type": "execute_result"
    }
   ],
   "source": [
    "tagger"
   ]
  },
  {
   "cell_type": "code",
   "execution_count": 18,
   "metadata": {},
   "outputs": [
    {
     "name": "stderr",
     "output_type": "stream",
     "text": [
      "Training: 100%|██████████| 95/95 [01:43<00:00,  1.09s/batch]\n"
     ]
    },
    {
     "name": "stdout",
     "output_type": "stream",
     "text": [
      "[Loss:\t0.860]\n"
     ]
    },
    {
     "name": "stderr",
     "output_type": "stream",
     "text": [
      "Training: 100%|██████████| 95/95 [00:05<00:00, 17.30batch/s]\n"
     ]
    },
    {
     "name": "stdout",
     "output_type": "stream",
     "text": [
      "[Loss:\t0.594]\n"
     ]
    },
    {
     "name": "stderr",
     "output_type": "stream",
     "text": [
      "Training: 100%|██████████| 95/95 [00:05<00:00, 17.59batch/s]\n"
     ]
    },
    {
     "name": "stdout",
     "output_type": "stream",
     "text": [
      "[Loss:\t0.532]\n"
     ]
    },
    {
     "name": "stderr",
     "output_type": "stream",
     "text": [
      "Training: 100%|██████████| 95/95 [00:05<00:00, 17.30batch/s]\n"
     ]
    },
    {
     "name": "stdout",
     "output_type": "stream",
     "text": [
      "[Loss:\t0.519]\n"
     ]
    },
    {
     "name": "stderr",
     "output_type": "stream",
     "text": [
      "Training: 100%|██████████| 95/95 [00:05<00:00, 17.27batch/s]"
     ]
    },
    {
     "name": "stdout",
     "output_type": "stream",
     "text": [
      "[Loss:\t0.517]\n"
     ]
    },
    {
     "name": "stderr",
     "output_type": "stream",
     "text": [
      "\n"
     ]
    }
   ],
   "source": [
    "tagger.train_(training_data, EPOCHS, BATCH_SIZE, WEIGHTS.to(tagger._device))"
   ]
  },
  {
   "cell_type": "code",
   "execution_count": 24,
   "metadata": {},
   "outputs": [],
   "source": [
    "with open(\"page_sequence_tagger.pt\", \"xb\") as f:\n",
    "    torch.save(tagger, f)"
   ]
  },
  {
   "cell_type": "markdown",
   "metadata": {},
   "source": [
    "# Evaluate Model"
   ]
  },
  {
   "cell_type": "code",
   "execution_count": 19,
   "metadata": {},
   "outputs": [
    {
     "name": "stdout",
     "output_type": "stream",
     "text": [
      "Predicted\tActual\tPage ID\tText\tScores\n"
     ]
    },
    {
     "name": "stderr",
     "output_type": "stream",
     "text": [
      "  5%|▍         | 1/21 [00:00<00:15,  1.29batch/s]"
     ]
    },
    {
     "name": "stdout",
     "output_type": "stream",
     "text": [
      "BEGIN\tBEGIN\tNL-HaNA_1.04.02_2334_0029.jpg\tN„o 1. Originele missive door en aan als boven; „ \t[0.9976346492767334, 0.0014405688270926476, 0.0003242988314013928, 0.0006004812312312424]\n",
      "IN\tIN\tNL-HaNA_1.04.02_2334_0030.jpg\tbodemapart; inhandigt.; Cognossement; Onkost reek„\t[0.0210682712495327, 0.9577849507331848, 0.01492651179432869, 0.0062202634289860725]\n",
      "END\tEND\tNL-HaNA_1.04.02_2334_0031.jpg\tstuagtelijst; lijste de Maarte: haarteken; den sch\t[0.0026382452342659235, 0.002028851304203272, 0.9950413107872009, 0.0002916694793384522]\n"
     ]
    },
    {
     "name": "stderr",
     "output_type": "stream",
     "text": [
      " 10%|▉         | 2/21 [00:01<00:11,  1.60batch/s]"
     ]
    },
    {
     "name": "stdout",
     "output_type": "stream",
     "text": [
      "BEGIN\tBEGIN\tNL-HaNA_1.04.02_2542_0114.jpg\tVan Mallabaar onder dato; 9. stux te weeten; 6. ma\t[0.9847745299339294, 0.0008813795284368098, 0.014121505431830883, 0.00022256876400206238]\n"
     ]
    },
    {
     "name": "stderr",
     "output_type": "stream",
     "text": [
      " 14%|█▍        | 3/21 [00:03<00:22,  1.26s/batch]"
     ]
    },
    {
     "name": "stdout",
     "output_type": "stream",
     "text": [
      "BEGIN\tBEGIN\tNL-HaNA_1.04.02_8864_0017.jpg\tVan Cormandel onder dato ultimo: Junij 1734.; Vrij\t[0.9975234866142273, 0.0014467928558588028, 0.00033440531115047634, 0.0006953740958124399]\n",
      "IN\tIN\tNL-HaNA_1.04.02_8864_0018.jpg\tVan Cormandel onder dato uetim Junij 1734.; versee\t[0.011600962840020657, 0.9796565771102905, 0.00385815417394042, 0.0048843626864254475]\n",
      "IN\tIN\tNL-HaNA_1.04.02_8864_0019.jpg\tVan Cormandel, onder dato ultimo Junij 1734.; Dond\t[0.007064731325954199, 0.9856823086738586, 0.003302427940070629, 0.003950604237616062]\n",
      "IN\tIN\tNL-HaNA_1.04.02_8864_0020.jpg\tVan Cormandel onder dato uiltimo Julij 1739; tinge\t[0.005827696528285742, 0.9860939979553223, 0.003772510215640068, 0.004305807873606682]\n",
      "IN\tIN\tNL-HaNA_1.04.02_8864_0021.jpg\tVan Cormandel onder dato 20. ' Junij 17; 1734; 1Be\t[0.005992822349071503, 0.9864352345466614, 0.003241727128624916, 0.0043302676640450954]\n",
      "IN\tIN\tNL-HaNA_1.04.02_8864_0022.jpg\tVan Cormandel onder Dato ultimo Junij A:o 1734.; b\t[0.006368376314640045, 0.9866471290588379, 0.0032344027422368526, 0.0037501396145671606]\n",
      "IN\tIN\tNL-HaNA_1.04.02_8864_0023.jpg\tVan Cormandel onder dato ultum o Junij 1734.; een \t[0.006329862400889397, 0.9865227341651917, 0.0033605368807911873, 0.0037869480438530445]\n",
      "IN\tIN\tNL-HaNA_1.04.02_8864_0024.jpg\tVan; Cormandel onder dato ultimo Junij A:o 1734.; \t[0.006760731805115938, 0.9864451289176941, 0.003081990871578455, 0.003712230594828725]\n",
      "IN\tIN\tNL-HaNA_1.04.02_8864_0025.jpg\tVan; Cormandel onder dato ultimo feb:r: 1734.; dur\t[0.006460834294557571, 0.9867375493049622, 0.0031343873124569654, 0.003667240496724844]\n",
      "IN\tIN\tNL-HaNA_1.04.02_8864_0026.jpg\tCormandel onder dato ultimo Julij 1734.; Van; verr\t[0.006245514377951622, 0.986879289150238, 0.0030692564323544502, 0.0038059300277382135]\n",
      "IN\tIN\tNL-HaNA_1.04.02_8864_0027.jpg\tvan Cormandel onder dato ultimo Junij A:o 1739.; i\t[0.006526499520987272, 0.9864176511764526, 0.0032733939588069916, 0.0037825200706720352]\n",
      "IN\tIN\tNL-HaNA_1.04.02_8864_0028.jpg\tVan Cormandel onder dato ult„o; Janeij 1734.; wang\t[0.006002429407089949, 0.9868230819702148, 0.003372307401150465, 0.0038022506050765514]\n",
      "IN\tIN\tNL-HaNA_1.04.02_8864_0029.jpg\tVac Cormandel onder dato ult„o Junij 173; onsen fa\t[0.006236711982637644, 0.9868975877761841, 0.0031540202908217907, 0.0037116724997758865]\n",
      "IN\tIN\tNL-HaNA_1.04.02_8864_0030.jpg\tVan Cormandel onder dato ult„o Iunij 1734.; gevond\t[0.006297710817307234, 0.9869235157966614, 0.003153838450089097, 0.0036248965188860893]\n",
      "IN\tIN\tNL-HaNA_1.04.02_8864_0031.jpg\tVan Cormandel onder dato ult„o Junij 1734.; C; „it\t[0.006450853310525417, 0.9863939881324768, 0.003271282184869051, 0.003883946919813752]\n",
      "IN\tIN\tNL-HaNA_1.04.02_8864_0032.jpg\tVan Cormandel onder dato ult„o Junij 1734.; nae he\t[0.006107286084443331, 0.9867401719093323, 0.003322475589811802, 0.003830042202025652]\n",
      "IN\tIN\tNL-HaNA_1.04.02_8864_0033.jpg\tVan Cormandel onder dato ult„o Junij 1734.; Fnduir\t[0.006248369347304106, 0.9868964552879333, 0.003134356811642647, 0.0037208222784101963]\n",
      "IN\tIN\tNL-HaNA_1.04.02_8864_0034.jpg\tVan Cormandel onder dato ult„o Junij 1739.; Ed:s e\t[0.006686896551400423, 0.9866090416908264, 0.003035513684153557, 0.0036686239764094353]\n",
      "IN\tIN\tNL-HaNA_1.04.02_8864_0035.jpg\tVan Cormandel onder dato ult„o Iunij 1734.; na rij\t[0.0064818584360182285, 0.9867743253707886, 0.0030205282382667065, 0.0037232656031847]\n",
      "IN\tIN\tNL-HaNA_1.04.02_8864_0036.jpg\tVan; Cormandel onder dato ult„o Iunij17; 1734; op \t[0.006228764075785875, 0.9865634441375732, 0.0034522991627454758, 0.0037554402370005846]\n",
      "IN\tIN\tNL-HaNA_1.04.02_8864_0037.jpg\tVan Cormandel onder dato ult„o Junij 1734.; beloft\t[0.006500637158751488, 0.9866636991500854, 0.0030788721051067114, 0.0037567317485809326]\n",
      "IN\tIN\tNL-HaNA_1.04.02_8864_0038.jpg\tVan Cormandel onder dato ult„o Junij 1724.; regeri\t[0.006101451348513365, 0.9868425726890564, 0.0030248535331338644, 0.004031073302030563]\n",
      "IN\tIN\tNL-HaNA_1.04.02_8864_0039.jpg\tCormandel onder dato ult„o Iunij 1734.; Aan; canon\t[0.006054824683815241, 0.9867640137672424, 0.003216542536392808, 0.003964707255363464]\n",
      "IN\tIN\tNL-HaNA_1.04.02_8864_0040.jpg\tVan Cormandel onder dato ult,„o Junij 1734; eerst \t[0.006084139458835125, 0.9870115518569946, 0.003128916025161743, 0.003775437129661441]\n",
      "IN\tIN\tNL-HaNA_1.04.02_8864_0041.jpg\tVan; Cormandel onder dato ult„o Julij 1734.; in ov\t[0.006271658930927515, 0.9866551160812378, 0.0031997007317841053, 0.003873544279485941]\n",
      "IN\tIN\tNL-HaNA_1.04.02_8864_0042.jpg\tVan Cormandel onder dato ult„o Junij 1734; krijger\t[0.006423758342862129, 0.9868174195289612, 0.003074801526963711, 0.003684085328131914]\n",
      "IN\tIN\tNL-HaNA_1.04.02_8864_0043.jpg\tAan; Cormandel onder dato ult„o Junij 1734.; „gent\t[0.006102252751588821, 0.9869999289512634, 0.0031699547544121742, 0.0037278865929692984]\n",
      "IN\tIN\tNL-HaNA_1.04.02_8864_0044.jpg\tVan Cormandel onder dato ult„o Iunij 1734.; aldus \t[0.006317796651273966, 0.9868218302726746, 0.0030150741804391146, 0.003845405764877796]\n",
      "IN\tIN\tNL-HaNA_1.04.02_8864_0045.jpg\tVan Cormandel onder dato ult„o Iunij 1734.; was ge\t[0.006472996901720762, 0.9868011474609375, 0.0029575740918517113, 0.003768329042941332]\n",
      "IN\tIN\tNL-HaNA_1.04.02_8864_0046.jpg\tVan; Cormandel onder dato ult„o Iunij 1734.; voort\t[0.0061186617240309715, 0.9869738817214966, 0.0031363386660814285, 0.003771108342334628]\n",
      "IN\tIN\tNL-HaNA_1.04.02_8864_0047.jpg\tCormandel onder dato ult:o Junij 1734:; Van; daer \t[0.005973373539745808, 0.9866422414779663, 0.0034724418073892593, 0.003911916166543961]\n",
      "IN\tIN\tNL-HaNA_1.04.02_8864_0048.jpg\tVn Cormandel onder dato ult„o Iunij 1734; leden me\t[0.005926631856709719, 0.9870861768722534, 0.0031729512847959995, 0.0038142395205795765]\n",
      "IN\tIN\tNL-HaNA_1.04.02_8864_0049.jpg\tVan Cormandel onder dato ult„o Junij 1734.; als de\t[0.00648481585085392, 0.9867525100708008, 0.0030944582540541887, 0.003668223274871707]\n",
      "IN\tIN\tNL-HaNA_1.04.02_8864_0050.jpg\tVan Cormandel onder dato ult„o Junij 1734.; kist o\t[0.006455852650105953, 0.9864850044250488, 0.003405044786632061, 0.003654079744592309]\n",
      "IN\tIN\tNL-HaNA_1.04.02_8864_0051.jpg\tVan Cormandel onder dato ult„o Junij 1734.; Den bo\t[0.008415250107645988, 0.9750669002532959, 0.011800199747085571, 0.004717567935585976]\n",
      "END\tEND\tNL-HaNA_1.04.02_8864_0052.jpg\tVan Cormandel onder dato ult„o Iunij 1734.; tot ba\t[0.0025074901059269905, 0.002675039693713188, 0.994474470615387, 0.0003429861390031874]\n"
     ]
    },
    {
     "name": "stderr",
     "output_type": "stream",
     "text": [
      " 19%|█▉        | 4/21 [00:05<00:25,  1.50s/batch]"
     ]
    },
    {
     "name": "stdout",
     "output_type": "stream",
     "text": [
      "BEGIN\tBEGIN\tNL-HaNA_1.04.02_1506_1034.jpg\t-; d; E; 7.; decken; 8; 2; van de; 5; ƒ; 3; E; E; \t[0.9969460368156433, 0.0018056592671200633, 0.00042282947106286883, 0.00082543765893206]\n",
      "IN\tIN\tNL-HaNA_1.04.02_1506_1035.jpg\tbinnewater; een lamme; D95; same; uijt; ies; Cas; \t[0.01352662406861782, 0.9774552583694458, 0.004115343559533358, 0.004902746062725782]\n",
      "IN\tIN\tNL-HaNA_1.04.02_1506_1036.jpg\t30 vrs; o; Janor; 6; 5o; e; x; 116; E; 6.; 1.; :; \t[0.009668956510722637, 0.973635733127594, 0.01236887089908123, 0.004326431546360254]\n",
      "END\tEND\tNL-HaNA_1.04.02_1506_1037.jpg\tk; „noortvelt; rogons; „1; rsame; uijt; eruijt; ƒ;\t[0.0024677864275872707, 0.0024721757508814335, 0.9947494864463806, 0.0003105464274995029]\n"
     ]
    },
    {
     "name": "stderr",
     "output_type": "stream",
     "text": [
      " 24%|██▍       | 5/21 [00:06<00:22,  1.40s/batch]"
     ]
    },
    {
     "name": "stdout",
     "output_type": "stream",
     "text": [
      "OUT\tOUT\tNL-HaNA_1.04.02_1547_0236.jpg\t\t[0.0037416855338960886, 0.010984438471496105, 0.0018611939158290625, 0.9834127426147461]\n",
      "BEGIN\tBEGIN\tNL-HaNA_1.04.02_1547_0237.jpg\taan d'E: Heer Alexander; Wigmans Coopman en P„r; g\t[0.9960887432098389, 0.0019016050500795245, 0.0004171580949332565, 0.0015924684703350067]\n",
      "IN\tIN\tNL-HaNA_1.04.02_1547_0238.jpg\teenige misnoegentheijt, in die natie ligt aan„; „w\t[0.0089103439822793, 0.9821773767471313, 0.003539677243679762, 0.005372707732021809]\n",
      "IN\tIN\tNL-HaNA_1.04.02_1547_0239.jpg\teen vast voorneemen, 'tsij het leven aldaar te; ve\t[0.005985654890537262, 0.9871158003807068, 0.0031074557919055223, 0.003791088005527854]\n",
      "IN\tIN\tNL-HaNA_1.04.02_1547_0240.jpg\t„gemelte schrijvens tomtwaaren, ook hoe uEE:; goet\t[0.005530355032533407, 0.9879321455955505, 0.0029731637332588434, 0.0035642797593027353]\n",
      "IN\tIN\tNL-HaNA_1.04.02_1547_0241.jpg\tHeest in alle mijne brieven heb ik voor uEE:; mijn\t[0.005561021622270346, 0.9879786968231201, 0.0029682733584195375, 0.0034920915495604277]\n",
      "IN\tIN\tNL-HaNA_1.04.02_1547_0242.jpg\tzout en sandel, onder behoorlijk verbant schrift; \t[0.0054639605805277824, 0.9880820512771606, 0.0028857127763330936, 0.0035682711750268936]\n",
      "IN\tIN\tNL-HaNA_1.04.02_1547_0243.jpg\tVE: bekent gemaakt, dat Eergister van; Calicoet al\t[0.005619752686470747, 0.9878972768783569, 0.0030325455591082573, 0.0034504367504268885]\n",
      "IN\tIN\tNL-HaNA_1.04.02_1547_0244.jpg\tmijs goet gedagt heeft hier ter neder te; stellen,\t[0.0056984457187354565, 0.9879178404808044, 0.0028145769611001015, 0.0035691603552550077]\n",
      "IN\tIN\tNL-HaNA_1.04.02_1547_0245.jpg\ten't belangh der generaale Comp:e, omtr. t; den st\t[0.005311604123562574, 0.9881883263587952, 0.002943924395367503, 0.0035561611875891685]\n",
      "IN\tIN\tNL-HaNA_1.04.02_1547_0246.jpg\twat belangt het aanslaan van 'tsandelhout; uijt uE\t[0.005721666384488344, 0.9878595471382141, 0.002903639106079936, 0.003515134798362851]\n",
      "IN\tIN\tNL-HaNA_1.04.02_1547_0247.jpg\tuE: E: agtb: hoog g'Extimeerde, en overaange„; „na\t[0.005220899824053049, 0.9881370663642883, 0.002989252796396613, 0.0036526620388031006]\n",
      "IN\tIN\tNL-HaNA_1.04.02_1547_0248.jpg\tbetuijgen, Indien uw EE: agtb: ondersoght; en over\t[0.005372272804379463, 0.9874652624130249, 0.003187769092619419, 0.003974723629653454]\n",
      "IN\tIN\tNL-HaNA_1.04.02_1547_0249.jpg\tCochim hadden mij gesz:, en mijn overkomst; aldaar\t[0.005536814220249653, 0.9879546165466309, 0.0028344832826405764, 0.0036740214563906193]\n",
      "IN\tIN\tNL-HaNA_1.04.02_1547_0250.jpg\tverguningen, in't bijweesen van d'aff gesanten,; a\t[0.005872126668691635, 0.9877414703369141, 0.0028476128354668617, 0.0035388353280723095]\n",
      "IN\tIN\tNL-HaNA_1.04.02_1547_0251.jpg\tvoorsz:, en seer genereuse; Heer; manhafte, Welwij\t[0.005223043262958527, 0.9881619811058044, 0.0029535475187003613, 0.0036614364944398403]\n",
      "IN\tIN\tNL-HaNA_1.04.02_1547_0252.jpg\tdie mij In't portugees geschrift een vol; brogt, d\t[0.005630681291222572, 0.9877623319625854, 0.002941227052360773, 0.003665831172838807]\n",
      "IN\tIN\tNL-HaNA_1.04.02_1547_0253.jpg\tvan d' Ed=le H„r Directeur; en Raad tot Zouratta z\t[0.006032427307218313, 0.9875699877738953, 0.00291055697016418, 0.0034871050156652927]\n",
      "IN\tIN\tNL-HaNA_1.04.02_1547_0254.jpg\ttwoorenstaande formelier, gisteren voor de; middag\t[0.005631953943520784, 0.9880053400993347, 0.0028753713704645634, 0.003487383248284459]\n",
      "IN\tIN\tNL-HaNA_1.04.02_1547_0255.jpg\tNo/a, ook wel 140. maar tegens 135. gereek. t,; â \t[0.005631935782730579, 0.9879790544509888, 0.0027924927417188883, 0.0035965789575129747]\n",
      "IN\tIN\tNL-HaNA_1.04.02_1547_0256.jpg\tmeugt hoedanigh ick volgens mijn schuldige; pligt;\t[0.005584002938121557, 0.9880043864250183, 0.0028601218946278095, 0.0035515292547643185]\n",
      "IN\tIN\tNL-HaNA_1.04.02_1547_0257.jpg\tuE: twee aangenaame brieven gedat. t; 22. en en 25\t[0.005529115907847881, 0.988024890422821, 0.0028742137365043163, 0.0035717077553272247]\n",
      "IN\tIN\tNL-HaNA_1.04.02_1547_0258.jpg\tvorsten mondelijk raatspleeginge gehouden; hebbend\t[0.005362167023122311, 0.9875425100326538, 0.0032972246408462524, 0.0037980475462973118]\n",
      "IN\tIN\tNL-HaNA_1.04.02_1547_0259.jpg\twoord, dat uE: alhier zijnde geen de minste; weder\t[0.0054298266768455505, 0.9877781271934509, 0.0030952224042266607, 0.003696788102388382]\n",
      "IN\tIN\tNL-HaNA_1.04.02_1547_0260.jpg\tder Coopmansz: in Zouratta als het aff„; wijsen va\t[0.005475853104144335, 0.9875887036323547, 0.0033667567186057568, 0.0035687300842255354]\n",
      "IN\tIN\tNL-HaNA_1.04.02_1547_0261.jpg\tsier avont sond mij den ko: van Sammorijn; uw. E: \t[0.005761564243584871, 0.9878873825073242, 0.002835835563018918, 0.0035153210628777742]\n",
      "IN\tIN\tNL-HaNA_1.04.02_1547_0262.jpg\tP: S: alles wat ik volgens mijn geringe ver„; „sta\t[0.005774141754955053, 0.9878309369087219, 0.0029331131372600794, 0.003461729036644101]\n",
      "IN\tIN\tNL-HaNA_1.04.02_1547_0263.jpg\tden Jnhoude derzelve, en ons gedaan versoek; verde\t[0.005552651360630989, 0.9879820942878723, 0.0028790959622710943, 0.0035861351061612368]\n",
      "IN\tIN\tNL-HaNA_1.04.02_1547_0264.jpg\tE: Agtb: Gebiedende Heer; mijn heeft niet omstandi\t[0.005158023908734322, 0.9880191683769226, 0.003096305299550295, 0.0037265033461153507]\n",
      "IN\tIN\tNL-HaNA_1.04.02_1547_0265.jpg\tgebeurde dat op uw EE: agtb: begeerte sigh; op rij\t[0.0054208990186452866, 0.9878591895103455, 0.0028898781165480614, 0.0038299562875181437]\n",
      "IN\tIN\tNL-HaNA_1.04.02_1547_0266.jpg\tCochim; aan d' E: E: Heer adriaan; r; van ommen Co\t[0.005315297748893499, 0.9874722957611084, 0.003449916373938322, 0.0037624435499310493]\n",
      "IN\tIN\tNL-HaNA_1.04.02_1547_0267.jpg\twaarop ick mij ook verlaaten, niet twijffelende; o\t[0.005744528025388718, 0.9879042506217957, 0.002856522798538208, 0.0034947716630995274]\n",
      "IN\tIN\tNL-HaNA_1.04.02_1547_0268.jpg\tbetreft den Coningh van Sammorijn soo wel; als d' \t[0.005802026018500328, 0.9878667593002319, 0.00283547374419868, 0.0034956256859004498]\n",
      "IN\tIN\tNL-HaNA_1.04.02_1547_0269.jpg\tverwerpt, soo kan hij ons in den handel aldaar; so\t[0.005687038879841566, 0.9880384206771851, 0.0028475315775722265, 0.0034269981551915407]\n",
      "IN\tIN\tNL-HaNA_1.04.02_1547_0270.jpg\t'twelk doende een groote affschrick in de; herten \t[0.006063631735742092, 0.9876760244369507, 0.0028639414813369513, 0.0033964847680181265]\n",
      "IN\tIN\tNL-HaNA_1.04.02_1547_0271.jpg\tden markt vermeestert, en konnen ook op dien; voer\t[0.007305644452571869, 0.9784213304519653, 0.009983508847653866, 0.0042894696816802025]\n",
      "END\tEND\tNL-HaNA_1.04.02_1547_0272.jpg\tbehulpsaamh. t te bewijsen, op dat dien Corl in; g\t[0.002157749840989709, 0.002608327893540263, 0.9948996901512146, 0.00033429250470362604]\n"
     ]
    },
    {
     "name": "stderr",
     "output_type": "stream",
     "text": [
      " 29%|██▊       | 6/21 [00:07<00:21,  1.42s/batch]"
     ]
    },
    {
     "name": "stdout",
     "output_type": "stream",
     "text": [
      "BEGIN\tBEGIN\tNL-HaNA_1.04.02_1188_0433.jpg\tDecembr. 1651. In't schip den Drommedaris; Daghreg\t[0.9973642230033875, 0.0015967696672305465, 0.00032504432601854205, 0.0007139550871215761]\n",
      "IN\tIN\tNL-HaNA_1.04.02_1188_0434.jpg\tDecemb. 1651. In't schip den Drommedaris; weijnigh\t[0.010861136019229889, 0.9799608588218689, 0.0038541662506759167, 0.005323844961822033]\n",
      "IN\tIN\tNL-HaNA_1.04.02_1188_0435.jpg\tDecemb. 1651 In't schip den Drommedavis.; Omtrent \t[0.007163504604250193, 0.985739529132843, 0.003259476972743869, 0.003837501397356391]\n",
      "IN\tIN\tNL-HaNA_1.04.02_1188_0436.jpg\tDecemb. 1651. In't schip den Drommedaris.; 25=en p\t[0.0070573389530181885, 0.9861974120140076, 0.003103547729551792, 0.00364164006896317]\n",
      "IN\tIN\tNL-HaNA_1.04.02_1188_0437.jpg\tDecemb. 1651. In't schip den Drommedadris; heen, I\t[0.006566377356648445, 0.986577033996582, 0.0031291290652006865, 0.0037275529466569424]\n",
      "IN\tIN\tNL-HaNA_1.04.02_1188_0438.jpg\tDecemb: 1651.; In't schip den Rremmedaris; Officie\t[0.006231188308447599, 0.9866524338722229, 0.0033078163396567106, 0.003808645997196436]\n",
      "IN\tIN\tNL-HaNA_1.04.02_1188_0439.jpg\tJanuario Ao. 1652. In't schip den Drommedaris; Adi\t[0.006335955113172531, 0.9867441654205322, 0.0031184714753180742, 0.003801415441557765]\n",
      "IN\tIN\tNL-HaNA_1.04.02_1188_0440.jpg\tJanuarij 1652.; In't schip den Drommedaris; int af\t[0.006105815060436726, 0.9867091178894043, 0.003366932040080428, 0.00381808215752244]\n",
      "IN\tIN\tNL-HaNA_1.04.02_1188_0441.jpg\tIn't schip den Drommedaris 196; met het bequaeme w\t[0.005882877856492996, 0.9862581491470337, 0.003791831200942397, 0.004067162051796913]\n",
      "IN\tIN\tNL-HaNA_1.04.02_1188_0442.jpg\tJanuarij 1652. In't schip den Drommedavis; 10=e d=\t[0.00628689443692565, 0.9867384433746338, 0.0031746721360832453, 0.0037999674677848816]\n",
      "IN\tIN\tNL-HaNA_1.04.02_1188_0443.jpg\tJanuarij 1652.; In't schip den Drommedaris.; Savon\t[0.0063435048796236515, 0.9866977334022522, 0.0031825315672904253, 0.0037761398125439882]\n",
      "IN\tIN\tNL-HaNA_1.04.02_1188_0444.jpg\tJanuarij 1652. In't schip den Drommedaris; sulcx d\t[0.006283300928771496, 0.9868137836456299, 0.003204318229109049, 0.0036986088380217552]\n",
      "IN\tIN\tNL-HaNA_1.04.02_1188_0445.jpg\tJanuarij 1652.; In't schip den Drommedaris.; 23=e \t[0.006180870346724987, 0.986711859703064, 0.003367637051269412, 0.0037396959960460663]\n",
      "IN\tIN\tNL-HaNA_1.04.02_1188_0446.jpg\tFebi. 1652. In't schip den Drommedaris.; Brimofeb.\t[0.006313621532171965, 0.9866611361503601, 0.003070513252168894, 0.003954680170863867]\n",
      "IN\tIN\tNL-HaNA_1.04.02_1188_0447.jpg\tIn't schip den Drommedaris; feb. 1652.; 19=e d=os \t[0.006322275381535292, 0.9866260886192322, 0.0032423483207821846, 0.0038092618342489004]\n",
      "IN\tIN\tNL-HaNA_1.04.02_1188_0448.jpg\tIn't schip den Drommedaris; feb„ 1652; drie op den\t[0.0060752639546990395, 0.9867449402809143, 0.0033448399044573307, 0.003834910923615098]\n",
      "IN\tIN\tNL-HaNA_1.04.02_1188_0449.jpg\tIn't Schip den drommedaris; brete 8. gr: 18 min: e\t[0.006083398591727018, 0.986284613609314, 0.003647095523774624, 0.0039848871529102325]\n",
      "IN\tIN\tNL-HaNA_1.04.02_1188_0450.jpg\tMartio 1652. Int schip den Drommedaris.; Heden ons\t[0.006546609103679657, 0.9866118431091309, 0.0031648564618080854, 0.0036767355632036924]\n",
      "IN\tIN\tNL-HaNA_1.04.02_1188_0451.jpg\tIn't schip den Drommedarit; 201; 16=e do de wint h\t[0.006645090878009796, 0.9865487217903137, 0.00314191821962595, 0.0036641880869865417]\n",
      "IN\tIN\tNL-HaNA_1.04.02_1188_0452.jpg\talsoo van hem vernamen dat tot dato noch een heele\t[0.006238101050257683, 0.9863048791885376, 0.0034828472416847944, 0.003974067512899637]\n",
      "IN\tIN\tNL-HaNA_1.04.02_1188_0453.jpg\tstelden cours Oende Oost ten z tusschen beijden; d\t[0.00628169858828187, 0.9867992997169495, 0.0031417047139257193, 0.003777243196964264]\n",
      "IN\tIN\tNL-HaNA_1.04.02_1188_0454.jpg\tin Godes name aente doen, ende van nu tot; morgen \t[0.0060262531042099, 0.986707329750061, 0.003351803170517087, 0.003914568107575178]\n",
      "IN\tIN\tNL-HaNA_1.04.02_1188_0455.jpg\tApril 1652. In't schip den Drommedaris; 2=e d=o wi\t[0.006427952088415623, 0.986568808555603, 0.003247058019042015, 0.0037561177741736174]\n",
      "IN\tIN\tNL-HaNA_1.04.02_1188_0456.jpg\tApril 1652.; In't schip den Drommedaris.; seijmsn:\t[0.006047136150300503, 0.9866748452186584, 0.003093449166044593, 0.0041846283711493015]\n",
      "IN\tIN\tNL-HaNA_1.04.02_1188_0457.jpg\tApril 1652. In't schip den Drommedaris.; off missc\t[0.006311486940830946, 0.9867297410964966, 0.0031911537516862154, 0.0037675874773412943]\n",
      "IN\tIN\tNL-HaNA_1.04.02_1188_0458.jpg\tIn't schip den Drommedaris ter Rheede; aen Cabo de\t[0.006117906421422958, 0.9869650602340698, 0.0031456761062145233, 0.0037713083438575268]\n",
      "IN\tIN\tNL-HaNA_1.04.02_1188_0459.jpg\tIn't schip den Drommedaris ter Rhede; aen Cabo de \t[0.005842993501573801, 0.987022340297699, 0.003242586273699999, 0.0038921076338738203]\n",
      "IN\tIN\tNL-HaNA_1.04.02_1188_0460.jpg\tIn't schip den Drommedaris ter Rheede.; aende Cabo\t[0.006231639999896288, 0.9864839911460876, 0.003507815534248948, 0.003776587313041091]\n",
      "IN\tIN\tNL-HaNA_1.04.02_1188_0461.jpg\tIn't schip den Drommedaris ter Rhede; aen Cabo de \t[0.006256833206862211, 0.9868091344833374, 0.0031569846905767918, 0.0037770341150462627]\n",
      "IN\tIN\tNL-HaNA_1.04.02_1188_0462.jpg\tApril 1652. In't schip den Drommedaris ter Rhede; \t[0.0067167277447879314, 0.9864025712013245, 0.003111697966232896, 0.003769022412598133]\n",
      "IN\tIN\tNL-HaNA_1.04.02_1188_0463.jpg\taen Cabo de boâ Esperance,; Soo dated= becoomen ti\t[0.006001229863613844, 0.9869335889816284, 0.003304747398942709, 0.003760358551517129]\n",
      "IN\tIN\tNL-HaNA_1.04.02_1188_0464.jpg\tApril 1652. In't schip den Drommedaris ter Rhede.;\t[0.006148277781903744, 0.9866337776184082, 0.00313768838532269, 0.004080221056938171]\n",
      "IN\tIN\tNL-HaNA_1.04.02_1188_0465.jpg\tIn't schip den Drommedaris ter Rhede; aen Cabo de \t[0.006365386303514242, 0.9867685437202454, 0.0031235371716320515, 0.0037426259368658066]\n",
      "IN\tIN\tNL-HaNA_1.04.02_1188_0466.jpg\tApril 1652. Init schip den Drommedaris ter Rhede; \t[0.006312799174338579, 0.9866083860397339, 0.003210610942915082, 0.003868166357278824]\n",
      "IN\tIN\tNL-HaNA_1.04.02_1188_0467.jpg\t3 April 1652. Int schip den Drommedaris ter Rhede;\t[0.006295843981206417, 0.9867749214172363, 0.003037221496924758, 0.003892003558576107]\n",
      "IN\tIN\tNL-HaNA_1.04.02_1188_0468.jpg\t2April 1652 In't schip den Drommdaris ter Rhede.; \t[0.006433086469769478, 0.9866805672645569, 0.0031248973682522774, 0.0037613825406879187]\n",
      "IN\tIN\tNL-HaNA_1.04.02_1188_0469.jpg\tApril 1652. In't schip den Drommedaris ter Rhede; \t[0.006083298474550247, 0.9869439601898193, 0.0029860776849091053, 0.003986631985753775]\n",
      "IN\tIN\tNL-HaNA_1.04.02_1188_0470.jpg\t2 April 1652. In 't schip den Drommedaris ter Shel\t[0.006190084386616945, 0.9869527816772461, 0.0031181315425783396, 0.0037390096113085747]\n",
      "IN\tIN\tNL-HaNA_1.04.02_1188_0471.jpg\t3 April 1652 In't schip den Drommedaris ter Rhede.\t[0.0060842749662697315, 0.9870026111602783, 0.0032097995281219482, 0.003703301539644599]\n",
      "IN\tIN\tNL-HaNA_1.04.02_1188_0472.jpg\tApril 1652. In't schip den Drammdaaris ter shede.;\t[0.006164402235299349, 0.9863929152488708, 0.0036679496988654137, 0.0037746168673038483]\n",
      "IN\tIN\tNL-HaNA_1.04.02_1188_0473.jpg\taen Cabo de boâ Esperance.; Savonts even nasons on\t[0.00705043924972415, 0.9748220443725586, 0.01359008438885212, 0.0045374734327197075]\n",
      "END\tEND\tNL-HaNA_1.04.02_1188_0474.jpg\tApril 1652. In't schip den Drommedaris ter Rhede; \t[0.002399762161076069, 0.0025793774984776974, 0.9946991205215454, 0.0003217201738152653]\n"
     ]
    },
    {
     "name": "stderr",
     "output_type": "stream",
     "text": [
      " 33%|███▎      | 7/21 [00:15<00:48,  3.50s/batch]"
     ]
    },
    {
     "name": "stdout",
     "output_type": "stream",
     "text": [
      "BEGIN\tBEGIN\tNL-HaNA_1.04.02_3095_0015.jpg\tRegister der Papieren; werdende versonden per het \t[0.9973479509353638, 0.001519732060842216, 0.00034496470470912755, 0.0007873836439102888]\n",
      "IN\tIN\tNL-HaNA_1.04.02_3095_0016.jpg\t4.; orig: in genaagt, a:o p„o; d'Edele Groot Agtba\t[0.011002984829246998, 0.9798586368560791, 0.0039549823850393295, 0.005183406639844179]\n",
      "IN\tIN\tNL-HaNA_1.04.02_3095_0017.jpg\tN:o 7. Copia Generale Resolutien des Casteels; Bat\t[0.007079663686454296, 0.9857373237609863, 0.0032304590567946434, 0.003952573519200087]\n",
      "IN\tIN\tNL-HaNA_1.04.02_3095_0018.jpg\tCommissien, Memorien,; Jnstructien en z:, welke; v\t[0.00658723758533597, 0.9862956404685974, 0.0031796118710190058, 0.003937535919249058]\n",
      "IN\tIN\tNL-HaNA_1.04.02_3095_0019.jpg\tNo 14. Thien. Gesloten Pacquetten, houdende; de ad\t[0.006393721327185631, 0.9865872263908386, 0.0031691219191998243, 0.00384982256218791]\n",
      "IN\tIN\tNL-HaNA_1.04.02_3095_0020.jpg\tCommissien, Memorien; Jnstructien en z:, weg; van \t[0.006373302545398474, 0.9868044853210449, 0.0030680641066282988, 0.003754151752218604]\n",
      "IN\tIN\tNL-HaNA_1.04.02_3095_0021.jpg\tden Raad ten evengemelde; Gouvernemente aan als; v\t[0.006692327558994293, 0.9865283966064453, 0.0030132841784507036, 0.0037660268135368824]\n",
      "IN\tIN\tNL-HaNA_1.04.02_3095_0022.jpg\tBengale zyn vertrokken; zynde dit paquet gelegt; i\t[0.006065549794584513, 0.9867148995399475, 0.003041535150259733, 0.004178041126579046]\n",
      "IN\tIN\tNL-HaNA_1.04.02_3095_0023.jpg\tGouverneur van Malacca; Mr. Thomas Schippers; als \t[0.006694365292787552, 0.9865686893463135, 0.0030886505264788866, 0.0036483164876699448]\n",
      "IN\tIN\tNL-HaNA_1.04.02_3095_0024.jpg\tdit berigt nog niet; ingekomen zijnde; zal bij nad\t[0.006429215427488089, 0.9867621064186096, 0.003072126302868128, 0.0037365425378084183]\n",
      "IN\tIN\tNL-HaNA_1.04.02_3095_0025.jpg\tN:o 22. Copia Berigt vande Administra„; teurs inde\t[0.006344360765069723, 0.9868006706237793, 0.0030791189055889845, 0.0037758639082312584]\n",
      "IN\tIN\tNL-HaNA_1.04.02_3095_0026.jpg\tde met verscheide scheepen; aangebragte Manufactuu\t[0.006176245864480734, 0.9869567155838013, 0.003088109428063035, 0.0037788928020745516]\n",
      "IN\tIN\tNL-HaNA_1.04.02_3095_0027.jpg\ten 1769. van Cochim overge; sonden, waarbij densel\t[0.006416269112378359, 0.9867696762084961, 0.0030813252087682486, 0.0037327175959944725]\n",
      "IN\tIN\tNL-HaNA_1.04.02_3095_0028.jpg\tN:o 28 Drie Copia Berigten van eevengem:; E: Honti\t[0.006999163888394833, 0.986409068107605, 0.002973830560222268, 0.0036180177703499794]\n",
      "IN\tIN\tNL-HaNA_1.04.02_3095_0029.jpg\tN:o 30 Copia Request door den advocaat M:r Jacob; \t[0.006800057832151651, 0.9865830540657043, 0.0029915287159383297, 0.003625325858592987]\n",
      "IN\tIN\tNL-HaNA_1.04.02_3095_0030.jpg\tsComp:s wapenkamer Reisich; en Expresse gecommitte\t[0.006326822564005852, 0.9867299795150757, 0.0031631761230528355, 0.0037800283171236515]\n",
      "IN\tIN\tNL-HaNA_1.04.02_3095_0031.jpg\tN:o 35. Een Exomplaar van het Generaal Re„; 1 glem\t[0.005622537806630135, 0.9864202737808228, 0.00373760680668056, 0.004219442140311003]\n",
      "IN\tIN\tNL-HaNA_1.04.02_3095_0032.jpg\tN:o 38. Tes origineele; Actens van Indem; & niteil\t[0.006629622541368008, 0.986665666103363, 0.0029874243773519993, 0.003717198735103011]\n",
      "IN\tIN\tNL-HaNA_1.04.02_3095_0033.jpg\tN:o 40. Vier Turksche Passen vande afgelegde en; v\t[0.006736454553902149, 0.9865357279777527, 0.003033460583537817, 0.0036942465230822563]\n",
      "IN\tIN\tNL-HaNA_1.04.02_3095_0034.jpg\tGeneraalen Eisch van behoeftens uijt; No 44; Neder\t[0.006650958675891161, 0.9865102171897888, 0.003035399131476879, 0.003803424071520567]\n",
      "IN\tIN\tNL-HaNA_1.04.02_3095_0035.jpg\tN:o 49 Generaal Rendement vande verkogte; 1 onbesc\t[0.007453239988535643, 0.9859628081321716, 0.0031695577781647444, 0.003414412261918187]\n",
      "IN\tIN\tNL-HaNA_1.04.02_3095_0036.jpg\tN: 53. Maandelyksche Restanten inde; groote geldka\t[0.0087971743196249, 0.9773269295692444, 0.009408692829310894, 0.004467166494578123]\n",
      "END\tEND\tNL-HaNA_1.04.02_3095_0037.jpg\tN:o 57: Sommarium van het geladene in tien; Retoúr\t[0.002515267115086317, 0.0026781160850077868, 0.9944666028022766, 0.0003400323912501335]\n"
     ]
    },
    {
     "name": "stderr",
     "output_type": "stream",
     "text": [
      " 38%|███▊      | 8/21 [00:17<00:36,  2.82s/batch]"
     ]
    },
    {
     "name": "stdout",
     "output_type": "stream",
     "text": [
      "BEGIN\tBEGIN\tNL-HaNA_1.04.02_2356_0028.jpg\tMocha den 15 augustus 1734:; Van; Mocha onder Dato\t[0.997373104095459, 0.00151030661072582, 0.0003403750597499311, 0.0007762020104564726]\n",
      "IN\tIN\tNL-HaNA_1.04.02_2356_0029.jpg\tVan Bovia onder dato 15 augustus 1734; Van; Colba \t[0.01098336186259985, 0.9798691868782043, 0.003955919295549393, 0.005191654898226261]\n",
      "IN\tIN\tNL-HaNA_1.04.02_2356_0030.jpg\tSacha Onder Dato 15. Aug: 1734; Van; Cocha onder D\t[0.00709175830706954, 0.9857333898544312, 0.0032318143639713526, 0.003943051211535931]\n",
      "IN\tIN\tNL-HaNA_1.04.02_2356_0031.jpg\tVan Mocha onder dato 15 aug:s 1734; Van; Mocha ond\t[0.006620791740715504, 0.9862863421440125, 0.0031834428664296865, 0.00390944629907608]\n",
      "IN\tIN\tNL-HaNA_1.04.02_2356_0032.jpg\tCocha onder dato 18 Augutus 1744; Van; Augustus; V\t[0.0063929990865290165, 0.9865872263908386, 0.0031675901263952255, 0.0038521841634064913]\n",
      "IN\tIN\tNL-HaNA_1.04.02_2356_0033.jpg\tVan Norsa onder dato 15 Aug 1734:; Van Mocha onder\t[0.00638764351606369, 0.9867982268333435, 0.0030689837876707315, 0.0037451828829944134]\n",
      "IN\tIN\tNL-HaNA_1.04.02_2356_0034.jpg\tVan Cocha onder Dato 15 Augustus 1734.; Mocha onde\t[0.00667288014665246, 0.9865387678146362, 0.003023347118869424, 0.003764945548027754]\n",
      "IN\tIN\tNL-HaNA_1.04.02_2356_0035.jpg\tVan Mocha onder dato 15 August: 1734; Van Norsa on\t[0.006133516319096088, 0.9866859912872314, 0.003012651577591896, 0.004167856182903051]\n",
      "IN\tIN\tNL-HaNA_1.04.02_2356_0036.jpg\tCoisa onder Dato 15 aug:s 1734:; Van; Cocha onder \t[0.006718072108924389, 0.9865542650222778, 0.0030879280529916286, 0.0036397420335561037]\n",
      "IN\tIN\tNL-HaNA_1.04.02_2356_0037.jpg\tCoist onder Dato 15 Aug 1734; G; Van; 1; Van Moiba\t[0.006456904113292694, 0.9867469072341919, 0.0030664238147437572, 0.003729806048795581]\n",
      "IN\tIN\tNL-HaNA_1.04.02_2356_0038.jpg\tMosa onder dato 15:' Aug:s 1734; Van Mocha onder D\t[0.006362497340887785, 0.986788809299469, 0.003089221892878413, 0.0037595038302242756]\n",
      "IN\tIN\tNL-HaNA_1.04.02_2356_0039.jpg\tMocha onder Dato 15 aug: 1734; Mocha onder Dato 15\t[0.006179376505315304, 0.9869561195373535, 0.003092508064582944, 0.0037719665560871363]\n",
      "IN\tIN\tNL-HaNA_1.04.02_2356_0040.jpg\tCocha onder dato 15 aug: 1734; G; Van; Van Mocha o\t[0.0064475880935788155, 0.9867558479309082, 0.0030817314982414246, 0.0037147493567317724]\n",
      "IN\tIN\tNL-HaNA_1.04.02_2356_0041.jpg\tVan Mocha onder Dato 15 augus: 1734; Mocha onder D\t[0.007007404696196318, 0.9864051342010498, 0.0029717120341956615, 0.0036156782880425453]\n",
      "IN\tIN\tNL-HaNA_1.04.02_2356_0042.jpg\tMocha onder Dato 15 Augustus 1734.; G; 1; Van; och\t[0.006833366118371487, 0.9865560531616211, 0.00299327471293509, 0.003617389127612114]\n",
      "IN\tIN\tNL-HaNA_1.04.02_2356_0043.jpg\tMocha onder dato 15 augustus 1734; Van Mocha onder\t[0.00632995693013072, 0.9867298603057861, 0.0031648261938244104, 0.0037753696087747812]\n",
      "IN\tIN\tNL-HaNA_1.04.02_2356_0044.jpg\tMoesa onder dato 15 Augustus 1734; Van Mocha onder\t[0.005668738856911659, 0.9864438772201538, 0.0037022503092885017, 0.004185142926871777]\n",
      "IN\tIN\tNL-HaNA_1.04.02_2356_0045.jpg\tMocha onder Dato 15 Augustus 1734.; Van; Schenkagi\t[0.0066710892133414745, 0.9866437315940857, 0.0029786769300699234, 0.0037064258940517902]\n",
      "IN\tIN\tNL-HaNA_1.04.02_2356_0046.jpg\tDetraordinarij Ongelden 1733/7; Cocha onder Dato 1\t[0.006788395810872316, 0.9865080118179321, 0.0030235613230615854, 0.0036801020614802837]\n",
      "IN\tIN\tNL-HaNA_1.04.02_2356_0047.jpg\tMocha onder dato 15 aug 1734; Van; Van Mocha onder\t[0.006664997432380915, 0.9865002036094666, 0.0030381877440959215, 0.00379664683714509]\n",
      "IN\tIN\tNL-HaNA_1.04.02_2356_0048.jpg\tBocha onder Dato 15 Augs 1734; Van Mocha onder Dat\t[0.007501071784645319, 0.9859156608581543, 0.00317986193113029, 0.003403468756005168]\n",
      "IN\tIN\tNL-HaNA_1.04.02_2356_0049.jpg\tocha onder Dato 15 augus: 1734.; 7; Van Mocha onde\t[0.00874277576804161, 0.9773784875869751, 0.009403609670698643, 0.004475156776607037]\n",
      "END\tEND\tNL-HaNA_1.04.02_2356_0050.jpg\tMocha onder Dato 15 aug:s 1734.; Van; ƒ; Mocha ond\t[0.0025143625680357218, 0.0026769540272653103, 0.9944688081741333, 0.00033988646464422345]\n"
     ]
    },
    {
     "name": "stderr",
     "output_type": "stream",
     "text": [
      " 48%|████▊     | 10/21 [00:17<00:16,  1.54s/batch]"
     ]
    },
    {
     "name": "stdout",
     "output_type": "stream",
     "text": [
      "BEGIN\tBEGIN\tNL-HaNA_1.04.02_1432_1553.jpg\tvan d' Eel Ed=le Heeren d' Respective; heeren Bewi\t[0.9969754219055176, 0.0018071829108521342, 0.0004107239656150341, 0.0008066385635174811]\n",
      "IN\tIN\tNL-HaNA_1.04.02_1432_1554.jpg\tdeductie der Complotterie quam te bemelk; deselve \t[0.012651054188609123, 0.978402316570282, 0.0039916327223181725, 0.004955015145242214]\n",
      "IN\tIN\tNL-HaNA_1.04.02_1432_1555.jpg\toff tot verantwoording vant gene ik van; ter sijde\t[0.008803027682006359, 0.9773945808410645, 0.009584642946720123, 0.004217817913740873]\n",
      "END\tEND\tNL-HaNA_1.04.02_1432_1556.jpg\tniet te importimeeren, desen eijndige; ende, naar \t[0.002474740846082568, 0.002480891766026616, 0.9947323799133301, 0.0003119643952231854]\n",
      "BEGIN\tBEGIN\tNL-HaNA_1.04.02_1105_0667.jpg\tErntseste, wise, voor sinnige, ende seer discrete \t[0.9976498484611511, 0.001440392923541367, 0.0003288624284323305, 0.0005809283466078341]\n",
      "IN\tIN\tNL-HaNA_1.04.02_1105_0668.jpg\tende nae gissinge 280 mijllen, vant Eijlant St Pau\t[0.016568144783377647, 0.966116189956665, 0.011495709419250488, 0.005820035468786955]\n",
      "END\tEND\tNL-HaNA_1.04.02_1105_0669.jpg\tadij 7en. novemb. a o 1632, seijlres; Hoege ende l\t[0.002615095116198063, 0.0021043422166258097, 0.9949813485145569, 0.000299245526548475]\n"
     ]
    },
    {
     "name": "stderr",
     "output_type": "stream",
     "text": [
      " 57%|█████▋    | 12/21 [00:18<00:07,  1.16batch/s]"
     ]
    },
    {
     "name": "stdout",
     "output_type": "stream",
     "text": [
      "BEGIN\tBEGIN\tNL-HaNA_1.04.02_3952_0232.jpg\tMoegle in Bengale; den 2e January 1793.; Hemels aa\t[0.997748076915741, 0.0013548285933211446, 0.00027585981297306716, 0.000621267594397068]\n",
      "IN\tIN\tNL-HaNA_1.04.02_3952_0233.jpg\tgeweezene Ffiscaal is opgelegd de vergoe¬; „ding v\t[0.011073697358369827, 0.9799070358276367, 0.003965537529438734, 0.005053671542555094]\n",
      "IN\tIN\tNL-HaNA_1.04.02_3952_0234.jpg\tdat het daar voor meerder, opgebragte ook; waarach\t[0.008179116994142532, 0.984310507774353, 0.0036651084665209055, 0.003845332656055689]\n",
      "IN\tIN\tNL-HaNA_1.04.02_3952_0235.jpg\tMaatschappy als een waarborg voor; de hem opgelegd\t[0.006699105724692345, 0.9863920211791992, 0.0031960601918399334, 0.003712857374921441]\n",
      "IN\tIN\tNL-HaNA_1.04.02_3952_0236.jpg\tzwaar drukkende restitutie, zo wel als die; hem in\t[0.00706248776987195, 0.9859027862548828, 0.0033831908367574215, 0.0036514527164399624]\n",
      "IN\tIN\tNL-HaNA_1.04.02_3952_0237.jpg\tzeer kostbaar is, en hem de middelen ont„; „breeke\t[0.006279861554503441, 0.9859299063682556, 0.004136836156249046, 0.003653371473774314]\n",
      "IN\tIN\tNL-HaNA_1.04.02_3952_0238.jpg\tSamuel Radermacher en; Somma van Sa. ro 3200 te st\t[0.007909467443823814, 0.9725130796432495, 0.014948136173188686, 0.004629259463399649]\n",
      "END\tEND\tNL-HaNA_1.04.02_3952_0239.jpg\tExtract uit als vooren; op; Maandag den 26:e Novem\t[0.0024388988967984915, 0.0025139960926026106, 0.9947230815887451, 0.00032395918969996274]\n",
      "BEGIN\tBEGIN\tNL-HaNA_1.04.02_1147_0807.jpg\tInden Name Godes Amen, Cout ende; kennelijck zij e\t[0.9977850914001465, 0.001344126183539629, 0.00032260658917948604, 0.0005482126143760979]\n",
      "IN\tIN\tNL-HaNA_1.04.02_1147_0808.jpg\tmetten anderen tot zijnder gedachtenisse sullen; v\t[0.018325837329030037, 0.962668776512146, 0.013008098118007183, 0.005997301544994116]\n",
      "END\tEND\tNL-HaNA_1.04.02_1147_0809.jpg\td' h:ren weesmeesteren, als oock andere magistrate\t[0.002627935726195574, 0.002066354500129819, 0.9950108528137207, 0.000294893718091771]\n"
     ]
    },
    {
     "name": "stderr",
     "output_type": "stream",
     "text": [
      " 62%|██████▏   | 13/21 [00:20<00:09,  1.25s/batch]"
     ]
    },
    {
     "name": "stdout",
     "output_type": "stream",
     "text": [
      "BEGIN\tBEGIN\tNL-HaNA_1.04.02_1509_1538.jpg\tMonsterolle van alle sComp:s Loontreckende; Monste\t[0.9974421262741089, 0.0015362566336989403, 0.00031527093960903585, 0.0007063784869387746]\n",
      "IN\tIN\tNL-HaNA_1.04.02_1509_1539.jpg\tdienaren dewelcke in't Cormandelse Gouvernement bi\t[0.010951544158160686, 0.980018675327301, 0.0038943837862461805, 0.005135370884090662]\n",
      "IN\tIN\tNL-HaNA_1.04.02_1509_1540.jpg\t339. en 35. persoonen p=r Transport. —; Namen, Toe\t[0.007080558221787214, 0.9856894016265869, 0.0032154121436178684, 0.004014668520539999]\n",
      "IN\tIN\tNL-HaNA_1.04.02_1509_1541.jpg\t90; d=o.. . ..; Adsistent; Chirurgijn. . . . ƒ 36.\t[0.007097168359905481, 0.986040472984314, 0.0031846105121076107, 0.0036777949426323175]\n",
      "IN\tIN\tNL-HaNA_1.04.02_1509_1542.jpg\t339 en 74. persoonen P=r Transport; Namen, Toename\t[0.0062438612803816795, 0.9863752722740173, 0.0034163198433816433, 0.003964453469961882]\n",
      "IN\tIN\tNL-HaNA_1.04.02_1509_1543.jpg\tsiekevaar. . . ƒ 20. walcheren. . . . . 1662. Zeel\t[0.006895636674016714, 0.9861722588539124, 0.0032827728427946568, 0.0036492757499217987]\n",
      "IN\tIN\tNL-HaNA_1.04.02_1509_1544.jpg\t339. en 113. persoonen P=r Transport.; Namen, Toen\t[0.006358678452670574, 0.9866673350334167, 0.003068090882152319, 0.0039059522096067667]\n",
      "IN\tIN\tNL-HaNA_1.04.02_1509_1545.jpg\tp:l timmerman. ƒ 11. d' bergh China. . . 1682. Ams\t[0.0065867844969034195, 0.9866416454315186, 0.003091622842475772, 0.003679840825498104]\n",
      "IN\tIN\tNL-HaNA_1.04.02_1509_1546.jpg\t339. en 155. persoonen P=r Transport; 1. Abraham f\t[0.0059594507329165936, 0.9868263006210327, 0.003183252876624465, 0.004030968993902206]\n",
      "IN\tIN\tNL-HaNA_1.04.02_1509_1547.jpg\t90; 90; 90; 90; D=o; d=o; 90; D=o; 90; 90; D=o; D=\t[0.006120806559920311, 0.9868996143341064, 0.0032058486249297857, 0.003773745382204652]\n",
      "IN\tIN\tNL-HaNA_1.04.02_1509_1548.jpg\t339. en 195. persoonen P=r Transport —; Namen, Toe\t[0.00651091942563653, 0.9867495894432068, 0.003058005589991808, 0.0036814562045037746]\n",
      "IN\tIN\tNL-HaNA_1.04.02_1509_1549.jpg\t90; 90; 90; 40; 90; D=; D=o; D=o; D=o; D=o; D=o; 9\t[0.006314520258456469, 0.9868415594100952, 0.0031333814840763807, 0.003710460150614381]\n",
      "IN\tIN\tNL-HaNA_1.04.02_1509_1550.jpg\t339. en 236. persoonen p=r Transport; Namen, Toena\t[0.005724166054278612, 0.9860683679580688, 0.004108319524675608, 0.0040990933775901794]\n",
      "IN\tIN\tNL-HaNA_1.04.02_1509_1551.jpg\tdo.; 90; do; 90; do; do; 90; 90; 90; D=o. . . . „;\t[0.006232071667909622, 0.9869404435157776, 0.0031163417734205723, 0.0037110743578523397]\n",
      "IN\tIN\tNL-HaNA_1.04.02_1509_1552.jpg\t339. en 278. persoonen P=r Transport; Namen, Toena\t[0.006258167792111635, 0.9868535995483398, 0.0030604940839111805, 0.003827751148492098]\n",
      "IN\tIN\tNL-HaNA_1.04.02_1509_1553.jpg\tw:t p:r met wat schip in india; presente qualitijt\t[0.005952081643044949, 0.9865652918815613, 0.0034869161900132895, 0.003995678853243589]\n",
      "IN\tIN\tNL-HaNA_1.04.02_1509_1554.jpg\t339. en 320. persoonen p=r Transport; Namen, Toena\t[0.0067818365059792995, 0.986297607421875, 0.003144818590953946, 0.003775731660425663]\n",
      "IN\tIN\tNL-HaNA_1.04.02_1509_1555.jpg\tCommand:r te water en te; noorder Cormandel; „coop\t[0.00630880706012249, 0.9868489503860474, 0.003094905521720648, 0.003747390117496252]\n",
      "IN\tIN\tNL-HaNA_1.04.02_1509_1556.jpg\t356. persoonen p=r Transport; Namen toenamen en ge\t[0.006400488782674074, 0.9866815805435181, 0.002988459775224328, 0.003929560072720051]\n",
      "IN\tIN\tNL-HaNA_1.04.02_1509_1557.jpg\tw:t p:r met wat schip in jndia..; presente qualiti\t[0.006440936122089624, 0.9866994619369507, 0.0031876021530479193, 0.0036720263306051493]\n",
      "IN\tIN\tNL-HaNA_1.04.02_1509_1558.jpg\t391. persoonen p:r transport; Namen, Toenamen, en \t[0.006120923440903425, 0.9869316220283508, 0.0030404499266296625, 0.003907024394720793]\n",
      "IN\tIN\tNL-HaNA_1.04.02_1509_1559.jpg\tw:t p:r met wat schip in; presente qualitijt. maen\t[0.00675033126026392, 0.9865732192993164, 0.0030072396621108055, 0.0036692253779619932]\n",
      "IN\tIN\tNL-HaNA_1.04.02_1509_1560.jpg\tNamen Toenamen en Geboorte plaatsen; 1. bastiaan I\t[0.006194166373461485, 0.9869181513786316, 0.003059728303924203, 0.003828023560345173]\n",
      "IN\tIN\tNL-HaNA_1.04.02_1509_1561.jpg\tw:t p:r met wat schip in jndia/; presente qualitij\t[0.00674679409712553, 0.986498236656189, 0.0030574598349630833, 0.0036974104586988688]\n",
      "IN\tIN\tNL-HaNA_1.04.02_1509_1562.jpg\t464. persoonen p:r transport; Namen Toenamen en Ge\t[0.006487826816737652, 0.9868665933609009, 0.0030055418610572815, 0.0036399918608367443]\n",
      "IN\tIN\tNL-HaNA_1.04.02_1509_1563.jpg\tp:r coopm: en opperh:t van; tegenep: en p:r novo: \t[0.0063963038846850395, 0.9868040680885315, 0.0030771580059081316, 0.0037224898114800453]\n",
      "IN\tIN\tNL-HaNA_1.04.02_1509_1564.jpg\t504. persoonen p=r Transport; Namen, Toenamen, en \t[0.006344675552099943, 0.9868228435516357, 0.003122915280982852, 0.0037096061278134584]\n",
      "IN\tIN\tNL-HaNA_1.04.02_1509_1565.jpg\tw:t p:r met wat schip in; presente qualitijt maent\t[0.006475431844592094, 0.9867540001869202, 0.003156129503622651, 0.0036143711768090725]\n",
      "IN\tIN\tNL-HaNA_1.04.02_1509_1566.jpg\tOp Nagapatnam zijn nogh bescheijden d'volgende; Bo\t[0.007461546920239925, 0.979093611240387, 0.008964399807155132, 0.004480445291846991]\n",
      "END\tEND\tNL-HaNA_1.04.02_1509_1567.jpg\t103 en 84. persoonen p:r transport; 1. toatongoe v\t[0.002493847394362092, 0.0027541150338947773, 0.9943994879722595, 0.00035255507100373507]\n"
     ]
    },
    {
     "name": "stderr",
     "output_type": "stream",
     "text": [
      " 67%|██████▋   | 14/21 [00:21<00:07,  1.03s/batch]"
     ]
    },
    {
     "name": "stdout",
     "output_type": "stream",
     "text": [
      "BEGIN\tBEGIN\tNL-HaNA_1.04.02_1139_1877.jpg\tAnthonij Poulo gedoot; Gerrit Cornelisen van St. p\t[0.9970325231552124, 0.0017765837255865335, 0.000405643047997728, 0.0007852613343857229]\n",
      "IN\tIN\tNL-HaNA_1.04.02_1139_1878.jpg\tvan t' Schip Schiedam inde boeijen,; Aris Claesz C\t[0.013074134476482868, 0.9779625535011292, 0.00406275037676096, 0.004900532774627209]\n",
      "IN\tIN\tNL-HaNA_1.04.02_1139_1879.jpg\tIn t' Bosch genomen als nu als; dan in t leven end\t[0.009204166941344738, 0.9753046631813049, 0.011189388111233711, 0.004301808774471283]\n",
      "END\tEND\tNL-HaNA_1.04.02_1139_1880.jpg\tInde Boeijen sijn wij noch; 32 personen.; 8 uijt d\t[0.002469070954248309, 0.00247715855948627, 0.9947426319122314, 0.000311090872855857]\n",
      "BEGIN\tBEGIN\tNL-HaNA_1.04.02_1547_0610.jpg\tJ=o W:t Namen toenamen, en geboorte plaatsen... ..\t[0.9970205426216125, 0.0017972049536183476, 0.00041347419028170407, 0.0007687166216783226]\n",
      "IN\tIN\tNL-HaNA_1.04.02_1547_0611.jpg\tder naarvolgende Personen; ultimo Iunij (agtervolg\t[0.013077722862362862, 0.9779418110847473, 0.004098966252058744, 0.0048813894391059875]\n",
      "IN\tIN\tNL-HaNA_1.04.02_1547_0612.jpg\t32. Coppen P„r Transport van d' andere seijde. —; \t[0.009463312104344368, 0.9745579361915588, 0.011679435148835182, 0.004299331922084093]\n",
      "END\tEND\tNL-HaNA_1.04.02_1547_0613.jpg\tIn't schip Cortgene den 30=en Iunij Anno 1694. —; \t[0.002474020468071103, 0.0024745692498981953, 0.9947401881217957, 0.0003112779522780329]\n"
     ]
    },
    {
     "name": "stderr",
     "output_type": "stream",
     "text": [
      " 81%|████████  | 17/21 [00:21<00:02,  1.79batch/s]"
     ]
    },
    {
     "name": "stdout",
     "output_type": "stream",
     "text": [
      "OUT\tOUT\tNL-HaNA_1.04.02_1547_0662.jpg\t\t[0.003701368346810341, 0.011153489351272583, 0.002482645446434617, 0.9826624393463135]\n",
      "BEGIN\tBEGIN\tNL-HaNA_1.04.02_1547_0663.jpg\t46025: I=s mogta kleeden off chiomen Namentlijk.; \t[0.9964752793312073, 0.0017677899450063705, 0.0003624224627856165, 0.001394449034705758]\n",
      "IN\tIN\tNL-HaNA_1.04.02_1547_0664.jpg\t2921. P=s dubb: hiomas off tesserse pantsia, alle \t[0.008381685242056847, 0.9826903939247131, 0.003722737543284893, 0.005205182824283838]\n",
      "IN\tIN\tNL-HaNA_1.04.02_1547_0665.jpg\tTransport - - - ƒ157645. 1. 4; no; n.; 222: p=s be\t[0.005613864865154028, 0.9872298836708069, 0.0032014944590628147, 0.003954755142331123]\n",
      "IN\tIN\tNL-HaNA_1.04.02_1547_0666.jpg\tP„r Transport . ƒ252638. 9. 6; 1069. 14. 11 „ 4567\t[0.0056681036949157715, 0.9878899455070496, 0.002919183112680912, 0.003522861050441861]\n",
      "IN\tIN\tNL-HaNA_1.04.02_1547_0667.jpg\t79: stx: 9 Moors duk: den 20=en 9b=r met 't fluijt\t[0.00527207599952817, 0.9881505966186523, 0.00300728902220726, 0.003570031840354204]\n",
      "IN\tIN\tNL-HaNA_1.04.02_1547_0668.jpg\tP„r Transport - - - - - 843923. 8. 15; -„ 250. 8. \t[0.005294921342283487, 0.9881567358970642, 0.0030294901225715876, 0.003518815850839019]\n",
      "IN\tIN\tNL-HaNA_1.04.02_1547_0669.jpg\tTransport ƒ91051. 4. 5; 120: p=s gessiapaats beslo\t[0.005216074641793966, 0.9881488680839539, 0.0030239324551075697, 0.003611136693507433]\n",
      "IN\tIN\tNL-HaNA_1.04.02_1547_0670.jpg\tTransport - - - ƒ 34242. 89; 10 21¾4 8. holl: dama\t[0.005653674248605967, 0.9876720905303955, 0.0030337616335600615, 0.003640456823632121]\n",
      "IN\tIN\tNL-HaNA_1.04.02_1547_0671.jpg\tP„r Transport ƒ442709: 5: 11; 7. kassen en 1. p=lk\t[0.005616974085569382, 0.9878605008125305, 0.003067611949518323, 0.0034548472613096237]\n",
      "IN\tIN\tNL-HaNA_1.04.02_1547_0672.jpg\t„ Transport ƒ46364314:10; 12 p=s metale kanon name\t[0.008042414672672749, 0.9742364287376404, 0.013324233703315258, 0.004397005774080753]\n",
      "END\tEND\tNL-HaNA_1.04.02_1547_0673.jpg\tDoor carsten Jacobsz van vlaandinge oppertimmerman\t[0.0021332527976483107, 0.00253966823220253, 0.9949954748153687, 0.00033162999898195267]\n",
      "OUT\tOUT\tNL-HaNA_1.04.02_1547_0354.jpg\t\t[0.0031547551043331623, 0.009760340675711632, 0.002257879823446274, 0.9848270416259766]\n",
      "BEGIN\tBEGIN\tNL-HaNA_1.04.02_1547_0355.jpg\tMinuit ola door den E Heer; Het de terugh komste v\t[0.9965611100196838, 0.0016644621500745416, 0.00037220746162347496, 0.0014022588729858398]\n",
      "IN\tIN\tNL-HaNA_1.04.02_1547_0356.jpg\tals vooren door den Ragia; U Dola hebbe ontvangen \t[0.010336766019463539, 0.9807261824607849, 0.0034529888071119785, 0.005484101362526417]\n",
      "IN\tIN\tNL-HaNA_1.04.02_1547_0357.jpg\tis; tot andwoort op uh=rs olees aengaande d' voart\t[0.00605580722913146, 0.9867740869522095, 0.0035496042110025883, 0.0036204734351485968]\n",
      "IN\tIN\tNL-HaNA_1.04.02_1547_0358.jpg\tweegens den handel in ons land en de van 't onser \t[0.007237354759126902, 0.9747530817985535, 0.013264669105410576, 0.004744945093989372]\n",
      "END\tEND\tNL-HaNA_1.04.02_1547_0359.jpg\tUE=ts ola hebbe ontvangen, enden Jnhout verstaan, \t[0.00214475323446095, 0.0026476713828742504, 0.9948651194572449, 0.00034249250893481076]\n",
      "BEGIN\tBEGIN\tNL-HaNA_1.04.02_3577_0658.jpg\tTonoraaae Sima der Artnuuerg en; De Corre Corre Bo\t[0.9973151087760925, 0.0015111155807971954, 0.0007115111802704632, 0.0004622435080818832]\n",
      "END\tEND\tNL-HaNA_1.04.02_3577_0659.jpg\tAmmunitie Goederen, waar meede de Ondervolgende Co\t[0.003141460008919239, 0.00167427072301507, 0.9949092268943787, 0.000275040278211236]\n"
     ]
    },
    {
     "name": "stderr",
     "output_type": "stream",
     "text": [
      " 90%|█████████ | 19/21 [00:22<00:00,  2.20batch/s]"
     ]
    },
    {
     "name": "stdout",
     "output_type": "stream",
     "text": [
      "BEGIN\tBEGIN\tNL-HaNA_1.04.02_1072_0179.jpg\tLegatten ende clein vaestngen nooducs; voor Banda.\t[0.9972061514854431, 0.0016327535267919302, 0.0003721415705513209, 0.0007889929111115634]\n",
      "IN\tIN\tNL-HaNA_1.04.02_1072_0180.jpg\tJacht van Banda, van daer bij oostlycke; monssor n\t[0.011204724200069904, 0.9797572493553162, 0.004032177850604057, 0.005005925428122282]\n",
      "IN\tIN\tNL-HaNA_1.04.02_1072_0181.jpg\tinsolentien vande Bandanesen.; Moordadus feit van \t[0.007464708760380745, 0.9854023456573486, 0.0032674826215952635, 0.0038654152303934097]\n",
      "IN\tIN\tNL-HaNA_1.04.02_1072_0182.jpg\tvoornemen van den Goum: Generel; tegens Banda.; pa\t[0.006870764307677746, 0.9862992167472839, 0.0032101941760629416, 0.003619859926402569]\n",
      "IN\tIN\tNL-HaNA_1.04.02_1072_0183.jpg\tvermeerden & versterckt.; met weymis costen voorde\t[0.006249531172215939, 0.9864282011985779, 0.0036167390644550323, 0.0037054994609206915]\n",
      "IN\tIN\tNL-HaNA_1.04.02_1072_0184.jpg\tvoor gamnisoeren.; Langewers dierstus tot tochten.\t[0.00841083936393261, 0.9771150350570679, 0.009854121133685112, 0.00462003331631422]\n",
      "END\tEND\tNL-HaNA_1.04.02_1072_0185.jpg\tAchtbare Erentfeste Manhaefte zeer wijse voerhieni\t[0.002449566964060068, 0.0026509531307965517, 0.99457186460495, 0.0003275203052908182]\n"
     ]
    },
    {
     "name": "stderr",
     "output_type": "stream",
     "text": [
      " 95%|█████████▌| 20/21 [00:23<00:00,  1.78batch/s]"
     ]
    },
    {
     "name": "stdout",
     "output_type": "stream",
     "text": [
      "OUT\tOUT\tNL-HaNA_1.04.02_1547_0097.jpg\t\t[0.0024918601848185062, 0.010693737305700779, 0.002333863405510783, 0.9844805598258972]\n",
      "OUT\tOUT\tNL-HaNA_1.04.02_1547_0098.jpg\t\t[0.001568082720041275, 0.00829284731298685, 0.0018177498131990433, 0.9883213639259338]\n",
      "BEGIN\tBEGIN\tNL-HaNA_1.04.02_1547_0099.jpg\tuwe; Hoog Edele agtb: gebiedende Heere en Heeren; \t[0.995026171207428, 0.002068228553980589, 0.00045953557128086686, 0.0024460754357278347]\n",
      "IN\tIN\tNL-HaNA_1.04.02_1547_0100.jpg\theen mne  dn d n n lel een w en de e sou co  an d;\t[0.00914937723428011, 0.9708470702171326, 0.004106663167476654, 0.01589682325720787]\n",
      "IN\tIN\tNL-HaNA_1.04.02_1547_0101.jpg\tte Nambedle, den prince Cartadavile, en Moerianato\t[0.006321579217910767, 0.9867390394210815, 0.0029649375937879086, 0.003974375780671835]\n",
      "IN\tIN\tNL-HaNA_1.04.02_1547_0102.jpg\twerden; war op de ehien anmandijn lae telkens tot \t[0.004644239787012339, 0.9876202940940857, 0.003116086358204484, 0.004619344137609005]\n",
      "IN\tIN\tNL-HaNA_1.04.02_1547_0103.jpg\t41; Mallabaar soude konnen doen, waarop sijnEe zal\t[0.005517598241567612, 0.9881482720375061, 0.002774058608338237, 0.0035599973052740097]\n",
      "IN\tIN\tNL-HaNA_1.04.02_1547_0104.jpg\top Cochim benrogener aalewinsten des heevd Cochim \t[0.0054901354014873505, 0.9872128367424011, 0.0038742676842957735, 0.0034227618016302586]\n",
      "IN\tIN\tNL-HaNA_1.04.02_1547_0105.jpg\t42; moerlikeden raelde den presenten desolaaten to\t[0.008368287235498428, 0.7940129637718201, 0.19009213149547577, 0.0075265830382704735]\n",
      "END\tEND\tNL-HaNA_1.04.02_1547_0106.jpg\tgemerktaan dienkant moogelijk meerder vertier van \t[0.001715591293759644, 0.0022508662659674883, 0.9957346320152283, 0.00029889430152252316]\n"
     ]
    },
    {
     "name": "stderr",
     "output_type": "stream",
     "text": [
      "100%|██████████| 21/21 [00:27<00:00,  1.33s/batch]"
     ]
    },
    {
     "name": "stdout",
     "output_type": "stream",
     "text": [
      "BEGIN\tBEGIN\tNL-HaNA_1.04.02_1490_0583.jpg\tCopije Secrete Resolutien; genomen bij de Ho: Rege\t[0.9973623156547546, 0.0015661944635212421, 0.00033882528077811003, 0.0007326914346776903]\n",
      "IN\tIN\tNL-HaNA_1.04.02_1490_0584.jpg\tin presentie; van zijn Ed. t te; volbrengen, soo s\t[0.010986301116645336, 0.9798687100410461, 0.003987658303231001, 0.005157343577593565]\n",
      "IN\tIN\tNL-HaNA_1.04.02_1490_0585.jpg\tdat 's Comp. s dienaren en wel voorna„; mentlijk p\t[0.007038549054414034, 0.985831081867218, 0.0032854059245437384, 0.0038450032006949186]\n",
      "IN\tIN\tNL-HaNA_1.04.02_1490_0586.jpg\tbij ons te boeck staen voor niet wel; geintentione\t[0.006331078242510557, 0.9866373538970947, 0.0031721466220915318, 0.003859366523101926]\n",
      "IN\tIN\tNL-HaNA_1.04.02_1490_0587.jpg\tgoetgevonden dat dese ontbiedinge; bij ons gemeen \t[0.006249660160392523, 0.986785352230072, 0.003204730339348316, 0.003760277759283781]\n",
      "IN\tIN\tNL-HaNA_1.04.02_1490_0588.jpg\tschaap harder herwaerts aen te doen; overkomen, ge\t[0.006481838878244162, 0.9867219924926758, 0.0030679155606776476, 0.003728274954482913]\n",
      "IN\tIN\tNL-HaNA_1.04.02_1490_0589.jpg\tmilitie daer in te houden in goede; ordre soo is v\t[0.006564276292920113, 0.9866917133331299, 0.003041025483980775, 0.0037030603270977736]\n",
      "IN\tIN\tNL-HaNA_1.04.02_1490_0590.jpg\tdertig of veertigh persoonen ten; hoogsten; genome\t[0.006025864742696285, 0.9867910146713257, 0.0032807565294206142, 0.003902250900864601]\n",
      "IN\tIN\tNL-HaNA_1.04.02_1490_0591.jpg\twillem van outhoorn, wouter; valkenier, abraham va\t[0.006399137899279594, 0.9867504239082336, 0.0030550232622772455, 0.003795440774410963]\n",
      "IN\tIN\tNL-HaNA_1.04.02_1490_0592.jpg\tsijner goet staende maentgelden; en verdere annexe\t[0.006839666981250048, 0.9864485859870911, 0.002993849338963628, 0.0037178166676312685]\n",
      "IN\tIN\tNL-HaNA_1.04.02_1490_0593.jpg\tmaer sijne valsche betigters; en aenklagers tumput\t[0.006039652973413467, 0.9870043396949768, 0.003210142021998763, 0.0037458594888448715]\n",
      "IN\tIN\tNL-HaNA_1.04.02_1490_0594.jpg\taen uwe Edelhedens, niet; demoedig versoeck, dat u\t[0.005769436247646809, 0.9871897101402283, 0.0031412772368639708, 0.003899667179211974]\n",
      "IN\tIN\tNL-HaNA_1.04.02_1490_0595.jpg\tacte van herstellinge en verdere; ten desen dienen\t[0.006501098163425922, 0.9866461753845215, 0.003069804748520255, 0.0037829005159437656]\n",
      "IN\tIN\tNL-HaNA_1.04.02_1490_0596.jpg\ten omme de france vijanden, soo der; eenige quamen\t[0.0063192578963935375, 0.9867201447486877, 0.0031614929903298616, 0.0037990505807101727]\n",
      "IN\tIN\tNL-HaNA_1.04.02_1490_0597.jpg\tde ridderschap voerende 60. stucken ges:t; waterla\t[0.0063157835975289345, 0.986717700958252, 0.003091390710324049, 0.0038751824758946896]\n",
      "IN\tIN\tNL-HaNA_1.04.02_1490_0598.jpg\tstierlijk pennisten, kranckbesoekers; en chirurgij\t[0.006460710894316435, 0.9865450263023376, 0.0032060418743640184, 0.003788216505199671]\n",
      "IN\tIN\tNL-HaNA_1.04.02_1490_0599.jpg\tvan hier nevens „200.; en uijt 170. Comp:s lijfeij\t[0.006277263164520264, 0.9868292212486267, 0.0029800808988511562, 0.0039133778773248196]\n",
      "IN\tIN\tNL-HaNA_1.04.02_1490_0600.jpg\tsterck 1662. Coppen, daer onder; gerekent, de oude\t[0.0060106487944722176, 0.9869231581687927, 0.0032040744554251432, 0.003862084122374654]\n",
      "IN\tIN\tNL-HaNA_1.04.02_1490_0601.jpg\tbleven met 70. â 80. jnlanders, als; mede ongevaer\t[0.006262983661144972, 0.9867765307426453, 0.003139887470752001, 0.0038205632008612156]\n",
      "IN\tIN\tNL-HaNA_1.04.02_1490_0602.jpg\tsodanig quame te vereijsschen, ende; sonder dat ie\t[0.006468743551522493, 0.9866070747375488, 0.0031875527929514647, 0.00373671087436378]\n",
      "IN\tIN\tNL-HaNA_1.04.02_1490_0603.jpg\tveranderinge ofte bijvoeginge diende; te geschiede\t[0.006180009339004755, 0.9869688153266907, 0.0031170493457466364, 0.003734106197953224]\n",
      "IN\tIN\tNL-HaNA_1.04.02_1490_0604.jpg\tdiscoureren en te verklaren hoe; dat hij bij sig s\t[0.00650011608377099, 0.9868321418762207, 0.0030162418261170387, 0.0036515430547297]\n",
      "IN\tIN\tNL-HaNA_1.04.02_1490_0605.jpg\tquamen overvallen en aentasten:; soo meende sijn E\t[0.005970164202153683, 0.98678058385849, 0.003426375100389123, 0.0038228859193623066]\n",
      "IN\tIN\tNL-HaNA_1.04.02_1490_0606.jpg\tdeselve niet ten proije mogten werden,; wanneer on\t[0.006460678763687611, 0.9868422150611877, 0.0029861428774893284, 0.0037109279073774815]\n",
      "IN\tIN\tNL-HaNA_1.04.02_1490_0607.jpg\tvan meerdere versekeringe mogten; oordelen behoord\t[0.0062156436033546925, 0.9867515563964844, 0.0031050993129611015, 0.003927718382328749]\n",
      "IN\tIN\tNL-HaNA_1.04.02_1490_0608.jpg\tvanden Command:r Sijmon vander; stel, en raed aend\t[0.00650913966819644, 0.986839771270752, 0.002940103178843856, 0.0037109293043613434]\n",
      "IN\tIN\tNL-HaNA_1.04.02_1490_0609.jpg\talthans te deser rhede leggende; zeemagt wel van e\t[0.006659145466983318, 0.9864827990531921, 0.0030527650378644466, 0.0038052049931138754]\n",
      "IN\tIN\tNL-HaNA_1.04.02_1490_0610.jpg\tvan het verleden Iaer, als wanneer; volgens het sp\t[0.006148842163383961, 0.9868980646133423, 0.003096539992839098, 0.0038564451970160007]\n",
      "IN\tIN\tNL-HaNA_1.04.02_1490_0611.jpg\twas, onaengesien het goet succes; der negotie veel\t[0.006597302388399839, 0.9867199063301086, 0.002811312908306718, 0.0038715489208698273]\n",
      "IN\tIN\tNL-HaNA_1.04.02_1490_0612.jpg\twas getekent; als vooren.; willem van Outhoorn,; w\t[0.00637050298973918, 0.9867817759513855, 0.0030754164326936007, 0.0037723269779235125]\n",
      "IN\tIN\tNL-HaNA_1.04.02_1490_0613.jpg\tdat over de saken van Japan aen; dese tafel wierde\t[0.006018960382789373, 0.986809253692627, 0.0032975345384329557, 0.0038741971366107464]\n",
      "IN\tIN\tNL-HaNA_1.04.02_1490_0614.jpg\ttot uijtvindinge van een expedient,; waer door de \t[0.006404380314052105, 0.986816942691803, 0.003065231954678893, 0.003713443875312805]\n",
      "IN\tIN\tNL-HaNA_1.04.02_1490_0615.jpg\ten ons buijten postuer te brengen,; om de dierbare\t[0.006296034436672926, 0.9867472648620605, 0.00310431863181293, 0.0038523939438164234]\n",
      "IN\tIN\tNL-HaNA_1.04.02_1490_0616.jpg\ta:o 1684. wierde geordonneert in; haere herwaerts \t[0.006129325833171606, 0.9866467714309692, 0.0031290221959352493, 0.004094904288649559]\n",
      "IN\tIN\tNL-HaNA_1.04.02_1490_0617.jpg\trijkelijk te konnen versorgen,; mitsgaders het mis\t[0.006141541060060263, 0.9867292642593384, 0.002986453240737319, 0.004142698831856251]\n",
      "IN\tIN\tNL-HaNA_1.04.02_1490_0618.jpg\tgepractiseert geworden is, sullen; moeten doen hou\t[0.006667067762464285, 0.9866623282432556, 0.002996615134179592, 0.003673987928777933]\n",
      "IN\tIN\tNL-HaNA_1.04.02_1490_0619.jpg\tover te steeken, agtervolgens; sodanige Zeijlaes o\t[0.005920570343732834, 0.9865191578865051, 0.003478272119536996, 0.004081980790942907]\n",
      "IN\tIN\tNL-HaNA_1.04.02_1490_0620.jpg\tgecarteert legt, maer dat oock de; stronien inde m\t[0.006031838711351156, 0.9867045879364014, 0.0032746552024036646, 0.003988966345787048]\n",
      "IN\tIN\tNL-HaNA_1.04.02_1490_0621.jpg\tde stranen sig veeltijts daer na; reguleeren van g\t[0.006654459051787853, 0.9866312146186829, 0.003053489373996854, 0.003660784801468253]\n",
      "IN\tIN\tNL-HaNA_1.04.02_1490_0622.jpg\teen weg is, nu wel eenige jaren; van japan na bata\t[0.006534813437610865, 0.986686110496521, 0.0030593255069106817, 0.003719850443303585]\n",
      "IN\tIN\tNL-HaNA_1.04.02_1490_0623.jpg\tten zuijden om beoosten de eijlanden; van natuna o\t[0.005950121209025383, 0.9866965413093567, 0.003160801250487566, 0.004192581865936518]\n",
      "IN\tIN\tNL-HaNA_1.04.02_1490_0624.jpg\tnog een droogte genaemt kleijn; enckhuijser sant, \t[0.006142553873360157, 0.9868854284286499, 0.0030297457706183195, 0.003942275885492563]\n",
      "IN\tIN\tNL-HaNA_1.04.02_1490_0625.jpg\tlange jaren niet voorgevallen is; dat dese coursen\t[0.006141387391835451, 0.9867324233055115, 0.0030511647928506136, 0.004074931610375643]\n",
      "IN\tIN\tNL-HaNA_1.04.02_1490_0626.jpg\tvan siam en Toncquin herwaerts; sullen komen, als \t[0.006122096441686153, 0.9869296550750732, 0.003170282579958439, 0.0037780143320560455]\n",
      "IN\tIN\tNL-HaNA_1.04.02_1490_0627.jpg\tvan een hogre prijse als ordinair; te nootsaeken, \t[0.00632836576551199, 0.9866662621498108, 0.003176917089149356, 0.00382844265550375]\n",
      "IN\tIN\tNL-HaNA_1.04.02_1490_0628.jpg\tals voren. was getekent. . ..; . . . . - Willem va\t[0.005946259014308453, 0.9868605732917786, 0.0033781842794269323, 0.003814870025962591]\n",
      "IN\tIN\tNL-HaNA_1.04.02_1490_0629.jpg\tin eenig emploij van onsien kan; werden gebruijckt\t[0.006668257527053356, 0.9864436388015747, 0.0032816114835441113, 0.0036064900923520327]\n",
      "IN\tIN\tNL-HaNA_1.04.02_1490_0630.jpg\tvoorde schipper aende Tafel en in het; gebet, eeni\t[0.008997946046292782, 0.9732075333595276, 0.012726877816021442, 0.005067688878625631]\n",
      "END\tEND\tNL-HaNA_1.04.02_1490_0631.jpg\tBo0; Secrets.; wee; De bovenstaende secrete resolu\t[0.0025199027732014656, 0.0028294336516410112, 0.9942970871925354, 0.0003535213472787291]\n"
     ]
    },
    {
     "name": "stderr",
     "output_type": "stream",
     "text": [
      "\n"
     ]
    }
   ],
   "source": [
    "import csv\n",
    "import sys\n",
    "\n",
    "from torcheval.metrics import (\n",
    "    MulticlassAccuracy,\n",
    "    MulticlassF1Score,\n",
    "    MulticlassPrecision,\n",
    "    MulticlassRecall,\n",
    ")\n",
    "from tqdm import tqdm\n",
    "\n",
    "from document_segmentation.pagexml.datamodel.label import Label\n",
    "\n",
    "writer = csv.DictWriter(\n",
    "    sys.stdout,\n",
    "    fieldnames=(\"Predicted\", \"Actual\", \"Page ID\", \"Text\", \"Scores\"),\n",
    "    delimiter=\"\\t\",\n",
    ")\n",
    "\n",
    "writer.writeheader()\n",
    "\n",
    "accuracy = MulticlassAccuracy(num_classes=len(Label))\n",
    "precision = MulticlassPrecision(average=None, num_classes=len(Label))\n",
    "recall = MulticlassRecall(average=None, num_classes=len(Label))\n",
    "f1_score = MulticlassF1Score(average=None, num_classes=len(Label))\n",
    "\n",
    "for batch in tqdm(\n",
    "    test_data.batches(BATCH_SIZE), total=test_data.n_batches(BATCH_SIZE), unit=\"batch\"\n",
    "):\n",
    "    predicted = tagger(batch)\n",
    "    labels = batch.labels()\n",
    "\n",
    "    _labels = torch.Tensor([label.value for label in labels]).to(int)\n",
    "    accuracy.update(predicted, _labels)\n",
    "    precision.update(predicted, _labels)\n",
    "    recall.update(predicted, _labels)\n",
    "    f1_score.update(predicted, _labels)\n",
    "\n",
    "    for page, pred, label in zip(batch.pages, predicted, labels):\n",
    "        pred_label = Label(pred.argmax().item())\n",
    "        writer.writerow(\n",
    "            {\n",
    "                \"Predicted\": pred_label.name,\n",
    "                \"Actual\": label.name,\n",
    "                \"Page ID\": page.doc_id,\n",
    "                \"Text\": page.text(delimiter=\"; \")[:50],\n",
    "                \"Scores\": str(pred.tolist()),\n",
    "            }\n",
    "        )"
   ]
  },
  {
   "cell_type": "code",
   "execution_count": 20,
   "metadata": {},
   "outputs": [
    {
     "data": {
      "text/plain": [
       "Counter({<Label.IN: 1>: 1642,\n",
       "         <Label.BEGIN: 0>: 83,\n",
       "         <Label.END: 2>: 80,\n",
       "         <Label.OUT: 3>: 68})"
      ]
     },
     "execution_count": 20,
     "metadata": {},
     "output_type": "execute_result"
    }
   ],
   "source": [
    "training_data._class_counts()"
   ]
  },
  {
   "cell_type": "code",
   "execution_count": 21,
   "metadata": {},
   "outputs": [
    {
     "name": "stdout",
     "output_type": "stream",
     "text": [
      "Metric\tBEGIN\tIN\tEND\tOUT\n",
      "MulticlassPrecision\t1.0000\t1.0000\t1.0000\t1.0000\n",
      "MulticlassRecall\t1.0000\t1.0000\t1.0000\t1.0000\n",
      "MulticlassF1Score\t1.0000\t1.0000\t1.0000\t1.0000\n",
      "Accuracy (micro average):\t1.0000\n"
     ]
    }
   ],
   "source": [
    "writer = csv.DictWriter(\n",
    "    sys.stdout,\n",
    "    fieldnames=[\"Metric\"] + [label.name for label in Label],\n",
    "    delimiter=\"\\t\",\n",
    ")\n",
    "writer.writeheader()\n",
    "\n",
    "for metric in (precision, recall, f1_score):\n",
    "    scores = {\n",
    "        label.name: f\"{score:.4f}\"\n",
    "        for label, score in zip(Label, metric.compute().tolist())\n",
    "    }\n",
    "    writer.writerow({\"Metric\": metric.__class__.__name__} | scores)\n",
    "\n",
    "print(f\"Accuracy ({accuracy.average} average):\\t{accuracy.compute().item():.4f}\")"
   ]
  }
 ],
 "metadata": {
  "kernelspec": {
   "display_name": ".venv",
   "language": "python",
   "name": "python3"
  },
  "language_info": {
   "codemirror_mode": {
    "name": "ipython",
    "version": 3
   },
   "file_extension": ".py",
   "mimetype": "text/x-python",
   "name": "python",
   "nbconvert_exporter": "python",
   "pygments_lexer": "ipython3",
   "version": "3.11.2"
  }
 },
 "nbformat": 4,
 "nbformat_minor": 2
}
