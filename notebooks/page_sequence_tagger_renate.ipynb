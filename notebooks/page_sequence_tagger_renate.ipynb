{
 "cells": [
  {
   "cell_type": "code",
   "execution_count": 1,
   "metadata": {},
   "outputs": [],
   "source": [
    "%load_ext autoreload"
   ]
  },
  {
   "cell_type": "code",
   "execution_count": 2,
   "metadata": {},
   "outputs": [],
   "source": [
    "%autoreload now"
   ]
  },
  {
   "cell_type": "code",
   "execution_count": 3,
   "metadata": {},
   "outputs": [],
   "source": [
    "import os\n",
    "\n",
    "os.environ[\"CUDA_VISIBLE_DEVICES\"] = \"MIG-08137aa2-e69b-5e74-8390-7997329b1336\"\n",
    "os.environ[\"WANDB_API_KEY\"] = \"\""
   ]
  },
  {
   "cell_type": "markdown",
   "metadata": {},
   "source": [
    "# Download and convert data"
   ]
  },
  {
   "cell_type": "code",
   "execution_count": 4,
   "metadata": {},
   "outputs": [],
   "source": [
    "from document_segmentation.pagexml.annotations.renate_analysis import (\n",
    "    RenateAnalysis,\n",
    "    RenateAnalysisInv,\n",
    ")\n",
    "from document_segmentation.pagexml.annotations.sheet import Sheet\n",
    "from document_segmentation.settings import RENATE_ANALYSIS_DIR, RENATE_ANALYSIS_SHEETS\n",
    "\n",
    "sheets: list[Sheet] = [RenateAnalysis()] + [\n",
    "    RenateAnalysisInv(sheet) for sheet in RENATE_ANALYSIS_SHEETS\n",
    "]"
   ]
  },
  {
   "cell_type": "code",
   "execution_count": 5,
   "metadata": {},
   "outputs": [
    {
     "name": "stderr",
     "output_type": "stream",
     "text": [
      "Writing documents: 0doc [00:00, ?doc/s]\n",
      "Writing documents: 100%|██████████| 26/26 [00:11<00:00,  2.36doc/s]\n",
      "Writing documents: 184doc [00:25,  7.32doc/s]                      \n"
     ]
    }
   ],
   "source": [
    "N = None\n",
    "\n",
    "for sheet in sheets:\n",
    "    sheet.download(RENATE_ANALYSIS_DIR, N)"
   ]
  },
  {
   "cell_type": "markdown",
   "metadata": {},
   "source": [
    "# Load Data"
   ]
  },
  {
   "cell_type": "code",
   "execution_count": 6,
   "metadata": {},
   "outputs": [],
   "source": [
    "TRAINING_DATA = 0.8"
   ]
  },
  {
   "cell_type": "code",
   "execution_count": 7,
   "metadata": {},
   "outputs": [
    {
     "name": "stderr",
     "output_type": "stream",
     "text": [
      "Reading JSON files: 100%|██████████| 285/285 [00:01<00:00, 183.94file/s]\n"
     ]
    },
    {
     "data": {
      "text/plain": [
       "285"
      ]
     },
     "execution_count": 7,
     "metadata": {},
     "output_type": "execute_result"
    }
   ],
   "source": [
    "from document_segmentation.model.dataset import DocumentDataset\n",
    "\n",
    "dataset: DocumentDataset = DocumentDataset.from_dir(RENATE_ANALYSIS_DIR)\n",
    "dataset.shuffle()\n",
    "\n",
    "len(dataset)"
   ]
  },
  {
   "cell_type": "code",
   "execution_count": 8,
   "metadata": {},
   "outputs": [
    {
     "data": {
      "text/plain": [
       "Counter({<Label.IN: 1>: 3206,\n",
       "         <Label.BEGIN: 0>: 285,\n",
       "         <Label.END: 2>: 281,\n",
       "         <Label.OUT: 3>: 170})"
      ]
     },
     "execution_count": 8,
     "metadata": {},
     "output_type": "execute_result"
    }
   ],
   "source": [
    "dataset._class_counts()"
   ]
  },
  {
   "cell_type": "code",
   "execution_count": 9,
   "metadata": {},
   "outputs": [
    {
     "data": {
      "text/plain": [
       "[0.9965034965034965,\n",
       " 0.08886810102899906,\n",
       " 1.0106382978723405,\n",
       " 1.6666666666666667]"
      ]
     },
     "execution_count": 9,
     "metadata": {},
     "output_type": "execute_result"
    }
   ],
   "source": [
    "dataset.class_weights()"
   ]
  },
  {
   "cell_type": "code",
   "execution_count": 10,
   "metadata": {},
   "outputs": [],
   "source": [
    "training_data, test_data = dataset.split(TRAINING_DATA)"
   ]
  },
  {
   "cell_type": "code",
   "execution_count": 11,
   "metadata": {},
   "outputs": [
    {
     "data": {
      "text/plain": [
       "Counter({<Label.IN: 1>: 2648,\n",
       "         <Label.BEGIN: 0>: 228,\n",
       "         <Label.END: 2>: 226,\n",
       "         <Label.OUT: 3>: 113})"
      ]
     },
     "execution_count": 11,
     "metadata": {},
     "output_type": "execute_result"
    }
   ],
   "source": [
    "training_data._class_counts()"
   ]
  },
  {
   "cell_type": "code",
   "execution_count": 12,
   "metadata": {},
   "outputs": [
    {
     "data": {
      "text/plain": [
       "Counter({<Label.IN: 1>: 558,\n",
       "         <Label.BEGIN: 0>: 57,\n",
       "         <Label.OUT: 3>: 57,\n",
       "         <Label.END: 2>: 55})"
      ]
     },
     "execution_count": 12,
     "metadata": {},
     "output_type": "execute_result"
    }
   ],
   "source": [
    "test_data._class_counts()"
   ]
  },
  {
   "cell_type": "markdown",
   "metadata": {},
   "source": [
    "# Train Model"
   ]
  },
  {
   "cell_type": "code",
   "execution_count": 13,
   "metadata": {},
   "outputs": [],
   "source": [
    "BATCH_SIZE = 128\n",
    "EPOCHS = 10\n",
    "WEIGHTS = dataset.class_weights()"
   ]
  },
  {
   "cell_type": "code",
   "execution_count": 14,
   "metadata": {},
   "outputs": [],
   "source": [
    "%autoreload now"
   ]
  },
  {
   "cell_type": "code",
   "execution_count": 15,
   "metadata": {},
   "outputs": [],
   "source": [
    "from document_segmentation.model.page_sequence_tagger import PageSequenceTagger\n",
    "\n",
    "tagger = PageSequenceTagger()"
   ]
  },
  {
   "cell_type": "code",
   "execution_count": 16,
   "metadata": {},
   "outputs": [
    {
     "data": {
      "text/plain": [
       "'mps'"
      ]
     },
     "execution_count": 16,
     "metadata": {},
     "output_type": "execute_result"
    }
   ],
   "source": [
    "tagger._device"
   ]
  },
  {
   "cell_type": "code",
   "execution_count": 17,
   "metadata": {},
   "outputs": [
    {
     "data": {
      "text/plain": [
       "PageSequenceTagger(\n",
       "  (_page_embedding): PageEmbedding(\n",
       "    (_region_model): RegionEmbeddingSentenceTransformer(\n",
       "      (_transformer_model): SentenceTransformer(\n",
       "        (0): Transformer({'max_seq_length': 128, 'do_lower_case': False}) with Transformer model: RobertaModel \n",
       "        (1): Pooling({'word_embedding_dimension': 768, 'pooling_mode_cls_token': False, 'pooling_mode_mean_tokens': True, 'pooling_mode_max_tokens': False, 'pooling_mode_mean_sqrt_len_tokens': False, 'pooling_mode_weightedmean_tokens': False, 'pooling_mode_lasttoken': False, 'include_prompt': True})\n",
       "      )\n",
       "      (_region_type): Embedding(9, 16)\n",
       "      (_linear): Linear(in_features=784, out_features=512, bias=True)\n",
       "    )\n",
       "    (_rnn): LSTM(512, 256, num_layers=2, batch_first=True, dropout=0.1, bidirectional=True)\n",
       "    (_linear): Linear(in_features=512, out_features=256, bias=True)\n",
       "  )\n",
       "  (_rnn): LSTM(256, 256, num_layers=2, batch_first=True, dropout=0.1, bidirectional=True)\n",
       "  (_linear): Linear(in_features=512, out_features=4, bias=True)\n",
       "  (_softmax): Softmax(dim=1)\n",
       ")"
      ]
     },
     "execution_count": 17,
     "metadata": {},
     "output_type": "execute_result"
    }
   ],
   "source": [
    "tagger"
   ]
  },
  {
   "cell_type": "code",
   "execution_count": 18,
   "metadata": {},
   "outputs": [
    {
     "name": "stderr",
     "output_type": "stream",
     "text": [
      "ERROR:wandb.jupyter:Failed to detect the name of this notebook, you can set it manually with the WANDB_NOTEBOOK_NAME environment variable to enable code saving.\n",
      "\u001b[34m\u001b[1mwandb\u001b[0m: Currently logged in as: \u001b[33mcarschno\u001b[0m. Use \u001b[1m`wandb login --relogin`\u001b[0m to force relogin\n"
     ]
    },
    {
     "data": {
      "text/html": [
       "Tracking run with wandb version 0.16.4"
      ],
      "text/plain": [
       "<IPython.core.display.HTML object>"
      ]
     },
     "metadata": {},
     "output_type": "display_data"
    },
    {
     "data": {
      "text/html": [
       "Run data is saved locally in <code>/Users/carstenschnober/LAHTeR/workspace/document-segmentation/wandb/run-20240313_113641-h3dxyuyh</code>"
      ],
      "text/plain": [
       "<IPython.core.display.HTML object>"
      ]
     },
     "metadata": {},
     "output_type": "display_data"
    },
    {
     "data": {
      "text/html": [
       "Syncing run <strong><a href='https://wandb.ai/carschno/PageSequenceTagger/runs/h3dxyuyh' target=\"_blank\">olive-snowball-26</a></strong> to <a href='https://wandb.ai/carschno/PageSequenceTagger' target=\"_blank\">Weights & Biases</a> (<a href='https://wandb.me/run' target=\"_blank\">docs</a>)<br/>"
      ],
      "text/plain": [
       "<IPython.core.display.HTML object>"
      ]
     },
     "metadata": {},
     "output_type": "display_data"
    },
    {
     "data": {
      "text/html": [
       " View project at <a href='https://wandb.ai/carschno/PageSequenceTagger' target=\"_blank\">https://wandb.ai/carschno/PageSequenceTagger</a>"
      ],
      "text/plain": [
       "<IPython.core.display.HTML object>"
      ]
     },
     "metadata": {},
     "output_type": "display_data"
    },
    {
     "data": {
      "text/html": [
       " View run at <a href='https://wandb.ai/carschno/PageSequenceTagger/runs/h3dxyuyh' target=\"_blank\">https://wandb.ai/carschno/PageSequenceTagger/runs/h3dxyuyh</a>"
      ],
      "text/plain": [
       "<IPython.core.display.HTML object>"
      ]
     },
     "metadata": {},
     "output_type": "display_data"
    },
    {
     "name": "stderr",
     "output_type": "stream",
     "text": [
      "Training:  19%|█▉        | 43/229 [00:28<01:54,  1.62batch/s]"
     ]
    }
   ],
   "source": [
    "tagger.train_(training_data, EPOCHS, BATCH_SIZE, WEIGHTS)"
   ]
  },
  {
   "cell_type": "code",
   "execution_count": null,
   "metadata": {},
   "outputs": [
    {
     "ename": "FileExistsError",
     "evalue": "[Errno 17] File exists: 'page_sequence_tagger.pt'",
     "output_type": "error",
     "traceback": [
      "\u001b[0;31m---------------------------------------------------------------------------\u001b[0m",
      "\u001b[0;31mFileExistsError\u001b[0m                           Traceback (most recent call last)",
      "Cell \u001b[0;32mIn[20], line 3\u001b[0m\n\u001b[1;32m      1\u001b[0m \u001b[38;5;28;01mimport\u001b[39;00m \u001b[38;5;21;01mtorch\u001b[39;00m\n\u001b[0;32m----> 3\u001b[0m \u001b[38;5;28;01mwith\u001b[39;00m \u001b[38;5;28;43mopen\u001b[39;49m\u001b[43m(\u001b[49m\u001b[38;5;124;43m\"\u001b[39;49m\u001b[38;5;124;43mpage_sequence_tagger.pt\u001b[39;49m\u001b[38;5;124;43m\"\u001b[39;49m\u001b[43m,\u001b[49m\u001b[43m \u001b[49m\u001b[38;5;124;43m\"\u001b[39;49m\u001b[38;5;124;43mxb\u001b[39;49m\u001b[38;5;124;43m\"\u001b[39;49m\u001b[43m)\u001b[49m \u001b[38;5;28;01mas\u001b[39;00m f:\n\u001b[1;32m      4\u001b[0m     torch\u001b[38;5;241m.\u001b[39msave(tagger, f)\n",
      "File \u001b[0;32m~/LAHTeR/workspace/document-segmentation/.venv/lib/python3.11/site-packages/IPython/core/interactiveshell.py:310\u001b[0m, in \u001b[0;36m_modified_open\u001b[0;34m(file, *args, **kwargs)\u001b[0m\n\u001b[1;32m    303\u001b[0m \u001b[38;5;28;01mif\u001b[39;00m file \u001b[38;5;129;01min\u001b[39;00m {\u001b[38;5;241m0\u001b[39m, \u001b[38;5;241m1\u001b[39m, \u001b[38;5;241m2\u001b[39m}:\n\u001b[1;32m    304\u001b[0m     \u001b[38;5;28;01mraise\u001b[39;00m \u001b[38;5;167;01mValueError\u001b[39;00m(\n\u001b[1;32m    305\u001b[0m         \u001b[38;5;124mf\u001b[39m\u001b[38;5;124m\"\u001b[39m\u001b[38;5;124mIPython won\u001b[39m\u001b[38;5;124m'\u001b[39m\u001b[38;5;124mt let you open fd=\u001b[39m\u001b[38;5;132;01m{\u001b[39;00mfile\u001b[38;5;132;01m}\u001b[39;00m\u001b[38;5;124m by default \u001b[39m\u001b[38;5;124m\"\u001b[39m\n\u001b[1;32m    306\u001b[0m         \u001b[38;5;124m\"\u001b[39m\u001b[38;5;124mas it is likely to crash IPython. If you know what you are doing, \u001b[39m\u001b[38;5;124m\"\u001b[39m\n\u001b[1;32m    307\u001b[0m         \u001b[38;5;124m\"\u001b[39m\u001b[38;5;124myou can use builtins\u001b[39m\u001b[38;5;124m'\u001b[39m\u001b[38;5;124m open.\u001b[39m\u001b[38;5;124m\"\u001b[39m\n\u001b[1;32m    308\u001b[0m     )\n\u001b[0;32m--> 310\u001b[0m \u001b[38;5;28;01mreturn\u001b[39;00m \u001b[43mio_open\u001b[49m\u001b[43m(\u001b[49m\u001b[43mfile\u001b[49m\u001b[43m,\u001b[49m\u001b[43m \u001b[49m\u001b[38;5;241;43m*\u001b[39;49m\u001b[43margs\u001b[49m\u001b[43m,\u001b[49m\u001b[43m \u001b[49m\u001b[38;5;241;43m*\u001b[39;49m\u001b[38;5;241;43m*\u001b[39;49m\u001b[43mkwargs\u001b[49m\u001b[43m)\u001b[49m\n",
      "\u001b[0;31mFileExistsError\u001b[0m: [Errno 17] File exists: 'page_sequence_tagger.pt'"
     ]
    }
   ],
   "source": [
    "import torch\n",
    "\n",
    "with open(\"page_sequence_tagger.pt\", \"xb\") as f:\n",
    "    torch.save(tagger, f)"
   ]
  },
  {
   "cell_type": "markdown",
   "metadata": {},
   "source": [
    "# Evaluate Model"
   ]
  },
  {
   "cell_type": "code",
   "execution_count": null,
   "metadata": {},
   "outputs": [
    {
     "name": "stdout",
     "output_type": "stream",
     "text": [
      "Predicted\tActual\tPage ID\tText\tScores\n"
     ]
    },
    {
     "name": "stderr",
     "output_type": "stream",
     "text": [
      "Evaluating:   4%|▎         | 2/57 [00:00<00:19,  2.88batch/s]"
     ]
    },
    {
     "name": "stdout",
     "output_type": "stream",
     "text": [
      "OUT\tBEGIN\tNL-HaNA_1.04.02_1631_0289.jpg\tTwee Copie translaat briefien; door de hofs-groten\t[6.53625278346226e-08, 5.507481546374038e-07, 6.621453962907253e-08, 0.9999992847442627]\n",
      "OUT\tIN\tNL-HaNA_1.04.02_1631_0290.jpg\twederseijdse gesonth:t &:a bestaande :/ gevoerd; z\t[1.3031361767446015e-08, 1.1301094815507895e-07, 1.000465044143084e-08, 0.9999998807907104]\n",
      "OUT\tIN\tNL-HaNA_1.04.02_1631_0291.jpg\tLuijden sig onthielden, en ondervondt; dat die dri\t[1.035660535109173e-08, 8.578255261681988e-08, 7.434924231830564e-09, 0.9999998807907104]\n",
      "OUT\tIN\tNL-HaNA_1.04.02_1631_0292.jpg\tdaarom niet en konden gaan, derhalve; gelieve uEd:\t[9.09468589327389e-09, 7.797535772624542e-08, 7.22600868030554e-09, 0.9999998807907104]\n",
      "OUT\tIN\tNL-HaNA_1.04.02_1631_0293.jpg\tals 't haar maar In de zin quam; baldadigh, en sto\t[1.006208094622707e-08, 7.44559969234615e-08, 7.060126705482617e-09, 0.9999998807907104]\n",
      "OUT\tIN\tNL-HaNA_1.04.02_1631_0294.jpg\thebben verstaan, en begrepen: waar—; na nogh eenig\t[9.530530142853877e-09, 7.731367190899618e-08, 6.935678253938704e-09, 0.9999998807907104]\n",
      "OUT\tIN\tNL-HaNA_1.04.02_1631_0295.jpg\tgedaan opsoeken, om sijn Ed:s met; dit geschenk /:\t[9.315333393544734e-09, 8.062045964152276e-08, 7.529325607436022e-09, 0.9999998807907104]\n",
      "OUT\tIN\tNL-HaNA_1.04.02_1631_0296.jpg\tverwondert te wesen dat hij moddeljaar; soo langh \t[9.513712484476855e-09, 7.653196121282235e-08, 7.123946321740959e-09, 0.9999998807907104]\n",
      "OUT\tIN\tNL-HaNA_1.04.02_1631_0297.jpg\taan haar believen stelden, om dat sij; mogelijk do\t[1.0417546825181034e-08, 8.332491319151814e-08, 7.387343625708809e-09, 0.9999998807907104]\n",
      "OUT\tIN\tNL-HaNA_1.04.02_1631_0298.jpg\tgerrit de heere / van dat hij in 't; opregt en met\t[1.0788018478535832e-08, 7.645653710142142e-08, 7.413484937046633e-09, 0.9999998807907104]\n",
      "OUT\tIN\tNL-HaNA_1.04.02_1631_0299.jpg\tgetrouw en opregtelijck, en met soo; goede genegen\t[1.3921245489711964e-08, 1.0623687529687231e-07, 1.0269191719203263e-08, 0.9999998807907104]\n",
      "OUT\tEND\tNL-HaNA_1.04.02_1631_0300.jpg\top te houden oversulcx deselve, soo sij; genegen w\t[1.0540385630974924e-07, 4.91225250698335e-07, 6.183032752460349e-08, 0.9999994039535522]\n",
      "OUT\tBEGIN\tNL-HaNA_1.04.02_8846_0473.jpg\tVan Cormandel onder dato 27:e 8ber: 1726.; Nederla\t[7.055334094729915e-08, 5.277616423882137e-07, 7.335435725508432e-08, 0.9999994039535522]\n",
      "OUT\tIN\tNL-HaNA_1.04.02_8846_0474.jpg\tVan Cormandel onder dato 27=e 8ber: 1726.; der inl\t[1.906397883999489e-08, 1.3573553303558583e-07, 1.4153830107943577e-08, 0.9999998807907104]\n",
      "OUT\tEND\tNL-HaNA_1.04.02_8846_0475.jpg\tVan Cormandel onder dato 27=e 8ber: 1726.; Agtbaar\t[1.1089399976071945e-07, 5.092452397548186e-07, 6.412301445379853e-08, 0.9999994039535522]\n"
     ]
    },
    {
     "name": "stderr",
     "output_type": "stream",
     "text": [
      "Evaluating:   5%|▌         | 3/57 [00:01<00:23,  2.34batch/s]"
     ]
    },
    {
     "name": "stdout",
     "output_type": "stream",
     "text": [
      "OUT\tBEGIN\tNL-HaNA_1.04.02_1074_0385.jpg\tGeneral wegens de ho. Hoog. Mogende heeren staten;\t[6.229766569276762e-08, 6.046818725735648e-07, 7.96727945839848e-08, 0.9999992847442627]\n",
      "OUT\tIN\tNL-HaNA_1.04.02_1074_0386.jpg\tvolgen de hoofden vant eylant oma; Don George hoof\t[1.1975734182101405e-08, 1.2049828512772365e-07, 1.060981258405036e-08, 0.9999998807907104]\n",
      "OUT\tIN\tNL-HaNA_1.04.02_1074_0387.jpg\tGemerckt onse onderdaennen alreede hier langentyt \t[9.848228010866933e-09, 8.8973749257093e-08, 7.803199864042654e-09, 0.9999998807907104]\n",
      "OUT\tIN\tNL-HaNA_1.04.02_1074_0388.jpg\tVolgen de negrijs staende onder rosseniue; rosseni\t[9.587836302671349e-09, 7.876820973251597e-08, 7.3524542010261484e-09, 0.9999998807907104]\n",
      "OUT\tIN\tNL-HaNA_1.04.02_1074_0389.jpg\tOrangeaya larricca, lamme en baro hebben vangelyck\t[9.263525946323625e-09, 8.726132705305645e-08, 7.16070092110499e-09, 0.9999998807907104]\n",
      "OUT\tIN\tNL-HaNA_1.04.02_1074_0390.jpg\tCasteel souden laten vinden onder beloften dat hy;\t[9.98608129521017e-09, 7.551680170081454e-08, 7.076129016070354e-09, 0.9999998807907104]\n",
      "OUT\tIN\tNL-HaNA_1.04.02_1074_0391.jpg\tDaertoe moveerde deselve ingenaer heeft aengenomen\t[9.332691064400933e-09, 8.769714554546226e-08, 7.506698374015741e-09, 0.9999998807907104]\n",
      "OUT\tIN\tNL-HaNA_1.04.02_1074_0392.jpg\tHy met een houie haere negrij souden affloopen; en\t[9.897036967743134e-09, 8.230782810869641e-08, 7.460863926667116e-09, 0.9999998807907104]\n",
      "OUT\tIN\tNL-HaNA_1.04.02_1074_0393.jpg\tkour; selauwers twee mael by trymola geweest; hadd\t[9.245062493334899e-09, 7.93015431099775e-08, 7.30825888695108e-09, 0.9999998807907104]\n",
      "OUT\tIN\tNL-HaNA_1.04.02_1074_0394.jpg\tTegen alle vranden soo wel te water als telande; a\t[9.223786179290983e-09, 7.802936607959055e-08, 7.242332067391999e-09, 0.9999998807907104]\n",
      "OUT\tIN\tNL-HaNA_1.04.02_1074_0395.jpg\tTgene hem telaste worden geleijt gelyck hier voor;\t[9.31904775569592e-09, 8.030323783714266e-08, 7.534842083600779e-09, 0.9999998807907104]\n",
      "OUT\tIN\tNL-HaNA_1.04.02_1074_0396.jpg\t\t[9.305495041189715e-09, 9.344201856720247e-08, 7.88738585555393e-09, 0.9999998807907104]\n",
      "OUT\tIN\tNL-HaNA_1.04.02_1074_0397.jpg\t\t[1.0732112976086228e-08, 8.97021905643669e-08, 7.846825411661484e-09, 0.9999998807907104]\n",
      "OUT\tIN\tNL-HaNA_1.04.02_1074_0398.jpg\t\t[9.680042545312517e-09, 9.2588486211298e-08, 8.169701359861392e-09, 0.9999998807907104]\n",
      "OUT\tIN\tNL-HaNA_1.04.02_1074_0399.jpg\tEerstelijck sijnne E voor te houden dat d' Ed' Hee\t[1.3799953180182456e-08, 1.0640458469879377e-07, 1.0510612824532473e-08, 0.9999998807907104]\n",
      "OUT\tEND\tNL-HaNA_1.04.02_1074_0400.jpg\top de voors Cust ende onse gehoorsaemheijt gelegen\t[1.056858920378545e-07, 4.990127990822657e-07, 6.295464771710613e-08, 0.9999994039535522]\n"
     ]
    },
    {
     "name": "stderr",
     "output_type": "stream",
     "text": [
      "Evaluating:   7%|▋         | 4/57 [00:01<00:26,  2.00batch/s]"
     ]
    },
    {
     "name": "stdout",
     "output_type": "stream",
     "text": [
      "OUT\tBEGIN\tNL-HaNA_1.04.02_1557_0147.jpg\tVan Palembang Den 10=en April A:o 1694.; N:o 9. fa\t[6.09246981753131e-08, 5.663086994900368e-07, 6.956889109233089e-08, 0.9999992847442627]\n",
      "OUT\tIN\tNL-HaNA_1.04.02_1557_0148.jpg\tVan Palembang Den 10=en April A:o 1694.; de peper \t[1.194856036335068e-08, 1.0624943769244055e-07, 9.970778869217156e-09, 0.9999998807907104]\n",
      "OUT\tIN\tNL-HaNA_1.04.02_1557_0149.jpg\tVan Palembang Den 10=en April A:o 694. —; aanmerki\t[9.93726967379871e-09, 8.040270671472172e-08, 7.65097318833341e-09, 0.9999998807907104]\n",
      "OUT\tIN\tNL-HaNA_1.04.02_1557_0150.jpg\tVan Palembang Den 10=en April A:o 1694.; over de p\t[1.0097070735071156e-08, 7.648337430055108e-08, 7.3477859352522046e-09, 0.9999998807907104]\n",
      "OUT\tIN\tNL-HaNA_1.04.02_1557_0151.jpg\tVan Palembang Den 10=en April A:o 694.; hoedanig h\t[9.374920395543995e-09, 7.658088208017944e-08, 6.994503198853863e-09, 0.9999998807907104]\n",
      "OUT\tIN\tNL-HaNA_1.04.02_1557_0152.jpg\tVan Palembang Den 10=en April A:o 1694.; dog onder\t[1.0359766378087443e-08, 8.546506791162756e-08, 7.526741008234694e-09, 0.9999998807907104]\n",
      "OUT\tIN\tNL-HaNA_1.04.02_1557_0153.jpg\tVan Palembang Den 10=en April A:o 1794.; peper spo\t[1.0145777551429092e-08, 7.367690102455526e-08, 7.063224227721321e-09, 0.9999998807907104]\n",
      "OUT\tIN\tNL-HaNA_1.04.02_1557_0154.jpg\tVan Palembang Den 10=en April A:o 1694.; vertrek v\t[1.0171780751022652e-08, 7.467004081718187e-08, 7.142422653316771e-09, 0.9999998807907104]\n",
      "OUT\tIN\tNL-HaNA_1.04.02_1557_0155.jpg\tVan Palembang Den 10=en April A:o 1694; waar toe e\t[9.890318786176522e-09, 7.569027360432301e-08, 7.154721259894359e-09, 0.9999998807907104]\n",
      "OUT\tIN\tNL-HaNA_1.04.02_1557_0156.jpg\tVan Palembang Den 10=en April A:o 1694.; sekere 3.\t[9.710461768008827e-09, 7.600463902690535e-08, 7.092952447607104e-09, 0.9999998807907104]\n",
      "OUT\tIN\tNL-HaNA_1.04.02_1557_0157.jpg\tVan Palembang Den 10=en; April A:o: 1694.; op Jamb\t[1.0590099464025116e-08, 7.760383624599854e-08, 7.4086932144723505e-09, 0.9999998807907104]\n",
      "OUT\tIN\tNL-HaNA_1.04.02_1557_0158.jpg\tVan Palembang Den 10=en April Ao 1694. —; aanwijsi\t[1.444778074954911e-08, 1.084461302980344e-07, 9.86132864255751e-09, 0.9999998807907104]\n",
      "OUT\tEND\tNL-HaNA_1.04.02_1557_0159.jpg\tVan Palembang Den 10=en April a:o 1694; verstrecki\t[1.0320066934355054e-07, 4.91666298785276e-07, 6.17757436316424e-08, 0.9999994039535522]\n",
      "OUT\tBEGIN\tNL-HaNA_1.04.02_1557_1232.jpg\tVan Sumatras W=t Cust onder dato 4=en xber A=o 169\t[8.869477596817887e-08, 6.768337357243581e-07, 9.175756332524543e-08, 0.9999990463256836]\n",
      "OUT\tEND\tNL-HaNA_1.04.02_1557_1233.jpg\tVan Sumatras W„t Cust onder dato 4=en xber A=o 169\t[1.440870107671799e-07, 6.434687520595617e-07, 8.574927790050424e-08, 0.9999991655349731]\n"
     ]
    },
    {
     "name": "stderr",
     "output_type": "stream",
     "text": [
      "Evaluating:  11%|█         | 6/57 [00:02<00:17,  2.97batch/s]"
     ]
    },
    {
     "name": "stdout",
     "output_type": "stream",
     "text": [
      "OUT\tBEGIN\tNL-HaNA_1.04.02_1557_0078.jpg\tVan Jambij Den 10=en Maart A:o 1694; ontfangen den\t[6.468820146210419e-08, 5.755379106631153e-07, 6.718995138044193e-08, 0.9999992847442627]\n",
      "OUT\tIN\tNL-HaNA_1.04.02_1557_0079.jpg\tVan Jambij Den 10=en Maart A=o 1694.; ontwaren, 't\t[1.3584035229996516e-08, 9.829859948240482e-08, 9.791140342940707e-09, 0.9999998807907104]\n",
      "OUT\tIN\tNL-HaNA_1.04.02_1557_0080.jpg\tVan Jambij Den 10=en Maart Ao 1694.; hingalaga, om\t[9.702205261419294e-09, 8.03170223662164e-08, 7.518361933023243e-09, 0.9999998807907104]\n",
      "OUT\tIN\tNL-HaNA_1.04.02_1557_0081.jpg\tVan Jambij Den 10=en Maart Anno 1694.; der bovelan\t[9.51434753204694e-09, 8.381346106034471e-08, 7.334581830775733e-09, 0.9999998807907104]\n",
      "OUT\tIN\tNL-HaNA_1.04.02_1557_0082.jpg\tVan Jambij Den 10=en Maart A=o 1694.—; 't zij ter \t[9.441729176273839e-09, 7.81680498107562e-08, 7.229882914572272e-09, 0.9999998807907104]\n",
      "OUT\tIN\tNL-HaNA_1.04.02_1557_0083.jpg\tVan Jambij Den 10=en Maart A=o 1694.; Hingalaga me\t[9.23149379161714e-09, 7.91804808386587e-08, 7.019870462698918e-09, 0.9999998807907104]\n",
      "OUT\tIN\tNL-HaNA_1.04.02_1557_0084.jpg\tVan Jambij Den 10:e' Maart A:o 1694.; mosten opbre\t[9.26280208091157e-09, 7.928430534320796e-08, 7.1410060087373495e-09, 0.9999998807907104]\n",
      "OUT\tIN\tNL-HaNA_1.04.02_1557_0085.jpg\tVan Jambij Den 10=en; Maart A=o 1694.; gemaakt, da\t[1.0004555406339932e-08, 8.293201858577959e-08, 7.541284041678864e-09, 0.9999998807907104]\n",
      "OUT\tIN\tNL-HaNA_1.04.02_1557_0086.jpg\tVan Jambij Den 10=en Maart A=o 1694.; aanwijsinge \t[1.4084619692766864e-08, 9.989686589051416e-08, 1.0031669717136538e-08, 0.9999998807907104]\n",
      "OUT\tEND\tNL-HaNA_1.04.02_1557_0087.jpg\tVan Jambij Den 10=en Maart Anno 1694.; naar Pringa\t[1.0378377623965207e-07, 4.878768322669202e-07, 6.188955836705645e-08, 0.9999994039535522]\n"
     ]
    },
    {
     "name": "stderr",
     "output_type": "stream",
     "text": [
      "Evaluating:  12%|█▏        | 7/57 [00:04<00:41,  1.20batch/s]"
     ]
    },
    {
     "name": "stdout",
     "output_type": "stream",
     "text": [
      "OUT\tOUT\tNL-HaNA_1.04.02_1547_0614.jpg\t\t[6.078342806858927e-08, 6.67621520733519e-07, 8.221362435278934e-08, 0.9999991655349731]\n",
      "OUT\tBEGIN\tNL-HaNA_1.04.02_1547_0615.jpg\t\t[1.1508913821955957e-08, 1.309323067744117e-07, 1.106406788409231e-08, 0.9999998807907104]\n",
      "OUT\tIN\tNL-HaNA_1.04.02_1547_0616.jpg\t1: de weduwe van Cornelis verdonck zal=r - - - - -\t[9.95071758325139e-09, 9.219550634043117e-08, 8.429759112971169e-09, 0.9999998807907104]\n",
      "OUT\tIN\tNL-HaNA_1.04.02_1547_0617.jpg\tgeruwde Persoonen met haare familjen,; anur Adriaa\t[8.7588443165032e-09, 8.74190817512499e-08, 8.018013808452906e-09, 0.9999998807907104]\n",
      "OUT\tIN\tNL-HaNA_1.04.02_1547_0618.jpg\t26. huijs gesinnen Naamen toenamen - - - - - - - -\t[8.63116245142237e-09, 8.569195841801047e-08, 7.658726097758972e-09, 0.9999998807907104]\n",
      "OUT\tIN\tNL-HaNA_1.04.02_1547_0619.jpg\tP„r Transport Copper : 348. —; 1: - - - - - - - - \t[8.804049933530678e-09, 8.492168745988238e-08, 7.867462237243217e-09, 0.9999998807907104]\n",
      "OUT\tIN\tNL-HaNA_1.04.02_1547_0620.jpg\t54 huijsgesinnen Namen - - - - - - - - - - - - - -\t[8.678274987516943e-09, 9.403147771536169e-08, 7.629392229091536e-09, 0.9999998807907104]\n",
      "OUT\tIN\tNL-HaNA_1.04.02_1547_0621.jpg\t„r Transport Coppen. —. 591.; 1. 3 5. . . . . . . \t[9.197416162010086e-09, 9.076822493625514e-08, 7.954585434788441e-09, 0.9999998807907104]\n",
      "OUT\tIN\tNL-HaNA_1.04.02_1547_0622.jpg\t8 6. huijsgesinnen namen toenamen - - - - - - - - \t[8.780974170008449e-09, 8.55818669265318e-08, 8.040895060901221e-09, 0.9999998807907104]\n",
      "OUT\tIN\tNL-HaNA_1.04.02_1547_0623.jpg\t1 1. - - - - - - - - - - - - - - - - - - - - - - -\t[8.249654293024378e-09, 8.29756885423194e-08, 7.724773709583133e-09, 0.9999998807907104]\n",
      "OUT\tIN\tNL-HaNA_1.04.02_1547_0624.jpg\t1. de weduwe van balten Cannemans. - . . . . . . C\t[9.365001218952784e-09, 9.151695223863499e-08, 8.232929893381424e-09, 0.9999998807907104]\n",
      "OUT\tIN\tNL-HaNA_1.04.02_1547_0625.jpg\t=Transport Coppen 952. —; 1. 1. 1. . . . . . . . .\t[8.709782228777385e-09, 8.210948010400898e-08, 7.558909942417813e-09, 0.9999998807907104]\n",
      "OUT\tIN\tNL-HaNA_1.04.02_1547_0626.jpg\t150. huijsgesinnen Naamen toenaamen; Europiaanse m\t[8.55738147009788e-09, 8.539679186014837e-08, 7.920460731725143e-09, 0.9999998807907104]\n",
      "OUT\tIN\tNL-HaNA_1.04.02_1547_0627.jpg\tP„r Transport Coppen. . 1128. —; naet soons doeket\t[9.375546561329884e-09, 8.200367318522694e-08, 7.91934340327316e-09, 0.9999998807907104]\n",
      "OUT\tIN\tNL-HaNA_1.04.02_1547_0628.jpg\thuijsgesinnen Naamen - - - - - - - - - - - - - - -\t[8.825352004748765e-09, 8.09304339099981e-08, 7.292969783634362e-09, 0.9999998807907104]\n",
      "OUT\tIN\tNL-HaNA_1.04.02_1547_0629.jpg\tP„r Transport Coppen —. 1260. —; moeder vrouwen li\t[9.692993074850165e-09, 8.638958348683445e-08, 7.445439376141394e-09, 0.9999998807907104]\n",
      "OUT\tIN\tNL-HaNA_1.04.02_1547_0630.jpg\t176 huijsgesinnen Naamen; 1. weduwe van pauel borg\t[1.005864636027809e-08, 8.751150204489022e-08, 7.655309275378386e-09, 0.9999998807907104]\n",
      "OUT\tIN\tNL-HaNA_1.04.02_1547_0631.jpg\tP„r Transport Coppen. - 1394. —; moeder vouwen lin\t[9.914191245741222e-09, 8.475938528818006e-08, 7.226946152627534e-09, 0.9999998807907104]\n",
      "OUT\tIN\tNL-HaNA_1.04.02_1547_0632.jpg\t205. huijsgesinnen naamen; 1. francisco alves. - -\t[9.778748477629051e-09, 8.489399760946981e-08, 7.613111030480013e-09, 0.9999998807907104]\n",
      "OUT\tIN\tNL-HaNA_1.04.02_1547_0633.jpg\tP=r Transport Coppen. 1538. —; ::; mans múren, Soo\t[9.113856336284698e-09, 8.04677497967532e-08, 7.1492785025384364e-09, 0.9999998807907104]\n",
      "OUT\tIN\tNL-HaNA_1.04.02_1547_0634.jpg\t1. pasquaal d' Croes. - ..; 1. Isaak Leraan van ba\t[9.357537855692044e-09, 9.090787500554143e-08, 7.740585061810634e-09, 0.9999998807907104]\n",
      "OUT\tIN\tNL-HaNA_1.04.02_1547_0635.jpg\tDoor Voordragt Coppen 1663; 1. 5. —; 1.; 1. . . . \t[9.832968217438065e-09, 8.741041312987363e-08, 7.950020197711183e-09, 0.9999998807907104]\n",
      "OUT\tIN\tNL-HaNA_1.04.02_1547_0636.jpg\t259. huijsgesinnen Naamen; _o; 1. anjela dunies-; \t[1.473979160948602e-08, 1.1303616531677108e-07, 1.0241416603662401e-08, 0.9999998807907104]\n",
      "OUT\tEND\tNL-HaNA_1.04.02_1547_0637.jpg\tmangvrou, soons, dogters, susters, broeder, schoon\t[1.0514021653307282e-07, 4.978709853276087e-07, 6.207800851143475e-08, 0.9999994039535522]\n"
     ]
    },
    {
     "name": "stderr",
     "output_type": "stream",
     "text": [
      "Evaluating:  16%|█▌        | 9/57 [00:05<00:27,  1.74batch/s]"
     ]
    },
    {
     "name": "stdout",
     "output_type": "stream",
     "text": [
      "OUT\tBEGIN\tNL-HaNA_1.04.02_8526_0329.jpg\tSumatras West cust onder dato 6„' Jan: 1723.; Jan;\t[5.817578951905489e-08, 6.123315188233391e-07, 7.890123043807762e-08, 0.9999992847442627]\n",
      "OUT\tIN\tNL-HaNA_1.04.02_8526_0330.jpg\tVan Sumatras West uust onder dato 6:' jan: 1733.; \t[1.1806202238062724e-08, 1.1439892944054009e-07, 1.0564457753048373e-08, 0.9999998807907104]\n",
      "OUT\tIN\tNL-HaNA_1.04.02_8526_0331.jpg\tO; Jan; Sumatras West cust onder dato 6„' Janu: 17\t[8.874793344659793e-09, 8.722022926122008e-08, 7.731554951817543e-09, 0.9999998807907104]\n",
      "OUT\tIN\tNL-HaNA_1.04.02_8526_0332.jpg\tVan Sumatras Westcust onder dato 6„' Janu: 1733.; \t[8.988008559640548e-09, 9.025205116586221e-08, 7.427454651320886e-09, 0.9999998807907104]\n",
      "OUT\tIN\tNL-HaNA_1.04.02_8526_0333.jpg\tSumatras West Cust onder dato 6„' Janu: 1733.; Van\t[9.61721369208135e-09, 8.187458178099405e-08, 7.824751513396677e-09, 0.9999998807907104]\n",
      "OUT\tIN\tNL-HaNA_1.04.02_8526_0334.jpg\tVan Sumatras West Cust onder dato 6„' Janu: 1733.;\t[9.57939061407842e-09, 8.116091976262396e-08, 7.758174547234375e-09, 0.9999998807907104]\n",
      "OUT\tIN\tNL-HaNA_1.04.02_8526_0335.jpg\tVan Sumatras Westcust onder dato 6„e Janu: 173.; B\t[9.126607025677913e-09, 8.222215797104582e-08, 7.258138090548982e-09, 0.9999998807907104]\n",
      "OUT\tIN\tNL-HaNA_1.04.02_8526_0336.jpg\t&; Sumatras West Cust onder dato 6„' Janu: 1733; V\t[9.808373668818149e-09, 8.452658306623562e-08, 7.458942796745305e-09, 0.9999998807907104]\n",
      "OUT\tIN\tNL-HaNA_1.04.02_8526_0337.jpg\tSumatras West Cust onder dato 6„' Janu: 1733.; Van\t[8.747024438093831e-09, 9.391784061563158e-08, 7.3979893322473345e-09, 0.9999998807907104]\n",
      "OUT\tIN\tNL-HaNA_1.04.02_8526_0338.jpg\tSumatras West Cust onder dato 6„en Janu: 1733.; Va\t[9.356342367539128e-09, 7.922655953507274e-08, 7.240619215309607e-09, 0.9999998807907104]\n",
      "OUT\tIN\tNL-HaNA_1.04.02_8526_0339.jpg\tSumatras West Cust onder dato 6:„' Janu: 1733.; Va\t[9.334880424205494e-09, 8.419736730047589e-08, 7.416695702033849e-09, 0.9999998807907104]\n",
      "OUT\tIN\tNL-HaNA_1.04.02_8526_0340.jpg\tSumatras West Cust onder dato 6„e Janu: 1733; Jan;\t[9.751052409967542e-09, 8.820022401323513e-08, 7.522492850853268e-09, 0.9999998807907104]\n",
      "OUT\tIN\tNL-HaNA_1.04.02_8526_0341.jpg\tVan Sumatras West Cust onder dato 6„' Janu: 1733. \t[1.4582941965102236e-08, 1.0377966930263938e-07, 1.0383446102935068e-08, 0.9999998807907104]\n",
      "OUT\tEND\tNL-HaNA_1.04.02_8526_0342.jpg\tVan Sumatras West Cust onder dato 6:' Janu: 1733.;\t[1.0033966191258514e-07, 4.96084169299138e-07, 6.271829988691024e-08, 0.9999994039535522]\n",
      "OUT\tBEGIN\tNL-HaNA_1.04.02_1557_0088.jpg\tVan Jambij ondr dato 10=en Maart Anno 1694.; Trans\t[6.447130118658606e-08, 5.244557428341068e-07, 6.804385321856898e-08, 0.9999994039535522]\n",
      "OUT\tIN\tNL-HaNA_1.04.02_1557_0089.jpg\tVan Jambij onder Dato 10=en Maart A:o 1694:; een C\t[1.3135046827983388e-08, 1.0922082083197893e-07, 1.0544105144560945e-08, 0.9999998807907104]\n",
      "OUT\tIN\tNL-HaNA_1.04.02_1557_0090.jpg\tVan Jambij onder dato 10=en Maart A=o 1694. —; ter\t[1.358411338969745e-08, 1.0980819808992237e-07, 1.0394443528127795e-08, 0.9999998807907104]\n",
      "OUT\tEND\tNL-HaNA_1.04.02_1557_0091.jpg\tVan Jambij onder dato 10=en; Maart A:o 1694.; WWij\t[1.0473231526475502e-07, 4.961211175213975e-07, 6.255235973640083e-08, 0.9999994039535522]\n"
     ]
    },
    {
     "name": "stderr",
     "output_type": "stream",
     "text": [
      "Evaluating:  18%|█▊        | 10/57 [00:05<00:24,  1.93batch/s]"
     ]
    },
    {
     "name": "stdout",
     "output_type": "stream",
     "text": [
      "OUT\tBEGIN\tNL-HaNA_1.04.02_2682_0233.jpg\tAan d' Edele Hoog Achtbare Heeren Bewindhebberen.;\t[6.739016811252441e-08, 5.572232453232573e-07, 6.597526436280532e-08, 0.9999992847442627]\n",
      "OUT\tIN\tNL-HaNA_1.04.02_2682_0234.jpg\tvoorsch: eerbiedig Kennis te geven, maar ook, bove\t[1.2444245633957962e-08, 1.0438993314210165e-07, 1.0198063726818418e-08, 0.9999998807907104]\n",
      "OUT\tIN\tNL-HaNA_1.04.02_2682_0235.jpg\tnader; met meergem: Jacht toegezonden een Extract,\t[1.0083195611798601e-08, 7.936025525623336e-08, 7.487593656207991e-09, 0.9999998807907104]\n",
      "OUT\tIN\tNL-HaNA_1.04.02_2682_0236.jpg\tgeweest een middelweg te kiezen, en, om grooten qu\t[9.808336365324521e-09, 8.081952529437331e-08, 7.2701094033789104e-09, 0.9999998807907104]\n",
      "OUT\tIN\tNL-HaNA_1.04.02_2682_0237.jpg\tprijzen wilden, luijsteren; te meer om dat ze zig \t[9.958311508739826e-09, 7.50766133705838e-08, 7.126800483092666e-09, 0.9999998807907104]\n",
      "OUT\tIN\tNL-HaNA_1.04.02_2682_0238.jpg\tuijt hoofde der hoge Prijzen die andere Natiën daa\t[9.159968783478689e-09, 8.140835916492506e-08, 7.596807627407998e-09, 0.9999998807907104]\n",
      "OUT\tIN\tNL-HaNA_1.04.02_2682_0239.jpg\tvoldoen aan den Vaderlandschen Eijsch, derzelver a\t[9.222484109727702e-09, 7.695484072200998e-08, 7.055899420294054e-09, 0.9999998807907104]\n",
      "OUT\tIN\tNL-HaNA_1.04.02_2682_0240.jpg\t12 Scheepen behalven onze drie hollandsche uijtmak\t[1.0040973386082896e-08, 7.870017526556694e-08, 7.498426768393074e-09, 0.9999998807907104]\n",
      "OUT\tIN\tNL-HaNA_1.04.02_2682_0241.jpg\tWi hebben dan d' Eer om Uw Ed: Hoog achtb; in alle\t[1.0420527551957548e-08, 8.256206740497873e-08, 7.39299643726099e-09, 0.9999998807907104]\n",
      "OUT\tIN\tNL-HaNA_1.04.02_2682_0242.jpg\t1200 ps Damasten in soort.; 600. „. sattijnen; 600\t[1.3997660808229284e-08, 1.0083661550197576e-07, 9.85036940903683e-09, 0.9999998807907104]\n",
      "OUT\tEND\tNL-HaNA_1.04.02_2682_0243.jpg\ttoegestaan & ca: dog wat hier van zij zullen wij n\t[1.0133206984619392e-07, 5.090568606647139e-07, 6.483792702738356e-08, 0.9999994039535522]\n",
      "OUT\tBEGIN\tNL-HaNA_1.04.02_1557_0367.jpg\tVan Siam den 16=en Januarij A:o 1694.; Register de\t[8.868462941791222e-08, 6.770874279027339e-07, 9.177050941389098e-08, 0.9999990463256836]\n",
      "OUT\tEND\tNL-HaNA_1.04.02_1557_0367.jpg\tVan Siam den 16=en Januarij A:o 1694.; Register de\t[1.440765515781095e-07, 6.435042791963497e-07, 8.575729282256361e-08, 0.9999991655349731]\n"
     ]
    },
    {
     "name": "stderr",
     "output_type": "stream",
     "text": [
      "Evaluating:  25%|██▍       | 14/57 [00:05<00:10,  4.24batch/s]"
     ]
    },
    {
     "name": "stdout",
     "output_type": "stream",
     "text": [
      "OUT\tOUT\tNL-HaNA_1.04.02_1547_0273.jpg\t\t[7.051240658029201e-08, 8.9698119154491e-07, 1.11586032858213e-07, 0.9999988079071045]\n",
      "OUT\tOUT\tNL-HaNA_1.04.02_1547_0274.jpg\t\t[1.1646621445038363e-08, 1.684722406025685e-07, 1.572827024176604e-08, 0.9999998807907104]\n",
      "OUT\tBEGIN\tNL-HaNA_1.04.02_1547_0275.jpg\t'tsal uho„s al bekend geworden zijn hoe dat ik —; \t[9.031968950523606e-09, 8.986761201867921e-08, 8.549958074866026e-09, 0.9999998807907104]\n",
      "OUT\tIN\tNL-HaNA_1.04.02_1547_0276.jpg\tTranslaat ola door den; Coning Sammorijn; Aan d'E:\t[9.718799987012972e-09, 8.285991981438201e-08, 7.691914660767907e-09, 0.9999998807907104]\n",
      "OUT\tIN\tNL-HaNA_1.04.02_1547_0277.jpg\tg'eijndigt zijnde, sal het feeft van de mama„; „ga\t[9.184216054336503e-09, 7.897204312712347e-08, 7.346510955130725e-09, 0.9999998807907104]\n",
      "OUT\tIN\tNL-HaNA_1.04.02_1547_0278.jpg\tmet groot genoegen gelesen, behelsende insig; sood\t[9.82110393010771e-09, 7.654772815612887e-08, 7.2162573694356524e-09, 0.9999998807907104]\n",
      "OUT\tIN\tNL-HaNA_1.04.02_1547_0279.jpg\tbethoonde genegentht, soo Voorts dien; deesen om u\t[1.0730680344295251e-08, 7.996254680620041e-08, 7.406912860830062e-09, 0.9999998807907104]\n",
      "OUT\tIN\tNL-HaNA_1.04.02_1547_0280.jpg\tCompe. Voornamen Koopman Babbapor¬; 1v0re volgens \t[1.3640349294519183e-08, 1.0279445916694385e-07, 1.0262867000676579e-08, 0.9999998807907104]\n",
      "OUT\tEND\tNL-HaNA_1.04.02_1547_0281.jpg\tmaar dat gedeelte welke bezuijden het ge„; „meene \t[1.0845951692317612e-07, 4.940441158396425e-07, 6.30036538495915e-08, 0.9999994039535522]\n",
      "OUT\tBEGIN\tNL-HaNA_1.04.02_1557_0211.jpg\tVan Palembang onder dato 28=en Iulij A:o 1644.; gr\t[8.877635337967149e-08, 6.76678212130355e-07, 9.172624260145312e-08, 0.9999990463256836]\n",
      "OUT\tEND\tNL-HaNA_1.04.02_1557_0212.jpg\tVan Palembang onder dato 28=en Julij A=o 1694.; sa\t[1.4408989557068708e-07, 6.43435555502947e-07, 8.574944132533346e-08, 0.9999991655349731]\n",
      "OUT\tOUT\tNL-HaNA_1.04.02_1557_0498.jpg\t\t[5.89113007265496e-08, 6.412573156922008e-07, 7.396732826236985e-08, 0.9999992847442627]\n",
      "OUT\tOUT\tNL-HaNA_1.04.02_1557_0499.jpg\t\t[1.1591128945553919e-08, 1.1912725739193775e-07, 1.052738607398851e-08, 0.9999998807907104]\n",
      "OUT\tOUT\tNL-HaNA_1.04.02_1557_0500.jpg\t\t[9.33794375157504e-09, 8.476359170117576e-08, 7.977940086334456e-09, 0.9999998807907104]\n",
      "OUT\tOUT\tNL-HaNA_1.04.02_1557_0501.jpg\t\t[9.617158625019329e-09, 8.179716104450563e-08, 7.915386568413396e-09, 0.9999998807907104]\n",
      "OUT\tOUT\tNL-HaNA_1.04.02_1557_0502.jpg\t\t[8.886142488506721e-09, 8.533476147931651e-08, 7.41583283669911e-09, 0.9999998807907104]\n",
      "OUT\tBEGIN\tNL-HaNA_1.04.02_1557_0503.jpg\tontfangen; 17:en decemb:r p:r de fluijt; Langewijk\t[1.0073199163684876e-08, 8.800495265859354e-08, 7.762969822522336e-09, 0.9999998807907104]\n",
      "OUT\tIN\tNL-HaNA_1.04.02_1557_0504.jpg\t\t[1.006486449739441e-08, 7.716046468431159e-08, 7.406912860830062e-09, 0.9999998807907104]\n",
      "OUT\tIN\tNL-HaNA_1.04.02_1557_0505.jpg\t\t[9.833062364350553e-09, 7.925346778847597e-08, 7.631196119461947e-09, 0.9999998807907104]\n",
      "OUT\tIN\tNL-HaNA_1.04.02_1557_0506.jpg\t\t[9.477453488671017e-09, 8.168194653990213e-08, 7.604779916903226e-09, 0.9999998807907104]\n",
      "OUT\tIN\tNL-HaNA_1.04.02_1557_0507.jpg\tVan Japan Den 7=en November A=o 1694.; Register de\t[9.508252851730958e-09, 7.703708604367421e-08, 7.1628729614303666e-09, 0.9999998807907104]\n",
      "OUT\tIN\tNL-HaNA_1.04.02_1557_0508.jpg\tVan Japan Den 7=en November A=o 1694.; L:a I. 1. C\t[1.0454031418305476e-08, 7.943158664147631e-08, 7.632710463667536e-09, 0.9999998807907104]\n",
      "OUT\tIN\tNL-HaNA_1.04.02_1557_0509.jpg\tVan Japan Den 7=en November A=o 1694.; 1. d=o van \t[1.4214675658763554e-08, 1.0685405271715354e-07, 9.983359028353789e-09, 0.9999998807907104]\n",
      "OUT\tEND\tNL-HaNA_1.04.02_1557_0510.jpg\tVan Japan Den 7=en November Anno 1694.; ontfangen \t[1.0278126438834079e-07, 5.054417897554231e-07, 6.391360329871532e-08, 0.9999994039535522]\n"
     ]
    },
    {
     "name": "stderr",
     "output_type": "stream",
     "text": [
      "Evaluating:  28%|██▊       | 16/57 [00:06<00:07,  5.74batch/s]"
     ]
    },
    {
     "name": "stdout",
     "output_type": "stream",
     "text": [
      "OUT\tBEGIN\tNL-HaNA_1.04.02_1547_0108.jpg\top desen holvn en dass: matthijs in ve totenende a\t[7.050343242553936e-08, 5.281231665321684e-07, 7.339983909560033e-08, 0.9999994039535522]\n",
      "OUT\tIN\tNL-HaNA_1.04.02_1547_0109.jpg\tVoegens en ein nwige tebeversigen stan de en heele\t[1.9090650837938483e-08, 1.356956715881097e-07, 1.4154478478189958e-08, 0.9999998807907104]\n",
      "OUT\tEND\tNL-HaNA_1.04.02_1547_0110.jpg\tgemerkt &E.; Waarmeede; Edele hoog agtbaare gebied\t[1.1091853480138525e-07, 5.093783101983718e-07, 6.412802378008564e-08, 0.9999994039535522]\n",
      "OUT\tBEGIN\tNL-HaNA_1.04.02_1557_0293.jpg\tVan Palembang Den 21=en October A=o 1694.; wederom\t[6.466280666472812e-08, 5.226488042353594e-07, 6.791859163968184e-08, 0.9999994039535522]\n",
      "OUT\tIN\tNL-HaNA_1.04.02_1557_0294.jpg\tVan Palembang onder dato 21=en october Anno 1694. \t[1.3124328290814447e-08, 1.0923269400109348e-07, 1.0541491235471767e-08, 0.9999998807907104]\n",
      "OUT\tIN\tNL-HaNA_1.04.02_1557_0295.jpg\tVan Palembang onder dato 2:' october A=o 1694:; Ja\t[1.3574763535473267e-08, 1.0987880472157485e-07, 1.039940134006656e-08, 0.9999998807907104]\n",
      "OUT\tEND\tNL-HaNA_1.04.02_1557_0296.jpg\tVan Palembang onder dato 24:en October A=o 1694:; \t[1.0473750933215342e-07, 4.960070896231628e-07, 6.254234108382661e-08, 0.9999994039535522]\n",
      "OUT\tBEGIN\tNL-HaNA_1.04.02_1557_0313.jpg\tVan Palembang onder dato 21:en October A:o 1609.; \t[8.868090617397684e-08, 6.771081757506181e-07, 9.177488635714326e-08, 0.9999990463256836]\n",
      "OUT\tEND\tNL-HaNA_1.04.02_1557_0314.jpg\tVan Palembang onder dato 21:e October A=o 1694.; g\t[1.440817811726447e-07, 6.435055297515646e-07, 8.575761967222206e-08, 0.9999991655349731]\n"
     ]
    },
    {
     "name": "stderr",
     "output_type": "stream",
     "text": [
      "Evaluating:  32%|███▏      | 18/57 [00:06<00:05,  6.91batch/s]"
     ]
    },
    {
     "name": "stdout",
     "output_type": "stream",
     "text": [
      "OUT\tBEGIN\tNL-HaNA_1.04.02_1557_0092.jpg\tVan Jambij onder dato 10=en Maart A=o 1694.; Trans\t[6.465836577262962e-08, 5.227803967500222e-07, 6.792714657422039e-08, 0.9999994039535522]\n",
      "OUT\tIN\tNL-HaNA_1.04.02_1557_0093.jpg\tVan Jambij onder dato 10=en Maart A:o 1694.; katso\t[1.3122676278953804e-08, 1.0924228632802624e-07, 1.0542396289281442e-08, 0.9999998807907104]\n",
      "OUT\tIN\tNL-HaNA_1.04.02_1557_0094.jpg\tVan Jambij onder dato 10=en Maart A=o 1694.; verko\t[1.3574141810579476e-08, 1.098913813279978e-07, 1.039993691165364e-08, 0.9999998807907104]\n",
      "OUT\tEND\tNL-HaNA_1.04.02_1557_0095.jpg\tVan Jambij onder dato 10=en Maart A=o 1699.; aan V\t[1.0474390421677526e-07, 4.959999841958052e-07, 6.254126105886826e-08, 0.9999994039535522]\n",
      "OUT\tBEGIN\tNL-HaNA_1.04.02_1557_1645.jpg\tVan Bengale onder dato 24=en November A=o 1694.; R\t[6.463197621542349e-08, 5.222681238592486e-07, 6.790330786543564e-08, 0.9999994039535522]\n",
      "OUT\tIN\tNL-HaNA_1.04.02_1557_1646.jpg\tVan Bengale onder dat 24=en November A:o 1694.; vo\t[1.312114950025034e-08, 1.0924770066367273e-07, 1.0543000250606838e-08, 0.9999998807907104]\n",
      "OUT\tIN\tNL-HaNA_1.04.02_1557_1647.jpg\tVan Bengale onder dato 24=en November A:o 1694; go\t[1.3574815049821609e-08, 1.0989200660560527e-07, 1.0400095895590766e-08, 0.9999998807907104]\n",
      "OUT\tEND\tNL-HaNA_1.04.02_1557_1648.jpg\tNovemb=r 1694.; Van Bengale onder dato 24=en; des \t[1.0475088885186778e-07, 4.960879778082017e-07, 6.253768702890738e-08, 0.9999994039535522]\n"
     ]
    },
    {
     "name": "stderr",
     "output_type": "stream",
     "text": [
      "Evaluating:  35%|███▌      | 20/57 [00:07<00:11,  3.11batch/s]"
     ]
    },
    {
     "name": "stdout",
     "output_type": "stream",
     "text": [
      "OUT\tBEGIN\tNL-HaNA_1.04.02_1557_0183.jpg\tVan Palembang Den 12=en Meij Ao 1694; P:r 't Jaght\t[6.191481816131272e-08, 6.227512585610384e-07, 7.416992531261712e-08, 0.9999992847442627]\n",
      "OUT\tIN\tNL-HaNA_1.04.02_1557_0184.jpg\tVan Palembang Den 28=en Iulij A=o 1694.; Copie van\t[1.1929409460265106e-08, 1.1571972180490775e-07, 1.092130652580181e-08, 0.9999998807907104]\n",
      "OUT\tIN\tNL-HaNA_1.04.02_1557_0185.jpg\tVan Palembang Den 28=en Julij A:o 1694; d'oorsakeg\t[9.392657318585407e-09, 9.101075448825213e-08, 8.255526040557015e-09, 0.9999998807907104]\n",
      "OUT\tIN\tNL-HaNA_1.04.02_1557_0186.jpg\tVan Palembang Den 28=en Iulij A=o 1694.; 2. sloepe\t[8.841526621949924e-09, 8.059047473807368e-08, 7.455842165882132e-09, 0.9999998807907104]\n",
      "OUT\tIN\tNL-HaNA_1.04.02_1557_0187.jpg\tVan Palembang Den 28=en Iulij A:o 1694.; ende daro\t[8.888177305266254e-09, 9.163275649370917e-08, 8.087021718949927e-09, 0.9999998807907104]\n",
      "OUT\tIN\tNL-HaNA_1.04.02_1557_0188.jpg\tVan Palembang Den 28=en Julij A=o 1694.; wat peper\t[8.886277491626515e-09, 8.471607060300812e-08, 7.928925960243305e-09, 0.9999998807907104]\n",
      "OUT\tIN\tNL-HaNA_1.04.02_1557_0189.jpg\tVan Palembang Den 28=en Julij A=o 1694; de rijsend\t[9.02786911893827e-09, 8.887317193284616e-08, 7.870899487727456e-09, 0.9999998807907104]\n",
      "OUT\tIN\tNL-HaNA_1.04.02_1557_0190.jpg\tVan Palembang Den 28=en Julij A=o 1694.; de Chialo\t[9.181992055573573e-09, 7.923728873038272e-08, 7.407802815606601e-09, 0.9999998807907104]\n",
      "OUT\tIN\tNL-HaNA_1.04.02_1557_0191.jpg\tVan Palembang Den 28=en Iulij AA=o 1694.; Laphand \t[8.793075600976863e-09, 8.123664940740127e-08, 7.478658581305808e-09, 0.9999998807907104]\n",
      "OUT\tIN\tNL-HaNA_1.04.02_1557_0192.jpg\tVan Palembang Den 28=en Julij A:o 1694.; de van Ja\t[9.687098234678615e-09, 7.860401751713653e-08, 7.422143788460289e-09, 0.9999998807907104]\n",
      "OUT\tIN\tNL-HaNA_1.04.02_1557_0193.jpg\tVan Palembang Den 28=en Iulij A:o 1699.; 17. slave\t[8.864897260707494e-09, 8.417151775574894e-08, 7.922727363052218e-09, 0.9999998807907104]\n",
      "OUT\tIN\tNL-HaNA_1.04.02_1557_0194.jpg\tVan Palembang Den 28=en Julij A:o 1694.; in de wit\t[9.755573238123816e-09, 7.818952241223087e-08, 7.48315276410949e-09, 0.9999998807907104]\n",
      "OUT\tIN\tNL-HaNA_1.04.02_1557_0195.jpg\tVan Palembang Den 28=en Iulij A:o 1694.; dewelke (\t[9.798146294315302e-09, 8.198709622320166e-08, 7.812730906664456e-09, 0.9999998807907104]\n",
      "OUT\tIN\tNL-HaNA_1.04.02_1557_0196.jpg\tVan Palembang Den 28=en Iulij A=o 1694.; de negoti\t[9.984596260892431e-09, 8.544387952724719e-08, 7.840871951714234e-09, 0.9999998807907104]\n",
      "OUT\tIN\tNL-HaNA_1.04.02_1557_0197.jpg\tVan Palembang Den 28=en Iulij A=o 1694.; voor de l\t[9.573819959030061e-09, 7.939083701558047e-08, 7.478401897742515e-09, 0.9999998807907104]\n",
      "OUT\tIN\tNL-HaNA_1.04.02_1557_0198.jpg\tVan Palembang Den 28=en Iulij Anno 1694.; aanwijsi\t[9.617525442706665e-09, 8.556864372621931e-08, 7.316501626775107e-09, 0.9999998807907104]\n",
      "OUT\tIN\tNL-HaNA_1.04.02_1557_0199.jpg\tVan Palembang Den 28=en Iulij A:o 1694.; mitsg=s o\t[1.0426929542006746e-08, 8.574541965344906e-08, 7.479829200462973e-09, 0.9999998807907104]\n",
      "OUT\tIN\tNL-HaNA_1.04.02_1557_0200.jpg\tVan Palembang Den 28=en Julij A:o 1694.; dankseggi\t[9.952804802537685e-09, 7.87904426147179e-08, 7.540621460577768e-09, 0.9999998807907104]\n",
      "OUT\tIN\tNL-HaNA_1.04.02_1557_0201.jpg\tVan Palembang Den 28:en Julij A:o 1694.; fortuijn \t[9.119438537652513e-09, 7.90784540072309e-08, 7.354866937703264e-09, 0.9999998807907104]\n",
      "OUT\tIN\tNL-HaNA_1.04.02_1557_0202.jpg\tVan Palembang Den 28=en Iulij A=o 1694.; en voorts\t[1.0635868186170683e-08, 7.72116948155599e-08, 7.392897405367194e-09, 0.9999998807907104]\n",
      "OUT\tIN\tNL-HaNA_1.04.02_1557_0203.jpg\tVan Palembang Den 28„en Iulij A=o 1694—; „culiren \t[1.4255729041678933e-08, 9.992678684511702e-08, 9.902946906947818e-09, 0.9999998807907104]\n",
      "OUT\tEND\tNL-HaNA_1.04.02_1557_0204.jpg\tVan Palembang Den 28=en Iulij A=o 1694.; de gevord\t[1.067387103148576e-07, 5.023082394473022e-07, 6.403550401046232e-08, 0.9999994039535522]\n",
      "OUT\tBEGIN\tNL-HaNA_1.04.02_3577_0656.jpg\tAdmiraal; Donoa of; Nissanive; _=o; fo; Groot Hati\t[8.865908540656164e-08, 6.770810045964026e-07, 9.178591398040226e-08, 0.9999990463256836]\n",
      "OUT\tEND\tNL-HaNA_1.04.02_3577_0657.jpg\tgij Oioor van het Jaar 17eg; dan welEd: ben den da\t[1.4408013271349773e-07, 6.434478905248397e-07, 8.575025844947959e-08, 0.9999991655349731]\n",
      "OUT\tOUT\tNL-HaNA_1.04.02_1547_0603.jpg\t\t[5.996675156438869e-08, 6.577287194886594e-07, 7.722047001834653e-08, 0.9999991655349731]\n",
      "OUT\tOUT\tNL-HaNA_1.04.02_1547_0604.jpg\t\t[1.2077167710344838e-08, 1.1478262251785054e-07, 1.0843035802565737e-08, 0.9999998807907104]\n",
      "OUT\tOUT\tNL-HaNA_1.04.02_1547_0605.jpg\t\t[9.427728819844106e-09, 8.665561068710304e-08, 8.082410296594844e-09, 0.9999998807907104]\n",
      "OUT\tOUT\tNL-HaNA_1.04.02_1547_0606.jpg\t\t[9.5311127878972e-09, 8.914344107324723e-08, 7.704777260642004e-09, 0.9999998807907104]\n",
      "OUT\tOUT\tNL-HaNA_1.04.02_1547_0607.jpg\t\t[9.01957353249827e-09, 8.34478584010867e-08, 7.629682663434778e-09, 0.9999998807907104]\n",
      "OUT\tOUT\tNL-HaNA_1.04.02_1547_0608.jpg\t\t[8.841847254359436e-09, 8.632320458445975e-08, 7.958925962725516e-09, 0.9999998807907104]\n",
      "OUT\tBEGIN\tNL-HaNA_1.04.02_1547_0609.jpg\t\t[8.945935547899353e-09, 8.471655377206844e-08, 7.501802734566354e-09, 0.9999998807907104]\n",
      "OUT\tIN\tNL-HaNA_1.04.02_1547_0610.jpg\tJ=o W:t Namen toenamen, en geboorte plaatsen... ..\t[9.7122594411303e-09, 8.137234885907674e-08, 7.75537767339074e-09, 0.9999998807907104]\n",
      "OUT\tIN\tNL-HaNA_1.04.02_1547_0611.jpg\tder naarvolgende Personen; ultimo Iunij (agtervolg\t[1.0060871247219438e-08, 8.236734316824368e-08, 7.566021587024352e-09, 0.9999998807907104]\n",
      "OUT\tIN\tNL-HaNA_1.04.02_1547_0612.jpg\t32. Coppen P„r Transport van d' andere seijde. —; \t[1.3759058781204203e-08, 1.0169709696583595e-07, 9.957570767937796e-09, 0.9999998807907104]\n",
      "OUT\tEND\tNL-HaNA_1.04.02_1547_0613.jpg\tIn't schip Cortgene den 30=en Iunij Anno 1694. —; \t[1.0146590057047433e-07, 5.079138531982608e-07, 6.463197621542349e-08, 0.9999994039535522]\n"
     ]
    },
    {
     "name": "stderr",
     "output_type": "stream",
     "text": [
      "Evaluating:  40%|████      | 23/57 [00:08<00:09,  3.60batch/s]"
     ]
    },
    {
     "name": "stdout",
     "output_type": "stream",
     "text": [
      "OUT\tBEGIN\tNL-HaNA_1.04.02_1072_0487.jpg\t201; Donderdach adij 19 novembr @:o 1620 stilo nou\t[6.386595430285524e-08, 5.941388394603564e-07, 6.924046402900785e-08, 0.9999992847442627]\n",
      "OUT\tIN\tNL-HaNA_1.04.02_1072_0488.jpg\topcoopp. in gevat en.; sesctup crmysorenl ap pedra\t[1.2864836307358019e-08, 1.1434984514835378e-07, 1.009015893060905e-08, 0.9999998807907104]\n",
      "OUT\tIN\tNL-HaNA_1.04.02_1072_0489.jpg\tDonderdach adij xvij decbr @ o 1620 & tilo nouo 12\t[1.023149742707119e-08, 8.81243806816201e-08, 7.568893956033662e-09, 0.9999998807907104]\n",
      "OUT\tIN\tNL-HaNA_1.04.02_1072_0490.jpg\tOp de requeste van dato den 16 decembr. a. o 1620 \t[9.078948259855224e-09, 7.956531788977372e-08, 7.26833437880714e-09, 0.9999998807907104]\n",
      "OUT\tIN\tNL-HaNA_1.04.02_1072_0491.jpg\tadij 25 decemb. 1620; deschepgelsche nommer &l vyf\t[1.002120875170931e-08, 7.527635403903332e-08, 7.1383641220279515e-09, 0.9999998807907104]\n",
      "OUT\tIN\tNL-HaNA_1.04.02_1072_0492.jpg\twegen de nederlantsche Compe. de goede fortuijne G\t[9.401152745169838e-09, 7.835987503312936e-08, 6.994129719828379e-09, 0.9999998807907104]\n",
      "OUT\tIN\tNL-HaNA_1.04.02_1072_0493.jpg\t1204; tot den handel deschepen medebrengen. ten ey\t[9.284115698449114e-09, 8.126129102947743e-08, 7.596908879747843e-09, 0.9999998807907104]\n",
      "OUT\tIN\tNL-HaNA_1.04.02_1072_0494.jpg\ten; 10; Alle Coopmanschappen sullen met gemeen adu\t[9.425750846503433e-09, 7.707220817110283e-08, 7.154639547479746e-09, 0.9999998807907104]\n",
      "OUT\tIN\tNL-HaNA_1.04.02_1072_0495.jpg\t205; Eijgen verijckel loopen sal, dochde wijle goe\t[1.0439068276468788e-08, 8.619701219458875e-08, 7.623792264155327e-09, 0.9999998807907104]\n",
      "OUT\tIN\tNL-HaNA_1.04.02_1072_0496.jpg\tAdij primo Janwario @o 1621 &; Wesende, ende op da\t[1.0843304032448486e-08, 7.664576173738169e-08, 7.4436221630946875e-09, 0.9999998807907104]\n",
      "OUT\tIN\tNL-HaNA_1.04.02_1072_0497.jpg\tCledigh derde verkiesen; 206; 16; Ende opdat de ge\t[1.3695930611845597e-08, 1.079242721857554e-07, 1.0428720109700862e-08, 0.9999998807907104]\n",
      "OUT\tEND\tNL-HaNA_1.04.02_1072_0498.jpg\tVijanden tsij in gaen ofte heeren vande deffentie \t[1.0679471529329021e-07, 5.221053243076312e-07, 6.203811864224917e-08, 0.9999994039535522]\n"
     ]
    },
    {
     "name": "stderr",
     "output_type": "stream",
     "text": [
      "Evaluating:  44%|████▍     | 25/57 [00:10<00:15,  2.01batch/s]"
     ]
    },
    {
     "name": "stdout",
     "output_type": "stream",
     "text": [
      "OUT\tBEGIN\tNL-HaNA_1.04.02_1557_0410.jpg\tA=o 1694.; Van Toncquin Den 2:e Januarij; 'tarrive\t[6.456777157382021e-08, 6.0157645975778e-07, 7.323300366124386e-08, 0.9999992847442627]\n",
      "OUT\tIN\tNL-HaNA_1.04.02_1557_0411.jpg\tVan Toncquim Den 2:e Januarij A:o 1694; wat bij de\t[1.1782918640790285e-08, 1.146355899095397e-07, 1.0753197443591489e-08, 0.9999998807907104]\n",
      "OUT\tIN\tNL-HaNA_1.04.02_1557_0412.jpg\tVan Toncquim Den 2=en Januarij; Ao 1694; „komene b\t[9.072163464907135e-09, 8.493384484609123e-08, 7.877718033455494e-09, 0.9999998807907104]\n",
      "OUT\tIN\tNL-HaNA_1.04.02_1557_0413.jpg\tVan Toncquin Den 2:en Januarij A:o 1694.; in dit z\t[9.165735725957802e-09, 8.900565262592863e-08, 7.526554490766557e-09, 0.9999998807907104]\n",
      "OUT\tIN\tNL-HaNA_1.04.02_1557_0414.jpg\tVan Toncquin Den 2:en Januarij A=o 1694.; den boek\t[8.63717453114532e-09, 8.448355259815798e-08, 7.583054184578941e-09, 0.9999998807907104]\n",
      "OUT\tIN\tNL-HaNA_1.04.02_1557_0415.jpg\tVan Toncquim Den 2:e Januarij Ao 1694; waer ons br\t[9.080282303841614e-09, 8.490322755960733e-08, 7.731260076582203e-09, 0.9999998807907104]\n",
      "OUT\tIN\tNL-HaNA_1.04.02_1557_0416.jpg\tVan Toncquin Den 2:en Januarij A:o 1694.; begeerde\t[8.75558736623816e-09, 9.030026149048354e-08, 7.499314058634354e-09, 0.9999998807907104]\n",
      "OUT\tIN\tNL-HaNA_1.04.02_1557_0417.jpg\tVan Toncquin Den 2=en Januarij A:o 1694.; „telijx \t[8.886194002855063e-09, 8.42143919044247e-08, 7.470989160651698e-09, 0.9999998807907104]\n",
      "OUT\tIN\tNL-HaNA_1.04.02_1557_0418.jpg\tVan Toncquin Den 2=en Januarij A=o 1694.; kunnen s\t[9.191102989802857e-09, 8.889283265034464e-08, 7.52263673575726e-09, 0.9999998807907104]\n",
      "OUT\tIN\tNL-HaNA_1.04.02_1557_0419.jpg\tVan Toncquin Den 2=en Januarij A=o 1694.; gewilt s\t[9.013331414564618e-09, 9.163747449747461e-08, 7.880587737929545e-09, 0.9999998807907104]\n",
      "OUT\tIN\tNL-HaNA_1.04.02_1557_0420.jpg\tVan Toncquin den 2:en Januarij A=o 1694.; zandelho\t[9.726812244537086e-09, 8.174819043915704e-08, 7.783282462980878e-09, 0.9999998807907104]\n",
      "OUT\tIN\tNL-HaNA_1.04.02_1557_0421.jpg\tVan Toncquin Den 2:en Januarij A:o 1694; d' mark r\t[8.836283704738435e-09, 8.818945929078836e-08, 7.869277673933084e-09, 0.9999998807907104]\n",
      "OUT\tIN\tNL-HaNA_1.04.02_1557_0422.jpg\tVan Joncquin Den 2=en Januarij A=o 1694.; de getra\t[8.935839623802622e-09, 9.282596380444375e-08, 7.854192851652897e-09, 0.9999998807907104]\n",
      "OUT\tIN\tNL-HaNA_1.04.02_1557_0423.jpg\tVan Toncquin Den 2:e Januarij A:o 1694; verleeden \t[8.312042609759374e-09, 9.77189102968623e-08, 8.000888840342668e-09, 0.9999998807907104]\n",
      "OUT\tIN\tNL-HaNA_1.04.02_1557_0424.jpg\tVan Toncquin den 2:en Januarij A=o 1694.; den Eers\t[8.822053310098e-09, 8.486712488320336e-08, 7.491822273664184e-09, 0.9999998807907104]\n",
      "OUT\tIN\tNL-HaNA_1.04.02_1557_0425.jpg\tVan Toncquin Den 2=en Januarij A=o 1694.; de gouve\t[9.210635809608902e-09, 7.923623712713379e-08, 7.478472952016091e-09, 0.9999998807907104]\n",
      "OUT\tIN\tNL-HaNA_1.04.02_1557_0426.jpg\tVan Joncquin Den 2:en Januarij A=o 1694.; groote a\t[8.728441969196865e-09, 8.051933519936938e-08, 7.414305169817226e-09, 0.9999998807907104]\n",
      "OUT\tIN\tNL-HaNA_1.04.02_1557_0427.jpg\tVan Toncquin den 2:en Januarij A:o 1694.; kleen ve\t[9.840698034224715e-09, 8.615410962420356e-08, 7.471372853729008e-09, 0.9999998807907104]\n",
      "OUT\tIN\tNL-HaNA_1.04.02_1557_0428.jpg\tVan Joncquin den 2:en Januarij A:o 1694.; naer ord\t[9.354772068093098e-09, 8.098834314296255e-08, 7.58299645298166e-09, 0.9999998807907104]\n",
      "OUT\tIN\tNL-HaNA_1.04.02_1557_0429.jpg\tVan Toncquin den 2en Januarij A=o 1694.; dat van b\t[8.830622455491266e-09, 8.118429661863047e-08, 7.473069274510635e-09, 0.9999998807907104]\n",
      "OUT\tIN\tNL-HaNA_1.04.02_1557_0430.jpg\tVan Joncquin Den 2=en Januarij A=o 1694.; o; verso\t[9.708147175047088e-09, 8.809195151116e-08, 7.629392229091536e-09, 0.9999998807907104]\n",
      "OUT\tIN\tNL-HaNA_1.04.02_1557_0431.jpg\tVan Toncquin Den 2:en Januarij A=o 1694; „gelse sc\t[8.9133367353611e-09, 8.232902359850414e-08, 7.64048824208885e-09, 0.9999998807907104]\n",
      "OUT\tIN\tNL-HaNA_1.04.02_1557_0432.jpg\tVan Toncquin Den 2:en Januarij Anno 1694.; d'ordre\t[9.263383837776473e-09, 7.836405302441563e-08, 7.550292835389882e-09, 0.9999998807907104]\n",
      "OUT\tIN\tNL-HaNA_1.04.02_1557_0433.jpg\tVan Joncqum Den 2=en Januarij A=o 1694.; ingekrege\t[8.759295511140408e-09, 8.904386561425781e-08, 7.564548987204489e-09, 0.9999998807907104]\n",
      "OUT\tIN\tNL-HaNA_1.04.02_1557_0434.jpg\tVan Joncquim Den 2:en Januarij A=o 1694.; soort, n\t[8.932550699114472e-09, 8.44345819928094e-08, 7.750646346948997e-09, 0.9999998807907104]\n",
      "OUT\tIN\tNL-HaNA_1.04.02_1557_0435.jpg\tVan Joncquim Den 2:en Januarij A:o 1694.; wilden n\t[8.778730631320286e-09, 8.505299575745084e-08, 7.940472279699406e-09, 0.9999998807907104]\n",
      "OUT\tIN\tNL-HaNA_1.04.02_1557_0436.jpg\tVan Foncquin Den 2:en Januarij A:o 1692; ontfangen\t[9.459899530384064e-09, 7.92679770711402e-08, 7.425287495976818e-09, 0.9999998807907104]\n",
      "OUT\tIN\tNL-HaNA_1.04.02_1557_0437.jpg\tVan Joncquin Den 2:en Januarij; A=o 1694.; „tig be\t[8.925806760373689e-09, 8.961993103184795e-08, 7.505023269516187e-09, 0.9999998807907104]\n",
      "OUT\tIN\tNL-HaNA_1.04.02_1557_0438.jpg\tVan Soncquin Den 2:en Januarij A=o 1694. —; hoedan\t[9.488775987165354e-09, 8.22197989691631e-08, 7.577531491165246e-09, 0.9999998807907104]\n",
      "OUT\tIN\tNL-HaNA_1.04.02_1557_0439.jpg\tAo. 1694.; Van Foncquim Den 2=e Januarij; enige be\t[8.942694584845867e-09, 8.022897901582837e-08, 7.260408718678946e-09, 0.9999998807907104]\n",
      "OUT\tIN\tNL-HaNA_1.04.02_1557_0440.jpg\tVan Toncquim Den 2:en Januarij A=o 1644.; wn verso\t[9.19180465075442e-09, 8.572170884235675e-08, 7.861402195885603e-09, 0.9999998807907104]\n",
      "OUT\tIN\tNL-HaNA_1.04.02_1557_0441.jpg\tVan Toncquin Den 2=e Januarij Ao 1694.; ingekregen\t[9.139550449788203e-09, 8.283210917170436e-08, 7.689141767741603e-09, 0.9999998807907104]\n",
      "OUT\tIN\tNL-HaNA_1.04.02_1557_0442.jpg\tVan Joncquin Den 2=en Januarij A=o 1694.; 52615. —\t[9.063930050956515e-09, 8.046115596016534e-08, 7.39296801555156e-09, 0.9999998807907104]\n",
      "OUT\tIN\tNL-HaNA_1.04.02_1557_0443.jpg\tVan Toncquin Den 2=en Januarij A=o 1694.; P=r Tran\t[1.0092373159409362e-08, 7.868126772336836e-08, 7.591288486707981e-09, 0.9999998807907104]\n",
      "OUT\tIN\tNL-HaNA_1.04.02_1557_0444.jpg\tVan Toncquim Den 2=en Januarij A=o 1694; thaijnang\t[9.946201195987214e-09, 7.973243043579714e-08, 7.567680704312352e-09, 0.9999998807907104]\n",
      "OUT\tIN\tNL-HaNA_1.04.02_1557_0445.jpg\tVan Toncquin Den 2=en Januarij A=o 1694:; aangenae\t[1.018100004301914e-08, 7.58023901425986e-08, 7.145747549230919e-09, 0.9999998807907104]\n",
      "OUT\tIN\tNL-HaNA_1.04.02_1557_0446.jpg\tVan Toncquim Den 2=en Januarij A=o 1694.; ons vers\t[1.0533793393108226e-08, 8.014150409962895e-08, 7.738178986471667e-09, 0.9999998807907104]\n",
      "OUT\tIN\tNL-HaNA_1.04.02_1557_0447.jpg\tVan Toncquim Den 2=en Januarij Ao 1694; mede „ hae\t[1.416004025145412e-08, 1.0547288553652834e-07, 1.0616957979436847e-08, 0.9999998807907104]\n",
      "OUT\tEND\tNL-HaNA_1.04.02_1557_0448.jpg\tVan Toncquin Den 2=en Januarij A=o 1694.; N=o 1. m\t[1.0617565493475922e-07, 4.916301463708805e-07, 6.212277980921499e-08, 0.9999994039535522]\n",
      "OUT\tBEGIN\tNL-HaNA_1.04.02_1557_0253.jpg\tVan Palembang onder dato 18:en Septemb: a:o 1694; \t[6.486353498758035e-08, 5.30374734353245e-07, 7.121392542330796e-08, 0.9999994039535522]\n",
      "OUT\tIN\tNL-HaNA_1.04.02_1557_0254.jpg\tVan Palembang onder dato 18:en September a:o 1694;\t[1.2617499933753606e-08, 1.0293728536225899e-07, 1.006628469468751e-08, 0.9999998807907104]\n",
      "OUT\tIN\tNL-HaNA_1.04.02_1557_0255.jpg\tVan Palembang onder dato 18=en Septemb:r 1694.; ve\t[1.114833469983978e-08, 8.686428287774106e-08, 7.905804899621671e-09, 0.9999998807907104]\n",
      "OUT\tIN\tNL-HaNA_1.04.02_1557_0256.jpg\tVan Palembang onder dato 18=en Septemb:r 1694.; st\t[1.4504438539120201e-08, 9.859020622116077e-08, 9.829124181237603e-09, 0.9999998807907104]\n",
      "OUT\tEND\tNL-HaNA_1.04.02_1557_0257.jpg\tVan Palembang onder dato 18=en September 1694.; De\t[1.0498071389974939e-07, 4.866672043135623e-07, 6.154793652513035e-08, 0.9999994039535522]\n",
      "OUT\tBEGIN\tNL-HaNA_1.04.02_1557_0126.jpg\tVan Palembang Den 29=en Maart Anno 1694.; Register\t[8.867718293004145e-08, 6.771275025130308e-07, 9.177698956364111e-08, 0.9999990463256836]\n",
      "OUT\tEND\tNL-HaNA_1.04.02_1557_0126.jpg\tVan Palembang Den 29=en Maart Anno 1694.; Register\t[1.4407875426059036e-07, 6.435042791963497e-07, 8.575729282256361e-08, 0.9999991655349731]\n"
     ]
    },
    {
     "name": "stderr",
     "output_type": "stream",
     "text": [
      "Evaluating:  47%|████▋     | 27/57 [00:10<00:11,  2.56batch/s]"
     ]
    },
    {
     "name": "stdout",
     "output_type": "stream",
     "text": [
      "OUT\tBEGIN\tNL-HaNA_1.04.02_1557_1560.jpg\tVan Bengale onder dato 20=en Septemb:r A=o 1694.; \t[6.481750602915781e-08, 5.726951712858863e-07, 6.761006687838744e-08, 0.9999992847442627]\n",
      "OUT\tIN\tNL-HaNA_1.04.02_1557_1561.jpg\tVan Bengale onder dato 20:en September A:o 1694.; \t[1.288858531012238e-08, 1.1414130085540819e-07, 1.0062560562573708e-08, 0.9999998807907104]\n",
      "OUT\tIN\tNL-HaNA_1.04.02_1557_1562.jpg\tVan Bengale onder dato 20=en September A:o 1694; b\t[1.0223947910503739e-08, 8.825239206089464e-08, 7.577285465742989e-09, 0.9999998807907104]\n",
      "OUT\tIN\tNL-HaNA_1.04.02_1557_1563.jpg\tVan Bengale onder dato 20=en September A=o 1694; B\t[9.076749130088047e-09, 7.935602042152823e-08, 7.265839485626202e-09, 0.9999998807907104]\n",
      "OUT\tIN\tNL-HaNA_1.04.02_1557_1564.jpg\tVan Bengale onder dato 20=en September A:o 1694.; \t[1.0019259200078068e-08, 7.53823883314908e-08, 7.145488645221576e-09, 0.9999998807907104]\n",
      "OUT\tIN\tNL-HaNA_1.04.02_1557_1565.jpg\tVan Bengale onder dato 20:e September A:o 1604.; v\t[9.399037104174113e-09, 7.863475559588551e-08, 6.99859992181473e-09, 0.9999998807907104]\n",
      "OUT\tIN\tNL-HaNA_1.04.02_1557_1566.jpg\tVan Bengale onder dato 20:en September A:o 1694; v\t[9.291750480144856e-09, 8.151899066888291e-08, 7.617541264437477e-09, 0.9999998807907104]\n",
      "OUT\tIN\tNL-HaNA_1.04.02_1557_1567.jpg\tVan Bengale onder dato 20:e September A:o 1694; te\t[9.37327548911071e-09, 7.751418706902768e-08, 7.169885130053899e-09, 0.9999998807907104]\n",
      "OUT\tIN\tNL-HaNA_1.04.02_1557_1568.jpg\tVan Bengale onder dato 20en September A:o 1694.; h\t[1.0421561391638079e-08, 8.560505193599965e-08, 7.624024966901288e-09, 0.9999998807907104]\n",
      "OUT\tIN\tNL-HaNA_1.04.02_1557_1569.jpg\tVan Bengale onder dato 20:en Septemb:r A:o 1692; V\t[1.0849614540120456e-08, 7.665760648478681e-08, 7.447158001383514e-09, 0.9999998807907104]\n",
      "OUT\tIN\tNL-HaNA_1.04.02_1557_1570.jpg\tVan Bengale onder dato 20=en September A:o 1694.; \t[1.3629557038541407e-08, 1.0810536821281858e-07, 1.043853092852487e-08, 0.9999998807907104]\n",
      "OUT\tEND\tNL-HaNA_1.04.02_1557_1571.jpg\tVan Bengale onder dato 22:e September Ao 1694; VEd\t[1.0574497366633295e-07, 4.97504117902281e-07, 6.185970136129981e-08, 0.9999994039535522]\n"
     ]
    },
    {
     "name": "stderr",
     "output_type": "stream",
     "text": [
      "Evaluating:  49%|████▉     | 28/57 [00:13<00:24,  1.19batch/s]"
     ]
    },
    {
     "name": "stdout",
     "output_type": "stream",
     "text": [
      "OUT\tBEGIN\tNL-HaNA_1.04.02_1108_0653.jpg\td' E. d: heeren Bewindehebberen; mpult. febr. 1633\t[3.3988843028964766e-07, 3.725015858435654e-06, 5.2723140697708e-07, 0.9999954700469971]\n",
      "OUT\tIN\tNL-HaNA_1.04.02_1108_0654.jpg\tsyn gecompareert, die terstont liet vast binden, e\t[3.529765635335025e-08, 3.8689574921590975e-07, 3.5792499630815655e-08, 0.9999995231628418]\n",
      "OUT\tIN\tNL-HaNA_1.04.02_1108_0655.jpg\t3a di dito smorgens sagen seecker vaertuyg onder't\t[2.1366243885267977e-08, 2.307393600631258e-07, 1.9312549781602684e-08, 0.9999997615814209]\n",
      "OUT\tIN\tNL-HaNA_1.04.02_1108_0656.jpg\tvoor de Manipo, vandewelcke voor desen geschreven \t[1.9690451935616693e-08, 2.0940827027970954e-07, 1.7147510078530104e-08, 0.9999997615814209]\n",
      "OUT\tIN\tNL-HaNA_1.04.02_1108_0657.jpg\ttegenwoordigh inde Negrij geen nagelen waren: dien\t[1.9038248311176176e-08, 1.9998596201276087e-07, 1.626273693489111e-08, 0.9999997615814209]\n",
      "OUT\tIN\tNL-HaNA_1.04.02_1108_0658.jpg\tdie haer aenhouden, te straffen, so veel als in on\t[1.9006792584264076e-08, 1.9827190556043206e-07, 1.6077901676680995e-08, 0.9999997615814209]\n",
      "OUT\tIN\tNL-HaNA_1.04.02_1108_0659.jpg\t2 a 3 Portugeesche 23 haar nagelen hadden, doch de\t[1.8938903778575877e-08, 1.9659952954498294e-07, 1.592253440207969e-08, 0.9999997615814209]\n",
      "OUT\tIN\tNL-HaNA_1.04.02_1108_0660.jpg\tTerstont soud d' H. r Gouvr beyde sloupen, d'een a\t[1.922441938972952e-08, 1.9911341553324746e-07, 1.61061386450001e-08, 0.9999997615814209]\n",
      "OUT\tIN\tNL-HaNA_1.04.02_1108_0661.jpg\td' E.d: heeren Bewindthebberen; van Iustitia gehoo\t[1.8948659530337864e-08, 1.9569192488688714e-07, 1.5819340504208412e-08, 0.9999997615814209]\n",
      "OUT\tIN\tNL-HaNA_1.04.02_1108_0662.jpg\tVruchtbomen, te weten Ionge clappus, pinang als an\t[1.9256567895808985e-08, 1.9879750823292852e-07, 1.6062911001313296e-08, 0.9999997615814209]\n",
      "OUT\tIN\tNL-HaNA_1.04.02_1108_0663.jpg\tdoor de ruychte vant strand te gaen: ('t pad voor \t[1.8951586966409195e-08, 1.9527078620740213e-07, 1.577426544940863e-08, 0.9999997615814209]\n",
      "OUT\tIN\tNL-HaNA_1.04.02_1108_0664.jpg\tmede op 't strand by d'Inwoonders van kelang getre\t[1.9243973525817637e-08, 1.9835020736991282e-07, 1.6021147075662157e-08, 0.9999997615814209]\n",
      "OUT\tIN\tNL-HaNA_1.04.02_1108_0665.jpg\tNde 9 dito smorgens heeft syn Ed. de twee gevangen\t[1.8951297420244373e-08, 1.9503515602536936e-07, 1.5753279569707956e-08, 0.9999997615814209]\n",
      "OUT\tIN\tNL-HaNA_1.04.02_1108_0666.jpg\tinformatie te nemen wegens de saaken vanden Vaendr\t[1.923501891099022e-08, 1.9807933426818636e-07, 1.599934229545852e-08, 0.9999997615814209]\n",
      "OUT\tIN\tNL-HaNA_1.04.02_1108_0667.jpg\tdEenwinne, om de stucken ten lasten vanden Vaendri\t[1.894609269470493e-08, 1.9485297286792047e-07, 1.5738471859094716e-08, 0.9999997615814209]\n",
      "OUT\tIN\tNL-HaNA_1.04.02_1108_0668.jpg\tCambello op Lissien te houden, en daer door d'inwo\t[1.9064231082666083e-08, 1.9619010060978326e-07, 1.5848028667164726e-08, 0.9999997615814209]\n",
      "OUT\tIN\tNL-HaNA_1.04.02_1108_0669.jpg\tsyn noch twee gelycke sterckten gepasseert: Eyndlj\t[1.893756795823265e-08, 1.9476435397791647e-07, 1.5739011871573894e-08, 0.9999997615814209]\n",
      "OUT\tIN\tNL-HaNA_1.04.02_1108_0670.jpg\tdat 't schijnt de Magellaense Vloot haer devoir op\t[1.922533598985865e-08, 1.979129677920355e-07, 1.5992476676274237e-08, 0.9999997615814209]\n",
      "OUT\tIN\tNL-HaNA_1.04.02_1108_0671.jpg\tbeneden monsteren, ende bevonden de soldaten 48 co\t[1.8939264379014276e-08, 1.9476360080261657e-07, 1.5736551617351324e-08, 0.9999997615814209]\n",
      "OUT\tIN\tNL-HaNA_1.04.02_1108_0672.jpg\tJoncq) diep inde Livier opgehaelt: deden deselve e\t[1.9060014011529347e-08, 1.9617381497027964e-07, 1.5850991630372846e-08, 0.9999997615814209]\n",
      "OUT\tIN\tNL-HaNA_1.04.02_1108_0673.jpg\tdie gansch te raseeren: doch weynich daer nae quam\t[1.8932510670310876e-08, 1.947736336660455e-07, 1.5743065517881405e-08, 0.9999997615814209]\n",
      "OUT\tIN\tNL-HaNA_1.04.02_1108_0674.jpg\tSyn Ed. heeft eenige der Principaelste Orangquais \t[1.9229737802106683e-08, 1.980566537440609e-07, 1.600718668726131e-08, 0.9999997615814209]\n",
      "OUT\tIN\tNL-HaNA_1.04.02_1108_0675.jpg\tschilden ende omhieuwen, alwaer met een bas cogel \t[1.8992730943523384e-08, 1.9547256613350328e-07, 1.5793501617622496e-08, 0.9999997615814209]\n",
      "OUT\tIN\tNL-HaNA_1.04.02_1108_0676.jpg\tVarend Volck met wel gemonteerde Jachten, dewelcke\t[1.9056342281942307e-08, 1.962329463367496e-07, 1.5855858848112803e-08, 0.9999997615814209]\n",
      "OUT\tIN\tNL-HaNA_1.04.02_1108_0677.jpg\tvan Justitia gehoort ende geexamineert is Joncker \t[1.8983458360821714e-08, 1.954692265826452e-07, 1.5795851737721023e-08, 0.9999997615814209]\n",
      "OUT\tIN\tNL-HaNA_1.04.02_1108_0678.jpg\td'Armade, en 't Jacht Ceylon met timmerhout voor B\t[1.9053761235454658e-08, 1.963115749958888e-07, 1.5864360491946172e-08, 0.9999997615814209]\n",
      "OUT\tIN\tNL-HaNA_1.04.02_1108_0679.jpg\tVoor Cambelle comen is de corrocor van Loemecaij d\t[1.9061175748902315e-08, 1.9641606741060968e-07, 1.5873350633910377e-08, 0.9999997615814209]\n",
      "OUT\tIN\tNL-HaNA_1.04.02_1108_0680.jpg\tbeyjde sijden vande Logie een corps da guarde soud\t[1.9229702274969895e-08, 1.9823805530450045e-07, 1.6018640636161763e-08, 0.9999997615814209]\n",
      "OUT\tIN\tNL-HaNA_1.04.02_1108_0681.jpg\tGouv. heeft onse Corrocorren genomen, en d' Negrij\t[1.8996717088270998e-08, 1.9568894060739694e-07, 1.5810892151080225e-08, 0.9999997615814209]\n",
      "OUT\tIN\tNL-HaNA_1.04.02_1108_0682.jpg\tNdi 4 dito: den nur voor dagh quam de slonp aen bo\t[1.9217564428686273e-08, 1.9810936180419958e-07, 1.6007582814836496e-08, 0.9999997615814209]\n",
      "OUT\tIN\tNL-HaNA_1.04.02_1108_0683.jpg\tTorrocor vast, doch quamen sond schade daer weder \t[1.8991210382068857e-08, 1.9563294983981905e-07, 1.5805404984803317e-08, 0.9999997615814209]\n",
      "OUT\tIN\tNL-HaNA_1.04.02_1108_0684.jpg\tVersoeckende eenige sloupen om de soldaten vande s\t[1.9039084975247533e-08, 1.962262246024693e-07, 1.5855709634138293e-08, 0.9999997615814209]\n",
      "OUT\tIN\tNL-HaNA_1.04.02_1108_0685.jpg\tAdy 16 dito. naermiddags omtrent 5 uyren arriveerd\t[1.8980852445338314e-08, 1.9560964403808612e-07, 1.5810350362244208e-08, 0.9999997615814209]\n",
      "OUT\tIN\tNL-HaNA_1.04.02_1108_0686.jpg\tDes voormiddaghs ongevaer 10 uyren met onse Vlote \t[1.9223136860091472e-08, 1.9827265873573197e-07, 1.6025179405687595e-08, 0.9999997615814209]\n",
      "OUT\tIN\tNL-HaNA_1.04.02_1108_0687.jpg\tPersonen ongemolesteert in vrede wederom souden se\t[1.8991029193671238e-08, 1.9572401299683406e-07, 1.5817288812058905e-08, 0.9999997615814209]\n",
      "OUT\tIN\tNL-HaNA_1.04.02_1108_0688.jpg\taldus met ons volck beset hebbende, is by haer Ed.\t[1.921639203317227e-08, 1.9819344743154943e-07, 1.601790522443025e-08, 0.9999997615814209]\n",
      "OUT\tIN\tNL-HaNA_1.04.02_1108_0689.jpg\tende dat hare meeste macht op Killibya, Kelebrot e\t[1.8986355598826776e-08, 1.956637447619869e-07, 1.581158670660443e-08, 0.9999997615814209]\n",
      "OUT\tIN\tNL-HaNA_1.04.02_1108_0690.jpg\tsel gesecondeert op den Vyant doortchergeeren der \t[1.9045295118758077e-08, 1.9636624415397819e-07, 1.5870899261472005e-08, 0.9999997615814209]\n",
      "OUT\tIN\tNL-HaNA_1.04.02_1108_0691.jpg\tCorrocorre sijn geraackt, bequamen een gequeste, w\t[1.8976979987428422e-08, 1.95618781617668e-07, 1.5815356135817638e-08, 0.9999997615814209]\n",
      "OUT\tIN\tNL-HaNA_1.04.02_1108_0692.jpg\ttot welcken eynde oock van onse sterckte boven op \t[1.922086312333704e-08, 1.9828911490549217e-07, 1.6031108884817513e-08, 0.9999997615814209]\n",
      "OUT\tIN\tNL-HaNA_1.04.02_1108_0693.jpg\tden selven sijn vrydom belovende, soo sich hier vr\t[1.8924460221114714e-08, 1.9502567738527432e-07, 1.576692554294823e-08, 0.9999997615814209]\n",
      "OUT\tIN\tNL-HaNA_1.04.02_1108_0694.jpg\tDe sloupen, en 'tcleen vaertuygh inde Baij onder d\t[1.9051688227023078e-08, 1.9652885896448424e-07, 1.589013187697219e-08, 0.9999997615814209]\n",
      "OUT\tIN\tNL-HaNA_1.04.02_1108_0695.jpg\tGemelte personen met d'Inwoonders gesproocken hebb\t[1.897357648772413e-08, 1.9567511344575905e-07, 1.582477082706646e-08, 0.9999997615814209]\n",
      "OUT\tIN\tNL-HaNA_1.04.02_1108_0696.jpg\tvoor haer stercte gecomen waren, al voren besloote\t[1.921342374089363e-08, 1.9830841324619541e-07, 1.603780930281573e-08, 0.9999997615814209]\n",
      "OUT\tIN\tNL-HaNA_1.04.02_1108_0697.jpg\tspits afmoeten byten, en niet buyten haer geledere\t[1.897748624912765e-08, 1.957120758788733e-07, 1.5825253996126776e-08, 0.9999997615814209]\n",
      "OUT\tIN\tNL-HaNA_1.04.02_1108_0698.jpg\tBij S. r. Hulft missive wert syn Ed. geadviseert, \t[1.903803159564177e-08, 1.9643498205823562e-07, 1.58864938981651e-08, 0.9999997615814209]\n",
      "OUT\tIN\tNL-HaNA_1.04.02_1108_0699.jpg\tde Bas, die 't volck van't Jacht Contchin, als met\t[1.8973505433450555e-08, 1.9572588882965647e-07, 1.5834462629982227e-08, 0.9999997615814209]\n",
      "OUT\tIN\tNL-HaNA_1.04.02_1108_0700.jpg\tpasseren, twelck nu vol rudsen en clippen van Extr\t[1.9208878043741606e-08, 1.9830443420687516e-07, 1.604429478163638e-08, 0.9999997615814209]\n",
      "OUT\tIN\tNL-HaNA_1.04.02_1108_0701.jpg\tVerstonden vande Vaendrich Jonge dan, dat met sijn\t[1.898599322203154e-08, 1.9583474397677492e-07, 1.5843497180867416e-08, 0.9999997615814209]\n",
      "OUT\tIN\tNL-HaNA_1.04.02_1108_0702.jpg\tondersaten schuldigh syn, te quijten. Dienvolgende\t[1.9082056823549465e-08, 1.9691326258453046e-07, 1.5935325947680212e-08, 0.9999997615814209]\n",
      "OUT\tIN\tNL-HaNA_1.04.02_1108_0703.jpg\tover te leveren, sulcx gedaen synde, als dan syn r\t[1.9065684142560713e-08, 1.9668448203447042e-07, 1.5922502427656582e-08, 0.9999997615814209]\n",
      "OUT\tIN\tNL-HaNA_1.04.02_1108_0704.jpg\tbij sijn Ed. Corrocor gehouden had, die sulcx, Exc\t[1.9290057551302198e-08, 1.9904582870822196e-07, 1.6119630075195346e-08, 0.9999997615814209]\n",
      "OUT\tIN\tNL-HaNA_1.04.02_1108_0705.jpg\tdoor des kumelahas volck /s meestert waren, waer v\t[1.909421598611516e-08, 1.963703653018456e-07, 1.5941587605539098e-08, 0.9999997615814209]\n",
      "OUT\tIN\tNL-HaNA_1.04.02_1108_0706.jpg\t\t[2.4416843658059406e-08, 2.4760248606980895e-07, 2.0585607884981982e-08, 0.9999997615814209]\n",
      "OUT\tIN\tNL-HaNA_1.04.02_1108_0707.jpg\td'EEd: heeren Bewindehebberen; Niet tegenstaende b\t[1.914921554657667e-08, 1.9572009080093267e-07, 1.5849932921696563e-08, 0.9999997615814209]\n",
      "OUT\tIN\tNL-HaNA_1.04.02_1108_0708.jpg\tvertrecken: 3½ maent Victualie voort' ' acht de so\t[1.9304852827417562e-08, 1.9699422182384296e-07, 1.5970865518966093e-08, 0.9999997615814209]\n",
      "OUT\tIN\tNL-HaNA_1.04.02_1108_0709.jpg\tveele met pack en sack vluchten, end syn alsoo tot\t[1.909723934545582e-08, 1.9394880723666574e-07, 1.574814056937157e-08, 0.9999997615814209]\n",
      "OUT\tIN\tNL-HaNA_1.04.02_1108_0710.jpg\tGelaly met een champan, dewelcke aldaer met volck \t[1.9161527475830553e-08, 1.9371884718566434e-07, 1.5760040383838714e-08, 0.9999997615814209]\n",
      "OUT\tIN\tNL-HaNA_1.04.02_1108_0711.jpg\tVan Loehoe overgelopen, die alhier eenige tyt gele\t[1.9115203642172673e-08, 1.919777332659578e-07, 1.5658674357155178e-08, 0.9999997615814209]\n",
      "OUT\tIN\tNL-HaNA_1.04.02_1108_0712.jpg\tnagelbomen stont, het welck syn Ed. , en veel met \t[1.9444465593210225e-08, 1.9378906301881216e-07, 1.5855770030270833e-08, 0.9999997615814209]\n",
      "OUT\tIN\tNL-HaNA_1.04.02_1108_0713.jpg\tbomen beplant gevonden te hebben, dat men qual. tu\t[1.940970761893368e-08, 1.9086743918705906e-07, 1.5687492194160768e-08, 0.9999997615814209]\n",
      "OUT\tIN\tNL-HaNA_1.04.02_1108_0714.jpg\tvertoonden haer boven op 't gebercht, ende sagen v\t[2.0269165901254382e-08, 1.951214869677642e-07, 1.616461098308264e-08, 0.9999997615814209]\n",
      "OUT\tIN\tNL-HaNA_1.04.02_1108_0715.jpg\tVande negrie: Terstont hebben alle de clappus bome\t[2.2564666579683035e-08, 2.0611905426903832e-07, 1.738870025747019e-08, 0.9999997615814209]\n",
      "OUT\tIN\tNL-HaNA_1.04.02_1108_0716.jpg\tverstaande, dat Cerelant afgelopen, ende so menich\t[4.238555462166005e-08, 3.2684795314708026e-07, 2.9442444926530698e-08, 0.9999995231628418]\n",
      "OUT\tEND\tNL-HaNA_1.04.02_1108_0717.jpg\tvoortpangayen, end syn met de corrocorren, Namentl\t[6.843627602393099e-07, 2.880524789361516e-06, 3.418593053083896e-07, 0.9999960660934448]\n",
      "OUT\tBEGIN\tNL-HaNA_1.04.02_1557_1639.jpg\tVan Bengale onder dato 24=en Novemb:r A:o 1694; Ex\t[8.867227307973735e-08, 6.768931370970677e-07, 9.17675393452555e-08, 0.9999990463256836]\n",
      "OUT\tEND\tNL-HaNA_1.04.02_1557_1639.jpg\tVan Bengale onder dato 24=en Novemb:r A:o 1694; Ex\t[1.440861723267517e-07, 6.43431860680721e-07, 8.574780707704122e-08, 0.9999991655349731]\n"
     ]
    },
    {
     "name": "stderr",
     "output_type": "stream",
     "text": [
      "Evaluating:  53%|█████▎    | 30/57 [00:14<00:18,  1.49batch/s]"
     ]
    },
    {
     "name": "stdout",
     "output_type": "stream",
     "text": [
      "OUT\tOUT\tNL-HaNA_1.04.02_1547_0430.jpg\t\t[5.925782531335244e-08, 8.120780989884224e-07, 9.206961948393655e-08, 0.9999990463256836]\n",
      "OUT\tBEGIN\tNL-HaNA_1.04.02_1547_0431.jpg\tMondelingh Berigt ge„; „daen door den E: Cop=n; 1;\t[1.3061696613192453e-08, 1.1721282788812459e-07, 1.0737211120215306e-08, 0.9999998807907104]\n",
      "OUT\tIN\tNL-HaNA_1.04.02_1547_0432.jpg\tEn motiven wat uijt d' verweijderingen tusschen; d\t[9.76963132615083e-09, 8.268941087408166e-08, 7.69945973644326e-09, 0.9999998807907104]\n",
      "OUT\tIN\tNL-HaNA_1.04.02_1547_0433.jpg\thet geheele gebret van het Land van Elledetta„; „s\t[8.770228987486917e-09, 9.134256373499738e-08, 7.656857370363923e-09, 0.9999998807907104]\n",
      "OUT\tIN\tNL-HaNA_1.04.02_1547_0434.jpg\tvant perisolisehe Rijck, zijn h:r den ragia; van c\t[8.88534668064267e-09, 8.715220900512577e-08, 7.452159778154055e-09, 0.9999998807907104]\n",
      "OUT\tIN\tNL-HaNA_1.04.02_1547_0435.jpg\tBetuijginge: bij haer hoogh=t wierde, versogt te; \t[8.585420374629393e-09, 8.430841091922048e-08, 7.597111384427535e-09, 0.9999998807907104]\n",
      "OUT\tIN\tNL-HaNA_1.04.02_1547_0436.jpg\tmissoeijen zijn h=t weder na zin voorige; Resident\t[9.530457312223461e-09, 8.36701943285334e-08, 7.886046482497022e-09, 0.9999998807907104]\n",
      "OUT\tIN\tNL-HaNA_1.04.02_1547_0437.jpg\ten haer h=t kwam selffs ook met Een groote; macht \t[9.09501451928918e-09, 8.194660239269069e-08, 7.418577308015983e-09, 0.9999998807907104]\n",
      "OUT\tIN\tNL-HaNA_1.04.02_1547_0438.jpg\t2 h:t den; hadden Bij Eerste gelegenth=t zijn ^ oo\t[9.612005413828228e-09, 7.803621571156327e-08, 7.291036219214675e-09, 0.9999998807907104]\n",
      "OUT\tIN\tNL-HaNA_1.04.02_1547_0439.jpg\tnu mede aen d' kant van tesancoor was; off gecomen\t[8.693168851436894e-09, 8.108401772233265e-08, 7.452060302171049e-09, 0.9999998807907104]\n",
      "OUT\tIN\tNL-HaNA_1.04.02_1547_0440.jpg\ttoegevinge; corressen, gisen, nogh drijgge„; „ment\t[8.906623882865006e-09, 7.971357263159007e-08, 7.39033145791268e-09, 0.9999998807907104]\n",
      "OUT\tIN\tNL-HaNA_1.04.02_1547_0441.jpg\ten dewijl alle dagen een Commissaris; een Command:\t[9.65085877879801e-09, 7.736515783562936e-08, 7.317213501778497e-09, 0.9999998807907104]\n",
      "OUT\tIN\tNL-HaNA_1.04.02_1547_0442.jpg\tvan d E Comp:e, met verdere Bijvoeginge dat; zijn \t[9.116082111404467e-09, 7.871773988199493e-08, 7.322756623295845e-09, 0.9999998807907104]\n",
      "OUT\tIN\tNL-HaNA_1.04.02_1547_0443.jpg\twijnige tijk door een duijster woerhige zijn; glan\t[9.173904302883784e-09, 8.113337202075854e-08, 7.159717707594382e-09, 0.9999998807907104]\n",
      "OUT\tIN\tNL-HaNA_1.04.02_1547_0444.jpg\tuijt sulx ontsloot, want het land em de; coopl: wa\t[1.0077735090874285e-08, 8.136287732440906e-08, 7.345572150541102e-09, 0.9999998807907104]\n",
      "OUT\tIN\tNL-HaNA_1.04.02_1547_0445.jpg\tvan d' teruntschap Jongst Eenige bluijckerije; In \t[9.71151781214985e-09, 8.450691524330978e-08, 7.204746133027129e-09, 0.9999998807907104]\n",
      "OUT\tIN\tNL-HaNA_1.04.02_1547_0446.jpg\tdoese Is moten doen om te Leten, Iwage; dat den Co\t[1.0197344302298461e-08, 8.281156738121354e-08, 7.626191234066937e-09, 0.9999998807907104]\n",
      "OUT\tIN\tNL-HaNA_1.04.02_1547_0447.jpg\tLoedoart tot manapaer haer verbooden, eenige; nego\t[9.152511637466887e-09, 8.378805205211393e-08, 7.851481242937552e-09, 0.9999998807907104]\n",
      "OUT\tIN\tNL-HaNA_1.04.02_1547_0448.jpg\tvan des E Comp:s regotie, war op het selve antrus;\t[9.153646729487264e-09, 8.76996537613195e-08, 7.320298589519325e-09, 0.9999998807907104]\n",
      "OUT\tIN\tNL-HaNA_1.04.02_1547_0449.jpg\tdoer bij souden voegen, seer op konden te; 6; Besw\t[9.825544822206211e-09, 7.86881670933326e-08, 7.473510699185226e-09, 0.9999998807907104]\n",
      "OUT\tIN\tNL-HaNA_1.04.02_1547_0450.jpg\tkennisse van boosen te nemen, zoo hebbenske; hun b\t[1.0184340482055632e-08, 8.057433831254457e-08, 7.157437753591012e-09, 0.9999998807907104]\n",
      "OUT\tIN\tNL-HaNA_1.04.02_1547_0451.jpg\tontrent dese onderhandelinge, meer end' meer; te b\t[9.331587058625246e-09, 7.795647860575627e-08, 7.271398594355105e-09, 0.9999998807907104]\n",
      "OUT\tIN\tNL-HaNA_1.04.02_1547_0452.jpg\tder vreede sonder hem te doen geven de ge„; Requin\t[9.421041724522183e-09, 7.889284603379565e-08, 7.302643822981736e-09, 0.9999998807907104]\n",
      "OUT\tIN\tNL-HaNA_1.04.02_1547_0453.jpg\tdoen over seer onvergenoegt, en daer op geresoldee\t[1.0730393462665688e-08, 7.998100670647545e-08, 7.4484796108720275e-09, 0.9999998807907104]\n",
      "OUT\tIN\tNL-HaNA_1.04.02_1547_0454.jpg\thelpen seszertigen en ook niet soo dwaar Jon; wese\t[1.4325315156327179e-08, 9.965955172219765e-08, 9.790915633800523e-09, 0.9999998807907104]\n",
      "OUT\tEND\tNL-HaNA_1.04.02_1547_0455.jpg\tverbreekende den voornoem fronsuer heer; als oijne\t[1.0585394250028912e-07, 4.86864962567779e-07, 6.180567879709997e-08, 0.9999994039535522]\n"
     ]
    },
    {
     "name": "stderr",
     "output_type": "stream",
     "text": [
      "Evaluating:  54%|█████▍    | 31/57 [00:14<00:14,  1.74batch/s]"
     ]
    },
    {
     "name": "stdout",
     "output_type": "stream",
     "text": [
      "OUT\tBEGIN\tNL-HaNA_1.04.02_1557_1227.jpg\tVan Sumatras W=t Cust onder dato 4:en xber A=o 169\t[6.14761361816818e-08, 5.349909883989312e-07, 7.187575334910434e-08, 0.9999994039535522]\n",
      "OUT\tIN\tNL-HaNA_1.04.02_1557_1228.jpg\tVan Sumatras W=t Cust onder dato 4=en xber A=o 169\t[1.2563898366124704e-08, 1.0396669125611879e-07, 1.0343201850560035e-08, 0.9999998807907104]\n",
      "OUT\tIN\tNL-HaNA_1.04.02_1557_1229.jpg\tVan Sumatras W=t Cust onder dato 4=en xber A:o 169\t[1.0435504904648951e-08, 7.978719196444217e-08, 7.532715784464017e-09, 0.9999998807907104]\n",
      "OUT\tIN\tNL-HaNA_1.04.02_1557_1230.jpg\tVan Sumatras W=t Cust onder dato 4=en xber A=o 169\t[9.763428288067644e-09, 8.591927525003484e-08, 7.727486206476897e-09, 0.9999998807907104]\n",
      "OUT\tIN\tNL-HaNA_1.04.02_1557_1231.jpg\tVan Sumatras W=t Cust onder dato 4:e xber A:o 1694\t[1.3717813551750169e-08, 1.0896655311398717e-07, 9.990482219279784e-09, 0.9999998807907104]\n",
      "OUT\tEND\tNL-HaNA_1.04.02_1557_1232.jpg\tVan Sumatras W=t Cust onder dato 4=en xber A=o 169\t[1.0529394245395451e-07, 4.864036782237235e-07, 6.133277707931484e-08, 0.9999994039535522]\n",
      "OUT\tBEGIN\tNL-HaNA_1.04.02_1557_0961.jpg\tVan Sumata wet Cest onder dato de „' Jaart A=o 169\t[6.447093170436347e-08, 5.244312433205778e-07, 6.804203422916544e-08, 0.9999994039535522]\n",
      "OUT\tIN\tNL-HaNA_1.04.02_1557_0962.jpg\tVan Sumatras W=t Cust onder dato 4e Maart Anno1694\t[1.3134720866503358e-08, 1.0922582305283868e-07, 1.0544367157194756e-08, 0.9999998807907104]\n",
      "OUT\tIN\tNL-HaNA_1.04.02_1557_0963.jpg\tVan Sumatras W„tCust onder dato 1:e Maart A=o 1694\t[1.3584061875349107e-08, 1.0981406717291975e-07, 1.0394325400397975e-08, 0.9999998807907104]\n",
      "OUT\tEND\tNL-HaNA_1.04.02_1557_0964.jpg\tVan Sumatras W=t Cust onder dato 43 ' Maart A=o 16\t[1.0472632538949256e-07, 4.961310651196982e-07, 6.25546263677279e-08, 0.9999994039535522]\n"
     ]
    },
    {
     "name": "stderr",
     "output_type": "stream",
     "text": [
      "Evaluating:  58%|█████▊    | 33/57 [00:14<00:10,  2.34batch/s]"
     ]
    },
    {
     "name": "stdout",
     "output_type": "stream",
     "text": [
      "OUT\tBEGIN\tNL-HaNA_1.04.02_1557_0165.jpg\tVan Palembang onder dato 10:' April A:o 1694.; wij\t[6.36201136217096e-08, 5.418323212325049e-07, 7.319754047330207e-08, 0.9999992847442627]\n",
      "OUT\tIN\tNL-HaNA_1.04.02_1557_0166.jpg\tVan Palembang onder dato 10:en April A:o 1694.; me\t[1.2557596740236932e-08, 1.0377353021340241e-07, 1.0125014604511762e-08, 0.9999998807907104]\n",
      "OUT\tIN\tNL-HaNA_1.04.02_1557_0167.jpg\tVan Palembang onder dato 10:e April A:o 1694.; Pan\t[1.1170492975054458e-08, 8.960301300930951e-08, 8.029568121514785e-09, 0.9999998807907104]\n",
      "OUT\tIN\tNL-HaNA_1.04.02_1557_0168.jpg\tVan Palembang onder dato 10:' April A:o 1694.; lij\t[1.4492601785320858e-08, 9.906200659770548e-08, 9.888941221447567e-09, 0.9999998807907104]\n",
      "OUT\tEND\tNL-HaNA_1.04.02_1557_0169.jpg\tVan Pabembang onder dato 10=en April A:o 17699.; '\t[1.0538998651554721e-07, 4.878270374319982e-07, 6.169709365622111e-08, 0.9999994039535522]\n"
     ]
    },
    {
     "name": "stderr",
     "output_type": "stream",
     "text": [
      "Evaluating:  61%|██████▏   | 35/57 [00:18<00:17,  1.26batch/s]"
     ]
    },
    {
     "name": "stdout",
     "output_type": "stream",
     "text": [
      "OUT\tBEGIN\tNL-HaNA_1.04.02_1557_0707.jpg\tVan Malacca den 15=en Iulij; Ao:; ontfang van haar\t[6.07308194844336e-08, 6.194047159624461e-07, 8.354447800229536e-08, 0.9999992847442627]\n",
      "OUT\tIN\tNL-HaNA_1.04.02_1557_0708.jpg\tAo 1694.; Van Malacca Den: 25en Iulij; de bevindin\t[1.1968267266126986e-08, 1.1860490189974371e-07, 1.1635052921121769e-08, 0.9999998807907104]\n",
      "OUT\tIN\tNL-HaNA_1.04.02_1557_0709.jpg\tVan Malacca Den 15:e IJulij Ao 17694; als dato ban\t[9.115317389785105e-09, 8.955670693922002e-08, 7.943911306540485e-09, 0.9999998807907104]\n",
      "OUT\tIN\tNL-HaNA_1.04.02_1557_0710.jpg\tJulij A:o 1690; Van Malacca Den 1; soo mede dat d'\t[9.370271669695285e-09, 8.486761515769103e-08, 7.594575635039291e-09, 0.9999998807907104]\n",
      "OUT\tIN\tNL-HaNA_1.04.02_1557_0711.jpg\tVan Malacca Den 15=en Julij A=o 1694; de bedorve s\t[9.578897675055487e-09, 7.99665187400933e-08, 7.556761438820558e-09, 0.9999998807907104]\n",
      "OUT\tIN\tNL-HaNA_1.04.02_1557_0712.jpg\tVan Malacca Den 15=en Julij A=o 1694.; het proces \t[9.628593922172968e-09, 9.020300240081269e-08, 8.009271468267798e-09, 0.9999998807907104]\n",
      "OUT\tIN\tNL-HaNA_1.04.02_1557_0713.jpg\tVan Malacca Den 15=e Iulij A:o 1694; het hier zijn\t[8.847683474755286e-09, 8.25822326078196e-08, 7.703468973829786e-09, 0.9999998807907104]\n",
      "OUT\tIN\tNL-HaNA_1.04.02_1557_0714.jpg\tVan Malacca Den 15=en Julij A=o 1694; de rompen su\t[8.75769146091443e-09, 8.216696301133197e-08, 7.409413527170727e-09, 0.9999998807907104]\n",
      "OUT\tIN\tNL-HaNA_1.04.02_1557_0715.jpg\tVan Malacca Den 15=en Julij Ao 1694; wanneer hier \t[9.640739762062367e-09, 8.036682430656583e-08, 7.798320211804821e-09, 0.9999998807907104]\n",
      "OUT\tIN\tNL-HaNA_1.04.02_1557_0716.jpg\tVan Malacca Den 15=en JJulij Ao 168; desen aangaan\t[9.723250649074089e-09, 8.679621288365524e-08, 7.40836814117074e-09, 0.9999998807907104]\n",
      "OUT\tIN\tNL-HaNA_1.04.02_1557_0717.jpg\tVan Malacca Den 15:en Julij A:o 1694.; de vorige m\t[8.996963174467965e-09, 8.990722477619784e-08, 7.715674321673305e-09, 0.9999998807907104]\n",
      "OUT\tIN\tNL-HaNA_1.04.02_1557_0718.jpg\tVan Malacca Den 15=en ulij A=o 1694.; als mede van\t[9.1136129753977e-09, 8.141596907762505e-08, 7.428375248252905e-09, 0.9999998807907104]\n",
      "OUT\tIN\tNL-HaNA_1.04.02_1557_0719.jpg\tJulij A=o 1694.; Van Malacca Den 15=en; dit guarni\t[9.759927976915606e-09, 8.205092427715499e-08, 7.90193066535494e-09, 0.9999998807907104]\n",
      "OUT\tIN\tNL-HaNA_1.04.02_1557_0720.jpg\tVan Malacca Den 15=en Julij A:o 1699.; als mede ha\t[8.914628146783343e-09, 9.40135436167111e-08, 8.020736963487707e-09, 0.9999998807907104]\n",
      "OUT\tIN\tNL-HaNA_1.04.02_1557_0721.jpg\tJulij A:o 1692; Van Malacca Den 15=en; gecommittee\t[8.857139022211413e-09, 8.466696499453974e-08, 7.920732514321571e-09, 0.9999998807907104]\n",
      "OUT\tIN\tNL-HaNA_1.04.02_1557_0722.jpg\tVan Malacca Den 15=en; Julij Ao 16; enige papiren \t[9.056204675061963e-09, 9.031732162156914e-08, 7.405033919383186e-09, 0.9999998807907104]\n",
      "OUT\tIN\tNL-HaNA_1.04.02_1557_0723.jpg\tVan Malacca Den 15=en Julij A:o 1694.; somma bij h\t[9.531512468186065e-09, 8.004953144791216e-08, 7.485509101456955e-09, 0.9999998807907104]\n",
      "OUT\tIN\tNL-HaNA_1.04.02_1557_0724.jpg\tVan Malacca Den 15=en Julij A=o 1694:; 69. lb: thi\t[8.881483104516974e-09, 8.31145996471605e-08, 7.513717648066631e-09, 0.9999998807907104]\n",
      "OUT\tIN\tNL-HaNA_1.04.02_1557_0725.jpg\tVan Malacca Den 15=en Iulij A:o 1690; den arabier \t[8.768171078088471e-09, 8.10333133927088e-08, 7.426477210970006e-09, 0.9999998807907104]\n",
      "OUT\tIN\tNL-HaNA_1.04.02_1557_0726.jpg\tVan Malacca Den 15=en Julij; 1699; kunnen genoegsa\t[9.62778567981104e-09, 7.856699824060343e-08, 7.53883888648943e-09, 0.9999998807907104]\n",
      "OUT\tIN\tNL-HaNA_1.04.02_1557_0727.jpg\tVan Malacca Den 15:en Julij A A=o 1694; daar in ge\t[8.788799910064427e-09, 8.333397971682643e-08, 7.684391789553047e-09, 0.9999998807907104]\n",
      "OUT\tIN\tNL-HaNA_1.04.02_1557_0728.jpg\tAo 1694; Van Malacca Den 15=en Julij; krijger op o\t[9.472393536213985e-09, 8.71718270900601e-08, 7.611731689394219e-09, 0.9999998807907104]\n",
      "OUT\tIN\tNL-HaNA_1.04.02_1557_0729.jpg\tVan Malacca den 11=en I Julij A:o 1698; in de sche\t[8.95092000519071e-09, 8.13166494140205e-08, 7.43099715094786e-09, 0.9999998807907104]\n",
      "OUT\tIN\tNL-HaNA_1.04.02_1557_0730.jpg\tVan Malacca den 15„en Iulij A:o 1694.; persisteert\t[8.833250575435159e-09, 8.693986330854386e-08, 7.947063451752001e-09, 0.9999998807907104]\n",
      "OUT\tIN\tNL-HaNA_1.04.02_1557_0731.jpg\tVan Malacca Den 15=en; Ao. 1694; Julij; Commissie \t[8.791800176766174e-09, 8.441622156851736e-08, 7.763829579232606e-09, 0.9999998807907104]\n",
      "OUT\tIN\tNL-HaNA_1.04.02_1557_0732.jpg\tJulij Ao 1694; Van Malacca Den 15=en; door de mini\t[9.765384056947823e-09, 8.408294149830908e-08, 7.792833933706333e-09, 0.9999998807907104]\n",
      "OUT\tIN\tNL-HaNA_1.04.02_1557_0733.jpg\tVan Malacca Den 15=en Julij A=o 1694:; in Comparat\t[8.845979948546301e-09, 9.195017725005528e-08, 8.08538658247926e-09, 0.9999998807907104]\n",
      "OUT\tIN\tNL-HaNA_1.04.02_1557_0734.jpg\tA=o 1694.; Julij; Van Malacca Den 15=en; n; van de\t[9.822996638320092e-09, 8.273073603959347e-08, 7.504579180306337e-09, 0.9999998807907104]\n",
      "OUT\tIN\tNL-HaNA_1.04.02_1557_0735.jpg\tVan Malacca, den 11=en Iulij A=o 1694:; het dak va\t[9.674559819927708e-09, 8.160735376350203e-08, 7.908263377487401e-09, 0.9999998807907104]\n",
      "OUT\tIN\tNL-HaNA_1.04.02_1557_0736.jpg\tVan Malacca Den 11=en Julij A=o 1694:; als Constee\t[8.960177488859244e-09, 9.752954355235488e-08, 8.039162224804386e-09, 0.9999998807907104]\n",
      "OUT\tIN\tNL-HaNA_1.04.02_1557_0737.jpg\tVan Malacca, den 15=en Julij A=o 1699:; mans, en m\t[8.792773620314165e-09, 8.246701099778875e-08, 7.507599875111737e-09, 0.9999998807907104]\n",
      "OUT\tIN\tNL-HaNA_1.04.02_1557_0738.jpg\tVan Malacca den 15=en Iulij A:o 1694; hebben van d\t[8.974013532281333e-09, 8.276973062493198e-08, 7.673318869194645e-09, 0.9999998807907104]\n",
      "OUT\tIN\tNL-HaNA_1.04.02_1557_0739.jpg\tVan Malacca Den 14=en Iulij A=o 1694.; ruts zijn t\t[9.496055497493217e-09, 7.848895933193489e-08, 7.436058879761731e-09, 0.9999998807907104]\n",
      "OUT\tIN\tNL-HaNA_1.04.02_1557_0740.jpg\tVan Malacca, den 15; Ao 164; Julij; A; opperhooft \t[8.636712678367076e-09, 8.939083784298418e-08, 7.667437351699391e-09, 0.9999998807907104]\n",
      "OUT\tIN\tNL-HaNA_1.04.02_1557_0741.jpg\tVan Malacca Den 11=en Julij A:o 1694; buijten verm\t[8.941654527916398e-09, 8.418243169217021e-08, 7.899686238488357e-09, 0.9999998807907104]\n",
      "OUT\tIN\tNL-HaNA_1.04.02_1557_0742.jpg\tVan Malacca Den 15=en Julij A=o 1694.; en verstaan\t[9.17714260140201e-09, 8.810572893480639e-08, 8.076801449874438e-09, 0.9999998807907104]\n",
      "OUT\tIN\tNL-HaNA_1.04.02_1557_0743.jpg\tJJulij Ao 69r; Van Malacca Den 18=en; onse gedaght\t[9.442772785916986e-09, 8.253200434182872e-08, 7.93311549784903e-09, 0.9999998807907104]\n",
      "OUT\tIN\tNL-HaNA_1.04.02_1557_0744.jpg\tAo 1690; Van Malacca Den 115; Julij; ontmoetinge, \t[8.77231975948689e-09, 8.319295119463277e-08, 7.805508239755454e-09, 0.9999998807907104]\n",
      "OUT\tIN\tNL-HaNA_1.04.02_1557_0745.jpg\tVan Malacca Den 15=en Julij A=o 1699:; Instructie \t[9.531476052870858e-09, 7.994470507810547e-08, 7.384624911566107e-09, 0.9999998807907104]\n",
      "OUT\tIN\tNL-HaNA_1.04.02_1557_0746.jpg\tVan Malacca den 15=en Iulij; en wat geobserveert z\t[9.270348044765342e-09, 9.234827302861959e-08, 7.819141778497851e-09, 0.9999998807907104]\n",
      "OUT\tIN\tNL-HaNA_1.04.02_1557_0747.jpg\tVan Malacca den 15den IJulij A=o 1694.; van de flu\t[9.643756015975669e-09, 8.368199644337437e-08, 7.791585154848235e-09, 0.9999998807907104]\n",
      "OUT\tIN\tNL-HaNA_1.04.02_1557_0748.jpg\tAo 1699; Van Malacca Den 15=en Iulij; thin ladinge\t[9.119577981664406e-09, 9.233541220510233e-08, 7.895543774338876e-09, 0.9999998807907104]\n",
      "OUT\tIN\tNL-HaNA_1.04.02_1557_0749.jpg\tVan Malacca Den 15=en Iulij A=o 1694:; de Z. w: wi\t[9.071903228630163e-09, 8.987635879975642e-08, 7.539227020458839e-09, 0.9999998807907104]\n",
      "OUT\tIN\tNL-HaNA_1.04.02_1557_0750.jpg\ten; Julij A=o 1694.; Van Malacca den 15; Enige pac\t[9.658243094179397e-09, 7.922822220507442e-08, 7.425981163322604e-09, 0.9999998807907104]\n",
      "OUT\tIN\tNL-HaNA_1.04.02_1557_0751.jpg\tVan Malacca den 15=en Julij A=o 1694:; bij onse mi\t[8.910260085315258e-09, 8.754656732889998e-08, 7.899655152243668e-09, 0.9999998807907104]\n",
      "OUT\tIN\tNL-HaNA_1.04.02_1557_0752.jpg\tVan Malacca den 15=en Iulij A:o 1694.; sullen bij \t[8.969804454750374e-09, 9.278330992401607e-08, 8.00902721920238e-09, 0.9999998807907104]\n",
      "OUT\tIN\tNL-HaNA_1.04.02_1557_0753.jpg\ten; Van Malacca den 15; JJulij; A=o 1694.; twee ma\t[8.882956592515256e-09, 8.206845336644619e-08, 7.729976658765736e-09, 0.9999998807907104]\n",
      "OUT\tIN\tNL-HaNA_1.04.02_1557_0754.jpg\tJulij; Van Malacca den 15; Ao 168; en; gerembouree\t[9.651723864578798e-09, 7.794992740173257e-08, 7.342980890001627e-09, 0.9999998807907104]\n",
      "OUT\tIN\tNL-HaNA_1.04.02_1557_0755.jpg\tVan Malacca den 15=e; Julij; na P=lo lada mede nem\t[9.114482502070587e-09, 8.269445572750556e-08, 7.74717268114955e-09, 0.9999998807907104]\n",
      "OUT\tIN\tNL-HaNA_1.04.02_1557_0756.jpg\tVan Malacca Den 15=en; ull; lij; Ao 1694; li; 8. s\t[9.154118352228124e-09, 8.191097577991968e-08, 7.72957875483371e-09, 0.9999998807907104]\n",
      "OUT\tIN\tNL-HaNA_1.04.02_1557_0757.jpg\tVan Malacca den 15=en; Julij A=o 1694.; 2:' Julij \t[9.154118352228124e-09, 9.138891954307837e-08, 7.276712565840171e-09, 0.9999998807907104]\n",
      "OUT\tIN\tNL-HaNA_1.04.02_1557_0758.jpg\tVan Malacca den 15=en; 1694; Julij; f; 9=en Maij d\t[9.041690063327223e-09, 8.414070151729902e-08, 7.788747424797293e-09, 0.9999998807907104]\n",
      "OUT\tIN\tNL-HaNA_1.04.02_1557_0759.jpg\tVan Malacca den 15=en Julij A=o 1694; 23:e maij do\t[9.244321752532869e-09, 7.698508852627128e-08, 7.173332150500755e-09, 0.9999998807907104]\n",
      "OUT\tIN\tNL-HaNA_1.04.02_1557_0760.jpg\tVan Malacca den 15=en Julij A:o; 169; 2=en Junij; \t[9.764191233330166e-09, 7.773909516117783e-08, 7.157860526518789e-09, 0.9999998807907104]\n",
      "OUT\tIN\tNL-HaNA_1.04.02_1557_0761.jpg\tJulij; Van Malacca Den 15=en; A=o 1694; d; mits di\t[9.367895792422587e-09, 8.585883648493109e-08, 7.256435452518417e-09, 0.9999998807907104]\n",
      "OUT\tIN\tNL-HaNA_1.04.02_1557_0762.jpg\tVan Malacca den 15=en Julij A=o 1694.; gedateert 2\t[9.967870084892638e-09, 7.867060958233196e-08, 7.607856566949067e-09, 0.9999998807907104]\n",
      "OUT\tIN\tNL-HaNA_1.04.02_1557_0763.jpg\tVan Malacca den 15=en Julij A:o 1694; 19:' Julij R\t[1.0131699923476845e-08, 8.355615932487126e-08, 7.711584260050586e-09, 0.9999998807907104]\n",
      "OUT\tIN\tNL-HaNA_1.04.02_1557_0764.jpg\tVan Malacca Den 11=en Julij A:o 1694; van sourobai\t[1.0873106859321524e-08, 8.60568860616695e-08, 7.81742759414783e-09, 0.9999998807907104]\n",
      "OUT\tIN\tNL-HaNA_1.04.02_1557_0765.jpg\tVan Malacca Den 15=en; Julij A=o 1694.; 20. p=ls w\t[1.3396845410795777e-08, 1.0762087043758584e-07, 1.0398608196737769e-08, 0.9999998807907104]\n",
      "OUT\tEND\tNL-HaNA_1.04.02_1557_0766.jpg\tVan Malacca den 15=en Julij; Ao 1694; en 15. koppe\t[1.0742353140358318e-07, 4.902681212115567e-07, 6.215299919176687e-08, 0.9999994039535522]\n",
      "OUT\tBEGIN\tNL-HaNA_1.04.02_1139_1877.jpg\tAnthonij Poulo gedoot; Gerrit Cornelisen van St. p\t[6.447794476116542e-08, 5.244822887107148e-07, 6.805280605703956e-08, 0.9999994039535522]\n",
      "OUT\tIN\tNL-HaNA_1.04.02_1139_1878.jpg\tvan t' Schip Schiedam inde boeijen,; Aris Claesz C\t[1.3124128450670014e-08, 1.0929855420727108e-07, 1.0548450113390118e-08, 0.9999998807907104]\n",
      "OUT\tIN\tNL-HaNA_1.04.02_1139_1879.jpg\tIn t' Bosch genomen als nu als; dan in t leven end\t[1.357155365866447e-08, 1.101263862324231e-07, 1.0408072625978093e-08, 0.9999998807907104]\n",
      "OUT\tEND\tNL-HaNA_1.04.02_1139_1880.jpg\tInde Boeijen sijn wij noch; 32 personen.; 8 uijt d\t[1.0470774469695243e-07, 4.96245093017933e-07, 6.256989593111939e-08, 0.9999994039535522]\n",
      "OUT\tBEGIN\tNL-HaNA_1.04.02_1319_1430.jpg\tNa den ontfangh deses sullen u. sr. aensont ancker\t[6.935507599337143e-07, 3.4211811907880474e-06, 5.798426627734443e-07, 0.999995231628418]\n"
     ]
    },
    {
     "name": "stderr",
     "output_type": "stream",
     "text": [
      "Evaluating:  65%|██████▍   | 37/57 [00:18<00:11,  1.78batch/s]"
     ]
    },
    {
     "name": "stdout",
     "output_type": "stream",
     "text": [
      "OUT\tBEGIN\tNL-HaNA_1.04.02_1557_0095.jpg\tVan Jambij onder dato 10=en Maart A=o 1699.; aan V\t[6.381638684160862e-08, 5.950058152848214e-07, 6.931498575113437e-08, 0.9999992847442627]\n",
      "OUT\tIN\tNL-HaNA_1.04.02_1557_0096.jpg\tVan Jambij onder dato 10=en Maart AA=o 1694.; twee\t[1.2858923703618075e-08, 1.1440111080673887e-07, 1.009362460280272e-08, 0.9999998807907104]\n",
      "OUT\tIN\tNL-HaNA_1.04.02_1557_0097.jpg\tVan Jambij onder dato 10=en Maart A=o 1694.; magh \t[1.023081441786644e-08, 8.812152429982234e-08, 7.569441962118617e-09, 0.9999998807907104]\n",
      "OUT\tIN\tNL-HaNA_1.04.02_1557_0098.jpg\tVan Jambij onder dato 10=en Maart A=o 1694.; de mi\t[9.071833950713426e-09, 7.907483734470588e-08, 7.263525780842883e-09, 0.9999998807907104]\n",
      "OUT\tIN\tNL-HaNA_1.04.02_1557_0099.jpg\tVan Jambij onder dato 10=en Maart A=o 1694.; is ge\t[1.0015686058295614e-08, 7.536398527463462e-08, 7.143444502588636e-09, 0.9999998807907104]\n",
      "OUT\tIN\tNL-HaNA_1.04.02_1557_0100.jpg\tVan Jambij onder dato 10=en Maart A=o 1694. —; Pan\t[9.432854497504195e-09, 7.780763411346925e-08, 6.979856692623798e-09, 0.9999998807907104]\n",
      "OUT\tIN\tNL-HaNA_1.04.02_1557_0101.jpg\tVan Jambij onder dato 10=en Maart A:o 1694; recomp\t[9.281406754269028e-09, 8.148944630193e-08, 7.616044683800283e-09, 0.9999998807907104]\n",
      "OUT\tIN\tNL-HaNA_1.04.02_1557_0102.jpg\tVan Jambij onder dato 10:en Maart A:o 1694.; inten\t[9.395363598230233e-09, 7.733196127901465e-08, 7.1641439447489574e-09, 0.9999998807907104]\n",
      "OUT\tIN\tNL-HaNA_1.04.02_1557_0103.jpg\tVan Jambij onder dato 10=en Maart Anno 1694.; toeg\t[1.0439924480465379e-08, 8.655071326302277e-08, 7.647880551076014e-09, 0.9999998807907104]\n",
      "OUT\tIN\tNL-HaNA_1.04.02_1557_0104.jpg\tVan Jambij onder dato 10:en Maart Anno 1694.; nogh\t[1.0848579812261505e-08, 7.66562848752983e-08, 7.447797489845698e-09, 0.9999998807907104]\n",
      "OUT\tIN\tNL-HaNA_1.04.02_1557_0105.jpg\tVan Jambij onder dato 10en Maart A=o 1694:; de pli\t[1.3623293604325681e-08, 1.0812433970386337e-07, 1.0437455344458613e-08, 0.9999998807907104]\n",
      "OUT\tEND\tNL-HaNA_1.04.02_1557_0106.jpg\tVan Jambij onder dato 10:en Maart A=o 1699; expedi\t[1.0575082143304826e-07, 4.97881444516679e-07, 6.185946688219701e-08, 0.9999994039535522]\n",
      "OUT\tBEGIN\tNL-HaNA_1.04.02_1557_0233.jpg\tVan Palembang onder dato 28=en Iulij A:o 1694.; we\t[7.049442274364992e-08, 5.2811310524703e-07, 7.340544527778547e-08, 0.9999994039535522]\n",
      "OUT\tIN\tNL-HaNA_1.04.02_1557_0234.jpg\tN=o 2. Copia missive door ijdem, aan als vooren va\t[1.9081111801710904e-08, 1.3571379042787157e-07, 1.4155476790733701e-08, 0.9999998807907104]\n",
      "OUT\tEND\tNL-HaNA_1.04.02_1557_0235.jpg\tVan Palembang den 18=en Septemb:r a:o 1694.; N=o 2\t[1.1086989104569511e-07, 5.092860533295607e-07, 6.412741981876025e-08, 0.9999994039535522]\n"
     ]
    },
    {
     "name": "stderr",
     "output_type": "stream",
     "text": [
      "Evaluating:  68%|██████▊   | 39/57 [00:18<00:07,  2.26batch/s]"
     ]
    },
    {
     "name": "stdout",
     "output_type": "stream",
     "text": [
      "OUT\tBEGIN\tNL-HaNA_1.04.02_1210_0135.jpg\tIntleger van d' heer nabab alhier ofte aen sijn; E\t[6.272260577588895e-08, 5.991064995214401e-07, 7.351402331323698e-08, 0.9999992847442627]\n",
      "OUT\tIN\tNL-HaNA_1.04.02_1210_0136.jpg\teijndelijk met sijne mede gebrachte juweelen bij; \t[1.2462678000701999e-08, 1.121244324053805e-07, 1.091660006835582e-08, 0.9999998807907104]\n",
      "OUT\tIN\tNL-HaNA_1.04.02_1210_0137.jpg\tDen koninck van Carnaticas; swager blijft tot noch\t[9.314924831471671e-09, 8.954372532343768e-08, 8.375508286917466e-09, 0.9999998807907104]\n",
      "OUT\tIN\tNL-HaNA_1.04.02_1210_0138.jpg\tmadure ende tansjouwer heeft becomen hoe; sij luij\t[9.719671290042697e-09, 7.747309638261868e-08, 7.413131442035592e-09, 0.9999998807907104]\n",
      "OUT\tIN\tNL-HaNA_1.04.02_1210_0139.jpg\tDen koninck van Carnatica; die eenige juweelen 2 o\t[9.14657771744487e-09, 9.123809263655858e-08, 7.696493220521461e-09, 0.9999998807907104]\n",
      "OUT\tIN\tNL-HaNA_1.04.02_1210_0140.jpg\tsulcx niet als schade sullen behaelen soo dat; dag\t[9.176407189670499e-09, 8.893167091628129e-08, 7.792000822348655e-09, 0.9999998807907104]\n",
      "OUT\tIN\tNL-HaNA_1.04.02_1210_0141.jpg\t665; die gecommitteerde aen sijn ex=ie als vele au\t[8.799434070283496e-09, 8.099977577558093e-08, 7.48902184710687e-09, 0.9999998807907104]\n",
      "OUT\tIN\tNL-HaNA_1.04.02_1210_0142.jpg\tafmaecken soude connen geschieden, maer so den sel\t[9.012712354206087e-09, 8.082677283027806e-08, 7.470403851073115e-09, 0.9999998807907104]\n",
      "OUT\tIN\tNL-HaNA_1.04.02_1210_0143.jpg\tadij 30. e decemb. r; 1655; diverse novos door 's \t[9.04940211654548e-09, 9.120642374682575e-08, 7.466031348712932e-09, 0.9999998807907104]\n",
      "OUT\tIN\tNL-HaNA_1.04.02_1210_0144.jpg\tbevrijt te sijn, waer op den prins beloftenisz. va\t[9.877140882963431e-09, 8.482197699777316e-08, 7.2575154774767725e-09, 0.9999998807907104]\n",
      "OUT\tIN\tNL-HaNA_1.04.02_1210_0145.jpg\tprince genegen was, Carnatica weder te herstellen,\t[9.397334466143548e-09, 8.53660182542626e-08, 7.237995536257813e-09, 0.9999998807907104]\n",
      "OUT\tIN\tNL-HaNA_1.04.02_1210_0146.jpg\tseer onaengenaem soude sijn, dat d' mabas aende; s\t[9.416191382172201e-09, 9.234722142537066e-08, 7.973816273931789e-09, 0.9999998807907104]\n",
      "OUT\tIN\tNL-HaNA_1.04.02_1210_0147.jpg\tmaisoerder 50 O pardaus maendel contribueeren; sou\t[1.0559824126232797e-08, 9.045179183431173e-08, 8.070795587400426e-09, 0.9999998807907104]\n",
      "OUT\tIN\tNL-HaNA_1.04.02_1210_0148.jpg\tdoch seijde nu sal icq den nabab geen consent geve\t[1.4150185911887547e-08, 1.0095669722431921e-07, 9.916858445535581e-09, 0.9999998807907104]\n",
      "OUT\tEND\tNL-HaNA_1.04.02_1210_0149.jpg\thollanders op d' portugesz. (met 1000. m:n) soude;\t[1.0486284196531415e-07, 4.957748842571164e-07, 6.271280028613546e-08, 0.9999994039535522]\n"
     ]
    },
    {
     "name": "stderr",
     "output_type": "stream",
     "text": [
      "Evaluating:  70%|███████   | 40/57 [00:19<00:06,  2.44batch/s]"
     ]
    },
    {
     "name": "stdout",
     "output_type": "stream",
     "text": [
      "OUT\tBEGIN\tNL-HaNA_1.04.02_1557_0244.jpg\tVan Palembang Den 18=en; September A=o 1694.; P:r \t[6.425706544632703e-08, 5.850480988556228e-07, 6.823280784828967e-08, 0.9999992847442627]\n",
      "OUT\tIN\tNL-HaNA_1.04.02_1557_0245.jpg\tVan Palembang onder dato 18=en September A:o 1694.\t[1.3679144039713265e-08, 1.019631810095234e-07, 9.851176763220337e-09, 0.9999998807907104]\n",
      "OUT\tIN\tNL-HaNA_1.04.02_1557_0246.jpg\tVan Palembang onder dato 18=en Septemb: A:o 1694; \t[9.638625009245061e-09, 8.213719837613098e-08, 7.65192176288565e-09, 0.9999998807907104]\n",
      "OUT\tIN\tNL-HaNA_1.04.02_1557_0247.jpg\tVan Palembang onder dato 18:' September A:o 1694.;\t[9.559896874122842e-09, 8.896730463447966e-08, 7.484124431300643e-09, 0.9999998807907104]\n",
      "OUT\tIN\tNL-HaNA_1.04.02_1557_0248.jpg\tVan Palembang onder dato 18:e; September a:o 1694;\t[9.368342546167696e-09, 8.040561283451098e-08, 7.461204987180281e-09, 0.9999998807907104]\n",
      "OUT\tIN\tNL-HaNA_1.04.02_1557_0249.jpg\tVan Palembang onder dato 18=en Septemb: ao 1694.; \t[9.330945793806222e-09, 8.368455439722311e-08, 7.095617871044624e-09, 0.9999998807907104]\n",
      "OUT\tIN\tNL-HaNA_1.04.02_1557_0250.jpg\tVan Palembang onder dato 18=en September a o 1694.\t[9.230649133940005e-09, 8.17904464156527e-08, 7.314199468311244e-09, 0.9999998807907104]\n",
      "OUT\tIN\tNL-HaNA_1.04.02_1557_0251.jpg\tVan Palembang onder dato 18:e September A:o 194.; \t[1.0085348556287954e-08, 8.845680810054546e-08, 7.627821041467087e-09, 0.9999998807907104]\n",
      "OUT\tIN\tNL-HaNA_1.04.02_1557_0252.jpg\tVan Palembang onder dato 18=en September 1694.; da\t[1.3849658309084134e-08, 1.0147117279757367e-07, 1.0201722133729163e-08, 0.9999998807907104]\n",
      "OUT\tEND\tNL-HaNA_1.04.02_1557_0253.jpg\tVan Palembang onder dato 18:en Septemb: a:o 1694; \t[1.03871300893843e-07, 4.98364556733577e-07, 6.358324355915101e-08, 0.9999994039535522]\n"
     ]
    },
    {
     "name": "stderr",
     "output_type": "stream",
     "text": [
      "Evaluating:  72%|███████▏  | 41/57 [00:19<00:07,  2.08batch/s]"
     ]
    },
    {
     "name": "stdout",
     "output_type": "stream",
     "text": [
      "OUT\tBEGIN\tNL-HaNA_1.04.02_1557_0781.jpg\tVan Malacca onder dato 15=en Julij A:o 1694; Rappo\t[6.010015596302765e-08, 5.768561663899163e-07, 7.253764522374695e-08, 0.9999992847442627]\n",
      "OUT\tIN\tNL-HaNA_1.04.02_1557_0782.jpg\tA=o 1694.; Van Malacca onder dato 15=en Iulij; sab\t[1.2924576076045469e-08, 1.2012399963623466e-07, 1.1031216828882862e-08, 0.9999998807907104]\n",
      "OUT\tIN\tNL-HaNA_1.04.02_1557_0783.jpg\tVan Malacca onder dato 15=en Iulij A=o; 1694.; bij\t[1.0142953144054445e-08, 9.188408256477487e-08, 8.165261355941311e-09, 0.9999998807907104]\n",
      "OUT\tIN\tNL-HaNA_1.04.02_1557_0784.jpg\tVan Malacca onder dato 15=en Iulij A=o 1694.; aan \t[9.073651163760132e-09, 8.135278761756126e-08, 7.565184034774575e-09, 0.9999998807907104]\n",
      "OUT\tIN\tNL-HaNA_1.04.02_1557_0785.jpg\ten; Van Malacca onder dato 15=en Iulij A=o 1694.; \t[9.118307886524235e-09, 8.902807024924186e-08, 7.611455465905692e-09, 0.9999998807907104]\n",
      "OUT\tIN\tNL-HaNA_1.04.02_1557_0786.jpg\tVan Malacca onder dato 15=en J Julij A:o 1694; sij\t[9.171209569558414e-09, 8.363237924413625e-08, 7.629624931837498e-09, 0.9999998807907104]\n",
      "OUT\tIN\tNL-HaNA_1.04.02_1557_0787.jpg\tVan Malacca onder dato 15=en Iulij A:o 1694.; van \t[9.694417713035364e-09, 9.182644333805001e-08, 7.719927808125249e-09, 0.9999998807907104]\n",
      "OUT\tIN\tNL-HaNA_1.04.02_1557_0788.jpg\tVan Malacca onder dato 15=en Julij A:o 1694.; spoe\t[9.481105678332824e-09, 7.727725659378848e-08, 6.992729506549722e-09, 0.9999998807907104]\n",
      "OUT\tIN\tNL-HaNA_1.04.02_1557_0789.jpg\tVan Malaca onder dato 15=en Iulij A:o 1644..; te s\t[9.231036379730995e-09, 8.961070108171043e-08, 7.583603967020736e-09, 0.9999998807907104]\n",
      "OUT\tIN\tNL-HaNA_1.04.02_1557_0790.jpg\tVan Malacca onder dato 15=en Iulij A:o 1694.; seve\t[9.424690361470311e-09, 7.744635865947203e-08, 7.197274332071402e-09, 0.9999998807907104]\n",
      "OUT\tIN\tNL-HaNA_1.04.02_1557_0791.jpg\tVan Malacca onder dato 15=en Iulij A=o 1694; varen\t[9.438434034336751e-09, 8.036881382622596e-08, 7.469535212578648e-09, 0.9999998807907104]\n",
      "OUT\tIN\tNL-HaNA_1.04.02_1557_0792.jpg\tVan Malacca onder dato 15=en Iulij A„o 169; mattje\t[9.415670021439837e-09, 8.389294947619419e-08, 7.471744112308443e-09, 0.9999998807907104]\n",
      "OUT\tIN\tNL-HaNA_1.04.02_1557_0793.jpg\ten; Van Malacca onder dato 15=en; Iulij A=o 1694.;\t[9.673600587234432e-09, 8.610827251231967e-08, 7.572359628227332e-09, 0.9999998807907104]\n",
      "OUT\tIN\tNL-HaNA_1.04.02_1557_0794.jpg\tVan Malacca onder dato 15=en Iulij A=o 1694.; gesw\t[9.532057809735761e-09, 8.882504687335313e-08, 7.669587631653485e-09, 0.9999998807907104]\n",
      "OUT\tIN\tNL-HaNA_1.04.02_1557_0795.jpg\tVan Malacca onder dato 15=en Julij A=o 1694.; dan \t[9.884377760727148e-09, 7.908841581638626e-08, 7.622075415270047e-09, 0.9999998807907104]\n",
      "OUT\tIN\tNL-HaNA_1.04.02_1557_0796.jpg\tVan Malacca onder dato 15=en; Julij A=o 1694.; met\t[9.135785461467094e-09, 8.053100941651792e-08, 7.220360309645457e-09, 0.9999998807907104]\n",
      "OUT\tIN\tNL-HaNA_1.04.02_1557_0797.jpg\tVan Malacca onder dato 15=en Julij A=o 1694.; quan\t[9.337195905345652e-09, 8.22044299297886e-08, 7.65609797781508e-09, 0.9999998807907104]\n",
      "OUT\tIN\tNL-HaNA_1.04.02_1557_0798.jpg\tVan Malacca onder dato 15=en Julij A:o 1694.; alth\t[9.761733643642856e-09, 8.897833225773866e-08, 7.420714265293782e-09, 0.9999998807907104]\n",
      "OUT\tIN\tNL-HaNA_1.04.02_1557_0799.jpg\tVan Malacca onder dato 15=en; Iulij A=o 1694.; doe\t[1.0254354698702173e-08, 7.714795202673486e-08, 7.072148644482468e-09, 0.9999998807907104]\n",
      "OUT\tIN\tNL-HaNA_1.04.02_1557_0800.jpg\ten; Julij A:o 1699; Van Malacca onder dato 15=en; \t[9.117942845193738e-09, 8.014547603352185e-08, 7.456709028019759e-09, 0.9999998807907104]\n",
      "OUT\tIN\tNL-HaNA_1.04.02_1557_0801.jpg\tVan Malacca onder dato 15=en Iulij A:o 694.; hij a\t[1.002422855833629e-08, 8.018812991394952e-08, 7.498426768393074e-09, 0.9999998807907104]\n",
      "OUT\tIN\tNL-HaNA_1.04.02_1557_0802.jpg\tVan Malacca onder dato 15=en Iulij A=o 1694.; defe\t[1.0300224673187586e-08, 8.381314131611362e-08, 7.221172992899483e-09, 0.9999998807907104]\n",
      "OUT\tIN\tNL-HaNA_1.04.02_1557_0803.jpg\tVan Malacca onder dato 15=en Julij A:o 1690; dampe\t[1.035619057176973e-08, 7.824844772130746e-08, 7.492707787548625e-09, 0.9999998807907104]\n",
      "OUT\tIN\tNL-HaNA_1.04.02_1557_0804.jpg\tVan Malaca onder dato 15=en JIulij A:o 1698.; her \t[1.4494592193159406e-08, 1.0061260979910003e-07, 9.850069204730971e-09, 0.9999998807907104]\n",
      "OUT\tEND\tNL-HaNA_1.04.02_1557_0805.jpg\tVan Malacca onder dato 15=en Iulij A:o 1699:; P:r \t[1.0315737597466068e-07, 4.891389266958868e-07, 6.162558463529422e-08, 0.9999994039535522]\n"
     ]
    },
    {
     "name": "stderr",
     "output_type": "stream",
     "text": [
      "Evaluating:  74%|███████▎  | 42/57 [00:20<00:07,  2.08batch/s]"
     ]
    },
    {
     "name": "stdout",
     "output_type": "stream",
     "text": [
      "OUT\tBEGIN\tNL-HaNA_1.04.02_1557_0070.jpg\tVan Jambij Den 26=en; Februarij Ao. 1694.; ontfang\t[6.17270927705249e-08, 6.142926736174559e-07, 8.066639622938965e-08, 0.9999992847442627]\n",
      "OUT\tIN\tNL-HaNA_1.04.02_1557_0071.jpg\tVan Jambij Den 10=en Maart A=o 16994.; op de bekom\t[1.2300391816211231e-08, 1.1710880443160931e-07, 1.1240423702929547e-08, 0.9999998807907104]\n",
      "OUT\tIN\tNL-HaNA_1.04.02_1557_0072.jpg\tVan Jambij Den 10=en Maart Anno 1694.; hem om zijn\t[9.228994457544104e-09, 9.441247073027625e-08, 8.118131056278344e-09, 0.9999998807907104]\n",
      "OUT\tIN\tNL-HaNA_1.04.02_1557_0073.jpg\tVan Jambij Den 10=en Maart A=o 1694.; naar Batavia\t[8.887278468705517e-09, 8.136426998817115e-08, 7.553692782380494e-09, 0.9999998807907104]\n",
      "OUT\tIN\tNL-HaNA_1.04.02_1557_0074.jpg\tVan Jambij Den 10=en Maart Anno 1694.—; gedoente v\t[9.291519553755734e-09, 7.960660752814874e-08, 7.219382425205367e-09, 0.9999998807907104]\n",
      "OUT\tIN\tNL-HaNA_1.04.02_1557_0075.jpg\tVan Jambij Den 10=en Maart A=o 1694.; presenteren \t[1.0768529179472353e-08, 9.085327690172562e-08, 7.881054031599888e-09, 0.9999998807907104]\n",
      "OUT\tIN\tNL-HaNA_1.04.02_1557_0076.jpg\tVan Jambij Den 10=en Maart A:o 1694.; adsistentie \t[1.4033242123900891e-08, 1.0022455398939201e-07, 9.906611531107501e-09, 0.9999998807907104]\n",
      "OUT\tEND\tNL-HaNA_1.04.02_1557_0077.jpg\tVan Jambij Den 10=en; Maart Ao. 1644.; Inventaris \t[1.0446417064713387e-07, 5.103561875330342e-07, 6.568571819798308e-08, 0.9999994039535522]\n",
      "OUT\tBEGIN\tNL-HaNA_1.04.02_1557_1220.jpg\tVan Sumatras W=t Cust onder dato 4:en Xber A=o 169\t[8.876805424051781e-08, 6.767104991922679e-07, 9.17320122084675e-08, 0.9999990463256836]\n",
      "OUT\tEND\tNL-HaNA_1.04.02_1557_1221.jpg\tVan Sumatras W:t Cust onder dato 4=en Xber A:o 169\t[1.4408425386136514e-07, 6.434368060581619e-07, 8.575091925422385e-08, 0.9999991655349731]\n"
     ]
    },
    {
     "name": "stderr",
     "output_type": "stream",
     "text": [
      "Evaluating:  77%|███████▋  | 44/57 [00:21<00:05,  2.47batch/s]"
     ]
    },
    {
     "name": "stdout",
     "output_type": "stream",
     "text": [
      "OUT\tOUT\tNL-HaNA_1.04.02_1547_0662.jpg\t\t[6.217267412012006e-08, 6.277145985222887e-07, 7.224602427413629e-08, 0.9999992847442627]\n",
      "OUT\tBEGIN\tNL-HaNA_1.04.02_1547_0663.jpg\t46025: I=s mogta kleeden off chiomen Namentlijk.; \t[1.2828448525681324e-08, 1.147551458302587e-07, 1.0167222619372751e-08, 0.9999998807907104]\n",
      "OUT\tIN\tNL-HaNA_1.04.02_1547_0664.jpg\t2921. P=s dubb: hiomas off tesserse pantsia, alle \t[1.031463536804722e-08, 8.622052405371505e-08, 7.470504215234541e-09, 0.9999998807907104]\n",
      "OUT\tIN\tNL-HaNA_1.04.02_1547_0665.jpg\tTransport - - - ƒ157645. 1. 4; no; n.; 222: p=s be\t[9.086120300594303e-09, 7.801924795103332e-08, 7.232765497633409e-09, 0.9999998807907104]\n",
      "OUT\tIN\tNL-HaNA_1.04.02_1547_0666.jpg\tP„r Transport . ƒ252638. 9. 6; 1069. 14. 11 „ 4567\t[1.0065785538415639e-08, 7.446494265650472e-08, 7.0647740990636976e-09, 0.9999998807907104]\n",
      "OUT\tIN\tNL-HaNA_1.04.02_1547_0667.jpg\t79: stx: 9 Moors duk: den 20=en 9b=r met 't fluijt\t[9.521464505723998e-09, 7.734066542752771e-08, 6.939516072890228e-09, 0.9999998807907104]\n",
      "OUT\tIN\tNL-HaNA_1.04.02_1547_0668.jpg\tP„r Transport - - - - - 843923. 8. 15; -„ 250. 8. \t[9.314836013629701e-09, 8.060277423282969e-08, 7.526999468154827e-09, 0.9999998807907104]\n",
      "OUT\tIN\tNL-HaNA_1.04.02_1547_0669.jpg\tTransport ƒ91051. 4. 5; 120: p=s gessiapaats beslo\t[9.528585920293153e-09, 7.64827845500804e-08, 7.123524881080812e-09, 0.9999998807907104]\n",
      "OUT\tIN\tNL-HaNA_1.04.02_1547_0670.jpg\tTransport - - - ƒ 34242. 89; 10 21¾4 8. holl: dama\t[1.0416135509672131e-08, 8.332110468245446e-08, 7.391840028958541e-09, 0.9999998807907104]\n",
      "OUT\tIN\tNL-HaNA_1.04.02_1547_0671.jpg\tP„r Transport ƒ442709: 5: 11; 7. kassen en 1. p=lk\t[1.078725730963015e-08, 7.646557520502029e-08, 7.41361239064986e-09, 0.9999998807907104]\n",
      "OUT\tIN\tNL-HaNA_1.04.02_1547_0672.jpg\t„ Transport ƒ46364314:10; 12 p=s metale kanon name\t[1.3916811703040821e-08, 1.062668744111761e-07, 1.027391327568239e-08, 0.9999998807907104]\n",
      "OUT\tEND\tNL-HaNA_1.04.02_1547_0673.jpg\tDoor carsten Jacobsz van vlaandinge oppertimmerman\t[1.0539561401401443e-07, 4.910987740913697e-07, 6.182819589639621e-08, 0.9999994039535522]\n",
      "OUT\tBEGIN\tNL-HaNA_1.04.02_3577_0658.jpg\tTonoraaae Sima der Artnuuerg en; De Corre Corre Bo\t[8.864893885629499e-08, 6.769847686882713e-07, 9.177279025607277e-08, 0.9999990463256836]\n",
      "OUT\tEND\tNL-HaNA_1.04.02_3577_0659.jpg\tAmmunitie Goederen, waar meede de Ondervolgende Co\t[1.440724304302421e-07, 6.434380566133768e-07, 8.574535570460284e-08, 0.9999991655349731]\n"
     ]
    },
    {
     "name": "stderr",
     "output_type": "stream",
     "text": [
      "Evaluating:  81%|████████  | 46/57 [00:21<00:03,  2.96batch/s]"
     ]
    },
    {
     "name": "stdout",
     "output_type": "stream",
     "text": [
      "OUT\tBEGIN\tNL-HaNA_1.04.02_1218_0951.jpg\tBeschrijvinge den Bormosaansche; Docken, huijsen e\t[6.264213681106412e-08, 5.952839501333074e-07, 7.873120466683758e-08, 0.9999992847442627]\n",
      "OUT\tIN\tNL-HaNA_1.04.02_1218_0952.jpg\tTarrouquan.-; Takkais; Poalij - - - -; Balis; Baba\t[1.2562820117523188e-08, 1.1011420042450482e-07, 1.0885453427533776e-08, 0.9999998807907104]\n",
      "OUT\tIN\tNL-HaNA_1.04.02_1218_0953.jpg\tdalivo; Goumol:..; Doubale Bajan; Ballebais; dubal\t[9.287036917271507e-09, 9.095036546113988e-08, 7.933493861855823e-09, 0.9999998807907104]\n",
      "OUT\tIN\tNL-HaNA_1.04.02_1218_0954.jpg\tKatsileij Rebel.; . .; Todorouw; Barbaras . . .; C\t[8.914406990356838e-09, 8.06722866286691e-08, 7.50492290535476e-09, 0.9999998807907104]\n",
      "OUT\tIN\tNL-HaNA_1.04.02_1218_0955.jpg\t96. Dorpen.; Saradick.; Schitsiringh..; De Volgend\t[9.390937805164867e-09, 7.890880482364082e-08, 7.169871363288394e-09, 0.9999998807907104]\n",
      "OUT\tIN\tNL-HaNA_1.04.02_1218_0956.jpg\tEquintouwante dorpen; Appassouangh; Taramimissan; \t[1.072709920890702e-08, 8.965309916675324e-08, 7.746479013803764e-09, 0.9999998807907104]\n",
      "OUT\tIN\tNL-HaNA_1.04.02_1218_0957.jpg\tSalibon. . .; Sippejen; Turreturrick; Canaperappej\t[1.4252901081590608e-08, 9.907523690344533e-08, 9.81850067915957e-09, 0.9999998807907104]\n",
      "OUT\tEND\tNL-HaNA_1.04.02_1218_0958.jpg\tKincolan; Roepop; Nammearij; Rurameij; Arangh- . .\t[1.0431087105189363e-07, 4.937506332680641e-07, 6.291695342497405e-08, 0.9999994039535522]\n"
     ]
    },
    {
     "name": "stderr",
     "output_type": "stream",
     "text": [
      "Evaluating:  82%|████████▏ | 47/57 [00:21<00:03,  3.18batch/s]"
     ]
    },
    {
     "name": "stdout",
     "output_type": "stream",
     "text": [
      "OUT\tBEGIN\tNL-HaNA_1.04.02_1557_0376.jpg\tVan Siam onder dato 16=en Januarij A„o 1694.; Inst\t[6.183881140486847e-08, 5.405327101470903e-07, 7.048191719150054e-08, 0.9999992847442627]\n",
      "OUT\tIN\tNL-HaNA_1.04.02_1557_0377.jpg\tVan Siam onder dato 16:en Januarij A:o 1694.; Leve\t[1.1918401376931342e-08, 1.2406842131440499e-07, 1.1101313646122435e-08, 0.9999998807907104]\n",
      "OUT\tIN\tNL-HaNA_1.04.02_1557_0378.jpg\tVan Siam onder dato 16=en Januarij A:o 1694.; gera\t[9.116690513621961e-09, 8.30239699212143e-08, 7.636526078158568e-09, 0.9999998807907104]\n",
      "OUT\tIN\tNL-HaNA_1.04.02_1557_0379.jpg\tVan Siam onder dato 16=en Januarij A:o 1694; voor \t[9.13606434949088e-09, 7.9486440540677e-08, 7.350337227762793e-09, 0.9999998807907104]\n",
      "OUT\tIN\tNL-HaNA_1.04.02_1557_0380.jpg\tVan Siam onder dato 16:' Januarij A=o 1694.; schul\t[1.0347700474255817e-08, 8.029389420016741e-08, 7.516655742279e-09, 0.9999998807907104]\n",
      "OUT\tIN\tNL-HaNA_1.04.02_1557_0381.jpg\tVan Siam onder dato 16=en Januarij A:o 1694.; gele\t[1.4279376792103449e-08, 1.0295319441411266e-07, 9.733269301648306e-09, 0.9999998807907104]\n",
      "OUT\tEND\tNL-HaNA_1.04.02_1557_0382.jpg\tVan Siam onder Dato 16=en Januarij A=o 1694.; wede\t[1.0220438184660452e-07, 5.009219421481248e-07, 6.2625900909552e-08, 0.9999994039535522]\n",
      "OUT\tBEGIN\tNL-HaNA_1.04.02_1557_0315.jpg\tVan Palembang onder dato 21=en October Anno 1694.;\t[8.864962097732132e-08, 6.770913500986353e-07, 9.179309756746079e-08, 0.9999990463256836]\n",
      "OUT\tEND\tNL-HaNA_1.04.02_1557_0316.jpg\tVan Palembang onder dato 21:en October A=o 1694.; \t[1.4407778792246972e-07, 6.434429451473989e-07, 8.574715337772432e-08, 0.9999991655349731]\n"
     ]
    },
    {
     "name": "stderr",
     "output_type": "stream",
     "text": [
      "Evaluating:  86%|████████▌ | 49/57 [00:22<00:02,  3.81batch/s]"
     ]
    },
    {
     "name": "stdout",
     "output_type": "stream",
     "text": [
      "OUT\tBEGIN\tNL-HaNA_1.04.02_1557_1289.jpg\tVan Sumatras W=t Cust Den 30:e December A:o 1694; \t[6.471300650900957e-08, 5.75254205159581e-07, 6.716368261550087e-08, 0.9999992847442627]\n",
      "OUT\tIN\tNL-HaNA_1.04.02_1557_1290.jpg\tVan Sumatras Wt Cust den 30:en December A:o 1694.;\t[1.3585046865216555e-08, 9.829222591406506e-08, 9.791925492663722e-09, 0.9999998807907104]\n",
      "OUT\tIN\tNL-HaNA_1.04.02_1557_1291.jpg\tVan Sumatras W=t Cust den 30:en December A=o 1694.\t[9.70242730602422e-09, 8.031825160514927e-08, 7.519007638734365e-09, 0.9999998807907104]\n",
      "OUT\tIN\tNL-HaNA_1.04.02_1557_1292.jpg\tVan Sumatras W=t Cust Den 30:en December A:o 1694;\t[9.514239174279737e-09, 8.368247961243469e-08, 7.333029294898097e-09, 0.9999998807907104]\n",
      "OUT\tIN\tNL-HaNA_1.04.02_1557_1293.jpg\tVan Sumatras W=t Cust Den 30=en xber A:o 1694.; en\t[9.431901482059857e-09, 7.819682679155449e-08, 7.229965515165304e-09, 0.9999998807907104]\n",
      "OUT\tIN\tNL-HaNA_1.04.02_1557_1294.jpg\tVan Sumatras W=t Cust Den 30=en xber A=o 1694.; ge\t[9.231899689154943e-09, 7.92679770711402e-08, 7.022053161165331e-09, 0.9999998807907104]\n",
      "OUT\tIN\tNL-HaNA_1.04.02_1557_1295.jpg\tVan Sumatras W=t Cust Den 30:e Decemb:r A:o 1694; \t[9.25912679861085e-09, 7.927009448849276e-08, 7.139780322518163e-09, 0.9999998807907104]\n",
      "OUT\tIN\tNL-HaNA_1.04.02_1557_1296.jpg\tVan Sumatras W=t Cust Den 30:en Xber A=o 1694.; ge\t[9.999729044807282e-09, 8.29818560532658e-08, 7.547341418501219e-09, 0.9999998807907104]\n",
      "OUT\tIN\tNL-HaNA_1.04.02_1557_1297.jpg\tVan Sumatras W=t Cust den 30:e December A:o 1694.;\t[1.4085532740182316e-08, 9.987400773070476e-08, 1.0029181929382958e-08, 0.9999998807907104]\n",
      "OUT\tEND\tNL-HaNA_1.04.02_1557_1298.jpg\tVan Sumatras W=t Cust den 30:en xber A=o 1694.; he\t[1.0378140302691463e-07, 4.877428523286653e-07, 6.186607492963958e-08, 0.9999994039535522]\n"
     ]
    },
    {
     "name": "stderr",
     "output_type": "stream",
     "text": [
      "Evaluating:  88%|████████▊ | 50/57 [00:23<00:02,  2.39batch/s]"
     ]
    },
    {
     "name": "stdout",
     "output_type": "stream",
     "text": [
      "OUT\tBEGIN\tNL-HaNA_1.04.02_1509_1538.jpg\tMonsterolle van alle sComp:s Loontreckende; Monste\t[3.5058863545600616e-07, 3.855730483337538e-06, 5.490112471306929e-07, 0.999995231628418]\n",
      "OUT\tIN\tNL-HaNA_1.04.02_1509_1539.jpg\tdienaren dewelcke in't Cormandelse Gouvernement bi\t[3.5411012788699736e-08, 3.8891334952495527e-07, 3.605458331890077e-08, 0.9999995231628418]\n",
      "OUT\tIN\tNL-HaNA_1.04.02_1509_1540.jpg\t339. en 35. persoonen p=r Transport. —; Namen, Toe\t[2.1363634417070898e-08, 2.310712261532899e-07, 1.936296989413222e-08, 0.9999997615814209]\n",
      "OUT\tIN\tNL-HaNA_1.04.02_1509_1541.jpg\t90; d=o.. . ..; Adsistent; Chirurgijn. . . . ƒ 36.\t[1.9417187857584395e-08, 2.0671159006724338e-07, 1.6945087111253088e-08, 0.9999997615814209]\n",
      "OUT\tIN\tNL-HaNA_1.04.02_1509_1542.jpg\t339 en 74. persoonen P=r Transport; Namen, Toename\t[1.913650926610444e-08, 2.014057685073567e-07, 1.640163915794801e-08, 0.9999997615814209]\n",
      "OUT\tIN\tNL-HaNA_1.04.02_1509_1543.jpg\tsiekevaar. . . ƒ 20. walcheren. . . . . 1662. Zeel\t[1.9052743382985682e-08, 1.9892969760348933e-07, 1.6152807091884824e-08, 0.9999997615814209]\n",
      "OUT\tIN\tNL-HaNA_1.04.02_1509_1544.jpg\t339. en 113. persoonen P=r Transport.; Namen, Toen\t[1.9224126290851018e-08, 1.997269549747216e-07, 1.6188741014389052e-08, 0.9999997615814209]\n",
      "OUT\tIN\tNL-HaNA_1.04.02_1509_1545.jpg\tp:l timmerman. ƒ 11. d' bergh China. . . 1682. Ams\t[1.904475155356522e-08, 1.9708461707068636e-07, 1.595390664022034e-08, 0.9999997615814209]\n",
      "OUT\tIN\tNL-HaNA_1.04.02_1509_1546.jpg\t339. en 155. persoonen P=r Transport; 1. Abraham f\t[1.904540347652528e-08, 1.9665840511606802e-07, 1.5912211992485936e-08, 0.9999997615814209]\n",
      "OUT\tIN\tNL-HaNA_1.04.02_1509_1547.jpg\t90; 90; 90; 90; D=o; d=o; 90; D=o; 90; 90; D=o; D=\t[1.89112903115074e-08, 1.9486894586862036e-07, 1.5770293515515732e-08, 0.9999997615814209]\n",
      "OUT\tIN\tNL-HaNA_1.04.02_1509_1548.jpg\t339. en 195. persoonen P=r Transport —; Namen, Toe\t[1.9031858755624853e-08, 1.960144970780675e-07, 1.586315079293854e-08, 0.9999997615814209]\n",
      "OUT\tIN\tNL-HaNA_1.04.02_1509_1549.jpg\t90; 90; 90; 40; 90; D=; D=o; D=o; D=o; D=o; D=o; 9\t[1.8959106284910376e-08, 1.9500932069149712e-07, 1.5784436868671037e-08, 0.9999997615814209]\n",
      "OUT\tIN\tNL-HaNA_1.04.02_1509_1550.jpg\t339. en 236. persoonen p=r Transport; Namen, Toena\t[1.903302049299782e-08, 1.956585151674517e-07, 1.5839386691141044e-08, 0.9999997615814209]\n",
      "OUT\tIN\tNL-HaNA_1.04.02_1509_1551.jpg\tdo.; 90; do; 90; do; do; 90; 90; 90; D=o. . . . „;\t[1.896004775403526e-08, 1.9464886236164602e-07, 1.5764069161150474e-08, 0.9999997615814209]\n",
      "OUT\tIN\tNL-HaNA_1.04.02_1509_1552.jpg\t339. en 278. persoonen P=r Transport; Namen, Toena\t[1.9197159417672083e-08, 1.9699703557307657e-07, 1.5957832388835413e-08, 0.9999997615814209]\n",
      "OUT\tIN\tNL-HaNA_1.04.02_1509_1553.jpg\tw:t p:r met wat schip in india; presente qualitijt\t[1.8913491217631417e-08, 1.936303704042075e-07, 1.5689197496726592e-08, 0.9999997615814209]\n",
      "OUT\tIN\tNL-HaNA_1.04.02_1509_1554.jpg\t339. en 320. persoonen p=r Transport; Namen, Toena\t[1.9017779351315767e-08, 1.9456477673429617e-07, 1.5773272465935406e-08, 0.9999997615814209]\n",
      "OUT\tIN\tNL-HaNA_1.04.02_1509_1555.jpg\tCommand:r te water en te; noorder Cormandel; „coop\t[1.8958095537868758e-08, 1.935853077839056e-07, 1.570392882399574e-08, 0.9999997615814209]\n",
      "OUT\tIN\tNL-HaNA_1.04.02_1509_1556.jpg\t356. persoonen p=r Transport; Namen toenamen en ge\t[1.9020173880335278e-08, 1.939345679602411e-07, 1.5740424075261217e-08, 0.9999997615814209]\n",
      "OUT\tIN\tNL-HaNA_1.04.02_1509_1557.jpg\tw:t p:r met wat schip in jndia..; presente qualiti\t[1.870737342812845e-08, 1.9002452233962686e-07, 1.5454800106340372e-08, 0.9999997615814209]\n",
      "OUT\tIN\tNL-HaNA_1.04.02_1509_1558.jpg\t391. persoonen p:r transport; Namen, Toenamen, en \t[1.920202841176888e-08, 1.9505544912590267e-07, 1.5871897574015748e-08, 0.9999997615814209]\n",
      "OUT\tIN\tNL-HaNA_1.04.02_1509_1559.jpg\tw:t p:r met wat schip in; presente qualitijt. maen\t[1.900041191049695e-08, 1.921915213642933e-07, 1.5647897200210537e-08, 0.9999997615814209]\n",
      "OUT\tIN\tNL-HaNA_1.04.02_1509_1560.jpg\tNamen Toenamen en Geboorte plaatsen; 1. bastiaan I\t[1.9108897575392803e-08, 1.9252611593856273e-07, 1.569844698678935e-08, 0.9999997615814209]\n",
      "OUT\tIN\tNL-HaNA_1.04.02_1509_1561.jpg\tw:t p:r met wat schip in jndia/; presente qualitij\t[1.9147096352867266e-08, 1.917625525038602e-07, 1.5668863539985978e-08, 0.9999997615814209]\n",
      "OUT\tIN\tNL-HaNA_1.04.02_1509_1562.jpg\t464. persoonen p:r transport; Namen Toenamen en Ge\t[1.942285443590208e-08, 1.930302317987298e-07, 1.5817498422165954e-08, 0.9999997615814209]\n",
      "OUT\tIN\tNL-HaNA_1.04.02_1509_1563.jpg\tp:r coopm: en opperh:t van; tegenep: en p:r novo: \t[1.9331492850938048e-08, 1.896237193932393e-07, 1.5605007064323217e-08, 0.9999997615814209]\n",
      "OUT\tIN\tNL-HaNA_1.04.02_1509_1564.jpg\t504. persoonen p=r Transport; Namen, Toenamen, en \t[2.0073144924026565e-08, 1.9279050889053906e-07, 1.599205035063278e-08, 0.9999997615814209]\n",
      "OUT\tIN\tNL-HaNA_1.04.02_1509_1565.jpg\tw:t p:r met wat schip in; presente qualitijt maent\t[2.277076838197445e-08, 2.0767087960393837e-07, 1.754180267710126e-08, 0.9999997615814209]\n",
      "OUT\tIN\tNL-HaNA_1.04.02_1509_1566.jpg\tOp Nagapatnam zijn nogh bescheijden d'volgende; Bo\t[4.308268586328268e-08, 3.3092061357820057e-07, 2.985093061624866e-08, 0.9999995231628418]\n",
      "OUT\tEND\tNL-HaNA_1.04.02_1509_1567.jpg\t103 en 84. persoonen p:r transport; 1. toatongoe v\t[7.494558076359681e-07, 3.128790012851823e-06, 3.715084915256739e-07, 0.9999958276748657]\n"
     ]
    },
    {
     "name": "stderr",
     "output_type": "stream",
     "text": [
      "Evaluating:  89%|████████▉ | 51/57 [00:23<00:02,  2.05batch/s]"
     ]
    },
    {
     "name": "stdout",
     "output_type": "stream",
     "text": [
      "OUT\tBEGIN\tNL-HaNA_1.04.02_3095_0015.jpg\tRegister der Papieren; werdende versonden per het \t[6.707189470489539e-08, 5.883115932192595e-07, 6.730513035790864e-08, 0.9999992847442627]\n",
      "OUT\tIN\tNL-HaNA_1.04.02_3095_0016.jpg\t4.; orig: in genaagt, a:o p„o; d'Edele Groot Agtba\t[1.2054706566289042e-08, 1.1191590232328963e-07, 1.1158014956436091e-08, 0.9999998807907104]\n",
      "OUT\tIN\tNL-HaNA_1.04.02_3095_0017.jpg\tN:o 7. Copia Generale Resolutien des Casteels; Bat\t[9.273036560841774e-09, 8.624519409750064e-08, 8.022848163591334e-09, 0.9999998807907104]\n",
      "OUT\tIN\tNL-HaNA_1.04.02_3095_0018.jpg\tCommissien, Memorien,; Jnstructien en z:, welke; v\t[8.735769441159391e-09, 8.155226538519855e-08, 7.522363176803992e-09, 0.9999998807907104]\n",
      "OUT\tIN\tNL-HaNA_1.04.02_3095_0019.jpg\tNo 14. Thien. Gesloten Pacquetten, houdende; de ad\t[9.401368572525826e-09, 8.745627866346695e-08, 7.398893053789379e-09, 0.9999998807907104]\n",
      "OUT\tIN\tNL-HaNA_1.04.02_3095_0020.jpg\tCommissien, Memorien; Jnstructien en z:, weg; van \t[9.633571274036967e-09, 7.949569180709659e-08, 7.459028061873596e-09, 0.9999998807907104]\n",
      "OUT\tIN\tNL-HaNA_1.04.02_3095_0021.jpg\tden Raad ten evengemelde; Gouvernemente aan als; v\t[9.237430376174416e-09, 8.717100286048662e-08, 7.491765430245323e-09, 0.9999998807907104]\n",
      "OUT\tIN\tNL-HaNA_1.04.02_3095_0022.jpg\tBengale zyn vertrokken; zynde dit paquet gelegt; i\t[9.183182214655972e-09, 7.916915478745068e-08, 7.484395325718651e-09, 0.9999998807907104]\n",
      "OUT\tIN\tNL-HaNA_1.04.02_3095_0023.jpg\tGouverneur van Malacca; Mr. Thomas Schippers; als \t[8.74954420027052e-09, 9.268054412814308e-08, 7.751281394519083e-09, 0.9999998807907104]\n",
      "OUT\tIN\tNL-HaNA_1.04.02_3095_0024.jpg\tdit berigt nog niet; ingekomen zijnde; zal bij nad\t[8.94588492172943e-09, 8.324787614810703e-08, 7.809796365165766e-09, 0.9999998807907104]\n",
      "OUT\tIN\tNL-HaNA_1.04.02_3095_0025.jpg\tN:o 22. Copia Berigt vande Administra„; teurs inde\t[8.854285304948917e-09, 8.768627424160513e-08, 7.93856536063231e-09, 0.9999998807907104]\n",
      "OUT\tIN\tNL-HaNA_1.04.02_3095_0026.jpg\tde met verscheide scheepen; aangebragte Manufactuu\t[8.654835959021057e-09, 8.933305650771217e-08, 8.019375385970307e-09, 0.9999998807907104]\n",
      "OUT\tIN\tNL-HaNA_1.04.02_3095_0027.jpg\ten 1769. van Cochim overge; sonden, waarbij densel\t[9.280131330058339e-09, 8.64396838551329e-08, 8.001804552293379e-09, 0.9999998807907104]\n",
      "OUT\tIN\tNL-HaNA_1.04.02_3095_0028.jpg\tN:o 28 Drie Copia Berigten van eevengem:; E: Honti\t[9.589646410290698e-09, 8.133479667549182e-08, 7.781575384058215e-09, 0.9999998807907104]\n",
      "OUT\tIN\tNL-HaNA_1.04.02_3095_0029.jpg\tN:o 30 Copia Request door den advocaat M:r Jacob; \t[8.702857989817403e-09, 8.515768712413774e-08, 7.907961396824703e-09, 0.9999998807907104]\n",
      "OUT\tIN\tNL-HaNA_1.04.02_3095_0030.jpg\tsComp:s wapenkamer Reisich; en Expresse gecommitte\t[9.627968644565499e-09, 9.789800259341064e-08, 8.308238541587798e-09, 0.9999998807907104]\n",
      "OUT\tIN\tNL-HaNA_1.04.02_3095_0031.jpg\tN:o 35. Een Exomplaar van het Generaal Re„; 1 glem\t[9.092934405430242e-09, 8.511124605092846e-08, 7.662145584674818e-09, 0.9999998807907104]\n",
      "OUT\tIN\tNL-HaNA_1.04.02_3095_0032.jpg\tN:o 38. Tes origineele; Actens van Indem; & niteil\t[9.814811186004135e-09, 8.138025719972575e-08, 7.312149108429367e-09, 0.9999998807907104]\n",
      "OUT\tIN\tNL-HaNA_1.04.02_3095_0033.jpg\tN:o 40. Vier Turksche Passen vande afgelegde en; v\t[9.225650465793933e-09, 8.156875708209554e-08, 7.700384330178167e-09, 0.9999998807907104]\n",
      "OUT\tIN\tNL-HaNA_1.04.02_3095_0034.jpg\tGeneraalen Eisch van behoeftens uijt; No 44; Neder\t[9.649258281285711e-09, 8.43137186734566e-08, 7.0219727810183485e-09, 0.9999998807907104]\n",
      "OUT\tIN\tNL-HaNA_1.04.02_3095_0035.jpg\tN:o 49 Generaal Rendement vande verkogte; 1 onbesc\t[1.0782525095009987e-08, 8.805633910924371e-08, 7.720002415112504e-09, 0.9999998807907104]\n",
      "OUT\tIN\tNL-HaNA_1.04.02_3095_0036.jpg\tN: 53. Maandelyksche Restanten inde; groote geldka\t[1.36991182841939e-08, 1.0877530343122999e-07, 1.0746534329086899e-08, 0.9999998807907104]\n",
      "OUT\tEND\tNL-HaNA_1.04.02_3095_0037.jpg\tN:o 57: Sommarium van het geladene in tien; Retoúr\t[1.0668679806258297e-07, 5.454194251797162e-07, 6.274509445347576e-08, 0.9999992847442627]\n"
     ]
    },
    {
     "name": "stderr",
     "output_type": "stream",
     "text": [
      "Evaluating:  91%|█████████ | 52/57 [00:24<00:02,  2.37batch/s]"
     ]
    },
    {
     "name": "stdout",
     "output_type": "stream",
     "text": [
      "OUT\tBEGIN\tNL-HaNA_1.04.02_1557_0578.jpg\tVan Japan onder dato 7=en November; Voor Bengale a\t[6.487887560524541e-08, 5.303181183080596e-07, 7.122248035784651e-08, 0.9999994039535522]\n",
      "OUT\tIN\tNL-HaNA_1.04.02_1557_0579.jpg\tVan Japan onder dato 7=en November a:o 1694; moght\t[1.2651646841277397e-08, 1.0274701622847715e-07, 1.0053525123510099e-08, 0.9999998807907104]\n",
      "OUT\tIN\tNL-HaNA_1.04.02_1557_0580.jpg\tVan Japan onder dato 7=en November A:o 1694; agt t\t[1.1154057233397907e-08, 8.69645759848936e-08, 7.901885368255535e-09, 0.9999998807907104]\n",
      "OUT\tIN\tNL-HaNA_1.04.02_1557_0581.jpg\tVan Japan onder dato 7:en November A:o 1694.; de t\t[1.4506623458032664e-08, 9.857441085614482e-08, 9.826987223959804e-09, 0.9999998807907104]\n",
      "OUT\tEND\tNL-HaNA_1.04.02_1557_0582.jpg\tVan Japan onder dato 7:en November A:o 1694; is te\t[1.0502496650133253e-07, 4.866477638643119e-07, 6.152598786002272e-08, 0.9999994039535522]\n",
      "OUT\tOUT\tNL-HaNA_1.04.02_1557_0319.jpg\te ane ed ven ing; e e de\t[6.469511504292313e-08, 5.784454515378457e-07, 6.777700889415428e-08, 0.9999992847442627]\n",
      "OUT\tOUT\tNL-HaNA_1.04.02_1557_0320.jpg\t\t[1.3842369916972075e-08, 1.0796936322776673e-07, 9.955576807385569e-09, 0.9999998807907104]\n",
      "OUT\tOUT\tNL-HaNA_1.04.02_1557_0321.jpg\t\t[9.648043253207561e-09, 8.961018238551333e-08, 7.99419197505813e-09, 0.9999998807907104]\n",
      "OUT\tOUT\tNL-HaNA_1.04.02_1557_0322.jpg\t\t[9.611657247887706e-09, 9.186077676304194e-08, 7.60314122771888e-09, 0.9999998807907104]\n",
      "OUT\tOUT\tNL-HaNA_1.04.02_1557_0323.jpg\t\t[9.326497796280364e-09, 8.294735920344465e-08, 7.582085181923048e-09, 0.9999998807907104]\n",
      "OUT\tOUT\tNL-HaNA_1.04.02_1557_0324.jpg\t\t[9.39875022254455e-09, 8.658423666929593e-08, 7.181011785206692e-09, 0.9999998807907104]\n",
      "OUT\tOUT\tNL-HaNA_1.04.02_1557_0325.jpg\t\t[9.37250632659925e-09, 9.240235954166565e-08, 7.722373851493103e-09, 0.9999998807907104]\n",
      "OUT\tOUT\tNL-HaNA_1.04.02_1557_0326.jpg\t\t[1.0101520508953854e-08, 9.149339064151718e-08, 7.766495002670126e-09, 0.9999998807907104]\n",
      "OUT\tBEGIN\tNL-HaNA_1.04.02_1557_0327.jpg\t14:en Januarij, P:r de; Chivet kat; sedert den eer\t[1.3809827059674262e-08, 1.0153177498750665e-07, 1.0208943024281325e-08, 0.9999998807907104]\n",
      "OUT\tEND\tNL-HaNA_1.04.02_1557_0327.jpg\t14:en Januarij, P:r de; Chivet kat; sedert den eer\t[1.0373013736852954e-07, 4.971706744072435e-07, 6.341296199252611e-08, 0.9999994039535522]\n"
     ]
    },
    {
     "name": "stderr",
     "output_type": "stream",
     "text": [
      "Evaluating:  95%|█████████▍| 54/57 [00:24<00:01,  2.82batch/s]"
     ]
    },
    {
     "name": "stdout",
     "output_type": "stream",
     "text": [
      "OUT\tBEGIN\tNL-HaNA_1.04.02_1557_0667.jpg\tVan Malacca onder deno 1:e' Februarij ao 194.; Toe\t[6.228722071455195e-08, 6.030359713804501e-07, 7.951808811412775e-08, 0.9999992847442627]\n",
      "OUT\tIN\tNL-HaNA_1.04.02_1557_0668.jpg\tVan Malacca onder Dato 11=en Februarij A:o 1694.; \t[1.192836229790828e-08, 1.2104675306545687e-07, 1.0667175587286692e-08, 0.9999998807907104]\n",
      "OUT\tIN\tNL-HaNA_1.04.02_1557_0669.jpg\tVan Malacca onder dato 11:e' Februarij ao 1694; la\t[9.810731782522453e-09, 9.123461097715335e-08, 7.82584130831765e-09, 0.9999998807907104]\n",
      "OUT\tIN\tNL-HaNA_1.04.02_1557_0670.jpg\tVan Malacca onder dato 11=e' Februarij A=o 1694.; \t[9.518504207051137e-09, 7.969882886982305e-08, 7.419695080557176e-09, 0.9999998807907104]\n",
      "OUT\tIN\tNL-HaNA_1.04.02_1557_0671.jpg\tVan Malaca onder dato 15:en Februarij Ao 194; port\t[9.155515456882313e-09, 8.837316300969178e-08, 7.265008150625363e-09, 0.9999998807907104]\n",
      "OUT\tIN\tNL-HaNA_1.04.02_1557_0672.jpg\tVan Malaca onder dato 11„en Februarij A:o 1644:; h\t[9.956184321424644e-09, 7.575035709805888e-08, 7.1120127564938684e-09, 0.9999998807907104]\n",
      "OUT\tIN\tNL-HaNA_1.04.02_1557_0673.jpg\tVan Malacca onder dato 11„en FebruarijaAo 194.; ve\t[9.34075750080865e-09, 8.84924133970344e-08, 7.545255087393343e-09, 0.9999998807907104]\n",
      "OUT\tIN\tNL-HaNA_1.04.02_1557_0674.jpg\tVan Malaca onder dato 11:e Februarij A:o 1698; hoe\t[9.872715089898065e-09, 8.30760882308823e-08, 7.504407761871335e-09, 0.9999998807907104]\n",
      "OUT\tIN\tNL-HaNA_1.04.02_1557_0675.jpg\tVan Malaca onder dato 1:' Februarij Ao 179.; daar \t[9.242206111537143e-09, 7.964943904426036e-08, 7.345039687578492e-09, 0.9999998807907104]\n",
      "OUT\tIN\tNL-HaNA_1.04.02_1557_0676.jpg\tVan Malaca onder dato 11:e Februarij a:o 1694:; in\t[9.209651707919875e-09, 7.863895490345385e-08, 7.286948822127215e-09, 0.9999998807907104]\n",
      "OUT\tIN\tNL-HaNA_1.04.02_1557_0677.jpg\tVan Malacca onder dato 17:' Februarij Ao 190:; aan\t[9.310057613731715e-09, 7.978125893259858e-08, 7.487822806240274e-09, 0.9999998807907104]\n",
      "OUT\tIN\tNL-HaNA_1.04.02_1557_0678.jpg\tVan Malaca onder dao 11=en Februarij Ao 1794; onde\t[9.246702070697665e-09, 8.275125651380222e-08, 7.491965270389755e-09, 0.9999998807907104]\n",
      "OUT\tIN\tNL-HaNA_1.04.02_1557_0679.jpg\tVan Marlacea onder dato 1:' Februarij A:o 194; Dat\t[1.0391807414578125e-08, 7.877240904008431e-08, 7.495323472994642e-09, 0.9999998807907104]\n",
      "OUT\tIN\tNL-HaNA_1.04.02_1557_0680.jpg\tVan Malacca onder dato 1:' Februarij A:o 1698; mij\t[9.568634773415852e-09, 8.281220686967572e-08, 7.639468613263034e-09, 0.9999998807907104]\n",
      "OUT\tIN\tNL-HaNA_1.04.02_1557_0681.jpg\tVan Malacca onder dato 11:' Februarij Ao 1694.; aa\t[1.3931738429562301e-08, 1.0576055586852817e-07, 1.0493867108607446e-08, 0.9999998807907104]\n",
      "OUT\tEND\tNL-HaNA_1.04.02_1557_0682.jpg\tVan Malacca onder dato 11=en Februari ao 1694.; E.\t[1.0552233220550988e-07, 4.937073185828922e-07, 6.25662082143208e-08, 0.9999994039535522]\n"
     ]
    },
    {
     "name": "stderr",
     "output_type": "stream",
     "text": [
      "Evaluating:  98%|█████████▊| 56/57 [00:25<00:00,  2.77batch/s]"
     ]
    },
    {
     "name": "stdout",
     "output_type": "stream",
     "text": [
      "OUT\tBEGIN\tNL-HaNA_1.04.02_1557_0909.jpg\tVan Sumatras W=t Cust onder dato 25:e Januarij A=o\t[5.198805297368381e-08, 5.882599793949339e-07, 7.535977175621156e-08, 0.9999992847442627]\n",
      "OUT\tIN\tNL-HaNA_1.04.02_1557_0910.jpg\tVan Sumatras W:t Cust onder dato 25:en Ianuarij A:\t[1.2555656958568306e-08, 1.1129431953804669e-07, 1.1284503109720845e-08, 0.9999998807907104]\n",
      "OUT\tIN\tNL-HaNA_1.04.02_1557_0911.jpg\tVan Sumatras W=t Cust onder dato 25:' Januarij a:o\t[9.864979055862477e-09, 8.497742953750276e-08, 8.143410390459849e-09, 0.9999998807907104]\n",
      "OUT\tIN\tNL-HaNA_1.04.02_1557_0912.jpg\tVan Sumatras W„t Cust onder dato 25:en Januarij A:\t[8.896758885157396e-09, 8.020480635195781e-08, 7.407223723276957e-09, 0.9999998807907104]\n",
      "OUT\tIN\tNL-HaNA_1.04.02_1557_0913.jpg\tVan Sumatras W„t Cust onder dato 25:en Januarij A:\t[9.782031185068263e-09, 7.712912264423721e-08, 7.3296595459737546e-09, 0.9999998807907104]\n",
      "OUT\tIN\tNL-HaNA_1.04.02_1557_0914.jpg\tVan Sumatras W„tCust onder dato 25=en Januarij A:o\t[9.50605816285588e-09, 7.701445525754025e-08, 7.193623474677224e-09, 0.9999998807907104]\n",
      "OUT\tIN\tNL-HaNA_1.04.02_1557_0915.jpg\tVan Sumatras Wt Cust onder dato 25:' Januarij A:o \t[1.0226171021088248e-08, 7.578662319929208e-08, 7.102482602050486e-09, 0.9999998807907104]\n",
      "OUT\tIN\tNL-HaNA_1.04.02_1557_0916.jpg\tVan Sumatras W„tCust onder dato 25=en Januarij A=o\t[1.0002723094260091e-08, 7.587659212049402e-08, 7.241585997519451e-09, 0.9999998807907104]\n",
      "OUT\tIN\tNL-HaNA_1.04.02_1557_0917.jpg\tVan Sumatras W=t Cust onder dato 25=en Ianuarij A„\t[1.0109211245890037e-08, 7.551622616119857e-08, 7.1009385038678374e-09, 0.9999998807907104]\n",
      "OUT\tIN\tNL-HaNA_1.04.02_1557_0918.jpg\tVan Sumatras Wt Cust onder dato 25:en Januarij A:o\t[9.951874879732259e-09, 8.247204164035793e-08, 7.037526561504137e-09, 0.9999998807907104]\n",
      "OUT\tIN\tNL-HaNA_1.04.02_1557_0919.jpg\tVan Sumatras W=t Cust onder dato 25:e Ianuarij a:o\t[8.8882785576061e-09, 7.953603642363305e-08, 7.221145459368472e-09, 0.9999998807907104]\n",
      "OUT\tIN\tNL-HaNA_1.04.02_1557_0920.jpg\tVan Sumatras W„tCust onder dato 25:en Januarij A:o\t[8.913318971792705e-09, 9.451679261474055e-08, 7.835355475549477e-09, 0.9999998807907104]\n",
      "OUT\tIN\tNL-HaNA_1.04.02_1557_0921.jpg\tVan Sumatras W=t Cust onder dato 25e Januarij Ao 1\t[8.979304411127487e-09, 7.932499812568494e-08, 7.309457927817675e-09, 0.9999998807907104]\n",
      "OUT\tIN\tNL-HaNA_1.04.02_1557_0922.jpg\tVan Sumatras W=t Cust onder dato 25:' Januarij A:o\t[1.0186730570183045e-08, 7.455476236373215e-08, 7.0934391693810994e-09, 0.9999998807907104]\n",
      "OUT\tIN\tNL-HaNA_1.04.02_1557_0923.jpg\tAo 1694; Van Sumatras W=t Cust onder dato 25:en Ja\t[9.094286212985025e-09, 8.747879576276318e-08, 7.648318423036926e-09, 0.9999998807907104]\n",
      "OUT\tIN\tNL-HaNA_1.04.02_1557_0924.jpg\tVan Sumatras W„t Cust onder dato 25:e Januarij A:o\t[9.17572418046575e-09, 8.11463678473956e-08, 7.535258639279618e-09, 0.9999998807907104]\n",
      "OUT\tIN\tNL-HaNA_1.04.02_1557_0925.jpg\tVan Sumatras W=t Cust onder dato 25:en Januarij A:\t[1.0215995160933744e-08, 8.66171063762522e-08, 7.52921103241988e-09, 0.9999998807907104]\n",
      "OUT\tIN\tNL-HaNA_1.04.02_1557_0926.jpg\tVan Sumatras W=t Cust onder dato 25:e Januarij A:o\t[1.0099536318364244e-08, 7.538943691542954e-08, 7.056895512391748e-09, 0.9999998807907104]\n",
      "OUT\tIN\tNL-HaNA_1.04.02_1557_0927.jpg\tVan Sumatras W„t Cust onder dato 25:en Jnuarij A:o\t[1.0659121585376852e-08, 8.852094168787517e-08, 7.876966634512428e-09, 0.9999998807907104]\n",
      "OUT\tIN\tNL-HaNA_1.04.02_1557_0928.jpg\tVan Sumatras W„t Cust onder dato 25:e Januarij A=o\t[1.4708198214918866e-08, 9.907240183792965e-08, 9.432296721456623e-09, 0.9999998807907104]\n",
      "OUT\tEND\tNL-HaNA_1.04.02_1557_0929.jpg\tVan Sumatras W=t Cust onder dato 25:en Januarij A:\t[1.0404043848666333e-07, 4.873657530879427e-07, 6.116210471418526e-08, 0.9999994039535522]\n",
      "OUT\tBEGIN\tNL-HaNA_1.04.02_1557_0929.jpg\tVan Sumatras W=t Cust onder dato 25:en Januarij A:\t[7.048555517030763e-08, 5.281402764012455e-07, 7.3389202270846e-08, 0.9999994039535522]\n",
      "OUT\tIN\tNL-HaNA_1.04.02_1557_0930.jpg\tVan Sumatras W=t Cust onder dato 25=en Januarij A:\t[1.909720559467587e-08, 1.356809207209153e-07, 1.4153398453231603e-08, 0.9999998807907104]\n",
      "OUT\tEND\tNL-HaNA_1.04.02_1557_0931.jpg\tVan Sumatras W„t Cust onder dato 25e' Januarij A:o\t[1.108997054188876e-07, 5.092787205285276e-07, 6.411763564528883e-08, 0.9999994039535522]\n"
     ]
    },
    {
     "name": "stderr",
     "output_type": "stream",
     "text": [
      "Evaluating: 100%|██████████| 57/57 [00:26<00:00,  2.12batch/s]"
     ]
    },
    {
     "name": "stdout",
     "output_type": "stream",
     "text": [
      "OUT\tBEGIN\tNL-HaNA_1.04.02_1083_0013.jpg\tadn. 6=en augustij Anoo 1624; Octe der kerckelijck\t[6.32070680239849e-08, 5.478199227582081e-07, 7.218459074920247e-08, 0.9999992847442627]\n",
      "OUT\tIN\tNL-HaNA_1.04.02_1083_0014.jpg\t\t[1.2907528379457744e-08, 1.247105529955661e-07, 1.080869704850329e-08, 0.9999998807907104]\n",
      "OUT\tIN\tNL-HaNA_1.04.02_1083_0015.jpg\tInt Jaer des Heeren onses Salichmaeckers Jesu Chri\t[1.02633368470606e-08, 8.646376414844781e-08, 7.83771625378904e-09, 0.9999998807907104]\n",
      "OUT\tIN\tNL-HaNA_1.04.02_1083_0016.jpg\tKercken dienaers soo te lande als opde; Rhede alhi\t[9.152529401035281e-09, 8.366508552626328e-08, 7.754431763373759e-09, 0.9999998807907104]\n",
      "OUT\tIN\tNL-HaNA_1.04.02_1083_0017.jpg\tVerlost moeten werden midtsgaders offf oock eenige\t[8.738303414190796e-09, 8.684506269673875e-08, 7.606608676269389e-09, 0.9999998807907104]\n",
      "OUT\tIN\tNL-HaNA_1.04.02_1083_0018.jpg\tAlsoo de Generale Comp. e. dageluckx boven haer ve\t[8.759295511140408e-09, 9.568967840323239e-08, 8.007896568074102e-09, 0.9999998807907104]\n",
      "OUT\tIN\tNL-HaNA_1.04.02_1083_0019.jpg\tAdvijs vande Kerckelijcke vergaderinge (door orden\t[9.160318725776051e-09, 9.854564808620125e-08, 7.983541827627505e-09, 0.9999998807907104]\n",
      "OUT\tIN\tNL-HaNA_1.04.02_1083_0020.jpg\tArt 1; Om goede ordre inde gemeente Christij te on\t[9.7427053091792e-09, 7.815358316065613e-08, 7.369808319168669e-09, 0.9999998807907104]\n",
      "OUT\tIN\tNL-HaNA_1.04.02_1083_0021.jpg\tHantwercx lieden ofte andere die niet gestudeert h\t[8.711177557074734e-09, 8.606098589325484e-08, 7.974942484167968e-09, 0.9999998807907104]\n",
      "OUT\tIN\tNL-HaNA_1.04.02_1083_0022.jpg\tVertrecken ofte andersins eenige veranderingen van\t[8.827490738383403e-09, 8.716202160030662e-08, 8.048919752923211e-09, 0.9999998807907104]\n",
      "OUT\tIN\tNL-HaNA_1.04.02_1083_0023.jpg\ttot een meerder kerckelicke vergaderinghe vereepen\t[9.502667985827884e-09, 9.050631888385396e-08, 7.92884957689921e-09, 0.9999998807907104]\n",
      "OUT\tIN\tNL-HaNA_1.04.02_1083_0024.jpg\tArmen scholen besorcht werden ten laesten offer; y\t[9.590561234062989e-09, 8.173213217332886e-08, 7.732912088442845e-09, 0.9999998807907104]\n",
      "OUT\tIN\tNL-HaNA_1.04.02_1083_0025.jpg\tals de beyaerde persoonen de formeliere vande Inst\t[8.927288241977749e-09, 8.02886859219143e-08, 7.180888772495564e-09, 0.9999998807907104]\n",
      "OUT\tIN\tNL-HaNA_1.04.02_1083_0026.jpg\tDe dienaers sullen alomme soo veel alsmogelyck is \t[9.211636786687905e-09, 8.301573473090684e-08, 7.906513666000592e-09, 0.9999998807907104]\n",
      "OUT\tIN\tNL-HaNA_1.04.02_1083_0027.jpg\tsoo wie hartneckelijcke de vermaninge des kercken;\t[9.6407593019876e-09, 9.286492286264547e-08, 8.069456214343518e-09, 0.9999998807907104]\n",
      "OUT\tIN\tNL-HaNA_1.04.02_1083_0028.jpg\traets der selver ende der naestgelegener gemeente \t[9.611620832572498e-09, 8.846608778867449e-08, 7.931738821298495e-09, 0.9999998807907104]\n",
      "OUT\tIN\tNL-HaNA_1.04.02_1083_0029.jpg\tEenige poincten de welcke de kerckelijcke; vergade\t[9.473242634783219e-09, 8.036253262844184e-08, 7.453339279095417e-09, 0.9999998807907104]\n",
      "OUT\tIN\tNL-HaNA_1.04.02_1083_0030.jpg\tSimode gehouden tot dordrecht sess 19. dit sul; in\t[8.620864022645947e-09, 9.255705890609534e-08, 7.829782155965859e-09, 0.9999998807907104]\n",
      "OUT\tIN\tNL-HaNA_1.04.02_1083_0031.jpg\tgevisiteert de plaetse tot opbouwinge der kercken \t[8.940152618208685e-09, 8.743192836391245e-08, 7.46588835198736e-09, 0.9999998807907104]\n",
      "OUT\tIN\tNL-HaNA_1.04.02_1083_0032.jpg\thouden des H: Avondtmaels ende telckens tusschen d\t[1.0088927915319346e-08, 8.110675508987697e-08, 7.888573350101069e-09, 0.9999998807907104]\n",
      "OUT\tIN\tNL-HaNA_1.04.02_1083_0033.jpg\tdaer naer met den volcke singht oit wert den kerck\t[8.852714117324467e-09, 8.471461399039981e-08, 7.52355422406481e-09, 0.9999998807907104]\n",
      "OUT\tIN\tNL-HaNA_1.04.02_1083_0034.jpg\tWaer dient een retutatie des Moorsdoms ofte mahune\t[8.536320095231531e-09, 8.941947271523532e-08, 7.965335058202072e-09, 0.9999998807907104]\n",
      "OUT\tIN\tNL-HaNA_1.04.02_1083_0035.jpg\tnaecome volgens de order en vande kercken beraempt\t[9.633755126969845e-09, 8.475114299244524e-08, 7.954297664980459e-09, 0.9999998807907104]\n",
      "OUT\tIN\tNL-HaNA_1.04.02_1083_0036.jpg\tmoeten opseggen; de Schoolmr. moet sorge dragen da\t[9.870116279842023e-09, 9.012097734739655e-08, 7.535690293991593e-09, 0.9999998807907104]\n",
      "OUT\tIN\tNL-HaNA_1.04.02_1083_0037.jpg\tatechismum met sin aenhanghar ondr. Sebast: danck \t[9.590103822176843e-09, 7.942461621723851e-08, 7.630367448996367e-09, 0.9999998807907104]\n",
      "OUT\tIN\tNL-HaNA_1.04.02_1083_0038.jpg\tAlle de Gene die tot noch toe geseten hebben ende \t[9.540242373873298e-09, 7.947113545014872e-08, 7.480327468556425e-09, 0.9999998807907104]\n",
      "OUT\tIN\tNL-HaNA_1.04.02_1083_0039.jpg\tleeren lesen schrijven ende in Christelycke deuchd\t[9.542554302299777e-09, 8.453641697769854e-08, 7.538551116681447e-09, 0.9999998807907104]\n",
      "OUT\tIN\tNL-HaNA_1.04.02_1083_0040.jpg\tgelegentheyt der plaetsen door de welcke de andere\t[9.301449388487981e-09, 9.136382317365133e-08, 8.09379585575698e-09, 0.9999998807907104]\n",
      "OUT\tIN\tNL-HaNA_1.04.02_1083_0041.jpg\tCorte, bedenckinge op eenige verhandelde; poincten\t[9.976791837118526e-09, 8.743526080934316e-08, 7.269693291789281e-09, 0.9999998807907104]\n",
      "OUT\tIN\tNL-HaNA_1.04.02_1083_0042.jpg\tWert verstaen de bedieninge vant Sacrament des H; \t[9.154939029087927e-09, 8.268578000070193e-08, 7.607014573807191e-09, 0.9999998807907104]\n",
      "OUT\tIN\tNL-HaNA_1.04.02_1083_0043.jpg\tbijde Gecommitteerde wegen de Zinodale Classe; van\t[9.465295214283742e-09, 8.828235564806164e-08, 7.681548730431587e-09, 0.9999998807907104]\n",
      "OUT\tIN\tNL-HaNA_1.04.02_1083_0044.jpg\tOp Appendicx vande kercken ordeninge ten aensien d\t[9.489427910125414e-09, 7.766084308968857e-08, 7.258345924299192e-09, 0.9999998807907104]\n",
      "OUT\tIN\tNL-HaNA_1.04.02_1083_0045.jpg\tInt laeste vandese Schiftelijcke voorstellinge; so\t[1.0166932185029509e-08, 8.135729245850598e-08, 7.166152560245109e-09, 0.9999998807907104]\n",
      "OUT\tIN\tNL-HaNA_1.04.02_1083_0046.jpg\tEd: Hr Generael vallende soo is Octob. 23 de ver; \t[1.0524535021261272e-08, 8.336625256788466e-08, 7.514247002404773e-09, 0.9999998807907104]\n",
      "OUT\tIN\tNL-HaNA_1.04.02_1083_0047.jpg\tJustus Hurnius, O Sebastianus danckaerts door siec\t[1.4258393576938033e-08, 1.0064523081609877e-07, 9.763428288067644e-09, 0.9999998807907104]\n",
      "OUT\tEND\tNL-HaNA_1.04.02_1083_0048.jpg\tDes avondts voor het aronsteten is den predicanten\t[1.0522266791213042e-07, 5.167794938643056e-07, 6.650261497043175e-08, 0.9999994039535522]\n"
     ]
    },
    {
     "name": "stderr",
     "output_type": "stream",
     "text": [
      "\n"
     ]
    }
   ],
   "source": [
    "import sys\n",
    "\n",
    "precision, recall, f1, accuracy = tagger.eval_(test_data, BATCH_SIZE, sys.stdout)"
   ]
  },
  {
   "cell_type": "code",
   "execution_count": null,
   "metadata": {},
   "outputs": [
    {
     "name": "stderr",
     "output_type": "stream",
     "text": [
      "WARNING:root:tensor([[0],\n",
      "        [1],\n",
      "        [2]]) classes have zero instances in both the predictions and the ground truth labels. Precision is still logged as zero.\n"
     ]
    },
    {
     "name": "stdout",
     "output_type": "stream",
     "text": [
      "Metric\tBEGIN\tIN\tEND\tOUT\n",
      "MulticlassPrecision\t0.0000\t0.0000\t0.0000\t0.0348\n",
      "MulticlassRecall\t0.0000\t0.0000\t0.0000\t1.0000\n",
      "MulticlassF1Score\t0.0000\t0.0000\t0.0000\t0.0672\n",
      "MulticlassF1Score (micro average):\t0.0348\n"
     ]
    }
   ],
   "source": [
    "import csv\n",
    "import sys\n",
    "\n",
    "from document_segmentation.pagexml.datamodel.label import Label\n",
    "\n",
    "writer = csv.DictWriter(\n",
    "    sys.stdout, fieldnames=[\"Metric\"] + [label.name for label in Label], delimiter=\"\\t\"\n",
    ")\n",
    "\n",
    "writer.writeheader()\n",
    "\n",
    "for metric in precision, recall, f1:\n",
    "    assert metric.average is None\n",
    "\n",
    "    scores: list[float] = metric.compute().tolist()\n",
    "    writer.writerow(\n",
    "        {\"Metric\": metric.__class__.__name__}\n",
    "        | {label.name: f\"{score:.4f}\" for label, score in zip(Label, scores)}\n",
    "    )\n",
    "\n",
    "assert accuracy.average is not None\n",
    "\n",
    "print(\n",
    "    f\"{metric.__class__.__name__} ({accuracy.average} average):\\t{accuracy.compute().item():.4f}\",\n",
    "    file=sys.stdout,\n",
    ")"
   ]
  }
 ],
 "metadata": {
  "kernelspec": {
   "display_name": ".venv",
   "language": "python",
   "name": "python3"
  },
  "language_info": {
   "codemirror_mode": {
    "name": "ipython",
    "version": 3
   },
   "file_extension": ".py",
   "mimetype": "text/x-python",
   "name": "python",
   "nbconvert_exporter": "python",
   "pygments_lexer": "ipython3",
   "version": "3.11.2"
  }
 },
 "nbformat": 4,
 "nbformat_minor": 2
}
