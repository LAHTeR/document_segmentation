{
 "cells": [
  {
   "cell_type": "code",
   "execution_count": 1,
   "metadata": {},
   "outputs": [],
   "source": [
    "%load_ext autoreload"
   ]
  },
  {
   "cell_type": "code",
   "execution_count": 2,
   "metadata": {},
   "outputs": [],
   "source": [
    "%autoreload now"
   ]
  },
  {
   "cell_type": "code",
   "execution_count": 3,
   "metadata": {},
   "outputs": [],
   "source": [
    "import os\n",
    "\n",
    "os.environ[\"CUDA_VISIBLE_DEVICES\"] = \"MIG-08137aa2-e69b-5e74-8390-7997329b1336\"\n",
    "os.environ[\"WANDB_API_KEY\"] = \"\""
   ]
  },
  {
   "cell_type": "markdown",
   "metadata": {},
   "source": [
    "# Download and convert data"
   ]
  },
  {
   "cell_type": "code",
   "execution_count": 4,
   "metadata": {},
   "outputs": [],
   "source": [
    "from document_segmentation.pagexml.annotations.renate_analysis import (\n",
    "    RenateAnalysis,\n",
    "    RenateAnalysisInv,\n",
    ")\n",
    "from document_segmentation.pagexml.annotations.sheet import Sheet\n",
    "from document_segmentation.settings import RENATE_ANALYSIS_DIR, RENATE_ANALYSIS_SHEETS\n",
    "\n",
    "sheets: list[Sheet] = [RenateAnalysis()] + [\n",
    "    RenateAnalysisInv(sheet) for sheet in RENATE_ANALYSIS_SHEETS\n",
    "]"
   ]
  },
  {
   "cell_type": "code",
   "execution_count": 5,
   "metadata": {},
   "outputs": [
    {
     "name": "stderr",
     "output_type": "stream",
     "text": [
      "Writing documents: 0doc [00:00, ?doc/s]\n",
      "Writing documents: 100%|██████████| 26/26 [00:11<00:00,  2.36doc/s]\n",
      "Writing documents: 184doc [00:25,  7.32doc/s]                      \n"
     ]
    }
   ],
   "source": [
    "N = None\n",
    "\n",
    "for sheet in sheets:\n",
    "    sheet.download(RENATE_ANALYSIS_DIR, N)"
   ]
  },
  {
   "cell_type": "markdown",
   "metadata": {},
   "source": [
    "# Load Data"
   ]
  },
  {
   "cell_type": "code",
   "execution_count": 6,
   "metadata": {},
   "outputs": [],
   "source": [
    "TRAINING_DATA = 0.8"
   ]
  },
  {
   "cell_type": "code",
   "execution_count": 7,
   "metadata": {},
   "outputs": [
    {
     "name": "stderr",
     "output_type": "stream",
     "text": [
      "Reading JSON files: 100%|██████████| 285/285 [00:01<00:00, 183.94file/s]\n"
     ]
    },
    {
     "data": {
      "text/plain": [
       "285"
      ]
     },
     "execution_count": 7,
     "metadata": {},
     "output_type": "execute_result"
    }
   ],
   "source": [
    "from document_segmentation.model.dataset import DocumentDataset\n",
    "\n",
    "dataset: DocumentDataset = DocumentDataset.from_dir(RENATE_ANALYSIS_DIR)\n",
    "dataset.shuffle()\n",
    "\n",
    "len(dataset)"
   ]
  },
  {
   "cell_type": "code",
   "execution_count": 8,
   "metadata": {},
   "outputs": [
    {
     "data": {
      "text/plain": [
       "Counter({<Label.IN: 1>: 3206,\n",
       "         <Label.BEGIN: 0>: 285,\n",
       "         <Label.END: 2>: 281,\n",
       "         <Label.OUT: 3>: 170})"
      ]
     },
     "execution_count": 8,
     "metadata": {},
     "output_type": "execute_result"
    }
   ],
   "source": [
    "dataset._class_counts()"
   ]
  },
  {
   "cell_type": "code",
   "execution_count": 9,
   "metadata": {},
   "outputs": [
    {
     "data": {
      "text/plain": [
       "[0.9965034965034965,\n",
       " 0.08886810102899906,\n",
       " 1.0106382978723405,\n",
       " 1.6666666666666667]"
      ]
     },
     "execution_count": 9,
     "metadata": {},
     "output_type": "execute_result"
    }
   ],
   "source": [
    "dataset.class_weights()"
   ]
  },
  {
   "cell_type": "code",
   "execution_count": 10,
   "metadata": {},
   "outputs": [],
   "source": [
    "training_data, test_data = dataset.split(TRAINING_DATA)"
   ]
  },
  {
   "cell_type": "code",
   "execution_count": 11,
   "metadata": {},
   "outputs": [
    {
     "data": {
      "text/plain": [
       "Counter({<Label.IN: 1>: 2648,\n",
       "         <Label.BEGIN: 0>: 228,\n",
       "         <Label.END: 2>: 226,\n",
       "         <Label.OUT: 3>: 113})"
      ]
     },
     "execution_count": 11,
     "metadata": {},
     "output_type": "execute_result"
    }
   ],
   "source": [
    "training_data._class_counts()"
   ]
  },
  {
   "cell_type": "code",
   "execution_count": 12,
   "metadata": {},
   "outputs": [
    {
     "data": {
      "text/plain": [
       "Counter({<Label.IN: 1>: 558,\n",
       "         <Label.BEGIN: 0>: 57,\n",
       "         <Label.OUT: 3>: 57,\n",
       "         <Label.END: 2>: 55})"
      ]
     },
     "execution_count": 12,
     "metadata": {},
     "output_type": "execute_result"
    }
   ],
   "source": [
    "test_data._class_counts()"
   ]
  },
  {
   "cell_type": "markdown",
   "metadata": {},
   "source": [
    "# Train Model"
   ]
  },
  {
   "cell_type": "code",
   "execution_count": 13,
   "metadata": {},
   "outputs": [],
   "source": [
    "BATCH_SIZE = 128\n",
    "EPOCHS = 10\n",
    "WEIGHTS = dataset.class_weights()"
   ]
  },
  {
   "cell_type": "code",
   "execution_count": 52,
   "metadata": {},
   "outputs": [],
   "source": [
    "%autoreload now"
   ]
  },
  {
   "cell_type": "code",
   "execution_count": 53,
   "metadata": {},
   "outputs": [],
   "source": [
    "from document_segmentation.model.page_sequence_tagger import PageSequenceTagger\n",
    "\n",
    "tagger = PageSequenceTagger()"
   ]
  },
  {
   "cell_type": "code",
   "execution_count": 54,
   "metadata": {},
   "outputs": [
    {
     "data": {
      "text/plain": [
       "'mps'"
      ]
     },
     "execution_count": 54,
     "metadata": {},
     "output_type": "execute_result"
    }
   ],
   "source": [
    "tagger._device"
   ]
  },
  {
   "cell_type": "code",
   "execution_count": 55,
   "metadata": {},
   "outputs": [
    {
     "data": {
      "text/plain": [
       "PageSequenceTagger(\n",
       "  (_page_embedding): PageEmbedding(\n",
       "    (_region_model): RegionEmbeddingSentenceTransformer(\n",
       "      (_transformer_model): SentenceTransformer(\n",
       "        (0): Transformer({'max_seq_length': 128, 'do_lower_case': False}) with Transformer model: RobertaModel \n",
       "        (1): Pooling({'word_embedding_dimension': 768, 'pooling_mode_cls_token': False, 'pooling_mode_mean_tokens': True, 'pooling_mode_max_tokens': False, 'pooling_mode_mean_sqrt_len_tokens': False, 'pooling_mode_weightedmean_tokens': False, 'pooling_mode_lasttoken': False, 'include_prompt': True})\n",
       "      )\n",
       "      (_region_type): Embedding(9, 16)\n",
       "      (_linear): Linear(in_features=784, out_features=512, bias=True)\n",
       "    )\n",
       "    (_rnn): LSTM(512, 256, num_layers=2, batch_first=True, dropout=0.1, bidirectional=True)\n",
       "    (_linear): Linear(in_features=512, out_features=256, bias=True)\n",
       "  )\n",
       "  (_rnn): LSTM(256, 256, num_layers=2, batch_first=True, dropout=0.1, bidirectional=True)\n",
       "  (_linear): Linear(in_features=512, out_features=4, bias=True)\n",
       "  (_softmax): Softmax(dim=1)\n",
       ")"
      ]
     },
     "execution_count": 55,
     "metadata": {},
     "output_type": "execute_result"
    }
   ],
   "source": [
    "tagger"
   ]
  },
  {
   "cell_type": "code",
   "execution_count": 56,
   "metadata": {},
   "outputs": [
    {
     "name": "stderr",
     "output_type": "stream",
     "text": [
      "huggingface/tokenizers: The current process just got forked, after parallelism has already been used. Disabling parallelism to avoid deadlocks...\n",
      "To disable this warning, you can either:\n",
      "\t- Avoid using `tokenizers` before the fork if possible\n",
      "\t- Explicitly set the environment variable TOKENIZERS_PARALLELISM=(true | false)\n"
     ]
    },
    {
     "data": {
      "text/html": [
       "Tracking run with wandb version 0.16.4"
      ],
      "text/plain": [
       "<IPython.core.display.HTML object>"
      ]
     },
     "metadata": {},
     "output_type": "display_data"
    },
    {
     "data": {
      "text/html": [
       "Run data is saved locally in <code>/Users/carstenschnober/LAHTeR/workspace/document-segmentation/wandb/run-20240313_145957-4mofnwg4</code>"
      ],
      "text/plain": [
       "<IPython.core.display.HTML object>"
      ]
     },
     "metadata": {},
     "output_type": "display_data"
    },
    {
     "data": {
      "text/html": [
       "Syncing run <strong><a href='https://wandb.ai/carschno/PageSequenceTagger/runs/4mofnwg4' target=\"_blank\">autumn-spaceship-29</a></strong> to <a href='https://wandb.ai/carschno/PageSequenceTagger' target=\"_blank\">Weights & Biases</a> (<a href='https://wandb.me/run' target=\"_blank\">docs</a>)<br/>"
      ],
      "text/plain": [
       "<IPython.core.display.HTML object>"
      ]
     },
     "metadata": {},
     "output_type": "display_data"
    },
    {
     "data": {
      "text/html": [
       " View project at <a href='https://wandb.ai/carschno/PageSequenceTagger' target=\"_blank\">https://wandb.ai/carschno/PageSequenceTagger</a>"
      ],
      "text/plain": [
       "<IPython.core.display.HTML object>"
      ]
     },
     "metadata": {},
     "output_type": "display_data"
    },
    {
     "data": {
      "text/html": [
       " View run at <a href='https://wandb.ai/carschno/PageSequenceTagger/runs/4mofnwg4' target=\"_blank\">https://wandb.ai/carschno/PageSequenceTagger/runs/4mofnwg4</a>"
      ],
      "text/plain": [
       "<IPython.core.display.HTML object>"
      ]
     },
     "metadata": {},
     "output_type": "display_data"
    },
    {
     "name": "stderr",
     "output_type": "stream",
     "text": [
      "Training: 100%|██████████| 229/229 [01:55<00:00,  1.98batch/s]\n",
      "Evaluating: 100%|██████████| 229/229 [00:03<00:00, 72.20batch/s]\n",
      "WARNING:root:tensor([[0],\n",
      "        [1],\n",
      "        [2]]) classes have zero instances in both the predictions and the ground truth labels. Precision is still logged as zero.\n",
      "Training: 100%|██████████| 229/229 [00:08<00:00, 28.47batch/s]\n",
      "Evaluating: 100%|██████████| 229/229 [00:03<00:00, 72.24batch/s] \n",
      "WARNING:root:tensor([[0],\n",
      "        [1],\n",
      "        [2]]) classes have zero instances in both the predictions and the ground truth labels. Precision is still logged as zero.\n",
      "Training: 100%|██████████| 229/229 [00:08<00:00, 28.47batch/s]\n",
      "Evaluating: 100%|██████████| 229/229 [00:03<00:00, 71.52batch/s]\n",
      "WARNING:root:tensor([[0],\n",
      "        [1],\n",
      "        [2]]) classes have zero instances in both the predictions and the ground truth labels. Precision is still logged as zero.\n",
      "Training: 100%|██████████| 229/229 [00:08<00:00, 27.68batch/s]\n",
      "Evaluating: 100%|██████████| 229/229 [00:03<00:00, 66.86batch/s]\n",
      "WARNING:root:tensor([[0],\n",
      "        [1],\n",
      "        [2]]) classes have zero instances in both the predictions and the ground truth labels. Precision is still logged as zero.\n",
      "Training: 100%|██████████| 229/229 [00:08<00:00, 28.15batch/s]\n",
      "Evaluating: 100%|██████████| 229/229 [00:03<00:00, 69.11batch/s]\n",
      "WARNING:root:tensor([[0],\n",
      "        [1],\n",
      "        [2]]) classes have zero instances in both the predictions and the ground truth labels. Precision is still logged as zero.\n",
      "Training: 100%|██████████| 229/229 [00:08<00:00, 27.68batch/s]\n",
      "Evaluating: 100%|██████████| 229/229 [00:03<00:00, 71.41batch/s]\n",
      "WARNING:root:tensor([[0],\n",
      "        [1],\n",
      "        [2]]) classes have zero instances in both the predictions and the ground truth labels. Precision is still logged as zero.\n",
      "Training: 100%|██████████| 229/229 [00:08<00:00, 27.91batch/s]\n",
      "Evaluating: 100%|██████████| 229/229 [00:03<00:00, 67.33batch/s]\n",
      "WARNING:root:tensor([[0],\n",
      "        [1],\n",
      "        [2]]) classes have zero instances in both the predictions and the ground truth labels. Precision is still logged as zero.\n",
      "Training: 100%|██████████| 229/229 [00:08<00:00, 27.51batch/s]\n",
      "Evaluating: 100%|██████████| 229/229 [00:03<00:00, 68.24batch/s]\n",
      "WARNING:root:tensor([[0],\n",
      "        [1],\n",
      "        [2]]) classes have zero instances in both the predictions and the ground truth labels. Precision is still logged as zero.\n",
      "Training: 100%|██████████| 229/229 [00:07<00:00, 28.63batch/s]\n",
      "Evaluating: 100%|██████████| 229/229 [00:03<00:00, 72.89batch/s]\n",
      "WARNING:root:tensor([[0],\n",
      "        [1],\n",
      "        [2]]) classes have zero instances in both the predictions and the ground truth labels. Precision is still logged as zero.\n",
      "Training: 100%|██████████| 229/229 [00:08<00:00, 28.51batch/s]\n",
      "Evaluating: 100%|██████████| 229/229 [00:03<00:00, 71.09batch/s]\n",
      "WARNING:root:tensor([[0],\n",
      "        [1],\n",
      "        [2]]) classes have zero instances in both the predictions and the ground truth labels. Precision is still logged as zero.\n",
      "wandb: WARNING Source type is set to 'repo' but some required information is missing from the environment. A job will not be created from this run. See https://docs.wandb.ai/guides/launch/create-job\n"
     ]
    },
    {
     "data": {
      "application/vnd.jupyter.widget-view+json": {
       "model_id": "82032b81ac904ce3a770abf4b6e69290",
       "version_major": 2,
       "version_minor": 0
      },
      "text/plain": [
       "VBox(children=(Label(value='0.001 MB of 0.009 MB uploaded\\r'), FloatProgress(value=0.1419828641370869, max=1.0…"
      ]
     },
     "metadata": {},
     "output_type": "display_data"
    },
    {
     "data": {
      "text/html": [
       "<style>\n",
       "    table.wandb td:nth-child(1) { padding: 0 10px; text-align: left ; width: auto;} td:nth-child(2) {text-align: left ; width: 100%}\n",
       "    .wandb-row { display: flex; flex-direction: row; flex-wrap: wrap; justify-content: flex-start; width: 100% }\n",
       "    .wandb-col { display: flex; flex-direction: column; flex-basis: 100%; flex: 1; padding: 10px; }\n",
       "    </style>\n",
       "<div class=\"wandb-row\"><div class=\"wandb-col\"><h3>Run history:</h3><br/><table class=\"wandb\"><tr><td>MulticlassAccuracy</td><td>▁▁▁▁▁▁▁▁▁▁</td></tr><tr><td>batch_size</td><td>▁▁▁▂▁▁▁▁▁▁▃▄▄▁▂▃█▁▄▁▂▁▁▁▅▁▃▃▁▁▁▁▁▁▁▂▂▁▁▁</td></tr><tr><td>loss</td><td>███▄▃█▆▄██▁▁▁▃▂▂▁▄▁█▂▆▆█▁█▂▁█▄█▆█▆▃▂▂██▄</td></tr></table><br/></div><div class=\"wandb-col\"><h3>Run summary:</h3><br/><table class=\"wandb\"><tr><td>MulticlassAccuracy</td><td>0.03515</td></tr><tr><td>batch_size</td><td>2</td></tr><tr><td>loss</td><td>1.74989</td></tr></table><br/></div></div>"
      ],
      "text/plain": [
       "<IPython.core.display.HTML object>"
      ]
     },
     "metadata": {},
     "output_type": "display_data"
    },
    {
     "data": {
      "text/html": [
       " View run <strong style=\"color:#cdcd00\">autumn-spaceship-29</strong> at: <a href='https://wandb.ai/carschno/PageSequenceTagger/runs/4mofnwg4' target=\"_blank\">https://wandb.ai/carschno/PageSequenceTagger/runs/4mofnwg4</a><br/>Synced 5 W&B file(s), 0 media file(s), 0 artifact file(s) and 0 other file(s)"
      ],
      "text/plain": [
       "<IPython.core.display.HTML object>"
      ]
     },
     "metadata": {},
     "output_type": "display_data"
    },
    {
     "data": {
      "text/html": [
       "Find logs at: <code>./wandb/run-20240313_145957-4mofnwg4/logs</code>"
      ],
      "text/plain": [
       "<IPython.core.display.HTML object>"
      ]
     },
     "metadata": {},
     "output_type": "display_data"
    }
   ],
   "source": [
    "tagger.train_(training_data, EPOCHS, BATCH_SIZE, WEIGHTS)"
   ]
  },
  {
   "cell_type": "code",
   "execution_count": 57,
   "metadata": {},
   "outputs": [],
   "source": [
    "import torch\n",
    "\n",
    "with open(\"page_sequence_tagger.pt\", \"xb\") as f:\n",
    "    torch.save(tagger, f)"
   ]
  },
  {
   "cell_type": "markdown",
   "metadata": {},
   "source": [
    "# Evaluate Model"
   ]
  },
  {
   "cell_type": "code",
   "execution_count": 58,
   "metadata": {},
   "outputs": [
    {
     "name": "stdout",
     "output_type": "stream",
     "text": [
      "Predicted\tActual\tPage ID\tText\tScores\n"
     ]
    },
    {
     "name": "stderr",
     "output_type": "stream",
     "text": [
      "Evaluating:   0%|          | 0/57 [00:00<?, ?batch/s]"
     ]
    },
    {
     "name": "stdout",
     "output_type": "stream",
     "text": [
      "OUT\tBEGIN\tNL-HaNA_1.04.02_1557_0257.jpg\tVan Palembang onder dato 18=en September 1694.; De\t[5.6757439637067364e-08, 9.821837920753751e-08, 9.368542208676445e-08, 0.9999997615814209]\n",
      "OUT\tIN\tNL-HaNA_1.04.02_1557_0258.jpg\tVan Palembang onder dato 18=en Septemb: 1694.; bei\t[1.73753420540379e-08, 2.0216736729139484e-08, 1.2059354403959333e-08, 1.0]\n",
      "OUT\tEND\tNL-HaNA_1.04.02_1557_0259.jpg\tVan Palembang onder dato 18=en Septemb: 1694; zede\t[1.094604371587593e-07, 8.344021296124993e-08, 3.735721776365608e-08, 0.9999997615814209]\n"
     ]
    },
    {
     "name": "stderr",
     "output_type": "stream",
     "text": [
      "Evaluating:   4%|▎         | 2/57 [00:00<00:07,  7.44batch/s]"
     ]
    },
    {
     "name": "stdout",
     "output_type": "stream",
     "text": [
      "OUT\tBEGIN\tNL-HaNA_1.04.02_1480_0222.jpg\tdoor voortdraght; 258: 6: vermiljoen, â 108 roa dm\t[5.627558863352533e-08, 9.988809779315488e-08, 1.0020409746402947e-07, 0.9999997615814209]\n",
      "OUT\tIN\tNL-HaNA_1.04.02_1480_0223.jpg\tde man volgens gebruijk; gerekent; wolffdas kort n\t[1.7119246464858406e-08, 2.0450364957014244e-08, 1.2638238899853604e-08, 1.0]\n",
      "OUT\tEND\tNL-HaNA_1.04.02_1480_0224.jpg\tmoeste hij daar omme, andermaal, niet te huijs bli\t[1.1012573963853356e-07, 8.463030098937452e-08, 3.7651791018333824e-08, 0.9999997615814209]\n"
     ]
    },
    {
     "name": "stderr",
     "output_type": "stream",
     "text": [
      "Evaluating:   5%|▌         | 3/57 [00:00<00:07,  7.28batch/s]"
     ]
    },
    {
     "name": "stdout",
     "output_type": "stream",
     "text": [
      "OUT\tBEGIN\tNL-HaNA_1.04.02_1635_0857.jpg\tser maend; In Souratta.; wint ropijas—; 93: Inlant\t[5.6840097073518336e-08, 9.81874777039593e-08, 9.372009657226954e-08, 0.9999997615814209]\n",
      "OUT\tIN\tNL-HaNA_1.04.02_1635_0858.jpg\t14: Persoonen, als. —; 93: en 33: Persoonen Van Hi\t[1.7393281481759004e-08, 2.0216505802750362e-08, 1.2042872477024957e-08, 1.0]\n",
      "OUT\tEND\tNL-HaNA_1.04.02_1635_0859.jpg\t129: en 3: persoonen, van Hier omme. . . . . . . .\t[1.0946273221179581e-07, 8.343209145778019e-08, 3.7358571347567704e-08, 0.9999997615814209]\n",
      "OUT\tBEGIN\tNL-HaNA_1.04.02_1557_0367.jpg\tVan Siam den 16=en Januarij A:o 1694.; Register de\t[7.777436650258096e-08, 1.310489636807688e-07, 1.1643182062925916e-07, 0.9999996423721313]\n",
      "OUT\tEND\tNL-HaNA_1.04.02_1557_0367.jpg\tVan Siam den 16=en Januarij A:o 1694.; Register de\t[1.3440001112030586e-07, 1.1183136905401625e-07, 5.401441427466125e-08, 0.9999996423721313]\n",
      "OUT\tBEGIN\tNL-HaNA_1.04.02_2682_0249.jpg\tMet het ondergenoemde schip; vertrekken over China\t[5.945320253886166e-07, 7.506749284402758e-07, 5.467337018671969e-07, 0.9999980926513672]\n"
     ]
    },
    {
     "name": "stderr",
     "output_type": "stream",
     "text": [
      "Evaluating:  11%|█         | 6/57 [00:00<00:03, 12.94batch/s]"
     ]
    },
    {
     "name": "stdout",
     "output_type": "stream",
     "text": [
      "OUT\tBEGIN\tNL-HaNA_1.04.02_1557_0109.jpg\tVan Jambij Den 15=en Maart A:o 1694.; Batavia; Aan\t[5.677389580682757e-08, 9.820207935717917e-08, 9.358844721418791e-08, 0.9999997615814209]\n",
      "OUT\tIN\tNL-HaNA_1.04.02_1557_0110.jpg\tVan Jambij Den 15=en Maart A=o 1694.; menduracka v\t[1.7388073203505883e-08, 2.0226842423198832e-08, 1.2043493313740328e-08, 1.0]\n",
      "OUT\tEND\tNL-HaNA_1.04.02_1557_0111.jpg\tVan Jambij Den 15:' Maart A:o 1694.; off staat te \t[1.0942599004692966e-07, 8.340233392800656e-08, 3.7362777760563404e-08, 0.9999997615814209]\n",
      "OUT\tBEGIN\tNL-HaNA_1.04.02_1088_0511.jpg\tNaer dat den 8en. septembr 1625, het fergatt Surat\t[5.5155233269488235e-08, 1.2297111595671595e-07, 1.5839272293760587e-07, 0.9999996423721313]\n",
      "OUT\tIN\tNL-HaNA_1.04.02_1088_0512.jpg\tdie van Lohoe waren hem gevolcht, tot op lebeleeuw\t[1.0872692079999524e-08, 1.5840658562638055e-08, 1.3060327930247695e-08, 1.0]\n",
      "OUT\tIN\tNL-HaNA_1.04.02_1088_0513.jpg\twederom afgesonden, naar Bouro, om te vernemen, wa\t[9.060145522710172e-09, 1.1030713231718892e-08, 7.274881586027959e-09, 1.0]\n",
      "OUT\tIN\tNL-HaNA_1.04.02_1088_0514.jpg\tende ten deele onwillich, soo dat met schoon spree\t[9.517869159481052e-09, 1.0660057725431216e-08, 6.593037227276e-09, 1.0]\n",
      "OUT\tIN\tNL-HaNA_1.04.02_1088_0515.jpg\tons voor antwoort, dat wel waar was, dat sijn Vade\t[9.300244130372448e-09, 1.0826875396219293e-08, 6.109949435284534e-09, 1.0]\n",
      "OUT\tIN\tNL-HaNA_1.04.02_1088_0516.jpg\tnoch al wel toeginck, ende mijn hier van noch vrij\t[9.779009602084443e-09, 1.0891082702357835e-08, 5.684571924291504e-09, 1.0]\n",
      "OUT\tIN\tNL-HaNA_1.04.02_1088_0517.jpg\tblijcken wat parthij hij hielt van dese uijr affso\t[9.748227114414476e-09, 1.0597475785800725e-08, 6.319948120392382e-09, 1.0]\n",
      "OUT\tIN\tNL-HaNA_1.04.02_1088_0518.jpg\tdus lange was gedaen, hebben den raet dit in Beden\t[1.0274226802664543e-08, 1.048144504522952e-08, 5.66148150582535e-09, 1.0]\n",
      "OUT\tIN\tNL-HaNA_1.04.02_1088_0519.jpg\tte mogen werden, met cruijt ende Loot, ende soo he\t[1.0485904589074835e-08, 1.0885724321951784e-08, 5.82488590694652e-09, 1.0]\n",
      "OUT\tIN\tNL-HaNA_1.04.02_1088_0520.jpg\tDen 9=en d=o smorgens, quamen voor Oerien, ofte no\t[1.0365025282510487e-08, 1.0704025221741631e-08, 5.4481774647285874e-09, 1.0]\n",
      "OUT\tIN\tNL-HaNA_1.04.02_1088_0521.jpg\tmede die van Cabau, den Sergeant aldaer op Hatuha \t[1.0500495584153668e-08, 1.0610399669985782e-08, 5.523418167285854e-09, 1.0]\n",
      "OUT\tIN\tNL-HaNA_1.04.02_1088_0522.jpg\tSijn voorts doorgepangaijt naer Oma, de corcoiren \t[1.037117591806691e-08, 1.1205917971324197e-08, 5.696305205304952e-09, 1.0]\n",
      "OUT\tIN\tNL-HaNA_1.04.02_1088_0523.jpg\t\t[1.0026849572852825e-08, 1.0784336978986175e-08, 5.951554360450473e-09, 1.0]\n",
      "OUT\tIN\tNL-HaNA_1.04.02_1088_0524.jpg\t\t[1.030340879282221e-08, 1.1394331700387283e-08, 5.915238077136564e-09, 1.0]\n",
      "OUT\tIN\tNL-HaNA_1.04.02_1088_0525.jpg\t\t[9.396689648610845e-09, 1.0876779477086984e-08, 6.358639836889779e-09, 1.0]\n",
      "OUT\tIN\tNL-HaNA_1.04.02_1088_0526.jpg\t\t[9.883606821858848e-09, 1.1955834544608024e-08, 6.271674735103261e-09, 1.0]\n",
      "OUT\tIN\tNL-HaNA_1.04.02_1088_0527.jpg\t\t[9.93964022200089e-09, 1.1731208893195344e-08, 6.2620766350107715e-09, 1.0]\n",
      "OUT\tIN\tNL-HaNA_1.04.02_1088_0528.jpg\t\t[9.720395155454753e-09, 1.1344087447184847e-08, 6.270287400411689e-09, 1.0]\n",
      "OUT\tIN\tNL-HaNA_1.04.02_1088_0529.jpg\t\t[1.0033449626689617e-08, 1.1915220810010396e-08, 6.633097182628944e-09, 1.0]\n",
      "OUT\tIN\tNL-HaNA_1.04.02_1088_0530.jpg\t\t[9.523408728284721e-09, 1.1811676969841756e-08, 6.968962740216966e-09, 1.0]\n",
      "OUT\tIN\tNL-HaNA_1.04.02_1088_0531.jpg\t\t[9.78888170521941e-09, 1.1659579968181788e-08, 6.274953445739584e-09, 1.0]\n",
      "OUT\tIN\tNL-HaNA_1.04.02_1088_0532.jpg\tin Ambonia tsedert 8 septemb.; Daghregister vant g\t[9.135020739847732e-09, 1.046169195717539e-08, 6.128401786043014e-09, 1.0]\n",
      "OUT\tIN\tNL-HaNA_1.04.02_1088_0533.jpg\t\t[9.241554188577084e-09, 1.0719307219630991e-08, 6.066831925721772e-09, 1.0]\n",
      "OUT\tIN\tNL-HaNA_1.04.02_1088_0534.jpg\tCopien van resolutien tsedert; 21 Julij 1628. tet \t[9.543955847846064e-09, 1.0956484608470873e-08, 5.638248090633624e-09, 1.0]\n",
      "OUT\tIN\tNL-HaNA_1.04.02_1088_0535.jpg\tberockt ons alsoo weder werck, geeft ons de handen\t[9.83049375236078e-09, 1.0667339900294337e-08, 5.586394902223901e-09, 1.0]\n",
      "OUT\tIN\tNL-HaNA_1.04.02_1088_0536.jpg\tgewacht, dat sulcx de ongelegentheijt van tijt, en\t[9.576322845816776e-09, 1.0878396849989258e-08, 5.8493574428553075e-09, 1.0]\n",
      "OUT\tIN\tNL-HaNA_1.04.02_1088_0537.jpg\tDen 22.en s=o vertrocken van lato ende Holoij, end\t[1.004386529501744e-08, 1.055877785205439e-08, 5.444624751049787e-09, 1.0]\n",
      "OUT\tIN\tNL-HaNA_1.04.02_1088_0538.jpg\tdit geweest sijn, hebben nu inder daatr bevonden, \t[1.0076274925552298e-08, 1.059476772979906e-08, 5.771118694042343e-09, 1.0]\n",
      "OUT\tIN\tNL-HaNA_1.04.02_1088_0539.jpg\tende gewillich aengenomen, hadden mede al begonnen\t[9.56787005179649e-09, 9.970571035466946e-09, 5.87337112278874e-09, 1.0]\n",
      "OUT\tIN\tNL-HaNA_1.04.02_1088_0540.jpg\tDen 6. H=o Ist fargatt Suratte, Wederom op Amboijn\t[9.661301980656845e-09, 1.0357337210109563e-08, 5.704611449885988e-09, 1.0]\n",
      "OUT\tIN\tNL-HaNA_1.04.02_1088_0541.jpg\tOuer het Verlies van Rommite, hadden ouer Hittoe, \t[9.25903975712572e-09, 1.0336930422738533e-08, 6.2208984630274244e-09, 1.0]\n",
      "OUT\tIN\tNL-HaNA_1.04.02_1088_0542.jpg\twaren, het selue achter nelis hoeck te brengen, om\t[9.14725895029278e-09, 1.0752480683606791e-08, 6.1511795657054336e-09, 1.0]\n",
      "OUT\tIN\tNL-HaNA_1.04.02_1088_0543.jpg\t244; voorganis, datmen ons niet en mocht vertrouwe\t[9.803175160527644e-09, 1.1182559767064504e-08, 5.799842384135445e-09, 1.0]\n",
      "OUT\tIN\tNL-HaNA_1.04.02_1088_0544.jpg\tvrouw, den man niet mede toebehoorde, niet meer an\t[9.76065539504134e-09, 1.164615692772486e-08, 6.161218646383304e-09, 1.0]\n",
      "OUT\tIN\tNL-HaNA_1.04.02_1088_0545.jpg\tsoete middelen te werck gaen, hoewel daar mede nie\t[1.0048331056111692e-08, 1.0746841638820115e-08, 5.930613333759993e-09, 1.0]\n",
      "OUT\tIN\tNL-HaNA_1.04.02_1088_0546.jpg\tsoude mogen bewaert leggen, maer alst nu alsoo bes\t[9.867971328958447e-09, 1.0869478650477049e-08, 5.808189484923787e-09, 1.0]\n",
      "OUT\tIN\tNL-HaNA_1.04.02_1088_0547.jpg\tsij seijden dat op Hattamana, den Jongen Coninck, \t[9.461270877864081e-09, 1.0886721746317107e-08, 6.492939075286586e-09, 1.0]\n",
      "OUT\tIN\tNL-HaNA_1.04.02_1088_0548.jpg\tuijt de quartieren van hittoe, dit heele Mosson, m\t[9.654468335895672e-09, 1.09096065514791e-08, 5.7249072149545555e-09, 1.0]\n",
      "OUT\tIN\tNL-HaNA_1.04.02_1088_0549.jpg\tdaer van wachten soude, hebben de gevangenen ontsl\t[9.087819385911189e-09, 1.0412342987820011e-08, 6.438700239641548e-09, 1.0]\n",
      "OUT\tIN\tNL-HaNA_1.04.02_1088_0550.jpg\thebben geconsenteert, haer best te doen, ende reve\t[9.672236345181773e-09, 1.1302771163457237e-08, 6.010291819791291e-09, 1.0]\n",
      "OUT\tIN\tNL-HaNA_1.04.02_1088_0551.jpg\tselffs dootlijck gewont, waar op die van Cambello \t[9.534713463210664e-09, 1.1747912864734644e-08, 6.699391708053781e-09, 1.0]\n",
      "OUT\tIN\tNL-HaNA_1.04.02_1088_0552.jpg\tspoedich affhandelen, ende ons laeten weeten, waer\t[9.570844561324066e-09, 1.0880928158485403e-08, 5.665607982763277e-09, 1.0]\n",
      "OUT\tIN\tNL-HaNA_1.04.02_1088_0553.jpg\tpattij naij, met haer souden afsenden, om den Coni\t[9.556671010102491e-09, 1.0775803360729697e-08, 5.655264700976659e-09, 1.0]\n",
      "OUT\tIN\tNL-HaNA_1.04.02_1088_0554.jpg\tbegeerden alleen te verstaen, wat antwoort den kim\t[9.349101048883313e-09, 1.0956798135453027e-08, 6.693350318442981e-09, 1.0]\n",
      "OUT\tIN\tNL-HaNA_1.04.02_1088_0555.jpg\tsij hadden geseijt voor ons bevreest te weesen, en\t[1.0239618930540928e-08, 1.0844422249078889e-08, 6.09532957440706e-09, 1.0]\n",
      "OUT\tIN\tNL-HaNA_1.04.02_1088_0556.jpg\tTarnataensen aenhanck, vande custe van Ceram: niet\t[9.946885093370383e-09, 1.0704025221741631e-08, 5.569467997901256e-09, 1.0]\n",
      "OUT\tIN\tNL-HaNA_1.04.02_1088_0557.jpg\top houden, conde niet bedencken wat Excusien sij d\t[9.645670040470122e-09, 1.099408120097678e-08, 5.682696535558307e-09, 1.0]\n",
      "OUT\tIN\tNL-HaNA_1.04.02_1088_0558.jpg\tvereenichde Nederlanden, maer deselue hebben haren\t[9.375565213076698e-09, 1.0141831374710364e-08, 5.8729452412364935e-09, 1.0]\n",
      "OUT\tIN\tNL-HaNA_1.04.02_1088_0559.jpg\tte werden, het welck wij hebben naergecommen, ende\t[9.480492835223231e-09, 1.0088928803497765e-08, 5.726687568596844e-09, 1.0]\n",
      "OUT\tIN\tNL-HaNA_1.04.02_1088_0560.jpg\ttraecheijt des Conincx van Saulauw, niet en soude \t[9.860953831264396e-09, 1.0702229324976997e-08, 5.546220815944025e-09, 1.0]\n",
      "OUT\tIN\tNL-HaNA_1.04.02_1088_0561.jpg\top dat alsoo de oude vruntschap, mocht vernieuwt w\t[9.716798921033387e-09, 1.0637066338858858e-08, 5.959755799977984e-09, 1.0]\n",
      "OUT\tIN\tNL-HaNA_1.04.02_1088_0562.jpg\tarmoede die zijn bolck leet, doch ten laetsten hei\t[1.0124263205568695e-08, 1.0370937886250431e-08, 5.364897859294615e-09, 1.0]\n",
      "OUT\tIN\tNL-HaNA_1.04.02_1088_0563.jpg\tte assisteeren.; Capn. Hittoe quam ons mede besoec\t[1.019779283240041e-08, 9.954134405631976e-09, 5.380104806107511e-09, 1.0]\n",
      "OUT\tIN\tNL-HaNA_1.04.02_1088_0564.jpg\tHebben den gesant Noffa Maniera, bij ons ontbooden\t[1.025347540206667e-08, 1.038071495429449e-08, 5.543005610064711e-09, 1.0]\n",
      "OUT\tIN\tNL-HaNA_1.04.02_1088_0565.jpg\tgoetgevoelen vandese saack; Wij Eijschten vanden g\t[1.0080214885022087e-08, 1.0135449812764818e-08, 5.530090607663851e-09, 1.0]\n",
      "OUT\tIN\tNL-HaNA_1.04.02_1088_0566.jpg\tDit staat ons vreemt aen, connes oock niet geloove\t[9.255879618308427e-09, 1.0551691964622023e-08, 6.294948562413083e-09, 1.0]\n",
      "OUT\tIN\tNL-HaNA_1.04.02_1088_0567.jpg\tworden, met veel meer schoone woorden daar noch bi\t[1.0238056624700675e-08, 1.0645752723803525e-08, 5.441935346794935e-09, 1.0]\n",
      "OUT\tIN\tNL-HaNA_1.04.02_1088_0568.jpg\tnaar Hittoe, aenden ondercoopman vant Nederlants C\t[1.1077054828945165e-08, 1.0387488202923123e-08, 5.230514688037147e-09, 1.0]\n",
      "OUT\tIN\tNL-HaNA_1.04.02_1088_0569.jpg\tdat denselven soude doen translateren, op dat aen \t[1.5009767651008588e-08, 1.3862187842050844e-08, 6.875879865475554e-09, 1.0]\n",
      "OUT\tEND\tNL-HaNA_1.04.02_1088_0570.jpg\tende geen meer en haddent, schreeff Helenij aen on\t[1.1136479827200674e-07, 7.991847184030121e-08, 3.435389572814529e-08, 0.9999997615814209]\n"
     ]
    },
    {
     "name": "stderr",
     "output_type": "stream",
     "text": [
      "Evaluating:  14%|█▍        | 8/57 [00:02<00:18,  2.64batch/s]"
     ]
    },
    {
     "name": "stdout",
     "output_type": "stream",
     "text": [
      "OUT\tBEGIN\tNL-HaNA_1.04.02_1557_0262.jpg\tVan Palembang Den 21=en October A=o 1694.; ontfang\t[5.4608186417226534e-08, 1.1831205171120018e-07, 1.5220106774904707e-07, 0.9999996423721313]\n",
      "OUT\tIN\tNL-HaNA_1.04.02_1557_0263.jpg\tVan Palembang Den 21:en october Anno 1694.; aankom\t[1.1213015405076021e-08, 1.610706235055659e-08, 1.0867674760106638e-08, 1.0]\n",
      "OUT\tIN\tNL-HaNA_1.04.02_1557_0264.jpg\tVan Palembang den 21:en october Anno 1694; u. ho: \t[8.467855749927367e-09, 1.1153844958755599e-08, 7.927807743612902e-09, 1.0]\n",
      "OUT\tIN\tNL-HaNA_1.04.02_1557_0265.jpg\tVan Palenbang Den 21=en October A=o 1694.; haar be\t[9.258969591030564e-09, 1.1477961692207828e-08, 6.959452125698817e-09, 1.0]\n",
      "OUT\tIN\tNL-HaNA_1.04.02_1557_0266.jpg\tVan Palembang Den 21=en october A=o 1694.; om hare\t[9.811031098649892e-09, 1.1567322211192277e-08, 6.361029925017192e-09, 1.0]\n",
      "OUT\tIN\tNL-HaNA_1.04.02_1557_0267.jpg\tVan Palembang Den 21=en october A:o 1694. —; de va\t[9.055187710771406e-09, 1.1159994706133602e-08, 6.2319429616763955e-09, 1.0]\n",
      "OUT\tIN\tNL-HaNA_1.04.02_1557_0268.jpg\tVan Palembang Den 21=en october Ao 1694.; de sloep\t[9.345588303233399e-09, 1.1002514455071832e-08, 5.906241273834212e-09, 1.0]\n",
      "OUT\tIN\tNL-HaNA_1.04.02_1557_0269.jpg\tVan Palemban den 21=en October Anno 1699; timmerma\t[1.0114342252620645e-08, 1.0906777703212356e-08, 5.592130314369115e-09, 1.0]\n",
      "OUT\tIN\tNL-HaNA_1.04.02_1557_0270.jpg\tVan Palembang Den 21=en October A=o 1694.; voorraa\t[1.0857958088195119e-08, 1.0752480683606791e-08, 5.578398631911341e-09, 1.0]\n",
      "OUT\tIN\tNL-HaNA_1.04.02_1557_0271.jpg\tVan Palembang den 21=en october A=o 1694.; te werd\t[1.4427294914298727e-08, 1.3740151239005627e-08, 7.188385442447043e-09, 1.0]\n",
      "OUT\tEND\tNL-HaNA_1.04.02_1557_0272.jpg\tVan Palembang den 21=en October A=o 1694.; to; Pan\t[1.076227036378441e-07, 7.860715101060123e-08, 3.449822116863288e-08, 0.9999997615814209]\n",
      "OUT\tBEGIN\tNL-HaNA_1.04.02_1557_0306.jpg\tVan Palembang onder dato 21=en October A:o 1694.; \t[7.779929944717878e-08, 1.3102834373057703e-07, 1.163455749519926e-07, 0.9999996423721313]\n",
      "OUT\tEND\tNL-HaNA_1.04.02_1557_0307.jpg\tVan Palembang onder dato 24=en October A:o 169.; a\t[1.3442053159451461e-07, 1.1182411441268414e-07, 5.4000093285822004e-08, 0.9999996423721313]\n"
     ]
    },
    {
     "name": "stderr",
     "output_type": "stream",
     "text": [
      "Evaluating:  18%|█▊        | 10/57 [00:02<00:16,  2.87batch/s]"
     ]
    },
    {
     "name": "stdout",
     "output_type": "stream",
     "text": [
      "OUT\tBEGIN\tNL-HaNA_1.04.02_1557_1616.jpg\tVan Bengale Den 24=en November 1694.; en't oorlogh\t[5.370509725821648e-08, 1.0788124171767777e-07, 1.4494361266770284e-07, 0.9999996423721313]\n",
      "OUT\tIN\tNL-HaNA_1.04.02_1557_1617.jpg\tVan Bengale den 24=en November A:o 1694.; reedenen\t[1.0777077896761966e-08, 1.5907330563891264e-08, 1.308072050676401e-08, 1.0]\n",
      "OUT\tIN\tNL-HaNA_1.04.02_1557_1618.jpg\tVan Bengale den 24=en November; 1699.; A; ijsinte \t[9.266972078592062e-09, 1.1703898294967985e-08, 7.003141178074657e-09, 1.0]\n",
      "OUT\tIN\tNL-HaNA_1.04.02_1557_1619.jpg\tVan Bengale Den 24=en November A:o 1694.; communic\t[9.593397187757091e-09, 1.1165061764017992e-08, 5.95230309485828e-09, 1.0]\n",
      "OUT\tIN\tNL-HaNA_1.04.02_1557_1620.jpg\tVan Bengale Den 24=en November A=o 1694.; arrivem:\t[9.268386946814644e-09, 1.0655219817579109e-08, 7.19049708663988e-09, 1.0]\n",
      "OUT\tIN\tNL-HaNA_1.04.02_1557_1621.jpg\tVan Bengale Den 24=en November A:o 1694.; naar Che\t[9.971693692989447e-09, 1.0622629886825052e-08, 5.658836066402273e-09, 1.0]\n",
      "OUT\tIN\tNL-HaNA_1.04.02_1557_1622.jpg\tVan Bengale Den 24=en November A:o 1694.; E. h:r C\t[9.63261648223579e-09, 9.97399496327489e-09, 5.825030235939721e-09, 1.0]\n",
      "OUT\tIN\tNL-HaNA_1.04.02_1557_1623.jpg\tVan Bengale Den 24=en November A:o 1694.; e; missi\t[1.0396664862355465e-08, 1.0985885978698207e-08, 5.88163295844879e-09, 1.0]\n",
      "OUT\tIN\tNL-HaNA_1.04.02_1557_1624.jpg\tVan Bengale Den 24=en November A=o 1694.; hoedanig\t[1.4319170738019693e-08, 1.3110744490063553e-08, 7.188933892621208e-09, 1.0]\n",
      "OUT\tEND\tNL-HaNA_1.04.02_1557_1625.jpg\tVan Bengale Den 24=en November A:o 1694.; gekomene\t[1.0803856298480241e-07, 7.834206883217121e-08, 3.4472439125465826e-08, 0.9999997615814209]\n",
      "OUT\tBEGIN\tNL-HaNA_1.04.02_1557_1557.jpg\tVan Bengale Den 20=en September A=o 1694.; waar bi\t[5.508994505021292e-08, 1.0140499995259233e-07, 9.812120538299496e-08, 0.9999997615814209]\n",
      "OUT\tIN\tNL-HaNA_1.04.02_1557_1558.jpg\tVan Bengale onder dato 20=en September A=o 1694.; \t[1.1952368872414354e-08, 1.6311233252963575e-08, 1.0791270987908774e-08, 1.0]\n",
      "OUT\tIN\tNL-HaNA_1.04.02_1557_1559.jpg\tVan Bengale onder dato 20=en September A=o 1694.; \t[1.4660166414159903e-08, 1.5234395078778107e-08, 7.79127429240134e-09, 1.0]\n",
      "OUT\tEND\tNL-HaNA_1.04.02_1557_1560.jpg\tVan Bengale onder dato 20=en Septemb:r A=o 1694.; \t[1.0621903356877738e-07, 7.814999491984054e-08, 3.53867193325641e-08, 0.9999997615814209]\n"
     ]
    },
    {
     "name": "stderr",
     "output_type": "stream",
     "text": [
      "Evaluating:  21%|██        | 12/57 [00:03<00:12,  3.73batch/s]"
     ]
    },
    {
     "name": "stdout",
     "output_type": "stream",
     "text": [
      "OUT\tOUT\tNL-HaNA_1.04.02_1557_0498.jpg\t\t[5.934665026074981e-08, 1.358990999733578e-07, 2.104984844208957e-07, 0.9999996423721313]\n",
      "OUT\tOUT\tNL-HaNA_1.04.02_1557_0499.jpg\t\t[1.0692495777675504e-08, 1.7597132639934898e-08, 1.899469381783092e-08, 1.0]\n",
      "OUT\tOUT\tNL-HaNA_1.04.02_1557_0500.jpg\t\t[8.427011088940617e-09, 1.4205895126906398e-08, 1.3099421103390796e-08, 1.0]\n",
      "OUT\tOUT\tNL-HaNA_1.04.02_1557_0501.jpg\t\t[7.855092576392053e-09, 1.2165161322741369e-08, 1.068900967737818e-08, 1.0]\n",
      "OUT\tOUT\tNL-HaNA_1.04.02_1557_0502.jpg\t\t[8.471651824493165e-09, 1.1508784147906681e-08, 8.761668723877847e-09, 1.0]\n",
      "OUT\tBEGIN\tNL-HaNA_1.04.02_1557_0503.jpg\tontfangen; 17:en decemb:r p:r de fluijt; Langewijk\t[8.3515336868345e-09, 1.0928163263201895e-08, 7.712438687690337e-09, 1.0]\n",
      "OUT\tIN\tNL-HaNA_1.04.02_1557_0504.jpg\t\t[9.039053061599134e-09, 1.1301866109647563e-08, 7.078060360043992e-09, 1.0]\n",
      "OUT\tIN\tNL-HaNA_1.04.02_1557_0505.jpg\t\t[9.045883153646628e-09, 1.1383167297651653e-08, 6.85074574846567e-09, 1.0]\n",
      "OUT\tIN\tNL-HaNA_1.04.02_1557_0506.jpg\t\t[9.338745776688029e-09, 1.0930560456756666e-08, 6.523040330108643e-09, 1.0]\n",
      "OUT\tIN\tNL-HaNA_1.04.02_1557_0507.jpg\tVan Japan Den 7=en November A=o 1694.; Register de\t[9.39943234357088e-09, 1.1191414905908914e-08, 6.07850703104873e-09, 1.0]\n",
      "OUT\tIN\tNL-HaNA_1.04.02_1557_0508.jpg\tVan Japan Den 7=en November A=o 1694.; L:a I. 1. C\t[9.273355416894447e-09, 1.1029239743720609e-08, 6.53670317873889e-09, 1.0]\n",
      "OUT\tIN\tNL-HaNA_1.04.02_1557_0509.jpg\tVan Japan Den 7=en November A=o 1694.; 1. d=o van \t[1.463881904584241e-08, 1.3976134027871012e-08, 7.121067291393501e-09, 1.0]\n",
      "OUT\tEND\tNL-HaNA_1.04.02_1557_0510.jpg\tVan Japan Den 7=en November Anno 1694.; ontfangen \t[1.071620303605414e-07, 7.91400083244298e-08, 3.4757722033873506e-08, 0.9999997615814209]\n"
     ]
    },
    {
     "name": "stderr",
     "output_type": "stream",
     "text": [
      "Evaluating:  25%|██▍       | 14/57 [00:03<00:10,  4.28batch/s]"
     ]
    },
    {
     "name": "stdout",
     "output_type": "stream",
     "text": [
      "OUT\tBEGIN\tNL-HaNA_1.04.02_1557_1109.jpg\tVan Sumatras W:t Cust onder dato 21=en Meij ao 169\t[5.328553598360486e-08, 1.0948151185630195e-07, 1.346388813772137e-07, 0.9999996423721313]\n",
      "OUT\tIN\tNL-HaNA_1.04.02_1557_1110.jpg\tVan Sumatras W:t Cust onder dato 21:en meij ao 169\t[1.0692109420062934e-08, 1.5798086394624988e-08, 1.1786337239527711e-08, 1.0]\n",
      "OUT\tIN\tNL-HaNA_1.04.02_1557_1111.jpg\tVan Sumatras W=t Cust onder dato 24:e Iseij ao 179\t[8.565548270667023e-09, 1.1350558715150783e-08, 7.827857473330369e-09, 1.0]\n",
      "OUT\tIN\tNL-HaNA_1.04.02_1557_1112.jpg\tVan Sumatras W:t Cust onder dato 24:en Meij Ao 169\t[8.970455489532014e-09, 1.1142192057889133e-08, 6.371144056771527e-09, 1.0]\n",
      "OUT\tIN\tNL-HaNA_1.04.02_1557_1113.jpg\tVan Sumatras W:t Cust ondr dato 21:e' meij A=o 169\t[9.180486593152182e-09, 1.0181817167165264e-08, 6.2835527891991205e-09, 1.0]\n",
      "OUT\tIN\tNL-HaNA_1.04.02_1557_1114.jpg\tVan Sumatras W:t Cust onder dato 21:' meij a:o 169\t[1.0006025341624536e-08, 1.0665874405901832e-08, 6.047203182646399e-09, 1.0]\n",
      "OUT\tIN\tNL-HaNA_1.04.02_1557_1115.jpg\tVan Sumatra W„t Cust onder dato 21:' Meij A:o 1694\t[1.2689131523302422e-08, 1.4318242591571106e-08, 8.258093764368368e-09, 1.0]\n",
      "OUT\tEND\tNL-HaNA_1.04.02_1557_1116.jpg\tVan Sumatras W:t Cust onder dato 21:en meij a=o 16\t[1.0434990116436893e-07, 8.19916152750011e-08, 3.555172156666231e-08, 0.9999997615814209]\n",
      "OUT\tBEGIN\tNL-HaNA_1.04.02_1557_1378.jpg\tVan Bengale onder dato 18:' Januarij A:o 1694.; P:\t[5.543641634631058e-08, 1.0498435187855648e-07, 8.999059986081193e-08, 0.9999997615814209]\n",
      "OUT\tIN\tNL-HaNA_1.04.02_1557_1379.jpg\tVan; Bengale Den 18=en Januarij A„o 1694.; Wat bew\t[1.1505163044489564e-08, 1.5303619704809535e-08, 9.75499769850785e-09, 1.0]\n",
      "OUT\tIN\tNL-HaNA_1.04.02_1557_1380.jpg\tVan Bengale Den 18=en Januarij A„o 1694.; uijt de \t[9.95749616095054e-09, 1.1069156258258772e-08, 6.088706427931356e-09, 1.0]\n",
      "OUT\tIN\tNL-HaNA_1.04.02_1557_1381.jpg\tVan; Bengale Den 18=en Januarij A„o 16794.; genood\t[9.697284752974156e-09, 1.089633894224562e-08, 6.582595357684795e-09, 1.0]\n",
      "OUT\tIN\tNL-HaNA_1.04.02_1557_1382.jpg\tVan Bengale Dden 18=en Ianuarij A:o 1694.; Zusdani\t[1.403934746235791e-08, 1.3995099301666869e-08, 7.83925724334722e-09, 1.0]\n",
      "OUT\tEND\tNL-HaNA_1.04.02_1557_1383.jpg\tVan Bengale den 18 Januarij A„o 1699; komtop dage,\t[1.0688339813214043e-07, 7.957016379123161e-08, 3.472849741115169e-08, 0.9999997615814209]\n"
     ]
    },
    {
     "name": "stderr",
     "output_type": "stream",
     "text": [
      "Evaluating:  26%|██▋       | 15/57 [00:05<00:22,  1.83batch/s]"
     ]
    },
    {
     "name": "stdout",
     "output_type": "stream",
     "text": [
      "OUT\tOUT\tNL-HaNA_1.04.02_1547_0020.jpg\t\t[1.6854727391546476e-06, 4.14656096836552e-06, 7.20735761206015e-06, 0.9999868869781494]\n",
      "OUT\tOUT\tNL-HaNA_1.04.02_1547_0021.jpg\t\t[1.1199399807537702e-07, 1.9268861706223106e-07, 2.370456257949627e-07, 0.9999994039535522]\n",
      "OUT\tOUT\tNL-HaNA_1.04.02_1547_0022.jpg\t\t[4.060335712097185e-08, 5.535326863537193e-08, 4.9838305926641624e-08, 0.9999998807907104]\n",
      "OUT\tOUT\tNL-HaNA_1.04.02_1547_0023.jpg\t1.; Hrigineele briev; No\t[2.153867306731172e-08, 2.6216550708113573e-08, 1.832312790384094e-08, 1.0]\n",
      "OUT\tOUT\tNL-HaNA_1.04.02_1547_0024.jpg\t\t[2.611105465177843e-08, 2.8786876882236356e-08, 1.864013121632979e-08, 1.0]\n",
      "OUT\tOUT\tNL-HaNA_1.04.02_1547_0025.jpg\t\t[2.6513340856126888e-08, 2.8259934836682987e-08, 1.7547895581060402e-08, 1.0]\n",
      "OUT\tOUT\tNL-HaNA_1.04.02_1547_0026.jpg\t\t[2.6004693509662502e-08, 2.7354444043226067e-08, 1.654611736512379e-08, 1.0]\n",
      "OUT\tBEGIN\tNL-HaNA_1.04.02_1547_0027.jpg\tAan d' Edele Hog Agbaare Heeren; De Heeren Bewindh\t[1.983887365497594e-08, 2.1455438314887942e-08, 1.2496574441911434e-08, 1.0]\n",
      "OUT\tIN\tNL-HaNA_1.04.02_1547_0028.jpg\tHoog Agtbaare te schrijven, en den toestand deser;\t[2.0004847556265304e-08, 2.1533002936280354e-08, 1.2421103257054256e-08, 1.0]\n",
      "OUT\tIN\tNL-HaNA_1.04.02_1547_0029.jpg\tdeses Jaars p:r 'tschip Courtgena med; soodanige b\t[1.9944119244996728e-08, 2.1438912867211002e-08, 1.2302787233409163e-08, 1.0]\n",
      "OUT\tIN\tNL-HaNA_1.04.02_1547_0030.jpg\tkonnende ophaalen, door swackheijt van volk; vermi\t[1.9924309313523736e-08, 2.1401161731660068e-08, 1.2250009007175322e-08, 1.0]\n",
      "OUT\tIN\tNL-HaNA_1.04.02_1547_0031.jpg\tgeneraale Comp: onder dit ons aan; vertrouwde mall\t[1.991754672303614e-08, 2.1384146009495453e-08, 1.2224916190461954e-08, 1.0]\n",
      "OUT\tIN\tNL-HaNA_1.04.02_1547_0032.jpg\tanders vermoedelijk zij, soo sal sulcx; soo gemack\t[1.9918497073945218e-08, 2.1378477654820927e-08, 1.2213660305349094e-08, 1.0]\n",
      "OUT\tIN\tNL-HaNA_1.04.02_1547_0033.jpg\tte ontwaaren, bij het schrijvens van dien; moors b\t[1.9901976955338796e-08, 2.135871035591208e-08, 1.2197596710450398e-08, 1.0]\n",
      "OUT\tIN\tNL-HaNA_1.04.02_1547_0034.jpg\tsoo als het bij een vreedige regeeringe eertijts; \t[1.9588343391774288e-08, 2.106430407877724e-08, 1.2019557793507829e-08, 1.0]\n",
      "OUT\tIN\tNL-HaNA_1.04.02_1547_0035.jpg\t17:e februarij deses Jaars, belaaden med; verschei\t[1.9875953327641582e-08, 2.13337116861112e-08, 1.21812986364489e-08, 1.0]\n",
      "OUT\tIN\tNL-HaNA_1.04.02_1547_0036.jpg\tals onder N:o 9. in Copia hier nevens; overgaat, w\t[1.9904673465021006e-08, 2.1358140145366633e-08, 1.2194711906943212e-08, 1.0]\n",
      "OUT\tIN\tNL-HaNA_1.04.02_1547_0037.jpg\tweesen, dierhalven sulkx bij ons in aan„; merkinge\t[1.9899813352708406e-08, 2.13517861169521e-08, 1.2189968146003594e-08, 1.0]\n",
      "OUT\tIN\tNL-HaNA_1.04.02_1547_0038.jpg\talhier aanland doen lighten en mied het; schip sil\t[1.988327191781991e-08, 2.1335216260354173e-08, 1.2179509845111625e-08, 1.0]\n",
      "OUT\tIN\tNL-HaNA_1.04.02_1547_0039.jpg\t150. lb champhur; 5. stx. rootscharlaaken; Alsoo d\t[1.9910975979087198e-08, 2.13600142018322e-08, 1.2194059983983152e-08, 1.0]\n",
      "OUT\tIN\tNL-HaNA_1.04.02_1547_0040.jpg\tvan wijser ordeel soohet daarlijcks soo„; danigh w\t[1.9883650281826704e-08, 2.13337116861112e-08, 1.2177975960980802e-08, 1.0]\n",
      "OUT\tIN\tNL-HaNA_1.04.02_1547_0041.jpg\tbuijtende hovs:n gesinde dat voorregt sullen; over\t[1.9897498759746668e-08, 2.1345963219232544e-08, 1.218517908796457e-08, 1.0]\n",
      "OUT\tIN\tNL-HaNA_1.04.02_1547_0042.jpg\tregering med een ijgelijk koopman te mogen; drijve\t[1.99032665904042e-08, 2.1350604839653897e-08, 1.2187596709622994e-08, 1.0]\n",
      "OUT\tIN\tNL-HaNA_1.04.02_1547_0043.jpg\tdie aan Jnlantsz barcque voor den; overvoer alhier\t[1.9935143313887238e-08, 2.1379333858817517e-08, 1.2204298016627035e-08, 1.0]\n",
      "OUT\tIN\tNL-HaNA_1.04.02_1547_0044.jpg\ttot soo lange het een of ander expedient; sal konn\t[1.9911581716769433e-08, 2.1356470369937597e-08, 1.2189804721174369e-08, 1.0]\n",
      "OUT\tIN\tNL-HaNA_1.04.02_1547_0045.jpg\tJn conformite van haar hoog Edele; agtbaare tot ba\t[1.990907705362588e-08, 2.135329246755191e-08, 1.2187503450888926e-08, 1.0]\n",
      "OUT\tIN\tNL-HaNA_1.04.02_1547_0046.jpg\tmaar ook den staad en gelegenth:t der; negotie mit\t[1.9582628851821937e-08, 2.1049444853815658e-08, 1.2005925142943852e-08, 1.0]\n",
      "OUT\tIN\tNL-HaNA_1.04.02_1547_0047.jpg\thier aangekoomen, tot nogh geen tijt; genogh gehad\t[1.9870380896236384e-08, 2.1320614607134303e-08, 1.2169733665245985e-08, 1.0]\n",
      "OUT\tIN\tNL-HaNA_1.04.02_1547_0048.jpg\tgewoonen landweg van persia een waar; berigt te do\t[1.9901863268501074e-08, 2.1348812495602942e-08, 1.2186061937313752e-08, 1.0]\n",
      "OUT\tIN\tNL-HaNA_1.04.02_1547_0049.jpg\tde stad te willen komen ontmoeten,; terwijle de ro\t[1.991336695539303e-08, 2.1358426138817777e-08, 1.2191200049471718e-08, 1.0]\n",
      "OUT\tIN\tNL-HaNA_1.04.02_1547_0050.jpg\thoog:ts afgevaardigd schrijvens gecarteert, nevens\t[1.9893361624667705e-08, 2.1339124245400853e-08, 1.2179230957087839e-08, 1.0]\n",
      "OUT\tIN\tNL-HaNA_1.04.02_1547_0051.jpg\thoe gecommitteerde ofte ragiadoor den; onderkoopma\t[1.9890478597517358e-08, 2.1335949895728845e-08, 1.217709399981004e-08, 1.0]\n",
      "OUT\tIN\tNL-HaNA_1.04.02_1547_0052.jpg\tzal:r het tegendeel tot zijn verdried, en groot; h\t[1.9912228310658975e-08, 2.13555733097337e-08, 1.2188480447150596e-08, 1.0]\n",
      "OUT\tIN\tNL-HaNA_1.04.02_1547_0053.jpg\ten te herstellen, willende verhoopen dat; haar Ed:\t[1.990770925885954e-08, 2.135068655206851e-08, 1.2185085829230502e-08, 1.0]\n",
      "OUT\tIN\tNL-HaNA_1.04.02_1547_0054.jpg\t„linge der zaaken ten principaale tot; een beeter \t[1.9887519187022917e-08, 2.1331269195457025e-08, 1.2173099861456649e-08, 1.0]\n",
      "OUT\tIN\tNL-HaNA_1.04.02_1547_0055.jpg\tte werden de briev, en schenckagie ins ge„; „lijcx\t[1.9888808822088322e-08, 2.133196197462439e-08, 1.2173193120190717e-08, 1.0]\n",
      "OUT\tIN\tNL-HaNA_1.04.02_1547_0056.jpg\tsig onmoogelijk tot de afreijse na Crangan; „konde\t[1.990273545970922e-08, 2.1344213507745735e-08, 1.2180020547702952e-08, 1.0]\n",
      "OUT\tIN\tNL-HaNA_1.04.02_1547_0057.jpg\tdie med den sammorijn voor het Intrest; en belang \t[1.9913255044912148e-08, 2.1353008250457606e-08, 1.2184575126639174e-08, 1.0]\n",
      "OUT\tIN\tNL-HaNA_1.04.02_1547_0058.jpg\twas, ende laastelijk, 't gunt wel 't swaar„; „ste \t[1.9919371041510203e-08, 2.135752907861388e-08, 1.2186458064888939e-08, 1.0]\n",
      "OUT\tIN\tNL-HaNA_1.04.02_1547_0059.jpg\tbehalven nog de huijsmeubelen bedragende; in gelde\t[1.990311737642969e-08, 2.1341159950338806e-08, 1.2175769725786267e-08, 1.0]\n",
      "OUT\tIN\tNL-HaNA_1.04.02_1547_0060.jpg\tals kennende haar wispeltuurigen aard, en; spoorel\t[1.9908013015879078e-08, 2.1344456868632733e-08, 1.217676892650843e-08, 1.0]\n",
      "OUT\tIN\tNL-HaNA_1.04.02_1547_0061.jpg\tCommandeur goed gedagt tot bereijk van; dat goed o\t[1.9914470072990298e-08, 2.1348894208017555e-08, 1.217827882982192e-08, 1.0]\n",
      "OUT\tIN\tNL-HaNA_1.04.02_1547_0062.jpg\tkonde te resolteeren, invoegen uw Ed:le hoog; agtb\t[1.99155341107371e-08, 2.134795806796319e-08, 1.2176350594472751e-08, 1.0]\n",
      "OUT\tIN\tNL-HaNA_1.04.02_1547_0063.jpg\tafgesant van sijn maijesteijt niet alleen; dierwee\t[1.9908279469404988e-08, 2.1339124245400853e-08, 1.2169478758039531e-08, 1.0]\n",
      "OUT\tIN\tNL-HaNA_1.04.02_1547_0064.jpg\tna sijn E. voorneemen, en het afvaardigen; deses s\t[1.9908165782567266e-08, 2.13365609624816e-08, 1.2166205820562936e-08, 1.0]\n",
      "OUT\tIN\tNL-HaNA_1.04.02_1547_0065.jpg\thoe wel den Calicoijlander het liever anders; wens\t[1.9925526117958725e-08, 2.134970955580684e-08, 1.2171985197539925e-08, 1.0]\n",
      "OUT\tIN\tNL-HaNA_1.04.02_1547_0066.jpg\teen gewenschte occagie gebooren souden; zijn de be\t[1.9935942674464968e-08, 2.1355736734562925e-08, 1.2172914232166931e-08, 1.0]\n",
      "OUT\tIN\tNL-HaNA_1.04.02_1547_0067.jpg\tinwickelinge tot haare onderlinge krackeelen; stil\t[1.9970993747620014e-08, 2.138373744742239e-08, 1.2186504250166763e-08, 1.0]\n",
      "OUT\tIN\tNL-HaNA_1.04.02_1547_0068.jpg\toverleeden oud heer Command:j van Dielen; zal:r La\t[1.9938299899990852e-08, 2.1348121492792416e-08, 1.2161357254569793e-08, 1.0]\n",
      "OUT\tIN\tNL-HaNA_1.04.02_1547_0069.jpg\tsoo lange men van haar Ho: Ed:le agtb=re; ordres d\t[1.994541243277581e-08, 2.134885335181025e-08, 1.2157460815842569e-08, 1.0]\n",
      "OUT\tIN\tNL-HaNA_1.04.02_1547_0070.jpg\tsoo verre te ontslaan dat, volgens het gedan; Rapp\t[1.9977926868364193e-08, 2.1371791447677424e-08, 1.216581146934459e-08, 1.0]\n",
      "OUT\tIN\tNL-HaNA_1.04.02_1547_0071.jpg\tvan saaken zullen koomen te treeden; ende de oneff\t[1.998250098722565e-08, 2.1367227986957005e-08, 1.2156463391477246e-08, 1.0]\n",
      "OUT\tIN\tNL-HaNA_1.04.02_1547_0072.jpg\tingewortelt, en qualijk weeder uijt te; roeijen si\t[1.996969878348409e-08, 2.1344986222970874e-08, 1.2135637383892117e-08, 1.0]\n",
      "OUT\tIN\tNL-HaNA_1.04.02_1547_0073.jpg\tde fortresse aldaar, op soo een voornaame; frontuu\t[1.9665948869374006e-08, 2.1051651089010193e-08, 1.1952550948990392e-08, 1.0]\n",
      "OUT\tIN\tNL-HaNA_1.04.02_1547_0074.jpg\tsuccessivelijk dien aanbelangende, gesz:; soo wel \t[2.0003666278967103e-08, 2.1354107815341195e-08, 1.2124207415808996e-08, 1.0]\n",
      "OUT\tIN\tNL-HaNA_1.04.02_1547_0075.jpg\ten vriendschap te bejegenen, mitsgaders; alle moog\t[2.003593202459797e-08, 2.1366249214338495e-08, 1.2118889003431832e-08, 1.0]\n",
      "OUT\tIN\tNL-HaNA_1.04.02_1547_0076.jpg\tagtb: tot batavia ook niet hebben; nagelaaten onse\t[2.0049043314429582e-08, 2.135785592827233e-08, 1.2099095947348815e-08, 1.0]\n",
      "OUT\tIN\tNL-HaNA_1.04.02_1547_0077.jpg\theere Commissaris (L: m:) aan hem; toegebraght en \t[2.006430754875055e-08, 2.134840570988672e-08, 1.2076617039724624e-08, 1.0]\n",
      "OUT\tIN\tNL-HaNA_1.04.02_1547_0078.jpg\tte betragten, Jnvoegen de versellende afschriven; \t[2.0107906451016788e-08, 2.136131804775232e-08, 1.2064645282805486e-08, 1.0]\n",
      "OUT\tIN\tNL-HaNA_1.04.02_1547_0079.jpg\tsullen vinden de handen aan het werk; teslaan, end\t[2.0142605805517633e-08, 2.1361561408639318e-08, 1.2041655672589968e-08, 1.0]\n",
      "OUT\tIN\tNL-HaNA_1.04.02_1547_0080.jpg\tmed de N=rst:t 18, 19. en 20. geteekent med aan„; \t[2.01953085365858e-08, 2.1372851932710546e-08, 1.2022240980513743e-08, 1.0]\n",
      "OUT\tIN\tNL-HaNA_1.04.02_1547_0081.jpg\tDe generaale lasten hebben a:o 1693. beloopen tot;\t[1.953182326985825e-08, 2.0717489945809575e-08, 1.1608122463258042e-08, 1.0]\n",
      "OUT\tIN\tNL-HaNA_1.04.02_1547_0082.jpg\talles breeder gespecificeert inde memorie; daar va\t[2.023081613344857e-08, 2.1327000609971947e-08, 1.1938515953602291e-08, 1.0]\n",
      "OUT\tIN\tNL-HaNA_1.04.02_1547_0083.jpg\tin't vervolg mogte vergroot ende konnen; g'accrese\t[2.0298340785984692e-08, 2.1340426314964134e-08, 1.191135901024154e-08, 1.0]\n",
      "OUT\tIN\tNL-HaNA_1.04.02_1547_0084.jpg\thebbende konnen gesleeten werden, en; 'twelke haar\t[2.0046519111360794e-08, 2.1057795507317678e-08, 1.1709100355972168e-08, 1.0]\n",
      "OUT\tIN\tNL-HaNA_1.04.02_1547_0085.jpg\t11602¼. lb= bengaalse sijden, teweeten; 4651¾ lb C\t[1.9979072618525606e-08, 2.0945076784073535e-08, 1.1608587868749964e-08, 1.0]\n",
      "OUT\tIN\tNL-HaNA_1.04.02_1547_0086.jpg\t54534. p:s mogta kleeden of Chiomas. —; 5697. —. t\t[2.015863387327954e-08, 2.1059644694787494e-08, 1.1640515218402925e-08, 1.0]\n",
      "OUT\tIN\tNL-HaNA_1.04.02_1547_0087.jpg\t4. packen med gebleekte gerras. —; 14. d=os mallem\t[2.056340342448948e-08, 2.1373381287048687e-08, 1.1786381648448696e-08, 1.0]\n",
      "OUT\tIN\tNL-HaNA_1.04.02_1547_0088.jpg\t2210. lb Ceijlonse caneel; 6826:- Jappanse Camphur\t[2.0181216697778837e-08, 2.0968739633531186e-08, 1.1514734055140252e-08, 1.0]\n",
      "OUT\tIN\tNL-HaNA_1.04.02_1547_0089.jpg\tin heede van den overleeden capitain hend:k; Reijn\t[2.067651472259513e-08, 2.136359888993411e-08, 1.1708050529080083e-08, 1.0]\n",
      "OUT\tIN\tNL-HaNA_1.04.02_1547_0090.jpg\t„jmploijeert was, tot de weeder reijse na batavia;\t[2.07933013030015e-08, 2.1404959582582705e-08, 1.1693276569246791e-08, 1.0]\n",
      "OUT\tIN\tNL-HaNA_1.04.02_1547_0091.jpg\tbehaagen scheppen, en gelieven te oordeelen; na de\t[2.092726525404487e-08, 2.1446274089953477e-08, 1.1672953270647213e-08, 1.0]\n",
      "OUT\tIN\tNL-HaNA_1.04.02_1547_0092.jpg\tDe generaale monsteringe van alle 's con; Europ: e\t[2.1171649322582198e-08, 2.1547959860868104e-08, 1.1673443545134887e-08, 1.0]\n",
      "OUT\tIN\tNL-HaNA_1.04.02_1547_0093.jpg\tnademaal haar hoog Ed=le agtb: totbatavia; ons heb\t[2.1509032777089487e-08, 2.1633946190036113e-08, 1.1626558382715757e-08, 1.0]\n",
      "OUT\tIN\tNL-HaNA_1.04.02_1547_0094.jpg\tbesorginge derselve sijn g'abuseert ende missei„; \t[2.4689784439146933e-08, 2.3908988566745393e-08, 1.2644676417039591e-08, 1.0]\n",
      "OUT\tIN\tNL-HaNA_1.04.02_1547_0095.jpg\tblijven, gedencken den Inkoop derselve, als; voorh\t[4.4792940911975165e-08, 3.781070034847289e-08, 1.8886240127358178e-08, 0.9999998807907104]\n",
      "OUT\tEND\tNL-HaNA_1.04.02_1547_0096.jpg\tgunstig welneemen:) abrievieerende, en besluijte; \t[7.650928637303878e-07, 4.0146781543626275e-07, 1.5949196097153617e-07, 0.9999986886978149]\n"
     ]
    },
    {
     "name": "stderr",
     "output_type": "stream",
     "text": [
      "Evaluating:  28%|██▊       | 16/57 [00:05<00:19,  2.08batch/s]"
     ]
    },
    {
     "name": "stdout",
     "output_type": "stream",
     "text": [
      "OUT\tBEGIN\tNL-HaNA_1.04.02_1557_0932.jpg\tVan Sumatras W=t Cust onder dato 25:en Januarij A=\t[5.3369245023304757e-08, 1.0617245038702094e-07, 1.2106787039556366e-07, 0.9999997615814209]\n",
      "OUT\tIN\tNL-HaNA_1.04.02_1557_0933.jpg\tVan Sumatras W=t Cust onder dato 25:en Januarij A=\t[1.0938861372267183e-08, 1.6150224269040336e-08, 1.2270166216410416e-08, 1.0]\n",
      "OUT\tIN\tNL-HaNA_1.04.02_1557_0934.jpg\tVan Sumatras W„t Cust onder dato 25:e' Januarij a:\t[8.99185170766259e-09, 1.1837455460295132e-08, 7.956817427157148e-09, 1.0]\n",
      "OUT\tIN\tNL-HaNA_1.04.02_1557_0935.jpg\tVan Sumatras W=t Cust onder dato 25:en Januarij A=\t[8.840262744058691e-09, 1.1223842300012166e-08, 6.890203074760848e-09, 1.0]\n",
      "OUT\tIN\tNL-HaNA_1.04.02_1557_0936.jpg\tVan Sumatras W:t Cust onder dato 25:e Januarij ao \t[8.521323202614894e-09, 1.070474020536949e-08, 7.0709083033193565e-09, 1.0]\n",
      "OUT\tIN\tNL-HaNA_1.04.02_1557_0937.jpg\tVan Sumatras W„t Cust onder dato 25:en Januarij A:\t[8.591874767205354e-09, 1.0816741280450515e-08, 6.92244972455569e-09, 1.0]\n",
      "OUT\tIN\tNL-HaNA_1.04.02_1557_0938.jpg\tVan Sumatras W=t Cust onder dato 25„en Januarij A:\t[9.920965382548275e-09, 1.1154334345064854e-08, 6.157013121566024e-09, 1.0]\n",
      "OUT\tIN\tNL-HaNA_1.04.02_1557_0939.jpg\tVan Sumatras W=t Cust onder dato 25:en Januarij Ao\t[1.3191589154359917e-08, 1.4038891826828603e-08, 8.022665198836876e-09, 1.0]\n",
      "OUT\tEND\tNL-HaNA_1.04.02_1557_0940.jpg\tVan Sumatras W„t Cust onder dato 25:e Januarij Ann\t[1.0621113233355572e-07, 8.270643547803047e-08, 3.535170378654584e-08, 0.9999997615814209]\n"
     ]
    },
    {
     "name": "stderr",
     "output_type": "stream",
     "text": [
      "Evaluating:  30%|██▉       | 17/57 [00:05<00:19,  2.10batch/s]"
     ]
    },
    {
     "name": "stdout",
     "output_type": "stream",
     "text": [
      "OUT\tOUT\tNL-HaNA_1.04.02_1547_0001.jpg\t\t[6.131794094699217e-08, 1.40244807766976e-07, 2.113852417551243e-07, 0.9999996423721313]\n",
      "OUT\tOUT\tNL-HaNA_1.04.02_1547_0002.jpg\t\t[1.0598123267868687e-08, 1.9701575482145017e-08, 2.3528260228999898e-08, 1.0]\n",
      "OUT\tOUT\tNL-HaNA_1.04.02_1547_0003.jpg\t\t[8.02857424986314e-09, 1.2415252825803691e-08, 1.2867561238749659e-08, 1.0]\n",
      "OUT\tOUT\tNL-HaNA_1.04.02_1547_0004.jpg\t\t[8.50244052941207e-09, 1.2422287198887716e-08, 1.0359471502852102e-08, 1.0]\n",
      "OUT\tOUT\tNL-HaNA_1.04.02_1547_0005.jpg\tMallabaers; briefboeck\t[8.296900055881906e-09, 1.0962337704256697e-08, 8.802372164495864e-09, 1.0]\n",
      "OUT\tOUT\tNL-HaNA_1.04.02_1547_0006.jpg\t\t[8.283491226279693e-09, 1.2030819895869627e-08, 9.25610876834071e-09, 1.0]\n",
      "OUT\tOUT\tNL-HaNA_1.04.02_1547_0007.jpg\t\t[8.466401801854317e-09, 1.1551779088847525e-08, 8.693750608301798e-09, 1.0]\n",
      "OUT\tOUT\tNL-HaNA_1.04.02_1547_0008.jpg\t\t[8.550856911426763e-09, 1.1344867267837344e-08, 8.811443130696262e-09, 1.0]\n",
      "OUT\tOUT\tNL-HaNA_1.04.02_1547_0009.jpg\t\t[8.550188113076729e-09, 1.1098203245296645e-08, 7.929516598892405e-09, 1.0]\n",
      "OUT\tOUT\tNL-HaNA_1.04.02_1547_0010.jpg\t\t[9.370755726934021e-09, 1.1734297089560641e-08, 8.912826920948191e-09, 1.0]\n",
      "OUT\tOUT\tNL-HaNA_1.04.02_1547_0011.jpg\tRegister der brieven; orgineel register; 4 a 38 ve\t[9.114344834415533e-09, 1.0330427180349488e-08, 6.9116179446382375e-09, 1.0]\n",
      "OUT\tOUT\tNL-HaNA_1.04.02_1547_0012.jpg\tResident, den Coninck kelorma den prince van; sign\t[9.241096776690938e-09, 1.096798474264915e-08, 6.826302190177103e-09, 1.0]\n",
      "OUT\tOUT\tNL-HaNA_1.04.02_1547_0013.jpg\twegens het overrompelen van 's Comp:s Logie tot; w\t[9.273956713684584e-09, 1.0867198696473679e-08, 6.183150880190169e-09, 1.0]\n",
      "OUT\tOUT\tNL-HaNA_1.04.02_1547_0014.jpg\t309 a 311- Dito vant geene sedert voorn. tydt van \t[9.489284025221423e-09, 1.0871676892065807e-08, 6.141226638334274e-09, 1.0]\n",
      "OUT\tBEGIN\tNL-HaNA_1.04.02_1547_0015.jpg\tRegister der Papieren die op; heeden door den Ehee\t[9.896773178752483e-09, 1.1172283542748573e-08, 6.040574707100177e-09, 1.0]\n",
      "OUT\tIN\tNL-HaNA_1.04.02_1547_0016.jpg\tƒ; Copia gewisselde brieven tusschen 's Comp=s koo\t[1.0134889372181988e-08, 1.0340223788318781e-08, 5.675417469319655e-09, 1.0]\n",
      "OUT\tIN\tNL-HaNA_1.04.02_1547_0017.jpg\tCopia rappont gedaan door den onderkoopman; en rag\t[1.047505016060768e-08, 1.0902742708651658e-08, 5.665132363219527e-09, 1.0]\n",
      "OUT\tIN\tNL-HaNA_1.04.02_1547_0018.jpg\tN=o 14. Copia resolutie getrokken in 't schip goud\t[1.3820184996404805e-08, 1.3393526288041357e-08, 7.534527668440205e-09, 1.0]\n",
      "OUT\tEND\tNL-HaNA_1.04.02_1547_0019.jpg\tdese nevenstaende 10 ste; reeckeningen syn; aen mo\t[1.070645794243319e-07, 7.915117805623595e-08, 3.455894415083094e-08, 0.9999997615814209]\n"
     ]
    },
    {
     "name": "stderr",
     "output_type": "stream",
     "text": [
      "Evaluating:  32%|███▏      | 18/57 [00:06<00:20,  1.91batch/s]"
     ]
    },
    {
     "name": "stdout",
     "output_type": "stream",
     "text": [
      "OUT\tBEGIN\tNL-HaNA_1.04.02_1557_0026.jpg\tVan Palembang Den 28=en Februarij A:o 1694; ontfan\t[5.3513169007146644e-08, 1.0718000709175612e-07, 1.3172608248623874e-07, 0.9999996423721313]\n",
      "OUT\tIN\tNL-HaNA_1.04.02_1557_0027.jpg\tVan Palembang Den 20=en Februarij A:o 1694.; laast\t[1.055883824818693e-08, 1.552349182531998e-08, 1.1617779627215441e-08, 1.0]\n",
      "OUT\tIN\tNL-HaNA_1.04.02_1557_0028.jpg\tVan Palembang Den 20.:' Februarij A:o 1694.; waar \t[9.158328317937503e-09, 1.3261090892058292e-08, 8.60527382684495e-09, 1.0]\n",
      "OUT\tIN\tNL-HaNA_1.04.02_1557_0029.jpg\tVan Palembang Den 20=en februarij A:o 1694; zijn h\t[8.4823881252305e-09, 1.098534063714851e-08, 7.537631852017057e-09, 1.0]\n",
      "OUT\tIN\tNL-HaNA_1.04.02_1557_0030.jpg\tVan Palembang Den 20„en Februarij A:o 1694.; veree\t[9.049178295583715e-09, 1.0997919908106724e-08, 6.678519515190828e-09, 1.0]\n",
      "OUT\tIN\tNL-HaNA_1.04.02_1557_0031.jpg\tVan Palembang Den 20=en Februarij A=o 1694; wat ge\t[8.8593701264017e-09, 1.102431923527547e-08, 6.407912422901063e-09, 1.0]\n",
      "OUT\tIN\tNL-HaNA_1.04.02_1557_0032.jpg\tVan Palembang Den 20=en Februarij A:o 1694.; met 6\t[9.105256992825161e-09, 1.1155377066529581e-08, 6.256226647849417e-09, 1.0]\n",
      "OUT\tIN\tNL-HaNA_1.04.02_1557_0033.jpg\tVan Palembang Den 20:en Februarij A=o 1694; de slo\t[9.526024413730738e-09, 1.0948483897266215e-08, 5.95366600464331e-09, 1.0]\n",
      "OUT\tIN\tNL-HaNA_1.04.02_1557_0034.jpg\tVan Palembang Den 20:en Februarij A=o 1694.; gem=t\t[9.54275503062263e-09, 1.055795184612407e-08, 6.121485984778019e-09, 1.0]\n",
      "OUT\tIN\tNL-HaNA_1.04.02_1557_0035.jpg\tVan Palembang Den 20=en Februarij A:o 1694.; niet \t[9.679138379681262e-09, 1.090045564922093e-08, 5.877797804032525e-09, 1.0]\n",
      "OUT\tIN\tNL-HaNA_1.04.02_1557_0036.jpg\tVan Palembang Den 20:en Februarij A:o 1694.; nader\t[9.231125197572965e-09, 1.0999786859144933e-08, 6.569588428817497e-09, 1.0]\n",
      "OUT\tIN\tNL-HaNA_1.04.02_1557_0037.jpg\tVan Palembang Den 20=en Februarij A=o 1694.; heeft\t[1.4444503371180417e-08, 1.4002549342251314e-08, 7.236339971683492e-09, 1.0]\n",
      "OUT\tEND\tNL-HaNA_1.04.02_1557_0038.jpg\tVan Palembang Den 20=e Februarij A=o 1694; en seer\t[1.0626443014416509e-07, 7.987123495922788e-08, 3.53439517652987e-08, 0.9999997615814209]\n",
      "OUT\tBEGIN\tNL-HaNA_1.04.02_1066_0065.jpg\tNo. 1— Originelen missive door d' H=r Presidt Cocn\t[5.941636231909797e-07, 7.494903684346355e-07, 5.46252181266027e-07, 0.9999980926513672]\n"
     ]
    },
    {
     "name": "stderr",
     "output_type": "stream",
     "text": [
      "Evaluating:  35%|███▌      | 20/57 [00:07<00:18,  1.96batch/s]"
     ]
    },
    {
     "name": "stdout",
     "output_type": "stream",
     "text": [
      "OUT\tOUT\tNL-HaNA_1.04.02_1547_0236.jpg\t\t[6.531183061042611e-08, 1.6842879801970412e-07, 2.561523047006631e-07, 0.9999995231628418]\n",
      "OUT\tBEGIN\tNL-HaNA_1.04.02_1547_0237.jpg\taan d'E: Heer Alexander; Wigmans Coopman en P„r; g\t[1.0194895594395348e-08, 1.8077631835922148e-08, 1.8088531561488708e-08, 1.0]\n",
      "OUT\tIN\tNL-HaNA_1.04.02_1547_0238.jpg\teenige misnoegentheijt, in die natie ligt aan„; „w\t[8.441215726406881e-09, 1.3032010137692396e-08, 9.30711152591357e-09, 1.0]\n",
      "OUT\tIN\tNL-HaNA_1.04.02_1547_0239.jpg\teen vast voorneemen, 'tsij het leven aldaar te; ve\t[8.820085994898363e-09, 1.2632598966888509e-08, 7.766140619480666e-09, 1.0]\n",
      "OUT\tIN\tNL-HaNA_1.04.02_1547_0240.jpg\t„gemelte schrijvens tomtwaaren, ook hoe uEE:; goet\t[8.95495055885931e-09, 1.0796252780664872e-08, 6.726009971202984e-09, 1.0]\n",
      "OUT\tIN\tNL-HaNA_1.04.02_1547_0241.jpg\tHeest in alle mijne brieven heb ik voor uEE:; mijn\t[9.778058362996944e-09, 1.0886076928784405e-08, 6.048598955032958e-09, 1.0]\n",
      "OUT\tIN\tNL-HaNA_1.04.02_1547_0242.jpg\tzout en sandel, onder behoorlijk verbant schrift; \t[1.0095646985064377e-08, 1.1044144265781597e-08, 5.917822232248682e-09, 1.0]\n",
      "OUT\tIN\tNL-HaNA_1.04.02_1547_0243.jpg\tVE: bekent gemaakt, dat Eergister van; Calicoet al\t[9.541426315706758e-09, 1.0890522261775004e-08, 5.958209925438496e-09, 1.0]\n",
      "OUT\tIN\tNL-HaNA_1.04.02_1547_0244.jpg\tmijs goet gedagt heeft hier ter neder te; stellen,\t[9.696433878048083e-09, 1.0919932513786534e-08, 5.888008747234608e-09, 1.0]\n",
      "OUT\tIN\tNL-HaNA_1.04.02_1547_0245.jpg\ten't belangh der generaale Comp:e, omtr. t; den st\t[8.689522879024025e-09, 1.0562584584761225e-08, 6.513131811658468e-09, 1.0]\n",
      "OUT\tIN\tNL-HaNA_1.04.02_1547_0246.jpg\twat belangt het aanslaan van 'tsandelhout; uijt uE\t[8.712309096381432e-09, 1.095163781883457e-08, 6.444302869113017e-09, 1.0]\n",
      "OUT\tIN\tNL-HaNA_1.04.02_1547_0247.jpg\tuE: E: agtb: hoog g'Extimeerde, en overaange„; „na\t[9.364788056132056e-09, 1.0980020448414507e-08, 5.99258376254852e-09, 1.0]\n",
      "OUT\tIN\tNL-HaNA_1.04.02_1547_0248.jpg\tbetuijgen, Indien uw EE: agtb: ondersoght; en over\t[9.953015300823154e-09, 1.1363014529308657e-08, 6.2005947043530796e-09, 1.0]\n",
      "OUT\tIN\tNL-HaNA_1.04.02_1547_0249.jpg\tCochim hadden mij gesz:, en mijn overkomst; aldaar\t[9.23975651545561e-09, 1.1098478580606752e-08, 6.146581910115856e-09, 1.0]\n",
      "OUT\tIN\tNL-HaNA_1.04.02_1547_0250.jpg\tverguningen, in't bijweesen van d'aff gesanten,; a\t[9.48736644801329e-09, 1.0803730354780328e-08, 5.795153690257848e-09, 1.0]\n",
      "OUT\tIN\tNL-HaNA_1.04.02_1547_0251.jpg\tvoorsz:, en seer genereuse; Heer; manhafte, Welwij\t[9.719171245592406e-09, 1.0996556554232484e-08, 5.873079800267078e-09, 1.0]\n",
      "OUT\tIN\tNL-HaNA_1.04.02_1547_0252.jpg\tdie mij In't portugees geschrift een vol; brogt, d\t[9.143788837207012e-09, 1.0126039562408096e-08, 6.077034875318077e-09, 1.0]\n",
      "OUT\tIN\tNL-HaNA_1.04.02_1547_0253.jpg\tvan d' Ed=le H„r Directeur; en Raad tot Zouratta z\t[9.558822178235005e-09, 1.082262190976735e-08, 6.135232322179718e-09, 1.0]\n",
      "OUT\tIN\tNL-HaNA_1.04.02_1547_0254.jpg\ttwoorenstaande formelier, gisteren voor de; middag\t[9.654763211131012e-09, 1.0693944396678035e-08, 5.8399147739862656e-09, 1.0]\n",
      "OUT\tIN\tNL-HaNA_1.04.02_1547_0255.jpg\tNo/a, ook wel 140. maar tegens 135. gereek. t,; â \t[9.50732825799605e-09, 1.0862183152937632e-08, 6.1416129959468435e-09, 1.0]\n",
      "OUT\tIN\tNL-HaNA_1.04.02_1547_0256.jpg\tmeugt hoedanigh ick volgens mijn schuldige; pligt;\t[9.360252128942648e-09, 1.0933228544729445e-08, 5.848565187704935e-09, 1.0]\n",
      "OUT\tIN\tNL-HaNA_1.04.02_1547_0257.jpg\tuE: twee aangenaame brieven gedat. t; 22. en en 25\t[9.083903407258731e-09, 1.0181758547389563e-08, 6.140055575087899e-09, 1.0]\n",
      "OUT\tIN\tNL-HaNA_1.04.02_1547_0258.jpg\tvorsten mondelijk raatspleeginge gehouden; hebbend\t[9.3298266889974e-09, 1.1171900737849683e-08, 6.405236341322507e-09, 1.0]\n",
      "OUT\tIN\tNL-HaNA_1.04.02_1547_0259.jpg\twoord, dat uE: alhier zijnde geen de minste; weder\t[9.508561937821014e-09, 1.0846408216025338e-08, 5.983663786679472e-09, 1.0]\n",
      "OUT\tIN\tNL-HaNA_1.04.02_1547_0260.jpg\tder Coopmansz: in Zouratta als het aff„; wijsen va\t[9.760319663598693e-09, 1.0947168505026639e-08, 5.723292062498331e-09, 1.0]\n",
      "OUT\tIN\tNL-HaNA_1.04.02_1547_0261.jpg\tsier avont sond mij den ko: van Sammorijn; uw. E: \t[9.644603338188062e-09, 1.121817128080238e-08, 6.059719392936813e-09, 1.0]\n",
      "OUT\tIN\tNL-HaNA_1.04.02_1547_0262.jpg\tP: S: alles wat ik volgens mijn geringe ver„; „sta\t[9.479316886995548e-09, 1.0933375094168696e-08, 5.691656923545452e-09, 1.0]\n",
      "OUT\tIN\tNL-HaNA_1.04.02_1547_0263.jpg\tden Jnhoude derzelve, en ons gedaan versoek; verde\t[9.565716219128717e-09, 1.108882941025513e-08, 5.9180482736564954e-09, 1.0]\n",
      "OUT\tIN\tNL-HaNA_1.04.02_1547_0264.jpg\tE: Agtb: Gebiedende Heer; mijn heeft niet omstandi\t[9.559552260895998e-09, 1.0884250833953502e-08, 5.662809776652011e-09, 1.0]\n",
      "OUT\tIN\tNL-HaNA_1.04.02_1547_0265.jpg\tgebeurde dat op uw EE: agtb: begeerte sigh; op rij\t[9.368129383346968e-09, 1.0313653042715032e-08, 6.0063611861949084e-09, 1.0]\n",
      "OUT\tIN\tNL-HaNA_1.04.02_1547_0266.jpg\tCochim; aan d' E: E: Heer adriaan; r; van ommen Co\t[9.63954516208787e-09, 1.0717549514538405e-08, 5.655717671970706e-09, 1.0]\n",
      "OUT\tIN\tNL-HaNA_1.04.02_1547_0267.jpg\twaarop ick mij ook verlaaten, niet twijffelende; o\t[9.452775451279649e-09, 1.1190881110678674e-08, 5.814829062700255e-09, 1.0]\n",
      "OUT\tIN\tNL-HaNA_1.04.02_1547_0268.jpg\tbetreft den Coningh van Sammorijn soo wel; als d' \t[9.809253853632072e-09, 1.0616998835644154e-08, 5.522269752589182e-09, 1.0]\n",
      "OUT\tIN\tNL-HaNA_1.04.02_1547_0269.jpg\tverwerpt, soo kan hij ons in den handel aldaar; so\t[9.801810918474985e-09, 1.017480855125541e-08, 5.713061135281805e-09, 1.0]\n",
      "OUT\tIN\tNL-HaNA_1.04.02_1547_0270.jpg\t'twelk doende een groote affschrick in de; herten \t[1.020857443023715e-08, 1.12421618680969e-08, 5.817680115427493e-09, 1.0]\n",
      "OUT\tIN\tNL-HaNA_1.04.02_1547_0271.jpg\tden markt vermeestert, en konnen ook op dien; voer\t[1.4153076044465251e-08, 1.47354084489848e-08, 7.4384569614949214e-09, 1.0]\n",
      "OUT\tEND\tNL-HaNA_1.04.02_1547_0272.jpg\tbehulpsaamh. t te bewijsen, op dat dien Corl in; g\t[1.0505906544722166e-07, 7.742182361880623e-08, 3.542744053675051e-08, 0.9999997615814209]\n",
      "OUT\tBEGIN\tNL-HaNA_1.04.02_1557_1305.jpg\tVan Sumatras W„t Cust onder dato 30:en December a \t[5.6883372678839805e-08, 9.81541461442248e-08, 9.339068895997116e-08, 0.9999997615814209]\n",
      "OUT\tIN\tNL-HaNA_1.04.02_1557_1306.jpg\tVan Sumatras W=t Cust onder dato 30:en xber A=o 16\t[1.7461790235984154e-08, 2.018837719219846e-08, 1.1977014935382613e-08, 1.0]\n",
      "OUT\tEND\tNL-HaNA_1.04.02_1557_1307.jpg\tVan Sumatras W:tCust onder dato 30:en Xber A:o 169\t[1.0964974705984787e-07, 8.332331447036267e-08, 3.726583841512365e-08, 0.9999997615814209]\n"
     ]
    },
    {
     "name": "stderr",
     "output_type": "stream",
     "text": [
      "Evaluating:  39%|███▊      | 22/57 [00:07<00:14,  2.38batch/s]"
     ]
    },
    {
     "name": "stdout",
     "output_type": "stream",
     "text": [
      "OUT\tBEGIN\tNL-HaNA_1.04.02_1557_0282.jpg\tVan Palembang onder dato 21=en October A=o 1694.; \t[5.3359471507974376e-08, 1.0936629735169845e-07, 1.332127652631243e-07, 0.9999996423721313]\n",
      "OUT\tIN\tNL-HaNA_1.04.02_1557_0283.jpg\tVan Palembang onder dato 21=en October A=o 1694.; \t[1.073139710427995e-08, 1.576289854199331e-08, 1.1684938350242646e-08, 1.0]\n",
      "OUT\tIN\tNL-HaNA_1.04.02_1557_0284.jpg\tVan Palembang onder dato 21:e October A=o 1694.; o\t[8.585110400360918e-09, 1.1340994809927452e-08, 7.788035105704694e-09, 1.0]\n",
      "OUT\tIN\tNL-HaNA_1.04.02_1557_0285.jpg\tVan Palembang onder dato 21=en October A:o 1694.; \t[8.99143870469743e-09, 1.112342218334561e-08, 6.343135350306284e-09, 1.0]\n",
      "OUT\tIN\tNL-HaNA_1.04.02_1557_0286.jpg\tVan Palembang onder dato 21=en october A:o 1694.; \t[9.197504979852056e-09, 1.017092809973974e-08, 6.264740726180662e-09, 1.0]\n",
      "OUT\tIN\tNL-HaNA_1.04.02_1557_0287.jpg\tVan Palembang onder dato 24=en October A:o 1694.; \t[1.0029776120745737e-08, 1.0640252234850323e-08, 6.024041709906669e-09, 1.0]\n",
      "OUT\tIN\tNL-HaNA_1.04.02_1557_0288.jpg\tVan Palembang onder dato 21:e' october A=o 1694.; \t[1.2715685393516196e-08, 1.4299438966247635e-08, 8.233873138863146e-09, 1.0]\n",
      "OUT\tEND\tNL-HaNA_1.04.02_1557_0289.jpg\tVan Palembang onder dato 21=en October a:o 694; ul\t[1.0458622057285538e-07, 8.193455869331956e-08, 3.5451236612971115e-08, 0.9999997615814209]\n"
     ]
    },
    {
     "name": "stderr",
     "output_type": "stream",
     "text": [
      "Evaluating:  44%|████▍     | 25/57 [00:08<00:09,  3.20batch/s]"
     ]
    },
    {
     "name": "stdout",
     "output_type": "stream",
     "text": [
      "OUT\tBEGIN\tNL-HaNA_1.04.02_3973_0739.jpg\tMonster Retle; Van den; Vier Compagnien; des; Regi\t[5.8705168726191914e-08, 1.192683214412682e-07, 1.1620331719086607e-07, 0.9999997615814209]\n",
      "OUT\tIN\tNL-HaNA_1.04.02_3973_0740.jpg\t\t[1.1527281351675356e-08, 1.5916253204295572e-08, 1.2114313996391957e-08, 1.0]\n",
      "OUT\tIN\tNL-HaNA_1.04.02_3973_0741.jpg\tƒ2873; DVos. und Kleiner Staad; Geburts observa; V\t[9.246774013149661e-09, 1.1129384525077057e-08, 6.762916893165993e-09, 1.0]\n",
      "OUT\tIN\tNL-HaNA_1.04.02_3973_0742.jpg\t\t[9.562432623511086e-09, 1.1103644226295728e-08, 6.016852793777616e-09, 1.0]\n",
      "OUT\tIN\tNL-HaNA_1.04.02_3973_0743.jpg\t16 Buxenmacker; 14 Corporaals; Ludwigsburg; Lorrac\t[9.21067133674569e-09, 1.1215496975580663e-08, 6.686880826833885e-09, 1.0]\n",
      "OUT\tIN\tNL-HaNA_1.04.02_3973_0744.jpg\tFriederich Maase; George Monold; „  Christoph Mart\t[8.79983730328604e-09, 1.0453195642412538e-08, 6.170756350343254e-09, 1.0]\n",
      "OUT\tIN\tNL-HaNA_1.04.02_3973_0745.jpg\tFriederich Wilh: Armsdorf; Joh: Leonh: Bamberger; \t[9.68859570349423e-09, 1.0640109238124751e-08, 5.527612589872888e-09, 1.0]\n",
      "OUT\tIN\tNL-HaNA_1.04.02_3973_0746.jpg\tJohann Pallmans; Aloijsius Trugel; Johannes Ruder;\t[9.699911984739629e-09, 1.113008618602862e-08, 5.668515878909375e-09, 1.0]\n",
      "OUT\tIN\tNL-HaNA_1.04.02_3973_0747.jpg\t2876; Vor„ and; Geburts; observa„; Porte tiones; L\t[9.141033707749102e-09, 1.0302661834771243e-08, 6.029731380863268e-09, 1.0]\n",
      "OUT\tIN\tNL-HaNA_1.04.02_3973_0748.jpg\tSourier; 12 Chirurgien; 1. Capitian Chef Alexander\t[9.834394631980103e-09, 1.0557871910066297e-08, 5.500845112749175e-09, 1.0]\n",
      "OUT\tIN\tNL-HaNA_1.04.02_3973_0749.jpg\torte tiones; Beauvais; Grenadier Baptist Britteuxe\t[9.861047978176884e-09, 9.975612336177164e-09, 5.67791857974953e-09, 1.0]\n",
      "OUT\tIN\tNL-HaNA_1.04.02_3973_0750.jpg\turban Rittelberger; Daniel Krieger; Abraham Loff; \t[9.588952742944912e-09, 9.788695187751273e-09, 5.673674863260203e-09, 1.0]\n",
      "OUT\tIN\tNL-HaNA_1.04.02_3973_0751.jpg\tobserva; Geburts,; For„; und; tiones; Corte; 24„; \t[9.736631056966871e-09, 1.0294745500516456e-08, 5.694784199761216e-09, 1.0]\n",
      "OUT\tIN\tNL-HaNA_1.04.02_3973_0752.jpg\tGeburts observate; Lu„ Namen; orte; „ones; 10 Four\t[1.0292880325835085e-08, 1.0102369607523087e-08, 5.159116245323503e-09, 1.0]\n",
      "OUT\tIN\tNL-HaNA_1.04.02_3973_0753.jpg\t40 Fusiliers Heinrich Baquet; George Belzer; „ Ale\t[9.651633270379989e-09, 1.0204291633897355e-08, 5.730544927473602e-09, 1.0]\n",
      "OUT\tIN\tNL-HaNA_1.04.02_3973_0754.jpg\tRosenfeld; 80 Jufilier Michael Iaeger; Christian O\t[1.0236514746964076e-08, 1.0365717173499434e-08, 5.331663111007856e-09, 1.0]\n",
      "OUT\tIN\tNL-HaNA_1.04.02_3973_0755.jpg\t2880; Geburts observa; tiones; 128. Iusiliers Andr\t[9.987720872572936e-09, 9.673657430653293e-09, 5.41615152727104e-09, 1.0]\n",
      "OUT\tIN\tNL-HaNA_1.04.02_3973_0756.jpg\t5 Crem: Segg„; Sec: Irg„t; 23 Spielleute; 22. Zime\t[1.0446697729094012e-08, 1.0129091343458185e-08, 5.223047327973518e-09, 1.0]\n",
      "OUT\tIN\tNL-HaNA_1.04.02_3973_0757.jpg\tIaegers Johanes Bluum; en ortende den  n ee  ateoe\t[1.0350583501406163e-08, 1.0268859540474295e-08, 5.9374154481872665e-09, 1.0]\n",
      "OUT\tIN\tNL-HaNA_1.04.02_3973_0758.jpg\tGeburts observa„; tiones; Jacob Hauk; G; Melchia A\t[1.3931500397745822e-08, 1.314830821996793e-08, 7.438484939115142e-09, 1.0]\n",
      "OUT\tEND\tNL-HaNA_1.04.02_3973_0759.jpg\tobserva„; Geburts; orte; tiones; enn I chn do; Joh\t[1.0739692868355633e-07, 7.850167094147764e-08, 3.4419482375369626e-08, 0.9999997615814209]\n",
      "OUT\tBEGIN\tNL-HaNA_1.04.02_2615_0147.jpg\tLijste van alle sodanige 's E: Comp:s; dienaren al\t[5.515628842545084e-08, 1.0187744692302658e-07, 9.888700702731512e-08, 0.9999997615814209]\n",
      "OUT\tIN\tNL-HaNA_1.04.02_2615_0148.jpg\tmet wat schip in Jndia gekomen; geboorte pl=s indi\t[1.1949222944451776e-08, 1.6343371100902004e-08, 1.0803297811889934e-08, 1.0]\n",
      "OUT\tIN\tNL-HaNA_1.04.02_2615_0149.jpg\tmet wat schip in Jndien gekomen; geboorte plaets w\t[1.4649767621222054e-08, 1.5245090523308136e-08, 7.801147283714727e-09, 1.0]\n",
      "OUT\tEND\tNL-HaNA_1.04.02_2615_0150.jpg\tmet wat schipis Jndia gekomen; geboorte p=s wannee\t[1.0620525614513099e-07, 7.813031999148734e-08, 3.540764836884591e-08, 0.9999997615814209]\n",
      "OUT\tBEGIN\tNL-HaNA_1.04.02_1557_0293.jpg\tVan Palembang Den 21=en October A=o 1694.; wederom\t[5.51240013635379e-08, 1.01448527800585e-07, 9.813579993078747e-08, 0.9999997615814209]\n",
      "OUT\tIN\tNL-HaNA_1.04.02_1557_0294.jpg\tVan Palembang onder dato 21=en october Anno 1694. \t[1.1951410527899498e-08, 1.6297734717340973e-08, 1.077582378883335e-08, 1.0]\n",
      "OUT\tIN\tNL-HaNA_1.04.02_1557_0295.jpg\tVan Palembang onder dato 2:' october A=o 1694:; Ja\t[1.4660194835869333e-08, 1.5234364880711837e-08, 7.790827538656231e-09, 1.0]\n",
      "OUT\tEND\tNL-HaNA_1.04.02_1557_0296.jpg\tVan Palembang onder dato 24:en October A=o 1694:; \t[1.060807548469711e-07, 7.803917867477139e-08, 3.5451979130129985e-08, 0.9999997615814209]\n"
     ]
    },
    {
     "name": "stderr",
     "output_type": "stream",
     "text": [
      "Evaluating:  46%|████▌     | 26/57 [00:09<00:10,  3.00batch/s]"
     ]
    },
    {
     "name": "stdout",
     "output_type": "stream",
     "text": [
      "OUT\tBEGIN\tNL-HaNA_1.04.02_1557_0236.jpg\tSeptember A:o 1694.; Van Palembang den 18=en; Bata\t[5.31793311608908e-08, 1.0517956638977921e-07, 1.196341088416375e-07, 0.9999997615814209]\n",
      "OUT\tIN\tNL-HaNA_1.04.02_1557_0237.jpg\tVan Palembang den 18=en Septemb:r 1694.; wederom n\t[1.0954102513949238e-08, 1.6151178172663094e-08, 1.2280139571885229e-08, 1.0]\n",
      "OUT\tIN\tNL-HaNA_1.04.02_1557_0238.jpg\tVan Palembang den 18=en; SSeptember Ao 1694; 16:en\t[9.006355661256293e-09, 1.187039799788181e-08, 8.063118173140538e-09, 1.0]\n",
      "OUT\tIN\tNL-HaNA_1.04.02_1557_0239.jpg\tVan Palembang Den 18=en September A:o 1694; van ma\t[8.85202222633552e-09, 1.1181152004269279e-08, 6.876155644874871e-09, 1.0]\n",
      "OUT\tIN\tNL-HaNA_1.04.02_1557_0240.jpg\tVan Palembang Den 18=en September A:o 1694; hij va\t[8.557416109056248e-09, 1.0633333324960859e-08, 6.970717780774294e-09, 1.0]\n",
      "OUT\tIN\tNL-HaNA_1.04.02_1557_0241.jpg\tVan Palembang den 18=en September A:o 1694.; de gi\t[8.589123190461123e-09, 1.077905142921054e-08, 6.843549726909259e-09, 1.0]\n",
      "OUT\tIN\tNL-HaNA_1.04.02_1557_0242.jpg\tVan Palembang den 18=en September A=o 1694.; hoe h\t[9.90634863029527e-09, 1.1018601142609441e-08, 6.140804753584916e-09, 1.0]\n",
      "OUT\tIN\tNL-HaNA_1.04.02_1557_0243.jpg\tVan Palembang den 18=en September A=o 1694.; van d\t[1.3248171448765333e-08, 1.400001270468465e-08, 7.979051197537501e-09, 1.0]\n",
      "OUT\tEND\tNL-HaNA_1.04.02_1557_0244.jpg\tVan Palembang Den 18=en; September A=o 1694.; P:r \t[1.0887076484777936e-07, 8.306387400125459e-08, 3.4560322603738314e-08, 0.9999997615814209]\n"
     ]
    },
    {
     "name": "stderr",
     "output_type": "stream",
     "text": [
      "Evaluating:  47%|████▋     | 27/57 [00:09<00:12,  2.37batch/s]"
     ]
    },
    {
     "name": "stdout",
     "output_type": "stream",
     "text": [
      "OUT\tBEGIN\tNL-HaNA_1.04.02_1557_1273.jpg\tVan Sumatras W=t Cust onder dato 4:e December A:o \t[5.433286887068789e-08, 1.0599317334936131e-07, 1.1253062837113248e-07, 0.9999997615814209]\n",
      "OUT\tIN\tNL-HaNA_1.04.02_1557_1274.jpg\tVan Sumatras W=t Cust onder dato 4=en Xber A:o 169\t[1.1541934519243569e-08, 1.4913286605633402e-08, 1.0993347565602107e-08, 1.0]\n",
      "OUT\tIN\tNL-HaNA_1.04.02_1557_1275.jpg\tVan Sumatras W=t Cust onder dato 4:e December A:o \t[9.92844206848531e-09, 1.0881426426578855e-08, 6.133617613812703e-09, 1.0]\n",
      "OUT\tIN\tNL-HaNA_1.04.02_1557_1276.jpg\tVan Sumatras W=t Cust onder dato 4:en xber A=o 169\t[9.2698186904272e-09, 1.0042314535496644e-08, 6.085780768216864e-09, 1.0]\n",
      "OUT\tIN\tNL-HaNA_1.04.02_1557_1277.jpg\tVan Sumatras W„t Cust onder dato 4=en xber A=o 169\t[9.691477842466156e-09, 1.0686971307904969e-08, 5.931348745491505e-09, 1.0]\n",
      "OUT\tIN\tNL-HaNA_1.04.02_1557_1278.jpg\tVan Sumatras Wt Cust, onder dato 4=en Decemb:r A=o\t[9.994218785891462e-09, 1.0538979466900855e-08, 5.525388591109959e-09, 1.0]\n",
      "OUT\tIN\tNL-HaNA_1.04.02_1557_1279.jpg\tVan Sumatras W=t Cust onder dato 4:en Decemb:r 169\t[9.266813094654935e-09, 1.0196217203883862e-08, 5.990823837009884e-09, 1.0]\n",
      "OUT\tIN\tNL-HaNA_1.04.02_1557_1280.jpg\tVan Sumatras W=t Cust onder dato 4=en xber A=o 169\t[1.0000282379962755e-08, 1.0477467782266103e-08, 5.474030562169219e-09, 1.0]\n",
      "OUT\tIN\tNL-HaNA_1.04.02_1557_1281.jpg\tVan Sumatras W=t Cust onder dato 4=en xber A=o 169\t[1.0438710340565649e-08, 1.0396308702809165e-08, 5.361645349921673e-09, 1.0]\n",
      "OUT\tIN\tNL-HaNA_1.04.02_1557_1282.jpg\tVan Sumatras W=t Cust onder dato 4=en xber A=o 169\t[1.0284442630847934e-08, 1.0239209480289446e-08, 5.253390167325733e-09, 1.0]\n",
      "OUT\tIN\tNL-HaNA_1.04.02_1557_1283.jpg\tVan Sumatras W=t Cust onder dato 4=en xber A=o 169\t[9.680264589917442e-09, 9.751629725940347e-09, 5.656753732097286e-09, 1.0]\n",
      "OUT\tIN\tNL-HaNA_1.04.02_1557_1284.jpg\tVan Sumatras W=t Cust onder dato 4=en Xber A:o 169\t[1.019654760625599e-08, 1.0175274844925752e-08, 5.314910289655472e-09, 1.0]\n",
      "OUT\tIN\tNL-HaNA_1.04.02_1557_1285.jpg\tVan Sumatras W=t Cust onder dato 4=en xber A:o 169\t[1.0633009139837668e-08, 1.0504981773351574e-08, 5.635796718195252e-09, 1.0]\n",
      "OUT\tIN\tNL-HaNA_1.04.02_1557_1286.jpg\tVan Sumatras W=t Cust onder dato 4=en Decemb:r A=o\t[1.4525785019259274e-08, 1.3902964113299277e-08, 7.260825274357785e-09, 1.0]\n",
      "OUT\tEND\tNL-HaNA_1.04.02_1557_1287.jpg\tVan Sumatras W=t Cust onder dato 4=en December A:o\t[1.0718124343611635e-07, 7.798099233014e-08, 3.4498420120598894e-08, 0.9999997615814209]\n",
      "OUT\tBEGIN\tNL-HaNA_1.04.02_1557_1384.jpg\tVan Bengale onder dato 18=en Januarij A:o 1690.; R\t[7.794441359010307e-08, 1.309724950715463e-07, 1.1601827054619207e-07, 0.9999996423721313]\n",
      "OUT\tEND\tNL-HaNA_1.04.02_1557_1385.jpg\tVan Bengale onder dato 18:en Januarij A„:o 1694.; \t[1.3451207792058995e-07, 1.117592987043281e-07, 5.392280044702602e-08, 0.9999996423721313]\n"
     ]
    },
    {
     "name": "stderr",
     "output_type": "stream",
     "text": [
      "Evaluating:  53%|█████▎    | 30/57 [00:10<00:07,  3.71batch/s]"
     ]
    },
    {
     "name": "stdout",
     "output_type": "stream",
     "text": [
      "OUT\tBEGIN\tNL-HaNA_1.04.02_3952_0232.jpg\tMoegle in Bengale; den 2e January 1793.; Hemels aa\t[5.321667018165499e-08, 1.0950949302923618e-07, 1.3492810069237748e-07, 0.9999996423721313]\n",
      "OUT\tIN\tNL-HaNA_1.04.02_3952_0233.jpg\tgeweezene Ffiscaal is opgelegd de vergoe¬; „ding v\t[1.0613496748135276e-08, 1.5740965864097234e-08, 1.194986065655712e-08, 1.0]\n",
      "OUT\tIN\tNL-HaNA_1.04.02_3952_0234.jpg\tdat het daar voor meerder, opgebragte ook; waarach\t[8.535685935839865e-09, 1.1342768502231593e-08, 7.873662610791143e-09, 1.0]\n",
      "OUT\tIN\tNL-HaNA_1.04.02_3952_0235.jpg\tMaatschappy als een waarborg voor; de hem opgelegd\t[8.976788201664476e-09, 1.1134714483773678e-08, 6.372651295549758e-09, 1.0]\n",
      "OUT\tIN\tNL-HaNA_1.04.02_3952_0236.jpg\tzwaar drukkende restitutie, zo wel als die; hem in\t[9.20670206738805e-09, 1.016716488777547e-08, 6.2679674783794326e-09, 1.0]\n",
      "OUT\tIN\tNL-HaNA_1.04.02_3952_0237.jpg\tzeer kostbaar is, en hem de middelen ont„; „breeke\t[1.0066900202332363e-08, 1.0624697566186114e-08, 6.010830944092049e-09, 1.0]\n",
      "OUT\tIN\tNL-HaNA_1.04.02_3952_0238.jpg\tSamuel Radermacher en; Somma van Sa. ro 3200 te st\t[1.2773393009979372e-08, 1.4260842284841146e-08, 8.194687595164396e-09, 1.0]\n",
      "OUT\tEND\tNL-HaNA_1.04.02_3952_0239.jpg\tExtract uit als vooren; op; Maandag den 26:e Novem\t[1.0489347346265276e-07, 8.173662990884623e-08, 3.5323463265513055e-08, 0.9999997615814209]\n",
      "OUT\tOUT\tNL-HaNA_1.04.02_1557_0383.jpg\t\t[6.44908695335289e-08, 1.5275858800123387e-07, 2.1473169908858836e-07, 0.9999996423721313]\n",
      "OUT\tOUT\tNL-HaNA_1.04.02_1557_0384.jpg\t\t[1.1726801751876792e-08, 2.0620351648403812e-08, 2.1880236289462118e-08, 1.0]\n",
      "OUT\tOUT\tNL-HaNA_1.04.02_1557_0385.jpg\t\t[8.667375261950383e-09, 1.3764414497074995e-08, 1.2419326900214855e-08, 1.0]\n",
      "OUT\tOUT\tNL-HaNA_1.04.02_1557_0386.jpg\t\t[8.65589377951892e-09, 1.2394431259110661e-08, 9.328153360854685e-09, 1.0]\n",
      "OUT\tOUT\tNL-HaNA_1.04.02_1557_0387.jpg\t\t[9.06225405827854e-09, 1.1501344765463273e-08, 8.263576489753177e-09, 1.0]\n",
      "OUT\tOUT\tNL-HaNA_1.04.02_1557_0388.jpg\t\t[9.00159768946196e-09, 1.0878189904417468e-08, 7.397313428469943e-09, 1.0]\n",
      "OUT\tOUT\tNL-HaNA_1.04.02_1557_0389.jpg\t\t[9.084543783899335e-09, 1.0838116182299018e-08, 7.692398718006643e-09, 1.0]\n",
      "OUT\tOUT\tNL-HaNA_1.04.02_1557_0390.jpg\t\t[9.339226281213087e-09, 1.1134289934489061e-08, 6.724278467373779e-09, 1.0]\n",
      "OUT\tOUT\tNL-HaNA_1.04.02_1557_0391.jpg\t\t[9.314321758324695e-09, 1.025353402184237e-08, 6.886484715806773e-09, 1.0]\n",
      "OUT\tOUT\tNL-HaNA_1.04.02_1557_0392.jpg\t\t[8.650578919855434e-09, 1.0572259512287019e-08, 7.700796444964908e-09, 1.0]\n",
      "OUT\tOUT\tNL-HaNA_1.04.02_1557_0393.jpg\t\t[8.969891496235505e-09, 1.094159518544302e-08, 7.385569489315458e-09, 1.0]\n",
      "OUT\tOUT\tNL-HaNA_1.04.02_1557_0394.jpg\t\t[9.226196695522049e-09, 1.1138028277457579e-08, 7.683439662287128e-09, 1.0]\n",
      "OUT\tOUT\tNL-HaNA_1.04.02_1557_0395.jpg\t\t[8.924717853631137e-09, 1.1017277756764088e-08, 7.523325962210947e-09, 1.0]\n",
      "OUT\tOUT\tNL-HaNA_1.04.02_1557_0396.jpg\t\t[8.678790131000369e-09, 1.039315655759765e-08, 7.541729907245553e-09, 1.0]\n",
      "OUT\tOUT\tNL-HaNA_1.04.02_1557_0397.jpg\t\t[9.71255609272248e-09, 1.0261653748955268e-08, 6.349405445860157e-09, 1.0]\n",
      "OUT\tOUT\tNL-HaNA_1.04.02_1557_0398.jpg\t\t[9.231443165447217e-09, 1.0879434242383468e-08, 6.532665075553723e-09, 1.0]\n",
      "OUT\tOUT\tNL-HaNA_1.04.02_1557_0399.jpg\t\t[9.555322755261386e-09, 1.1206729766399803e-08, 6.6404770571182326e-09, 1.0]\n",
      "OUT\tOUT\tNL-HaNA_1.04.02_1557_0400.jpg\t\t[8.902055981252488e-09, 1.173400576703898e-08, 7.4433672558882336e-09, 1.0]\n",
      "OUT\tOUT\tNL-HaNA_1.04.02_1557_0401.jpg\t\t[9.481613716388892e-09, 1.1427065516045332e-08, 6.81108547340159e-09, 1.0]\n",
      "OUT\tOUT\tNL-HaNA_1.04.02_1557_0402.jpg\t\t[9.326872607573478e-09, 1.148142114715256e-08, 6.849465439273672e-09, 1.0]\n",
      "OUT\tOUT\tNL-HaNA_1.04.02_1557_0403.jpg\tAankomend Indias brieff=; Tweede deel; N„o 4:; Bon\t[9.55818446612966e-09, 1.1140152800237502e-08, 6.025742127491185e-09, 1.0]\n",
      "OUT\tOUT\tNL-HaNA_1.04.02_1557_0404.jpg\t\t[9.165650460829511e-09, 1.085555645374825e-08, 7.357505271698983e-09, 1.0]\n",
      "OUT\tBEGIN\tNL-HaNA_1.04.02_1557_0405.jpg\t14. en 15. xber p:r 't Jagtje; Ontfangen; de wind,\t[9.533694722563268e-09, 1.0966039631910007e-08, 6.262315555005671e-09, 1.0]\n",
      "OUT\tIN\tNL-HaNA_1.04.02_1557_0406.jpg\t\t[1.0036072417562991e-08, 1.0554045637434228e-08, 5.8271640845930506e-09, 1.0]\n",
      "OUT\tIN\tNL-HaNA_1.04.02_1557_0407.jpg\t\t[9.586081262114021e-09, 1.079711786644566e-08, 5.9797162776931145e-09, 1.0]\n",
      "OUT\tIN\tNL-HaNA_1.04.02_1557_0408.jpg\t\t[9.756373486879966e-09, 1.1043575831592989e-08, 6.595212820315055e-09, 1.0]\n",
      "OUT\tIN\tNL-HaNA_1.04.02_1557_0409.jpg\tVan Toncquin Den 2:en Januarij A=o 1694.; Register\t[1.3738317150568946e-08, 1.365427770849692e-08, 8.151304520254143e-09, 1.0]\n",
      "OUT\tEND\tNL-HaNA_1.04.02_1557_0410.jpg\tA=o 1694.; Van Toncquin Den 2:e Januarij; 'tarrive\t[1.0645227632721799e-07, 7.933829948569837e-08, 3.512882074119261e-08, 0.9999997615814209]\n",
      "OUT\tBEGIN\tNL-HaNA_1.04.02_1557_1408.jpg\tVan Bengale onder dato 18„en Januarij Ao 1944.; Al\t[7.799675927344651e-08, 1.3080223482120346e-07, 1.1564390689500215e-07, 0.9999996423721313]\n",
      "OUT\tEND\tNL-HaNA_1.04.02_1557_1409.jpg\tvan; Bengale den 15=en Februarij A:o 1694.; heere \t[1.3456443070936075e-07, 1.1175439595945136e-07, 5.390295143570256e-08, 0.9999996423721313]\n"
     ]
    },
    {
     "name": "stderr",
     "output_type": "stream",
     "text": [
      "Evaluating:  56%|█████▌    | 32/57 [00:10<00:04,  5.38batch/s]"
     ]
    },
    {
     "name": "stdout",
     "output_type": "stream",
     "text": [
      "OUT\tBEGIN\tNL-HaNA_1.04.02_1557_0665.jpg\tVan Malacca onder dato 11:en Februarij ao 194; Ede\t[7.797994783231843e-08, 1.307975026065833e-07, 1.1570291746920702e-07, 0.9999996423721313]\n",
      "OUT\tEND\tNL-HaNA_1.04.02_1557_0666.jpg\tVan Malacca onder dato 1=en Februarij A:o 1694; Te\t[1.345297846455651e-07, 1.1177954917229727e-07, 5.39102522623125e-08, 0.9999996423721313]\n"
     ]
    },
    {
     "name": "stderr",
     "output_type": "stream",
     "text": [
      "Evaluating:  58%|█████▊    | 33/57 [00:10<00:06,  3.85batch/s]"
     ]
    },
    {
     "name": "stdout",
     "output_type": "stream",
     "text": [
      "OUT\tBEGIN\tNL-HaNA_1.04.02_1557_0171.jpg\tVan Palembang Den 28=en Iulij A:o 1694.; de beurs \t[5.2393922089777334e-08, 9.938543854559612e-08, 1.0560351881849783e-07, 0.9999997615814209]\n",
      "OUT\tIN\tNL-HaNA_1.04.02_1557_0172.jpg\tVan Palembang Den 12=en Maij ao 1694; s=r van Clee\t[1.0630981428505493e-08, 1.5200521730207583e-08, 1.0815792705898275e-08, 1.0]\n",
      "OUT\tIN\tNL-HaNA_1.04.02_1557_0173.jpg\tVan Palembang Den 12=en Meij A:o 1694.; 't welk hu\t[9.09753161693061e-09, 1.1919675912963612e-08, 7.196726325986447e-09, 1.0]\n",
      "OUT\tIN\tNL-HaNA_1.04.02_1557_0174.jpg\tVan Palembang Den 12=en Meij A=o 1694.; waarvan, a\t[8.752899738340147e-09, 1.0593010024706473e-08, 6.773231309153971e-09, 1.0]\n",
      "OUT\tIN\tNL-HaNA_1.04.02_1557_0175.jpg\tMeij Anno 1694.; Van Palembang Den 12=en; twelk va\t[9.430103808938384e-09, 1.0551993945284721e-08, 5.8321787399506775e-09, 1.0]\n",
      "OUT\tIN\tNL-HaNA_1.04.02_1557_0176.jpg\tVan Palembang Den 12=en Meij A„o 1694.; de van daa\t[9.151237989613037e-09, 1.0398509608933182e-08, 5.941573011369883e-09, 1.0]\n",
      "OUT\tIN\tNL-HaNA_1.04.02_1557_0177.jpg\tVan Palembang Den 12=en Meij A=o 1694.; uijtgedruk\t[9.259481181800311e-09, 1.042949637763968e-08, 5.912621059422918e-09, 1.0]\n",
      "OUT\tIN\tNL-HaNA_1.04.02_1557_0178.jpg\tVan Palembang Den 12:e Meij A=o 1694.; op sodanige\t[9.845448900591691e-09, 1.0551832296812336e-08, 5.639914757438191e-09, 1.0]\n",
      "OUT\tIN\tNL-HaNA_1.04.02_1557_0179.jpg\tVan Palembang Den 12=en Maij A=o 1694.; versoecken\t[9.884171703333777e-09, 1.0026945496122153e-08, 5.702033512022808e-09, 1.0]\n",
      "OUT\tIN\tNL-HaNA_1.04.02_1557_0180.jpg\tVan Palembang Den 12=en Maij A:o 1694.; Iangsaijs \t[1.0010740680854724e-08, 1.0572421160759404e-08, 5.607521114114888e-09, 1.0]\n",
      "OUT\tIN\tNL-HaNA_1.04.02_1557_0181.jpg\tVan Palembang Den 12:' Meij Anno 1694.; sijne inge\t[9.786286447877046e-09, 1.0561818974963444e-08, 6.106908312375481e-09, 1.0]\n",
      "OUT\tIN\tNL-HaNA_1.04.02_1557_0182.jpg\tVan Palembang Den 12=en Meij A=o 1694.; waar van e\t[1.5061043967534715e-08, 1.3613607130480432e-08, 6.802361340874086e-09, 1.0]\n",
      "OUT\tEND\tNL-HaNA_1.04.02_1557_0183.jpg\tVan Palembang Den 12=en Meij Ao 1694; P:r 't Jaght\t[1.0748115641945333e-07, 7.844449356753103e-08, 3.4481775657013713e-08, 0.9999997615814209]\n"
     ]
    },
    {
     "name": "stderr",
     "output_type": "stream",
     "text": [
      "Evaluating:  60%|█████▉    | 34/57 [00:11<00:07,  3.15batch/s]"
     ]
    },
    {
     "name": "stdout",
     "output_type": "stream",
     "text": [
      "OUT\tBEGIN\tNL-HaNA_1.04.02_8526_0329.jpg\tSumatras West cust onder dato 6„' Jan: 1723.; Jan;\t[5.242920764203518e-08, 1.1521655807200659e-07, 1.4585755536700162e-07, 0.9999996423721313]\n",
      "OUT\tIN\tNL-HaNA_1.04.02_8526_0330.jpg\tVan Sumatras West uust onder dato 6:' jan: 1733.; \t[1.0561457486346626e-08, 1.7120846962370706e-08, 1.4627877575890125e-08, 1.0]\n",
      "OUT\tIN\tNL-HaNA_1.04.02_8526_0331.jpg\tO; Jan; Sumatras West cust onder dato 6„' Janu: 17\t[9.537496126199585e-09, 1.0718204102033724e-08, 7.441721017187319e-09, 1.0]\n",
      "OUT\tIN\tNL-HaNA_1.04.02_8526_0332.jpg\tVan Sumatras Westcust onder dato 6„' Janu: 1733.; \t[9.059160532842725e-09, 1.0657292826010689e-08, 7.0339978286426685e-09, 1.0]\n",
      "OUT\tIN\tNL-HaNA_1.04.02_8526_0333.jpg\tSumatras West Cust onder dato 6„' Janu: 1733.; Van\t[8.836249953958486e-09, 1.0351846491118977e-08, 7.193171835950807e-09, 1.0]\n",
      "OUT\tIN\tNL-HaNA_1.04.02_8526_0334.jpg\tVan Sumatras West Cust onder dato 6„' Janu: 1733.;\t[9.30817645183879e-09, 1.0905717218179234e-08, 6.768737126350288e-09, 1.0]\n",
      "OUT\tIN\tNL-HaNA_1.04.02_8526_0335.jpg\tVan Sumatras Westcust onder dato 6„e Janu: 173.; B\t[9.499316000471936e-09, 1.0868546063136364e-08, 6.694742094026651e-09, 1.0]\n",
      "OUT\tIN\tNL-HaNA_1.04.02_8526_0336.jpg\t&; Sumatras West Cust onder dato 6„' Janu: 1733; V\t[9.424349300957147e-09, 1.0499313418677048e-08, 6.286969167490497e-09, 1.0]\n",
      "OUT\tIN\tNL-HaNA_1.04.02_8526_0337.jpg\tSumatras West Cust onder dato 6„' Janu: 1733.; Van\t[1.0063866184850667e-08, 1.0624900070865806e-08, 5.752282650206553e-09, 1.0]\n",
      "OUT\tIN\tNL-HaNA_1.04.02_8526_0338.jpg\tSumatras West Cust onder dato 6„en Janu: 1733.; Va\t[9.60557322571276e-09, 1.0528832916634201e-08, 5.692025961678837e-09, 1.0]\n",
      "OUT\tIN\tNL-HaNA_1.04.02_8526_0339.jpg\tSumatras West Cust onder dato 6:„' Janu: 1733.; Va\t[1.0104084680051528e-08, 1.0521124416129624e-08, 5.781111145353179e-09, 1.0]\n",
      "OUT\tIN\tNL-HaNA_1.04.02_8526_0340.jpg\tSumatras West Cust onder dato 6„e Janu: 1733; Jan;\t[1.0653228521562141e-08, 1.085191225769222e-08, 5.602432739948426e-09, 1.0]\n",
      "OUT\tIN\tNL-HaNA_1.04.02_8526_0341.jpg\tVan Sumatras West Cust onder dato 6„' Janu: 1733. \t[1.4973025486142433e-08, 1.3522435615698214e-08, 6.836478494420817e-09, 1.0]\n",
      "OUT\tEND\tNL-HaNA_1.04.02_8526_0342.jpg\tVan Sumatras West Cust onder dato 6:' Janu: 1733.;\t[1.0716223641793476e-07, 7.951706493258826e-08, 3.468460718636379e-08, 0.9999997615814209]\n"
     ]
    },
    {
     "name": "stderr",
     "output_type": "stream",
     "text": [
      "Evaluating:  61%|██████▏   | 35/57 [00:11<00:06,  3.39batch/s]"
     ]
    },
    {
     "name": "stdout",
     "output_type": "stream",
     "text": [
      "OUT\tOUT\tNL-HaNA_1.04.02_1547_0674.jpg\t\t[5.388825741192704e-08, 1.0724791366101272e-07, 1.0307795150765742e-07, 0.9999997615814209]\n",
      "OUT\tBEGIN\tNL-HaNA_1.04.02_1547_0675.jpg\t867417 lb diverse peper Namentlijk —; 273813. lb c\t[1.1224784657315467e-08, 1.538633220832253e-08, 1.0290780672050914e-08, 1.0]\n",
      "OUT\tIN\tNL-HaNA_1.04.02_1547_0676.jpg\t„; Transport - - - - - - - - - - - - - ƒ5622. 10. \t[9.849750348678299e-09, 1.1107944786203916e-08, 6.19783957489517e-09, 1.0]\n",
      "OUT\tIN\tNL-HaNA_1.04.02_1547_0677.jpg\t3380. 9. 7 ƒ 140128- 7. 14; Door voordragt met. . \t[9.67834434817405e-09, 1.0904946279310934e-08, 6.603482649580883e-09, 1.0]\n",
      "OUT\tIN\tNL-HaNA_1.04.02_1547_0678.jpg\t871. 1. 4 ƒ183719. 11.; Transport. . . . ƒ; 3418. \t[1.4041355633764852e-08, 1.4003484594127258e-08, 7.835027737712608e-09, 1.0]\n",
      "OUT\tEND\tNL-HaNA_1.04.02_1547_0679.jpg\tP=r Transport - - - - - - ƒ 191585. 19 —; ƒ; P„r s\t[1.0688135176906144e-07, 7.956712977374991e-08, 3.47271722489495e-08, 0.9999997615814209]\n"
     ]
    },
    {
     "name": "stderr",
     "output_type": "stream",
     "text": [
      "Evaluating:  63%|██████▎   | 36/57 [00:12<00:11,  1.76batch/s]"
     ]
    },
    {
     "name": "stdout",
     "output_type": "stream",
     "text": [
      "OUT\tBEGIN\tNL-HaNA_1.04.02_2356_0028.jpg\tMocha den 15 augustus 1734:; Van; Mocha onder Dato\t[2.752101408987073e-07, 6.044189717613335e-07, 7.84345502324868e-07, 0.9999983310699463]\n",
      "OUT\tIN\tNL-HaNA_1.04.02_2356_0029.jpg\tVan Bovia onder dato 15 augustus 1734; Van; Colba \t[3.027115624831822e-08, 4.3815777672762124e-08, 3.5052988067718616e-08, 0.9999998807907104]\n",
      "OUT\tIN\tNL-HaNA_1.04.02_2356_0030.jpg\tSacha Onder Dato 15. Aug: 1734; Van; Cocha onder D\t[2.019399936159516e-08, 2.416200040045169e-08, 1.5502099159903082e-08, 1.0]\n",
      "OUT\tIN\tNL-HaNA_1.04.02_2356_0031.jpg\tVan Mocha onder dato 15 aug:s 1734; Van; Mocha ond\t[1.95615363907109e-08, 2.1802708971563334e-08, 1.2943130123233004e-08, 1.0]\n",
      "OUT\tIN\tNL-HaNA_1.04.02_2356_0032.jpg\tCocha onder dato 18 Augutus 1744; Van; Augustus; V\t[1.9510746795958767e-08, 2.119536723910187e-08, 1.220446144145626e-08, 1.0]\n",
      "OUT\tIN\tNL-HaNA_1.04.02_2356_0033.jpg\tVan Norsa onder dato 15 Aug 1734:; Van Mocha onder\t[1.9654397220847386e-08, 2.1103071290440312e-08, 1.1994641724299981e-08, 1.0]\n",
      "OUT\tIN\tNL-HaNA_1.04.02_2356_0034.jpg\tVan Cocha onder Dato 15 Augustus 1734.; Mocha onde\t[1.936681748304636e-08, 2.071116966817499e-08, 1.168092733649928e-08, 1.0]\n",
      "OUT\tIN\tNL-HaNA_1.04.02_2356_0035.jpg\tVan Mocha onder dato 15 August: 1734; Van Norsa on\t[1.9768465975289473e-08, 2.101173812718571e-08, 1.1809199840229212e-08, 1.0]\n",
      "OUT\tIN\tNL-HaNA_1.04.02_2356_0036.jpg\tCoisa onder Dato 15 aug:s 1734:; Van; Cocha onder \t[1.9747098178868328e-08, 2.092427209277048e-08, 1.1714059056089354e-08, 1.0]\n",
      "OUT\tIN\tNL-HaNA_1.04.02_2356_0037.jpg\tCoist onder Dato 15 Aug 1734; G; Van; 1; Van Moiba\t[1.9807643525382446e-08, 2.0918886178833418e-08, 1.1671684951863881e-08, 1.0]\n",
      "OUT\tIN\tNL-HaNA_1.04.02_2356_0038.jpg\tMosa onder dato 15:' Aug:s 1734; Van Mocha onder D\t[1.9904444314988723e-08, 2.094867213031648e-08, 1.1650889142345022e-08, 1.0]\n",
      "OUT\tIN\tNL-HaNA_1.04.02_2356_0039.jpg\tMocha onder Dato 15 aug: 1734; Mocha onder Dato 15\t[1.993457310334179e-08, 2.0916292697847894e-08, 1.1592855564401816e-08, 1.0]\n",
      "OUT\tIN\tNL-HaNA_1.04.02_2356_0040.jpg\tCocha onder dato 15 aug: 1734; G; Van; Van Mocha o\t[2.008977340040019e-08, 2.0999637584395714e-08, 1.160311935421987e-08, 1.0]\n",
      "OUT\tIN\tNL-HaNA_1.04.02_2356_0041.jpg\tVan Mocha onder Dato 15 augus: 1734; Mocha onder D\t[2.006821020472671e-08, 2.0919124210649898e-08, 1.1516996245575228e-08, 1.0]\n",
      "OUT\tIN\tNL-HaNA_1.04.02_2356_0042.jpg\tMocha onder Dato 15 Augustus 1734.; G; 1; Van; och\t[2.0138918088719038e-08, 2.0924431964886026e-08, 1.14826042008076e-08, 1.0]\n",
      "OUT\tIN\tNL-HaNA_1.04.02_2356_0043.jpg\tMocha onder dato 15 augustus 1734; Van Mocha onder\t[2.025498702096229e-08, 2.0969698866224462e-08, 1.1472051753003143e-08, 1.0]\n",
      "OUT\tIN\tNL-HaNA_1.04.02_2356_0044.jpg\tMoesa onder dato 15 Augustus 1734; Van Mocha onder\t[2.0338257300522855e-08, 2.0978101034074825e-08, 1.1438840985533716e-08, 1.0]\n",
      "OUT\tIN\tNL-HaNA_1.04.02_2356_0045.jpg\tMocha onder Dato 15 Augustus 1734.; Van; Schenkagi\t[2.0458244875953824e-08, 2.1003122796514617e-08, 1.141157923711944e-08, 1.0]\n",
      "OUT\tIN\tNL-HaNA_1.04.02_2356_0046.jpg\tDetraordinarij Ongelden 1733/7; Cocha onder Dato 1\t[2.065302240339406e-08, 2.1054663790209815e-08, 1.1387640164173263e-08, 1.0]\n",
      "OUT\tIN\tNL-HaNA_1.04.02_2356_0047.jpg\tMocha onder dato 15 aug 1734; Van; Van Mocha onder\t[2.1308700581812445e-08, 2.142366462010159e-08, 1.1505909114362112e-08, 1.0]\n",
      "OUT\tIN\tNL-HaNA_1.04.02_2356_0048.jpg\tBocha onder Dato 15 Augs 1734; Van Mocha onder Dat\t[2.4142375210089995e-08, 2.3394505888063577e-08, 1.2361331513943696e-08, 1.0]\n",
      "OUT\tIN\tNL-HaNA_1.04.02_2356_0049.jpg\tocha onder Dato 15 augus: 1734.; 7; Van Mocha onde\t[4.4939699961332735e-08, 3.7813947528775316e-08, 1.8853992145295706e-08, 0.9999998807907104]\n",
      "OUT\tEND\tNL-HaNA_1.04.02_2356_0050.jpg\tMocha onder Dato 15 aug:s 1734.; Van; ƒ; Mocha ond\t[8.257381409748632e-07, 4.273630906936887e-07, 1.687601667299532e-07, 0.9999985694885254]\n"
     ]
    },
    {
     "name": "stderr",
     "output_type": "stream",
     "text": [
      "Evaluating:  65%|██████▍   | 37/57 [00:13<00:10,  1.86batch/s]"
     ]
    },
    {
     "name": "stdout",
     "output_type": "stream",
     "text": [
      "OUT\tBEGIN\tNL-HaNA_1.04.02_1268_1095.jpg\tIs nae aen roepingh van godes Heijsige naeme; vers\t[5.6143178994716436e-08, 1.2060240806022193e-07, 1.4116331215063838e-07, 0.9999996423721313]\n",
      "OUT\tIN\tNL-HaNA_1.04.02_1268_1096.jpg\tberaemen op dat achtervolgens d'ordre Ind Indische\t[1.0765121238875963e-08, 1.644568570213778e-08, 1.4246950286178617e-08, 1.0]\n",
      "OUT\tIN\tNL-HaNA_1.04.02_1268_1097.jpg\tdwijl bevonden wort dat Eenige particoliere predic\t[9.36646671334529e-09, 1.15585452320488e-08, 7.503892618387908e-09, 1.0]\n",
      "OUT\tIN\tNL-HaNA_1.04.02_1268_1098.jpg\td'wijl ondervonden wert dat sonder d' Inlandse tae\t[8.649357674528346e-09, 1.0325856614201712e-08, 7.656828060476073e-09, 1.0]\n",
      "OUT\tIN\tNL-HaNA_1.04.02_1268_1099.jpg\twij nader aen schrijvens Expatria vercregen hebben\t[9.425266789264697e-09, 1.1351945161663934e-08, 6.6490191130696985e-09, 1.0]\n",
      "OUT\tIN\tNL-HaNA_1.04.02_1268_1100.jpg\tnaet vaderlandt ofte ook aen andre Conrespondeeren\t[9.514222298889763e-09, 1.134861093987638e-08, 6.1808749229896875e-09, 1.0]\n",
      "OUT\tIN\tNL-HaNA_1.04.02_1268_1101.jpg\tresolutie niet weijnigh versterkt door het geene v\t[9.114309307278745e-09, 1.0503439895614974e-08, 6.251395845424668e-09, 1.0]\n",
      "OUT\tIN\tNL-HaNA_1.04.02_1268_1102.jpg\tEenige veranderinge daer in te maecken en dat wij \t[9.540534584573379e-09, 1.0956024532049469e-08, 5.885022247298366e-09, 1.0]\n",
      "OUT\tIN\tNL-HaNA_1.04.02_1268_1103.jpg\t2=e; de Inlandse schoolmeesters sullen oock daer t\t[9.913436294084477e-09, 1.0787237769704916e-08, 5.768213018342294e-09, 1.0]\n",
      "OUT\tIN\tNL-HaNA_1.04.02_1268_1104.jpg\tOock dat alle predicanten die naemaels sullen Come\t[9.759220986893524e-09, 1.0712318143646371e-08, 5.681493941978033e-09, 1.0]\n",
      "OUT\tIN\tNL-HaNA_1.04.02_1268_1105.jpg\tofte oock haer advijs afte wagten bij geschrift ma\t[9.329435002314312e-09, 1.0057630284165953e-08, 6.064656776771926e-09, 1.0]\n",
      "OUT\tIN\tNL-HaNA_1.04.02_1268_1106.jpg\tgouverneur generael Anthonio van diemen loffelijck\t[1.0178515807979238e-08, 1.0482344769968677e-08, 5.376565859194216e-09, 1.0]\n",
      "OUT\tIN\tNL-HaNA_1.04.02_1268_1107.jpg\tdat de broederen haer met de kerken vergaderingh r\t[1.0757855051224396e-08, 1.066735944021957e-08, 5.589592344534822e-09, 1.0]\n",
      "OUT\tIN\tNL-HaNA_1.04.02_1268_1108.jpg\tder H:r saeken die daer toe sullen werden gecommit\t[1.4742942866519115e-08, 1.4147407689790725e-08, 7.236505616958766e-09, 1.0]\n",
      "OUT\tEND\tNL-HaNA_1.04.02_1268_1109.jpg\tg'admitteert en tot godes kerke aengenomen werden \t[1.0828282626107466e-07, 7.839692983679925e-08, 3.4595743159115955e-08, 0.9999997615814209]\n",
      "OUT\tBEGIN\tNL-HaNA_1.04.02_1557_1270.jpg\tVan Sumatras W=t Cust onder dato 4:e Decemb: a:o 1\t[5.512463019385905e-08, 1.01448527800585e-07, 9.813393120339242e-08, 0.9999997615814209]\n",
      "OUT\tIN\tNL-HaNA_1.04.02_1557_1271.jpg\tVan Sumatras W=t Cust, onder dato 4=en December A=\t[1.1950932687909699e-08, 1.629730128627216e-08, 1.0776584069560613e-08, 1.0]\n",
      "OUT\tIN\tNL-HaNA_1.04.02_1557_1272.jpg\tVan Sumatras W=t Cust onder dato 4:en December A:o\t[1.4660110458919462e-08, 1.5234423500487537e-08, 7.790902145643486e-09, 1.0]\n",
      "OUT\tEND\tNL-HaNA_1.04.02_1557_1273.jpg\tVan Sumatras W=t Cust onder dato 4:e December A:o \t[1.0609026190877557e-07, 7.804691648516382e-08, 3.5447243362796144e-08, 0.9999997615814209]\n"
     ]
    },
    {
     "name": "stderr",
     "output_type": "stream",
     "text": [
      "Evaluating:  74%|███████▎  | 42/57 [00:15<00:06,  2.37batch/s]"
     ]
    },
    {
     "name": "stdout",
     "output_type": "stream",
     "text": [
      "OUT\tOUT\tNL-HaNA_1.04.02_1547_0614.jpg\t\t[5.981519990427842e-08, 1.1681999012580491e-07, 1.5762691418785835e-07, 0.9999996423721313]\n",
      "OUT\tBEGIN\tNL-HaNA_1.04.02_1547_0615.jpg\t\t[1.0439845432586026e-08, 1.7860003254099865e-08, 1.5173526435319218e-08, 1.0]\n",
      "OUT\tIN\tNL-HaNA_1.04.02_1547_0616.jpg\t1: de weduwe van Cornelis verdonck zal=r - - - - -\t[8.945066021226467e-09, 1.2066094789986437e-08, 8.917810490061129e-09, 1.0]\n",
      "OUT\tIN\tNL-HaNA_1.04.02_1547_0617.jpg\tgeruwde Persoonen met haare familjen,; anur Adriaa\t[9.074240026052394e-09, 1.107627323193583e-08, 7.089071107913014e-09, 1.0]\n",
      "OUT\tIN\tNL-HaNA_1.04.02_1547_0618.jpg\t26. huijs gesinnen Naamen toenamen - - - - - - - -\t[9.220286756317364e-09, 1.0964011032399412e-08, 6.325133750095802e-09, 1.0]\n",
      "OUT\tIN\tNL-HaNA_1.04.02_1547_0619.jpg\tP„r Transport Copper : 348. —; 1: - - - - - - - - \t[9.962112024197722e-09, 1.1408641142907072e-08, 6.410834085812667e-09, 1.0]\n",
      "OUT\tIN\tNL-HaNA_1.04.02_1547_0620.jpg\t54 huijsgesinnen Namen - - - - - - - - - - - - - -\t[9.381593280011202e-09, 1.0417727125400233e-08, 5.825341542475826e-09, 1.0]\n",
      "OUT\tIN\tNL-HaNA_1.04.02_1547_0621.jpg\t„r Transport Coppen. —. 591.; 1. 3 5. . . . . . . \t[9.588879024136077e-09, 1.0842912345765399e-08, 5.6574336326775665e-09, 1.0]\n",
      "OUT\tIN\tNL-HaNA_1.04.02_1547_0622.jpg\t8 6. huijsgesinnen namen toenamen - - - - - - - - \t[9.92062432203511e-09, 1.1045366399287104e-08, 5.575994332929213e-09, 1.0]\n",
      "OUT\tIN\tNL-HaNA_1.04.02_1547_0623.jpg\t1 1. - - - - - - - - - - - - - - - - - - - - - - -\t[9.08301966973113e-09, 1.0533372396537288e-08, 6.2328462391292305e-09, 1.0]\n",
      "OUT\tIN\tNL-HaNA_1.04.02_1547_0624.jpg\t1. de weduwe van balten Cannemans. - . . . . . . C\t[1.0028208485834966e-08, 1.1393701981887716e-08, 5.8070592778847185e-09, 1.0]\n",
      "OUT\tIN\tNL-HaNA_1.04.02_1547_0625.jpg\t=Transport Coppen 952. —; 1. 1. 1. . . . . . . . .\t[1.0447494425136483e-08, 1.0867447386431195e-08, 5.628717048011822e-09, 1.0]\n",
      "OUT\tIN\tNL-HaNA_1.04.02_1547_0626.jpg\t150. huijsgesinnen Naamen toenaamen; Europiaanse m\t[1.0041088849277457e-08, 1.0486084889294034e-08, 5.726917162718337e-09, 1.0]\n",
      "OUT\tIN\tNL-HaNA_1.04.02_1547_0627.jpg\tP„r Transport Coppen. . 1128. —; naet soons doeket\t[1.02631609877335e-08, 1.0435446284873251e-08, 5.354327647921764e-09, 1.0]\n",
      "OUT\tIN\tNL-HaNA_1.04.02_1547_0628.jpg\thuijsgesinnen Naamen - - - - - - - - - - - - - - -\t[9.752262997153593e-09, 1.0561154617505508e-08, 6.554944143033481e-09, 1.0]\n",
      "OUT\tIN\tNL-HaNA_1.04.02_1547_0629.jpg\tP„r Transport Coppen —. 1260. —; moeder vrouwen li\t[1.0014197471264197e-08, 1.0452676946215433e-08, 5.798161062386953e-09, 1.0]\n",
      "OUT\tIN\tNL-HaNA_1.04.02_1547_0630.jpg\t176 huijsgesinnen Naamen; 1. weduwe van pauel borg\t[9.515273902138688e-09, 1.0720371257377792e-08, 6.568836141696011e-09, 1.0]\n",
      "OUT\tIN\tNL-HaNA_1.04.02_1547_0631.jpg\tP„r Transport Coppen. - 1394. —; moeder vouwen lin\t[1.0307044995272463e-08, 1.0940196304431993e-08, 5.823896920276184e-09, 1.0]\n",
      "OUT\tIN\tNL-HaNA_1.04.02_1547_0632.jpg\t205. huijsgesinnen naamen; 1. francisco alves. - -\t[9.83508829932589e-09, 1.0212976242485183e-08, 6.210004066531383e-09, 1.0]\n",
      "OUT\tIN\tNL-HaNA_1.04.02_1547_0633.jpg\tP=r Transport Coppen. 1538. —; ::; mans múren, Soo\t[1.0139936001962724e-08, 1.0304312958453465e-08, 5.326245666736895e-09, 1.0]\n",
      "OUT\tIN\tNL-HaNA_1.04.02_1547_0634.jpg\t1. pasquaal d' Croes. - ..; 1. Isaak Leraan van ba\t[1.0174148634689573e-08, 1.0250309046000439e-08, 5.6630908851218464e-09, 1.0]\n",
      "OUT\tIN\tNL-HaNA_1.04.02_1547_0635.jpg\tDoor Voordragt Coppen 1663; 1. 5. —; 1.; 1. . . . \t[1.0955732321349387e-08, 1.0267273253816711e-08, 5.398236968545689e-09, 1.0]\n",
      "OUT\tIN\tNL-HaNA_1.04.02_1547_0636.jpg\t259. huijsgesinnen Naamen; _o; 1. anjela dunies-; \t[1.523933512714848e-08, 1.3713263413706045e-08, 6.83252876498841e-09, 1.0]\n",
      "OUT\tEND\tNL-HaNA_1.04.02_1547_0637.jpg\tmangvrou, soons, dogters, susters, broeder, schoon\t[1.0981216291838791e-07, 7.989835637545184e-08, 3.438706741576425e-08, 0.9999997615814209]\n",
      "OUT\tBEGIN\tNL-HaNA_1.04.02_1557_0621.jpg\tVan Malacca Den 11=en Februarij A=o 1694. —; Regis\t[7.799690848742102e-08, 1.3082394900720828e-07, 1.1575667713259463e-07, 0.9999996423721313]\n",
      "OUT\tEND\tNL-HaNA_1.04.02_1557_0622.jpg\tVan Malacca Den 11=en Februarij A:o 1694.; P=r den\t[1.3457996317356447e-07, 1.1172220837352143e-07, 5.388064749922705e-08, 0.9999996423721313]\n",
      "OUT\tBEGIN\tNL-HaNA_1.04.02_1557_1645.jpg\tVan Bengale onder dato 24=en November A=o 1694.; R\t[7.794990608545049e-08, 1.308284396372983e-07, 1.1575998115631592e-07, 0.9999996423721313]\n",
      "OUT\tEND\tNL-HaNA_1.04.02_1557_1645.jpg\tVan Bengale onder dato 24=en November A=o 1694.; R\t[1.3452273606162635e-07, 1.117437307129876e-07, 5.391395418996581e-08, 0.9999996423721313]\n",
      "OUT\tBEGIN\tNL-HaNA_1.04.02_1557_0956.jpg\tVan Sumatras W„t Cust den 4e Maart Denno 1694:; P:\t[5.289133753194619e-08, 9.66172919447672e-08, 9.992925242841011e-08, 0.9999997615814209]\n",
      "OUT\tIN\tNL-HaNA_1.04.02_1557_0957.jpg\tVan Sumatras W=t Cust den 4=en Maart Anno 1694.; w\t[1.13388960443217e-08, 1.4818892779544512e-08, 1.075621369750479e-08, 1.0]\n",
      "OUT\tIN\tNL-HaNA_1.04.02_1557_0958.jpg\tVan Sumatra W„t Cut Den 4„e Maart A„o 1694; en aan\t[9.684216983885108e-09, 1.1915334496848118e-08, 6.836335497695245e-09, 1.0]\n",
      "OUT\tIN\tNL-HaNA_1.04.02_1557_0959.jpg\tVan Sumatras W=t Cust den 4:en Maart A:o 1694; ont\t[1.3854258185119761e-08, 1.438256447272579e-08, 7.590565509474345e-09, 1.0]\n",
      "OUT\tEND\tNL-HaNA_1.04.02_1557_0960.jpg\tVan Sumatas Wt Cust den 4=e Maart A=o 1699.; vermi\t[1.0645674564102592e-07, 7.920917255432869e-08, 3.510952595320305e-08, 0.9999997615814209]\n"
     ]
    },
    {
     "name": "stderr",
     "output_type": "stream",
     "text": [
      "Evaluating:  75%|███████▌  | 43/57 [00:15<00:05,  2.50batch/s]"
     ]
    },
    {
     "name": "stdout",
     "output_type": "stream",
     "text": [
      "OUT\tBEGIN\tNL-HaNA_1.04.02_2970_0278.jpg\tWoensdag den 18' Juny Ao 1760; op; Middelerwyle wi\t[5.168119798781845e-08, 9.868803374502022e-08, 1.0847880105302465e-07, 0.9999997615814209]\n",
      "OUT\tIN\tNL-HaNA_1.04.02_2970_0279.jpg\tde Edele agtb: heere Weesmeesteren tot Amsterdam; \t[1.1185930404167266e-08, 1.558873741203115e-08, 1.079806466464106e-08, 1.0]\n",
      "OUT\tIN\tNL-HaNA_1.04.02_2970_0280.jpg\tExtract uyt de mis¬; sive door heeren Weesmees; te\t[9.333760431218252e-09, 1.1301779956340852e-08, 6.615950898236633e-09, 1.0]\n",
      "OUT\tIN\tNL-HaNA_1.04.02_2970_0281.jpg\t\t[9.381253107676457e-09, 1.0913478121210574e-08, 5.873079800267078e-09, 1.0]\n",
      "OUT\tIN\tNL-HaNA_1.04.02_2970_0282.jpg\t\t[9.082586238662316e-09, 1.0306100861612322e-08, 6.046753320276821e-09, 1.0]\n",
      "OUT\tIN\tNL-HaNA_1.04.02_2970_0283.jpg\tD Testamentaire Erfgen: va; Jacomina Chasse wed Gr\t[9.05085340008327e-09, 1.0418580664861565e-08, 6.175666644736566e-09, 1.0]\n",
      "OUT\tIN\tNL-HaNA_1.04.02_2970_0284.jpg\tP=r Transport rd=s 11. 100:—; Den boedel van Jacom\t[1.0205868150592323e-08, 1.0456884247389553e-08, 5.854435602969943e-09, 1.0]\n",
      "OUT\tIN\tNL-HaNA_1.04.02_2970_0285.jpg\tPr Transport r=os 16:8; Transport d„s 1228 12; Om \t[1.3771111362359534e-08, 1.3451487923532568e-08, 7.573775384628334e-09, 1.0]\n",
      "OUT\tEND\tNL-HaNA_1.04.02_2970_0286.jpg\tnagelien; J Schilbmnar; Notitie van diversche pa; \t[1.088336034626991e-07, 7.952949943046406e-08, 3.404145942909054e-08, 0.9999997615814209]\n"
     ]
    },
    {
     "name": "stderr",
     "output_type": "stream",
     "text": [
      "Evaluating:  77%|███████▋  | 44/57 [00:17<00:08,  1.62batch/s]"
     ]
    },
    {
     "name": "stdout",
     "output_type": "stream",
     "text": [
      "OUT\tBEGIN\tNL-HaNA_1.04.02_3796_0007.jpg\tDingsdag den 9' Januarij Ao 1787.; rezent; De wel \t[5.8413306192051095e-08, 1.0847465858887517e-07, 1.3331556658613408e-07, 0.9999996423721313]\n",
      "OUT\tIN\tNL-HaNA_1.04.02_3796_0008.jpg\tDeze gronden aan; de verzoekers bezij„; aan dierge\t[1.0622002832860744e-08, 1.6667621949295608e-08, 1.3690839573143876e-08, 1.0]\n",
      "OUT\tIN\tNL-HaNA_1.04.02_3796_0009.jpg\tden verzoeker voor de Komp:; voorpligting, bij zij\t[9.181222893062113e-09, 1.176679464975905e-08, 8.036771248498553e-09, 1.0]\n",
      "OUT\tIN\tNL-HaNA_1.04.02_3796_0010.jpg\tgemelde gronden aan de; planters zodanige bewij„; \t[9.307147941228777e-09, 1.1027094792837033e-08, 6.478588776559491e-09, 1.0]\n",
      "OUT\tIN\tNL-HaNA_1.04.02_3796_0011.jpg\tnopens de verzogte gronden, en van de; bondels met\t[9.299020220510101e-09, 1.0980710563046614e-08, 6.004357011590855e-09, 1.0]\n",
      "OUT\tIN\tNL-HaNA_1.04.02_3796_0012.jpg\tDen 18. Jannu: 1787.; 4:) Dat de nadere examinatie\t[1.006181360452274e-08, 1.1307040637120735e-08, 6.2759588637106845e-09, 1.0]\n",
      "OUT\tIN\tNL-HaNA_1.04.02_3796_0013.jpg\tDen 18: Jann: 1787.; der hoefd verstrekt te worden\t[9.505279230381802e-09, 1.0247239501381955e-08, 5.743719722062224e-09, 1.0]\n",
      "OUT\tIN\tNL-HaNA_1.04.02_3796_0014.jpg\tDen 18:' Jann: 1787.; ses poincten van zijn E. ber\t[9.621452967678579e-09, 1.0729330313097307e-08, 5.5995270642483774e-09, 1.0]\n",
      "OUT\tIN\tNL-HaNA_1.04.02_3796_0015.jpg\tvan Gale, dessones van Ko„; verneurt, kommandeur; \t[1.0006025341624536e-08, 1.0801463723453253e-08, 5.466372243745354e-09, 1.0]\n",
      "OUT\tIN\tNL-HaNA_1.04.02_3796_0016.jpg\tgen mod:r van kalture; Don Philippus Goe„; velden,\t[9.079504259545956e-09, 1.046255082570724e-08, 6.173311195567521e-09, 1.0]\n",
      "OUT\tIN\tNL-HaNA_1.04.02_3796_0017.jpg\tdeerdens hier bezij„; tende gronden voor; de komp:\t[9.996144356705372e-09, 1.1237359487381582e-08, 5.720705242850954e-09, 1.0]\n",
      "OUT\tIN\tNL-HaNA_1.04.02_3796_0018.jpg\tDen 15 . febr: 1787.; „baks pagters van silauw; en\t[1.0369493708139998e-08, 1.0725463184257933e-08, 5.537605929362144e-09, 1.0]\n",
      "OUT\tIN\tNL-HaNA_1.04.02_3796_0019.jpg\taan het Collegie van huwe„; van berigt te dienen e\t[9.892677788059245e-09, 1.0255353899424335e-08, 5.7102726991331565e-09, 1.0]\n",
      "OUT\tIN\tNL-HaNA_1.04.02_3796_0020.jpg\tDen 15. ' febr: 1787.; dat den E. majoor; Parareci\t[1.0255686078153303e-08, 1.0418998108718824e-08, 5.344451547983908e-09, 1.0]\n",
      "OUT\tIN\tNL-HaNA_1.04.02_3796_0021.jpg\tDen 9' 8ber: A o. 1787.; De E. Hoofd administrateu\t[9.67594537826244e-09, 1.0408351514001879e-08, 6.471648106298744e-09, 1.0]\n",
      "OUT\tIN\tNL-HaNA_1.04.02_3796_0022.jpg\tDen 9' 8ber: A:o 1787.; n mits dien den E. dessare\t[9.968079694999687e-09, 1.0360202473691515e-08, 5.7584736978810724e-09, 1.0]\n",
      "OUT\tIN\tNL-HaNA_1.04.02_3796_0023.jpg\tDen 9 ' 8ber: Ao. 1787.; Den 9:' 8ber: A:o 1787.; \t[9.395364486408653e-09, 1.0542477113517634e-08, 6.4895213647275796e-09, 1.0]\n",
      "OUT\tIN\tNL-HaNA_1.04.02_3796_0024.jpg\tDen 9. ' 8ber: A:o 1787.; Den 9 ' 8ber: A:o 1787.;\t[1.0156601781829977e-08, 1.0784871662394835e-08, 5.805985026086091e-09, 1.0]\n",
      "OUT\tIN\tNL-HaNA_1.04.02_3796_0025.jpg\tDen 9:' 8ber: A„o 1787.; Den 9. ' 8ber A:o 1787.; \t[9.774720588495711e-09, 1.0094106883684617e-08, 6.069980074130399e-09, 1.0]\n",
      "OUT\tIN\tNL-HaNA_1.04.02_3796_0026.jpg\t\t[1.0167418018625085e-08, 1.0535583072623922e-08, 5.63209967552325e-09, 1.0]\n",
      "OUT\tIN\tNL-HaNA_1.04.02_3796_0027.jpg\tVrijdag den 14. ' December A„o 1787.; De welEd: gr\t[1.0123046401133706e-08, 1.0179525666842437e-08, 5.5725388747873694e-09, 1.0]\n",
      "OUT\tIN\tNL-HaNA_1.04.02_3796_0028.jpg\tDen 14.' xber: 1787.; van het landschap Moetteraij\t[1.0894344093514974e-08, 1.026674478765699e-08, 5.433037131297169e-09, 1.0]\n",
      "OUT\tIN\tNL-HaNA_1.04.02_3796_0029.jpg\tDen 14:' 7ber: 1787.; te; thombo de nodige aanteek\t[1.5083813309502148e-08, 1.3608751459059931e-08, 6.7900467470849435e-09, 1.0]\n",
      "OUT\tEND\tNL-HaNA_1.04.02_3796_0030.jpg\tDen 14. ' xber: 1787.; Den 14:' xber: 1787.; Sinni\t[1.0784750514858388e-07, 7.855769013076497e-08, 3.450861996157073e-08, 0.9999997615814209]\n"
     ]
    },
    {
     "name": "stderr",
     "output_type": "stream",
     "text": [
      "Evaluating:  79%|███████▉  | 45/57 [00:17<00:06,  1.88batch/s]"
     ]
    },
    {
     "name": "stdout",
     "output_type": "stream",
     "text": [
      "OUT\tBEGIN\tNL-HaNA_1.04.02_1557_1162.jpg\tVan Sumatras W:t Cust onder dato 21=en meij A:o 16\t[5.5599066683953424e-08, 9.580728033142805e-08, 9.883419949119343e-08, 0.9999997615814209]\n",
      "OUT\tIN\tNL-HaNA_1.04.02_1557_1163.jpg\tVan Sumatras W=t Cust onder dato 21=en Meij A:o 16\t[1.1270673283547694e-08, 1.6279809500474585e-08, 1.029390173101774e-08, 1.0]\n",
      "OUT\tIN\tNL-HaNA_1.04.02_1557_1164.jpg\tVan Sumatras W:t Cust onder dato 21:' Meij a:o 169\t[9.088964247894182e-09, 1.0921994864077078e-08, 6.73470079703975e-09, 1.0]\n",
      "OUT\tIN\tNL-HaNA_1.04.02_1557_1165.jpg\tVan Sumatras W:t Cust onder dato 21=en Meij ao 169\t[1.0010034579011062e-08, 1.069804511644179e-08, 5.9693916476533104e-09, 1.0]\n",
      "OUT\tIN\tNL-HaNA_1.04.02_1557_1166.jpg\tCust onder dato 21:en meij a:o 1699.; Van Sumatras\t[1.0166312236492558e-08, 1.0310701625826368e-08, 6.024293952577864e-09, 1.0]\n",
      "OUT\tIN\tNL-HaNA_1.04.02_1557_1167.jpg\tVan Sumatras W:t Cust onder dato 21:en Meij A=o 16\t[1.4447588903010455e-08, 1.4003591175537622e-08, 7.083556852194306e-09, 1.0]\n",
      "OUT\tEND\tNL-HaNA_1.04.02_1557_1168.jpg\tVan Sumatras W:t Cust onder dato 21:en meij A:o 16\t[1.0733754862712885e-07, 7.823053493893894e-08, 3.4708762086665956e-08, 0.9999997615814209]\n"
     ]
    },
    {
     "name": "stderr",
     "output_type": "stream",
     "text": [
      "Evaluating:  81%|████████  | 46/57 [00:18<00:05,  2.05batch/s]"
     ]
    },
    {
     "name": "stdout",
     "output_type": "stream",
     "text": [
      "OUT\tBEGIN\tNL-HaNA_1.04.02_3589_0657.jpg\tExtract uijt de Gehoudene; aantekening door den Op\t[3.540580166827567e-07, 7.948585789563367e-07, 1.080653987628466e-06, 0.9999977350234985]\n",
      "OUT\tIN\tNL-HaNA_1.04.02_3589_0658.jpg\tantwoord als eenvoudig, Ja of en een, mede; te bre\t[3.1707688918913846e-08, 4.676779141732368e-08, 3.8495169718544275e-08, 0.9999998807907104]\n",
      "OUT\tIN\tNL-HaNA_1.04.02_3589_0659.jpg\theen te gaan, dog toen wierd hij nog; meer verleeg\t[2.1973624697579908e-08, 2.621055017471008e-08, 1.7069133662062086e-08, 1.0]\n",
      "OUT\tIN\tNL-HaNA_1.04.02_3589_0660.jpg\tkelijk was, zig over dat geval niet ab„; leen zeer\t[2.0833834213362934e-08, 2.2964036006101196e-08, 1.3653548514014346e-08, 1.0]\n",
      "OUT\tIN\tNL-HaNA_1.04.02_3589_0661.jpg\tden 30 jJanuorij Donderdag zond lij de ordinarie A\t[1.9909114357119506e-08, 2.138859223066447e-08, 1.2205696009459643e-08, 1.0]\n",
      "OUT\tIN\tNL-HaNA_1.04.02_3589_0662.jpg\tkelijk was, tig over dat geval niet; leen zeer ge-\t[2.083423034093812e-08, 2.1959172258334547e-08, 1.2347946665158815e-08, 1.0]\n",
      "OUT\tIN\tNL-HaNA_1.04.02_3589_0663.jpg\tden 30 januorij Donderdag zond lij de ordinare Age\t[2.010633259885708e-08, 2.1134448857651478e-08, 1.1748316097737188e-08, 1.0]\n",
      "OUT\tIN\tNL-HaNA_1.04.02_3589_0664.jpg\tonverkogt bleef legge, doordien de; Paleatcherijse\t[2.108975216685849e-08, 2.1928407534232974e-08, 1.2150714212566527e-08, 1.0]\n",
      "OUT\tIN\tNL-HaNA_1.04.02_3589_0665.jpg\touden gang hebben gegaan; hoe zij„; ho:t 't zedert\t[2.1181222109589726e-08, 2.1923598936268718e-08, 1.209445876781956e-08, 1.0]\n",
      "OUT\tIN\tNL-HaNA_1.04.02_3589_0666.jpg\timmers zelfs kon verbieden om in onze; pagterijen \t[2.1560991214641945e-08, 2.2183423098454114e-08, 1.2198642984628805e-08, 1.0]\n",
      "OUT\tIN\tNL-HaNA_1.04.02_3589_0667.jpg\tkopen, en zulks hadde willen beletten, door; „hun;\t[2.146960298432532e-08, 2.2023472823207157e-08, 1.2058479548215928e-08, 1.0]\n",
      "OUT\tIN\tNL-HaNA_1.04.02_3589_0668.jpg\tcasche wijse tabak op de eene of andere; wijze zel\t[2.154800071707541e-08, 2.200625637271969e-08, 1.1997775217764683e-08, 1.0]\n",
      "OUT\tIN\tNL-HaNA_1.04.02_3589_0669.jpg\topzigt voor zig gehoopt en verwagt had,; bij zijn \t[2.1652152071283126e-08, 2.1975637309878948e-08, 1.1916130304712169e-08, 1.0]\n",
      "OUT\tIN\tNL-HaNA_1.04.02_3589_0670.jpg\toneenigheijd afschildende, even eens als; of zijn \t[2.1448318676675626e-08, 2.15706599249188e-08, 1.1586401171825855e-08, 1.0]\n",
      "OUT\tIN\tNL-HaNA_1.04.02_3589_0671.jpg\tden 20 februarij Dingsdag liet zijn wel Ed: Agtb: \t[2.4361586525856183e-08, 2.3603323739962434e-08, 1.2461395471063952e-08, 1.0]\n",
      "OUT\tIN\tNL-HaNA_1.04.02_3589_0672.jpg\tgens aan zijne zijde, het geval omtrend; zo eenen \t[4.909652773221751e-08, 4.087789307050116e-08, 2.0321815341617366e-08, 0.9999998807907104]\n",
      "OUT\tEND\tNL-HaNA_1.04.02_3589_0673.jpg\ten borg te dragen, dat hij zo inden verkoop; van z\t[8.464201641800173e-07, 4.362639742794272e-07, 1.7184181899665418e-07, 0.9999984502792358]\n"
     ]
    },
    {
     "name": "stderr",
     "output_type": "stream",
     "text": [
      "Evaluating:  84%|████████▍ | 48/57 [00:18<00:03,  2.39batch/s]"
     ]
    },
    {
     "name": "stdout",
     "output_type": "stream",
     "text": [
      "OUT\tBEGIN\tNL-HaNA_1.04.02_3095_0015.jpg\tRegister der Papieren; werdende versonden per het \t[2.788499386952026e-07, 6.131853069746285e-07, 7.978848657330673e-07, 0.9999983310699463]\n",
      "OUT\tIN\tNL-HaNA_1.04.02_3095_0016.jpg\t4.; orig: in genaagt, a:o p„o; d'Edele Groot Agtba\t[3.01805300750857e-08, 4.374280138108588e-08, 3.50110269664583e-08, 0.9999998807907104]\n",
      "OUT\tIN\tNL-HaNA_1.04.02_3095_0017.jpg\tN:o 7. Copia Generale Resolutien des Casteels; Bat\t[2.0492963770379902e-08, 2.449946912008727e-08, 1.574817432015152e-08, 1.0]\n",
      "OUT\tIN\tNL-HaNA_1.04.02_3095_0018.jpg\tCommissien, Memorien,; Jnstructien en z:, welke; v\t[1.9514843074830424e-08, 2.1759959167866327e-08, 1.2917356961850146e-08, 1.0]\n",
      "OUT\tIN\tNL-HaNA_1.04.02_3095_0019.jpg\tNo 14. Thien. Gesloten Pacquetten, houdende; de ad\t[1.9667673711865064e-08, 2.1342788869560536e-08, 1.2293638995686251e-08, 1.0]\n",
      "OUT\tIN\tNL-HaNA_1.04.02_3095_0020.jpg\tCommissien, Memorien; Jnstructien en z:, weg; van \t[1.9563289654911387e-08, 2.1011418382954616e-08, 1.1934304211536073e-08, 1.0]\n",
      "OUT\tIN\tNL-HaNA_1.04.02_3095_0021.jpg\tden Raad ten evengemelde; Gouvernemente aan als; v\t[1.9792990357814233e-08, 2.1105847736180294e-08, 1.191008536238769e-08, 1.0]\n",
      "OUT\tIN\tNL-HaNA_1.04.02_3095_0022.jpg\tBengale zyn vertrokken; zynde dit paquet gelegt; i\t[1.9452038202416588e-08, 2.070192728353959e-08, 1.1617314221723518e-08, 1.0]\n",
      "OUT\tIN\tNL-HaNA_1.04.02_3095_0023.jpg\tGouverneur van Malacca; Mr. Thomas Schippers; als \t[1.9737383283313648e-08, 2.0905124742398584e-08, 1.1695462376337673e-08, 1.0]\n",
      "OUT\tIN\tNL-HaNA_1.04.02_3095_0024.jpg\tdit berigt nog niet; ingekomen zijnde; zal bij nad\t[1.978725094886613e-08, 2.0889460827788753e-08, 1.1646712039237173e-08, 1.0]\n",
      "OUT\tIN\tNL-HaNA_1.04.02_3095_0025.jpg\tN:o 22. Copia Berigt vande Administra„; teurs inde\t[1.986458464386942e-08, 2.0901179453858276e-08, 1.1614900152778773e-08, 1.0]\n",
      "OUT\tIN\tNL-HaNA_1.04.02_3095_0026.jpg\tde met verscheide scheepen; aangebragte Manufactuu\t[1.9995729516608662e-08, 2.0963062397072463e-08, 1.161233065261058e-08, 1.0]\n",
      "OUT\tIN\tNL-HaNA_1.04.02_3095_0027.jpg\ten 1769. van Cochim overge; sonden, waarbij densel\t[2.005852905995198e-08, 2.0960662538982433e-08, 1.1571956726186272e-08, 1.0]\n",
      "OUT\tIN\tNL-HaNA_1.04.02_3095_0028.jpg\tN:o 28 Drie Copia Berigten van eevengem:; E: Honti\t[2.0053747107340314e-08, 2.089607598065868e-08, 1.1496235075014738e-08, 1.0]\n",
      "OUT\tIN\tNL-HaNA_1.04.02_3095_0029.jpg\tN:o 30 Copia Request door den advocaat M:r Jacob; \t[2.0121333932365815e-08, 2.0899664221474268e-08, 1.14615765767212e-08, 1.0]\n",
      "OUT\tIN\tNL-HaNA_1.04.02_3095_0030.jpg\tsComp:s wapenkamer Reisich; en Expresse gecommitte\t[2.0273073886301063e-08, 2.0978939474503022e-08, 1.1471199101720231e-08, 1.0]\n",
      "OUT\tIN\tNL-HaNA_1.04.02_3095_0031.jpg\tN:o 35. Een Exomplaar van het Generaal Re„; 1 glem\t[2.036744994882156e-08, 2.0998236038849427e-08, 1.1444863723397702e-08, 1.0]\n",
      "OUT\tIN\tNL-HaNA_1.04.02_3095_0032.jpg\tN:o 38. Tes origineele; Actens van Indem; & niteil\t[2.0598694305817844e-08, 2.112368946427523e-08, 1.1475247418957224e-08, 1.0]\n",
      "OUT\tIN\tNL-HaNA_1.04.02_3095_0033.jpg\tN:o 40. Vier Turksche Passen vande afgelegde en; v\t[2.0644003839720426e-08, 2.1034113117934794e-08, 1.1371621866373971e-08, 1.0]\n",
      "OUT\tIN\tNL-HaNA_1.04.02_3095_0034.jpg\tGeneraalen Eisch van behoeftens uijt; No 44; Neder\t[2.1273168115953922e-08, 2.1378273373784396e-08, 1.1477545136528988e-08, 1.0]\n",
      "OUT\tIN\tNL-HaNA_1.04.02_3095_0035.jpg\tN:o 49 Generaal Rendement vande verkogte; 1 onbesc\t[2.4039035650957885e-08, 2.3294811413165917e-08, 1.2306589525223899e-08, 1.0]\n",
      "OUT\tIN\tNL-HaNA_1.04.02_3095_0036.jpg\tN: 53. Maandelyksche Restanten inde; groote geldka\t[4.4594912651518825e-08, 3.756335686944112e-08, 1.873290500498115e-08, 0.9999998807907104]\n",
      "OUT\tEND\tNL-HaNA_1.04.02_3095_0037.jpg\tN:o 57: Sommarium van het geladene in tien; Retoúr\t[8.186545414901047e-07, 4.243800049152924e-07, 1.6767538113526825e-07, 0.9999985694885254]\n",
      "OUT\tBEGIN\tNL-HaNA_1.04.02_1432_1553.jpg\tvan d' Eel Ed=le Heeren d' Respective; heeren Bewi\t[5.50997185655433e-08, 1.0151801888014234e-07, 9.823861546465196e-08, 0.9999997615814209]\n",
      "OUT\tIN\tNL-HaNA_1.04.02_1432_1554.jpg\tdeductie der Complotterie quam te bemelk; deselve \t[1.1932642429712814e-08, 1.630283463782689e-08, 1.0822106766283923e-08, 1.0]\n",
      "OUT\tIN\tNL-HaNA_1.04.02_1432_1555.jpg\toff tot verantwoording vant gene ik van; ter sijde\t[1.4655665125928863e-08, 1.523956782989444e-08, 7.796164602780209e-09, 1.0]\n",
      "OUT\tEND\tNL-HaNA_1.04.02_1432_1556.jpg\tniet te importimeeren, desen eijndige; ende, naar \t[1.0617407042445848e-07, 7.812793256789519e-08, 3.5406838350127146e-08, 0.9999997615814209]\n",
      "OUT\tBEGIN\tNL-HaNA_1.04.02_1557_0486.jpg\tVan Joncquin onder dato 11=en November A:o 1694.; \t[7.793148171231223e-08, 1.309420269990369e-07, 1.1595533067065844e-07, 0.9999996423721313]\n",
      "OUT\tEND\tNL-HaNA_1.04.02_1557_0487.jpg\tVan Toncquim onder dato 14=en November A:o 1694.; \t[1.345108131545203e-07, 1.1178764935948493e-07, 5.393092195049576e-08, 0.9999996423721313]\n"
     ]
    },
    {
     "name": "stderr",
     "output_type": "stream",
     "text": [
      "Evaluating:  89%|████████▉ | 51/57 [00:18<00:01,  4.72batch/s]"
     ]
    },
    {
     "name": "stdout",
     "output_type": "stream",
     "text": [
      "OUT\tBEGIN\tNL-HaNA_1.04.02_1557_0815.jpg\tVan Malacca Den 25=en September A:o 1694; Register\t[5.68325120298141e-08, 9.818148072326949e-08, 9.369185960395043e-08, 0.9999997615814209]\n",
      "OUT\tIN\tNL-HaNA_1.04.02_1557_0816.jpg\tVan Malacca Den 25=en September A=o 1694.; N=o 5. \t[1.7438857469187496e-08, 2.0185218829738005e-08, 1.2011720507132395e-08, 1.0]\n",
      "OUT\tEND\tNL-HaNA_1.04.02_1557_0817.jpg\tVan Malacca Den 25=en September 1694; ons Jongste \t[1.0962779839474024e-07, 8.332362710916641e-08, 3.728553465975892e-08, 0.9999997615814209]\n",
      "OUT\tBEGIN\tNL-HaNA_1.04.02_3577_0656.jpg\tAdmiraal; Donoa of; Nissanive; _=o; fo; Groot Hati\t[7.774975330221423e-08, 1.3114997443608445e-07, 1.1681207467972854e-07, 0.9999996423721313]\n",
      "OUT\tEND\tNL-HaNA_1.04.02_3577_0657.jpg\tgij Oioor van het Jaar 17eg; dan welEd: ben den da\t[1.3436425660984241e-07, 1.1179553638385187e-07, 5.4039865915456176e-08, 0.9999996423721313]\n",
      "OUT\tBEGIN\tNL-HaNA_1.04.02_1557_0227.jpg\tVan Palembang onder dato 28=en Iulij A=o 1694.; di\t[5.562345961607207e-08, 9.576945814160354e-08, 9.853981453034066e-08, 0.9999997615814209]\n",
      "OUT\tIN\tNL-HaNA_1.04.02_1557_0228.jpg\tVan Palembang onder dato 28=en Julij A=o 1694.; uE\t[1.126719162414247e-08, 1.628971801892476e-08, 1.0296159480560618e-08, 1.0]\n",
      "OUT\tIN\tNL-HaNA_1.04.02_1557_0229.jpg\tVan Palembang onder dato 18„en Julij A=o 1694.; Pa\t[9.095535880021544e-09, 1.0909336545239512e-08, 6.726138757073841e-09, 1.0]\n",
      "OUT\tIN\tNL-HaNA_1.04.02_1557_0230.jpg\tVan Palembang onder dato 28=en Iulij A:o 1699; maa\t[1.0012421114424797e-08, 1.069686206278675e-08, 5.964440941141902e-09, 1.0]\n",
      "OUT\tIN\tNL-HaNA_1.04.02_1557_0231.jpg\tVan Palembang onder dato 28=en Iulij A=o 1694; beh\t[1.0166622210761034e-08, 1.0310780673705722e-08, 6.0235012533382815e-09, 1.0]\n",
      "OUT\tIN\tNL-HaNA_1.04.02_1557_0232.jpg\tVan Palembang onder dato 28=en Iulij A:o 1694.; wa\t[1.4454644592376553e-08, 1.3998036507700817e-08, 7.079194563885949e-09, 1.0]\n",
      "OUT\tEND\tNL-HaNA_1.04.02_1557_0233.jpg\tVan Palembang onder dato 28=en Iulij A:o 1694.; we\t[1.0736744116002228e-07, 7.820516856327231e-08, 3.4719224828450024e-08, 0.9999997615814209]\n"
     ]
    },
    {
     "name": "stderr",
     "output_type": "stream",
     "text": [
      "Evaluating:  93%|█████████▎| 53/57 [00:19<00:00,  5.44batch/s]"
     ]
    },
    {
     "name": "stdout",
     "output_type": "stream",
     "text": [
      "OUT\tBEGIN\tNL-HaNA_1.04.02_1147_0807.jpg\tInden Name Godes Amen, Cout ende; kennelijck zij e\t[5.663880742190486e-08, 9.833441083628713e-08, 9.427570546449715e-08, 0.9999997615814209]\n",
      "OUT\tIN\tNL-HaNA_1.04.02_1147_0808.jpg\tmetten anderen tot zijnder gedachtenisse sullen; v\t[1.732576748736392e-08, 2.026460776960448e-08, 1.212920341941981e-08, 1.0]\n",
      "OUT\tEND\tNL-HaNA_1.04.02_1147_0809.jpg\td' h:ren weesmeesteren, als oock andere magistrate\t[1.0927457338993918e-07, 8.351248936833144e-08, 3.7460250013054974e-08, 0.9999997615814209]\n"
     ]
    },
    {
     "name": "stderr",
     "output_type": "stream",
     "text": [
      "Evaluating:  96%|█████████▋| 55/57 [00:19<00:00,  5.55batch/s]"
     ]
    },
    {
     "name": "stdout",
     "output_type": "stream",
     "text": [
      "OUT\tBEGIN\tNL-HaNA_1.04.02_1557_0221.jpg\tVan Palembang onder dato 28=en Iulij A:o 1694.; mo\t[5.6020706296067146e-08, 9.86056178930994e-08, 1.206326771807653e-07, 0.9999997615814209]\n",
      "OUT\tIN\tNL-HaNA_1.04.02_1557_0222.jpg\tVan Palembang onder dato 28=en Iulij ao 1698.; ove\t[1.1020891754753848e-08, 1.6889622145299654e-08, 1.181945297190623e-08, 1.0]\n",
      "OUT\tIN\tNL-HaNA_1.04.02_1557_0223.jpg\tVan Palembang onder dato 28=en Iulij A=o 1694.; re\t[8.888533464812554e-09, 1.154821038795717e-08, 7.28675519923172e-09, 1.0]\n",
      "OUT\tIN\tNL-HaNA_1.04.02_1557_0224.jpg\tVan Palembang onder dato 28=en Julij A=o 1694.; ge\t[9.675612311355053e-09, 1.1001801247800813e-08, 6.311431377525878e-09, 1.0]\n",
      "OUT\tIN\tNL-HaNA_1.04.02_1557_0225.jpg\tVan Palembang den 28=en; Julij A=o 1694; versoek o\t[1.0093375024666784e-08, 1.0528792948605314e-08, 6.250811868113715e-09, 1.0]\n",
      "OUT\tIN\tNL-HaNA_1.04.02_1557_0226.jpg\tVan Palembang onder dato 28=en Iulij A:o 1699.; de\t[1.4493211963895192e-08, 1.4006209525518898e-08, 7.08600289556216e-09, 1.0]\n",
      "OUT\tEND\tNL-HaNA_1.04.02_1557_0227.jpg\tVan Palembang onder dato 28=en Iulij A=o 1694.; di\t[1.0889236534694646e-07, 7.893181930285209e-08, 3.459581066067585e-08, 0.9999997615814209]\n",
      "OUT\tBEGIN\tNL-HaNA_1.04.02_1557_0664.jpg\tVan Malacca onder dato 11:en Februarij A:o 1694.; \t[7.778594124374649e-08, 1.3103696971938916e-07, 1.1636853969321237e-07, 0.9999996423721313]\n",
      "OUT\tEND\tNL-HaNA_1.04.02_1557_0664.jpg\tVan Malacca onder dato 11:en Februarij A:o 1694.; \t[1.3440232748962444e-07, 1.1182944348320234e-07, 5.401059866017022e-08, 0.9999996423721313]\n"
     ]
    },
    {
     "name": "stderr",
     "output_type": "stream",
     "text": [
      "Evaluating: 100%|██████████| 57/57 [00:27<00:00,  2.06batch/s]"
     ]
    },
    {
     "name": "stdout",
     "output_type": "stream",
     "text": [
      "OUT\tOUT\tNL-HaNA_1.04.02_1547_0489.jpg\t\t[3.6810865822189953e-07, 8.309551162710704e-07, 1.1451136288087582e-06, 0.999997615814209]\n",
      "OUT\tOUT\tNL-HaNA_1.04.02_1547_0490.jpg\t\t[3.451520314001755e-08, 5.1552522251085975e-08, 4.397015729296072e-08, 0.9999998807907104]\n",
      "OUT\tOUT\tNL-HaNA_1.04.02_1547_0491.jpg\tGenerale Monster Rolle van Alle; des EComp. s zoon\t[2.166946266868308e-08, 2.6385757578850644e-08, 1.7646607730625874e-08, 1.0]\n",
      "OUT\tOUT\tNL-HaNA_1.04.02_1547_0492.jpg\t\t[2.0537376244078587e-08, 2.3109695490575177e-08, 1.4110515422771641e-08, 1.0]\n",
      "OUT\tOUT\tNL-HaNA_1.04.02_1547_0493.jpg\t\t[2.044451363758526e-08, 2.2344833539023057e-08, 1.3156687295179381e-08, 1.0]\n",
      "OUT\tOUT\tNL-HaNA_1.04.02_1547_0494.jpg\t\t[2.0476749185149856e-08, 2.2118527454040304e-08, 1.2821038453125766e-08, 1.0]\n",
      "OUT\tBEGIN\tNL-HaNA_1.04.02_1547_0495.jpg\t\t[2.048331282367144e-08, 2.2013182388036512e-08, 1.266985627523809e-08, 1.0]\n",
      "OUT\tIN\tNL-HaNA_1.04.02_1547_0496.jpg\t1729„ Persoonen soo van de Commersie Militie als a\t[2.0028060987442586e-08, 2.153707079344258e-08, 1.234156687957011e-08, 1.0]\n",
      "OUT\tIN\tNL-HaNA_1.04.02_1547_0497.jpg\tGenerale Monster Rolle van alle des E: Comp„s hoog\t[1.9996912570263703e-08, 2.1483447909531606e-08, 1.2292490580989579e-08, 1.0]\n",
      "OUT\tIN\tNL-HaNA_1.04.02_1547_0498.jpg\t20: – Persoonen P„r Transport; Namen Toenaem en wa\t[1.9921499117003805e-08, 2.139952748336782e-08, 1.2234083968110099e-08, 1.0]\n",
      "OUT\tIN\tNL-HaNA_1.04.02_1547_0499.jpg\td' presente qualitijt winnende.  't schip waermeed\t[2.0188453575542553e-08, 2.163774226460191e-08, 1.2372937341353918e-08, 1.0]\n",
      "OUT\tIN\tNL-HaNA_1.04.02_1547_0500.jpg\t48: - Persoonen P„r Transport; Namen Toenaem en ge\t[2.0063005479187268e-08, 2.1513093528824356e-08, 1.2294224305264834e-08, 1.0]\n",
      "OUT\tIN\tNL-HaNA_1.04.02_1547_0501.jpg\t. . . . . ƒ60. vrije Zee. . . . . . . . 1670. delf\t[2.008912147744013e-08, 2.153210232336278e-08, 1.2303350338527252e-08, 1.0]\n",
      "OUT\tIN\tNL-HaNA_1.04.02_1547_0502.jpg\t77:- Persoonen P„r Transport; Namen Toenaem en geb\t[1.9956143404442628e-08, 2.1404998662433172e-08, 1.2225266132759316e-08, 1.0]\n",
      "OUT\tIN\tNL-HaNA_1.04.02_1547_0503.jpg\tpresente qualiteijt en winnende):'t schip waer med\t[1.9978994458824673e-08, 2.1424073182174652e-08, 1.2235671142946103e-08, 1.0]\n",
      "OUT\tIN\tNL-HaNA_1.04.02_1547_0504.jpg\t94:— Persoonen P„r Transport; Namen Toenaem en wae\t[1.9754708091568318e-08, 2.1214535905755838e-08, 1.2109231839474432e-08, 1.0]\n",
      "OUT\tIN\tNL-HaNA_1.04.02_1547_0505.jpg\tdaen, sd: presente qualiteijt winnende. ) 't schip\t[1.973595331605793e-08, 2.1198195199190195e-08, 1.2100042745544215e-08, 1.0]\n",
      "OUT\tIN\tNL-HaNA_1.04.02_1547_0506.jpg\t115. Persoonen P„r Transport; Naemen Toenaem en ge\t[1.969567797743821e-08, 2.116183850375819e-08, 1.2078759326072941e-08, 1.0]\n",
      "OUT\tIN\tNL-HaNA_1.04.02_1547_0507.jpg\tte Plaats : presente qualiteijt en winnende 7't sc\t[1.9867350431468367e-08, 2.1322119181377275e-08, 1.217537537456792e-08, 1.0]\n",
      "OUT\tIN\tNL-HaNA_1.04.02_1547_0508.jpg\t142. Persoonen P„r Transport; Naemen Toenaem en ge\t[1.9650499893941742e-08, 2.112010299981648e-08, 1.2054363729419038e-08, 1.0]\n",
      "OUT\tIN\tNL-HaNA_1.04.02_1547_0509.jpg\tpresente qualiteijt winnende. 't schip waer mede i\t[1.9774613946310637e-08, 2.123789677455079e-08, 1.2126681880886281e-08, 1.0]\n",
      "OUT\tIN\tNL-HaNA_1.04.02_1547_0510.jpg\tabraham gerritsz. van amsterdam. . . . . . . . . .\t[1.993685394552358e-08, 2.138859223066447e-08, 1.2217528322366888e-08, 1.0]\n",
      "OUT\tIN\tNL-HaNA_1.04.02_1547_0511.jpg\td presente qualiteijt en winnende 't schip waermed\t[2.0170594083879223e-08, 2.160285639263293e-08, 1.2345521049894614e-08, 1.0]\n",
      "OUT\tIN\tNL-HaNA_1.04.02_1547_0512.jpg\t193: Persoonen P„r Transport; Naemen Toenaem en ge\t[1.992412101969876e-08, 2.1371588942997732e-08, 1.2205672028642311e-08, 1.0]\n",
      "OUT\tIN\tNL-HaNA_1.04.02_1547_0513.jpg\trte stans d: presente qualiteijt en winnenden, 't \t[2.017721278946283e-08, 2.160528822514607e-08, 1.2345969579996563e-08, 1.0]\n",
      "OUT\tIN\tNL-HaNA_1.04.02_1547_0514.jpg\t221: Persoonen P„r Transport; abraham mesoeter van\t[1.991781140020521e-08, 2.136274446229436e-08, 1.2199620869068895e-08, 1.0]\n",
      "OUT\tIN\tNL-HaNA_1.04.02_1547_0515.jpg\td' presente qualiteijt, en winnenden 't schip waer\t[2.0182639559607196e-08, 2.160747136770169e-08, 1.2346298206011852e-08, 1.0]\n",
      "OUT\tIN\tNL-HaNA_1.04.02_1547_0516.jpg\t253: Persoonen P„r Transport; Naemen Toenaem en ge\t[1.9965014530498593e-08, 2.1403488759119682e-08, 1.2222725054300554e-08, 1.0]\n",
      "OUT\tIN\tNL-HaNA_1.04.02_1547_0517.jpg\tpresente qualiteijt, en winnende 't schip waer med\t[2.0039028214569043e-08, 2.1471567634989697e-08, 1.2263170034998438e-08, 1.0]\n",
      "OUT\tIN\tNL-HaNA_1.04.02_1547_0518.jpg\t290: Persoonen P„r Transport; Namen Toenaem en wae\t[1.986052922120507e-08, 2.1305206487909345e-08, 1.2162956863903673e-08, 1.0]\n",
      "OUT\tIN\tNL-HaNA_1.04.02_1547_0519.jpg\td:' presente qualiteijt, en winnende) 't schip wae\t[1.9897042236038942e-08, 2.1339653599738995e-08, 1.2183784647845641e-08, 1.0]\n",
      "OUT\tIN\tNL-HaNA_1.04.02_1547_0520.jpg\t327: Persoonen P„r Transport; Naemen Toenaem en wa\t[1.9948531715385798e-08, 2.1386714621485226e-08, 1.2211400779449377e-08, 1.0]\n",
      "OUT\tIN\tNL-HaNA_1.04.02_1547_0521.jpg\tvan daer sde presente qualiteijt, en winnende) 't \t[2.000252052880569e-08, 2.1435109687217846e-08, 1.2239429025839854e-08, 1.0]\n",
      "OUT\tIN\tNL-HaNA_1.04.02_1547_0522.jpg\t369: Persoonen P„r Transport; Namen Toenaem en wae\t[1.967082496889816e-08, 2.112626873440604e-08, 1.2053444464754648e-08, 1.0]\n",
      "OUT\tIN\tNL-HaNA_1.04.02_1547_0523.jpg\tpresente qualiteyt en winnende/ 't schip waer mede\t[1.997769771833191e-08, 2.141234922703461e-08, 1.2225476631044785e-08, 1.0]\n",
      "OUT\tIN\tNL-HaNA_1.04.02_1547_0524.jpg\t400: Persoonen P„r Transport.; Namen Toenarm en wa\t[1.9618854096847826e-08, 2.107760721514751e-08, 1.2024051976311512e-08, 1.0]\n",
      "OUT\tIN\tNL-HaNA_1.04.02_1547_0525.jpg\td presente qualiteijt, en winnendejk 't schip waer\t[1.983683084461063e-08, 2.1282218654050666e-08, 1.2147355121783221e-08, 1.0]\n",
      "OUT\tIN\tNL-HaNA_1.04.02_1547_0526.jpg\t421: Persoonen P„r Transport; Naemen Toenaem en wa\t[1.983641517711021e-08, 2.128063592010676e-08, 1.2145292771492677e-08, 1.0]\n",
      "OUT\tIN\tNL-HaNA_1.04.02_1547_0527.jpg\taen d:' presente qualiteijt, en winnende) 't schip\t[1.9792461003476092e-08, 2.1238829361891476e-08, 1.2119213188555022e-08, 1.0]\n",
      "OUT\tIN\tNL-HaNA_1.04.02_1547_0528.jpg\t447: Persoonen P„r Transport; Namen Toenaem en wae\t[1.9564334152732954e-08, 2.10265707067947e-08, 1.1991918569265181e-08, 1.0]\n",
      "OUT\tIN\tNL-HaNA_1.04.02_1547_0529.jpg\tmaandgelden; . . . . . . . . zoldaet en handgranad\t[1.9589277755471812e-08, 2.1052414922451135e-08, 1.2008284144826575e-08, 1.0]\n",
      "OUT\tIN\tNL-HaNA_1.04.02_1547_0530.jpg\t486: Persoonen P„r Transport; Namen Toenaem en wae\t[1.972011176576416e-08, 2.117540454094069e-08, 1.208187061507715e-08, 1.0]\n",
      "OUT\tIN\tNL-HaNA_1.04.02_1547_0531.jpg\tmaand gelden. . . . . . . . . . . 3 land gecomen, \t[1.947282690650809e-08, 2.0944517231669124e-08, 1.1943185107554655e-08, 1.0]\n",
      "OUT\tIN\tNL-HaNA_1.04.02_1547_0532.jpg\t529: Persoonen P„r Transport; Namen Toenaem en wae\t[1.9396873440769014e-08, 2.0876395723234964e-08, 1.1904113250693626e-08, 1.0]\n",
      "OUT\tIN\tNL-HaNA_1.04.02_1547_0533.jpg\tpresente qualiteijt en winnende. ) 't schip waer m\t[1.9422749630848557e-08, 2.0905204678456357e-08, 1.1924565335164061e-08, 1.0]\n",
      "OUT\tIN\tNL-HaNA_1.04.02_1547_0534.jpg\t556: Persoonen P„r Transport; Namen Toenaem en wae\t[1.990581210975506e-08, 2.1358426138817777e-08, 1.2198015042486077e-08, 1.0]\n",
      "OUT\tIN\tNL-HaNA_1.04.02_1547_0535.jpg\t. . . . . . . . . zargiant; daer sd presente quali\t[2.0056118543720913e-08, 2.1495006663485583e-08, 1.2278290384415413e-08, 1.0]\n",
      "OUT\tIN\tNL-HaNA_1.04.02_1547_0536.jpg\t589: Persoonen P„r Transport; Namen Toenaem en wae\t[1.989097242471871e-08, 2.133936938264469e-08, 1.2183691389111573e-08, 1.0]\n",
      "OUT\tIN\tNL-HaNA_1.04.02_1547_0537.jpg\td presente qualiteijt, en winnende, 't schip waer \t[1.987678643899926e-08, 2.1326346910655047e-08, 1.2176141872544122e-08, 1.0]\n",
      "OUT\tIN\tNL-HaNA_1.04.02_1547_0538.jpg\t619. Persoonen P„r Transport; Namen Toenaem en wae\t[1.9838646281300498e-08, 2.1291313601068396e-08, 1.215576794777462e-08, 1.0]\n",
      "OUT\tIN\tNL-HaNA_1.04.02_1547_0539.jpg\tcorporael - . . . . . . . . . . . . . . . . 16. ma\t[1.983126907134647e-08, 2.1285304185880705e-08, 1.2152916895047383e-08, 1.0]\n",
      "OUT\tIN\tNL-HaNA_1.04.02_1547_0540.jpg\t637: Persoonen P„r Transport; Namen Toenaem en wae\t[1.9938756423698578e-08, 2.1385533344187024e-08, 1.221349688051987e-08, 1.0]\n",
      "OUT\tIN\tNL-HaNA_1.04.02_1547_0541.jpg\td' presente qualiteijt, en winnenden 't schip waer\t[2.0021223789967735e-08, 2.146104627342993e-08, 1.2258563053535454e-08, 1.0]\n",
      "OUT\tIN\tNL-HaNA_1.04.02_1547_0542.jpg\t660: Persoonen P„r Transport; Namen Toenaem en wae\t[1.9903191983416946e-08, 2.135068655206851e-08, 1.219199052826525e-08, 1.0]\n",
      "OUT\tIN\tNL-HaNA_1.04.02_1547_0543.jpg\t. . . 16. d.' leck. . . . . . . . . 1687. _o; . . \t[2.0033064984659177e-08, 2.147111644035249e-08, 1.226440993207234e-08, 1.0]\n",
      "OUT\tIN\tNL-HaNA_1.04.02_1547_0544.jpg\t693: Persoonen P„r Transport; op 't vaartuijgh de \t[1.9907481885184097e-08, 2.1353905310661503e-08, 1.219371181804263e-08, 1.0]\n",
      "OUT\tIN\tNL-HaNA_1.04.02_1547_0545.jpg\td' presente qualiteijt, en winnende) 't schip waer\t[2.007307386975299e-08, 2.1507350567162575e-08, 1.2285622297270038e-08, 1.0]\n",
      "OUT\tIN\tNL-HaNA_1.04.02_1547_0546.jpg\t720: Persoonen P„r Transport; Naemen Toenaem en wa\t[1.9905090908878265e-08, 2.1350604839653897e-08, 1.2190967346725756e-08, 1.0]\n",
      "OUT\tIN\tNL-HaNA_1.04.02_1547_0547.jpg\t. groff smith. . . . . . . . . . . . . . ƒ 20. Een\t[1.9852423704946887e-08, 2.130276754996885e-08, 1.2162795215431288e-08, 1.0]\n",
      "OUT\tIN\tNL-HaNA_1.04.02_1547_0548.jpg\t751: Persoonen P„r Transport; Naemen Toenaem, en g\t[1.9804508255560904e-08, 2.1259824123376347e-08, 1.2137627791730665e-08, 1.0]\n",
      "OUT\tIN\tNL-HaNA_1.04.02_1547_0549.jpg\tte slaatsed presente qualiteijt, en winnenbejk t s\t[2.0109363063625096e-08, 2.1542946981867317e-08, 1.2307762808916323e-08, 1.0]\n",
      "OUT\tIN\tNL-HaNA_1.04.02_1547_0550.jpg\t761:– Persoonen P„r Transport; Naemen Toenaem en g\t[1.980922981204003e-08, 2.126318854323017e-08, 1.2139294902624442e-08, 1.0]\n",
      "OUT\tIN\tNL-HaNA_1.04.02_1547_0551.jpg\tmaendgelden. . . . - - - } land gecomen, en 'tjaer\t[1.9884712543216665e-08, 2.133525711656148e-08, 1.2183598130377504e-08, 1.0]\n",
      "OUT\tIN\tNL-HaNA_1.04.02_1547_0552.jpg\t778. Persoonen P„r Transport; Naemen Toenaem en ge\t[2.004105326136596e-08, 2.148029309978483e-08, 1.2270774618627911e-08, 1.0]\n",
      "OUT\tIN\tNL-HaNA_1.04.02_1547_0553.jpg\t. . . . . . . . soldaet. . . . . . . . . . . . . 1\t[2.0082186580339112e-08, 2.1516829207257615e-08, 1.2292185047613202e-08, 1.0]\n",
      "OUT\tIN\tNL-HaNA_1.04.02_1547_0554.jpg\t807. Persoonen P„r Transport; Naemen Toenaem en ge\t[1.9871176704100435e-08, 2.132053111836285e-08, 1.2174121266639304e-08, 1.0]\n",
      "OUT\tIN\tNL-HaNA_1.04.02_1547_0555.jpg\tte staats presente qualiteijt, en winnende 7 't sc\t[2.0182794102652224e-08, 2.1609572797842702e-08, 1.2347899591702571e-08, 1.0]\n",
      "OUT\tIN\tNL-HaNA_1.04.02_1547_0556.jpg\t838. Persoonen P„r Transport; Naemen Toenaemen geb\t[2.0020193503000883e-08, 2.145674748987858e-08, 1.2255056525134478e-08, 1.0]\n",
      "OUT\tIN\tNL-HaNA_1.04.02_1547_0557.jpg\tPlaatsd presente qualiteijt, en winnenden 't schip\t[2.0135040301738627e-08, 2.1562350127624086e-08, 1.2317908471004557e-08, 1.0]\n",
      "OUT\tIN\tNL-HaNA_1.04.02_1547_0558.jpg\tNaemen Toenaem en geboorte Plaats; 861. Persoonen \t[1.991591247474389e-08, 2.1358221857781245e-08, 1.2194990794966998e-08, 1.0]\n",
      "OUT\tIN\tNL-HaNA_1.04.02_1547_0559.jpg\tmaand gelden. . . . . . . . . 'sland gecomen, en t\t[1.994796150484035e-08, 2.1388878224115615e-08, 1.2213753564083163e-08, 1.0]\n",
      "OUT\tIN\tNL-HaNA_1.04.02_1547_0560.jpg\t878. Persoonen P„r Transport; Naemen en Tornaem en\t[2.01462562188226e-08, 2.157172929173612e-08, 1.23229373372169e-08, 1.0]\n",
      "OUT\tIN\tNL-HaNA_1.04.02_1547_0561.jpg\tporte stats presente qualiteijt en winnendejk 't s\t[2.009671007385805e-08, 2.1523314686078265e-08, 1.229239643407709e-08, 1.0]\n",
      "OUT\tIN\tNL-HaNA_1.04.02_1547_0562.jpg\tNamen Toenaem en geboorte Plaats; 898. Persoonen P\t[1.9965280984024503e-08, 2.140018118268472e-08, 1.2217713951656606e-08, 1.0]\n",
      "OUT\tIN\tNL-HaNA_1.04.02_1547_0563.jpg\tpresente qualiteijt en winnende) 't schip waer mee\t[1.9907330894852748e-08, 2.1346531653421152e-08, 1.2185318531976463e-08, 1.0]\n",
      "OUT\tIN\tNL-HaNA_1.04.02_1547_0564.jpg\t915. Persoonen P„r Transport; Namen Toenaem en wae\t[2.0094793384828336e-08, 2.1519413806458942e-08, 1.2288645656610697e-08, 1.0]\n",
      "OUT\tIN\tNL-HaNA_1.04.02_1547_0565.jpg\t'presente qualiteijt en winnende, 't schip waer me\t[1.996627041478405e-08, 2.1397935867639717e-08, 1.2214312228309154e-08, 1.0]\n",
      "OUT\tIN\tNL-HaNA_1.04.02_1547_0566.jpg\t953. Persoonen P„r Transport; Namen Toenaem en geb\t[2.0153020585667036e-08, 2.1568848040942612e-08, 1.2315370945259474e-08, 1.0]\n",
      "OUT\tIN\tNL-HaNA_1.04.02_1547_0567.jpg\tdpresente qualiteijt en winnende 't schip waar mee\t[2.0014617518882005e-08, 2.143731592241238e-08, 1.2234294466395568e-08, 1.0]\n",
      "OUT\tIN\tNL-HaNA_1.04.02_1547_0568.jpg\tBehalven alle des E Comp. hier —; francisco dCroes\t[1.996623311129042e-08, 2.139054977590149e-08, 1.2204531607551417e-08, 1.0]\n",
      "OUT\tIN\tNL-HaNA_1.04.02_1547_0569.jpg\t1004. Persoonen P„r Transport; qualiteijt en wat j\t[1.99211562801338e-08, 2.134677679066499e-08, 1.217665257513545e-08, 1.0]\n",
      "OUT\tIN\tNL-HaNA_1.04.02_1547_0570.jpg\tqualiteijt en winnende e jaer en voor w; manuel de\t[1.9828698682999857e-08, 2.125913489692266e-08, 1.2122680637105532e-08, 1.0]\n",
      "OUT\tIN\tNL-HaNA_1.04.02_1547_0571.jpg\t1110 Persoonen P:r Transport; zoeden; Zoldt. genie\t[1.9733958467327284e-08, 2.1169791253328185e-08, 1.2067798316195422e-08, 1.0]\n",
      "OUT\tIN\tNL-HaNA_1.04.02_1547_0572.jpg\t1135 Persoonen P„r Transport; qualiteijt en smaand\t[2.010683175512895e-08, 2.1512560621772536e-08, 1.2270634286437598e-08, 1.0]\n",
      "OUT\tIN\tNL-HaNA_1.04.02_1547_0573.jpg\t1172 Persoonen P r Transport; Zoldt. ijder; geniet\t[2.0027792757559837e-08, 2.1432533969800716e-08, 1.2218110079231792e-08, 1.0]\n",
      "OUT\tIN\tNL-HaNA_1.04.02_1547_0574.jpg\tqualiteijt en maandel.; belooningh —; 1209 Persoon\t[1.9675965745591384e-08, 2.110117947040635e-08, 1.2015639150320112e-08, 1.0]\n",
      "OUT\tIN\tNL-HaNA_1.04.02_1547_0575.jpg\t1233 Persoonen P. r Transport; 49. gemeene; qualit\t[1.9918951821296105e-08, 2.1323419474583716e-08, 1.2145547678699131e-08, 1.0]\n",
      "OUT\tIN\tNL-HaNA_1.04.02_1547_0576.jpg\t1270 Persoonen P„r Transport; qualiteijt en maande\t[1.961795526028709e-08, 2.103720042612167e-08, 1.1969524038590862e-08, 1.0]\n",
      "OUT\tIN\tNL-HaNA_1.04.02_1547_0577.jpg\t1296 Persoonen Pr Transport; qualiteijt en maendel\t[1.9608192403097746e-08, 2.1023684126930675e-08, 1.1957727252820405e-08, 1.0]\n",
      "OUT\tIN\tNL-HaNA_1.04.02_1547_0578.jpg\t1331. Persoonen P. r Transport; qualiteijten maand\t[1.979374353311414e-08, 2.1189464405324543e-08, 1.2051398101675659e-08, 1.0]\n",
      "OUT\tIN\tNL-HaNA_1.04.02_1547_0579.jpg\t1357. Persoonen P.r Transport; pasquael de brito s\t[2.0050306304142396e-08, 2.1415331730167964e-08, 1.217783651696891e-08, 1.0]\n",
      "OUT\tIN\tNL-HaNA_1.04.02_1547_0580.jpg\t1388. Persoonen P„r Transport; qualiteijt en wat j\t[2.0028441127806218e-08, 2.137953813985405e-08, 1.214531586413159e-08, 1.0]\n",
      "OUT\tIN\tNL-HaNA_1.04.02_1547_0581.jpg\t1425 Persoonen P„r Transport; ten; zold.t sonder; \t[1.9908469539586804e-08, 2.1251917559084177e-08, 1.2056892373379924e-08, 1.0]\n",
      "OUT\tIN\tNL-HaNA_1.04.02_1547_0582.jpg\tqualiteijt en wat jder; 1456. Persoonen P„r Transp\t[1.9789290206517762e-08, 2.112381025654031e-08, 1.1967195234774408e-08, 1.0]\n",
      "OUT\tIN\tNL-HaNA_1.04.02_1547_0583.jpg\tPr; 1482 Persoonen P„r Transport; Simon gousae - -\t[1.979536889962219e-08, 2.1109189063395206e-08, 1.1943252609114552e-08, 1.0]\n",
      "OUT\tIN\tNL-HaNA_1.04.02_1547_0584.jpg\t1510 Persoonen P r. Transport; 6: Toepasse zoldaet\t[1.9714470056442224e-08, 2.100989426878641e-08, 1.1866005955596393e-08, 1.0]\n",
      "OUT\tIN\tNL-HaNA_1.04.02_1547_0585.jpg\t1537 Persoonen P. r Transport; vasten; genieten; .\t[1.9848904742048035e-08, 2.1105806879972988e-08, 1.190200116241158e-08, 1.0]\n",
      "OUT\tIN\tNL-HaNA_1.04.02_1547_0586.jpg\t1561. Persoonen P„r Transport; qualiteijt en winne\t[1.943408811655445e-08, 2.068471971483632e-08, 1.162888718653221e-08, 1.0]\n",
      "OUT\tIN\tNL-HaNA_1.04.02_1547_0587.jpg\t1586 Persoonen P. r Transport; Iacobo. . . . . . .\t[2.0003511735922075e-08, 2.118174613485735e-08, 1.189850618033006e-08, 1.0]\n",
      "OUT\tIN\tNL-HaNA_1.04.02_1547_0588.jpg\t1608 Persoonen P. r Transport; qualiteijt en wat; \t[1.9902774539559687e-08, 2.104683360926174e-08, 1.1788405807067193e-08, 1.0]\n",
      "OUT\tIN\tNL-HaNA_1.04.02_1547_0589.jpg\t1630 Persoonen P r. Transport; 6. in de waght plaa\t[2.00363121649616e-08, 2.1125462268400952e-08, 1.1803434674106938e-08, 1.0]\n",
      "OUT\tIN\tNL-HaNA_1.04.02_1547_0590.jpg\tqualiteijt en maandel.; 1654. Persoonen P„r Transp\t[2.0142300272141256e-08, 2.1174757947051148e-08, 1.179978781351565e-08, 1.0]\n",
      "OUT\tIN\tNL-HaNA_1.04.02_1547_0591.jpg\t1689 Persoonen Pr Transport; 1. Ignatio gonsal - -\t[2.0347997065073287e-08, 2.131170973029839e-08, 1.184628750650063e-08, 1.0]\n",
      "OUT\tIN\tNL-HaNA_1.04.02_1547_0592.jpg\td' persoonen die in en ontrent; d' stadt Cochim zi\t[2.0670638534170394e-08, 2.1549933393316678e-08, 1.1950135103688808e-08, 1.0]\n",
      "OUT\tIN\tNL-HaNA_1.04.02_1547_0593.jpg\tet; Corte Tsamentreckingh der vooren aengehaelde; \t[2.0950349011172875e-08, 2.1744110512145198e-08, 1.2025841655827207e-08, 1.0]\n",
      "OUT\tIN\tNL-HaNA_1.04.02_1547_0594.jpg\t989. 761. 637. 469. Persoonen P. r Transport; 91. \t[2.1041133280164104e-08, 2.176510704998691e-08, 1.1999239823978769e-08, 1.0]\n",
      "OUT\tIN\tNL-HaNA_1.04.02_1547_0595.jpg\t989. 761. 637. Persoonen P. r Transport; 62. zeeva\t[2.0980021275818217e-08, 2.1648929759976454e-08, 1.1892811180302942e-08, 1.0]\n",
      "OUT\tIN\tNL-HaNA_1.04.02_1547_0596.jpg\t989. 761. 712. Persoonen P. r Transport; 40. ambac\t[2.1083074841499183e-08, 2.1676035188988863e-08, 1.1868405813686422e-08, 1.0]\n",
      "OUT\tIN\tNL-HaNA_1.04.02_1547_0597.jpg\t137. Europiaense 'sComp. s dienaren ter fortresse \t[2.1276861161823035e-08, 2.1769007929606232e-08, 1.1875244787518113e-08, 1.0]\n",
      "OUT\tIN\tNL-HaNA_1.04.02_1547_0598.jpg\t989. 898. Persoonen P„r Transport; 91. persoonen E\t[2.1545000450373664e-08, 2.1889043466671865e-08, 1.1879480510401663e-08, 1.0]\n",
      "OUT\tIN\tNL-HaNA_1.04.02_1547_0599.jpg\t1729. 607. 393. 30. Persoonen p. r transport; 45. \t[2.2141826150345878e-08, 2.2195823845549967e-08, 1.1940838540169807e-08, 1.0]\n",
      "OUT\tIN\tNL-HaNA_1.04.02_1547_0600.jpg\t1729. 607. 393. 393. 231. Persoonen p. r Transport\t[2.5266801984002996e-08, 2.4329082748408837e-08, 1.283770245663618e-08, 1.0]\n",
      "OUT\tIN\tNL-HaNA_1.04.02_1547_0601.jpg\t5. Lascorijns tot Compare; 5. d=os - - - „ Trenale\t[5.1324612115877244e-08, 4.2042973547040674e-08, 2.0783069487606554e-08, 0.9999998807907104]\n",
      "OUT\tEND\tNL-HaNA_1.04.02_1547_0602.jpg\t1729. 709. 96. 30. persoonen p:r Transport; 7. Zol\t[1.0877497516048606e-06, 5.35838466930727e-07, 2.077032519309796e-07, 0.9999982118606567]\n",
      "OUT\tBEGIN\tNL-HaNA_1.04.02_1514_0070.jpg\tsoo uijt de moluxe dag=; Registers als andere; Pap\t[5.5130414011728135e-08, 1.0146555240453381e-07, 9.792302080313675e-08, 0.9999997615814209]\n",
      "OUT\tIN\tNL-HaNA_1.04.02_1514_0071.jpg\tte hebben om, schoon al konde naar huijs te; keere\t[1.1955127554585943e-08, 1.6311076933561708e-08, 1.0753546497710431e-08, 1.0]\n",
      "OUT\tIN\tNL-HaNA_1.04.02_1514_0072.jpg\tden op gisteren alhier aangebragten Bouronees; seg\t[1.465801346967055e-08, 1.5237416661761927e-08, 7.7918675955857e-09, 1.0]\n",
      "OUT\tEND\tNL-HaNA_1.04.02_1514_0073.jpg\talwaar zij bij den quimelaha, wala gen=t,; gewoont\t[1.0613256762326273e-07, 7.808131385900197e-08, 3.542953308510732e-08, 0.9999997615814209]\n"
     ]
    },
    {
     "name": "stderr",
     "output_type": "stream",
     "text": [
      "\n"
     ]
    }
   ],
   "source": [
    "import sys\n",
    "\n",
    "precision, recall, f1, accuracy = tagger.eval_(test_data, BATCH_SIZE, sys.stdout)"
   ]
  },
  {
   "cell_type": "code",
   "execution_count": 61,
   "metadata": {},
   "outputs": [
    {
     "name": "stderr",
     "output_type": "stream",
     "text": [
      "WARNING:root:tensor([[0],\n",
      "        [1],\n",
      "        [2]]) classes have zero instances in both the predictions and the ground truth labels. Precision is still logged as zero.\n"
     ]
    },
    {
     "name": "stdout",
     "output_type": "stream",
     "text": [
      "Metric\tBEGIN\tIN\tEND\tOUT\n",
      "MulticlassPrecision\t0.0000\t0.0000\t0.0000\t0.0784\n",
      "MulticlassRecall\t0.0000\t0.0000\t0.0000\t1.0000\n",
      "MulticlassF1Score\t0.0000\t0.0000\t0.0000\t0.1454\n",
      "MulticlassAccuracy (micro average):\t0.0784\n"
     ]
    }
   ],
   "source": [
    "import csv\n",
    "import sys\n",
    "\n",
    "from document_segmentation.pagexml.datamodel.label import Label\n",
    "\n",
    "writer = csv.DictWriter(\n",
    "    sys.stdout, fieldnames=[\"Metric\"] + [label.name for label in Label], delimiter=\"\\t\"\n",
    ")\n",
    "\n",
    "writer.writeheader()\n",
    "\n",
    "for metric in precision, recall, f1:\n",
    "    assert metric.average is None\n",
    "\n",
    "    scores: list[float] = metric.compute().tolist()\n",
    "    writer.writerow(\n",
    "        {\"Metric\": metric.__class__.__name__}\n",
    "        | {label.name: f\"{score:.4f}\" for label, score in zip(Label, scores)}\n",
    "    )\n",
    "\n",
    "assert accuracy.average is not None\n",
    "\n",
    "print(\n",
    "    f\"{accuracy.__class__.__name__} ({accuracy.average} average):\\t{accuracy.compute().item():.4f}\",\n",
    "    file=sys.stdout,\n",
    ")"
   ]
  }
 ],
 "metadata": {
  "kernelspec": {
   "display_name": ".venv",
   "language": "python",
   "name": "python3"
  },
  "language_info": {
   "codemirror_mode": {
    "name": "ipython",
    "version": 3
   },
   "file_extension": ".py",
   "mimetype": "text/x-python",
   "name": "python",
   "nbconvert_exporter": "python",
   "pygments_lexer": "ipython3",
   "version": "3.11.2"
  }
 },
 "nbformat": 4,
 "nbformat_minor": 2
}
