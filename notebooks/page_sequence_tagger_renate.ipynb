{
 "cells": [
  {
   "cell_type": "code",
   "execution_count": 1,
   "metadata": {},
   "outputs": [],
   "source": [
    "%load_ext autoreload\n",
    "%autoreload now"
   ]
  },
  {
   "cell_type": "code",
   "execution_count": 2,
   "metadata": {},
   "outputs": [],
   "source": [
    "import os\n",
    "\n",
    "os.environ[\"CUDA_VISIBLE_DEVICES\"] = \"MIG-08137aa2-e69b-5e74-8390-7997329b1336\"\n",
    "# os.environ[\"WORLD_SIZE\"] = \"1\""
   ]
  },
  {
   "cell_type": "markdown",
   "metadata": {},
   "source": [
    "# Download and convert data"
   ]
  },
  {
   "cell_type": "code",
   "execution_count": 4,
   "metadata": {},
   "outputs": [
    {
     "name": "stderr",
     "output_type": "stream",
     "text": [
      "Writing documents: 100%|██████████| 78/78 [03:15<00:00,  2.51s/doc]\n"
     ]
    }
   ],
   "source": [
    "from tqdm import tqdm\n",
    "\n",
    "from document_segmentation.pagexml.annotations.renate_analysis import RenateAnalysis\n",
    "from document_segmentation.settings import RENATE_ANALYSIS_DIR\n",
    "\n",
    "N = None\n",
    "\n",
    "RENATE_ANALYSIS_DIR.mkdir(parents=True, exist_ok=True)\n",
    "\n",
    "sheet = RenateAnalysis()\n",
    "\n",
    "\n",
    "existing_docs = {\n",
    "    path.stem for path in RENATE_ANALYSIS_DIR.glob(\"Globdoc_*.json\") if path.is_file()\n",
    "}\n",
    "\n",
    "for document in tqdm(\n",
    "    sheet.to_documents(n=N, skip_ids=existing_docs),\n",
    "    total=(N or len(sheet)) - len(existing_docs),\n",
    "    desc=\"Writing documents\",\n",
    "    unit=\"doc\",\n",
    "):\n",
    "    document_file = RENATE_ANALYSIS_DIR / f\"{document.id}.json\"\n",
    "\n",
    "    with document_file.open(\"xt\") as f:\n",
    "        f.write(document.model_dump_json())\n",
    "        f.write(\"\\n\")"
   ]
  },
  {
   "cell_type": "code",
   "execution_count": 5,
   "metadata": {},
   "outputs": [
    {
     "name": "stderr",
     "output_type": "stream",
     "text": [
      "Writing documents:   0%|          | 0/690 [00:00<?, ?doc/s]"
     ]
    },
    {
     "name": "stderr",
     "output_type": "stream",
     "text": [
      "Writing documents:   4%|▍         | 26/690 [00:11<04:46,  2.32doc/s]\n"
     ]
    }
   ],
   "source": [
    "from tqdm import tqdm\n",
    "\n",
    "from document_segmentation.pagexml.annotations.renate_analysis import RenateAnalysisInv\n",
    "from document_segmentation.settings import RENATE_ANALYSIS_DIR, RENATE_ANALYSIS_SHEETS\n",
    "\n",
    "N = None\n",
    "\n",
    "\n",
    "sheet = RenateAnalysisInv(RENATE_ANALYSIS_SHEETS[0])  # TODO: use both sheets\n",
    "\n",
    "existing_docs = {\n",
    "    path.stem\n",
    "    for path in RENATE_ANALYSIS_DIR.glob(\"NL-HaNA_1.04.02_*.json\")\n",
    "    if path.is_file()\n",
    "}\n",
    "\n",
    "for document in tqdm(\n",
    "    sheet.to_documents(n=N, skip_ids=existing_docs),\n",
    "    total=(N or len(sheet)) - len(existing_docs),  # FIXME: len(sheet) is wrong\n",
    "    desc=\"Writing documents\",\n",
    "    unit=\"doc\",\n",
    "):\n",
    "    document_file = RENATE_ANALYSIS_DIR / f\"{document.id}.json\"\n",
    "\n",
    "    with document_file.open(\"xt\") as f:\n",
    "        f.write(document.model_dump_json())\n",
    "        f.write(\"\\n\")"
   ]
  },
  {
   "cell_type": "markdown",
   "metadata": {},
   "source": [
    "# Load Data"
   ]
  },
  {
   "cell_type": "code",
   "execution_count": 6,
   "metadata": {},
   "outputs": [],
   "source": [
    "%autoreload now"
   ]
  },
  {
   "cell_type": "code",
   "execution_count": 7,
   "metadata": {},
   "outputs": [],
   "source": [
    "TRAINING_DATA = 0.8"
   ]
  },
  {
   "cell_type": "code",
   "execution_count": 8,
   "metadata": {},
   "outputs": [
    {
     "name": "stderr",
     "output_type": "stream",
     "text": [
      "Reading JSON files: 100%|██████████| 104/104 [00:01<00:00, 86.56file/s] \n"
     ]
    },
    {
     "data": {
      "text/plain": [
       "2184"
      ]
     },
     "execution_count": 8,
     "metadata": {},
     "output_type": "execute_result"
    }
   ],
   "source": [
    "from document_segmentation.model.dataset import PageDataset\n",
    "from document_segmentation.settings import MIN_REGION_TEXT_LENGTH\n",
    "\n",
    "dataset = PageDataset.from_dir(RENATE_ANALYSIS_DIR).remove_short_regions(\n",
    "    MIN_REGION_TEXT_LENGTH\n",
    ")\n",
    "len(dataset)"
   ]
  },
  {
   "cell_type": "code",
   "execution_count": 9,
   "metadata": {},
   "outputs": [
    {
     "data": {
      "text/plain": [
       "Counter({<Label.IN: 2>: 1907,\n",
       "         <Label.BEGIN: 1>: 104,\n",
       "         <Label.END: 3>: 100,\n",
       "         <Label.OUT: 4>: 73})"
      ]
     },
     "execution_count": 9,
     "metadata": {},
     "output_type": "execute_result"
    }
   ],
   "source": [
    "dataset._class_counts()"
   ]
  },
  {
   "cell_type": "code",
   "execution_count": 10,
   "metadata": {},
   "outputs": [
    {
     "data": {
      "text/plain": [
       "[20.8, 1.1446540880503144, 21.623762376237625, 29.513513513513512]"
      ]
     },
     "execution_count": 10,
     "metadata": {},
     "output_type": "execute_result"
    }
   ],
   "source": [
    "dataset.class_weights()"
   ]
  },
  {
   "cell_type": "code",
   "execution_count": 12,
   "metadata": {},
   "outputs": [
    {
     "data": {
      "text/plain": [
       "Counter({<Label.IN: 2>: 1533,\n",
       "         <Label.BEGIN: 1>: 77,\n",
       "         <Label.END: 3>: 75,\n",
       "         <Label.OUT: 4>: 62})"
      ]
     },
     "execution_count": 12,
     "metadata": {},
     "output_type": "execute_result"
    }
   ],
   "source": [
    "split = int(len(dataset) * TRAINING_DATA)\n",
    "\n",
    "training_data = dataset[:split]\n",
    "training_data._class_counts()"
   ]
  },
  {
   "cell_type": "code",
   "execution_count": 13,
   "metadata": {},
   "outputs": [
    {
     "data": {
      "text/plain": [
       "Counter({<Label.IN: 2>: 374,\n",
       "         <Label.BEGIN: 1>: 27,\n",
       "         <Label.END: 3>: 25,\n",
       "         <Label.OUT: 4>: 11})"
      ]
     },
     "execution_count": 13,
     "metadata": {},
     "output_type": "execute_result"
    }
   ],
   "source": [
    "test_data = dataset[split:]\n",
    "test_data._class_counts()"
   ]
  },
  {
   "cell_type": "markdown",
   "metadata": {},
   "source": [
    "# Train Model"
   ]
  },
  {
   "cell_type": "code",
   "execution_count": 14,
   "metadata": {},
   "outputs": [],
   "source": [
    "import torch\n",
    "\n",
    "BATCH_SIZE = 32\n",
    "EPOCHS = 3\n",
    "WEIGHTS = torch.Tensor(dataset.class_weights())  # For an imbalanced dataset"
   ]
  },
  {
   "cell_type": "code",
   "execution_count": 15,
   "metadata": {},
   "outputs": [],
   "source": [
    "%autoreload now"
   ]
  },
  {
   "cell_type": "code",
   "execution_count": 16,
   "metadata": {},
   "outputs": [],
   "source": [
    "from document_segmentation.model.page_sequence_tagger import PageSequenceTagger\n",
    "\n",
    "tagger = PageSequenceTagger()"
   ]
  },
  {
   "cell_type": "code",
   "execution_count": 17,
   "metadata": {},
   "outputs": [
    {
     "data": {
      "text/plain": [
       "'mps'"
      ]
     },
     "execution_count": 17,
     "metadata": {},
     "output_type": "execute_result"
    }
   ],
   "source": [
    "tagger._device"
   ]
  },
  {
   "cell_type": "code",
   "execution_count": 18,
   "metadata": {},
   "outputs": [
    {
     "data": {
      "text/plain": [
       "PageSequenceTagger(\n",
       "  (_page_embedding): PageEmbedding(\n",
       "    (_region_model): RegionEmbeddingSentenceTransformer(\n",
       "      (_transformer_model): SentenceTransformer(\n",
       "        (0): Transformer({'max_seq_length': 128, 'do_lower_case': False}) with Transformer model: RobertaModel \n",
       "        (1): Pooling({'word_embedding_dimension': 768, 'pooling_mode_cls_token': False, 'pooling_mode_mean_tokens': True, 'pooling_mode_max_tokens': False, 'pooling_mode_mean_sqrt_len_tokens': False, 'pooling_mode_weightedmean_tokens': False, 'pooling_mode_lasttoken': False})\n",
       "      )\n",
       "      (_region_type): Embedding(9, 16)\n",
       "      (_linear): Linear(in_features=784, out_features=512, bias=True)\n",
       "    )\n",
       "    (_rnn): LSTM(512, 256, num_layers=2, batch_first=True, dropout=0.1, bidirectional=True)\n",
       "    (_linear): Linear(in_features=512, out_features=256, bias=True)\n",
       "  )\n",
       "  (_rnn): LSTM(256, 256, num_layers=2, batch_first=True, dropout=0.1, bidirectional=True)\n",
       "  (_linear): Linear(in_features=512, out_features=4, bias=True)\n",
       "  (_softmax): Softmax(dim=1)\n",
       ")"
      ]
     },
     "execution_count": 18,
     "metadata": {},
     "output_type": "execute_result"
    }
   ],
   "source": [
    "tagger"
   ]
  },
  {
   "cell_type": "code",
   "execution_count": 19,
   "metadata": {},
   "outputs": [
    {
     "name": "stderr",
     "output_type": "stream",
     "text": [
      " 99%|█████████▉| 54/54.59375 [01:30<00:00,  1.46s/batch]/Users/carstenschnober/LAHTeR/workspace/document-segmentation/.venv/lib/python3.11/site-packages/tqdm/std.py:636: TqdmWarning: clamping frac to range [0, 1]\n",
      "  full_bar = Bar(frac,\n",
      "101%|██████████| 55/54.59375 [01:31<00:00,  1.66s/batch]\n"
     ]
    },
    {
     "name": "stdout",
     "output_type": "stream",
     "text": [
      "Current allocated memory (MPS): 1170 MB\n",
      "Driver allocated memory (MPS): 2887 MB\n",
      "[Loss:\t1.163]\n"
     ]
    },
    {
     "name": "stderr",
     "output_type": "stream",
     "text": [
      "101%|██████████| 55/54.59375 [00:03<00:00, 13.83batch/s]\n"
     ]
    },
    {
     "name": "stdout",
     "output_type": "stream",
     "text": [
      "Current allocated memory (MPS): 1162 MB\n",
      "Driver allocated memory (MPS): 2967 MB\n",
      "[Loss:\t1.165]\n"
     ]
    },
    {
     "name": "stderr",
     "output_type": "stream",
     "text": [
      "101%|██████████| 55/54.59375 [00:03<00:00, 13.88batch/s]"
     ]
    },
    {
     "name": "stdout",
     "output_type": "stream",
     "text": [
      "Current allocated memory (MPS): 1162 MB\n",
      "Driver allocated memory (MPS): 2851 MB\n",
      "[Loss:\t1.095]\n"
     ]
    },
    {
     "name": "stderr",
     "output_type": "stream",
     "text": [
      "\n"
     ]
    }
   ],
   "source": [
    "tagger.train_(training_data, EPOCHS, BATCH_SIZE, WEIGHTS.to(tagger._device))"
   ]
  },
  {
   "cell_type": "markdown",
   "metadata": {},
   "source": [
    "# Evaluate Model"
   ]
  },
  {
   "cell_type": "code",
   "execution_count": 20,
   "metadata": {},
   "outputs": [
    {
     "name": "stdout",
     "output_type": "stream",
     "text": [
      "Predicted\tActual\tPage ID\tText\tScores\n"
     ]
    },
    {
     "name": "stderr",
     "output_type": "stream",
     "text": [
      "  7%|▋         | 1/13.65625 [00:00<00:10,  1.21batch/s]"
     ]
    },
    {
     "name": "stdout",
     "output_type": "stream",
     "text": [
      "END\tIN\tNL-HaNA_1.04.02_3524_0986.jpg\tvan 10000 kyserdaalders ter leen zullende hij alle\t[0.12512490153312683, 0.30856895446777344, 0.5628307461738586, 0.00347542786039412]\n",
      "END\tIN\tNL-HaNA_1.04.02_3524_0987.jpg\tHier meede deesen bekortende maatigen wij ons de; \t[0.06166611984372139, 0.08441950380802155, 0.851412832736969, 0.0025015235878527164]\n",
      "END\tEND\tNL-HaNA_1.04.02_3524_0988.jpg\tNotitie van Zodaanige Coopmansz:; etc: als Sariepr\t[0.003870869055390358, 0.005092552397400141, 0.9894911050796509, 0.0015453965170308948]\n",
      "OUT\tOUT\tNL-HaNA_1.04.02_1547_0481.jpg\t\t[0.0005603920435532928, 0.0002981974685098976, 0.003644691314548254, 0.9954967498779297]\n",
      "OUT\tOUT\tNL-HaNA_1.04.02_1547_0482.jpg\t\t[0.0008527957834303379, 0.00024216008023358881, 0.0014517775271087885, 0.9974531531333923]\n",
      "BEGIN\tBEGIN\tNL-HaNA_1.04.02_1547_0483.jpg\tSaterdagh den 4=en xber; Present den Commandeur; P\t[0.9136616587638855, 0.04032803326845169, 0.03998707979917526, 0.006023257505148649]\n",
      "BEGIN\tIN\tNL-HaNA_1.04.02_1547_0484.jpg\tna batavia, ende de tot nogh binnen dien; stad ber\t[0.4951034486293793, 0.25840187072753906, 0.24142050743103027, 0.005074199289083481]\n",
      "END\tIN\tNL-HaNA_1.04.02_1547_0485.jpg\tbedencken wat met den meester Compagnies; 2; diens\t[0.36471447348594666, 0.2382836639881134, 0.3921826481819153, 0.004819270223379135]\n",
      "END\tIN\tNL-HaNA_1.04.02_1547_0486.jpg\tgr=t agtb goede jntentien daar ontrent aan —; alle\t[0.24032090604305267, 0.18165519833564758, 0.5735178589820862, 0.0045060040429234505]\n",
      "END\tIN\tNL-HaNA_1.04.02_1547_0487.jpg\tEnde aangesiene het schip goudesteijn volgens —; d\t[0.07745823264122009, 0.043617378920316696, 0.8759064674377441, 0.0030178793240338564]\n",
      "END\tEND\tNL-HaNA_1.04.02_1547_0488.jpg\tDe voormelte Copia resolmitie door den Eh=r; Comma\t[0.0035628003533929586, 0.0027447270695120096, 0.991952121257782, 0.0017403148813173175]\n",
      "OUT\tOUT\tNL-HaNA_1.04.02_1547_0456.jpg\t\t[0.0004414555733092129, 0.00021237236796878278, 0.002692536683753133, 0.99665367603302]\n",
      "OUT\tOUT\tNL-HaNA_1.04.02_1547_0457.jpg\t\t[0.0003345552831888199, 0.00011489848111523315, 0.0008522929856553674, 0.9986982345581055]\n",
      "OUT\tOUT\tNL-HaNA_1.04.02_1547_0458.jpg\t\t[0.0010769553482532501, 0.00026826412067748606, 0.0012759460369125009, 0.997378945350647]\n",
      "BEGIN\tBEGIN\tNL-HaNA_1.04.02_1547_0459.jpg\tRapport gedaen Ter ordre; van d' E. heer Adriaen V\t[0.960582435131073, 0.019239967688918114, 0.014272117987275124, 0.00590550759807229]\n",
      "BEGIN\tIN\tNL-HaNA_1.04.02_1547_0460.jpg\tdat den bovengem: veltheer, zyn seconde genaem; pi\t[0.6175232529640198, 0.2013920396566391, 0.17567922174930573, 0.005405480973422527]\n"
     ]
    },
    {
     "name": "stderr",
     "output_type": "stream",
     "text": [
      " 15%|█▍        | 2/13.65625 [00:02<00:18,  1.58s/batch]"
     ]
    },
    {
     "name": "stdout",
     "output_type": "stream",
     "text": [
      "IN\tEND\tNL-HaNA_1.04.02_1547_0467.jpg\tWaer seven daegen zoo aen mijn lighaem te verschoo\t[0.11907272785902023, 0.7566057443618774, 0.12283354252576828, 0.001488027162849903]\n",
      "IN\tBEGIN\tNL-HaNA_1.04.02_1268_1095.jpg\tIs nae aen roepingh van godes Heijsige naeme; vers\t[0.11873476952314377, 0.7482216954231262, 0.13157106935977936, 0.0014724008506163955]\n",
      "IN\tEND\tNL-HaNA_1.04.02_1268_1109.jpg\tg'admitteert en tot godes kerke aengenomen werden \t[0.11895566433668137, 0.7560752034187317, 0.12349596619606018, 0.0014732044655829668]\n",
      "IN\tBEGIN\tNL-HaNA_1.04.02_3446_0595.jpg\tAan De Edele Hoog Agtb„e Heeren; Bewindhebberen va\t[0.11902810633182526, 0.7544757723808289, 0.12500500679016113, 0.001491079805418849]\n",
      "IN\tEND\tNL-HaNA_1.04.02_3446_0603.jpg\tBatavia; in 't Casteel den; 25:e october; waar mee\t[0.12001077830791473, 0.661048412322998, 0.2169722318649292, 0.001968554686754942]\n",
      "IN\tBEGIN\tNL-HaNA_1.04.02_2542_0114.jpg\tVan Mallabaar onder dato; 9. stux te weeten; 6. ma\t[0.13269509375095367, 0.5253822207450867, 0.3390544652938843, 0.002868186915293336]\n"
     ]
    },
    {
     "name": "stderr",
     "output_type": "stream",
     "text": [
      " 22%|██▏       | 3/13.65625 [00:04<00:17,  1.61s/batch]"
     ]
    },
    {
     "name": "stdout",
     "output_type": "stream",
     "text": [
      "IN\tBEGIN\tNL-HaNA_1.04.02_1647_0632.jpg\tVan Macassar Anno 1701—; Vervolgens quam by den He\t[0.16252586245536804, 0.6899905204772949, 0.14497889578342438, 0.0025046654045581818]\n",
      "IN\tEND\tNL-HaNA_1.04.02_1647_0642.jpg\tVan Macassar A„o 1701; Van Macassar Anno 1701; had\t[0.12201889604330063, 0.7082138061523438, 0.16794952750205994, 0.0018177941674366593]\n",
      "IN\tBEGIN\tNL-HaNA_1.04.02_1060_0435.jpg\tAlsoo het schip der Goes, als t'Jacht Cleijn Enckh\t[0.12901876866817474, 0.7075014114379883, 0.161713108420372, 0.001766662928275764]\n",
      "END\tIN\tNL-HaNA_1.04.02_1060_0446.jpg\tge; Alsoo 'T schip Esterre, tot zijnne te doene vo\t[0.13430988788604736, 0.41885554790496826, 0.4433428645133972, 0.0034917532466351986]\n",
      "END\tIN\tNL-HaNA_1.04.02_1060_0447.jpg\tMaendach den xiiije Decemb. @ 1615 &; Alsoo bij de\t[0.13999177515506744, 0.24487237632274628, 0.6115007996559143, 0.0036350605078041553]\n",
      "END\tEND\tNL-HaNA_1.04.02_1060_0448.jpg\tSivert Sipkens sargeant die de voors compe. tot nu\t[0.04871416836977005, 0.06170646473765373, 0.8870518207550049, 0.002527455799281597]\n",
      "END\tBEGIN\tNL-HaNA_1.04.02_1066_0065.jpg\tNo. 1— Originelen missive door d' H=r Presidt Cocn\t[0.002475918736308813, 0.0031416907440871, 0.992741584777832, 0.0016407726798206568]\n",
      "OUT\tOUT\tNL-HaNA_1.04.02_1547_0348.jpg\t\t[0.00042180236778222024, 0.000240270426729694, 0.0033670542761683464, 0.9959707856178284]\n",
      "OUT\tOUT\tNL-HaNA_1.04.02_1547_0349.jpg\t\t[0.00030693976441398263, 0.00011061281111324206, 0.0008742132340557873, 0.9987082481384277]\n",
      "OUT\tOUT\tNL-HaNA_1.04.02_1547_0350.jpg\t\t[0.0011410658480599523, 0.0002839521039277315, 0.0012443795567378402, 0.9973306655883789]\n",
      "BEGIN\tBEGIN\tNL-HaNA_1.04.02_1547_0351.jpg\tTranslaat ola door haar E:; heer Commandeur adriaa\t[0.9581551551818848, 0.020631451159715652, 0.01637919247150421, 0.004834258463233709]\n",
      "BEGIN\tIN\tNL-HaNA_1.04.02_1547_0352.jpg\tgegeven werd op dit alle onlusten verweijderinghe \t[0.6297225952148438, 0.24757777154445648, 0.11889366805553436, 0.0038059991784393787]\n",
      "BEGIN\tEND\tNL-HaNA_1.04.02_1547_0353.jpg\ten het Cochinisz rijk herwaarts te senden om over \t[0.36376670002937317, 0.33893662691116333, 0.29301220178604126, 0.004284498281776905]\n"
     ]
    },
    {
     "name": "stderr",
     "output_type": "stream",
     "text": [
      " 29%|██▉       | 4/13.65625 [00:08<00:23,  2.47s/batch]"
     ]
    },
    {
     "name": "stdout",
     "output_type": "stream",
     "text": [
      "IN\tBEGIN\tNL-HaNA_1.04.02_1506_1034.jpg\t-; d; E; 7.; decken; 8; 2; van de; 5; ƒ; 3; E; E; \t[0.18040326237678528, 0.5605207681655884, 0.2548779249191284, 0.004198049660772085]\n",
      "END\tIN\tNL-HaNA_1.04.02_1506_1036.jpg\t30 vrs; o; Janor; 6; 5o; e; x; 116; E; 6.; 1.; :; \t[0.12800917029380798, 0.25582608580589294, 0.6122598648071289, 0.0039049226325005293]\n",
      "END\tEND\tNL-HaNA_1.04.02_1506_1037.jpg\tk; „noortvelt; rogons; „1; rsame; uijt; eruijt; ƒ;\t[0.04888710007071495, 0.05560712888836861, 0.8927388191223145, 0.002766897203400731]\n",
      "END\tBEGIN\tNL-HaNA_1.04.02_3060_0043.jpg\tNa dat de Leeden deeser Vergaadering bij een geroe\t[0.0022203424014151096, 0.0032034567557275295, 0.9931526184082031, 0.0014235622948035598]\n",
      "OUT\tIN\tNL-HaNA_1.04.02_3060_0044.jpg\t\t[0.0003995909064542502, 0.0002084755542455241, 0.00244927522726357, 0.9969426989555359]\n",
      "OUT\tIN\tNL-HaNA_1.04.02_3060_0045.jpg\t\t[0.00030325588886626065, 0.00010475625458639115, 0.0008695845608599484, 0.9987223744392395]\n",
      "OUT\tIN\tNL-HaNA_1.04.02_3060_0046.jpg\t\t[0.0007998902583494782, 0.0001997338404180482, 0.0013224093709141016, 0.9976779818534851]\n",
      "BEGIN\tIN\tNL-HaNA_1.04.02_3060_0047.jpg\tWoensdag den 13: ' October A„o 1762.; Na dat de Le\t[0.9506029486656189, 0.014352140948176384, 0.027061687782406807, 0.00798325426876545]\n",
      "BEGIN\tIN\tNL-HaNA_1.04.02_3060_0048.jpg\tNagesien; G„s V„n Aken\t[0.5552586317062378, 0.07824959605932236, 0.3595767915248871, 0.006915031000971794]\n",
      "END\tIN\tNL-HaNA_1.04.02_3060_0049.jpg\tWoensdag den 13.:' October A„o 1762.; Na dat de Le\t[0.03143496438860893, 0.010408439673483372, 0.9546723961830139, 0.003484150394797325]\n",
      "OUT\tIN\tNL-HaNA_1.04.02_3060_0050.jpg\t\t[0.001361405593343079, 0.0004016811144538224, 0.0034048501402139664, 0.9948320388793945]\n",
      "BEGIN\tIN\tNL-HaNA_1.04.02_3060_0051.jpg\tDingsdag Den 2:' November A„o 1762. —; Den Raad bi\t[0.8172246813774109, 0.07785134762525558, 0.0970735102891922, 0.007850520312786102]\n",
      "BEGIN\tIN\tNL-HaNA_1.04.02_3060_0052.jpg\tOver te haalen geweest, dan ruijm, een halff Capit\t[0.43744736909866333, 0.1920749992132187, 0.36422422528266907, 0.006253389175981283]\n",
      "END\tIN\tNL-HaNA_1.04.02_3060_0053.jpg\tDen bottelier Jan Fredrik Smit, van SHage; Hoffmee\t[0.2135891318321228, 0.0870014876127243, 0.6943917870521545, 0.0050176153890788555]\n",
      "END\tIN\tNL-HaNA_1.04.02_3060_0054.jpg\tNagesien; P: D Lahaije\t[0.007794783916324377, 0.005195613019168377, 0.9850205183029175, 0.0019890102557837963]\n",
      "OUT\tIN\tNL-HaNA_1.04.02_3060_0055.jpg\t\t[0.0007230584160424769, 0.00028765088063664734, 0.003589834086596966, 0.995399534702301]\n",
      "END\tIN\tNL-HaNA_1.04.02_3060_0056.jpg\tNagesien; G: B: D Leeuw; d\t[0.44709235429763794, 0.03821546956896782, 0.4847414493560791, 0.02995075099170208]\n",
      "END\tIN\tNL-HaNA_1.04.02_3060_0057.jpg\tMaandag Den 15„e November A„o 1762. —; Het ingedie\t[0.007501774467527866, 0.0032611810602247715, 0.9839090704917908, 0.005327985156327486]\n",
      "OUT\tIN\tNL-HaNA_1.04.02_3060_0058.jpg\t\t[0.00048268004320561886, 0.00023291762045118958, 0.0029507074505090714, 0.9963337182998657]\n",
      "END\tIN\tNL-HaNA_1.04.02_3060_0059.jpg\tAan den wel Edelen Agtb: Heere; Fredrik Willem Win\t[0.020060915499925613, 0.005174492951482534, 0.7570379972457886, 0.21772648394107819]\n",
      "OUT\tIN\tNL-HaNA_1.04.02_3060_0060.jpg\t\t[0.0002956094976980239, 0.00012801973207388073, 0.0010273439111188054, 0.9985490441322327]\n",
      "OUT\tIN\tNL-HaNA_1.04.02_3060_0061.jpg\t\t[0.00024051981745287776, 0.00010041112545877695, 0.0007796121062710881, 0.9988794922828674]\n",
      "OUT\tIN\tNL-HaNA_1.04.02_3060_0062.jpg\tNagesien; J:B: D Leeuw.\t[0.02334681525826454, 0.0024572068359702826, 0.11513512581586838, 0.8590608239173889]\n",
      "OUT\tIN\tNL-HaNA_1.04.02_3060_0063.jpg\t\t[0.00033521000295877457, 0.0001204680374939926, 0.0007965383701957762, 0.998747706413269]\n",
      "OUT\tIN\tNL-HaNA_1.04.02_3060_0064.jpg\t\t[0.0011554511729627848, 0.00027084955945611, 0.0011183014139533043, 0.9974554181098938]\n",
      "BEGIN\tIN\tNL-HaNA_1.04.02_3060_0065.jpg\tE:E: Agtbaaren Heer Johannes Heijnouts; Sondergete\t[0.9361780285835266, 0.03764296695590019, 0.021786022931337357, 0.004392990376800299]\n",
      "BEGIN\tEND\tNL-HaNA_1.04.02_3060_0066.jpg\tNoering hem daar toe sijne hulpe leenen; Voor 't o\t[0.6294413208961487, 0.2721010148525238, 0.09492609649896622, 0.0035315321292728186]\n",
      "IN\tBEGIN\tNL-HaNA_1.04.02_1088_0511.jpg\tNaer dat den 8en. septembr 1625, het fergatt Surat\t[0.35217875242233276, 0.5056342482566833, 0.1397072970867157, 0.0024796489160507917]\n"
     ]
    },
    {
     "name": "stderr",
     "output_type": "stream",
     "text": [
      " 37%|███▋      | 5/13.65625 [00:09<00:18,  2.12s/batch]"
     ]
    },
    {
     "name": "stdout",
     "output_type": "stream",
     "text": [
      "END\tIN\tNL-HaNA_1.04.02_1088_0519.jpg\tte mogen werden, met cruijt ende Loot, ende soo he\t[0.1329692304134369, 0.357964426279068, 0.5050461292266846, 0.004020269960165024]\n",
      "END\tIN\tNL-HaNA_1.04.02_1088_0520.jpg\tDen 9=en d=o smorgens, quamen voor Oerien, ofte no\t[0.10437708348035812, 0.19867351651191711, 0.6932567954063416, 0.003692629048600793]\n",
      "END\tIN\tNL-HaNA_1.04.02_1088_0521.jpg\tmede die van Cabau, den Sergeant aldaer op Hatuha \t[0.01955864578485489, 0.021936854347586632, 0.9564468264579773, 0.0020575968082994223]\n",
      "END\tIN\tNL-HaNA_1.04.02_1088_0522.jpg\tSijn voorts doorgepangaijt naer Oma, de corcoiren \t[0.002283766632899642, 0.003132769837975502, 0.9928218722343445, 0.0017616436816751957]\n",
      "OUT\tIN\tNL-HaNA_1.04.02_1088_0523.jpg\t\t[0.0006294280756264925, 0.00033357689972035587, 0.00575008150190115, 0.9932869076728821]\n",
      "OUT\tIN\tNL-HaNA_1.04.02_1088_0524.jpg\t\t[0.00022018681920599192, 8.433008042629808e-05, 0.0006946068024262786, 0.9990008473396301]\n",
      "OUT\tIN\tNL-HaNA_1.04.02_1088_0525.jpg\t\t[0.00020557954849209636, 7.347984501393512e-05, 0.0004711227957159281, 0.9992497563362122]\n",
      "OUT\tIN\tNL-HaNA_1.04.02_1088_0526.jpg\t\t[0.0002046714216703549, 7.242870196932927e-05, 0.00047053329763002694, 0.9992523789405823]\n",
      "OUT\tIN\tNL-HaNA_1.04.02_1088_0527.jpg\t\t[0.0002110094064846635, 7.493024168070406e-05, 0.00045955792302265763, 0.9992545247077942]\n",
      "OUT\tIN\tNL-HaNA_1.04.02_1088_0528.jpg\t\t[0.00018699016072787344, 6.86658313497901e-05, 0.0004144635458942503, 0.9993299245834351]\n",
      "OUT\tIN\tNL-HaNA_1.04.02_1088_0529.jpg\t\t[0.00019570233416743577, 6.468465289799497e-05, 0.00042988400673493743, 0.999309778213501]\n",
      "OUT\tIN\tNL-HaNA_1.04.02_1088_0530.jpg\t\t[0.00021155705326236784, 6.54384566587396e-05, 0.00040566344978287816, 0.9993174076080322]\n",
      "OUT\tIN\tNL-HaNA_1.04.02_1088_0531.jpg\t\t[0.0002879118546843529, 8.035765495151281e-05, 0.000462238589534536, 0.9991694688796997]\n",
      "OUT\tIN\tNL-HaNA_1.04.02_1088_0532.jpg\tin Ambonia tsedert 8 septemb.; Daghregister vant g\t[0.3273189067840576, 0.006828132085502148, 0.04639359936118126, 0.6194593906402588]\n",
      "OUT\tIN\tNL-HaNA_1.04.02_1088_0533.jpg\t\t[0.0016413996927440166, 0.0002539093547966331, 0.0009902560850605369, 0.9971144199371338]\n",
      "BEGIN\tIN\tNL-HaNA_1.04.02_1088_0534.jpg\tCopien van resolutien tsedert; 21 Julij 1628. tet \t[0.9217323660850525, 0.0498933307826519, 0.02333727851510048, 0.005036983639001846]\n",
      "BEGIN\tIN\tNL-HaNA_1.04.02_1088_0535.jpg\tberockt ons alsoo weder werck, geeft ons de handen\t[0.6022416949272156, 0.3022083342075348, 0.0921444222331047, 0.0034055740106850863]\n"
     ]
    },
    {
     "name": "stderr",
     "output_type": "stream",
     "text": [
      " 44%|████▍     | 6/13.65625 [00:11<00:14,  1.86s/batch]"
     ]
    },
    {
     "name": "stdout",
     "output_type": "stream",
     "text": [
      "IN\tEND\tNL-HaNA_1.04.02_1088_0570.jpg\tende geen meer en haddent, schreeff Helenij aen on\t[0.12697729468345642, 0.7508246302604675, 0.12078149616718292, 0.0014165047323331237]\n",
      "IN\tBEGIN\tNL-HaNA_1.04.02_8099_0205.jpg\tVan Ternaten onder dato 11:' 7ber: 1732; van alle \t[0.11800751090049744, 0.7573683857917786, 0.12315021455287933, 0.001473847427405417]\n"
     ]
    },
    {
     "name": "stderr",
     "output_type": "stream",
     "text": [
      " 51%|█████▏    | 7/13.65625 [00:12<00:11,  1.72s/batch]"
     ]
    },
    {
     "name": "stdout",
     "output_type": "stream",
     "text": [
      "END\tEND\tNL-HaNA_1.04.02_8099_0217.jpg\tVan Ternaten onder dato 11:' Septemb: 1732; s geli\t[0.12939570844173431, 0.41732364892959595, 0.45073649287223816, 0.002544065937399864]\n",
      "END\tBEGIN\tNL-HaNA_1.04.02_1070_0199.jpg\t2 saeckers Elck van 3000 lb; 2 halve dittos elck v\t[0.032241739332675934, 0.05895461514592171, 0.906846821308136, 0.0019568265415728092]\n",
      "OUT\tIN\tNL-HaNA_1.04.02_1070_0200.jpg\t\t[0.002627877052873373, 0.0011011192109435797, 0.005175719037652016, 0.9910953044891357]\n",
      "BEGIN\tEND\tNL-HaNA_1.04.02_1070_0201.jpg\tAdriaen gerritsz van utrecht sergiant; marijn Ding\t[0.6208497881889343, 0.29111674427986145, 0.08381491154432297, 0.004218594171106815]\n",
      "IN\tBEGIN\tNL-HaNA_1.04.02_1509_1538.jpg\tMonsterolle van alle sComp:s Loontreckende; Monste\t[0.31582915782928467, 0.5470865964889526, 0.13468828797340393, 0.002395995892584324]\n"
     ]
    },
    {
     "name": "stderr",
     "output_type": "stream",
     "text": [
      " 59%|█████▊    | 8/13.65625 [00:16<00:13,  2.34s/batch]"
     ]
    },
    {
     "name": "stdout",
     "output_type": "stream",
     "text": [
      "IN\tEND\tNL-HaNA_1.04.02_1509_1567.jpg\t103 en 84. persoonen p:r transport; 1. toatongoe v\t[0.11780481785535812, 0.7591096758842468, 0.12157411873340607, 0.0015114103443920612]\n",
      "IN\tBEGIN\tNL-HaNA_1.04.02_1490_0583.jpg\tCopije Secrete Resolutien; genomen bij de Ho: Rege\t[0.119136281311512, 0.7563238143920898, 0.12305018305778503, 0.001489725662395358]\n"
     ]
    },
    {
     "name": "stderr",
     "output_type": "stream",
     "text": [
      " 66%|██████▌   | 9/13.65625 [00:18<00:10,  2.30s/batch]"
     ]
    },
    {
     "name": "stdout",
     "output_type": "stream",
     "text": [
      "IN\tEND\tNL-HaNA_1.04.02_1490_0631.jpg\tBo0; Secrets.; wee; De bovenstaende secrete resolu\t[0.11935272067785263, 0.7553587555885315, 0.12381473928689957, 0.0014738241443410516]\n",
      "IN\tBEGIN\tNL-HaNA_1.04.02_1547_0110.jpg\tgemerkt &E.; Waarmeede; Edele hoog agtbaare gebied\t[0.12711282074451447, 0.7507976293563843, 0.12067340314388275, 0.001416230108588934]\n",
      "IN\tEND\tNL-HaNA_1.04.02_1547_0112.jpg\tl  eene heben em maede slekt e ondergeende kopmans\t[0.1190159022808075, 0.7594931721687317, 0.12002599984407425, 0.0014648709911853075]\n",
      "IN\tBEGIN\tNL-HaNA_1.04.02_8820_0069.jpg\tVan Cormandel deder 24: November ao 1702.; Jck ond\t[0.12250299751758575, 0.7552060484886169, 0.12091794610023499, 0.0013730255886912346]\n"
     ]
    },
    {
     "name": "stderr",
     "output_type": "stream",
     "text": [
      " 73%|███████▎  | 10/13.65625 [00:26<00:14,  4.02s/batch]"
     ]
    },
    {
     "name": "stdout",
     "output_type": "stream",
     "text": [
      "IN\tEND\tNL-HaNA_1.04.02_8820_0077.jpg\tVan Cormandel onder 24: November 1702.; gevolgen, \t[0.12185464799404144, 0.7601072788238525, 0.11653806269168854, 0.0015000335406512022]\n",
      "IN\tBEGIN\tNL-HaNA_1.04.02_2682_0249.jpg\tMet het ondergenoemde schip; vertrekken over China\t[0.11959156394004822, 0.7603518962860107, 0.11862767487764359, 0.0014288848033174872]\n",
      "IN\tBEGIN\tNL-HaNA_1.04.02_3095_0015.jpg\tRegister der Papieren; werdende versonden per het \t[0.11868148297071457, 0.7593616843223572, 0.12050323933362961, 0.0014535108348354697]\n",
      "IN\tEND\tNL-HaNA_1.04.02_3095_0037.jpg\tN:o 57: Sommarium van het geladene in tien; Retoúr\t[0.1216193437576294, 0.7538580298423767, 0.1231299340724945, 0.0013927026884630322]\n",
      "IN\tBEGIN\tNL-HaNA_1.04.02_8260_0061.jpg\tS morgens te agt uuren nog geen bevoeging in het B\t[0.120484858751297, 0.7481884360313416, 0.12981632351875305, 0.0015103251207619905]\n"
     ]
    },
    {
     "name": "stderr",
     "output_type": "stream",
     "text": [
      " 81%|████████  | 11/13.65625 [00:28<00:08,  3.33s/batch]"
     ]
    },
    {
     "name": "stdout",
     "output_type": "stream",
     "text": [
      "IN\tEND\tNL-HaNA_1.04.02_8260_0075.jpg\tAan den Lieutenant militair Alexander LeCerf; Comm\t[0.12889909744262695, 0.6869235038757324, 0.18219859898090363, 0.001978822285309434]\n",
      "IN\tBEGIN\tNL-HaNA_1.04.02_3248_0877.jpg\tOp Huijden den 5: October a„o 1761: voor mij Wolfe\t[0.12941108644008636, 0.6866259574890137, 0.18196438252925873, 0.0019985877443104982]\n",
      "END\tIN\tNL-HaNA_1.04.02_3248_0885.jpg\tanders te zeggen, als 't geen in 't Casteel orange\t[0.1377173364162445, 0.40787774324417114, 0.4511462450027466, 0.0032586543820798397]\n",
      "END\tIN\tNL-HaNA_1.04.02_3248_0886.jpg\thij relatant in dien zoo wel onder Ambon als Terna\t[0.11374401301145554, 0.20430836081504822, 0.678893506526947, 0.003054120345041156]\n",
      "END\tIN\tNL-HaNA_1.04.02_3248_0887.jpg\tGevende voor redenen van wetenschap als in den tex\t[0.013966867700219154, 0.017833277583122253, 0.9664645791053772, 0.001735275611281395]\n",
      "OUT\tIN\tNL-HaNA_1.04.02_3248_0888.jpg\t\t[0.0017112784553319216, 0.0006986105581745505, 0.007705260533839464, 0.9898848533630371]\n",
      "BEGIN\tIN\tNL-HaNA_1.04.02_3248_0889.jpg\tHeden morgen den 23:e April 1765: zont den heer„; \t[0.624285876750946, 0.12468765676021576, 0.24362784624099731, 0.007398663554340601]\n",
      "END\tIN\tNL-HaNA_1.04.02_3248_0890.jpg\ten 's konings goetaardigheijt, de wezentlijke oerz\t[0.23287233710289001, 0.09512566775083542, 0.6664689183235168, 0.005533098243176937]\n",
      "END\tIN\tNL-HaNA_1.04.02_3248_0891.jpg\tomtrent zij vermeenden nu niets meer te vreezen te\t[0.010539527051150799, 0.007123128045350313, 0.9800844192504883, 0.0022529009729623795]\n",
      "OUT\tIN\tNL-HaNA_1.04.02_3248_0892.jpg\t\t[0.0008728906977921724, 0.00035126155125908554, 0.00484880106523633, 0.9939270615577698]\n",
      "END\tIN\tNL-HaNA_1.04.02_3248_0893.jpg\tHeden den 4:e Februarij 1768: Compareerde; voor mi\t[0.4436902701854706, 0.041454900056123734, 0.49235397577285767, 0.022500857710838318]\n",
      "END\tIN\tNL-HaNA_1.04.02_3248_0894.jpg\tgelegen op 't groot Eijland salwattij vervoert en \t[0.006598413921892643, 0.003409019438549876, 0.9850986003875732, 0.004893922246992588]\n",
      "OUT\tIN\tNL-HaNA_1.04.02_3248_0895.jpg\t\t[0.0005119589623063803, 0.0002173112879972905, 0.002138448180630803, 0.9971323013305664]\n",
      "OUT\tIN\tNL-HaNA_1.04.02_3248_0896.jpg\t\t[0.0010617311345413327, 0.0002982502046506852, 0.001557153882458806, 0.9970828890800476]\n",
      "BEGIN\tIN\tNL-HaNA_1.04.02_3248_0897.jpg\tOp heden den 4:e Februarij 160: Compareerde voor; \t[0.9351039528846741, 0.03531424328684807, 0.023847397416830063, 0.005734329577535391]\n",
      "BEGIN\tIN\tNL-HaNA_1.04.02_3248_0898.jpg\tte Batchian ter hou gekomen waren, en zig dien twe\t[0.5180690884590149, 0.2654590308666229, 0.2113664597272873, 0.005105409771203995]\n"
     ]
    },
    {
     "name": "stderr",
     "output_type": "stream",
     "text": [
      " 88%|████████▊ | 12/13.65625 [00:30<00:04,  2.90s/batch]"
     ]
    },
    {
     "name": "stdout",
     "output_type": "stream",
     "text": [
      "END\tIN\tNL-HaNA_1.04.02_3248_0899.jpg\tWaar mede den relatant dit zijne gegevene relaas c\t[0.018082819879055023, 0.019184289500117302, 0.9540315866470337, 0.008701292797923088]\n",
      "OUT\tIN\tNL-HaNA_1.04.02_3248_0900.jpg\t\t[0.0009222699445672333, 0.00037951141712255776, 0.0023496318608522415, 0.9963486194610596]\n",
      "BEGIN\tIN\tNL-HaNA_1.04.02_3248_0901.jpg\tOp heden den 8:e Februarij 1768: Compa„; „reerde v\t[0.7902325987815857, 0.09338448196649551, 0.10774803906679153, 0.008634885773062706]\n",
      "END\tEND\tNL-HaNA_1.04.02_3248_0902.jpg\twaar mede den relatant zijn gegevene relaas quam t\t[0.38019809126853943, 0.18494176864624023, 0.4292825162410736, 0.005577538628131151]\n",
      "END\tBEGIN\tNL-HaNA_1.04.02_1547_0107.jpg\tExtracten uijt de Daagelijkse Aanteeckeningen, Con\t[0.10026136785745621, 0.0484062023460865, 0.8476727604866028, 0.0036596853751689196]\n",
      "END\tEND\tNL-HaNA_1.04.02_1547_0108.jpg\top desen holvn en dass: matthijs in ve totenende a\t[0.003603915683925152, 0.0031431664247065783, 0.9913488030433655, 0.0019040864426642656]\n",
      "OUT\tOUT\tNL-HaNA_1.04.02_1547_0360.jpg\t\t[0.0005586835322901607, 0.0002368058339925483, 0.0028879535384476185, 0.9963165521621704]\n",
      "OUT\tOUT\tNL-HaNA_1.04.02_1547_0361.jpg\t\t[0.00032700836891308427, 0.0001168547896668315, 0.0007444085204042494, 0.9988118410110474]\n",
      "OUT\tOUT\tNL-HaNA_1.04.02_1547_0362.jpg\t\t[0.0010889717377722263, 0.0002649761736392975, 0.0010475448798388243, 0.9975984692573547]\n",
      "BEGIN\tBEGIN\tNL-HaNA_1.04.02_1547_0363.jpg\tJnstructie voor den onder„; Sonsbeek, vertreckende\t[0.9572103023529053, 0.02320723421871662, 0.014479979872703552, 0.005102535709738731]\n",
      "BEGIN\tIN\tNL-HaNA_1.04.02_1547_0364.jpg\top te wakkeren sijn, soo meede te Ervaaren wat; Ef\t[0.6475315690040588, 0.24422886967658997, 0.1041044145822525, 0.0041351704858243465]\n",
      "IN\tEND\tNL-HaNA_1.04.02_1547_0372.jpg\taanbevoolen, en uwE: onder godes geleyjd een; spoe\t[0.28071412444114685, 0.5016783475875854, 0.2149622142314911, 0.0026452650781720877]\n",
      "IN\tBEGIN\tNL-HaNA_1.04.02_8846_0473.jpg\tVan Cormandel onder dato 27:e 8ber: 1726.; Nederla\t[0.2999402582645416, 0.42949894070625305, 0.2676548957824707, 0.0029059213120490313]\n",
      "END\tEND\tNL-HaNA_1.04.02_8846_0475.jpg\tVan Cormandel onder dato 27=e 8ber: 1726.; Agtbaar\t[0.23548778891563416, 0.24305735528469086, 0.5182555317878723, 0.0031992830336093903]\n",
      "END\tBEGIN\tNL-HaNA_1.04.02_1083_0013.jpg\tadn. 6=en augustij Anoo 1624; Octe der kerckelijck\t[0.05244063213467598, 0.03478807583451271, 0.9103973507881165, 0.002373948460444808]\n",
      "OUT\tIN\tNL-HaNA_1.04.02_1083_0014.jpg\t\t[0.002270374447107315, 0.0010100450599566102, 0.005467155482620001, 0.9912523627281189]\n",
      "BEGIN\tIN\tNL-HaNA_1.04.02_1083_0015.jpg\tInt Jaer des Heeren onses Salichmaeckers Jesu Chri\t[0.6400350332260132, 0.2647148072719574, 0.09144788235425949, 0.003802235471084714]\n"
     ]
    },
    {
     "name": "stderr",
     "output_type": "stream",
     "text": [
      " 95%|█████████▌| 13/13.65625 [00:32<00:01,  2.82s/batch]"
     ]
    },
    {
     "name": "stdout",
     "output_type": "stream",
     "text": [
      "IN\tEND\tNL-HaNA_1.04.02_1083_0048.jpg\tDes avondts voor het aronsteten is den predicanten\t[0.11937545984983444, 0.7591578960418701, 0.12000031024217606, 0.0014663924230262637]\n",
      "IN\tBEGIN\tNL-HaNA_1.04.02_8696_0051.jpg\tVan Siam onder dato 20: april 1737; Dag-register, \t[0.12174913287162781, 0.7546426057815552, 0.122219018638134, 0.0013892798451706767]\n"
     ]
    },
    {
     "name": "stderr",
     "output_type": "stream",
     "text": [
      "103%|██████████| 14/13.65625 [00:33<00:00,  2.41s/batch]"
     ]
    },
    {
     "name": "stdout",
     "output_type": "stream",
     "text": [
      "IN\tEND\tNL-HaNA_1.04.02_8696_0077.jpg\tVan Siam onder dato: 20: april 1737; Translaet Sia\t[0.13300307095050812, 0.5275892615318298, 0.3366990089416504, 0.0027086276095360518]\n"
     ]
    },
    {
     "name": "stderr",
     "output_type": "stream",
     "text": [
      "\n"
     ]
    }
   ],
   "source": [
    "import csv\n",
    "import sys\n",
    "\n",
    "from torcheval.metrics import (\n",
    "    MulticlassAccuracy,\n",
    "    MulticlassF1Score,\n",
    "    MulticlassPrecision,\n",
    "    MulticlassRecall,\n",
    ")\n",
    "from tqdm import tqdm\n",
    "\n",
    "from document_segmentation.pagexml.datamodel.label import Label\n",
    "\n",
    "writer = csv.DictWriter(\n",
    "    sys.stdout,\n",
    "    fieldnames=(\"Predicted\", \"Actual\", \"Page ID\", \"Text\", \"Scores\"),\n",
    "    delimiter=\"\\t\",\n",
    ")\n",
    "\n",
    "writer.writeheader()\n",
    "\n",
    "accuracy = MulticlassAccuracy(num_classes=len(Label))\n",
    "precision = MulticlassPrecision(average=None, num_classes=len(Label))\n",
    "recall = MulticlassRecall(average=None, num_classes=len(Label))\n",
    "f1_score = MulticlassF1Score(average=None, num_classes=len(Label))\n",
    "\n",
    "for batch in tqdm(\n",
    "    test_data.batches(BATCH_SIZE), total=len(test_data) / BATCH_SIZE, unit=\"batch\"\n",
    "):\n",
    "    predicted = tagger(batch)\n",
    "    labels = batch.labels()\n",
    "\n",
    "    _labels = torch.Tensor([label.value - 1 for label in labels]).to(int)\n",
    "    accuracy.update(predicted, _labels)\n",
    "    precision.update(predicted, _labels)\n",
    "    recall.update(predicted, _labels)\n",
    "    f1_score.update(predicted, _labels)\n",
    "\n",
    "    for page, pred, label in zip(batch.pages, predicted, labels):\n",
    "        pred_label = Label(pred.argmax().item() + 1)\n",
    "        if pred_label != Label.IN or label != Label.IN:\n",
    "            writer.writerow(\n",
    "                {\n",
    "                    \"Predicted\": pred_label.name,\n",
    "                    \"Actual\": label.name,\n",
    "                    \"Page ID\": page.doc_id,\n",
    "                    \"Text\": page.text(delimiter=\"; \")[:50],\n",
    "                    \"Scores\": str(pred.tolist()),\n",
    "                }\n",
    "            )"
   ]
  },
  {
   "cell_type": "code",
   "execution_count": 21,
   "metadata": {},
   "outputs": [
    {
     "name": "stdout",
     "output_type": "stream",
     "text": [
      "Metric\tAverage\tBEGIN\tIN\tEND\tOUT\n",
      "MulticlassPrecision\tNone\t0.1739\t0.9045\t0.2051\t0.2750\n",
      "MulticlassRecall\tNone\t0.1481\t0.8102\t0.3200\t1.0000\n",
      "MulticlassF1Score\tNone\t0.1600\t0.8547\t0.2500\t0.4314\n",
      "Accuracy (micro average):\t0.7460\n"
     ]
    }
   ],
   "source": [
    "writer = csv.DictWriter(\n",
    "    sys.stdout,\n",
    "    fieldnames=[\"Metric\", \"Average\"] + [label.name for label in Label],\n",
    "    delimiter=\"\\t\",\n",
    ")\n",
    "writer.writeheader()\n",
    "\n",
    "for metric in (precision, recall, f1_score):\n",
    "    scores = {\n",
    "        label.name: f\"{score:.4f}\"\n",
    "        for label, score in zip(Label, metric.compute().tolist())\n",
    "    }\n",
    "    writer.writerow(\n",
    "        {\"Metric\": metric.__class__.__name__, \"Average\": str(metric.average)} | scores\n",
    "    )\n",
    "\n",
    "print(f\"Accuracy ({accuracy.average} average):\\t{accuracy.compute().item():.4f}\")"
   ]
  }
 ],
 "metadata": {
  "kernelspec": {
   "display_name": ".venv",
   "language": "python",
   "name": "python3"
  },
  "language_info": {
   "codemirror_mode": {
    "name": "ipython",
    "version": 3
   },
   "file_extension": ".py",
   "mimetype": "text/x-python",
   "name": "python",
   "nbconvert_exporter": "python",
   "pygments_lexer": "ipython3",
   "version": "3.11.2"
  }
 },
 "nbformat": 4,
 "nbformat_minor": 2
}
