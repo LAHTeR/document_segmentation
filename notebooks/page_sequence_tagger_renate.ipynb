{
 "cells": [
  {
   "cell_type": "code",
   "execution_count": 85,
   "metadata": {},
   "outputs": [
    {
     "name": "stdout",
     "output_type": "stream",
     "text": [
      "The autoreload extension is already loaded. To reload it, use:\n",
      "  %reload_ext autoreload\n"
     ]
    }
   ],
   "source": [
    "%load_ext autoreload\n",
    "%autoreload now"
   ]
  },
  {
   "cell_type": "code",
   "execution_count": 86,
   "metadata": {},
   "outputs": [],
   "source": [
    "import os\n",
    "\n",
    "os.environ[\"CUDA_VISIBLE_DEVICES\"] = \"MIG-08137aa2-e69b-5e74-8390-7997329b1336\"\n",
    "# os.environ[\"WORLD_SIZE\"] = \"1\""
   ]
  },
  {
   "cell_type": "markdown",
   "metadata": {},
   "source": [
    "# Download and convert data"
   ]
  },
  {
   "cell_type": "code",
   "execution_count": 87,
   "metadata": {},
   "outputs": [
    {
     "name": "stderr",
     "output_type": "stream",
     "text": [
      "Writing documents: 0doc [00:00, ?doc/s]\n"
     ]
    }
   ],
   "source": [
    "from tqdm import tqdm\n",
    "\n",
    "from document_segmentation.pagexml.annotations.renate_analysis import RenateAnalysis\n",
    "from document_segmentation.settings import RENATE_ANALYSIS_DIR\n",
    "\n",
    "N = None\n",
    "\n",
    "RENATE_ANALYSIS_DIR.mkdir(parents=True, exist_ok=True)\n",
    "\n",
    "sheet = RenateAnalysis()\n",
    "\n",
    "\n",
    "existing_docs = {\n",
    "    path.stem for path in RENATE_ANALYSIS_DIR.glob(\"Globdoc_*.json\") if path.is_file()\n",
    "}\n",
    "\n",
    "for document in tqdm(\n",
    "    sheet.to_documents(n=N, skip_ids=existing_docs),\n",
    "    total=(N or len(sheet)) - len(existing_docs),\n",
    "    desc=\"Writing documents\",\n",
    "    unit=\"doc\",\n",
    "):\n",
    "    document_file = RENATE_ANALYSIS_DIR / f\"{document.id}.json\"\n",
    "\n",
    "    with document_file.open(\"xt\") as f:\n",
    "        f.write(document.model_dump_json())\n",
    "        f.write(\"\\n\")"
   ]
  },
  {
   "cell_type": "code",
   "execution_count": 88,
   "metadata": {},
   "outputs": [
    {
     "name": "stderr",
     "output_type": "stream",
     "text": [
      "Writing documents:   0%|          | 0/26 [00:00<?, ?doc/s]"
     ]
    },
    {
     "name": "stderr",
     "output_type": "stream",
     "text": [
      "Writing documents: 100%|██████████| 26/26 [00:10<00:00,  2.37doc/s]\n"
     ]
    }
   ],
   "source": [
    "import logging\n",
    "\n",
    "from tqdm import tqdm\n",
    "\n",
    "from document_segmentation.pagexml.annotations.renate_analysis import RenateAnalysisInv\n",
    "from document_segmentation.settings import RENATE_ANALYSIS_DIR, RENATE_ANALYSIS_SHEETS\n",
    "\n",
    "N = None\n",
    "\n",
    "\n",
    "sheet = RenateAnalysisInv(RENATE_ANALYSIS_SHEETS[0])  # TODO: use both sheets\n",
    "\n",
    "for document in tqdm(\n",
    "    sheet.to_documents(n=N), desc=\"Writing documents\", unit=\"doc\", total=26\n",
    "):\n",
    "    document_file = RENATE_ANALYSIS_DIR / f\"{document.id}.json\"\n",
    "\n",
    "    if document_file.exists():\n",
    "        logging.info(f\"Document {document.id} already exists, skipping\")\n",
    "    else:\n",
    "        with document_file.open(\"xt\") as f:\n",
    "            f.write(document.model_dump_json())\n",
    "            f.write(\"\\n\")"
   ]
  },
  {
   "cell_type": "markdown",
   "metadata": {},
   "source": [
    "# Load Data"
   ]
  },
  {
   "cell_type": "code",
   "execution_count": 89,
   "metadata": {},
   "outputs": [],
   "source": [
    "%autoreload now"
   ]
  },
  {
   "cell_type": "code",
   "execution_count": 90,
   "metadata": {},
   "outputs": [],
   "source": [
    "TRAINING_DATA = 0.8"
   ]
  },
  {
   "cell_type": "code",
   "execution_count": 91,
   "metadata": {},
   "outputs": [
    {
     "name": "stderr",
     "output_type": "stream",
     "text": [
      "Reading JSON files: 100%|██████████| 104/104 [00:00<00:00, 164.60file/s]\n"
     ]
    },
    {
     "data": {
      "text/plain": [
       "104"
      ]
     },
     "execution_count": 91,
     "metadata": {},
     "output_type": "execute_result"
    }
   ],
   "source": [
    "from document_segmentation.model.dataset import DocumentDataset\n",
    "\n",
    "dataset: DocumentDataset = DocumentDataset.from_dir(RENATE_ANALYSIS_DIR)\n",
    "dataset.shuffle()\n",
    "\n",
    "len(dataset)"
   ]
  },
  {
   "cell_type": "code",
   "execution_count": 92,
   "metadata": {},
   "outputs": [
    {
     "data": {
      "text/plain": [
       "Counter({<Label.IN: 1>: 1907,\n",
       "         <Label.BEGIN: 0>: 104,\n",
       "         <Label.END: 2>: 100,\n",
       "         <Label.OUT: 3>: 73})"
      ]
     },
     "execution_count": 92,
     "metadata": {},
     "output_type": "execute_result"
    }
   ],
   "source": [
    "dataset._class_counts()"
   ]
  },
  {
   "cell_type": "code",
   "execution_count": 93,
   "metadata": {},
   "outputs": [
    {
     "data": {
      "text/plain": [
       "[0.9904761904761905,\n",
       " 0.05450733752620545,\n",
       " 1.0297029702970297,\n",
       " 1.4054054054054055]"
      ]
     },
     "execution_count": 93,
     "metadata": {},
     "output_type": "execute_result"
    }
   ],
   "source": [
    "dataset.class_weights()"
   ]
  },
  {
   "cell_type": "code",
   "execution_count": 94,
   "metadata": {},
   "outputs": [],
   "source": [
    "training_data, test_data = dataset.split(TRAINING_DATA)"
   ]
  },
  {
   "cell_type": "code",
   "execution_count": 95,
   "metadata": {},
   "outputs": [
    {
     "data": {
      "text/plain": [
       "Counter({<Label.IN: 1>: 1690,\n",
       "         <Label.BEGIN: 0>: 83,\n",
       "         <Label.END: 2>: 81,\n",
       "         <Label.OUT: 3>: 72})"
      ]
     },
     "execution_count": 95,
     "metadata": {},
     "output_type": "execute_result"
    }
   ],
   "source": [
    "training_data._class_counts()"
   ]
  },
  {
   "cell_type": "code",
   "execution_count": 96,
   "metadata": {},
   "outputs": [
    {
     "data": {
      "text/plain": [
       "Counter({<Label.IN: 1>: 217,\n",
       "         <Label.BEGIN: 0>: 21,\n",
       "         <Label.END: 2>: 19,\n",
       "         <Label.OUT: 3>: 1})"
      ]
     },
     "execution_count": 96,
     "metadata": {},
     "output_type": "execute_result"
    }
   ],
   "source": [
    "test_data._class_counts()"
   ]
  },
  {
   "cell_type": "markdown",
   "metadata": {},
   "source": [
    "# Train Model"
   ]
  },
  {
   "cell_type": "code",
   "execution_count": null,
   "metadata": {},
   "outputs": [],
   "source": [
    "import torch\n",
    "\n",
    "BATCH_SIZE = 64\n",
    "EPOCHS = 5\n",
    "WEIGHTS = torch.Tensor(dataset.class_weights())  # For an imbalanced dataset"
   ]
  },
  {
   "cell_type": "code",
   "execution_count": null,
   "metadata": {},
   "outputs": [],
   "source": [
    "%autoreload now"
   ]
  },
  {
   "cell_type": "code",
   "execution_count": null,
   "metadata": {},
   "outputs": [],
   "source": [
    "from document_segmentation.model.page_sequence_tagger import PageSequenceTagger\n",
    "\n",
    "tagger = PageSequenceTagger()"
   ]
  },
  {
   "cell_type": "code",
   "execution_count": null,
   "metadata": {},
   "outputs": [
    {
     "data": {
      "text/plain": [
       "'mps'"
      ]
     },
     "execution_count": 62,
     "metadata": {},
     "output_type": "execute_result"
    }
   ],
   "source": [
    "tagger._device"
   ]
  },
  {
   "cell_type": "code",
   "execution_count": null,
   "metadata": {},
   "outputs": [
    {
     "data": {
      "text/plain": [
       "PageSequenceTagger(\n",
       "  (_page_embedding): PageEmbedding(\n",
       "    (_region_model): RegionEmbeddingSentenceTransformer(\n",
       "      (_transformer_model): SentenceTransformer(\n",
       "        (0): Transformer({'max_seq_length': 128, 'do_lower_case': False}) with Transformer model: RobertaModel \n",
       "        (1): Pooling({'word_embedding_dimension': 768, 'pooling_mode_cls_token': False, 'pooling_mode_mean_tokens': True, 'pooling_mode_max_tokens': False, 'pooling_mode_mean_sqrt_len_tokens': False, 'pooling_mode_weightedmean_tokens': False, 'pooling_mode_lasttoken': False})\n",
       "      )\n",
       "      (_region_type): Embedding(9, 16)\n",
       "      (_linear): Linear(in_features=784, out_features=512, bias=True)\n",
       "    )\n",
       "    (_rnn): LSTM(512, 256, num_layers=2, batch_first=True, dropout=0.1, bidirectional=True)\n",
       "    (_linear): Linear(in_features=512, out_features=256, bias=True)\n",
       "  )\n",
       "  (_rnn): LSTM(256, 256, num_layers=2, batch_first=True, dropout=0.1, bidirectional=True)\n",
       "  (_linear): Linear(in_features=512, out_features=4, bias=True)\n",
       "  (_softmax): Softmax(dim=1)\n",
       ")"
      ]
     },
     "execution_count": 63,
     "metadata": {},
     "output_type": "execute_result"
    }
   ],
   "source": [
    "tagger"
   ]
  },
  {
   "cell_type": "code",
   "execution_count": null,
   "metadata": {},
   "outputs": [
    {
     "name": "stderr",
     "output_type": "stream",
     "text": [
      "100%|██████████| 92/92 [01:10<00:00,  1.30batch/s]\n"
     ]
    },
    {
     "name": "stdout",
     "output_type": "stream",
     "text": [
      "[Loss:\t0.520]\n"
     ]
    },
    {
     "name": "stderr",
     "output_type": "stream",
     "text": [
      "100%|██████████| 92/92 [00:05<00:00, 18.09batch/s]\n"
     ]
    },
    {
     "name": "stdout",
     "output_type": "stream",
     "text": [
      "[Loss:\t0.515]\n"
     ]
    },
    {
     "name": "stderr",
     "output_type": "stream",
     "text": [
      "100%|██████████| 92/92 [00:04<00:00, 18.47batch/s]\n"
     ]
    },
    {
     "name": "stdout",
     "output_type": "stream",
     "text": [
      "[Loss:\t0.515]\n"
     ]
    },
    {
     "name": "stderr",
     "output_type": "stream",
     "text": [
      "100%|██████████| 92/92 [00:04<00:00, 18.64batch/s]\n"
     ]
    },
    {
     "name": "stdout",
     "output_type": "stream",
     "text": [
      "[Loss:\t0.515]\n"
     ]
    },
    {
     "name": "stderr",
     "output_type": "stream",
     "text": [
      "100%|██████████| 92/92 [00:04<00:00, 18.62batch/s]\n"
     ]
    },
    {
     "name": "stdout",
     "output_type": "stream",
     "text": [
      "[Loss:\t0.515]\n"
     ]
    },
    {
     "name": "stderr",
     "output_type": "stream",
     "text": [
      "100%|██████████| 92/92 [00:05<00:00, 18.18batch/s]\n"
     ]
    },
    {
     "name": "stdout",
     "output_type": "stream",
     "text": [
      "[Loss:\t0.515]\n"
     ]
    },
    {
     "name": "stderr",
     "output_type": "stream",
     "text": [
      "100%|██████████| 92/92 [00:05<00:00, 18.19batch/s]\n"
     ]
    },
    {
     "name": "stdout",
     "output_type": "stream",
     "text": [
      "[Loss:\t0.515]\n"
     ]
    },
    {
     "name": "stderr",
     "output_type": "stream",
     "text": [
      "100%|██████████| 92/92 [00:04<00:00, 18.48batch/s]\n"
     ]
    },
    {
     "name": "stdout",
     "output_type": "stream",
     "text": [
      "[Loss:\t0.515]\n"
     ]
    },
    {
     "name": "stderr",
     "output_type": "stream",
     "text": [
      "100%|██████████| 92/92 [00:04<00:00, 19.07batch/s]\n"
     ]
    },
    {
     "name": "stdout",
     "output_type": "stream",
     "text": [
      "[Loss:\t0.514]\n"
     ]
    },
    {
     "name": "stderr",
     "output_type": "stream",
     "text": [
      "100%|██████████| 92/92 [00:05<00:00, 18.26batch/s]"
     ]
    },
    {
     "name": "stdout",
     "output_type": "stream",
     "text": [
      "[Loss:\t0.514]\n"
     ]
    },
    {
     "name": "stderr",
     "output_type": "stream",
     "text": [
      "\n"
     ]
    }
   ],
   "source": [
    "tagger.train_(training_data, EPOCHS, BATCH_SIZE, WEIGHTS.to(tagger._device))"
   ]
  },
  {
   "cell_type": "markdown",
   "metadata": {},
   "source": [
    "# Evaluate Model"
   ]
  },
  {
   "cell_type": "code",
   "execution_count": null,
   "metadata": {},
   "outputs": [
    {
     "name": "stdout",
     "output_type": "stream",
     "text": [
      "Predicted\tActual\tPage ID\tText\tScores\n"
     ]
    },
    {
     "name": "stderr",
     "output_type": "stream",
     "text": [
      "  4%|▍         | 1/24 [00:00<00:04,  5.53batch/s]"
     ]
    },
    {
     "name": "stdout",
     "output_type": "stream",
     "text": [
      "OUT\tOUT\tNL-HaNA_1.04.02_1547_0430.jpg\t\t[0.00023680477170273662, 0.0006503228796645999, 0.00011872695904457942, 0.9989941716194153]\n",
      "BEGIN\tBEGIN\tNL-HaNA_1.04.02_1547_0431.jpg\tMondelingh Berigt ge„; „daen door den E: Cop=n; 1;\t[0.9998762607574463, 6.241842493182048e-05, 3.1839925213716924e-05, 2.9442173399729654e-05]\n",
      "IN\tIN\tNL-HaNA_1.04.02_1547_0432.jpg\tEn motiven wat uijt d' verweijderingen tusschen; d\t[0.002645435044541955, 0.9959866404533386, 0.0009351801709271967, 0.0004327444767113775]\n",
      "IN\tIN\tNL-HaNA_1.04.02_1547_0433.jpg\thet geheele gebret van het Land van Elledetta„; „s\t[0.0004950308357365429, 0.9990591406822205, 0.0003787148161791265, 6.719260272802785e-05]\n",
      "IN\tIN\tNL-HaNA_1.04.02_1547_0434.jpg\tvant perisolisehe Rijck, zijn h:r den ragia; van c\t[0.0002472178020980209, 0.9994496703147888, 0.0002673076814971864, 3.573816502466798e-05]\n",
      "IN\tIN\tNL-HaNA_1.04.02_1547_0435.jpg\tBetuijginge: bij haer hoogh=t wierde, versogt te; \t[0.00018776272190734744, 0.999562680721283, 0.0002247396914754063, 2.476193731126841e-05]\n",
      "IN\tIN\tNL-HaNA_1.04.02_1547_0436.jpg\tmissoeijen zijn h=t weder na zin voorige; Resident\t[0.00019598861399572343, 0.9995716214179993, 0.00020785686501767486, 2.4596889488748275e-05]\n",
      "IN\tIN\tNL-HaNA_1.04.02_1547_0437.jpg\ten haer h=t kwam selffs ook met Een groote; macht \t[0.00014169540372677147, 0.9996100068092346, 0.00022649425955023617, 2.185824268963188e-05]\n",
      "IN\tIN\tNL-HaNA_1.04.02_1547_0438.jpg\t2 h:t den; hadden Bij Eerste gelegenth=t zijn ^ oo\t[0.00016686769959051162, 0.9995763897895813, 0.0002341171057196334, 2.260198198200669e-05]\n",
      "IN\tIN\tNL-HaNA_1.04.02_1547_0439.jpg\tnu mede aen d' kant van tesancoor was; off gecomen\t[0.00014738598838448524, 0.9996127486228943, 0.0002176909038098529, 2.2160489606903866e-05]\n",
      "IN\tIN\tNL-HaNA_1.04.02_1547_0440.jpg\ttoegevinge; corressen, gisen, nogh drijgge„; „ment\t[0.0001431621058145538, 0.9996472597122192, 0.0001878576003946364, 2.1733530957135372e-05]\n",
      "IN\tIN\tNL-HaNA_1.04.02_1547_0441.jpg\ten dewijl alle dagen een Commissaris; een Command:\t[0.00015190543490462005, 0.9995998740196228, 0.00022438076848629862, 2.3782322386978194e-05]\n",
      "IN\tIN\tNL-HaNA_1.04.02_1547_0442.jpg\tvan d E Comp:e, met verdere Bijvoeginge dat; zijn \t[0.00014975712110754102, 0.9995880722999573, 0.00024125416530296206, 2.1008763724239543e-05]\n",
      "IN\tIN\tNL-HaNA_1.04.02_1547_0443.jpg\twijnige tijk door een duijster woerhige zijn; glan\t[0.00015792236081324518, 0.9995962977409363, 0.0002252252888865769, 2.0578590920194983e-05]\n",
      "IN\tIN\tNL-HaNA_1.04.02_1547_0444.jpg\tuijt sulx ontsloot, want het land em de; coopl: wa\t[0.00013799099542666227, 0.9996222257614136, 0.00021911703515797853, 2.0628191123250872e-05]\n",
      "IN\tIN\tNL-HaNA_1.04.02_1547_0445.jpg\tvan d' teruntschap Jongst Eenige bluijckerije; In \t[0.00016201392281800508, 0.9996041655540466, 0.00021059985738247633, 2.3267599317478016e-05]\n",
      "IN\tIN\tNL-HaNA_1.04.02_1547_0446.jpg\tdoese Is moten doen om te Leten, Iwage; dat den Co\t[0.00015185541997198015, 0.9996194839477539, 0.000207376157050021, 2.119735836458858e-05]\n",
      "IN\tIN\tNL-HaNA_1.04.02_1547_0447.jpg\tLoedoart tot manapaer haer verbooden, eenige; nego\t[0.00013306351320352405, 0.9996230602264404, 0.0002252463746117428, 1.8581778931547888e-05]\n",
      "IN\tIN\tNL-HaNA_1.04.02_1547_0448.jpg\tvan des E Comp:s regotie, war op het selve antrus;\t[0.00014798346091993153, 0.999575674533844, 0.0002527312026359141, 2.3642964151804335e-05]\n",
      "IN\tIN\tNL-HaNA_1.04.02_1547_0449.jpg\tdoer bij souden voegen, seer op konden te; 6; Besw\t[0.00017318235768470913, 0.9995793700218201, 0.00022252921189647168, 2.492119892849587e-05]\n",
      "IN\tIN\tNL-HaNA_1.04.02_1547_0450.jpg\tkennisse van boosen te nemen, zoo hebbenske; hun b\t[0.0001447670510970056, 0.9996156692504883, 0.00021877943072468042, 2.074253097816836e-05]\n",
      "IN\tIN\tNL-HaNA_1.04.02_1547_0451.jpg\tontrent dese onderhandelinge, meer end' meer; te b\t[0.00013762508751824498, 0.9995859265327454, 0.0002544884628150612, 2.1929648937657475e-05]\n",
      "IN\tIN\tNL-HaNA_1.04.02_1547_0452.jpg\tder vreede sonder hem te doen geven de ge„; Requin\t[0.0001574214838910848, 0.9995933175086975, 0.00022879843891132623, 2.0545585357467644e-05]\n",
      "IN\tIN\tNL-HaNA_1.04.02_1547_0453.jpg\tdoen over seer onvergenoegt, en daer op geresoldee\t[0.00013521526125259697, 0.9995055198669434, 0.0003355259250383824, 2.3669392248848453e-05]\n",
      "IN\tIN\tNL-HaNA_1.04.02_1547_0454.jpg\thelpen seszertigen en ook niet soo dwaar Jon; wese\t[0.00022366280609276146, 0.9973587393760681, 0.0023803345393389463, 3.727084185811691e-05]\n",
      "END\tEND\tNL-HaNA_1.04.02_1547_0455.jpg\tverbreekende den voornoem fronsuer heer; als oijne\t[3.425911199883558e-05, 0.0001874463341664523, 0.9997749924659729, 3.379386043889099e-06]\n",
      "BEGIN\tBEGIN\tNL-HaNA_1.04.02_8596_0761.jpg\tVan Malacca onder dato 22„e Janu: 1709: —; Extract\t[0.9999228715896606, 5.747918476117775e-05, 1.750862611515913e-05, 2.1780870156362653e-06]\n",
      "IN\tIN\tNL-HaNA_1.04.02_8596_0762.jpg\tVan Malacca onder dato 22„e Janu: 1709; man die bi\t[0.0008915380458347499, 0.9985802173614502, 0.00045334972674027085, 7.482878572773188e-05]\n",
      "IN\tIN\tNL-HaNA_1.04.02_8596_0763.jpg\tVan Malacca, onder dato 22„e Janu: 1709:; over atc\t[0.0002601172018330544, 0.9994339346885681, 0.00027710205176845193, 2.8859221856691875e-05]\n",
      "IN\tIN\tNL-HaNA_1.04.02_8596_0764.jpg\tVan Malacca onder dato 22„e Janu: 1709:; ter selve\t[0.00019505630189087242, 0.999473512172699, 0.0003077995788771659, 2.3652273739571683e-05]\n",
      "IN\tIN\tNL-HaNA_1.04.02_8596_0765.jpg\tVan Malacca onder dato 22„e Janu: 1709:; den EE: h\t[0.00023561176203656942, 0.9977983236312866, 0.0019342959858477116, 3.1746705644764006e-05]\n",
      "END\tEND\tNL-HaNA_1.04.02_8596_0766.jpg\tVan Malacca onder dato 22„e Janu: 1709:; de sterck\t[3.2504041882930323e-05, 0.00017964727885555476, 0.9997850060462952, 2.786491677397862e-06]\n"
     ]
    },
    {
     "name": "stderr",
     "output_type": "stream",
     "text": [
      " 21%|██        | 5/24 [00:00<00:02,  6.80batch/s]"
     ]
    },
    {
     "name": "stdout",
     "output_type": "stream",
     "text": [
      "OUT\tOUT\tNL-HaNA_1.04.02_1547_0614.jpg\t\t[0.0001189231697935611, 0.00040132092544808984, 4.494664608500898e-05, 0.9994348883628845]\n",
      "OUT\tBEGIN\tNL-HaNA_1.04.02_1547_0615.jpg\t\t[4.286131661501713e-05, 8.152954978868365e-05, 2.2358128262567334e-05, 0.999853253364563]\n",
      "BEGIN\tIN\tNL-HaNA_1.04.02_1547_0616.jpg\t1: de weduwe van Cornelis verdonck zal=r - - - - -\t[0.9996368885040283, 7.999297667993233e-05, 5.104193769511767e-05, 0.00023214492830447853]\n",
      "IN\tIN\tNL-HaNA_1.04.02_1547_0617.jpg\tgeruwde Persoonen met haare familjen,; anur Adriaa\t[0.011218822561204433, 0.9818529486656189, 0.002009269082918763, 0.004918962717056274]\n",
      "IN\tIN\tNL-HaNA_1.04.02_1547_0618.jpg\t26. huijs gesinnen Naamen toenamen - - - - - - - -\t[0.0015154351713135839, 0.9976119995117188, 0.0006167812971398234, 0.0002557664120104164]\n",
      "IN\tIN\tNL-HaNA_1.04.02_1547_0619.jpg\tP„r Transport Copper : 348. —; 1: - - - - - - - - \t[0.00031454244162887335, 0.9993447661399841, 0.00028837512945756316, 5.231601244304329e-05]\n",
      "IN\tIN\tNL-HaNA_1.04.02_1547_0620.jpg\t54 huijsgesinnen Namen - - - - - - - - - - - - - -\t[0.0001730702060740441, 0.9995419979095459, 0.00025735548115335405, 2.7692076400853693e-05]\n",
      "IN\tIN\tNL-HaNA_1.04.02_1547_0621.jpg\t„r Transport Coppen. —. 591.; 1. 3 5. . . . . . . \t[0.0001797497970983386, 0.9995457530021667, 0.000245692121097818, 2.8831776944571175e-05]\n",
      "IN\tIN\tNL-HaNA_1.04.02_1547_0622.jpg\t8 6. huijsgesinnen namen toenamen - - - - - - - - \t[0.0001657187385717407, 0.9995622038841248, 0.0002464130229782313, 2.559519089118112e-05]\n",
      "IN\tIN\tNL-HaNA_1.04.02_1547_0623.jpg\t1 1. - - - - - - - - - - - - - - - - - - - - - - -\t[0.0001550109009258449, 0.9995924830436707, 0.00022797776910010725, 2.451962063787505e-05]\n",
      "IN\tIN\tNL-HaNA_1.04.02_1547_0624.jpg\t1. de weduwe van balten Cannemans. - . . . . . . C\t[0.0001551731547806412, 0.9996200799942017, 0.0001995248458115384, 2.5173245376208797e-05]\n",
      "IN\tIN\tNL-HaNA_1.04.02_1547_0625.jpg\t=Transport Coppen 952. —; 1. 1. 1. . . . . . . . .\t[0.00015715892368461937, 0.9995825886726379, 0.00023421189689543098, 2.605890949780587e-05]\n",
      "IN\tIN\tNL-HaNA_1.04.02_1547_0626.jpg\t150. huijsgesinnen Naamen toenaamen; Europiaanse m\t[0.00015898940910119563, 0.999584972858429, 0.00023144649458117783, 2.45811534114182e-05]\n",
      "IN\tIN\tNL-HaNA_1.04.02_1547_0627.jpg\tP„r Transport Coppen. . 1128. —; naet soons doeket\t[0.0001498389319749549, 0.9996107220649719, 0.00021476909751072526, 2.4629140170873143e-05]\n",
      "IN\tIN\tNL-HaNA_1.04.02_1547_0628.jpg\thuijsgesinnen Naamen - - - - - - - - - - - - - - -\t[0.00013358553405851126, 0.9996083378791809, 0.0002323218941455707, 2.5724040824570693e-05]\n",
      "IN\tIN\tNL-HaNA_1.04.02_1547_0629.jpg\tP„r Transport Coppen —. 1260. —; moeder vrouwen li\t[0.00013752721133641899, 0.9996154308319092, 0.00022422298206947744, 2.2784377506468445e-05]\n",
      "IN\tIN\tNL-HaNA_1.04.02_1547_0630.jpg\t176 huijsgesinnen Naamen; 1. weduwe van pauel borg\t[0.00014125606685411185, 0.9995754361152649, 0.00025712756905704737, 2.626951754791662e-05]\n",
      "IN\tIN\tNL-HaNA_1.04.02_1547_0631.jpg\tP„r Transport Coppen. - 1394. —; moeder vouwen lin\t[0.0001455113524571061, 0.9996073842048645, 0.00022013590205460787, 2.710346416279208e-05]\n",
      "IN\tIN\tNL-HaNA_1.04.02_1547_0632.jpg\t205. huijsgesinnen naamen; 1. francisco alves. - -\t[0.0001345469063380733, 0.9996019005775452, 0.00024080442381091416, 2.280391527165193e-05]\n",
      "IN\tIN\tNL-HaNA_1.04.02_1547_0633.jpg\tP=r Transport Coppen. 1538. —; ::; mans múren, Soo\t[0.00018124667985830456, 0.9995200634002686, 0.00026994862128049135, 2.872189179470297e-05]\n",
      "IN\tIN\tNL-HaNA_1.04.02_1547_0634.jpg\t1. pasquaal d' Croes. - ..; 1. Isaak Leraan van ba\t[0.00014702290354762226, 0.9995790123939514, 0.00024925480829551816, 2.4639635739731602e-05]\n",
      "IN\tIN\tNL-HaNA_1.04.02_1547_0635.jpg\tDoor Voordragt Coppen 1663; 1. 5. —; 1.; 1. . . . \t[0.0001345339696854353, 0.9995181560516357, 0.00032075418857857585, 2.658223638718482e-05]\n",
      "IN\tIN\tNL-HaNA_1.04.02_1547_0636.jpg\t259. huijsgesinnen Naamen; _o; 1. anjela dunies-; \t[0.00022099762281868607, 0.9967189431190491, 0.00301178521476686, 4.826578515348956e-05]\n",
      "END\tEND\tNL-HaNA_1.04.02_1547_0637.jpg\tmangvrou, soons, dogters, susters, broeder, schoon\t[2.907001726271119e-05, 0.00016271437925752252, 0.9998050332069397, 3.134750841127243e-06]\n",
      "BEGIN\tBEGIN\tNL-HaNA_1.04.02_3589_0657.jpg\tExtract uijt de Gehoudene; aantekening door den Op\t[0.9998883008956909, 8.679385791765526e-05, 2.2449996322393417e-05, 2.47865796154656e-06]\n",
      "IN\tIN\tNL-HaNA_1.04.02_3589_0658.jpg\tantwoord als eenvoudig, Ja of en een, mede; te bre\t[0.0011596046388149261, 0.9982404708862305, 0.0005239630700089037, 7.590634049847722e-05]\n",
      "IN\tIN\tNL-HaNA_1.04.02_3589_0659.jpg\theen te gaan, dog toen wierd hij nog; meer verleeg\t[0.00022658372472506016, 0.9994794726371765, 0.000267906958470121, 2.6108629754162394e-05]\n",
      "IN\tIN\tNL-HaNA_1.04.02_3589_0660.jpg\tkelijk was, zig over dat geval niet ab„; leen zeer\t[0.00021025862952228636, 0.9995361566543579, 0.00023144378792494535, 2.2129817807581276e-05]\n",
      "IN\tIN\tNL-HaNA_1.04.02_3589_0661.jpg\tden 30 jJanuorij Donderdag zond lij de ordinarie A\t[0.0001841401244746521, 0.9995967745780945, 0.00019946994143538177, 1.968838660104666e-05]\n",
      "IN\tIN\tNL-HaNA_1.04.02_3589_0662.jpg\tkelijk was, tig over dat geval niet; leen zeer ge-\t[0.00017228680371772498, 0.9995904564857483, 0.000217804015846923, 1.9398483345867135e-05]\n",
      "IN\tIN\tNL-HaNA_1.04.02_3589_0663.jpg\tden 30 januorij Donderdag zond lij de ordinare Age\t[0.0001651485508773476, 0.9995487332344055, 0.00026622641598805785, 1.9876964870491065e-05]\n",
      "IN\tIN\tNL-HaNA_1.04.02_3589_0664.jpg\tonverkogt bleef legge, doordien de; Paleatcherijse\t[0.00017085055878851563, 0.9995781779289246, 0.00023282899928744882, 1.8094002371071838e-05]\n",
      "IN\tIN\tNL-HaNA_1.04.02_3589_0665.jpg\touden gang hebben gegaan; hoe zij„; ho:t 't zedert\t[0.00016039553156588227, 0.9996116757392883, 0.00020852494344580919, 1.9425517166382633e-05]\n",
      "IN\tIN\tNL-HaNA_1.04.02_3589_0666.jpg\timmers zelfs kon verbieden om in onze; pagterijen \t[0.00015421395073644817, 0.9996200799942017, 0.00020779597980435938, 1.785496533557307e-05]\n",
      "IN\tIN\tNL-HaNA_1.04.02_3589_0667.jpg\tkopen, en zulks hadde willen beletten, door; „hun;\t[0.0001923588861245662, 0.9995909333229065, 0.00019756387337110937, 1.9170536688761786e-05]\n",
      "IN\tIN\tNL-HaNA_1.04.02_3589_0668.jpg\tcasche wijse tabak op de eene of andere; wijze zel\t[0.00018361455295234919, 0.9995908141136169, 0.00020539412798825651, 2.009813761105761e-05]\n",
      "IN\tIN\tNL-HaNA_1.04.02_3589_0669.jpg\topzigt voor zig gehoopt en verwagt had,; bij zijn \t[0.00016683602007105947, 0.9995905756950378, 0.00022427555813919753, 1.8367938537267037e-05]\n",
      "IN\tIN\tNL-HaNA_1.04.02_3589_0670.jpg\toneenigheijd afschildende, even eens als; of zijn \t[0.00017323407519143075, 0.9995852112770081, 0.00022169995645526797, 1.9920445993193425e-05]\n",
      "IN\tIN\tNL-HaNA_1.04.02_3589_0671.jpg\tden 20 februarij Dingsdag liet zijn wel Ed: Agtb: \t[0.00017051598115358502, 0.9994738698005676, 0.0003347429446876049, 2.0807419787161052e-05]\n",
      "IN\tIN\tNL-HaNA_1.04.02_3589_0672.jpg\tgens aan zijne zijde, het geval omtrend; zo eenen \t[0.00028895208379253745, 0.9976970553398132, 0.001983575290068984, 3.0452565624727868e-05]\n",
      "END\tEND\tNL-HaNA_1.04.02_3589_0673.jpg\ten borg te dragen, dat hij zo inden verkoop; van z\t[3.44669351761695e-05, 0.0001718446146696806, 0.9997909665107727, 2.7923447305511218e-06]\n",
      "BEGIN\tBEGIN\tNL-HaNA_1.04.02_1188_0433.jpg\tDecembr. 1651. In't schip den Drommedaris; Daghreg\t[0.9998942613601685, 8.502013224642724e-05, 1.8341866962146014e-05, 2.378815906922682e-06]\n",
      "IN\tIN\tNL-HaNA_1.04.02_1188_0434.jpg\tDecemb. 1651. In't schip den Drommedaris; weijnigh\t[0.0010639462852850556, 0.9983692765235901, 0.00048524324665777385, 8.146982145262882e-05]\n",
      "IN\tIN\tNL-HaNA_1.04.02_1188_0435.jpg\tDecemb. 1651 In't schip den Drommedavis.; Omtrent \t[0.00028434928390197456, 0.9994383454322815, 0.0002494259097147733, 2.790839789668098e-05]\n",
      "IN\tIN\tNL-HaNA_1.04.02_1188_0436.jpg\tDecemb. 1651. In't schip den Drommedaris.; 25=en p\t[0.00019825327035505325, 0.9995514750480652, 0.0002272466808790341, 2.2955304302740842e-05]\n",
      "IN\tIN\tNL-HaNA_1.04.02_1188_0437.jpg\tDecemb. 1651. In't schip den Drommedadris; heen, I\t[0.00022811318922322243, 0.9995101690292358, 0.00023881766537670046, 2.28630979108857e-05]\n",
      "IN\tIN\tNL-HaNA_1.04.02_1188_0438.jpg\tDecemb: 1651.; In't schip den Rremmedaris; Officie\t[0.00019220422836951911, 0.9995704293251038, 0.00021569395903497934, 2.1668782210326754e-05]\n",
      "IN\tIN\tNL-HaNA_1.04.02_1188_0439.jpg\tJanuario Ao. 1652. In't schip den Drommedaris; Adi\t[0.00015711062587797642, 0.9996271133422852, 0.00019572957535274327, 2.007457624131348e-05]\n",
      "IN\tIN\tNL-HaNA_1.04.02_1188_0440.jpg\tJanuarij 1652.; In't schip den Drommedaris; int af\t[0.00019128712301608175, 0.9995597004890442, 0.00022788377827964723, 2.109483648382593e-05]\n",
      "IN\tIN\tNL-HaNA_1.04.02_1188_0441.jpg\tIn't schip den Drommedaris 196; met het bequaeme w\t[0.00015319956582970917, 0.9996181726455688, 0.00021186649973969907, 1.6739404600230046e-05]\n",
      "IN\tIN\tNL-HaNA_1.04.02_1188_0442.jpg\tJanuarij 1652. In't schip den Drommedavis; 10=e d=\t[0.0001781304890755564, 0.9995724558830261, 0.00023305560171138495, 1.6334368410753086e-05]\n",
      "IN\tIN\tNL-HaNA_1.04.02_1188_0443.jpg\tJanuarij 1652.; In't schip den Drommedaris.; Savon\t[0.00015886148321442306, 0.999617338180542, 0.00020614844106603414, 1.76579924300313e-05]\n",
      "IN\tIN\tNL-HaNA_1.04.02_1188_0444.jpg\tJanuarij 1652. In't schip den Drommedaris; sulcx d\t[0.00016756102559156716, 0.9995942711830139, 0.00021901773288846016, 1.918922134791501e-05]\n",
      "IN\tIN\tNL-HaNA_1.04.02_1188_0445.jpg\tJanuarij 1652.; In't schip den Drommedaris.; 23=e \t[0.0001673159858910367, 0.9995985627174377, 0.0002133707021130249, 2.0723075067508034e-05]\n",
      "IN\tIN\tNL-HaNA_1.04.02_1188_0446.jpg\tFebi. 1652. In't schip den Drommedaris.; Brimofeb.\t[0.00015376415103673935, 0.9996222257614136, 0.00020763477368745953, 1.6325227989000268e-05]\n",
      "IN\tIN\tNL-HaNA_1.04.02_1188_0447.jpg\tIn't schip den Drommedaris; feb. 1652.; 19=e d=os \t[0.00016936272731982172, 0.999614953994751, 0.000199252855964005, 1.6463338397443295e-05]\n",
      "IN\tIN\tNL-HaNA_1.04.02_1188_0448.jpg\tIn't schip den Drommedaris; feb„ 1652; drie op den\t[0.0001444661320419982, 0.9995880722999573, 0.00024828483583405614, 1.9170700397808105e-05]\n",
      "IN\tIN\tNL-HaNA_1.04.02_1188_0449.jpg\tIn't Schip den drommedaris; brete 8. gr: 18 min: e\t[0.00014548968465533108, 0.999618649482727, 0.0002178569120587781, 1.796906508388929e-05]\n",
      "IN\tIN\tNL-HaNA_1.04.02_1188_0450.jpg\tMartio 1652. Int schip den Drommedaris.; Heden ons\t[0.00015665018872823566, 0.9996284246444702, 0.00019739048730116338, 1.752987918735016e-05]\n",
      "IN\tIN\tNL-HaNA_1.04.02_1188_0451.jpg\tIn't schip den Drommedarit; 201; 16=e do de wint h\t[0.00016166757268365473, 0.9996070265769958, 0.00021385634317994118, 1.757112841005437e-05]\n",
      "IN\tIN\tNL-HaNA_1.04.02_1188_0452.jpg\talsoo van hem vernamen dat tot dato noch een heele\t[0.00017596363613847643, 0.999586284160614, 0.000218189787119627, 1.959084147529211e-05]\n",
      "IN\tIN\tNL-HaNA_1.04.02_1188_0453.jpg\tstelden cours Oende Oost ten z tusschen beijden; d\t[0.00015005560999270529, 0.999610960483551, 0.0002201320749009028, 1.881466778286267e-05]\n",
      "IN\tIN\tNL-HaNA_1.04.02_1188_0454.jpg\tin Godes name aente doen, ende van nu tot; morgen \t[0.00015984286437742412, 0.9996237754821777, 0.0001981817913474515, 1.8173292119172402e-05]\n",
      "IN\tIN\tNL-HaNA_1.04.02_1188_0455.jpg\tApril 1652. In't schip den Drommedaris; 2=e d=o wi\t[0.00016117803170345724, 0.9995879530906677, 0.0002323860680917278, 1.8442015061737038e-05]\n",
      "IN\tIN\tNL-HaNA_1.04.02_1188_0456.jpg\tApril 1652.; In't schip den Drommedaris.; seijmsn:\t[0.0001502198720118031, 0.9996243715286255, 0.0002083667932311073, 1.7027052308549173e-05]\n",
      "IN\tIN\tNL-HaNA_1.04.02_1188_0457.jpg\tApril 1652. In't schip den Drommedaris.; off missc\t[0.00022899359464645386, 0.9994760155677795, 0.00027253711596131325, 2.2549120330950245e-05]\n",
      "IN\tIN\tNL-HaNA_1.04.02_1188_0458.jpg\tIn't schip den Drommedaris ter Rheede; aen Cabo de\t[0.0001645173178985715, 0.9996178150177002, 0.0001991804747376591, 1.8416270904708654e-05]\n",
      "IN\tIN\tNL-HaNA_1.04.02_1188_0459.jpg\tIn't schip den Drommedaris ter Rhede; aen Cabo de \t[0.00015446972975041717, 0.9995827078819275, 0.0002445788122713566, 1.824173887143843e-05]\n",
      "IN\tIN\tNL-HaNA_1.04.02_1188_0460.jpg\tIn't schip den Drommedaris ter Rheede.; aende Cabo\t[0.000148483770317398, 0.999638557434082, 0.00019613935728557408, 1.682526090007741e-05]\n",
      "IN\tIN\tNL-HaNA_1.04.02_1188_0461.jpg\tIn't schip den Drommedaris ter Rhede; aen Cabo de \t[0.0001878955081338063, 0.9995649456977844, 0.00022776266268920153, 1.938362038345076e-05]\n",
      "IN\tIN\tNL-HaNA_1.04.02_1188_0462.jpg\tApril 1652. In't schip den Drommedaris ter Rhede; \t[0.00020249154476914555, 0.9995412826538086, 0.00023575988598167896, 2.049301292572636e-05]\n",
      "IN\tIN\tNL-HaNA_1.04.02_1188_0463.jpg\taen Cabo de boâ Esperance,; Soo dated= becoomen ti\t[0.00017302886408288032, 0.9995939135551453, 0.00021395922522060573, 1.9047583919018507e-05]\n",
      "IN\tIN\tNL-HaNA_1.04.02_1188_0464.jpg\tApril 1652. In't schip den Drommedaris ter Rhede.;\t[0.00015288787835743278, 0.9996234178543091, 0.00020661125017795712, 1.7049182133632712e-05]\n",
      "IN\tIN\tNL-HaNA_1.04.02_1188_0465.jpg\tIn't schip den Drommedaris ter Rhede; aen Cabo de \t[0.00014908054436091334, 0.9996223449707031, 0.00021163051133044064, 1.6935873645707034e-05]\n",
      "IN\tIN\tNL-HaNA_1.04.02_1188_0466.jpg\tApril 1652. Init schip den Drommedaris ter Rhede; \t[0.00018062794697470963, 0.9995794892311096, 0.0002224706840934232, 1.74513606907567e-05]\n",
      "IN\tIN\tNL-HaNA_1.04.02_1188_0467.jpg\t3 April 1652. Int schip den Drommedaris ter Rhede;\t[0.0001459101913496852, 0.9996142387390137, 0.0002233800623798743, 1.6484740626765415e-05]\n",
      "IN\tIN\tNL-HaNA_1.04.02_1188_0468.jpg\t2April 1652 In't schip den Drommdaris ter Rhede.; \t[0.00020158679399173707, 0.9995540976524353, 0.0002240206958958879, 2.0255296476534568e-05]\n",
      "IN\tIN\tNL-HaNA_1.04.02_1188_0469.jpg\tApril 1652. In't schip den Drommedaris ter Rhede; \t[0.00016231393965426832, 0.9995869994163513, 0.000231963160331361, 1.8729486328084022e-05]\n",
      "IN\tIN\tNL-HaNA_1.04.02_1188_0470.jpg\t2 April 1652. In 't schip den Drommedaris ter Shel\t[0.0001810408430173993, 0.9995777010917664, 0.0002239085006294772, 1.73716416611569e-05]\n",
      "IN\tIN\tNL-HaNA_1.04.02_1188_0471.jpg\t3 April 1652 In't schip den Drommedaris ter Rhede.\t[0.00014704393106512725, 0.999613344669342, 0.00022354332031682134, 1.6133644749061204e-05]\n",
      "IN\tIN\tNL-HaNA_1.04.02_1188_0472.jpg\tApril 1652. In't schip den Drammdaaris ter shede.;\t[0.00016469803813379258, 0.9995112419128418, 0.0003037478600163013, 2.019946805376094e-05]\n",
      "IN\tIN\tNL-HaNA_1.04.02_1188_0473.jpg\taen Cabo de boâ Esperance.; Savonts even nasons on\t[0.00022712517238687724, 0.9978172779083252, 0.0019204734126105905, 3.51089438481722e-05]\n",
      "END\tEND\tNL-HaNA_1.04.02_1188_0474.jpg\tApril 1652. In't schip den Drommedaris ter Rhede; \t[3.2396175811300054e-05, 0.00016047268582042307, 0.9998045563697815, 2.5969677608372876e-06]\n",
      "OUT\tOUT\tNL-HaNA_1.04.02_1547_0236.jpg\t\t[0.00027818692615255713, 0.0005887658335268497, 0.00014860679220873863, 0.9989843964576721]\n",
      "BEGIN\tBEGIN\tNL-HaNA_1.04.02_1547_0237.jpg\taan d'E: Heer Alexander; Wigmans Coopman en P„r; g\t[0.9998546838760376, 6.320248212432489e-05, 4.518053538049571e-05, 3.696012936416082e-05]\n",
      "IN\tIN\tNL-HaNA_1.04.02_1547_0238.jpg\teenige misnoegentheijt, in die natie ligt aan„; „w\t[0.0024784677661955357, 0.9962366223335266, 0.0008351995493285358, 0.00044971585157327354]\n",
      "IN\tIN\tNL-HaNA_1.04.02_1547_0239.jpg\teen vast voorneemen, 'tsij het leven aldaar te; ve\t[0.00047981241368688643, 0.9990280866622925, 0.0004280015709809959, 6.408875196939334e-05]\n",
      "IN\tIN\tNL-HaNA_1.04.02_1547_0240.jpg\t„gemelte schrijvens tomtwaaren, ook hoe uEE:; goet\t[0.00019357632845640182, 0.9995428323745728, 0.0002352127485210076, 2.8355558242765255e-05]\n",
      "IN\tIN\tNL-HaNA_1.04.02_1547_0241.jpg\tHeest in alle mijne brieven heb ik voor uEE:; mijn\t[0.00015807956515345722, 0.9995736479759216, 0.00024290758301503956, 2.5369574359501712e-05]\n",
      "IN\tIN\tNL-HaNA_1.04.02_1547_0242.jpg\tzout en sandel, onder behoorlijk verbant schrift; \t[0.00017430787556804717, 0.9995781779289246, 0.00022279312543105334, 2.4664912416483276e-05]\n",
      "IN\tIN\tNL-HaNA_1.04.02_1547_0243.jpg\tVE: bekent gemaakt, dat Eergister van; Calicoet al\t[0.00015089899534359574, 0.9996100068092346, 0.00021916828700341284, 1.986251118069049e-05]\n",
      "IN\tIN\tNL-HaNA_1.04.02_1547_0244.jpg\tmijs goet gedagt heeft hier ter neder te; stellen,\t[0.00015168070967774838, 0.9995908141136169, 0.00023496508947573602, 2.247204065497499e-05]\n",
      "IN\tIN\tNL-HaNA_1.04.02_1547_0245.jpg\ten't belangh der generaale Comp:e, omtr. t; den st\t[0.00015052557864692062, 0.9996137022972107, 0.00021423214639071375, 2.1523979739868082e-05]\n",
      "IN\tIN\tNL-HaNA_1.04.02_1547_0246.jpg\twat belangt het aanslaan van 'tsandelhout; uijt uE\t[0.00016495355521328747, 0.9996053576469421, 0.00020718622545246035, 2.2514517695526592e-05]\n",
      "IN\tIN\tNL-HaNA_1.04.02_1547_0247.jpg\tuE: E: agtb: hoog g'Extimeerde, en overaange„; „na\t[0.0001448383554816246, 0.9996036887168884, 0.0002287571842316538, 2.2736096070730127e-05]\n",
      "IN\tIN\tNL-HaNA_1.04.02_1547_0248.jpg\tbetuijgen, Indien uw EE: agtb: ondersoght; en over\t[0.00017941388068720698, 0.999534010887146, 0.0002649787929840386, 2.1515203115995973e-05]\n",
      "IN\tIN\tNL-HaNA_1.04.02_1547_0249.jpg\tCochim hadden mij gesz:, en mijn overkomst; aldaar\t[0.00015017495024949312, 0.9996028542518616, 0.00022511424322146922, 2.19117064261809e-05]\n",
      "IN\tIN\tNL-HaNA_1.04.02_1547_0250.jpg\tverguningen, in't bijweesen van d'aff gesanten,; a\t[0.00014107557944953442, 0.9996063113212585, 0.00023072636395227164, 2.1894402379984967e-05]\n",
      "IN\tIN\tNL-HaNA_1.04.02_1547_0251.jpg\tvoorsz:, en seer genereuse; Heer; manhafte, Welwij\t[0.00014988206385169178, 0.9995933175086975, 0.0002366692351642996, 2.0192746887914836e-05]\n",
      "IN\tIN\tNL-HaNA_1.04.02_1547_0252.jpg\tdie mij In't portugees geschrift een vol; brogt, d\t[0.0001346996723441407, 0.9996028542518616, 0.0002459187526255846, 1.655113919696305e-05]\n"
     ]
    },
    {
     "name": "stderr",
     "output_type": "stream",
     "text": [
      " 42%|████▏     | 10/24 [00:01<00:01, 13.70batch/s]"
     ]
    },
    {
     "name": "stdout",
     "output_type": "stream",
     "text": [
      "IN\tIN\tNL-HaNA_1.04.02_1547_0253.jpg\tvan d' Ed=le H„r Directeur; en Raad tot Zouratta z\t[0.0001891237625386566, 0.999565064907074, 0.00022197455109562725, 2.3785076336935163e-05]\n",
      "IN\tIN\tNL-HaNA_1.04.02_1547_0254.jpg\ttwoorenstaande formelier, gisteren voor de; middag\t[0.00015430280473083258, 0.9995915293693542, 0.00023246802447829396, 2.1642721549142152e-05]\n",
      "IN\tIN\tNL-HaNA_1.04.02_1547_0255.jpg\tNo/a, ook wel 140. maar tegens 135. gereek. t,; â \t[0.0001369184465147555, 0.9996145963668823, 0.0002278776082675904, 2.0600311472662725e-05]\n",
      "IN\tIN\tNL-HaNA_1.04.02_1547_0256.jpg\tmeugt hoedanigh ick volgens mijn schuldige; pligt;\t[0.00015061532030813396, 0.9996059536933899, 0.00022092173458077013, 2.2558742784895003e-05]\n",
      "IN\tIN\tNL-HaNA_1.04.02_1547_0257.jpg\tuE: twee aangenaame brieven gedat. t; 22. en en 25\t[0.00014808033301960677, 0.9995786547660828, 0.0002490175829734653, 2.4197321181418374e-05]\n",
      "IN\tIN\tNL-HaNA_1.04.02_1547_0258.jpg\tvorsten mondelijk raatspleeginge gehouden; hebbend\t[0.00013681722339242697, 0.9995998740196228, 0.00024161733745131642, 2.1650765120284632e-05]\n",
      "IN\tIN\tNL-HaNA_1.04.02_1547_0259.jpg\twoord, dat uE: alhier zijnde geen de minste; weder\t[0.0001569539454067126, 0.9995991587638855, 0.00021944448235444725, 2.440042226226069e-05]\n",
      "IN\tIN\tNL-HaNA_1.04.02_1547_0260.jpg\tder Coopmansz: in Zouratta als het aff„; wijsen va\t[0.00015021147555671632, 0.9995923638343811, 0.00023514433996751904, 2.2239048121264204e-05]\n",
      "IN\tIN\tNL-HaNA_1.04.02_1547_0261.jpg\tsier avont sond mij den ko: van Sammorijn; uw. E: \t[0.00021650946291629225, 0.9994970560073853, 0.00025943576474674046, 2.6900861485046335e-05]\n",
      "IN\tIN\tNL-HaNA_1.04.02_1547_0262.jpg\tP: S: alles wat ik volgens mijn geringe ver„; „sta\t[0.00014714391727466136, 0.9996225833892822, 0.00020933999621775, 2.0880532247247174e-05]\n",
      "IN\tIN\tNL-HaNA_1.04.02_1547_0263.jpg\tden Jnhoude derzelve, en ons gedaan versoek; verde\t[0.00015111546963453293, 0.9996024966239929, 0.00022458151215687394, 2.1860958440811373e-05]\n",
      "IN\tIN\tNL-HaNA_1.04.02_1547_0264.jpg\tE: Agtb: Gebiedende Heer; mijn heeft niet omstandi\t[0.00014188843488227576, 0.9996066689491272, 0.00023083429550752044, 2.0573348592733964e-05]\n",
      "IN\tIN\tNL-HaNA_1.04.02_1547_0265.jpg\tgebeurde dat op uw EE: agtb: begeerte sigh; op rij\t[0.00014583062147721648, 0.9996114373207092, 0.0002222377370344475, 2.050707917078398e-05]\n",
      "IN\tIN\tNL-HaNA_1.04.02_1547_0266.jpg\tCochim; aan d' E: E: Heer adriaan; r; van ommen Co\t[0.0001598841045051813, 0.9995728135108948, 0.0002452688931953162, 2.2001631805323996e-05]\n",
      "IN\tIN\tNL-HaNA_1.04.02_1547_0267.jpg\twaarop ick mij ook verlaaten, niet twijffelende; o\t[0.00014637038111686707, 0.9996046423912048, 0.00022593063476961106, 2.3097400116967037e-05]\n",
      "IN\tIN\tNL-HaNA_1.04.02_1547_0268.jpg\tbetreft den Coningh van Sammorijn soo wel; als d' \t[0.00017420145741198212, 0.9995711445808411, 0.00023209888604469597, 2.2576292394660413e-05]\n",
      "IN\tIN\tNL-HaNA_1.04.02_1547_0269.jpg\tverwerpt, soo kan hij ons in den handel aldaar; so\t[0.00014762242790311575, 0.9995868802070618, 0.00024176794977393, 2.3751277694827877e-05]\n",
      "IN\tIN\tNL-HaNA_1.04.02_1547_0270.jpg\t'twelk doende een groote affschrick in de; herten \t[0.0001534726470708847, 0.99946528673172, 0.0003581502824090421, 2.3135533410822973e-05]\n",
      "IN\tIN\tNL-HaNA_1.04.02_1547_0271.jpg\tden markt vermeestert, en konnen ook op dien; voer\t[0.00019791271188296378, 0.9976755976676941, 0.002093963325023651, 3.2625201129121706e-05]\n",
      "END\tEND\tNL-HaNA_1.04.02_1547_0272.jpg\tbehulpsaamh. t te bewijsen, op dat dien Corl in; g\t[3.198299600626342e-05, 0.00018760524108074605, 0.9997773766517639, 3.085959860982257e-06]\n",
      "BEGIN\tBEGIN\tNL-HaNA_1.04.02_1547_0108.jpg\top desen holvn en dass: matthijs in ve totenende a\t[0.9999078512191772, 6.723916158080101e-05, 2.2401523892767727e-05, 2.4443186248390703e-06]\n",
      "IN\tIN\tNL-HaNA_1.04.02_1547_0109.jpg\tVoegens en ein nwige tebeversigen stan de en heele\t[0.0009845743188634515, 0.9956860542297363, 0.0032338800374418497, 9.552541450830176e-05]\n",
      "END\tEND\tNL-HaNA_1.04.02_1547_0110.jpg\tgemerkt &E.; Waarmeede; Edele hoog agtbaare gebied\t[3.412052683415823e-05, 0.00013813861005473882, 0.9998254179954529, 2.3535508262284566e-06]\n",
      "BEGIN\tBEGIN\tNL-HaNA_1.04.02_1547_0107.jpg\tExtracten uijt de Daagelijkse Aanteeckeningen, Con\t[0.9999264478683472, 3.677891436382197e-05, 3.41428276442457e-05, 2.685658728296403e-06]\n",
      "END\tEND\tNL-HaNA_1.04.02_1547_0108.jpg\top desen holvn en dass: matthijs in ve totenende a\t[6.618881889153272e-05, 9.215174213750288e-05, 0.9998382329940796, 3.4331415008637123e-06]\n",
      "BEGIN\tBEGIN\tNL-HaNA_1.04.02_1490_0583.jpg\tCopije Secrete Resolutien; genomen bij de Ho: Rege\t[0.9998964071273804, 8.327567047672346e-05, 1.8155256839236245e-05, 2.1962321170576615e-06]\n",
      "IN\tIN\tNL-HaNA_1.04.02_1490_0584.jpg\tin presentie; van zijn Ed. t te; volbrengen, soo s\t[0.0009327990701422095, 0.9985276460647583, 0.0004648854664992541, 7.458525215042755e-05]\n",
      "IN\tIN\tNL-HaNA_1.04.02_1490_0585.jpg\tdat 's Comp. s dienaren en wel voorna„; mentlijk p\t[0.00029814723529852927, 0.9993829727172852, 0.0002894828503485769, 2.9453252864186652e-05]\n",
      "IN\tIN\tNL-HaNA_1.04.02_1490_0586.jpg\tbij ons te boeck staen voor niet wel; geintentione\t[0.00020511703041847795, 0.9995520710945129, 0.0002212338731624186, 2.1520969312405214e-05]\n",
      "IN\tIN\tNL-HaNA_1.04.02_1490_0587.jpg\tgoetgevonden dat dese ontbiedinge; bij ons gemeen \t[0.00019058215548284352, 0.9995706677436829, 0.00021933508105576038, 1.944709219969809e-05]\n",
      "IN\tIN\tNL-HaNA_1.04.02_1490_0588.jpg\tschaap harder herwaerts aen te doen; overkomen, ge\t[0.00016912451246753335, 0.9995978474617004, 0.0002129672357114032, 2.0049288650625385e-05]\n",
      "IN\tIN\tNL-HaNA_1.04.02_1490_0589.jpg\tmilitie daer in te houden in goede; ordre soo is v\t[0.00016027310630306602, 0.9996232986450195, 0.0001979115913854912, 1.8489863577997312e-05]\n",
      "IN\tIN\tNL-HaNA_1.04.02_1490_0590.jpg\tdertig of veertigh persoonen ten; hoogsten; genome\t[0.00016150603187270463, 0.9996106028556824, 0.0002075468364637345, 2.0351202692836523e-05]\n",
      "IN\tIN\tNL-HaNA_1.04.02_1490_0591.jpg\twillem van outhoorn, wouter; valkenier, abraham va\t[0.0001724033645587042, 0.9996050000190735, 0.0002046171430265531, 1.8028826161753386e-05]\n",
      "IN\tIN\tNL-HaNA_1.04.02_1490_0592.jpg\tsijner goet staende maentgelden; en verdere annexe\t[0.00015891017392277718, 0.9995977282524109, 0.00022392217942979187, 1.942415110534057e-05]\n",
      "IN\tIN\tNL-HaNA_1.04.02_1490_0593.jpg\tmaer sijne valsche betigters; en aenklagers tumput\t[0.0001529269793536514, 0.9996263980865479, 0.00020294476416893303, 1.7699829186312854e-05]\n",
      "IN\tIN\tNL-HaNA_1.04.02_1490_0594.jpg\taen uwe Edelhedens, niet; demoedig versoeck, dat u\t[0.0001540794619359076, 0.9996145963668823, 0.00021330415620468557, 1.796768992790021e-05]\n",
      "IN\tIN\tNL-HaNA_1.04.02_1490_0595.jpg\tacte van herstellinge en verdere; ten desen dienen\t[0.00015402224380522966, 0.9996132254600525, 0.00021500245202332735, 1.78055797732668e-05]\n",
      "IN\tIN\tNL-HaNA_1.04.02_1490_0596.jpg\ten omme de france vijanden, soo der; eenige quamen\t[0.000161448260769248, 0.999593198299408, 0.00022571570298168808, 1.969622098840773e-05]\n",
      "IN\tIN\tNL-HaNA_1.04.02_1490_0597.jpg\tde ridderschap voerende 60. stucken ges:t; waterla\t[0.0001937797205755487, 0.9995554089546204, 0.00023011605662759393, 2.071392191282939e-05]\n",
      "IN\tIN\tNL-HaNA_1.04.02_1490_0598.jpg\tstierlijk pennisten, kranckbesoekers; en chirurgij\t[0.00016208665329031646, 0.9996065497398376, 0.00021337118232622743, 1.8003838704316877e-05]\n",
      "IN\tIN\tNL-HaNA_1.04.02_1490_0599.jpg\tvan hier nevens „200.; en uijt 170. Comp:s lijfeij\t[0.0001621721894480288, 0.9996039271354675, 0.00021502403251361102, 1.8926742995972745e-05]\n",
      "IN\tIN\tNL-HaNA_1.04.02_1490_0600.jpg\tsterck 1662. Coppen, daer onder; gerekent, de oude\t[0.00018126289069186896, 0.9995588660240173, 0.00024001020938158035, 1.991519093280658e-05]\n",
      "IN\tIN\tNL-HaNA_1.04.02_1490_0601.jpg\tbleven met 70. â 80. jnlanders, als; mede ongevaer\t[0.00016581473755650222, 0.9995986819267273, 0.00021797952649649233, 1.749837610987015e-05]\n",
      "IN\tIN\tNL-HaNA_1.04.02_1490_0602.jpg\tsodanig quame te vereijsschen, ende; sonder dat ie\t[0.00017361213394906372, 0.9995593428611755, 0.000246979296207428, 2.002083056140691e-05]\n",
      "IN\tIN\tNL-HaNA_1.04.02_1490_0603.jpg\tveranderinge ofte bijvoeginge diende; te geschiede\t[0.00014726231165695935, 0.9996324777603149, 0.00020067401055712253, 1.9533446902642027e-05]\n",
      "IN\tIN\tNL-HaNA_1.04.02_1490_0604.jpg\tdiscoureren en te verklaren hoe; dat hij bij sig s\t[0.00014719912724103779, 0.9996353387832642, 0.00019860184693243355, 1.8790417016134597e-05]\n",
      "IN\tIN\tNL-HaNA_1.04.02_1490_0605.jpg\tquamen overvallen en aentasten:; soo meende sijn E\t[0.00015859771519899368, 0.9996150732040405, 0.0002092719660140574, 1.7047999790520407e-05]\n",
      "IN\tIN\tNL-HaNA_1.04.02_1490_0606.jpg\tdeselve niet ten proije mogten werden,; wanneer on\t[0.00014502192789223045, 0.999631404876709, 0.0002057846140814945, 1.7741509509505704e-05]\n",
      "IN\tIN\tNL-HaNA_1.04.02_1490_0607.jpg\tvan meerdere versekeringe mogten; oordelen behoord\t[0.0001523261598777026, 0.9996390342712402, 0.00019102610531263053, 1.7660631783655845e-05]\n",
      "IN\tIN\tNL-HaNA_1.04.02_1490_0608.jpg\tvanden Command:r Sijmon vander; stel, en raed aend\t[0.00017588086484465748, 0.9995926022529602, 0.00021343558910302818, 1.8167040252592415e-05]\n",
      "IN\tIN\tNL-HaNA_1.04.02_1490_0609.jpg\talthans te deser rhede leggende; zeemagt wel van e\t[0.00016215111827477813, 0.9996094107627869, 0.00020865497936028987, 1.9798104403889738e-05]\n",
      "IN\tIN\tNL-HaNA_1.04.02_1490_0610.jpg\tvan het verleden Iaer, als wanneer; volgens het sp\t[0.00015598464233335108, 0.9996108412742615, 0.00021586811635643244, 1.7307493180851452e-05]\n",
      "IN\tIN\tNL-HaNA_1.04.02_1490_0611.jpg\twas, onaengesien het goet succes; der negotie veel\t[0.00015978107694536448, 0.9995939135551453, 0.00022802790044806898, 1.8292394088348374e-05]\n",
      "IN\tIN\tNL-HaNA_1.04.02_1490_0612.jpg\twas getekent; als vooren.; willem van Outhoorn,; w\t[0.00013908969413023442, 0.999616265296936, 0.00022647151490673423, 1.8060316506307572e-05]\n",
      "IN\tIN\tNL-HaNA_1.04.02_1490_0613.jpg\tdat over de saken van Japan aen; dese tafel wierde\t[0.0001738450228003785, 0.9995751976966858, 0.0002326429821550846, 1.8369773897575215e-05]\n",
      "IN\tIN\tNL-HaNA_1.04.02_1490_0614.jpg\ttot uijtvindinge van een expedient,; waer door de \t[0.00021037491387687624, 0.9995511174201965, 0.00021590196411125362, 2.2689655452268198e-05]\n",
      "IN\tIN\tNL-HaNA_1.04.02_1490_0615.jpg\ten ons buijten postuer te brengen,; om de dierbare\t[0.00015001285646576434, 0.9996262788772583, 0.00020535597286652774, 1.8300839656149037e-05]\n",
      "IN\tIN\tNL-HaNA_1.04.02_1490_0616.jpg\ta:o 1684. wierde geordonneert in; haere herwaerts \t[0.0001591952604940161, 0.99960857629776, 0.00021339685190469027, 1.8789913156069815e-05]\n",
      "IN\tIN\tNL-HaNA_1.04.02_1490_0617.jpg\trijkelijk te konnen versorgen,; mitsgaders het mis\t[0.0001593028282513842, 0.999605119228363, 0.00021526783530134708, 2.0388699340401217e-05]\n",
      "IN\tIN\tNL-HaNA_1.04.02_1490_0618.jpg\tgepractiseert geworden is, sullen; moeten doen hou\t[0.0002049229951808229, 0.9995498061180115, 0.00022317830007523298, 2.1992545953253284e-05]\n",
      "IN\tIN\tNL-HaNA_1.04.02_1490_0619.jpg\tover te steeken, agtervolgens; sodanige Zeijlaes o\t[0.00015367224114015698, 0.9996155500411987, 0.000211832404602319, 1.890463136078324e-05]\n",
      "IN\tIN\tNL-HaNA_1.04.02_1490_0620.jpg\tgecarteert legt, maer dat oock de; stronien inde m\t[0.00016483530635014176, 0.9995977282524109, 0.0002191996609326452, 1.8288907085661776e-05]\n",
      "IN\tIN\tNL-HaNA_1.04.02_1490_0621.jpg\tde stranen sig veeltijts daer na; reguleeren van g\t[0.00015538849402219057, 0.9996126294136047, 0.00021459242270793766, 1.7449059669161215e-05]\n",
      "IN\tIN\tNL-HaNA_1.04.02_1490_0622.jpg\teen weg is, nu wel eenige jaren; van japan na bata\t[0.00013632941409014165, 0.999618649482727, 0.0002269793039886281, 1.7986825696425512e-05]\n",
      "IN\tIN\tNL-HaNA_1.04.02_1490_0623.jpg\tten zuijden om beoosten de eijlanden; van natuna o\t[0.00014895205094944686, 0.999605119228363, 0.00022853771224617958, 1.74095002876129e-05]\n",
      "IN\tIN\tNL-HaNA_1.04.02_1490_0624.jpg\tnog een droogte genaemt kleijn; enckhuijser sant, \t[0.00015078902652021497, 0.9996256828308105, 0.00020701898029074073, 1.6497242540935986e-05]\n",
      "IN\tIN\tNL-HaNA_1.04.02_1490_0625.jpg\tlange jaren niet voorgevallen is; dat dese coursen\t[0.00016999599756672978, 0.9995762705802917, 0.00023555869120173156, 1.8172653653891757e-05]\n",
      "IN\tIN\tNL-HaNA_1.04.02_1490_0626.jpg\tvan siam en Toncquin herwaerts; sullen komen, als \t[0.0001564295671414584, 0.9996029734611511, 0.00022033655841369182, 2.0304907593526877e-05]\n",
      "IN\tIN\tNL-HaNA_1.04.02_1490_0627.jpg\tvan een hogre prijse als ordinair; te nootsaeken, \t[0.00015705735131632537, 0.9996111989021301, 0.00021259972709231079, 1.9181843526894227e-05]\n",
      "IN\tIN\tNL-HaNA_1.04.02_1490_0628.jpg\tals voren. was getekent. . ..; . . . . - Willem va\t[0.00013971884618513286, 0.9996223449707031, 0.00022042302589397877, 1.7559255866217427e-05]\n",
      "IN\tIN\tNL-HaNA_1.04.02_1490_0629.jpg\tin eenig emploij van onsien kan; werden gebruijckt\t[0.00016308692283928394, 0.9995429515838623, 0.0002751972933765501, 1.878823240986094e-05]\n",
      "IN\tIN\tNL-HaNA_1.04.02_1490_0630.jpg\tvoorde schipper aende Tafel en in het; gebet, eeni\t[0.0002545148890931159, 0.998187243938446, 0.0015273026656359434, 3.0913783120922744e-05]\n",
      "END\tEND\tNL-HaNA_1.04.02_1490_0631.jpg\tBo0; Secrets.; wee; De bovenstaende secrete resolu\t[3.5801964259007946e-05, 0.00019382323080208153, 0.9997673630714417, 3.0823698580206838e-06]\n",
      "BEGIN\tBEGIN\tNL-HaNA_1.04.02_2615_0147.jpg\tLijste van alle sodanige 's E: Comp:s; dienaren al\t[0.9998854398727417, 8.87194401002489e-05, 2.282035165990237e-05, 3.053264890695573e-06]\n",
      "IN\tIN\tNL-HaNA_1.04.02_2615_0148.jpg\tmet wat schip in Jndia gekomen; geboorte pl=s indi\t[0.000645402236841619, 0.9987977743148804, 0.0004935241886414587, 6.32365481578745e-05]\n",
      "IN\tIN\tNL-HaNA_1.04.02_2615_0149.jpg\tmet wat schip in Jndien gekomen; geboorte plaets w\t[0.000323093612678349, 0.997793436050415, 0.001841496443375945, 4.201749470666982e-05]\n",
      "END\tEND\tNL-HaNA_1.04.02_2615_0150.jpg\tmet wat schipis Jndia gekomen; geboorte p=s wannee\t[3.057429057662375e-05, 0.0001392088452121243, 0.9998278617858887, 2.219918087575934e-06]\n",
      "OUT\tOUT\tNL-HaNA_1.04.02_1547_0456.jpg\t\t[9.621472418075427e-05, 0.00026893705944530666, 4.7768618969712406e-05, 0.9995871186256409]\n",
      "OUT\tOUT\tNL-HaNA_1.04.02_1547_0457.jpg\t\t[2.40142489928985e-05, 6.064776607672684e-05, 1.0088218914461322e-05, 0.9999052286148071]\n",
      "OUT\tOUT\tNL-HaNA_1.04.02_1547_0458.jpg\t\t[2.956944445031695e-05, 6.144063081592321e-05, 1.7602380466996692e-05, 0.9998914003372192]\n",
      "BEGIN\tBEGIN\tNL-HaNA_1.04.02_1547_0459.jpg\tRapport gedaen Ter ordre; van d' E. heer Adriaen V\t[0.9995577931404114, 7.019043550826609e-05, 5.3684467275161296e-05, 0.000318299513310194]\n",
      "IN\tIN\tNL-HaNA_1.04.02_1547_0460.jpg\tdat den bovengem: veltheer, zyn seconde genaem; pi\t[0.02223372831940651, 0.9492400288581848, 0.0027624957729130983, 0.025763802230358124]\n",
      "IN\tIN\tNL-HaNA_1.04.02_1547_0461.jpg\t212; lieten uijtwaijen sonder te konnen uijtten op\t[0.0037610300350934267, 0.9932147264480591, 0.0008692714036442339, 0.002155041554942727]\n",
      "IN\tIN\tNL-HaNA_1.04.02_1547_0462.jpg\tden principaelsten schelm naer mijn gesegt wert ov\t[0.0004774352419190109, 0.999038577079773, 0.0003194386954419315, 0.00016463473730254918]\n",
      "IN\tIN\tNL-HaNA_1.04.02_1547_0463.jpg\tden schadt van d' E Comp:e niet kwam aen tewijsen;\t[0.00022304701269604266, 0.9994783997535706, 0.0002522599243093282, 4.635954974219203e-05]\n",
      "IN\tIN\tNL-HaNA_1.04.02_1547_0464.jpg\tWingurla dus verre verrigt waeren heefen sigh zijn\t[0.00014455568452831358, 0.9995793700218201, 0.00024468248011544347, 3.131559424218722e-05]\n",
      "IN\tIN\tNL-HaNA_1.04.02_1547_0465.jpg\tvoor ons thien menschen intgetal wierd opgedist; e\t[0.00015093052934389561, 0.9994640946388245, 0.0003570227709133178, 2.805315853038337e-05]\n",
      "IN\tIN\tNL-HaNA_1.04.02_1547_0466.jpg\tom welke voorseijde reedenen hy velt overste den r\t[0.0001757422141963616, 0.9978506565093994, 0.001936515443958342, 3.713733167387545e-05]\n",
      "END\tEND\tNL-HaNA_1.04.02_1547_0467.jpg\tWaer seven daegen zoo aen mijn lighaem te verschoo\t[2.7695397875504568e-05, 0.00015807512681931257, 0.9998106360435486, 3.698580940181273e-06]\n"
     ]
    },
    {
     "name": "stderr",
     "output_type": "stream",
     "text": [
      " 62%|██████▎   | 15/24 [00:01<00:00, 17.50batch/s]"
     ]
    },
    {
     "name": "stdout",
     "output_type": "stream",
     "text": [
      "BEGIN\tBEGIN\tNL-HaNA_1.04.02_1631_0289.jpg\tTwee Copie translaat briefien; door de hofs-groten\t[0.9999105930328369, 6.585857045138255e-05, 2.121354191331193e-05, 2.356615141252405e-06]\n",
      "IN\tIN\tNL-HaNA_1.04.02_1631_0290.jpg\twederseijdse gesonth:t &:a bestaande :/ gevoerd; z\t[0.001078862464055419, 0.9983059167861938, 0.0005363075761124492, 7.894612645031884e-05]\n",
      "IN\tIN\tNL-HaNA_1.04.02_1631_0291.jpg\tLuijden sig onthielden, en ondervondt; dat die dri\t[0.00024444443988613784, 0.9994757771492004, 0.00025385277695022523, 2.5926610760507174e-05]\n",
      "IN\tIN\tNL-HaNA_1.04.02_1631_0292.jpg\tdaarom niet en konden gaan, derhalve; gelieve uEd:\t[0.00022657186491414905, 0.999492883682251, 0.0002580515865702182, 2.2533637093147263e-05]\n",
      "IN\tIN\tNL-HaNA_1.04.02_1631_0293.jpg\tals 't haar maar In de zin quam; baldadigh, en sto\t[0.00019673268252518028, 0.9995738863945007, 0.00021093316900078207, 1.8427284885547124e-05]\n",
      "IN\tIN\tNL-HaNA_1.04.02_1631_0294.jpg\thebben verstaan, en begrepen: waar—; na nogh eenig\t[0.0001670555939199403, 0.9996116757392883, 0.00020330166444182396, 1.797827826521825e-05]\n",
      "IN\tIN\tNL-HaNA_1.04.02_1631_0295.jpg\tgedaan opsoeken, om sijn Ed:s met; dit geschenk /:\t[0.00015833806537557393, 0.9996167421340942, 0.0002063068386632949, 1.8616676243254915e-05]\n",
      "IN\tIN\tNL-HaNA_1.04.02_1631_0296.jpg\tverwondert te wesen dat hij moddeljaar; soo langh \t[0.00015555450227111578, 0.9996179342269897, 0.00020886323181912303, 1.7592132280697115e-05]\n",
      "IN\tIN\tNL-HaNA_1.04.02_1631_0297.jpg\taan haar believen stelden, om dat sij; mogelijk do\t[0.00014722032938152552, 0.9996134638786316, 0.00021890019706916064, 2.0438688807189465e-05]\n",
      "IN\tIN\tNL-HaNA_1.04.02_1631_0298.jpg\tgerrit de heere / van dat hij in 't; opregt en met\t[0.0001713193632895127, 0.9994726777076721, 0.0003351805207785219, 2.0806681277463213e-05]\n",
      "IN\tIN\tNL-HaNA_1.04.02_1631_0299.jpg\tgetrouw en opregtelijck, en met soo; goede genegen\t[0.00020380059140734375, 0.9979210495948792, 0.0018464690074324608, 2.872422555810772e-05]\n",
      "END\tEND\tNL-HaNA_1.04.02_1631_0300.jpg\top te houden oversulcx deselve, soo sij; genegen w\t[3.359465335961431e-05, 0.00017316440062131733, 0.999790370464325, 2.911130195570877e-06]\n",
      "BEGIN\tBEGIN\tNL-HaNA_1.04.02_1637_0144.jpg\tVan Banda de dato 25=en maij Ao 1700; Van banda on\t[0.9999077320098877, 6.727944128215313e-05, 2.256266998301726e-05, 2.4967632725747535e-06]\n",
      "IN\tIN\tNL-HaNA_1.04.02_1637_0145.jpg\tVan banda onder dato 25„e maij 1700; van banda ond\t[0.0009034108370542526, 0.9961081147193909, 0.0028975734021514654, 9.079167648451403e-05]\n",
      "END\tEND\tNL-HaNA_1.04.02_1637_0146.jpg\tVan banda onder dato 25 maij 1700; Van banda onder\t[3.4747441532090306e-05, 0.00013079984637442976, 0.999832034111023, 2.306636133653228e-06]\n",
      "BEGIN\tBEGIN\tNL-HaNA_1.04.02_3174_0189.jpg\tDagregister, de anno 1766:—; Vrijdag den 21:' Maer\t[0.999906063079834, 7.056220783852041e-05, 2.067795503535308e-05, 2.7621899789664894e-06]\n",
      "IN\tIN\tNL-HaNA_1.04.02_3174_0190.jpg\tgelevert hebben, en belooven voortaen, meer; genoe\t[0.0006048143841326237, 0.9988213181495667, 0.0005107218748889863, 6.308707816060632e-05]\n",
      "IN\tIN\tNL-HaNA_1.04.02_3174_0191.jpg\tmaer den dienst vreedig kunnen doen; De Chialiasse\t[0.00035260795266367495, 0.9975888729095459, 0.0020129370968788862, 4.5538326958194375e-05]\n",
      "END\tEND\tNL-HaNA_1.04.02_3174_0192.jpg\tnaar gewoonte hun afscheit neemende; gingen weder \t[3.135546648991294e-05, 0.0001436724269296974, 0.9998227953910828, 2.2350782273861114e-06]\n",
      "BEGIN\tBEGIN\tNL-HaNA_1.04.02_3577_0649.jpg\tDag Register van het voor„; „gevallene op de Hongi\t[0.9999116659164429, 6.911456875968724e-05, 1.7248512449441478e-05, 1.9427277493377915e-06]\n",
      "IN\tIN\tNL-HaNA_1.04.02_3577_0650.jpg\tOppeschidurgijn Hendrik Wendsel, en Luijtenant Mil\t[0.0011782264336943626, 0.998114824295044, 0.0006199831259436905, 8.693016570759937e-05]\n",
      "IN\tIN\tNL-HaNA_1.04.02_3577_0651.jpg\tde Chineese met hunne vlaggetjes en speettuijg; zi\t[0.00026714775594882667, 0.9994701743125916, 0.00023702176986262202, 2.5579705834388733e-05]\n",
      "IN\tIN\tNL-HaNA_1.04.02_3577_0652.jpg\tsandaart gesalueert wierd met Neegen Basschooten; \t[0.00020625715842470527, 0.999489426612854, 0.00028036904404871166, 2.3986871383385733e-05]\n",
      "IN\tIN\tNL-HaNA_1.04.02_3577_0653.jpg\tverrigting van het nodige tot de verpligte recepti\t[0.00016065605450421572, 0.9995923638343811, 0.00022865054779686034, 1.8356693544774316e-05]\n",
      "IN\tIN\tNL-HaNA_1.04.02_3577_0654.jpg\tBoompjes te tellen, van de plaats inspectie te nee\t[0.00016199771198444068, 0.9995976090431213, 0.00021947281493339688, 2.099185985571239e-05]\n",
      "IN\tIN\tNL-HaNA_1.04.02_3577_0655.jpg\tHeer Gouverneur me perzoon nauwkeurige, zoo wel; h\t[0.00016067222168203443, 0.9995985627174377, 0.00022323898156173527, 1.752181924530305e-05]\n",
      "IN\tIN\tNL-HaNA_1.04.02_3577_0656.jpg\tAdmiraal; Donoa of; Nissanive; _=o; fo; Groot Hati\t[0.0001570371532579884, 0.9996046423912048, 0.00021932162053417414, 1.9106386389466934e-05]\n",
      "IN\tIN\tNL-HaNA_1.04.02_3577_0657.jpg\tgij Oioor van het Jaar 17eg; dan welEd: ben den da\t[0.00015587029338348657, 0.9996119141578674, 0.0002143036836059764, 1.8024295059149154e-05]\n",
      "IN\tIN\tNL-HaNA_1.04.02_3577_0658.jpg\tTonoraaae Sima der Artnuuerg en; De Corre Corre Bo\t[0.00015899023856036365, 0.9996035695075989, 0.0002194996632169932, 1.799652454792522e-05]\n",
      "IN\tIN\tNL-HaNA_1.04.02_3577_0659.jpg\tAmmunitie Goederen, waar meede de Ondervolgende Co\t[0.00015888466441538185, 0.9995926022529602, 0.000229331519221887, 1.9243489077780396e-05]\n",
      "IN\tIN\tNL-HaNA_1.04.02_3577_0660.jpg\tVervolg van den 23:' October, des Avonds om tien u\t[0.00016352934471797198, 0.9996035695075989, 0.00021289898722898215, 2.006185422942508e-05]\n",
      "IN\tIN\tNL-HaNA_1.04.02_3577_0661.jpg\tg'excorteert van deszelfs Lijfragt met de Hongij v\t[0.0001455428428016603, 0.9996262788772583, 0.00020980526460334659, 1.8346428987570107e-05]\n",
      "IN\tIN\tNL-HaNA_1.04.02_3577_0662.jpg\thet welke de vloot des voordemiddags ten Elf uuren\t[0.00016476259042974561, 0.9995893836021423, 0.0002281702181790024, 1.767416142683942e-05]\n",
      "IN\tIN\tNL-HaNA_1.04.02_3577_0663.jpg\tzoo momentlijk van Manipa bedeelt werd de ver„; „s\t[0.0001448796538170427, 0.9996273517608643, 0.00020972747006453574, 1.7996368114836514e-05]\n",
      "IN\tIN\tNL-HaNA_1.04.02_3577_0664.jpg\ten kelang de Admiraals vlag begroeven zag met Twee\t[0.0001597417431185022, 0.9995927214622498, 0.00022833466937299818, 1.9195524146198295e-05]\n",
      "IN\tIN\tNL-HaNA_1.04.02_3577_0665.jpg\tspil speelden, waarmeede z den wel Edele Agtb: Hee\t[0.00014978153922129422, 0.9996252059936523, 0.0002085626038024202, 1.641150811337866e-05]\n",
      "IN\tIN\tNL-HaNA_1.04.02_3577_0666.jpg\tAgtb: Hier opgesagt hadden, ten eijnde zig op een \t[0.0001525969710201025, 0.9996175765991211, 0.00021206973178777844, 1.7714264686219394e-05]\n",
      "IN\tIN\tNL-HaNA_1.04.02_3577_0667.jpg\thet geboomte niets naamwaardigs naar het beschreev\t[0.00019407137006055564, 0.9995552897453308, 0.00023246114142239094, 1.811558468034491e-05]\n",
      "IN\tIN\tNL-HaNA_1.04.02_3577_0668.jpg\top de Landstreeks kapalle, koupele, Soupessij en M\t[0.00015829227049835026, 0.999618411064148, 0.00020581530407071114, 1.7436368580092676e-05]\n",
      "IN\tIN\tNL-HaNA_1.04.02_3577_0669.jpg\tbuijten met zalen onderschraagt wierde, welke alle\t[0.00014707629452459514, 0.9996225833892822, 0.00021231808932498097, 1.7962556739803404e-05]\n",
      "IN\tIN\tNL-HaNA_1.04.02_3577_0670.jpg\ttot onder het gaet van keffing alle moogelijke hul\t[0.00015293479373212904, 0.9996174573898315, 0.00021253192971926183, 1.6996013073367067e-05]\n",
      "IN\tIN\tNL-HaNA_1.04.02_3577_0671.jpg\tSaturdag den 30: Dito der voordemiddags had den we\t[0.0001724799076328054, 0.9996044039726257, 0.00020304365898482502, 2.0149516785750166e-05]\n",
      "IN\tIN\tNL-HaNA_1.04.02_3577_0672.jpg\twelke daar van reeds waijde opgehaald zijnd, wierd\t[0.00016735262761358172, 0.9995972514152527, 0.00021746366110164672, 1.7990627384278923e-05]\n",
      "IN\tIN\tNL-HaNA_1.04.02_3577_0673.jpg\tgewoon salut van de Admiraals Orembaij na Land; en\t[0.00017444242257624865, 0.9995924830436707, 0.00021324126282706857, 1.9909022739739157e-05]\n",
      "IN\tIN\tNL-HaNA_1.04.02_3577_0674.jpg\ten foelij hunne kleine Orembaijen diese agtersaage\t[0.00016670215700287372, 0.9996042847633362, 0.0002099933917634189, 1.903704833239317e-05]\n",
      "IN\tIN\tNL-HaNA_1.04.02_3577_0675.jpg\tOstrouwskij g'ordonneert de eerste om het alhier B\t[0.00016435376892331988, 0.9996055960655212, 0.00021245908283162862, 1.7681679310044274e-05]\n",
      "IN\tIN\tNL-HaNA_1.04.02_3577_0676.jpg\tMartens inhoudende dat bij het oversteeken der Cor\t[0.000164433557074517, 0.9996064305305481, 0.00021010261843912303, 1.9037306628888473e-05]\n",
      "IN\tIN\tNL-HaNA_1.04.02_3577_0677.jpg\trespect /: onderstond:/ Wel Edele Gestrenge en Agt\t[0.00015805140719749033, 0.9996110796928406, 0.00021255832689348608, 1.8327422367292456e-05]\n",
      "IN\tIN\tNL-HaNA_1.04.02_3577_0678.jpg\tvertrek bepaald op deesen agtermiddag alles in ger\t[0.0001701306173345074, 0.9996001124382019, 0.00021086004562675953, 1.8913624444394372e-05]\n",
      "IN\tIN\tNL-HaNA_1.04.02_3577_0679.jpg\t„b'antwoord wierd, komende daar na gemelde Residen\t[0.00015427735343109816, 0.9996086955070496, 0.00021858290710952133, 1.8490332877263427e-05]\n",
      "IN\tIN\tNL-HaNA_1.04.02_3577_0680.jpg\tvlag weeder overgebragt waar; Terstond wierd op he\t[0.00014778770855627954, 0.9995899796485901, 0.0002421669923933223, 2.002929431910161e-05]\n",
      "IN\tIN\tNL-HaNA_1.04.02_3577_0681.jpg\ten Leesenaar met de Banken te vernieuwen, en zulx \t[0.00014666753122583032, 0.9996156692504883, 0.00021968199871480465, 1.7954878785531037e-05]\n",
      "IN\tIN\tNL-HaNA_1.04.02_3577_0682.jpg\ten dat higt en sterk bevindende retiteerde na het \t[0.00015080487355589867, 0.9996421337127686, 0.0001888697879621759, 1.824645914894063e-05]\n",
      "IN\tIN\tNL-HaNA_1.04.02_3577_0683.jpg\tfleurige Capas Boom van de beste, zoort en rijk va\t[0.00016292468353640288, 0.9996175765991211, 0.00020059201051481068, 1.8848215404432267e-05]\n",
      "IN\tIN\tNL-HaNA_1.04.02_3577_0684.jpg\tom van desselfs verrigting weegens de onder zijn o\t[0.0001598777307663113, 0.9996311664581299, 0.0001904821110656485, 1.842382516770158e-05]\n",
      "IN\tIN\tNL-HaNA_1.04.02_3577_0685.jpg\tDeesen gantschen dag met het bij den ander brangen\t[0.0001462800137232989, 0.9996201992034912, 0.0002154327230527997, 1.8094697225023992e-05]\n",
      "IN\tIN\tNL-HaNA_1.04.02_3577_0686.jpg\tvan ieder Corra Corna hun gekapte balken aan vlott\t[0.00015814656217116863, 0.9995958209037781, 0.0002275742735946551, 1.8517164789955132e-05]\n",
      "IN\tIN\tNL-HaNA_1.04.02_3577_0687.jpg\tDes Agtermiddags omstreeks vijf uuren, wierd de Ad\t[0.00014754205767530948, 0.9996335506439209, 0.00020173842494841665, 1.719742067507468e-05]\n",
      "IN\tIN\tNL-HaNA_1.04.02_3577_0688.jpg\tvoormeld Hoofd Galloo desselfs afschud kreeg en ve\t[0.00013952041626907885, 0.9996144771575928, 0.00022879087191540748, 1.7181355360662565e-05]\n",
      "IN\tIN\tNL-HaNA_1.04.02_3577_0689.jpg\tmet zeegeninge verzelt sal weesen, hebben wij dier\t[0.0001717363193165511, 0.9996059536933899, 0.00020479578233789653, 1.7492997358203866e-05]\n",
      "IN\tIN\tNL-HaNA_1.04.02_3577_0690.jpg\t„lingen succesief aangebragt wierden opstrand te h\t[0.00015069883374962956, 0.9996253252029419, 0.00020691490499302745, 1.7079892131732777e-05]\n",
      "IN\tIN\tNL-HaNA_1.04.02_3577_0691.jpg\tGisteren Avond, zijn mij gewerden: uwEd: Letteren \t[0.00017375033348798752, 0.9995701909065247, 0.0002385572443017736, 1.749874536471907e-05]\n",
      "IN\tIN\tNL-HaNA_1.04.02_3577_0692.jpg\t/.was geteekend./. B„s van Sleuren. /: in margine \t[0.00015152791456785053, 0.9996215105056763, 0.00020738963212352246, 1.9590335796237923e-05]\n",
      "IN\tIN\tNL-HaNA_1.04.02_3577_0693.jpg\tna gedaan seijn anker geligt wierd, en de vloot on\t[0.00017437570204492658, 0.9995942711830139, 0.00021230438142083585, 1.9086612155660987e-05]\n",
      "IN\tIN\tNL-HaNA_1.04.02_3577_0694.jpg\tals van buijten, mitsg:s d' ahier zijn de Aituller\t[0.00016309252532664686, 0.9996210336685181, 0.000197354587726295, 1.8444330635247752e-05]\n",
      "IN\tIN\tNL-HaNA_1.04.02_3577_0695.jpg\tden overbreng van 's Comp=s sagoe, welke ordres wa\t[0.00014932193153072149, 0.9995664954185486, 0.0002658396842889488, 1.838724892877508e-05]\n",
      "IN\tIN\tNL-HaNA_1.04.02_3577_0696.jpg\tbesigtigde 414: p=s Jatij Bomen van 30: tot 40: vo\t[0.00013854190183337778, 0.9996460676193237, 0.0001980733941309154, 1.7303946151514538e-05]\n",
      "IN\tIN\tNL-HaNA_1.04.02_3577_0697.jpg\tquam Circa half Negen uuren voor de Negorij Pieroe\t[0.00014587015903089195, 0.9996059536933899, 0.00022952099971007556, 1.8665148672880605e-05]\n",
      "IN\tIN\tNL-HaNA_1.04.02_3577_0698.jpg\tschool te ontstaan ten zij in 't leesen en schrijv\t[0.00018096946587320417, 0.9995610117912292, 0.00023725637583993375, 2.073698487947695e-05]\n",
      "IN\tIN\tNL-HaNA_1.04.02_3577_0699.jpg\tOm drie uuren vertrak den wel Edele Agtb: Heer Gou\t[0.00014654443657491356, 0.9996466636657715, 0.00018967839423567057, 1.7104983271565288e-05]\n",
      "IN\tIN\tNL-HaNA_1.04.02_3577_0700.jpg\tnaar 't nuttige van een fris glas wijn vertrocken \t[0.00017117225797846913, 0.9995834231376648, 0.0002259642060380429, 1.945307303685695e-05]\n",
      "IN\tIN\tNL-HaNA_1.04.02_3577_0701.jpg\tbesigtigt, en wel bevonden, terwijl de daar instaa\t[0.0001481308281654492, 0.9996259212493896, 0.00020623006275855005, 1.9669310859171674e-05]\n",
      "IN\tIN\tNL-HaNA_1.04.02_3577_0702.jpg\tIn alle eerbied hebben wij de eere te rescribeeren\t[0.0001491053990321234, 0.9996201992034912, 0.00021396832016762346, 1.6689991753082722e-05]\n",
      "IN\tIN\tNL-HaNA_1.04.02_3577_0703.jpg\tOm vier uiren begaf welm: zijn wel Edele Agtb: zig\t[0.00015809077012818307, 0.9995883107185364, 0.00023444140970241278, 1.924001298903022e-05]\n",
      "IN\tIN\tNL-HaNA_1.04.02_3577_0704.jpg\tzijn wel Edele Agtb: met het gezelschap om 7: urre\t[0.00018045745673589408, 0.9995983242988586, 0.000200004389625974, 2.123279955412727e-05]\n",
      "IN\tIN\tNL-HaNA_1.04.02_3577_0705.jpg\tRegent met oogmerk om bij zijn wel Edele Agtb: een\t[0.00015345837164204568, 0.9996238946914673, 0.00020369348931126297, 1.8999586245627142e-05]\n",
      "IN\tIN\tNL-HaNA_1.04.02_3577_0706.jpg\ten de meenigte omstanders vriendelijk gegroet hebb\t[0.00015762762632220984, 0.9996041655540466, 0.0002203338808612898, 1.784991218301002e-05]\n",
      "IN\tIN\tNL-HaNA_1.04.02_3577_0707.jpg\tEdele Agtb: een gespreck met den Alphoer Orangkaij\t[0.00017375937022734433, 0.9995563626289368, 0.0002506727469153702, 1.9180883100489154e-05]\n",
      "IN\tIN\tNL-HaNA_1.04.02_3577_0708.jpg\tverscheide plagten teegens elkander in waar uijt g\t[0.0001621606497792527, 0.9995872378349304, 0.0002319123304914683, 1.8715169062488712e-05]\n",
      "IN\tIN\tNL-HaNA_1.04.02_3577_0709.jpg\tvoor zijn wel Edele Agtb: betuijgen dat z voor dE \t[0.00016753346426412463, 0.999580442905426, 0.00023224673350341618, 1.9725104721146636e-05]\n",
      "IN\tIN\tNL-HaNA_1.04.02_3577_0710.jpg\tbenoemd na de Gebergtens van waijsamoe, terwijl om\t[0.00016179769590962678, 0.9994997978210449, 0.0003187132824677974, 1.96600394701818e-05]\n",
      "IN\tIN\tNL-HaNA_1.04.02_3577_0711.jpg\tvoorzeijde Orangkaij basse nog een Glaasje, vertro\t[0.0002558344276621938, 0.9962570667266846, 0.0034464458003640175, 4.0658749639987946e-05]\n",
      "END\tIN\tNL-HaNA_1.04.02_3577_0712.jpg\tte verrigten, gelijk de vloot dan ook om seeven uu\t[3.599310730351135e-05, 0.00018354042549617589, 0.9997773766517639, 3.1338631742983125e-06]\n"
     ]
    },
    {
     "name": "stderr",
     "output_type": "stream",
     "text": [
      " 75%|███████▌  | 18/24 [00:01<00:00, 17.28batch/s]"
     ]
    },
    {
     "name": "stdout",
     "output_type": "stream",
     "text": [
      "BEGIN\tIN\tNL-HaNA_1.04.02_3577_0713.jpg\tintermen van klem vermaand in deezen 't zijne met \t[0.9999111890792847, 6.942303298274055e-05, 1.7352729628328234e-05, 1.954658046088298e-06]\n",
      "IN\tIN\tNL-HaNA_1.04.02_3577_0714.jpg\toudstens te neemen, om niet door zulke vijandelijk\t[0.001180727151222527, 0.9981112480163574, 0.0006211033323779702, 8.702724153408781e-05]\n",
      "IN\tIN\tNL-HaNA_1.04.02_3577_0715.jpg\thier toe dover eene Ernstige aanspraak aangespoord\t[0.0002669957175385207, 0.9994702935218811, 0.00023714298731647432, 2.5595105398679152e-05]\n",
      "IN\tIN\tNL-HaNA_1.04.02_3577_0716.jpg\tvolbragt en in het Alphoirs gebergte van waijsamoe\t[0.0002059456892311573, 0.9994897842407227, 0.0002802750386763364, 2.396959280304145e-05]\n",
      "IN\tIN\tNL-HaNA_1.04.02_3577_0717.jpg\tna de Negorij Tiehoelale welkers Orangkanj en scho\t[0.00016071864229161292, 0.9995928406715393, 0.00022814009571447968, 1.8367962184129283e-05]\n",
      "IN\tIN\tNL-HaNA_1.04.02_3577_0718.jpg\tvervolgens aan het Huijs van den Orangkaij gekoome\t[0.00016177234647329897, 0.9995978474617004, 0.00021937639394309372, 2.099755329254549e-05]\n",
      "IN\tIN\tNL-HaNA_1.04.02_3577_0719.jpg\tgezaghebbend oudsten zonder manquemant aan een bin\t[0.0001605066063348204, 0.9995991587638855, 0.00022289343178272247, 1.7514645151095465e-05]\n",
      "IN\tIN\tNL-HaNA_1.04.02_3577_0720.jpg\tNeegen uuren weeder na Boord vertrok wanneer inmed\t[0.00015659107884857804, 0.9996058344841003, 0.0002185424673371017, 1.9076478565693833e-05]\n",
      "IN\tIN\tNL-HaNA_1.04.02_3577_0721.jpg\topmerking geliefde te neemen hoe hij Padja Haloett\t[0.00015041464939713478, 0.9996155500411987, 0.00021648145047947764, 1.7497104636277072e-05]\n",
      "IN\tIN\tNL-HaNA_1.04.02_3577_0722.jpg\ttoe geen andere uijt de mannelijke Linie meer gevo\t[0.00015816427185200155, 0.9996048808097839, 0.00021894570090807974, 1.7965938241104595e-05]\n",
      "IN\tIN\tNL-HaNA_1.04.02_3577_0723.jpg\tbesteld zijnde, vertrock den wel Edele Agtb: Heer \t[0.00015841670392546803, 0.9995927214622498, 0.00022973060549702495, 1.9168248400092125e-05]\n",
      "IN\tIN\tNL-HaNA_1.04.02_3577_0724.jpg\tte kunnen gaven daar zijn wel Edele Agtb: voor vre\t[0.00016308754857163876, 0.9996039271354675, 0.0002129876083927229, 2.0039278751937672e-05]\n",
      "IN\tIN\tNL-HaNA_1.04.02_3577_0725.jpg\tNegorijen met verscheijde Basschoten begroet, nade\t[0.00014539275434799492, 0.9996263980865479, 0.00020987071911804378, 1.8351192920817994e-05]\n",
      "IN\tIN\tNL-HaNA_1.04.02_3577_0726.jpg\twerwaards eenige vrouwlieden dansen de voor uijtgi\t[0.00016461338964290917, 0.9995895028114319, 0.00022829321096651256, 1.7680686141829938e-05]\n",
      "IN\tIN\tNL-HaNA_1.04.02_3577_0727.jpg\tdaar door de spoedige verrotting en bederf der Aff\t[0.00014465753338299692, 0.9996275901794434, 0.00020977652457077056, 1.7989390471484512e-05]\n",
      "IN\tIN\tNL-HaNA_1.04.02_3577_0728.jpg\twelke ged=e opperhoofd betuijgde mits de Compleere\t[0.00015955025446601212, 0.9995930790901184, 0.00022820370213594288, 1.9180544768460095e-05]\n",
      "IN\tIN\tNL-HaNA_1.04.02_3577_0729.jpg\ten Ordonneerde in de eerstgem: een Nieuw Tafel en \t[0.0001498841302236542, 0.9996252059936523, 0.00020839976787101477, 1.640936352487188e-05]\n",
      "IN\tIN\tNL-HaNA_1.04.02_3577_0730.jpg\tDen wel Edele Agtb: Heer Gouverneur recommandeerde\t[0.0001526533014839515, 0.9996175765991211, 0.0002120123099302873, 1.7738981114234775e-05]\n",
      "IN\tIN\tNL-HaNA_1.04.02_3577_0731.jpg\tbewandelde zijn wel Edele Agtb: de sebve, en Zaij \t[0.00019400956807658076, 0.9995552897453308, 0.00023255583073478192, 1.8121270841220394e-05]\n",
      "IN\tIN\tNL-HaNA_1.04.02_3577_0732.jpg\twoensdag den 1:e December, het noodige tot de Rijs\t[0.0001582333934493363, 0.999618411064148, 0.00020589558698702604, 1.7443138858652674e-05]\n",
      "IN\tIN\tNL-HaNA_1.04.02_3577_0733.jpg\tkerken in schoolen van voortz: Negorijen die in ee\t[0.00014718755846843123, 0.9996225833892822, 0.00021222577197477221, 1.8000831914832816e-05]\n",
      "IN\tIN\tNL-HaNA_1.04.02_3577_0734.jpg\tnarigt van den smokkelhandel der Cerammers, hun ko\t[0.00015289863222278655, 0.9996174573898315, 0.0002125836326740682, 1.700593566056341e-05]\n",
      "IN\tIN\tNL-HaNA_1.04.02_3577_0735.jpg\tgeleegensheid het vervaardigen van een Nieuwe Lees\t[0.00017241972091142088, 0.9996044039726257, 0.00020308763487264514, 2.0160299754934385e-05]\n",
      "IN\tIN\tNL-HaNA_1.04.02_3577_0736.jpg\tCruijpenning en eenige van het Hongij geselschap p\t[0.0001673312217462808, 0.9995971322059631, 0.0002175142290070653, 1.8015811292571016e-05]\n",
      "IN\tIN\tNL-HaNA_1.04.02_3577_0737.jpg\tmitsg=s zodanig ook ten opzigte van de Capas Plant\t[0.00017430254956707358, 0.9995924830436707, 0.00021337448561098427, 1.9913011783501133e-05]\n",
      "IN\tIN\tNL-HaNA_1.04.02_3577_0738.jpg\tdewelke een aanzienelijk, getal Boomptjes gevonden\t[0.00016666718875057995, 0.9996042847633362, 0.00021005528105888516, 1.905984572658781e-05]\n",
      "IN\tIN\tNL-HaNA_1.04.02_3577_0739.jpg\tGodsdienst met het zingen van Psalm 118 vers 12: e\t[0.00016432785196229815, 0.9996053576469421, 0.0002125593600794673, 1.7697668226901442e-05]\n",
      "IN\tIN\tNL-HaNA_1.04.02_3577_0740.jpg\tdaf met een meenigte van uuren verligt was op het \t[0.00016444249195046723, 0.9996064305305481, 0.00021012444631196558, 1.905770659504924e-05]\n",
      "IN\tIN\tNL-HaNA_1.04.02_3577_0741.jpg\taangemoedigt tot de uijtbrijding dier Cultuure en \t[0.00015794656064826995, 0.9996111989021301, 0.00021256424952298403, 1.833247733884491e-05]\n",
      "IN\tIN\tNL-HaNA_1.04.02_3577_0742.jpg\twel Edele Agtb: in Perzoon de Redout zo van buijte\t[0.00016993391909636557, 0.9996001124382019, 0.00021107675274834037, 1.892731961561367e-05]\n",
      "IN\tIN\tNL-HaNA_1.04.02_3577_0743.jpg\tals hunne nakomelingen daar in opgeslooten met toe\t[0.00015404906298499554, 0.9996080994606018, 0.00021938449935987592, 1.852498644439038e-05]\n",
      "IN\tIN\tNL-HaNA_1.04.02_3577_0744.jpg\tMaandag den 13: December, de 'smorgens wierd na Am\t[0.0001529883302282542, 0.9995993971824646, 0.000227884782361798, 1.977656575036235e-05]\n",
      "IN\tIN\tNL-HaNA_1.04.02_3577_0745.jpg\twierden ter overvoer na Amboina; ook quam alhier d\t[0.00014719132741447538, 0.9996147155761719, 0.00022008399537298828, 1.8010236090049148e-05]\n",
      "IN\tIN\tNL-HaNA_1.04.02_3577_0746.jpg\tden wel Edele Agtb: Heer Gouverneur van hier na de\t[0.00015096890274435282, 0.9996418952941895, 0.0001889034319901839, 1.827844971558079e-05]\n",
      "IN\tIN\tNL-HaNA_1.04.02_3577_0747.jpg\thet Opperhoofd Cruijpenning als van D=l Scharff en\t[0.000162804193678312, 0.9996178150177002, 0.0002005086571443826, 1.8848542822524905e-05]\n",
      "IN\tIN\tNL-HaNA_1.04.02_3577_0748.jpg\tstaven, wijl bereets d' gerequireerde sorteeringe \t[0.00015950683155097067, 0.9996316432952881, 0.0001904644159367308, 1.840009463194292e-05]\n",
      "IN\tIN\tNL-HaNA_1.04.02_3577_0749.jpg\tintusschen quam omtrent tien uuren Haroekos Hoofd \t[0.0001460485509596765, 0.9996206760406494, 0.00021519340225495398, 1.8076041669701226e-05]\n",
      "IN\tIN\tNL-HaNA_1.04.02_3577_0750.jpg\tdoor de besettelingen drie Chergues uijt het Hand \t[0.00015804993745405227, 0.9995960593223572, 0.00022743178124073893, 1.8523774997447617e-05]\n",
      "IN\tIN\tNL-HaNA_1.04.02_3577_0751.jpg\theevig doleerden over de willekeelrige, en harde h\t[0.00014708047092426568, 0.9996347427368164, 0.0002009981544688344, 1.716578299237881e-05]\n",
      "IN\tIN\tNL-HaNA_1.04.02_3577_0752.jpg\tFactuur van Primo Augustus J: L: Elf Guseliors gew\t[0.00013486476382240653, 0.9996212720870972, 0.0002267384552396834, 1.7170121282106265e-05]\n",
      "IN\tIN\tNL-HaNA_1.04.02_3577_0753.jpg\teeven daar na vertoonde zig hier den gezaghebber v\t[0.00017091278277803212, 0.9996076226234436, 0.00020400255743879825, 1.7501401089248247e-05]\n",
      "IN\tIN\tNL-HaNA_1.04.02_3577_0754.jpg\tvrugteloos bevonden was, terwijl des niet tegensta\t[0.0001503434614278376, 0.9996256828308105, 0.00020688182848971337, 1.705808608676307e-05]\n",
      "IN\tIN\tNL-HaNA_1.04.02_3577_0755.jpg\tvan het Hoofd Treno, Deminbo, en kindertjes, en ve\t[0.0001735073165036738, 0.9995705485343933, 0.00023846088151913136, 1.7498718079878017e-05]\n",
      "IN\tIN\tNL-HaNA_1.04.02_3577_0756.jpg\tdat gevaar te ontwijken des 'smorgens van daar afz\t[0.00015051348600536585, 0.9996229410171509, 0.00020700402092188597, 1.9557099221856333e-05]\n",
      "IN\tIN\tNL-HaNA_1.04.02_3577_0757.jpg\tDHeer Gouverneur Rapport doen dat 'er op zijn Post\t[0.0001747384521877393, 0.9995934367179871, 0.00021260284120216966, 1.9133216483169235e-05]\n",
      "IN\tIN\tNL-HaNA_1.04.02_3577_0758.jpg\twel Edele Agtbare Heer; Mij wel inhandigt zijnde u\t[0.00016309374768752605, 0.999620795249939, 0.00019756826804950833, 1.8449252820573747e-05]\n",
      "IN\tIN\tNL-HaNA_1.04.02_3577_0759.jpg\tbeugels, onder Factuur van Aanreekening ter verand\t[0.00014928076416254044, 0.999566376209259, 0.0002659319434314966, 1.8397140593151562e-05]\n",
      "IN\tIN\tNL-HaNA_1.04.02_3577_0760.jpg\tBoord gekoomen zijnde resolveerde den wel Edele Ag\t[0.00013841934560332447, 0.9996460676193237, 0.00019822987087536603, 1.7292562915827148e-05]\n",
      "IN\tIN\tNL-HaNA_1.04.02_3577_0761.jpg\t„de vaartuijgen der vloot zo spoedig doenelijk lan\t[0.0001458551560062915, 0.9996060729026794, 0.00022939278278499842, 1.8680731955100782e-05]\n",
      "IN\tIN\tNL-HaNA_1.04.02_3577_0762.jpg\tRegent en Posthouder, onder afwijsing van verschei\t[0.0001808766246540472, 0.9995610117912292, 0.00023734870774205774, 2.0747391317854635e-05]\n",
      "IN\tIN\tNL-HaNA_1.04.02_3577_0763.jpg\tontfing, en de voornaamste onthaalde op eenige gla\t[0.0001463988737668842, 0.9996466636657715, 0.00018973357509821653, 1.7109110558521934e-05]\n",
      "IN\tIN\tNL-HaNA_1.04.02_3577_0764.jpg\tNagezien.; 6; T; JD: V: Wieringer\t[0.00017076716176234186, 0.9995837807655334, 0.00022607551363762468, 1.9461336705717258e-05]\n",
      "IN\tIN\tNL-HaNA_1.04.02_3577_0765.jpg\tDen wel Edele Agtbaare Heer; Gouverneur en Directe\t[0.00014800517237745225, 0.9996260404586792, 0.0002062605635728687, 1.9674360373755917e-05]\n",
      "IN\tIN\tNL-HaNA_1.04.02_3577_0766.jpg\tvan vijf gaaren ingaande met p=mo November aanstaa\t[0.00014918176748324186, 0.9996201992034912, 0.00021394893701653928, 1.6731504729250446e-05]\n",
      "IN\tIN\tNL-HaNA_1.04.02_3577_0767.jpg\ttot het behoud van het gering overgebleven getal b\t[0.00015806405281182379, 0.9995880722999573, 0.0002345672546653077, 1.925432479765732e-05]\n",
      "IN\tIN\tNL-HaNA_1.04.02_3577_0768.jpg\tdoor het Hoofd Galloo gedaan verzoek om van het sc\t[0.00018042183364741504, 0.9995983242988586, 0.00020005054830107838, 2.1250321879051626e-05]\n",
      "IN\tIN\tNL-HaNA_1.04.02_3577_0769.jpg\tGalloo gelast om bij de vlaggd stok op 't gebergte\t[0.00015341490507125854, 0.9996237754821777, 0.0002037573722191155, 1.901294308481738e-05]\n",
      "IN\tIN\tNL-HaNA_1.04.02_3577_0770.jpg\tDen wel Edele Agtbaare Heer; Gouverneuren Tiracteu\t[0.0001575399364810437, 0.9996045231819153, 0.0002201050374424085, 1.7860153093351983e-05]\n",
      "IN\tIN\tNL-HaNA_1.04.02_3577_0771.jpg\tFiscaal Haga gevisiteerd zijnde het alhier beruste\t[0.0001737340062391013, 0.9995562434196472, 0.00025077653117477894, 1.919788155646529e-05]\n",
      "IN\tIN\tNL-HaNA_1.04.02_3577_0772.jpg\tNegorij Bonoa weeder te vervullen met den daar om \t[0.0001621000556042418, 0.99958735704422, 0.00023178565606940538, 1.8725277186604217e-05]\n",
      "IN\tIN\tNL-HaNA_1.04.02_3577_0773.jpg\tSepalatoe gen=t, die reets een geruijmen tijd als \t[0.0001674404920777306, 0.999580442905426, 0.00023230057558976114, 1.97374502022285e-05]\n",
      "IN\tIN\tNL-HaNA_1.04.02_3577_0774.jpg\tVermaanende zijn wel Edele Agtb: voorsz: Regenten \t[0.00016172001778613776, 0.9995002746582031, 0.00031835463596507907, 1.966910895134788e-05]\n",
      "IN\tIN\tNL-HaNA_1.04.02_3577_0775.jpg\tDag register recommandeerde zijn wel Edele Agtb: v\t[0.00025551102589815855, 0.9962653517723083, 0.003438530955463648, 4.063548112753779e-05]\n",
      "END\tIN\tNL-HaNA_1.04.02_3577_0776.jpg\tAlverder ordonneerde den Heer Gouverneur de Regent\t[3.592299617594108e-05, 0.00018315129273105413, 0.9997778534889221, 3.1299875900003826e-06]\n",
      "BEGIN\tIN\tNL-HaNA_1.04.02_3577_0777.jpg\thun eigen toe doen zijn wel Edele Agtb: hoope om h\t[0.9998897314071655, 8.585154864704236e-05, 2.1891924916417338e-05, 2.434436282783281e-06]\n",
      "IN\tIN\tNL-HaNA_1.04.02_3577_0778.jpg\tde Regenten door een vriendelijke vermaaning op we\t[0.0007666017627343535, 0.9987285733222961, 0.00044200263801030815, 6.283319817157462e-05]\n",
      "IN\tIN\tNL-HaNA_1.04.02_3577_0779.jpg\teene plegtige submissie der Cerammers in deese Cre\t[0.0004403045168146491, 0.9991607666015625, 0.000364844425348565, 3.4104741644114256e-05]\n",
      "IN\tIN\tNL-HaNA_1.04.02_3577_0780.jpg\tvan een vergadering bij den anderen zijn geweest, \t[0.00019445632642600685, 0.9995589852333069, 0.0002243690105387941, 2.2176041966304183e-05]\n",
      "IN\tIN\tNL-HaNA_1.04.02_3577_0781.jpg\tDen wel Edele Agtb: Heer Gouverneur deze vergaderi\t[0.00017439939256291837, 0.9995566010475159, 0.00024756084894761443, 2.139933712896891e-05]\n",
      "IN\tIN\tNL-HaNA_1.04.02_3577_0782.jpg\ten door zijn Broeders zoon Bariend gesuccedeert te\t[0.0001939054491231218, 0.9995908141136169, 0.0001939683425007388, 2.1380137695814483e-05]\n",
      "IN\tIN\tNL-HaNA_1.04.02_3577_0783.jpg\tJanuarij 1774: vi de vonnis van den Land Raad voor\t[0.00016076468455139548, 0.9996064305305481, 0.00021651208226103336, 1.6338395653292537e-05]\n",
      "IN\tIN\tNL-HaNA_1.04.02_3577_0784.jpg\ten reparatie na het Hoofd Casteel te zenden;; Door\t[0.00015516509301960468, 0.9996310472488403, 0.00019470695406198502, 1.9026287191081792e-05]\n",
      "IN\tIN\tNL-HaNA_1.04.02_3577_0785.jpg\tRegenten van Bouro en Amblauw op het ernstigste; g\t[0.00015793995407875627, 0.9995961785316467, 0.00022679071116726846, 1.904920645756647e-05]\n",
      "IN\tIN\tNL-HaNA_1.04.02_3577_0786.jpg\tder andere subalterne Comptoiren van dit Gouvernem\t[0.00015177491877693683, 0.9996185302734375, 0.00021063804160803556, 1.9031891497434117e-05]\n",
      "IN\tIN\tNL-HaNA_1.04.02_3577_0787.jpg\tdie geleegendheid de allernaauwste recherge te doe\t[0.00015002532745711505, 0.9996283054351807, 0.00020451053569559008, 1.7210191799676977e-05]\n",
      "IN\tIN\tNL-HaNA_1.04.02_3577_0788.jpg\tAldus Gedaan en Geresolveert ten Comptoire; Douro \t[0.0001556400238769129, 0.9996240139007568, 0.00020244612824171782, 1.7865986592369154e-05]\n",
      "IN\tIN\tNL-HaNA_1.04.02_3577_0789.jpg\tZacharias Sierborij van Poorto oud 24:e willem Man\t[0.00016701500862836838, 0.9995805621147156, 0.00023394175514113158, 1.8455284589435905e-05]\n",
      "IN\tIN\tNL-HaNA_1.04.02_3577_0790.jpg\tte bestieren en de hof en Heere diensten daar door\t[0.00016730031347833574, 0.9995773434638977, 0.00023743091151118279, 1.7833217498264275e-05]\n",
      "IN\tIN\tNL-HaNA_1.04.02_3577_0791.jpg\tZuijd; over de Negorij Laimoe aan Cerams Oost Cust\t[0.00016945759125519544, 0.9995951056480408, 0.00021640498016495258, 1.909188722493127e-05]\n",
      "IN\tIN\tNL-HaNA_1.04.02_3577_0792.jpg\tjarige ouderdom als ook 566: lb: Moernagulen die a\t[0.00014020288654137403, 0.9996418952941895, 0.00020171893993392587, 1.617275847820565e-05]\n",
      "IN\tIN\tNL-HaNA_1.04.02_3577_0793.jpg\tIntusschen matige wij ons d'eer van in alle onderd\t[0.0001511963055236265, 0.9996384382247925, 0.00019381099264137447, 1.660581438045483e-05]\n",
      "IN\tIN\tNL-HaNA_1.04.02_3577_0794.jpg\tJatij Capes; Dat door den ondergeteekende; 754 8 b\t[0.0001392880076309666, 0.9996345043182373, 0.00020918781228829175, 1.7040463717421517e-05]\n",
      "IN\tIN\tNL-HaNA_1.04.02_3577_0795.jpg\tDuursteede den 10 Decem¬; /:onderstond/ Caparoua; \t[0.0001547877909615636, 0.9996141195297241, 0.00021138592273928225, 1.967134994629305e-05]\n",
      "IN\tIN\tNL-HaNA_1.04.02_3577_0796.jpg\tOp de ingebragte klagte van den Radja over de Nego\t[0.0001585746358614415, 0.9996029734611511, 0.00022066208475735039, 1.7772808860172518e-05]\n",
      "IN\tIN\tNL-HaNA_1.04.02_3577_0797.jpg\tRapport Aan Den wel Edelen Agtbaare Heer; Bernardu\t[0.0001495395554229617, 0.9996181726455688, 0.0002157390263164416, 1.6598007277934812e-05]\n",
      "IN\tIN\tNL-HaNA_1.04.02_3577_0798.jpg\tBernardus van Pleuren; Gouverneur en Directeur des\t[0.00014311358972918242, 0.9996362924575806, 0.00020288368978071958, 1.777233228494879e-05]\n",
      "IN\tIN\tNL-HaNA_1.04.02_3577_0799.jpg\tden Jnlander betaald worden, om de Noots en foelij\t[0.00018193900177720934, 0.9996036887168884, 0.0001931525330292061, 2.125556602550205e-05]\n",
      "IN\tIN\tNL-HaNA_1.04.02_3577_0800.jpg\teen en ander in overweging genomen zijnde wierd no\t[0.00015208568947855383, 0.9996289014816284, 0.00020040383969899267, 1.8577689843368717e-05]\n",
      "IN\tIN\tNL-HaNA_1.04.02_3577_0801.jpg\tLaastelijk wierd verstaan aantekeening te houden d\t[0.00014806812396273017, 0.9996240139007568, 0.00021008568000979722, 1.778343903424684e-05]\n",
      "IN\tIN\tNL-HaNA_1.04.02_3577_0802.jpg\tDen wel Edele Agtb: Heer Gouverneur de vergadering\t[0.0001655017549637705, 0.9995909333229065, 0.00022322492441162467, 2.0413255697349086e-05]\n",
      "IN\tIN\tNL-HaNA_1.04.02_3577_0803.jpg\tder Negorij Sameth te ontslaan onder toevoeging va\t[0.00015276935300789773, 0.9995936751365662, 0.00023439325741492212, 1.922315095725935e-05]\n",
      "IN\tIN\tNL-HaNA_1.04.02_3577_0804.jpg\tdat in het Alphoers gebergte van waijsammoe eenige\t[0.00016996551130432636, 0.9995934367179871, 0.0002174736000597477, 1.924236858030781e-05]\n",
      "IN\tIN\tNL-HaNA_1.04.02_3577_0805.jpg\tSwaijsama en aldaar des nademiddags om 3 uuren aan\t[0.00014826619008090347, 0.9996142387390137, 0.00022015378635842353, 1.7300457329838537e-05]\n",
      "IN\tIN\tNL-HaNA_1.04.02_3577_0806.jpg\tvervolgens wierd verstaan in deesen, aanteekening \t[0.00014617148553952575, 0.999626636505127, 0.00020908068108838052, 1.810174944694154e-05]\n",
      "IN\tIN\tNL-HaNA_1.04.02_3577_0807.jpg\tGouverneur op de Negorij na het: Hoofd Casteel, ov\t[0.00014844394172541797, 0.9996250867843628, 0.00020861469965893775, 1.7907217625179328e-05]\n",
      "IN\tIN\tNL-HaNA_1.04.02_3577_0808.jpg\tdie van Camariang, Thiolale en Rumakaij in een bee\t[0.00016217204392887652, 0.9994534850120544, 0.0003650602884590626, 1.9305618479847908e-05]\n",
      "IN\tIN\tNL-HaNA_1.04.02_3577_0809.jpg\tRapport Aan den wel Edelen Agtbare Heer; Bernardus\t[0.0002469525206834078, 0.9973010420799255, 0.0024131066165864468, 3.887200728058815e-05]\n",
      "END\tEND\tNL-HaNA_1.04.02_3577_0810.jpg\tAgtb: gehoorsame en Trouwschuldige Dienaar /:was g\t[3.34670658048708e-05, 0.00017428057617507875, 0.9997895359992981, 2.726402954067453e-06]\n",
      "OUT\tOUT\tNL-HaNA_1.04.02_1547_0468.jpg\t\t[0.00011624029139056802, 0.0003206664405297488, 5.2529136155499145e-05, 0.999510645866394]\n",
      "OUT\tOUT\tNL-HaNA_1.04.02_1547_0469.jpg\t\t[3.03311062452849e-05, 6.571004632860422e-05, 1.2811156011593994e-05, 0.9998911619186401]\n",
      "OUT\tOUT\tNL-HaNA_1.04.02_1547_0470.jpg\t\t[3.2013213058235124e-05, 5.6304394092876464e-05, 1.600748328201007e-05, 0.9998956918716431]\n",
      "BEGIN\tBEGIN\tNL-HaNA_1.04.02_1547_0471.jpg\tVrijdagh den 26; November Ao 1694; Den raad door d\t[0.999392032623291, 8.434362825937569e-05, 6.473267421824858e-05, 0.00045894048525951803]\n",
      "IN\tIN\tNL-HaNA_1.04.02_1547_0472.jpg\tdie reets in steede van 't. fregatje de bije sorde\t[0.01732778549194336, 0.9613315463066101, 0.0021330693271011114, 0.019207581877708435]\n",
      "IN\tIN\tNL-HaNA_1.04.02_1547_0473.jpg\tEn nogh voor batavia —; 1049½ elj: diverse laacken\t[0.0027374119963496923, 0.9944861531257629, 0.000768540776334703, 0.002007876755669713]\n",
      "IN\tIN\tNL-HaNA_1.04.02_1547_0474.jpg\tIn't schip Silversteijn—; 103729. lb: Comeijn te w\t[0.0006954167620278895, 0.9987841248512268, 0.0003520473255775869, 0.00016842660261318088]\n",
      "IN\tIN\tNL-HaNA_1.04.02_1547_0475.jpg\t20: packen gesies —; 22.. „ d„o kassen; 6. „ alegi\t[0.0002429962914902717, 0.9994581341743469, 0.0002523630973882973, 4.649821494240314e-05]\n",
      "IN\tIN\tNL-HaNA_1.04.02_1547_0476.jpg\tpackhuijsen alhier overleggen, tot tijt en wijle; \t[0.00017047453729901463, 0.9995740056037903, 0.00022795442782808095, 2.7501784643391147e-05]\n",
      "IN\tIN\tNL-HaNA_1.04.02_1547_0477.jpg\t'tschip silversteijn belaaden met d'overige; goede\t[0.00017467353609390557, 0.9995718598365784, 0.00022471239208243787, 2.8752021535183303e-05]\n",
      "IN\tIN\tNL-HaNA_1.04.02_1547_0478.jpg\tvoor als nogh hier t komen, ten ware men op zijn; \t[0.00013509171549230814, 0.9994650483131409, 0.0003717090585269034, 2.8113821826991625e-05]\n",
      "IN\tIN\tNL-HaNA_1.04.02_1547_0479.jpg\tgevalideert soo is hem sulcx als een billuke; saac\t[0.0001919697824632749, 0.9974833130836487, 0.0022822353057563305, 4.243432340444997e-05]\n",
      "END\tEND\tNL-HaNA_1.04.02_1547_0480.jpg\twas geteeck:t adriaan van ommen; Pr: Coesaart: D„s\t[3.063990516238846e-05, 0.00017870079318527132, 0.9997867941856384, 3.879640644299798e-06]\n",
      "OUT\tOUT\tNL-HaNA_1.04.02_1547_0644.jpg\t\t[0.00013152690371498466, 0.00026836578035727143, 5.184346082387492e-05, 0.9995482563972473]\n",
      "OUT\tOUT\tNL-HaNA_1.04.02_1547_0645.jpg\t\t[2.3593100195284933e-05, 4.5784243411617354e-05, 8.651566531625576e-06, 0.9999219179153442]\n",
      "OUT\tOUT\tNL-HaNA_1.04.02_1547_0646.jpg\t\t[1.3783057511318475e-05, 3.124208524241112e-05, 6.893964382470585e-06, 0.9999481439590454]\n",
      "OUT\tBEGIN\tNL-HaNA_1.04.02_1547_0647.jpg\t\t[2.2105656171333976e-05, 4.131983587285504e-05, 1.2794467693311162e-05, 0.9999237060546875]\n",
      "BEGIN\tIN\tNL-HaNA_1.04.02_1547_0648.jpg\tNotitie Dan Alle De Coopmanz; 8863 -. „; 62880 – „\t[0.9983628392219543, 0.00010535342153161764, 8.358713239431381e-05, 0.0014483022969216108]\n",
      "IN\tIN\tNL-HaNA_1.04.02_1547_0649.jpg\tkosten als mede 't bedragen van de Geheele Verkogt\t[0.0195121169090271, 0.9327102899551392, 0.0023733568377792835, 0.04540421813726425]\n",
      "IN\tIN\tNL-HaNA_1.04.02_1547_0650.jpg\t120¾ lb geel plaatkoper - - - - - - - - - - - - - \t[0.003090029349550605, 0.9818441271781921, 0.0018111321842297912, 0.013254761695861816]\n",
      "IN\tIN\tNL-HaNA_1.04.02_1547_0651.jpg\tadvancen opde advancen perC=to; monteerende van 't\t[0.0037490855902433395, 0.9406869411468506, 0.04157562181353569, 0.013988303951919079]\n",
      "IN\tIN\tNL-HaNA_1.04.02_1547_0652.jpg\t\t[0.004719235934317112, 0.8539608716964722, 0.009736822918057442, 0.1315830647945404]\n",
      "IN\tIN\tNL-HaNA_1.04.02_1547_0653.jpg\t\t[0.0038672741502523422, 0.5670512914657593, 0.00945170409977436, 0.41962969303131104]\n",
      "OUT\tIN\tNL-HaNA_1.04.02_1547_0654.jpg\t\t[0.002077607437968254, 0.13720057904720306, 0.0030319523066282272, 0.8576898574829102]\n",
      "OUT\tIN\tNL-HaNA_1.04.02_1547_0655.jpg\t\t[0.0009797499515116215, 0.049220744520425797, 0.0006607329705730081, 0.9491387605667114]\n",
      "BEGIN\tIN\tNL-HaNA_1.04.02_1547_0656.jpg\t127½ lb bengaalse amphioen - - . ..; 23475- „ Japp\t[0.9917135238647461, 0.004740198142826557, 0.000450287654530257, 0.0030959835276007652]\n",
      "IN\tIN\tNL-HaNA_1.04.02_1547_0657.jpg\tweel; danige Coopmansz Ulser Sedert P=mo Januarij \t[0.009500839747488499, 0.8288524150848389, 0.12808509171009064, 0.03356161713600159]\n",
      "IN\tIN\tNL-HaNA_1.04.02_1547_0658.jpg\t\t[0.005053464788943529, 0.6023523211479187, 0.009728998877108097, 0.38286519050598145]\n",
      "OUT\tIN\tNL-HaNA_1.04.02_1547_0659.jpg\t\t[0.002451798878610134, 0.11830917745828629, 0.0021089499350637197, 0.8771300911903381]\n",
      "BEGIN\tIN\tNL-HaNA_1.04.02_1547_0660.jpg\thet Bedragen va; Randeles Partije 1500; Indische H\t[0.9844396114349365, 0.014215805567800999, 0.0009135378058999777, 0.000431054417276755]\n",
      "END\tEND\tNL-HaNA_1.04.02_1547_0661.jpg\tser Comptoir voor Contands geles sedert Primo Janu\t[0.00016300412244163454, 0.00030706607503816485, 0.999406099319458, 0.0001238318654941395]\n",
      "BEGIN\tBEGIN\tNL-HaNA_1.04.02_2970_0278.jpg\tWoensdag den 18' Juny Ao 1760; op; Middelerwyle wi\t[0.9998658895492554, 9.465996117796749e-05, 3.5563018172979355e-05, 3.966170424973825e-06]\n",
      "IN\tIN\tNL-HaNA_1.04.02_2970_0279.jpg\tde Edele agtb: heere Weesmeesteren tot Amsterdam; \t[0.0005732171703130007, 0.9980097413063049, 0.0013303037267178297, 8.6716674559284e-05]\n",
      "IN\tIN\tNL-HaNA_1.04.02_2970_0280.jpg\tExtract uyt de mis¬; sive door heeren Weesmees; te\t[0.00065391551470384, 0.9806766510009766, 0.01850888319313526, 0.00016046590462792665]\n",
      "IN\tIN\tNL-HaNA_1.04.02_2970_0281.jpg\t\t[0.0006141855265013874, 0.9937678575515747, 0.004916029516607523, 0.0007019492331892252]\n",
      "IN\tIN\tNL-HaNA_1.04.02_2970_0282.jpg\t\t[0.0013639371609315276, 0.9922803640365601, 0.004319575149565935, 0.002036122838035226]\n",
      "IN\tIN\tNL-HaNA_1.04.02_2970_0283.jpg\tD Testamentaire Erfgen: va; Jacomina Chasse wed Gr\t[0.0005438720691017807, 0.9988420605659485, 0.000563774083275348, 5.041211625211872e-05]\n",
      "IN\tIN\tNL-HaNA_1.04.02_2970_0284.jpg\tP=r Transport rd=s 11. 100:—; Den boedel van Jacom\t[0.00019986835832241923, 0.9993472695350647, 0.00042188071529380977, 3.0974213586887345e-05]\n",
      "IN\tIN\tNL-HaNA_1.04.02_2970_0285.jpg\tPr Transport r=os 16:8; Transport d„s 1228 12; Om \t[0.00019531916768755764, 0.99724942445755, 0.0025212476029992104, 3.395889507373795e-05]\n",
      "END\tEND\tNL-HaNA_1.04.02_2970_0286.jpg\tnagelien; J Schilbmnar; Notitie van diversche pa; \t[2.2145139155327342e-05, 0.0001450798736186698, 0.9998304843902588, 2.2129611352283973e-06]\n"
     ]
    },
    {
     "name": "stderr",
     "output_type": "stream",
     "text": [
      "100%|██████████| 24/24 [00:01<00:00, 14.57batch/s]"
     ]
    },
    {
     "name": "stdout",
     "output_type": "stream",
     "text": [
      "BEGIN\tBEGIN\tNL-HaNA_1.04.02_1108_0653.jpg\td' E. d: heeren Bewindehebberen; mpult. febr. 1633\t[0.9999197721481323, 6.24519307166338e-05, 1.5677125702495687e-05, 1.9859278381773038e-06]\n",
      "IN\tIN\tNL-HaNA_1.04.02_1108_0654.jpg\tsyn gecompareert, die terstont liet vast binden, e\t[0.0010502388468012214, 0.9982824325561523, 0.0005819913931190968, 8.536814129911363e-05]\n",
      "IN\tIN\tNL-HaNA_1.04.02_1108_0655.jpg\t3a di dito smorgens sagen seecker vaertuyg onder't\t[0.00026778728351928294, 0.9994713664054871, 0.0002345546381548047, 2.6388303012936376e-05]\n",
      "IN\tIN\tNL-HaNA_1.04.02_1108_0656.jpg\tvoor de Manipo, vandewelcke voor desen geschreven \t[0.00020679035515058786, 0.9994906187057495, 0.0002777914342004806, 2.475599649187643e-05]\n",
      "IN\tIN\tNL-HaNA_1.04.02_1108_0657.jpg\ttegenwoordigh inde Negrij geen nagelen waren: dien\t[0.0001687015756033361, 0.9995935559272766, 0.00021830877813044935, 1.936741500685457e-05]\n",
      "IN\tIN\tNL-HaNA_1.04.02_1108_0658.jpg\tdie haer aenhouden, te straffen, so veel als in on\t[0.00016586948186159134, 0.9995930790901184, 0.00021907805057708174, 2.209253034379799e-05]\n",
      "IN\tIN\tNL-HaNA_1.04.02_1108_0659.jpg\t2 a 3 Portugeesche 23 haar nagelen hadden, doch de\t[0.00017260017921216786, 0.9995937943458557, 0.0002146018814528361, 1.9025776055059396e-05]\n",
      "IN\tIN\tNL-HaNA_1.04.02_1108_0660.jpg\tTerstont soud d' H. r Gouvr beyde sloupen, d'een a\t[0.0001603497948963195, 0.9996011853218079, 0.0002184045733883977, 2.0086043150513433e-05]\n",
      "IN\tIN\tNL-HaNA_1.04.02_1108_0661.jpg\td' E.d: heeren Bewindthebberen; van Iustitia gehoo\t[0.00015919358702376485, 0.99960857629776, 0.00021341028332244605, 1.8863815057557076e-05]\n",
      "IN\tIN\tNL-HaNA_1.04.02_1108_0662.jpg\tVruchtbomen, te weten Ionge clappus, pinang als an\t[0.00016156421042978764, 0.9996005892753601, 0.00021904772438574582, 1.8769489543046802e-05]\n",
      "IN\tIN\tNL-HaNA_1.04.02_1108_0663.jpg\tdoor de ruychte vant strand te gaen: ('t pad voor \t[0.00016394078556913882, 0.9995911717414856, 0.00022467879171017557, 2.031563053606078e-05]\n",
      "IN\tIN\tNL-HaNA_1.04.02_1108_0664.jpg\tmede op 't strand by d'Inwoonders van kelang getre\t[0.0001676643150858581, 0.9995982050895691, 0.0002132056833943352, 2.101791324093938e-05]\n",
      "IN\tIN\tNL-HaNA_1.04.02_1108_0665.jpg\tNde 9 dito smorgens heeft syn Ed. de twee gevangen\t[0.00015051313675940037, 0.9996254444122314, 0.00020499889797065407, 1.912260995595716e-05]\n",
      "IN\tIN\tNL-HaNA_1.04.02_1108_0666.jpg\tinformatie te nemen wegens de saaken vanden Vaendr\t[0.00016821149620227516, 0.9995843768119812, 0.00022899899340700358, 1.8499513316783123e-05]\n",
      "IN\tIN\tNL-HaNA_1.04.02_1108_0667.jpg\tdEenwinne, om de stucken ten lasten vanden Vaendri\t[0.0001535515475552529, 0.9996175765991211, 0.00020974902145098895, 1.91108829312725e-05]\n",
      "IN\tIN\tNL-HaNA_1.04.02_1108_0668.jpg\tCambello op Lissien te houden, en daer door d'inwo\t[0.00016252828936558217, 0.9995896220207214, 0.0002276831364724785, 2.0098648747080006e-05]\n",
      "IN\tIN\tNL-HaNA_1.04.02_1108_0669.jpg\tsyn noch twee gelycke sterckten gepasseert: Eyndlj\t[0.00015412223001476377, 0.9996250867843628, 0.00020375513122417033, 1.6988362403935753e-05]\n",
      "IN\tIN\tNL-HaNA_1.04.02_1108_0670.jpg\tdat 't schijnt de Magellaense Vloot haer devoir op\t[0.00015536257706116885, 0.9996144771575928, 0.0002116833347827196, 1.848770807555411e-05]\n",
      "IN\tIN\tNL-HaNA_1.04.02_1108_0671.jpg\tbeneden monsteren, ende bevonden de soldaten 48 co\t[0.00019786959455814213, 0.9995360374450684, 0.0002472983323968947, 1.8807104424922727e-05]\n",
      "IN\tIN\tNL-HaNA_1.04.02_1108_0672.jpg\tJoncq) diep inde Livier opgehaelt: deden deselve e\t[0.00016139472427312285, 0.9996143579483032, 0.00020596978720277548, 1.8246562831336632e-05]\n",
      "IN\tIN\tNL-HaNA_1.04.02_1108_0673.jpg\tdie gansch te raseeren: doch weynich daer nae quam\t[0.00015243333473335952, 0.9996194839477539, 0.00020893027249258012, 1.9198272639187053e-05]\n",
      "IN\tIN\tNL-HaNA_1.04.02_1108_0674.jpg\tSyn Ed. heeft eenige der Principaelste Orangquais \t[0.000153871180373244, 0.9996160268783569, 0.0002124096645275131, 1.7658339857007377e-05]\n",
      "IN\tIN\tNL-HaNA_1.04.02_1108_0675.jpg\tschilden ende omhieuwen, alwaer met een bas cogel \t[0.00017488155572209507, 0.9996033310890198, 0.00020091229816898704, 2.0908704755129293e-05]\n",
      "IN\tIN\tNL-HaNA_1.04.02_1108_0676.jpg\tVarend Volck met wel gemonteerde Jachten, dewelcke\t[0.0001687192707322538, 0.9995983242988586, 0.00021438764815684408, 1.8620237824507058e-05]\n",
      "IN\tIN\tNL-HaNA_1.04.02_1108_0677.jpg\tvan Justitia gehoort ende geexamineert is Joncker \t[0.00017410989676136523, 0.9995947480201721, 0.00021057155390735716, 2.058024620055221e-05]\n",
      "IN\tIN\tNL-HaNA_1.04.02_1108_0678.jpg\td'Armade, en 't Jacht Ceylon met timmerhout voor B\t[0.0001671028439886868, 0.9996054768562317, 0.00020776617748197168, 1.962031274160836e-05]\n",
      "IN\tIN\tNL-HaNA_1.04.02_1108_0679.jpg\tVoor Cambelle comen is de corrocor van Loemecaij d\t[0.00016558411880396307, 0.9996059536933899, 0.0002102290018228814, 1.828431231842842e-05]\n",
      "IN\tIN\tNL-HaNA_1.04.02_1108_0680.jpg\tbeyjde sijden vande Logie een corps da guarde soud\t[0.00016501812206115574, 0.9996065497398376, 0.00020877819042652845, 1.9693779904628173e-05]\n",
      "IN\tIN\tNL-HaNA_1.04.02_1108_0681.jpg\tGouv. heeft onse Corrocorren genomen, en d' Negrij\t[0.0001590132451383397, 0.999610960483551, 0.00021110419766046107, 1.8976288629346527e-05]\n",
      "IN\tIN\tNL-HaNA_1.04.02_1108_0682.jpg\tNdi 4 dito: den nur voor dagh quam de slonp aen bo\t[0.00017169037892017514, 0.9995988011360168, 0.00020976367522962391, 1.9756456822506152e-05]\n",
      "IN\tIN\tNL-HaNA_1.04.02_1108_0683.jpg\tTorrocor vast, doch quamen sond schade daer weder \t[0.00015455696848221123, 0.99960857629776, 0.00021754016052000225, 1.925859396578744e-05]\n",
      "IN\tIN\tNL-HaNA_1.04.02_1108_0684.jpg\tVersoeckende eenige sloupen om de soldaten vande s\t[0.00014885156997479498, 0.9995892643928528, 0.00024099597067106515, 2.0807816326851025e-05]\n",
      "IN\tIN\tNL-HaNA_1.04.02_1108_0685.jpg\tAdy 16 dito. naermiddags omtrent 5 uyren arriveerd\t[0.00014760873455088586, 0.9996151924133301, 0.00021841573470737785, 1.8704382455325685e-05]\n",
      "IN\tIN\tNL-HaNA_1.04.02_1108_0686.jpg\tDes voormiddaghs ongevaer 10 uyren met onse Vlote \t[0.00015202187933027744, 0.9996422529220581, 0.00018677998741623014, 1.890154817374423e-05]\n",
      "IN\tIN\tNL-HaNA_1.04.02_1108_0687.jpg\tPersonen ongemolesteert in vrede wederom souden se\t[0.000163794873515144, 0.9996180534362793, 0.00019866110233124346, 1.9414770576986484e-05]\n",
      "IN\tIN\tNL-HaNA_1.04.02_1108_0688.jpg\taldus met ons volck beset hebbende, is by haer Ed.\t[0.00016150370356626809, 0.9996304512023926, 0.00018883282609749585, 1.9223693016101606e-05]\n",
      "IN\tIN\tNL-HaNA_1.04.02_1108_0689.jpg\tende dat hare meeste macht op Killibya, Kelebrot e\t[0.00014618902059737593, 0.9996227025985718, 0.0002125016471836716, 1.864827390818391e-05]\n",
      "IN\tIN\tNL-HaNA_1.04.02_1108_0690.jpg\tsel gesecondeert op den Vyant doortchergeeren der \t[0.0001581885589985177, 0.9995972514152527, 0.00022547223488800228, 1.905331555462908e-05]\n",
      "IN\tIN\tNL-HaNA_1.04.02_1108_0691.jpg\tCorrocorre sijn geraackt, bequamen een gequeste, w\t[0.00014775821182411164, 0.9996354579925537, 0.00019896413141395897, 1.777709803718608e-05]\n",
      "IN\tIN\tNL-HaNA_1.04.02_1108_0692.jpg\ttot welcken eynde oock van onse sterckte boven op \t[0.00013524592213798314, 0.9996216297149658, 0.00022539131168741733, 1.780712409527041e-05]\n",
      "IN\tIN\tNL-HaNA_1.04.02_1108_0693.jpg\tden selven sijn vrydom belovende, soo sich hier vr\t[0.00017384710372425616, 0.9996053576469421, 0.00020255376875866205, 1.826558400352951e-05]\n",
      "IN\tIN\tNL-HaNA_1.04.02_1108_0694.jpg\tDe sloupen, en 'tcleen vaertuygh inde Baij onder d\t[0.00015171989798545837, 0.9996259212493896, 0.0002045853470917791, 1.7735728761181235e-05]\n",
      "IN\tIN\tNL-HaNA_1.04.02_1108_0695.jpg\tGemelte personen met d'Inwoonders gesproocken hebb\t[0.00017367520194966346, 0.9995734095573425, 0.000235046842135489, 1.7880574887385592e-05]\n",
      "IN\tIN\tNL-HaNA_1.04.02_1108_0696.jpg\tvoor haer stercte gecomen waren, al voren besloote\t[0.0001497676712460816, 0.9996261596679688, 0.00020374756422825158, 2.0264445993234403e-05]\n",
      "IN\tIN\tNL-HaNA_1.04.02_1108_0697.jpg\tspits afmoeten byten, en niet buyten haer geledere\t[0.0001726875634631142, 0.999599277973175, 0.0002086325694108382, 1.9479370166664012e-05]\n",
      "IN\tIN\tNL-HaNA_1.04.02_1108_0698.jpg\tBij S. r. Hulft missive wert syn Ed. geadviseert, \t[0.0001600838586455211, 0.999624490737915, 0.00019655059440992773, 1.8833216017810628e-05]\n",
      "IN\tIN\tNL-HaNA_1.04.02_1108_0699.jpg\tde Bas, die 't volck van't Jacht Contchin, als met\t[0.00014638472930528224, 0.9995757937431335, 0.0002593678655102849, 1.850644730438944e-05]\n",
      "IN\tIN\tNL-HaNA_1.04.02_1108_0700.jpg\tpasseren, twelck nu vol rudsen en clippen van Extr\t[0.00013678777031600475, 0.9996496438980103, 0.00019632474868558347, 1.7313184798695147e-05]\n",
      "IN\tIN\tNL-HaNA_1.04.02_1108_0701.jpg\tVerstonden vande Vaendrich Jonge dan, dat met sijn\t[0.00014142443251330405, 0.999626874923706, 0.00021336638019420207, 1.829186294344254e-05]\n",
      "IN\tIN\tNL-HaNA_1.04.02_1108_0702.jpg\tondersaten schuldigh syn, te quijten. Dienvolgende\t[0.00015373615315183997, 0.9996060729026794, 0.00022130490106064826, 1.8887314581661485e-05]\n",
      "IN\tIN\tNL-HaNA_1.04.02_1108_0703.jpg\tover te leveren, sulcx gedaen synde, als dan syn r\t[0.0001361022295895964, 0.9996541738510132, 0.00019238024833612144, 1.737310412863735e-05]\n",
      "IN\tIN\tNL-HaNA_1.04.02_1108_0704.jpg\tbij sijn Ed. Corrocor gehouden had, die sulcx, Exc\t[0.00013633724302053452, 0.9995816349983215, 0.00026283273473381996, 1.9147117200191133e-05]\n",
      "IN\tIN\tNL-HaNA_1.04.02_1108_0705.jpg\tdoor des kumelahas volck /s meestert waren, waer v\t[0.00022723582515027374, 0.998687207698822, 0.0010594850173220038, 2.603486973384861e-05]\n",
      "IN\tIN\tNL-HaNA_1.04.02_1108_0706.jpg\t\t[0.0007644639699719846, 0.9953462481498718, 0.0035335058346390724, 0.00035568937892094254]\n",
      "IN\tIN\tNL-HaNA_1.04.02_1108_0707.jpg\td'EEd: heeren Bewindehebberen; Niet tegenstaende b\t[0.00023800179769750684, 0.9994907379150391, 0.0002452445914968848, 2.60237338807201e-05]\n",
      "IN\tIN\tNL-HaNA_1.04.02_1108_0708.jpg\tvertrecken: 3½ maent Victualie voort' ' acht de so\t[0.0001926047698361799, 0.9995837807655334, 0.00020077296358067542, 2.288790710736066e-05]\n",
      "IN\tIN\tNL-HaNA_1.04.02_1108_0709.jpg\tveele met pack en sack vluchten, end syn alsoo tot\t[0.00016357963613700122, 0.9996116757392883, 0.0002040584513451904, 2.068924186460208e-05]\n",
      "IN\tIN\tNL-HaNA_1.04.02_1108_0710.jpg\tGelaly met een champan, dewelcke aldaer met volck \t[0.0001662360446061939, 0.9995918869972229, 0.0002228038210887462, 1.9034723663935438e-05]\n",
      "IN\tIN\tNL-HaNA_1.04.02_1108_0711.jpg\tVan Loehoe overgelopen, die alhier eenige tyt gele\t[0.00019051588606089354, 0.9995309114456177, 0.00025710364570841193, 2.1389787434600294e-05]\n",
      "IN\tIN\tNL-HaNA_1.04.02_1108_0712.jpg\tnagelbomen stont, het welck syn Ed. , en veel met \t[0.00017273754929192364, 0.9995711445808411, 0.00023593317018821836, 2.0140298147452995e-05]\n",
      "IN\tIN\tNL-HaNA_1.04.02_1108_0713.jpg\tbomen beplant gevonden te hebben, dat men qual. tu\t[0.00017387245316058397, 0.9995651841163635, 0.00023991675698198378, 2.1010508135077544e-05]\n",
      "IN\tIN\tNL-HaNA_1.04.02_1108_0714.jpg\tvertoonden haer boven op 't gebercht, ende sagen v\t[0.00016887013043742627, 0.9994850158691406, 0.00032474170438945293, 2.127632251358591e-05]\n",
      "IN\tIN\tNL-HaNA_1.04.02_1108_0715.jpg\tVande negrie: Terstont hebben alle de clappus bome\t[0.0003021344600711018, 0.995441198348999, 0.004208658821880817, 4.793847620021552e-05]\n",
      "END\tIN\tNL-HaNA_1.04.02_1108_0716.jpg\tverstaande, dat Cerelant afgelopen, ende so menich\t[3.730009120772593e-05, 0.000179322058102116, 0.9997801184654236, 3.306605094621773e-06]\n",
      "BEGIN\tEND\tNL-HaNA_1.04.02_1108_0717.jpg\tvoortpangayen, end syn met de corrocorren, Namentl\t[0.9998884201049805, 1.868724029918667e-05, 8.831459126668051e-05, 4.568390522763366e-06]\n",
      "BEGIN\tBEGIN\tNL-HaNA_1.04.02_8526_0329.jpg\tSumatras West cust onder dato 6„' Jan: 1723.; Jan;\t[0.9999042749404907, 7.282821752596647e-05, 2.027862865361385e-05, 2.607722763059428e-06]\n",
      "IN\tIN\tNL-HaNA_1.04.02_8526_0330.jpg\tVan Sumatras West uust onder dato 6:' jan: 1733.; \t[0.0010157683864235878, 0.9984830021858215, 0.0004256950051058084, 7.562986138509586e-05]\n",
      "IN\tIN\tNL-HaNA_1.04.02_8526_0331.jpg\tO; Jan; Sumatras West cust onder dato 6„' Janu: 17\t[0.0002640268357936293, 0.999460756778717, 0.00025019122404046357, 2.50650573434541e-05]\n",
      "IN\tIN\tNL-HaNA_1.04.02_8526_0332.jpg\tVan Sumatras Westcust onder dato 6„' Janu: 1733.; \t[0.00019925349624827504, 0.999548614025116, 0.00023040457745082676, 2.1660251150024123e-05]\n",
      "IN\tIN\tNL-HaNA_1.04.02_8526_0333.jpg\tSumatras West Cust onder dato 6„' Janu: 1733.; Van\t[0.00018925036420114338, 0.9995390176773071, 0.00024866408784873784, 2.310718446096871e-05]\n",
      "IN\tIN\tNL-HaNA_1.04.02_8526_0334.jpg\tVan Sumatras West Cust onder dato 6„' Janu: 1733.;\t[0.00016992616292554885, 0.999599277973175, 0.00021184895012993366, 1.8928676581708714e-05]\n",
      "IN\tIN\tNL-HaNA_1.04.02_8526_0335.jpg\tVan Sumatras Westcust onder dato 6„e Janu: 173.; B\t[0.00019596780475694686, 0.9995531439781189, 0.000231225581956096, 1.9694267393788323e-05]\n",
      "IN\tIN\tNL-HaNA_1.04.02_8526_0336.jpg\t&; Sumatras West Cust onder dato 6„' Janu: 1733; V\t[0.00021453933732118458, 0.9995284080505371, 0.0002343147061765194, 2.2808222638559528e-05]\n",
      "IN\tIN\tNL-HaNA_1.04.02_8526_0337.jpg\tSumatras West Cust onder dato 6„' Janu: 1733.; Van\t[0.00017416155606042594, 0.9996156692504883, 0.00019040888582821935, 1.9734194211196154e-05]\n",
      "IN\tIN\tNL-HaNA_1.04.02_8526_0338.jpg\tSumatras West Cust onder dato 6„en Janu: 1733.; Va\t[0.00014997494872659445, 0.9996034502983093, 0.0002290883130626753, 1.7510310499346815e-05]\n",
      "IN\tIN\tNL-HaNA_1.04.02_8526_0339.jpg\tSumatras West Cust onder dato 6:„' Janu: 1733.; Va\t[0.00015520972374361008, 0.999599277973175, 0.000226766976993531, 1.86873585334979e-05]\n",
      "IN\tIN\tNL-HaNA_1.04.02_8526_0340.jpg\tSumatras West Cust onder dato 6„e Janu: 1733; Jan;\t[0.00016408860392402858, 0.9994986057281494, 0.00031405669869855046, 2.3187751139630564e-05]\n",
      "IN\tIN\tNL-HaNA_1.04.02_8526_0341.jpg\tVan Sumatras West Cust onder dato 6„' Janu: 1733. \t[0.00024603927158750594, 0.9982004165649414, 0.0015237010084092617, 2.9885608455515467e-05]\n",
      "END\tEND\tNL-HaNA_1.04.02_8526_0342.jpg\tVan Sumatras West Cust onder dato 6:' Janu: 1733.;\t[3.65465457434766e-05, 0.00017136383394245058, 0.9997891783714294, 2.919478674812126e-06]\n",
      "OUT\tOUT\tNL-HaNA_1.04.02_1547_0097.jpg\t\t[0.00014143031148705631, 0.0004445765516720712, 6.379372644005343e-05, 0.9993501305580139]\n",
      "OUT\tOUT\tNL-HaNA_1.04.02_1547_0098.jpg\t\t[4.85044984088745e-05, 9.459190187044442e-05, 2.840567503881175e-05, 0.9998284578323364]\n",
      "BEGIN\tBEGIN\tNL-HaNA_1.04.02_1547_0099.jpg\tuwe; Hoog Edele agtb: gebiedende Heere en Heeren; \t[0.999704897403717, 6.684372783638537e-05, 5.05169591633603e-05, 0.00017773527360986918]\n",
      "IN\tIN\tNL-HaNA_1.04.02_1547_0100.jpg\theen mne  dn d n n lel een w en de e sou co  an d;\t[0.009955938905477524, 0.9830584526062012, 0.0019515547901391983, 0.005034026224166155]\n",
      "IN\tIN\tNL-HaNA_1.04.02_1547_0101.jpg\tte Nambedle, den prince Cartadavile, en Moerianato\t[0.0023527953308075666, 0.9963956475257874, 0.0008378520724363625, 0.00041376808076165617]\n",
      "IN\tIN\tNL-HaNA_1.04.02_1547_0102.jpg\twerden; war op de ehien anmandijn lae telkens tot \t[0.0003756204969249666, 0.9992185831069946, 0.0003528220986481756, 5.297909228829667e-05]\n",
      "IN\tIN\tNL-HaNA_1.04.02_1547_0103.jpg\t41; Mallabaar soude konnen doen, waarop sijnEe zal\t[0.0001735622645355761, 0.9995514750480652, 0.0002454735804349184, 2.9413024094537832e-05]\n",
      "IN\tIN\tNL-HaNA_1.04.02_1547_0104.jpg\top Cochim benrogener aalewinsten des heevd Cochim \t[0.0001666918396949768, 0.9994947910308838, 0.0003111381665803492, 2.7394640710554086e-05]\n",
      "IN\tIN\tNL-HaNA_1.04.02_1547_0105.jpg\t42; moerlikeden raelde den presenten desolaaten to\t[0.0002468328457325697, 0.9964441657066345, 0.0032622478902339935, 4.6766210289206356e-05]\n",
      "END\tEND\tNL-HaNA_1.04.02_1547_0106.jpg\tgemerktaan dienkant moogelijk meerder vertier van \t[3.858864147332497e-05, 0.0002105794701492414, 0.9997467398643494, 4.100657406524988e-06]\n"
     ]
    },
    {
     "name": "stderr",
     "output_type": "stream",
     "text": [
      "\n"
     ]
    }
   ],
   "source": [
    "import csv\n",
    "import sys\n",
    "\n",
    "from torcheval.metrics import (\n",
    "    MulticlassAccuracy,\n",
    "    MulticlassF1Score,\n",
    "    MulticlassPrecision,\n",
    "    MulticlassRecall,\n",
    ")\n",
    "from tqdm import tqdm\n",
    "\n",
    "from document_segmentation.pagexml.datamodel.label import Label\n",
    "\n",
    "writer = csv.DictWriter(\n",
    "    sys.stdout,\n",
    "    fieldnames=(\"Predicted\", \"Actual\", \"Page ID\", \"Text\", \"Scores\"),\n",
    "    delimiter=\"\\t\",\n",
    ")\n",
    "\n",
    "writer.writeheader()\n",
    "\n",
    "accuracy = MulticlassAccuracy(num_classes=len(Label))\n",
    "precision = MulticlassPrecision(average=None, num_classes=len(Label))\n",
    "recall = MulticlassRecall(average=None, num_classes=len(Label))\n",
    "f1_score = MulticlassF1Score(average=None, num_classes=len(Label))\n",
    "\n",
    "for batch in tqdm(\n",
    "    test_data.batches(BATCH_SIZE), total=test_data.n_batches(BATCH_SIZE), unit=\"batch\"\n",
    "):\n",
    "    predicted = tagger(batch)\n",
    "    labels = batch.labels()\n",
    "\n",
    "    _labels = torch.Tensor([label.value for label in labels]).to(int)\n",
    "    accuracy.update(predicted, _labels)\n",
    "    precision.update(predicted, _labels)\n",
    "    recall.update(predicted, _labels)\n",
    "    f1_score.update(predicted, _labels)\n",
    "\n",
    "    for page, pred, label in zip(batch.pages, predicted, labels):\n",
    "        pred_label = Label(pred.argmax().item())\n",
    "        writer.writerow(\n",
    "            {\n",
    "                \"Predicted\": pred_label.name,\n",
    "                \"Actual\": label.name,\n",
    "                \"Page ID\": page.doc_id,\n",
    "                \"Text\": page.text(delimiter=\"; \")[:50],\n",
    "                \"Scores\": str(pred.tolist()),\n",
    "            }\n",
    "        )"
   ]
  },
  {
   "cell_type": "code",
   "execution_count": null,
   "metadata": {},
   "outputs": [
    {
     "name": "stdout",
     "output_type": "stream",
     "text": [
      "Metric\tBEGIN\tIN\tEND\tOUT\n",
      "MulticlassPrecision\t0.7308\t1.0000\t0.8696\t0.7368\n",
      "MulticlassRecall\t0.9048\t0.9748\t0.9524\t1.0000\n",
      "MulticlassF1Score\t0.8085\t0.9872\t0.9091\t0.8485\n",
      "Accuracy (micro average):\t0.9718\n"
     ]
    }
   ],
   "source": [
    "writer = csv.DictWriter(\n",
    "    sys.stdout,\n",
    "    fieldnames=[\"Metric\"] + [label.name for label in Label],\n",
    "    delimiter=\"\\t\",\n",
    ")\n",
    "writer.writeheader()\n",
    "\n",
    "for metric in (precision, recall, f1_score):\n",
    "    scores = {\n",
    "        label.name: f\"{score:.4f}\"\n",
    "        for label, score in zip(Label, metric.compute().tolist())\n",
    "    }\n",
    "    writer.writerow({\"Metric\": metric.__class__.__name__} | scores)\n",
    "\n",
    "print(f\"Accuracy ({accuracy.average} average):\\t{accuracy.compute().item():.4f}\")"
   ]
  }
 ],
 "metadata": {
  "kernelspec": {
   "display_name": ".venv",
   "language": "python",
   "name": "python3"
  },
  "language_info": {
   "codemirror_mode": {
    "name": "ipython",
    "version": 3
   },
   "file_extension": ".py",
   "mimetype": "text/x-python",
   "name": "python",
   "nbconvert_exporter": "python",
   "pygments_lexer": "ipython3",
   "version": "3.11.2"
  }
 },
 "nbformat": 4,
 "nbformat_minor": 2
}
