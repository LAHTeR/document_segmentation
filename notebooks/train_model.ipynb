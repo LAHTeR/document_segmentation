{
 "cells": [
  {
   "cell_type": "code",
   "execution_count": 1,
   "metadata": {},
   "outputs": [],
   "source": [
    "%load_ext autoreload\n",
    "%autoreload now"
   ]
  },
  {
   "cell_type": "code",
   "execution_count": 2,
   "metadata": {},
   "outputs": [
    {
     "name": "stderr",
     "output_type": "stream",
     "text": [
      "WARNING:root:Document with id '20' is part '1' of inventory 1074.\n",
      "WARNING:root:Document with id '32' is part '1' of inventory 1085.\n",
      "WARNING:root:Document with id '33' is part '1' of inventory 1086.\n",
      "WARNING:root:Document '34' has begin page equal to end page: Problemen gevonden tijdens handmatige check:                                                  NaN\n",
      "ID in TANAP database                                                                       2047.0\n",
      "Inv.nr. Nationaal Archief (1.04.02)                                                          1087\n",
      "Deel v. inventarisnummer                                                                      NaN\n",
      "Kamer                                                                                   Amsterdam\n",
      "Beginfolio                                                                                  139.0\n",
      "Eindfolio                                                                                   139.0\n",
      "Beginscan                                                                                   299.0\n",
      "Eindscan                                                                                    299.0\n",
      "Enkele of dubbele pagina op scan                                                            Enkel\n",
      "RGP Deel waarin de missive is opgenomen                                                       NaN\n",
      "RGP pagina waarop de missive begint                                                           NaN\n",
      "Jaren                                                                                        1626\n",
      "Vroegste jaar                                                                              1626.0\n",
      "Laatste jaar                                                                               1626.0\n",
      "Beschrijving in TANAP                           Copie generale missive uijt Batavia aen de bew...\n",
      "Datum                                                                           3 Februarij 1626.\n",
      "Datum (numeriek)                                                                       1626-02-03\n",
      "LINK naar eerste scan                           https://www.nationaalarchief.nl/onderzoeken/ar...\n",
      "Bestandsnaam van eerste scan                                            NL-HaNA_1.04.02_1087_0299\n",
      "LINK naar laatste scan                          https://www.nationaalarchief.nl/onderzoeken/ar...\n",
      "Bestandsnaam van laatste scan                                           NL-HaNA_1.04.02_1087_0299\n",
      "HTR van IJsberg beschikbaar?                                                                False\n",
      "Name: 34, dtype: object\n",
      "WARNING:root:Document with id '35' is part '1' of inventory 1088.\n",
      "WARNING:root:Document with id '43' is part '1' of inventory 1092.\n",
      "WARNING:root:Document with id '44' is part '1' of inventory 1092.\n",
      "WARNING:root:Document with id '45' is part '2' of inventory 1092.\n",
      "WARNING:root:Document with id '46' is part '2' of inventory 1092.\n",
      "WARNING:root:Document with id '53' is part '1' of inventory 1099.\n",
      "WARNING:root:Document with id '55' is part '1' of inventory 1103.\n",
      "WARNING:root:Document '57' has begin page equal to end page: Problemen gevonden tijdens handmatige check:                                                  NaN\n",
      "ID in TANAP database                                                                       4066.0\n",
      "Inv.nr. Nationaal Archief (1.04.02)                                                          1105\n",
      "Deel v. inventarisnummer                                                                      NaN\n",
      "Kamer                                                                                   Amsterdam\n",
      "Beginfolio                                                                                  382.0\n",
      "Eindfolio                                                                                   382.0\n",
      "Beginscan                                                                                   919.0\n",
      "Eindscan                                                                                    919.0\n",
      "Enkele of dubbele pagina op scan                                                            Enkel\n",
      "RGP Deel waarin de missive is opgenomen                                                       NaN\n",
      "RGP pagina waarop de missive begint                                                           NaN\n",
      "Jaren                                                                                        1632\n",
      "Vroegste jaar                                                                              1632.0\n",
      "Laatste jaar                                                                               1632.0\n",
      "Beschrijving in TANAP                           Missive van Gaspaer van Beringhen aen bewinthe...\n",
      "Datum                                                                             1 december 1632\n",
      "Datum (numeriek)                                                                       1632-12-01\n",
      "LINK naar eerste scan                           https://www.nationaalarchief.nl/onderzoeken/ar...\n",
      "Bestandsnaam van eerste scan                                            NL-HaNA_1.04.02_1105_0919\n",
      "LINK naar laatste scan                          https://www.nationaalarchief.nl/onderzoeken/ar...\n",
      "Bestandsnaam van laatste scan                                           NL-HaNA_1.04.02_1105_0919\n",
      "HTR van IJsberg beschikbaar?                                                                False\n",
      "Name: 57, dtype: object\n",
      "WARNING:root:Document with id '60' is part '1' of inventory 1107.\n",
      "WARNING:root:Document with id '61' is part '2' of inventory 1107.\n",
      "WARNING:root:Document with id '74' is part '1' of inventory 1129.\n",
      "WARNING:root:Document with id '119' is part 'B' of inventory 1179.\n",
      "WARNING:root:Document '146' has begin page equal to end page: Problemen gevonden tijdens handmatige check:                                                  NaN\n",
      "ID in TANAP database                                                                      10849.0\n",
      "Inv.nr. Nationaal Archief (1.04.02)                                                          1221\n",
      "Deel v. inventarisnummer                                                                      NaN\n",
      "Kamer                                                                                   Amsterdam\n",
      "Beginfolio                                                                                   83.0\n",
      "Eindfolio                                                                                    83.0\n",
      "Beginscan                                                                                   187.0\n",
      "Eindscan                                                                                    187.0\n",
      "Enkele of dubbele pagina op scan                                                            Enkel\n",
      "RGP Deel waarin de missive is opgenomen                                                       NaN\n",
      "RGP pagina waarop de missive begint                                                           NaN\n",
      "Jaren                                                                                        1658\n",
      "Vroegste jaar                                                                              1658.0\n",
      "Laatste jaar                                                                               1658.0\n",
      "Beschrijving in TANAP                           Originele missive door den gouverneur generaal...\n",
      "Datum                                                                           17 Januarij 1658.\n",
      "Datum (numeriek)                                                                       1658-01-17\n",
      "LINK naar eerste scan                           https://www.nationaalarchief.nl/onderzoeken/ar...\n",
      "Bestandsnaam van eerste scan                                            NL-HaNA_1.04.02_1221_0187\n",
      "LINK naar laatste scan                          https://www.nationaalarchief.nl/onderzoeken/ar...\n",
      "Bestandsnaam van laatste scan                                           NL-HaNA_1.04.02_1221_0187\n",
      "HTR van IJsberg beschikbaar?                                                                False\n",
      "Name: 146, dtype: object\n",
      "WARNING:root:Document with id '154' is part '1' of inventory 1234.\n",
      "WARNING:root:Document with id '155' is part '2' of inventory 1234.\n",
      "WARNING:root:Document with id '156' is part '2' of inventory 1234.\n",
      "WARNING:root:Document '185' has begin page equal to end page: Problemen gevonden tijdens handmatige check:                                                  NaN\n",
      "ID in TANAP database                                                                      14746.0\n",
      "Inv.nr. Nationaal Archief (1.04.02)                                                          1269\n",
      "Deel v. inventarisnummer                                                                      NaN\n",
      "Kamer                                                                                   Amsterdam\n",
      "Beginfolio                                                                                  764.0\n",
      "Eindfolio                                                                                   764.0\n",
      "Beginscan                                                                                  1542.0\n",
      "Eindscan                                                                                   1542.0\n",
      "Enkele of dubbele pagina op scan                                                            Enkel\n",
      "RGP Deel waarin de missive is opgenomen                                                       NaN\n",
      "RGP pagina waarop de missive begint                                                           NaN\n",
      "Jaren                                                                                        1670\n",
      "Vroegste jaar                                                                              1670.0\n",
      "Laatste jaar                                                                               1670.0\n",
      "Beschrijving in TANAP                           Extract uijtte missive door den generael en ra...\n",
      "Datum                                                                              Januarij 1670.\n",
      "Datum (numeriek)                                                                          1670-01\n",
      "LINK naar eerste scan                           https://www.nationaalarchief.nl/onderzoeken/ar...\n",
      "Bestandsnaam van eerste scan                                            NL-HaNA_1.04.02_1269_1542\n",
      "LINK naar laatste scan                          https://www.nationaalarchief.nl/onderzoeken/ar...\n",
      "Bestandsnaam van laatste scan                                           NL-HaNA_1.04.02_1269_1542\n",
      "HTR van IJsberg beschikbaar?                                                                False\n",
      "Name: 185, dtype: object\n",
      "WARNING:root:Document '252' has begin page equal to end page: Problemen gevonden tijdens handmatige check:                                                  NaN\n",
      "ID in TANAP database                                                                      23403.0\n",
      "Inv.nr. Nationaal Archief (1.04.02)                                                          1363\n",
      "Deel v. inventarisnummer                                                                      NaN\n",
      "Kamer                                                                                   Amsterdam\n",
      "Beginfolio                                                                                  189.0\n",
      "Eindfolio                                                                                   189.0\n",
      "Beginscan                                                                                   433.0\n",
      "Eindscan                                                                                    433.0\n",
      "Enkele of dubbele pagina op scan                                                            Enkel\n",
      "RGP Deel waarin de missive is opgenomen                                                       NaN\n",
      "RGP pagina waarop de missive begint                                                           NaN\n",
      "Jaren                                                                                        1681\n",
      "Vroegste jaar                                                                              1681.0\n",
      "Laatste jaar                                                                               1681.0\n",
      "Beschrijving in TANAP                           Extract uijt de generaele missive door den gou...\n",
      "Datum                                                                            28 december 1681\n",
      "Datum (numeriek)                                                                       1681-12-28\n",
      "LINK naar eerste scan                           https://www.nationaalarchief.nl/onderzoeken/ar...\n",
      "Bestandsnaam van eerste scan                                            NL-HaNA_1.04.02_1363_0433\n",
      "LINK naar laatste scan                          https://www.nationaalarchief.nl/onderzoeken/ar...\n",
      "Bestandsnaam van laatste scan                                           NL-HaNA_1.04.02_1363_0433\n",
      "HTR van IJsberg beschikbaar?                                                                False\n",
      "Name: 252, dtype: object\n",
      "WARNING:root:Document with id '262' is part '1' of inventory 7528.\n",
      "WARNING:root:Document with id '263' is part '1' of inventory 7529.\n",
      "WARNING:root:Document with id '264' is part '1' of inventory 7529.\n",
      "WARNING:root:Document with id '265' is part '2' of inventory 7529.\n",
      "WARNING:root:Document with id '266' is part '2' of inventory 7529.\n",
      "WARNING:root:Document with id '282' is part 'A' of inventory 1457.\n",
      "WARNING:root:Document with id '283' is part 'A' of inventory 1457.\n",
      "WARNING:root:Document with id '284' is part 'A' of inventory 1457.\n",
      "WARNING:root:Document with id '285' is part 'A' of inventory 1457.\n",
      "WARNING:root:Document '292' has begin page equal to end page: Problemen gevonden tijdens handmatige check:                                                  NaN\n",
      "ID in TANAP database                                                                      35958.0\n",
      "Inv.nr. Nationaal Archief (1.04.02)                                                          1490\n",
      "Deel v. inventarisnummer                                                                      NaN\n",
      "Kamer                                                                                   Amsterdam\n",
      "Beginfolio                                                                                  519.0\n",
      "Eindfolio                                                                                   519.0\n",
      "Beginscan                                                                                  1255.0\n",
      "Eindscan                                                                                   1255.0\n",
      "Enkele of dubbele pagina op scan                                                            Enkel\n",
      "RGP Deel waarin de missive is opgenomen                                                       NaN\n",
      "RGP pagina waarop de missive begint                                                           NaN\n",
      "Jaren                                                                                        1692\n",
      "Vroegste jaar                                                                              1692.0\n",
      "Laatste jaar                                                                               1692.0\n",
      "Beschrijving in TANAP                           Originele missive door den gouverneur generael...\n",
      "Datum                                                                              26 Maert 1692.\n",
      "Datum (numeriek)                                                                       1692-03-26\n",
      "LINK naar eerste scan                           https://www.nationaalarchief.nl/onderzoeken/ar...\n",
      "Bestandsnaam van eerste scan                                            NL-HaNA_1.04.02_1490_1255\n",
      "LINK naar laatste scan                          https://www.nationaalarchief.nl/onderzoeken/ar...\n",
      "Bestandsnaam van laatste scan                                           NL-HaNA_1.04.02_1490_1255\n",
      "HTR van IJsberg beschikbaar?                                                                False\n",
      "Name: 292, dtype: object\n",
      "WARNING:root:Document with id '392' is part '2' of inventory 7534.\n",
      "WARNING:root:Document with id '393' is part '3' of inventory 7534.\n",
      "WARNING:root:Document with id '394' is part '4' of inventory 7534.\n",
      "WARNING:root:Document with id '395' is part '1' of inventory 7535.\n",
      "WARNING:root:Document with id '396' is part '2' of inventory 7536.\n",
      "WARNING:root:Document with id '447' is part '2' of inventory 7540.\n",
      "WARNING:root:Document with id '449' is part '2' of inventory 7542.\n",
      "WARNING:root:Document with id '452' is part '1' of inventory 7545.\n",
      "WARNING:root:Document with id '453' is part '8' of inventory 7546.\n",
      "WARNING:root:Document with id '548' is part '2' of inventory 2450.\n",
      "WARNING:root:Document with id '549' is part '3' of inventory 2450.\n",
      "WARNING:root:Document with id '579' is part '1' of inventory 7558.\n",
      "WARNING:root:Document with id '580' is part '6' of inventory 7559.\n",
      "WARNING:root:Document with id '584' is part '2' of inventory 2612.\n",
      "WARNING:root:Document with id '585' is part '2' of inventory 2612.\n",
      "WARNING:root:Document with id '586' is part '2' of inventory 2612.\n",
      "WARNING:root:Document with id '587' is part '2' of inventory 2612.\n",
      "WARNING:root:Document with id '588' is part '2' of inventory 2612.\n",
      "WARNING:root:Document '638' has begin page equal to end page: Problemen gevonden tijdens handmatige check:                                                  NaN\n",
      "ID in TANAP database                                                                      71929.0\n",
      "Inv.nr. Nationaal Archief (1.04.02)                                                          2768\n",
      "Deel v. inventarisnummer                                                                      NaN\n",
      "Kamer                                                                                   Amsterdam\n",
      "Beginfolio                                                                                   97.0\n",
      "Eindfolio                                                                                    97.0\n",
      "Beginscan                                                                                   251.0\n",
      "Eindscan                                                                                    251.0\n",
      "Enkele of dubbele pagina op scan                                                            Enkel\n",
      "RGP Deel waarin de missive is opgenomen                                                       NaN\n",
      "RGP pagina waarop de missive begint                                                           NaN\n",
      "Jaren                                                                                        1752\n",
      "Vroegste jaar                                                                              1752.0\n",
      "Laatste jaar                                                                               1752.0\n",
      "Beschrijving in TANAP                           Origineele missive van de gouverneur generaal ...\n",
      "Datum                                                                            7 Januarij 1752.\n",
      "Datum (numeriek)                                                                       1752-01-07\n",
      "LINK naar eerste scan                           https://www.nationaalarchief.nl/onderzoeken/ar...\n",
      "Bestandsnaam van eerste scan                                            NL-HaNA_1.04.02_2768_0251\n",
      "LINK naar laatste scan                          https://www.nationaalarchief.nl/onderzoeken/ar...\n",
      "Bestandsnaam van laatste scan                                           NL-HaNA_1.04.02_2768_0251\n",
      "HTR van IJsberg beschikbaar?                                                                False\n",
      "Name: 638, dtype: object\n",
      "WARNING:root:Document with id '693' is part '1' of inventory 3066.\n",
      "WARNING:root:Document with id '778' is part '1' of inventory 3560.\n"
     ]
    }
   ],
   "source": [
    "from document_segmentation import settings\n",
    "from document_segmentation.pagexml import GeneraleMissivenDataset\n",
    "\n",
    "dataset = GeneraleMissivenDataset.from_csv(settings.GENERALE_MISSIVEN_SHEET)"
   ]
  },
  {
   "cell_type": "code",
   "execution_count": 3,
   "metadata": {},
   "outputs": [
    {
     "data": {
      "text/plain": [
       "(PageXMLScan(\n",
       " \tid=NL-HaNA_1.04.02_1142_0204.jpg, \n",
       " \ttype=['physical_structure_doc', 'text_region', 'pagexml_doc', 'scan'], \n",
       " \tstats={\"lines\": 84, \"words\": 1163, \"text_regions\": 13, \"columns\": 0, \"extra\": 0, \"pages\": 0}\n",
       " ),\n",
       " <Label.IN: 2>)"
      ]
     },
     "execution_count": 3,
     "metadata": {},
     "output_type": "execute_result"
    }
   ],
   "source": [
    "dataset[5000]"
   ]
  },
  {
   "cell_type": "code",
   "execution_count": 4,
   "metadata": {},
   "outputs": [
    {
     "name": "stderr",
     "output_type": "stream",
     "text": [
      "/Users/carstenschnober/LAHTeR/workspace/document-segmentation/.venv/lib/python3.11/site-packages/tqdm/auto.py:21: TqdmWarning: IProgress not found. Please update jupyter and ipywidgets. See https://ipywidgets.readthedocs.io/en/stable/user_install.html\n",
      "  from .autonotebook import tqdm as notebook_tqdm\n",
      "/Users/carstenschnober/LAHTeR/workspace/document-segmentation/.venv/lib/python3.11/site-packages/torch/nn/modules/rnn.py:82: UserWarning: dropout option adds dropout after all but last recurrent layer, so non-zero dropout expects num_layers greater than 1, but got dropout=0.1 and num_layers=1\n",
      "  warnings.warn(\"dropout option adds dropout after all but last \"\n"
     ]
    }
   ],
   "source": [
    "from document_segmentation.model.page_sequence_tagger import PageSequenceTagger\n",
    "\n",
    "tagger = PageSequenceTagger()"
   ]
  },
  {
   "cell_type": "code",
   "execution_count": 5,
   "metadata": {},
   "outputs": [],
   "source": [
    "training_dataset = dataset[:100]\n",
    "test_dataset = dataset[100:200]"
   ]
  },
  {
   "cell_type": "code",
   "execution_count": 6,
   "metadata": {},
   "outputs": [
    {
     "name": "stderr",
     "output_type": "stream",
     "text": [
      "100%|██████████| 4/4 [44:40<00:00, 670.06s/batch]\n",
      "  2%|▏         | 1/50 [44:40<36:28:52, 2680.26s/epoch]"
     ]
    },
    {
     "name": "stdout",
     "output_type": "stream",
     "text": [
      "[Loss:\t1.319]\n"
     ]
    },
    {
     "name": "stderr",
     "output_type": "stream",
     "text": [
      "100%|██████████| 4/4 [00:00<00:00, 16.68batch/s]\n",
      "  4%|▍         | 2/50 [44:40<14:43:01, 1103.78s/epoch]"
     ]
    },
    {
     "name": "stdout",
     "output_type": "stream",
     "text": [
      "[Loss:\t1.213]\n"
     ]
    },
    {
     "name": "stderr",
     "output_type": "stream",
     "text": [
      "100%|██████████| 4/4 [00:00<00:00, 18.11batch/s]\n",
      "  6%|▌         | 3/50 [44:40<7:49:53, 599.87s/epoch]  "
     ]
    },
    {
     "name": "stdout",
     "output_type": "stream",
     "text": [
      "[Loss:\t1.108]\n"
     ]
    },
    {
     "name": "stderr",
     "output_type": "stream",
     "text": [
      "100%|██████████| 4/4 [00:00<00:00, 19.29batch/s]\n",
      "  8%|▊         | 4/50 [44:40<4:38:24, 363.13s/epoch]"
     ]
    },
    {
     "name": "stdout",
     "output_type": "stream",
     "text": [
      "[Loss:\t1.009]\n"
     ]
    },
    {
     "name": "stderr",
     "output_type": "stream",
     "text": [
      "100%|██████████| 4/4 [00:00<00:00, 19.36batch/s]\n",
      " 10%|█         | 5/50 [44:41<2:54:11, 232.26s/epoch]"
     ]
    },
    {
     "name": "stdout",
     "output_type": "stream",
     "text": [
      "[Loss:\t0.920]\n"
     ]
    },
    {
     "name": "stderr",
     "output_type": "stream",
     "text": [
      "100%|██████████| 4/4 [00:00<00:00, 18.96batch/s]\n",
      " 12%|█▏        | 6/50 [44:41<1:52:28, 153.36s/epoch]"
     ]
    },
    {
     "name": "stdout",
     "output_type": "stream",
     "text": [
      "[Loss:\t0.840]\n"
     ]
    },
    {
     "name": "stderr",
     "output_type": "stream",
     "text": [
      "100%|██████████| 4/4 [00:00<00:00, 18.80batch/s]\n",
      " 14%|█▍        | 7/50 [44:41<1:14:01, 103.30s/epoch]"
     ]
    },
    {
     "name": "stdout",
     "output_type": "stream",
     "text": [
      "[Loss:\t0.776]\n"
     ]
    },
    {
     "name": "stderr",
     "output_type": "stream",
     "text": [
      "100%|██████████| 4/4 [00:00<00:00, 17.08batch/s]\n",
      " 16%|█▌        | 8/50 [44:41<49:20, 70.49s/epoch]   "
     ]
    },
    {
     "name": "stdout",
     "output_type": "stream",
     "text": [
      "[Loss:\t0.732]\n"
     ]
    },
    {
     "name": "stderr",
     "output_type": "stream",
     "text": [
      "100%|██████████| 4/4 [00:00<00:00, 19.18batch/s]\n",
      " 18%|█▊        | 9/50 [44:42<33:09, 48.52s/epoch]"
     ]
    },
    {
     "name": "stdout",
     "output_type": "stream",
     "text": [
      "[Loss:\t0.704]\n"
     ]
    },
    {
     "name": "stderr",
     "output_type": "stream",
     "text": [
      "100%|██████████| 4/4 [00:00<00:00, 19.73batch/s]\n",
      " 20%|██        | 10/50 [44:42<22:24, 33.60s/epoch]"
     ]
    },
    {
     "name": "stdout",
     "output_type": "stream",
     "text": [
      "[Loss:\t0.688]\n"
     ]
    },
    {
     "name": "stderr",
     "output_type": "stream",
     "text": [
      "100%|██████████| 4/4 [00:00<00:00, 18.85batch/s]\n",
      " 22%|██▏       | 11/50 [44:42<15:11, 23.38s/epoch]"
     ]
    },
    {
     "name": "stdout",
     "output_type": "stream",
     "text": [
      "[Loss:\t0.679]\n"
     ]
    },
    {
     "name": "stderr",
     "output_type": "stream",
     "text": [
      "100%|██████████| 4/4 [00:00<00:00, 19.25batch/s]\n",
      " 24%|██▍       | 12/50 [44:42<10:20, 16.33s/epoch]"
     ]
    },
    {
     "name": "stdout",
     "output_type": "stream",
     "text": [
      "[Loss:\t0.674]\n"
     ]
    },
    {
     "name": "stderr",
     "output_type": "stream",
     "text": [
      "100%|██████████| 4/4 [00:00<00:00, 19.39batch/s]\n",
      " 26%|██▌       | 13/50 [44:42<07:03, 11.45s/epoch]"
     ]
    },
    {
     "name": "stdout",
     "output_type": "stream",
     "text": [
      "[Loss:\t0.669]\n"
     ]
    },
    {
     "name": "stderr",
     "output_type": "stream",
     "text": [
      "100%|██████████| 4/4 [00:00<00:00, 19.69batch/s]\n",
      " 28%|██▊       | 14/50 [44:43<04:49,  8.05s/epoch]"
     ]
    },
    {
     "name": "stdout",
     "output_type": "stream",
     "text": [
      "[Loss:\t0.667]\n"
     ]
    },
    {
     "name": "stderr",
     "output_type": "stream",
     "text": [
      "100%|██████████| 4/4 [00:00<00:00, 19.39batch/s]\n",
      " 30%|███       | 15/50 [44:43<03:19,  5.69s/epoch]"
     ]
    },
    {
     "name": "stdout",
     "output_type": "stream",
     "text": [
      "[Loss:\t0.668]\n"
     ]
    },
    {
     "name": "stderr",
     "output_type": "stream",
     "text": [
      "100%|██████████| 4/4 [00:00<00:00, 17.79batch/s]\n",
      " 32%|███▏      | 16/50 [44:43<02:17,  4.04s/epoch]"
     ]
    },
    {
     "name": "stdout",
     "output_type": "stream",
     "text": [
      "[Loss:\t0.665]\n"
     ]
    },
    {
     "name": "stderr",
     "output_type": "stream",
     "text": [
      "100%|██████████| 4/4 [00:00<00:00, 19.24batch/s]\n",
      " 34%|███▍      | 17/50 [44:43<01:35,  2.89s/epoch]"
     ]
    },
    {
     "name": "stdout",
     "output_type": "stream",
     "text": [
      "[Loss:\t0.665]\n"
     ]
    },
    {
     "name": "stderr",
     "output_type": "stream",
     "text": [
      "100%|██████████| 4/4 [00:00<00:00, 19.00batch/s]\n",
      " 36%|███▌      | 18/50 [44:43<01:06,  2.09s/epoch]"
     ]
    },
    {
     "name": "stdout",
     "output_type": "stream",
     "text": [
      "[Loss:\t0.665]\n"
     ]
    },
    {
     "name": "stderr",
     "output_type": "stream",
     "text": [
      "100%|██████████| 4/4 [00:00<00:00, 19.29batch/s]\n",
      " 38%|███▊      | 19/50 [44:44<00:47,  1.52s/epoch]"
     ]
    },
    {
     "name": "stdout",
     "output_type": "stream",
     "text": [
      "[Loss:\t0.665]\n"
     ]
    },
    {
     "name": "stderr",
     "output_type": "stream",
     "text": [
      "100%|██████████| 4/4 [00:00<00:00, 19.24batch/s]\n",
      " 40%|████      | 20/50 [44:44<00:33,  1.13s/epoch]"
     ]
    },
    {
     "name": "stdout",
     "output_type": "stream",
     "text": [
      "[Loss:\t0.665]\n"
     ]
    },
    {
     "name": "stderr",
     "output_type": "stream",
     "text": [
      "100%|██████████| 4/4 [00:00<00:00, 19.10batch/s]\n",
      " 42%|████▏     | 21/50 [44:44<00:24,  1.17epoch/s]"
     ]
    },
    {
     "name": "stdout",
     "output_type": "stream",
     "text": [
      "[Loss:\t0.665]\n"
     ]
    },
    {
     "name": "stderr",
     "output_type": "stream",
     "text": [
      "100%|██████████| 4/4 [00:00<00:00, 19.60batch/s]\n",
      " 44%|████▍     | 22/50 [44:44<00:18,  1.52epoch/s]"
     ]
    },
    {
     "name": "stdout",
     "output_type": "stream",
     "text": [
      "[Loss:\t0.665]\n"
     ]
    },
    {
     "name": "stderr",
     "output_type": "stream",
     "text": [
      "100%|██████████| 4/4 [00:00<00:00, 19.10batch/s]\n",
      " 46%|████▌     | 23/50 [44:44<00:14,  1.90epoch/s]"
     ]
    },
    {
     "name": "stdout",
     "output_type": "stream",
     "text": [
      "[Loss:\t0.665]\n"
     ]
    },
    {
     "name": "stderr",
     "output_type": "stream",
     "text": [
      "100%|██████████| 4/4 [00:00<00:00, 19.58batch/s]\n",
      " 48%|████▊     | 24/50 [44:45<00:11,  2.33epoch/s]"
     ]
    },
    {
     "name": "stdout",
     "output_type": "stream",
     "text": [
      "[Loss:\t0.665]\n"
     ]
    },
    {
     "name": "stderr",
     "output_type": "stream",
     "text": [
      "100%|██████████| 4/4 [00:00<00:00, 19.01batch/s]\n",
      " 50%|█████     | 25/50 [44:45<00:09,  2.74epoch/s]"
     ]
    },
    {
     "name": "stdout",
     "output_type": "stream",
     "text": [
      "[Loss:\t0.670]\n"
     ]
    },
    {
     "name": "stderr",
     "output_type": "stream",
     "text": [
      "100%|██████████| 4/4 [00:00<00:00, 18.93batch/s]\n",
      " 52%|█████▏    | 26/50 [44:45<00:07,  3.13epoch/s]"
     ]
    },
    {
     "name": "stdout",
     "output_type": "stream",
     "text": [
      "[Loss:\t0.678]\n"
     ]
    },
    {
     "name": "stderr",
     "output_type": "stream",
     "text": [
      "100%|██████████| 4/4 [00:00<00:00, 18.39batch/s]\n",
      " 54%|█████▍    | 27/50 [44:45<00:06,  3.46epoch/s]"
     ]
    },
    {
     "name": "stdout",
     "output_type": "stream",
     "text": [
      "[Loss:\t0.674]\n"
     ]
    },
    {
     "name": "stderr",
     "output_type": "stream",
     "text": [
      "100%|██████████| 4/4 [00:00<00:00, 19.50batch/s]\n",
      " 56%|█████▌    | 28/50 [44:46<00:05,  3.78epoch/s]"
     ]
    },
    {
     "name": "stdout",
     "output_type": "stream",
     "text": [
      "[Loss:\t0.669]\n"
     ]
    },
    {
     "name": "stderr",
     "output_type": "stream",
     "text": [
      "100%|██████████| 4/4 [00:00<00:00, 19.82batch/s]\n",
      " 58%|█████▊    | 29/50 [44:46<00:05,  4.05epoch/s]"
     ]
    },
    {
     "name": "stdout",
     "output_type": "stream",
     "text": [
      "[Loss:\t0.666]\n"
     ]
    },
    {
     "name": "stderr",
     "output_type": "stream",
     "text": [
      "100%|██████████| 4/4 [00:00<00:00, 19.23batch/s]\n",
      " 60%|██████    | 30/50 [44:46<00:04,  4.24epoch/s]"
     ]
    },
    {
     "name": "stdout",
     "output_type": "stream",
     "text": [
      "[Loss:\t0.665]\n"
     ]
    },
    {
     "name": "stderr",
     "output_type": "stream",
     "text": [
      "100%|██████████| 4/4 [00:00<00:00, 19.11batch/s]\n",
      " 62%|██████▏   | 31/50 [44:46<00:04,  4.38epoch/s]"
     ]
    },
    {
     "name": "stdout",
     "output_type": "stream",
     "text": [
      "[Loss:\t0.665]\n"
     ]
    },
    {
     "name": "stderr",
     "output_type": "stream",
     "text": [
      "100%|██████████| 4/4 [00:00<00:00, 19.73batch/s]\n",
      " 64%|██████▍   | 32/50 [44:46<00:03,  4.51epoch/s]"
     ]
    },
    {
     "name": "stdout",
     "output_type": "stream",
     "text": [
      "[Loss:\t0.665]\n"
     ]
    },
    {
     "name": "stderr",
     "output_type": "stream",
     "text": [
      "100%|██████████| 4/4 [00:00<00:00, 19.21batch/s]\n",
      " 66%|██████▌   | 33/50 [44:47<00:03,  4.58epoch/s]"
     ]
    },
    {
     "name": "stdout",
     "output_type": "stream",
     "text": [
      "[Loss:\t0.664]\n"
     ]
    },
    {
     "name": "stderr",
     "output_type": "stream",
     "text": [
      "100%|██████████| 4/4 [00:00<00:00, 19.13batch/s]\n",
      " 68%|██████▊   | 34/50 [44:47<00:03,  4.63epoch/s]"
     ]
    },
    {
     "name": "stdout",
     "output_type": "stream",
     "text": [
      "[Loss:\t0.664]\n"
     ]
    },
    {
     "name": "stderr",
     "output_type": "stream",
     "text": [
      "100%|██████████| 4/4 [00:00<00:00, 19.48batch/s]\n",
      " 70%|███████   | 35/50 [44:47<00:03,  4.68epoch/s]"
     ]
    },
    {
     "name": "stdout",
     "output_type": "stream",
     "text": [
      "[Loss:\t0.664]\n"
     ]
    },
    {
     "name": "stderr",
     "output_type": "stream",
     "text": [
      "100%|██████████| 4/4 [00:00<00:00, 18.01batch/s]\n",
      " 72%|███████▏  | 36/50 [44:47<00:03,  4.61epoch/s]"
     ]
    },
    {
     "name": "stdout",
     "output_type": "stream",
     "text": [
      "[Loss:\t0.664]\n"
     ]
    },
    {
     "name": "stderr",
     "output_type": "stream",
     "text": [
      "100%|██████████| 4/4 [00:00<00:00, 18.97batch/s]\n",
      " 74%|███████▍  | 37/50 [44:47<00:02,  4.63epoch/s]"
     ]
    },
    {
     "name": "stdout",
     "output_type": "stream",
     "text": [
      "[Loss:\t0.664]\n"
     ]
    },
    {
     "name": "stderr",
     "output_type": "stream",
     "text": [
      "100%|██████████| 4/4 [00:00<00:00, 19.19batch/s]\n",
      " 76%|███████▌  | 38/50 [44:48<00:02,  4.66epoch/s]"
     ]
    },
    {
     "name": "stdout",
     "output_type": "stream",
     "text": [
      "[Loss:\t0.664]\n"
     ]
    },
    {
     "name": "stderr",
     "output_type": "stream",
     "text": [
      "100%|██████████| 4/4 [00:00<00:00, 19.66batch/s]\n",
      " 78%|███████▊  | 39/50 [44:48<00:02,  4.72epoch/s]"
     ]
    },
    {
     "name": "stdout",
     "output_type": "stream",
     "text": [
      "[Loss:\t0.664]\n"
     ]
    },
    {
     "name": "stderr",
     "output_type": "stream",
     "text": [
      "100%|██████████| 4/4 [00:00<00:00, 19.28batch/s]\n",
      " 80%|████████  | 40/50 [44:48<00:02,  4.74epoch/s]"
     ]
    },
    {
     "name": "stdout",
     "output_type": "stream",
     "text": [
      "[Loss:\t0.664]\n"
     ]
    },
    {
     "name": "stderr",
     "output_type": "stream",
     "text": [
      "100%|██████████| 4/4 [00:00<00:00, 19.75batch/s]\n",
      " 82%|████████▏ | 41/50 [44:48<00:01,  4.78epoch/s]"
     ]
    },
    {
     "name": "stdout",
     "output_type": "stream",
     "text": [
      "[Loss:\t0.664]\n"
     ]
    },
    {
     "name": "stderr",
     "output_type": "stream",
     "text": [
      "100%|██████████| 4/4 [00:00<00:00, 18.53batch/s]\n",
      " 84%|████████▍ | 42/50 [44:48<00:01,  4.72epoch/s]"
     ]
    },
    {
     "name": "stdout",
     "output_type": "stream",
     "text": [
      "[Loss:\t0.664]\n"
     ]
    },
    {
     "name": "stderr",
     "output_type": "stream",
     "text": [
      "100%|██████████| 4/4 [00:00<00:00, 16.94batch/s]\n",
      " 86%|████████▌ | 43/50 [44:49<00:01,  4.55epoch/s]"
     ]
    },
    {
     "name": "stdout",
     "output_type": "stream",
     "text": [
      "[Loss:\t0.664]\n"
     ]
    },
    {
     "name": "stderr",
     "output_type": "stream",
     "text": [
      "100%|██████████| 4/4 [00:00<00:00, 18.70batch/s]\n",
      " 88%|████████▊ | 44/50 [44:49<00:01,  4.57epoch/s]"
     ]
    },
    {
     "name": "stdout",
     "output_type": "stream",
     "text": [
      "[Loss:\t0.664]\n"
     ]
    },
    {
     "name": "stderr",
     "output_type": "stream",
     "text": [
      "100%|██████████| 4/4 [00:00<00:00, 18.84batch/s]\n",
      " 90%|█████████ | 45/50 [44:49<00:01,  4.59epoch/s]"
     ]
    },
    {
     "name": "stdout",
     "output_type": "stream",
     "text": [
      "[Loss:\t0.664]\n"
     ]
    },
    {
     "name": "stderr",
     "output_type": "stream",
     "text": [
      "100%|██████████| 4/4 [00:00<00:00, 18.96batch/s]\n",
      " 92%|█████████▏| 46/50 [44:49<00:00,  4.62epoch/s]"
     ]
    },
    {
     "name": "stdout",
     "output_type": "stream",
     "text": [
      "[Loss:\t0.664]\n"
     ]
    },
    {
     "name": "stderr",
     "output_type": "stream",
     "text": [
      "100%|██████████| 4/4 [00:00<00:00, 19.55batch/s]\n",
      " 94%|█████████▍| 47/50 [44:50<00:00,  4.68epoch/s]"
     ]
    },
    {
     "name": "stdout",
     "output_type": "stream",
     "text": [
      "[Loss:\t0.664]\n"
     ]
    },
    {
     "name": "stderr",
     "output_type": "stream",
     "text": [
      "100%|██████████| 4/4 [00:00<00:00, 19.21batch/s]\n",
      " 96%|█████████▌| 48/50 [44:50<00:00,  4.70epoch/s]"
     ]
    },
    {
     "name": "stdout",
     "output_type": "stream",
     "text": [
      "[Loss:\t0.664]\n"
     ]
    },
    {
     "name": "stderr",
     "output_type": "stream",
     "text": [
      "100%|██████████| 4/4 [00:00<00:00, 19.16batch/s]\n",
      " 98%|█████████▊| 49/50 [44:50<00:00,  4.71epoch/s]"
     ]
    },
    {
     "name": "stdout",
     "output_type": "stream",
     "text": [
      "[Loss:\t0.664]\n"
     ]
    },
    {
     "name": "stderr",
     "output_type": "stream",
     "text": [
      "100%|██████████| 4/4 [00:00<00:00, 18.11batch/s]\n",
      "100%|██████████| 50/50 [44:50<00:00, 53.81s/epoch]"
     ]
    },
    {
     "name": "stdout",
     "output_type": "stream",
     "text": [
      "[Loss:\t0.664]\n"
     ]
    },
    {
     "name": "stderr",
     "output_type": "stream",
     "text": [
      "\n"
     ]
    }
   ],
   "source": [
    "tagger.train_(training_dataset, epochs=50)"
   ]
  },
  {
   "cell_type": "code",
   "execution_count": 7,
   "metadata": {},
   "outputs": [
    {
     "name": "stderr",
     "output_type": "stream",
     "text": [
      " 25%|██▌       | 1/4 [01:06<03:20, 66.72s/batch]"
     ]
    },
    {
     "name": "stdout",
     "output_type": "stream",
     "text": [
      "[Batch Accuracy:\t0.812]\n",
      "[Total Accuracy:\t0.812]\n"
     ]
    },
    {
     "name": "stderr",
     "output_type": "stream",
     "text": [
      " 50%|█████     | 2/4 [01:54<01:51, 55.74s/batch]"
     ]
    },
    {
     "name": "stdout",
     "output_type": "stream",
     "text": [
      "[Batch Accuracy:\t0.750]\n",
      "[Total Accuracy:\t0.781]\n"
     ]
    },
    {
     "name": "stderr",
     "output_type": "stream",
     "text": [
      " 75%|███████▌  | 3/4 [03:04<01:02, 62.18s/batch]"
     ]
    },
    {
     "name": "stdout",
     "output_type": "stream",
     "text": [
      "[Batch Accuracy:\t0.656]\n",
      "[Total Accuracy:\t0.740]\n"
     ]
    },
    {
     "name": "stderr",
     "output_type": "stream",
     "text": [
      "100%|██████████| 4/4 [03:15<00:00, 48.93s/batch]"
     ]
    },
    {
     "name": "stdout",
     "output_type": "stream",
     "text": [
      "[Batch Accuracy:\t0.500]\n",
      "[Total Accuracy:\t0.730]\n"
     ]
    },
    {
     "name": "stderr",
     "output_type": "stream",
     "text": [
      "\n"
     ]
    },
    {
     "data": {
      "text/plain": [
       "0.73"
      ]
     },
     "execution_count": 7,
     "metadata": {},
     "output_type": "execute_result"
    }
   ],
   "source": [
    "# Accuracy on training data\n",
    "\n",
    "tagger.accuracy(test_dataset)"
   ]
  },
  {
   "cell_type": "code",
   "execution_count": 8,
   "metadata": {},
   "outputs": [
    {
     "name": "stdout",
     "output_type": "stream",
     "text": [
      "True Label\tPredicted Label\tCorrect?\tPredicted Scores\n",
      "Label.IN\tLabel.BEGIN\tFalse\t[0.949296772480011, 0.015817411243915558, 0.03488577529788017]\n",
      "Label.IN\tLabel.BEGIN\tFalse\t[0.916903018951416, 0.06631925702095032, 0.01677776873111725]\n",
      "Label.IN\tLabel.BEGIN\tFalse\t[0.6955565214157104, 0.29165056347846985, 0.012792933732271194]\n",
      "Label.IN\tLabel.IN\tTrue\t[0.20285220444202423, 0.7844436168670654, 0.012704157270491123]\n",
      "Label.IN\tLabel.IN\tTrue\t[0.09488048404455185, 0.8809361457824707, 0.02418336272239685]\n",
      "Label.IN\tLabel.IN\tTrue\t[0.39092180132865906, 0.5543187260627747, 0.054759442806243896]\n",
      "Label.IN\tLabel.IN\tTrue\t[0.38991081714630127, 0.5638369917869568, 0.046252112835645676]\n",
      "Label.IN\tLabel.BEGIN\tFalse\t[0.5097949504852295, 0.463417649269104, 0.02678738348186016]\n",
      "Label.IN\tLabel.IN\tTrue\t[0.29404526948928833, 0.6849154829978943, 0.021039187908172607]\n",
      "Label.IN\tLabel.IN\tTrue\t[0.3583122193813324, 0.6225782036781311, 0.01910967379808426]\n",
      "Label.IN\tLabel.IN\tTrue\t[0.13568870723247528, 0.8365280032157898, 0.0277833491563797]\n",
      "Label.IN\tLabel.IN\tTrue\t[0.468749076128006, 0.4817478656768799, 0.04950303956866264]\n",
      "Label.IN\tLabel.BEGIN\tFalse\t[0.5046331286430359, 0.4608330726623535, 0.034533850848674774]\n",
      "Label.IN\tLabel.IN\tTrue\t[0.4474647641181946, 0.5267078876495361, 0.025827331468462944]\n",
      "Label.IN\tLabel.IN\tTrue\t[0.36157742142677307, 0.6153271794319153, 0.023095425218343735]\n",
      "Label.IN\tLabel.IN\tTrue\t[0.23434506356716156, 0.7345665693283081, 0.03108835034072399]\n",
      "Label.IN\tLabel.IN\tTrue\t[0.3086317181587219, 0.642224907875061, 0.04914338141679764]\n",
      "Label.IN\tLabel.IN\tTrue\t[0.40339744091033936, 0.5479559898376465, 0.04864654690027237]\n",
      "Label.IN\tLabel.IN\tTrue\t[0.4018416106700897, 0.562777578830719, 0.035380881279706955]\n",
      "Label.IN\tLabel.IN\tTrue\t[0.34153875708580017, 0.6342471241950989, 0.02421410195529461]\n",
      "Label.IN\tLabel.IN\tTrue\t[0.18598215281963348, 0.7909813523292542, 0.023036470636725426]\n",
      "Label.IN\tLabel.IN\tTrue\t[0.08788096904754639, 0.8693084120750427, 0.04281063377857208]\n",
      "Label.IN\tLabel.IN\tTrue\t[0.02599216252565384, 0.7986886501312256, 0.17531917989253998]\n",
      "Label.IN\tLabel.END\tFalse\t[0.01563376747071743, 0.19863367080688477, 0.7857325673103333]\n",
      "Label.END\tLabel.END\tTrue\t[0.18094247579574585, 0.03494511544704437, 0.7841123342514038]\n",
      "Label.BEGIN\tLabel.BEGIN\tTrue\t[0.5262272357940674, 0.4646543860435486, 0.009118428453803062]\n",
      "Label.IN\tLabel.IN\tTrue\t[0.001753841177560389, 0.9982328414916992, 1.3363327525439672e-05]\n",
      "Label.IN\tLabel.IN\tTrue\t[4.996443081495272e-08, 1.0, 3.629810763072783e-08]\n",
      "Label.IN\tLabel.IN\tTrue\t[4.094782525498886e-06, 0.9999953508377075, 5.692456284123182e-07]\n",
      "Label.IN\tLabel.IN\tTrue\t[8.650113869634879e-08, 0.9999990463256836, 8.076941639956203e-07]\n",
      "Label.IN\tLabel.IN\tTrue\t[3.239096258766949e-05, 0.999944806098938, 2.2765038011129946e-05]\n",
      "Label.IN\tLabel.IN\tTrue\t[3.110203010692203e-07, 0.9999812841415405, 1.8332602849113755e-05]\n",
      "Label.IN\tLabel.END\tFalse\t[0.005189110059291124, 0.002868167357519269, 0.9919427633285522]\n",
      "Label.IN\tLabel.BEGIN\tFalse\t[0.886959433555603, 0.06972815841436386, 0.04331235587596893]\n",
      "Label.IN\tLabel.IN\tTrue\t[0.10639313608407974, 0.8932041525840759, 0.000402656412916258]\n",
      "Label.IN\tLabel.IN\tTrue\t[1.415007409377722e-05, 0.9997947812080383, 0.00019102144869975746]\n",
      "Label.IN\tLabel.END\tFalse\t[0.25533026456832886, 0.15344642102718353, 0.5912232398986816]\n",
      "Label.IN\tLabel.BEGIN\tFalse\t[0.8966062664985657, 0.057647474110126495, 0.04574626311659813]\n",
      "Label.IN\tLabel.BEGIN\tFalse\t[0.8297252655029297, 0.15528073906898499, 0.014993986114859581]\n",
      "Label.IN\tLabel.IN\tTrue\t[0.3932519257068634, 0.5893253087997437, 0.01742272451519966]\n",
      "Label.IN\tLabel.IN\tTrue\t[0.14997628331184387, 0.8256911635398865, 0.024332519620656967]\n",
      "Label.IN\tLabel.IN\tTrue\t[0.04268408566713333, 0.8810803890228271, 0.07623544335365295]\n",
      "Label.IN\tLabel.IN\tTrue\t[0.046307019889354706, 0.5153824687004089, 0.43831050395965576]\n",
      "Label.IN\tLabel.END\tFalse\t[0.021239375695586205, 0.1062704548239708, 0.8724901676177979]\n",
      "Label.IN\tLabel.END\tFalse\t[0.4383235573768616, 0.04576019197702408, 0.5159162878990173]\n",
      "Label.IN\tLabel.BEGIN\tFalse\t[0.6400789022445679, 0.35583168268203735, 0.004089398309588432]\n",
      "Label.IN\tLabel.IN\tTrue\t[0.002310211304575205, 0.9976711869239807, 1.8565264326753095e-05]\n",
      "Label.IN\tLabel.IN\tTrue\t[1.2905774156024563e-06, 0.9999696016311646, 2.9087841539876536e-05]\n",
      "Label.IN\tLabel.END\tFalse\t[0.031213490292429924, 0.004366579931229353, 0.964419960975647]\n",
      "Label.IN\tLabel.BEGIN\tFalse\t[0.9238344430923462, 0.06779662519693375, 0.008368991315364838]\n",
      "Label.IN\tLabel.IN\tTrue\t[0.017452705651521683, 0.9824907183647156, 5.657162546413019e-05]\n",
      "Label.IN\tLabel.IN\tTrue\t[1.0327070185667253e-06, 0.9999189376831055, 7.995536725502461e-05]\n",
      "Label.IN\tLabel.END\tFalse\t[0.011223637498915195, 0.000755715009290725, 0.9880207180976868]\n",
      "Label.IN\tLabel.BEGIN\tFalse\t[0.9656751155853271, 0.02311386726796627, 0.011211073957383633]\n",
      "Label.IN\tLabel.IN\tTrue\t[0.05504258722066879, 0.9448872804641724, 7.013358845142648e-05]\n",
      "Label.IN\tLabel.IN\tTrue\t[1.0999664254995878e-06, 0.9999533891677856, 4.554798942990601e-05]\n",
      "Label.IN\tLabel.END\tFalse\t[0.11758626997470856, 0.4337002635002136, 0.4487134516239166]\n",
      "Label.IN\tLabel.IN\tTrue\t[0.22677919268608093, 0.6087628602981567, 0.16445788741111755]\n",
      "Label.IN\tLabel.BEGIN\tFalse\t[0.9425855278968811, 0.036267973482608795, 0.021146493032574654]\n",
      "Label.IN\tLabel.BEGIN\tFalse\t[0.6527959108352661, 0.3068027198314667, 0.04040127247571945]\n",
      "Label.IN\tLabel.BEGIN\tFalse\t[0.6208337545394897, 0.3513352870941162, 0.0278309416025877]\n",
      "Label.IN\tLabel.IN\tTrue\t[0.33470144867897034, 0.6436780691146851, 0.021620405837893486]\n",
      "Label.IN\tLabel.IN\tTrue\t[0.30646514892578125, 0.6779133081436157, 0.015621519647538662]\n",
      "Label.IN\tLabel.IN\tTrue\t[0.13907748460769653, 0.84635329246521, 0.014569167979061604]\n",
      "Label.IN\tLabel.IN\tTrue\t[0.09610874205827713, 0.8743297457695007, 0.029561562463641167]\n",
      "Label.IN\tLabel.IN\tTrue\t[0.04749341309070587, 0.8394268155097961, 0.11307971179485321]\n",
      "Label.IN\tLabel.END\tFalse\t[0.0446258969604969, 0.40386316180229187, 0.5515109300613403]\n",
      "Label.IN\tLabel.END\tFalse\t[0.0252162367105484, 0.043829113245010376, 0.93095463514328]\n",
      "Label.IN\tLabel.END\tFalse\t[0.47369056940078735, 0.03770946338772774, 0.4885999262332916]\n",
      "Label.IN\tLabel.BEGIN\tFalse\t[0.6485124230384827, 0.34800103306770325, 0.003486561356112361]\n",
      "Label.IN\tLabel.IN\tTrue\t[0.0016389077063649893, 0.9983487129211426, 1.2429975868144538e-05]\n",
      "Label.IN\tLabel.IN\tTrue\t[7.625602620464633e-07, 0.9999778270721436, 2.1417627067421563e-05]\n",
      "Label.IN\tLabel.BEGIN\tFalse\t[0.4687299132347107, 0.08053369075059891, 0.4507363736629486]\n",
      "Label.IN\tLabel.IN\tTrue\t[0.02502770908176899, 0.9649327397346497, 0.010039589367806911]\n",
      "Label.IN\tLabel.IN\tTrue\t[0.024205097928643227, 0.9754087328910828, 0.0003861594304908067]\n",
      "Label.IN\tLabel.IN\tTrue\t[7.525334808633488e-07, 0.9999206066131592, 7.86457458161749e-05]\n",
      "Label.END\tLabel.END\tTrue\t[0.10055756568908691, 0.008859056979417801, 0.8905833959579468]\n",
      "Label.BEGIN\tLabel.BEGIN\tTrue\t[0.6151490807533264, 0.29733163118362427, 0.08751928806304932]\n",
      "Label.IN\tLabel.IN\tTrue\t[0.33699578046798706, 0.6600692868232727, 0.0029349408578127623]\n",
      "Label.IN\tLabel.IN\tTrue\t[0.00019171429448761046, 0.9990059733390808, 0.0008022894035093486]\n",
      "Label.IN\tLabel.BEGIN\tFalse\t[0.47025224566459656, 0.25384560227394104, 0.27590206265449524]\n",
      "Label.IN\tLabel.BEGIN\tFalse\t[0.8260037302970886, 0.11829265207052231, 0.05570362135767937]\n",
      "Label.IN\tLabel.BEGIN\tFalse\t[0.7746487259864807, 0.1923203021287918, 0.03303096443414688]\n",
      "Label.IN\tLabel.BEGIN\tFalse\t[0.6365290880203247, 0.3375055193901062, 0.02596546709537506]\n",
      "Label.IN\tLabel.IN\tTrue\t[0.42005112767219543, 0.5563141703605652, 0.02363477274775505]\n",
      "Label.IN\tLabel.IN\tTrue\t[0.29943037033081055, 0.6746542453765869, 0.02591538242995739]\n",
      "Label.IN\tLabel.IN\tTrue\t[0.16164107620716095, 0.7919571399688721, 0.046401794999837875]\n",
      "Label.IN\tLabel.IN\tTrue\t[0.19381298124790192, 0.6865516901016235, 0.11963534355163574]\n",
      "Label.IN\tLabel.IN\tTrue\t[0.41844144463539124, 0.46797457337379456, 0.11358393728733063]\n",
      "Label.IN\tLabel.BEGIN\tFalse\t[0.5487515330314636, 0.4277215301990509, 0.023526929318904877]\n",
      "Label.IN\tLabel.IN\tTrue\t[0.18073874711990356, 0.8118475675582886, 0.007413672283291817]\n",
      "Label.IN\tLabel.IN\tTrue\t[0.03712798282504082, 0.9573549032211304, 0.005517006851732731]\n",
      "Label.IN\tLabel.IN\tTrue\t[0.047033488750457764, 0.9338257312774658, 0.019140860065817833]\n",
      "Label.IN\tLabel.IN\tTrue\t[0.08145440369844437, 0.8395773768424988, 0.07896823436021805]\n",
      "Label.IN\tLabel.IN\tTrue\t[0.03485414758324623, 0.6447112560272217, 0.3204345405101776]\n",
      "Label.IN\tLabel.END\tFalse\t[0.05815116688609123, 0.06580212712287903, 0.8760467171669006]\n",
      "Label.IN\tLabel.BEGIN\tFalse\t[0.7616003155708313, 0.12329091131687164, 0.11510870605707169]\n",
      "Label.END\tLabel.IN\tFalse\t[0.19915664196014404, 0.7878739833831787, 0.012969321571290493]\n",
      "Label.BEGIN\tLabel.IN\tFalse\t[0.001894364133477211, 0.991186797618866, 0.006918895523995161]\n",
      "Label.IN\tLabel.IN\tTrue\t[0.20117157697677612, 0.7053471803665161, 0.09348124265670776]\n"
     ]
    }
   ],
   "source": [
    "from document_segmentation.pagexml.dataset import Label\n",
    "\n",
    "\n",
    "preds = tagger(test_dataset)\n",
    "true_labels = test_dataset.labels()\n",
    "\n",
    "print(\"\\t\".join((\"True Label\", \"Predicted Label\", \"Correct?\", \"Predicted Scores\")))\n",
    "for true_label, pred, pred_label in zip(true_labels, preds, preds.argmax(dim=1)):\n",
    "    print(\n",
    "        \"\\t\".join(\n",
    "            (\n",
    "                str(true_label),\n",
    "                str(Label(pred_label.item() + 1)),\n",
    "                str(Label(pred_label.item() + 1) == true_label),\n",
    "                str(pred.tolist()),\n",
    "            )\n",
    "        )\n",
    "    )"
   ]
  },
  {
   "cell_type": "code",
   "execution_count": 9,
   "metadata": {},
   "outputs": [
    {
     "ename": "RuntimeError",
     "evalue": "Only one of (input_data, input_size) should be specified.",
     "output_type": "error",
     "traceback": [
      "\u001b[0;31m---------------------------------------------------------------------------\u001b[0m",
      "\u001b[0;31mRuntimeError\u001b[0m                              Traceback (most recent call last)",
      "Cell \u001b[0;32mIn[9], line 3\u001b[0m\n\u001b[1;32m      1\u001b[0m \u001b[38;5;28;01mfrom\u001b[39;00m \u001b[38;5;21;01mtorchview\u001b[39;00m \u001b[38;5;28;01mimport\u001b[39;00m draw_graph\n\u001b[0;32m----> 3\u001b[0m model_graph \u001b[38;5;241m=\u001b[39m \u001b[43mdraw_graph\u001b[49m\u001b[43m(\u001b[49m\u001b[43mtagger\u001b[49m\u001b[43m)\u001b[49m\n\u001b[1;32m      4\u001b[0m \u001b[38;5;28mprint\u001b[39m(model_graph\u001b[38;5;241m.\u001b[39mvisual_graph)\n",
      "File \u001b[0;32m~/LAHTeR/workspace/document-segmentation/.venv/lib/python3.11/site-packages/torchview/torchview.py:180\u001b[0m, in \u001b[0;36mdraw_graph\u001b[0;34m(model, input_data, input_size, graph_name, depth, device, dtypes, mode, strict, expand_nested, graph_dir, hide_module_functions, hide_inner_tensors, roll, show_shapes, save_graph, filename, directory, **kwargs)\u001b[0m\n\u001b[1;32m    177\u001b[0m \u001b[38;5;28;01mif\u001b[39;00m graph_dir \u001b[38;5;129;01mis\u001b[39;00m \u001b[38;5;28;01mNone\u001b[39;00m:\n\u001b[1;32m    178\u001b[0m     graph_dir \u001b[38;5;241m=\u001b[39m \u001b[38;5;124m'\u001b[39m\u001b[38;5;124mTB\u001b[39m\u001b[38;5;124m'\u001b[39m\n\u001b[0;32m--> 180\u001b[0m \u001b[43mvalidate_user_params\u001b[49m\u001b[43m(\u001b[49m\n\u001b[1;32m    181\u001b[0m \u001b[43m    \u001b[49m\u001b[43mmodel\u001b[49m\u001b[43m,\u001b[49m\u001b[43m \u001b[49m\u001b[43minput_data\u001b[49m\u001b[43m,\u001b[49m\u001b[43m \u001b[49m\u001b[43minput_size\u001b[49m\u001b[43m,\u001b[49m\u001b[43m \u001b[49m\u001b[43mdepth\u001b[49m\u001b[43m,\u001b[49m\u001b[43m \u001b[49m\u001b[43mdevice\u001b[49m\u001b[43m,\u001b[49m\u001b[43m \u001b[49m\u001b[43mdtypes\u001b[49m\u001b[43m,\u001b[49m\n\u001b[1;32m    182\u001b[0m \u001b[43m\u001b[49m\u001b[43m)\u001b[49m\n\u001b[1;32m    184\u001b[0m graph_attr \u001b[38;5;241m=\u001b[39m {\n\u001b[1;32m    185\u001b[0m     \u001b[38;5;124m'\u001b[39m\u001b[38;5;124mordering\u001b[39m\u001b[38;5;124m'\u001b[39m: \u001b[38;5;124m'\u001b[39m\u001b[38;5;124min\u001b[39m\u001b[38;5;124m'\u001b[39m,\n\u001b[1;32m    186\u001b[0m     \u001b[38;5;124m'\u001b[39m\u001b[38;5;124mrankdir\u001b[39m\u001b[38;5;124m'\u001b[39m: graph_dir,\n\u001b[1;32m    187\u001b[0m }\n\u001b[1;32m    189\u001b[0m \u001b[38;5;66;03m# visual settings from torchviz\u001b[39;00m\n\u001b[1;32m    190\u001b[0m \u001b[38;5;66;03m# seems to work visually well\u001b[39;00m\n",
      "File \u001b[0;32m~/LAHTeR/workspace/document-segmentation/.venv/lib/python3.11/site-packages/torchview/torchview.py:325\u001b[0m, in \u001b[0;36mvalidate_user_params\u001b[0;34m(model, input_data, input_size, depth, device, dtypes)\u001b[0m\n\u001b[1;32m    323\u001b[0m one_input_specified \u001b[38;5;241m=\u001b[39m (input_data \u001b[38;5;129;01mis\u001b[39;00m \u001b[38;5;28;01mNone\u001b[39;00m) \u001b[38;5;241m!=\u001b[39m (input_size \u001b[38;5;129;01mis\u001b[39;00m \u001b[38;5;28;01mNone\u001b[39;00m)\n\u001b[1;32m    324\u001b[0m \u001b[38;5;28;01mif\u001b[39;00m \u001b[38;5;129;01mnot\u001b[39;00m one_input_specified:\n\u001b[0;32m--> 325\u001b[0m     \u001b[38;5;28;01mraise\u001b[39;00m \u001b[38;5;167;01mRuntimeError\u001b[39;00m(\u001b[38;5;124m\"\u001b[39m\u001b[38;5;124mOnly one of (input_data, input_size) should be specified.\u001b[39m\u001b[38;5;124m\"\u001b[39m)\n\u001b[1;32m    327\u001b[0m \u001b[38;5;28;01mif\u001b[39;00m dtypes \u001b[38;5;129;01mis\u001b[39;00m \u001b[38;5;129;01mnot\u001b[39;00m \u001b[38;5;28;01mNone\u001b[39;00m \u001b[38;5;129;01mand\u001b[39;00m \u001b[38;5;28many\u001b[39m(\n\u001b[1;32m    328\u001b[0m     dtype \u001b[38;5;129;01min\u001b[39;00m (torch\u001b[38;5;241m.\u001b[39mfloat16, torch\u001b[38;5;241m.\u001b[39mbfloat16) \u001b[38;5;28;01mfor\u001b[39;00m dtype \u001b[38;5;129;01min\u001b[39;00m dtypes\n\u001b[1;32m    329\u001b[0m ):\n\u001b[1;32m    330\u001b[0m     \u001b[38;5;28;01mif\u001b[39;00m input_size \u001b[38;5;129;01mis\u001b[39;00m \u001b[38;5;129;01mnot\u001b[39;00m \u001b[38;5;28;01mNone\u001b[39;00m:\n",
      "\u001b[0;31mRuntimeError\u001b[0m: Only one of (input_data, input_size) should be specified."
     ]
    }
   ],
   "source": [
    "from torchview import draw_graph\n",
    "\n",
    "model_graph = draw_graph(tagger)\n",
    "print(model_graph.visual_graph)"
   ]
  },
  {
   "cell_type": "code",
   "execution_count": null,
   "metadata": {},
   "outputs": [],
   "source": []
  }
 ],
 "metadata": {
  "kernelspec": {
   "display_name": ".venv",
   "language": "python",
   "name": "python3"
  },
  "language_info": {
   "codemirror_mode": {
    "name": "ipython",
    "version": 3
   },
   "file_extension": ".py",
   "mimetype": "text/x-python",
   "name": "python",
   "nbconvert_exporter": "python",
   "pygments_lexer": "ipython3",
   "version": "3.11.2"
  }
 },
 "nbformat": 4,
 "nbformat_minor": 2
}
