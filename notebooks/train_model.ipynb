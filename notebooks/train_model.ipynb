{
 "cells": [
  {
   "cell_type": "code",
   "execution_count": 1,
   "metadata": {},
   "outputs": [],
   "source": [
    "%load_ext autoreload\n",
    "%autoreload now"
   ]
  },
  {
   "cell_type": "markdown",
   "metadata": {},
   "source": [
    "# Download and convert data"
   ]
  },
  {
   "cell_type": "code",
   "execution_count": 2,
   "metadata": {},
   "outputs": [
    {
     "name": "stderr",
     "output_type": "stream",
     "text": [
      "Writing documents:   0%|          | 0/5 [00:00<?, ?doc/s]"
     ]
    },
    {
     "name": "stdout",
     "output_type": "stream",
     "text": [
      "Skipping row with inventory number 1171 due to status message: 'Niet gedigitaliseerd.'\n",
      "Skipping row with inventory number 2770 due to status message: 'Niet gedigitaliseerd.'\n",
      "Skipping row with inventory number 2770 due to status message: 'Niet gedigitaliseerd.'\n",
      "Skipping row with inventory number 2770 due to status message: 'Niet gedigitaliseerd.'\n",
      "Skipping row with inventory number 2911 due to status message: 'Niet gedigitaliseerd.'\n"
     ]
    },
    {
     "name": "stderr",
     "output_type": "stream",
     "text": [
      "\n"
     ]
    }
   ],
   "source": [
    "from tqdm import tqdm\n",
    "from document_segmentation.pagexml.generale_missiven import GeneraleMissiven\n",
    "from document_segmentation.settings import (\n",
    "    GENERALE_MISSIVEN_DOCUMENT_DIR,\n",
    "    GENERALE_MISSIVEN_SHEET,\n",
    ")\n",
    "\n",
    "N = None\n",
    "\n",
    "GENERALE_MISSIVEN_DOCUMENT_DIR.mkdir(parents=True, exist_ok=True)\n",
    "\n",
    "sheet = GeneraleMissiven(GENERALE_MISSIVEN_SHEET)\n",
    "\n",
    "existing_docs = {\n",
    "    path.stem\n",
    "    for path in GENERALE_MISSIVEN_DOCUMENT_DIR.glob(\"*.json\")\n",
    "    if path.is_file()\n",
    "}\n",
    "\n",
    "for document in tqdm(\n",
    "    sheet.to_documents(n=N, skip_ids=existing_docs),\n",
    "    total=(N or len(sheet)) - len(existing_docs),\n",
    "    desc=\"Writing documents\",\n",
    "    unit=\"doc\",\n",
    "):\n",
    "    document_file = GENERALE_MISSIVEN_DOCUMENT_DIR / f\"{document.id}.json\"\n",
    "\n",
    "    with document_file.open(\"xt\") as f:\n",
    "        f.write(document.model_dump_json())\n",
    "        f.write(\"\\n\")"
   ]
  },
  {
   "cell_type": "markdown",
   "metadata": {},
   "source": [
    "# Load Data from Disk"
   ]
  },
  {
   "cell_type": "code",
   "execution_count": 3,
   "metadata": {},
   "outputs": [
    {
     "name": "stderr",
     "output_type": "stream",
     "text": [
      "Reading JSON files: 100%|██████████| 909/909 [01:08<00:00, 13.37file/s]\n"
     ]
    },
    {
     "data": {
      "text/plain": [
       "191146"
      ]
     },
     "execution_count": 3,
     "metadata": {},
     "output_type": "execute_result"
    }
   ],
   "source": [
    "from document_segmentation.model.dataset import PageDataset\n",
    "\n",
    "dataset = PageDataset.from_dir(GENERALE_MISSIVEN_DOCUMENT_DIR)\n",
    "len(dataset)"
   ]
  },
  {
   "cell_type": "code",
   "execution_count": 4,
   "metadata": {},
   "outputs": [
    {
     "data": {
      "text/plain": [
       "Page(label=<Label.IN: 2>, regions=[Region(id='region_c62b09b5-3b73-455f-bb44-2c07ece8fe82_3', types=(<RegionType.PHYSICAL_STRUCTURE_DOC: 'physical_structure_doc'>, <RegionType.TEXT_REGION: 'text_region'>, <RegionType.PAGEXML_DOC: 'pagexml_doc'>, <RegionType.PAGE_NUMBER: 'page-number'>), coordinates=((66, 671), (63, 674), (66, 677), (70, 677), (73, 674), (70, 671)), lines=()), Region(id='region_72e9d1bd-256c-4b08-a65a-bafa26c4d572_4', types=(<RegionType.PHYSICAL_STRUCTURE_DOC: 'physical_structure_doc'>, <RegionType.TEXT_REGION: 'text_region'>, <RegionType.PAGEXML_DOC: 'pagexml_doc'>, <RegionType.PAGE_NUMBER: 'page-number'>), coordinates=((2550, 244), (2544, 237), (2544, 234), (2541, 234), (2534, 228), (2531, 228), (2528, 225), (2493, 225), (2490, 228), (2477, 228), (2474, 231), (2462, 231), (2458, 234), (2455, 231), (2389, 231), (2386, 234), (2364, 234), (2360, 237), (2357, 237), (2338, 256), (2338, 259), (2335, 263), (2335, 266), (2332, 269), (2332, 272), (2329, 275), (2329, 285), (2326, 288), (2326, 304), (2329, 307), (2329, 313), (2332, 316), (2332, 326), (2335, 329), (2335, 335), (2338, 339), (2338, 342), (2341, 345), (2341, 348), (2345, 351), (2345, 354), (2364, 373), (2367, 373), (2370, 376), (2408, 376), (2411, 380), (2500, 380), (2503, 383), (2519, 383), (2522, 380), (2528, 380), (2531, 376), (2534, 376), (2541, 370), (2541, 367), (2544, 364), (2544, 361), (2547, 358), (2547, 345), (2550, 342), (2550, 307), (2553, 304), (2553, 253), (2550, 250)), lines=('641',)), Region(id='region_dd4324bd-fc3d-414f-90b5-58bc064021f5_7', types=(<RegionType.PHYSICAL_STRUCTURE_DOC: 'physical_structure_doc'>, <RegionType.TEXT_REGION: 'text_region'>, <RegionType.PAGEXML_DOC: 'pagexml_doc'>, <RegionType.HEADER: 'header'>), coordinates=((810, 595), (801, 585), (788, 585), (785, 582), (782, 582), (775, 576), (772, 576), (769, 573), (763, 573), (759, 569), (753, 569), (750, 566), (737, 566), (734, 569), (728, 569), (725, 566), (709, 566), (706, 569), (683, 569), (680, 573), (668, 573), (664, 576), (642, 576), (639, 579), (623, 579), (620, 582), (604, 582), (601, 585), (538, 585), (535, 588), (532, 588), (528, 592), (525, 592), (522, 595), (522, 598), (513, 607), (503, 607), (500, 611), (497, 611), (494, 614), (490, 614), (487, 617), (475, 617), (471, 620), (468, 620), (465, 623), (462, 623), (459, 626), (452, 626), (449, 630), (446, 630), (443, 633), (440, 633), (471, 633), (490, 652), (494, 652), (497, 655), (500, 655), (503, 652), (513, 652), (516, 649), (525, 649), (528, 652), (532, 652), (535, 655), (538, 655), (541, 658), (544, 658), (547, 661), (554, 661), (557, 658), (573, 658), (582, 649), (608, 649), (611, 645), (706, 645), (709, 649), (715, 649), (718, 652), (721, 652), (725, 655), (737, 655), (740, 658), (756, 658), (759, 661), (804, 661), (807, 658), (807, 630), (810, 626), (807, 623), (807, 607), (810, 604)), lines=()), Region(id='region_e4191b1a-140b-463c-980c-0d3b8845ab8a_5', types=(<RegionType.PHYSICAL_STRUCTURE_DOC: 'physical_structure_doc'>, <RegionType.TEXT_REGION: 'text_region'>, <RegionType.PAGEXML_DOC: 'pagexml_doc'>, <RegionType.HEADER: 'header'>), coordinates=((411, 649), (408, 649), (399, 658), (399, 661), (396, 664), (396, 668), (408, 655), (408, 652)), lines=()), Region(id='region_b5aa5ac3-ee47-4680-9553-5c47c0ddc32c_6', types=(<RegionType.PHYSICAL_STRUCTURE_DOC: 'physical_structure_doc'>, <RegionType.TEXT_REGION: 'text_region'>, <RegionType.PAGEXML_DOC: 'pagexml_doc'>, <RegionType.HEADER: 'header'>), coordinates=((1038, 636), (1038, 639), (1047, 639), (1050, 642), (1057, 642), (1060, 645), (1066, 645), (1069, 649), (1073, 649), (1076, 652), (1082, 652), (1085, 655), (1088, 655), (1092, 658), (1098, 658), (1101, 661), (1107, 661), (1114, 668), (1117, 668), (1120, 671), (1126, 671), (1130, 674), (1161, 674), (1164, 677), (1206, 677), (1209, 674), (1215, 674), (1218, 671), (1224, 671), (1228, 668), (1231, 668), (1234, 664), (1243, 664), (1247, 661), (1253, 661), (1256, 658), (1259, 658), (1262, 655), (1266, 655), (1269, 652), (1272, 652), (1275, 649), (1278, 649), (1281, 645), (1288, 645), (1291, 642), (1319, 642), (1323, 645), (1338, 645), (1335, 645), (1332, 642), (1281, 642), (1278, 639), (1266, 639), (1262, 636), (1243, 636), (1240, 633), (1228, 633), (1224, 630), (1218, 630), (1215, 626), (1206, 626), (1202, 623), (1183, 623), (1180, 620), (1158, 620), (1155, 617), (1142, 617), (1139, 614), (1088, 614), (1085, 617), (1073, 617), (1069, 620), (1057, 620), (1054, 623), (1050, 623)), lines=()), Region(id='region_c10027cc-7094-4046-bb67-bfd1c9f29b74_9', types=(<RegionType.MARGINALIA: 'marginalia'>, <RegionType.PHYSICAL_STRUCTURE_DOC: 'physical_structure_doc'>, <RegionType.TEXT_REGION: 'text_region'>, <RegionType.PAGEXML_DOC: 'pagexml_doc'>), coordinates=((377, 709), (377, 715), (386, 725), (392, 725), (396, 728), (402, 728), (405, 731), (481, 731), (484, 728), (541, 728), (544, 731), (563, 731), (566, 734), (585, 734), (589, 737), (617, 737), (620, 734), (633, 734), (636, 737), (709, 737), (712, 740), (832, 740), (835, 737), (857, 737), (861, 734), (880, 734), (883, 731), (905, 731), (908, 728), (918, 728), (921, 725), (927, 725), (930, 721), (933, 721), (937, 718), (943, 718), (946, 715), (946, 699), (943, 696), (943, 693), (933, 683), (933, 680), (927, 674), (921, 674), (918, 671), (889, 671), (886, 674), (880, 674), (876, 677), (835, 677), (832, 674), (826, 674), (823, 671), (819, 671), (816, 668), (813, 668), (807, 661), (804, 664), (759, 664), (756, 661), (740, 661), (737, 658), (725, 658), (721, 655), (718, 655), (715, 652), (709, 652), (706, 649), (611, 649), (608, 652), (582, 652), (573, 661), (557, 661), (554, 664), (547, 664), (544, 661), (541, 661), (538, 658), (535, 658), (532, 655), (528, 655), (525, 652), (516, 652), (513, 655), (503, 655), (500, 658), (497, 658), (494, 655), (490, 655), (471, 636), (437, 636), (433, 639), (424, 639), (421, 642), (418, 642), (414, 645), (414, 649), (411, 652), (411, 655), (396, 671), (392, 671), (392, 674), (389, 677), (389, 680), (386, 683), (386, 690), (383, 693), (383, 699), (380, 702), (380, 706)), lines=()), Region(id='region_df36adad-c1f7-4b19-bd42-751f6979be98_8', types=(<RegionType.MARGINALIA: 'marginalia'>, <RegionType.PHYSICAL_STRUCTURE_DOC: 'physical_structure_doc'>, <RegionType.TEXT_REGION: 'text_region'>, <RegionType.PAGEXML_DOC: 'pagexml_doc'>), coordinates=((269, 2297), (269, 2316), (272, 2319), (272, 2341), (275, 2344), (275, 2351), (278, 2354), (278, 2357), (282, 2360), (282, 2363), (285, 2366), (285, 2373), (291, 2379), (291, 2382), (294, 2385), (297, 2385), (301, 2389), (310, 2389), (313, 2392), (320, 2392), (323, 2395), (361, 2395), (364, 2392), (383, 2392), (386, 2389), (396, 2389), (399, 2385), (421, 2385), (424, 2382), (437, 2382), (440, 2379), (459, 2379), (462, 2376), (471, 2376), (475, 2373), (481, 2373), (484, 2370), (500, 2370), (503, 2366), (557, 2366), (560, 2370), (585, 2370), (589, 2373), (598, 2373), (601, 2376), (620, 2376), (623, 2379), (639, 2379), (642, 2382), (687, 2382), (690, 2385), (734, 2385), (737, 2382), (756, 2382), (759, 2379), (772, 2379), (775, 2376), (782, 2376), (785, 2373), (788, 2373), (791, 2370), (797, 2370), (801, 2366), (804, 2366), (807, 2363), (804, 2360), (804, 2329), (801, 2325), (801, 2319), (788, 2306), (788, 2297), (785, 2294), (785, 2268), (782, 2265), (778, 2265), (772, 2259), (769, 2259), (766, 2256), (763, 2256), (759, 2253), (750, 2253), (747, 2249), (740, 2249), (737, 2246), (734, 2246), (728, 2240), (721, 2240), (718, 2237), (680, 2237), (677, 2240), (655, 2240), (652, 2243), (636, 2243), (633, 2240), (620, 2240), (617, 2237), (614, 2237), (611, 2234), (601, 2234), (598, 2230), (579, 2230), (576, 2234), (424, 2234), (421, 2230), (408, 2230), (405, 2234), (392, 2234), (389, 2230), (383, 2230), (380, 2234), (373, 2234), (370, 2237), (358, 2237), (354, 2240), (342, 2240), (339, 2243), (332, 2243), (329, 2246), (326, 2246), (323, 2249), (320, 2249), (316, 2253), (310, 2253), (307, 2256), (304, 2256), (297, 2262), (294, 2262), (285, 2272), (285, 2275), (275, 2284), (275, 2287), (272, 2291), (272, 2294)), lines=('een klijde e ij',)), Region(id='region_9df849b1-56aa-48d5-b056-961b95080a78_1', types=(<RegionType.PARAGRAPH: 'paragraph'>, <RegionType.PHYSICAL_STRUCTURE_DOC: 'physical_structure_doc'>, <RegionType.TEXT_REGION: 'text_region'>, <RegionType.PAGEXML_DOC: 'pagexml_doc'>), coordinates=((927, 671), (946, 693), (949, 715), (1000, 725), (1044, 747), (1060, 766), (1047, 835), (990, 867), (930, 921), (937, 1054), (930, 1180), (943, 1221), (889, 1395), (892, 1417), (914, 1458), (895, 1528), (908, 1658), (902, 1750), (905, 1892), (883, 1974), (886, 2015), (876, 2053), (883, 2085), (867, 2155), (823, 2237), (788, 2265), (791, 2306), (807, 2329), (807, 2360), (845, 2385), (851, 2408), (848, 2461), (927, 2544), (921, 2563), (902, 2572), (873, 2604), (851, 2673), (854, 2705), (873, 2733), (876, 2851), (899, 2961), (902, 3123), (918, 3167), (918, 3192), (864, 3293), (870, 3331), (911, 3357), (952, 3366), (1206, 3366), (1338, 3379), (1598, 3376), (1772, 3385), (1971, 3376), (2091, 3392), (2256, 3366), (2307, 3366), (2411, 3398), (2449, 3436), (2474, 3448), (2509, 3452), (2538, 3363), (2538, 3290), (2528, 3249), (2503, 3202), (2509, 3164), (2509, 3066), (2519, 3018), (2506, 2857), (2519, 2828), (2509, 2648), (2522, 2613), (2515, 2518), (2541, 2373), (2528, 2310), (2541, 2287), (2544, 2192), (2512, 2110), (2512, 2085), (2528, 2060), (2522, 1901), (2512, 1867), (2525, 1769), (2512, 1689), (2515, 1541), (2525, 1506), (2525, 1395), (2496, 1243), (2468, 1158), (2487, 1025), (2462, 921), (2462, 889), (2481, 867), (2493, 816), (2490, 769), (2506, 718), (2503, 699), (2477, 664), (2449, 645), (2338, 655), (2291, 652), (2269, 658), (2114, 658), (2060, 649), (1807, 645), (1772, 652), (1408, 652), (1291, 645), (1206, 680), (1130, 677), (1031, 639)), lines=('Mallabaar en Godorine van beette die met zynen aanhang', 'en binnenlandde banden, al genogstaan daar van', 'meeter was Gevoorden, te', 'verdryven, dog thans de', 'verandert, en', 'Sammorgase alpeeten van wesen', 'Zin sedende en Malitie tot den', 'nog door', 'orlog tegens hem Gesoreert en sedwongen sijnde', 'Zal het ook daar om', \"'t Ecomp:s but en tijd tegeno\", 'Moeten weten, om hem door dien', '„woordig', 'zelven, oordog bij netorsie de forteeren, tot het', 'Eene ten voordeele van uEd:le ho: agtb: inde', \"boven gem: passagie van Cettorva, P' oordeel\", 'en bevonden sal werden te moeten Ledpen, derworgen', 'ook vermaand is, by onsen Eneraalen briev van')), Region(id='region_f57ab3fc-954e-4d3b-9642-91d791ded8e9_2', types=(<RegionType.PHYSICAL_STRUCTURE_DOC: 'physical_structure_doc'>, <RegionType.TEXT_REGION: 'text_region'>, <RegionType.PAGEXML_DOC: 'pagexml_doc'>, <RegionType.CATCH_WORD: 'catch-word'>), coordinates=((2332, 3445), (2326, 3439), (2326, 3436), (2322, 3436), (2319, 3433), (2316, 3433), (2313, 3430), (2307, 3430), (2303, 3426), (2256, 3426), (2253, 3430), (2205, 3430), (2202, 3433), (2199, 3433), (2196, 3436), (2186, 3436), (2183, 3439), (2174, 3439), (2171, 3442), (2123, 3442), (2120, 3445), (2095, 3445), (2091, 3448), (2069, 3448), (2066, 3452), (2063, 3452), (2050, 3464), (2044, 3464), (2038, 3471), (2038, 3474), (2022, 3490), (2022, 3493), (2019, 3496), (2019, 3515), (2022, 3518), (2022, 3521), (2031, 3531), (2031, 3547), (2038, 3553), (2041, 3553), (2044, 3556), (2047, 3556), (2050, 3559), (2053, 3559), (2057, 3562), (2066, 3562), (2069, 3566), (2082, 3566), (2085, 3569), (2098, 3569), (2101, 3572), (2107, 3572), (2110, 3575), (2114, 3575), (2117, 3578), (2136, 3578), (2139, 3581), (2161, 3581), (2164, 3585), (2167, 3585), (2171, 3588), (2174, 3588), (2177, 3591), (2180, 3591), (2183, 3594), (2193, 3594), (2196, 3591), (2202, 3591), (2205, 3588), (2212, 3588), (2215, 3585), (2218, 3585), (2228, 3575), (2231, 3575), (2240, 3566), (2243, 3566), (2246, 3562), (2250, 3562), (2253, 3559), (2256, 3559), (2259, 3556), (2262, 3556), (2269, 3550), (2272, 3550), (2275, 3547), (2275, 3543), (2269, 3537), (2275, 3531), (2278, 3531), (2281, 3528), (2284, 3528), (2291, 3521), (2291, 3515), (2294, 3512), (2294, 3505), (2297, 3502), (2297, 3499), (2300, 3496), (2300, 3490), (2303, 3486), (2303, 3483), (2310, 3477), (2310, 3474), (2316, 3467), (2316, 3464), (2322, 3458), (2326, 3458), (2332, 3452)), lines=('25:',)), Region(id='abb808c8-d8d8-438c-9ce2-4cf50dab360c', types=(<RegionType.PHYSICAL_STRUCTURE_DOC: 'physical_structure_doc'>, <RegionType.TEXT_REGION: 'text_region'>, <RegionType.PAGEXML_DOC: 'pagexml_doc'>), coordinates=((0, 678), (132, 678), (132, 698), (0, 698)), lines=('er—',)), Region(id='region_076d3bf9-76b9-4fc4-8ea5-2fe80e4651e6', types=(<RegionType.PHYSICAL_STRUCTURE_DOC: 'physical_structure_doc'>, <RegionType.TEXT_REGION: 'text_region'>, <RegionType.PAGEXML_DOC: 'pagexml_doc'>), coordinates=((0, 1141), (45, 1141), (45, 1151), (0, 1151)), lines=('erd',)), Region(id='region_9c4c348f-d826-4c46-9072-88eec530270e', types=(<RegionType.PHYSICAL_STRUCTURE_DOC: 'physical_structure_doc'>, <RegionType.TEXT_REGION: 'text_region'>, <RegionType.PAGEXML_DOC: 'pagexml_doc'>), coordinates=((0, 1795), (65, 1795), (65, 1809), (0, 1809)), lines=())], scan_nr=545, doc_id='NL-HaNA_1.04.02_1766_0545.jpg')"
      ]
     },
     "execution_count": 4,
     "metadata": {},
     "output_type": "execute_result"
    }
   ],
   "source": [
    "dataset[5000]"
   ]
  },
  {
   "cell_type": "code",
   "execution_count": 19,
   "metadata": {},
   "outputs": [],
   "source": [
    "training_dataset = dataset[:1000]"
   ]
  },
  {
   "cell_type": "code",
   "execution_count": 6,
   "metadata": {},
   "outputs": [],
   "source": [
    "test_dataset = dataset[1000:1100]"
   ]
  },
  {
   "cell_type": "markdown",
   "metadata": {},
   "source": [
    "# Train Model"
   ]
  },
  {
   "cell_type": "code",
   "execution_count": 7,
   "metadata": {},
   "outputs": [],
   "source": [
    "import logging\n",
    "\n",
    "logging.basicConfig(level=logging.INFO)"
   ]
  },
  {
   "cell_type": "code",
   "execution_count": 8,
   "metadata": {},
   "outputs": [
    {
     "name": "stderr",
     "output_type": "stream",
     "text": [
      "/Users/carstenschnober/LAHTeR/workspace/document-segmentation/.venv/lib/python3.11/site-packages/torch/_utils.py:831: UserWarning: TypedStorage is deprecated. It will be removed in the future and UntypedStorage will be the only storage class. This should only matter to you if you are using storages directly.  To access UntypedStorage directly, use tensor.untyped_storage() instead of tensor.storage()\n",
      "  return self.fget.__get__(instance, owner)()\n",
      "INFO:root:Using device: mps\n",
      "INFO:root:Moving module 'RegionEmbedding._linear' to device 'mps'\n",
      "INFO:root:Moving module 'RegionEmbedding._region_embedding' to device 'mps'\n",
      "INFO:root:Moving module 'RegionEmbedding._transformer_model' to device 'mps'\n",
      "/Users/carstenschnober/LAHTeR/workspace/document-segmentation/.venv/lib/python3.11/site-packages/torch/nn/modules/rnn.py:82: UserWarning: dropout option adds dropout after all but last recurrent layer, so non-zero dropout expects num_layers greater than 1, but got dropout=0.1 and num_layers=1\n",
      "  warnings.warn(\"dropout option adds dropout after all but last \"\n",
      "INFO:root:Using device: mps\n",
      "INFO:root:Moving module 'PageEmbedding._linear' to device 'mps'\n",
      "INFO:root:Using device: mps\n",
      "INFO:root:Moving module 'RegionEmbedding._linear' to device 'mps'\n",
      "INFO:root:Moving module 'RegionEmbedding._region_embedding' to device 'mps'\n",
      "INFO:root:Moving module 'RegionEmbedding._transformer_model' to device 'mps'\n",
      "INFO:root:Moving sub-modules of 'PageEmbedding' to device 'mps'\n",
      "INFO:root:Moving module 'PageEmbedding._region_model' to device 'mps'\n",
      "INFO:root:Moving module 'PageEmbedding._rnn' to device 'mps'\n",
      "INFO:root:Moving module 'PageEmbedding.rnn' to device 'mps'\n",
      "INFO:root:Using device: mps\n",
      "INFO:root:Moving module 'PageSequenceTagger._linear' to device 'mps'\n",
      "INFO:root:Using device: mps\n",
      "INFO:root:Moving module 'PageEmbedding._linear' to device 'mps'\n",
      "INFO:root:Using device: mps\n",
      "INFO:root:Moving module 'RegionEmbedding._linear' to device 'mps'\n",
      "INFO:root:Moving module 'RegionEmbedding._region_embedding' to device 'mps'\n",
      "INFO:root:Moving module 'RegionEmbedding._transformer_model' to device 'mps'\n",
      "INFO:root:Moving sub-modules of 'PageEmbedding' to device 'mps'\n",
      "INFO:root:Moving module 'PageEmbedding._region_model' to device 'mps'\n",
      "INFO:root:Moving module 'PageEmbedding._rnn' to device 'mps'\n",
      "INFO:root:Moving module 'PageEmbedding.rnn' to device 'mps'\n",
      "INFO:root:Moving sub-modules of 'PageSequenceTagger' to device 'mps'\n",
      "INFO:root:Moving module 'PageSequenceTagger._page_embedding' to device 'mps'\n",
      "INFO:root:Moving module 'PageSequenceTagger._rnn' to device 'mps'\n",
      "INFO:root:Moving module 'PageSequenceTagger._softmax' to device 'mps'\n"
     ]
    }
   ],
   "source": [
    "from document_segmentation.model.page_sequence_tagger import PageSequenceTagger\n",
    "\n",
    "tagger = PageSequenceTagger(device=\"mps\")"
   ]
  },
  {
   "cell_type": "code",
   "execution_count": 9,
   "metadata": {},
   "outputs": [
    {
     "data": {
      "text/plain": [
       "'mps'"
      ]
     },
     "execution_count": 9,
     "metadata": {},
     "output_type": "execute_result"
    }
   ],
   "source": [
    "tagger._device"
   ]
  },
  {
   "cell_type": "code",
   "execution_count": 10,
   "metadata": {},
   "outputs": [
    {
     "data": {
      "text/plain": [
       "PageSequenceTagger(\n",
       "  (_page_embedding): PageEmbedding(\n",
       "    (_region_model): RegionEmbedding(\n",
       "      (_transformer_model): BertModel(\n",
       "        (embeddings): BertEmbeddings(\n",
       "          (word_embeddings): Embedding(30500, 768, padding_idx=0)\n",
       "          (position_embeddings): Embedding(512, 768)\n",
       "          (token_type_embeddings): Embedding(2, 768)\n",
       "          (LayerNorm): LayerNorm((768,), eps=1e-12, elementwise_affine=True)\n",
       "          (dropout): Dropout(p=0.1, inplace=False)\n",
       "        )\n",
       "        (encoder): BertEncoder(\n",
       "          (layer): ModuleList(\n",
       "            (0-11): 12 x BertLayer(\n",
       "              (attention): BertAttention(\n",
       "                (self): BertSelfAttention(\n",
       "                  (query): Linear(in_features=768, out_features=768, bias=True)\n",
       "                  (key): Linear(in_features=768, out_features=768, bias=True)\n",
       "                  (value): Linear(in_features=768, out_features=768, bias=True)\n",
       "                  (dropout): Dropout(p=0.1, inplace=False)\n",
       "                )\n",
       "                (output): BertSelfOutput(\n",
       "                  (dense): Linear(in_features=768, out_features=768, bias=True)\n",
       "                  (LayerNorm): LayerNorm((768,), eps=1e-12, elementwise_affine=True)\n",
       "                  (dropout): Dropout(p=0.1, inplace=False)\n",
       "                )\n",
       "              )\n",
       "              (intermediate): BertIntermediate(\n",
       "                (dense): Linear(in_features=768, out_features=3072, bias=True)\n",
       "                (intermediate_act_fn): GELUActivation()\n",
       "              )\n",
       "              (output): BertOutput(\n",
       "                (dense): Linear(in_features=3072, out_features=768, bias=True)\n",
       "                (LayerNorm): LayerNorm((768,), eps=1e-12, elementwise_affine=True)\n",
       "                (dropout): Dropout(p=0.1, inplace=False)\n",
       "              )\n",
       "            )\n",
       "          )\n",
       "        )\n",
       "        (pooler): BertPooler(\n",
       "          (dense): Linear(in_features=768, out_features=768, bias=True)\n",
       "          (activation): Tanh()\n",
       "        )\n",
       "      )\n",
       "      (_region_embedding): Embedding(9, 16)\n",
       "      (_linear): Linear(in_features=784, out_features=128, bias=True)\n",
       "    )\n",
       "    (_rnn): LSTM(128, 64, batch_first=True, dropout=0.1, bidirectional=True)\n",
       "    (_linear): Linear(in_features=128, out_features=32, bias=True)\n",
       "  )\n",
       "  (_rnn): LSTM(32, 64, batch_first=True, dropout=0.1, bidirectional=True)\n",
       "  (_linear): Linear(in_features=128, out_features=3, bias=True)\n",
       "  (_softmax): Softmax(dim=1)\n",
       ")"
      ]
     },
     "execution_count": 10,
     "metadata": {},
     "output_type": "execute_result"
    }
   ],
   "source": [
    "tagger"
   ]
  },
  {
   "cell_type": "code",
   "execution_count": 21,
   "metadata": {},
   "outputs": [
    {
     "name": "stderr",
     "output_type": "stream",
     "text": [
      "  0%|          | 0/3 [00:00<?, ?epoch/s]"
     ]
    }
   ],
   "source": [
    "from tqdm.autonotebook import tqdm\n",
    "\n",
    "tagger.train_(training_dataset, epochs=3, weights=dataset.class_weights())"
   ]
  },
  {
   "cell_type": "markdown",
   "metadata": {},
   "source": [
    "# Evaluate Model"
   ]
  },
  {
   "cell_type": "code",
   "execution_count": 12,
   "metadata": {},
   "outputs": [
    {
     "name": "stderr",
     "output_type": "stream",
     "text": [
      "MulticlassPrecision:   0%|          | 0/3.125 [00:00<?, ?batch/s]WARNING:root:tensor([[2]]) classes have zero instances in both the predictions and the ground truth labels. Precision is still logged as zero.\n",
      "MulticlassPrecision:  32%|███▏      | 1/3.125 [00:08<00:17,  8.37s/batch]"
     ]
    },
    {
     "name": "stdout",
     "output_type": "stream",
     "text": [
      "[MulticlassPrecision: {'BEGIN': 0.0, 'IN': 1.0, 'END': 0.0}]\n"
     ]
    },
    {
     "name": "stderr",
     "output_type": "stream",
     "text": [
      "WARNING:root:tensor([[2]]) classes have zero instances in both the predictions and the ground truth labels. Precision is still logged as zero.\n",
      "MulticlassPrecision:  64%|██████▍   | 2/3.125 [00:16<00:09,  8.04s/batch]"
     ]
    },
    {
     "name": "stdout",
     "output_type": "stream",
     "text": [
      "[MulticlassPrecision: {'BEGIN': 0.0, 'IN': 1.0, 'END': 0.0}]\n"
     ]
    },
    {
     "name": "stderr",
     "output_type": "stream",
     "text": [
      "WARNING:root:tensor([[2]]) classes have zero instances in both the predictions and the ground truth labels. Precision is still logged as zero.\n",
      "MulticlassPrecision:  96%|█████████▌| 3/3.125 [00:26<00:01,  9.04s/batch]"
     ]
    },
    {
     "name": "stdout",
     "output_type": "stream",
     "text": [
      "[MulticlassPrecision: {'BEGIN': 0.0, 'IN': 1.0, 'END': 0.0}]\n"
     ]
    },
    {
     "name": "stderr",
     "output_type": "stream",
     "text": [
      "WARNING:root:tensor([[2]]) classes have zero instances in both the predictions and the ground truth labels. Precision is still logged as zero.\n",
      "MulticlassPrecision: 4batch [00:27,  6.90s/batch]                        \n",
      "WARNING:root:tensor([[2]]) classes have zero instances in both the predictions and the ground truth labels. Precision is still logged as zero.\n"
     ]
    },
    {
     "name": "stdout",
     "output_type": "stream",
     "text": [
      "[MulticlassPrecision: {'BEGIN': 0.0, 'IN': 1.0, 'END': 0.0}]\n"
     ]
    },
    {
     "data": {
      "text/plain": [
       "{'BEGIN': 0.0, 'IN': 1.0, 'END': 0.0}"
      ]
     },
     "execution_count": 12,
     "metadata": {},
     "output_type": "execute_result"
    }
   ],
   "source": [
    "tagger.precision(test_dataset)"
   ]
  },
  {
   "cell_type": "code",
   "execution_count": 13,
   "metadata": {},
   "outputs": [
    {
     "name": "stderr",
     "output_type": "stream",
     "text": [
      "MulticlassRecall:   0%|          | 0/3.125 [00:00<?, ?batch/s]WARNING:root:One or more NaNs identified, as no ground-truth instances of [0, 2] have been seen. These have been converted to zero.\n",
      "MulticlassRecall:   0%|          | 0/3.125 [00:00<?, ?batch/s]WARNING:root:One or more NaNs identified, as no ground-truth instances of [0, 2] have been seen. These have been converted to zero.\n",
      "MulticlassRecall:   0%|          | 0/3.125 [00:00<?, ?batch/s]WARNING:root:One or more NaNs identified, as no ground-truth instances of [0, 2] have been seen. These have been converted to zero.\n",
      "MulticlassRecall:  96%|█████████▌| 3/3.125 [00:00<00:00, 29.76batch/s]WARNING:root:One or more NaNs identified, as no ground-truth instances of [0, 2] have been seen. These have been converted to zero.\n",
      "MulticlassRecall: 4batch [00:00, 36.67batch/s]                        \n",
      "WARNING:root:One or more NaNs identified, as no ground-truth instances of [0, 2] have been seen. These have been converted to zero.\n"
     ]
    },
    {
     "name": "stdout",
     "output_type": "stream",
     "text": [
      "[MulticlassRecall: {'BEGIN': 0.0, 'IN': 0.9375, 'END': 0.0}]\n",
      "[MulticlassRecall: {'BEGIN': 0.0, 'IN': 0.875, 'END': 0.0}]\n",
      "[MulticlassRecall: {'BEGIN': 0.0, 'IN': 0.8645833134651184, 'END': 0.0}]\n",
      "[MulticlassRecall: {'BEGIN': 0.0, 'IN': 0.8600000143051147, 'END': 0.0}]\n"
     ]
    },
    {
     "data": {
      "text/plain": [
       "{'BEGIN': 0.0, 'IN': 0.8600000143051147, 'END': 0.0}"
      ]
     },
     "execution_count": 13,
     "metadata": {},
     "output_type": "execute_result"
    }
   ],
   "source": [
    "tagger.recall(test_dataset)"
   ]
  },
  {
   "cell_type": "code",
   "execution_count": 14,
   "metadata": {},
   "outputs": [
    {
     "name": "stderr",
     "output_type": "stream",
     "text": [
      "MulticlassF1Score:   0%|          | 0/3.125 [00:00<?, ?batch/s]WARNING:root:Warning: Some classes do not exist in the target. F1 scores for these classes will be cast to zeros.\n",
      "MulticlassF1Score:   0%|          | 0/3.125 [00:00<?, ?batch/s]WARNING:root:Warning: Some classes do not exist in the target. F1 scores for these classes will be cast to zeros.\n",
      "MulticlassF1Score:  64%|██████▍   | 2/3.125 [00:00<00:00, 17.05batch/s]"
     ]
    },
    {
     "name": "stdout",
     "output_type": "stream",
     "text": [
      "[MulticlassF1Score: {'BEGIN': 0.0, 'IN': 0.9677419066429138, 'END': 0.0}]\n",
      "[MulticlassF1Score: {'BEGIN': 0.0, 'IN': 0.9333333373069763, 'END': 0.0}]\n"
     ]
    },
    {
     "name": "stderr",
     "output_type": "stream",
     "text": [
      "WARNING:root:Warning: Some classes do not exist in the target. F1 scores for these classes will be cast to zeros.\n",
      "MulticlassF1Score:  64%|██████▍   | 2/3.125 [00:00<00:00, 17.05batch/s]WARNING:root:Warning: Some classes do not exist in the target. F1 scores for these classes will be cast to zeros.\n",
      "MulticlassF1Score: 4batch [00:00, 25.71batch/s]                        \n",
      "WARNING:root:Warning: Some classes do not exist in the target. F1 scores for these classes will be cast to zeros.\n"
     ]
    },
    {
     "name": "stdout",
     "output_type": "stream",
     "text": [
      "[MulticlassF1Score: {'BEGIN': 0.0, 'IN': 0.9273743033409119, 'END': 0.0}]\n",
      "[MulticlassF1Score: {'BEGIN': 0.0, 'IN': 0.9247311949729919, 'END': 0.0}]\n"
     ]
    },
    {
     "data": {
      "text/plain": [
       "{'BEGIN': 0.0, 'IN': 0.9247311949729919, 'END': 0.0}"
      ]
     },
     "execution_count": 14,
     "metadata": {},
     "output_type": "execute_result"
    }
   ],
   "source": [
    "tagger.f1_score(test_dataset)"
   ]
  },
  {
   "cell_type": "code",
   "execution_count": 15,
   "metadata": {},
   "outputs": [
    {
     "name": "stderr",
     "output_type": "stream",
     "text": [
      "MulticlassAccuracy:   0%|          | 0/3.125 [00:00<?, ?batch/s]/Users/carstenschnober/LAHTeR/workspace/document-segmentation/.venv/lib/python3.11/site-packages/torcheval/metrics/functional/classification/accuracy.py:275: UserWarning: The reduce argument of torch.scatter with Tensor src is deprecated and will be removed in a future PyTorch release. Use torch.scatter_reduce instead for more reduction options. (Triggered internally at /Users/runner/work/pytorch/pytorch/pytorch/aten/src/ATen/native/TensorAdvancedIndexing.cpp:233.)\n",
      "  num_correct = mask.new_zeros(num_classes).scatter_(0, target, mask, reduce=\"add\")\n",
      "MulticlassAccuracy: 4batch [00:00, 35.81batch/s]                        \n"
     ]
    },
    {
     "name": "stdout",
     "output_type": "stream",
     "text": [
      "[MulticlassAccuracy: {'BEGIN': nan, 'IN': 0.9375, 'END': nan}]\n",
      "[MulticlassAccuracy: {'BEGIN': nan, 'IN': 0.875, 'END': nan}]\n",
      "[MulticlassAccuracy: {'BEGIN': nan, 'IN': 0.8645833134651184, 'END': nan}]\n",
      "[MulticlassAccuracy: {'BEGIN': nan, 'IN': 0.8600000143051147, 'END': nan}]\n"
     ]
    },
    {
     "data": {
      "text/plain": [
       "tensor(0.8600)"
      ]
     },
     "execution_count": 15,
     "metadata": {},
     "output_type": "execute_result"
    }
   ],
   "source": [
    "tagger.accuracy(test_dataset)"
   ]
  },
  {
   "cell_type": "code",
   "execution_count": 16,
   "metadata": {},
   "outputs": [
    {
     "name": "stdout",
     "output_type": "stream",
     "text": [
      "Page ID\tTrue Label\tPredicted Label\tCorrect?\tPredicted Scores\n",
      "NL-HaNA_1.04.02_7536_0374.jpg\tIN\tBEGIN\tFalse\t[0.37676846981048584, 0.3392247259616852, 0.2840067744255066]\n",
      "NL-HaNA_1.04.02_7536_0375.jpg\tIN\tBEGIN\tFalse\t[0.37663406133651733, 0.348863422870636, 0.2745024859905243]\n",
      "NL-HaNA_1.04.02_7536_0376.jpg\tIN\tBEGIN\tFalse\t[0.37430357933044434, 0.355951726436615, 0.2697446942329407]\n",
      "NL-HaNA_1.04.02_7536_0377.jpg\tIN\tBEGIN\tFalse\t[0.37243595719337463, 0.36142265796661377, 0.266141414642334]\n",
      "NL-HaNA_1.04.02_7536_0378.jpg\tIN\tBEGIN\tFalse\t[0.37060606479644775, 0.3651258945465088, 0.26426807045936584]\n",
      "NL-HaNA_1.04.02_7536_0379.jpg\tIN\tBEGIN\tFalse\t[0.3693685829639435, 0.36769065260887146, 0.26294076442718506]\n",
      "NL-HaNA_1.04.02_7536_0380.jpg\tIN\tIN\tTrue\t[0.3685202896595001, 0.36943700909614563, 0.2620426416397095]\n",
      "NL-HaNA_1.04.02_7536_0381.jpg\tIN\tIN\tTrue\t[0.3679761588573456, 0.37064996361732483, 0.2613738477230072]\n",
      "NL-HaNA_1.04.02_7536_0382.jpg\tIN\tIN\tTrue\t[0.36756062507629395, 0.37146779894828796, 0.2609716057777405]\n",
      "NL-HaNA_1.04.02_7536_0383.jpg\tIN\tIN\tTrue\t[0.36721915006637573, 0.3719433844089508, 0.26083746552467346]\n",
      "NL-HaNA_1.04.02_7536_0384.jpg\tIN\tIN\tTrue\t[0.3671070635318756, 0.37228715419769287, 0.26060572266578674]\n",
      "NL-HaNA_1.04.02_7536_0385.jpg\tIN\tIN\tTrue\t[0.36740225553512573, 0.37301355600357056, 0.2595842182636261]\n",
      "NL-HaNA_1.04.02_7536_0386.jpg\tIN\tIN\tTrue\t[0.3668440580368042, 0.37291496992111206, 0.26024100184440613]\n",
      "NL-HaNA_1.04.02_7536_0387.jpg\tIN\tIN\tTrue\t[0.3668326139450073, 0.37302759289741516, 0.2601397931575775]\n",
      "NL-HaNA_1.04.02_7536_0388.jpg\tIN\tIN\tTrue\t[0.3667442798614502, 0.37302133440971375, 0.26023438572883606]\n",
      "NL-HaNA_1.04.02_7536_0389.jpg\tIN\tIN\tTrue\t[0.36717233061790466, 0.373596727848053, 0.25923094153404236]\n",
      "NL-HaNA_1.04.02_7536_0390.jpg\tIN\tIN\tTrue\t[0.36665046215057373, 0.3732709586620331, 0.26007863879203796]\n",
      "NL-HaNA_1.04.02_7536_0391.jpg\tIN\tIN\tTrue\t[0.3666692078113556, 0.3732462525367737, 0.2600845694541931]\n",
      "NL-HaNA_1.04.02_7536_0392.jpg\tIN\tIN\tTrue\t[0.3665907084941864, 0.3731302320957184, 0.26027899980545044]\n",
      "NL-HaNA_1.04.02_7536_0393.jpg\tIN\tIN\tTrue\t[0.36684733629226685, 0.3733157515525818, 0.25983694195747375]\n",
      "NL-HaNA_1.04.02_7536_0394.jpg\tIN\tIN\tTrue\t[0.36659520864486694, 0.3731848895549774, 0.260219931602478]\n",
      "NL-HaNA_1.04.02_7536_0395.jpg\tIN\tIN\tTrue\t[0.36659446358680725, 0.3731285035610199, 0.26027703285217285]\n",
      "NL-HaNA_1.04.02_7536_0396.jpg\tIN\tIN\tTrue\t[0.36667299270629883, 0.3731950521469116, 0.2601320147514343]\n",
      "NL-HaNA_1.04.02_7536_0397.jpg\tIN\tIN\tTrue\t[0.36654525995254517, 0.37310799956321716, 0.26034680008888245]\n",
      "NL-HaNA_1.04.02_7536_0398.jpg\tIN\tIN\tTrue\t[0.3665488362312317, 0.3730967938899994, 0.26035434007644653]\n",
      "NL-HaNA_1.04.02_7536_0399.jpg\tIN\tIN\tTrue\t[0.36646124720573425, 0.37301820516586304, 0.2605205178260803]\n",
      "NL-HaNA_1.04.02_7536_0400.jpg\tIN\tIN\tTrue\t[0.3664519190788269, 0.3729580342769623, 0.2605900466442108]\n",
      "NL-HaNA_1.04.02_7536_0401.jpg\tIN\tIN\tTrue\t[0.36646246910095215, 0.37292397022247314, 0.2606135606765747]\n",
      "NL-HaNA_1.04.02_7536_0402.jpg\tIN\tIN\tTrue\t[0.3664497137069702, 0.3728807866573334, 0.2606695294380188]\n",
      "NL-HaNA_1.04.02_7536_0403.jpg\tIN\tIN\tTrue\t[0.36646097898483276, 0.37285465002059937, 0.2606843113899231]\n",
      "NL-HaNA_1.04.02_7536_0404.jpg\tIN\tIN\tTrue\t[0.3664672076702118, 0.3728291988372803, 0.2607036232948303]\n",
      "NL-HaNA_1.04.02_7536_0405.jpg\tIN\tIN\tTrue\t[0.3664843440055847, 0.3728192150592804, 0.2606964111328125]\n",
      "NL-HaNA_1.04.02_7536_0406.jpg\tIN\tIN\tTrue\t[0.3664891719818115, 0.3728010356426239, 0.26070982217788696]\n",
      "NL-HaNA_1.04.02_7536_0407.jpg\tIN\tIN\tTrue\t[0.3665146231651306, 0.37279272079467773, 0.26069262623786926]\n",
      "NL-HaNA_1.04.02_7536_0408.jpg\tIN\tIN\tTrue\t[0.3665531575679779, 0.37279465794563293, 0.26065218448638916]\n",
      "NL-HaNA_1.04.02_7536_0409.jpg\tIN\tIN\tTrue\t[0.3666282296180725, 0.3728514015674591, 0.2605203688144684]\n",
      "NL-HaNA_1.04.02_7536_0410.jpg\tIN\tIN\tTrue\t[0.3666398525238037, 0.37287113070487976, 0.26048898696899414]\n",
      "NL-HaNA_1.04.02_7536_0411.jpg\tIN\tIN\tTrue\t[0.36698246002197266, 0.37338054180145264, 0.2596369683742523]\n",
      "NL-HaNA_1.04.02_7536_0412.jpg\tIN\tIN\tTrue\t[0.3665453791618347, 0.373104453086853, 0.26035016775131226]\n",
      "NL-HaNA_1.04.02_7536_0413.jpg\tIN\tIN\tTrue\t[0.36649757623672485, 0.3730337917804718, 0.26046866178512573]\n",
      "NL-HaNA_1.04.02_7536_0414.jpg\tIN\tIN\tTrue\t[0.36649778485298157, 0.3729766309261322, 0.26052558422088623]\n",
      "NL-HaNA_1.04.02_7536_0415.jpg\tIN\tIN\tTrue\t[0.3665650188922882, 0.37300315499305725, 0.26043182611465454]\n",
      "NL-HaNA_1.04.02_7536_0416.jpg\tIN\tIN\tTrue\t[0.36649489402770996, 0.3729289770126343, 0.2605760991573334]\n",
      "NL-HaNA_1.04.02_7536_0417.jpg\tIN\tIN\tTrue\t[0.3665412664413452, 0.372927725315094, 0.260530948638916]\n",
      "NL-HaNA_1.04.02_7536_0418.jpg\tIN\tIN\tTrue\t[0.3665311336517334, 0.37288644909858704, 0.26058244705200195]\n",
      "NL-HaNA_1.04.02_7536_0419.jpg\tIN\tIN\tTrue\t[0.3665933907032013, 0.37289389967918396, 0.26051273941993713]\n",
      "NL-HaNA_1.04.02_7536_0420.jpg\tIN\tIN\tTrue\t[0.36664989590644836, 0.37290671467781067, 0.26044341921806335]\n",
      "NL-HaNA_1.04.02_7536_0421.jpg\tIN\tIN\tTrue\t[0.3670406937599182, 0.3734351396560669, 0.2595241367816925]\n",
      "NL-HaNA_1.04.02_7536_0422.jpg\tIN\tIN\tTrue\t[0.36658549308776855, 0.3731520175933838, 0.26026248931884766]\n",
      "NL-HaNA_1.04.02_7536_0423.jpg\tIN\tIN\tTrue\t[0.3665926456451416, 0.3731476664543152, 0.2602597177028656]\n",
      "NL-HaNA_1.04.02_7536_0424.jpg\tIN\tIN\tTrue\t[0.36650004982948303, 0.37305742502212524, 0.2604425251483917]\n",
      "NL-HaNA_1.04.02_7536_0425.jpg\tIN\tIN\tTrue\t[0.3665980398654938, 0.37312179803848267, 0.26028013229370117]\n",
      "NL-HaNA_1.04.02_7536_0426.jpg\tIN\tIN\tTrue\t[0.36648279428482056, 0.37303948402404785, 0.2604777216911316]\n",
      "NL-HaNA_1.04.02_7536_0427.jpg\tIN\tIN\tTrue\t[0.3664843440055847, 0.3730147182941437, 0.2605009377002716]\n",
      "NL-HaNA_1.04.02_7536_0428.jpg\tIN\tIN\tTrue\t[0.3665007948875427, 0.3730134963989258, 0.2604856789112091]\n",
      "NL-HaNA_1.04.02_7536_0429.jpg\tIN\tIN\tTrue\t[0.3665914237499237, 0.37313833832740784, 0.26027023792266846]\n",
      "NL-HaNA_1.04.02_7536_0430.jpg\tIN\tIN\tTrue\t[0.3665558993816376, 0.3732655942440033, 0.26017847657203674]\n",
      "NL-HaNA_1.04.02_7536_0431.jpg\tIN\tIN\tTrue\t[0.3666386604309082, 0.3735576570034027, 0.2598036527633667]\n",
      "NL-HaNA_1.04.02_7536_0432.jpg\tIN\tIN\tTrue\t[0.36681970953941345, 0.3741198480129242, 0.25906041264533997]\n",
      "NL-HaNA_1.04.02_7536_0433.jpg\tIN\tIN\tTrue\t[0.3688095510005951, 0.37912115454673767, 0.25206929445266724]\n",
      "NL-HaNA_1.04.02_7536_0434.jpg\tIN\tIN\tTrue\t[0.36676469445228577, 0.37574803829193115, 0.25748729705810547]\n",
      "NL-HaNA_1.04.02_7536_0435.jpg\tIN\tIN\tTrue\t[0.36624327301979065, 0.37498021125793457, 0.25877654552459717]\n",
      "NL-HaNA_1.04.02_7536_0436.jpg\tIN\tIN\tTrue\t[0.3661176860332489, 0.37438639998435974, 0.25949594378471375]\n",
      "NL-HaNA_1.04.02_7536_0437.jpg\tIN\tIN\tTrue\t[0.3662188947200775, 0.37404850125312805, 0.2597326338291168]\n",
      "NL-HaNA_1.04.02_7536_0438.jpg\tIN\tIN\tTrue\t[0.3662896752357483, 0.37385252118110657, 0.25985780358314514]\n",
      "NL-HaNA_1.04.02_7536_0439.jpg\tIN\tIN\tTrue\t[0.3664683699607849, 0.37393662333488464, 0.25959503650665283]\n",
      "NL-HaNA_1.04.02_7536_0440.jpg\tIN\tIN\tTrue\t[0.36661750078201294, 0.37427347898483276, 0.2591090798377991]\n",
      "NL-HaNA_1.04.02_7536_0441.jpg\tIN\tIN\tTrue\t[0.3682565987110138, 0.3777551054954529, 0.25398826599121094]\n",
      "NL-HaNA_1.04.02_7536_0442.jpg\tIN\tIN\tTrue\t[0.36613354086875916, 0.37648168206214905, 0.2573848068714142]\n",
      "NL-HaNA_1.04.02_7536_0443.jpg\tIN\tIN\tTrue\t[0.36548182368278503, 0.3772115409374237, 0.25730669498443604]\n",
      "NL-HaNA_1.04.02_7536_0444.jpg\tIN\tIN\tTrue\t[0.3650078773498535, 0.37899985909461975, 0.2559922933578491]\n",
      "NL-HaNA_1.04.02_7536_0445.jpg\tIN\tIN\tTrue\t[0.36675193905830383, 0.3881019651889801, 0.24514611065387726]\n",
      "NL-HaNA_1.04.02_7536_0446.jpg\tIN\tIN\tTrue\t[0.36371228098869324, 0.38604140281677246, 0.2502462863922119]\n",
      "NL-HaNA_1.04.02_7536_0447.jpg\tIN\tIN\tTrue\t[0.36376816034317017, 0.4077635109424591, 0.22846831381320953]\n",
      "NL-HaNA_1.04.02_7536_0448.jpg\tIN\tIN\tTrue\t[0.3658141791820526, 0.38616958260536194, 0.24801625311374664]\n",
      "NL-HaNA_1.04.02_7536_0449.jpg\tIN\tIN\tTrue\t[0.3653078079223633, 0.3813660144805908, 0.2533261775970459]\n",
      "NL-HaNA_1.04.02_7536_0450.jpg\tIN\tIN\tTrue\t[0.3656768798828125, 0.37844401597976685, 0.2558790445327759]\n",
      "NL-HaNA_1.04.02_7536_0451.jpg\tIN\tIN\tTrue\t[0.36699429154396057, 0.3779025077819824, 0.255103200674057]\n",
      "NL-HaNA_1.04.02_7536_0452.jpg\tIN\tIN\tTrue\t[0.3675474226474762, 0.3781600594520569, 0.2542925179004669]\n",
      "NL-HaNA_1.04.02_7536_0453.jpg\tIN\tIN\tTrue\t[0.3670329749584198, 0.37744420766830444, 0.25552281737327576]\n",
      "NL-HaNA_1.04.02_7536_0454.jpg\tIN\tIN\tTrue\t[0.3664586842060089, 0.3767472505569458, 0.2567940950393677]\n",
      "NL-HaNA_1.04.02_7536_0455.jpg\tIN\tIN\tTrue\t[0.36594825983047485, 0.37626639008522034, 0.2577853798866272]\n",
      "NL-HaNA_1.04.02_7536_0456.jpg\tIN\tIN\tTrue\t[0.36602526903152466, 0.37649938464164734, 0.2574753761291504]\n",
      "NL-HaNA_1.04.02_7536_0457.jpg\tIN\tIN\tTrue\t[0.36846789717674255, 0.3828306794166565, 0.24870142340660095]\n",
      "NL-HaNA_1.04.02_7536_0458.jpg\tIN\tIN\tTrue\t[0.3664495348930359, 0.3774248957633972, 0.2561255693435669]\n",
      "NL-HaNA_1.04.02_7536_0459.jpg\tIN\tIN\tTrue\t[0.3660186231136322, 0.37623825669288635, 0.25774312019348145]\n",
      "NL-HaNA_1.04.02_7536_0460.jpg\tIN\tIN\tTrue\t[0.36582645773887634, 0.37515875697135925, 0.2590148150920868]\n",
      "NL-HaNA_1.04.02_7536_0461.jpg\tIN\tIN\tTrue\t[0.3659863770008087, 0.37447261810302734, 0.25954103469848633]\n",
      "NL-HaNA_1.04.02_7536_0462.jpg\tIN\tIN\tTrue\t[0.36628371477127075, 0.37423864006996155, 0.2594776451587677]\n",
      "NL-HaNA_1.04.02_7536_0463.jpg\tIN\tIN\tTrue\t[0.366021990776062, 0.3738107979297638, 0.2601672112941742]\n",
      "NL-HaNA_1.04.02_7536_0464.jpg\tIN\tIN\tTrue\t[0.3659210801124573, 0.3735419511795044, 0.26053690910339355]\n",
      "NL-HaNA_1.04.02_7536_0465.jpg\tIN\tIN\tTrue\t[0.3657802641391754, 0.3733835220336914, 0.2608361840248108]\n",
      "NL-HaNA_1.04.02_7536_0466.jpg\tIN\tIN\tTrue\t[0.3655145466327667, 0.3733328580856323, 0.26115259528160095]\n",
      "NL-HaNA_1.04.02_7536_0467.jpg\tIN\tIN\tTrue\t[0.36499717831611633, 0.37334325909614563, 0.2616596221923828]\n",
      "NL-HaNA_1.04.02_7536_0468.jpg\tIN\tIN\tTrue\t[0.36422988772392273, 0.3735003173351288, 0.2622697949409485]\n",
      "NL-HaNA_1.04.02_7536_0469.jpg\tIN\tIN\tTrue\t[0.3630222678184509, 0.37388306856155396, 0.26309463381767273]\n",
      "NL-HaNA_1.04.02_7536_0470.jpg\tIN\tIN\tTrue\t[0.3610604405403137, 0.37443867325782776, 0.2645008862018585]\n",
      "NL-HaNA_1.04.02_7536_0471.jpg\tIN\tIN\tTrue\t[0.35905295610427856, 0.37669888138771057, 0.26424819231033325]\n",
      "NL-HaNA_1.04.02_7536_0472.jpg\tIN\tIN\tTrue\t[0.3537282645702362, 0.3771226108074188, 0.26914912462234497]\n",
      "NL-HaNA_1.04.02_7536_0473.jpg\tIN\tIN\tTrue\t[0.34810376167297363, 0.3788330852985382, 0.27306312322616577]\n"
     ]
    }
   ],
   "source": [
    "from document_segmentation.pagexml.datamodel.page import Label\n",
    "\n",
    "\n",
    "preds = tagger(test_dataset)\n",
    "\n",
    "print(\n",
    "    \"\\t\".join(\n",
    "        (\"Page ID\", \"True Label\", \"Predicted Label\", \"Correct?\", \"Predicted Scores\")\n",
    "    )\n",
    ")\n",
    "for page_id, true_label, pred, pred_label in zip(\n",
    "    test_dataset.doc_ids(),\n",
    "    test_dataset.labels(),\n",
    "    preds,\n",
    "    preds.argmax(dim=1),\n",
    "    strict=True,\n",
    "):\n",
    "    print(\n",
    "        \"\\t\".join(\n",
    "            (\n",
    "                str(page_id),\n",
    "                true_label.name,\n",
    "                Label(pred_label.item() + 1).name,\n",
    "                str(Label(pred_label.item() + 1) == true_label),\n",
    "                str(pred.tolist()),\n",
    "            )\n",
    "        )\n",
    "    )"
   ]
  },
  {
   "cell_type": "code",
   "execution_count": 17,
   "metadata": {},
   "outputs": [
    {
     "ename": "RuntimeError",
     "evalue": "Only one of (input_data, input_size) should be specified.",
     "output_type": "error",
     "traceback": [
      "\u001b[0;31m---------------------------------------------------------------------------\u001b[0m",
      "\u001b[0;31mRuntimeError\u001b[0m                              Traceback (most recent call last)",
      "Cell \u001b[0;32mIn[17], line 3\u001b[0m\n\u001b[1;32m      1\u001b[0m \u001b[38;5;28;01mfrom\u001b[39;00m \u001b[38;5;21;01mtorchview\u001b[39;00m \u001b[38;5;28;01mimport\u001b[39;00m draw_graph\n\u001b[0;32m----> 3\u001b[0m model_graph \u001b[38;5;241m=\u001b[39m \u001b[43mdraw_graph\u001b[49m\u001b[43m(\u001b[49m\u001b[43mtagger\u001b[49m\u001b[43m)\u001b[49m\n\u001b[1;32m      4\u001b[0m \u001b[38;5;28mprint\u001b[39m(model_graph\u001b[38;5;241m.\u001b[39mvisual_graph)\n",
      "File \u001b[0;32m~/LAHTeR/workspace/document-segmentation/.venv/lib/python3.11/site-packages/torchview/torchview.py:180\u001b[0m, in \u001b[0;36mdraw_graph\u001b[0;34m(model, input_data, input_size, graph_name, depth, device, dtypes, mode, strict, expand_nested, graph_dir, hide_module_functions, hide_inner_tensors, roll, show_shapes, save_graph, filename, directory, **kwargs)\u001b[0m\n\u001b[1;32m    177\u001b[0m \u001b[38;5;28;01mif\u001b[39;00m graph_dir \u001b[38;5;129;01mis\u001b[39;00m \u001b[38;5;28;01mNone\u001b[39;00m:\n\u001b[1;32m    178\u001b[0m     graph_dir \u001b[38;5;241m=\u001b[39m \u001b[38;5;124m'\u001b[39m\u001b[38;5;124mTB\u001b[39m\u001b[38;5;124m'\u001b[39m\n\u001b[0;32m--> 180\u001b[0m \u001b[43mvalidate_user_params\u001b[49m\u001b[43m(\u001b[49m\n\u001b[1;32m    181\u001b[0m \u001b[43m    \u001b[49m\u001b[43mmodel\u001b[49m\u001b[43m,\u001b[49m\u001b[43m \u001b[49m\u001b[43minput_data\u001b[49m\u001b[43m,\u001b[49m\u001b[43m \u001b[49m\u001b[43minput_size\u001b[49m\u001b[43m,\u001b[49m\u001b[43m \u001b[49m\u001b[43mdepth\u001b[49m\u001b[43m,\u001b[49m\u001b[43m \u001b[49m\u001b[43mdevice\u001b[49m\u001b[43m,\u001b[49m\u001b[43m \u001b[49m\u001b[43mdtypes\u001b[49m\u001b[43m,\u001b[49m\n\u001b[1;32m    182\u001b[0m \u001b[43m\u001b[49m\u001b[43m)\u001b[49m\n\u001b[1;32m    184\u001b[0m graph_attr \u001b[38;5;241m=\u001b[39m {\n\u001b[1;32m    185\u001b[0m     \u001b[38;5;124m'\u001b[39m\u001b[38;5;124mordering\u001b[39m\u001b[38;5;124m'\u001b[39m: \u001b[38;5;124m'\u001b[39m\u001b[38;5;124min\u001b[39m\u001b[38;5;124m'\u001b[39m,\n\u001b[1;32m    186\u001b[0m     \u001b[38;5;124m'\u001b[39m\u001b[38;5;124mrankdir\u001b[39m\u001b[38;5;124m'\u001b[39m: graph_dir,\n\u001b[1;32m    187\u001b[0m }\n\u001b[1;32m    189\u001b[0m \u001b[38;5;66;03m# visual settings from torchviz\u001b[39;00m\n\u001b[1;32m    190\u001b[0m \u001b[38;5;66;03m# seems to work visually well\u001b[39;00m\n",
      "File \u001b[0;32m~/LAHTeR/workspace/document-segmentation/.venv/lib/python3.11/site-packages/torchview/torchview.py:325\u001b[0m, in \u001b[0;36mvalidate_user_params\u001b[0;34m(model, input_data, input_size, depth, device, dtypes)\u001b[0m\n\u001b[1;32m    323\u001b[0m one_input_specified \u001b[38;5;241m=\u001b[39m (input_data \u001b[38;5;129;01mis\u001b[39;00m \u001b[38;5;28;01mNone\u001b[39;00m) \u001b[38;5;241m!=\u001b[39m (input_size \u001b[38;5;129;01mis\u001b[39;00m \u001b[38;5;28;01mNone\u001b[39;00m)\n\u001b[1;32m    324\u001b[0m \u001b[38;5;28;01mif\u001b[39;00m \u001b[38;5;129;01mnot\u001b[39;00m one_input_specified:\n\u001b[0;32m--> 325\u001b[0m     \u001b[38;5;28;01mraise\u001b[39;00m \u001b[38;5;167;01mRuntimeError\u001b[39;00m(\u001b[38;5;124m\"\u001b[39m\u001b[38;5;124mOnly one of (input_data, input_size) should be specified.\u001b[39m\u001b[38;5;124m\"\u001b[39m)\n\u001b[1;32m    327\u001b[0m \u001b[38;5;28;01mif\u001b[39;00m dtypes \u001b[38;5;129;01mis\u001b[39;00m \u001b[38;5;129;01mnot\u001b[39;00m \u001b[38;5;28;01mNone\u001b[39;00m \u001b[38;5;129;01mand\u001b[39;00m \u001b[38;5;28many\u001b[39m(\n\u001b[1;32m    328\u001b[0m     dtype \u001b[38;5;129;01min\u001b[39;00m (torch\u001b[38;5;241m.\u001b[39mfloat16, torch\u001b[38;5;241m.\u001b[39mbfloat16) \u001b[38;5;28;01mfor\u001b[39;00m dtype \u001b[38;5;129;01min\u001b[39;00m dtypes\n\u001b[1;32m    329\u001b[0m ):\n\u001b[1;32m    330\u001b[0m     \u001b[38;5;28;01mif\u001b[39;00m input_size \u001b[38;5;129;01mis\u001b[39;00m \u001b[38;5;129;01mnot\u001b[39;00m \u001b[38;5;28;01mNone\u001b[39;00m:\n",
      "\u001b[0;31mRuntimeError\u001b[0m: Only one of (input_data, input_size) should be specified."
     ]
    }
   ],
   "source": [
    "from torchview import draw_graph\n",
    "\n",
    "model_graph = draw_graph(tagger)\n",
    "print(model_graph.visual_graph)"
   ]
  }
 ],
 "metadata": {
  "kernelspec": {
   "display_name": ".venv",
   "language": "python",
   "name": "python3"
  },
  "language_info": {
   "codemirror_mode": {
    "name": "ipython",
    "version": 3
   },
   "file_extension": ".py",
   "mimetype": "text/x-python",
   "name": "python",
   "nbconvert_exporter": "python",
   "pygments_lexer": "ipython3",
   "version": "3.11.2"
  }
 },
 "nbformat": 4,
 "nbformat_minor": 2
}
