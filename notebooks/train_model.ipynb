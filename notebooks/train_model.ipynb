{
 "cells": [
  {
   "cell_type": "code",
   "execution_count": 1,
   "metadata": {},
   "outputs": [],
   "source": [
    "%load_ext autoreload\n",
    "%autoreload now"
   ]
  },
  {
   "cell_type": "markdown",
   "metadata": {},
   "source": [
    "# Download and convert data"
   ]
  },
  {
   "cell_type": "code",
   "execution_count": 2,
   "metadata": {},
   "outputs": [
    {
     "name": "stderr",
     "output_type": "stream",
     "text": [
      "Writing documents:   0%|          | 0/5 [00:00<?, ?doc/s]"
     ]
    },
    {
     "name": "stdout",
     "output_type": "stream",
     "text": [
      "Skipping row with inventory number 1171 due to status message: Niet gedigitaliseerd.\n",
      "Skipping row with inventory number 2770 due to status message: Niet gedigitaliseerd.\n",
      "Skipping row with inventory number 2770 due to status message: Niet gedigitaliseerd.\n",
      "Skipping row with inventory number 2770 due to status message: Niet gedigitaliseerd.\n",
      "Skipping row with inventory number 2911 due to status message: Niet gedigitaliseerd.\n"
     ]
    },
    {
     "name": "stderr",
     "output_type": "stream",
     "text": [
      "\n"
     ]
    }
   ],
   "source": [
    "from tqdm import tqdm\n",
    "from document_segmentation.pagexml.generale_missiven import GeneraleMissiven\n",
    "from document_segmentation.settings import (\n",
    "    GENERALE_MISSIVEN_DOCUMENT_DIR,\n",
    "    GENERALE_MISSIVEN_SHEET,\n",
    ")\n",
    "\n",
    "N = None\n",
    "\n",
    "GENERALE_MISSIVEN_DOCUMENT_DIR.mkdir(parents=True, exist_ok=True)\n",
    "\n",
    "sheet = GeneraleMissiven(GENERALE_MISSIVEN_SHEET)\n",
    "\n",
    "existing_docs = {\n",
    "    path.stem\n",
    "    for path in GENERALE_MISSIVEN_DOCUMENT_DIR.glob(\"*.json\")\n",
    "    if path.is_file()\n",
    "}\n",
    "\n",
    "for document in tqdm(\n",
    "    sheet.to_documents(n=N, skip_ids=existing_docs),\n",
    "    total=(N or len(sheet)) - len(existing_docs),\n",
    "    desc=\"Writing documents\",\n",
    "    unit=\"doc\",\n",
    "):\n",
    "    document_file = GENERALE_MISSIVEN_DOCUMENT_DIR / f\"{document.id}.json\"\n",
    "\n",
    "    with document_file.open(\"xt\") as f:\n",
    "        f.write(document.model_dump_json())\n",
    "        f.write(\"\\n\")"
   ]
  },
  {
   "cell_type": "code",
   "execution_count": 3,
   "metadata": {},
   "outputs": [
    {
     "name": "stderr",
     "output_type": "stream",
     "text": [
      "Reading JSON files: 100%|██████████| 909/909 [01:10<00:00, 12.95file/s]\n"
     ]
    },
    {
     "data": {
      "text/plain": [
       "191146"
      ]
     },
     "execution_count": 3,
     "metadata": {},
     "output_type": "execute_result"
    }
   ],
   "source": [
    "from document_segmentation.model.dataset import PageDataset\n",
    "\n",
    "dataset = PageDataset.from_dir(GENERALE_MISSIVEN_DOCUMENT_DIR)\n",
    "len(dataset)"
   ]
  },
  {
   "cell_type": "code",
   "execution_count": 4,
   "metadata": {},
   "outputs": [
    {
     "data": {
      "text/plain": [
       "Page(label=<Label.IN: 2>, regions=[Region(id='region_c62b09b5-3b73-455f-bb44-2c07ece8fe82_3', types=(<RegionType.PHYSICAL_STRUCTURE_DOC: 'physical_structure_doc'>, <RegionType.TEXT_REGION: 'text_region'>, <RegionType.PAGE_NUMBER: 'page-number'>, <RegionType.PAGEXML_DOC: 'pagexml_doc'>), coordinates=((66, 671), (63, 674), (66, 677), (70, 677), (73, 674), (70, 671)), lines=()), Region(id='region_72e9d1bd-256c-4b08-a65a-bafa26c4d572_4', types=(<RegionType.PHYSICAL_STRUCTURE_DOC: 'physical_structure_doc'>, <RegionType.TEXT_REGION: 'text_region'>, <RegionType.PAGE_NUMBER: 'page-number'>, <RegionType.PAGEXML_DOC: 'pagexml_doc'>), coordinates=((2550, 244), (2544, 237), (2544, 234), (2541, 234), (2534, 228), (2531, 228), (2528, 225), (2493, 225), (2490, 228), (2477, 228), (2474, 231), (2462, 231), (2458, 234), (2455, 231), (2389, 231), (2386, 234), (2364, 234), (2360, 237), (2357, 237), (2338, 256), (2338, 259), (2335, 263), (2335, 266), (2332, 269), (2332, 272), (2329, 275), (2329, 285), (2326, 288), (2326, 304), (2329, 307), (2329, 313), (2332, 316), (2332, 326), (2335, 329), (2335, 335), (2338, 339), (2338, 342), (2341, 345), (2341, 348), (2345, 351), (2345, 354), (2364, 373), (2367, 373), (2370, 376), (2408, 376), (2411, 380), (2500, 380), (2503, 383), (2519, 383), (2522, 380), (2528, 380), (2531, 376), (2534, 376), (2541, 370), (2541, 367), (2544, 364), (2544, 361), (2547, 358), (2547, 345), (2550, 342), (2550, 307), (2553, 304), (2553, 253), (2550, 250)), lines=('641',)), Region(id='region_dd4324bd-fc3d-414f-90b5-58bc064021f5_7', types=(<RegionType.PHYSICAL_STRUCTURE_DOC: 'physical_structure_doc'>, <RegionType.TEXT_REGION: 'text_region'>, <RegionType.HEADER: 'header'>, <RegionType.PAGEXML_DOC: 'pagexml_doc'>), coordinates=((810, 595), (801, 585), (788, 585), (785, 582), (782, 582), (775, 576), (772, 576), (769, 573), (763, 573), (759, 569), (753, 569), (750, 566), (737, 566), (734, 569), (728, 569), (725, 566), (709, 566), (706, 569), (683, 569), (680, 573), (668, 573), (664, 576), (642, 576), (639, 579), (623, 579), (620, 582), (604, 582), (601, 585), (538, 585), (535, 588), (532, 588), (528, 592), (525, 592), (522, 595), (522, 598), (513, 607), (503, 607), (500, 611), (497, 611), (494, 614), (490, 614), (487, 617), (475, 617), (471, 620), (468, 620), (465, 623), (462, 623), (459, 626), (452, 626), (449, 630), (446, 630), (443, 633), (440, 633), (471, 633), (490, 652), (494, 652), (497, 655), (500, 655), (503, 652), (513, 652), (516, 649), (525, 649), (528, 652), (532, 652), (535, 655), (538, 655), (541, 658), (544, 658), (547, 661), (554, 661), (557, 658), (573, 658), (582, 649), (608, 649), (611, 645), (706, 645), (709, 649), (715, 649), (718, 652), (721, 652), (725, 655), (737, 655), (740, 658), (756, 658), (759, 661), (804, 661), (807, 658), (807, 630), (810, 626), (807, 623), (807, 607), (810, 604)), lines=()), Region(id='region_e4191b1a-140b-463c-980c-0d3b8845ab8a_5', types=(<RegionType.PHYSICAL_STRUCTURE_DOC: 'physical_structure_doc'>, <RegionType.TEXT_REGION: 'text_region'>, <RegionType.HEADER: 'header'>, <RegionType.PAGEXML_DOC: 'pagexml_doc'>), coordinates=((411, 649), (408, 649), (399, 658), (399, 661), (396, 664), (396, 668), (408, 655), (408, 652)), lines=()), Region(id='region_b5aa5ac3-ee47-4680-9553-5c47c0ddc32c_6', types=(<RegionType.PHYSICAL_STRUCTURE_DOC: 'physical_structure_doc'>, <RegionType.TEXT_REGION: 'text_region'>, <RegionType.HEADER: 'header'>, <RegionType.PAGEXML_DOC: 'pagexml_doc'>), coordinates=((1038, 636), (1038, 639), (1047, 639), (1050, 642), (1057, 642), (1060, 645), (1066, 645), (1069, 649), (1073, 649), (1076, 652), (1082, 652), (1085, 655), (1088, 655), (1092, 658), (1098, 658), (1101, 661), (1107, 661), (1114, 668), (1117, 668), (1120, 671), (1126, 671), (1130, 674), (1161, 674), (1164, 677), (1206, 677), (1209, 674), (1215, 674), (1218, 671), (1224, 671), (1228, 668), (1231, 668), (1234, 664), (1243, 664), (1247, 661), (1253, 661), (1256, 658), (1259, 658), (1262, 655), (1266, 655), (1269, 652), (1272, 652), (1275, 649), (1278, 649), (1281, 645), (1288, 645), (1291, 642), (1319, 642), (1323, 645), (1338, 645), (1335, 645), (1332, 642), (1281, 642), (1278, 639), (1266, 639), (1262, 636), (1243, 636), (1240, 633), (1228, 633), (1224, 630), (1218, 630), (1215, 626), (1206, 626), (1202, 623), (1183, 623), (1180, 620), (1158, 620), (1155, 617), (1142, 617), (1139, 614), (1088, 614), (1085, 617), (1073, 617), (1069, 620), (1057, 620), (1054, 623), (1050, 623)), lines=()), Region(id='region_c10027cc-7094-4046-bb67-bfd1c9f29b74_9', types=(<RegionType.PHYSICAL_STRUCTURE_DOC: 'physical_structure_doc'>, <RegionType.TEXT_REGION: 'text_region'>, <RegionType.MARGINALIA: 'marginalia'>, <RegionType.PAGEXML_DOC: 'pagexml_doc'>), coordinates=((377, 709), (377, 715), (386, 725), (392, 725), (396, 728), (402, 728), (405, 731), (481, 731), (484, 728), (541, 728), (544, 731), (563, 731), (566, 734), (585, 734), (589, 737), (617, 737), (620, 734), (633, 734), (636, 737), (709, 737), (712, 740), (832, 740), (835, 737), (857, 737), (861, 734), (880, 734), (883, 731), (905, 731), (908, 728), (918, 728), (921, 725), (927, 725), (930, 721), (933, 721), (937, 718), (943, 718), (946, 715), (946, 699), (943, 696), (943, 693), (933, 683), (933, 680), (927, 674), (921, 674), (918, 671), (889, 671), (886, 674), (880, 674), (876, 677), (835, 677), (832, 674), (826, 674), (823, 671), (819, 671), (816, 668), (813, 668), (807, 661), (804, 664), (759, 664), (756, 661), (740, 661), (737, 658), (725, 658), (721, 655), (718, 655), (715, 652), (709, 652), (706, 649), (611, 649), (608, 652), (582, 652), (573, 661), (557, 661), (554, 664), (547, 664), (544, 661), (541, 661), (538, 658), (535, 658), (532, 655), (528, 655), (525, 652), (516, 652), (513, 655), (503, 655), (500, 658), (497, 658), (494, 655), (490, 655), (471, 636), (437, 636), (433, 639), (424, 639), (421, 642), (418, 642), (414, 645), (414, 649), (411, 652), (411, 655), (396, 671), (392, 671), (392, 674), (389, 677), (389, 680), (386, 683), (386, 690), (383, 693), (383, 699), (380, 702), (380, 706)), lines=()), Region(id='region_df36adad-c1f7-4b19-bd42-751f6979be98_8', types=(<RegionType.PHYSICAL_STRUCTURE_DOC: 'physical_structure_doc'>, <RegionType.TEXT_REGION: 'text_region'>, <RegionType.MARGINALIA: 'marginalia'>, <RegionType.PAGEXML_DOC: 'pagexml_doc'>), coordinates=((269, 2297), (269, 2316), (272, 2319), (272, 2341), (275, 2344), (275, 2351), (278, 2354), (278, 2357), (282, 2360), (282, 2363), (285, 2366), (285, 2373), (291, 2379), (291, 2382), (294, 2385), (297, 2385), (301, 2389), (310, 2389), (313, 2392), (320, 2392), (323, 2395), (361, 2395), (364, 2392), (383, 2392), (386, 2389), (396, 2389), (399, 2385), (421, 2385), (424, 2382), (437, 2382), (440, 2379), (459, 2379), (462, 2376), (471, 2376), (475, 2373), (481, 2373), (484, 2370), (500, 2370), (503, 2366), (557, 2366), (560, 2370), (585, 2370), (589, 2373), (598, 2373), (601, 2376), (620, 2376), (623, 2379), (639, 2379), (642, 2382), (687, 2382), (690, 2385), (734, 2385), (737, 2382), (756, 2382), (759, 2379), (772, 2379), (775, 2376), (782, 2376), (785, 2373), (788, 2373), (791, 2370), (797, 2370), (801, 2366), (804, 2366), (807, 2363), (804, 2360), (804, 2329), (801, 2325), (801, 2319), (788, 2306), (788, 2297), (785, 2294), (785, 2268), (782, 2265), (778, 2265), (772, 2259), (769, 2259), (766, 2256), (763, 2256), (759, 2253), (750, 2253), (747, 2249), (740, 2249), (737, 2246), (734, 2246), (728, 2240), (721, 2240), (718, 2237), (680, 2237), (677, 2240), (655, 2240), (652, 2243), (636, 2243), (633, 2240), (620, 2240), (617, 2237), (614, 2237), (611, 2234), (601, 2234), (598, 2230), (579, 2230), (576, 2234), (424, 2234), (421, 2230), (408, 2230), (405, 2234), (392, 2234), (389, 2230), (383, 2230), (380, 2234), (373, 2234), (370, 2237), (358, 2237), (354, 2240), (342, 2240), (339, 2243), (332, 2243), (329, 2246), (326, 2246), (323, 2249), (320, 2249), (316, 2253), (310, 2253), (307, 2256), (304, 2256), (297, 2262), (294, 2262), (285, 2272), (285, 2275), (275, 2284), (275, 2287), (272, 2291), (272, 2294)), lines=('een klijde e ij',)), Region(id='region_9df849b1-56aa-48d5-b056-961b95080a78_1', types=(<RegionType.PHYSICAL_STRUCTURE_DOC: 'physical_structure_doc'>, <RegionType.TEXT_REGION: 'text_region'>, <RegionType.PARAGRAPH: 'paragraph'>, <RegionType.PAGEXML_DOC: 'pagexml_doc'>), coordinates=((927, 671), (946, 693), (949, 715), (1000, 725), (1044, 747), (1060, 766), (1047, 835), (990, 867), (930, 921), (937, 1054), (930, 1180), (943, 1221), (889, 1395), (892, 1417), (914, 1458), (895, 1528), (908, 1658), (902, 1750), (905, 1892), (883, 1974), (886, 2015), (876, 2053), (883, 2085), (867, 2155), (823, 2237), (788, 2265), (791, 2306), (807, 2329), (807, 2360), (845, 2385), (851, 2408), (848, 2461), (927, 2544), (921, 2563), (902, 2572), (873, 2604), (851, 2673), (854, 2705), (873, 2733), (876, 2851), (899, 2961), (902, 3123), (918, 3167), (918, 3192), (864, 3293), (870, 3331), (911, 3357), (952, 3366), (1206, 3366), (1338, 3379), (1598, 3376), (1772, 3385), (1971, 3376), (2091, 3392), (2256, 3366), (2307, 3366), (2411, 3398), (2449, 3436), (2474, 3448), (2509, 3452), (2538, 3363), (2538, 3290), (2528, 3249), (2503, 3202), (2509, 3164), (2509, 3066), (2519, 3018), (2506, 2857), (2519, 2828), (2509, 2648), (2522, 2613), (2515, 2518), (2541, 2373), (2528, 2310), (2541, 2287), (2544, 2192), (2512, 2110), (2512, 2085), (2528, 2060), (2522, 1901), (2512, 1867), (2525, 1769), (2512, 1689), (2515, 1541), (2525, 1506), (2525, 1395), (2496, 1243), (2468, 1158), (2487, 1025), (2462, 921), (2462, 889), (2481, 867), (2493, 816), (2490, 769), (2506, 718), (2503, 699), (2477, 664), (2449, 645), (2338, 655), (2291, 652), (2269, 658), (2114, 658), (2060, 649), (1807, 645), (1772, 652), (1408, 652), (1291, 645), (1206, 680), (1130, 677), (1031, 639)), lines=('Mallabaar en Godorine van beette die met zynen aanhang', 'en binnenlandde banden, al genogstaan daar van', 'meeter was Gevoorden, te', 'verdryven, dog thans de', 'verandert, en', 'Sammorgase alpeeten van wesen', 'Zin sedende en Malitie tot den', 'nog door', 'orlog tegens hem Gesoreert en sedwongen sijnde', 'Zal het ook daar om', \"'t Ecomp:s but en tijd tegeno\", 'Moeten weten, om hem door dien', '„woordig', 'zelven, oordog bij netorsie de forteeren, tot het', 'Eene ten voordeele van uEd:le ho: agtb: inde', \"boven gem: passagie van Cettorva, P' oordeel\", 'en bevonden sal werden te moeten Ledpen, derworgen', 'ook vermaand is, by onsen Eneraalen briev van')), Region(id='region_f57ab3fc-954e-4d3b-9642-91d791ded8e9_2', types=(<RegionType.PHYSICAL_STRUCTURE_DOC: 'physical_structure_doc'>, <RegionType.TEXT_REGION: 'text_region'>, <RegionType.CATCH_WORD: 'catch-word'>, <RegionType.PAGEXML_DOC: 'pagexml_doc'>), coordinates=((2332, 3445), (2326, 3439), (2326, 3436), (2322, 3436), (2319, 3433), (2316, 3433), (2313, 3430), (2307, 3430), (2303, 3426), (2256, 3426), (2253, 3430), (2205, 3430), (2202, 3433), (2199, 3433), (2196, 3436), (2186, 3436), (2183, 3439), (2174, 3439), (2171, 3442), (2123, 3442), (2120, 3445), (2095, 3445), (2091, 3448), (2069, 3448), (2066, 3452), (2063, 3452), (2050, 3464), (2044, 3464), (2038, 3471), (2038, 3474), (2022, 3490), (2022, 3493), (2019, 3496), (2019, 3515), (2022, 3518), (2022, 3521), (2031, 3531), (2031, 3547), (2038, 3553), (2041, 3553), (2044, 3556), (2047, 3556), (2050, 3559), (2053, 3559), (2057, 3562), (2066, 3562), (2069, 3566), (2082, 3566), (2085, 3569), (2098, 3569), (2101, 3572), (2107, 3572), (2110, 3575), (2114, 3575), (2117, 3578), (2136, 3578), (2139, 3581), (2161, 3581), (2164, 3585), (2167, 3585), (2171, 3588), (2174, 3588), (2177, 3591), (2180, 3591), (2183, 3594), (2193, 3594), (2196, 3591), (2202, 3591), (2205, 3588), (2212, 3588), (2215, 3585), (2218, 3585), (2228, 3575), (2231, 3575), (2240, 3566), (2243, 3566), (2246, 3562), (2250, 3562), (2253, 3559), (2256, 3559), (2259, 3556), (2262, 3556), (2269, 3550), (2272, 3550), (2275, 3547), (2275, 3543), (2269, 3537), (2275, 3531), (2278, 3531), (2281, 3528), (2284, 3528), (2291, 3521), (2291, 3515), (2294, 3512), (2294, 3505), (2297, 3502), (2297, 3499), (2300, 3496), (2300, 3490), (2303, 3486), (2303, 3483), (2310, 3477), (2310, 3474), (2316, 3467), (2316, 3464), (2322, 3458), (2326, 3458), (2332, 3452)), lines=('25:',)), Region(id='abb808c8-d8d8-438c-9ce2-4cf50dab360c', types=(<RegionType.PHYSICAL_STRUCTURE_DOC: 'physical_structure_doc'>, <RegionType.TEXT_REGION: 'text_region'>, <RegionType.PAGEXML_DOC: 'pagexml_doc'>), coordinates=((0, 678), (132, 678), (132, 698), (0, 698)), lines=('er—',)), Region(id='region_076d3bf9-76b9-4fc4-8ea5-2fe80e4651e6', types=(<RegionType.PHYSICAL_STRUCTURE_DOC: 'physical_structure_doc'>, <RegionType.TEXT_REGION: 'text_region'>, <RegionType.PAGEXML_DOC: 'pagexml_doc'>), coordinates=((0, 1141), (45, 1141), (45, 1151), (0, 1151)), lines=('erd',)), Region(id='region_9c4c348f-d826-4c46-9072-88eec530270e', types=(<RegionType.PHYSICAL_STRUCTURE_DOC: 'physical_structure_doc'>, <RegionType.TEXT_REGION: 'text_region'>, <RegionType.PAGEXML_DOC: 'pagexml_doc'>), coordinates=((0, 1795), (65, 1795), (65, 1809), (0, 1809)), lines=())], scan_nr=545)"
      ]
     },
     "execution_count": 4,
     "metadata": {},
     "output_type": "execute_result"
    }
   ],
   "source": [
    "dataset[5000]"
   ]
  },
  {
   "cell_type": "code",
   "execution_count": 5,
   "metadata": {},
   "outputs": [
    {
     "name": "stderr",
     "output_type": "stream",
     "text": [
      "/Users/carstenschnober/LAHTeR/workspace/document-segmentation/.venv/lib/python3.11/site-packages/tqdm/auto.py:21: TqdmWarning: IProgress not found. Please update jupyter and ipywidgets. See https://ipywidgets.readthedocs.io/en/stable/user_install.html\n",
      "  from .autonotebook import tqdm as notebook_tqdm\n",
      "/Users/carstenschnober/LAHTeR/workspace/document-segmentation/.venv/lib/python3.11/site-packages/torch/nn/modules/rnn.py:82: UserWarning: dropout option adds dropout after all but last recurrent layer, so non-zero dropout expects num_layers greater than 1, but got dropout=0.1 and num_layers=1\n",
      "  warnings.warn(\"dropout option adds dropout after all but last \"\n"
     ]
    }
   ],
   "source": [
    "from document_segmentation.model.page_sequence_tagger import PageSequenceTagger\n",
    "\n",
    "tagger = PageSequenceTagger()"
   ]
  },
  {
   "cell_type": "code",
   "execution_count": 6,
   "metadata": {},
   "outputs": [],
   "source": [
    "training_dataset = dataset[:1000]"
   ]
  },
  {
   "cell_type": "code",
   "execution_count": 7,
   "metadata": {},
   "outputs": [],
   "source": [
    "test_dataset = dataset[1000:1200]"
   ]
  },
  {
   "cell_type": "code",
   "execution_count": 8,
   "metadata": {},
   "outputs": [
    {
     "name": "stderr",
     "output_type": "stream",
     "text": [
      "  0%|          | 0/3 [00:00<?, ?epoch/s]"
     ]
    }
   ],
   "source": [
    "tagger.train_(training_dataset, epochs=3, weights=dataset.class_weights())"
   ]
  },
  {
   "cell_type": "code",
   "execution_count": null,
   "metadata": {},
   "outputs": [
    {
     "name": "stderr",
     "output_type": "stream",
     "text": [
      "MulticlassPrecision:   0%|          | 0/6.25 [00:00<?, ?batch/s]WARNING:root:tensor([[2]]) classes have zero instances in both the predictions and the ground truth labels. Precision is still logged as zero.\n",
      "MulticlassPrecision:  16%|█▌        | 1/6.25 [00:31<02:44, 31.31s/batch]"
     ]
    },
    {
     "name": "stdout",
     "output_type": "stream",
     "text": [
      "[MulticlassPrecision: {'BEGIN': 0.0, 'IN': 1.0, 'END': 0.0}]\n"
     ]
    },
    {
     "name": "stderr",
     "output_type": "stream",
     "text": [
      "WARNING:root:tensor([[2]]) classes have zero instances in both the predictions and the ground truth labels. Precision is still logged as zero.\n",
      "MulticlassPrecision:  32%|███▏      | 2/6.25 [00:59<02:06, 29.67s/batch]"
     ]
    },
    {
     "name": "stdout",
     "output_type": "stream",
     "text": [
      "[MulticlassPrecision: {'BEGIN': 0.0, 'IN': 1.0, 'END': 0.0}]\n"
     ]
    },
    {
     "name": "stderr",
     "output_type": "stream",
     "text": [
      "WARNING:root:tensor([[2]]) classes have zero instances in both the predictions and the ground truth labels. Precision is still logged as zero.\n",
      "MulticlassPrecision:  48%|████▊     | 3/6.25 [01:37<01:47, 33.10s/batch]"
     ]
    },
    {
     "name": "stdout",
     "output_type": "stream",
     "text": [
      "[MulticlassPrecision: {'BEGIN': 0.0, 'IN': 1.0, 'END': 0.0}]\n"
     ]
    },
    {
     "name": "stderr",
     "output_type": "stream",
     "text": [
      "WARNING:root:tensor([[2]]) classes have zero instances in both the predictions and the ground truth labels. Precision is still logged as zero.\n",
      "MulticlassPrecision:  64%|██████▍   | 4/6.25 [02:20<01:24, 37.35s/batch]"
     ]
    },
    {
     "name": "stdout",
     "output_type": "stream",
     "text": [
      "[MulticlassPrecision: {'BEGIN': 0.0, 'IN': 1.0, 'END': 0.0}]\n"
     ]
    },
    {
     "name": "stderr",
     "output_type": "stream",
     "text": [
      "WARNING:root:tensor([[2]]) classes have zero instances in both the predictions and the ground truth labels. Precision is still logged as zero.\n",
      "MulticlassPrecision:  80%|████████  | 5/6.25 [02:57<00:46, 37.07s/batch]"
     ]
    },
    {
     "name": "stdout",
     "output_type": "stream",
     "text": [
      "[MulticlassPrecision: {'BEGIN': 0.0181818176060915, 'IN': 0.9809523820877075, 'END': 0.0}]\n"
     ]
    },
    {
     "name": "stderr",
     "output_type": "stream",
     "text": [
      "WARNING:root:tensor([[2]]) classes have zero instances in both the predictions and the ground truth labels. Precision is still logged as zero.\n",
      "MulticlassPrecision:  96%|█████████▌| 6/6.25 [03:21<00:08, 32.52s/batch]"
     ]
    },
    {
     "name": "stdout",
     "output_type": "stream",
     "text": [
      "[MulticlassPrecision: {'BEGIN': 0.014925372786819935, 'IN': 0.984000027179718, 'END': 0.0}]\n"
     ]
    },
    {
     "name": "stderr",
     "output_type": "stream",
     "text": [
      "WARNING:root:tensor([[2]]) classes have zero instances in both the predictions and the ground truth labels. Precision is still logged as zero.\n",
      "MulticlassPrecision: 7batch [03:26, 29.56s/batch]                       \n",
      "WARNING:root:tensor([[2]]) classes have zero instances in both the predictions and the ground truth labels. Precision is still logged as zero.\n"
     ]
    },
    {
     "name": "stdout",
     "output_type": "stream",
     "text": [
      "[MulticlassPrecision: {'BEGIN': 0.014285714365541935, 'IN': 0.9846153855323792, 'END': 0.0}]\n"
     ]
    },
    {
     "data": {
      "text/plain": [
       "{'BEGIN': 0.014285714365541935, 'IN': 0.9846153855323792, 'END': 0.0}"
      ]
     },
     "execution_count": 51,
     "metadata": {},
     "output_type": "execute_result"
    }
   ],
   "source": [
    "tagger.precision(test_dataset)"
   ]
  },
  {
   "cell_type": "code",
   "execution_count": null,
   "metadata": {},
   "outputs": [
    {
     "name": "stderr",
     "output_type": "stream",
     "text": [
      "MulticlassRecall:   0%|          | 0/6.25 [00:00<?, ?batch/s]WARNING:root:One or more NaNs identified, as no ground-truth instances of [0, 2] have been seen. These have been converted to zero.\n",
      "MulticlassRecall:   0%|          | 0/6.25 [00:00<?, ?batch/s]WARNING:root:One or more NaNs identified, as no ground-truth instances of [0, 2] have been seen. These have been converted to zero.\n",
      "MulticlassRecall:   0%|          | 0/6.25 [00:00<?, ?batch/s]WARNING:root:One or more NaNs identified, as no ground-truth instances of [0, 2] have been seen. These have been converted to zero.\n",
      "MulticlassRecall:   0%|          | 0/6.25 [00:00<?, ?batch/s]WARNING:root:One or more NaNs identified, as no ground-truth instances of [0, 2] have been seen. These have been converted to zero.\n",
      "MulticlassRecall: 7batch [00:00, 55.70batch/s]                       "
     ]
    },
    {
     "name": "stdout",
     "output_type": "stream",
     "text": [
      "[MulticlassRecall: {'BEGIN': 0.0, 'IN': 0.90625, 'END': 0.0}]\n",
      "[MulticlassRecall: {'BEGIN': 0.0, 'IN': 0.625, 'END': 0.0}]\n",
      "[MulticlassRecall: {'BEGIN': 0.0, 'IN': 0.6770833134651184, 'END': 0.0}]\n",
      "[MulticlassRecall: {'BEGIN': 0.0, 'IN': 0.6875, 'END': 0.0}]\n",
      "[MulticlassRecall: {'BEGIN': 0.5, 'IN': 0.6602563858032227, 'END': 0.0}]\n",
      "[MulticlassRecall: {'BEGIN': 0.5, 'IN': 0.6542553305625916, 'END': 0.0}]\n",
      "[MulticlassRecall: {'BEGIN': 0.5, 'IN': 0.6530612111091614, 'END': 0.0}]\n"
     ]
    },
    {
     "name": "stderr",
     "output_type": "stream",
     "text": [
      "\n"
     ]
    },
    {
     "data": {
      "text/plain": [
       "{'BEGIN': 0.5, 'IN': 0.6530612111091614, 'END': 0.0}"
      ]
     },
     "execution_count": 52,
     "metadata": {},
     "output_type": "execute_result"
    }
   ],
   "source": [
    "tagger.recall(test_dataset)"
   ]
  },
  {
   "cell_type": "code",
   "execution_count": null,
   "metadata": {},
   "outputs": [
    {
     "name": "stderr",
     "output_type": "stream",
     "text": [
      "MulticlassF1Score:   0%|          | 0/6.25 [00:00<?, ?batch/s]WARNING:root:Warning: Some classes do not exist in the target. F1 scores for these classes will be cast to zeros.\n",
      "MulticlassF1Score:   0%|          | 0/6.25 [00:00<?, ?batch/s]"
     ]
    },
    {
     "name": "stdout",
     "output_type": "stream",
     "text": [
      "[MulticlassF1Score: {'BEGIN': 0.0, 'IN': 0.9508196711540222, 'END': 0.0}]\n"
     ]
    },
    {
     "name": "stderr",
     "output_type": "stream",
     "text": [
      "WARNING:root:Warning: Some classes do not exist in the target. F1 scores for these classes will be cast to zeros.\n",
      "MulticlassF1Score:   0%|          | 0/6.25 [00:00<?, ?batch/s]"
     ]
    },
    {
     "name": "stdout",
     "output_type": "stream",
     "text": [
      "[MulticlassF1Score: {'BEGIN': 0.0, 'IN': 0.7692307829856873, 'END': 0.0}]\n"
     ]
    },
    {
     "name": "stderr",
     "output_type": "stream",
     "text": [
      "WARNING:root:Warning: Some classes do not exist in the target. F1 scores for these classes will be cast to zeros.\n",
      "MulticlassF1Score:   0%|          | 0/6.25 [00:00<?, ?batch/s]WARNING:root:Warning: Some classes do not exist in the target. F1 scores for these classes will be cast to zeros.\n",
      "MulticlassF1Score: 7batch [00:00, 49.06batch/s]                       \n"
     ]
    },
    {
     "name": "stdout",
     "output_type": "stream",
     "text": [
      "[MulticlassF1Score: {'BEGIN': 0.0, 'IN': 0.807453453540802, 'END': 0.0}]\n",
      "[MulticlassF1Score: {'BEGIN': 0.0, 'IN': 0.8148148059844971, 'END': 0.0}]\n",
      "[MulticlassF1Score: {'BEGIN': 0.035087719559669495, 'IN': 0.7892720699310303, 'END': 0.0}]\n",
      "[MulticlassF1Score: {'BEGIN': 0.028985507786273956, 'IN': 0.7859424948692322, 'END': 0.0}]\n",
      "[MulticlassF1Score: {'BEGIN': 0.0277777761220932, 'IN': 0.7852760553359985, 'END': 0.0}]\n"
     ]
    },
    {
     "data": {
      "text/plain": [
       "{'BEGIN': 0.0277777761220932, 'IN': 0.7852760553359985, 'END': 0.0}"
      ]
     },
     "execution_count": 53,
     "metadata": {},
     "output_type": "execute_result"
    }
   ],
   "source": [
    "tagger.f1_score(test_dataset)"
   ]
  },
  {
   "cell_type": "code",
   "execution_count": null,
   "metadata": {},
   "outputs": [
    {
     "name": "stderr",
     "output_type": "stream",
     "text": [
      "MulticlassAccuracy:   0%|          | 0/6.25 [00:00<?, ?batch/s]"
     ]
    },
    {
     "name": "stdout",
     "output_type": "stream",
     "text": [
      "[MulticlassAccuracy: {'BEGIN': nan, 'IN': 0.90625, 'END': nan}]\n",
      "[MulticlassAccuracy: {'BEGIN': nan, 'IN': 0.625, 'END': nan}]\n",
      "[MulticlassAccuracy: {'BEGIN': nan, 'IN': 0.6770833134651184, 'END': nan}]\n"
     ]
    },
    {
     "name": "stderr",
     "output_type": "stream",
     "text": [
      "MulticlassAccuracy:   0%|          | 0/6.25 [00:00<?, ?batch/s]"
     ]
    },
    {
     "name": "stdout",
     "output_type": "stream",
     "text": [
      "[MulticlassAccuracy: {'BEGIN': nan, 'IN': 0.6875, 'END': nan}]\n",
      "[MulticlassAccuracy: {'BEGIN': 0.5, 'IN': 0.6602563858032227, 'END': 0.0}]\n"
     ]
    },
    {
     "name": "stderr",
     "output_type": "stream",
     "text": [
      "MulticlassAccuracy: 7batch [00:00, 58.23batch/s]                       \n"
     ]
    },
    {
     "name": "stdout",
     "output_type": "stream",
     "text": [
      "[MulticlassAccuracy: {'BEGIN': 0.5, 'IN': 0.6542553305625916, 'END': 0.0}]\n",
      "[MulticlassAccuracy: {'BEGIN': 0.5, 'IN': 0.6530612111091614, 'END': 0.0}]\n"
     ]
    },
    {
     "data": {
      "text/plain": [
       "tensor(0.6531)"
      ]
     },
     "execution_count": 54,
     "metadata": {},
     "output_type": "execute_result"
    }
   ],
   "source": [
    "tagger.accuracy(test_dataset)"
   ]
  },
  {
   "cell_type": "code",
   "execution_count": null,
   "metadata": {},
   "outputs": [
    {
     "name": "stdout",
     "output_type": "stream",
     "text": [
      "Page ID\tTrue Label\tPredicted Label\tCorrect?\tPredicted Scores\n"
     ]
    },
    {
     "ename": "AttributeError",
     "evalue": "'PageDataset' object has no attribute 'page_ids'",
     "output_type": "error",
     "traceback": [
      "\u001b[0;31m---------------------------------------------------------------------------\u001b[0m",
      "\u001b[0;31mAttributeError\u001b[0m                            Traceback (most recent call last)",
      "Cell \u001b[0;32mIn[55], line 12\u001b[0m\n\u001b[1;32m      4\u001b[0m preds \u001b[38;5;241m=\u001b[39m tagger(test_dataset)\n\u001b[1;32m      6\u001b[0m \u001b[38;5;28mprint\u001b[39m(\n\u001b[1;32m      7\u001b[0m     \u001b[38;5;124m\"\u001b[39m\u001b[38;5;130;01m\\t\u001b[39;00m\u001b[38;5;124m\"\u001b[39m\u001b[38;5;241m.\u001b[39mjoin(\n\u001b[1;32m      8\u001b[0m         (\u001b[38;5;124m\"\u001b[39m\u001b[38;5;124mPage ID\u001b[39m\u001b[38;5;124m\"\u001b[39m, \u001b[38;5;124m\"\u001b[39m\u001b[38;5;124mTrue Label\u001b[39m\u001b[38;5;124m\"\u001b[39m, \u001b[38;5;124m\"\u001b[39m\u001b[38;5;124mPredicted Label\u001b[39m\u001b[38;5;124m\"\u001b[39m, \u001b[38;5;124m\"\u001b[39m\u001b[38;5;124mCorrect?\u001b[39m\u001b[38;5;124m\"\u001b[39m, \u001b[38;5;124m\"\u001b[39m\u001b[38;5;124mPredicted Scores\u001b[39m\u001b[38;5;124m\"\u001b[39m)\n\u001b[1;32m      9\u001b[0m     )\n\u001b[1;32m     10\u001b[0m )\n\u001b[1;32m     11\u001b[0m \u001b[38;5;28;01mfor\u001b[39;00m page_id, true_label, pred, pred_label \u001b[38;5;129;01min\u001b[39;00m \u001b[38;5;28mzip\u001b[39m(\n\u001b[0;32m---> 12\u001b[0m     \u001b[43mtest_dataset\u001b[49m\u001b[38;5;241;43m.\u001b[39;49m\u001b[43mpage_ids\u001b[49m(),\n\u001b[1;32m     13\u001b[0m     test_dataset\u001b[38;5;241m.\u001b[39mlabels(),\n\u001b[1;32m     14\u001b[0m     preds,\n\u001b[1;32m     15\u001b[0m     preds\u001b[38;5;241m.\u001b[39margmax(dim\u001b[38;5;241m=\u001b[39m\u001b[38;5;241m1\u001b[39m),\n\u001b[1;32m     16\u001b[0m     strict\u001b[38;5;241m=\u001b[39m\u001b[38;5;28;01mTrue\u001b[39;00m,\n\u001b[1;32m     17\u001b[0m ):\n\u001b[1;32m     18\u001b[0m     \u001b[38;5;28mprint\u001b[39m(\n\u001b[1;32m     19\u001b[0m         \u001b[38;5;124m\"\u001b[39m\u001b[38;5;130;01m\\t\u001b[39;00m\u001b[38;5;124m\"\u001b[39m\u001b[38;5;241m.\u001b[39mjoin(\n\u001b[1;32m     20\u001b[0m             (\n\u001b[0;32m   (...)\u001b[0m\n\u001b[1;32m     27\u001b[0m         )\n\u001b[1;32m     28\u001b[0m     )\n",
      "\u001b[0;31mAttributeError\u001b[0m: 'PageDataset' object has no attribute 'page_ids'"
     ]
    }
   ],
   "source": [
    "from document_segmentation.pagexml.datamodel.page import Label\n",
    "\n",
    "\n",
    "preds = tagger(test_dataset)\n",
    "\n",
    "print(\n",
    "    \"\\t\".join(\n",
    "        (\"Page ID\", \"True Label\", \"Predicted Label\", \"Correct?\", \"Predicted Scores\")\n",
    "    )\n",
    ")\n",
    "for page_id, true_label, pred, pred_label in zip(\n",
    "    test_dataset.page_ids(),\n",
    "    test_dataset.labels(),\n",
    "    preds,\n",
    "    preds.argmax(dim=1),\n",
    "    strict=True,\n",
    "):\n",
    "    print(\n",
    "        \"\\t\".join(\n",
    "            (\n",
    "                page_id,\n",
    "                true_label.name,\n",
    "                Label(pred_label.item() + 1).name,\n",
    "                str(Label(pred_label.item() + 1) == true_label),\n",
    "                str(pred.tolist()),\n",
    "            )\n",
    "        )\n",
    "    )"
   ]
  },
  {
   "cell_type": "code",
   "execution_count": null,
   "metadata": {},
   "outputs": [
    {
     "ename": "RuntimeError",
     "evalue": "Only one of (input_data, input_size) should be specified.",
     "output_type": "error",
     "traceback": [
      "\u001b[0;31m---------------------------------------------------------------------------\u001b[0m",
      "\u001b[0;31mRuntimeError\u001b[0m                              Traceback (most recent call last)",
      "Cell \u001b[0;32mIn[20], line 3\u001b[0m\n\u001b[1;32m      1\u001b[0m \u001b[38;5;28;01mfrom\u001b[39;00m \u001b[38;5;21;01mtorchview\u001b[39;00m \u001b[38;5;28;01mimport\u001b[39;00m draw_graph\n\u001b[0;32m----> 3\u001b[0m model_graph \u001b[38;5;241m=\u001b[39m \u001b[43mdraw_graph\u001b[49m\u001b[43m(\u001b[49m\u001b[43mtagger\u001b[49m\u001b[43m)\u001b[49m\n\u001b[1;32m      4\u001b[0m \u001b[38;5;28mprint\u001b[39m(model_graph\u001b[38;5;241m.\u001b[39mvisual_graph)\n",
      "File \u001b[0;32m~/LAHTeR/workspace/document-segmentation/.venv/lib/python3.11/site-packages/torchview/torchview.py:180\u001b[0m, in \u001b[0;36mdraw_graph\u001b[0;34m(model, input_data, input_size, graph_name, depth, device, dtypes, mode, strict, expand_nested, graph_dir, hide_module_functions, hide_inner_tensors, roll, show_shapes, save_graph, filename, directory, **kwargs)\u001b[0m\n\u001b[1;32m    177\u001b[0m \u001b[38;5;28;01mif\u001b[39;00m graph_dir \u001b[38;5;129;01mis\u001b[39;00m \u001b[38;5;28;01mNone\u001b[39;00m:\n\u001b[1;32m    178\u001b[0m     graph_dir \u001b[38;5;241m=\u001b[39m \u001b[38;5;124m'\u001b[39m\u001b[38;5;124mTB\u001b[39m\u001b[38;5;124m'\u001b[39m\n\u001b[0;32m--> 180\u001b[0m \u001b[43mvalidate_user_params\u001b[49m\u001b[43m(\u001b[49m\n\u001b[1;32m    181\u001b[0m \u001b[43m    \u001b[49m\u001b[43mmodel\u001b[49m\u001b[43m,\u001b[49m\u001b[43m \u001b[49m\u001b[43minput_data\u001b[49m\u001b[43m,\u001b[49m\u001b[43m \u001b[49m\u001b[43minput_size\u001b[49m\u001b[43m,\u001b[49m\u001b[43m \u001b[49m\u001b[43mdepth\u001b[49m\u001b[43m,\u001b[49m\u001b[43m \u001b[49m\u001b[43mdevice\u001b[49m\u001b[43m,\u001b[49m\u001b[43m \u001b[49m\u001b[43mdtypes\u001b[49m\u001b[43m,\u001b[49m\n\u001b[1;32m    182\u001b[0m \u001b[43m\u001b[49m\u001b[43m)\u001b[49m\n\u001b[1;32m    184\u001b[0m graph_attr \u001b[38;5;241m=\u001b[39m {\n\u001b[1;32m    185\u001b[0m     \u001b[38;5;124m'\u001b[39m\u001b[38;5;124mordering\u001b[39m\u001b[38;5;124m'\u001b[39m: \u001b[38;5;124m'\u001b[39m\u001b[38;5;124min\u001b[39m\u001b[38;5;124m'\u001b[39m,\n\u001b[1;32m    186\u001b[0m     \u001b[38;5;124m'\u001b[39m\u001b[38;5;124mrankdir\u001b[39m\u001b[38;5;124m'\u001b[39m: graph_dir,\n\u001b[1;32m    187\u001b[0m }\n\u001b[1;32m    189\u001b[0m \u001b[38;5;66;03m# visual settings from torchviz\u001b[39;00m\n\u001b[1;32m    190\u001b[0m \u001b[38;5;66;03m# seems to work visually well\u001b[39;00m\n",
      "File \u001b[0;32m~/LAHTeR/workspace/document-segmentation/.venv/lib/python3.11/site-packages/torchview/torchview.py:325\u001b[0m, in \u001b[0;36mvalidate_user_params\u001b[0;34m(model, input_data, input_size, depth, device, dtypes)\u001b[0m\n\u001b[1;32m    323\u001b[0m one_input_specified \u001b[38;5;241m=\u001b[39m (input_data \u001b[38;5;129;01mis\u001b[39;00m \u001b[38;5;28;01mNone\u001b[39;00m) \u001b[38;5;241m!=\u001b[39m (input_size \u001b[38;5;129;01mis\u001b[39;00m \u001b[38;5;28;01mNone\u001b[39;00m)\n\u001b[1;32m    324\u001b[0m \u001b[38;5;28;01mif\u001b[39;00m \u001b[38;5;129;01mnot\u001b[39;00m one_input_specified:\n\u001b[0;32m--> 325\u001b[0m     \u001b[38;5;28;01mraise\u001b[39;00m \u001b[38;5;167;01mRuntimeError\u001b[39;00m(\u001b[38;5;124m\"\u001b[39m\u001b[38;5;124mOnly one of (input_data, input_size) should be specified.\u001b[39m\u001b[38;5;124m\"\u001b[39m)\n\u001b[1;32m    327\u001b[0m \u001b[38;5;28;01mif\u001b[39;00m dtypes \u001b[38;5;129;01mis\u001b[39;00m \u001b[38;5;129;01mnot\u001b[39;00m \u001b[38;5;28;01mNone\u001b[39;00m \u001b[38;5;129;01mand\u001b[39;00m \u001b[38;5;28many\u001b[39m(\n\u001b[1;32m    328\u001b[0m     dtype \u001b[38;5;129;01min\u001b[39;00m (torch\u001b[38;5;241m.\u001b[39mfloat16, torch\u001b[38;5;241m.\u001b[39mbfloat16) \u001b[38;5;28;01mfor\u001b[39;00m dtype \u001b[38;5;129;01min\u001b[39;00m dtypes\n\u001b[1;32m    329\u001b[0m ):\n\u001b[1;32m    330\u001b[0m     \u001b[38;5;28;01mif\u001b[39;00m input_size \u001b[38;5;129;01mis\u001b[39;00m \u001b[38;5;129;01mnot\u001b[39;00m \u001b[38;5;28;01mNone\u001b[39;00m:\n",
      "\u001b[0;31mRuntimeError\u001b[0m: Only one of (input_data, input_size) should be specified."
     ]
    }
   ],
   "source": [
    "from torchview import draw_graph\n",
    "\n",
    "model_graph = draw_graph(tagger)\n",
    "print(model_graph.visual_graph)"
   ]
  }
 ],
 "metadata": {
  "kernelspec": {
   "display_name": ".venv",
   "language": "python",
   "name": "python3"
  },
  "language_info": {
   "codemirror_mode": {
    "name": "ipython",
    "version": 3
   },
   "file_extension": ".py",
   "mimetype": "text/x-python",
   "name": "python",
   "nbconvert_exporter": "python",
   "pygments_lexer": "ipython3",
   "version": "3.11.2"
  }
 },
 "nbformat": 4,
 "nbformat_minor": 2
}
