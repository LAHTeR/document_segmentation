{
 "cells": [
  {
   "cell_type": "code",
   "execution_count": 120,
   "metadata": {},
   "outputs": [
    {
     "name": "stdout",
     "output_type": "stream",
     "text": [
      "The autoreload extension is already loaded. To reload it, use:\n",
      "  %reload_ext autoreload\n"
     ]
    }
   ],
   "source": [
    "%load_ext autoreload\n",
    "%autoreload now"
   ]
  },
  {
   "cell_type": "code",
   "execution_count": 121,
   "metadata": {},
   "outputs": [
    {
     "name": "stderr",
     "output_type": "stream",
     "text": [
      "WARNING:root:Document with id '20' is part '1' of inventory 1074.\n",
      "WARNING:root:Document with id '32' is part '1' of inventory 1085.\n",
      "WARNING:root:Document with id '33' is part '1' of inventory 1086.\n",
      "WARNING:root:Document '34' has begin page equal to end page: Problemen gevonden tijdens handmatige check:                                                  NaN\n",
      "ID in TANAP database                                                                       2047.0\n",
      "Inv.nr. Nationaal Archief (1.04.02)                                                          1087\n",
      "Deel v. inventarisnummer                                                                      NaN\n",
      "Kamer                                                                                   Amsterdam\n",
      "Beginfolio                                                                                  139.0\n",
      "Eindfolio                                                                                   139.0\n",
      "Beginscan                                                                                   299.0\n",
      "Eindscan                                                                                    299.0\n",
      "Enkele of dubbele pagina op scan                                                            Enkel\n",
      "RGP Deel waarin de missive is opgenomen                                                       NaN\n",
      "RGP pagina waarop de missive begint                                                           NaN\n",
      "Jaren                                                                                        1626\n",
      "Vroegste jaar                                                                              1626.0\n",
      "Laatste jaar                                                                               1626.0\n",
      "Beschrijving in TANAP                           Copie generale missive uijt Batavia aen de bew...\n",
      "Datum                                                                           3 Februarij 1626.\n",
      "Datum (numeriek)                                                                       1626-02-03\n",
      "LINK naar eerste scan                           https://www.nationaalarchief.nl/onderzoeken/ar...\n",
      "Bestandsnaam van eerste scan                                            NL-HaNA_1.04.02_1087_0299\n",
      "LINK naar laatste scan                          https://www.nationaalarchief.nl/onderzoeken/ar...\n",
      "Bestandsnaam van laatste scan                                           NL-HaNA_1.04.02_1087_0299\n",
      "HTR van IJsberg beschikbaar?                                                                False\n",
      "Name: 34, dtype: object\n",
      "WARNING:root:Document with id '35' is part '1' of inventory 1088.\n",
      "WARNING:root:Document with id '43' is part '1' of inventory 1092.\n",
      "WARNING:root:Document with id '44' is part '1' of inventory 1092.\n",
      "WARNING:root:Document with id '45' is part '2' of inventory 1092.\n",
      "WARNING:root:Document with id '46' is part '2' of inventory 1092.\n",
      "WARNING:root:Document with id '53' is part '1' of inventory 1099.\n",
      "WARNING:root:Document with id '55' is part '1' of inventory 1103.\n",
      "WARNING:root:Document '57' has begin page equal to end page: Problemen gevonden tijdens handmatige check:                                                  NaN\n",
      "ID in TANAP database                                                                       4066.0\n",
      "Inv.nr. Nationaal Archief (1.04.02)                                                          1105\n",
      "Deel v. inventarisnummer                                                                      NaN\n",
      "Kamer                                                                                   Amsterdam\n",
      "Beginfolio                                                                                  382.0\n",
      "Eindfolio                                                                                   382.0\n",
      "Beginscan                                                                                   919.0\n",
      "Eindscan                                                                                    919.0\n",
      "Enkele of dubbele pagina op scan                                                            Enkel\n",
      "RGP Deel waarin de missive is opgenomen                                                       NaN\n",
      "RGP pagina waarop de missive begint                                                           NaN\n",
      "Jaren                                                                                        1632\n",
      "Vroegste jaar                                                                              1632.0\n",
      "Laatste jaar                                                                               1632.0\n",
      "Beschrijving in TANAP                           Missive van Gaspaer van Beringhen aen bewinthe...\n",
      "Datum                                                                             1 december 1632\n",
      "Datum (numeriek)                                                                       1632-12-01\n",
      "LINK naar eerste scan                           https://www.nationaalarchief.nl/onderzoeken/ar...\n",
      "Bestandsnaam van eerste scan                                            NL-HaNA_1.04.02_1105_0919\n",
      "LINK naar laatste scan                          https://www.nationaalarchief.nl/onderzoeken/ar...\n",
      "Bestandsnaam van laatste scan                                           NL-HaNA_1.04.02_1105_0919\n",
      "HTR van IJsberg beschikbaar?                                                                False\n",
      "Name: 57, dtype: object\n",
      "WARNING:root:Document with id '60' is part '1' of inventory 1107.\n",
      "WARNING:root:Document with id '61' is part '2' of inventory 1107.\n",
      "WARNING:root:Document with id '74' is part '1' of inventory 1129.\n",
      "WARNING:root:Document with id '119' is part 'B' of inventory 1179.\n",
      "WARNING:root:Document '146' has begin page equal to end page: Problemen gevonden tijdens handmatige check:                                                  NaN\n",
      "ID in TANAP database                                                                      10849.0\n",
      "Inv.nr. Nationaal Archief (1.04.02)                                                          1221\n",
      "Deel v. inventarisnummer                                                                      NaN\n",
      "Kamer                                                                                   Amsterdam\n",
      "Beginfolio                                                                                   83.0\n",
      "Eindfolio                                                                                    83.0\n",
      "Beginscan                                                                                   187.0\n",
      "Eindscan                                                                                    187.0\n",
      "Enkele of dubbele pagina op scan                                                            Enkel\n",
      "RGP Deel waarin de missive is opgenomen                                                       NaN\n",
      "RGP pagina waarop de missive begint                                                           NaN\n",
      "Jaren                                                                                        1658\n",
      "Vroegste jaar                                                                              1658.0\n",
      "Laatste jaar                                                                               1658.0\n",
      "Beschrijving in TANAP                           Originele missive door den gouverneur generaal...\n",
      "Datum                                                                           17 Januarij 1658.\n",
      "Datum (numeriek)                                                                       1658-01-17\n",
      "LINK naar eerste scan                           https://www.nationaalarchief.nl/onderzoeken/ar...\n",
      "Bestandsnaam van eerste scan                                            NL-HaNA_1.04.02_1221_0187\n",
      "LINK naar laatste scan                          https://www.nationaalarchief.nl/onderzoeken/ar...\n",
      "Bestandsnaam van laatste scan                                           NL-HaNA_1.04.02_1221_0187\n",
      "HTR van IJsberg beschikbaar?                                                                False\n",
      "Name: 146, dtype: object\n",
      "WARNING:root:Document with id '154' is part '1' of inventory 1234.\n",
      "WARNING:root:Document with id '155' is part '2' of inventory 1234.\n",
      "WARNING:root:Document with id '156' is part '2' of inventory 1234.\n",
      "WARNING:root:Document '185' has begin page equal to end page: Problemen gevonden tijdens handmatige check:                                                  NaN\n",
      "ID in TANAP database                                                                      14746.0\n",
      "Inv.nr. Nationaal Archief (1.04.02)                                                          1269\n",
      "Deel v. inventarisnummer                                                                      NaN\n",
      "Kamer                                                                                   Amsterdam\n",
      "Beginfolio                                                                                  764.0\n",
      "Eindfolio                                                                                   764.0\n",
      "Beginscan                                                                                  1542.0\n",
      "Eindscan                                                                                   1542.0\n",
      "Enkele of dubbele pagina op scan                                                            Enkel\n",
      "RGP Deel waarin de missive is opgenomen                                                       NaN\n",
      "RGP pagina waarop de missive begint                                                           NaN\n",
      "Jaren                                                                                        1670\n",
      "Vroegste jaar                                                                              1670.0\n",
      "Laatste jaar                                                                               1670.0\n",
      "Beschrijving in TANAP                           Extract uijtte missive door den generael en ra...\n",
      "Datum                                                                              Januarij 1670.\n",
      "Datum (numeriek)                                                                          1670-01\n",
      "LINK naar eerste scan                           https://www.nationaalarchief.nl/onderzoeken/ar...\n",
      "Bestandsnaam van eerste scan                                            NL-HaNA_1.04.02_1269_1542\n",
      "LINK naar laatste scan                          https://www.nationaalarchief.nl/onderzoeken/ar...\n",
      "Bestandsnaam van laatste scan                                           NL-HaNA_1.04.02_1269_1542\n",
      "HTR van IJsberg beschikbaar?                                                                False\n",
      "Name: 185, dtype: object\n",
      "WARNING:root:Document '252' has begin page equal to end page: Problemen gevonden tijdens handmatige check:                                                  NaN\n",
      "ID in TANAP database                                                                      23403.0\n",
      "Inv.nr. Nationaal Archief (1.04.02)                                                          1363\n",
      "Deel v. inventarisnummer                                                                      NaN\n",
      "Kamer                                                                                   Amsterdam\n",
      "Beginfolio                                                                                  189.0\n",
      "Eindfolio                                                                                   189.0\n",
      "Beginscan                                                                                   433.0\n",
      "Eindscan                                                                                    433.0\n",
      "Enkele of dubbele pagina op scan                                                            Enkel\n",
      "RGP Deel waarin de missive is opgenomen                                                       NaN\n",
      "RGP pagina waarop de missive begint                                                           NaN\n",
      "Jaren                                                                                        1681\n",
      "Vroegste jaar                                                                              1681.0\n",
      "Laatste jaar                                                                               1681.0\n",
      "Beschrijving in TANAP                           Extract uijt de generaele missive door den gou...\n",
      "Datum                                                                            28 december 1681\n",
      "Datum (numeriek)                                                                       1681-12-28\n",
      "LINK naar eerste scan                           https://www.nationaalarchief.nl/onderzoeken/ar...\n",
      "Bestandsnaam van eerste scan                                            NL-HaNA_1.04.02_1363_0433\n",
      "LINK naar laatste scan                          https://www.nationaalarchief.nl/onderzoeken/ar...\n",
      "Bestandsnaam van laatste scan                                           NL-HaNA_1.04.02_1363_0433\n",
      "HTR van IJsberg beschikbaar?                                                                False\n",
      "Name: 252, dtype: object\n",
      "WARNING:root:Document with id '262' is part '1' of inventory 7528.\n",
      "WARNING:root:Document with id '263' is part '1' of inventory 7529.\n",
      "WARNING:root:Document with id '264' is part '1' of inventory 7529.\n",
      "WARNING:root:Document with id '265' is part '2' of inventory 7529.\n",
      "WARNING:root:Document with id '266' is part '2' of inventory 7529.\n",
      "WARNING:root:Document with id '282' is part 'A' of inventory 1457.\n",
      "WARNING:root:Document with id '283' is part 'A' of inventory 1457.\n",
      "WARNING:root:Document with id '284' is part 'A' of inventory 1457.\n",
      "WARNING:root:Document with id '285' is part 'A' of inventory 1457.\n",
      "WARNING:root:Document '292' has begin page equal to end page: Problemen gevonden tijdens handmatige check:                                                  NaN\n",
      "ID in TANAP database                                                                      35958.0\n",
      "Inv.nr. Nationaal Archief (1.04.02)                                                          1490\n",
      "Deel v. inventarisnummer                                                                      NaN\n",
      "Kamer                                                                                   Amsterdam\n",
      "Beginfolio                                                                                  519.0\n",
      "Eindfolio                                                                                   519.0\n",
      "Beginscan                                                                                  1255.0\n",
      "Eindscan                                                                                   1255.0\n",
      "Enkele of dubbele pagina op scan                                                            Enkel\n",
      "RGP Deel waarin de missive is opgenomen                                                       NaN\n",
      "RGP pagina waarop de missive begint                                                           NaN\n",
      "Jaren                                                                                        1692\n",
      "Vroegste jaar                                                                              1692.0\n",
      "Laatste jaar                                                                               1692.0\n",
      "Beschrijving in TANAP                           Originele missive door den gouverneur generael...\n",
      "Datum                                                                              26 Maert 1692.\n",
      "Datum (numeriek)                                                                       1692-03-26\n",
      "LINK naar eerste scan                           https://www.nationaalarchief.nl/onderzoeken/ar...\n",
      "Bestandsnaam van eerste scan                                            NL-HaNA_1.04.02_1490_1255\n",
      "LINK naar laatste scan                          https://www.nationaalarchief.nl/onderzoeken/ar...\n",
      "Bestandsnaam van laatste scan                                           NL-HaNA_1.04.02_1490_1255\n",
      "HTR van IJsberg beschikbaar?                                                                False\n",
      "Name: 292, dtype: object\n",
      "WARNING:root:Document with id '392' is part '2' of inventory 7534.\n",
      "WARNING:root:Document with id '393' is part '3' of inventory 7534.\n",
      "WARNING:root:Document with id '394' is part '4' of inventory 7534.\n",
      "WARNING:root:Document with id '395' is part '1' of inventory 7535.\n",
      "WARNING:root:Document with id '396' is part '2' of inventory 7536.\n",
      "WARNING:root:Document with id '447' is part '2' of inventory 7540.\n",
      "WARNING:root:Document with id '449' is part '2' of inventory 7542.\n",
      "WARNING:root:Document with id '452' is part '1' of inventory 7545.\n",
      "WARNING:root:Document with id '453' is part '8' of inventory 7546.\n",
      "WARNING:root:Document with id '548' is part '2' of inventory 2450.\n",
      "WARNING:root:Document with id '549' is part '3' of inventory 2450.\n",
      "WARNING:root:Document with id '579' is part '1' of inventory 7558.\n",
      "WARNING:root:Document with id '580' is part '6' of inventory 7559.\n",
      "WARNING:root:Document with id '584' is part '2' of inventory 2612.\n",
      "WARNING:root:Document with id '585' is part '2' of inventory 2612.\n",
      "WARNING:root:Document with id '586' is part '2' of inventory 2612.\n",
      "WARNING:root:Document with id '587' is part '2' of inventory 2612.\n",
      "WARNING:root:Document with id '588' is part '2' of inventory 2612.\n",
      "WARNING:root:Document '638' has begin page equal to end page: Problemen gevonden tijdens handmatige check:                                                  NaN\n",
      "ID in TANAP database                                                                      71929.0\n",
      "Inv.nr. Nationaal Archief (1.04.02)                                                          2768\n",
      "Deel v. inventarisnummer                                                                      NaN\n",
      "Kamer                                                                                   Amsterdam\n",
      "Beginfolio                                                                                   97.0\n",
      "Eindfolio                                                                                    97.0\n",
      "Beginscan                                                                                   251.0\n",
      "Eindscan                                                                                    251.0\n",
      "Enkele of dubbele pagina op scan                                                            Enkel\n",
      "RGP Deel waarin de missive is opgenomen                                                       NaN\n",
      "RGP pagina waarop de missive begint                                                           NaN\n",
      "Jaren                                                                                        1752\n",
      "Vroegste jaar                                                                              1752.0\n",
      "Laatste jaar                                                                               1752.0\n",
      "Beschrijving in TANAP                           Origineele missive van de gouverneur generaal ...\n",
      "Datum                                                                            7 Januarij 1752.\n",
      "Datum (numeriek)                                                                       1752-01-07\n",
      "LINK naar eerste scan                           https://www.nationaalarchief.nl/onderzoeken/ar...\n",
      "Bestandsnaam van eerste scan                                            NL-HaNA_1.04.02_2768_0251\n",
      "LINK naar laatste scan                          https://www.nationaalarchief.nl/onderzoeken/ar...\n",
      "Bestandsnaam van laatste scan                                           NL-HaNA_1.04.02_2768_0251\n",
      "HTR van IJsberg beschikbaar?                                                                False\n",
      "Name: 638, dtype: object\n",
      "WARNING:root:Document with id '693' is part '1' of inventory 3066.\n",
      "WARNING:root:Document with id '778' is part '1' of inventory 3560.\n"
     ]
    }
   ],
   "source": [
    "from document_segmentation import settings\n",
    "from document_segmentation.pagexml import GeneraleMissivenDataset\n",
    "\n",
    "dataset = GeneraleMissivenDataset.from_csv(settings.GENERALE_MISSIVEN_SHEET)"
   ]
  },
  {
   "cell_type": "code",
   "execution_count": 122,
   "metadata": {},
   "outputs": [
    {
     "data": {
      "text/plain": [
       "(PageXMLScan(\n",
       " \tid=NL-HaNA_1.04.02_1142_0204.jpg, \n",
       " \ttype=['physical_structure_doc', 'text_region', 'pagexml_doc', 'scan'], \n",
       " \tstats={\"lines\": 84, \"words\": 1163, \"text_regions\": 13, \"columns\": 0, \"extra\": 0, \"pages\": 0}\n",
       " ),\n",
       " <Label.IN: 2>)"
      ]
     },
     "execution_count": 122,
     "metadata": {},
     "output_type": "execute_result"
    }
   ],
   "source": [
    "dataset[5000]"
   ]
  },
  {
   "cell_type": "code",
   "execution_count": 123,
   "metadata": {},
   "outputs": [
    {
     "name": "stderr",
     "output_type": "stream",
     "text": [
      "/Users/carstenschnober/LAHTeR/workspace/document-segmentation/.venv/lib/python3.11/site-packages/torch/nn/modules/rnn.py:82: UserWarning: dropout option adds dropout after all but last recurrent layer, so non-zero dropout expects num_layers greater than 1, but got dropout=0.1 and num_layers=1\n",
      "  warnings.warn(\"dropout option adds dropout after all but last \"\n"
     ]
    }
   ],
   "source": [
    "from document_segmentation.model.page_sequence_tagger import PageSequenceTagger\n",
    "\n",
    "tagger = PageSequenceTagger()"
   ]
  },
  {
   "cell_type": "code",
   "execution_count": 124,
   "metadata": {},
   "outputs": [],
   "source": [
    "training_dataset = dataset[:100]\n",
    "test_dataset = dataset[100:200]"
   ]
  },
  {
   "cell_type": "code",
   "execution_count": 125,
   "metadata": {},
   "outputs": [
    {
     "name": "stderr",
     "output_type": "stream",
     "text": [
      "4batch [18:51, 282.87s/batch]?, ?epoch/s]\n",
      "  7%|▋         | 1/15 [18:51<4:24:00, 1131.47s/epoch]"
     ]
    },
    {
     "name": "stdout",
     "output_type": "stream",
     "text": [
      "[Loss:\t1.317]\n"
     ]
    },
    {
     "name": "stderr",
     "output_type": "stream",
     "text": [
      "4batch [00:00, 19.20batch/s]                    \n",
      " 13%|█▎        | 2/15 [18:51<1:40:58, 466.02s/epoch] "
     ]
    },
    {
     "name": "stdout",
     "output_type": "stream",
     "text": [
      "[Loss:\t1.196]\n"
     ]
    },
    {
     "name": "stderr",
     "output_type": "stream",
     "text": [
      "4batch [00:00, 20.92batch/s]                    \n",
      " 20%|██        | 3/15 [18:51<50:39, 253.32s/epoch]  "
     ]
    },
    {
     "name": "stdout",
     "output_type": "stream",
     "text": [
      "[Loss:\t1.090]\n"
     ]
    },
    {
     "name": "stderr",
     "output_type": "stream",
     "text": [
      "4batch [00:00, 21.50batch/s]                    \n",
      " 27%|██▋       | 4/15 [18:52<28:07, 153.38s/epoch]"
     ]
    },
    {
     "name": "stdout",
     "output_type": "stream",
     "text": [
      "[Loss:\t0.996]\n"
     ]
    },
    {
     "name": "stderr",
     "output_type": "stream",
     "text": [
      "4batch [00:00, 19.06batch/s]                    \n",
      " 33%|███▎      | 5/15 [18:52<16:21, 98.15s/epoch] "
     ]
    },
    {
     "name": "stdout",
     "output_type": "stream",
     "text": [
      "[Loss:\t0.906]\n"
     ]
    },
    {
     "name": "stderr",
     "output_type": "stream",
     "text": [
      "4batch [00:00, 21.13batch/s]                    \n",
      " 40%|████      | 6/15 [18:52<09:43, 64.84s/epoch]"
     ]
    },
    {
     "name": "stdout",
     "output_type": "stream",
     "text": [
      "[Loss:\t0.822]\n"
     ]
    },
    {
     "name": "stderr",
     "output_type": "stream",
     "text": [
      "4batch [00:00, 21.63batch/s]                    \n",
      " 47%|████▋     | 7/15 [18:52<05:49, 43.71s/epoch]"
     ]
    },
    {
     "name": "stdout",
     "output_type": "stream",
     "text": [
      "[Loss:\t0.755]\n"
     ]
    },
    {
     "name": "stderr",
     "output_type": "stream",
     "text": [
      "4batch [00:00, 21.42batch/s]                    \n",
      " 53%|█████▎    | 8/15 [18:52<03:28, 29.85s/epoch]"
     ]
    },
    {
     "name": "stdout",
     "output_type": "stream",
     "text": [
      "[Loss:\t0.712]\n"
     ]
    },
    {
     "name": "stderr",
     "output_type": "stream",
     "text": [
      "4batch [00:00, 20.83batch/s]                    \n",
      " 60%|██████    | 9/15 [18:53<02:03, 20.58s/epoch]"
     ]
    },
    {
     "name": "stdout",
     "output_type": "stream",
     "text": [
      "[Loss:\t0.689]\n"
     ]
    },
    {
     "name": "stderr",
     "output_type": "stream",
     "text": [
      "4batch [00:00, 21.49batch/s]                    \n",
      " 67%|██████▋   | 10/15 [18:53<01:11, 14.29s/epoch]"
     ]
    },
    {
     "name": "stdout",
     "output_type": "stream",
     "text": [
      "[Loss:\t0.677]\n"
     ]
    },
    {
     "name": "stderr",
     "output_type": "stream",
     "text": [
      "4batch [00:00, 21.41batch/s]                    \n",
      " 73%|███████▎  | 11/15 [18:53<00:39,  9.97s/epoch]"
     ]
    },
    {
     "name": "stdout",
     "output_type": "stream",
     "text": [
      "[Loss:\t0.670]\n"
     ]
    },
    {
     "name": "stderr",
     "output_type": "stream",
     "text": [
      "4batch [00:00, 21.69batch/s]                    \n",
      " 80%|████████  | 12/15 [18:53<00:20,  6.99s/epoch]"
     ]
    },
    {
     "name": "stdout",
     "output_type": "stream",
     "text": [
      "[Loss:\t0.667]\n"
     ]
    },
    {
     "name": "stderr",
     "output_type": "stream",
     "text": [
      "4batch [00:00, 22.71batch/s]                    \n",
      " 87%|████████▋ | 13/15 [18:53<00:09,  4.93s/epoch]"
     ]
    },
    {
     "name": "stdout",
     "output_type": "stream",
     "text": [
      "[Loss:\t0.666]\n"
     ]
    },
    {
     "name": "stderr",
     "output_type": "stream",
     "text": [
      "4batch [00:00, 20.91batch/s]                    \n",
      " 93%|█████████▎| 14/15 [18:53<00:03,  3.50s/epoch]"
     ]
    },
    {
     "name": "stdout",
     "output_type": "stream",
     "text": [
      "[Loss:\t0.665]\n"
     ]
    },
    {
     "name": "stderr",
     "output_type": "stream",
     "text": [
      "4batch [00:00, 22.23batch/s]                    \n",
      "100%|██████████| 15/15 [18:54<00:00, 75.61s/epoch]"
     ]
    },
    {
     "name": "stdout",
     "output_type": "stream",
     "text": [
      "[Loss:\t0.665]\n"
     ]
    },
    {
     "name": "stderr",
     "output_type": "stream",
     "text": [
      "\n"
     ]
    }
   ],
   "source": [
    "tagger.train_(training_dataset, epochs=15, weights=dataset.inverse_frequencies())"
   ]
  },
  {
   "cell_type": "code",
   "execution_count": 126,
   "metadata": {},
   "outputs": [
    {
     "name": "stderr",
     "output_type": "stream",
     "text": [
      "MulticlassPrecision:   0%|          | 0/3.125 [00:00<?, ?batch/s]"
     ]
    }
   ],
   "source": [
    "tagger.precision(test_dataset)"
   ]
  },
  {
   "cell_type": "code",
   "execution_count": null,
   "metadata": {},
   "outputs": [
    {
     "name": "stderr",
     "output_type": "stream",
     "text": [
      "MulticlassRecall: 1batch [00:00, 46.68batch/s]                 "
     ]
    },
    {
     "name": "stdout",
     "output_type": "stream",
     "text": [
      "[F1 Score:\t{'BEGIN': 0.0, 'IN': 0.375, 'END': 1.0}]\n"
     ]
    },
    {
     "name": "stderr",
     "output_type": "stream",
     "text": [
      "\n"
     ]
    },
    {
     "data": {
      "text/plain": [
       "{'BEGIN': 0.0, 'IN': 0.375, 'END': 1.0}"
      ]
     },
     "execution_count": 116,
     "metadata": {},
     "output_type": "execute_result"
    }
   ],
   "source": [
    "tagger.recall(test_dataset)"
   ]
  },
  {
   "cell_type": "code",
   "execution_count": null,
   "metadata": {},
   "outputs": [
    {
     "name": "stderr",
     "output_type": "stream",
     "text": [
      "MulticlassF1Score: 1batch [00:00, 51.29batch/s]                 "
     ]
    },
    {
     "name": "stdout",
     "output_type": "stream",
     "text": [
      "[F1 Score:\t{'BEGIN': 0.0, 'IN': 0.5454545617103577, 'END': 0.25}]\n"
     ]
    },
    {
     "name": "stderr",
     "output_type": "stream",
     "text": [
      "\n"
     ]
    },
    {
     "data": {
      "text/plain": [
       "{'BEGIN': 0.0, 'IN': 0.5454545617103577, 'END': 0.25}"
      ]
     },
     "execution_count": 117,
     "metadata": {},
     "output_type": "execute_result"
    }
   ],
   "source": [
    "tagger.f1_score(test_dataset)"
   ]
  },
  {
   "cell_type": "code",
   "execution_count": null,
   "metadata": {},
   "outputs": [],
   "source": [
    "tagger.accuracy(test_dataset)"
   ]
  },
  {
   "cell_type": "code",
   "execution_count": null,
   "metadata": {},
   "outputs": [
    {
     "name": "stdout",
     "output_type": "stream",
     "text": [
      "Page ID\tTrue Label\tPredicted Label\tCorrect?\tPredicted Scores\n",
      "NL-HaNA_1.04.02_1068_0588.jpg\tIN\tEND\tFalse\t[0.36294466257095337, 0.20157194137573242, 0.4354833662509918]\n",
      "NL-HaNA_1.04.02_1068_0589.jpg\tIN\tEND\tFalse\t[0.2764382064342499, 0.21182410418987274, 0.5117377042770386]\n",
      "NL-HaNA_1.04.02_1068_0590.jpg\tIN\tEND\tFalse\t[0.21119709312915802, 0.30690351128578186, 0.4818994104862213]\n",
      "NL-HaNA_1.04.02_1068_0591.jpg\tIN\tIN\tTrue\t[0.021370841190218925, 0.9606594443321228, 0.017969714477658272]\n",
      "NL-HaNA_1.04.02_1068_0592.jpg\tIN\tIN\tTrue\t[0.23334375023841858, 0.466174453496933, 0.30048173666000366]\n",
      "NL-HaNA_1.04.02_1068_0593.jpg\tIN\tEND\tFalse\t[0.23051902651786804, 0.28804871439933777, 0.48143234848976135]\n",
      "NL-HaNA_1.04.02_1068_0594.jpg\tEND\tEND\tTrue\t[0.19421978294849396, 0.2022438645362854, 0.6035364270210266]\n",
      "NL-HaNA_1.04.02_1068_0595.jpg\tBEGIN\tEND\tFalse\t[0.16098953783512115, 0.18695591390132904, 0.6520546078681946]\n",
      "NL-HaNA_1.04.02_1068_0596.jpg\tIN\tEND\tFalse\t[0.13625812530517578, 0.29717302322387695, 0.5665688514709473]\n",
      "NL-HaNA_1.04.02_1068_0597.jpg\tIN\tIN\tTrue\t[0.007173748686909676, 0.9852572083473206, 0.007569105364382267]\n"
     ]
    }
   ],
   "source": [
    "from document_segmentation.pagexml.dataset import Label\n",
    "\n",
    "\n",
    "preds = tagger(test_dataset)\n",
    "\n",
    "print(\n",
    "    \"\\t\".join(\n",
    "        (\"Page ID\", \"True Label\", \"Predicted Label\", \"Correct?\", \"Predicted Scores\")\n",
    "    )\n",
    ")\n",
    "for page_id, true_label, pred, pred_label in zip(\n",
    "    test_dataset.page_ids(),\n",
    "    test_dataset.labels(),\n",
    "    preds,\n",
    "    preds.argmax(dim=1),\n",
    "    strict=True,\n",
    "):\n",
    "    print(\n",
    "        \"\\t\".join(\n",
    "            (\n",
    "                page_id,\n",
    "                true_label.name,\n",
    "                Label(pred_label.item() + 1).name,\n",
    "                str(Label(pred_label.item() + 1) == true_label),\n",
    "                str(pred.tolist()),\n",
    "            )\n",
    "        )\n",
    "    )"
   ]
  },
  {
   "cell_type": "code",
   "execution_count": null,
   "metadata": {},
   "outputs": [
    {
     "ename": "RuntimeError",
     "evalue": "Only one of (input_data, input_size) should be specified.",
     "output_type": "error",
     "traceback": [
      "\u001b[0;31m---------------------------------------------------------------------------\u001b[0m",
      "\u001b[0;31mRuntimeError\u001b[0m                              Traceback (most recent call last)",
      "Cell \u001b[0;32mIn[119], line 3\u001b[0m\n\u001b[1;32m      1\u001b[0m \u001b[38;5;28;01mfrom\u001b[39;00m \u001b[38;5;21;01mtorchview\u001b[39;00m \u001b[38;5;28;01mimport\u001b[39;00m draw_graph\n\u001b[0;32m----> 3\u001b[0m model_graph \u001b[38;5;241m=\u001b[39m \u001b[43mdraw_graph\u001b[49m\u001b[43m(\u001b[49m\u001b[43mtagger\u001b[49m\u001b[43m)\u001b[49m\n\u001b[1;32m      4\u001b[0m \u001b[38;5;28mprint\u001b[39m(model_graph\u001b[38;5;241m.\u001b[39mvisual_graph)\n",
      "File \u001b[0;32m~/LAHTeR/workspace/document-segmentation/.venv/lib/python3.11/site-packages/torchview/torchview.py:180\u001b[0m, in \u001b[0;36mdraw_graph\u001b[0;34m(model, input_data, input_size, graph_name, depth, device, dtypes, mode, strict, expand_nested, graph_dir, hide_module_functions, hide_inner_tensors, roll, show_shapes, save_graph, filename, directory, **kwargs)\u001b[0m\n\u001b[1;32m    177\u001b[0m \u001b[38;5;28;01mif\u001b[39;00m graph_dir \u001b[38;5;129;01mis\u001b[39;00m \u001b[38;5;28;01mNone\u001b[39;00m:\n\u001b[1;32m    178\u001b[0m     graph_dir \u001b[38;5;241m=\u001b[39m \u001b[38;5;124m'\u001b[39m\u001b[38;5;124mTB\u001b[39m\u001b[38;5;124m'\u001b[39m\n\u001b[0;32m--> 180\u001b[0m \u001b[43mvalidate_user_params\u001b[49m\u001b[43m(\u001b[49m\n\u001b[1;32m    181\u001b[0m \u001b[43m    \u001b[49m\u001b[43mmodel\u001b[49m\u001b[43m,\u001b[49m\u001b[43m \u001b[49m\u001b[43minput_data\u001b[49m\u001b[43m,\u001b[49m\u001b[43m \u001b[49m\u001b[43minput_size\u001b[49m\u001b[43m,\u001b[49m\u001b[43m \u001b[49m\u001b[43mdepth\u001b[49m\u001b[43m,\u001b[49m\u001b[43m \u001b[49m\u001b[43mdevice\u001b[49m\u001b[43m,\u001b[49m\u001b[43m \u001b[49m\u001b[43mdtypes\u001b[49m\u001b[43m,\u001b[49m\n\u001b[1;32m    182\u001b[0m \u001b[43m\u001b[49m\u001b[43m)\u001b[49m\n\u001b[1;32m    184\u001b[0m graph_attr \u001b[38;5;241m=\u001b[39m {\n\u001b[1;32m    185\u001b[0m     \u001b[38;5;124m'\u001b[39m\u001b[38;5;124mordering\u001b[39m\u001b[38;5;124m'\u001b[39m: \u001b[38;5;124m'\u001b[39m\u001b[38;5;124min\u001b[39m\u001b[38;5;124m'\u001b[39m,\n\u001b[1;32m    186\u001b[0m     \u001b[38;5;124m'\u001b[39m\u001b[38;5;124mrankdir\u001b[39m\u001b[38;5;124m'\u001b[39m: graph_dir,\n\u001b[1;32m    187\u001b[0m }\n\u001b[1;32m    189\u001b[0m \u001b[38;5;66;03m# visual settings from torchviz\u001b[39;00m\n\u001b[1;32m    190\u001b[0m \u001b[38;5;66;03m# seems to work visually well\u001b[39;00m\n",
      "File \u001b[0;32m~/LAHTeR/workspace/document-segmentation/.venv/lib/python3.11/site-packages/torchview/torchview.py:325\u001b[0m, in \u001b[0;36mvalidate_user_params\u001b[0;34m(model, input_data, input_size, depth, device, dtypes)\u001b[0m\n\u001b[1;32m    323\u001b[0m one_input_specified \u001b[38;5;241m=\u001b[39m (input_data \u001b[38;5;129;01mis\u001b[39;00m \u001b[38;5;28;01mNone\u001b[39;00m) \u001b[38;5;241m!=\u001b[39m (input_size \u001b[38;5;129;01mis\u001b[39;00m \u001b[38;5;28;01mNone\u001b[39;00m)\n\u001b[1;32m    324\u001b[0m \u001b[38;5;28;01mif\u001b[39;00m \u001b[38;5;129;01mnot\u001b[39;00m one_input_specified:\n\u001b[0;32m--> 325\u001b[0m     \u001b[38;5;28;01mraise\u001b[39;00m \u001b[38;5;167;01mRuntimeError\u001b[39;00m(\u001b[38;5;124m\"\u001b[39m\u001b[38;5;124mOnly one of (input_data, input_size) should be specified.\u001b[39m\u001b[38;5;124m\"\u001b[39m)\n\u001b[1;32m    327\u001b[0m \u001b[38;5;28;01mif\u001b[39;00m dtypes \u001b[38;5;129;01mis\u001b[39;00m \u001b[38;5;129;01mnot\u001b[39;00m \u001b[38;5;28;01mNone\u001b[39;00m \u001b[38;5;129;01mand\u001b[39;00m \u001b[38;5;28many\u001b[39m(\n\u001b[1;32m    328\u001b[0m     dtype \u001b[38;5;129;01min\u001b[39;00m (torch\u001b[38;5;241m.\u001b[39mfloat16, torch\u001b[38;5;241m.\u001b[39mbfloat16) \u001b[38;5;28;01mfor\u001b[39;00m dtype \u001b[38;5;129;01min\u001b[39;00m dtypes\n\u001b[1;32m    329\u001b[0m ):\n\u001b[1;32m    330\u001b[0m     \u001b[38;5;28;01mif\u001b[39;00m input_size \u001b[38;5;129;01mis\u001b[39;00m \u001b[38;5;129;01mnot\u001b[39;00m \u001b[38;5;28;01mNone\u001b[39;00m:\n",
      "\u001b[0;31mRuntimeError\u001b[0m: Only one of (input_data, input_size) should be specified."
     ]
    }
   ],
   "source": [
    "from torchview import draw_graph\n",
    "\n",
    "model_graph = draw_graph(tagger)\n",
    "print(model_graph.visual_graph)"
   ]
  }
 ],
 "metadata": {
  "kernelspec": {
   "display_name": ".venv",
   "language": "python",
   "name": "python3"
  },
  "language_info": {
   "codemirror_mode": {
    "name": "ipython",
    "version": 3
   },
   "file_extension": ".py",
   "mimetype": "text/x-python",
   "name": "python",
   "nbconvert_exporter": "python",
   "pygments_lexer": "ipython3",
   "version": "3.11.2"
  }
 },
 "nbformat": 4,
 "nbformat_minor": 2
}
