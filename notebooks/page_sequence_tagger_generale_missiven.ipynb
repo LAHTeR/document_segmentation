{
 "cells": [
  {
   "cell_type": "code",
   "execution_count": 1,
   "metadata": {},
   "outputs": [],
   "source": [
    "%load_ext autoreload\n",
    "%autoreload now"
   ]
  },
  {
   "cell_type": "code",
   "execution_count": 2,
   "metadata": {},
   "outputs": [],
   "source": [
    "import os\n",
    "\n",
    "os.environ[\"CUDA_VISIBLE_DEVICES\"] = \"MIG-08137aa2-e69b-5e74-8390-7997329b1336\"\n",
    "# os.environ[\"WORLD_SIZE\"] = \"1\""
   ]
  },
  {
   "cell_type": "markdown",
   "metadata": {},
   "source": [
    "# Download and convert data"
   ]
  },
  {
   "cell_type": "code",
   "execution_count": 1,
   "metadata": {},
   "outputs": [
    {
     "name": "stderr",
     "output_type": "stream",
     "text": [
      "Writing documents:  12%|█▏        | 114/914 [04:00<30:03,  2.25s/doc] "
     ]
    },
    {
     "name": "stdout",
     "output_type": "stream",
     "text": [
      "Skipping row with inventory number 1171 due to reason: 'Niet gedigitaliseerd.'\n"
     ]
    },
    {
     "name": "stderr",
     "output_type": "stream",
     "text": [
      "Writing documents:  36%|███▋      | 332/914 [14:04<17:26,  1.80s/doc]  "
     ]
    },
    {
     "name": "stdout",
     "output_type": "stream",
     "text": [
      "Skipping inventory '1684' due to error: 404 Client Error: Not Found for url: https://hucdrive.huc.knaw.nl/HTR/obp-v2-pagexml-leon-metadata-trimmed-2023-11/1684.zip\n"
     ]
    },
    {
     "name": "stderr",
     "output_type": "stream",
     "text": [
      "Writing documents:  36%|███▋      | 333/914 [14:05<14:28,  1.50s/doc]"
     ]
    },
    {
     "name": "stdout",
     "output_type": "stream",
     "text": [
      "Skipping inventory '1684' due to error: 404 Client Error: Not Found for url: https://hucdrive.huc.knaw.nl/HTR/obp-v2-pagexml-leon-metadata-trimmed-2023-11/1684.zip\n"
     ]
    },
    {
     "name": "stderr",
     "output_type": "stream",
     "text": [
      "Writing documents:  37%|███▋      | 334/914 [14:05<12:00,  1.24s/doc]"
     ]
    },
    {
     "name": "stdout",
     "output_type": "stream",
     "text": [
      "Skipping inventory '1684' due to error: 404 Client Error: Not Found for url: https://hucdrive.huc.knaw.nl/HTR/obp-v2-pagexml-leon-metadata-trimmed-2023-11/1684.zip\n"
     ]
    },
    {
     "name": "stderr",
     "output_type": "stream",
     "text": [
      "Writing documents:  42%|████▏     | 386/914 [17:16<30:44,  3.49s/doc]  "
     ]
    },
    {
     "name": "stdout",
     "output_type": "stream",
     "text": [
      "Skipping inventory '1887' due to error: 404 Client Error: Not Found for url: https://hucdrive.huc.knaw.nl/HTR/obp-v2-pagexml-leon-metadata-trimmed-2023-11/1887.zip\n"
     ]
    },
    {
     "name": "stderr",
     "output_type": "stream",
     "text": [
      "Writing documents:  44%|████▍     | 405/914 [18:37<32:50,  3.87s/doc]"
     ]
    }
   ],
   "source": [
    "from tqdm import tqdm\n",
    "\n",
    "from document_segmentation.pagexml.annotations.generale_missiven import GeneraleMissiven\n",
    "from document_segmentation.settings import (\n",
    "    GENERALE_MISSIVEN_DOCUMENT_DIR,\n",
    "    GENERALE_MISSIVEN_SHEET,\n",
    ")\n",
    "\n",
    "N = None\n",
    "\n",
    "GENERALE_MISSIVEN_DOCUMENT_DIR.mkdir(parents=True, exist_ok=True)\n",
    "\n",
    "sheet = GeneraleMissiven(GENERALE_MISSIVEN_SHEET)\n",
    "\n",
    "existing_docs = {\n",
    "    path.stem\n",
    "    for path in GENERALE_MISSIVEN_DOCUMENT_DIR.glob(\"*.json\")\n",
    "    if path.is_file()\n",
    "}\n",
    "\n",
    "for document in tqdm(\n",
    "    sheet.to_documents(n=N, skip_ids=existing_docs),\n",
    "    total=(N or len(sheet)) - len(existing_docs),\n",
    "    desc=\"Writing documents\",\n",
    "    unit=\"doc\",\n",
    "):\n",
    "    document_file = GENERALE_MISSIVEN_DOCUMENT_DIR / f\"{document.id}.json\"\n",
    "\n",
    "    with document_file.open(\"xt\") as f:\n",
    "        f.write(document.model_dump_json())\n",
    "        f.write(\"\\n\")"
   ]
  },
  {
   "cell_type": "markdown",
   "metadata": {},
   "source": [
    "# Load Data"
   ]
  },
  {
   "cell_type": "code",
   "execution_count": 4,
   "metadata": {},
   "outputs": [],
   "source": [
    "%autoreload now"
   ]
  },
  {
   "cell_type": "code",
   "execution_count": 5,
   "metadata": {},
   "outputs": [],
   "source": [
    "TRAINING_DATA = 0.8"
   ]
  },
  {
   "cell_type": "code",
   "execution_count": 6,
   "metadata": {},
   "outputs": [
    {
     "name": "stderr",
     "output_type": "stream",
     "text": [
      "Reading JSON files:  21%|██▏       | 194/909 [00:15<00:21, 33.03file/s]WARNING:root:No pages found in document id='352' inventory_nr=1684 inventory_part=None pages=[].\n",
      "Reading JSON files:  68%|██████▊   | 614/909 [00:56<00:16, 17.92file/s]WARNING:root:No pages found in document id='412' inventory_nr=1887 inventory_part=None pages=[].\n",
      "Reading JSON files:  68%|██████▊   | 620/909 [00:56<00:15, 18.13file/s]WARNING:root:No pages found in document id='353' inventory_nr=1684 inventory_part=None pages=[].\n",
      "Reading JSON files:  96%|█████████▌| 869/909 [01:20<00:04,  9.60file/s]WARNING:root:No pages found in document id='354' inventory_nr=1684 inventory_part=None pages=[].\n",
      "Reading JSON files: 100%|██████████| 909/909 [01:25<00:00, 10.65file/s]\n"
     ]
    },
    {
     "data": {
      "text/plain": [
       "191146"
      ]
     },
     "execution_count": 6,
     "metadata": {},
     "output_type": "execute_result"
    }
   ],
   "source": [
    "from document_segmentation.model.dataset import PageDataset\n",
    "from document_segmentation.settings import MIN_REGION_TEXT_LENGTH\n",
    "\n",
    "dataset = PageDataset.from_dir(GENERALE_MISSIVEN_DOCUMENT_DIR).remove_short_regions(\n",
    "    MIN_REGION_TEXT_LENGTH\n",
    ")\n",
    "len(dataset)"
   ]
  },
  {
   "cell_type": "code",
   "execution_count": 7,
   "metadata": {},
   "outputs": [
    {
     "data": {
      "text/plain": [
       "Counter({<Label.IN: 2>: 189343, <Label.BEGIN: 1>: 905, <Label.END: 3>: 898})"
      ]
     },
     "execution_count": 7,
     "metadata": {},
     "output_type": "execute_result"
    }
   ],
   "source": [
    "dataset._class_counts()"
   ]
  },
  {
   "cell_type": "code",
   "execution_count": 8,
   "metadata": {},
   "outputs": [
    {
     "data": {
      "text/plain": [
       "[210.97792494481237, 1.0095170694608755, 212.6206896551724, 191146.0]"
      ]
     },
     "execution_count": 8,
     "metadata": {},
     "output_type": "execute_result"
    }
   ],
   "source": [
    "dataset.class_weights()"
   ]
  },
  {
   "cell_type": "code",
   "execution_count": 9,
   "metadata": {},
   "outputs": [
    {
     "data": {
      "text/plain": [
       "Page(label=<Label.IN: 2>, regions=[Region(id='region_ae02e415-afa1-48f8-aeef-2ad2960df7fc_8', types=(<RegionType.TEXT_REGION: 'text_region'>, <RegionType.MARGINALIA: 'marginalia'>, <RegionType.PHYSICAL_STRUCTURE_DOC: 'physical_structure_doc'>, <RegionType.PAGEXML_DOC: 'pagexml_doc'>), coordinates=((451, 882), (455, 886), (455, 907), (460, 911), (460, 915), (468, 923), (468, 927), (472, 927), (480, 936), (501, 936), (505, 940), (551, 940), (555, 936), (580, 936), (584, 931), (613, 931), (617, 927), (675, 927), (679, 931), (725, 931), (729, 936), (870, 936), (874, 931), (886, 931), (894, 923), (899, 923), (907, 915), (911, 915), (915, 911), (923, 911), (927, 907), (940, 907), (944, 902), (948, 902), (956, 894), (961, 894), (965, 890), (977, 890), (981, 886), (998, 886), (1002, 882), (1027, 882), (1031, 878), (1048, 878), (1056, 869), (1060, 869), (1060, 861), (1064, 857), (1064, 844), (1068, 840), (1068, 828), (1072, 824), (1072, 820), (1077, 816), (1077, 807), (1081, 803), (1081, 766), (1077, 762), (1077, 753), (1068, 745), (1064, 745), (1060, 741), (1056, 741), (1052, 737), (1043, 737), (1039, 733), (1027, 733), (1023, 729), (1006, 729), (1002, 724), (969, 724), (965, 720), (961, 720), (956, 716), (952, 716), (948, 712), (787, 712), (783, 708), (683, 708), (679, 704), (650, 704), (646, 700), (613, 700), (609, 695), (518, 695), (513, 700), (509, 700), (505, 704), (501, 704), (497, 708), (493, 708), (480, 720), (480, 724), (472, 733), (472, 741), (468, 745), (468, 749), (464, 753), (464, 762), (460, 766), (460, 807), (455, 811), (455, 840), (451, 844)), lines=(\"die voor 's Comp:s pant„\", 'verdeet zyn')), Region(id='region_75d25d3b-558b-476b-b1d6-459054620de2_7', types=(<RegionType.TEXT_REGION: 'text_region'>, <RegionType.MARGINALIA: 'marginalia'>, <RegionType.PHYSICAL_STRUCTURE_DOC: 'physical_structure_doc'>, <RegionType.PAGEXML_DOC: 'pagexml_doc'>), coordinates=((435, 2438), (435, 2480), (431, 2484), (431, 2496), (435, 2500), (435, 2517), (439, 2521), (439, 2600), (443, 2604), (443, 2612), (451, 2620), (451, 2625), (455, 2625), (460, 2629), (464, 2629), (468, 2633), (476, 2633), (480, 2637), (489, 2637), (493, 2641), (497, 2641), (501, 2645), (513, 2645), (518, 2649), (547, 2649), (551, 2645), (571, 2645), (576, 2641), (605, 2641), (609, 2637), (638, 2637), (642, 2633), (741, 2633), (745, 2629), (762, 2629), (766, 2625), (803, 2625), (807, 2620), (812, 2620), (816, 2616), (828, 2616), (832, 2612), (841, 2612), (845, 2608), (861, 2608), (865, 2604), (874, 2604), (878, 2600), (890, 2600), (894, 2596), (907, 2596), (911, 2591), (927, 2591), (932, 2596), (936, 2596), (940, 2591), (952, 2591), (956, 2587), (965, 2587), (969, 2583), (1019, 2583), (1023, 2579), (1039, 2579), (1043, 2575), (1048, 2575), (1056, 2567), (1060, 2567), (1068, 2558), (1077, 2558), (1081, 2554), (1081, 2546), (1085, 2542), (1085, 2525), (1089, 2521), (1089, 2496), (1085, 2492), (1085, 2488), (1081, 2484), (1081, 2480), (1077, 2476), (1077, 2430), (1072, 2426), (1072, 2422), (1056, 2405), (1014, 2405), (1010, 2401), (961, 2401), (956, 2397), (936, 2397), (932, 2393), (899, 2393), (894, 2389), (849, 2389), (845, 2393), (836, 2393), (832, 2389), (762, 2389), (758, 2384), (497, 2384), (493, 2389), (489, 2389), (484, 2393), (480, 2393), (476, 2397), (472, 2397), (468, 2401), (464, 2401), (460, 2405), (455, 2405), (451, 2409), (451, 2413), (443, 2422), (443, 2426), (439, 2430), (439, 2434)), lines=('omwelke reden 3.', 'pantchiallangs vrogt', 'werden')), Region(id='region_2377d1f8-5576-4090-867e-f0faa2aa830a_6', types=(<RegionType.TEXT_REGION: 'text_region'>, <RegionType.MARGINALIA: 'marginalia'>, <RegionType.PHYSICAL_STRUCTURE_DOC: 'physical_structure_doc'>, <RegionType.PAGEXML_DOC: 'pagexml_doc'>), coordinates=((2770, 3328), (2770, 3415), (2774, 3419), (2774, 3440), (2778, 3444), (2778, 3448), (2782, 3452), (2787, 3452), (2799, 3465), (2803, 3465), (2807, 3469), (2828, 3469), (2832, 3473), (2869, 3473), (2874, 3477), (2944, 3477), (2948, 3473), (2994, 3473), (2998, 3469), (3018, 3469), (3023, 3465), (3068, 3465), (3072, 3461), (3089, 3461), (3093, 3457), (3110, 3457), (3114, 3452), (3126, 3452), (3130, 3448), (3139, 3448), (3147, 3440), (3151, 3440), (3155, 3436), (3163, 3436), (3168, 3432), (3192, 3432), (3197, 3428), (3205, 3428), (3209, 3423), (3213, 3423), (3217, 3419), (3234, 3419), (3238, 3415), (3267, 3415), (3271, 3411), (3296, 3411), (3300, 3407), (3312, 3407), (3317, 3403), (3333, 3403), (3337, 3399), (3346, 3399), (3350, 3395), (3358, 3395), (3362, 3390), (3370, 3390), (3370, 3328), (3366, 3324), (3362, 3324), (3354, 3316), (3350, 3316), (3333, 3299), (3325, 3299), (3321, 3295), (3317, 3295), (3308, 3287), (3300, 3287), (3296, 3283), (3283, 3283), (3279, 3279), (3271, 3279), (3267, 3274), (3255, 3274), (3250, 3270), (3230, 3270), (3226, 3266), (3209, 3266), (3205, 3262), (3192, 3262), (3188, 3258), (3172, 3258), (3168, 3254), (3155, 3254), (3151, 3250), (2969, 3250), (2965, 3254), (2936, 3254), (2932, 3258), (2919, 3258), (2915, 3262), (2898, 3262), (2894, 3266), (2882, 3266), (2878, 3270), (2861, 3270), (2857, 3274), (2840, 3274), (2836, 3279), (2824, 3279), (2820, 3283), (2816, 3283), (2811, 3287), (2807, 3287), (2778, 3316), (2778, 3320)), lines=('maer de Z: O:t Eijlanden', 'vertrocken')), Region(id='region_215df0f8-00e7-4681-8390-54192d275218_1', types=(<RegionType.TEXT_REGION: 'text_region'>, <RegionType.PHYSICAL_STRUCTURE_DOC: 'physical_structure_doc'>, <RegionType.PARAGRAPH: 'paragraph'>, <RegionType.PAGEXML_DOC: 'pagexml_doc'>), coordinates=((2774, 592), (2720, 588), (2592, 609), (2261, 604), (1979, 617), (1793, 617), (1648, 604), (1246, 613), (1192, 604), (1126, 638), (1118, 687), (1122, 700), (1114, 716), (1077, 749), (1085, 766), (1085, 803), (1064, 861), (1085, 915), (1081, 956), (1101, 1076), (1106, 1151), (1139, 1279), (1135, 1441), (1143, 1478), (1143, 1697), (1130, 1784), (1135, 1991), (1122, 2120), (1126, 2277), (1093, 2405), (1101, 2480), (1093, 2492), (1085, 2546), (1097, 2600), (1093, 2687), (1110, 2803), (1126, 3154), (1139, 3217), (1135, 3403), (1101, 3560), (1106, 3589), (1118, 3606), (1164, 3622), (1213, 3622), (1263, 3610), (1337, 3606), (1495, 3614), (2352, 3614), (2414, 3606), (2588, 3601), (2642, 3614), (2708, 3643), (2737, 3639), (2766, 3614), (2782, 3573), (2774, 3444), (2766, 3415), (2766, 3266), (2778, 3159), (2762, 3039), (2766, 2774), (2749, 2654), (2753, 2492), (2745, 2447), (2741, 2273), (2758, 2198), (2766, 1962), (2758, 1896), (2753, 1143), (2762, 1068), (2758, 907), (2799, 695), (2795, 625)), lines=('Pantchiallang niet bang waren', '„chiallang niet de„ maar deselve kunnende magt', 'werden wel wat anders zoud', 'doen tot wraak over het nem', 'van Een hunner vaartuijgen', \"onder 't Eijland Wokam in den\", \"voorleden Iare 't geen de minist\", 'heeft gepermoveert om bij voorn', 'briev van den 15„en aug:s in plaats', 'van de pantchiallangs Nova', 'hollandia, Lethij, en de voorn,', 'alsoo de eerste in den voorleden', 'Jaare afgelopen en verbrand', 'de tweede vermist is, en de derd', 'werden om 3. nieuwe niet')), Region(id='region_963c3538-4b10-4988-aaa6-46b65c8d3440_2', types=(<RegionType.TEXT_REGION: 'text_region'>, <RegionType.PHYSICAL_STRUCTURE_DOC: 'physical_structure_doc'>, <RegionType.PARAGRAPH: 'paragraph'>, <RegionType.PAGEXML_DOC: 'pagexml_doc'>), coordinates=((5064, 567), (5023, 563), (4882, 604), (4782, 617), (4563, 596), (3731, 604), (3470, 617), (3424, 629), (3399, 650), (3399, 758), (3387, 861), (3395, 882), (3395, 1051), (3416, 1283), (3416, 1706), (3404, 1888), (3412, 2774), (3391, 2935), (3391, 3179), (3412, 3233), (3412, 3274), (3375, 3328), (3375, 3395), (3408, 3440), (3391, 3515), (3391, 3577), (3428, 3614), (3495, 3626), (3602, 3610), (4811, 3601), (5085, 3618), (5118, 3597), (5130, 3552), (5122, 3254), (5101, 3167), (5089, 2972), (5056, 2931), (4890, 2939), (4816, 2923), (4646, 2914), (4045, 2931), (3710, 2902), (3611, 2914), (3569, 2889), (3573, 2869), (3598, 2852), (3822, 2860), (3946, 2819), (3979, 2790), (3971, 2728), (3987, 2691), (4008, 2670), (4066, 2654), (4174, 2645), (4493, 2654), (4571, 2645), (4956, 2649), (5047, 2637), (5081, 2616), (5097, 2567), (5093, 2418), (5101, 2393), (5089, 2074), (5105, 1718), (5105, 1022), (5085, 886), (5089, 609)), lines=('alleen aan ons versoek, maar', 'ook een voorslag tedoen, ten', 'Eijnde in plaatse van een, drie', 'wel bemande pantchiallangs', 'op die swervers uijt tesenden,', 'en des mogelijk te overmeesteren', 'dan wel van daar te verjagen', 'waar op men bij het houden der', 'besoignes de nodige reflexie', 'zal nemen en den Eijsch dier', 'vaartuijgen naar vermogen', 'voldoen.', \"Voorts was op den 17:' maart\", 'deses Iaars om de posthouders', 'nodige naar usantie te voorsten', 'door ouderdom staat afgelegt te zijn gecommitteerd:s op de Z: O„ter Eijlanden van het'))], scan_nr=57, doc_id='NL-HaNA_1.04.02_2113_0057.jpg')"
      ]
     },
     "execution_count": 9,
     "metadata": {},
     "output_type": "execute_result"
    }
   ],
   "source": [
    "dataset[5000]"
   ]
  },
  {
   "cell_type": "code",
   "execution_count": 10,
   "metadata": {},
   "outputs": [
    {
     "data": {
      "text/plain": [
       "Counter({<Label.IN: 2>: 151442, <Label.BEGIN: 1>: 740, <Label.END: 3>: 734})"
      ]
     },
     "execution_count": 10,
     "metadata": {},
     "output_type": "execute_result"
    }
   ],
   "source": [
    "split = int(len(dataset) * TRAINING_DATA)\n",
    "\n",
    "training_data = dataset[:split]\n",
    "training_data._class_counts()"
   ]
  },
  {
   "cell_type": "code",
   "execution_count": 11,
   "metadata": {},
   "outputs": [
    {
     "data": {
      "text/plain": [
       "Counter({<Label.IN: 2>: 37901, <Label.BEGIN: 1>: 165, <Label.END: 3>: 164})"
      ]
     },
     "execution_count": 11,
     "metadata": {},
     "output_type": "execute_result"
    }
   ],
   "source": [
    "test_data = dataset[split:]\n",
    "test_data._class_counts()"
   ]
  },
  {
   "cell_type": "markdown",
   "metadata": {},
   "source": [
    "# Train Model"
   ]
  },
  {
   "cell_type": "code",
   "execution_count": 12,
   "metadata": {},
   "outputs": [],
   "source": [
    "import torch\n",
    "\n",
    "BATCH_SIZE = 32\n",
    "EPOCHS = 3\n",
    "WEIGHTS = torch.Tensor(dataset.class_weights())  # For an imbalanced dataset"
   ]
  },
  {
   "cell_type": "code",
   "execution_count": 13,
   "metadata": {},
   "outputs": [],
   "source": [
    "%autoreload now"
   ]
  },
  {
   "cell_type": "code",
   "execution_count": 14,
   "metadata": {},
   "outputs": [
    {
     "name": "stderr",
     "output_type": "stream",
     "text": [
      "/home/carstens/workspace/.venv/lib/python3.10/site-packages/torch/nn/modules/rnn.py:83: UserWarning: dropout option adds dropout after all but last recurrent layer, so non-zero dropout expects num_layers greater than 1, but got dropout=0.1 and num_layers=1\n",
      "  warnings.warn(\"dropout option adds dropout after all but last \"\n"
     ]
    }
   ],
   "source": [
    "from document_segmentation.model.page_sequence_tagger import PageSequenceTagger\n",
    "\n",
    "tagger = PageSequenceTagger()"
   ]
  },
  {
   "cell_type": "code",
   "execution_count": 15,
   "metadata": {},
   "outputs": [
    {
     "data": {
      "text/plain": [
       "'cuda'"
      ]
     },
     "execution_count": 15,
     "metadata": {},
     "output_type": "execute_result"
    }
   ],
   "source": [
    "tagger._device"
   ]
  },
  {
   "cell_type": "code",
   "execution_count": 16,
   "metadata": {},
   "outputs": [
    {
     "data": {
      "text/plain": [
       "PageSequenceTagger(\n",
       "  (_page_embedding): PageEmbedding(\n",
       "    (_region_model): RegionEmbeddingSentenceTransformer(\n",
       "      (_transformer_model): SentenceTransformer(\n",
       "        (0): Transformer({'max_seq_length': 128, 'do_lower_case': False}) with Transformer model: RobertaModel \n",
       "        (1): Pooling({'word_embedding_dimension': 768, 'pooling_mode_cls_token': False, 'pooling_mode_mean_tokens': True, 'pooling_mode_max_tokens': False, 'pooling_mode_mean_sqrt_len_tokens': False, 'pooling_mode_weightedmean_tokens': False, 'pooling_mode_lasttoken': False})\n",
       "      )\n",
       "      (_region_type): Embedding(9, 16)\n",
       "      (_linear): Linear(in_features=784, out_features=128, bias=True)\n",
       "    )\n",
       "    (_rnn): LSTM(128, 128, batch_first=True, dropout=0.1, bidirectional=True)\n",
       "    (_linear): Linear(in_features=256, out_features=128, bias=True)\n",
       "  )\n",
       "  (_rnn): LSTM(128, 64, batch_first=True, dropout=0.1, bidirectional=True)\n",
       "  (_linear): Linear(in_features=128, out_features=4, bias=True)\n",
       "  (_softmax): Softmax(dim=1)\n",
       ")"
      ]
     },
     "execution_count": 16,
     "metadata": {},
     "output_type": "execute_result"
    }
   ],
   "source": [
    "tagger"
   ]
  },
  {
   "cell_type": "code",
   "execution_count": 17,
   "metadata": {},
   "outputs": [
    {
     "name": "stderr",
     "output_type": "stream",
     "text": [
      "313batch [06:34,  1.26s/batch]                        \n"
     ]
    },
    {
     "name": "stdout",
     "output_type": "stream",
     "text": [
      "[Loss:\t1.624]\n"
     ]
    },
    {
     "name": "stderr",
     "output_type": "stream",
     "text": [
      "313batch [00:14, 21.18batch/s]                        \n"
     ]
    },
    {
     "name": "stdout",
     "output_type": "stream",
     "text": [
      "[Loss:\t1.557]\n"
     ]
    },
    {
     "name": "stderr",
     "output_type": "stream",
     "text": [
      "313batch [00:14, 21.03batch/s]                        "
     ]
    },
    {
     "name": "stdout",
     "output_type": "stream",
     "text": [
      "[Loss:\t1.580]\n"
     ]
    },
    {
     "name": "stderr",
     "output_type": "stream",
     "text": [
      "\n"
     ]
    }
   ],
   "source": [
    "tagger.train_(training_data, EPOCHS, BATCH_SIZE, WEIGHTS.to(tagger._device))"
   ]
  },
  {
   "cell_type": "markdown",
   "metadata": {},
   "source": [
    "# Evaluate Model"
   ]
  },
  {
   "cell_type": "code",
   "execution_count": 18,
   "metadata": {},
   "outputs": [
    {
     "name": "stdout",
     "output_type": "stream",
     "text": [
      "Predicted\tActual\tPage ID\tText\tScores\n"
     ]
    },
    {
     "name": "stderr",
     "output_type": "stream",
     "text": [
      "  0%|          | 1/1194.6875 [00:01<25:10,  1.27s/batch]"
     ]
    },
    {
     "name": "stdout",
     "output_type": "stream",
     "text": [
      "BEGIN\tIN\tNL-HaNA_1.04.02_3655_0704.jpg\taan bevolene voor; sigtigheijd hier om; taend; gel\t[0.49982118606567383, 0.10057077556848526, 0.39904433488845825, 0.0005636932328343391]\n",
      "BEGIN\tIN\tNL-HaNA_1.04.02_3655_0705.jpg\tden aan de vesting; werken te besteeden; gen nieuw\t[0.5101383924484253, 0.08944611251354218, 0.40011852979660034, 0.00029701655148528516]\n",
      "BEGIN\tIN\tNL-HaNA_1.04.02_3655_0706.jpg\t„durven Cadjang en 8402½ lb: Car„; „waat Ceijlon a\t[0.5108591914176941, 0.08565764874219894, 0.4032462537288666, 0.00023693002003710717]\n",
      "BEGIN\tIN\tNL-HaNA_1.04.02_3655_0707.jpg\taanmerking op de; veragtende staat; ment:t; van 17\t[0.5149756073951721, 0.08391320705413818, 0.40088680386543274, 0.00022434852144215256]\n",
      "BEGIN\tIN\tNL-HaNA_1.04.02_3655_0708.jpg\tegter op hope van; beteaftchap in tijds; vervolg; \t[0.509358823299408, 0.08407554030418396, 0.4063514769077301, 0.00021412863861769438]\n",
      "BEGIN\tIN\tNL-HaNA_1.04.02_3655_0709.jpg\tremarqie op der; min s eijsch uit Neder„; land; on\t[0.5147278308868408, 0.0829651951789856, 0.4020934998989105, 0.0002134528331225738]\n",
      "BEGIN\tIN\tNL-HaNA_1.04.02_3655_0710.jpg\tegter eenigzins ver„; mindert op erlangde; onderri\t[0.5112255811691284, 0.08311698585748672, 0.40545085072517395, 0.00020655350817833096]\n",
      "BEGIN\tIN\tNL-HaNA_1.04.02_3655_0711.jpg\tpomettij aan Nababs; volk waren terug gege; ren; d\t[0.5114769339561462, 0.08274418115615845, 0.4055759906768799, 0.00020287648658268154]\n",
      "BEGIN\tIN\tNL-HaNA_1.04.02_3655_0712.jpg\tmislijdende op gave; van eenige door de En; nobaai\t[0.5111825466156006, 0.08287076652050018, 0.40574321150779724, 0.0002034698409261182]\n",
      "BEGIN\tIN\tNL-HaNA_1.04.02_3655_0713.jpg\t§ 54. Onder de; Huijsselijke bestellingen is het e\t[0.5043560862541199, 0.08460105210542679, 0.41083672642707825, 0.00020613384549506009]\n",
      "BEGIN\tIN\tNL-HaNA_1.04.02_3655_0714.jpg\thoope op een merkeli; „ke reductie der be; stellin\t[0.5028772950172424, 0.08458530157804489, 0.4123326241970062, 0.00020477239741012454]\n",
      "BEGIN\tIN\tNL-HaNA_1.04.02_3655_0715.jpg\tte; 1. Ian daar hebben wij ontvangen; eene Misse„e\t[0.5022844076156616, 0.08441639691591263, 0.4130958914756775, 0.00020334456348791718]\n",
      "BEGIN\tIN\tNL-HaNA_1.04.02_3655_0716.jpg\tBrootchia onder den; tweden Resident ge; laten; ve\t[0.5001409649848938, 0.0844535380601883, 0.41520240902900696, 0.0002030398027272895]\n",
      "BEGIN\tIN\tNL-HaNA_1.04.02_3655_0717.jpg\tMesures ter overgave; de onze door dat kan; toor; \t[0.5113422274589539, 0.08201967924833298, 0.40643441677093506, 0.0002036498044617474]\n",
      "BEGIN\tIN\tNL-HaNA_1.04.02_3655_0718.jpg\tlading van het derw:; gesondene schip Taom; penbur\t[0.5131242275238037, 0.0820801854133606, 0.4045890271663666, 0.00020652248349506408]\n",
      "BEGIN\tIN\tNL-HaNA_1.04.02_3655_0719.jpg\t25032: lb: ijzer lat in soort; 844. „ Eliphants Ta\t[0.4978855550289154, 0.08517918735742569, 0.4167221188545227, 0.00021315470803529024]\n",
      "BEGIN\tIN\tNL-HaNA_1.04.02_3655_0720.jpg\taanbesteding voor het; toekomende Iaar; „land te k\t[0.49612143635749817, 0.08484495431184769, 0.4188076853752136, 0.00022584428370464593]\n",
      "BEGIN\tIN\tNL-HaNA_1.04.02_3655_0721.jpg\tde benodigde Zeeva; rende van 't schip te; ligten;\t[0.4798735976219177, 0.10010113567113876, 0.4195058345794678, 0.0005194212426431477]\n",
      "BEGIN\tIN\tNL-HaNA_1.04.02_3655_0722.jpg\t§ 12: Op het vertoog van; het douceur van 178½ gem\t[0.49528077244758606, 0.08941181004047394, 0.4150809049606323, 0.00022646265279036015]\n",
      "BEGIN\tIN\tNL-HaNA_1.04.02_3655_0723.jpg\tverevening door; sluisken van zekere; Comp:; verli\t[0.509213387966156, 0.0827968642115593, 0.407789945602417, 0.00019977978081442416]\n",
      "BEGIN\tIN\tNL-HaNA_1.04.02_3655_0724.jpg\t§ 14. Dog desselfs Request,; berekening van ze om \t[0.4872933626174927, 0.09008954465389252, 0.4223928153514862, 0.00022435715072788298]\n",
      "BEGIN\tIN\tNL-HaNA_1.04.02_3655_0725.jpg\tverkoop op China; door sluisken van; een scheepje;\t[0.5111491680145264, 0.08203677088022232, 0.4066109359264374, 0.00020318335737101734]\n",
      "BEGIN\tIN\tNL-HaNA_1.04.02_3655_0726.jpg\t§ 17 Sluikken ook bedeelt; hebbende, dat de Marett\t[0.5003103613853455, 0.0847242996096611, 0.4147580564022064, 0.000207328557735309]\n",
      "BEGIN\tIN\tNL-HaNA_1.04.02_3655_0727.jpg\tsterk volk, en tot eene getrouwe be„; „handeling d\t[0.4963502585887909, 0.08525348454713821, 0.41818299889564514, 0.0002133226953446865]\n",
      "BEGIN\tIN\tNL-HaNA_1.04.02_3655_0728.jpg\tInkoop alhier van n; vaartuig door een; persiaan t\t[0.4841763377189636, 0.08756069839000702, 0.4280254542827606, 0.00023752293782308698]\n",
      "BEGIN\tIN\tNL-HaNA_1.04.02_3655_0729.jpg\tde ontbeekende ceij„; laas voor de rctour; scheepe\t[0.4726770520210266, 0.1011008769273758, 0.42568108439445496, 0.0005409615114331245]\n",
      "BEGIN\tIN\tNL-HaNA_1.04.02_3655_0730.jpg\tremarque op het ne„; verstaande voorval; § 4 Teffe\t[0.5079368948936462, 0.08306734263896942, 0.40878525376319885, 0.00021053255477454513]\n",
      "BEGIN\tIN\tNL-HaNA_1.04.02_3655_0731.jpg\tpsuim omtrend; tut schip 'T huis te; spijk.; renvo\t[0.5017990469932556, 0.08410655707120895, 0.41387882828712463, 0.00021555623970925808]\n",
      "BEGIN\tIN\tNL-HaNA_1.04.02_3655_0732.jpg\tgemiste goederen in 't; schip 't Zeepaard.; de ter\t[0.4958023428916931, 0.08542349189519882, 0.41854071617126465, 0.0002334010787308216]\n",
      "BEGIN\tIN\tNL-HaNA_1.04.02_3655_0733.jpg\tofgesondene goederen; na batavia uit de; gehuur de\t[0.4859510660171509, 0.08928672969341278, 0.42446479201316833, 0.0002973919326905161]\n",
      "BEGIN\tIN\tNL-HaNA_1.04.02_3655_0734.jpg\twillekeurig gedrag; van de Min r in 't lig; voor J\t[0.4529483914375305, 0.11338332295417786, 0.4327217936515808, 0.0009464968461543322]\n",
      "BEGIN\tIN\tNL-HaNA_1.04.02_3655_0735.jpg\traabsche eijsch met execu„; tie van het Javas gewe\t[0.44776827096939087, 0.12349630147218704, 0.4269302487373352, 0.0018051514634862542]\n"
     ]
    },
    {
     "name": "stderr",
     "output_type": "stream",
     "text": [
      "  0%|          | 2/1194.6875 [00:02<22:35,  1.14s/batch]"
     ]
    },
    {
     "name": "stdout",
     "output_type": "stream",
     "text": [
      "BEGIN\tIN\tNL-HaNA_1.04.02_3655_0736.jpg\tgoede scrikking der; min: omtrend de geld; ders.; \t[0.4990115165710449, 0.10066745430231094, 0.39975517988204956, 0.0005658891168422997]\n",
      "BEGIN\tIN\tNL-HaNA_1.04.02_3655_0737.jpg\taanmerkingen op de; veragtende staat van; dit gouv\t[0.5127236247062683, 0.08901804685592651, 0.3979533314704895, 0.0003049642837140709]\n",
      "BEGIN\tIN\tNL-HaNA_1.04.02_3655_0738.jpg\t178 2/3. op sig selve beschouwd gebleeven; is een \t[0.5151724219322205, 0.08541471511125565, 0.39916759729385376, 0.0002453007036820054]\n",
      "BEGIN\tIN\tNL-HaNA_1.04.02_3655_0739.jpg\tkoat verslag van de; oorlog zanken; december 1783.\t[0.5092990398406982, 0.08475687354803085, 0.4057197868824005, 0.0002242958580609411]\n",
      "BEGIN\tIN\tNL-HaNA_1.04.02_3655_0740.jpg\tqualificatie van de; vreemde scheepen Ni; „den en \t[0.5115519762039185, 0.0839945524930954, 0.40422680974006653, 0.0002267389791086316]\n",
      "BEGIN\tIN\tNL-HaNA_1.04.02_3655_0741.jpg\tbewesene adsistentee; aan een engelsch schip; geap\t[0.4987689256668091, 0.08592202514410019, 0.41507044434547424, 0.00023867751588113606]\n",
      "BEGIN\tIN\tNL-HaNA_1.04.02_3655_0742.jpg\tvan de caob onsboden; de ginter overgebleven; dien\t[0.4830092489719391, 0.10126350820064545, 0.4151872992515564, 0.000539954227861017]\n",
      "BEGIN\tIN\tNL-HaNA_1.04.02_3655_0743.jpg\tBrieven der Min„s zijn ged: 20: decem: 1783,; 9. J\t[0.508931577205658, 0.08484455198049545, 0.40601053833961487, 0.00021333107724785805]\n",
      "BEGIN\tIN\tNL-HaNA_1.04.02_3655_0744.jpg\taan wijzing der be; antwoorde Patr:; Extracten.; 2\t[0.5036103129386902, 0.08513633906841278, 0.4110453724861145, 0.00020797313482034951]\n",
      "BEGIN\tIN\tNL-HaNA_1.04.02_3655_0745.jpg\tverslag nopens den; afhaal van Pro; ducten.; ontva\t[0.5106943249702454, 0.08294577151536942, 0.4061572849750519, 0.00020257999130990356]\n",
      "BEGIN\tIN\tNL-HaNA_1.04.02_3655_0746.jpg\took plaats heeft gehad, omtrend de; in het voorjaa\t[0.505334734916687, 0.08475407212972641, 0.4097042381763458, 0.00020700252207461745]\n",
      "BEGIN\tIN\tNL-HaNA_1.04.02_3655_0747.jpg\twijl het zelve comsiderabel met witte wie„; „ren g\t[0.4891124367713928, 0.0903099998831749, 0.420352041721344, 0.00022552769223693758]\n",
      "BEGIN\tIN\tNL-HaNA_1.04.02_3655_0748.jpg\tde zilvere laeuw; is van een verlo; ren rijse naar\t[0.509037435054779, 0.08250666409730911, 0.4082571268081665, 0.00019869129755534232]\n",
      "BEGIN\tIN\tNL-HaNA_1.04.02_3655_0749.jpg\ten het veel swarigheid in zig hieldt, om; deselven\t[0.48793187737464905, 0.0899529755115509, 0.4218922555446625, 0.00022285067825578153]\n",
      "BEGIN\tIN\tNL-HaNA_1.04.02_3655_0750.jpg\tvergeefsche poging; om de Ternaatsche; min: te in \t[0.5067896842956543, 0.08221350610256195, 0.4108011722564697, 0.00019555956532713026]\n",
      "BEGIN\tIN\tNL-HaNA_1.04.02_3655_0751.jpg\thoeverre de ver; sending van Pro„; te baat gekomen\t[0.508317768573761, 0.08214502781629562, 0.4093409776687622, 0.00019625794084277004]\n",
      "BEGIN\tIN\tNL-HaNA_1.04.02_3655_0752.jpg\t6. houtvlotten; zijn behouden d„; gekomen; Rembang\t[0.5093680024147034, 0.08208972960710526, 0.40834590792655945, 0.00019635702483356]\n",
      "BEGIN\tIN\tNL-HaNA_1.04.02_3655_0753.jpg\tmits gebrek aan; raam houten; zijn uit doost„; hoe\t[0.5097016096115112, 0.08215538412332535, 0.4079459011554718, 0.00019715382950380445]\n",
      "BEGIN\tIN\tNL-HaNA_1.04.02_3655_0754.jpg\thet emploij van; Javaphe Zeeva„; renden Continu; „\t[0.5110048055648804, 0.08216053247451782, 0.4066367745399475, 0.0001978942600544542]\n",
      "BEGIN\tIN\tNL-HaNA_1.04.02_3655_0755.jpg\tten opzigte dier lieden gestelde ordres,; nog de v\t[0.5063339471817017, 0.08402162790298462, 0.4094417989253998, 0.0002026618312811479]\n",
      "BEGIN\tIN\tNL-HaNA_1.04.02_3655_0756.jpg\t„dert daar van niets vernomen; zijnde, hebben de M\t[0.49234259128570557, 0.08966658264398575, 0.41776832938194275, 0.00022255613293964416]\n",
      "BEGIN\tIN\tNL-HaNA_1.04.02_3655_0757.jpg\tMalacca was gegeven, wegens een; op Java ter preuv\t[0.48693281412124634, 0.08973567932844162, 0.4231107831001282, 0.00022066979727242142]\n",
      "BEGIN\tIN\tNL-HaNA_1.04.02_3655_0758.jpg\tvaartuissen die; en passant zijn; aangegeerd; qual\t[0.5066516399383545, 0.0820288360118866, 0.41112470626831055, 0.0001947895943885669]\n",
      "BEGIN\tIN\tNL-HaNA_1.04.02_3655_0759.jpg\tNader berigt; nopens eenige; in ao p=o te min sama\t[0.5101010203361511, 0.08202487975358963, 0.4076769948005676, 0.00019706397142726928]\n",
      "BEGIN\tIN\tNL-HaNA_1.04.02_3655_0760.jpg\thad een stuk blauw laken van; 38¼. lb, en dat twee\t[0.48831140995025635, 0.08968953043222427, 0.4217768907546997, 0.00022217698278836906]\n",
      "BEGIN\tIN\tNL-HaNA_1.04.02_3655_0761.jpg\telucidatie nopens; de hooge aanreek:; in a ap:; he\t[0.5066567659378052, 0.08230624347925186, 0.41083934903144836, 0.0001976076455321163]\n",
      "BEGIN\tIN\tNL-HaNA_1.04.02_3655_0762.jpg\tg'elucideerd door toesending van; een door de Equi\t[0.4991946220397949, 0.08460267633199692, 0.41599729657173157, 0.00020548119209706783]\n",
      "BEGIN\tIN\tNL-HaNA_1.04.02_3655_0763.jpg\tdispositie op eeni„; ge in dit Jaar uit„; geleverd\t[0.5050302147865295, 0.08305427432060242, 0.41170963644981384, 0.00020588365441653877]\n",
      "BEGIN\tIN\tNL-HaNA_1.04.02_3655_0764.jpg\tdispositie op de; uitgeleverde la„; „ze de vreede \t[0.505040168762207, 0.08403570204973221, 0.41070449352264404, 0.00021962853497825563]\n",
      "BEGIN\tIN\tNL-HaNA_1.04.02_3655_0765.jpg\tmede aangebragte pakken lijwaten van; buiten wel g\t[0.47752341628074646, 0.09501530230045319, 0.4271663725376129, 0.00029488405562005937]\n",
      "BEGIN\tIN\tNL-HaNA_1.04.02_3655_0766.jpg\tCaabsche Tarwe te Samarang, met; het gewoone advan\t[0.4534444510936737, 0.10458767414093018, 0.44148486852645874, 0.0004829757090192288]\n",
      "END\tIN\tNL-HaNA_1.04.02_3655_0767.jpg\tspecificatie; van het geen in; 1784: van Java is; \t[0.4374254643917084, 0.12307081371545792, 0.4378308653831482, 0.0016728758346289396]\n"
     ]
    },
    {
     "name": "stderr",
     "output_type": "stream",
     "text": [
      "  0%|          | 3/1194.6875 [00:03<20:59,  1.06s/batch]"
     ]
    },
    {
     "name": "stdout",
     "output_type": "stream",
     "text": [
      "BEGIN\tIN\tNL-HaNA_1.04.02_3655_0768.jpg\t25. lb: Cubebe; 4000 picols Poeder suiker; 80. Coi\t[0.4836891293525696, 0.11252322047948837, 0.4030573070049286, 0.0007303699385374784]\n",
      "BEGIN\tIN\tNL-HaNA_1.04.02_3655_0769.jpg\tspecificatie van; hot geen in 1784 van; Batavia na\t[0.5119221210479736, 0.08987249433994293, 0.3978815972805023, 0.00032381387427449226]\n",
      "BEGIN\tIN\tNL-HaNA_1.04.02_3655_0770.jpg\twapenkamer, arthillerij en klijne; winkel, het amb\t[0.48846906423568726, 0.09301486611366272, 0.41823267936706543, 0.00028343050507828593]\n",
      "BEGIN\tIN\tNL-HaNA_1.04.02_3655_0771.jpg\thoe veel Java meer; heeft uitgeleverd; 480. p„s gu\t[0.5002801418304443, 0.0863056406378746, 0.41316014528274536, 0.000254059792496264]\n",
      "BEGIN\tIN\tNL-HaNA_1.04.02_3655_0772.jpg\tbehalven rijst is niets; ingekogt.; zo dat Java in\t[0.4820502698421478, 0.10111748427152634, 0.41629165410995483, 0.0005406215786933899]\n",
      "BEGIN\tIN\tNL-HaNA_1.04.02_3655_0773.jpg\taanzienlijken voorraad van gewilde koop„; „manscha\t[0.5110213756561279, 0.08435362577438354, 0.4044085443019867, 0.00021645981178153306]\n",
      "BEGIN\tIN\tNL-HaNA_1.04.02_3655_0774.jpg\tdog tamelijk wel uit; gevallen. —.; de rijff is la\t[0.5085103511810303, 0.08450775593519211, 0.40677037835121155, 0.00021149519307073206]\n",
      "BEGIN\tIN\tNL-HaNA_1.04.02_3655_0775.jpg\tvan een Hongers nood zekerlijk zouden; hebben moet\t[0.49169236421585083, 0.08922990411520004, 0.418851763010025, 0.00022599562362302095]\n",
      "BEGIN\tIN\tNL-HaNA_1.04.02_3655_0776.jpg\tinkoop van het; vorig gewasch ge; daar.; „sche en \t[0.5111258029937744, 0.08260511606931686, 0.40606188774108887, 0.00020722890621982515]\n",
      "BEGIN\tIN\tNL-HaNA_1.04.02_3655_0777.jpg\tden uitvoer van; rijst en Padij is ver„; boden gew\t[0.5147031545639038, 0.08248608559370041, 0.4026022255420685, 0.00020861216762568802]\n",
      "BEGIN\tIN\tNL-HaNA_1.04.02_3655_0778.jpg\t„noegzaam verzekerd zou zijn van den; favorabelen \t[0.4950878918170929, 0.0889485701918602, 0.4157387316226959, 0.00022481790801975876]\n",
      "BEGIN\tIN\tNL-HaNA_1.04.02_3655_0779.jpg\tnodige orders te stellen, en een ieder te waar„; „\t[0.48962026834487915, 0.08888503909111023, 0.4212731719017029, 0.0002215499262092635]\n",
      "BEGIN\tIN\tNL-HaNA_1.04.02_3655_0780.jpg\tlimitatie van het; evengemeld verbod; ten opzigte \t[0.5100296139717102, 0.08209627866744995, 0.40767085552215576, 0.0002032046322710812]\n",
      "BEGIN\tIN\tNL-HaNA_1.04.02_3655_0781.jpg\tvan dat interdict; is kennis gegeven; roosten.; zo\t[0.5122588872909546, 0.08198565989732742, 0.40555015206336975, 0.00020524696446955204]\n",
      "BEGIN\tIN\tNL-HaNA_1.04.02_3655_0782.jpg\tdispositie op een; versoek van den; Jermassing.; e\t[0.5150607228279114, 0.08212835341691971, 0.40260446071624756, 0.0002064656582660973]\n",
      "BEGIN\tIN\tNL-HaNA_1.04.02_3655_0783.jpg\tde herhaling daar van zeer apparent, in't; hoofde \t[0.4952155649662018, 0.08884862810373306, 0.41571202874183655, 0.00022371247177943587]\n",
      "BEGIN\tIN\tNL-HaNA_1.04.02_3655_0784.jpg\t„gens geleverde Peper bij de Comp=e; bevoren stond\t[0.49034422636032104, 0.08868996798992157, 0.42074546217918396, 0.00022034293215256184]\n",
      "BEGIN\tIN\tNL-HaNA_1.04.02_3655_0785.jpg\topheffing van het; voorm: interdict. I; de verdere\t[0.5111100673675537, 0.08208348602056503, 0.4066026508808136, 0.00020377265173010528]\n",
      "BEGIN\tIN\tNL-HaNA_1.04.02_3655_0786.jpg\tmoeten persisteeren, in hoope, dat; de zaaken van \t[0.4896918833255768, 0.0887172520160675, 0.4213690757751465, 0.00022185794659890234]\n",
      "BEGIN\tIN\tNL-HaNA_1.04.02_3655_0787.jpg\tnadere quali-fica; tie tot den inkoop; van Rijst.;\t[0.5081949830055237, 0.08226964622735977, 0.4093303978443146, 0.00020497919467743486]\n",
      "BEGIN\tIN\tNL-HaNA_1.04.02_3655_0788.jpg\tzorge voor de; houtbossen gedra; gen; 2000: lasten\t[0.5079928040504456, 0.08257731050252914, 0.4092182219028473, 0.0002116554678650573]\n",
      "BEGIN\tIN\tNL-HaNA_1.04.02_3655_0789.jpg\tbesorging van; eijzer en spijkers.; worden, na de \t[0.5007336735725403, 0.08443145453929901, 0.4146029055118561, 0.00023201177828013897]\n",
      "BEGIN\tIN\tNL-HaNA_1.04.02_3655_0790.jpg\tbepaling van be„; nodigtheeden voor; Pantjallangs.\t[0.48007524013519287, 0.0999915674328804, 0.41941186785697937, 0.000521340873092413]\n",
      "BEGIN\tIN\tNL-HaNA_1.04.02_3655_0791.jpg\tgesondene Galwet den Arend, dewelke zeek; wel bevo\t[0.49711212515830994, 0.08834300190210342, 0.41431954503059387, 0.00022537153563462198]\n",
      "BEGIN\tIN\tNL-HaNA_1.04.02_3655_0792.jpg\tschikkingen aan„; gaande de Javasche; werf; bij st\t[0.5121347904205322, 0.08267341554164886, 0.40498456358909607, 0.00020721608598250896]\n",
      "BEGIN\tIN\tNL-HaNA_1.04.02_3655_0793.jpg\tChiampangs, teffens aantoonende de; oorsaak, waaro\t[0.4898800551891327, 0.08922746032476425, 0.42066657543182373, 0.00022589863510802388]\n",
      "BEGIN\tIN\tNL-HaNA_1.04.02_3655_0794.jpg\thoe veel vaartuigen; beide werven heb; ben gelever\t[0.5083068609237671, 0.08289267867803574, 0.4085901975631714, 0.00021029515482950956]\n",
      "BEGIN\tIN\tNL-HaNA_1.04.02_3655_0795.jpg\tbehalven de gewoo„; „ne producten is; 4. goerappen\t[0.5085582137107849, 0.08332227915525436, 0.40790173411369324, 0.00021777050278615206]\n",
      "BEGIN\tIN\tNL-HaNA_1.04.02_3655_0796.jpg\tpreuve genomen; nopens de Jndigo; culture in het; \t[0.5082055330276489, 0.08438413590192795, 0.4071774184703827, 0.00023288554803002626]\n",
      "BEGIN\tIN\tNL-HaNA_1.04.02_3655_0797.jpg\tmet de nodige kopere potten en andere ge„; „reedsc\t[0.4813336730003357, 0.09434215724468231, 0.4240213930606842, 0.0003028103965334594]\n",
      "BEGIN\tIN\tNL-HaNA_1.04.02_3655_0798.jpg\t„gelegd rd„s 100: p:r picol, of rd=s 16 1/3.; meer\t[0.45874127745628357, 0.1051546037197113, 0.4355694353580475, 0.0005347587284632027]\n",
      "END\tIN\tNL-HaNA_1.04.02_3655_0799.jpg\t„speurd en voor afgem: difect zou ver„; „beterd zi\t[0.41751718521118164, 0.1375323086977005, 0.4424898624420166, 0.0024606739170849323]\n"
     ]
    },
    {
     "name": "stderr",
     "output_type": "stream",
     "text": [
      "  0%|          | 4/1194.6875 [00:04<19:35,  1.01batch/s]"
     ]
    },
    {
     "name": "stdout",
     "output_type": "stream",
     "text": [
      "BEGIN\tIN\tNL-HaNA_1.04.02_3655_0800.jpg\tde gemeene uitgedeeld te worden,; het welk door on\t[0.49410560727119446, 0.10548834502696991, 0.3997921049594879, 0.0006139156175777316]\n",
      "BEGIN\tIN\tNL-HaNA_1.04.02_3655_0801.jpg\t„hield, also van 100: ponden maar 4: of; 5 1/3 loo\t[0.5047840476036072, 0.09166382253170013, 0.40323927998542786, 0.0003127973177470267]\n",
      "BEGIN\tIN\tNL-HaNA_1.04.02_3655_0802.jpg\tsurchance verleend; aan den Samaran„; „schen pagte\t[0.512656569480896, 0.08554444462060928, 0.4015595614910126, 0.0002393672475591302]\n",
      "BEGIN\tIN\tNL-HaNA_1.04.02_3655_0803.jpg\tlijden, waar door in groot gevaar was,; van geruin\t[0.49176302552223206, 0.09106960147619247, 0.4169236719608307, 0.0002437404909869656]\n",
      "BEGIN\tIN\tNL-HaNA_1.04.02_3655_0804.jpg\tNieuwe verpagting; voor drie Jaaren —.; dat de ver\t[0.510158121585846, 0.08313830941915512, 0.4064955711364746, 0.0002080272970488295]\n",
      "BEGIN\tIN\tNL-HaNA_1.04.02_3655_0805.jpg\tvan den Politicquen Raad zig hadden; geconfirmeerd\t[0.5061199069023132, 0.08457586914300919, 0.4090946912765503, 0.00020958457025699317]\n",
      "BEGIN\tIN\tNL-HaNA_1.04.02_3655_0806.jpg\tgeinformeert, dat zig niet duref„; „de flatteeren,\t[0.4927815794944763, 0.08968553692102432, 0.41730642318725586, 0.00022646330762654543]\n",
      "BEGIN\tIN\tNL-HaNA_1.04.02_3655_0807.jpg\titem Batoehoeloe, zo qualificeerden; wij de Min„s \t[0.4875864088535309, 0.08964299410581589, 0.4225475490093231, 0.0002230959216831252]\n",
      "BEGIN\tIN\tNL-HaNA_1.04.02_3655_0808.jpg\tHet bedragen; der inkomsten; in 't geheel.; van 22\t[0.5068899989128113, 0.08211846649646759, 0.4107947051525116, 0.0001968303113244474]\n",
      "BEGIN\tIN\tNL-HaNA_1.04.02_3655_0809.jpg\tte samen bedragen ƒ325660: 10:—. en; de geregtighe\t[0.511034369468689, 0.08194597065448761, 0.40682175755500793, 0.00019785806944128126]\n",
      "BEGIN\tIN\tNL-HaNA_1.04.02_3655_0810.jpg\t§ 48. Ook zoude er geene te; kortkomingen in de le\t[0.4910617172718048, 0.08924011141061783, 0.4194769561290741, 0.0002211956598330289]\n",
      "BEGIN\tIN\tNL-HaNA_1.04.02_3655_0811.jpg\tNegotiatie en; acceptatie van; contanten.; § 49. D\t[0.5010101199150085, 0.08390993624925613, 0.4148799479007721, 0.00019999389769509435]\n",
      "BEGIN\tIN\tNL-HaNA_1.04.02_3655_0812.jpg\tzwarigheeden door; het gebrek aan dui„; „deeren ko\t[0.5104931592941284, 0.08191817998886108, 0.40739190578460693, 0.00019676476949825883]\n",
      "BEGIN\tIN\tNL-HaNA_1.04.02_3655_0813.jpg\t„weest, schoon het inmiddens reeds zo ver„; „re ge\t[0.49297723174095154, 0.08921102434396744, 0.41759058833122253, 0.0002211402461398393]\n",
      "BEGIN\tIN\tNL-HaNA_1.04.02_3655_0814.jpg\tgroot geld aan de Balische Negoti„; „anten tegen d\t[0.48825037479400635, 0.08932680636644363, 0.4222034811973572, 0.0002193756663473323]\n",
      "BEGIN\tIN\tNL-HaNA_1.04.02_3655_0815.jpg\tProject om de; wond dia revier; met een patterij; \t[0.5086769461631775, 0.08185135573148727, 0.4092766344547272, 0.00019513176812324673]\n",
      "BEGIN\tIN\tNL-HaNA_1.04.02_3655_0816.jpg\t„nen met Bamboese hutjes voorsiene bat„; „terij, w\t[0.4902202785015106, 0.08925801515579224, 0.4203017055988312, 0.00021994452981743962]\n",
      "BEGIN\tIN\tNL-HaNA_1.04.02_3655_0817.jpg\tpreure die tot weg; ruiming van de bank; § 52. Ond\t[0.5009008646011353, 0.0841015949845314, 0.4147965908050537, 0.00020099437097087502]\n",
      "BEGIN\tIN\tNL-HaNA_1.04.02_3655_0818.jpg\tbesluit gekomen zijnde, als niet verpelijk; te amp\t[0.4850879907608032, 0.0897577553987503, 0.4249311089515686, 0.00022317023831419647]\n",
      "BEGIN\tIN\tNL-HaNA_1.04.02_3655_0819.jpg\textructie van een; loots voor de arthille; rij goe\t[0.5026941895484924, 0.08252391964197159, 0.4145798683166504, 0.00020196863624732941]\n",
      "BEGIN\tIN\tNL-HaNA_1.04.02_3655_0820.jpg\tis meest voor reek: van den Heer gou„; „verneur ge\t[0.4862375557422638, 0.08666958659887314, 0.4268631637096405, 0.00022977236949373037]\n",
      "BEGIN\tIN\tNL-HaNA_1.04.02_3655_0821.jpg\tnoodsakelijkheijd; der reparatie van; een tweeden \t[0.47761455178260803, 0.09939052164554596, 0.42248693108558655, 0.0005079786642454565]\n",
      "BEGIN\tIN\tNL-HaNA_1.04.02_3655_0822.jpg\ttoe door ons in 1781. den 5 Julij gegevene; permis\t[0.49876299500465393, 0.08879027515649796, 0.41222307085990906, 0.00022368274221662432]\n",
      "BEGIN\tIN\tNL-HaNA_1.04.02_3655_0823.jpg\t§ 57. Bij gelegentheid, dat te sou„; te souracarta\t[0.4915282428264618, 0.08964276313781738, 0.41860777139663696, 0.00022110785357654095]\n",
      "BEGIN\tIN\tNL-HaNA_1.04.02_3655_0824.jpg\tniet alleen Consteerde, dat dese Juist eerst; volt\t[0.487232506275177, 0.08970339596271515, 0.42284342646598816, 0.00022070393606554717]\n",
      "BEGIN\tIN\tNL-HaNA_1.04.02_3655_0825.jpg\tdispositie omtrent; het buiten her; te soura Carta\t[0.5079986453056335, 0.08210781216621399, 0.4096965193748474, 0.00019697488460224122]\n",
      "BEGIN\tIN\tNL-HaNA_1.04.02_3655_0826.jpg\ten even min het receptie van den Gouver„; „neur, w\t[0.49053841829299927, 0.08987601101398468, 0.4193599820137024, 0.00022560525394510478]\n",
      "BEGIN\tIN\tNL-HaNA_1.04.02_3655_0827.jpg\t„sistentie in de vereischt wordende nerbe„; „terin\t[0.48563891649246216, 0.0903690904378891, 0.42376255989074707, 0.0002294825972057879]\n",
      "BEGIN\tIN\tNL-HaNA_1.04.02_3655_0828.jpg\tdispositie nopens „berg dit Jaar de rijse naar den\t[0.49560949206352234, 0.0858297348022461, 0.41833972930908203, 0.000221015332499519]\n",
      "BEGIN\tIN\tNL-HaNA_1.04.02_3655_0829.jpg\t3/ T Rembang, dat het dak van de residents woo„; „\t[0.47464531660079956, 0.09502651542425156, 0.43003588914871216, 0.0002923696010839194]\n",
      "BEGIN\tIN\tNL-HaNA_1.04.02_3655_0830.jpg\ttoegestaane afschrij § 60. Behalven dejaarlijksche\t[0.4514038860797882, 0.10436117649078369, 0.44375598430633545, 0.0004789551894646138]\n",
      "BEGIN\tIN\tNL-HaNA_1.04.02_3655_0831.jpg\taan reekening op den; staat van 't Comptoir; in 17\t[0.4401364326477051, 0.12251016497612, 0.43564265966415405, 0.001710807322524488]\n"
     ]
    },
    {
     "name": "stderr",
     "output_type": "stream",
     "text": [
      "  0%|          | 5/1194.6875 [00:05<19:54,  1.00s/batch]"
     ]
    },
    {
     "name": "stdout",
     "output_type": "stream",
     "text": [
      "BEGIN\tIN\tNL-HaNA_1.04.02_3655_0832.jpg\tde boeken van 178 2/3; zijn op Java g'exa„; mineer\t[0.4971861243247986, 0.10187171399593353, 0.40037479996681213, 0.000567357987165451]\n",
      "BEGIN\tIN\tNL-HaNA_1.04.02_3655_0833.jpg\tIn 1784. is het gou„; vernement weder; 22: octob: \t[0.5137291550636292, 0.088811494410038, 0.3971553444862366, 0.00030403267010115087]\n",
      "BEGIN\tIN\tNL-HaNA_1.04.02_3655_0834.jpg\tdaar voor bij de Memorie van Menagie; gecalculeerd\t[0.511709988117218, 0.0856667011976242, 0.40238475799560547, 0.00023861466615926474]\n",
      "BEGIN\tIN\tNL-HaNA_1.04.02_3655_0835.jpg\tschikkingen voor; de soldij boekhouders; gewerkt.;\t[0.5170798897743225, 0.0838596299290657, 0.39883339405059814, 0.00022706341405864805]\n",
      "BEGIN\tIN\tNL-HaNA_1.04.02_3655_0836.jpg\t„vonden, en ook de erreuren, die hier in; de boeke\t[0.49116262793540955, 0.0907931849360466, 0.41780659556388855, 0.00023759398027323186]\n",
      "BEGIN\tIN\tNL-HaNA_1.04.02_3655_0837.jpg\tde eischen zijn na; vermogen voed aan.; Samarangsc\t[0.5086063146591187, 0.08312952518463135, 0.40805885195732117, 0.00020536540250759572]\n",
      "BEGIN\tIN\tNL-HaNA_1.04.02_3655_0838.jpg\tschikkingen die tot; deJavasche guarni„; hebben.; \t[0.5095066428184509, 0.08285871893167496, 0.40743085741996765, 0.0002037666563410312]\n",
      "BEGIN\tIN\tNL-HaNA_1.04.02_3655_0839.jpg\tordres nopens de; op Java zijnde trou; te oost.; t\t[0.5107382535934448, 0.08259507268667221, 0.40646442770957947, 0.00020225724438205361]\n",
      "BEGIN\tIN\tNL-HaNA_1.04.02_3655_0840.jpg\tverslag nopens; diverse domistie; que saken.; „va \t[0.5124360918998718, 0.08255362510681152, 0.40480780601501465, 0.00020245177438482642]\n",
      "BEGIN\tIN\tNL-HaNA_1.04.02_3655_0841.jpg\t„bruiken ons daar aan te gedragen, en hier; nog ma\t[0.49105820059776306, 0.0897650346159935, 0.4189518690109253, 0.00022483601060230285]\n",
      "BEGIN\tIN\tNL-HaNA_1.04.02_3655_0842.jpg\tHet voorgevallene; met den keijzer en; zulthan.; §\t[0.5002679228782654, 0.08434699475765228, 0.41518282890319824, 0.00020224055333528668]\n",
      "BEGIN\tIN\tNL-HaNA_1.04.02_3655_0843.jpg\tHet voorgevallene; met des prins van; Madura; „zer\t[0.5084186792373657, 0.0821622684597969, 0.4092220664024353, 0.00019703360158018768]\n",
      "BEGIN\tIN\tNL-HaNA_1.04.02_3655_0844.jpg\tstukking omtrend; de Contingenten in; den oosthoek\t[0.5097029209136963, 0.08211132884025574, 0.40798816084861755, 0.00019761967996601015]\n",
      "BEGIN\tIN\tNL-HaNA_1.04.02_3655_0845.jpg\tafgave van gewee; ren en veranderin„; de door zijn\t[0.5119246244430542, 0.08210798352956772, 0.40576866269111633, 0.00019876312580890954]\n",
      "BEGIN\tIN\tNL-HaNA_1.04.02_3655_0846.jpg\ten gesuccedeert door zijn Broeder den; Bepattij Jo\t[0.4896465539932251, 0.08956904709339142, 0.4205615520477295, 0.0002228475786978379]\n",
      "BEGIN\tIN\tNL-HaNA_1.04.02_3655_0847.jpg\tschikking omtrend; het eijland de Baro„; de Broede\t[0.5138176679611206, 0.08163947612047195, 0.40434062480926514, 0.00020221283193677664]\n",
      "BEGIN\tIN\tNL-HaNA_1.04.02_3655_0848.jpg\t„sen van zijn zoon bij den samarang„; „schen hoofd\t[0.49094969034194946, 0.08958394080400467, 0.41924381256103516, 0.00022257104865275323]\n",
      "BEGIN\tIN\tNL-HaNA_1.04.02_3655_0849.jpg\tnog andere op Java gezetene lieden; Rijst op Padij\t[0.5004324316978455, 0.08412992209196091, 0.41523733735084534, 0.00020029611187055707]\n",
      "BEGIN\tIN\tNL-HaNA_1.04.02_3655_0850.jpg\tordres met opzigt; tot de vreemde Na; tien; land g\t[0.5099467635154724, 0.08200696110725403, 0.40784987807273865, 0.00019635089847724885]\n",
      "BEGIN\tIN\tNL-HaNA_1.04.02_3655_0851.jpg\tThe Pallas in het Javas vaanwater; geweest, het we\t[0.4891064465045929, 0.08945107460021973, 0.4212220311164856, 0.00022049254039302468]\n",
      "BEGIN\tIN\tNL-HaNA_1.04.02_3655_0852.jpg\tde particuliere; vaart is in 1784; minder geweest;\t[0.5077490210533142, 0.08200837671756744, 0.41004765033721924, 0.0001949191646417603]\n",
      "BEGIN\tIN\tNL-HaNA_1.04.02_3655_0853.jpg\tgerief dan Mal„; lacca toegebragt.; geleeden nadee\t[0.501492440700531, 0.08401688188314438, 0.41429027915000916, 0.0002004114503506571]\n",
      "BEGIN\tIN\tNL-HaNA_1.04.02_3655_0854.jpg\tvoorgevallene ver; andering onder de; Politicque d\t[0.5101903676986694, 0.08202102035284042, 0.4075919985771179, 0.00019658695964608341]\n",
      "BEGIN\tIN\tNL-HaNA_1.04.02_3655_0855.jpg\tAnthonij Barkij, dog mits het over„; „lijden van g\t[0.4883373975753784, 0.08960171043872833, 0.42183926701545715, 0.0002216105640400201]\n",
      "BEGIN\tIN\tNL-HaNA_1.04.02_3655_0856.jpg\tveranderen gan; der de Militoie; „ken; van den sol\t[0.5073246955871582, 0.08200663328170776, 0.4104728400707245, 0.00019577835337258875]\n",
      "BEGIN\tIN\tNL-HaNA_1.04.02_3655_0857.jpg\tbeantwoorde Patriasse„; extracten zijn niet ont; „\t[0.509100079536438, 0.08212844282388687, 0.40857309103012085, 0.00019841623725369573]\n",
      "BEGIN\tIN\tNL-HaNA_1.04.02_3655_0858.jpg\t„wist hoedanig het langer stellen zou„; „de, nadie\t[0.50270015001297, 0.08445428311824799, 0.41263899207115173, 0.00020656787091866136]\n",
      "BEGIN\tIN\tNL-HaNA_1.04.02_3655_0859.jpg\twij niet alleen den 7. Maij derw„s vertrek„; „ken,\t[0.48484572768211365, 0.09059064835309982, 0.4243311882019043, 0.0002323669905308634]\n",
      "BEGIN\tIN\tNL-HaNA_1.04.02_3655_0860.jpg\t„nen en rijst de steeven weder terug; heeft kunnen\t[0.5014485716819763, 0.08398241549730301, 0.41435080766677856, 0.00021819051471538842]\n",
      "BEGIN\tIN\tNL-HaNA_1.04.02_3655_0861.jpg\t4800: p„s spaansche reaalen; 8700: „ Ducatons /:ge\t[0.4701382517814636, 0.09503848105669022, 0.43453139066696167, 0.00029191444627940655]\n",
      "BEGIN\tIN\tNL-HaNA_1.04.02_3655_0862.jpg\t„kel, het ambagtsquartier, de provisie; =graan en \t[0.4542531371116638, 0.0986054316163063, 0.4467232823371887, 0.00041812911513261497]\n",
      "END\tIN\tNL-HaNA_1.04.02_3655_0863.jpg\tgeredresseerd abuis; omtrend de raam„; houten.; vo\t[0.41421037912368774, 0.13500209152698517, 0.4483851492404938, 0.0024023624137043953]\n"
     ]
    },
    {
     "name": "stderr",
     "output_type": "stream",
     "text": [
      "  1%|          | 6/1194.6875 [00:06<19:07,  1.04batch/s]"
     ]
    },
    {
     "name": "stdout",
     "output_type": "stream",
     "text": [
      "BEGIN\tIN\tNL-HaNA_1.04.02_3655_0864.jpg\thoofden laten krengen, en best doenlijk; voorsien,\t[0.4929114878177643, 0.1042347252368927, 0.4022463262081146, 0.0006074318080209196]\n",
      "BEGIN\tIN\tNL-HaNA_1.04.02_3655_0865.jpg\tgebruik, waar toe de Moerissen en Hamans,; aan de \t[0.5093256235122681, 0.08987511694431305, 0.4004783034324646, 0.0003209405404049903]\n",
      "BEGIN\tIN\tNL-HaNA_1.04.02_3655_0866.jpg\tHoe de uijttoogst; is uitgevallen.; § 12: onder de\t[0.4945630431175232, 0.089612677693367, 0.4155440926551819, 0.00028017297154292464]\n",
      "BEGIN\tIN\tNL-HaNA_1.04.02_3655_0867.jpg\tzwarigheid die in; het Transport van; „steerd. —.;\t[0.4828519821166992, 0.10222888737916946, 0.4143575131893158, 0.0005616189446300268]\n",
      "BEGIN\tIN\tNL-HaNA_1.04.02_3655_0868.jpg\tde Coffij plantagien; worden opgenomen; graan Maga\t[0.5174681544303894, 0.0838172659277916, 0.39849066734313965, 0.0002238755114376545]\n",
      "BEGIN\tIN\tNL-HaNA_1.04.02_3655_0869.jpg\tPlantagien, en hoeveel Coffij 's Jaars bij; ordina\t[0.5105844736099243, 0.08495048433542252, 0.4042484164237976, 0.00021662226936314255]\n",
      "BEGIN\tIN\tNL-HaNA_1.04.02_3655_0870.jpg\tbij publicque vijling te zien daalen, eens„; „deel\t[0.4964893162250519, 0.08938844501972198, 0.41389304399490356, 0.00022913281281944364]\n",
      "BEGIN\tIN\tNL-HaNA_1.04.02_3655_0871.jpg\t„nodige qualificatie is verleend, om name„; „lijk \t[0.4927520453929901, 0.08905070275068283, 0.4179729223251343, 0.00022435978462453932]\n",
      "BEGIN\tIN\tNL-HaNA_1.04.02_3655_0872.jpg\thoe lange men Cheribon; niet behoeft te adsisteere\t[0.5062658190727234, 0.08381994813680649, 0.409708708524704, 0.0002054960059467703]\n",
      "BEGIN\tIN\tNL-HaNA_1.04.02_3655_0873.jpg\tden betoonden ijver, om ongeagt de schraa„; „le to\t[0.4923862814903259, 0.08861277252435684, 0.4187800884246826, 0.00022087189427111298]\n",
      "BEGIN\tIN\tNL-HaNA_1.04.02_3655_0874.jpg\tkoopmanschappen; gezonden in plaats; § 18. om egte\t[0.5044640898704529, 0.08355656266212463, 0.4117767810821533, 0.00020251791283953935]\n",
      "BEGIN\tIN\tNL-HaNA_1.04.02_3655_0875.jpg\tult: aug=s aanstaande goed temaken.; § 19. Bij bri\t[0.5052751302719116, 0.08356082439422607, 0.41096070408821106, 0.00020330047118477523]\n",
      "BEGIN\tIN\tNL-HaNA_1.04.02_3655_0876.jpg\tpajement, tot gerief van de sulthans,; in betaling\t[0.5072641968727112, 0.08345270901918411, 0.409079372882843, 0.00020374836458358914]\n",
      "BEGIN\tIN\tNL-HaNA_1.04.02_3655_0877.jpg\thebben doorgestaan in zwaare regens,; zonder demin\t[0.49311864376068115, 0.08862912654876709, 0.4180305302143097, 0.00022178488143254071]\n",
      "BEGIN\tIN\tNL-HaNA_1.04.02_3655_0878.jpg\textra ongelden er nog lange ge„; „not van zou hebb\t[0.4871625602245331, 0.0888436883687973, 0.42377135157585144, 0.00022238264500629157]\n",
      "BEGIN\tIN\tNL-HaNA_1.04.02_3655_0879.jpg\tafschrijving van; afgevarene Prauw; maijangs. —.; \t[0.5059449672698975, 0.08247266709804535, 0.41137295961380005, 0.0002093728253385052]\n",
      "BEGIN\tIN\tNL-HaNA_1.04.02_3655_0880.jpg\tafschrijving van; verlorene hout„; werken in a=o j\t[0.4912252724170685, 0.08585239946842194, 0.4226912558078766, 0.00023100637190509588]\n",
      "BEGIN\tIN\tNL-HaNA_1.04.02_3655_0881.jpg\tafschrijving van; het verlovewe; in dit Jaar.; voo\t[0.4765934348106384, 0.09973341226577759, 0.423156201839447, 0.0005168692441657186]\n",
      "BEGIN\tIN\tNL-HaNA_1.04.02_3655_0882.jpg\tde Negotie boeken; van 178 2/3 zijn nog; „ministra\t[0.512227475643158, 0.08243827521800995, 0.40511977672576904, 0.00021448566985782236]\n",
      "BEGIN\tIN\tNL-HaNA_1.04.02_3655_0883.jpg\tde Eischen zijn na; vermogen voldaan.; Eischen van\t[0.49260321259498596, 0.08628320693969727, 0.4208810031414032, 0.00023261638125404716]\n",
      "BEGIN\tIN\tNL-HaNA_1.04.02_3655_0884.jpg\tde resident is weder; geriefd met eenige; goederen\t[0.4776507616043091, 0.10020086914300919, 0.42162850499153137, 0.0005199211300350726]\n",
      "BEGIN\tIN\tNL-HaNA_1.04.02_3655_0885.jpg\tberigt nopens; het militaire; wesen aldaar.; met d\t[0.5179364681243896, 0.0820276141166687, 0.39982661604881287, 0.00020925255375914276]\n",
      "BEGIN\tIN\tNL-HaNA_1.04.02_3655_0886.jpg\t„schikste en onkoftbaarste wijse; voor de Comp=e b\t[0.49600088596343994, 0.08903825283050537, 0.4147372841835022, 0.00022361018636729568]\n",
      "BEGIN\tIN\tNL-HaNA_1.04.02_3655_0887.jpg\tzo dat de Militairen, die aldaar door geene; afmat\t[0.4925565719604492, 0.08893483132123947, 0.4182868003845215, 0.00022175828053150326]\n",
      "BEGIN\tIN\tNL-HaNA_1.04.02_3655_0888.jpg\tbrief van 4. Maij, hebben geantwoord,; dat men nie\t[0.48760050535202026, 0.08907958120107651, 0.42309826612472534, 0.0002216574939666316]\n",
      "BEGIN\tIN\tNL-HaNA_1.04.02_3655_0889.jpg\tverslag nopens; de luchtgesteldheijd.; opgave zou \t[0.5074089169502258, 0.08251994103193283, 0.4098653793334961, 0.00020574513473547995]\n",
      "BEGIN\tIN\tNL-HaNA_1.04.02_3655_0890.jpg\tde sulthans Canti; nueeren in goede; harmonie met;\t[0.5094344615936279, 0.08265452086925507, 0.4077015221118927, 0.00020951316400896758]\n",
      "BEGIN\tIN\tNL-HaNA_1.04.02_3655_0891.jpg\tvertrek van de in; a. o p=o daar vervallen; hebben\t[0.5097441673278809, 0.08311022818088531, 0.4069298207759857, 0.0002157759590772912]\n",
      "BEGIN\tIN\tNL-HaNA_1.04.02_3655_0892.jpg\tElucidatie nopens; den particuleeren; handel.; § 3\t[0.5022002458572388, 0.08557412028312683, 0.411997526884079, 0.00022808631183579564]\n",
      "BEGIN\tIN\tNL-HaNA_1.04.02_3655_0893.jpg\thet land was, dat ook de rijst in het gant„; „sche\t[0.4802006483078003, 0.09393499791622162, 0.42557162046432495, 0.0002926330198533833]\n",
      "BEGIN\tIN\tNL-HaNA_1.04.02_3655_0894.jpg\tte koop te brengen, en dat also; er geene zekerhei\t[0.45775967836380005, 0.10347297042608261, 0.43828362226486206, 0.00048373403842560947]\n",
      "END\tIN\tNL-HaNA_1.04.02_3655_0895.jpg\tverandering onder; de dienaaren. —.; § 36. De onde\t[0.43347522616386414, 0.12622012197971344, 0.43847718834877014, 0.001827440457418561]\n"
     ]
    },
    {
     "name": "stderr",
     "output_type": "stream",
     "text": [
      "  1%|          | 7/1194.6875 [00:07<19:04,  1.04batch/s]"
     ]
    },
    {
     "name": "stdout",
     "output_type": "stream",
     "text": [
      "BEGIN\tIN\tNL-HaNA_1.04.02_3655_0896.jpg\tBantam zedert het gemelde, bij ons; afgesondene br\t[0.48217472434043884, 0.1142798438668251, 0.40279296040534973, 0.0007524893153458834]\n",
      "BEGIN\tIN\tNL-HaNA_1.04.02_3655_0897.jpg\taan wijzing vande; beantwoorde Patr:; Extracten.; \t[0.5126906037330627, 0.08941526710987091, 0.3975756764411926, 0.0003184465749654919]\n",
      "BEGIN\tIN\tNL-HaNA_1.04.02_3655_0898.jpg\thet derw: gesonde; „ne en daar op be; vondene mind\t[0.5139248967170715, 0.0855349525809288, 0.4002988934516907, 0.0002412846515653655]\n",
      "BEGIN\tIN\tNL-HaNA_1.04.02_3655_0899.jpg\t50 p=s hembden mans; 20. „ Mouterings broeken; 80.\t[0.4912281632423401, 0.09134621173143387, 0.41718024015426636, 0.00024534002295695245]\n",
      "BEGIN\tIN\tNL-HaNA_1.04.02_3655_0900.jpg\tden in en- verkoop; is van geen belang gp; weest.;\t[0.5093635320663452, 0.0832829624414444, 0.40714532136917114, 0.00020818320626858622]\n",
      "BEGIN\tIN\tNL-HaNA_1.04.02_3655_0901.jpg\tverslag nopens; den Jnsaam van; ture; § 6. Den Inz\t[0.503480851650238, 0.08472409099340439, 0.41158631443977356, 0.00020873057655990124]\n",
      "BEGIN\tIN\tNL-HaNA_1.04.02_3655_0902.jpg\tworden, als ook om dat de plan„; „ters, die gedure\t[0.5018249154090881, 0.08459897339344025, 0.4133700728416443, 0.00020606353064067662]\n",
      "BEGIN\tIN\tNL-HaNA_1.04.02_3655_0903.jpg\tqualificatie tot het; uit diepen der gragt; wijk.;\t[0.5100570321083069, 0.08241240680217743, 0.40733030438423157, 0.00020022952230647206]\n",
      "BEGIN\tIN\tNL-HaNA_1.04.02_3655_0904.jpg\t„trouwen, dat inmiddens door de; bediendens zou wo\t[0.5029405951499939, 0.08441976457834244, 0.41243478655815125, 0.00020487638539634645]\n",
      "BEGIN\tIN\tNL-HaNA_1.04.02_3655_0905.jpg\t„langd, voor rd„s 238: 31. —. waar van wij; de afb\t[0.5018475651741028, 0.08442841470241547, 0.41351962089538574, 0.00020444675465114415]\n",
      "BEGIN\tIN\tNL-HaNA_1.04.02_3655_0906.jpg\t§ 11: volgens de; Neegotie Boeken van 178 82/3. he\t[0.4996970295906067, 0.08461885899305344, 0.4154781103134155, 0.00020599264826159924]\n",
      "BEGIN\tIN\tNL-HaNA_1.04.02_3655_0907.jpg\trecommandatie; omtrend de huijs; houding; „tooning\t[0.5056783556938171, 0.08309292793273926, 0.41102099418640137, 0.00020771399431396276]\n",
      "BEGIN\tIN\tNL-HaNA_1.04.02_3655_0908.jpg\t§13. Dewijl ons egter specu„; 2 /3; in de winstree\t[0.47090408205986023, 0.09330108016729355, 0.43553221225738525, 0.00026259879814460874]\n",
      "BEGIN\tIN\tNL-HaNA_1.04.02_3655_0909.jpg\tde boeken van 178¾; zijn nog niet ont„; vangen.; d\t[0.47516965866088867, 0.09988491237163544, 0.42443516850471497, 0.000510200101416558]\n",
      "BEGIN\tIN\tNL-HaNA_1.04.02_3655_0910.jpg\t„rieven, het welk toen nog niet tot; het vertrek g\t[0.5061365365982056, 0.08376790583133698, 0.40989238023757935, 0.00020318930910434574]\n",
      "BEGIN\tIN\tNL-HaNA_1.04.02_3655_0911.jpg\tzouden konnen overwonnen, zo hebben; deselve, ten \t[0.5010350346565247, 0.08432359993457794, 0.4144410490989685, 0.00020028674043715]\n",
      "BEGIN\tIN\tNL-HaNA_1.04.02_3655_0912.jpg\thoeveel manschap; tot versterking deuw; is gesonde\t[0.5076286792755127, 0.08229879289865494, 0.4098765254020691, 0.0001960298395715654]\n",
      "BEGIN\tIN\tNL-HaNA_1.04.02_3655_0913.jpg\t„vangst van het eerste renfort, nauwelijks; langer\t[0.5085650086402893, 0.08224701136350632, 0.4089913070201874, 0.0001966626150533557]\n",
      "BEGIN\tIN\tNL-HaNA_1.04.02_3655_0914.jpg\thoeveel manschap; tot versterking deuw; is gesonde\t[0.5083693861961365, 0.08232304453849792, 0.4091101586818695, 0.00019744808378163725]\n",
      "BEGIN\tIN\tNL-HaNA_1.04.02_3655_0915.jpg\tde koning geeft; aanhoudent genoegen.; „vangst van\t[0.5136505365371704, 0.08182074874639511, 0.4043263792991638, 0.0002023136185016483]\n",
      "BEGIN\tIN\tNL-HaNA_1.04.02_3655_0916.jpg\t'T Contingent is vol„; „daan en een ander; aangest\t[0.5117189884185791, 0.08217506855726242, 0.4059073328971863, 0.00019865769718308002]\n",
      "BEGIN\tIN\tNL-HaNA_1.04.02_3655_0917.jpg\tde post op lampong; Samanca staat her; steld te wo\t[0.5031466484069824, 0.0844058096408844, 0.41224396228790283, 0.00020362924260552973]\n",
      "BEGIN\tIN\tNL-HaNA_1.04.02_3655_0918.jpg\tverandering on; derde dienaaren; voorgevallen.; § \t[0.5118990540504456, 0.08226737380027771, 0.40563440322875977, 0.00019920738122891635]\n",
      "BEGIN\tIN\tNL-HaNA_1.04.02_3655_0919.jpg\tbij brieff van 3=e Iulij be„; „kend gemaakt, voort\t[0.49290260672569275, 0.08969232439994812, 0.4171809256076813, 0.00022412248654291034]\n",
      "BEGIN\tIN\tNL-HaNA_1.04.02_3655_0920.jpg\tluitenant, mitsgaders de; sergeanten willem van; A\t[0.4868295192718506, 0.08990196883678436, 0.42304545640945435, 0.00022310986241791397]\n",
      "BEGIN\tIN\tNL-HaNA_1.04.02_3655_0921.jpg\ttie is onder de hooge; ring voorgevallen.; zeker v\t[0.5114830732345581, 0.08195216953754425, 0.4063607156276703, 0.0002040704566752538]\n",
      "BEGIN\tIN\tNL-HaNA_1.04.02_3655_0922.jpg\tsekeren Burger genaamd Adrianus; Johannes van Stee\t[0.4885087013244629, 0.08996571600437164, 0.4212988018989563, 0.00022682940470986068]\n",
      "BEGIN\tIN\tNL-HaNA_1.04.02_3655_0923.jpg\tNader verslag der proce; duals tegen den luit:; pr\t[0.5066242218017578, 0.08297131955623627, 0.41019827127456665, 0.00020614532695617527]\n",
      "BEGIN\tIN\tNL-HaNA_1.04.02_3655_0924.jpg\tSedert, of op den 19=e Novemb:; versogt gemelde Ho\t[0.4860961437225342, 0.091636061668396, 0.42202022671699524, 0.00024749786825850606]\n",
      "BEGIN\tIN\tNL-HaNA_1.04.02_3655_0925.jpg\tDat gem:e Jnlanders, so wel als hunne; voorouders,\t[0.47544506192207336, 0.094834104180336, 0.4294295012950897, 0.0002913217758759856]\n",
      "BEGIN\tIN\tNL-HaNA_1.04.02_3655_0926.jpg\tde Comp„e pratenselijk souden heb„; „ben gehad; be\t[0.45260167121887207, 0.10437249392271042, 0.4425467848777771, 0.00047902355436235666]\n",
      "END\tIN\tNL-HaNA_1.04.02_3655_0927.jpg\tde versog te mitigatie; vandestraffe des doods; on\t[0.43692833185195923, 0.12285904586315155, 0.4385502338409424, 0.0016624340787529945]\n"
     ]
    },
    {
     "name": "stderr",
     "output_type": "stream",
     "text": [
      "  1%|          | 8/1194.6875 [00:07<18:55,  1.04batch/s]"
     ]
    },
    {
     "name": "stdout",
     "output_type": "stream",
     "text": [
      "BEGIN\tIN\tNL-HaNA_1.04.02_3655_0928.jpg\ten den Cap:n Mil: ste; phaan onschuldig ver; klaar\t[0.5006466507911682, 0.10135319083929062, 0.39743518829345703, 0.0005649419035762548]\n",
      "BEGIN\tIN\tNL-HaNA_1.04.02_3655_0929.jpg\ten Tagtig, van Amboina herw„s ontbo„; „den Capitai\t[0.49189096689224243, 0.09786378592252731, 0.40989255905151367, 0.0003527497756294906]\n",
      "BEGIN\tIN\tNL-HaNA_1.04.02_3655_0930.jpg\taan wien wijders geper; mitteerd is na Java over; \t[0.5151261687278748, 0.08515981584787369, 0.39946892857551575, 0.0002451013133395463]\n",
      "BEGIN\tIN\tNL-HaNA_1.04.02_3655_0931.jpg\tte verantwoorden nopens de voorschreeve; Poincten \t[0.49089452624320984, 0.09124986082315445, 0.4176102578639984, 0.0002453615888953209]\n",
      "BEGIN\tIN\tNL-HaNA_1.04.02_3655_0932.jpg\tdoor den opperk: en sec=s; in Cassa op gebragt rd=\t[0.5085186958312988, 0.08322883397340775, 0.4080446660518646, 0.00020782083447556943]\n",
      "BEGIN\tIN\tNL-HaNA_1.04.02_3655_0933.jpg\tPresident, den raad Extra; od: A: doeses.; den sev\t[0.5109632015228271, 0.08270925283432007, 0.4061230719089508, 0.00020448878058232367]\n",
      "BEGIN\tIN\tNL-HaNA_1.04.02_3655_0934.jpg\ten als zodanig aangesteld; J: k: welgerman.; „lius\t[0.5040838718414307, 0.08437395840883255, 0.41133543848991394, 0.00020670195226557553]\n",
      "BEGIN\tIN\tNL-HaNA_1.04.02_3655_0935.jpg\tgestatueerd voor welke; regtbank de procedures; ra\t[0.5128739476203918, 0.08230950683355331, 0.4046146273612976, 0.00020186713663861156]\n",
      "BEGIN\tIN\tNL-HaNA_1.04.02_3655_0936.jpg\t„ter, die zij, na dat het hun goeddagt,; van de be\t[0.4949602484703064, 0.08941386640071869, 0.4154008626937866, 0.0002250104589620605]\n",
      "BEGIN\tIN\tNL-HaNA_1.04.02_3655_0937.jpg\tdage op die voordragt om deese ir„; reguliere Hand\t[0.49208542704582214, 0.08939575403928757, 0.4182961881160736, 0.00022262769925873727]\n",
      "BEGIN\tIN\tNL-HaNA_1.04.02_3655_0938.jpg\tofficier, die de aanhaling heeft ge„; „daan, of vo\t[0.4885120689868927, 0.08927617222070694, 0.4219915568828583, 0.00022020905453246087]\n",
      "BEGIN\tIN\tNL-HaNA_1.04.02_3655_0939.jpg\tde geremoveerde orders; tot het doen van overschri\t[0.5098301768302917, 0.08173687011003494, 0.4082372486591339, 0.0001956872147275135]\n",
      "BEGIN\tIN\tNL-HaNA_1.04.02_3655_0940.jpg\tbij een Extract uit hunne refol: van; den H„r dier\t[0.4938550591468811, 0.08902604132890701, 0.4168984591960907, 0.00022040850308258086]\n",
      "BEGIN\tIN\tNL-HaNA_1.04.02_3655_0941.jpg\tsoonen tot nog toe nalatig bleeven; aan die order \t[0.4920247197151184, 0.08909493684768677, 0.418660968542099, 0.00021931294759269804]\n",
      "BEGIN\tIN\tNL-HaNA_1.04.02_3655_0942.jpg\tgoederen, waar van een ieder in Pos„; „fessie is, \t[0.4906221926212311, 0.08905593305826187, 0.4201034605503082, 0.00021842880232725292]\n",
      "BEGIN\tIN\tNL-HaNA_1.04.02_3655_0943.jpg\tschrijving van vaste goederen behoorlijk; zal moet\t[0.48737335205078125, 0.08908817917108536, 0.4233211874961853, 0.0002173240209231153]\n",
      "BEGIN\tIN\tNL-HaNA_1.04.02_3655_0944.jpg\tboiedel van wijlen S: E: ga; risson; derwesen capi\t[0.5086353421211243, 0.081568144261837, 0.40960320830345154, 0.00019337338744662702]\n",
      "BEGIN\tIN\tNL-HaNA_1.04.02_3655_0945.jpg\tten behoeve der uitlandige Erfgenamen,; aanvaard, \t[0.49179279804229736, 0.08899302780628204, 0.4189956486225128, 0.0002185461053159088]\n",
      "BEGIN\tIN\tNL-HaNA_1.04.02_3655_0946.jpg\tHier omtrend dan, bij ons in Con„; „sideratie geno\t[0.4863561689853668, 0.0894317701458931, 0.423993855714798, 0.00021817088418174535]\n",
      "BEGIN\tIN\tNL-HaNA_1.04.02_3655_0947.jpg\toverwijsing en procura„; tie tot comm: der bank; v\t[0.5071644186973572, 0.08158212900161743, 0.41106122732162476, 0.00019219209207221866]\n",
      "BEGIN\tIN\tNL-HaNA_1.04.02_3655_0948.jpg\twannemaker, te vorderen Rekening,; bewijs en reliq\t[0.5013019442558289, 0.08378130942583084, 0.4147181510925293, 0.00019854614220093936]\n",
      "BEGIN\tIN\tNL-HaNA_1.04.02_3655_0949.jpg\tde voorsz: Commissie overtegeven aan het; Collegie\t[0.501485288143158, 0.0837668925523758, 0.41454923152923584, 0.00019861051987390965]\n",
      "BEGIN\tIN\tNL-HaNA_1.04.02_3655_0950.jpg\t§ 16 volgens heet genoteerde ter on„; „zer recol: \t[0.500928521156311, 0.08393171429634094, 0.4149399399757385, 0.00019981265359092504]\n",
      "BEGIN\tIN\tNL-HaNA_1.04.02_3655_0951.jpg\tBank Courant en van Leening, bestaat; alleen in de\t[0.49893718957901, 0.08422195166349411, 0.4166388511657715, 0.00020200942526571453]\n",
      "BEGIN\tIN\tNL-HaNA_1.04.02_3655_0952.jpg\twegens de hier voren aan„; gehaalde Procuratie; Co\t[0.505676805973053, 0.08241208642721176, 0.4117101728916168, 0.0002008648298215121]\n",
      "BEGIN\tIN\tNL-HaNA_1.04.02_3655_0953.jpg\tuitkeering aan de Comp:; voorde affgestaancam; tio\t[0.5045112371444702, 0.08319616317749023, 0.412081778049469, 0.00021081778686493635]\n",
      "BEGIN\tIN\tNL-HaNA_1.04.02_3655_0954.jpg\tafgeeven, de bij de sComp„e aan handen; geweest zi\t[0.4677506387233734, 0.09391731023788452, 0.43806058168411255, 0.0002715299488045275]\n",
      "BEGIN\tIN\tNL-HaNA_1.04.02_3655_0955.jpg\twaar van en inkoop op; 7 â 800: kisten is bepaald.\t[0.4684326648712158, 0.10169174522161484, 0.42931807041168213, 0.0005575269460678101]\n",
      "BEGIN\tIN\tNL-HaNA_1.04.02_3655_0956.jpg\tHoofd participant; I: W: Sem van Bazel.; veranderi\t[0.5082718729972839, 0.0835610032081604, 0.40793925523757935, 0.00022783083841204643]\n",
      "BEGIN\tIN\tNL-HaNA_1.04.02_3655_0957.jpg\tvan Goudoever, tot secretaris den onderk:; buiten \t[0.49559369683265686, 0.0867362767457962, 0.4174174964427948, 0.00025258719688281417]\n",
      "BEGIN\tIN\tNL-HaNA_1.04.02_3655_0958.jpg\twaar aan ter stond; van 't overlijden van on; chri\t[0.4798503816127777, 0.09481698274612427, 0.4249264895915985, 0.0004061234067194164]\n",
      "END\tIN\tNL-HaNA_1.04.02_3655_0959.jpg\t„den worden, na hunne wijze, wel laten Taxee„; „ke\t[0.4314940273761749, 0.12827159464359283, 0.4383171796798706, 0.0019171626772731543]\n"
     ]
    },
    {
     "name": "stderr",
     "output_type": "stream",
     "text": [
      "  1%|          | 9/1194.6875 [00:08<18:37,  1.06batch/s]"
     ]
    },
    {
     "name": "stdout",
     "output_type": "stream",
     "text": [
      "BEGIN\tIN\tNL-HaNA_1.04.02_3655_0960.jpg\t„teren gequalificeert:; 1. Om voortaan alle Taxati\t[0.4853501319885254, 0.1122131496667862, 0.40171128511428833, 0.0007254790980368853]\n",
      "BEGIN\tIN\tNL-HaNA_1.04.02_3655_0961.jpg\ton g'interpreteerd is het; dood bij publicatie; de\t[0.513838529586792, 0.0896632969379425, 0.3961770236492157, 0.0003211330040358007]\n",
      "BEGIN\tIN\tNL-HaNA_1.04.02_3655_0962.jpg\tgemeenschap van goederen trouwen„; en de opgemelde\t[0.49772533774375916, 0.0919751524925232, 0.41002699732780457, 0.00027256362955085933]\n",
      "BEGIN\tIN\tNL-HaNA_1.04.02_3655_0963.jpg\twas haare wettige Lijfweer.; Dat Boedelmeesteren, \t[0.4929339587688446, 0.09053251892328262, 0.4162859618663788, 0.00024761277018114924]\n",
      "BEGIN\tIN\tNL-HaNA_1.04.02_3655_0964.jpg\ttegen den verkoop van slavinnen, bij; welke door h\t[0.4858335554599762, 0.09027270972728729, 0.4236513376235962, 0.0002424428821541369]\n",
      "BEGIN\tIN\tNL-HaNA_1.04.02_3655_0965.jpg\teenige burger officie; aen vervuld; van dat gestig\t[0.4907011091709137, 0.08643993735313416, 0.42262211441993713, 0.00023681572929490358]\n",
      "BEGIN\tIN\tNL-HaNA_1.04.02_3655_0966.jpg\tschepen en gequalifi; ceerd tot 't vernietigen; ve\t[0.47907665371894836, 0.09989186376333237, 0.420515775680542, 0.0005157553241588175]\n",
      "BEGIN\tIN\tNL-HaNA_1.04.02_3655_0967.jpg\tJaarlijksche uitmoedering der stads bin„; „nen -n \t[0.49655985832214355, 0.08842834830284119, 0.41478514671325684, 0.0002266547380713746]\n",
      "BEGIN\tIN\tNL-HaNA_1.04.02_3655_0968.jpg\tnadere middelen om; de stad van wateren; gesteld.;\t[0.5131117105484009, 0.08256757259368896, 0.4041135609149933, 0.00020715704886242747]\n",
      "BEGIN\tIN\tNL-HaNA_1.04.02_3655_0969.jpg\t„ter te voorzien, valt ons tans meede; nog te note\t[0.4947563111782074, 0.0887695774435997, 0.4162498414516449, 0.00022435987193603069]\n",
      "BEGIN\tIN\tNL-HaNA_1.04.02_3655_0970.jpg\ten dat de tot het een en ander vereischt; wordende\t[0.48950716853141785, 0.08901602029800415, 0.42125236988067627, 0.00022438868472818285]\n",
      "BEGIN\tIN\tNL-HaNA_1.04.02_3655_0971.jpg\ten de executie van 't; plan van vetter tot; uitges\t[0.5007190704345703, 0.08427577465772629, 0.4147934019565582, 0.0002117830590577796]\n",
      "BEGIN\tIN\tNL-HaNA_1.04.02_3655_0972.jpg\taan ons overgegeven een ter resol:; van den ses en\t[0.47437384724617004, 0.09178604930639267, 0.43358391523361206, 0.00025620567612349987]\n",
      "BEGIN\tIN\tNL-HaNA_1.04.02_3655_0973.jpg\tonder opzigt van den; fabuicq verscheijden; brugge\t[0.47471874952316284, 0.09982012957334518, 0.42495113611221313, 0.0005100028938613832]\n",
      "BEGIN\tIN\tNL-HaNA_1.04.02_3655_0974.jpg\t„ten deser stad leggende, te laten re„; „pareeren,\t[0.4953111708164215, 0.08816562592983246, 0.4163012206554413, 0.00022199108207132667]\n",
      "BEGIN\tIN\tNL-HaNA_1.04.02_3655_0975.jpg\t7. aaaks baanders; wegens overtreding; der orders \t[0.5019583702087402, 0.08373776823282242, 0.41410157084465027, 0.00020235402917023748]\n",
      "BEGIN\tIN\tNL-HaNA_1.04.02_3655_0976.jpg\ten de stad Apotheecq; gevisiteerd.; §37 Na Jaarlij\t[0.5095139145851135, 0.08216716349124908, 0.4081134498119354, 0.0002054318320006132]\n",
      "BEGIN\tIN\tNL-HaNA_1.04.02_3655_0977.jpg\ten hun Eerw: gerecom; mandeert toe zig ter; opzigt\t[0.4998524487018585, 0.0840386375784874, 0.41589662432670593, 0.00021226523676887155]\n",
      "BEGIN\tIN\tNL-HaNA_1.04.02_3655_0978.jpg\tsoudags middags als; voorheen, op de Catthe; diken\t[0.49864113330841064, 0.08440467715263367, 0.4167206883430481, 0.00023344186774920672]\n",
      "BEGIN\tIN\tNL-HaNA_1.04.02_3655_0979.jpg\tden kerkenn:e gerecom; mandeerd sig ten opzigte; v\t[0.47726231813430786, 0.10032858699560165, 0.42187294363975525, 0.0005361398216336966]\n",
      "BEGIN\tIN\tNL-HaNA_1.04.02_3655_0980.jpg\ten de predicanten van; het dubbeld huis huur; en k\t[0.4873393476009369, 0.09807485342025757, 0.4140830934047699, 0.0005027594743296504]\n",
      "BEGIN\tIN\tNL-HaNA_1.04.02_3655_0981.jpg\t„plaatse door den Predikant van het Eiland; onrues\t[0.5120566487312317, 0.08302948623895645, 0.40470898151397705, 0.00020490371389314532]\n",
      "BEGIN\tIN\tNL-HaNA_1.04.02_3655_0982.jpg\tberigt der kerkenraad; nopens de krankke; soekens.\t[0.5085826516151428, 0.08359989523887634, 0.4076136350631714, 0.00020376603060867637]\n",
      "BEGIN\tIN\tNL-HaNA_1.04.02_3655_0983.jpg\tHier aan is sedert voldaan bij een; ter onser reso\t[0.49208787083625793, 0.08871538937091827, 0.41897571086883545, 0.0002210162056144327]\n",
      "BEGIN\tIN\tNL-HaNA_1.04.02_3655_0984.jpg\tBatavia; „traxie noodwendig te dugten staat.; §47:\t[0.5119907259941101, 0.08236705511808395, 0.4054364264011383, 0.0002058015379589051]\n",
      "BEGIN\tIN\tNL-HaNA_1.04.02_3655_0985.jpg\thebben gemonteerd rd=s 8359. 30.; en de Lasten maa\t[0.4917781352996826, 0.0890771821141243, 0.41892009973526, 0.00022462847118731588]\n",
      "BEGIN\tIN\tNL-HaNA_1.04.02_3655_0986.jpg\ttot het Jaarlijks fournissement aan; de geinteress\t[0.5032903552055359, 0.08421140164136887, 0.4122891426086426, 0.00020914996275678277]\n",
      "BEGIN\tIN\tNL-HaNA_1.04.02_3655_0987.jpg\t't geen ult„o December seeventien honderd; twee en\t[0.48546701669692993, 0.08997280150651932, 0.42432713508605957, 0.00023300235625356436]\n",
      "BEGIN\tIN\tNL-HaNA_1.04.02_3655_0988.jpg\ten den vorigen, van; een betaling van me; §50. Doo\t[0.5019412040710449, 0.08436273038387299, 0.41346877813339233, 0.00022724477457813919]\n",
      "BEGIN\tIN\tNL-HaNA_1.04.02_3655_0989.jpg\taan dia Conen maar; delijks eenige brieven; van Ca\t[0.49789172410964966, 0.08669789135456085, 0.415147989988327, 0.00026244265609420836]\n",
      "BEGIN\tIN\tNL-HaNA_1.04.02_3655_0990.jpg\tom de maandelijksche verstrekkingen; te konnen doe\t[0.4744150638580322, 0.09635823220014572, 0.42881160974502563, 0.0004150433815084398]\n",
      "BEGIN\tIN\tNL-HaNA_1.04.02_3655_0991.jpg\tverandering in de; regenten der hospi; talen; en o\t[0.44299113750457764, 0.12369070202112198, 0.4315457046031952, 0.0017723937053233385]\n"
     ]
    },
    {
     "name": "stderr",
     "output_type": "stream",
     "text": [
      "  1%|          | 10/1194.6875 [00:10<19:56,  1.01s/batch]"
     ]
    },
    {
     "name": "stdout",
     "output_type": "stream",
     "text": [
      "BEGIN\tIN\tNL-HaNA_1.04.02_3655_0992.jpg\tbinnen moeder van; het weeshuis B: E: Hb:; vanling\t[0.5009008049964905, 0.09988324344158173, 0.3986744284629822, 0.0005415318300947547]\n",
      "BEGIN\tIN\tNL-HaNA_1.04.02_3655_0993.jpg\ten door des zelfs ae; genten laten afschrij; repar\t[0.5102586150169373, 0.08890367299318314, 0.4005484879016876, 0.00028922592173330486]\n",
      "BEGIN\tIN\tNL-HaNA_1.04.02_3655_0994.jpg\tter suppletie van het; geboek aan geld zijn aeni; \t[0.5165907144546509, 0.08464780449867249, 0.398527592420578, 0.00023387762485072017]\n",
      "BEGIN\tIN\tNL-HaNA_1.04.02_3655_0995.jpg\tCapitalen bij de ba; taviapche Negotie; boeks; Dir\t[0.5023386478424072, 0.08821279555559158, 0.4092165231704712, 0.00023202350712381303]\n",
      "BEGIN\tIN\tNL-HaNA_1.04.02_3655_0996.jpg\tMemorien, door den Negotie Boekhou„; „der deser Ho\t[0.4877743721008301, 0.09303341060876846, 0.41894811391830444, 0.00024411229242105037]\n",
      "BEGIN\tIN\tNL-HaNA_1.04.02_3655_0997.jpg\talleen qualificatie verleenden, maar ook; tot die \t[0.4942542612552643, 0.08713160455226898, 0.4183993637561798, 0.00021477308473549783]\n",
      "BEGIN\tIN\tNL-HaNA_1.04.02_3655_0998.jpg\twaar op een premie; van 1000: duc: is gesteld; van\t[0.501564621925354, 0.08378807455301285, 0.41444674134254456, 0.00020051421597599983]\n",
      "BEGIN\tIN\tNL-HaNA_1.04.02_3655_0999.jpg\teenige schikkingen; gemaakt tot voorko„; in sComp:\t[0.5104511976242065, 0.08194740861654282, 0.4074057340621948, 0.00019571361190173775]\n",
      "BEGIN\tIN\tNL-HaNA_1.04.02_3655_1000.jpg\tJnkoop bestaan in:; 5528987½ lb: af 423 1/50 picol\t[0.4856462776660919, 0.09226321429014206, 0.42185768485069275, 0.00023289154341910034]\n",
      "BEGIN\tIN\tNL-HaNA_1.04.02_3655_1001.jpg\trefert omtrent som; mige posten aan de; resol:; „n\t[0.5023077726364136, 0.0833493173122406, 0.41414639353752136, 0.00019655325741041452]\n",
      "BEGIN\tIN\tNL-HaNA_1.04.02_3655_1002.jpg\tvan benodigdheeden voor het Esqua„; „der 'slands o\t[0.49417880177497864, 0.08630809187889099, 0.419306218624115, 0.0002069228794425726]\n",
      "BEGIN\tIN\tNL-HaNA_1.04.02_3655_1003.jpg\tde prijs van Japans; staafkoper op rd=s; Rd„s 6380\t[0.5070801377296448, 0.08171767741441727, 0.4110110104084015, 0.00019119314674753696]\n",
      "BEGIN\tIN\tNL-HaNA_1.04.02_3655_1004.jpg\talleen de voornaamste; belastingen aangehaald; en \t[0.5043186545372009, 0.08325406908988953, 0.4122304320335388, 0.00019678757234942168]\n",
      "BEGIN\tIN\tNL-HaNA_1.04.02_3655_1005.jpg\teenige arthillerij; goederen ve goed; §71 Nes soda\t[0.4961671233177185, 0.08639779686927795, 0.4172270596027374, 0.00020800076890736818]\n",
      "BEGIN\tIN\tNL-HaNA_1.04.02_3655_1006.jpg\tdoor de adminiss=s; der suikerpakhuisen; ten vergo\t[0.5045517086982727, 0.08338477462530136, 0.41186559200286865, 0.000197886154637672]\n",
      "BEGIN\tIN\tNL-HaNA_1.04.02_3655_1007.jpg\twegens de gesteldheid der kas, bij den; ontvangst \t[0.48504915833473206, 0.09238212555646896, 0.42233604192733765, 0.00023260663147084415]\n",
      "BEGIN\tIN\tNL-HaNA_1.04.02_3655_1008.jpg\tom door meerw: administrateurs ver„; „goed te word\t[0.4919763505458832, 0.08675364404916763, 0.42105987668037415, 0.00021010806085541844]\n",
      "BEGIN\tIN\tNL-HaNA_1.04.02_3655_1009.jpg\ten veertig lb: Thin, op drie hondert twee; en seev\t[0.4874272346496582, 0.08727940171957016, 0.4250774383544922, 0.00021597801242023706]\n",
      "BEGIN\tIN\tNL-HaNA_1.04.02_3655_1010.jpg\tter en 4. p=s goude moo; „ren gecrediteerd; konden\t[0.48453643918037415, 0.08617197722196579, 0.4290674030780792, 0.00022419344168156385]\n",
      "BEGIN\tIN\tNL-HaNA_1.04.02_3655_1011.jpg\teen vermiste kist met; goud in handen van; en adad\t[0.47545966506004333, 0.0995650589466095, 0.4244705140590668, 0.0005047623999416828]\n",
      "BEGIN\tIN\tNL-HaNA_1.04.02_3655_1012.jpg\ten die bij van het; suiker- Pakhuis; eenige lieslo\t[0.4991286098957062, 0.08610294759273529, 0.4145587682723999, 0.00020967252203263342]\n",
      "BEGIN\tIN\tNL-HaNA_1.04.02_3655_1013.jpg\tafschrijning van di„; verse dranken.; „zend Agt ho\t[0.5010542869567871, 0.08363524824380875, 0.415115088224411, 0.00019538647029548883]\n",
      "BEGIN\tIN\tNL-HaNA_1.04.02_3655_1014.jpg\tvoor de afgesonden; wordende dranken; Jogt.; afsch\t[0.5080637335777283, 0.081730917096138, 0.41001462936401367, 0.000190702747204341]\n",
      "BEGIN\tIN\tNL-HaNA_1.04.02_3655_1015.jpg\t3. houwersscheeden en; 6. port Epees, als zijnde v\t[0.5033683776855469, 0.0833873599767685, 0.4130478501319885, 0.00019638481899164617]\n",
      "BEGIN\tIN\tNL-HaNA_1.04.02_3655_1016.jpg\t700: lb: spek aan minwigten, e; 1. vat zout, als o\t[0.5033859610557556, 0.08342267572879791, 0.41299447417259216, 0.0001969086442841217]\n",
      "BEGIN\tIN\tNL-HaNA_1.04.02_3655_1017.jpg\t12495: lb: stof en gruis; van specerijen.; 343. ge\t[0.5029017925262451, 0.08366688340902328, 0.41323235630989075, 0.0001990022574318573]\n",
      "BEGIN\tIN\tNL-HaNA_1.04.02_3655_1018.jpg\teen extra ordin:r afschrij; „ving van salpeter toe\t[0.5040897727012634, 0.08391117304563522, 0.4117964208126068, 0.00020262949692551047]\n",
      "BEGIN\tIN\tNL-HaNA_1.04.02_3655_1019.jpg\tvondene Salpeter ter quantiteijt van ses; en sesti\t[0.48227110505104065, 0.0934222936630249, 0.42406347393989563, 0.00024315695918630809]\n",
      "BEGIN\tIN\tNL-HaNA_1.04.02_3655_1020.jpg\t't welk gedurende al dien tijd, en voor„; „namentl\t[0.4858661890029907, 0.08869603276252747, 0.4252080023288727, 0.00022976040781941265]\n",
      "BEGIN\tIN\tNL-HaNA_1.04.02_3655_1021.jpg\tsomede krinidreek: der; gewapende schepen; en 2. g\t[0.49331119656562805, 0.08655562996864319, 0.4198840856552124, 0.00024903134908527136]\n",
      "BEGIN\tIN\tNL-HaNA_1.04.02_3655_1022.jpg\tvan de uitgeleverde; ladingen word 't voor; gespec\t[0.46253690123558044, 0.10180079936981201, 0.43518322706222534, 0.00047905606334097683]\n",
      "END\tIN\tNL-HaNA_1.04.02_3655_1023.jpg\tnopens die der overige scheepen aan; de respective\t[0.4207659363746643, 0.13392676413059235, 0.44309002161026, 0.0022172615863382816]\n"
     ]
    },
    {
     "name": "stderr",
     "output_type": "stream",
     "text": [
      "  1%|          | 11/1194.6875 [00:11<20:29,  1.04s/batch]"
     ]
    },
    {
     "name": "stdout",
     "output_type": "stream",
     "text": [
      "BEGIN\tIN\tNL-HaNA_1.04.02_3655_1024.jpg\taanmerking omtrend; de uitsending van Me; vinding \t[0.4947112500667572, 0.105046346783638, 0.3996354043483734, 0.0006069232476875186]\n",
      "BEGIN\tIN\tNL-HaNA_1.04.02_3655_1025.jpg\tTen opsigte van het sal sedliceas,; bestaat deselv\t[0.5050976276397705, 0.09167078137397766, 0.4029194116592407, 0.00031214533373713493]\n",
      "BEGIN\tIN\tNL-HaNA_1.04.02_3655_1026.jpg\tgesmolten, volvuiligheid en meest; swart, veroorsa\t[0.5041497945785522, 0.08748754113912582, 0.4081193208694458, 0.00024335581110790372]\n",
      "BEGIN\tIN\tNL-HaNA_1.04.02_3655_1027.jpg\tgedeeltelijk meede versengd, en de daar; in zijnde\t[0.5123777389526367, 0.08396834880113602, 0.40343618392944336, 0.00021776683570351452]\n",
      "BEGIN\tIN\tNL-HaNA_1.04.02_3655_1028.jpg\tvoormelde kas, waar in de olij was ge„; „weest, bi\t[0.4906823933124542, 0.09052043408155441, 0.4185628592967987, 0.00023435345792677253]\n",
      "BEGIN\tIN\tNL-HaNA_1.04.02_3655_1029.jpg\tspeciaal berigt en; versoekt Nopens de cort; perer\t[0.4995937645435333, 0.08485711365938187, 0.4153413474559784, 0.0002077005192404613]\n",
      "BEGIN\tIN\tNL-HaNA_1.04.02_3655_1030.jpg\tJnde kassen met; papieren zijn geene; men hier and\t[0.5118187665939331, 0.08219251036643982, 0.40578287839889526, 0.0002058691025013104]\n",
      "BEGIN\tIN\tNL-HaNA_1.04.02_3655_1031.jpg\tgepasseerde Confumtie; reken: en toegestaane; prem\t[0.5133817791938782, 0.08204898983240128, 0.404362291097641, 0.00020695429702755064]\n",
      "BEGIN\tIN\tNL-HaNA_1.04.02_3655_1032.jpg\trembourssement aan; den schipper van de; wijnanda \t[0.5106052756309509, 0.08241649717092514, 0.40677711367607117, 0.00020116230007261038]\n",
      "BEGIN\tIN\tNL-HaNA_1.04.02_3655_1033.jpg\treefert omtrent de vol„; doening der Eischen aan; \t[0.5100067853927612, 0.0824490487575531, 0.4073435962200165, 0.00020056296489201486]\n",
      "BEGIN\tIN\tNL-HaNA_1.04.02_3655_1034.jpg\therhaald verzoek om de; compleete voldoening; van \t[0.510010838508606, 0.0824151411652565, 0.40737366676330566, 0.0002003932313527912]\n",
      "BEGIN\tIN\tNL-HaNA_1.04.02_3655_1035.jpg\tgebrek aan Ambagts; „lieden voor de scheepen.; geb\t[0.5164452791213989, 0.08193325251340866, 0.4014154076576233, 0.0002060699334833771]\n",
      "BEGIN\tIN\tNL-HaNA_1.04.02_3655_1036.jpg\t„pagie-goederen in gereedheid te laten; brengen, a\t[0.4935579001903534, 0.08954384177923203, 0.4166737496852875, 0.000224517731112428]\n",
      "BEGIN\tIN\tNL-HaNA_1.04.02_3655_1037.jpg\tCommandeur aan ons maandelijks Be„; „rigt gedaan, \t[0.504626989364624, 0.08413432538509369, 0.41103595495224, 0.00020279794989619404]\n",
      "BEGIN\tIN\tNL-HaNA_1.04.02_3655_1038.jpg\tDen uitslag heeft egter niet be„; antwoord aan de \t[0.4919080436229706, 0.08969151228666306, 0.4181779623031616, 0.00022256314696278423]\n",
      "BEGIN\tIN\tNL-HaNA_1.04.02_3655_1039.jpg\tDe Berigters gaven wijders te kennen; dat zij van \t[0.48795294761657715, 0.08953313529491425, 0.4222942888736725, 0.00021965619816910475]\n",
      "BEGIN\tIN\tNL-HaNA_1.04.02_3655_1040.jpg\ten met de Journaalen, welke nog aan; handen waaren\t[0.4985392093658447, 0.08403981477022171, 0.4172225296497345, 0.00019850100215990096]\n",
      "BEGIN\tIN\tNL-HaNA_1.04.02_3655_1041.jpg\tvan het project om met; huurvaartuigen te la; gesi\t[0.5065550208091736, 0.08200344443321228, 0.4112473428249359, 0.0001942455128300935]\n",
      "BEGIN\tIN\tNL-HaNA_1.04.02_3655_1042.jpg\tordre omtrend het hij; schen van vaartuigen; Vat d\t[0.5083652138710022, 0.08191215991973877, 0.40952783823013306, 0.00019472376152407378]\n",
      "BEGIN\tIN\tNL-HaNA_1.04.02_3655_1043.jpg\tcirculaire aanbe; veling nopens de; verstrekking t\t[0.5079832077026367, 0.08213252574205399, 0.4096883237361908, 0.0001959993678610772]\n",
      "BEGIN\tIN\tNL-HaNA_1.04.02_3655_1044.jpg\tAanbieding van de; berigten nopens de con; gezondh\t[0.509110689163208, 0.0820300355553627, 0.4086631238460541, 0.00019610385061241686]\n",
      "BEGIN\tIN\tNL-HaNA_1.04.02_3655_1045.jpg\tder is reeds in aftob: lb.; gedeeltelijk verslag g\t[0.5084285140037537, 0.08224070072174072, 0.4091334044933319, 0.0001973371981875971]\n",
      "BEGIN\tIN\tNL-HaNA_1.04.02_3655_1046.jpg\talle verstrekkingen; aan de oorlagschepen; reek: g\t[0.5086024403572083, 0.08224134892225266, 0.4089582860469818, 0.00019794564286712557]\n",
      "BEGIN\tIN\tNL-HaNA_1.04.02_3655_1047.jpg\tvoor het vertrek naar; niouw is het Escader; ses m\t[0.5125779509544373, 0.08196453005075455, 0.4052531123161316, 0.000204413227038458]\n",
      "BEGIN\tIN\tNL-HaNA_1.04.02_3655_1048.jpg\tverstreking van; Equipagie en artil„; „lerij- goed\t[0.5090075731277466, 0.08256301283836365, 0.40822771191596985, 0.00020166553440503776]\n",
      "BEGIN\tIN\tNL-HaNA_1.04.02_3655_1049.jpg\tschikking omtrent; het honneurs op de; rheede.; en\t[0.5084372162818909, 0.08282852172851562, 0.4085301160812378, 0.00020411302102729678]\n",
      "BEGIN\tIN\tNL-HaNA_1.04.02_3655_1050.jpg\tresol„n van den 30: Maart en 30: Apr:; verwisselin\t[0.4982672929763794, 0.08537154644727707, 0.416147381067276, 0.00021373588242568076]\n",
      "BEGIN\tIN\tNL-HaNA_1.04.02_3655_1051.jpg\taan den Eisch: van; zijlen voor de oor„; logscheep\t[0.5026974678039551, 0.0841936469078064, 0.41288822889328003, 0.00022068739053793252]\n",
      "BEGIN\tIN\tNL-HaNA_1.04.02_3655_1052.jpg\t„ten aanmaken een geheel stel; nieuwe zijlen, so s\t[0.4636174440383911, 0.09573835879564285, 0.44034937024116516, 0.0002948366745840758]\n",
      "BEGIN\tIN\tNL-HaNA_1.04.02_3655_1053.jpg\tde gereconraliseer; de scheepelingen; nagezonden.;\t[0.46148136258125305, 0.10570288449525833, 0.43214893341064453, 0.0006668181740678847]\n",
      "BEGIN\tIN\tNL-HaNA_1.04.02_3655_1054.jpg\thoedanig gehan„; „delt is met de buit; gemaakte Ca\t[0.4823715388774872, 0.09464681893587112, 0.4225694537162781, 0.00041217892430722713]\n",
      "END\tIN\tNL-HaNA_1.04.02_3655_1055.jpg\thet Esquader is; bij de terugkomst; van Malacca ge\t[0.4315340518951416, 0.1282796859741211, 0.43828144669532776, 0.0019048056565225124]\n"
     ]
    },
    {
     "name": "stderr",
     "output_type": "stream",
     "text": [
      "  1%|          | 12/1194.6875 [00:12<20:50,  1.06s/batch]"
     ]
    },
    {
     "name": "stdout",
     "output_type": "stream",
     "text": [
      "BEGIN\tIN\tNL-HaNA_1.04.02_3655_1056.jpg\tManschap die men; heeft laten overgaan; aanwijsing\t[0.4536241888999939, 0.11735017597675323, 0.4279578924179077, 0.0010677403770387173]\n",
      "BEGIN\tIN\tNL-HaNA_1.04.02_3655_1057.jpg\ttans niets anders te melden, dan alleenlijk,; dat,\t[0.4987494647502899, 0.09484102576971054, 0.4060835540294647, 0.000325941015034914]\n",
      "BEGIN\tIN\tNL-HaNA_1.04.02_3655_1058.jpg\t„pen, uitwijsens de naar gewoon„; te overgaande li\t[0.5014280080795288, 0.09004542231559753, 0.40827202796936035, 0.00025459122844040394]\n",
      "BEGIN\tIN\tNL-HaNA_1.04.02_3655_1059.jpg\tdat aan belang is geweest, om daar in; een merkeli\t[0.4870068430900574, 0.09345841407775879, 0.41928261518478394, 0.0002521879505366087]\n",
      "BEGIN\tIN\tNL-HaNA_1.04.02_3655_1060.jpg\teen groot gedeelte van derselver; Equipagie, gedur\t[0.5051702260971069, 0.08406349271535873, 0.41055917739868164, 0.00020707372459582984]\n",
      "BEGIN\tIN\tNL-HaNA_1.04.02_3655_1061.jpg\tgemaakte schik„; kingen omtrend; de veld arthille;\t[0.5076674818992615, 0.08347681909799576, 0.4086522161960602, 0.0002034375793300569]\n",
      "BEGIN\tIN\tNL-HaNA_1.04.02_3655_1062.jpg\truipture, voor die Batterijen en de; veld Arthille\t[0.5010836720466614, 0.0857955738902092, 0.41291072964668274, 0.00021000488777644932]\n",
      "BEGIN\tIN\tNL-HaNA_1.04.02_3655_1063.jpg\top het water-Casteel, op de Forten 't loo,; Dieren\t[0.5020358562469482, 0.08553916960954666, 0.41221657395362854, 0.00020841186051256955]\n",
      "BEGIN\tIN\tNL-HaNA_1.04.02_3655_1064.jpg\t19 stx, voor de daar toe benodigde; Materialen Jnk\t[0.48976078629493713, 0.09103810787200928, 0.4189726710319519, 0.0002283964422531426]\n",
      "BEGIN\tIN\tNL-HaNA_1.04.02_3655_1065.jpg\t„melde Buiten werken allesints nuttig, en; diensti\t[0.4845350384712219, 0.09098020195960999, 0.4242595136165619, 0.0002252711565233767]\n",
      "BEGIN\tIN\tNL-HaNA_1.04.02_3655_1066.jpg\tqualificatie tot; het huuren van; meer metselaars;\t[0.5030314326286316, 0.08250994235277176, 0.41426554322242737, 0.00019311430514790118]\n",
      "BEGIN\tIN\tNL-HaNA_1.04.02_3655_1067.jpg\tdeneutvoer van goud; en selver is nader; geinterdi\t[0.5054590106010437, 0.08233577013015747, 0.4120118021965027, 0.00019340110884513706]\n",
      "BEGIN\tIN\tNL-HaNA_1.04.02_3655_1068.jpg\took is verboden de; verkoop van surie,; „bier; „ge\t[0.5074629187583923, 0.08243890851736069, 0.4099031090736389, 0.00019507936667650938]\n",
      "BEGIN\tIN\tNL-HaNA_1.04.02_3655_1069.jpg\t„troosen, als Militairen, hebben wij op den; 3; 3„\t[0.48468706011772156, 0.09082330018281937, 0.42426443099975586, 0.000225183175643906]\n",
      "BEGIN\tIN\tNL-HaNA_1.04.02_3655_1070.jpg\tvan de aan de schi„; neephe officieren; ren zijn z\t[0.5116447806358337, 0.0813450738787651, 0.40681201219558716, 0.00019811102538369596]\n",
      "BEGIN\tIN\tNL-HaNA_1.04.02_3655_1071.jpg\tlimitatie van; dat verbod omtrend; de gepermitteer\t[0.507132351398468, 0.08238443732261658, 0.4102884531021118, 0.0001947152049979195]\n",
      "BEGIN\tIN\tNL-HaNA_1.04.02_3655_1072.jpg\tde in't voer van; suiker is mede; geinterdiceerd.;\t[0.49856123328208923, 0.08514314889907837, 0.4160926342010498, 0.00020292303815949708]\n",
      "BEGIN\tIN\tNL-HaNA_1.04.02_3655_1073.jpg\tNadere ontdek; king van ral; sche Credit brie; tre\t[0.5061794519424438, 0.08238575607538223, 0.4112412631511688, 0.00019351088849361986]\n",
      "BEGIN\tIN\tNL-HaNA_1.04.02_3655_1074.jpg\tden Chinees oijbing„; „ko Een zijne wegens; met ma\t[0.508148193359375, 0.08249501883983612, 0.4091615080833435, 0.00019530218560248613]\n",
      "BEGIN\tIN\tNL-HaNA_1.04.02_3655_1075.jpg\t„schrifte te kennen gegeven, dat door hem; Crimine\t[0.48731616139411926, 0.09073237329721451, 0.4217272102832794, 0.00022428024385590106]\n",
      "BEGIN\tIN\tNL-HaNA_1.04.02_3655_1076.jpg\tmet de gem: staaf; oeffening is het; gecesseerd.; \t[0.5048685669898987, 0.08248869329690933, 0.4124496281147003, 0.0001931545411935076]\n",
      "BEGIN\tIN\tNL-HaNA_1.04.02_3655_1077.jpg\tinterpretatie van; de ordre nopens; 's Comp=s pres\t[0.49765560030937195, 0.08511631935834885, 0.41702601313591003, 0.0002021053951466456]\n",
      "BEGIN\tIN\tNL-HaNA_1.04.02_3655_1078.jpg\tde verstrekking van; papier aan de; „ren is op de \t[0.5047647953033447, 0.08252634853124619, 0.4125153422355652, 0.00019355597032699734]\n",
      "BEGIN\tIN\tNL-HaNA_1.04.02_3655_1079.jpg\taanwijsing waar; de huiselijke schik; der belang b\t[0.505924642086029, 0.08260434865951538, 0.4112760126590729, 0.00019497866742312908]\n",
      "BEGIN\tIN\tNL-HaNA_1.04.02_3655_1080.jpg\taanbeste de leveran; tie van swavel.; den 27. octo\t[0.4976196885108948, 0.08535107225179672, 0.4168248176574707, 0.00020446734561119229]\n",
      "BEGIN\tIN\tNL-HaNA_1.04.02_3655_1081.jpg\tTrendement der; Jaccatrasche in; komsten.; der kru\t[0.5046741366386414, 0.08278930187225342, 0.4123396873474121, 0.00019684019207488745]\n",
      "BEGIN\tIN\tNL-HaNA_1.04.02_3655_1082.jpg\tde oorlog heeft op; de domainen om; gehad.; Per Tr\t[0.5053876042366028, 0.08321180194616318, 0.41119933128356934, 0.00020130917255301028]\n",
      "BEGIN\tIN\tNL-HaNA_1.04.02_3655_1083.jpg\theeft, favorabel reguard te slaan op de; lamentabe\t[0.481090784072876, 0.09226353466510773, 0.4264073669910431, 0.00023829180281609297]\n",
      "BEGIN\tIN\tNL-HaNA_1.04.02_3655_1084.jpg\tde geregtigheijd; van de uitgaande; suiker word bi\t[0.4952658414840698, 0.08470357209444046, 0.41981518268585205, 0.00021534590632654727]\n",
      "BEGIN\tIN\tNL-HaNA_1.04.02_3655_1085.jpg\tde geregtigheijd; van het gemaal; Colligeerd.; end\t[0.4989207983016968, 0.08589313179254532, 0.41493210196495056, 0.0002539028355386108]\n",
      "BEGIN\tIN\tNL-HaNA_1.04.02_3655_1086.jpg\tdispositie op zekere; door de pagters van; de waag\t[0.4758196473121643, 0.09500741958618164, 0.42877882719039917, 0.0003940372262150049]\n",
      "END\tIN\tNL-HaNA_1.04.02_3655_1087.jpg\tordre gesteld om„; trend een agterstal; van Arak; \t[0.43685513734817505, 0.12421892583370209, 0.43721717596054077, 0.0017086925217881799]\n"
     ]
    },
    {
     "name": "stderr",
     "output_type": "stream",
     "text": [
      "  1%|          | 13/1194.6875 [00:13<20:34,  1.04s/batch]"
     ]
    },
    {
     "name": "stdout",
     "output_type": "stream",
     "text": [
      "BEGIN\tIN\tNL-HaNA_1.04.02_3655_1088.jpg\twelke pagten na; gewoonte in admo„; diatie zijn af\t[0.49866119027137756, 0.10154608637094498, 0.3992285430431366, 0.0005642176256515086]\n",
      "BEGIN\tIN\tNL-HaNA_1.04.02_3655_1089.jpg\thoeveel de Jongste; verpagting heeft; gerendeert.;\t[0.5030966997146606, 0.09172691404819489, 0.40486663579940796, 0.00030970494844950736]\n",
      "BEGIN\tIN\tNL-HaNA_1.04.02_3655_1090.jpg\twaarschouwing; gedaan voor de; verpagting; Hoeveel\t[0.5091730356216431, 0.08578155189752579, 0.40480539202690125, 0.00024004389706533402]\n",
      "BEGIN\tIN\tNL-HaNA_1.04.02_3655_1091.jpg\tMen tragt de par; ticuliere vaart; op te beuren.; \t[0.5075670480728149, 0.08475678414106369, 0.4074491560459137, 0.00022707322204951197]\n",
      "BEGIN\tIN\tNL-HaNA_1.04.02_3655_1092.jpg\tter Hoofdplaatse van diverse China„; „se whaaren, \t[0.48915356397628784, 0.08814283460378647, 0.42245692014694214, 0.0002467090089339763]\n",
      "BEGIN\tIN\tNL-HaNA_1.04.02_3655_1093.jpg\tinformatie die; nopens de staafse; van Contraban; \t[0.48098310828208923, 0.10108521580696106, 0.4173959195613861, 0.000535806524567306]\n",
      "BEGIN\tIN\tNL-HaNA_1.04.02_3655_1094.jpg\tvergunning aan; de rheders van het; „nes; gelicent\t[0.5148496627807617, 0.0829552710056305, 0.4019860029220581, 0.00020908948499709368]\n",
      "BEGIN\tIN\tNL-HaNA_1.04.02_3655_1095.jpg\twat aan de rreders; van het gehuurd Comp:s; schip \t[0.5059477686882019, 0.0850476548075676, 0.40879541635513306, 0.0002091340720653534]\n",
      "BEGIN\tIN\tNL-HaNA_1.04.02_3655_1096.jpg\tTer onser sessie van den 16=e; Maart, versogten ge\t[0.4893489181995392, 0.09016875922679901, 0.4202565550804138, 0.00022581539815291762]\n",
      "BEGIN\tIN\tNL-HaNA_1.04.02_3655_1097.jpg\tverleende permis„; sie aan diverse; rheders om hun\t[0.5082986950874329, 0.08257954567670822, 0.40892285108566284, 0.00019895049626939]\n",
      "BEGIN\tIN\tNL-HaNA_1.04.02_3655_1098.jpg\trestitutie gedaan; aan de rheders van; Comp: schip\t[0.502235472202301, 0.0843152180314064, 0.41324642300605774, 0.00020286823564674705]\n",
      "BEGIN\tIN\tNL-HaNA_1.04.02_3655_1099.jpg\tgerief van den; armenisch koop; man Cheriman; En v\t[0.5090493559837341, 0.08239194750785828, 0.4083603620529175, 0.0001982696558116004]\n",
      "BEGIN\tIN\tNL-HaNA_1.04.02_3655_1100.jpg\twat aan de portu„; „geesh koopman Ri„; §161. Josep\t[0.5114786624908447, 0.08238247036933899, 0.4059390425682068, 0.00019980542128905654]\n",
      "BEGIN\tIN\tNL-HaNA_1.04.02_3655_1101.jpg\tWijders besloten wij, als, tot voorko„; „wing van \t[0.4917507469654083, 0.0896330177783966, 0.4183935225009918, 0.00022272234491538256]\n",
      "BEGIN\tIN\tNL-HaNA_1.04.02_3655_1102.jpg\tDog daar en tegen gesamentlijk; van de hand te wij\t[0.5023859143257141, 0.08428677916526794, 0.4131253659725189, 0.00020197212870698422]\n",
      "BEGIN\tIN\tNL-HaNA_1.04.02_3655_1103.jpg\t„va en de Expenance Comp„se wegen te; laten besorg\t[0.48682454228401184, 0.08967065066099167, 0.42328378558158875, 0.00022106133110355586]\n",
      "BEGIN\tIN\tNL-HaNA_1.04.02_3655_1104.jpg\tHoeveel de recog; „nitie van de aan„; „liere lijwa\t[0.5108641982078552, 0.08159703016281128, 0.40733954310417175, 0.0001992400793824345]\n",
      "BEGIN\tIN\tNL-HaNA_1.04.02_3655_1105.jpg\twelke vreemde; scheepen in dit Jaar; over blijven.\t[0.5106391906738281, 0.0818803459405899, 0.40728428959846497, 0.00019619484373833984]\n",
      "BEGIN\tIN\tNL-HaNA_1.04.02_3655_1106.jpg\tBoddam - - van Bombaij, en de Comp=s; schepen van \t[0.5050431489944458, 0.08392351120710373, 0.41083213686943054, 0.00020118434622418135]\n",
      "BEGIN\tIN\tNL-HaNA_1.04.02_3655_1107.jpg\tS„t Pedro d' Alcantara van Cormandel; Nossa sen ho\t[0.4885326027870178, 0.08961735665798187, 0.42162948846817017, 0.00022054197324905545]\n",
      "BEGIN\tIN\tNL-HaNA_1.04.02_3655_1108.jpg\taan alle die schepen; is den inkoop van; toe gesta\t[0.5074802041053772, 0.08205457031726837, 0.4102703928947449, 0.00019482505740597844]\n",
      "BEGIN\tIN\tNL-HaNA_1.04.02_3655_1109.jpg\tgrat aan 't frans „pitain van het van Mauritius ge\t[0.501371443271637, 0.0839502215385437, 0.41447871923446655, 0.00019961679936386645]\n",
      "BEGIN\tIN\tNL-HaNA_1.04.02_3655_1110.jpg\tPermissie aan den; voerder van 't; tot den inkoop;\t[0.5079624056816101, 0.08210502564907074, 0.4097368121147156, 0.0001957742788363248]\n",
      "BEGIN\tIN\tNL-HaNA_1.04.02_3655_1111.jpg\tklagte door den voer„; der van het gem: schip; ged\t[0.5095816850662231, 0.08211059123277664, 0.40811076760292053, 0.00019699356926139444]\n",
      "BEGIN\tIN\tNL-HaNA_1.04.02_3655_1112.jpg\tovergelaten:; Bij dien brief was gevoegd een; kaft\t[0.5025557279586792, 0.08419468253850937, 0.41304728388786316, 0.00020235349074937403]\n",
      "BEGIN\tIN\tNL-HaNA_1.04.02_3655_1113.jpg\tDezelve hebben ter obedientie aan; die orders, ver\t[0.49955305457115173, 0.08458029478788376, 0.4156624376773834, 0.00020418794883880764]\n",
      "BEGIN\tIN\tNL-HaNA_1.04.02_3655_1114.jpg\twat aan de Carga; van het Portu; pellas toe gestaa\t[0.5063266754150391, 0.08266334980726242, 0.41080793738365173, 0.00020195136312395334]\n",
      "BEGIN\tIN\tNL-HaNA_1.04.02_3655_1115.jpg\t't versoek van; pedro Monneron; leveren is van de;\t[0.5110089778900146, 0.08269587904214859, 0.40608206391334534, 0.00021302163077052683]\n",
      "BEGIN\tIN\tNL-HaNA_1.04.02_3655_1116.jpg\twat aanden par; tugeeeschen Capit.; en van hem ing\t[0.4989233613014221, 0.08630109578371048, 0.41454777121543884, 0.00022770946088712662]\n",
      "BEGIN\tIN\tNL-HaNA_1.04.02_3655_1117.jpg\t„phioen tegen 400 rd=s de kist, en de sal„; peter \t[0.4750994145870209, 0.09542743861675262, 0.4291731119155884, 0.0002999812422785908]\n",
      "BEGIN\tIN\tNL-HaNA_1.04.02_3655_1118.jpg\tThien Duizend Rd„s aan Contanten; over had, en ons\t[0.4696347713470459, 0.0988900288939476, 0.4310125410556793, 0.0004626587906386703]\n",
      "END\tIN\tNL-HaNA_1.04.02_3655_1119.jpg\t„gevalle van mon acceptatie derselve, aan; hem de \t[0.4150907099246979, 0.13986347615718842, 0.442438542842865, 0.0026072910986840725]\n"
     ]
    },
    {
     "name": "stderr",
     "output_type": "stream",
     "text": [
      "  1%|          | 14/1194.6875 [00:14<20:19,  1.03s/batch]"
     ]
    },
    {
     "name": "stdout",
     "output_type": "stream",
     "text": [
      "BEGIN\tIN\tNL-HaNA_1.04.02_3655_1120.jpg\tgedane instan„; „tien door den; Thamson en wat; is\t[0.49954771995544434, 0.10153940320014954, 0.3983471691608429, 0.0005656286375597119]\n",
      "BEGIN\tIN\tNL-HaNA_1.04.02_3655_1121.jpg\trepareren, als mede ter verkoop aan; de wal te mog\t[0.5064937472343445, 0.09157216548919678, 0.40162399411201477, 0.0003101445618085563]\n",
      "BEGIN\tIN\tNL-HaNA_1.04.02_3655_1122.jpg\tter berging zijner Equipagie goederen.; 2/: De aan\t[0.4906194806098938, 0.09293750673532486, 0.4161740839481354, 0.00026891715242527425]\n",
      "BEGIN\tIN\tNL-HaNA_1.04.02_3655_1123.jpg\thet geaccordeerde; aande franpche; en englvis; get\t[0.513773500919342, 0.08348961174488068, 0.4025154411792755, 0.00022140723012853414]\n",
      "BEGIN\tIN\tNL-HaNA_1.04.02_3655_1124.jpg\t174940: lb: staaf ijzer; 1234: „ Hoep-ijzer; 113: \t[0.504105806350708, 0.08508427441120148, 0.4105961322784424, 0.0002138194249710068]\n",
      "BEGIN\tIN\tNL-HaNA_1.04.02_3655_1125.jpg\thet gepermitteerde; aande Engelsche; Cap: Curtes.;\t[0.5118493437767029, 0.08291047811508179, 0.40503427386283875, 0.00020592812506947666]\n",
      "BEGIN\tIN\tNL-HaNA_1.04.02_3655_1126.jpg\ten om zig bij particulieren voor Con„; „tante beta\t[0.4917418360710144, 0.08977919816970825, 0.4182523190975189, 0.00022660757531411946]\n",
      "BEGIN\tIN\tNL-HaNA_1.04.02_3655_1127.jpg\tInkoop gedaan van; en adsistentie ver„; leend aan \t[0.5019528865814209, 0.08431779593229294, 0.41352587938308716, 0.00020345227676443756]\n",
      "BEGIN\tIN\tNL-HaNA_1.04.02_3655_1128.jpg\tThin, om voor zijn reek. op vragt na; China overge\t[0.5020756721496582, 0.08420830219984055, 0.4135134816169739, 0.00020252777903806418]\n",
      "BEGIN\tIN\tNL-HaNA_1.04.02_3655_1129.jpg\tter onser resol: van den 28 Maij, Con„; „steerde, \t[0.5008383989334106, 0.08428190648555756, 0.41467761993408203, 0.00020203815074637532]\n",
      "BEGIN\tIN\tNL-HaNA_1.04.02_3655_1130.jpg\t„denen, die ons ten uittersten interessant; voorkw\t[0.509066104888916, 0.08215246349573135, 0.4085843861103058, 0.0001970179146155715]\n",
      "BEGIN\tIN\tNL-HaNA_1.04.02_3655_1131.jpg\tadresseerde zig meerm. O. Donnell ander„; „maal aa\t[0.5030606389045715, 0.08402615040540695, 0.4127117395401001, 0.0002014558995142579]\n",
      "BEGIN\tIN\tNL-HaNA_1.04.02_3655_1132.jpg\tvoortsetting zijner reise absolut no„; „dig had, b\t[0.5015723705291748, 0.08410830050706863, 0.4141182601451874, 0.0002010333409998566]\n",
      "BEGIN\tIN\tNL-HaNA_1.04.02_3655_1133.jpg\twat van den Engel„; schen Cap: Borlase; in gekogt \t[0.5097047090530396, 0.08204329013824463, 0.40805554389953613, 0.00019650116155389696]\n",
      "BEGIN\tIN\tNL-HaNA_1.04.02_3655_1134.jpg\t3: kassen Mallaga-wijn; 2. „ Secq wijn; 22000: Pon\t[0.503594160079956, 0.08405005931854248, 0.41215404868125916, 0.00020175457757432014]\n",
      "BEGIN\tIN\tNL-HaNA_1.04.02_3655_1135.jpg\thet berigt van den baas der kruidma„; „kers bleek,\t[0.5033950805664062, 0.08426371216773987, 0.4121384024620056, 0.00020281334582250565]\n",
      "BEGIN\tIN\tNL-HaNA_1.04.02_3655_1136.jpg\tveertien honderd Picols Thin tegen; 20 rd„s 't pic\t[0.4879215657711029, 0.08966387063264847, 0.42219218611717224, 0.0002223818883066997]\n",
      "BEGIN\tIN\tNL-HaNA_1.04.02_3655_1137.jpg\tPermissie verleend; Capitein Jung.; wat van den En\t[0.5127370953559875, 0.081702321767807, 0.4053580164909363, 0.0002025274297920987]\n",
      "BEGIN\tIN\tNL-HaNA_1.04.02_3655_1138.jpg\ttegen Agt rd„s t Picol, dewijl wij, of„; schoon no\t[0.4902626574039459, 0.08990602195262909, 0.4196043014526367, 0.000227086988161318]\n",
      "BEGIN\tIN\tNL-HaNA_1.04.02_3655_1139.jpg\tEn dewijl de Tweede ondergetekende; Heer Directeur\t[0.4819447696208954, 0.090593621134758, 0.42722955346107483, 0.00023203829186968505]\n",
      "BEGIN\tIN\tNL-HaNA_1.04.02_3655_1140.jpg\taan de Comp„e geleverde salpeter en goe„; „nij sak\t[0.4835032820701599, 0.0869249701499939, 0.4293421804904938, 0.00022963083756621927]\n",
      "BEGIN\tIN\tNL-HaNA_1.04.02_3655_1141.jpg\tadsistentie verleend; aan het Engelsch gou„; verne\t[0.4738723635673523, 0.0997701957821846, 0.4258478283882141, 0.0005095688393339515]\n",
      "BEGIN\tIN\tNL-HaNA_1.04.02_3655_1142.jpg\thet geaccordeerde; aan den Engelschen; Capitain Ha\t[0.510637104511261, 0.08187493681907654, 0.4072890281677246, 0.0001989338779821992]\n",
      "BEGIN\tIN\tNL-HaNA_1.04.02_3655_1143.jpg\tCattoen, mits van de Lijnwaden betalende,; het gee\t[0.5123674869537354, 0.08189015835523605, 0.4055401086807251, 0.0002022364642471075]\n",
      "BEGIN\tIN\tNL-HaNA_1.04.02_3655_1144.jpg\tHet toegestaane; aan den Franschen; capit: giron.;\t[0.510970950126648, 0.08235927671194077, 0.40646955370903015, 0.00020020082592964172]\n",
      "BEGIN\tIN\tNL-HaNA_1.04.02_3655_1145.jpg\t70: staale Tallons; 75093. lb: ijser, Looth en sta\t[0.48779046535491943, 0.09014644473791122, 0.4218370318412781, 0.00022608975996263325]\n",
      "BEGIN\tIN\tNL-HaNA_1.04.02_3655_1146.jpg\thet geaccordeerde; aan den franschen; Cap: Rechard\t[0.5050238370895386, 0.0829620286822319, 0.41181129217147827, 0.00020279097952879965]\n",
      "BEGIN\tIN\tNL-HaNA_1.04.02_3655_1147.jpg\t20'000 lb: platte en vierkante ijzere staven; 1330\t[0.4963473081588745, 0.08541814237833023, 0.4180215299129486, 0.00021299495710991323]\n",
      "BEGIN\tIN\tNL-HaNA_1.04.02_3655_1148.jpg\tPermissie gegeven; aan de Fransche Cap:; „re, leva\t[0.5060094594955444, 0.08383575826883316, 0.4099302589893341, 0.0002245778014184907]\n",
      "BEGIN\tIN\tNL-HaNA_1.04.02_3655_1149.jpg\tFransch schip La Therese, een parthij; lakenen, zi\t[0.48864659667015076, 0.08880513161420822, 0.4222889244556427, 0.00025935049052350223]\n",
      "BEGIN\tIN\tNL-HaNA_1.04.02_3655_1150.jpg\twat aan den fran„; schen Capitain gu; 60: kasjes o\t[0.4790953993797302, 0.0949312299489975, 0.4255661964416504, 0.00040715260547585785]\n",
      "END\tIN\tNL-HaNA_1.04.02_3655_1151.jpg\t12: baalen Cust Lijnwaden; 7000: ponden ijzer aan \t[0.4310479462146759, 0.12845203280448914, 0.43857240676879883, 0.0019275869708508253]\n"
     ]
    },
    {
     "name": "stderr",
     "output_type": "stream",
     "text": [
      "  1%|▏         | 15/1194.6875 [00:15<20:15,  1.03s/batch]"
     ]
    },
    {
     "name": "stdout",
     "output_type": "stream",
     "text": [
      "BEGIN\tIN\tNL-HaNA_1.04.02_3655_1152.jpg\tdat wij hem wilden vergunnen, de in„; genomen ladi\t[0.49523040652275085, 0.10133644938468933, 0.40283769369125366, 0.0005954215303063393]\n",
      "BEGIN\tIN\tNL-HaNA_1.04.02_3655_1153.jpg\ten opper Equipagie meester, dat hij gead„; „sistee\t[0.4918205738067627, 0.09359133988618851, 0.41423100233078003, 0.000357042474206537]\n",
      "BEGIN\tIN\tNL-HaNA_1.04.02_3655_1154.jpg\thet toegestaane; aan den franschen; Cap: gilbert.;\t[0.480360746383667, 0.10385989397764206, 0.4151684641838074, 0.0006108394591137767]\n",
      "BEGIN\tIN\tNL-HaNA_1.04.02_3655_1155.jpg\tHet geaccordeer„; de aan den Fran„; § 189.; Wijder\t[0.4849584698677063, 0.10259884595870972, 0.4118718206882477, 0.0005708226817660034]\n",
      "BEGIN\tIN\tNL-HaNA_1.04.02_3655_1156.jpg\t„permissie gege„; „ven aan den por„; tugeeschen Ca\t[0.5149478316307068, 0.08454141020774841, 0.4002819061279297, 0.00022883621568325907]\n",
      "BEGIN\tIN\tNL-HaNA_1.04.02_3655_1157.jpg\thet vergunde aanden; portug: Cap: de; silva.; Beng\t[0.51267409324646, 0.08417653292417526, 0.4029258191585541, 0.00022358422575052828]\n",
      "BEGIN\tIN\tNL-HaNA_1.04.02_3655_1158.jpg\t526. stukken Ruslands doek; 5145. lb: zijlgaaren e\t[0.5025236010551453, 0.0853051170706749, 0.4119458496570587, 0.00022547889966517687]\n",
      "BEGIN\tIN\tNL-HaNA_1.04.02_3655_1159.jpg\tCoijangs rijst te mogen inkopen en vervol„; „gens \t[0.49089983105659485, 0.08721095323562622, 0.42164313793182373, 0.0002461535041220486]\n",
      "BEGIN\tIN\tNL-HaNA_1.04.02_3655_1160.jpg\thet afgestaane; aanden part: Cap:; de resairo.; he\t[0.47719916701316833, 0.1019512414932251, 0.4202914834022522, 0.0005581287550739944]\n",
      "BEGIN\tIN\tNL-HaNA_1.04.02_3655_1161.jpg\thet geaccordeerde; aanden part: Cap; Toulon.; 23. \t[0.48593875765800476, 0.09976483881473541, 0.4137602746486664, 0.0005361134535633028]\n",
      "BEGIN\tIN\tNL-HaNA_1.04.02_3655_1162.jpg\thet vergunde aan„; den pruissche schipper; dia.; 6\t[0.48774102330207825, 0.09917286038398743, 0.41256511211395264, 0.0005210032686591148]\n",
      "BEGIN\tIN\tNL-HaNA_1.04.02_3655_1163.jpg\thet toegestaane; aan den prucifisch; Parga Molin.;\t[0.5075299143791199, 0.08458421379327774, 0.4076670706272125, 0.0002187938807765022]\n",
      "BEGIN\tIN\tNL-HaNA_1.04.02_3655_1164.jpg\tDewijl voorschreven Carga; van Melm ons versogt, z\t[0.4932318329811096, 0.08694982528686523, 0.4195820987224579, 0.00023623691231478006]\n",
      "BEGIN\tIN\tNL-HaNA_1.04.02_3655_1165.jpg\thet gepermitteerde; aan de prucsische; Cap: ketel.\t[0.4783419370651245, 0.10085827857255936, 0.4202735424041748, 0.0005261876503936946]\n",
      "BEGIN\tIN\tNL-HaNA_1.04.02_3655_1166.jpg\t16. vaten staal; 60: kassen wijn; 150. halve Pijpe\t[0.5090906620025635, 0.0840240940451622, 0.4066752791404724, 0.0002099885605275631]\n",
      "BEGIN\tIN\tNL-HaNA_1.04.02_3655_1167.jpg\thet geaccordeerde aan de; deensche Cap: Rosted en;\t[0.5126737356185913, 0.08290871232748032, 0.40420955419540405, 0.00020799305639229715]\n",
      "BEGIN\tIN\tNL-HaNA_1.04.02_3655_1168.jpg\t108. vaten spijkers; 38000: bottels roodewijn; 408\t[0.504647433757782, 0.084328293800354, 0.4108148217201233, 0.0002094204246532172]\n",
      "BEGIN\tIN\tNL-HaNA_1.04.02_3655_1169.jpg\tadsistentie verleend; aan 't fransch gouver; nemen\t[0.5087839961051941, 0.08324884623289108, 0.40775221586227417, 0.00021497797570191324]\n",
      "BEGIN\tIN\tNL-HaNA_1.04.02_3655_1170.jpg\tdeclaratie van het; gem:. gouvernement; koopmansch\t[0.5016909241676331, 0.08497089147567749, 0.4131030738353729, 0.00023511366453021765]\n",
      "BEGIN\tIN\tNL-HaNA_1.04.02_3655_1171.jpg\tdoor de voorm: faan; sche scheepen zyn gel; e Cont\t[0.48124077916145325, 0.10058114677667618, 0.41764891147613525, 0.0005291636916808784]\n",
      "BEGIN\tIN\tNL-HaNA_1.04.02_3655_1172.jpg\tvoorgekomen, bij onse Jongste eer„; biedige van de\t[0.49929237365722656, 0.088578000664711, 0.41190317273139954, 0.0002264951472170651]\n",
      "BEGIN\tIN\tNL-HaNA_1.04.02_3655_1173.jpg\tExtract factuurhouder den boekhouder; Jacobus Joha\t[0.5067364573478699, 0.08417476713657379, 0.4088820219039917, 0.0002066965971607715]\n",
      "BEGIN\tIN\tNL-HaNA_1.04.02_3655_1174.jpg\tWijders benoemden wij tot opper„; „hoofd van Sumat\t[0.49073395133018494, 0.08912128210067749, 0.4199206531047821, 0.000224139861529693]\n",
      "BEGIN\tIN\tNL-HaNA_1.04.02_3655_1175.jpg\tvoor eenigen tijd uit den dienst van de Comp=e; on\t[0.5013210773468018, 0.08406738936901093, 0.41440340876579285, 0.00020812814182136208]\n",
      "BEGIN\tIN\tNL-HaNA_1.04.02_3655_1176.jpg\tTot Eersten administrateur in; het graan Maguazijn\t[0.4981532096862793, 0.08441592007875443, 0.41721510887145996, 0.00021571452089119703]\n",
      "BEGIN\tIN\tNL-HaNA_1.04.02_3655_1177.jpg\t„meer, en wederom tot Tweeden, den onderkoop„; „ma\t[0.496459037065506, 0.08504790812730789, 0.41825178265571594, 0.0002411740570096299]\n",
      "BEGIN\tIN\tNL-HaNA_1.04.02_3655_1178.jpg\tTot Boekhouder in 's Comp„s Paar„; „de stal den on\t[0.47299501299858093, 0.10167714953422546, 0.4247595965862274, 0.0005681980983354151]\n",
      "BEGIN\tIN\tNL-HaNA_1.04.02_3655_1179.jpg\tin stede van den na Nederland verlosten; Titulair \t[0.48289090394973755, 0.09949440509080887, 0.4170761704444885, 0.000538456835784018]\n",
      "BEGIN\tIN\tNL-HaNA_1.04.02_3655_1180.jpg\tbenoemden vice Commandeur en; onder Equipagiemeest\t[0.505705714225769, 0.08513651043176651, 0.40892791748046875, 0.00022987824922893196]\n",
      "BEGIN\tIN\tNL-HaNA_1.04.02_3655_1181.jpg\ttoegevoegd aan de opporstuurlieden Nico„; „laas va\t[0.4766102433204651, 0.09436369687318802, 0.428732305765152, 0.00029375244048424065]\n",
      "END\tIN\tNL-HaNA_1.04.02_3655_1182.jpg\t24. Aug„s tot Luitenants laten op„; „treeden, de v\t[0.4431673586368561, 0.1048920750617981, 0.4514593183994293, 0.0004812654515262693]\n",
      "END\tIN\tNL-HaNA_1.04.02_3655_1183.jpg\tTeipler; so mede den Jong adsistent Pau„; „lus van\t[0.41331663727760315, 0.13544735312461853, 0.44882190227508545, 0.0024141513276845217]\n"
     ]
    },
    {
     "name": "stderr",
     "output_type": "stream",
     "text": [
      "  1%|▏         | 16/1194.6875 [00:16<20:19,  1.03s/batch]"
     ]
    },
    {
     "name": "stdout",
     "output_type": "stream",
     "text": [
      "BEGIN\tIN\tNL-HaNA_1.04.02_3655_1184.jpg\tde na Timor verplaatsten Carel wil„; „lem Fransz; \t[0.49871358275413513, 0.10128374397754669, 0.39944347739219666, 0.0005592218367382884]\n",
      "BEGIN\tIN\tNL-HaNA_1.04.02_3655_1185.jpg\t„rurgijns Jacobus Martinus Baljé en; Hendrik van W\t[0.5115197896957397, 0.08917219936847687, 0.39901190996170044, 0.00029615560197271407]\n",
      "BEGIN\tIN\tNL-HaNA_1.04.02_3655_1186.jpg\tAmbagtslieden zijn, in plaats van; de na Nederland\t[0.5049530863761902, 0.08732922375202179, 0.4074764847755432, 0.0002411708701401949]\n",
      "BEGIN\tIN\tNL-HaNA_1.04.02_3655_1187.jpg\top de Equipagiewerf de meesterknegt; Pieter Bakker\t[0.511869490146637, 0.08395980298519135, 0.40395399928092957, 0.00021669958368875086]\n",
      "BEGIN\tIN\tNL-HaNA_1.04.02_3655_1188.jpg\tTot Baas der Boek-binders van; de generaale Direct\t[0.5030885338783264, 0.08529231697320938, 0.41140493750572205, 0.00021419028053060174]\n",
      "BEGIN\tIN\tNL-HaNA_1.04.02_3655_1189.jpg\t„dament onser hier toe betrekkelijke rafol: van; d\t[0.5151511430740356, 0.0825822502374649, 0.4020564556121826, 0.00021012940851505846]\n",
      "BEGIN\tIN\tNL-HaNA_1.04.02_3655_1190.jpg\tTot de qualiteit van koopman met; de gagie van vij\t[0.5051804780960083, 0.08459702134132385, 0.41001397371292114, 0.00020851934095844626]\n",
      "BEGIN\tIN\tNL-HaNA_1.04.02_3655_1191.jpg\tde bij, generaal verslag van 't Jaar 1782.; § 136 \t[0.5033939480781555, 0.08450281620025635, 0.41189703345298767, 0.0002061645791400224]\n",
      "BEGIN\tIN\tNL-HaNA_1.04.02_3655_1192.jpg\tgeneraale staat; van Jndien in 178/3; „ring dat wi\t[0.5126374363899231, 0.08234497159719467, 0.40481632947921753, 0.00020130362827330828]\n",
      "BEGIN\tIN\tNL-HaNA_1.04.02_3655_1193.jpg\tvan dat Boekjaar nog niet ontvangen; waaren, en di\t[0.4937921464443207, 0.08964857459068298, 0.4163343608379364, 0.00022492030984722078]\n",
      "BEGIN\tIN\tNL-HaNA_1.04.02_3655_1194.jpg\tP„r Transport ƒ3880086:11:8:; „dene rethouren; en \t[0.48952704668045044, 0.08950702100992203, 0.4207446575164795, 0.000221306094317697]\n",
      "BEGIN\tIN\tNL-HaNA_1.04.02_3655_1195.jpg\tP„r Transport. . . . . ƒ 3603216:4:14: ƒ296004: 18\t[0.5007402896881104, 0.08401242643594742, 0.4150472581386566, 0.0002000149106606841]\n",
      "BEGIN\tIN\tNL-HaNA_1.04.02_3655_1196.jpg\tEn dat het voorsz: meer„; „der bedragen van het; o\t[0.5010383725166321, 0.08395590633153915, 0.4148058295249939, 0.00019987515406683087]\n",
      "BEGIN\tIN\tNL-HaNA_1.04.02_3655_1197.jpg\tvergelijking van den; generaalen staat tegen; aug„\t[0.5098528861999512, 0.08203746378421783, 0.4079129695892334, 0.00019666037405841053]\n",
      "BEGIN\tIN\tNL-HaNA_1.04.02_3655_1198.jpg\t„813813„ P=r Transport - - 8. - - ƒ 135536: 6: 14:\t[0.4900093376636505, 0.08936887234449387, 0.4204014837741852, 0.00022027803061064333]\n",
      "BEGIN\tIN\tNL-HaNA_1.04.02_3655_1199.jpg\tHoeveel de handel„; in Jndien ao 178½; heeft afgew\t[0.4997600317001343, 0.08397115021944046, 0.41606998443603516, 0.00019879854517057538]\n",
      "BEGIN\tIN\tNL-HaNA_1.04.02_3655_1200.jpg\tBatavia in 178¾ sal; bij nadere gelegendheijd; vol\t[0.5074930191040039, 0.08197961747646332, 0.4103327691555023, 0.00019460242765489966]\n",
      "BEGIN\tIN\tNL-HaNA_1.04.02_3655_1201.jpg\tge redresseerd abuis; omtrend de gem:; premie; en \t[0.5090107917785645, 0.08203067630529404, 0.40876269340515137, 0.00019576624617911875]\n",
      "BEGIN\tIN\tNL-HaNA_1.04.02_3655_1202.jpg\thonderd Een en veertig rd=s en Twee; en dertig stx\t[0.5014124512672424, 0.08414679020643234, 0.41423994302749634, 0.0002008535957429558]\n",
      "BEGIN\tIN\tNL-HaNA_1.04.02_3655_1203.jpg\thet goeddoening; pas gestaan aan den; sontriceur a\t[0.508680522441864, 0.0821603536605835, 0.4089626669883728, 0.00019641232211142778]\n",
      "BEGIN\tIN\tNL-HaNA_1.04.02_3655_1204.jpg\thonderd Een en veertig rd=s en Twee; en dertig stx\t[0.5005685687065125, 0.08436387032270432, 0.41486531496047974, 0.0002022345579462126]\n",
      "BEGIN\tIN\tNL-HaNA_1.04.02_3655_1205.jpg\tte goeddoening; toegestaan aan den; doucur aan de \t[0.5071834325790405, 0.08235932886600494, 0.41025909781455994, 0.00019810633966699243]\n",
      "BEGIN\tIN\tNL-HaNA_1.04.02_3655_1206.jpg\tgerenoveerde or„; „dris voor de Cura; „vangen, 414\t[0.5073598027229309, 0.08254241943359375, 0.409896582365036, 0.0002011684118770063]\n",
      "BEGIN\tIN\tNL-HaNA_1.04.02_3655_1207.jpg\taanwijsing van; een berigt nopens; volgens ordre u\t[0.49658671021461487, 0.0850868746638298, 0.41811415553092957, 0.0002122742880601436]\n",
      "BEGIN\tIN\tNL-HaNA_1.04.02_3655_1208.jpg\tbepaling gemaakt; omtrend het aem„; saldos van Nal\t[0.4938763380050659, 0.08509396016597748, 0.4208013117313385, 0.00022829911904409528]\n",
      "BEGIN\tIN\tNL-HaNA_1.04.02_3655_1209.jpg\thet bedragen der; gelicentieerde; soldij reek:; in\t[0.47777995467185974, 0.10009589791297913, 0.4215991199016571, 0.0005250321701169014]\n",
      "BEGIN\tIN\tNL-HaNA_1.04.02_3655_1210.jpg\tdoor de Caabse Min„s ten dien eijnde; aan ons was \t[0.5034351944923401, 0.08481209725141525, 0.41154012084007263, 0.0002125675673596561]\n",
      "BEGIN\tIN\tNL-HaNA_1.04.02_3655_1211.jpg\thoedanig de inge; kuurde scheepen; afgemat zijn; I\t[0.504060685634613, 0.08382361382246017, 0.41190531849861145, 0.00021042553998995572]\n",
      "BEGIN\tIN\tNL-HaNA_1.04.02_3655_1212.jpg\taanbieding van; een liquidatie en; kennis geving v\t[0.5013473033905029, 0.08459930866956711, 0.41383180022239685, 0.00022155513579491526]\n",
      "BEGIN\tIN\tNL-HaNA_1.04.02_3655_1213.jpg\tverleende Copijen; van assigtdateen; „jes ieder ho\t[0.500633955001831, 0.08646967262029648, 0.41263556480407715, 0.00026077605434693396]\n",
      "BEGIN\tIN\tNL-HaNA_1.04.02_3655_1214.jpg\tvan Jan van de Polder groot 16000 rd=s; § 222. De \t[0.47226038575172424, 0.09721902757883072, 0.43010565638542175, 0.00041490737930871546]\n",
      "BEGIN\tIN\tNL-HaNA_1.04.02_3655_1215.jpg\thet schip Comp=s; welvaren is ver„; mest.; § 223. \t[0.44002535939216614, 0.12377244234085083, 0.43449315428733826, 0.001709079253487289]\n"
     ]
    },
    {
     "name": "stderr",
     "output_type": "stream",
     "text": [
      "  1%|▏         | 17/1194.6875 [00:18<24:48,  1.26s/batch]"
     ]
    },
    {
     "name": "stdout",
     "output_type": "stream",
     "text": [
      "BEGIN\tIN\tNL-HaNA_1.04.02_3655_1216.jpg\tnog geen Berigt toe genaamd hebben; ontvangen.; § \t[0.487446665763855, 0.11237280070781708, 0.39946359395980835, 0.0007169474847614765]\n",
      "BEGIN\tIN\tNL-HaNA_1.04.02_3655_1217.jpg\tontvangst van een; door den raad van Jus; titie in\t[0.501396894454956, 0.09348858892917633, 0.4047849178314209, 0.00032960568205453455]\n",
      "BEGIN\tIN\tNL-HaNA_1.04.02_3655_1218.jpg\t„de gedetailleerd hebben, voor welke regters de sc\t[0.5004203915596008, 0.08837659657001495, 0.41095593571662903, 0.00024705295800231397]\n",
      "BEGIN\tEND\tNL-HaNA_1.04.02_3655_1219.jpg\tWel Edele Hoog Agtbaare wijze voorzienige en zeer;\t[0.5060962438583374, 0.08425885438919067, 0.40943220257759094, 0.00021265301620587707]\n",
      "BEGIN\tBEGIN\tNL-HaNA_1.04.02_1603_0016.jpg\tvan januarij telaaten volgen is med; Patria; Aan d\t[0.5055060982704163, 0.08351434022188187, 0.4107753336429596, 0.00020423928799573332]\n",
      "BEGIN\tIN\tNL-HaNA_1.04.02_1603_0017.jpg\tlaaten 'tselve sijn volle lading in te geven,; pra\t[0.5148588418960571, 0.08228442072868347, 0.40264835953712463, 0.000208362951525487]\n",
      "BEGIN\tIN\tNL-HaNA_1.04.02_1603_0018.jpg\t't schip jerusalem nog na ambon; aangelegt.; ns ge\t[0.5072677731513977, 0.08315620571374893, 0.4093751609325409, 0.00020084249263163656]\n",
      "BEGIN\tIN\tNL-HaNA_1.04.02_1603_0019.jpg\t't schip jerusalem nog na ambon; aangelegt.; ons g\t[0.5076011419296265, 0.08302353322505951, 0.40917637944221497, 0.00019901589257642627]\n",
      "BEGIN\tIN\tNL-HaNA_1.04.02_1603_0020.jpg\tover't point van haar med de wapenen; deslogeren, \t[0.5021692514419556, 0.08508192002773285, 0.4125429093837738, 0.00020593227236531675]\n",
      "BEGIN\tIN\tNL-HaNA_1.04.02_1603_0021.jpg\tdat sij d' E. Comp: wilde priveren van haare; eijg\t[0.4929731786251068, 0.08828845620155334, 0.4185218811035156, 0.00021652955911122262]\n",
      "BEGIN\tIN\tNL-HaNA_1.04.02_1603_0022.jpg\tons gebesoigneerde ende gevallen be„; te doen verm\t[0.4988742172718048, 0.08486039936542511, 0.41606345772743225, 0.000201993461814709]\n",
      "BEGIN\tIN\tNL-HaNA_1.04.02_1603_0023.jpg\t6; ons gebesoigneerde raakende de predi„; canten i\t[0.49810269474983215, 0.08495346456766129, 0.4167419970035553, 0.00020182161824777722]\n",
      "BEGIN\tIN\tNL-HaNA_1.04.02_1603_0024.jpg\tItem het verijste getal militairen; weesen 4. pred\t[0.49636903405189514, 0.084952212870121, 0.41847777366638184, 0.0002009573654504493]\n",
      "BEGIN\tIN\tNL-HaNA_1.04.02_1603_0025.jpg\tons besluijt overdeverhantsingen al daen; onse ord\t[0.5073531270027161, 0.08149480819702148, 0.4109623432159424, 0.00018969783559441566]\n",
      "BEGIN\tIN\tNL-HaNA_1.04.02_1603_0026.jpg\tgoed gevonden 't gouven-huijs binnen; ren; Ende 't\t[0.5033175349235535, 0.08259952068328857, 0.41389000415802, 0.00019299043924547732]\n",
      "BEGIN\tIN\tNL-HaNA_1.04.02_1603_0027.jpg\tover 'tvoorstel van een muur ront; nader berigt ge\t[0.5101844072341919, 0.0813213586807251, 0.4083014130592346, 0.00019284973677713424]\n",
      "BEGIN\tIN\tNL-HaNA_1.04.02_1603_0028.jpg\tEn dan nog een =r p:r C:toverwigt toe te; voegen.;\t[0.5113862752914429, 0.0812607854604721, 0.4071594476699829, 0.00019353120296727866]\n",
      "BEGIN\tIN\tNL-HaNA_1.04.02_1603_0029.jpg\tmed saamslag versonden een Cargas:; ten bedrage va\t[0.5144691467285156, 0.08152702450752258, 0.40380316972732544, 0.00020069464517291635]\n",
      "BEGIN\tIN\tNL-HaNA_1.04.02_1603_0030.jpg\tof de verdere beschuldigingen tegens; wesen; Waarv\t[0.5109360814094543, 0.08149558305740356, 0.4073759913444519, 0.00019241255358792841]\n",
      "BEGIN\tIN\tNL-HaNA_1.04.02_1603_0031.jpg\tdog d' agterhaalde goederen verbeurd ver; klaard, \t[0.5110520124435425, 0.08168716728687286, 0.4070679545402527, 0.0001928859273903072]\n",
      "BEGIN\tIN\tNL-HaNA_1.04.02_1603_0032.jpg\twerd bevonden, egter is daar op om rede„; g'andwoo\t[0.5000051856040955, 0.08513792604207993, 0.41465291380882263, 0.00020400159701239318]\n",
      "BEGIN\tIN\tNL-HaNA_1.04.02_1603_0033.jpg\twerd bevonden, Egter is daar op om rede„; g'andwoo\t[0.49624499678611755, 0.08530483394861221, 0.41824644804000854, 0.0002036767837125808]\n",
      "BEGIN\tIN\tNL-HaNA_1.04.02_1603_0034.jpg\td'ordre in dato 16. e jann. deses Jaars; na amboin\t[0.5123552083969116, 0.08183399587869644, 0.4056088924407959, 0.0002019412349909544]\n",
      "BEGIN\tIN\tNL-HaNA_1.04.02_1603_0035.jpg\tcoopman, en den serge. t Jacob Elbing; tot vaandra\t[0.503696620464325, 0.08308093249797821, 0.4130248725414276, 0.00019757026166189462]\n",
      "BEGIN\tIN\tNL-HaNA_1.04.02_1603_0036.jpg\tbina med sappanhout moet retour„; „neeren &.a; ken\t[0.5113474130630493, 0.08179876953363419, 0.4066556394100189, 0.00019820935267489403]\n",
      "BEGIN\tIN\tNL-HaNA_1.04.02_1603_0037.jpg\tvoornamentljk dat in Cas van ruptur; den een den a\t[0.49613699316978455, 0.08579490333795547, 0.4178583323955536, 0.0002097809046972543]\n",
      "BEGIN\tIN\tNL-HaNA_1.04.02_1603_0038.jpg\tInhoedaniger voegen hier overgesz: is; die van sop\t[0.49861055612564087, 0.08392525464296341, 0.4172585904598236, 0.0002056733937934041]\n",
      "BEGIN\tIN\tNL-HaNA_1.04.02_1603_0039.jpg\tons besluijt over'tv oorgevallene tot; bontain; „ \t[0.4988023638725281, 0.08361208438873291, 0.4173715114593506, 0.0002141003351425752]\n",
      "BEGIN\tIN\tNL-HaNA_1.04.02_1603_0040.jpg\tons besluijt ontrent de geprotogeerde van; bony en\t[0.4930187165737152, 0.0865526869893074, 0.4201687276363373, 0.00025987307890318334]\n",
      "BEGIN\tIN\tNL-HaNA_1.04.02_1603_0041.jpg\ttot seconde op macassar aangeseld den; hetjndigo m\t[0.46643179655075073, 0.10558465123176575, 0.4273145794868469, 0.0006690138834528625]\n",
      "BEGIN\tIN\tNL-HaNA_1.04.02_1603_0042.jpg\t'tCargasoentje daar meede natimor gesonden; Nevens\t[0.484590083360672, 0.09358667582273483, 0.42143163084983826, 0.00039157760329544544]\n",
      "END\tIN\tNL-HaNA_1.04.02_1603_0043.jpg\tden toestand van kerk en schoole; ordre tegens de \t[0.4363977015018463, 0.125332772731781, 0.43652433156967163, 0.0017452100291848183]\n"
     ]
    },
    {
     "name": "stderr",
     "output_type": "stream",
     "text": [
      "  2%|▏         | 18/1194.6875 [00:20<29:00,  1.48s/batch]"
     ]
    },
    {
     "name": "stdout",
     "output_type": "stream",
     "text": [
      "BEGIN\tIN\tNL-HaNA_1.04.02_1603_0044.jpg\taanstellinge van een neuwen voogt; over den jongen\t[0.49945640563964844, 0.10075145959854126, 0.3992481827735901, 0.0005439297528937459]\n",
      "BEGIN\tIN\tNL-HaNA_1.04.02_1603_0045.jpg\tEn ood Insgl: tot beslegtinge vande; Hheijbeenders\t[0.5072722434997559, 0.08985252678394318, 0.4025820195674896, 0.00029316358268260956]\n",
      "BEGIN\tIN\tNL-HaNA_1.04.02_1603_0046.jpg\tInvendible goederen van daar naja; „pan gestuurt; \t[0.5073822736740112, 0.08583695441484451, 0.40654879808425903, 0.00023195338144432753]\n",
      "BEGIN\tIN\tNL-HaNA_1.04.02_1603_0047.jpg\thet door zagen wint nu veel scheeps; ruijmte uijt;\t[0.5155479907989502, 0.08321315050125122, 0.40102437138557434, 0.0002144612226402387]\n",
      "BEGIN\tIN\tNL-HaNA_1.04.02_1603_0048.jpg\thooger prijsen willen betaalen, dan sjaars be„; vo\t[0.49162793159484863, 0.08943911641836166, 0.41870418190956116, 0.00022872361296322197]\n",
      "BEGIN\tIN\tNL-HaNA_1.04.02_1603_0049.jpg\tdeorlenoaut of over eken gemakte; Concept dersrans\t[0.5088111162185669, 0.0823204442858696, 0.4086703360080719, 0.00019806755881290883]\n",
      "BEGIN\tIN\tNL-HaNA_1.04.02_1603_0050.jpg\tende audientie ten hove erlangen; 't schip t'emphi\t[0.5080081224441528, 0.08230464905500412, 0.4094899892807007, 0.00019721934222616255]\n",
      "BEGIN\tIN\tNL-HaNA_1.04.02_1603_0051.jpg\tMogel, sullende me de volgende schepen; wederkamer\t[0.5140976905822754, 0.08206357806921005, 0.4036334156990051, 0.00020527442393358797]\n",
      "BEGIN\tIN\tNL-HaNA_1.04.02_1603_0052.jpg\tonaangesien op de overgesonden geschenken; niet bi\t[0.5131805539131165, 0.08176422864198685, 0.40485674142837524, 0.0001984594709938392]\n",
      "BEGIN\tIN\tNL-HaNA_1.04.02_1603_0053.jpg\tjtem der restanten waar onder; aan oude schulden; \t[0.5104930996894836, 0.08201650530099869, 0.4072949290275574, 0.0001954856707016006]\n",
      "BEGIN\tIN\tNL-HaNA_1.04.02_1603_0054.jpg\taanwijtinge wat Cargasoenen de khepen; batavia heb\t[0.5056133270263672, 0.08299757540225983, 0.41119226813316345, 0.00019687660096678883]\n",
      "BEGIN\tIN\tNL-HaNA_1.04.02_1603_0055.jpg\tde Coopmans: tot Japan aangebragt; bedragen ƒ95669\t[0.5094047784805298, 0.08186431974172592, 0.4085375964641571, 0.00019332101510372013]\n",
      "BEGIN\tIN\tNL-HaNA_1.04.02_1603_0056.jpg\tden taxatie andel gelijk de 1689.; weederom jngeva\t[0.509988009929657, 0.08174438774585724, 0.4080747067928314, 0.0001928970596054569]\n",
      "BEGIN\tIN\tNL-HaNA_1.04.02_1603_0057.jpg\t„sen, in plaatse van nieuwe maar; Japan; 'tkope is\t[0.5102253556251526, 0.08171018213033676, 0.4078717529773712, 0.00019268917094450444]\n",
      "BEGIN\tIN\tNL-HaNA_1.04.02_1603_0058.jpg\thet overgeschote Cap. l van a:o 1697:; inkoper nie\t[0.5109183192253113, 0.08166415244340897, 0.40722495317459106, 0.00019256601808592677]\n",
      "BEGIN\tIN\tNL-HaNA_1.04.02_1603_0059.jpg\tden handel van de Comp: sal voort; ende Chindesen \t[0.5070608258247375, 0.08269359916448593, 0.41005074977874756, 0.00019487350073177367]\n",
      "BEGIN\tIN\tNL-HaNA_1.04.02_1603_0060.jpg\tde scheepen hbende behoolglsk; van kooper ingehad.\t[0.5063889026641846, 0.08283882588148117, 0.41057702898979187, 0.00019521206559147686]\n",
      "BEGIN\tIN\tNL-HaNA_1.04.02_1603_0061.jpg\thet schip spare heevd in Iapan niet; mogen Lossen,\t[0.49804890155792236, 0.08511964976787567, 0.4166288673877716, 0.00020260491874068975]\n",
      "BEGIN\tIN\tNL-HaNA_1.04.02_1603_0062.jpg\tde scheepen sullen 20. daagen; vertrekken op peene\t[0.5074587464332581, 0.08176656067371368, 0.4105835556983948, 0.00019116263138130307]\n",
      "BEGIN\tIN\tNL-HaNA_1.04.02_1603_0063.jpg\tde koope peljes sullen a. 1649.; voldaan werden; d\t[0.5110979676246643, 0.08153966069221497, 0.4071679711341858, 0.00019435347348917276]\n",
      "BEGIN\tIN\tNL-HaNA_1.04.02_1603_0064.jpg\tmaar in het aanstaande sal den rentm r; Wat en hoe\t[0.5084357261657715, 0.08182159066200256, 0.4095500111579895, 0.00019268992764409631]\n",
      "BEGIN\tIN\tNL-HaNA_1.04.02_1603_0065.jpg\tschenkagie ingekogt, en dat innuijling; van comp: \t[0.5114986300468445, 0.08157296478748322, 0.4067329168319702, 0.00019544521637726575]\n",
      "BEGIN\tIN\tNL-HaNA_1.04.02_1603_0066.jpg\ttwee kissjes med monser kooper tot; voortaan daar \t[0.5155173540115356, 0.0818106159567833, 0.4024684727191925, 0.0002035889046965167]\n",
      "BEGIN\tIN\tNL-HaNA_1.04.02_1603_0067.jpg\tdoor den brand tot nagasakbijisser een; Cap. l van\t[0.4997277557849884, 0.08529382944107056, 0.4147724509239197, 0.00020601337018888444]\n",
      "BEGIN\tIN\tNL-HaNA_1.04.02_1603_0068.jpg\t„rende den brand goede sorge gedraagen.; Nangasaki\t[0.5033161640167236, 0.08330775052309036, 0.4131779968738556, 0.0001981459790840745]\n",
      "BEGIN\tIN\tNL-HaNA_1.04.02_1603_0069.jpg\tdesselvs lading ende mede gebragte; missive.; vert\t[0.5020646452903748, 0.08340853452682495, 0.41432711482048035, 0.00019968056585639715]\n",
      "BEGIN\tIN\tNL-HaNA_1.04.02_1603_0070.jpg\tQuantit der ingehamelde in de 19 d; gesandsz: van \t[0.5057485103607178, 0.08248056471347809, 0.4115705192089081, 0.00020043470431119204]\n",
      "BEGIN\tIN\tNL-HaNA_1.04.02_1603_0071.jpg\tItem over den handel tol vrij voorde; Actie van pa\t[0.49757400155067444, 0.08434267342090607, 0.4178723990917206, 0.0002109384658979252]\n",
      "BEGIN\tIN\tNL-HaNA_1.04.02_1603_0072.jpg\tEenEngels schip aldaar verongelukt; een aijder prs\t[0.4994145929813385, 0.08426395058631897, 0.4160938560962677, 0.000227574841119349]\n",
      "BEGIN\tIN\tNL-HaNA_1.04.02_1603_0073.jpg\tden Insaam van goud gaat daar na; wensch.; med d' \t[0.48474666476249695, 0.08856485038995743, 0.4264054596424103, 0.0002829812583513558]\n",
      "BEGIN\tIN\tNL-HaNA_1.04.02_1603_0074.jpg\tlusten geweest, dog reeds gesuild; men meijnd dat \t[0.45391833782196045, 0.11296189576387405, 0.4321896433830261, 0.0009301633690483868]\n",
      "BEGIN\tIN\tNL-HaNA_1.04.02_1603_0075.jpg\tter ordre van den princeazien; werden opgehouden; \t[0.4458273947238922, 0.12175503373146057, 0.43078598380088806, 0.0016316078836098313]\n"
     ]
    },
    {
     "name": "stderr",
     "output_type": "stream",
     "text": [
      "  2%|▏         | 19/1194.6875 [00:22<33:20,  1.70s/batch]"
     ]
    },
    {
     "name": "stdout",
     "output_type": "stream",
     "text": [
      "BEGIN\tIN\tNL-HaNA_1.04.02_1603_0076.jpg\t2 scheepenkoomen uijt bengale med; schrijven van d\t[0.49923500418663025, 0.10006630420684814, 0.4001564383506775, 0.00054226751672104]\n",
      "BEGIN\tIN\tNL-HaNA_1.04.02_1603_0077.jpg\tde Susanna en pampus beijde in; bengale g'arriveer\t[0.5136954188346863, 0.08859584480524063, 0.39740926027297974, 0.00029944913694635034]\n",
      "BEGIN\tIN\tNL-HaNA_1.04.02_1603_0078.jpg\tde negotieboeken niet overgekoomen sijnde;; „notif\t[0.5157506465911865, 0.08511537313461304, 0.3988921046257019, 0.00024186486552935094]\n",
      "BEGIN\tIN\tNL-HaNA_1.04.02_1603_0079.jpg\tSoudende een derselve gebleven sijn; Mons.r Partin\t[0.5142598152160645, 0.08356573432683945, 0.40195757150650024, 0.0002168415521737188]\n",
      "BEGIN\tIN\tNL-HaNA_1.04.02_1603_0080.jpg\tEn daarvandaan hier med 1000. ba„; een canel; staa\t[0.51402348279953, 0.08295237272977829, 0.4028145968914032, 0.00020955651416443288]\n",
      "BEGIN\tIN\tNL-HaNA_1.04.02_1603_0081.jpg\tbuijten dat waaren daar gesken 4 zeerov.; spierdij\t[0.5133576393127441, 0.08267372101545334, 0.4037624001502991, 0.0002062856510747224]\n",
      "BEGIN\tIN\tNL-HaNA_1.04.02_1603_0082.jpg\tsdag register door deheere geduurende; sijne ommel\t[0.5151867270469666, 0.08269229531288147, 0.40190938115119934, 0.00021160436153877527]\n",
      "BEGIN\tIN\tNL-HaNA_1.04.02_1603_0083.jpg\tvan het Candisehof waaren weder op; dog eenelijk m\t[0.514284610748291, 0.08223994821310043, 0.4032725989818573, 0.00020281656179577112]\n",
      "BEGIN\tIN\tNL-HaNA_1.04.02_1603_0084.jpg\toff er dit jaar weeder een peerl; ten wij nog niet\t[0.5125234723091125, 0.0821230486035347, 0.4051554501056671, 0.00019801483722403646]\n",
      "BEGIN\tIN\tNL-HaNA_1.04.02_1603_0085.jpg\tmaar wel van Ceijlon een mochase; Copia briev behe\t[0.5127840042114258, 0.08209916949272156, 0.4049195945262909, 0.0001972620957531035]\n",
      "BEGIN\tIN\tNL-HaNA_1.04.02_1603_0086.jpg\tponden teegens . . . . . rds 6¼ 6„ 3 5 —; maakende\t[0.5017691850662231, 0.08526522666215897, 0.41275930404663086, 0.0002062531711999327]\n",
      "BEGIN\tIN\tNL-HaNA_1.04.02_1603_0087.jpg\tWerdende reeden bijgebragt omwat; oorsaake desper,\t[0.4992561638355255, 0.08521056920289993, 0.4153290390968323, 0.00020420335931703448]\n",
      "BEGIN\tIN\tNL-HaNA_1.04.02_1603_0088.jpg\taanwijsing der lasten en winseen in; mocha onder a\t[0.5045272707939148, 0.08295634388923645, 0.412321001291275, 0.00019540966604836285]\n",
      "BEGIN\tIN\tNL-HaNA_1.04.02_1603_0089.jpg\tInkoop van 245856 lb. Cauwa, toten; hoogeprijs van\t[0.5032008290290833, 0.08302437514066696, 0.4135793149471283, 0.00019550288561731577]\n",
      "BEGIN\tIN\tNL-HaNA_1.04.02_1603_0090.jpg\taankomst en vertrek de Convoijschee„; pen, hebbend\t[0.5132888555526733, 0.08177205920219421, 0.40473857522010803, 0.00020050430612172931]\n",
      "BEGIN\tIN\tNL-HaNA_1.04.02_1603_0091.jpg\top de notitie der inmora en de daar; te verkoope g\t[0.5091274976730347, 0.08179320394992828, 0.40888628363609314, 0.00019300916756037623]\n",
      "BEGIN\tIN\tNL-HaNA_1.04.02_1603_0092.jpg\tinde aanstaande koude tijd soude med; voortgevaare\t[0.5093181133270264, 0.08170123398303986, 0.40878811478614807, 0.0001924752868944779]\n",
      "BEGIN\tIN\tNL-HaNA_1.04.02_1603_0093.jpg\tWat goederen nu weeder verkogt sijn,; maar de beha\t[0.5124011635780334, 0.08150480687618256, 0.4058988094329834, 0.00019521657668519765]\n",
      "BEGIN\tIN\tNL-HaNA_1.04.02_1603_0094.jpg\tdienaaren in persia, en 98 koppen; op de fluijt de\t[0.5095532536506653, 0.08182455599308014, 0.4084279239177704, 0.0001942972157848999]\n",
      "BEGIN\tIN\tNL-HaNA_1.04.02_1603_0095.jpg\tsulks over verscheijde pointen nader; berigt en Eh\t[0.502724289894104, 0.08311691880226135, 0.4139602482318878, 0.00019854819402098656]\n",
      "BEGIN\tIN\tNL-HaNA_1.04.02_1603_0096.jpg\tden predik. stampioen sal inplaats; da alleen gaan\t[0.5075557827949524, 0.08213473856449127, 0.4101061224937439, 0.00020334889995865524]\n",
      "BEGIN\tIN\tNL-HaNA_1.04.02_1603_0097.jpg\tden predik. e stampioen sal inplaats; da alleen ga\t[0.4995618164539337, 0.0839783251285553, 0.4162360429763794, 0.0002237334119854495]\n",
      "BEGIN\tIN\tNL-HaNA_1.04.02_1603_0098.jpg\tkerken raade sijn tevinden bij onse; 'teerste spre\t[0.4783353805541992, 0.10054250061511993, 0.4205913245677948, 0.0005307943210937083]\n",
      "BEGIN\tIN\tNL-HaNA_1.04.02_1603_0099.jpg\tdaar toeversoeken med de vereijke sang; noten vers\t[0.5159264206886292, 0.08217228949069977, 0.40169012546539307, 0.00021112803369760513]\n",
      "BEGIN\tIN\tNL-HaNA_1.04.02_1603_0100.jpg\took is de groote nevier ofte moolen vliet; 460. il\t[0.5070335268974304, 0.0826304629445076, 0.4101347029209137, 0.0002012859476963058]\n",
      "BEGIN\tIN\tNL-HaNA_1.04.02_1603_0101.jpg\tsnis geheel moolenv liet, de stadsgrag; en &:a med\t[0.5059523582458496, 0.0829777866601944, 0.41085878014564514, 0.00021105314954183996]\n",
      "BEGIN\tIN\tNL-HaNA_1.04.02_1603_0102.jpg\tEn is geheelmoolenv liet, de stadsgrag; ten k:a me\t[0.49649035930633545, 0.08513942360877991, 0.4181349575519562, 0.00023526366567239165]\n",
      "BEGIN\tIN\tNL-HaNA_1.04.02_1603_0103.jpg\tsluijs van moolenvliet gelegt te openen; schuuring\t[0.47437626123428345, 0.1023992970585823, 0.4226519763469696, 0.0005725118098780513]\n",
      "BEGIN\tIN\tNL-HaNA_1.04.02_1603_0104.jpg\tdogwegens de vereijse verbetering sal men; eerst o\t[0.510780394077301, 0.08409631252288818, 0.40489083528518677, 0.00023249059449881315]\n",
      "BEGIN\tIN\tNL-HaNA_1.04.02_1603_0105.jpg\tende de wapenkamer nevens de negotie; boeken van b\t[0.4985927641391754, 0.08635909110307693, 0.4148016571998596, 0.000246479146881029]\n",
      "BEGIN\tIN\tNL-HaNA_1.04.02_1603_0106.jpg\tP„:r Transport - - - ƒ ƒ2548099. 9. 7.; 't collegi\t[0.4763455390930176, 0.09530828148126602, 0.4279564917087555, 0.0003896575071848929]\n",
      "BEGIN\tIN\tNL-HaNA_1.04.02_1603_0107.jpg\tDe Reele Effecten volgens de Negotieboeken over„; \t[0.44171565771102905, 0.12244396656751633, 0.4342254102230072, 0.0016149698058143258]\n"
     ]
    },
    {
     "name": "stderr",
     "output_type": "stream",
     "text": [
      "  2%|▏         | 20/1194.6875 [00:23<33:00,  1.69s/batch]"
     ]
    },
    {
     "name": "stdout",
     "output_type": "stream",
     "text": [
      "BEGIN\tIN\tNL-HaNA_1.04.02_1603_0108.jpg\tNotitie van de wissels die nu weder sijn; minder s\t[0.4953329265117645, 0.10267161577939987, 0.40143030881881714, 0.0005651198443956673]\n",
      "BEGIN\tIN\tNL-HaNA_1.04.02_1603_0109.jpg\tEn wij versoeken dat voldaan; moogen werden; rd: 4\t[0.5130370855331421, 0.08814526349306107, 0.39852797985076904, 0.00028965913224965334]\n",
      "BEGIN\tIN\tNL-HaNA_1.04.02_1603_0110.jpg\tbooven de 6. eerste sijn nu nog 4. jonken; van aim\t[0.5160606503486633, 0.08500386029481888, 0.3986941874027252, 0.00024130908423103392]\n",
      "BEGIN\tIN\tNL-HaNA_1.04.02_1603_0111.jpg\tEn sulkx eeselijk ondr het ovorige; rancoen le sob\t[0.5064221620559692, 0.08481522649526596, 0.4085463583469391, 0.00021625349472742528]\n",
      "BEGIN\tIN\tNL-HaNA_1.04.02_1603_0112.jpg\twaar op ordre werd versogt of bij voorsz.; gen wer\t[0.5123997330665588, 0.0829053744673729, 0.40448710322380066, 0.00020782320643775165]\n",
      "BEGIN\tIN\tNL-HaNA_1.04.02_1603_0113.jpg\tde h.:ren directeur en van riebeek hebben met; ops\t[0.5128418803215027, 0.08253213763237, 0.4044208824634552, 0.00020510746981017292]\n",
      "BEGIN\tIN\tNL-HaNA_1.04.02_1603_0114.jpg\tbernardphoonsen tot tweede, en thom„; van son tot \t[0.5129423141479492, 0.0823928564786911, 0.4044608473777771, 0.0002039874525507912]\n",
      "BEGIN\tIN\tNL-HaNA_1.04.02_1603_0115.jpg\tnelis Coops weegens sijn reijse nade; den raad ext\t[0.5043684840202332, 0.08359666913747787, 0.4118310511112213, 0.00020387180848047137]\n",
      "BEGIN\tIN\tNL-HaNA_1.04.02_1603_0116.jpg\tConguim en palembang den raadextra.; Iacob vandam \t[0.5092684030532837, 0.08239888399839401, 0.4081271290779114, 0.00020560227858368307]\n",
      "BEGIN\tIN\tNL-HaNA_1.04.02_1603_0117.jpg\tinde jambise boovenlanden nog bij een; te senden; \t[0.49735432863235474, 0.08452017605304718, 0.417901873588562, 0.00022360100410878658]\n",
      "BEGIN\tIN\tNL-HaNA_1.04.02_1603_0118.jpg\tmaar eer te dugten dal pringabaije; van manicabo r\t[0.48089659214019775, 0.10064420104026794, 0.4179325997829437, 0.0005266869557090104]\n",
      "BEGIN\tEND\tNL-HaNA_1.04.02_1603_0119.jpg\tgens ordre uijtgeborgde penn. gen; in Cassa geteld\t[0.5101611614227295, 0.08286887407302856, 0.40676864981651306, 0.000201247981749475]\n",
      "BEGIN\tBEGIN\tNL-HaNA_1.04.02_1111_0011.jpg\tjonghste aduijsen; 21 februarij ten 41; martij 167\t[0.5152864456176758, 0.08179236948490143, 0.4027237296104431, 0.00019744732708204538]\n",
      "BEGIN\tIN\tNL-HaNA_1.04.02_1111_0012.jpg\top den 11=en april wederomme van daer vertrocken, \t[0.5025477409362793, 0.08503903448581696, 0.4122081995010376, 0.00020499575475696474]\n",
      "BEGIN\tIN\tNL-HaNA_1.04.02_1111_0013.jpg\t28424: 6: 12: in contant.; 1„13:1:6  137603 4: 1; \t[0.49939948320388794, 0.0852808803319931, 0.41511502861976624, 0.00020465349371079355]\n",
      "BEGIN\tIN\tNL-HaNA_1.04.02_1111_0014.jpg\tvande Emeel nar Japan; ven vertrecken.; Coopmansch\t[0.5125755667686462, 0.08169657737016678, 0.40553349256515503, 0.00019436432921793312]\n",
      "BEGIN\tIN\tNL-HaNA_1.04.02_1111_0015.jpg\t5; Johor, Pahang, ende bij gelegen plaetsen soude \t[0.4846925139427185, 0.09379337728023529, 0.42127537727355957, 0.00023875903571024537]\n",
      "BEGIN\tIN\tNL-HaNA_1.04.02_1111_0016.jpg\tCatwijck,; boucaspel; Sloerdijck verourt,; Remphae\t[0.5063405632972717, 0.08265569806098938, 0.4108089506626129, 0.00019482470816001296]\n",
      "BEGIN\tIN\tNL-HaNA_1.04.02_1111_0017.jpg\tende haer meerder partije voorgecomen is, als tot \t[0.48282235860824585, 0.09358885884284973, 0.4233529567718506, 0.0002358593774260953]\n",
      "BEGIN\tIN\tNL-HaNA_1.04.02_1111_0018.jpg\tChinescheen Japanse; retour op bata gecom„; vuijtt\t[0.5046557188034058, 0.08223895728588104, 0.41291412711143494, 0.00019120539946015924]\n",
      "BEGIN\tIN\tNL-HaNA_1.04.02_1111_0019.jpg\tcleijne apparentie; handevlage de greifvier; 2; vo\t[0.5008593201637268, 0.08455967158079147, 0.41438043117523193, 0.0002005837159231305]\n",
      "BEGIN\tIN\tNL-HaNA_1.04.02_1111_0020.jpg\tRoouer Jan Glauw; mur als 20 jonckn; juil reour cr\t[0.4929318130016327, 0.08795410394668579, 0.41890087723731995, 0.000213150997296907]\n",
      "BEGIN\tIN\tNL-HaNA_1.04.02_1111_0021.jpg\t44:; vast accoort ende besluijt, met hem maecken c\t[0.500142514705658, 0.08456519991159439, 0.4150916039943695, 0.00020064107957296073]\n",
      "BEGIN\tIN\tNL-HaNA_1.04.02_1111_0022.jpg\tmet meerder macht ende vigeur op het rijcke van Ch\t[0.49311742186546326, 0.0879594013094902, 0.41870927810668945, 0.00021395103249233216]\n",
      "BEGIN\tIN\tNL-HaNA_1.04.02_1111_0023.jpg\tTot dien eijnde hebben wij den vice Gouvern=r Putm\t[0.501315712928772, 0.08471282571554184, 0.41376832127571106, 0.0002031103358604014]\n",
      "BEGIN\tIN\tNL-HaNA_1.04.02_1111_0024.jpg\tChincheuw t'infesteeren, off het vaertuijch onder \t[0.48655325174331665, 0.09370733797550201, 0.41949930787086487, 0.00024014970404095948]\n",
      "BEGIN\tIN\tNL-HaNA_1.04.02_1111_0025.jpg\t15:; Relangh daer aen comen mochte, ende t' verhin\t[0.4827781319618225, 0.09404093027114868, 0.4229390621185303, 0.0002418809017399326]\n",
      "BEGIN\tIN\tNL-HaNA_1.04.02_1111_0026.jpg\tautentijcque passen souden mogen versien ende gewa\t[0.47573837637901306, 0.09480971843004227, 0.42920568585395813, 0.000246259878622368]\n",
      "BEGIN\tIN\tNL-HaNA_1.04.02_1111_0027.jpg\tt:; Pitjens, die ons in het laeste van voorleden n\t[0.4894905388355255, 0.08607593178749084, 0.4242173433303833, 0.0002161642478313297]\n",
      "BEGIN\tIN\tNL-HaNA_1.04.02_1111_0028.jpg\tZeeburch gemant met 60: coppen daer ond=r 15: sold\t[0.4816492199897766, 0.0888741984963417, 0.4292261302471161, 0.0002504429139662534]\n",
      "BEGIN\tIN\tNL-HaNA_1.04.02_1111_0029.jpg\tretour met 2 Jacht; Oudewate nae; Japan Taijouas; \t[0.4775749146938324, 0.09286380559206009, 0.42919114232063293, 0.00037014627014286816]\n",
      "END\tIN\tNL-HaNA_1.04.02_1111_0030.jpg\tde voorn. goeder war; jn Japan geberefeet; doch ni\t[0.435565710067749, 0.1234864592552185, 0.43928030133247375, 0.0016674771904945374]\n"
     ]
    },
    {
     "name": "stderr",
     "output_type": "stream",
     "text": [
      "  2%|▏         | 21/1194.6875 [00:25<30:57,  1.58s/batch]"
     ]
    },
    {
     "name": "stdout",
     "output_type": "stream",
     "text": [
      "BEGIN\tIN\tNL-HaNA_1.04.02_1111_0031.jpg\t21:; Deffecten die nae het sluijten vande voorz. n\t[0.4878269135951996, 0.10325551778078079, 0.40827804803848267, 0.0006395321106538177]\n",
      "BEGIN\tIN\tNL-HaNA_1.04.02_1111_0032.jpg\tdie onverrechte saicke; te rugge vorrxt; van welck\t[0.47899457812309265, 0.10670866072177887, 0.41360339522361755, 0.0006933996919542551]\n",
      "BEGIN\tIN\tNL-HaNA_1.04.02_1111_0033.jpg\tOnder andere hebbben wij den selven serieuselijk g\t[0.4991927146911621, 0.08966013789176941, 0.4108835458755493, 0.0002635889395605773]\n",
      "BEGIN\tIN\tNL-HaNA_1.04.02_1111_0034.jpg\ten des te min contant; vervoorn te behouun; wert g\t[0.5022862553596497, 0.08725368231534958, 0.41020169854164124, 0.0002582994638942182]\n",
      "BEGIN\tIN\tNL-HaNA_1.04.02_1111_0035.jpg\tjis Burram; revengen soo voer; nieuwe onlust; bran\t[0.4826560318470001, 0.10234877467155457, 0.4144403636455536, 0.0005548175540752709]\n",
      "BEGIN\tIN\tNL-HaNA_1.04.02_1111_0036.jpg\teijndelijck onder borghtocht; gerelaxeert,; het mo\t[0.514223575592041, 0.08409722149372101, 0.4014626443386078, 0.0002164986653951928]\n",
      "BEGIN\tIN\tNL-HaNA_1.04.02_1111_0037.jpg\thebben, ter saecke d'Japanders geene particuliere \t[0.5135682225227356, 0.08393876999616623, 0.4022822678089142, 0.00021077999554108828]\n",
      "BEGIN\tIN\tNL-HaNA_1.04.02_1111_0038.jpg\tNaer den gem: Command=r Lodensteijn aen ons heeft \t[0.49176207184791565, 0.09081248193979263, 0.4171946048736572, 0.00023089903697837144]\n",
      "BEGIN\tIN\tNL-HaNA_1.04.02_1111_0039.jpg\t29:; op haere rechte hoochten ende streckingen ind\t[0.5017064809799194, 0.08508194237947464, 0.4130050539970398, 0.0002065437874989584]\n",
      "BEGIN\tIN\tNL-HaNA_1.04.02_1111_0040.jpg\tDe voorn: Conincx armade was echter op den 15en me\t[0.5007659196853638, 0.08487574011087418, 0.4141533672809601, 0.00020496408978942782]\n",
      "BEGIN\tIN\tNL-HaNA_1.04.02_1111_0041.jpg\t31:; vor sijn rijse nar is geweest, dat den Comand\t[0.5078174471855164, 0.08272984623908997, 0.40925315022468567, 0.00019954968593083322]\n",
      "BEGIN\tIN\tNL-HaNA_1.04.02_1111_0042.jpg\tvanden heunels sockel; sonder redenen in Buton; da\t[0.5139355063438416, 0.08215076476335526, 0.4037092328071594, 0.00020447542192414403]\n",
      "BEGIN\tIN\tNL-HaNA_1.04.02_1111_0043.jpg\tOp hoope van e Manassaersche vloote voor of ontren\t[0.5027093887329102, 0.08457322418689728, 0.41251295804977417, 0.00020440222579054534]\n",
      "BEGIN\tIN\tNL-HaNA_1.04.02_1111_0044.jpg\t^ van t' schip; Batt=a omme nae t'vertreck der Goe\t[0.5098790526390076, 0.08246064186096191, 0.40746182203292847, 0.000198523688595742]\n",
      "BEGIN\tIN\tNL-HaNA_1.04.02_1111_0045.jpg\t35:; Wijntgens, datt den Gouden Leeuw ende gem: Be\t[0.5019615292549133, 0.08444004505872726, 0.41339555382728577, 0.00020285612845327705]\n",
      "BEGIN\tIN\tNL-HaNA_1.04.02_1111_0046.jpg\toudem sant grondt; een stuck geslagen; slecht over\t[0.5081769824028015, 0.08245739340782166, 0.40916767716407776, 0.00019792147213593125]\n",
      "BEGIN\tIN\tNL-HaNA_1.04.02_1111_0047.jpg\tNaer wij uijt de quartieren van Amboina verstaen e\t[0.513860821723938, 0.08196981996297836, 0.4039660692214966, 0.0002032990742009133]\n",
      "BEGIN\tIN\tNL-HaNA_1.04.02_1111_0048.jpg\tdie van Losou presuin; haer bij de Compa; vruge; o\t[0.5016214847564697, 0.08459512144327164, 0.41357898712158203, 0.00020440864318516105]\n",
      "BEGIN\tIN\tNL-HaNA_1.04.02_1111_0049.jpg\tSir van Lesou; tot ons naerder verbonden; 39:; ass\t[0.5134432315826416, 0.08202595263719559, 0.40432724356651306, 0.00020361370116006583]\n",
      "BEGIN\tIN\tNL-HaNA_1.04.02_1111_0050.jpg\topgeworpen fortgen wederomme gedemolieert, ende si\t[0.5023961663246155, 0.08448445051908493, 0.4129143953323364, 0.0002049709582934156]\n",
      "BEGIN\tIN\tNL-HaNA_1.04.02_1111_0051.jpg\tcomplicn gevangen; opt castel; Capi. sito want; is\t[0.5097532868385315, 0.08259308338165283, 0.4074515104293823, 0.00020207966736052185]\n",
      "BEGIN\tIN\tNL-HaNA_1.04.02_1111_0052.jpg\thet geruchte van haere apprehentie, alle nae het g\t[0.4824916124343872, 0.09104899317026138, 0.4262235760688782, 0.00023584358859807253]\n",
      "BEGIN\tIN\tNL-HaNA_1.04.02_1111_0053.jpg\t43:; Omme het weder vertrecken der voorsz. Marcass\t[0.4933978319168091, 0.08493323624134064, 0.4214437007904053, 0.0002252122067147866]\n",
      "BEGIN\tIN\tNL-HaNA_1.04.02_1111_0054.jpg\tDees boucken werden; noch verwacht; Weshalven sijn\t[0.4760424792766571, 0.10032585263252258, 0.423108845949173, 0.0005227585206739604]\n",
      "BEGIN\tIN\tNL-HaNA_1.04.02_1111_0055.jpg\t45:; waren op den 23=en Junij pass=o in d' Eijland\t[0.5120247006416321, 0.0823652446269989, 0.40540674328804016, 0.00020328037498984486]\n",
      "BEGIN\tIN\tNL-HaNA_1.04.02_1111_0056.jpg\tdaer mede d'selve wel tot december off Januario ae\t[0.49966660141944885, 0.08492894470691681, 0.4151979386806488, 0.0002064960281131789]\n",
      "BEGIN\tIN\tNL-HaNA_1.04.02_1111_0057.jpg\t47:; De Generale ongelden desen Jaere in d' eijlan\t[0.5089367628097534, 0.0828021988272667, 0.4080507755279541, 0.00021026120521128178]\n",
      "BEGIN\tIN\tNL-HaNA_1.04.02_1111_0058.jpg\tpresidente amtpt daor; Cttus in moluca; wel broban\t[0.5096973180770874, 0.08313746005296707, 0.4069497287273407, 0.0002154796675313264]\n",
      "BEGIN\tIN\tNL-HaNA_1.04.02_1111_0059.jpg\t49:; Neerder advijsen sijn ons tot noch toe van da\t[0.5040917992591858, 0.08446140587329865, 0.41122469305992126, 0.00022206504945643246]\n",
      "BEGIN\tIN\tNL-HaNA_1.04.02_1111_0060.jpg\tinne gescheept ende nu bij den raet in zuratta nae\t[0.48903727531433105, 0.0890522450208664, 0.4216497242450714, 0.00026081287069246173]\n",
      "BEGIN\tIN\tNL-HaNA_1.04.02_1111_0061.jpg\t1:; sijn, omme ald=r seeckere twee kisten Gouts mo\t[0.4788694381713867, 0.09523658454418182, 0.4254845678806305, 0.00040939447353594005]\n",
      "END\tIN\tNL-HaNA_1.04.02_1111_0062.jpg\tNachters bequamen als den grooten overlast, die ha\t[0.4319468140602112, 0.12821006774902344, 0.4379352331161499, 0.00190791767090559]\n"
     ]
    },
    {
     "name": "stderr",
     "output_type": "stream",
     "text": [
      "  2%|▏         | 22/1194.6875 [00:27<34:28,  1.76s/batch]"
     ]
    },
    {
     "name": "stdout",
     "output_type": "stream",
     "text": [
      "BEGIN\tIN\tNL-HaNA_1.04.02_1111_0063.jpg\tgevolcht sijne, hebben vande voorsz. oorlochs freg\t[0.49626773595809937, 0.10271690040826797, 0.4004450738430023, 0.000570273376069963]\n",
      "BEGIN\tIN\tNL-HaNA_1.04.02_1111_0064.jpg\twillicheden ende insolentien het huijs vanden Enge\t[0.5068797469139099, 0.08987106382846832, 0.40295296907424927, 0.00029625356546603143]\n",
      "BEGIN\tIN\tNL-HaNA_1.04.02_1111_0065.jpg\taengeslagen anijl ende afleginge van 72: Cropias o\t[0.5150856971740723, 0.08498335629701614, 0.399690181016922, 0.00024077588750515133]\n",
      "BEGIN\tIN\tNL-HaNA_1.04.02_1111_0066.jpg\tvigilantie wel beleijt ende gemesnageert, een goet\t[0.512399435043335, 0.08378031849861145, 0.40360331535339355, 0.0002169288054574281]\n",
      "BEGIN\tIN\tNL-HaNA_1.04.02_1111_0067.jpg\t29; soude, omme daer voor in Spahan ende elders va\t[0.5120398998260498, 0.0831778272986412, 0.4045727849006653, 0.000209536767215468]\n",
      "BEGIN\tIN\tNL-HaNA_1.04.02_1111_0068.jpg\teenige insolent, ende sommige niet te vinden sijn,\t[0.5121151804924011, 0.08277475833892822, 0.4049041271209717, 0.00020594295347109437]\n",
      "BEGIN\tIN\tNL-HaNA_1.04.02_1111_0069.jpg\t59:; Ten eersten, om dat wij in cas van voorgestel\t[0.5155853033065796, 0.08255310356616974, 0.401650995016098, 0.00021058398124296218]\n",
      "BEGIN\tIN\tNL-HaNA_1.04.02_1111_0070.jpg\thadde desen Jaere wederomme een groot schip met Ch\t[0.5076825618743896, 0.08338680863380432, 0.4087267518043518, 0.0002038575039478019]\n",
      "BEGIN\tIN\tNL-HaNA_1.04.02_1111_0071.jpg\t39: kisten contante R=a van 8=/n a 4000: R=a yder;\t[0.5158048272132874, 0.08235619217157364, 0.4016297161579132, 0.00020923829288221896]\n",
      "BEGIN\tIN\tNL-HaNA_1.04.02_1111_0072.jpg\tOmme d'selve aff te leggen, waren haer weijnich of\t[0.4999393820762634, 0.08605319261550903, 0.4137934744358063, 0.00021396754891611636]\n",
      "BEGIN\tIN\tNL-HaNA_1.04.02_1111_0073.jpg\t63:; geen, bij gebreck van dien conden met den Con\t[0.49447038769721985, 0.08657488971948624, 0.41873663663864136, 0.00021809294412378222]\n",
      "BEGIN\tIN\tNL-HaNA_1.04.02_1111_0074.jpg\tnadeel van d' Engelsen, die daer mede een goet ged\t[0.4822402596473694, 0.08848747611045837, 0.42903369665145874, 0.0002385239931754768]\n",
      "BEGIN\tIN\tNL-HaNA_1.04.02_1111_0075.jpg\tresolutie om eenige; Comptir velicht.; 33; 65:; Zu\t[0.47835710644721985, 0.09984944015741348, 0.42128250002861023, 0.0005109647754579782]\n",
      "BEGIN\tIN\tNL-HaNA_1.04.02_1111_0076.jpg\tonse marima een preuve nemen, alsnu dat men aen In\t[0.49047043919563293, 0.09081718325614929, 0.41848140954971313, 0.00023095658980309963]\n",
      "BEGIN\tIN\tNL-HaNA_1.04.02_1111_0077.jpg\t67:; te procureren met soodanige circumspectie end\t[0.5092403292655945, 0.08208038657903671, 0.40848401188850403, 0.00019533147860784084]\n",
      "BEGIN\tIN\tNL-HaNA_1.04.02_1111_0078.jpg\tmede de respective Comptoiren van India versien si\t[0.5059806704521179, 0.08282280713319778, 0.41100019216537476, 0.00019633710326161236]\n",
      "BEGIN\tIN\tNL-HaNA_1.04.02_1111_0079.jpg\t35 69; ondertusschen verscheijden schoone vlecken \t[0.5125216245651245, 0.08188675343990326, 0.4053945541381836, 0.00019707853789441288]\n",
      "BEGIN\tIN\tNL-HaNA_1.04.02_1111_0080.jpg\tsijner comptste ten aensien Batt:a rondsom besloot\t[0.4856826663017273, 0.09118085354566574, 0.4229089021682739, 0.0002275388251291588]\n",
      "BEGIN\tIN\tNL-HaNA_1.04.02_1111_0081.jpg\t36:71:; crael; Het twee dijcken van Claersteen heb\t[0.5085336565971375, 0.08172000199556351, 0.40955254435539246, 0.00019384047482162714]\n",
      "BEGIN\tIN\tNL-HaNA_1.04.02_1111_0082.jpg\thaere bekenden, mitsgaders de notabelste ende gequ\t[0.5103293061256409, 0.08170461654663086, 0.40777087211608887, 0.00019521440844982862]\n",
      "BEGIN\tIN\tNL-HaNA_1.04.02_1111_0083.jpg\t53:; Enden Capt:n: Sijmon Bolentijn hadde hij onge\t[0.5128289461135864, 0.08179166167974472, 0.40518248081207275, 0.0001968896685866639]\n",
      "BEGIN\tIN\tNL-HaNA_1.04.02_1111_0084.jpg\tGelijck ved: bij d'ordre ende Instructie d'voorsz.\t[0.48718905448913574, 0.09102098643779755, 0.4215632677078247, 0.00022667567827738822]\n",
      "BEGIN\tIN\tNL-HaNA_1.04.02_1111_0085.jpg\t75:; geen sonderlinge quantiteijt peper op voorrae\t[0.5041553378105164, 0.0826820582151413, 0.41296830773353577, 0.00019433347915764898]\n",
      "BEGIN\tIN\tNL-HaNA_1.04.02_1111_0086.jpg\tAugusto als wanneer uijt het nieuwe gewasch sijne \t[0.5046496391296387, 0.08268298208713531, 0.4124722182750702, 0.00019512481230776757]\n",
      "BEGIN\tIN\tNL-HaNA_1.04.02_1111_0087.jpg\taenstaende met sijne volle ladinge wederomme naer \t[0.5105305314064026, 0.08179954439401627, 0.40747374296188354, 0.00019615981727838516]\n",
      "BEGIN\tIN\tNL-HaNA_1.04.02_1111_0088.jpg\tvan t' Jacht den spiedwel tot opt vertreck van t' \t[0.49702370166778564, 0.08561870455741882, 0.4171505272388458, 0.00020701043831650168]\n",
      "BEGIN\tIN\tNL-HaNA_1.04.02_1111_0089.jpg\tGem: Command=r hebbene bij hem de Jachten Noortwij\t[0.5082601308822632, 0.08223921805620193, 0.40930086374282837, 0.0001997552753891796]\n",
      "BEGIN\tIN\tNL-HaNA_1.04.02_1111_0090.jpg\twij hem onse genegenth=t, omme de gevangene aen we\t[0.5047486424446106, 0.0834948942065239, 0.4115510582923889, 0.00020548744942061603]\n",
      "BEGIN\tIN\tNL-HaNA_1.04.02_1111_0091.jpg\tbaltsar wijntgens; vermoort ende bandang; India ga\t[0.4933312237262726, 0.08737412840127945, 0.41906681656837463, 0.00022786605404689908]\n",
      "BEGIN\tIN\tNL-HaNA_1.04.02_1111_0092.jpg\tVan Japon hebben mede eenich lackwerck ontboden, e\t[0.4836023449897766, 0.09052048623561859, 0.4256070554256439, 0.00027017976390197873]\n",
      "BEGIN\tIN\tNL-HaNA_1.04.02_1111_0093.jpg\t^ sijn genougen te versenden.; dat hem voor den ti\t[0.4741283059120178, 0.09727613627910614, 0.4281441569328308, 0.00045144144678488374]\n",
      "END\tIN\tNL-HaNA_1.04.02_1111_0094.jpg\tgefondeert op quaede rapporten soo hebben getracht\t[0.4129001796245575, 0.14290514588356018, 0.4413668215274811, 0.0028278862591832876]\n"
     ]
    },
    {
     "name": "stderr",
     "output_type": "stream",
     "text": [
      "  2%|▏         | 23/1194.6875 [00:28<29:07,  1.49s/batch]"
     ]
    },
    {
     "name": "stdout",
     "output_type": "stream",
     "text": [
      "BEGIN\tIN\tNL-HaNA_1.04.02_1111_0095.jpg\tgepubliceert om t'selve niet crachteloos ende iblu\t[0.4975352883338928, 0.10264894366264343, 0.3992123305797577, 0.000603392836637795]\n",
      "BEGIN\tEND\tNL-HaNA_1.04.02_1111_0096.jpg\tsal, biddende onderen tusschen dat God Almachtich \t[0.4945492148399353, 0.09648880362510681, 0.4085976481437683, 0.0003644148528110236]\n",
      "BEGIN\tBEGIN\tNL-HaNA_1.04.02_1269_1542.jpg\tObras de Luis de Camoens.; Contos de trancoto.; Hi\t[0.48124513030052185, 0.09431770443916321, 0.424125075340271, 0.0003120046167168766]\n",
      "BEGIN\tBEGIN\tNL-HaNA_1.04.02_3678_0029.jpg\tAan de wel Edele Hoog Agtbaare Heeren; Bewindhebbe\t[0.47817397117614746, 0.10219503939151764, 0.4190734624862671, 0.0005575301474891603]\n",
      "BEGIN\tIN\tNL-HaNA_1.04.02_3678_0030.jpg\tover melker Jnhoud my vervolgens ter onser; sessie\t[0.5124751925468445, 0.08440300077199936, 0.4028961956501007, 0.00022564858954865485]\n",
      "BEGIN\tIN\tNL-HaNA_1.04.02_3678_0031.jpg\tHet schip Dordrecht 15 april 1785; De Constantia 2\t[0.5102324485778809, 0.08437687903642654, 0.4051707983016968, 0.00021986151114106178]\n",
      "BEGIN\tIN\tNL-HaNA_1.04.02_3678_0032.jpg\tvan den Inkoop van 't door de Engelschen in; de sa\t[0.5103132724761963, 0.08410529792308807, 0.40536049008369446, 0.00022096489556133747]\n",
      "BEGIN\tIN\tNL-HaNA_1.04.02_3678_0033.jpg\tzullen ondergaan, door dien veele derzelve; geduur\t[0.4903818368911743, 0.08901724964380264, 0.42036041617393494, 0.00024045271857175976]\n",
      "BEGIN\tIN\tNL-HaNA_1.04.02_3678_0034.jpg\tCompe: scheepen te laten doorstaan bijzonder; ook \t[0.4958937466144562, 0.08584945648908615, 0.4180133044719696, 0.0002435074420645833]\n",
      "BEGIN\tIN\tNL-HaNA_1.04.02_3678_0035.jpg\t„laag, geconsigneert werde aan de kamer Delft,; te\t[0.4771881699562073, 0.10105294734239578, 0.4212139844894409, 0.0005449381424114108]\n",
      "BEGIN\tIN\tNL-HaNA_1.04.02_3678_0036.jpg\ttot ult=o maij ontfangen 20 4/5 ton, uyt.; „makend\t[0.4872593879699707, 0.09871009737253189, 0.4135204255580902, 0.0005100712878629565]\n",
      "BEGIN\tIN\tNL-HaNA_1.04.02_3678_0037.jpg\t„tante specien, of papier van Credit, en; Bank bri\t[0.514919638633728, 0.08303717523813248, 0.40183043479919434, 0.00021279635257087648]\n",
      "BEGIN\tIN\tNL-HaNA_1.04.02_3678_0038.jpg\twijl zelfs op de toegezegde 4 Millioenen; onder ul\t[0.5108913779258728, 0.08346277475357056, 0.40543439984321594, 0.000211450838833116]\n",
      "BEGIN\tIN\tNL-HaNA_1.04.02_3678_0039.jpg\tworden; als de nypende nood vereyscht, en; Comp:e \t[0.5110304951667786, 0.08337557315826416, 0.4053827226161957, 0.00021121761528775096]\n",
      "BEGIN\tIN\tNL-HaNA_1.04.02_3678_0040.jpg\tdie gereedschappen intusschen verandwoord; heeft, \t[0.5118202567100525, 0.08329970389604568, 0.40466952323913574, 0.0002104711893480271]\n",
      "BEGIN\tIN\tNL-HaNA_1.04.02_3678_0041.jpg\tnistratie Boeken Hendrik August Rossel; op desselv\t[0.5132695436477661, 0.083245649933815, 0.4032735824584961, 0.00021119631128385663]\n",
      "BEGIN\tIN\tNL-HaNA_1.04.02_3678_0042.jpg\tOnder de zaaken, waar omtrent de; algemeene belang\t[0.49870458245277405, 0.08791857957839966, 0.41315191984176636, 0.00022490060655400157]\n",
      "BEGIN\tIN\tNL-HaNA_1.04.02_3678_0043.jpg\twaar door het gebrek daar aan thans zeer; groot is\t[0.49455299973487854, 0.0880732461810112, 0.41714996099472046, 0.00022378227731678635]\n",
      "BEGIN\tIN\tNL-HaNA_1.04.02_3678_0044.jpg\tvan kleijnder Charter dan van 140. gebruik zou; de\t[0.5095676183700562, 0.08318408578634262, 0.40703919529914856, 0.0002090430643875152]\n",
      "BEGIN\tIN\tNL-HaNA_1.04.02_3678_0045.jpg\tin 't behoud der scheepelingen aan de opper; en Tw\t[0.4943595230579376, 0.08786044269800186, 0.41755664348602295, 0.00022330156934913248]\n",
      "BEGIN\tIN\tNL-HaNA_1.04.02_3678_0046.jpg\tdonceur, als door uwe wel Edele Hoog Agtb; is toeg\t[0.5072894096374512, 0.08322484791278839, 0.4092760682106018, 0.0002096985699608922]\n",
      "BEGIN\tIN\tNL-HaNA_1.04.02_3678_0047.jpg\t„nueert met de Jaarlijkse remissen van de; Jnteres\t[0.5073096752166748, 0.08336780965328217, 0.40910986065864563, 0.00021265403483994305]\n",
      "BEGIN\tIN\tNL-HaNA_1.04.02_3678_0048.jpg\textract uwer welEdele Hoog Agtb: Missive, sta; len\t[0.5051064491271973, 0.08377392590045929, 0.41089943051338196, 0.00022018732852302492]\n",
      "BEGIN\tIN\tNL-HaNA_1.04.02_3678_0049.jpg\tvoldaan is geworden, en verder voldaan zal; worden\t[0.4957948625087738, 0.08583910763263702, 0.41812166571617126, 0.0002442790719214827]\n",
      "BEGIN\tIN\tNL-HaNA_1.04.02_3678_0050.jpg\ten opperhoofd te Sadraspatnam Mr. Jacob Pieter; de\t[0.4750620126724243, 0.10104705393314362, 0.4233378767967224, 0.0005530352937057614]\n",
      "BEGIN\tIN\tNL-HaNA_1.04.02_3678_0051.jpg\trequest, waar bij verzogt om als koopman; aan de z\t[0.49995511770248413, 0.08599440008401871, 0.41380101442337036, 0.00024945696350187063]\n",
      "BEGIN\tIN\tNL-HaNA_1.04.02_3678_0052.jpg\tMinisters van Ceijlon, Chormandel en Bengale; by e\t[0.4737973213195801, 0.1020517647266388, 0.4235920310020447, 0.0005589600186794996]\n",
      "BEGIN\tIN\tNL-HaNA_1.04.02_3678_0053.jpg\ttoiren mede door toesending van de voorsch; Public\t[0.5088691115379333, 0.08448624610900879, 0.40641695261001587, 0.00022770676878280938]\n",
      "BEGIN\tIN\tNL-HaNA_1.04.02_3678_0054.jpg\tverzoeken, de nodige voorsiening te willen; stelle\t[0.5023967623710632, 0.08589895069599152, 0.4114663302898407, 0.00023795188462827355]\n",
      "BEGIN\tIN\tNL-HaNA_1.04.02_3678_0055.jpg\trespective Buyten Comptoiren, dog om daar in; than\t[0.4959656298160553, 0.08827301114797592, 0.4154872000217438, 0.0002741484495345503]\n",
      "BEGIN\tIN\tNL-HaNA_1.04.02_3678_0056.jpg\tSwaar Canon, en op welke Battheryen voor; Batavia \t[0.47933652997016907, 0.09649953991174698, 0.42372557520866394, 0.0004383469349704683]\n",
      "BEGIN\tIN\tNL-HaNA_1.04.02_3678_0057.jpg\tLegiaen gesonden zyn, en dat berigt mede; senden a\t[0.44093823432922363, 0.12617138028144836, 0.4309890866279602, 0.0019013119162991643]\n"
     ]
    },
    {
     "name": "stderr",
     "output_type": "stream",
     "text": [
      "  2%|▏         | 24/1194.6875 [00:29<26:02,  1.34s/batch]"
     ]
    },
    {
     "name": "stdout",
     "output_type": "stream",
     "text": [
      "BEGIN\tIN\tNL-HaNA_1.04.02_3678_0058.jpg\tAan de E: Brigadier zullen wy een Extract; uit uwe\t[0.48692768812179565, 0.11399538069963455, 0.3983253538608551, 0.0007515537436120212]\n",
      "BEGIN\tIN\tNL-HaNA_1.04.02_3678_0059.jpg\twy kunnen egter uwe wel Edele Hoog Agtb:; in gemoe\t[0.4916433095932007, 0.09901242703199387, 0.4089679419994354, 0.00037634011823683977]\n",
      "BEGIN\tIN\tNL-HaNA_1.04.02_3678_0060.jpg\tEerste occagie na Java doen overgaan, zo om het; v\t[0.5100139379501343, 0.08568914979696274, 0.4040547013282776, 0.000242128167883493]\n",
      "BEGIN\tIN\tNL-HaNA_1.04.02_3678_0061.jpg\tnoegen uwe wel Edele Hoog Agtb: informeeren; dat d\t[0.5042385458946228, 0.08577298372983932, 0.4097663462162018, 0.00022211804753169417]\n",
      "BEGIN\tIN\tNL-HaNA_1.04.02_3678_0062.jpg\tschoon de Capitain Lieutenants werkelyk maar; oppe\t[0.5033362507820129, 0.08502481877803802, 0.4114268720149994, 0.00021205184748396277]\n",
      "BEGIN\tIN\tNL-HaNA_1.04.02_3678_0063.jpg\tCommandeur en opperEquipagiemeester alhier,; een E\t[0.5017362833023071, 0.08470439165830612, 0.41335174441337585, 0.00020759155449923128]\n",
      "BEGIN\tIN\tNL-HaNA_1.04.02_3678_0064.jpg\tLieden hier te meermalen hebben voorge; wend.; Bij\t[0.509611964225769, 0.0824374407529831, 0.40775009989738464, 0.00020054285414516926]\n",
      "BEGIN\tIN\tNL-HaNA_1.04.02_3678_0065.jpg\tpoost op 't Comptoir van de visitateur Generaal; t\t[0.5104492902755737, 0.08241862803697586, 0.40693163871765137, 0.0002005249698413536]\n",
      "BEGIN\tIN\tNL-HaNA_1.04.02_3678_0066.jpg\tdragten van onderkooplieden werden gedaan; er teve\t[0.5038726329803467, 0.0842234417796135, 0.4117000699043274, 0.00020380904607009143]\n",
      "BEGIN\tIN\tNL-HaNA_1.04.02_3678_0067.jpg\tintusschen tot Gezaghebber van Padang; en Hakker t\t[0.502662718296051, 0.08422670513391495, 0.41290780901908875, 0.00020274921553209424]\n",
      "BEGIN\tIN\tNL-HaNA_1.04.02_3678_0068.jpg\tParticulier Schip de Vrijheid aan¬; „gebragt, dan \t[0.5013247132301331, 0.08414340019226074, 0.4143301546573639, 0.00020170502830296755]\n",
      "BEGIN\tEND\tNL-HaNA_1.04.02_3678_0069.jpg\twel Edele Hoog Agtbare wijze voorzienige en; Uwer \t[0.5138092637062073, 0.08169486373662949, 0.40429461002349854, 0.00020126509480178356]\n",
      "BEGIN\tBEGIN\tNL-HaNA_1.04.02_2215_0260.jpg\tAan d'Edele Hoog Agtbaere Heeren; Bewindhebberen t\t[0.5045077800750732, 0.08396999537944794, 0.41132020950317383, 0.00020199090067762882]\n",
      "BEGIN\tIN\tNL-HaNA_1.04.02_2215_0261.jpg\tgeheuoreert schrijvens van d'Eleer; Heeren Commiss\t[0.503044843673706, 0.0841372013092041, 0.41261643171310425, 0.0002015392092289403]\n",
      "BEGIN\tIN\tNL-HaNA_1.04.02_2215_0262.jpg\tdus op de gevoeligste wijse aan; te tastien, in ee\t[0.5028973817825317, 0.08406215906143188, 0.4128396213054657, 0.00020084042625967413]\n",
      "BEGIN\tIN\tNL-HaNA_1.04.02_2215_0263.jpg\tbij de nevens leggende secrete; Resolutie van den \t[0.5026171803474426, 0.08407889306545258, 0.41310328245162964, 0.00020063944975845516]\n",
      "BEGIN\tIN\tNL-HaNA_1.04.02_2215_0264.jpg\tOosterse provincien na uijtterste; vermogen in vei\t[0.5021896958351135, 0.08415061235427856, 0.41345909237861633, 0.00020064828277099878]\n",
      "BEGIN\tIN\tNL-HaNA_1.04.02_2215_0265.jpg\tuijt onse secreet resolutie van; den 6:' maart, wa\t[0.5019146203994751, 0.0841502919793129, 0.4137346148490906, 0.00020046391000505537]\n",
      "BEGIN\tIN\tNL-HaNA_1.04.02_2215_0266.jpg\tzulx al volslagen quam te verEysschen,; dog dewijl\t[0.5021119713783264, 0.08401897549629211, 0.4136691689491272, 0.00019990192959085107]\n",
      "BEGIN\tIN\tNL-HaNA_1.04.02_2215_0267.jpg\twerdende geoordeelt, aldaar; aantehouden, en benev\t[0.5011181831359863, 0.084077849984169, 0.4146040678024292, 0.00019992346642538905]\n",
      "BEGIN\tIN\tNL-HaNA_1.04.02_2215_0268.jpg\tom de voorsz: kielen des mo„; gelijk, twee aan twe\t[0.5089388489723206, 0.08208797127008438, 0.4087773859500885, 0.00019580224761739373]\n",
      "BEGIN\tIN\tNL-HaNA_1.04.02_2215_0269.jpg\thet genoteerde bij het over„; gezonden project ten\t[0.5028629302978516, 0.08406096696853638, 0.412875235080719, 0.00020080935792066157]\n",
      "BEGIN\tIN\tNL-HaNA_1.04.02_2215_0270.jpg\tvan zaeken ter obtenue van; een gewenscht middel; \t[0.5024900436401367, 0.0840533971786499, 0.41325607895851135, 0.000200514099560678]\n",
      "BEGIN\tIN\tNL-HaNA_1.04.02_2215_0271.jpg\toversulx zullen de scheepen de; Berbice en Commeru\t[0.5020453929901123, 0.0841108113527298, 0.41364288330078125, 0.00020093728380743414]\n",
      "BEGIN\tIN\tNL-HaNA_1.04.02_2215_0272.jpg\tde ministers op Malacca; E; van twee weerbare, vaa\t[0.5012539625167847, 0.08424783498048782, 0.41429629921913147, 0.00020193365344312042]\n",
      "BEGIN\tIN\tNL-HaNA_1.04.02_2215_0273.jpg\tzenden omme in de maand; van december volgens gewo\t[0.49928587675094604, 0.08452465385198593, 0.41598576307296753, 0.00020374852465465665]\n",
      "BEGIN\tIN\tNL-HaNA_1.04.02_2215_0274.jpg\taantoninge hoedanig de spaanse; scheepen, die voor\t[0.5066677927970886, 0.08263793587684631, 0.4104923605918884, 0.00020190043142065406]\n",
      "BEGIN\tIN\tNL-HaNA_1.04.02_2215_0275.jpg\tEgter bezorgt werden; dat het zelve ook van; hier \t[0.49767258763313293, 0.08523468673229218, 0.4168802499771118, 0.00021250314603094012]\n",
      "BEGIN\tIN\tNL-HaNA_1.04.02_2215_0276.jpg\tEgter bij ons voor ten; hoogsten noodzakelijk; aan\t[0.49208831787109375, 0.08627864718437195, 0.42140868306159973, 0.00022426311625167727]\n",
      "BEGIN\tIN\tNL-HaNA_1.04.02_2215_0277.jpg\tverlegentheijt vinden en zeer be„; zwaarlyk in sta\t[0.49043750762939453, 0.08685309439897537, 0.42245545983314514, 0.0002540027198847383]\n",
      "BEGIN\tEND\tNL-HaNA_1.04.02_2215_0278.jpg\tBatavia; in't Casteel van uw; Edele Hoog Agtb:; de\t[0.46572795510292053, 0.09597083181142807, 0.4378979504108429, 0.00040328825707547367]\n",
      "END\tBEGIN\tNL-HaNA_1.04.02_3419_0017.jpg\tPer de voorzeilder; van de Retourvloot; het schip \t[0.4173531234264374, 0.1353149563074112, 0.4448965787887573, 0.0024353410117328167]\n"
     ]
    },
    {
     "name": "stderr",
     "output_type": "stream",
     "text": [
      "  2%|▏         | 25/1194.6875 [00:30<27:10,  1.39s/batch]"
     ]
    },
    {
     "name": "stdout",
     "output_type": "stream",
     "text": [
      "BEGIN\tIN\tNL-HaNA_1.04.02_3419_0018.jpg\ttinuatie van het oc„; troij is gepubli„; dat met o\t[0.4884068965911865, 0.10545921325683594, 0.405514657497406, 0.0006192477303557098]\n",
      "BEGIN\tIN\tNL-HaNA_1.04.02_3419_0019.jpg\top de brieven zal men; eerst rescriberen; en dan e\t[0.502165675163269, 0.09123316407203674, 0.40625759959220886, 0.00034359117853455245]\n",
      "BEGIN\tIN\tNL-HaNA_1.04.02_3419_0020.jpg\top de brieven zal men; eerst rescriberen; en dan e\t[0.48395752906799316, 0.10338738560676575, 0.4120630919933319, 0.0005920290132053196]\n",
      "BEGIN\tIN\tNL-HaNA_1.04.02_3419_0021.jpg\tmiddelen tot ver„; mindering der; gewassen te ge„;\t[0.5059265494346619, 0.08634775131940842, 0.4074992537498474, 0.00022647988225799054]\n",
      "BEGIN\tIN\tNL-HaNA_1.04.02_3419_0022.jpg\tve van de hoevedlheid; der bomen is niet; mogelijk\t[0.5081011652946472, 0.08421491086483002, 0.40747466683387756, 0.00020928970479872078]\n",
      "BEGIN\tIN\tNL-HaNA_1.04.02_3419_0023.jpg\tvermindering der; bomen onder het; bestier van den\t[0.5153748393058777, 0.08316492289304733, 0.4012470543384552, 0.0002131992659997195]\n",
      "BEGIN\tIN\tNL-HaNA_1.04.02_3419_0024.jpg\tvoor het ontrekken; van 't verkopen of; cerijen is\t[0.5115229487419128, 0.08315650373697281, 0.40511685609817505, 0.00020370011043269187]\n",
      "BEGIN\tIN\tNL-HaNA_1.04.02_3419_0025.jpg\took nog een ander Maij deezes Iaars nog gemelt dat\t[0.49495866894721985, 0.08773273974657059, 0.4170917570590973, 0.0002168375940527767]\n",
      "BEGIN\tIN\tNL-HaNA_1.04.02_3419_0026.jpg\t„den, op eenige wijnige na reets gede; „manueert z\t[0.5068333745002747, 0.08271705359220505, 0.41025233268737793, 0.00019721865828614682]\n",
      "BEGIN\tIN\tNL-HaNA_1.04.02_3419_0027.jpg\twerken zal men; onder de poincten; van Communica„;\t[0.5109902024269104, 0.08207052946090698, 0.4067411422729492, 0.0001981526002055034]\n",
      "BEGIN\tIN\tNL-HaNA_1.04.02_3419_0028.jpg\tvan de Jongstte ex„; peticie naar Ceram„; lukken v\t[0.5122450590133667, 0.08192913234233856, 0.40562793612480164, 0.00019787451310548931]\n",
      "BEGIN\tIN\tNL-HaNA_1.04.02_3419_0029.jpg\tHet misbruijk; dat in Banda; van de rijst ver; wor\t[0.5086449384689331, 0.0823843777179718, 0.40877431631088257, 0.0001964158145710826]\n",
      "BEGIN\tIN\tNL-HaNA_1.04.02_3419_0030.jpg\tletten schijnt niet; geraden te wezen; redenen die\t[0.516244113445282, 0.08195673674345016, 0.40159469842910767, 0.00020449163275770843]\n",
      "BEGIN\tIN\tNL-HaNA_1.04.02_3419_0031.jpg\t751: soekels geforteerde en; 6; 28:; gruijs, hebbe\t[0.49708637595176697, 0.08709794282913208, 0.4156028628349304, 0.0002128572086803615]\n",
      "BEGIN\tIN\tNL-HaNA_1.04.02_3419_0032.jpg\tdog men vlied zig niet; tot een toereikent; soulaa\t[0.5030237436294556, 0.08384103327989578, 0.4129365384578705, 0.00019870890537276864]\n",
      "BEGIN\tIN\tNL-HaNA_1.04.02_3419_0033.jpg\tbij het toestaan; van een hoge„; re prijs voor de;\t[0.5026967525482178, 0.08380106836557388, 0.41330403089523315, 0.00019816892745438963]\n",
      "BEGIN\tIN\tNL-HaNA_1.04.02_3419_0034.jpg\tveert men zig aan; vorige beruyten; tegen zo rdr a\t[0.5019736289978027, 0.08374372124671936, 0.41408514976501465, 0.00019746628822758794]\n",
      "BEGIN\tIN\tNL-HaNA_1.04.02_3419_0035.jpg\tde ingezetenen; van de derde Clas„; se beschreven;\t[0.5087611675262451, 0.08189406991004944, 0.409152626991272, 0.00019212617189623415]\n",
      "BEGIN\tIN\tNL-HaNA_1.04.02_3419_0036.jpg\tde particuliere; over vaer van rijst; van Java hee\t[0.5034751296043396, 0.08362364023923874, 0.4127037227153778, 0.00019753395463339984]\n",
      "BEGIN\tIN\tNL-HaNA_1.04.02_3419_0037.jpg\tzijn belofte om hun; te adsisteren; baija Hang Boe\t[0.5025158524513245, 0.0836704671382904, 0.4136163890361786, 0.00019727055041585118]\n",
      "BEGIN\tIN\tNL-HaNA_1.04.02_3419_0038.jpg\tdezelve is voor de; „fen op 20 rd=s ge; laten; de \t[0.5093429684638977, 0.08195613324642181, 0.40850797295570374, 0.00019293771765660495]\n",
      "BEGIN\tIN\tNL-HaNA_1.04.02_3419_0039.jpg\tnen, zo om dat de sedert eenige; Iaren bewerk stel\t[0.4965353310108185, 0.08662890642881393, 0.4166269898414612, 0.00020878516079392284]\n",
      "BEGIN\tIN\tNL-HaNA_1.04.02_3419_0040.jpg\taan deel der ove„; rige Coloniers; zingen; staande\t[0.5035920143127441, 0.08358599990606308, 0.41262441873550415, 0.00019755760149564594]\n",
      "BEGIN\tIN\tNL-HaNA_1.04.02_3419_0041.jpg\top dertig pond voor ider pe; zoon smaands, of op 1\t[0.49595531821250916, 0.08676760643720627, 0.4170675277709961, 0.0002095282543450594]\n",
      "BEGIN\tIN\tNL-HaNA_1.04.02_3419_0042.jpg\twel Ed=e Hoog Agtb: dat de gegron; de oorzaken weg\t[0.4936181604862213, 0.08699997514486313, 0.41917160153388977, 0.00021029678464401513]\n",
      "BEGIN\tIN\tNL-HaNA_1.04.02_3419_0043.jpg\tdan ƒ3841:6:8, en aangaande de verwag„; ting uwer \t[0.4894787669181824, 0.0872708261013031, 0.4230388402938843, 0.0002115266106557101]\n",
      "BEGIN\tIN\tNL-HaNA_1.04.02_3419_0044.jpg\tde stil stand der; pagten is bedeelt; en van de Co\t[0.5051956176757812, 0.08216379582881927, 0.4124414026737213, 0.00019914546282961965]\n",
      "BEGIN\tIN\tNL-HaNA_1.04.02_3419_0045.jpg\tzijn Ed=s betuijgingen; genoegen zullen; hebben ge\t[0.5060021281242371, 0.0825064480304718, 0.41128718852996826, 0.00020422185480128974]\n",
      "BEGIN\tIN\tNL-HaNA_1.04.02_3419_0046.jpg\ten verzekering; dat de zelve met; nade lig kan; zi\t[0.5000970363616943, 0.08396299183368683, 0.4157262146472931, 0.00021370532340370119]\n",
      "BEGIN\tIN\tNL-HaNA_1.04.02_3419_0047.jpg\tvan Ternaten zal; men gelasten alle; het Tidorse h\t[0.49888959527015686, 0.0856802761554718, 0.41518333554267883, 0.00024676916655153036]\n",
      "BEGIN\tIN\tNL-HaNA_1.04.02_3419_0048.jpg\tuijtgeroeide bo„; men op weda en; Pathaij; in beid\t[0.471024751663208, 0.09637021273374557, 0.43220266699790955, 0.0004023303627036512]\n",
      "BEGIN\tIN\tNL-HaNA_1.04.02_3419_0049.jpg\tcommissianten; in 1772 ter troc„; gezonden is on„;\t[0.44366127252578735, 0.12293172627687454, 0.43167078495025635, 0.0017361569916829467]\n"
     ]
    },
    {
     "name": "stderr",
     "output_type": "stream",
     "text": [
      "  2%|▏         | 26/1194.6875 [00:32<29:21,  1.51s/batch]"
     ]
    },
    {
     "name": "stdout",
     "output_type": "stream",
     "text": [
      "BEGIN\tIN\tNL-HaNA_1.04.02_3419_0050.jpg\tte werk gestelde; middelen tot; het verdrijven; de\t[0.4925260543823242, 0.10480158776044846, 0.40207597613334656, 0.0005964042502455413]\n",
      "BEGIN\tIN\tNL-HaNA_1.04.02_3419_0051.jpg\tprocure ge„; draagt men; zig aan de; brieven van 1\t[0.5137017369270325, 0.08877348899841309, 0.3972204327583313, 0.00030431305640377104]\n",
      "BEGIN\tIN\tNL-HaNA_1.04.02_3419_0052.jpg\tvan den ouder„; dom der indiest; aangenomen; worde\t[0.5146264433860779, 0.08486977219581604, 0.40026918053627014, 0.00023462531680706888]\n",
      "BEGIN\tIN\tNL-HaNA_1.04.02_3419_0053.jpg\tnegotie boeken heeft moeten geven; den zelven bij \t[0.504181444644928, 0.08565803617238998, 0.40994134545326233, 0.00021917793492320925]\n",
      "BEGIN\tIN\tNL-HaNA_1.04.02_3419_0054.jpg\tMacasser; het aangaan; van een verbond; van Balij \t[0.5088697671890259, 0.08326198905706406, 0.40766313672065735, 0.00020508916350081563]\n",
      "BEGIN\tIN\tNL-HaNA_1.04.02_3419_0055.jpg\tde ordre nopens de; de vaartuijgen; zal aanbevolen\t[0.5123840570449829, 0.08246736228466034, 0.40494513511657715, 0.00020349792612250894]\n",
      "BEGIN\tIN\tNL-HaNA_1.04.02_3419_0056.jpg\taan de vesting; werken & word; met vleid g'arbeid;\t[0.511806309223175, 0.08238054811954498, 0.40561047196388245, 0.00020266998035367578]\n",
      "BEGIN\tIN\tNL-HaNA_1.04.02_3419_0057.jpg\tder dienaren word,; het reglement g'; observeert; \t[0.5085499286651611, 0.08265169709920883, 0.408598929643631, 0.00019942525250371546]\n",
      "BEGIN\tIN\tNL-HaNA_1.04.02_3419_0058.jpg\tzind heeft den; gouw: dit Jaar; kunnen doen; hoe v\t[0.5141254663467407, 0.08223740011453629, 0.4034305512905121, 0.000206605443963781]\n",
      "BEGIN\tIN\tNL-HaNA_1.04.02_3419_0059.jpg\taan den eisch van; slaven hebben; in A„o pass=o; 2\t[0.5121086239814758, 0.08211638778448105, 0.40557411313056946, 0.0002008633891819045]\n",
      "BEGIN\tIN\tNL-HaNA_1.04.02_3419_0060.jpg\thet terug gezon„; den paijement is; van de ordinai\t[0.5155101418495178, 0.08208354562520981, 0.402197003364563, 0.00020935441716574132]\n",
      "BEGIN\tIN\tNL-HaNA_1.04.02_3419_0061.jpg\tkennis van de secundes te dirige„; „ren uw wel Ed=\t[0.4927951395511627, 0.08758533000946045, 0.4194011092185974, 0.00021847710013389587]\n",
      "BEGIN\tIN\tNL-HaNA_1.04.02_3419_0062.jpg\theid van den; sulthan van; is wijnig staat; te mak\t[0.5066794157028198, 0.08242139220237732, 0.41069483757019043, 0.00020436622435227036]\n",
      "BEGIN\tIN\tNL-HaNA_1.04.02_3419_0063.jpg\tder residenten wor„; „den zo spoedig; spoeden in '\t[0.49888643622398376, 0.08418571949005127, 0.41670405864715576, 0.00022384340991266072]\n",
      "BEGIN\tIN\tNL-HaNA_1.04.02_3419_0064.jpg\tde afzending van; de bark de Jda; naar Timor; heef\t[0.4791470766067505, 0.10036222636699677, 0.4199681282043457, 0.0005225825007073581]\n",
      "BEGIN\tIN\tNL-HaNA_1.04.02_3419_0065.jpg\tten en gebouwen; zal in xber ver; gedaan; de predi\t[0.5177778601646423, 0.08189035207033157, 0.40012454986572266, 0.00020731979748234153]\n",
      "BEGIN\tIN\tNL-HaNA_1.04.02_3419_0066.jpg\tbevonden min; wigt op de Peper; in dit Jaar; en ge\t[0.5080498456954956, 0.08265379071235657, 0.4090994596481323, 0.00019683972641360015]\n",
      "BEGIN\tIN\tNL-HaNA_1.04.02_3419_0067.jpg\tmen zal voor„; taan de gehelen; aan brengte„; gen \t[0.5114056468009949, 0.08196274936199188, 0.4064338505268097, 0.00019775261171162128]\n",
      "BEGIN\tIN\tNL-HaNA_1.04.02_3419_0068.jpg\tde Bancase; passen dwor„; den behoor„; lijk terug;\t[0.5107454657554626, 0.08212466537952423, 0.40692976117134094, 0.0002000222448259592]\n",
      "BEGIN\tIN\tNL-HaNA_1.04.02_3419_0069.jpg\tden zijn gelast,; op de. verkrij„; „ging van een; \t[0.5049793720245361, 0.0829847902059555, 0.4118322730064392, 0.00020356140157673508]\n",
      "BEGIN\tIN\tNL-HaNA_1.04.02_3419_0070.jpg\tem ploi twee; scheepen sjaars; gedraagt men; zig a\t[0.4944940507411957, 0.08503682166337967, 0.4202454686164856, 0.00022363995958585292]\n",
      "BEGIN\tIN\tNL-HaNA_1.04.02_3419_0071.jpg\tvan het em„; ploirabal ver„; klaren den; het schip\t[0.47888901829719543, 0.10063745081424713, 0.4199484586715698, 0.000525044568348676]\n",
      "BEGIN\tIN\tNL-HaNA_1.04.02_3419_0072.jpg\ttot den inzaam; van goud op Ma„; lacka is wijnig; \t[0.5132749080657959, 0.08212883770465851, 0.4043973386287689, 0.0001989200827665627]\n",
      "BEGIN\tIN\tNL-HaNA_1.04.02_3419_0073.jpg\tde ministers; zijn g'ordon„; neert den in en; Pera\t[0.5016973614692688, 0.08442702144384384, 0.4136740565299988, 0.00020157196559011936]\n",
      "BEGIN\tIN\tNL-HaNA_1.04.02_3419_0074.jpg\tvergelijking; van de zelve; 70; tegen 177/1; het C\t[0.5132347941398621, 0.08229312300682068, 0.4042675495147705, 0.00020454070181585848]\n",
      "BEGIN\tIN\tNL-HaNA_1.04.02_3419_0075.jpg\taanzien van; in discrete„; ropeen susti„; neert me\t[0.5014959573745728, 0.08442038297653198, 0.41387996077537537, 0.00020374663290567696]\n",
      "BEGIN\tIN\tNL-HaNA_1.04.02_3419_0076.jpg\tvan Jacobus; Jant heeft men; niets konnen; agterha\t[0.5103064775466919, 0.08237626403570175, 0.407115638256073, 0.0002016592479776591]\n",
      "BEGIN\tIN\tNL-HaNA_1.04.02_3419_0077.jpg\tzijn predecesseur opvolgt, geeft; in allen deelen \t[0.4999059736728668, 0.08494780957698822, 0.4149366021156311, 0.00020966021111235023]\n",
      "BEGIN\tIN\tNL-HaNA_1.04.02_3419_0078.jpg\tde opgegeven; reden van het; ontslag van; sulthan;\t[0.5032135248184204, 0.08415409177541733, 0.4124174416065216, 0.00021497240231838077]\n",
      "BEGIN\tIN\tNL-HaNA_1.04.02_3419_0079.jpg\t„den deliberatie over deze Cust; genomen, met de d\t[0.4802675247192383, 0.0918864905834198, 0.42757633328437805, 0.00026962938136421144]\n",
      "BEGIN\tIN\tNL-HaNA_1.04.02_3419_0080.jpg\tgegeven ordre; tot het afbre„; ken der loge; op he\t[0.47744637727737427, 0.09422200173139572, 0.42794880270957947, 0.00038284415495581925]\n",
      "BEGIN\tIN\tNL-HaNA_1.04.02_3419_0081.jpg\ten veragtering; van dit Com„; mandament; een steen\t[0.4379889667034149, 0.12362681329250336, 0.4367065131664276, 0.0016777297714725137]\n"
     ]
    },
    {
     "name": "stderr",
     "output_type": "stream",
     "text": [
      "  2%|▏         | 27/1194.6875 [00:34<30:36,  1.57s/batch]"
     ]
    },
    {
     "name": "stdout",
     "output_type": "stream",
     "text": [
      "BEGIN\tIN\tNL-HaNA_1.04.02_3419_0082.jpg\ttot 't vermin„; dering der; lasten worden; se mini\t[0.49956026673316956, 0.1006259024143219, 0.39924731850624084, 0.0005665243952535093]\n",
      "BEGIN\tIN\tNL-HaNA_1.04.02_3419_0083.jpg\tzaken is met; alle ernstaan; bevolen; slegte appar\t[0.5112195014953613, 0.08907972276210785, 0.39940449595451355, 0.00029635033570230007]\n",
      "BEGIN\tIN\tNL-HaNA_1.04.02_3419_0084.jpg\taanzien van dit Comptoir, aan; het berigt dat de m\t[0.5063886046409607, 0.08650467544794083, 0.40686729550361633, 0.00023945607244968414]\n",
      "BEGIN\tIN\tNL-HaNA_1.04.02_3419_0085.jpg\t„nen, dat de quantiteid op 300'000; lb: kan worden\t[0.5027803778648376, 0.08536535501480103, 0.41162893176078796, 0.00022530740534421057]\n",
      "BEGIN\tIN\tNL-HaNA_1.04.02_3419_0086.jpg\ten daar na; eengedeelte; van het opge; bragte te; \t[0.4988579750061035, 0.08553912490606308, 0.4153655469417572, 0.0002373535098740831]\n",
      "BEGIN\tIN\tNL-HaNA_1.04.02_3419_0087.jpg\toorzake van; de gebruijkte; inschokkelijk; ving va\t[0.482719361782074, 0.100868821144104, 0.41587454080581665, 0.0005372386076487601]\n",
      "BEGIN\tIN\tNL-HaNA_1.04.02_3419_0088.jpg\tde remarques; over de afzen„; ding van goe„; deren\t[0.5163514018058777, 0.08307182788848877, 0.4003579318523407, 0.00021887545881327242]\n",
      "BEGIN\tIN\tNL-HaNA_1.04.02_3419_0089.jpg\tslaan van lleg„; te lijwaten; zijn zij nader; onde\t[0.5022344589233398, 0.08472283184528351, 0.41282910108566284, 0.00021362729603424668]\n",
      "BEGIN\tIN\tNL-HaNA_1.04.02_3419_0090.jpg\tde restitutie; obl: aan de; gemagtigdens; g'ordonn\t[0.5023030638694763, 0.08496833592653275, 0.4124923646450043, 0.00023622218577656895]\n",
      "BEGIN\tIN\tNL-HaNA_1.04.02_3419_0091.jpg\took geen refle„; xie geslagen; op der minis„; om o\t[0.4818049669265747, 0.10073132812976837, 0.4169347882270813, 0.0005288885440677404]\n",
      "BEGIN\tIN\tNL-HaNA_1.04.02_3419_0092.jpg\tvan de ordre naar; zijde stoffen uijt; schen zijnd\t[0.5095503926277161, 0.08359848707914352, 0.4066452980041504, 0.00020581443095579743]\n",
      "BEGIN\tIN\tNL-HaNA_1.04.02_3419_0093.jpg\ttot bekoming van; een gepropertio„; neert aandeel;\t[0.5106647610664368, 0.08275740593671799, 0.40637704730033875, 0.00020076560031156987]\n",
      "BEGIN\tIN\tNL-HaNA_1.04.02_3419_0094.jpg\ten tot den inkoop; „gen ƒ/10 de v00 lb:; geen voor\t[0.5134307742118835, 0.08251108229160309, 0.403850793838501, 0.00020738276361953467]\n",
      "BEGIN\tIN\tNL-HaNA_1.04.02_3419_0095.jpg\tlimitatie ten; aan zien van; de guntiteid; de inko\t[0.51434725522995, 0.08250771462917328, 0.40293753147125244, 0.00020745416986756027]\n",
      "BEGIN\tIN\tNL-HaNA_1.04.02_3419_0096.jpg\tde affaire van; het hospitaal; is men genoot; met \t[0.5120391249656677, 0.08247657120227814, 0.4052833020687103, 0.00020104479335714132]\n",
      "BEGIN\tIN\tNL-HaNA_1.04.02_3419_0097.jpg\thuijs zie men zig; voor eerst behel„; pen; gekogt \t[0.5054685473442078, 0.08348510414361954, 0.41084548830986023, 0.00020082280389033258]\n",
      "BEGIN\tIN\tNL-HaNA_1.04.02_3419_0098.jpg\taangaande inland„; men zig aan het; nopens de inge\t[0.5131271481513977, 0.08230137079954147, 0.40436577796936035, 0.00020572450011968613]\n",
      "BEGIN\tIN\tNL-HaNA_1.04.02_3419_0099.jpg\thet douceur; verkoop van; der ingetrok„; ken; en o\t[0.5106285810470581, 0.0822373479604721, 0.4069331884384155, 0.00020088291785214096]\n",
      "BEGIN\tIN\tNL-HaNA_1.04.02_3419_0100.jpg\ten van de red:; den 7 april 1774; een afschrift; a\t[0.5092039704322815, 0.08228515088558197, 0.4083082973957062, 0.00020264806516934186]\n",
      "BEGIN\tIN\tNL-HaNA_1.04.02_3419_0101.jpg\twat men hier in; 't Chormandels; retour schip heef\t[0.5066428780555725, 0.08256148546934128, 0.4105868935585022, 0.00020875858899671584]\n",
      "BEGIN\tIN\tNL-HaNA_1.04.02_3419_0102.jpg\tmet op zigt tot; het ballasten; dier schepen ge„; \t[0.49057823419570923, 0.0857333168387413, 0.4234555959701538, 0.00023287032672669739]\n",
      "BEGIN\tIN\tNL-HaNA_1.04.02_3419_0103.jpg\thoedanig daar; mede gehandelt; moet worden; gereno\t[0.4757949113845825, 0.10117866843938828, 0.42247623205184937, 0.0005501898704096675]\n",
      "BEGIN\tIN\tNL-HaNA_1.04.02_3419_0104.jpg\thet schip de; Both is tegen; het vervreem„; den va\t[0.48549601435661316, 0.09854640811681747, 0.4154396057128906, 0.0005178984138183296]\n",
      "BEGIN\tIN\tNL-HaNA_1.04.02_3419_0105.jpg\thet hersorteren der; Lijwaten de nodige; delicidat\t[0.509291410446167, 0.08258771896362305, 0.40790891647338867, 0.00021193981228861958]\n",
      "BEGIN\tIN\tNL-HaNA_1.04.02_3419_0106.jpg\top het graf gewees; niet ingetrokken; van de aanbe\t[0.5001628398895264, 0.08489692956209183, 0.41470158100128174, 0.0002386416308581829]\n",
      "BEGIN\tIN\tNL-HaNA_1.04.02_3419_0107.jpg\tom de maatschap; bevrijden houden; stant; in't voo\t[0.47599735856056213, 0.10117528587579727, 0.4222716689109802, 0.000555689272005111]\n",
      "BEGIN\tIN\tNL-HaNA_1.04.02_3419_0108.jpg\tde uijtzendig van; ver over Bata„; „via heeft men;\t[0.4987918734550476, 0.08539377152919769, 0.41557398438453674, 0.0002403970283921808]\n",
      "BEGIN\tIN\tNL-HaNA_1.04.02_3419_0109.jpg\tment aan te wij„; zen bij de welke; het getal der;\t[0.4734351933002472, 0.10257472842931747, 0.42342156171798706, 0.0005685666110366583]\n",
      "BEGIN\tIN\tNL-HaNA_1.04.02_3419_0110.jpg\tde verschikking in; de verpagting is goet; gekelir\t[0.5111175179481506, 0.08411482721567154, 0.4045346975326538, 0.00023301018518395722]\n",
      "BEGIN\tIN\tNL-HaNA_1.04.02_3419_0111.jpg\tsuccessive orares; tot het repareren; der fortific\t[0.4951344132423401, 0.08806093037128448, 0.4165477752685547, 0.00025693775387480855]\n",
      "BEGIN\tIN\tNL-HaNA_1.04.02_3419_0112.jpg\thanden nemen en zo hegt en sterk te; absolveren, d\t[0.46755895018577576, 0.09964147955179214, 0.4323631227016449, 0.00043643213575705886]\n",
      "END\tIN\tNL-HaNA_1.04.02_3419_0113.jpg\tingenieur was voorzien Capitale; reparatien worden\t[0.4355204403400421, 0.12561878561973572, 0.4371003210544586, 0.0017604350578039885]\n"
     ]
    },
    {
     "name": "stderr",
     "output_type": "stream",
     "text": [
      "  2%|▏         | 28/1194.6875 [00:35<30:14,  1.55s/batch]"
     ]
    },
    {
     "name": "stdout",
     "output_type": "stream",
     "text": [
      "BEGIN\tIN\tNL-HaNA_1.04.02_3419_0114.jpg\tgeen reparatien meer kanden; geschieden, bij zonde\t[0.4891912341117859, 0.10768675804138184, 0.40248164534568787, 0.0006404314190149307]\n",
      "BEGIN\tIN\tNL-HaNA_1.04.02_3419_0115.jpg\toverzommige de„; „fecte werken heeft; mende dispos\t[0.5137763023376465, 0.08890750259160995, 0.3970091640949249, 0.00030702425283379853]\n",
      "BEGIN\tIN\tNL-HaNA_1.04.02_3419_0116.jpg\teen uw wel Ed=e Hoog Agtb:; bij deeze occassie sch\t[0.5074601769447327, 0.08624401688575745, 0.40605849027633667, 0.00023728977248538285]\n",
      "BEGIN\tIN\tNL-HaNA_1.04.02_3419_0117.jpg\ttot maintien van; 's Comp=s regt in de; Maruase la\t[0.5113356113433838, 0.08380535989999771, 0.404642790555954, 0.00021617482707370073]\n",
      "BEGIN\tIN\tNL-HaNA_1.04.02_3419_0118.jpg\tbevonden boom„; jes bij den Jongsten; opneem; de o\t[0.5120341777801514, 0.08305927366018295, 0.40469762682914734, 0.00020895214402116835]\n",
      "BEGIN\tIN\tNL-HaNA_1.04.02_3419_0119.jpg\ttot gerief van de; Mancilhase traf„; fiquanten moe\t[0.5160476565361023, 0.08270011097192764, 0.4010392725467682, 0.00021300143271218985]\n",
      "BEGIN\tIN\tNL-HaNA_1.04.02_3419_0120.jpg\tgouvernement ofte zenden, hebben; wij, in aanmerki\t[0.4998611509799957, 0.08605404198169708, 0.4138718843460083, 0.000212948871194385]\n",
      "BEGIN\tIN\tNL-HaNA_1.04.02_3419_0121.jpg\tom de ministers; buijten geld ge„; brek te houden;\t[0.5116078853607178, 0.08230160176753998, 0.40588998794555664, 0.00020060421957168728]\n",
      "BEGIN\tIN\tNL-HaNA_1.04.02_3419_0122.jpg\thoedanig de; petitien voor; 177½ en 177 2/3; aan e\t[0.5079315304756165, 0.08315891027450562, 0.4087089002132416, 0.00020066906290594488]\n",
      "BEGIN\tIN\tNL-HaNA_1.04.02_3419_0123.jpg\tschats die zij op assignatien waar; Nederland mogt\t[0.49813351035118103, 0.08580068498849869, 0.41585782170295715, 0.00020797218894585967]\n",
      "BEGIN\tIN\tNL-HaNA_1.04.02_3419_0124.jpg\tde verlegentheid; aan goifd in 1722; moet aan de; \t[0.5039576888084412, 0.08306559175252914, 0.4127791225910187, 0.0001976070780074224]\n",
      "BEGIN\tIN\tNL-HaNA_1.04.02_3419_0125.jpg\tden Lijwaathan; del op Madure; geen goud voor; Cei\t[0.5126116275787354, 0.08190135657787323, 0.4052841067314148, 0.0002028782619163394]\n",
      "BEGIN\tIN\tNL-HaNA_1.04.02_3419_0126.jpg\tden inzaam van; producten is; vermeerdert; waarom \t[0.514503538608551, 0.08187823742628098, 0.4034143090248108, 0.00020392185251694173]\n",
      "BEGIN\tIN\tNL-HaNA_1.04.02_3419_0127.jpg\tde aanmerking; tie bij de verpag„; ting zal men zi\t[0.506100594997406, 0.08306588977575302, 0.4106345474720001, 0.00019902388157788664]\n",
      "BEGIN\tIN\tNL-HaNA_1.04.02_3419_0128.jpg\ten gerecomman„; tie der ordres te„; gen de admissi\t[0.5153295993804932, 0.08187134563922882, 0.402595579624176, 0.00020348603720776737]\n",
      "BEGIN\tIN\tNL-HaNA_1.04.02_3419_0129.jpg\tvoor 't Last heeft moeten besteeden, zo als onder„\t[0.5001482963562012, 0.08568358421325684, 0.41396042704582214, 0.0002077131503028795]\n",
      "BEGIN\tIN\tNL-HaNA_1.04.02_3419_0130.jpg\tIaarlijx in dat gouvernement van 1000: Las„; aer; \t[0.49669837951660156, 0.08562912791967392, 0.41746705770492554, 0.0002053739153780043]\n",
      "BEGIN\tIN\tNL-HaNA_1.04.02_3419_0131.jpg\thet van geen ge¬; „bruijk zijnde wa„; pentuijg hee\t[0.5087646842002869, 0.0818842351436615, 0.40915587544441223, 0.00019516987958922982]\n",
      "BEGIN\tIN\tNL-HaNA_1.04.02_3419_0132.jpg\tmet recomman„; gen tegen het mis; die dispositie; \t[0.5096997022628784, 0.08183469623327255, 0.4082697033882141, 0.00019590085139498115]\n",
      "BEGIN\tIN\tNL-HaNA_1.04.02_3419_0133.jpg\tom de dezelve; den de instantien; verdubbelt wor; \t[0.5097490549087524, 0.081927090883255, 0.40812650322914124, 0.00019729963969439268]\n",
      "BEGIN\tIN\tNL-HaNA_1.04.02_3419_0134.jpg\tveragtering; van dit Comp; toir in 177¾; veroorzaa\t[0.5084697008132935, 0.08216320723295212, 0.4091671407222748, 0.00019994322792626917]\n",
      "BEGIN\tIN\tNL-HaNA_1.04.02_3419_0135.jpg\tgedane verbete„; ringen aan de; verstingen werken;\t[0.5062747001647949, 0.08257192373275757, 0.41094788908958435, 0.00020546796440612525]\n",
      "BEGIN\tIN\tNL-HaNA_1.04.02_3419_0136.jpg\ten Communi„; nu aan de stad; nog man„; queert; met\t[0.5013369917869568, 0.08426385372877121, 0.41416624188423157, 0.00023290887475013733]\n",
      "BEGIN\tIN\tNL-HaNA_1.04.02_3419_0137.jpg\tvan de in 1773; naar Souratta; verzonden zuijker; \t[0.4788178503513336, 0.1005854457616806, 0.4200650751590729, 0.0005316031165421009]\n",
      "BEGIN\tIN\tNL-HaNA_1.04.02_3419_0138.jpg\tvan het quik; heeft men ge„; passeert; in 1773 zij\t[0.5167899131774902, 0.08214206993579865, 0.40085774660110474, 0.00021033818484283984]\n",
      "BEGIN\tIN\tNL-HaNA_1.04.02_3419_0139.jpg\tin dit jaar zijn; twee scheepen; voor deeze di„; r\t[0.509748101234436, 0.08274991810321808, 0.4072988033294678, 0.00020321916963439435]\n",
      "BEGIN\tIN\tNL-HaNA_1.04.02_3419_0140.jpg\tantwoord der; het niet bekent; stellen van; den ei\t[0.508644163608551, 0.08289201557636261, 0.4082586169242859, 0.00020518455130513757]\n",
      "BEGIN\tIN\tNL-HaNA_1.04.02_3419_0141.jpg\tnopens de aange„; bragte nagulen; op Bambaij is; „\t[0.5074326992034912, 0.08327221870422363, 0.4090852737426758, 0.00020984331786166877]\n",
      "BEGIN\tIN\tNL-HaNA_1.04.02_3419_0142.jpg\tde naam van; het schip ende; schipper heeft; men o\t[0.5048024654388428, 0.0841805636882782, 0.4107964038848877, 0.00022060988703742623]\n",
      "BEGIN\tIN\tNL-HaNA_1.04.02_3419_0143.jpg\thatsmmer; Schankkinde; aret anman; Kattes Aarstre;\t[0.4992446303367615, 0.0866381973028183, 0.41386276483535767, 0.0002543868322391063]\n",
      "BEGIN\tIN\tNL-HaNA_1.04.02_3419_0144.jpg\tgehaalde bij onze nedrige rescriptie; van den 21: \t[0.46820300817489624, 0.09922975301742554, 0.43213367462158203, 0.00043360001291148365]\n",
      "END\tIN\tNL-HaNA_1.04.02_3419_0145.jpg\tniet boven de vijf en twintig a der; tig duijzend \t[0.43606874346733093, 0.125142902135849, 0.43704453110694885, 0.0017438202630728483]\n"
     ]
    },
    {
     "name": "stderr",
     "output_type": "stream",
     "text": [
      "  2%|▏         | 29/1194.6875 [00:37<31:00,  1.60s/batch]"
     ]
    },
    {
     "name": "stdout",
     "output_type": "stream",
     "text": [
      "BEGIN\tIN\tNL-HaNA_1.04.02_3419_0146.jpg\thet Jaarlijks; geschenk aan; den vorst der; men ge\t[0.4971430003643036, 0.10173728317022324, 0.40056392550468445, 0.0005558129632845521]\n",
      "BEGIN\tIN\tNL-HaNA_1.04.02_3419_0147.jpg\ten den direc„; gen over het; attacqueren; de vrouw\t[0.5124027729034424, 0.08847619593143463, 0.3988300561904907, 0.00029098536469973624]\n",
      "BEGIN\tIN\tNL-HaNA_1.04.02_3419_0148.jpg\tgeruijme tijd aldaar als in; arrest te houden, kun\t[0.5098785161972046, 0.08536192774772644, 0.40452829003334045, 0.00023124125436879694]\n",
      "BEGIN\tIN\tNL-HaNA_1.04.02_3419_0149.jpg\tvolk heeft de; peditie tegen; voort gang; genoem; \t[0.512959897518158, 0.08357331901788712, 0.40325188636779785, 0.0002149064966943115]\n",
      "BEGIN\tIN\tNL-HaNA_1.04.02_3419_0150.jpg\thet bedurven stuk; fluweel met; verlies verkogt; s\t[0.5085071325302124, 0.08335167169570923, 0.40793508291244507, 0.0002060700353467837]\n",
      "BEGIN\tIN\tNL-HaNA_1.04.02_3419_0151.jpg\tbij de ontoekte; meer en min„; derheden heeft; de \t[0.5150638222694397, 0.0827251747250557, 0.4019997715950012, 0.000211233738809824]\n",
      "BEGIN\tIN\tNL-HaNA_1.04.02_3419_0152.jpg\tverleende sur„; den pagter tot; betaling der; pagt\t[0.5095788240432739, 0.08281911909580231, 0.40740036964416504, 0.00020170862262602895]\n",
      "BEGIN\tIN\tNL-HaNA_1.04.02_3419_0153.jpg\tde ledig lopende; den worde g'em; ploieert; ten, e\t[0.5159411430358887, 0.08235175162553787, 0.4014991521835327, 0.000207925055292435]\n",
      "BEGIN\tIN\tNL-HaNA_1.04.02_3419_0154.jpg\taangesteld, willen Gijsbert van Rijneveld tot; sol\t[0.5047417283058167, 0.08420918136835098, 0.41084495186805725, 0.0002041692496277392]\n",
      "BEGIN\tIN\tNL-HaNA_1.04.02_3419_0155.jpg\tplaatsen op de schrijf Comptoiren; men daar me tel\t[0.5019065141677856, 0.08425045758485794, 0.4136408567428589, 0.00020217226119711995]\n",
      "BEGIN\tIN\tNL-HaNA_1.04.02_3419_0156.jpg\tBatavia; samentrekking; van de overlede„; en in de\t[0.5071384906768799, 0.0823393315076828, 0.4103263318538666, 0.0001958395296242088]\n",
      "BEGIN\tIN\tNL-HaNA_1.04.02_3419_0157.jpg\tberaamde midde„; of herstelling; van 'T volk; de z\t[0.5126064419746399, 0.08209514617919922, 0.4050934910774231, 0.00020492223848123103]\n",
      "BEGIN\tIN\tNL-HaNA_1.04.02_3419_0158.jpg\ten tot de uijt; „tra ordinai; retmiddelen; nemen; \t[0.510648250579834, 0.08198727667331696, 0.40716418623924255, 0.0002003446570597589]\n",
      "BEGIN\tIN\tNL-HaNA_1.04.02_3419_0159.jpg\tbij de afzending; twee schepen voor; de twede beze\t[0.508533775806427, 0.08237847685813904, 0.4088827073574066, 0.00020509902969934046]\n",
      "BEGIN\tIN\tNL-HaNA_1.04.02_3419_0160.jpg\ttoe gestane repa„; ratie aan vier; vreemde vaar„; \t[0.4953228235244751, 0.08483677357435226, 0.41961684823036194, 0.00022352290397975594]\n",
      "BEGIN\tIN\tNL-HaNA_1.04.02_3419_0161.jpg\thet beletten van; dat quaad is; niet mogelijk; afg\t[0.47999492287635803, 0.10039767622947693, 0.4190857410430908, 0.0005216425051912665]\n",
      "BEGIN\tIN\tNL-HaNA_1.04.02_3419_0162.jpg\tde maatschappe zijn uijtgevaren, een; extract late\t[0.5072466135025024, 0.08368029445409775, 0.40887004137039185, 0.00020299085008446127]\n",
      "BEGIN\tIN\tNL-HaNA_1.04.02_3419_0163.jpg\tde schult van Bis„; dom is afgeschre„; de belastin\t[0.5124540328979492, 0.08202406764030457, 0.4053254723548889, 0.00019642701954580843]\n",
      "BEGIN\tIN\tNL-HaNA_1.04.02_3419_0164.jpg\tle soldij Comptoir gelast tot; uw wel Ed=e Hoog Ag\t[0.5030746459960938, 0.0840822085738182, 0.4126432538032532, 0.00019990371947642416]\n",
      "BEGIN\tIN\tNL-HaNA_1.04.02_3419_0165.jpg\tnootsakelijkheid; om met de; pagters en; hunne bor\t[0.5093164443969727, 0.08219153434038162, 0.40829816460609436, 0.00019386329222470522]\n",
      "BEGIN\tIN\tNL-HaNA_1.04.02_3419_0166.jpg\teen door den boek„; opgemaakt nader; rale boeken v\t[0.5033427476882935, 0.08392765372991562, 0.41253039240837097, 0.00019915906887035817]\n",
      "BEGIN\tIN\tNL-HaNA_1.04.02_3419_0167.jpg\tgetoont dat in; de opgave van het; Indisch Cap: ge\t[0.5014303922653198, 0.08403699100017548, 0.41433367133140564, 0.00019891611009370536]\n",
      "BEGIN\tIN\tNL-HaNA_1.04.02_3419_0168.jpg\taalle uijt den relijkh„; middelen te werk; gesteld\t[0.5066515207290649, 0.08227825909852982, 0.41087642312049866, 0.0001938182977028191]\n",
      "BEGIN\tIN\tNL-HaNA_1.04.02_3419_0169.jpg\tvan Ceijlon zal; berigt gegeven; worden wegens; hu\t[0.5115174651145935, 0.08175284415483475, 0.40653344988822937, 0.0001962118549272418]\n",
      "BEGIN\tIN\tNL-HaNA_1.04.02_3419_0170.jpg\t't geen men; verzoekt te; laten stand; houden; kan\t[0.5010979771614075, 0.0840846374630928, 0.41461634635925293, 0.0002010413445532322]\n",
      "BEGIN\tIN\tNL-HaNA_1.04.02_3419_0171.jpg\tchin wicherts; heeft men laten; 16 feb: 1773; tren\t[0.5096012353897095, 0.08200552314519882, 0.4081946611404419, 0.00019855221034958959]\n",
      "BEGIN\tIN\tNL-HaNA_1.04.02_3419_0172.jpg\trescriptie op de; brief van den 19; october 1774; \t[0.5097711086273193, 0.08216910809278488, 0.40785863995552063, 0.00020106957526877522]\n",
      "BEGIN\tIN\tNL-HaNA_1.04.02_3419_0173.jpg\tdan zegging voor; de communica; tie van de aange„;\t[0.5096625089645386, 0.08273210376501083, 0.40739789605140686, 0.00020750633848365396]\n",
      "BEGIN\tIN\tNL-HaNA_1.04.02_3419_0174.jpg\tzullen moeten verblijven, kunnen wij; uw wel Ed=e \t[0.4869227111339569, 0.08916452527046204, 0.42367854714393616, 0.0002341947692912072]\n",
      "BEGIN\tIN\tNL-HaNA_1.04.02_3419_0175.jpg\tdank betuijging; voor den aam; bouw van vijf; sche\t[0.4973822236061096, 0.08588027209043503, 0.4164913296699524, 0.00024622661294415593]\n",
      "BEGIN\tIN\tNL-HaNA_1.04.02_3419_0176.jpg\thet verkeert; rol der repara„; tien aan Hoolwerf; \t[0.47790804505348206, 0.09401543438434601, 0.4276961386203766, 0.00038040077197365463]\n",
      "BEGIN\tIN\tNL-HaNA_1.04.02_3419_0177.jpg\tde verkogte Iu„; tucorijnse Lijwa„; ten als nog ni\t[0.4436003565788269, 0.12178107351064682, 0.43300044536590576, 0.0016181588871404529]\n"
     ]
    },
    {
     "name": "stderr",
     "output_type": "stream",
     "text": [
      "  3%|▎         | 30/1194.6875 [00:39<31:43,  1.63s/batch]"
     ]
    },
    {
     "name": "stdout",
     "output_type": "stream",
     "text": [
      "BEGIN\tIN\tNL-HaNA_1.04.02_3419_0178.jpg\ttwee der bevorder„; den zijn overle„; den; kiezing\t[0.49463769793510437, 0.1046857014298439, 0.4000813066959381, 0.0005952311912551522]\n",
      "BEGIN\tIN\tNL-HaNA_1.04.02_3419_0179.jpg\tgen aan de Caab„; se ministers is in; Copia naam.;\t[0.5033628940582275, 0.09129293262958527, 0.4050382673740387, 0.0003058999718632549]\n",
      "BEGIN\tIN\tNL-HaNA_1.04.02_3419_0180.jpg\tIan Paardeko„; per Daniel; en paulus; en de laatse\t[0.5155781507492065, 0.084412582218647, 0.39977672696113586, 0.00023255389533005655]\n",
      "BEGIN\tIN\tNL-HaNA_1.04.02_3419_0181.jpg\tThuijs ter Meije; aangebragt; lonse minis„; ters v\t[0.5062285661697388, 0.08540856838226318, 0.4081442058086395, 0.00021870926138944924]\n",
      "BEGIN\tIN\tNL-HaNA_1.04.02_3419_0182.jpg\tde scheeps overheeden; is aangekundigt; dat zij 't\t[0.49777576327323914, 0.08731397241353989, 0.4146905839443207, 0.00021970363741274923]\n",
      "BEGIN\tIN\tNL-HaNA_1.04.02_3419_0183.jpg\ttusschende 50 en; 60'00000 lb: zullen.; voldaan wo\t[0.5030777454376221, 0.08435150235891342, 0.4123659133911133, 0.00020482197578530759]\n",
      "BEGIN\tIN\tNL-HaNA_1.04.02_3419_0184.jpg\tna en dit voorjaar zijn afgescheept; Op de gedane \t[0.5038198828697205, 0.08425470441579819, 0.4117215871810913, 0.00020381598733365536]\n",
      "BEGIN\tIN\tNL-HaNA_1.04.02_3419_0185.jpg\thier onder ult=o aug=s pass=o heeft; bedragen 160,\t[0.48811712861061096, 0.09014787524938583, 0.42151007056236267, 0.00022494600852951407]\n",
      "BEGIN\tIN\tNL-HaNA_1.04.02_3419_0186.jpg\tvan de noten zend; de kamer en; Delft en Rotter„; \t[0.4992240071296692, 0.083843894302845, 0.416733980178833, 0.00019806531781796366]\n",
      "BEGIN\tIN\tNL-HaNA_1.04.02_3419_0187.jpg\tcanneel refe„; reert men; zig aan het; „genoteerde\t[0.5092458128929138, 0.08130671828985214, 0.4092567265033722, 0.00019074736337643117]\n",
      "BEGIN\tIN\tNL-HaNA_1.04.02_3419_0188.jpg\t„ren gevonden genoegzaam alle met; beschadigde, Ia\t[0.5007923245429993, 0.08377622812986374, 0.4152330458164215, 0.00019843660993501544]\n",
      "BEGIN\tIN\tNL-HaNA_1.04.02_3419_0189.jpg\tzuijker zo veel; tot onder zwaar„; te vereischt wo\t[0.5140025019645691, 0.08116850256919861, 0.40463465452194214, 0.00019439065363258123]\n",
      "BEGIN\tIN\tNL-HaNA_1.04.02_3419_0190.jpg\tSpiauter zo merkelijk is toege„; nomen, uw wel Ed=\t[0.48848411440849304, 0.089932382106781, 0.42136064171791077, 0.00022281128622125834]\n",
      "BEGIN\tIN\tNL-HaNA_1.04.02_3419_0191.jpg\tgestelde ordre; tot voorkoming; van het minwigt; s\t[0.5054724216461182, 0.08214358985424042, 0.4121922552585602, 0.0001916985638672486]\n",
      "BEGIN\tIN\tNL-HaNA_1.04.02_3419_0192.jpg\tontvangst dier verwstaffe van; Iavas en Cheribon d\t[0.4925726056098938, 0.0863521620631218, 0.4208682179450989, 0.00020709095406346023]\n",
      "BEGIN\tIN\tNL-HaNA_1.04.02_3419_0193.jpg\tde oorzaak van het min rigt; op het sappenhout met\t[0.5113444328308105, 0.08143918961286545, 0.40701529383659363, 0.000201158516574651]\n",
      "BEGIN\tIN\tNL-HaNA_1.04.02_3419_0194.jpg\tkelykeverbeteringin; dulijw aat han de; zelve, heb\t[0.5045334100723267, 0.08230230957269669, 0.41297054290771484, 0.00019376094860490412]\n",
      "BEGIN\tIN\tNL-HaNA_1.04.02_3419_0195.jpg\tuwer wel Ed:e Hoog Agtb: ordre dient; wegen dientw\t[0.510598361492157, 0.0814179927110672, 0.40778785943984985, 0.00019578133651521057]\n",
      "BEGIN\tIN\tNL-HaNA_1.04.02_3419_0196.jpg\tCeijlanse ministers om het aan cabo se; goede hoop\t[0.5020623803138733, 0.08276902139186859, 0.41496849060058594, 0.00020010396838188171]\n",
      "BEGIN\tIN\tNL-HaNA_1.04.02_3419_0197.jpg\tden bepaalde prijs van veertig stuij„; vers het pa\t[0.4970174729824066, 0.08372333645820618, 0.4190426766872406, 0.00021657235629390925]\n",
      "BEGIN\tIN\tNL-HaNA_1.04.02_3419_0198.jpg\tgamlak op stek„; jes van siam; ontbodem; Catchou z\t[0.4798651337623596, 0.09964460879564285, 0.4199790358543396, 0.0005112811340950429]\n",
      "BEGIN\tIN\tNL-HaNA_1.04.02_3419_0199.jpg\tvan den in hoop; van zijde van; cochim China is; i\t[0.5137956738471985, 0.08125492185354233, 0.40475475788116455, 0.00019457575399428606]\n",
      "BEGIN\tIN\tNL-HaNA_1.04.02_3419_0200.jpg\t160 lb: folij olij; boven den eisch; trend 't fact\t[0.5134569406509399, 0.08157747983932495, 0.40477055311203003, 0.00019500030612107366]\n",
      "BEGIN\tIN\tNL-HaNA_1.04.02_3419_0201.jpg\tin dit Jaar; zijn daar toe; maar twee bo„; dens g'\t[0.5077580809593201, 0.0824318677186966, 0.40961575508117676, 0.00019432842964306474]\n",
      "BEGIN\tIN\tNL-HaNA_1.04.02_3419_0202.jpg\ttot verbetering; van den kan„; neel inzaam„; omtre\t[0.5082256197929382, 0.08241945505142212, 0.40916022658348083, 0.00019473898282740265]\n",
      "BEGIN\tIN\tNL-HaNA_1.04.02_3419_0203.jpg\tcarga van de; in 1774 vertrok„; ken retouschepen; \t[0.5037174820899963, 0.08414579927921295, 0.411935031414032, 0.00020164152374491096]\n",
      "BEGIN\tIN\tNL-HaNA_1.04.02_3419_0204.jpg\tde wanlading van; las en Borsselen; is niet ongere\t[0.496183305978775, 0.08691708743572235, 0.4166865050792694, 0.00021310566808097064]\n",
      "BEGIN\tIN\tNL-HaNA_1.04.02_3419_0205.jpg\tis dat een schip van een diergelijk Charten, 't we\t[0.4926334023475647, 0.08748459070920944, 0.4196643531322479, 0.00021763259428553283]\n",
      "BEGIN\tIN\tNL-HaNA_1.04.02_3419_0206.jpg\tvan Amboina is; gouverneur; overgekomen; buijten t\t[0.4962541162967682, 0.08592084050178528, 0.41760531067848206, 0.0002197834983235225]\n",
      "BEGIN\tIN\tNL-HaNA_1.04.02_3419_0207.jpg\tafgegane en aangekomen Gouverneurs; van der voort \t[0.4731596112251282, 0.09533563256263733, 0.4312143623828888, 0.0002904287539422512]\n",
      "BEGIN\tIN\tNL-HaNA_1.04.02_3419_0208.jpg\thet uijtwerksel; berg blijvt even; nadelig; moord \t[0.4691219627857208, 0.09696061909198761, 0.4335058629512787, 0.0004115648625884205]\n",
      "END\tIN\tNL-HaNA_1.04.02_3419_0209.jpg\tgehouden besorg; „ne over der; ministers; zaakt, m\t[0.42937639355659485, 0.12750041484832764, 0.44126665592193604, 0.0018565894570201635]\n"
     ]
    },
    {
     "name": "stderr",
     "output_type": "stream",
     "text": [
      "  3%|▎         | 31/1194.6875 [00:40<29:21,  1.51s/batch]"
     ]
    },
    {
     "name": "stdout",
     "output_type": "stream",
     "text": [
      "BEGIN\tIN\tNL-HaNA_1.04.02_3419_0210.jpg\tBanda 'T de; torierende; staat beschree„; ven; get\t[0.4963412582874298, 0.10205525904893875, 0.4010288715362549, 0.0005746662500314415]\n",
      "BEGIN\tIN\tNL-HaNA_1.04.02_3419_0211.jpg\tdrukking van; over het verval; van de perke„; nier\t[0.5067297220230103, 0.09012532234191895, 0.40283405780792236, 0.0003108519595116377]\n",
      "BEGIN\tIN\tNL-HaNA_1.04.02_3419_0212.jpg\toorzaken, dewijl daar door, ook de thans zo; despe\t[0.48937124013900757, 0.09049609303474426, 0.4198531210422516, 0.0002795369946397841]\n",
      "BEGIN\tIN\tNL-HaNA_1.04.02_3419_0213.jpg\tconsideratien; over de gunst; bewijzingen; der het\t[0.482010155916214, 0.10205921530723572, 0.4153747260570526, 0.0005559048149734735]\n",
      "BEGIN\tIN\tNL-HaNA_1.04.02_3419_0214.jpg\thoe veel de„; zelve s Jaars; in gelde belo„; pen; \t[0.5125778317451477, 0.08394184708595276, 0.4032641053199768, 0.00021617345919366926]\n",
      "BEGIN\tIN\tNL-HaNA_1.04.02_3419_0215.jpg\tnadere con„; sideratie over; de prijs verhoging; h\t[0.5154523253440857, 0.08337423205375671, 0.40095844864845276, 0.00021499115973711014]\n",
      "BEGIN\tIN\tNL-HaNA_1.04.02_3419_0216.jpg\tden inzaam maar op dien voet bleef; voortgaan zond\t[0.5047446489334106, 0.0853680968284607, 0.4096754789352417, 0.00021177211601752788]\n",
      "BEGIN\tIN\tNL-HaNA_1.04.02_3419_0217.jpg\thebben wij na attente overweging van; al het voren\t[0.5031596422195435, 0.08512280136346817, 0.4115091562271118, 0.00020840909564867616]\n",
      "BEGIN\tIN\tNL-HaNA_1.04.02_3419_0218.jpg\trecteert wordende instantie tot de prijs; verhogin\t[0.5013108253479004, 0.08497674763202667, 0.41350609064102173, 0.0002063229476334527]\n",
      "BEGIN\tIN\tNL-HaNA_1.04.02_3419_0219.jpg\tgering different; re prijs van de; porele ginst be\t[0.5084866881370544, 0.0827762708067894, 0.4085366725921631, 0.00020034828048665076]\n",
      "BEGIN\tIN\tNL-HaNA_1.04.02_3419_0220.jpg\tDat geen poinct van belang miet voor uijt„; zigt v\t[0.5087399482727051, 0.08272960036993027, 0.4083302319049835, 0.00020024112018290907]\n",
      "BEGIN\tIN\tNL-HaNA_1.04.02_3419_0221.jpg\t„tig dienen te vertanen de hoge noot„; „zakelijkhe\t[0.5092775821685791, 0.08258925378322601, 0.40793347358703613, 0.00019968373817391694]\n",
      "BEGIN\tIN\tNL-HaNA_1.04.02_3419_0222.jpg\tgemene, en dus gouverneurs secrete; brieven van de\t[0.5100514888763428, 0.08243123441934586, 0.4073183834552765, 0.0001989064330700785]\n",
      "BEGIN\tIN\tNL-HaNA_1.04.02_3419_0223.jpg\tfesteert, en op Ternaten zelfs door de; verschrikk\t[0.5112577676773071, 0.08230453729629517, 0.40623897314071655, 0.00019866252841893584]\n",
      "BEGIN\tIN\tNL-HaNA_1.04.02_3419_0224.jpg\tEuropeen te ontdekken, aan de door; den Gouverneur\t[0.5022177696228027, 0.08447083085775375, 0.41310808062553406, 0.00020328958635218441]\n",
      "BEGIN\tIN\tNL-HaNA_1.04.02_3419_0225.jpg\t„sianten stand te benoemen om met; twee vaartuijge\t[0.5083621740341187, 0.082468181848526, 0.40897148847579956, 0.00019813139806501567]\n",
      "BEGIN\tIN\tNL-HaNA_1.04.02_3419_0226.jpg\tkart voor zijn afsterven van dat effect; ligt; sch\t[0.5141669511795044, 0.08193866163492203, 0.40369099378585815, 0.0002033619093708694]\n",
      "BEGIN\tIN\tNL-HaNA_1.04.02_3419_0227.jpg\tvan daar geretourneerde scheepje De orange; boom t\t[0.503653347492218, 0.08435623347759247, 0.41178691387176514, 0.0002035028737736866]\n",
      "BEGIN\tIN\tNL-HaNA_1.04.02_3419_0228.jpg\tJaresen in de op handen zijnde west; mousson, een \t[0.5005377531051636, 0.0845024585723877, 0.41475701332092285, 0.00020274803682696074]\n",
      "BEGIN\tIN\tNL-HaNA_1.04.02_3419_0229.jpg\tenig kruijt en ammunitie te voorsien,; na dien men\t[0.5120009183883667, 0.08195596933364868, 0.4058409333229065, 0.00020221975864842534]\n",
      "BEGIN\tIN\tNL-HaNA_1.04.02_3419_0230.jpg\tquelang van de verhoog„; de prijs der snaphanle; m\t[0.5142143368721008, 0.08187296986579895, 0.4037095904350281, 0.00020311963453423232]\n",
      "BEGIN\tIN\tNL-HaNA_1.04.02_3419_0231.jpg\tvorderen, daar voor, buijten het afpak„; loon, dan\t[0.5103206634521484, 0.08251944184303284, 0.4069598913192749, 0.00020006141858175397]\n",
      "BEGIN\tIN\tNL-HaNA_1.04.02_3419_0232.jpg\tMalacca gedestineert schip Delfsha„; „ven hebben w\t[0.5023325681686401, 0.08446258306503296, 0.41300123929977417, 0.00020369180128909647]\n",
      "BEGIN\tIN\tNL-HaNA_1.04.02_3419_0233.jpg\tdat buijten dertig koppen die bereets in; dienst w\t[0.5088444352149963, 0.08248459547758102, 0.4084720313549042, 0.00019900377083104104]\n",
      "BEGIN\tIN\tNL-HaNA_1.04.02_3419_0234.jpg\tdeeze in Copia verzellende rescriptie; van des daa\t[0.5091627836227417, 0.08261336386203766, 0.40802299976348877, 0.00020083185518160462]\n",
      "BEGIN\tIN\tNL-HaNA_1.04.02_3419_0235.jpg\t„zer Jongste eerbiedige van den 11: Maij; pass=o g\t[0.5020766854286194, 0.08469956368207932, 0.4130171537399292, 0.00020658624998759478]\n",
      "BEGIN\tIN\tNL-HaNA_1.04.02_3419_0236.jpg\t„eert te kunnen worden, mitsg:s, alzulke; redenen \t[0.4997258484363556, 0.08505144715309143, 0.4150131940841675, 0.00020948833844158798]\n",
      "BEGIN\tIN\tNL-HaNA_1.04.02_3419_0237.jpg\tren ten overvoer van sal peter goenijs; en goenij \t[0.4968061149120331, 0.08559365570545197, 0.41738417744636536, 0.00021612689306493849]\n",
      "BEGIN\tIN\tNL-HaNA_1.04.02_3419_0238.jpg\t„deelt, zo vroeg mogelijk direct herwaartste Benga\t[0.48997434973716736, 0.08715663850307465, 0.4226343333721161, 0.0002346271649003029]\n",
      "BEGIN\tIN\tNL-HaNA_1.04.02_3419_0239.jpg\tChormandel zijn ons buijten 697: fardelen; Lijwate\t[0.4715833067893982, 0.09193914383649826, 0.4361813962459564, 0.0002961438149213791]\n",
      "BEGIN\tIN\tNL-HaNA_1.04.02_3419_0240.jpg\tvan Ceijlon worden; nog twee scheepen; verwagt; na\t[0.4506206512451172, 0.113338403403759, 0.4350978434085846, 0.0009430731879547238]\n",
      "BEGIN\tIN\tNL-HaNA_1.04.02_3419_0241.jpg\tte Tutucorijn is g'arriveert, intusschen; hebben w\t[0.43541979789733887, 0.1276615858078003, 0.43499359488487244, 0.0019250217592343688]\n"
     ]
    },
    {
     "name": "stderr",
     "output_type": "stream",
     "text": [
      "  3%|▎         | 32/1194.6875 [00:40<24:47,  1.28s/batch]"
     ]
    },
    {
     "name": "stdout",
     "output_type": "stream",
     "text": [
      "BEGIN\tIN\tNL-HaNA_1.04.02_3419_0242.jpg\twat met de; vrouwe geer„; truijda nog; vervoert; s\t[0.4954198896884918, 0.1016128659248352, 0.40239349007606506, 0.0005737515748478472]\n",
      "BEGIN\tIN\tNL-HaNA_1.04.02_3419_0243.jpg\tordre tot 't ver„; of nelijnaber; Ceylon; voor sou\t[0.5048902034759521, 0.09008461982011795, 0.40471044182777405, 0.0003147496609017253]\n",
      "BEGIN\tIN\tNL-HaNA_1.04.02_3419_0244.jpg\tbepaalde zeil„; dag van sourat„s; te; de overheden\t[0.500177264213562, 0.08850952982902527, 0.4110248386859894, 0.0002884180867113173]\n",
      "BEGIN\tIN\tNL-HaNA_1.04.02_3419_0245.jpg\t't schip De pa„; triot naar de; Caab aange„; legt;\t[0.48084691166877747, 0.10349668562412262, 0.41505348682403564, 0.0006029442884027958]\n",
      "BEGIN\tIN\tNL-HaNA_1.04.02_3419_0246.jpg\tslegte verwag Bantam is ons door de bedienen den b\t[0.5087472796440125, 0.08584626019001007, 0.4051641523838043, 0.00024229136761277914]\n",
      "BEGIN\tIN\tNL-HaNA_1.04.02_3419_0247.jpg\ten Isaac Reynst, den ondergetekenden Batavia; gouv\t[0.4955953359603882, 0.0889926478266716, 0.41514304280281067, 0.00026900912052951753]\n",
      "BEGIN\tIN\tNL-HaNA_1.04.02_3419_0248.jpg\tder Negotien boeken.; Door den heer Raad ordinair \t[0.47794535756111145, 0.09726060181856155, 0.4243592619895935, 0.00043473776895552874]\n",
      "END\tIN\tNL-HaNA_1.04.02_3419_0249.jpg\tvoormelde memorie door ons ider; afzonderlijk was \t[0.42714565992355347, 0.13245339691638947, 0.438264936208725, 0.002136063063517213]\n"
     ]
    },
    {
     "name": "stderr",
     "output_type": "stream",
     "text": [
      "\n"
     ]
    }
   ],
   "source": [
    "import csv\n",
    "import sys\n",
    "\n",
    "from torcheval.metrics import (\n",
    "    MulticlassAccuracy,\n",
    "    MulticlassF1Score,\n",
    "    MulticlassPrecision,\n",
    "    MulticlassRecall,\n",
    ")\n",
    "from tqdm import tqdm\n",
    "\n",
    "from document_segmentation.pagexml.datamodel.label import Label\n",
    "\n",
    "writer = csv.DictWriter(\n",
    "    sys.stdout,\n",
    "    fieldnames=(\"Predicted\", \"Actual\", \"Page ID\", \"Text\", \"Scores\"),\n",
    "    delimiter=\"\\t\",\n",
    ")\n",
    "\n",
    "writer.writeheader()\n",
    "\n",
    "accuracy = MulticlassAccuracy(num_classes=len(Label))\n",
    "precision = MulticlassPrecision(average=None, num_classes=len(Label))\n",
    "recall = MulticlassRecall(average=None, num_classes=len(Label))\n",
    "f1_score = MulticlassF1Score(average=None, num_classes=len(Label))\n",
    "\n",
    "for batch in tqdm(\n",
    "    test_data.batches(BATCH_SIZE), total=len(test_data) / BATCH_SIZE, unit=\"batch\"\n",
    "):\n",
    "    predicted = tagger(batch)\n",
    "    labels = batch.labels()\n",
    "\n",
    "    _labels = torch.Tensor([label.value for label in labels]).to(int)\n",
    "    accuracy.update(predicted, _labels)\n",
    "    precision.update(predicted, _labels)\n",
    "    recall.update(predicted, _labels)\n",
    "    f1_score.update(predicted, _labels)\n",
    "\n",
    "    for page, pred, label in zip(batch.pages, predicted, labels):\n",
    "        pred_label = Label(pred.argmax().item())\n",
    "        if pred_label != Label.IN or label != Label.IN:\n",
    "            writer.writerow(\n",
    "                {\n",
    "                    \"Predicted\": pred_label.name,\n",
    "                    \"Actual\": label.name,\n",
    "                    \"Page ID\": page.doc_id,\n",
    "                    \"Text\": page.text(delimiter=\"; \")[:50],\n",
    "                    \"Scores\": str(pred.tolist()),\n",
    "                }\n",
    "            )"
   ]
  },
  {
   "cell_type": "code",
   "execution_count": 20,
   "metadata": {},
   "outputs": [
    {
     "name": "stderr",
     "output_type": "stream",
     "text": [
      "WARNING:root:tensor([[1],\n",
      "        [3]]) classes have zero instances in both the predictions and the ground truth labels. Precision is still logged as zero.\n",
      "WARNING:root:One or more NaNs identified, as no ground-truth instances of [3] have been seen. These have been converted to zero.\n",
      "WARNING:root:Warning: Some classes do not exist in the target. F1 scores for these classes will be cast to zeros.\n"
     ]
    },
    {
     "name": "stdout",
     "output_type": "stream",
     "text": [
      "Metric\tAverage\tBEGIN\tIN\tEND\tOUT\n",
      "MulticlassPrecision\tNone\t0.0051\t0.0000\t0.0000\t0.0000\n",
      "MulticlassRecall\tNone\t0.8333\t0.0000\t0.0000\t0.0000\n",
      "MulticlassF1Score\tNone\t0.0102\t0.0000\t0.0000\t0.0000\n",
      "Accuracy (micro average):\t0.0050\n"
     ]
    }
   ],
   "source": [
    "writer = csv.DictWriter(\n",
    "    sys.stdout,\n",
    "    fieldnames=[\"Metric\", \"Average\"] + [label.name for label in Label],\n",
    "    delimiter=\"\\t\",\n",
    ")\n",
    "writer.writeheader()\n",
    "\n",
    "for metric in (precision, recall, f1_score):\n",
    "    scores = {\n",
    "        label.name: f\"{score:.4f}\"\n",
    "        for label, score in zip(Label, metric.compute().tolist())\n",
    "    }\n",
    "    writer.writerow(\n",
    "        {\"Metric\": metric.__class__.__name__, \"Average\": str(metric.average)} | scores\n",
    "    )\n",
    "\n",
    "print(f\"Accuracy ({accuracy.average} average):\\t{accuracy.compute().item():.4f}\")"
   ]
  }
 ],
 "metadata": {
  "kernelspec": {
   "display_name": ".venv",
   "language": "python",
   "name": "python3"
  },
  "language_info": {
   "codemirror_mode": {
    "name": "ipython",
    "version": 3
   },
   "file_extension": ".py",
   "mimetype": "text/x-python",
   "name": "python",
   "nbconvert_exporter": "python",
   "pygments_lexer": "ipython3",
   "version": "3.11.2"
  }
 },
 "nbformat": 4,
 "nbformat_minor": 2
}
