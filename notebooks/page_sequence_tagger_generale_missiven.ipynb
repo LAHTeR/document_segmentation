{
 "cells": [
  {
   "cell_type": "code",
   "execution_count": 53,
   "metadata": {},
   "outputs": [
    {
     "name": "stdout",
     "output_type": "stream",
     "text": [
      "The autoreload extension is already loaded. To reload it, use:\n",
      "  %reload_ext autoreload\n"
     ]
    }
   ],
   "source": [
    "%load_ext autoreload"
   ]
  },
  {
   "cell_type": "code",
   "execution_count": 54,
   "metadata": {},
   "outputs": [],
   "source": [
    "import os\n",
    "\n",
    "os.environ[\"CUDA_VISIBLE_DEVICES\"] = \"MIG-08137aa2-e69b-5e74-8390-7997329b1336\""
   ]
  },
  {
   "cell_type": "markdown",
   "metadata": {},
   "source": [
    "# Download and convert data"
   ]
  },
  {
   "cell_type": "code",
   "execution_count": 55,
   "metadata": {},
   "outputs": [],
   "source": [
    "%autoreload now"
   ]
  },
  {
   "cell_type": "code",
   "execution_count": 56,
   "metadata": {},
   "outputs": [
    {
     "name": "stderr",
     "output_type": "stream",
     "text": [
      "Loading Inventories:   0%|          | 0/5 [00:00<?, ?inventory/s]"
     ]
    },
    {
     "name": "stderr",
     "output_type": "stream",
     "text": [
      "Loading Inventories: 100%|██████████| 5/5 [00:01<00:00,  2.88inventory/s]\n"
     ]
    }
   ],
   "source": [
    "from document_segmentation.pagexml.annotations.generale_missiven import GeneraleMissiven\n",
    "from document_segmentation.pagexml.datamodel.inventory import Inventory\n",
    "from document_segmentation.settings import GENERALE_MISSIVEN_SHEET\n",
    "\n",
    "N = 5\n",
    "\n",
    "inventories: list[Inventory] = list(\n",
    "    GeneraleMissiven(GENERALE_MISSIVEN_SHEET).all_annotated_inventories(\n",
    "        N, skip_errors=True\n",
    "    )\n",
    ")"
   ]
  },
  {
   "cell_type": "markdown",
   "metadata": {},
   "source": [
    "# Load Data"
   ]
  },
  {
   "cell_type": "code",
   "execution_count": 57,
   "metadata": {},
   "outputs": [],
   "source": [
    "%autoreload now"
   ]
  },
  {
   "cell_type": "code",
   "execution_count": 58,
   "metadata": {},
   "outputs": [],
   "source": [
    "TRAINING_DATA = 0.8"
   ]
  },
  {
   "cell_type": "code",
   "execution_count": 59,
   "metadata": {},
   "outputs": [],
   "source": [
    "import random\n",
    "\n",
    "random.seed(0)\n",
    "random.shuffle(inventories)\n",
    "\n",
    "split = int(len(inventories) * TRAINING_DATA)\n",
    "\n",
    "training_data: list[Inventory] = inventories[:split]\n",
    "validation_data: list[Inventory] = inventories[split:]"
   ]
  },
  {
   "cell_type": "code",
   "execution_count": 60,
   "metadata": {},
   "outputs": [
    {
     "data": {
      "text/plain": [
       "[Inventory(inv_nr=1072, inventory_part=, pages=12 pages),\n",
       " Inventory(inv_nr=1073, inventory_part=, pages=20 pages),\n",
       " Inventory(inv_nr=1070, inventory_part=, pages=31 pages),\n",
       " Inventory(inv_nr=1068, inventory_part=, pages=35 pages),\n",
       " Inventory(inv_nr=1072, inventory_part=, pages=16 pages),\n",
       " Inventory(inv_nr=1068, inventory_part=, pages=24 pages),\n",
       " Inventory(inv_nr=1068, inventory_part=, pages=7 pages),\n",
       " Inventory(inv_nr=1072, inventory_part=, pages=2 pages),\n",
       " Inventory(inv_nr=1073, inventory_part=, pages=11 pages),\n",
       " Inventory(inv_nr=1071, inventory_part=, pages=21 pages),\n",
       " Inventory(inv_nr=1071, inventory_part=, pages=21 pages),\n",
       " Inventory(inv_nr=1070, inventory_part=, pages=9 pages)]"
      ]
     },
     "execution_count": 60,
     "metadata": {},
     "output_type": "execute_result"
    }
   ],
   "source": [
    "training_data"
   ]
  },
  {
   "cell_type": "code",
   "execution_count": 61,
   "metadata": {},
   "outputs": [
    {
     "data": {
      "text/plain": [
       "[Inventory(inv_nr=1068, inventory_part=, pages=19 pages),\n",
       " Inventory(inv_nr=1070, inventory_part=, pages=52 pages),\n",
       " Inventory(inv_nr=1073, inventory_part=, pages=10 pages),\n",
       " Inventory(inv_nr=1072, inventory_part=, pages=3 pages)]"
      ]
     },
     "execution_count": 61,
     "metadata": {},
     "output_type": "execute_result"
    }
   ],
   "source": [
    "validation_data"
   ]
  },
  {
   "cell_type": "markdown",
   "metadata": {},
   "source": [
    "# Train Model"
   ]
  },
  {
   "cell_type": "code",
   "execution_count": 62,
   "metadata": {},
   "outputs": [],
   "source": [
    "EPOCHS = 3"
   ]
  },
  {
   "cell_type": "code",
   "execution_count": 63,
   "metadata": {},
   "outputs": [],
   "source": [
    "%autoreload now"
   ]
  },
  {
   "cell_type": "code",
   "execution_count": 64,
   "metadata": {},
   "outputs": [],
   "source": [
    "from document_segmentation.model.page_sequence_tagger import PageSequenceTagger\n",
    "\n",
    "tagger = PageSequenceTagger()"
   ]
  },
  {
   "cell_type": "code",
   "execution_count": 65,
   "metadata": {},
   "outputs": [
    {
     "data": {
      "text/plain": [
       "'mps'"
      ]
     },
     "execution_count": 65,
     "metadata": {},
     "output_type": "execute_result"
    }
   ],
   "source": [
    "tagger._device"
   ]
  },
  {
   "cell_type": "code",
   "execution_count": 66,
   "metadata": {},
   "outputs": [
    {
     "data": {
      "text/plain": [
       "PageSequenceTagger(\n",
       "  (_page_embedding): PageEmbedding(\n",
       "    (_region_model): RegionEmbeddingSentenceTransformer(\n",
       "      (_transformer_model): SentenceTransformer(\n",
       "        (0): Transformer({'max_seq_length': 128, 'do_lower_case': False}) with Transformer model: RobertaModel \n",
       "        (1): Pooling({'word_embedding_dimension': 768, 'pooling_mode_cls_token': False, 'pooling_mode_mean_tokens': True, 'pooling_mode_max_tokens': False, 'pooling_mode_mean_sqrt_len_tokens': False, 'pooling_mode_weightedmean_tokens': False, 'pooling_mode_lasttoken': False, 'include_prompt': True})\n",
       "      )\n",
       "      (_region_type): Embedding(10, 16)\n",
       "      (_linear): Linear(in_features=784, out_features=512, bias=True)\n",
       "    )\n",
       "    (_rnn): LSTM(512, 256, num_layers=2, batch_first=True, dropout=0.1, bidirectional=True)\n",
       "    (_linear): Linear(in_features=512, out_features=256, bias=True)\n",
       "  )\n",
       "  (_rnn): LSTM(256, 256, num_layers=2, batch_first=True, dropout=0.1, bidirectional=True)\n",
       "  (_linear): Linear(in_features=512, out_features=5, bias=True)\n",
       "  (_softmax): Softmax(dim=1)\n",
       ")"
      ]
     },
     "execution_count": 66,
     "metadata": {},
     "output_type": "execute_result"
    }
   ],
   "source": [
    "tagger"
   ]
  },
  {
   "cell_type": "code",
   "execution_count": 67,
   "metadata": {},
   "outputs": [
    {
     "name": "stderr",
     "output_type": "stream",
     "text": [
      "huggingface/tokenizers: The current process just got forked, after parallelism has already been used. Disabling parallelism to avoid deadlocks...\n",
      "To disable this warning, you can either:\n",
      "\t- Avoid using `tokenizers` before the fork if possible\n",
      "\t- Explicitly set the environment variable TOKENIZERS_PARALLELISM=(true | false)\n"
     ]
    },
    {
     "data": {
      "text/html": [
       "wandb version 0.16.5 is available!  To upgrade, please run:\n",
       " $ pip install wandb --upgrade"
      ],
      "text/plain": [
       "<IPython.core.display.HTML object>"
      ]
     },
     "metadata": {},
     "output_type": "display_data"
    },
    {
     "data": {
      "text/html": [
       "Tracking run with wandb version 0.16.4"
      ],
      "text/plain": [
       "<IPython.core.display.HTML object>"
      ]
     },
     "metadata": {},
     "output_type": "display_data"
    },
    {
     "data": {
      "text/html": [
       "Run data is saved locally in <code>/Users/carstenschnober/LAHTeR/workspace/document-segmentation/wandb/run-20240326_144001-bql5c52t</code>"
      ],
      "text/plain": [
       "<IPython.core.display.HTML object>"
      ]
     },
     "metadata": {},
     "output_type": "display_data"
    },
    {
     "data": {
      "text/html": [
       "Syncing run <strong><a href='https://wandb.ai/carschno/PageSequenceTagger/runs/bql5c52t' target=\"_blank\">kind-music-134</a></strong> to <a href='https://wandb.ai/carschno/PageSequenceTagger' target=\"_blank\">Weights & Biases</a> (<a href='https://wandb.me/run' target=\"_blank\">docs</a>)<br/>"
      ],
      "text/plain": [
       "<IPython.core.display.HTML object>"
      ]
     },
     "metadata": {},
     "output_type": "display_data"
    },
    {
     "data": {
      "text/html": [
       " View project at <a href='https://wandb.ai/carschno/PageSequenceTagger' target=\"_blank\">https://wandb.ai/carschno/PageSequenceTagger</a>"
      ],
      "text/plain": [
       "<IPython.core.display.HTML object>"
      ]
     },
     "metadata": {},
     "output_type": "display_data"
    },
    {
     "data": {
      "text/html": [
       " View run at <a href='https://wandb.ai/carschno/PageSequenceTagger/runs/bql5c52t' target=\"_blank\">https://wandb.ai/carschno/PageSequenceTagger/runs/bql5c52t</a>"
      ],
      "text/plain": [
       "<IPython.core.display.HTML object>"
      ]
     },
     "metadata": {},
     "output_type": "display_data"
    },
    {
     "name": "stderr",
     "output_type": "stream",
     "text": [
      "Training: 100%|██████████| 12/12 [00:09<00:00,  1.24inventory/s]\n",
      "Evaluating: 100%|██████████| 4/4 [00:03<00:00,  1.26inventory/s]\n",
      "WARNING:root:tensor([[0],\n",
      "        [4]]) classes have zero instances in both the predictions and the ground truth labels. Precision is still logged as zero.\n",
      "WARNING:root:One or more NaNs identified, as no ground-truth instances of [0, 4] have been seen. These have been converted to zero.\n",
      "WARNING:root:Warning: Some classes do not exist in the target. F1 scores for these classes will be cast to zeros.\n",
      "Training: 100%|██████████| 12/12 [00:00<00:00, 25.46inventory/s]\n",
      "Evaluating: 100%|██████████| 4/4 [00:00<00:00, 32.70inventory/s]\n",
      "WARNING:root:tensor([[0],\n",
      "        [4]]) classes have zero instances in both the predictions and the ground truth labels. Precision is still logged as zero.\n",
      "WARNING:root:One or more NaNs identified, as no ground-truth instances of [0, 4] have been seen. These have been converted to zero.\n",
      "WARNING:root:Warning: Some classes do not exist in the target. F1 scores for these classes will be cast to zeros.\n",
      "Training: 100%|██████████| 12/12 [00:00<00:00, 22.76inventory/s]\n",
      "Evaluating: 100%|██████████| 4/4 [00:00<00:00, 24.95inventory/s]\n",
      "WARNING:root:tensor([[0],\n",
      "        [4]]) classes have zero instances in both the predictions and the ground truth labels. Precision is still logged as zero.\n",
      "WARNING:root:One or more NaNs identified, as no ground-truth instances of [0, 4] have been seen. These have been converted to zero.\n",
      "WARNING:root:Warning: Some classes do not exist in the target. F1 scores for these classes will be cast to zeros.\n"
     ]
    },
    {
     "data": {
      "application/vnd.jupyter.widget-view+json": {
       "model_id": "e738bd64766048bf840d3b90c780cdf1",
       "version_major": 2,
       "version_minor": 0
      },
      "text/plain": [
       "VBox(children=(Label(value='0.089 MB of 0.106 MB uploaded\\r'), FloatProgress(value=0.8375127621845277, max=1.0…"
      ]
     },
     "metadata": {},
     "output_type": "display_data"
    },
    {
     "name": "stderr",
     "output_type": "stream",
     "text": [
      "wandb: WARNING Source type is set to 'repo' but some required information is missing from the environment. A job will not be created from this run. See https://docs.wandb.ai/guides/launch/create-job\n"
     ]
    },
    {
     "data": {
      "text/html": [
       "<style>\n",
       "    table.wandb td:nth-child(1) { padding: 0 10px; text-align: left ; width: auto;} td:nth-child(2) {text-align: left ; width: 100%}\n",
       "    .wandb-row { display: flex; flex-direction: row; flex-wrap: wrap; justify-content: flex-start; width: 100% }\n",
       "    .wandb-col { display: flex; flex-direction: column; flex-basis: 100%; flex: 1; padding: 10px; }\n",
       "    </style>\n",
       "<div class=\"wandb-row\"><div class=\"wandb-col\"><h3>Run history:</h3><br/><table class=\"wandb\"><tr><td>MulticlassAccuracy</td><td>█▄▁</td></tr><tr><td>epoch</td><td>▁▅█</td></tr><tr><td>inventory length</td><td>█▃▅▂▆▃▁▅▂▅▇▄▃▇▅█▅▆▂▅▂▄▁▃▁▅█▄▅▂▃▆▅▃▂▇</td></tr><tr><td>loss</td><td>█▆▄▆▇▄▆▃▄▃▂▃▅▂▂▅▂▆▂▁▂▁▂▂▁▁▅▁▁▂▁▅▁▂▂▁</td></tr></table><br/></div><div class=\"wandb-col\"><h3>Run summary:</h3><br/><table class=\"wandb\"><tr><td>MulticlassAccuracy</td><td>0.85714</td></tr><tr><td>epoch</td><td>2</td></tr><tr><td>inventory length</td><td>31</td></tr><tr><td>loss</td><td>5.287</td></tr></table><br/></div></div>"
      ],
      "text/plain": [
       "<IPython.core.display.HTML object>"
      ]
     },
     "metadata": {},
     "output_type": "display_data"
    },
    {
     "data": {
      "text/html": [
       " View run <strong style=\"color:#cdcd00\">kind-music-134</strong> at: <a href='https://wandb.ai/carschno/PageSequenceTagger/runs/bql5c52t' target=\"_blank\">https://wandb.ai/carschno/PageSequenceTagger/runs/bql5c52t</a><br/>Synced 5 W&B file(s), 3 media file(s), 3 artifact file(s) and 0 other file(s)"
      ],
      "text/plain": [
       "<IPython.core.display.HTML object>"
      ]
     },
     "metadata": {},
     "output_type": "display_data"
    },
    {
     "data": {
      "text/html": [
       "Find logs at: <code>./wandb/run-20240326_144001-bql5c52t/logs</code>"
      ],
      "text/plain": [
       "<IPython.core.display.HTML object>"
      ]
     },
     "metadata": {},
     "output_type": "display_data"
    }
   ],
   "source": [
    "tagger.train_(training_data, validation_data, epochs=EPOCHS, shuffle=True)"
   ]
  },
  {
   "cell_type": "markdown",
   "metadata": {},
   "source": [
    "# Evaluate Model"
   ]
  },
  {
   "cell_type": "code",
   "execution_count": 68,
   "metadata": {},
   "outputs": [
    {
     "name": "stderr",
     "output_type": "stream",
     "text": [
      "Evaluating: 100%|██████████| 4/4 [00:00<00:00, 14.83inventory/s]\n"
     ]
    }
   ],
   "source": [
    "import sys\n",
    "\n",
    "precision, recall, f1, accuracy, results = tagger.eval_(validation_data)"
   ]
  },
  {
   "cell_type": "code",
   "execution_count": 69,
   "metadata": {},
   "outputs": [
    {
     "name": "stderr",
     "output_type": "stream",
     "text": [
      "WARNING:root:tensor([[0],\n",
      "        [4]]) classes have zero instances in both the predictions and the ground truth labels. Precision is still logged as zero.\n",
      "WARNING:root:One or more NaNs identified, as no ground-truth instances of [0, 4] have been seen. These have been converted to zero.\n",
      "WARNING:root:Warning: Some classes do not exist in the target. F1 scores for these classes will be cast to zeros.\n"
     ]
    },
    {
     "name": "stdout",
     "output_type": "stream",
     "text": [
      "Metric\tUNK\tBEGIN\tIN\tEND\tOUT\n",
      "MulticlassPrecision\t0.0000\t0.3636\t0.9697\t0.5714\t0.0000\n",
      "MulticlassRecall\t0.0000\t0.8000\t0.8649\t0.8000\t0.0000\n",
      "MulticlassF1Score\t0.0000\t0.5000\t0.9143\t0.6667\t0.0000\n",
      "MulticlassAccuracy (micro average):\t0.8571\n"
     ]
    }
   ],
   "source": [
    "import csv\n",
    "\n",
    "from document_segmentation.pagexml.datamodel.label import Label\n",
    "\n",
    "writer = csv.DictWriter(\n",
    "    sys.stdout, fieldnames=[\"Metric\"] + [label.name for label in Label], delimiter=\"\\t\"\n",
    ")\n",
    "\n",
    "writer.writeheader()\n",
    "\n",
    "for metric in precision, recall, f1:\n",
    "    assert metric.average is None\n",
    "\n",
    "    scores: list[float] = metric.compute().tolist()\n",
    "    writer.writerow(\n",
    "        {\"Metric\": metric.__class__.__name__}\n",
    "        | {label.name: f\"{score:.4f}\" for label, score in zip(Label, scores)}\n",
    "    )\n",
    "\n",
    "assert accuracy.average is not None\n",
    "\n",
    "print(\n",
    "    f\"{accuracy.__class__.__name__} ({accuracy.average} average):\\t{accuracy.compute().item():.4f}\",\n",
    "    file=sys.stdout,\n",
    ")"
   ]
  },
  {
   "cell_type": "code",
   "execution_count": 70,
   "metadata": {},
   "outputs": [
    {
     "data": {
      "text/html": [
       "<div>\n",
       "<style scoped>\n",
       "    .dataframe tbody tr th:only-of-type {\n",
       "        vertical-align: middle;\n",
       "    }\n",
       "\n",
       "    .dataframe tbody tr th {\n",
       "        vertical-align: top;\n",
       "    }\n",
       "\n",
       "    .dataframe thead th {\n",
       "        text-align: right;\n",
       "    }\n",
       "</style>\n",
       "<table border=\"1\" class=\"dataframe\">\n",
       "  <thead>\n",
       "    <tr style=\"text-align: right;\">\n",
       "      <th></th>\n",
       "      <th>Predicted</th>\n",
       "      <th>Actual</th>\n",
       "      <th>Page ID</th>\n",
       "      <th>Text</th>\n",
       "      <th>Scores</th>\n",
       "    </tr>\n",
       "  </thead>\n",
       "  <tbody>\n",
       "    <tr>\n",
       "      <th>0</th>\n",
       "      <td>BEGIN</td>\n",
       "      <td>BEGIN</td>\n",
       "      <td>NL-HaNA_1.04.02_1068_0021.jpg</td>\n",
       "      <td>427 Cockels foly ende; schepen Int landt heeft...</td>\n",
       "      <td>[5.69479088881053e-05, 0.9961917400360107, 0.0...</td>\n",
       "    </tr>\n",
       "    <tr>\n",
       "      <th>1</th>\n",
       "      <td>BEGIN</td>\n",
       "      <td>IN</td>\n",
       "      <td>NL-HaNA_1.04.02_1068_0022.jpg</td>\n",
       "      <td>maer Een schip sel; Molucor banda; Ende Amboin...</td>\n",
       "      <td>[0.00012934765254613012, 0.9722077250480652, 0...</td>\n",
       "    </tr>\n",
       "    <tr>\n",
       "      <th>2</th>\n",
       "      <td>BEGIN</td>\n",
       "      <td>IN</td>\n",
       "      <td>NL-HaNA_1.04.02_1068_0023.jpg</td>\n",
       "      <td>Nota opt gebreck van; timmerluyden; overichgew...</td>\n",
       "      <td>[0.00035468023270368576, 0.574393093585968, 0....</td>\n",
       "    </tr>\n",
       "    <tr>\n",
       "      <th>3</th>\n",
       "      <td>IN</td>\n",
       "      <td>END</td>\n",
       "      <td>NL-HaNA_1.04.02_1068_0024.jpg</td>\n",
       "      <td>daeroverdicht dat haer Capt; dat met pratyck v...</td>\n",
       "      <td>[0.0002640753809828311, 0.12895315885543823, 0...</td>\n",
       "    </tr>\n",
       "    <tr>\n",
       "      <th>4</th>\n",
       "      <td>IN</td>\n",
       "      <td>BEGIN</td>\n",
       "      <td>NL-HaNA_1.04.02_1068_0025.jpg</td>\n",
       "      <td>Erntfeste Wijse voorsinnige seer Discrete; mau...</td>\n",
       "      <td>[0.00012983818305656314, 0.03972013294696808, ...</td>\n",
       "    </tr>\n",
       "    <tr>\n",
       "      <th>...</th>\n",
       "      <td>...</td>\n",
       "      <td>...</td>\n",
       "      <td>...</td>\n",
       "      <td>...</td>\n",
       "      <td>...</td>\n",
       "    </tr>\n",
       "    <tr>\n",
       "      <th>79</th>\n",
       "      <td>END</td>\n",
       "      <td>IN</td>\n",
       "      <td>NL-HaNA_1.04.02_1073_0311.jpg</td>\n",
       "      <td>de swaere garnisoenen die nu niet doen dan de ...</td>\n",
       "      <td>[0.00046679293154738843, 0.0036710628774017096...</td>\n",
       "    </tr>\n",
       "    <tr>\n",
       "      <th>80</th>\n",
       "      <td>END</td>\n",
       "      <td>END</td>\n",
       "      <td>NL-HaNA_1.04.02_1073_0312.jpg</td>\n",
       "      <td>van d' oude, ende opmaeckinge vande nieuwe leg...</td>\n",
       "      <td>[0.00012853230873588473, 9.528837108518928e-05...</td>\n",
       "    </tr>\n",
       "    <tr>\n",
       "      <th>81</th>\n",
       "      <td>BEGIN</td>\n",
       "      <td>BEGIN</td>\n",
       "      <td>NL-HaNA_1.04.02_1072_0737.jpg</td>\n",
       "      <td>zedert myne Jonchte met Schip Walcheren syn hi...</td>\n",
       "      <td>[8.282011549454182e-05, 0.996722400188446, 0.0...</td>\n",
       "    </tr>\n",
       "    <tr>\n",
       "      <th>82</th>\n",
       "      <td>BEGIN</td>\n",
       "      <td>IN</td>\n",
       "      <td>NL-HaNA_1.04.02_1072_0738.jpg</td>\n",
       "      <td>wel syn te becomen tot penvelatie Harwaerts ae...</td>\n",
       "      <td>[0.0025710472837090492, 0.6415371298789978, 0....</td>\n",
       "    </tr>\n",
       "    <tr>\n",
       "      <th>83</th>\n",
       "      <td>END</td>\n",
       "      <td>END</td>\n",
       "      <td>NL-HaNA_1.04.02_1072_0739.jpg</td>\n",
       "      <td>hier neffens sende aen Monfrere mr Johan Oedel...</td>\n",
       "      <td>[0.00025310259661637247, 0.0004415324365254491...</td>\n",
       "    </tr>\n",
       "  </tbody>\n",
       "</table>\n",
       "<p>84 rows × 5 columns</p>\n",
       "</div>"
      ],
      "text/plain": [
       "   Predicted Actual                        Page ID  \\\n",
       "0      BEGIN  BEGIN  NL-HaNA_1.04.02_1068_0021.jpg   \n",
       "1      BEGIN     IN  NL-HaNA_1.04.02_1068_0022.jpg   \n",
       "2      BEGIN     IN  NL-HaNA_1.04.02_1068_0023.jpg   \n",
       "3         IN    END  NL-HaNA_1.04.02_1068_0024.jpg   \n",
       "4         IN  BEGIN  NL-HaNA_1.04.02_1068_0025.jpg   \n",
       "..       ...    ...                            ...   \n",
       "79       END     IN  NL-HaNA_1.04.02_1073_0311.jpg   \n",
       "80       END    END  NL-HaNA_1.04.02_1073_0312.jpg   \n",
       "81     BEGIN  BEGIN  NL-HaNA_1.04.02_1072_0737.jpg   \n",
       "82     BEGIN     IN  NL-HaNA_1.04.02_1072_0738.jpg   \n",
       "83       END    END  NL-HaNA_1.04.02_1072_0739.jpg   \n",
       "\n",
       "                                                 Text  \\\n",
       "0   427 Cockels foly ende; schepen Int landt heeft...   \n",
       "1   maer Een schip sel; Molucor banda; Ende Amboin...   \n",
       "2   Nota opt gebreck van; timmerluyden; overichgew...   \n",
       "3   daeroverdicht dat haer Capt; dat met pratyck v...   \n",
       "4   Erntfeste Wijse voorsinnige seer Discrete; mau...   \n",
       "..                                                ...   \n",
       "79  de swaere garnisoenen die nu niet doen dan de ...   \n",
       "80  van d' oude, ende opmaeckinge vande nieuwe leg...   \n",
       "81  zedert myne Jonchte met Schip Walcheren syn hi...   \n",
       "82  wel syn te becomen tot penvelatie Harwaerts ae...   \n",
       "83  hier neffens sende aen Monfrere mr Johan Oedel...   \n",
       "\n",
       "                                               Scores  \n",
       "0   [5.69479088881053e-05, 0.9961917400360107, 0.0...  \n",
       "1   [0.00012934765254613012, 0.9722077250480652, 0...  \n",
       "2   [0.00035468023270368576, 0.574393093585968, 0....  \n",
       "3   [0.0002640753809828311, 0.12895315885543823, 0...  \n",
       "4   [0.00012983818305656314, 0.03972013294696808, ...  \n",
       "..                                                ...  \n",
       "79  [0.00046679293154738843, 0.0036710628774017096...  \n",
       "80  [0.00012853230873588473, 9.528837108518928e-05...  \n",
       "81  [8.282011549454182e-05, 0.996722400188446, 0.0...  \n",
       "82  [0.0025710472837090492, 0.6415371298789978, 0....  \n",
       "83  [0.00025310259661637247, 0.0004415324365254491...  \n",
       "\n",
       "[84 rows x 5 columns]"
      ]
     },
     "execution_count": 70,
     "metadata": {},
     "output_type": "execute_result"
    }
   ],
   "source": [
    "results"
   ]
  }
 ],
 "metadata": {
  "kernelspec": {
   "display_name": ".venv",
   "language": "python",
   "name": "python3"
  },
  "language_info": {
   "codemirror_mode": {
    "name": "ipython",
    "version": 3
   },
   "file_extension": ".py",
   "mimetype": "text/x-python",
   "name": "python",
   "nbconvert_exporter": "python",
   "pygments_lexer": "ipython3",
   "version": "3.11.2"
  }
 },
 "nbformat": 4,
 "nbformat_minor": 2
}
