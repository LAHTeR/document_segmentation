{
 "cells": [
  {
   "cell_type": "code",
   "execution_count": 1,
   "metadata": {},
   "outputs": [],
   "source": [
    "%load_ext autoreload\n",
    "%autoreload now"
   ]
  },
  {
   "cell_type": "markdown",
   "metadata": {},
   "source": [
    "# Read Data"
   ]
  },
  {
   "cell_type": "code",
   "execution_count": 2,
   "metadata": {},
   "outputs": [],
   "source": [
    "TRAINING_SIZE = 0.8\n",
    "TEST_SIZE = 0.2"
   ]
  },
  {
   "cell_type": "code",
   "execution_count": 3,
   "metadata": {},
   "outputs": [
    {
     "name": "stderr",
     "output_type": "stream",
     "text": [
      "Reading JSON files:  19%|█▉        | 174/909 [00:12<00:52, 14.09file/s]WARNING:root:No pages found in document id='354' inventory_nr=1684 inventory_part=None pages=[].\n",
      "Reading JSON files:  35%|███▍      | 314/909 [00:22<00:33, 17.61file/s]WARNING:root:No pages found in document id='353' inventory_nr=1684 inventory_part=None pages=[].\n",
      "Reading JSON files:  38%|███▊      | 349/909 [00:23<00:17, 32.38file/s]WARNING:root:No pages found in document id='352' inventory_nr=1684 inventory_part=None pages=[].\n",
      "Reading JSON files:  58%|█████▊    | 528/909 [00:39<00:19, 19.98file/s]WARNING:root:No pages found in document id='412' inventory_nr=1887 inventory_part=None pages=[].\n",
      "Reading JSON files: 100%|██████████| 909/909 [01:49<00:00,  8.29file/s]\n"
     ]
    }
   ],
   "source": [
    "from document_segmentation.model.dataset import PageDataset\n",
    "from document_segmentation.settings import GENERALE_MISSIVEN_DOCUMENT_DIR\n",
    "\n",
    "pages = PageDataset.from_dir(GENERALE_MISSIVEN_DOCUMENT_DIR)"
   ]
  },
  {
   "cell_type": "code",
   "execution_count": 120,
   "metadata": {},
   "outputs": [
    {
     "data": {
      "text/plain": [
       "580439"
      ]
     },
     "execution_count": 120,
     "metadata": {},
     "output_type": "execute_result"
    }
   ],
   "source": [
    "from document_segmentation.model.dataset import RegionDataset\n",
    "from document_segmentation.settings import MIN_REGION_TEXT_LENGTH\n",
    "\n",
    "regions = (\n",
    "    RegionDataset.from_page_dataset(pages)\n",
    "    .remove_empty(MIN_REGION_TEXT_LENGTH)\n",
    "    .shuffle()\n",
    ")\n",
    "len(regions)"
   ]
  },
  {
   "cell_type": "code",
   "execution_count": 121,
   "metadata": {},
   "outputs": [
    {
     "data": {
      "text/plain": [
       "Counter({<Label.IN: 2>: 573225, <Label.END: 3>: 3752, <Label.BEGIN: 1>: 3462})"
      ]
     },
     "execution_count": 121,
     "metadata": {},
     "output_type": "execute_result"
    }
   ],
   "source": [
    "regions._class_counts()"
   ]
  },
  {
   "cell_type": "code",
   "execution_count": 122,
   "metadata": {},
   "outputs": [
    {
     "data": {
      "text/plain": [
       "[167.6116084319954, 1.0125831696398977, 154.6600053290701, 580439.0]"
      ]
     },
     "execution_count": 122,
     "metadata": {},
     "output_type": "execute_result"
    }
   ],
   "source": [
    "regions.class_weights()"
   ]
  },
  {
   "cell_type": "code",
   "execution_count": 123,
   "metadata": {},
   "outputs": [],
   "source": [
    "split = int(len(regions) * TRAINING_SIZE)\n",
    "\n",
    "training_data = regions[:split]\n",
    "test_data = regions[split:]"
   ]
  },
  {
   "cell_type": "code",
   "execution_count": 124,
   "metadata": {},
   "outputs": [
    {
     "data": {
      "text/plain": [
       "Counter({<Label.IN: 2>: 458584, <Label.END: 3>: 3023, <Label.BEGIN: 1>: 2744})"
      ]
     },
     "execution_count": 124,
     "metadata": {},
     "output_type": "execute_result"
    }
   ],
   "source": [
    "training_data._class_counts()"
   ]
  },
  {
   "cell_type": "code",
   "execution_count": 125,
   "metadata": {},
   "outputs": [
    {
     "data": {
      "text/plain": [
       "Counter({<Label.IN: 2>: 114641, <Label.END: 3>: 729, <Label.BEGIN: 1>: 718})"
      ]
     },
     "execution_count": 125,
     "metadata": {},
     "output_type": "execute_result"
    }
   ],
   "source": [
    "test_data._class_counts()"
   ]
  },
  {
   "cell_type": "markdown",
   "metadata": {},
   "source": [
    "# Train Model"
   ]
  },
  {
   "cell_type": "code",
   "execution_count": 126,
   "metadata": {},
   "outputs": [],
   "source": [
    "%autoreload now"
   ]
  },
  {
   "cell_type": "code",
   "execution_count": 168,
   "metadata": {},
   "outputs": [],
   "source": [
    "BATCH_SIZE = 256\n",
    "EPOCHS = 100\n",
    "\n",
    "DEVICE = \"mps\""
   ]
  },
  {
   "cell_type": "code",
   "execution_count": 169,
   "metadata": {},
   "outputs": [
    {
     "data": {
      "text/plain": [
       "RegionClassifier(\n",
       "  (_region_embedding): RegionEmbeddingSentenceTransformer(\n",
       "    (_transformer_model): SentenceTransformer(\n",
       "      (0): Transformer({'max_seq_length': 128, 'do_lower_case': False}) with Transformer model: RobertaModel \n",
       "      (1): Pooling({'word_embedding_dimension': 768, 'pooling_mode_cls_token': False, 'pooling_mode_mean_tokens': True, 'pooling_mode_max_tokens': False, 'pooling_mode_mean_sqrt_len_tokens': False, 'pooling_mode_weightedmean_tokens': False, 'pooling_mode_lasttoken': False})\n",
       "    )\n",
       "    (_region_type): Embedding(9, 16)\n",
       "    (_linear): Linear(in_features=784, out_features=4, bias=True)\n",
       "  )\n",
       "  (_softmax): Softmax(dim=1)\n",
       ")"
      ]
     },
     "execution_count": 169,
     "metadata": {},
     "output_type": "execute_result"
    }
   ],
   "source": [
    "from document_segmentation.model.region_classifier import RegionClassifier\n",
    "\n",
    "model = RegionClassifier(device=DEVICE)\n",
    "model"
   ]
  },
  {
   "cell_type": "code",
   "execution_count": 170,
   "metadata": {},
   "outputs": [
    {
     "name": "stderr",
     "output_type": "stream",
     "text": [
      "35batch [00:44,  1.27s/batch]                             \n"
     ]
    },
    {
     "name": "stdout",
     "output_type": "stream",
     "text": [
      "[Loss:\t3.269]\n"
     ]
    },
    {
     "name": "stderr",
     "output_type": "stream",
     "text": [
      "35batch [00:00, 80.81batch/s]                             \n"
     ]
    },
    {
     "name": "stdout",
     "output_type": "stream",
     "text": [
      "[Loss:\t3.114]\n"
     ]
    },
    {
     "name": "stderr",
     "output_type": "stream",
     "text": [
      "35batch [00:00, 89.39batch/s]                             \n"
     ]
    },
    {
     "name": "stdout",
     "output_type": "stream",
     "text": [
      "[Loss:\t3.019]\n"
     ]
    },
    {
     "name": "stderr",
     "output_type": "stream",
     "text": [
      "35batch [00:00, 83.06batch/s]                             \n"
     ]
    },
    {
     "name": "stdout",
     "output_type": "stream",
     "text": [
      "[Loss:\t2.956]\n"
     ]
    },
    {
     "name": "stderr",
     "output_type": "stream",
     "text": [
      "35batch [00:00, 92.36batch/s]                             \n"
     ]
    },
    {
     "name": "stdout",
     "output_type": "stream",
     "text": [
      "[Loss:\t2.912]\n"
     ]
    },
    {
     "name": "stderr",
     "output_type": "stream",
     "text": [
      "35batch [00:00, 91.76batch/s]                             \n"
     ]
    },
    {
     "name": "stdout",
     "output_type": "stream",
     "text": [
      "[Loss:\t2.880]\n"
     ]
    },
    {
     "name": "stderr",
     "output_type": "stream",
     "text": [
      "35batch [00:00, 92.35batch/s]                             \n"
     ]
    },
    {
     "name": "stdout",
     "output_type": "stream",
     "text": [
      "[Loss:\t2.855]\n"
     ]
    },
    {
     "name": "stderr",
     "output_type": "stream",
     "text": [
      "35batch [00:00, 91.78batch/s]                             \n"
     ]
    },
    {
     "name": "stdout",
     "output_type": "stream",
     "text": [
      "[Loss:\t2.836]\n"
     ]
    },
    {
     "name": "stderr",
     "output_type": "stream",
     "text": [
      "35batch [00:00, 93.24batch/s]                             \n"
     ]
    },
    {
     "name": "stdout",
     "output_type": "stream",
     "text": [
      "[Loss:\t2.820]\n"
     ]
    },
    {
     "name": "stderr",
     "output_type": "stream",
     "text": [
      "35batch [00:00, 93.20batch/s]                             \n"
     ]
    },
    {
     "name": "stdout",
     "output_type": "stream",
     "text": [
      "[Loss:\t2.806]\n"
     ]
    },
    {
     "name": "stderr",
     "output_type": "stream",
     "text": [
      "35batch [00:00, 90.33batch/s]                             \n"
     ]
    },
    {
     "name": "stdout",
     "output_type": "stream",
     "text": [
      "[Loss:\t2.794]\n"
     ]
    },
    {
     "name": "stderr",
     "output_type": "stream",
     "text": [
      "35batch [00:00, 83.43batch/s]                             \n"
     ]
    },
    {
     "name": "stdout",
     "output_type": "stream",
     "text": [
      "[Loss:\t2.783]\n"
     ]
    },
    {
     "name": "stderr",
     "output_type": "stream",
     "text": [
      "35batch [00:00, 92.03batch/s]                             \n"
     ]
    },
    {
     "name": "stdout",
     "output_type": "stream",
     "text": [
      "[Loss:\t2.772]\n"
     ]
    },
    {
     "name": "stderr",
     "output_type": "stream",
     "text": [
      "35batch [00:00, 93.29batch/s]                             \n"
     ]
    },
    {
     "name": "stdout",
     "output_type": "stream",
     "text": [
      "[Loss:\t2.763]\n"
     ]
    },
    {
     "name": "stderr",
     "output_type": "stream",
     "text": [
      "35batch [00:00, 91.85batch/s]                             \n"
     ]
    },
    {
     "name": "stdout",
     "output_type": "stream",
     "text": [
      "[Loss:\t2.754]\n"
     ]
    },
    {
     "name": "stderr",
     "output_type": "stream",
     "text": [
      "35batch [00:00, 92.83batch/s]                             \n"
     ]
    },
    {
     "name": "stdout",
     "output_type": "stream",
     "text": [
      "[Loss:\t2.746]\n"
     ]
    },
    {
     "name": "stderr",
     "output_type": "stream",
     "text": [
      "35batch [00:00, 89.22batch/s]                             \n"
     ]
    },
    {
     "name": "stdout",
     "output_type": "stream",
     "text": [
      "[Loss:\t2.739]\n"
     ]
    },
    {
     "name": "stderr",
     "output_type": "stream",
     "text": [
      "35batch [00:00, 89.28batch/s]                             \n"
     ]
    },
    {
     "name": "stdout",
     "output_type": "stream",
     "text": [
      "[Loss:\t2.732]\n"
     ]
    },
    {
     "name": "stderr",
     "output_type": "stream",
     "text": [
      "35batch [00:00, 86.61batch/s]                             \n"
     ]
    },
    {
     "name": "stdout",
     "output_type": "stream",
     "text": [
      "[Loss:\t2.725]\n"
     ]
    },
    {
     "name": "stderr",
     "output_type": "stream",
     "text": [
      "35batch [00:00, 92.92batch/s]                             \n"
     ]
    },
    {
     "name": "stdout",
     "output_type": "stream",
     "text": [
      "[Loss:\t2.718]\n"
     ]
    },
    {
     "name": "stderr",
     "output_type": "stream",
     "text": [
      "35batch [00:00, 93.35batch/s]                             \n"
     ]
    },
    {
     "name": "stdout",
     "output_type": "stream",
     "text": [
      "[Loss:\t2.712]\n"
     ]
    },
    {
     "name": "stderr",
     "output_type": "stream",
     "text": [
      "35batch [00:00, 92.65batch/s]                             \n"
     ]
    },
    {
     "name": "stdout",
     "output_type": "stream",
     "text": [
      "[Loss:\t2.705]\n"
     ]
    },
    {
     "name": "stderr",
     "output_type": "stream",
     "text": [
      "35batch [00:00, 93.55batch/s]                             \n"
     ]
    },
    {
     "name": "stdout",
     "output_type": "stream",
     "text": [
      "[Loss:\t2.700]\n"
     ]
    },
    {
     "name": "stderr",
     "output_type": "stream",
     "text": [
      "35batch [00:00, 92.86batch/s]                             \n"
     ]
    },
    {
     "name": "stdout",
     "output_type": "stream",
     "text": [
      "[Loss:\t2.695]\n"
     ]
    },
    {
     "name": "stderr",
     "output_type": "stream",
     "text": [
      "35batch [00:00, 92.25batch/s]                             \n"
     ]
    },
    {
     "name": "stdout",
     "output_type": "stream",
     "text": [
      "[Loss:\t2.691]\n"
     ]
    },
    {
     "name": "stderr",
     "output_type": "stream",
     "text": [
      "35batch [00:00, 91.91batch/s]                             \n"
     ]
    },
    {
     "name": "stdout",
     "output_type": "stream",
     "text": [
      "[Loss:\t2.688]\n"
     ]
    },
    {
     "name": "stderr",
     "output_type": "stream",
     "text": [
      "35batch [00:00, 85.20batch/s]                             \n"
     ]
    },
    {
     "name": "stdout",
     "output_type": "stream",
     "text": [
      "[Loss:\t2.685]\n"
     ]
    },
    {
     "name": "stderr",
     "output_type": "stream",
     "text": [
      "35batch [00:00, 93.84batch/s]                             \n"
     ]
    },
    {
     "name": "stdout",
     "output_type": "stream",
     "text": [
      "[Loss:\t2.682]\n"
     ]
    },
    {
     "name": "stderr",
     "output_type": "stream",
     "text": [
      "35batch [00:00, 91.82batch/s]                             \n"
     ]
    },
    {
     "name": "stdout",
     "output_type": "stream",
     "text": [
      "[Loss:\t2.680]\n"
     ]
    },
    {
     "name": "stderr",
     "output_type": "stream",
     "text": [
      "35batch [00:00, 92.69batch/s]                             \n"
     ]
    },
    {
     "name": "stdout",
     "output_type": "stream",
     "text": [
      "[Loss:\t2.678]\n"
     ]
    },
    {
     "name": "stderr",
     "output_type": "stream",
     "text": [
      "35batch [00:00, 92.99batch/s]                             \n"
     ]
    },
    {
     "name": "stdout",
     "output_type": "stream",
     "text": [
      "[Loss:\t2.676]\n"
     ]
    },
    {
     "name": "stderr",
     "output_type": "stream",
     "text": [
      "35batch [00:00, 93.15batch/s]                             \n"
     ]
    },
    {
     "name": "stdout",
     "output_type": "stream",
     "text": [
      "[Loss:\t2.674]\n"
     ]
    },
    {
     "name": "stderr",
     "output_type": "stream",
     "text": [
      "35batch [00:00, 92.59batch/s]                             \n"
     ]
    },
    {
     "name": "stdout",
     "output_type": "stream",
     "text": [
      "[Loss:\t2.672]\n"
     ]
    },
    {
     "name": "stderr",
     "output_type": "stream",
     "text": [
      "35batch [00:00, 90.88batch/s]                             \n"
     ]
    },
    {
     "name": "stdout",
     "output_type": "stream",
     "text": [
      "[Loss:\t2.671]\n"
     ]
    },
    {
     "name": "stderr",
     "output_type": "stream",
     "text": [
      "35batch [00:00, 87.39batch/s]                             \n"
     ]
    },
    {
     "name": "stdout",
     "output_type": "stream",
     "text": [
      "[Loss:\t2.669]\n"
     ]
    },
    {
     "name": "stderr",
     "output_type": "stream",
     "text": [
      "35batch [00:00, 92.87batch/s]                             \n"
     ]
    },
    {
     "name": "stdout",
     "output_type": "stream",
     "text": [
      "[Loss:\t2.668]\n"
     ]
    },
    {
     "name": "stderr",
     "output_type": "stream",
     "text": [
      "35batch [00:00, 91.58batch/s]                             \n"
     ]
    },
    {
     "name": "stdout",
     "output_type": "stream",
     "text": [
      "[Loss:\t2.666]\n"
     ]
    },
    {
     "name": "stderr",
     "output_type": "stream",
     "text": [
      "35batch [00:00, 91.65batch/s]                             \n"
     ]
    },
    {
     "name": "stdout",
     "output_type": "stream",
     "text": [
      "[Loss:\t2.665]\n"
     ]
    },
    {
     "name": "stderr",
     "output_type": "stream",
     "text": [
      "35batch [00:00, 92.00batch/s]                             \n"
     ]
    },
    {
     "name": "stdout",
     "output_type": "stream",
     "text": [
      "[Loss:\t2.664]\n"
     ]
    },
    {
     "name": "stderr",
     "output_type": "stream",
     "text": [
      "35batch [00:00, 93.32batch/s]                             \n"
     ]
    },
    {
     "name": "stdout",
     "output_type": "stream",
     "text": [
      "[Loss:\t2.663]\n"
     ]
    },
    {
     "name": "stderr",
     "output_type": "stream",
     "text": [
      "35batch [00:00, 93.47batch/s]                             \n"
     ]
    },
    {
     "name": "stdout",
     "output_type": "stream",
     "text": [
      "[Loss:\t2.662]\n"
     ]
    },
    {
     "name": "stderr",
     "output_type": "stream",
     "text": [
      "35batch [00:00, 92.93batch/s]                             \n"
     ]
    },
    {
     "name": "stdout",
     "output_type": "stream",
     "text": [
      "[Loss:\t2.660]\n"
     ]
    },
    {
     "name": "stderr",
     "output_type": "stream",
     "text": [
      "35batch [00:00, 88.32batch/s]                             \n"
     ]
    },
    {
     "name": "stdout",
     "output_type": "stream",
     "text": [
      "[Loss:\t2.659]\n"
     ]
    },
    {
     "name": "stderr",
     "output_type": "stream",
     "text": [
      "35batch [00:00, 92.08batch/s]                             \n"
     ]
    },
    {
     "name": "stdout",
     "output_type": "stream",
     "text": [
      "[Loss:\t2.658]\n"
     ]
    },
    {
     "name": "stderr",
     "output_type": "stream",
     "text": [
      "35batch [00:00, 92.19batch/s]                             \n"
     ]
    },
    {
     "name": "stdout",
     "output_type": "stream",
     "text": [
      "[Loss:\t2.657]\n"
     ]
    },
    {
     "name": "stderr",
     "output_type": "stream",
     "text": [
      "35batch [00:00, 92.91batch/s]                             \n"
     ]
    },
    {
     "name": "stdout",
     "output_type": "stream",
     "text": [
      "[Loss:\t2.656]\n"
     ]
    },
    {
     "name": "stderr",
     "output_type": "stream",
     "text": [
      "35batch [00:00, 91.81batch/s]                             \n"
     ]
    },
    {
     "name": "stdout",
     "output_type": "stream",
     "text": [
      "[Loss:\t2.655]\n"
     ]
    },
    {
     "name": "stderr",
     "output_type": "stream",
     "text": [
      "35batch [00:00, 92.24batch/s]                             \n"
     ]
    },
    {
     "name": "stdout",
     "output_type": "stream",
     "text": [
      "[Loss:\t2.654]\n"
     ]
    },
    {
     "name": "stderr",
     "output_type": "stream",
     "text": [
      "35batch [00:00, 91.82batch/s]                             \n"
     ]
    },
    {
     "name": "stdout",
     "output_type": "stream",
     "text": [
      "[Loss:\t2.653]\n"
     ]
    },
    {
     "name": "stderr",
     "output_type": "stream",
     "text": [
      "35batch [00:00, 92.55batch/s]                             \n"
     ]
    },
    {
     "name": "stdout",
     "output_type": "stream",
     "text": [
      "[Loss:\t2.652]\n"
     ]
    },
    {
     "name": "stderr",
     "output_type": "stream",
     "text": [
      "35batch [00:00, 86.78batch/s]                             \n"
     ]
    },
    {
     "name": "stdout",
     "output_type": "stream",
     "text": [
      "[Loss:\t2.651]\n"
     ]
    },
    {
     "name": "stderr",
     "output_type": "stream",
     "text": [
      "35batch [00:00, 92.32batch/s]                             \n"
     ]
    },
    {
     "name": "stdout",
     "output_type": "stream",
     "text": [
      "[Loss:\t2.650]\n"
     ]
    },
    {
     "name": "stderr",
     "output_type": "stream",
     "text": [
      "35batch [00:00, 92.76batch/s]                             \n"
     ]
    },
    {
     "name": "stdout",
     "output_type": "stream",
     "text": [
      "[Loss:\t2.648]\n"
     ]
    },
    {
     "name": "stderr",
     "output_type": "stream",
     "text": [
      "35batch [00:00, 92.75batch/s]                             \n"
     ]
    },
    {
     "name": "stdout",
     "output_type": "stream",
     "text": [
      "[Loss:\t2.647]\n"
     ]
    },
    {
     "name": "stderr",
     "output_type": "stream",
     "text": [
      "35batch [00:00, 92.91batch/s]                             \n"
     ]
    },
    {
     "name": "stdout",
     "output_type": "stream",
     "text": [
      "[Loss:\t2.646]\n"
     ]
    },
    {
     "name": "stderr",
     "output_type": "stream",
     "text": [
      "35batch [00:00, 92.27batch/s]                             \n"
     ]
    },
    {
     "name": "stdout",
     "output_type": "stream",
     "text": [
      "[Loss:\t2.645]\n"
     ]
    },
    {
     "name": "stderr",
     "output_type": "stream",
     "text": [
      "35batch [00:00, 92.80batch/s]                             \n"
     ]
    },
    {
     "name": "stdout",
     "output_type": "stream",
     "text": [
      "[Loss:\t2.644]\n"
     ]
    },
    {
     "name": "stderr",
     "output_type": "stream",
     "text": [
      "35batch [00:00, 93.14batch/s]                             \n"
     ]
    },
    {
     "name": "stdout",
     "output_type": "stream",
     "text": [
      "[Loss:\t2.643]\n"
     ]
    },
    {
     "name": "stderr",
     "output_type": "stream",
     "text": [
      "35batch [00:00, 86.85batch/s]                             \n"
     ]
    },
    {
     "name": "stdout",
     "output_type": "stream",
     "text": [
      "[Loss:\t2.642]\n"
     ]
    },
    {
     "name": "stderr",
     "output_type": "stream",
     "text": [
      "35batch [00:00, 92.73batch/s]                             \n"
     ]
    },
    {
     "name": "stdout",
     "output_type": "stream",
     "text": [
      "[Loss:\t2.641]\n"
     ]
    },
    {
     "name": "stderr",
     "output_type": "stream",
     "text": [
      "35batch [00:00, 91.80batch/s]                             \n"
     ]
    },
    {
     "name": "stdout",
     "output_type": "stream",
     "text": [
      "[Loss:\t2.640]\n"
     ]
    },
    {
     "name": "stderr",
     "output_type": "stream",
     "text": [
      "35batch [00:00, 92.96batch/s]                             \n"
     ]
    },
    {
     "name": "stdout",
     "output_type": "stream",
     "text": [
      "[Loss:\t2.639]\n"
     ]
    },
    {
     "name": "stderr",
     "output_type": "stream",
     "text": [
      "35batch [00:00, 93.76batch/s]                             \n"
     ]
    },
    {
     "name": "stdout",
     "output_type": "stream",
     "text": [
      "[Loss:\t2.638]\n"
     ]
    },
    {
     "name": "stderr",
     "output_type": "stream",
     "text": [
      "35batch [00:00, 93.55batch/s]                             \n"
     ]
    },
    {
     "name": "stdout",
     "output_type": "stream",
     "text": [
      "[Loss:\t2.637]\n"
     ]
    },
    {
     "name": "stderr",
     "output_type": "stream",
     "text": [
      "35batch [00:00, 92.19batch/s]                             \n"
     ]
    },
    {
     "name": "stdout",
     "output_type": "stream",
     "text": [
      "[Loss:\t2.635]\n"
     ]
    },
    {
     "name": "stderr",
     "output_type": "stream",
     "text": [
      "35batch [00:00, 92.06batch/s]                             \n"
     ]
    },
    {
     "name": "stdout",
     "output_type": "stream",
     "text": [
      "[Loss:\t2.634]\n"
     ]
    },
    {
     "name": "stderr",
     "output_type": "stream",
     "text": [
      "35batch [00:00, 87.86batch/s]                             \n"
     ]
    },
    {
     "name": "stdout",
     "output_type": "stream",
     "text": [
      "[Loss:\t2.633]\n"
     ]
    },
    {
     "name": "stderr",
     "output_type": "stream",
     "text": [
      "35batch [00:00, 93.08batch/s]                             \n"
     ]
    },
    {
     "name": "stdout",
     "output_type": "stream",
     "text": [
      "[Loss:\t2.632]\n"
     ]
    },
    {
     "name": "stderr",
     "output_type": "stream",
     "text": [
      "35batch [00:00, 93.21batch/s]                             \n"
     ]
    },
    {
     "name": "stdout",
     "output_type": "stream",
     "text": [
      "[Loss:\t2.631]\n"
     ]
    },
    {
     "name": "stderr",
     "output_type": "stream",
     "text": [
      "35batch [00:00, 93.00batch/s]                             \n"
     ]
    },
    {
     "name": "stdout",
     "output_type": "stream",
     "text": [
      "[Loss:\t2.630]\n"
     ]
    },
    {
     "name": "stderr",
     "output_type": "stream",
     "text": [
      "35batch [00:00, 93.22batch/s]                             \n"
     ]
    },
    {
     "name": "stdout",
     "output_type": "stream",
     "text": [
      "[Loss:\t2.629]\n"
     ]
    },
    {
     "name": "stderr",
     "output_type": "stream",
     "text": [
      "35batch [00:00, 93.00batch/s]                             \n"
     ]
    },
    {
     "name": "stdout",
     "output_type": "stream",
     "text": [
      "[Loss:\t2.628]\n"
     ]
    },
    {
     "name": "stderr",
     "output_type": "stream",
     "text": [
      "35batch [00:00, 92.38batch/s]                             \n"
     ]
    },
    {
     "name": "stdout",
     "output_type": "stream",
     "text": [
      "[Loss:\t2.627]\n"
     ]
    },
    {
     "name": "stderr",
     "output_type": "stream",
     "text": [
      "35batch [00:00, 93.34batch/s]                             \n"
     ]
    },
    {
     "name": "stdout",
     "output_type": "stream",
     "text": [
      "[Loss:\t2.626]\n"
     ]
    },
    {
     "name": "stderr",
     "output_type": "stream",
     "text": [
      "35batch [00:00, 87.30batch/s]                             \n"
     ]
    },
    {
     "name": "stdout",
     "output_type": "stream",
     "text": [
      "[Loss:\t2.625]\n"
     ]
    },
    {
     "name": "stderr",
     "output_type": "stream",
     "text": [
      "35batch [00:00, 92.44batch/s]                             \n"
     ]
    },
    {
     "name": "stdout",
     "output_type": "stream",
     "text": [
      "[Loss:\t2.624]\n"
     ]
    },
    {
     "name": "stderr",
     "output_type": "stream",
     "text": [
      "35batch [00:00, 91.47batch/s]                             \n"
     ]
    },
    {
     "name": "stdout",
     "output_type": "stream",
     "text": [
      "[Loss:\t2.623]\n"
     ]
    },
    {
     "name": "stderr",
     "output_type": "stream",
     "text": [
      "35batch [00:00, 92.77batch/s]                             \n"
     ]
    },
    {
     "name": "stdout",
     "output_type": "stream",
     "text": [
      "[Loss:\t2.623]\n"
     ]
    },
    {
     "name": "stderr",
     "output_type": "stream",
     "text": [
      "35batch [00:00, 93.57batch/s]                             \n"
     ]
    },
    {
     "name": "stdout",
     "output_type": "stream",
     "text": [
      "[Loss:\t2.622]\n"
     ]
    },
    {
     "name": "stderr",
     "output_type": "stream",
     "text": [
      "35batch [00:00, 93.10batch/s]                             \n"
     ]
    },
    {
     "name": "stdout",
     "output_type": "stream",
     "text": [
      "[Loss:\t2.621]\n"
     ]
    },
    {
     "name": "stderr",
     "output_type": "stream",
     "text": [
      "35batch [00:00, 92.60batch/s]                             \n"
     ]
    },
    {
     "name": "stdout",
     "output_type": "stream",
     "text": [
      "[Loss:\t2.620]\n"
     ]
    },
    {
     "name": "stderr",
     "output_type": "stream",
     "text": [
      "35batch [00:00, 91.78batch/s]                             \n"
     ]
    },
    {
     "name": "stdout",
     "output_type": "stream",
     "text": [
      "[Loss:\t2.619]\n"
     ]
    },
    {
     "name": "stderr",
     "output_type": "stream",
     "text": [
      "35batch [00:00, 88.33batch/s]                             \n"
     ]
    },
    {
     "name": "stdout",
     "output_type": "stream",
     "text": [
      "[Loss:\t2.619]\n"
     ]
    },
    {
     "name": "stderr",
     "output_type": "stream",
     "text": [
      "35batch [00:00, 93.56batch/s]                             \n"
     ]
    },
    {
     "name": "stdout",
     "output_type": "stream",
     "text": [
      "[Loss:\t2.618]\n"
     ]
    },
    {
     "name": "stderr",
     "output_type": "stream",
     "text": [
      "35batch [00:00, 93.16batch/s]                             \n"
     ]
    },
    {
     "name": "stdout",
     "output_type": "stream",
     "text": [
      "[Loss:\t2.617]\n"
     ]
    },
    {
     "name": "stderr",
     "output_type": "stream",
     "text": [
      "35batch [00:00, 93.03batch/s]                             \n"
     ]
    },
    {
     "name": "stdout",
     "output_type": "stream",
     "text": [
      "[Loss:\t2.617]\n"
     ]
    },
    {
     "name": "stderr",
     "output_type": "stream",
     "text": [
      "35batch [00:00, 94.45batch/s]                             \n"
     ]
    },
    {
     "name": "stdout",
     "output_type": "stream",
     "text": [
      "[Loss:\t2.616]\n"
     ]
    },
    {
     "name": "stderr",
     "output_type": "stream",
     "text": [
      "35batch [00:00, 93.54batch/s]                             \n"
     ]
    },
    {
     "name": "stdout",
     "output_type": "stream",
     "text": [
      "[Loss:\t2.615]\n"
     ]
    },
    {
     "name": "stderr",
     "output_type": "stream",
     "text": [
      "35batch [00:00, 92.86batch/s]                             \n"
     ]
    },
    {
     "name": "stdout",
     "output_type": "stream",
     "text": [
      "[Loss:\t2.615]\n"
     ]
    },
    {
     "name": "stderr",
     "output_type": "stream",
     "text": [
      "35batch [00:00, 94.08batch/s]                             \n"
     ]
    },
    {
     "name": "stdout",
     "output_type": "stream",
     "text": [
      "[Loss:\t2.614]\n"
     ]
    },
    {
     "name": "stderr",
     "output_type": "stream",
     "text": [
      "35batch [00:00, 88.20batch/s]                             \n"
     ]
    },
    {
     "name": "stdout",
     "output_type": "stream",
     "text": [
      "[Loss:\t2.614]\n"
     ]
    },
    {
     "name": "stderr",
     "output_type": "stream",
     "text": [
      "35batch [00:00, 92.53batch/s]                             \n"
     ]
    },
    {
     "name": "stdout",
     "output_type": "stream",
     "text": [
      "[Loss:\t2.613]\n"
     ]
    },
    {
     "name": "stderr",
     "output_type": "stream",
     "text": [
      "35batch [00:00, 90.57batch/s]                             \n"
     ]
    },
    {
     "name": "stdout",
     "output_type": "stream",
     "text": [
      "[Loss:\t2.613]\n"
     ]
    },
    {
     "name": "stderr",
     "output_type": "stream",
     "text": [
      "35batch [00:00, 93.24batch/s]                             \n"
     ]
    },
    {
     "name": "stdout",
     "output_type": "stream",
     "text": [
      "[Loss:\t2.612]\n"
     ]
    },
    {
     "name": "stderr",
     "output_type": "stream",
     "text": [
      "35batch [00:00, 92.39batch/s]                             \n"
     ]
    },
    {
     "name": "stdout",
     "output_type": "stream",
     "text": [
      "[Loss:\t2.612]\n"
     ]
    },
    {
     "name": "stderr",
     "output_type": "stream",
     "text": [
      "35batch [00:00, 93.18batch/s]                             \n"
     ]
    },
    {
     "name": "stdout",
     "output_type": "stream",
     "text": [
      "[Loss:\t2.611]\n"
     ]
    },
    {
     "name": "stderr",
     "output_type": "stream",
     "text": [
      "35batch [00:00, 93.23batch/s]                             \n"
     ]
    },
    {
     "name": "stdout",
     "output_type": "stream",
     "text": [
      "[Loss:\t2.610]\n"
     ]
    },
    {
     "name": "stderr",
     "output_type": "stream",
     "text": [
      "35batch [00:00, 91.51batch/s]                             \n"
     ]
    },
    {
     "name": "stdout",
     "output_type": "stream",
     "text": [
      "[Loss:\t2.610]\n"
     ]
    },
    {
     "name": "stderr",
     "output_type": "stream",
     "text": [
      "35batch [00:00, 87.59batch/s]                             \n"
     ]
    },
    {
     "name": "stdout",
     "output_type": "stream",
     "text": [
      "[Loss:\t2.609]\n"
     ]
    },
    {
     "name": "stderr",
     "output_type": "stream",
     "text": [
      "35batch [00:00, 93.30batch/s]                             "
     ]
    },
    {
     "name": "stdout",
     "output_type": "stream",
     "text": [
      "[Loss:\t2.609]\n"
     ]
    },
    {
     "name": "stderr",
     "output_type": "stream",
     "text": [
      "\n"
     ]
    }
   ],
   "source": [
    "from document_segmentation.pagexml.datamodel.label import Label\n",
    "\n",
    "model.train_(\n",
    "    training_data.balance(training_data._class_counts()[Label.END]).shuffle(),\n",
    "    EPOCHS,\n",
    "    BATCH_SIZE,\n",
    "    # regions.class_weights(),\n",
    ")"
   ]
  },
  {
   "cell_type": "markdown",
   "metadata": {},
   "source": [
    "# Evaluation"
   ]
  },
  {
   "cell_type": "code",
   "execution_count": 171,
   "metadata": {},
   "outputs": [
    {
     "name": "stdout",
     "output_type": "stream",
     "text": [
      "Predicted\tActual\tLines\tScores\tTypes\n"
     ]
    },
    {
     "name": "stderr",
     "output_type": "stream",
     "text": [
      "  0%|          | 1/453.46875 [00:01<12:19,  1.64s/batch]"
     ]
    },
    {
     "name": "stdout",
     "output_type": "stream",
     "text": [
      "BEGIN\tIN\t('de sagoe boschens zijn',)\t[0.6851197481155396, 0.3146204948425293, 4.4579286623047665e-05, 0.00021517790446523577]\t(<RegionType.MARGINALIA: 'marginalia'>, <RegionType.PHYSICAL_STRUCTURE_DOC: 'physical_structure_doc'>, <RegionType.TEXT_REGION: 'text_region'>, <RegionType.PAGEXML_DOC: 'pagexml_doc'>)\n",
      "END\tIN\t('Van sijn Edelheijd', 'den hoog Edelen heere', 'henric Zwaerdecroon', 'gouverneur Generaal,', 'en de verdere Edele heeren', 'Raeden van Nederlands', 'India.')\t[0.12724101543426514, 2.1550866222241893e-05, 0.8727362155914307, 1.1965151998083456e-06]\t(<RegionType.PARAGRAPH: 'paragraph'>, <RegionType.PHYSICAL_STRUCTURE_DOC: 'physical_structure_doc'>, <RegionType.TEXT_REGION: 'text_region'>, <RegionType.PAGEXML_DOC: 'pagexml_doc'>)\n",
      "BEGIN\tIN\t\"('Het geene gezegt werd uijt de Pa¬', 'poese Eylanden tot Zoeloe te', 'vallen, daer af hebben wij uijt', 'Ternaten UEd. e Hoog Agtbare', 'een half Aem van toegezonden', 'gehad benevens een Salf Pot', \"\"van't Súijverste afgeklopt van\"\", 'zijn steen dat Schoon Vitriool is,', 'zynde ons bygezet geworden', 'van den Mirtis burger Pieter', 'Tidesz die vermeijnde een groote', 'Schat begraven te hebben, wezen', 'uijt de Papous met een heele', '-', 'Chialoups ladinge daer af, wel', 'eer uijt die Eylanden terugge', 'gekeert het welke in een van', 'zyn Camers in de grond legt.', 'Hoedanig de twee door U Edle Hoog', 'Agtbaerhedens voor heen ten dien', 'selven eijnde, nae Ternaten gesonden', 'Mijnwerkers gevaeren zijn, kan by', 'de oude Papieren blyken, zijnde')\"\t[0.8388305902481079, 0.15957149863243103, 0.001591341570019722, 6.591050805582199e-06]\t(<RegionType.PARAGRAPH: 'paragraph'>, <RegionType.PHYSICAL_STRUCTURE_DOC: 'physical_structure_doc'>, <RegionType.TEXT_REGION: 'text_region'>, <RegionType.PAGEXML_DOC: 'pagexml_doc'>)\n",
      "BEGIN\tIN\t('breng van een retour',)\t[0.8815824389457703, 0.11780116707086563, 0.0006079516606405377, 8.384256034332793e-06]\t(<RegionType.MARGINALIA: 'marginalia'>, <RegionType.PHYSICAL_STRUCTURE_DOC: 'physical_structure_doc'>, <RegionType.TEXT_REGION: 'text_region'>, <RegionType.PAGEXML_DOC: 'pagexml_doc'>)\n",
      "BEGIN\tIN\t('berkenrode is met 20000. rd„s', 'overlaastgem: residentie', 'naar dit Comptoir vertroc', '„ken')\t[0.7413313984870911, 0.25184616446495056, 0.006799769587814808, 2.2745160094927996e-05]\t(<RegionType.MARGINALIA: 'marginalia'>, <RegionType.PHYSICAL_STRUCTURE_DOC: 'physical_structure_doc'>, <RegionType.TEXT_REGION: 'text_region'>, <RegionType.PAGEXML_DOC: 'pagexml_doc'>)\n",
      "END\tIN\t('9225. — uijt het capitaal van den burger', 'Carelcrab omme voldaan te', 'werden aan abraham ruettens', 'boekhouder generaal van de genen', '„rake oostjnische Comp=e', 'tot amsterdam of zijn', '2500: — uijt het Cap. l vanden Coopman en groot', 'winkelier Corn:s chasteleijn om vol„', 'daan te werden aan adriaan temmink', 'Jacobs:z en dirk vander hagen Coopl: dot amst. 6250: —:—', 'R=s 21752. ¾. die Transportere met ƒ54381:11:8 ƒ144895:16: —', 'ordre. . . . . . . . . . . „ 23062: 10: —')\t[0.0010886731324717402, 0.3686406910419464, 0.6302629709243774, 7.680172529944684e-06]\t(<RegionType.PARAGRAPH: 'paragraph'>, <RegionType.PHYSICAL_STRUCTURE_DOC: 'physical_structure_doc'>, <RegionType.TEXT_REGION: 'text_region'>, <RegionType.PAGEXML_DOC: 'pagexml_doc'>)\n",
      "BEGIN\tIN\t('Wij resolveerden dus als gezegd om voorsz:', 'tiatig tot deeze zaak reedenen, alle de hier ingekomene en tot de zaa„', '=ken van Nagapatnams beleg, verdeediging en over„', '=gave spectierende en relative papieren, aan de', 'Ministers uitmakende den secreeten Raad op', 'Ceilon, of in de eerste plaats aan den Heer', 'Tjalck te zenden, welk ook geschied is be„', 'zijden onze secreete Missive derwaarts van', 'den 28: Maart pass=o, terwijl wij tevens allen', 'de hier aanweezend geweest zijnde Nagapat„', 'er gen oe senn rormsche officieren, in twijzens onze Riscl: in', 'G', 'datis 10, 14, 31 Jann:, 4 Februarij 18. en 24', 'Maart; 29 April; en 13 Mai deezes Jaars.', 'succissive met de van hier vertrokken scheepen', 'naar het Ceitonsche Gouvernement hebben la„', '„ten overgaan.')\t[0.6654983758926392, 0.31787899136543274, 0.01655840314924717, 6.419332203222439e-05]\t(<RegionType.PARAGRAPH: 'paragraph'>, <RegionType.PHYSICAL_STRUCTURE_DOC: 'physical_structure_doc'>, <RegionType.TEXT_REGION: 'text_region'>, <RegionType.PAGEXML_DOC: 'pagexml_doc'>)\n",
      "BEGIN\tIN\t('Ed: Erntfeste Manhalte wel',)\t[0.9167490601539612, 0.00876379944384098, 0.07448190450668335, 5.236637662164867e-06]\t(<RegionType.PHYSICAL_STRUCTURE_DOC: 'physical_structure_doc'>, <RegionType.TEXT_REGION: 'text_region'>, <RegionType.PAGEXML_DOC: 'pagexml_doc'>)\n",
      "BEGIN\tIN\t\"(\"\"'t schip Casgeld vertrekt na\"\", 'Baspera.')\"\t[0.8342851400375366, 0.16569890081882477, 2.505267957531032e-06, 1.3461453818308655e-05]\t(<RegionType.MARGINALIA: 'marginalia'>, <RegionType.PHYSICAL_STRUCTURE_DOC: 'physical_structure_doc'>, <RegionType.TEXT_REGION: 'text_region'>, <RegionType.PAGEXML_DOC: 'pagexml_doc'>)\n",
      "END\tIN\t\"('West Cust, Door den M:r assaijeur visser, en den M:r mineur', 'de graaff over de mijns Consideratien vanden E=', 'de werelt zal:r, soo versoecken wij ^ noch 6 â 8:', 'eijgentlijcke Europische berghwerckers, in —', 'plaets van maer 3. off 4: in onsen jongsten versogt,', 'wij versoucken oock dat VEd:le believen te gelooven', 'qualijck geinformeert te zijn, dat jemant', 'vande voor heen gesondene en bequame daer aen', 'niet gebruijckt, off jets van zijn rantsoen', \"\"onthouden zoude zijn geweest, want 't is\"\", 'seker dat het daer aen noijt geschort en heeft', \"\"wat aengaet de afladingh van 'tschip Couwerve\"\", \"\"op die kust jn't jaar 1675: die is oock soo —\"\", 'alst behoort ten vollen gedaen geweest; al', 'hebben VEd:le geen ongelijck daer over, een andere —', 'Calculatie te maeken, als veroorsaeckt zijnde', 'door onkunde dat dien bodem toen alreets in', 'hadde zijn onderlaagh, en beset was, met zijn', \"\"beschot, en watterleggers tot retour naer 't vader¬\"\", 'land, en oversulcx voort heel gevult was met', 'den Peper en andere waren aldaer noch Ingekregen;', 'T js mede in waerheijt ginder geschiet, dat tot de', 'volle opvullingh, van 10: vaten vleesch en speck', '415: lb zijn jngeschoten; alsoo die provisien al wat', \"\"out, en bij gevolge door 't zout zeer Jngecrompen\"\", 'zijn geweest: gelijck men dat gemeijnlijck siet', 'gebeuren; hoewel selden, soo veel als toenmaels', 'aen die partije is bevonden, wij sullen alle mogelijcq.', \"\"zorge dragen, dat d' E: Comp:e daer in oock nergens\"\", 'verkort en wert; en dat uw. Ed=le reden sullen')\"\t[0.20173268020153046, 0.3446502685546875, 0.453607439994812, 9.563354069541674e-06]\t(<RegionType.PARAGRAPH: 'paragraph'>, <RegionType.PHYSICAL_STRUCTURE_DOC: 'physical_structure_doc'>, <RegionType.TEXT_REGION: 'text_region'>, <RegionType.PAGEXML_DOC: 'pagexml_doc'>)\n",
      "BEGIN\tIN\t\"(\"\"in haer brief van 27:' october testleden\"\",)\"\t[0.6581927537918091, 0.34122538566589355, 0.0005769907147623599, 4.882875600742409e-06]\t(<RegionType.MARGINALIA: 'marginalia'>, <RegionType.PHYSICAL_STRUCTURE_DOC: 'physical_structure_doc'>, <RegionType.TEXT_REGION: 'text_region'>, <RegionType.PAGEXML_DOC: 'pagexml_doc'>)\n",
      "BEGIN\tIN\t\"('ter positie zijn onthelt geraakt van een', 'schicking die ons aan de Eene zijde', 'wel noodsakelijk toescheen dog genoodt', '„saakt zoude hebben uwel Ed:e hoog agtb', 'met ongewone versoeken te vermoeijelijken', 'daar wij thans wel tot ons meerder ge„', 'noegen van bevrijd zijn maar vermits', 'men versoekt te mogen weten hoe, ons dier gelijke instantie te meermalen', \"\"zouden kunnen voorkomen en w' in\"\", 'desen niet gaarne zoude treeden buijten', 'het welbehagen uwer wel Edele hoog', 'agtb:, so neemen wij de vrijheijt', 'gants reverentelijk te versoeken ons met', \"\"der selver g'Eerde ordres te willen voor¬\"\", 'sien om te kunnen dienen tot onse na¬', '„rigt in den aanstaande bij alzulke meer', 'dert of andere gelijkstandige gevallen,', 'terwijl wij intusschen ten vervolge van', 'desen nog maar kortelijk zullen aan', '„halen dat wij aan den meede Engels')\"\t[0.44907236099243164, 0.3539855182170868, 0.1969219595193863, 2.01476359507069e-05]\t(<RegionType.PARAGRAPH: 'paragraph'>, <RegionType.PHYSICAL_STRUCTURE_DOC: 'physical_structure_doc'>, <RegionType.TEXT_REGION: 'text_region'>, <RegionType.PAGEXML_DOC: 'pagexml_doc'>)\n",
      "BEGIN\tIN\t('Tirrebon', 'gelijk mede by het af', 'gaande briefboek die', 'hier na derwaarts sijn', 'gefclikt')\t[0.6706560850143433, 0.3293432593345642, 5.992573051116779e-07, 1.2863581844158034e-07]\t(<RegionType.MARGINALIA: 'marginalia'>, <RegionType.PHYSICAL_STRUCTURE_DOC: 'physical_structure_doc'>, <RegionType.TEXT_REGION: 'text_region'>, <RegionType.PAGEXML_DOC: 'pagexml_doc'>)\n",
      "BEGIN\tBEGIN\t('Jd„ biddelburg in Zeeland.', 'Gedateerd Den 22=e Augustus 1783. —.')\t[0.9855837821960449, 0.000442306452896446, 0.01397255714982748, 1.3759723742623464e-06]\t(<RegionType.PARAGRAPH: 'paragraph'>, <RegionType.PHYSICAL_STRUCTURE_DOC: 'physical_structure_doc'>, <RegionType.TEXT_REGION: 'text_region'>, <RegionType.PAGEXML_DOC: 'pagexml_doc'>)\n",
      "END\tIN\t\"(\"\"battavia, soo het d'E: Comp:e aen de hand\"\", 'blijft, in dese schaarse tijd van schepen', 'seer wel te stade sal komen, en voornamentlijk', 'indien daer aen bevonden word, soodanigen', 'durabelh„t sterckte ende gjrooth„t van', 'ruijm, als den gem: direct:r daer van', 'bij sijn schrijven comt te getuijgen; en', 'dan ware het wel te wenschen dat wij in', 'desen tijd, en nu het ons soo bekrompen om', 'komt noch met Eenige van soodanige bodems', 'konde worden gedient, maer dewijle deselve', 'op een heel andere wijse getimmert en', 'met sponningen in malkanderen gevoegt', 'worden; soo is het te dugten, dat wij met', 'de nodige reparatie niet soo wel als de', 'mooren sullen konnen te regt geraecken', 'alsoo men die schepen niet breeuwen ofte', 'calfaten kan, ten ware datse op een', 'andere wijse konde worden gemaeckt.', 'de brieven die wij met de boven gemelte', 'drij schepen soo aen onse opperhoofden, als')\"\t[0.0159078948199749, 0.062081001698970795, 0.9219780564308167, 3.303094854345545e-05]\t(<RegionType.PARAGRAPH: 'paragraph'>, <RegionType.PHYSICAL_STRUCTURE_DOC: 'physical_structure_doc'>, <RegionType.TEXT_REGION: 'text_region'>, <RegionType.PAGEXML_DOC: 'pagexml_doc'>)\n",
      "BEGIN\tIN\t('antwoort op 3: ponnten inde', 'brief der Ed=e H=ren M=rs van 8=e', 'julij 1693: onder ambonia')\t[0.9229012727737427, 0.07657859474420547, 0.0005190915544517338, 1.0026789141193149e-06]\t(<RegionType.MARGINALIA: 'marginalia'>, <RegionType.PHYSICAL_STRUCTURE_DOC: 'physical_structure_doc'>, <RegionType.TEXT_REGION: 'text_region'>, <RegionType.PAGEXML_DOC: 'pagexml_doc'>)\n",
      "END\tIN\t\"('Oversten Ackel ganingh voor dese die', 'functie int district van Cotten tenge geexer', 'ceert hebbende, off levent off doot te attruy', 'uge', 'peren, alsoo hy sigh op Baros eerstinstilheyt', 'nedergestelt en naderhant metde opgemelde', 'Battas omtrent de negerije Baros verscheyjde', 'moetwilligheden aengericht hadde, daer eenige', 'regenten mede niet vry van gesproocken wierden', 'soo als ons daervan inde missiven vanden laesten', 'septemb. en 4 gb. door de residenten backer &a', 'naer padangh geschreven is gebleecken, en wansoare', 'vander Commandeur in die vanden 15 Octob.', 'aen ons cortel aenroert, dat soodingen syn', 'welke onder dat slagh van volk soowylen occu', 'reren, en diemen dan in hare beginselen smooren', 'en weghnemen moet, synde de sincalse que¬', \"\"tie met die van surcan wel van 't meeste\"\", 'belangh die nootsaekelyck om die luijden aen te supverwo', 'houden geassopieert dient')\"\t[0.05546761676669121, 0.3764970600605011, 0.568012535572052, 2.274001599289477e-05]\t(<RegionType.PARAGRAPH: 'paragraph'>, <RegionType.PHYSICAL_STRUCTURE_DOC: 'physical_structure_doc'>, <RegionType.TEXT_REGION: 'text_region'>, <RegionType.PAGEXML_DOC: 'pagexml_doc'>)\n",
      "IN\tEND\t\"('geladen acht en twintich', 'duysent sacken peper: Acht', 'Hondert Sockels Folie', \"\"Twee hondert t'achtich\"\", 'duysent ponden Nots', 'Moschaten.', 'int wapen en beijden sijn')\"\t[0.023981522768735886, 0.9653918147087097, 0.010624125599861145, 2.5791669031605124e-06]\t(<RegionType.MARGINALIA: 'marginalia'>, <RegionType.PHYSICAL_STRUCTURE_DOC: 'physical_structure_doc'>, <RegionType.TEXT_REGION: 'text_region'>, <RegionType.PAGEXML_DOC: 'pagexml_doc'>)\n",
      "BEGIN\tIN\t('Brieven uijt het vaderlt', 'ontfangen')\t[0.5622158050537109, 0.4376796782016754, 0.00010362881585024297, 9.64256287261378e-07]\t(<RegionType.MARGINALIA: 'marginalia'>, <RegionType.PHYSICAL_STRUCTURE_DOC: 'physical_structure_doc'>, <RegionType.TEXT_REGION: 'text_region'>, <RegionType.PAGEXML_DOC: 'pagexml_doc'>)\n",
      "BEGIN\tIN\t('Groote macht der', 'Bhriesz ontrent')\t[0.5257779955863953, 0.4741355776786804, 7.219885901577072e-06, 7.925210957182571e-05]\t(<RegionType.MARGINALIA: 'marginalia'>, <RegionType.PHYSICAL_STRUCTURE_DOC: 'physical_structure_doc'>, <RegionType.TEXT_REGION: 'text_region'>, <RegionType.PAGEXML_DOC: 'pagexml_doc'>)\n",
      "BEGIN\tIN\t('onsumtie Reeckeninge',)\t[0.9945744872093201, 0.005108719225972891, 0.00030839358805678785, 8.482493285555393e-06]\t(<RegionType.PHYSICAL_STRUCTURE_DOC: 'physical_structure_doc'>, <RegionType.TEXT_REGION: 'text_region'>, <RegionType.PAGEXML_DOC: 'pagexml_doc'>)\n",
      "BEGIN\tIN\t\"(\"\"2:' april Iongstleden uijt voorm: baij\"\", 'na het vaderland onder zeijl gegaan,', 'het welcke alhier benevens het depart', 'der 4. naschepen vandaar seer veel', 'gerustheijd heefd konnen verwecken', 'onderhope van een verder goed gevolg,', 'hoopt op de 38. en soo ook den aanleg van 38. schepen', 'voor dese gewesten beraamd bij meer„', '„gem: uw Ed: hoog agtbare missive van', 'den 23:e september, waarvan men', \"\"egter, als ook uijt die van den 21:' Iulij\"\", 'altans genoodsaekt zal wesen, sommige', 'poincten aanteroeren, alschoon dit', 'brieffken andersints alleen ten princi„', '„palen ook maar dienen zoude konnen', 'of mogen ten geleijde van 5. schepen med')\"\t[0.5635889768600464, 0.43141070008277893, 0.004995883442461491, 4.435823484527646e-06]\t(<RegionType.PARAGRAPH: 'paragraph'>, <RegionType.PHYSICAL_STRUCTURE_DOC: 'physical_structure_doc'>, <RegionType.TEXT_REGION: 'text_region'>, <RegionType.PAGEXML_DOC: 'pagexml_doc'>)\n",
      "END\tIN\t('olije van Aerde', 'rottingen', '102 gecontijte Mangus', 'Airobolanen', 'Caneel', 'Cassa lingua', 'Generaelen Eijsch,', 'niets te senden buijten den Eijsch', 'loot, bier', 'vleeijs en speck', 'Smecolen', 'leggers in schooven', 'anckers ende Touwen', 'Canetas', 'Noordse deelen', 'ongesaechde wagen schotten', 'Rondhout', 'homt tot boots ende schuijten', 'Timmerluijden', '103 pampier', 'Inckt stoff', 'medicamenten', 'verdubbelinge der scheepen eens', 'soo dicht, te spijckeren', 'Enchuijs en verdubbelt de scheeps', 'boegen qualijck', 'Gecochte scheepen vallen slecht', 'beschuijt', '4 Tarwen broot op Batavia', 'pruijmen', 'Gardenijs, pampieren', 'Crappes huijs op batavia', 'ie beroup vande heere van diemen', 'Emploij van vander Burch', 'Evert hulst', 'Jan van Broeckom', 'de punct saphier', 'Cost 2200 Realen', 'Tee')\t[0.09732291102409363, 0.09980907291173935, 0.8028647303581238, 3.294093403383158e-06]\t(<RegionType.PARAGRAPH: 'paragraph'>, <RegionType.PHYSICAL_STRUCTURE_DOC: 'physical_structure_doc'>, <RegionType.TEXT_REGION: 'text_region'>, <RegionType.PAGEXML_DOC: 'pagexml_doc'>)\n",
      "BEGIN\tIN\t('door den Resident Toussam voor', 'ropias 500. .')\t[0.888460636138916, 0.11139944940805435, 0.00013701789430342615, 2.8481856588769006e-06]\t(<RegionType.PARAGRAPH: 'paragraph'>, <RegionType.PHYSICAL_STRUCTURE_DOC: 'physical_structure_doc'>, <RegionType.TEXT_REGION: 'text_region'>, <RegionType.PAGEXML_DOC: 'pagexml_doc'>)\n",
      "END\tIN\t('Hebben uwE: welEd: Hoog Agtb: genoegen', 'gelieven te betuigen over de quantiteit peper', 'in A=o 1774. van')\t[0.473553866147995, 0.014348791912198067, 0.5120658278465271, 3.149443000438623e-05]\t(<RegionType.PARAGRAPH: 'paragraph'>, <RegionType.PHYSICAL_STRUCTURE_DOC: 'physical_structure_doc'>, <RegionType.TEXT_REGION: 'text_region'>, <RegionType.PAGEXML_DOC: 'pagexml_doc'>)\n",
      "BEGIN\tIN\t('water fiscaal we„', 'gens de uytkomende', 'scheepen verselt desen')\t[0.9147120118141174, 0.08513402193784714, 0.00015048721979837865, 3.5031359857384814e-06]\t(<RegionType.MARGINALIA: 'marginalia'>, <RegionType.PHYSICAL_STRUCTURE_DOC: 'physical_structure_doc'>, <RegionType.TEXT_REGION: 'text_region'>, <RegionType.PAGEXML_DOC: 'pagexml_doc'>)\n",
      "END\tIN\t\"('ter laaten als zijn E met advijs van Raade', 'zal noodigh oordeelen gelijck in oorloghs', 'bestier ten allerhooghstten vereijscht soo men', \"\"wat goets zal uijtwercken. zijnde d'intentie\"\", 'geheel naaden Mattaram op te trecken', 'om den Jongen vorst, op zijn voorouderen throo', 'te stellen, en dan voort Troenajaja Cadjoram', 'ende andere Rebellige vijanden te', 'vervolgen, waar op wij den zeegen van', 'Godt moeten verwaghten ende alsoo een', 'cort eijnde te becomen, ende u Ed=e staat', 'van die swaare lasten naar ons uijtterste', 'Opgen', 'vermoogen te verlossen. —', 'heer ordinaris Raat en admiraal Gurt', 'is den 26=e passado vertrocken met de', 'scheepen silversteijn en tfluijtie Marcken', 'zijnde het Gros der Inlanderen en', 'Neederlandsche Melitie, voor aff met', 'haar eijgen cleijn vaartuijgen den 23=en onder', 'tgeleijde vande Jaghten Samson, voorhou', 'tfluijtien de swaan ende de Chialoup Negt', 'Reysgevordert', 'Om dit we', 'te faciliteeren, heeft opgemelte heer Gur', 'op zijn E teerugh reijse uijt amboina met')\"\t[0.07258953899145126, 0.2542947232723236, 0.6730901002883911, 2.5675011784187518e-05]\t(<RegionType.PARAGRAPH: 'paragraph'>, <RegionType.PHYSICAL_STRUCTURE_DOC: 'physical_structure_doc'>, <RegionType.TEXT_REGION: 'text_region'>, <RegionType.PAGEXML_DOC: 'pagexml_doc'>)\n",
      "END\tIN\t('74086½', 'P=r Transport Rx=ds', 'S')\t[0.2960502505302429, 0.024686824530363083, 0.6775233745574951, 0.0017395465401932597]\t(<RegionType.PHYSICAL_STRUCTURE_DOC: 'physical_structure_doc'>, <RegionType.TEXT_REGION: 'text_region'>, <RegionType.PAGEXML_DOC: 'pagexml_doc'>, <RegionType.HEADER: 'header'>)\n",
      "BEGIN\tIN\t\"('nae 25 Jaeren uijtblivens vertrect met', 'dese vloot als Commandeur over deselver', \"\"d' Hr. arnold de Vlamingh van Outshoorn\"\", 'aengaende de h:r. Raed Ordinaris van India, een Persoon', 'wiens meriten ende voortreffelk: diensten', 'soo voor desen inde Oostersz Provintien', 'ende elders, als nu soo veele Jaeren', 'hier ter plaets omtrent het generale', 'werck aende Compe: gepresteert vEd.', 'uijt de successive brieven ende', 'papieren te wel bekent zyn, dan dat')\"\t[0.9532406330108643, 0.021736880764365196, 0.025017565116286278, 4.9499958549859e-06]\t(<RegionType.PARAGRAPH: 'paragraph'>, <RegionType.PHYSICAL_STRUCTURE_DOC: 'physical_structure_doc'>, <RegionType.TEXT_REGION: 'text_region'>, <RegionType.PAGEXML_DOC: 'pagexml_doc'>)\n",
      "BEGIN\tIN\t\"(\"\"den 25 Novemb 1682 pr 'tschip de Veluwe over Cor„\"\", '„mandel een brief met eenige bijlagen door', 'den heer gouverneur pijll en Raad uijt', 'Colombo dato 25 augustij', 'ende nu voords in het voorgangen Jaars 1682', \"\"den 31 Januarij p. r 't schip de gekroonde Vreede een\"\", 'missive van den gouverneur pijll en Raad tot', 'Colombo gedagtekent 1b:n met een nader', 'advijs van den nieuwen Commandr Salamon', 'Lestage en Rand tot gale van 20 xb:', '1681; onder andere documenten ook verselt', 'niet een nader briefje door den heer pijll', 'den 28 Novembr te voren aan Ragia Singa', 'laten opgaan; ten principalen tot commu„', '„nicatie vande successie vanden Generael', 'Selman met de verlossinge van den', 'Generael van Goens in het Generale', 'Gouvernement van Jndia, en dan meede')\"\t[0.865500807762146, 0.12777982652187347, 0.006711174268275499, 8.136920769175049e-06]\t(<RegionType.PARAGRAPH: 'paragraph'>, <RegionType.PHYSICAL_STRUCTURE_DOC: 'physical_structure_doc'>, <RegionType.TEXT_REGION: 'text_region'>, <RegionType.PAGEXML_DOC: 'pagexml_doc'>)\n",
      "END\tIN\t('geadsisteert met Contan„',)\t[0.0003571509150788188, 0.03864746540784836, 0.9609848856925964, 1.046717898134375e-05]\t(<RegionType.MARGINALIA: 'marginalia'>, <RegionType.PHYSICAL_STRUCTURE_DOC: 'physical_structure_doc'>, <RegionType.TEXT_REGION: 'text_region'>, <RegionType.PAGEXML_DOC: 'pagexml_doc'>)\n",
      "BEGIN\tIN\t('clachte der —', 'portúgesen.')\t[0.9175044298171997, 0.08248268812894821, 1.2814284673368093e-05, 6.363799087694133e-08]\t(<RegionType.MARGINALIA: 'marginalia'>, <RegionType.PHYSICAL_STRUCTURE_DOC: 'physical_structure_doc'>, <RegionType.TEXT_REGION: 'text_region'>, <RegionType.PAGEXML_DOC: 'pagexml_doc'>)\n",
      "BEGIN\tIN\t('§ 228: Jnsgelijks verzoeken wij, in antwoord op de door uwelEd:', 'Hoog Achtb: bij § 393. gemaekte remarque, met opzecht', 'tot het hoog beloop der Lasten van dit Commandiment,', 'ons te mogen gedragen aan ons generael verslag van 1790.', '§ 32 waar uit uwelEd: Hoog Achtb: zal blijken, welke', 'remarques en schitking wij tot derzelver reductie gemaekt', 'hebben — ter wijl uwel Edele Hoog Achtb: verder uit', 'het genoteerde ter onzer resolutie van den zal blijken', 'dat wij, dewijl de geduurige vermaaningen vrugteloos', 'zijn bevonden, eindelijk dadelijk tot middelen van', 'meerder klem hebben moeten overgaen, door opgelegde')\t[0.5998963713645935, 0.2967750132083893, 0.10329345613718033, 3.508607187541202e-05]\t(<RegionType.PARAGRAPH: 'paragraph'>, <RegionType.PHYSICAL_STRUCTURE_DOC: 'physical_structure_doc'>, <RegionType.TEXT_REGION: 'text_region'>, <RegionType.PAGEXML_DOC: 'pagexml_doc'>)\n",
      "BEGIN\tIN\t\"('binden, wegens de groote risioo die de scheepen an„', '„ders lopen, en zulke irreguliere behandelingen in', \"\"'t vervolg sorgvuldig verwijden.\"\", 'Jntruschen hebben wij voor de Besending in dit', 'het schip Vlissingen voor de Prasidiale Kamer Zee„', 'E„land Osdorp, en de Oranjezaal voor amsterdam', 'en Bleijrwijk voor Delft. en so direct als over', 'Chormandel, successive derwes. versonden, de Schepen', 'de Zeelelij en Lekkerland, om nevens het Patriase', \"\"schip 't Huijs te manpad te dienen tot overbreng van\"\", 'de voor Jndia gevorderde Goederen, daar onder', '1200 kisten amphioen, van welk een en ander de', 'Complete voldoening de ministers so wel is anbevolen', 'als om de Lijwaten etca. voor Cabo de Goede Hoop, in', 'den Eijsch van de Combdirect steede van over deese hoofdplaats voortaan direct')\"\t[0.9950491786003113, 0.004933374468237162, 1.7133252185885794e-05, 3.478453152183647e-07]\t(<RegionType.PARAGRAPH: 'paragraph'>, <RegionType.PHYSICAL_STRUCTURE_DOC: 'physical_structure_doc'>, <RegionType.TEXT_REGION: 'text_region'>, <RegionType.PAGEXML_DOC: 'pagexml_doc'>)\n",
      "BEGIN\tIN\t('P=r Transpoort. . ..',)\t[0.9752980470657349, 0.024474337697029114, 0.00021362947882153094, 1.4042969269212335e-05]\t(<RegionType.PHYSICAL_STRUCTURE_DOC: 'physical_structure_doc'>, <RegionType.TEXT_REGION: 'text_region'>, <RegionType.PAGEXML_DOC: 'pagexml_doc'>, <RegionType.HEADER: 'header'>)\n",
      "END\tEND\t('J Heedens', 'Coijett', 'W: Ca')\t[0.0013940547360107303, 0.00012792905909009278, 0.9984766840934753, 1.3533847322833026e-06]\t(<RegionType.PHYSICAL_STRUCTURE_DOC: 'physical_structure_doc'>, <RegionType.TEXT_REGION: 'text_region'>, <RegionType.PAGEXML_DOC: 'pagexml_doc'>, <RegionType.SIGNATURE_MARK: 'signature-mark'>)\n"
     ]
    },
    {
     "name": "stderr",
     "output_type": "stream",
     "text": [
      "  0%|          | 2/453.46875 [00:03<11:26,  1.52s/batch]"
     ]
    },
    {
     "name": "stdout",
     "output_type": "stream",
     "text": [
      "END\tIN\t\"('Batavia 3„en 6„en 10„en en 24„en october', 'bij onsen brieff van den 13 Ianuarij', 'deses Jaers hebben wij VEd hoog agtb', 'bekent gemaekt ons gevoelen over', 'de groote oegsten ende het bederff', 'der Nagulen, Noten, en foelij', 'mitsgaders dat wij genoodsaekt', 'zoude sijn retreeden tot vernie„', 'tiging van de bedorvenagulen', 'op VEd: hoog agtb: vorige ordres', 'waer op dan ook bij onse recolutien', 'van den 28:en feb:, 4„en april passado', 'hebben geresolveert 611049 lb: op', 'de vorige wijse te vernietigen, gelyk', 'bij ons besluijt van den 2„en maij', \"\"daer aen g'insereert staat de\"\")\"\t[0.09277204424142838, 0.013756833970546722, 0.893462598323822, 8.451814210275188e-06]\t(<RegionType.PARAGRAPH: 'paragraph'>, <RegionType.PHYSICAL_STRUCTURE_DOC: 'physical_structure_doc'>, <RegionType.TEXT_REGION: 'text_region'>, <RegionType.PAGEXML_DOC: 'pagexml_doc'>)\n",
      "BEGIN\tIN\t('item dat nogh 9 schepen in', 'weijnigh maenden stonden', 'te volgen')\t[0.9162551164627075, 0.08361770957708359, 0.0001264625898329541, 6.684790605504531e-07]\t(<RegionType.MARGINALIA: 'marginalia'>, <RegionType.PHYSICAL_STRUCTURE_DOC: 'physical_structure_doc'>, <RegionType.TEXT_REGION: 'text_region'>, <RegionType.PAGEXML_DOC: 'pagexml_doc'>)\n",
      "BEGIN\tIN\t('deo oerdatedigeden s:',)\t[0.9964727759361267, 0.003503906074911356, 2.2576437913812697e-05, 7.417177698698652e-07]\t(<RegionType.MARGINALIA: 'marginalia'>, <RegionType.PHYSICAL_STRUCTURE_DOC: 'physical_structure_doc'>, <RegionType.TEXT_REGION: 'text_region'>, <RegionType.PAGEXML_DOC: 'pagexml_doc'>)\n",
      "BEGIN\tIN\t('sijn oneijgentlijck met', 'eenige ongelden beswaert')\t[0.9936175346374512, 0.0013629853492602706, 0.005019054282456636, 4.807027949027542e-07]\t(<RegionType.MARGINALIA: 'marginalia'>, <RegionType.PHYSICAL_STRUCTURE_DOC: 'physical_structure_doc'>, <RegionType.TEXT_REGION: 'text_region'>, <RegionType.PAGEXML_DOC: 'pagexml_doc'>)\n",
      "END\tIN\t('landbouw omtrent', 'Batavia')\t[0.02360992506146431, 0.2258535623550415, 0.7503584027290344, 0.00017809531709644943]\t(<RegionType.MARGINALIA: 'marginalia'>, <RegionType.PHYSICAL_STRUCTURE_DOC: 'physical_structure_doc'>, <RegionType.TEXT_REGION: 'text_region'>, <RegionType.PAGEXML_DOC: 'pagexml_doc'>)\n",
      "END\tIN\t\"('werden ingehouden, En niet voldaen, ten minsten', 'tot soolange, wij uEd=le met onse nader advijsen', 'per de laeste schepen, dienaangaande naderkennisse', 'quamen te geven, en dewijle bovende voorsz: bedenck„', '„gen de vulgaire geruchten, ons noghal meer inditi', 'ten naedeele vandenselven hebben gesuppediteert', 'daar den fiscael van India nootsaeckelijck sigh op sal', 'dienen te informeren; soo is na deliberatie in Raade', 'bij overdraght van stemmen, verstaen, en gearresteert,', 'den admirael der Retouwloot Sijbrand Abbema,', 'Raadt Extraordinaris van Jndia, ende den Raadt', \"\"aante schrijven, Ende te ordonneren t'sijnner verschij„\"\", '„ninge met de sloote aende Caep den voorsz: dirck de', 'jongh aldaar met sijnen omslagh aen landt tesetten', 'en te laten verblijven, tot tijt Enwijle wij mee de gem', 'laaste schepen, ten Reguarde van sijn persoon, nader', \"\"sonden disponeren, 'tzij dat wij hem weder herwaerts\"\", 'quamen te ontbieden, off wel te licentieren zijn', 'Reijse naar het vaderlandt te mogen voltrecken', 'En alsoo wij medeberight zijn gewerden, dat boven', 'de voorsz: twee wissels voor zijne Reeckeningh', 'nogh waren getelt thien duijsent vijfftigh', 'Rijcxdaalders als te weten', '4050: rd=s door den Notaris Jan Mauus om tot')\"\t[0.19152607023715973, 0.22218424081802368, 0.5862299799919128, 5.97384714637883e-05]\t(<RegionType.PARAGRAPH: 'paragraph'>, <RegionType.PHYSICAL_STRUCTURE_DOC: 'physical_structure_doc'>, <RegionType.TEXT_REGION: 'text_region'>, <RegionType.PAGEXML_DOC: 'pagexml_doc'>)\n",
      "END\tIN\t('ano e „ Deve koning van Siam jongst maijaar ge',)\t[0.4336008131504059, 9.626533574191853e-05, 0.566302478313446, 3.867592113238061e-07]\t(<RegionType.PHYSICAL_STRUCTURE_DOC: 'physical_structure_doc'>, <RegionType.TEXT_REGION: 'text_region'>, <RegionType.PAGEXML_DOC: 'pagexml_doc'>, <RegionType.HEADER: 'header'>)\n",
      "IN\tBEGIN\t\"('N: Enchuijsen. voorde Camer', 'Enchuijsen, met een C', 'gatoen van. . . . . . f 325340„ 8„ 4.', \"\"Ende t' schip s' Hertogenbos, over Ceijlon, wiens ladingh.\"\", 'voor reecke. vande Camer. delff, cost. . . . . . . f 417393//14/-', 'Somma monteert de generale Carga deser vijff Schepen. gul. 1689796„ 13„6.', 'Bestaende uijt diversche Coopmanschappen, als p. r nevengesonder', \"\"facture, Cognoisement, ende t' Sommarium in onse\"\", \"\"Jonghste Missive g'Insereert\"\")\"\t[0.00011376610200386494, 0.9930346012115479, 0.006851525511592627, 7.079378150365301e-08]\t(<RegionType.PARAGRAPH: 'paragraph'>, <RegionType.PHYSICAL_STRUCTURE_DOC: 'physical_structure_doc'>, <RegionType.TEXT_REGION: 'text_region'>, <RegionType.PAGEXML_DOC: 'pagexml_doc'>)\n",
      "BEGIN\tIN\t\"('Verrigtingen van den jare 1743 om verder ons bijveren na mate van vermogen de belangen van de Comp: voor', 'tehouden van onsen goeden wille; maar den Gouverneur Generaal moet zijne uijterste verlegenth', 'en onbequaamheijt betuijgen om uw Edele Hoe agtb: na mate van desselfs gehoudenisse te bedanken', 'de zijn verdiensten en verwagtinge, en voor de favr able opinie die uw Edele Hoog Agtb: van zijn bestier', 'hebben op gevat voor het vervolg dewelke den Hemel gbeden zij ten beste te laten uijtvallen.', \"\"De b'antwoordinge der voorsz: missive, als niet presseerende, sullen wij met believen van uw Edele\"\", 'Hoog agtb: uijt stellen tot op de ordinaire tijdt der beschrijvinge van de Comptoiren van Jndien on„', 'der ult:o december aanstaande, bedankende uw Edele Hoog agtb: voor af voor de beloofde assistentie', 'met twee en dertig scheepen en de Compleete voldoeninge de gevorderde 25. tonnen aan Contanten, welke', 'laatst wij so wel als de vereveninge der agterstallen op de vorige beloofde voldoeningen onser geld', 'Eijschen thans hooglijk nodig hebben en Eerbiedig versoeken dat ten spoedigsten geschieden mag, aange„', '„sien Bengale alleen dit Jaar eene breche van vier en veertig ton aan Contanten heeft gemaakt in onse', 'solang bezuijnigde restanten, die wij vreesen dat nauwlijks so verre terepareeren sal sijn uijt de nog', 'te wagtene Contanten uijt Nederland en van den Indiasen handel, om het gaande te kunnen hou„', \"\"„den tot op den ontfangst van het thans g'eijschte ontset van veertig tonnen, het welke wij hopen dat\"\", 'ons spoedig en Compleet sal mogen toekomen om den opluijkender handel van de Comp: Levendig te', 'houden, voor al so Bengale op den duur blijfft verslinden so veel zilver als tot hier toe is geschiet', \"\"en men aldaar in't vervolg niet nog wat fondsen fourneeren kan uijt den vertier van koopmanschappen,\"\", 'dewelke thans ook na ons begrip merkelijk moet verbeteren.', 'Voor het overige is onsen nevens gevoegden Eijsch van koopmanschappen so veel bezuijnigt alsimmers', 'doenlijk is geweest; maar dat die, niet temin, so wel als de vorige, een groot getal scheepen sal vereijschen,', \"\"verwondert ons niet seer, dewijl Jndien 'tsedert eenige Iaren wel een geheele Equipagie van dertig\"\", 'scheepen en meer is ten agteren geraakt, door voorgaande in compleete voldoeninge ongesuppleerde', 'verongelukkingen en de so finaal geconsumeerde restanten hier ter plaatse, so wel door de quade', 'gevolgen van den Iare 1740, als de voorgaande behandelinge der saken, dat alles wat uw Edele', 'Hoog Agtb: thans uijtsenden so gauw niet ontfangen kan werden, of men heeft het al bevorens', 'benodigt gehad en daar op gewagt, so dat het altoos even bekrompen blijft en men so verre niet', 'in voorraad komen kan om uw Edele Hoog Agtb:, door verminderinge, der Eijschen van', 'veele volumineuse benodigtheeden wat te verligten, sonder nog meerder verlegentheijt subject', 'teraken als de geene, waar inne wij nu bij Continuatie drie Jaren na den anderen hebben geverseert,', '„waar uijt wij hopen eenmaal gered te sullen werden, op dat de diensten van de Comp:, reeds so', 'Lastig als ombragieus aan dese hoofd plaatse, niet geheel ondragelijk werden gemaakt, door ontstente„', '„nisse der allernodigste hulpmiddelen, waar onder ook thans moet begrepen werden ons gebrek', 'van masthouten waar van het restant almede ten eijnde Loopt, item bij Continuatie nog Ide', 'ƒn. a', '2', 'e e die goederen in soot, wantheeser men ock kom te besigtigen dendetobe vertrekingen', 'mien h als de merkelijk verminderde rekening van Equipagie van scheepen onder de Bataviase Cust,', 'Joosten disent aanwijs, b sampren dog als min het omermijdelijke retamoheeren, sonder de Comp: prejuditi', 'eseb ven als tgen de Eegels e vorgtight hier met ege athujsen lijven seten net geron', 'te staan en wij versoeken seer Eerbiedig dat u Edele Hoog Agtb: sig daar omtrent gepersuadeert gelieven', '„ voor so veele gratieuse uijtdruckingen als daar ine ten zijnen opsigte gevonden werden verre te bovengaan')\"\t[0.8962509036064148, 0.004779940005391836, 0.09895683079957962, 1.2341211913735606e-05]\t(<RegionType.PARAGRAPH: 'paragraph'>, <RegionType.PHYSICAL_STRUCTURE_DOC: 'physical_structure_doc'>, <RegionType.TEXT_REGION: 'text_region'>, <RegionType.PAGEXML_DOC: 'pagexml_doc'>)\n",
      "BEGIN\tIN\t\"(\"\"Den g'Eligeerd gouverneur\"\",)\"\t[0.9636366367340088, 0.005620128940790892, 0.030673814937472343, 6.953984120627865e-05]\t(<RegionType.PARAGRAPH: 'paragraph'>, <RegionType.PHYSICAL_STRUCTURE_DOC: 'physical_structure_doc'>, <RegionType.TEXT_REGION: 'text_region'>, <RegionType.PAGEXML_DOC: 'pagexml_doc'>)\n",
      "END\tIN\t('Batavia', 'Ro 34898. ¼ Pr transport')\t[0.46639397740364075, 0.015775049105286598, 0.5176360607147217, 0.00019493521540425718]\t(<RegionType.PHYSICAL_STRUCTURE_DOC: 'physical_structure_doc'>, <RegionType.TEXT_REGION: 'text_region'>, <RegionType.PAGEXML_DOC: 'pagexml_doc'>, <RegionType.HEADER: 'header'>)\n",
      "BEGIN\tIN\t('Goede roope voor het vervolg.',)\t[0.9999880790710449, 9.244209650205448e-06, 2.498998128430685e-06, 2.2523823872688808e-07]\t(<RegionType.MARGINALIA: 'marginalia'>, <RegionType.PHYSICAL_STRUCTURE_DOC: 'physical_structure_doc'>, <RegionType.TEXT_REGION: 'text_region'>, <RegionType.PAGEXML_DOC: 'pagexml_doc'>)\n",
      "BEGIN\tIN\t('rd:s 93171 —. P:r Transport met',)\t[0.9997678399085999, 2.87514048977755e-05, 0.0002005534915952012, 2.781301191134844e-06]\t(<RegionType.PHYSICAL_STRUCTURE_DOC: 'physical_structure_doc'>, <RegionType.TEXT_REGION: 'text_region'>, <RegionType.PAGEXML_DOC: 'pagexml_doc'>, <RegionType.HEADER: 'header'>)\n",
      "BEGIN\tIN\t('ij t Jnges adi busten pepton', 'rederiene')\t[0.47232508659362793, 0.3772468566894531, 0.1504196971654892, 8.39918266137829e-06]\t(<RegionType.MARGINALIA: 'marginalia'>, <RegionType.PHYSICAL_STRUCTURE_DOC: 'physical_structure_doc'>, <RegionType.TEXT_REGION: 'text_region'>, <RegionType.PAGEXML_DOC: 'pagexml_doc'>)\n",
      "END\tIN\t('Lading bekoomen uijt siain op', 'batavia.')\t[0.20014688372612, 0.15634633600711823, 0.6434592008590698, 4.7564484702888876e-05]\t(<RegionType.MARGINALIA: 'marginalia'>, <RegionType.PHYSICAL_STRUCTURE_DOC: 'physical_structure_doc'>, <RegionType.TEXT_REGION: 'text_region'>, <RegionType.PAGEXML_DOC: 'pagexml_doc'>)\n",
      "BEGIN\tIN\t('de volgendeer', '5 Poincten lee„')\t[0.9897421598434448, 0.010256610810756683, 1.3280117627800792e-06, 7.719505035197471e-09]\t(<RegionType.MARGINALIA: 'marginalia'>, <RegionType.PHYSICAL_STRUCTURE_DOC: 'physical_structure_doc'>, <RegionType.TEXT_REGION: 'text_region'>, <RegionType.PAGEXML_DOC: 'pagexml_doc'>)\n",
      "BEGIN\tIN\t('vertrek van Pattena', 'n malanga.', 'Crala')\t[0.9664056897163391, 0.03359099105000496, 6.304907174126129e-07, 2.731324684646097e-06]\t(<RegionType.MARGINALIA: 'marginalia'>, <RegionType.PHYSICAL_STRUCTURE_DOC: 'physical_structure_doc'>, <RegionType.TEXT_REGION: 'text_region'>, <RegionType.PAGEXML_DOC: 'pagexml_doc'>)\n",
      "BEGIN\tIN\t('ter dier stede in gesamelt',)\t[0.7920644283294678, 0.20723405480384827, 0.0006971618277020752, 4.316367721912684e-06]\t(<RegionType.MARGINALIA: 'marginalia'>, <RegionType.PHYSICAL_STRUCTURE_DOC: 'physical_structure_doc'>, <RegionType.TEXT_REGION: 'text_region'>, <RegionType.PAGEXML_DOC: 'pagexml_doc'>)\n",
      "BEGIN\tIN\t('Dan, wat aangaet de zo breed intgemeetene', '137.', 'slegte gesteldheid der in 1787. naar bengale gezon„', '„dene Noten, verzoeken wij zeer eerbiedig, uit de be„', '„richten der administrateurs vande westzijdsche')\t[0.7996441125869751, 0.19932495057582855, 0.0010280804708600044, 2.9104703571647406e-06]\t(<RegionType.PARAGRAPH: 'paragraph'>, <RegionType.PHYSICAL_STRUCTURE_DOC: 'physical_structure_doc'>, <RegionType.TEXT_REGION: 'text_region'>, <RegionType.PAGEXML_DOC: 'pagexml_doc'>)\n",
      "END\tIN\t('587533. 15. 9.', 'ƒ920969: 10: 10.')\t[0.002049862639978528, 0.0705483928322792, 0.9273973703384399, 4.289034222892951e-06]\t(<RegionType.PARAGRAPH: 'paragraph'>, <RegionType.PHYSICAL_STRUCTURE_DOC: 'physical_structure_doc'>, <RegionType.TEXT_REGION: 'text_region'>, <RegionType.PAGEXML_DOC: 'pagexml_doc'>)\n",
      "BEGIN\tIN\t('binnen moeder van', 'het weeshuis B: E: Hb:', 'vanlingen')\t[0.5898429751396179, 0.35797250270843506, 0.0521603487432003, 2.41021753026871e-05]\t(<RegionType.MARGINALIA: 'marginalia'>, <RegionType.PHYSICAL_STRUCTURE_DOC: 'physical_structure_doc'>, <RegionType.TEXT_REGION: 'text_region'>, <RegionType.PAGEXML_DOC: 'pagexml_doc'>)\n",
      "BEGIN\tIN\t('de schenkagie', 'gepasseerd.')\t[0.6034432053565979, 0.39655601978302, 6.31944089946046e-07, 1.2458441744911397e-07]\t(<RegionType.MARGINALIA: 'marginalia'>, <RegionType.PHYSICAL_STRUCTURE_DOC: 'physical_structure_doc'>, <RegionType.TEXT_REGION: 'text_region'>, <RegionType.PAGEXML_DOC: 'pagexml_doc'>)\n",
      "END\tIN\t\"('Macassir. uijt Javanen, baliers en maleijers bestaan', 'En die wij hebben doen overhaalen met', \"\"'tschip 'twapen van a middelburgh\"\", 'nevens voorsz: sieck Ioleff met sijne', 'vrouwen en kinderen, die wij tot laste', 'vande Comp=e sullen moeten bewaren, en', 'de solt geven, sonder Haar. Egter quaad', 'Tractement aan te doen, in nacominge van', 'onse belofte, en tot overtuijginge van alle', 'uEd=le vijanden, op dat nae soo veel bloet', 'stortens, sij mogen sien dat onse wapenen', 'sijn gevoert tot voorstand van onse geregtige', 'saack, En dat wij door godes zegen alle', 'Haare boose toeleggingen te boven gecomen', 'sijnde, de quaadste Instrumenten daar van', 'niet postponeren van onse gewone Clementie,', 'bijsonder dat het haar blijcke, dat wij sijn', 'liefkebbers en naecomens van soodanige belofte', 'als wij successive hebben gedaan, maar', 'dan moet ons egter niet benemen de songe', 'om sulcke uijtnemende persoonen, die gnooten', 'aankang tonnen maacken, songvuldigh te')\"\t[0.011706402525305748, 0.3768085539340973, 0.6114566326141357, 2.844336995622143e-05]\t(<RegionType.PARAGRAPH: 'paragraph'>, <RegionType.PHYSICAL_STRUCTURE_DOC: 'physical_structure_doc'>, <RegionType.TEXT_REGION: 'text_region'>, <RegionType.PAGEXML_DOC: 'pagexml_doc'>)\n",
      "END\tIN\t('n verkogte voor reeke„', 'of acceptant')\t[0.0026855594478547573, 0.45017367601394653, 0.5471333861351013, 7.3587170845712535e-06]\t(<RegionType.MARGINALIA: 'marginalia'>, <RegionType.PHYSICAL_STRUCTURE_DOC: 'physical_structure_doc'>, <RegionType.TEXT_REGION: 'text_region'>, <RegionType.PAGEXML_DOC: 'pagexml_doc'>)\n",
      "BEGIN\tIN\t('vlieland uijt bassora', 'noch achter.')\t[0.9602887630462646, 0.03808131068944931, 0.0016270444029942155, 2.961617155960994e-06]\t(<RegionType.MARGINALIA: 'marginalia'>, <RegionType.PHYSICAL_STRUCTURE_DOC: 'physical_structure_doc'>, <RegionType.TEXT_REGION: 'text_region'>, <RegionType.PAGEXML_DOC: 'pagexml_doc'>)\n",
      "BEGIN\tIN\t\"('de uijtsetting', \"\"van 't Zeehoofd\"\")\"\t[0.964753270149231, 0.031825773417949677, 0.003418160369619727, 2.74272224487504e-06]\t(<RegionType.MARGINALIA: 'marginalia'>, <RegionType.PHYSICAL_STRUCTURE_DOC: 'physical_structure_doc'>, <RegionType.TEXT_REGION: 'text_region'>, <RegionType.PAGEXML_DOC: 'pagexml_doc'>)\n",
      "END\tIN\t('aankomst van den Eugelsman delson', 'op malacca')\t[0.08814458549022675, 0.16259534657001495, 0.749205470085144, 5.457892984850332e-05]\t(<RegionType.MARGINALIA: 'marginalia'>, <RegionType.PHYSICAL_STRUCTURE_DOC: 'physical_structure_doc'>, <RegionType.TEXT_REGION: 'text_region'>, <RegionType.PAGEXML_DOC: 'pagexml_doc'>)\n",
      "END\tIN\t('t salmen continueren',)\t[3.294763882877305e-05, 0.26544469594955444, 0.7344750165939331, 4.7335772251244634e-05]\t(<RegionType.MARGINALIA: 'marginalia'>, <RegionType.PHYSICAL_STRUCTURE_DOC: 'physical_structure_doc'>, <RegionType.TEXT_REGION: 'text_region'>, <RegionType.PAGEXML_DOC: 'pagexml_doc'>)\n",
      "BEGIN\tIN\t\"(\"\"d' E Hr Outhoorn\"\", 'opgedragen')\"\t[0.840980052947998, 0.012427224777638912, 0.14658112823963165, 1.1519891813804861e-05]\t(<RegionType.MARGINALIA: 'marginalia'>, <RegionType.PHYSICAL_STRUCTURE_DOC: 'physical_structure_doc'>, <RegionType.TEXT_REGION: 'text_region'>, <RegionType.PAGEXML_DOC: 'pagexml_doc'>)\n",
      "BEGIN\tIN\t('Java s Noord- oostcust',)\t[0.9805891513824463, 0.00012184811203042045, 0.01924183778464794, 4.721647565020248e-05]\t(<RegionType.MARGINALIA: 'marginalia'>, <RegionType.PHYSICAL_STRUCTURE_DOC: 'physical_structure_doc'>, <RegionType.TEXT_REGION: 'text_region'>, <RegionType.PAGEXML_DOC: 'pagexml_doc'>)\n",
      "BEGIN\tIN\t('wakend oog moeten observeren, volgens onse', 'meermalen gedane recommandatien, bijsonder„', '„lijk bij onse derwaerts geschrevene brieven in de', 'jongst gepasseerde jaren 1694. en 1695')\t[0.7924453616142273, 0.20636498928070068, 0.001062764204107225, 0.00012686834088526666]\t(<RegionType.PARAGRAPH: 'paragraph'>, <RegionType.PHYSICAL_STRUCTURE_DOC: 'physical_structure_doc'>, <RegionType.TEXT_REGION: 'text_region'>, <RegionType.PAGEXML_DOC: 'pagexml_doc'>)\n",
      "END\tIN\t('vrerende Joncquen te werten.',)\t[3.814575029537082e-05, 0.06816738098859787, 0.9317941069602966, 3.664783321255527e-07]\t(<RegionType.MARGINALIA: 'marginalia'>, <RegionType.PHYSICAL_STRUCTURE_DOC: 'physical_structure_doc'>, <RegionType.TEXT_REGION: 'text_region'>, <RegionType.PAGEXML_DOC: 'pagexml_doc'>)\n",
      "END\tIN\t('misslach dat uy sulcx', 'hueft.')\t[1.776296630850993e-05, 0.23710185289382935, 0.7628739476203918, 6.479024705186021e-06]\t(<RegionType.MARGINALIA: 'marginalia'>, <RegionType.PHYSICAL_STRUCTURE_DOC: 'physical_structure_doc'>, <RegionType.TEXT_REGION: 'text_region'>, <RegionType.PAGEXML_DOC: 'pagexml_doc'>)\n",
      "BEGIN\tIN\t('tot de procure van den', 'amphioen goed')\t[0.6309525966644287, 0.3690353035926819, 1.1409279068175238e-05, 6.860618668724783e-07]\t(<RegionType.MARGINALIA: 'marginalia'>, <RegionType.PHYSICAL_STRUCTURE_DOC: 'physical_structure_doc'>, <RegionType.TEXT_REGION: 'text_region'>, <RegionType.PAGEXML_DOC: 'pagexml_doc'>)\n",
      "BEGIN\tIN\t('13. Copia van een nader Jnstructie voor', 'de opperhoovden vande', 'tans vertreckende seven', 'retour schepen van dato', 'deses.')\t[0.9280834794044495, 0.0718880221247673, 2.78460283880122e-05, 6.121533147052105e-07]\t(<RegionType.PARAGRAPH: 'paragraph'>, <RegionType.PHYSICAL_STRUCTURE_DOC: 'physical_structure_doc'>, <RegionType.TEXT_REGION: 'text_region'>, <RegionType.PAGEXML_DOC: 'pagexml_doc'>)\n"
     ]
    },
    {
     "name": "stderr",
     "output_type": "stream",
     "text": [
      "  1%|          | 3/453.46875 [00:04<11:02,  1.47s/batch]"
     ]
    },
    {
     "name": "stdout",
     "output_type": "stream",
     "text": [
      "BEGIN\tIN\t('zijnde te samen 12. schepen', 'voorde eerste besendinge', 'deses zaijsoens')\t[0.9968668818473816, 0.0031296685338020325, 3.3960714063141495e-06, 6.860248813467251e-09]\t(<RegionType.MARGINALIA: 'marginalia'>, <RegionType.PHYSICAL_STRUCTURE_DOC: 'physical_structure_doc'>, <RegionType.TEXT_REGION: 'text_region'>, <RegionType.PAGEXML_DOC: 'pagexml_doc'>)\n",
      "END\tIN\t('o 1696 1697 8: 69 5 696. dit jaar',)\t[0.15360620617866516, 0.08114391565322876, 0.7651458978652954, 0.00010400544124422595]\t(<RegionType.PARAGRAPH: 'paragraph'>, <RegionType.PHYSICAL_STRUCTURE_DOC: 'physical_structure_doc'>, <RegionType.TEXT_REGION: 'text_region'>, <RegionType.PAGEXML_DOC: 'pagexml_doc'>)\n",
      "END\tIN\t('staats personen in', 'golconda.')\t[0.025345075875520706, 0.014373749494552612, 0.9595934748649597, 0.0006877743289805949]\t(<RegionType.MARGINALIA: 'marginalia'>, <RegionType.PHYSICAL_STRUCTURE_DOC: 'physical_structure_doc'>, <RegionType.TEXT_REGION: 'text_region'>, <RegionType.PAGEXML_DOC: 'pagexml_doc'>)\n",
      "END\tIN\t('tot voorkominge van soda„', 'nige Inconvenienten als waar„', '„ voortgevlaeijden')\t[0.0701557919383049, 0.3704519271850586, 0.5593361258506775, 5.613088796962984e-05]\t(<RegionType.MARGINALIA: 'marginalia'>, <RegionType.PHYSICAL_STRUCTURE_DOC: 'physical_structure_doc'>, <RegionType.TEXT_REGION: 'text_region'>, <RegionType.PAGEXML_DOC: 'pagexml_doc'>)\n",
      "BEGIN\tIN\t('het retour der schepen', 'gecommuniceert')\t[0.9915677905082703, 0.00843152403831482, 6.323238608274551e-07, 3.3017059308804164e-08]\t(<RegionType.MARGINALIA: 'marginalia'>, <RegionType.PHYSICAL_STRUCTURE_DOC: 'physical_structure_doc'>, <RegionType.TEXT_REGION: 'text_region'>, <RegionType.PAGEXML_DOC: 'pagexml_doc'>)\n",
      "END\tIN\t('scheffens uyt benale ge eijlen', 'en der selven negotie.')\t[0.005442059598863125, 0.02550123818218708, 0.9690521955490112, 4.499645456235157e-06]\t(<RegionType.MARGINALIA: 'marginalia'>, <RegionType.PHYSICAL_STRUCTURE_DOC: 'physical_structure_doc'>, <RegionType.TEXT_REGION: 'text_region'>, <RegionType.PAGEXML_DOC: 'pagexml_doc'>)\n",
      "BEGIN\tIN\t('Onder het hoofdeel van',)\t[0.8213067054748535, 0.17868903279304504, 3.5528335047274595e-06, 7.293546104847337e-07]\t(<RegionType.PARAGRAPH: 'paragraph'>, <RegionType.PHYSICAL_STRUCTURE_DOC: 'physical_structure_doc'>, <RegionType.TEXT_REGION: 'text_region'>, <RegionType.PAGEXML_DOC: 'pagexml_doc'>)\n",
      "BEGIN\tIN\t\"(\"\"Java's Oostcust sijns tad gepreaviseerd ar het\"\",)\"\t[0.906149685382843, 0.09342620521783829, 0.00041402378701604903, 1.007727041724138e-05]\t(<RegionType.PHYSICAL_STRUCTURE_DOC: 'physical_structure_doc'>, <RegionType.TEXT_REGION: 'text_region'>, <RegionType.PAGEXML_DOC: 'pagexml_doc'>, <RegionType.HEADER: 'header'>)\n",
      "BEGIN\tIN\t('de Groote Geld-kamer, als',)\t[0.5877085328102112, 0.005190313793718815, 0.4070679247379303, 3.325727811898105e-05]\t(<RegionType.PHYSICAL_STRUCTURE_DOC: 'physical_structure_doc'>, <RegionType.TEXT_REGION: 'text_region'>, <RegionType.PAGEXML_DOC: 'pagexml_doc'>)\n",
      "BEGIN\tIN\t('De Gommelacca sal voortaen niet meer los, maer in', 'Casjens gelijck nu geschiet gescheept ende op de Coelste', 'plaetsen inde Schepen geladen worden.')\t[0.6764394640922546, 0.3234209418296814, 0.0001311658270424232, 8.45173781272024e-06]\t(<RegionType.PARAGRAPH: 'paragraph'>, <RegionType.PHYSICAL_STRUCTURE_DOC: 'physical_structure_doc'>, <RegionType.TEXT_REGION: 'text_region'>, <RegionType.PAGEXML_DOC: 'pagexml_doc'>)\n",
      "BEGIN\tBEGIN\t('Latria', 'Aan de Ed„le Hoog agtb: Heeren de', 'Bewinthebberen van de Generale', 'vereenigde Nederlandse geoctroijeerde', 'oostindische Comp: gecommitteerd ter', 'Vergaderinge van de seventiene binnen', 'de Presidiale Kamer')\t[0.9999929666519165, 7.0727651291235816e-06, 3.42104584660774e-08, 1.0691747931446116e-08]\t(<RegionType.PARAGRAPH: 'paragraph'>, <RegionType.PHYSICAL_STRUCTURE_DOC: 'physical_structure_doc'>, <RegionType.TEXT_REGION: 'text_region'>, <RegionType.PAGEXML_DOC: 'pagexml_doc'>)\n",
      "BEGIN\tIN\t\"(\"\"op den 29:' augustus Jongstleden\"\", \"\"voor 't boekhaar van bij der hand genomen\"\")\"\t[0.9502894878387451, 0.04970850050449371, 1.466309754505346e-06, 5.906475735173444e-07]\t(<RegionType.PARAGRAPH: 'paragraph'>, <RegionType.PHYSICAL_STRUCTURE_DOC: 'physical_structure_doc'>, <RegionType.TEXT_REGION: 'text_region'>, <RegionType.PAGEXML_DOC: 'pagexml_doc'>)\n",
      "END\tIN\t\"('Batavia nog merkelijk staendm te accresseeren', 'nadere dandrangtarldoe, ons daerom noodsaken op dies Com„', '„pleete voldoening met veel Empresse„', 'ment dog teffens seer eerbiedig in„', '„steeren, want wij versekeren', '-', 'uwel Edele hoog Agtb: dat', 'in het formeeren van dien door ons', 'soo wel als bevoorens met de', 'uijtterste attentie te werk gegaen', 'en behoorlijk gesteld is op den', 'voorraed alhier en op de buijten', \"\"tot veretoring va 's Comp: saat Comptoiren terwijl men ondertusschen\"\", 'ook geerne middelen onbesogt', 'sal laten die maer Eenigsints', 'strecken kunnen tot verbeetering', \"\"van 's Comp:s staed in dese gewes„\"\")\"\t[0.0009865175234153867, 0.06400484591722488, 0.9350031614303589, 5.440071163320681e-06]\t(<RegionType.PARAGRAPH: 'paragraph'>, <RegionType.PHYSICAL_STRUCTURE_DOC: 'physical_structure_doc'>, <RegionType.TEXT_REGION: 'text_region'>, <RegionType.PAGEXML_DOC: 'pagexml_doc'>)\n",
      "BEGIN\tIN\t('tot ons en adere ordre',)\t[0.9676049947738647, 0.03225715458393097, 0.00013727984332945198, 6.336967999232002e-07]\t(<RegionType.MARGINALIA: 'marginalia'>, <RegionType.PHYSICAL_STRUCTURE_DOC: 'physical_structure_doc'>, <RegionType.TEXT_REGION: 'text_region'>, <RegionType.PAGEXML_DOC: 'pagexml_doc'>)\n",
      "END\tEND\t('groete en betuijging dat wij zijn', 'Edele hoog agtb: Heeren', 'uwer Edele hoog agtbare', 'onderdanige En getrouwe', 'Dienaren. —.', 'm', 'Adm. Zuwes', 'W: VHloen', 'W Valckenier', 'WBal', 'J: V: Schaghen', 'H: suclitelin Jors: Bornard', 'C De Haeze', 'J:V: Schinne')\t[0.0003953703853767365, 6.221704040854092e-08, 0.9996045231819153, 2.1835402819192495e-08]\t(<RegionType.PARAGRAPH: 'paragraph'>, <RegionType.PHYSICAL_STRUCTURE_DOC: 'physical_structure_doc'>, <RegionType.TEXT_REGION: 'text_region'>, <RegionType.PAGEXML_DOC: 'pagexml_doc'>)\n",
      "BEGIN\tIN\t('& vercoist na Indostan.',)\t[0.8644891977310181, 0.13512839376926422, 0.00034737421083264053, 3.5065721021965146e-05]\t(<RegionType.MARGINALIA: 'marginalia'>, <RegionType.PHYSICAL_STRUCTURE_DOC: 'physical_structure_doc'>, <RegionType.TEXT_REGION: 'text_region'>, <RegionType.PAGEXML_DOC: 'pagexml_doc'>)\n",
      "BEGIN\tIN\t\"('Vercochte specerijen', \"\"aen d' Engelsen.\"\")\"\t[0.9131520986557007, 0.017318634316325188, 0.06952878087759018, 4.973791192242061e-07]\t(<RegionType.MARGINALIA: 'marginalia'>, <RegionType.PHYSICAL_STRUCTURE_DOC: 'physical_structure_doc'>, <RegionType.TEXT_REGION: 'text_region'>, <RegionType.PAGEXML_DOC: 'pagexml_doc'>)\n",
      "END\tIN\t('Batavia', 'staet', 'gewenscht.')\t[0.06169452890753746, 0.4177701771259308, 0.5205200910568237, 1.5175410226220265e-05]\t(<RegionType.MARGINALIA: 'marginalia'>, <RegionType.PHYSICAL_STRUCTURE_DOC: 'physical_structure_doc'>, <RegionType.TEXT_REGION: 'text_region'>, <RegionType.PAGEXML_DOC: 'pagexml_doc'>)\n",
      "BEGIN\tIN\t('van de scheepen kna„', 'rapenburg en blijddorp')\t[0.994541585445404, 0.0054349773563444614, 2.1921430743532255e-05, 1.5414778999911505e-06]\t(<RegionType.MARGINALIA: 'marginalia'>, <RegionType.PHYSICAL_STRUCTURE_DOC: 'physical_structure_doc'>, <RegionType.TEXT_REGION: 'text_region'>, <RegionType.PAGEXML_DOC: 'pagexml_doc'>)\n",
      "BEGIN\tIN\t('§ 53: Voorts hebben wij hem den 23e. September',)\t[0.4230748414993286, 0.2643679082393646, 0.3125213086605072, 3.594755253288895e-05]\t(<RegionType.PARAGRAPH: 'paragraph'>, <RegionType.PHYSICAL_STRUCTURE_DOC: 'physical_structure_doc'>, <RegionType.TEXT_REGION: 'text_region'>, <RegionType.PAGEXML_DOC: 'pagexml_doc'>)\n",
      "BEGIN\tIN\t('Boek-Jaar van A„o 175 5/6. in',)\t[0.42021283507347107, 0.1981138437986374, 0.3816615343093872, 1.1771313438657671e-05]\t(<RegionType.PHYSICAL_STRUCTURE_DOC: 'physical_structure_doc'>, <RegionType.TEXT_REGION: 'text_region'>, <RegionType.PAGEXML_DOC: 'pagexml_doc'>)\n",
      "END\tIN\t('voor den Resident te Riouw Christiaan', 'Baumgarten', 'Godfried Baumgarten', 'voor den Eerste administrateur in de westzijd„', 'Reigertman', 'sche Negotie pakhuisens te Batavia Carel Pie„', 'ter Reigersman.', 'voor den secretaris van weesmeesteren Pie„', 'ter Boterkoper Isaacsz:')\t[0.249099463224411, 0.22995750606060028, 0.5209305286407471, 1.2471402442315593e-05]\t(<RegionType.PARAGRAPH: 'paragraph'>, <RegionType.PHYSICAL_STRUCTURE_DOC: 'physical_structure_doc'>, <RegionType.TEXT_REGION: 'text_region'>, <RegionType.PAGEXML_DOC: 'pagexml_doc'>)\n",
      "BEGIN\tIN\t('Continuerende', 'onse bontgenoten', 'ende amarsieus,')\t[0.9634588360786438, 0.034668534994125366, 0.001849836204200983, 2.2755095415050164e-05]\t(<RegionType.MARGINALIA: 'marginalia'>, <RegionType.PHYSICAL_STRUCTURE_DOC: 'physical_structure_doc'>, <RegionType.TEXT_REGION: 'text_region'>, <RegionType.PAGEXML_DOC: 'pagexml_doc'>)\n",
      "BEGIN\tBEGIN\t('P„r de Scheepen veyburg',)\t[0.9989134073257446, 0.00018386969168204814, 0.0009022570447996259, 4.2473971006984357e-07]\t(<RegionType.MARGINALIA: 'marginalia'>, <RegionType.PHYSICAL_STRUCTURE_DOC: 'physical_structure_doc'>, <RegionType.TEXT_REGION: 'text_region'>, <RegionType.PAGEXML_DOC: 'pagexml_doc'>)\n",
      "BEGIN\tIN\t\"('Over Java is het schip Langewijk', \"\"g'expedieert ter inneeming van Rijst\"\")\"\t[0.989768385887146, 0.01020901557058096, 1.981780405913014e-05, 2.799686853904859e-06]\t(<RegionType.PARAGRAPH: 'paragraph'>, <RegionType.PHYSICAL_STRUCTURE_DOC: 'physical_structure_doc'>, <RegionType.TEXT_REGION: 'text_region'>, <RegionType.PAGEXML_DOC: 'pagexml_doc'>)\n",
      "BEGIN\tIN\t('cassarse Jongste on„',)\t[0.999491810798645, 0.0005062185227870941, 1.28309352476208e-06, 5.929347253186279e-07]\t(<RegionType.MARGINALIA: 'marginalia'>, <RegionType.PHYSICAL_STRUCTURE_DOC: 'physical_structure_doc'>, <RegionType.TEXT_REGION: 'text_region'>, <RegionType.PAGEXML_DOC: 'pagexml_doc'>)\n",
      "BEGIN\tIN\t('op de vermunting is maar', 'een percCo verleren.')\t[0.8000149726867676, 0.19996961951255798, 1.3255277735879645e-05, 2.163397994081606e-06]\t(<RegionType.MARGINALIA: 'marginalia'>, <RegionType.PHYSICAL_STRUCTURE_DOC: 'physical_structure_doc'>, <RegionType.TEXT_REGION: 'text_region'>, <RegionType.PAGEXML_DOC: 'pagexml_doc'>)\n",
      "BEGIN\tIN\t('gebragt hebbend bij onse Eerbiedigen van den', '13. october en 30. december 1775 mitsgaders 25. oC„', 'tober 1776. melden wij ten vervolge van dien', 'dat gedagt vaartuijg sedert met alle de tot', 'het zelve behoorende amunitie en equipagie', 'goederen publieck is verkogt voor rep: 8425. of na', 'der ministers berekening, en het aangehaal„', 'de bij secreete brief van den directeur van', 'De Graaff van den 5: april Jongstleeden met', 'een verlies uit hoofde van den tot de Edi„', 'over', 'gelschen voorgeloopen geweezen directeur', 'ƒ', 'datafegscheevens Bosman, die eijgentlijk desweegen', 'aanspreekelijk moet te vorden', 'gehouden niets te krijgen is, bij', 'brief van den 15. aug=s pass=o ter', 'afschrijvingen hebben gepasseert')\t[0.800777792930603, 0.19916075468063354, 5.8966408687410876e-05, 2.4312405457749264e-06]\t(<RegionType.PARAGRAPH: 'paragraph'>, <RegionType.PHYSICAL_STRUCTURE_DOC: 'physical_structure_doc'>, <RegionType.TEXT_REGION: 'text_region'>, <RegionType.PAGEXML_DOC: 'pagexml_doc'>)\n",
      "BEGIN\tIN\t('die meest slordigen,', 'sijn, als de Inlandse', 'natien')\t[0.9030022025108337, 0.08084160089492798, 0.016130078583955765, 2.612498246890027e-05]\t(<RegionType.MARGINALIA: 'marginalia'>, <RegionType.PHYSICAL_STRUCTURE_DOC: 'physical_structure_doc'>, <RegionType.TEXT_REGION: 'text_region'>, <RegionType.PAGEXML_DOC: 'pagexml_doc'>)\n",
      "BEGIN\tIN\t('princeland directelyk', 'na Batavia')\t[0.9985055923461914, 0.001494457246735692, 2.6473214731481676e-08, 2.727472825370114e-08]\t(<RegionType.MARGINALIA: 'marginalia'>, <RegionType.PHYSICAL_STRUCTURE_DOC: 'physical_structure_doc'>, <RegionType.TEXT_REGION: 'text_region'>, <RegionType.PAGEXML_DOC: 'pagexml_doc'>)\n",
      "END\tIN\t('briefje vanden', 'Secunde de Bok.')\t[0.0011661312310025096, 0.37483492493629456, 0.6239985823631287, 2.577968416517251e-07]\t(<RegionType.MARGINALIA: 'marginalia'>, <RegionType.PHYSICAL_STRUCTURE_DOC: 'physical_structure_doc'>, <RegionType.TEXT_REGION: 'text_region'>, <RegionType.PAGEXML_DOC: 'pagexml_doc'>)\n",
      "END\tIN\t('. . . „ 55342. 2. 9.',)\t[7.34839886717964e-06, 0.035287223756313324, 0.9647051095962524, 3.0479390034088283e-07]\t(<RegionType.PARAGRAPH: 'paragraph'>, <RegionType.PHYSICAL_STRUCTURE_DOC: 'physical_structure_doc'>, <RegionType.TEXT_REGION: 'text_region'>, <RegionType.PAGEXML_DOC: 'pagexml_doc'>)\n",
      "BEGIN\tIN\t\"('Dese dus verre veerdig sijnde, verscheen hier den 30:en', 'november, en 1=en december deses Iaars, de fluijt', \"\"Emmenes, en 't Iagt Eemland, met schrijvens\"\", 'van den directeur en raad tot ouglij van 6, en', '27=en september lestleden, waer uijt wij verstonden,', 'dat de schepen desen Iare van hier gesonden, alle', 'inde ganges waren gearriveert, uijtgenomen', \"\"westbroek, en drakensteijn, dog volgens 't berigt\"\")\"\t[0.8975248336791992, 0.09891507774591446, 0.0035486638080328703, 1.1513970093801618e-05]\t(<RegionType.PARAGRAPH: 'paragraph'>, <RegionType.PHYSICAL_STRUCTURE_DOC: 'physical_structure_doc'>, <RegionType.TEXT_REGION: 'text_region'>, <RegionType.PAGEXML_DOC: 'pagexml_doc'>)\n",
      "BEGIN\tIN\t('Seena eerste', 'Postmeester.')\t[0.6983405947685242, 0.2606998682022095, 0.040813349187374115, 0.00014617733540944755]\t(<RegionType.MARGINALIA: 'marginalia'>, <RegionType.PHYSICAL_STRUCTURE_DOC: 'physical_structure_doc'>, <RegionType.TEXT_REGION: 'text_region'>, <RegionType.PAGEXML_DOC: 'pagexml_doc'>)\n",
      "BEGIN\tIN\t('byde hebben wy gepasseerd als mede het geen', 'omtrent de Emballagie voorkomt by § 74 der', 'gemeene Brief van 31 maart 1787 item Houglyse', 'resolutien van 24 october 24 Novemb: en 29 7ber', '1786 waar aan wy ons refereeren als een gering„', '„heid zynde')\t[0.6069056987762451, 0.39167720079421997, 0.001361801871098578, 5.526491077034734e-05]\t(<RegionType.PARAGRAPH: 'paragraph'>, <RegionType.PHYSICAL_STRUCTURE_DOC: 'physical_structure_doc'>, <RegionType.TEXT_REGION: 'text_region'>, <RegionType.PAGEXML_DOC: 'pagexml_doc'>)\n",
      "END\tIN\t('mitswijlen brengende', 'kennisse.')\t[0.0005980124115012586, 0.012651252560317516, 0.986748993396759, 1.695056084827229e-06]\t(<RegionType.MARGINALIA: 'marginalia'>, <RegionType.PHYSICAL_STRUCTURE_DOC: 'physical_structure_doc'>, <RegionType.TEXT_REGION: 'text_region'>, <RegionType.PAGEXML_DOC: 'pagexml_doc'>)\n",
      "END\tIN\t('d: E: d: H:r anthonio van diemen',)\t[0.47533273696899414, 0.027771005406975746, 0.49683287739753723, 6.33143718005158e-05]\t(<RegionType.PHYSICAL_STRUCTURE_DOC: 'physical_structure_doc'>, <RegionType.TEXT_REGION: 'text_region'>, <RegionType.PAGEXML_DOC: 'pagexml_doc'>)\n",
      "END\tIN\t('ook sal het ons bijsonder aangenaam', 'en progres inden goud weesen, indien den Goud handel', 'te dier plaatse ter beandwoor„', 'dinge van VEd: hoog agtbare', 'verwagtinge, uijt de favorabele', 'apparentien, die zig daer van', 'tot nog hebben opgedaan, de', 'vereijste voortgang komt te', 'neemen, ten beste van de', 'maatschappije, ter zaeke deselve', 'haar intrest bij dien handel gro', 'telijks vinden zal, en daarom', 'die voortgang heeft men de hebben wij ook bij onse laaste', 'schrijvens na derwaarts de moluc„', 'cose ministers in termen van', 'Ernst aangemaant, alle mogelijke')\t[0.0035629230551421642, 0.10773785412311554, 0.8886963129043579, 2.9611085210490273e-06]\t(<RegionType.PARAGRAPH: 'paragraph'>, <RegionType.PHYSICAL_STRUCTURE_DOC: 'physical_structure_doc'>, <RegionType.TEXT_REGION: 'text_region'>, <RegionType.PAGEXML_DOC: 'pagexml_doc'>)\n",
      "BEGIN\tIN\t('van eenige armenische', 'coopluijde')\t[0.9981420040130615, 0.0018410955090075731, 1.6895301087060943e-05, 2.2351738238057806e-08]\t(<RegionType.MARGINALIA: 'marginalia'>, <RegionType.PHYSICAL_STRUCTURE_DOC: 'physical_structure_doc'>, <RegionType.TEXT_REGION: 'text_region'>, <RegionType.PAGEXML_DOC: 'pagexml_doc'>)\n",
      "END\tIN\t('van Iunij over Chormandel uw: ho: Ed:le toegesonden werden, sulcx den dienst',)\t[0.008413967676460743, 0.39393094182014465, 0.5976459980010986, 9.163247341348324e-06]\t(<RegionType.PHYSICAL_STRUCTURE_DOC: 'physical_structure_doc'>, <RegionType.TEXT_REGION: 'text_region'>, <RegionType.PAGEXML_DOC: 'pagexml_doc'>)\n"
     ]
    },
    {
     "name": "stderr",
     "output_type": "stream",
     "text": [
      "  1%|          | 4/453.46875 [00:06<12:43,  1.70s/batch]"
     ]
    },
    {
     "name": "stdout",
     "output_type": "stream",
     "text": [
      "BEGIN\tIN\t('Omtrent de door de Ministers, bij de beantwoording', 'het douceur voor den Derecteur van het', 'Extract uit uwel Edele Hoog Achtb: missive van den 9. No„', '„vember 1789 „ geinsereerd bij opgemelde gemeene briev va„', 'den 15: December 1790. gemaakte aanmerkingen, op het')\t[0.9753358364105225, 0.02357635460793972, 0.0010852472623810172, 2.5172125788230915e-06]\t(<RegionType.PARAGRAPH: 'paragraph'>, <RegionType.PHYSICAL_STRUCTURE_DOC: 'physical_structure_doc'>, <RegionType.TEXT_REGION: 'text_region'>, <RegionType.PAGEXML_DOC: 'pagexml_doc'>)\n",
      "BEGIN\tIN\t('Ordre voor den corporael Hendrick',)\t[0.5170659422874451, 0.4827541410923004, 0.00017452039173804224, 5.438733296614373e-06]\t(<RegionType.PHYSICAL_STRUCTURE_DOC: 'physical_structure_doc'>, <RegionType.TEXT_REGION: 'text_region'>, <RegionType.PAGEXML_DOC: 'pagexml_doc'>, <RegionType.HEADER: 'header'>)\n",
      "BEGIN\tIN\t('Uit des ag ons toegesonden staat- Reekening, getrok„', '„ken uit de afgeslootene', 'Negotie- Boeken ne 17 9/0, ons gebleeken zynde, dat in', '§ 29.')\t[0.9049625396728516, 0.09262186288833618, 0.002412256319075823, 3.3444719065300887e-06]\t(<RegionType.PARAGRAPH: 'paragraph'>, <RegionType.PHYSICAL_STRUCTURE_DOC: 'physical_structure_doc'>, <RegionType.TEXT_REGION: 'text_region'>, <RegionType.PAGEXML_DOC: 'pagexml_doc'>)\n",
      "BEGIN\tIN\t('Want de Eijsschen, van daar ontfangen, hebben soo', 'kragtig met de voorjaarige verschilt, dat wij ten overbreng', 'van eene genoegsaame quantiteid suijker, de scheepen', 'Tulpenburg en Rebecca Iacoba onder den 3:e aug:s, Ame„', '„rougen den 6:e septemb: mitsg:s Amstelveen en amelis„', '„waert den 10:e octob: laastl:, reets van hier gedepecheert', 'vermindering na derw:s en deselve buijten andere Negotie goederen met een')\t[0.8710773587226868, 0.1285637766122818, 0.00035572447814047337, 3.172066271872609e-06]\t(<RegionType.PARAGRAPH: 'paragraph'>, <RegionType.PHYSICAL_STRUCTURE_DOC: 'physical_structure_doc'>, <RegionType.TEXT_REGION: 'text_region'>, <RegionType.PAGEXML_DOC: 'pagexml_doc'>)\n",
      "END\tIN\t('2402. –. „ 5764. 16–',)\t[0.0008192713721655309, 0.09244978427886963, 0.9067224264144897, 8.448836524621584e-06]\t(<RegionType.MARGINALIA: 'marginalia'>, <RegionType.PHYSICAL_STRUCTURE_DOC: 'physical_structure_doc'>, <RegionType.TEXT_REGION: 'text_region'>, <RegionType.PAGEXML_DOC: 'pagexml_doc'>)\n",
      "BEGIN\tIN\t('Sumatras Westcust, buijten gemeent laat, ofte op den', '26. der j=o affgeweeken maand febr: zag men van dese', 'kust te deser rheede reverteeren, het lang verwagte', 'schip strijckebolle met den affgelosten', 'k', 'Gesaghebber fred„k herdijk numme en Een lading', 'van 17 1/2. marcqen goud tot Padang genegot„', '125. – lb camphur', '76250 – „ bensuin in soort. en', '15. kannen camphur olij', '.', 'kostende tezamen met de ongelden een', 'ontff: advisen. Somma van ƒ99220:16: — na het aangeweesen', 'by den onfffangen brieff der padangse ministers')\t[0.7835967540740967, 0.21320638060569763, 0.0031930594705045223, 3.710695636982564e-06]\t(<RegionType.PARAGRAPH: 'paragraph'>, <RegionType.PHYSICAL_STRUCTURE_DOC: 'physical_structure_doc'>, <RegionType.TEXT_REGION: 'text_region'>, <RegionType.PAGEXML_DOC: 'pagexml_doc'>)\n",
      "BEGIN\tBEGIN\t('den uijtvaart der', 'Io: gedepecheerde', 'ratourvloot sal', 'volgen in fine deses')\t[0.6596714854240417, 0.33810552954673767, 0.002219174988567829, 3.8057555684645195e-06]\t(<RegionType.MARGINALIA: 'marginalia'>, <RegionType.PHYSICAL_STRUCTURE_DOC: 'physical_structure_doc'>, <RegionType.TEXT_REGION: 'text_region'>, <RegionType.PAGEXML_DOC: 'pagexml_doc'>)\n",
      "BEGIN\tIN\t\"('Volgens het genoteerde bij onsen brief', 'en', '=bergen en Zoelen sijn afgen aan uw Ed e hoog agtb: vanden 11=en', 'Januarij, sin wij op den 9=en maart', 'deses Jaars getreeden tot besluijt', \"\"om af te leggen en verlopen de 't eene„\"\", '=maal afgevare scheepen bosmaar,', 'Jerusalem, driebergen en Zoelen,')\"\t[0.9669948816299438, 0.03251108527183533, 0.0004921915824525058, 1.8146458842238644e-06]\t(<RegionType.PARAGRAPH: 'paragraph'>, <RegionType.PHYSICAL_STRUCTURE_DOC: 'physical_structure_doc'>, <RegionType.TEXT_REGION: 'text_region'>, <RegionType.PAGEXML_DOC: 'pagexml_doc'>)\n",
      "END\tIN\t\"('redresseert is,', 'Met opzigt tot de vyandelyke', 'ondernening van den Regent van klein', 'Passaman, zullen wij ten vervolge', \"\"van 't reeds diendwegen genoteerde\"\", 'bij onze eerbiedige van den 21: october', 'dezes Jaars Uw Doorlugtige', 'bedeelen de onaangename advisen', \"\"der Ministers van den 15:' aug=s\"\", 'en 13: october, beide p=r de Bark', 'de Mossel aangebragt, bestaande', 'hoofdzakelijk in de Communicatie', 'dat den Commissiant BoudewijnB„r,', 'vermeenende zig in zijne verschan', \"\"sing voor 's vyands hoofd negoryj door\"\", 'Hoogheid en UWel Edele Hoog Agtb: en afval onzen min raad van onze nieuwe bondgenoo„')\"\t[0.1667344868183136, 0.22292642295360565, 0.6103292107582092, 9.893923561321571e-06]\t(<RegionType.PARAGRAPH: 'paragraph'>, <RegionType.PHYSICAL_STRUCTURE_DOC: 'physical_structure_doc'>, <RegionType.TEXT_REGION: 'text_region'>, <RegionType.PAGEXML_DOC: 'pagexml_doc'>)\n",
      "BEGIN\tIN\t('Zuijt dorp, weresteijn, en', 'twijffel alle verongelukt')\t[0.6496910452842712, 0.349636971950531, 0.0006698462530039251, 2.0774866698047845e-06]\t(<RegionType.MARGINALIA: 'marginalia'>, <RegionType.PHYSICAL_STRUCTURE_DOC: 'physical_structure_doc'>, <RegionType.TEXT_REGION: 'text_region'>, <RegionType.PAGEXML_DOC: 'pagexml_doc'>)\n",
      "BEGIN\tIN\t('Wegens den Tacatrasen zijde-teeld',)\t[0.6497182250022888, 0.35028013586997986, 1.3821788797940826e-06, 2.531859308874118e-07]\t(<RegionType.PARAGRAPH: 'paragraph'>, <RegionType.PHYSICAL_STRUCTURE_DOC: 'physical_structure_doc'>, <RegionType.TEXT_REGION: 'text_region'>, <RegionType.PAGEXML_DOC: 'pagexml_doc'>)\n",
      "BEGIN\tIN\t('tjagtje de Elizabeth is na', 'oost Cust')\t[0.9145176410675049, 0.0854811742901802, 6.908217073942069e-07, 4.7501490030299465e-07]\t(<RegionType.MARGINALIA: 'marginalia'>, <RegionType.PHYSICAL_STRUCTURE_DOC: 'physical_structure_doc'>, <RegionType.TEXT_REGION: 'text_region'>, <RegionType.PAGEXML_DOC: 'pagexml_doc'>)\n",
      "BEGIN\tIN\t('buijten de gewese oude', 'Restanten van verleden')\t[0.45157504081726074, 0.17817136645317078, 0.3702358305454254, 1.7679560187389143e-05]\t(<RegionType.MARGINALIA: 'marginalia'>, <RegionType.PHYSICAL_STRUCTURE_DOC: 'physical_structure_doc'>, <RegionType.TEXT_REGION: 'text_region'>, <RegionType.PAGEXML_DOC: 'pagexml_doc'>)\n",
      "END\tIN\t\"(\"\"Indigo Java's zullen wij uwe Edele\"\", 'D')\"\t[0.009981325827538967, 5.260059697320685e-05, 0.9899629950523376, 3.1361853416456142e-06]\t(<RegionType.PHYSICAL_STRUCTURE_DOC: 'physical_structure_doc'>, <RegionType.TEXT_REGION: 'text_region'>, <RegionType.PAGEXML_DOC: 'pagexml_doc'>, <RegionType.HEADER: 'header'>)\n",
      "END\tEND\t('Uwer WelEdele Hoog Achtb: Onderda¬', 'nige en gehoorzaame Dienaaren', 'Den Gouverneur Generaal', 'en de Raaden van Jndie')\t[0.002868367824703455, 1.941576920216903e-05, 0.9971121549606323, 1.2793998394045047e-07]\t(<RegionType.PARAGRAPH: 'paragraph'>, <RegionType.PHYSICAL_STRUCTURE_DOC: 'physical_structure_doc'>, <RegionType.TEXT_REGION: 'text_region'>, <RegionType.PAGEXML_DOC: 'pagexml_doc'>)\n",
      "END\tIN\t('winsten is daer van', 'de oorsaek.')\t[0.00013717880938202143, 0.018491098657250404, 0.9813711047172546, 6.028081429576559e-07]\t(<RegionType.MARGINALIA: 'marginalia'>, <RegionType.PHYSICAL_STRUCTURE_DOC: 'physical_structure_doc'>, <RegionType.TEXT_REGION: 'text_region'>, <RegionType.PAGEXML_DOC: 'pagexml_doc'>)\n",
      "BEGIN\tIN\t\"('Wij teeden dus vervolgens ter beantwoording', 'dantoondonderlydeg aemen van den Eysch van retouren uit Indie, voor den Jaare', \"\"1772. , en zullen bij de 600'000 lb\"\", 'Bruijne Peeper, die van hier verzonden zijn', '60000 db huijnsk eper naar Bengali, om daar in de retour bodems overge', 'scheepd, en na: Nederland versenden te worden; item,', 'by eene gelyke quantiteit die wy stellen dat uwel', 'EEdele Hoog Achtbare van Ceijlon ontvangens gullen', 'en by de 300000 lb die wijf gissen dat ten minsten', 'W', \"\"met 't direct van Chormandel retourneerend Lywaat\"\")\"\t[0.9275126457214355, 0.07008035480976105, 0.0023935807403177023, 1.3384134945226833e-05]\t(<RegionType.PARAGRAPH: 'paragraph'>, <RegionType.PHYSICAL_STRUCTURE_DOC: 'physical_structure_doc'>, <RegionType.TEXT_REGION: 'text_region'>, <RegionType.PAGEXML_DOC: 'pagexml_doc'>)\n",
      "BEGIN\tIN\t\"(\"\"d' eijsschen voorden\"\", 'Jare 1726: sijn over„', 'gesonden')\"\t[0.9611630439758301, 0.02118491940200329, 0.017650676891207695, 1.4480995105259353e-06]\t(<RegionType.MARGINALIA: 'marginalia'>, <RegionType.PHYSICAL_STRUCTURE_DOC: 'physical_structure_doc'>, <RegionType.TEXT_REGION: 'text_region'>, <RegionType.PAGEXML_DOC: 'pagexml_doc'>)\n",
      "BEGIN\tIN\t('Over den Inhoud deser Brieven', 'sullen wij so spoedig doenlijk Be„', '„soigneeren en onser eerbiedige', 'Rescriptie op deselven Uwe wel Edele')\t[0.667869508266449, 0.021155811846256256, 0.31094178557395935, 3.293228292022832e-05]\t(<RegionType.PARAGRAPH: 'paragraph'>, <RegionType.PHYSICAL_STRUCTURE_DOC: 'physical_structure_doc'>, <RegionType.TEXT_REGION: 'text_region'>, <RegionType.PAGEXML_DOC: 'pagexml_doc'>)\n",
      "END\tIN\t('Dewyl uwe wel Ed: Hoog Achtb: zeg om„', 'trins het articul der', 'Nagulen, hebben gelieven te gedragen, aan het geen', 'ons bij Hoogst Derzelver laatsten Eisch', 'is aangeschreeven, met Last teevens, om', 'dierhalven zoo veel daar van te versen„', 'den, als het de scheeps= ruymte zal toe¬', 'laaten, hebben wij de Eer uwe wel Ed: Hoog', 'mij', 'Agtb te informeeren, dat wy, ingevolge', 'die voorige qualificatie, int hoofde de over', 'vlaedige scheeps-ruijmte zulks konde toe', 'laaten, met de Jongst gerepatreerde re„', '„tour scheepen eene aanzienlyke quar„', '„titeid: van 4200626. lb naar Neaer land heb„', '„len gezonden, en dat my om die reeden', 'zeedert ter onze sessie vanden 14 April I: L.', 'beslooten hebben, om voor eert geene Na')\t[0.01887081377208233, 0.06935776025056839, 0.9117662906646729, 5.118909029988572e-06]\t(<RegionType.PARAGRAPH: 'paragraph'>, <RegionType.PHYSICAL_STRUCTURE_DOC: 'physical_structure_doc'>, <RegionType.TEXT_REGION: 'text_region'>, <RegionType.PAGEXML_DOC: 'pagexml_doc'>)\n",
      "BEGIN\tIN\t('Korte Aanwijsing der Middelen inkomstenten',)\t[0.9177977442741394, 0.06869276612997055, 0.013496167957782745, 1.3283285625220742e-05]\t(<RegionType.PHYSICAL_STRUCTURE_DOC: 'physical_structure_doc'>, <RegionType.TEXT_REGION: 'text_region'>, <RegionType.PAGEXML_DOC: 'pagexml_doc'>)\n",
      "BEGIN\tIN\t('alelangende de Eijschen',)\t[0.9993065595626831, 0.0003983956703450531, 0.00029465710395015776, 3.953631448894157e-07]\t(<RegionType.MARGINALIA: 'marginalia'>, <RegionType.PHYSICAL_STRUCTURE_DOC: 'physical_structure_doc'>, <RegionType.TEXT_REGION: 'text_region'>, <RegionType.PAGEXML_DOC: 'pagexml_doc'>)\n",
      "END\tIN\t('atta rivement tot', 'Batavia van den gew:', 'ndependent fiscaal', 'ordr„ Sidion boudaan.')\t[0.0006950784008949995, 0.021967967972159386, 0.9773321747779846, 4.770270152221201e-06]\t(<RegionType.MARGINALIA: 'marginalia'>, <RegionType.PHYSICAL_STRUCTURE_DOC: 'physical_structure_doc'>, <RegionType.TEXT_REGION: 'text_region'>, <RegionType.PAGEXML_DOC: 'pagexml_doc'>)\n",
      "END\tIN\t('Caies-Aciner', '3  7a Ma4 62.')\t[0.0006127653177827597, 0.0037882544565945864, 0.9955973029136658, 1.6894749705897993e-06]\t(<RegionType.MARGINALIA: 'marginalia'>, <RegionType.PHYSICAL_STRUCTURE_DOC: 'physical_structure_doc'>, <RegionType.TEXT_REGION: 'text_region'>, <RegionType.PAGEXML_DOC: 'pagexml_doc'>)\n",
      "BEGIN\tIN\t\"('Ed:s Successeu in t beestier den E Paulus', 'Iodofvedus van der Voort nagelaten, den 24 7br:', \"\"bevorens besoigne gehouden en om 't geen daar rijn van\"\", 'opmerking voorgekomen is VWel Edele Hoog', 'Agtb: schuldpligtig ter kennisse te brengen, door', 'zo verre zulks bij onze jongste onderdanige van den', '22 October, en hier vooren met aan schouw tot de', 'Inlandsche zaken, niet bereeds geschied is vmelden', 'wij onder het hoofddeel van')\"\t[0.913245439529419, 0.06540106236934662, 0.02134074829518795, 1.2739496924041305e-05]\t(<RegionType.PARAGRAPH: 'paragraph'>, <RegionType.PHYSICAL_STRUCTURE_DOC: 'physical_structure_doc'>, <RegionType.TEXT_REGION: 'text_region'>, <RegionType.PAGEXML_DOC: 'pagexml_doc'>)\n",
      "END\tIN\t('Jnsonderheijd versoeken wij uwe wel Ed: Hoog agtb:', 'nog seer eerbiedig, indien bij eerste gelegenheijd te', 'voorsien, met eenig meerder swaar Canon', 'van 24:½ xb: en 12: lb: bals, bijsonder van het laat„', '„ste. so veel mogelijk Metaal, wijl men bevind, dat', 'het aan handen zijnde in desen tijd geensins', 'toerijkende en van de ligt Caliber is')\t[0.26625320315361023, 0.13646940886974335, 0.597240686416626, 3.671626473078504e-05]\t(<RegionType.PARAGRAPH: 'paragraph'>, <RegionType.PHYSICAL_STRUCTURE_DOC: 'physical_structure_doc'>, <RegionType.TEXT_REGION: 'text_region'>, <RegionType.PAGEXML_DOC: 'pagexml_doc'>)\n",
      "BEGIN\tIN\t('bodeme den Jaare 172',)\t[0.9933172464370728, 0.00013004538777749985, 0.006552602630108595, 5.171173356188774e-08]\t(<RegionType.MARGINALIA: 'marginalia'>, <RegionType.PHYSICAL_STRUCTURE_DOC: 'physical_structure_doc'>, <RegionType.TEXT_REGION: 'text_region'>, <RegionType.PAGEXML_DOC: 'pagexml_doc'>)\n",
      "BEGIN\tIN\t\"('de versonde goederen', \"\"p:r t schip d' Jager\"\")\"\t[0.966352105140686, 0.024859899654984474, 0.008786567486822605, 1.3567225778388092e-06]\t(<RegionType.MARGINALIA: 'marginalia'>, <RegionType.PHYSICAL_STRUCTURE_DOC: 'physical_structure_doc'>, <RegionType.TEXT_REGION: 'text_region'>, <RegionType.PAGEXML_DOC: 'pagexml_doc'>)\n",
      "BEGIN\tIN\t('Het Engelsschip Chinapatnam,', 'dat wij bij den onsen vanden 26. en', 'onder Jongsten. feb. 1724. noteerden dat op het afgaen', 'van het Jagt voorburgh hier ter')\t[0.9094427227973938, 0.09031790494918823, 0.00023656050325371325, 2.8271708742977353e-06]\t(<RegionType.PARAGRAPH: 'paragraph'>, <RegionType.PHYSICAL_STRUCTURE_DOC: 'physical_structure_doc'>, <RegionType.TEXT_REGION: 'text_region'>, <RegionType.PAGEXML_DOC: 'pagexml_doc'>)\n",
      "BEGIN\tIN\t('in den nieuwen eijsch heeft',)\t[0.9170655608177185, 0.0829281434416771, 5.99352551944321e-06, 2.167629702398699e-07]\t(<RegionType.MARGINALIA: 'marginalia'>, <RegionType.PHYSICAL_STRUCTURE_DOC: 'physical_structure_doc'>, <RegionType.TEXT_REGION: 'text_region'>, <RegionType.PAGEXML_DOC: 'pagexml_doc'>)\n",
      "BEGIN\tIN\t('Transporteer Rr p:s 3710 3/1 os 867 2/3:',)\t[0.8401230573654175, 0.13707327842712402, 0.02052171528339386, 0.002281932858750224]\t(<RegionType.PARAGRAPH: 'paragraph'>, <RegionType.PHYSICAL_STRUCTURE_DOC: 'physical_structure_doc'>, <RegionType.TEXT_REGION: 'text_region'>, <RegionType.PAGEXML_DOC: 'pagexml_doc'>)\n",
      "END\tIN\t('daar bij het wel te houden zal', 'wesen')\t[4.198690533030458e-07, 0.03885849565267563, 0.9611405730247498, 4.607574624060362e-07]\t(<RegionType.MARGINALIA: 'marginalia'>, <RegionType.PHYSICAL_STRUCTURE_DOC: 'physical_structure_doc'>, <RegionType.TEXT_REGION: 'text_region'>, <RegionType.PAGEXML_DOC: 'pagexml_doc'>)\n"
     ]
    },
    {
     "name": "stderr",
     "output_type": "stream",
     "text": [
      "\n"
     ]
    }
   ],
   "source": [
    "import csv\n",
    "import sys\n",
    "\n",
    "import torch\n",
    "from torcheval.metrics import (\n",
    "    MulticlassAccuracy,\n",
    "    MulticlassF1Score,\n",
    "    MulticlassPrecision,\n",
    "    MulticlassRecall,\n",
    ")\n",
    "from tqdm import tqdm\n",
    "\n",
    "from document_segmentation.pagexml.datamodel.label import Label\n",
    "\n",
    "writer = csv.DictWriter(\n",
    "    sys.stdout,\n",
    "    fieldnames=(\"Predicted\", \"Actual\", \"Lines\", \"Scores\", \"Types\"),\n",
    "    delimiter=\"\\t\",\n",
    ")\n",
    "\n",
    "writer.writeheader()\n",
    "\n",
    "accuracy = MulticlassAccuracy(num_classes=len(Label))\n",
    "precision = MulticlassPrecision(average=None, num_classes=len(Label))\n",
    "recall = MulticlassRecall(average=None, num_classes=len(Label))\n",
    "f1_score = MulticlassF1Score(average=None, num_classes=len(Label))\n",
    "\n",
    "for batch in tqdm(\n",
    "    test_data[:1000].batches(BATCH_SIZE),\n",
    "    total=len(test_data) / BATCH_SIZE,\n",
    "    unit=\"batch\",\n",
    "):\n",
    "    predicted = model(batch)\n",
    "    labels = batch.labels()\n",
    "    types = [region.types for region in batch.regions()]\n",
    "\n",
    "    _labels = torch.Tensor([label.value - 1 for label in labels]).to(int)\n",
    "    accuracy.update(predicted, _labels)\n",
    "    precision.update(predicted, _labels)\n",
    "    recall.update(predicted, _labels)\n",
    "    f1_score.update(predicted, _labels)\n",
    "\n",
    "    for region, pred, label, types in zip(batch.regions(), predicted, labels, types):\n",
    "        pred_label = Label(pred.argmax().item() + 1)\n",
    "        if pred_label != Label.IN or label != Label.IN:\n",
    "            writer.writerow(\n",
    "                {\n",
    "                    \"Predicted\": pred_label.name,\n",
    "                    \"Actual\": label.name,\n",
    "                    \"Lines\": region.lines,\n",
    "                    \"Scores\": str(pred.tolist()),\n",
    "                    \"Types\": str(types),\n",
    "                }\n",
    "            )"
   ]
  },
  {
   "cell_type": "code",
   "execution_count": 179,
   "metadata": {},
   "outputs": [
    {
     "name": "stderr",
     "output_type": "stream",
     "text": [
      "WARNING:root:tensor([[3]]) classes have zero instances in both the predictions and the ground truth labels. Precision is still logged as zero.\n",
      "WARNING:root:One or more NaNs identified, as no ground-truth instances of [3] have been seen. These have been converted to zero.\n",
      "WARNING:root:Warning: Some classes do not exist in the target. F1 scores for these classes will be cast to zeros.\n"
     ]
    },
    {
     "name": "stdout",
     "output_type": "stream",
     "text": [
      "Metric\tAverage\tBEGIN\tIN\tEND\tOUT\n",
      "MulticlassPrecision\tNone\t0.0430\t0.9977\t0.0625\t0.0000\n",
      "MulticlassRecall\tNone\t0.8000\t0.8648\t0.7500\t0.0000\n",
      "MulticlassF1Score\tNone\t0.0816\t0.9265\t0.1154\t0.0000\n",
      "Accuracy (micro average):\t0.8640\n"
     ]
    }
   ],
   "source": [
    "writer = csv.DictWriter(\n",
    "    sys.stdout,\n",
    "    fieldnames=[\"Metric\", \"Average\"] + [label.name for label in Label],\n",
    "    delimiter=\"\\t\",\n",
    ")\n",
    "writer.writeheader()\n",
    "\n",
    "for metric in (precision, recall, f1_score):\n",
    "    scores = {\n",
    "        label.name: f\"{score:.4f}\"\n",
    "        for label, score in zip(Label, metric.compute().tolist())\n",
    "    }\n",
    "    writer.writerow(\n",
    "        {\"Metric\": metric.__class__.__name__, \"Average\": str(metric.average)} | scores\n",
    "    )\n",
    "\n",
    "print(f\"Accuracy ({accuracy.average} average):\\t{accuracy.compute().item():.4f}\")"
   ]
  },
  {
   "cell_type": "code",
   "execution_count": null,
   "metadata": {},
   "outputs": [],
   "source": []
  }
 ],
 "metadata": {
  "kernelspec": {
   "display_name": ".venv",
   "language": "python",
   "name": "python3"
  },
  "language_info": {
   "codemirror_mode": {
    "name": "ipython",
    "version": 3
   },
   "file_extension": ".py",
   "mimetype": "text/x-python",
   "name": "python",
   "nbconvert_exporter": "python",
   "pygments_lexer": "ipython3",
   "version": "3.11.2"
  }
 },
 "nbformat": 4,
 "nbformat_minor": 2
}
