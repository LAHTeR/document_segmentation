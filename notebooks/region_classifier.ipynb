{
 "cells": [
  {
   "cell_type": "code",
   "execution_count": 1,
   "metadata": {},
   "outputs": [],
   "source": [
    "%load_ext autoreload\n",
    "%autoreload now"
   ]
  },
  {
   "cell_type": "markdown",
   "metadata": {},
   "source": [
    "# Read Data"
   ]
  },
  {
   "cell_type": "code",
   "execution_count": 2,
   "metadata": {},
   "outputs": [],
   "source": [
    "TRAINING_SIZE = 0.8\n",
    "TEST_SIZE = 0.2\n",
    "\n",
    "MIN_REGION_LENGTH = 20"
   ]
  },
  {
   "cell_type": "code",
   "execution_count": 3,
   "metadata": {},
   "outputs": [
    {
     "name": "stderr",
     "output_type": "stream",
     "text": [
      "Reading JSON files:  19%|█▉        | 175/909 [00:12<00:47, 15.41file/s]WARNING:root:No pages found in document id='354' inventory_nr=1684 inventory_part=None pages=[].\n",
      "Reading JSON files:  35%|███▍      | 314/909 [00:21<00:34, 17.36file/s]WARNING:root:No pages found in document id='353' inventory_nr=1684 inventory_part=None pages=[].\n",
      "Reading JSON files:  38%|███▊      | 346/909 [00:22<00:14, 38.02file/s]WARNING:root:No pages found in document id='352' inventory_nr=1684 inventory_part=None pages=[].\n",
      "Reading JSON files:  58%|█████▊    | 528/909 [00:36<00:16, 22.66file/s]WARNING:root:No pages found in document id='412' inventory_nr=1887 inventory_part=None pages=[].\n",
      "Reading JSON files: 100%|██████████| 909/909 [01:09<00:00, 13.16file/s]\n"
     ]
    }
   ],
   "source": [
    "from document_segmentation.model.dataset import PageDataset\n",
    "from document_segmentation.settings import GENERALE_MISSIVEN_DOCUMENT_DIR\n",
    "\n",
    "pages = PageDataset.from_dir(GENERALE_MISSIVEN_DOCUMENT_DIR)"
   ]
  },
  {
   "cell_type": "code",
   "execution_count": 4,
   "metadata": {},
   "outputs": [
    {
     "data": {
      "text/plain": [
       "580439"
      ]
     },
     "execution_count": 4,
     "metadata": {},
     "output_type": "execute_result"
    }
   ],
   "source": [
    "from document_segmentation.model.dataset import RegionDataset\n",
    "\n",
    "all_regions = RegionDataset.from_page_dataset(pages).remove_empty(MIN_REGION_LENGTH)\n",
    "len(all_regions)"
   ]
  },
  {
   "cell_type": "code",
   "execution_count": 5,
   "metadata": {},
   "outputs": [
    {
     "data": {
      "text/plain": [
       "Counter({<Label.IN: 2>: 573225, <Label.END: 3>: 3752, <Label.BEGIN: 1>: 3462})"
      ]
     },
     "execution_count": 5,
     "metadata": {},
     "output_type": "execute_result"
    }
   ],
   "source": [
    "all_regions._class_counts()"
   ]
  },
  {
   "cell_type": "code",
   "execution_count": 6,
   "metadata": {},
   "outputs": [
    {
     "data": {
      "text/plain": [
       "10966"
      ]
     },
     "execution_count": 6,
     "metadata": {},
     "output_type": "execute_result"
    }
   ],
   "source": [
    "from document_segmentation.pagexml.datamodel.label import Label\n",
    "\n",
    "sample_size = all_regions._class_counts()[Label.END]\n",
    "regions = all_regions.balance(sample_size).shuffle()\n",
    "\n",
    "len(regions)"
   ]
  },
  {
   "cell_type": "code",
   "execution_count": 7,
   "metadata": {},
   "outputs": [
    {
     "data": {
      "text/plain": [
       "Counter({<Label.END: 3>: 3752, <Label.IN: 2>: 3752, <Label.BEGIN: 1>: 3462})"
      ]
     },
     "execution_count": 7,
     "metadata": {},
     "output_type": "execute_result"
    }
   ],
   "source": [
    "regions._class_counts()"
   ]
  },
  {
   "cell_type": "code",
   "execution_count": 8,
   "metadata": {},
   "outputs": [
    {
     "data": {
      "text/plain": [
       "[3.166618538839157, 2.9219291233679723, 2.9219291233679723, 10966.0]"
      ]
     },
     "execution_count": 8,
     "metadata": {},
     "output_type": "execute_result"
    }
   ],
   "source": [
    "regions.class_weights()"
   ]
  },
  {
   "cell_type": "code",
   "execution_count": 9,
   "metadata": {},
   "outputs": [],
   "source": [
    "split = int(len(regions) * TRAINING_SIZE)\n",
    "\n",
    "training_data = regions[:split]\n",
    "test_data = regions[split:]"
   ]
  },
  {
   "cell_type": "code",
   "execution_count": 10,
   "metadata": {},
   "outputs": [
    {
     "data": {
      "text/plain": [
       "Counter({<Label.END: 3>: 3013, <Label.IN: 2>: 2963, <Label.BEGIN: 1>: 2796})"
      ]
     },
     "execution_count": 10,
     "metadata": {},
     "output_type": "execute_result"
    }
   ],
   "source": [
    "training_data._class_counts()"
   ]
  },
  {
   "cell_type": "code",
   "execution_count": 11,
   "metadata": {},
   "outputs": [
    {
     "data": {
      "text/plain": [
       "Counter({<Label.IN: 2>: 789, <Label.END: 3>: 739, <Label.BEGIN: 1>: 666})"
      ]
     },
     "execution_count": 11,
     "metadata": {},
     "output_type": "execute_result"
    }
   ],
   "source": [
    "test_data._class_counts()"
   ]
  },
  {
   "cell_type": "markdown",
   "metadata": {},
   "source": [
    "# Train Model"
   ]
  },
  {
   "cell_type": "code",
   "execution_count": 19,
   "metadata": {},
   "outputs": [],
   "source": [
    "%autoreload now"
   ]
  },
  {
   "cell_type": "code",
   "execution_count": 20,
   "metadata": {},
   "outputs": [],
   "source": [
    "BATCH_SIZE = 16\n",
    "EPOCHS = 25\n",
    "\n",
    "DEVICE = \"mps\""
   ]
  },
  {
   "cell_type": "code",
   "execution_count": 21,
   "metadata": {},
   "outputs": [
    {
     "data": {
      "text/plain": [
       "RegionClassifier(\n",
       "  (_region_embedding): RegionEmbeddingSentenceTransformer(\n",
       "    (_transformer_model): SentenceTransformer(\n",
       "      (0): Transformer({'max_seq_length': 128, 'do_lower_case': False}) with Transformer model: RobertaModel \n",
       "      (1): Pooling({'word_embedding_dimension': 768, 'pooling_mode_cls_token': False, 'pooling_mode_mean_tokens': True, 'pooling_mode_max_tokens': False, 'pooling_mode_mean_sqrt_len_tokens': False, 'pooling_mode_weightedmean_tokens': False, 'pooling_mode_lasttoken': False})\n",
       "    )\n",
       "    (_region_type): Embedding(9, 16)\n",
       "    (_linear): Linear(in_features=784, out_features=4, bias=True)\n",
       "  )\n",
       "  (_softmax): Softmax(dim=1)\n",
       ")"
      ]
     },
     "execution_count": 21,
     "metadata": {},
     "output_type": "execute_result"
    }
   ],
   "source": [
    "from document_segmentation.model.region_classifier import RegionClassifier\n",
    "\n",
    "model = RegionClassifier(device=DEVICE)\n",
    "model"
   ]
  },
  {
   "cell_type": "code",
   "execution_count": 22,
   "metadata": {},
   "outputs": [
    {
     "name": "stderr",
     "output_type": "stream",
     "text": [
      "549batch [01:21,  6.76batch/s]                         \n"
     ]
    },
    {
     "name": "stdout",
     "output_type": "stream",
     "text": [
      "[Loss:\t2.424]\n"
     ]
    },
    {
     "name": "stderr",
     "output_type": "stream",
     "text": [
      "549batch [00:02, 244.93batch/s]                         \n"
     ]
    },
    {
     "name": "stdout",
     "output_type": "stream",
     "text": [
      "[Loss:\t2.318]\n"
     ]
    },
    {
     "name": "stderr",
     "output_type": "stream",
     "text": [
      "549batch [00:02, 251.10batch/s]                         \n"
     ]
    },
    {
     "name": "stdout",
     "output_type": "stream",
     "text": [
      "[Loss:\t2.294]\n"
     ]
    },
    {
     "name": "stderr",
     "output_type": "stream",
     "text": [
      "549batch [00:02, 250.70batch/s]                         \n"
     ]
    },
    {
     "name": "stdout",
     "output_type": "stream",
     "text": [
      "[Loss:\t2.282]\n"
     ]
    },
    {
     "name": "stderr",
     "output_type": "stream",
     "text": [
      "549batch [00:02, 254.27batch/s]                         \n"
     ]
    },
    {
     "name": "stdout",
     "output_type": "stream",
     "text": [
      "[Loss:\t2.276]\n"
     ]
    },
    {
     "name": "stderr",
     "output_type": "stream",
     "text": [
      "549batch [00:02, 237.54batch/s]                         \n"
     ]
    },
    {
     "name": "stdout",
     "output_type": "stream",
     "text": [
      "[Loss:\t2.272]\n"
     ]
    },
    {
     "name": "stderr",
     "output_type": "stream",
     "text": [
      "549batch [00:02, 227.33batch/s]                         \n"
     ]
    },
    {
     "name": "stdout",
     "output_type": "stream",
     "text": [
      "[Loss:\t2.270]\n"
     ]
    },
    {
     "name": "stderr",
     "output_type": "stream",
     "text": [
      "549batch [00:02, 244.47batch/s]                         \n"
     ]
    },
    {
     "name": "stdout",
     "output_type": "stream",
     "text": [
      "[Loss:\t2.268]\n"
     ]
    },
    {
     "name": "stderr",
     "output_type": "stream",
     "text": [
      "549batch [00:02, 240.26batch/s]                         \n"
     ]
    },
    {
     "name": "stdout",
     "output_type": "stream",
     "text": [
      "[Loss:\t2.267]\n"
     ]
    },
    {
     "name": "stderr",
     "output_type": "stream",
     "text": [
      "549batch [00:02, 237.84batch/s]                         \n"
     ]
    },
    {
     "name": "stdout",
     "output_type": "stream",
     "text": [
      "[Loss:\t2.267]\n"
     ]
    },
    {
     "name": "stderr",
     "output_type": "stream",
     "text": [
      "549batch [00:02, 237.87batch/s]                         \n"
     ]
    },
    {
     "name": "stdout",
     "output_type": "stream",
     "text": [
      "[Loss:\t2.266]\n"
     ]
    },
    {
     "name": "stderr",
     "output_type": "stream",
     "text": [
      "549batch [00:02, 238.39batch/s]                         \n"
     ]
    },
    {
     "name": "stdout",
     "output_type": "stream",
     "text": [
      "[Loss:\t2.266]\n"
     ]
    },
    {
     "name": "stderr",
     "output_type": "stream",
     "text": [
      "549batch [00:02, 245.90batch/s]                         \n"
     ]
    },
    {
     "name": "stdout",
     "output_type": "stream",
     "text": [
      "[Loss:\t2.265]\n"
     ]
    },
    {
     "name": "stderr",
     "output_type": "stream",
     "text": [
      "549batch [00:02, 232.17batch/s]                         \n"
     ]
    },
    {
     "name": "stdout",
     "output_type": "stream",
     "text": [
      "[Loss:\t2.265]\n"
     ]
    },
    {
     "name": "stderr",
     "output_type": "stream",
     "text": [
      "549batch [00:02, 242.73batch/s]                         \n"
     ]
    },
    {
     "name": "stdout",
     "output_type": "stream",
     "text": [
      "[Loss:\t2.265]\n"
     ]
    },
    {
     "name": "stderr",
     "output_type": "stream",
     "text": [
      "549batch [00:02, 239.89batch/s]                         \n"
     ]
    },
    {
     "name": "stdout",
     "output_type": "stream",
     "text": [
      "[Loss:\t2.265]\n"
     ]
    },
    {
     "name": "stderr",
     "output_type": "stream",
     "text": [
      "549batch [00:02, 234.38batch/s]                         \n"
     ]
    },
    {
     "name": "stdout",
     "output_type": "stream",
     "text": [
      "[Loss:\t2.265]\n"
     ]
    },
    {
     "name": "stderr",
     "output_type": "stream",
     "text": [
      "549batch [00:02, 244.53batch/s]                         \n"
     ]
    },
    {
     "name": "stdout",
     "output_type": "stream",
     "text": [
      "[Loss:\t2.265]\n"
     ]
    },
    {
     "name": "stderr",
     "output_type": "stream",
     "text": [
      "549batch [00:02, 245.03batch/s]                         \n"
     ]
    },
    {
     "name": "stdout",
     "output_type": "stream",
     "text": [
      "[Loss:\t2.265]\n"
     ]
    },
    {
     "name": "stderr",
     "output_type": "stream",
     "text": [
      "549batch [00:02, 239.47batch/s]                         \n"
     ]
    },
    {
     "name": "stdout",
     "output_type": "stream",
     "text": [
      "[Loss:\t2.264]\n"
     ]
    },
    {
     "name": "stderr",
     "output_type": "stream",
     "text": [
      "549batch [00:02, 240.51batch/s]                         \n"
     ]
    },
    {
     "name": "stdout",
     "output_type": "stream",
     "text": [
      "[Loss:\t2.264]\n"
     ]
    },
    {
     "name": "stderr",
     "output_type": "stream",
     "text": [
      "549batch [00:02, 243.34batch/s]                         \n"
     ]
    },
    {
     "name": "stdout",
     "output_type": "stream",
     "text": [
      "[Loss:\t2.264]\n"
     ]
    },
    {
     "name": "stderr",
     "output_type": "stream",
     "text": [
      "549batch [00:02, 248.75batch/s]                         \n"
     ]
    },
    {
     "name": "stdout",
     "output_type": "stream",
     "text": [
      "[Loss:\t2.264]\n"
     ]
    },
    {
     "name": "stderr",
     "output_type": "stream",
     "text": [
      "549batch [00:02, 239.98batch/s]                         \n"
     ]
    },
    {
     "name": "stdout",
     "output_type": "stream",
     "text": [
      "[Loss:\t2.264]\n"
     ]
    },
    {
     "name": "stderr",
     "output_type": "stream",
     "text": [
      "549batch [00:02, 239.48batch/s]                         \n"
     ]
    },
    {
     "name": "stdout",
     "output_type": "stream",
     "text": [
      "[Loss:\t2.264]\n"
     ]
    },
    {
     "name": "stderr",
     "output_type": "stream",
     "text": [
      "549batch [00:02, 244.91batch/s]                         \n"
     ]
    },
    {
     "name": "stdout",
     "output_type": "stream",
     "text": [
      "[Loss:\t2.264]\n"
     ]
    },
    {
     "name": "stderr",
     "output_type": "stream",
     "text": [
      "549batch [00:02, 244.73batch/s]                         \n"
     ]
    },
    {
     "name": "stdout",
     "output_type": "stream",
     "text": [
      "[Loss:\t2.264]\n"
     ]
    },
    {
     "name": "stderr",
     "output_type": "stream",
     "text": [
      "549batch [00:02, 243.92batch/s]                         \n"
     ]
    },
    {
     "name": "stdout",
     "output_type": "stream",
     "text": [
      "[Loss:\t2.264]\n"
     ]
    },
    {
     "name": "stderr",
     "output_type": "stream",
     "text": [
      "549batch [00:02, 250.43batch/s]                         \n"
     ]
    },
    {
     "name": "stdout",
     "output_type": "stream",
     "text": [
      "[Loss:\t2.264]\n"
     ]
    },
    {
     "name": "stderr",
     "output_type": "stream",
     "text": [
      "549batch [00:02, 246.62batch/s]                         \n"
     ]
    },
    {
     "name": "stdout",
     "output_type": "stream",
     "text": [
      "[Loss:\t2.264]\n"
     ]
    },
    {
     "name": "stderr",
     "output_type": "stream",
     "text": [
      "549batch [00:02, 246.03batch/s]                         \n"
     ]
    },
    {
     "name": "stdout",
     "output_type": "stream",
     "text": [
      "[Loss:\t2.264]\n"
     ]
    },
    {
     "name": "stderr",
     "output_type": "stream",
     "text": [
      "549batch [00:02, 214.20batch/s]                         \n"
     ]
    },
    {
     "name": "stdout",
     "output_type": "stream",
     "text": [
      "[Loss:\t2.264]\n"
     ]
    },
    {
     "name": "stderr",
     "output_type": "stream",
     "text": [
      "549batch [00:02, 235.15batch/s]                         \n"
     ]
    },
    {
     "name": "stdout",
     "output_type": "stream",
     "text": [
      "[Loss:\t2.264]\n"
     ]
    },
    {
     "name": "stderr",
     "output_type": "stream",
     "text": [
      "549batch [00:02, 236.65batch/s]                         \n"
     ]
    },
    {
     "name": "stdout",
     "output_type": "stream",
     "text": [
      "[Loss:\t2.264]\n"
     ]
    },
    {
     "name": "stderr",
     "output_type": "stream",
     "text": [
      "549batch [00:02, 249.11batch/s]                         \n"
     ]
    },
    {
     "name": "stdout",
     "output_type": "stream",
     "text": [
      "[Loss:\t2.264]\n"
     ]
    },
    {
     "name": "stderr",
     "output_type": "stream",
     "text": [
      "549batch [00:02, 247.63batch/s]                         \n"
     ]
    },
    {
     "name": "stdout",
     "output_type": "stream",
     "text": [
      "[Loss:\t2.264]\n"
     ]
    },
    {
     "name": "stderr",
     "output_type": "stream",
     "text": [
      "549batch [00:02, 249.84batch/s]                         \n"
     ]
    },
    {
     "name": "stdout",
     "output_type": "stream",
     "text": [
      "[Loss:\t2.264]\n"
     ]
    },
    {
     "name": "stderr",
     "output_type": "stream",
     "text": [
      "549batch [00:02, 237.35batch/s]                         \n"
     ]
    },
    {
     "name": "stdout",
     "output_type": "stream",
     "text": [
      "[Loss:\t2.264]\n"
     ]
    },
    {
     "name": "stderr",
     "output_type": "stream",
     "text": [
      "549batch [00:02, 239.06batch/s]                         \n"
     ]
    },
    {
     "name": "stdout",
     "output_type": "stream",
     "text": [
      "[Loss:\t2.264]\n"
     ]
    },
    {
     "name": "stderr",
     "output_type": "stream",
     "text": [
      "549batch [00:02, 238.84batch/s]                         \n"
     ]
    },
    {
     "name": "stdout",
     "output_type": "stream",
     "text": [
      "[Loss:\t2.264]\n"
     ]
    },
    {
     "name": "stderr",
     "output_type": "stream",
     "text": [
      "549batch [00:02, 236.49batch/s]                         \n"
     ]
    },
    {
     "name": "stdout",
     "output_type": "stream",
     "text": [
      "[Loss:\t2.264]\n"
     ]
    },
    {
     "name": "stderr",
     "output_type": "stream",
     "text": [
      "549batch [00:02, 249.69batch/s]                         \n"
     ]
    },
    {
     "name": "stdout",
     "output_type": "stream",
     "text": [
      "[Loss:\t2.264]\n"
     ]
    },
    {
     "name": "stderr",
     "output_type": "stream",
     "text": [
      "549batch [00:02, 244.64batch/s]                         \n"
     ]
    },
    {
     "name": "stdout",
     "output_type": "stream",
     "text": [
      "[Loss:\t2.264]\n"
     ]
    },
    {
     "name": "stderr",
     "output_type": "stream",
     "text": [
      "549batch [00:02, 219.79batch/s]                         \n"
     ]
    },
    {
     "name": "stdout",
     "output_type": "stream",
     "text": [
      "[Loss:\t2.264]\n"
     ]
    },
    {
     "name": "stderr",
     "output_type": "stream",
     "text": [
      "549batch [00:02, 228.25batch/s]                         \n"
     ]
    },
    {
     "name": "stdout",
     "output_type": "stream",
     "text": [
      "[Loss:\t2.264]\n"
     ]
    },
    {
     "name": "stderr",
     "output_type": "stream",
     "text": [
      "549batch [00:02, 201.53batch/s]                         \n"
     ]
    },
    {
     "name": "stdout",
     "output_type": "stream",
     "text": [
      "[Loss:\t2.264]\n"
     ]
    },
    {
     "name": "stderr",
     "output_type": "stream",
     "text": [
      "549batch [00:02, 206.15batch/s]                         \n"
     ]
    },
    {
     "name": "stdout",
     "output_type": "stream",
     "text": [
      "[Loss:\t2.264]\n"
     ]
    },
    {
     "name": "stderr",
     "output_type": "stream",
     "text": [
      "549batch [00:02, 243.81batch/s]                         \n"
     ]
    },
    {
     "name": "stdout",
     "output_type": "stream",
     "text": [
      "[Loss:\t2.264]\n"
     ]
    },
    {
     "name": "stderr",
     "output_type": "stream",
     "text": [
      "549batch [00:02, 250.38batch/s]                         \n"
     ]
    },
    {
     "name": "stdout",
     "output_type": "stream",
     "text": [
      "[Loss:\t2.264]\n"
     ]
    },
    {
     "name": "stderr",
     "output_type": "stream",
     "text": [
      "549batch [00:02, 250.87batch/s]                         "
     ]
    },
    {
     "name": "stdout",
     "output_type": "stream",
     "text": [
      "[Loss:\t2.264]\n"
     ]
    },
    {
     "name": "stderr",
     "output_type": "stream",
     "text": [
      "\n"
     ]
    }
   ],
   "source": [
    "model.train_(training_data, EPOCHS, BATCH_SIZE, regions.class_weights())"
   ]
  },
  {
   "cell_type": "markdown",
   "metadata": {},
   "source": [
    "# Evaluation"
   ]
  },
  {
   "cell_type": "code",
   "execution_count": 23,
   "metadata": {},
   "outputs": [
    {
     "name": "stdout",
     "output_type": "stream",
     "text": [
      "Predicted\tActual\tLines\tScores\tTypes\n",
      "END\tEND\t('H: Moens.', 'Smith:', 'G', 'Lagber', 'J Viegerman', 'F')\t[2.6800581198749285e-10, 6.606832594034662e-13, 1.0, 4.1578657006451563e-17]\t(<RegionType.PHYSICAL_STRUCTURE_DOC: 'physical_structure_doc'>, <RegionType.TEXT_REGION: 'text_region'>, <RegionType.PAGEXML_DOC: 'pagexml_doc'>, <RegionType.SIGNATURE_MARK: 'signature-mark'>)\n",
      "END\tIN\t('sach gaerne', 'wij daer vaste')\t[0.17536962032318115, 0.07071225345134735, 0.7539181113243103, 3.4276377309377937e-12]\t(<RegionType.MARGINALIA: 'marginalia'>, <RegionType.PHYSICAL_STRUCTURE_DOC: 'physical_structure_doc'>, <RegionType.TEXT_REGION: 'text_region'>, <RegionType.PAGEXML_DOC: 'pagexml_doc'>)\n",
      "IN\tIN\t\"(\"\"'t afgaan van ons Eerbiedig schrij„\"\", '„ven aan VEdele hoog agtb: de dato', \"\"29:' maart pass:o hebben wij\"\", 'van dit Comptoir ontfangen en', 'derwaarts gesonden verscheijde', 'brieven waar van geen singu„', '„liere specificatie zullen doen', 'om dat alle deselve in de Indiase', 'afgaande en aankomende brief„', '„boeken ingeschreeven zijn, maer', 'alleenig in het korte noteeren', 'den staat van saaken en het ge„', '„passeerde aldaar zedert op gem:', 'tijd en voor aff VEd: hoog agtb:', 'ter kennisse brengen dat met')\"\t[0.01976173184812069, 0.9798281788825989, 0.00041008752305060625, 3.251144631288838e-10]\t(<RegionType.PARAGRAPH: 'paragraph'>, <RegionType.PHYSICAL_STRUCTURE_DOC: 'physical_structure_doc'>, <RegionType.TEXT_REGION: 'text_region'>, <RegionType.PAGEXML_DOC: 'pagexml_doc'>)\n",
      "IN\tIN\t\"(\"\"om dan daer op nader ord're te ontfangen,\"\", 'onder beloften van haere devoiren', 'te zullen aanwenden tot de voldoening', 'devoiren tot de cleeden der Cleeden voor den bantamsen sultan', 'en ook voor den Siamsen Coning, der wee„', '=gen men op nieuw reproches heeft', 'moeten afsenden als ook over meer', 'andere gevallen, die men hier onder', 'het subaltern bestier van den Coopm:', 'Joachim Colijns tot palleacatte', 'geremerqueerd had en seer onfatsoenel:', 'van daar gedefendeert waren geworden,', 'bijgevolgen nader Latisfactie begeerd', 'was, na dat die swacke verantwoordingen', 'waren gerefuteerd met meer andere daar', 'annex, na uijtwijsens onser meermael', 'gem: miss: van den 22:e maij naar gem:')\"\t[2.904641327461377e-08, 0.9999955892562866, 4.33656714449171e-06, 3.415419802445946e-13]\t(<RegionType.PARAGRAPH: 'paragraph'>, <RegionType.PHYSICAL_STRUCTURE_DOC: 'physical_structure_doc'>, <RegionType.TEXT_REGION: 'text_region'>, <RegionType.PAGEXML_DOC: 'pagexml_doc'>)\n",
      "IN\tEND\t('belangen, als ik de bere gehad hebbe deselve meer dan', 'eens mondeling te betuijgen, en van mijne eerste', 'principes niet aftewijken, en onder dit beding alleen', 'versoeke ik dat mijne behandelingen verder met een', 'gunstig oog mogen werden aangesien.', 'voor het overige geve ik mij de Eere uEd: h:o agtb: te versckeeren,', 'dat den toestand der saken hier te lande, door gods goedheijt', 'nog dragelijk is, en dat den handel, sowel als de scheep-', 'vaart: van de Comp:, een ander oog begint te krijgen;', 'nevens hare huijshoudinge, volgens het geene daar af', 'vermelt staat bij de thans overgaande generale missive,', 'waar toe ik de vrijheijt neme mij tegedragen.', 'Ik beveele mij in de gunstige attentie en protectie van uEd:', 'h:o agtb: en blijve, met het meeste respect.')\t[0.0009617480682209134, 0.9410210847854614, 0.058017220348119736, 7.060065310149355e-10]\t(<RegionType.PARAGRAPH: 'paragraph'>, <RegionType.PHYSICAL_STRUCTURE_DOC: 'physical_structure_doc'>, <RegionType.TEXT_REGION: 'text_region'>, <RegionType.PAGEXML_DOC: 'pagexml_doc'>)\n",
      "END\tEND\t\"('Batavia', \"\"in 't Casteel van uw\"\", 'Edele Hoog Agtbare', 'den 31 december 1751.')\"\t[1.8979704918820062e-07, 3.0194158284757577e-09, 0.9999997615814209, 9.445300817249435e-15]\t(<RegionType.PARAGRAPH: 'paragraph'>, <RegionType.PHYSICAL_STRUCTURE_DOC: 'physical_structure_doc'>, <RegionType.TEXT_REGION: 'text_region'>, <RegionType.PAGEXML_DOC: 'pagexml_doc'>)\n",
      "IN\tIN\t('het weder vercogte aan haar',)\t[2.6936350927542208e-09, 1.0, 2.9603952384281527e-16, 1.7900590796297465e-15]\t(<RegionType.MARGINALIA: 'marginalia'>, <RegionType.PHYSICAL_STRUCTURE_DOC: 'physical_structure_doc'>, <RegionType.TEXT_REGION: 'text_region'>, <RegionType.PAGEXML_DOC: 'pagexml_doc'>)\n",
      "BEGIN\tBEGIN\t\"(\"\"Aan d' Edele hoog agtb Heeren\"\", 'E', 'De winthebberen, ter', 'Vergadering van seventienen ge', 'Committeerd Representeerende', 'de Generale verEenigde nederlandse', \"\"g'octroijeerde Oost Indische Comp:\"\", 'Ter praesidiale Kamer', 'Tot', 'Middelburg in Zeeland')\"\t[0.996577799320221, 8.241615432780236e-05, 0.003339782590046525, 3.9367463282313775e-12]\t(<RegionType.PARAGRAPH: 'paragraph'>, <RegionType.PHYSICAL_STRUCTURE_DOC: 'physical_structure_doc'>, <RegionType.TEXT_REGION: 'text_region'>, <RegionType.PAGEXML_DOC: 'pagexml_doc'>)\n",
      "IN\tIN\t\"('Gelijck inden onsen van 12. stantij doorgaens aenroeren.', 'heeft de Traffijcq desen Jare geheel sobre voordeelen', \"\"gecontribueert, daer toe gecomen sijn, d'extraordinarij -\"\", \"\"disaisters ter zee; welcke Inconvenienten. t' Indisch tons\"\", '„swackingh dat haest vrij wat verswacken, ende ten achteren setten, dat buijten', 'twijffel eerlangh wel veranderen sal. Godt beware de Comp. e', 'maer voor soo sware ongelucken des zees, Inwelcken', 'gevalle te vertrouwen hebt, soo van v. Ed: anno aenstaende', 'gelecondeert worden met 15. Tonnen aen gelt, &n Coopmans,', 'ende wij daer tegen een retour bestellen van 30. Tonnen, dat', \"\"d'Indise effecten meer staen t'accresseren, als daer nu van —\"\", 'affgesteecken wort, Japan nae alle apparentie sal', 'ons 11. â 12. Tonnen overwinste geven, Parsia niet minder', \"\"als 300. O. gul, d'ander proffijt gevende Comptoiren, sullen de\"\", \"\"t'achtercomende residentien wel drie Tonnen overwegen, Soo -\"\", 'bestaen nu de Batavise ongelden (die dit Jaer noch hoogh', 'geloopen sijn) te minderen, dewijle de fortificatie, en immeragie', 'vande pack ende woonhuijsen, comen te cesseren, In tegendeel', 'staen vanden vijandt cleen voordeel te behalen, ende is apparent', 'desen Jare, omtrent spiritu sancto niet sullen vermogen te', \"\"cruijssen. In voegen t'gene desen aengaende, door t' portugees —\"\", 'Bestant comen te missen, bij proffitable Negotie sullen trachten', 'goet te maecken, waer toe ons Japan groote hoope aenbiedt.', 'Na. ten ware niet vreemt, soo den Chinees dat rijck te frequenteren', 'ontseijt, off door ons ten principale van daer gediverteert wort,')\"\t[0.2535924017429352, 0.6971672773361206, 0.04924029856920242, 1.8433901627368243e-10]\t(<RegionType.PARAGRAPH: 'paragraph'>, <RegionType.PHYSICAL_STRUCTURE_DOC: 'physical_structure_doc'>, <RegionType.TEXT_REGION: 'text_region'>, <RegionType.PAGEXML_DOC: 'pagexml_doc'>)\n",
      "END\tIN\t('denzelven van quaet', 'succes')\t[3.0977798815001734e-07, 0.011473080143332481, 0.9885265827178955, 1.6263122792903317e-10]\t(<RegionType.MARGINALIA: 'marginalia'>, <RegionType.PHYSICAL_STRUCTURE_DOC: 'physical_structure_doc'>, <RegionType.TEXT_REGION: 'text_region'>, <RegionType.PAGEXML_DOC: 'pagexml_doc'>)\n",
      "BEGIN\tBEGIN\t('Wel Edele Hoog Agtbare, Wijze,', 'Voorzienige en zeer Genereuse Heeren.')\t[0.9993649125099182, 1.2214941430159281e-15, 0.0006351337069645524, 2.0285658122363125e-14]\t(<RegionType.PARAGRAPH: 'paragraph'>, <RegionType.PHYSICAL_STRUCTURE_DOC: 'physical_structure_doc'>, <RegionType.TEXT_REGION: 'text_region'>, <RegionType.PAGEXML_DOC: 'pagexml_doc'>)\n",
      "END\tIN\t('aan wij derhalven, ten aansien der respective', 'Collegien en de onder hunne administratie zijnde', 'Cassas der weezen, Armen enz: ons in eerbied', 'refereeren, hier alleen meldende, dat wij den', 'Predicant Hendrik Joan Scharff naar soura', 'baija hebben laaten overgaan, onder toevoeging', 'van zodanige Emolumenten, als de bevoorens', 'op Java bescheiden geweest zijnde zeeraar', 'Lipsius heeft genoten.')\t[0.001640964881516993, 0.09273547679185867, 0.9056235551834106, 7.077014085865585e-09]\t(<RegionType.PARAGRAPH: 'paragraph'>, <RegionType.PHYSICAL_STRUCTURE_DOC: 'physical_structure_doc'>, <RegionType.TEXT_REGION: 'text_region'>, <RegionType.PAGEXML_DOC: 'pagexml_doc'>)\n",
      "END\tEND\t('gelieve ten zeegenen tot verbrijdinge van zijnen', 'heijligen naam, en reputatie onses lieven vaderland:', 'amen!', 'VEd„e zeven trouwschul„', 'dige dienaren', 'Den gouverneur generaal ende', 'Raden van Jndia.', 'Hooe', 'Iam van Hoorn', 'te', 'J', 'W: Diebeeck', 'Transwoll', 'H: VeWilde', 'Vaarde roos', 'Abraham Douglas', 'Henrk: Becker', 'Vevo', 'Comn: Chasteleinjg', 'ƒ', 'Romans.', 'Match„s De Haan', 'JViensen')\t[0.002758084097877145, 2.414953996776603e-05, 0.9972177743911743, 5.537492122828502e-13]\t(<RegionType.PARAGRAPH: 'paragraph'>, <RegionType.PHYSICAL_STRUCTURE_DOC: 'physical_structure_doc'>, <RegionType.TEXT_REGION: 'text_region'>, <RegionType.PAGEXML_DOC: 'pagexml_doc'>)\n",
      "END\tEND\t('Wel Edele, Hoog Agtbare, wijs', 'voorsienige, en seer Genereuse', 'Heeren!', 'UEd„e agtb: onderdanige en getrouwe dienare', 'den Gouverneur Generaal en', 'de Raden van India!')\t[0.0007757087587378919, 3.101547144113148e-11, 0.9992243051528931, 7.098398691757213e-12]\t(<RegionType.PARAGRAPH: 'paragraph'>, <RegionType.PHYSICAL_STRUCTURE_DOC: 'physical_structure_doc'>, <RegionType.TEXT_REGION: 'text_region'>, <RegionType.PAGEXML_DOC: 'pagexml_doc'>)\n",
      "END\tEND\t('Batavia in uE. Hoogh Ed. e Hoogh agtbare gestrenge, wijse', 'voorsienige zeer genereuse Heeren', 'Ed. s Casteel den 27 en fl:', 'T', 'bruarij 1689.', 'UE. hoogh Ed. s getrouwe ende', 'onderdanige Dienaren', 'Den gouverneur generaal ende de', 'Raaden van India')\t[8.527900376975595e-07, 8.370132364987626e-10, 0.9999991655349731, 3.021670438277564e-14]\t(<RegionType.PARAGRAPH: 'paragraph'>, <RegionType.PHYSICAL_STRUCTURE_DOC: 'physical_structure_doc'>, <RegionType.TEXT_REGION: 'text_region'>, <RegionType.PAGEXML_DOC: 'pagexml_doc'>)\n",
      "BEGIN\tEND\t\"('Aan de Edele Achtbr: Heeren', 'Bewindhebberen', \"\"der Generale Nederlandsche g'octroijeerde\"\", 'Oost- Jndische Comp:e ter Presidiale', 'kamer aldaar')\"\t[1.0, 7.119980605096998e-09, 5.938562352980625e-08, 5.403536149209192e-15]\t(<RegionType.PARAGRAPH: 'paragraph'>, <RegionType.PHYSICAL_STRUCTURE_DOC: 'physical_structure_doc'>, <RegionType.TEXT_REGION: 'text_region'>, <RegionType.PAGEXML_DOC: 'pagexml_doc'>)\n",
      "IN\tIN\t('Van het prijsselijk voorneemen, door den voeren', 'van het Engelsch schip The Calcutta te kennen', 'gegeeven, om nog eenige Compagnies Onderhoorigen', 'van onder de magt den Magindanauwers te ver„')\t[0.0005949401529505849, 0.999405026435852, 6.758394022199354e-08, 4.697853911439509e-11]\t(<RegionType.PARAGRAPH: 'paragraph'>, <RegionType.PHYSICAL_STRUCTURE_DOC: 'physical_structure_doc'>, <RegionType.TEXT_REGION: 'text_region'>, <RegionType.PAGEXML_DOC: 'pagexml_doc'>)\n",
      "IN\tBEGIN\t('aende Mayoros gesonden.',)\t[0.000190459075383842, 0.9998095631599426, 5.332521624268338e-08, 2.446600040617586e-11]\t(<RegionType.PARAGRAPH: 'paragraph'>, <RegionType.PHYSICAL_STRUCTURE_DOC: 'physical_structure_doc'>, <RegionType.TEXT_REGION: 'text_region'>, <RegionType.PAGEXML_DOC: 'pagexml_doc'>)\n",
      "END\tEND\t('onse eerbiedige groete en betuijging dat wij', 'sijn', 'Edele Hoog Achtbare Heeren', 'Uwer Ed„e Hoog Achtb:', 'onderdanige, en getrouwe', 'dienaren', 'Den Gouverneur Generaal', 'ende Raden van India')\t[1.4598519726405357e-07, 1.6178106077013865e-10, 0.9999998807907104, 4.1368303097324977e-14]\t(<RegionType.PARAGRAPH: 'paragraph'>, <RegionType.PHYSICAL_STRUCTURE_DOC: 'physical_structure_doc'>, <RegionType.TEXT_REGION: 'text_region'>, <RegionType.PAGEXML_DOC: 'pagexml_doc'>)\n",
      "END\tEND\t('J:b D: Vander Schuer.',)\t[6.593869547599773e-12, 1.7613358688217673e-11, 1.0, 9.888807903706497e-17]\t(<RegionType.PARAGRAPH: 'paragraph'>, <RegionType.PHYSICAL_STRUCTURE_DOC: 'physical_structure_doc'>, <RegionType.TEXT_REGION: 'text_region'>, <RegionType.PAGEXML_DOC: 'pagexml_doc'>)\n",
      "END\tEND\t('Hoogagting', 'Wel Edele Hoog Agtbare Wijze, voorsienige', 'En', 'Zeer Genereuse Heeren!', 'uwer Wel Ed: Hoog Agtb: zeer', 'Ootmoedige in gehoorsame Dienaren', 'Den Gouverneur Generaal', 'en de Raaden van Indie.', 'W A Alsing', 'H: Moens.')\t[0.00016493107250425965, 1.697254316257446e-11, 0.9998350143432617, 1.2064970604606234e-13]\t(<RegionType.PARAGRAPH: 'paragraph'>, <RegionType.PHYSICAL_STRUCTURE_DOC: 'physical_structure_doc'>, <RegionType.TEXT_REGION: 'text_region'>, <RegionType.PAGEXML_DOC: 'pagexml_doc'>)\n",
      "BEGIN\tBEGIN\t('Edele Hoog agtbare Wyse Voorsie', '„nige seer Genereuse Heeren.')\t[0.9990523457527161, 4.1288248861515164e-12, 0.0009476568666286767, 9.935083219439131e-14]\t(<RegionType.PARAGRAPH: 'paragraph'>, <RegionType.PHYSICAL_STRUCTURE_DOC: 'physical_structure_doc'>, <RegionType.TEXT_REGION: 'text_region'>, <RegionType.PAGEXML_DOC: 'pagexml_doc'>)\n",
      "END\tEND\t\"('bevielende, met de meeste hoog agting blijven', 'Wel Edele Hoog Agtb: wijze, Voorzienige', 'en Zeer Genereuse Heeren', 'uw wel Edele Hoog Agtb:', \"\"Batavia in 't Casteel\"\", 'Ootmoedige en Gehoorzaame Lienaren', 'van uw wel Edele Hoog Agtb:', 'den 22. November 1777.', 'De Gouverneur Generaal en', 'de Raaden van Indië', 'W Nadermaeler', 'A D Lork', 'W: A Assing', 'Breton')\"\t[4.740716263995637e-08, 7.1721730117435545e-12, 1.0, 3.374243625055783e-15]\t(<RegionType.PARAGRAPH: 'paragraph'>, <RegionType.PHYSICAL_STRUCTURE_DOC: 'physical_structure_doc'>, <RegionType.TEXT_REGION: 'text_region'>, <RegionType.PAGEXML_DOC: 'pagexml_doc'>)\n",
      "IN\tIN\t\"('101: boeters thin, het week gevoegt by dater van', 'merdegeloe otgaede vrouwe nangpaan, schoon dezelve al vertuigt', 'kon worden wegens het voren geccteerde zilver /: dog', 'niets te halen zoude zijn :/ door ons op 26:dte', 'Julij van soo een schadelijken en nadeeligen aan„', \"\"„schouw is geconsidereert, dat w' ons daar\"\", 'van voor als nog gants weijnig goedts kunnen', 'beloven;')\"\t[2.426809624012094e-05, 0.999972939491272, 2.770516175587545e-06, 4.331413266250861e-12]\t(<RegionType.PARAGRAPH: 'paragraph'>, <RegionType.PHYSICAL_STRUCTURE_DOC: 'physical_structure_doc'>, <RegionType.TEXT_REGION: 'text_region'>, <RegionType.PAGEXML_DOC: 'pagexml_doc'>)\n",
      "IN\tIN\t('333. . . . . . . . . . .',)\t[6.562998805748066e-06, 0.9982660412788391, 0.0017274192068725824, 1.2915590472117877e-11]\t(<RegionType.PARAGRAPH: 'paragraph'>, <RegionType.PHYSICAL_STRUCTURE_DOC: 'physical_structure_doc'>, <RegionType.TEXT_REGION: 'text_region'>, <RegionType.PAGEXML_DOC: 'pagexml_doc'>)\n",
      "END\tEND\t('Zee', 'Edele Hoog Agtb: Heeren', 'Uwel Edele Hoog Agtbare', 'onderdanige en Getrouwe', 'Dienaren.', 'Den Gouverneur Generaal', 'ende Raden van India.', 'en betuijging dat wij zijn')\t[0.0031476616859436035, 1.7671762941873226e-09, 0.9968523383140564, 2.0919047744039077e-12]\t(<RegionType.PARAGRAPH: 'paragraph'>, <RegionType.PHYSICAL_STRUCTURE_DOC: 'physical_structure_doc'>, <RegionType.TEXT_REGION: 'text_region'>, <RegionType.PAGEXML_DOC: 'pagexml_doc'>)\n",
      "BEGIN\tBEGIN\t\"('Nevens de Generale missiven van Bed=es ver„', 'gaderinge ons toegesonden, hebben oock ontfangen', 'vEd. e particuliere brieven vande selve affgesondert,', 'ende appart aen ons gedirigeert in dato 5=en', 'october, ende 9„en november des Jaers 1647,', 'waerinne tot onse verwonderinge ende leedebesen', 'EEd. e misnoegen over diversche gelegentheden', \"\"in 't langh ende breede hebben bespeurt\"\", 'ende moeten wij bekennen dat ons de selve', 'hardt, ende vreemt sijn voorgecomen,', 'at wij in allen delen daer aen', 'gelijck wij vertrouwen', 'verontschuldigen, na', 'oui')\"\t[0.5694612860679626, 0.4304046630859375, 0.00013400659372564405, 5.806237157734984e-10]\t(<RegionType.PARAGRAPH: 'paragraph'>, <RegionType.PHYSICAL_STRUCTURE_DOC: 'physical_structure_doc'>, <RegionType.TEXT_REGION: 'text_region'>, <RegionType.PAGEXML_DOC: 'pagexml_doc'>)\n",
      "BEGIN\tBEGIN\t('Nieuw Amsterdam, herderwijck, Henriette Louijse, s hertogen„', '„bosch, ende N: Enchuijsen met den Comandeur Coeckebacker, den 25e:', 'derselver maent meert, ende de Schepen Nassauw met Petten.', 'opden 20 e. april passato.')\t[0.999622106552124, 0.00010784623009385541, 0.00026998313842341304, 1.3330424437907329e-11]\t(<RegionType.PARAGRAPH: 'paragraph'>, <RegionType.PHYSICAL_STRUCTURE_DOC: 'physical_structure_doc'>, <RegionType.TEXT_REGION: 'text_region'>, <RegionType.PAGEXML_DOC: 'pagexml_doc'>)\n",
      "END\tEND\t('uw', 'vande generale comp: uEd:e regeringe', 'desseijnen meer en meer te willen zegen', 'tot eer en grootmaackinge van sijn 5.', 'naam, welvaren en reputatie onses', 'lieven vaderlants, en voordeel der geme', 'participanten Amen, en wij blijv', 'E', 'VEd„e seer trouwschuld', 'Dienaaren', 'Den gouverneur genera', 'en Raden van nederland', 'India.')\t[2.7860300733095755e-08, 7.682022129529287e-08, 0.9999998807907104, 1.933258173231027e-14]\t(<RegionType.PARAGRAPH: 'paragraph'>, <RegionType.PHYSICAL_STRUCTURE_DOC: 'physical_structure_doc'>, <RegionType.TEXT_REGION: 'text_region'>, <RegionType.PAGEXML_DOC: 'pagexml_doc'>)\n",
      "END\tEND\t('biedige groeteverblijven', 'Wel Edele gestrenge Hoog agtb: wijze', 'voorsienige en seer genereuse Heeren', 'Uwel Edele Hoog agtb: onderdanige', 'en getrouwe Dienaren.', 'Den gouverneur generaal ende', 'Raden van India.', 'dV:', 'A Clerpaln', 'WW: Hlom', 'J„ P: van der Schuer.', 'Latras', 'J„s Redens d Willevan Schooken', 'Coijott', 'W: Valckenier')\t[4.931855528411688e-07, 2.2670170185534744e-09, 0.9999995231628418, 3.081145364888793e-14]\t(<RegionType.PARAGRAPH: 'paragraph'>, <RegionType.PHYSICAL_STRUCTURE_DOC: 'physical_structure_doc'>, <RegionType.TEXT_REGION: 'text_region'>, <RegionType.PAGEXML_DOC: 'pagexml_doc'>)\n",
      "IN\tIN\t('de scheeps randsoe„', '„nen voor syn gevolg', 'gevalideerd')\t[1.0102176872806012e-08, 1.0, 4.166067490984915e-09, 7.099079353881099e-14]\t(<RegionType.MARGINALIA: 'marginalia'>, <RegionType.PHYSICAL_STRUCTURE_DOC: 'physical_structure_doc'>, <RegionType.TEXT_REGION: 'text_region'>, <RegionType.PAGEXML_DOC: 'pagexml_doc'>)\n",
      "BEGIN\tBEGIN\t('Ed:e hoog agtbare, gestrenge,', 'wijse, voorsienige, en seer Genereuse', 'heeren')\t[0.9999963045120239, 1.6961242133017862e-10, 3.689965751618729e-06, 3.558371181261802e-14]\t(<RegionType.PARAGRAPH: 'paragraph'>, <RegionType.PHYSICAL_STRUCTURE_DOC: 'physical_structure_doc'>, <RegionType.TEXT_REGION: 'text_region'>, <RegionType.PAGEXML_DOC: 'pagexml_doc'>)\n",
      "END\tEND\t('J„s D: vander Schuer.', 'Wele van Schoolen', 'A: Hayer')\t[1.6045274264797627e-07, 5.849510102962086e-07, 0.9999992847442627, 1.050255887168278e-14]\t(<RegionType.PARAGRAPH: 'paragraph'>, <RegionType.PHYSICAL_STRUCTURE_DOC: 'physical_structure_doc'>, <RegionType.TEXT_REGION: 'text_region'>, <RegionType.PAGEXML_DOC: 'pagexml_doc'>)\n",
      "IN\tIN\t('op paene van vergoedinge', 'door de versuijmers')\t[1.6780131772975437e-06, 0.9999983310699463, 1.3238146578942178e-08, 1.907549198622554e-14]\t(<RegionType.MARGINALIA: 'marginalia'>, <RegionType.PHYSICAL_STRUCTURE_DOC: 'physical_structure_doc'>, <RegionType.TEXT_REGION: 'text_region'>, <RegionType.PAGEXML_DOC: 'pagexml_doc'>)\n",
      "BEGIN\tEND\t('Wel Edele Hoog Agtbare wijze voorsienige', 'en', 'zeer Genereuse Heeren,')\t[0.981255829334259, 9.500459308142695e-10, 0.018744103610515594, 2.3194162587195262e-14]\t(<RegionType.PARAGRAPH: 'paragraph'>, <RegionType.PHYSICAL_STRUCTURE_DOC: 'physical_structure_doc'>, <RegionType.TEXT_REGION: 'text_region'>, <RegionType.PAGEXML_DOC: 'pagexml_doc'>)\n",
      "END\tEND\t('Mart= Zit.', 'J. Joan van Hoore', 'W: van Outhoorn')\t[2.8159427529317327e-05, 4.417976029458259e-08, 0.999971866607666, 5.827174002657684e-14]\t(<RegionType.PHYSICAL_STRUCTURE_DOC: 'physical_structure_doc'>, <RegionType.TEXT_REGION: 'text_region'>, <RegionType.PAGEXML_DOC: 'pagexml_doc'>, <RegionType.SIGNATURE_MARK: 'signature-mark'>)\n",
      "IN\tIN\t('moeten voegen, dat de mindere inzaam van', '179: te attribueeren is, geweest, aan eense', 'ongunstig Jaar saysaen, dog dat UwelEd', 'Hoog Achtb echter verzekerd kunnen', 'zyn, dat de koffij Culture, zoo hier als', 'op Java voor een quarte extentie', 'ratbaar is, en dat nij in staat zullen', 'zijn s Jaars minie quantiteiten afte', 'zenden, indien men maar volk heeft tot', 'bemanning der scheepen, en geld ter beta„', '„ling, dog dat mij ten opzigte det joeper', 'dog de peeper Culture in de Jaccatrase bovenham', '„den geen volgende tie zeggingen kun', '„nen daen, maar daar en teegen hoop heb', '„ben, dat die Cultire op Jara Zal opre', '1men')\t[4.669672648560663e-07, 0.994179368019104, 0.005820179358124733, 1.733171245410503e-10]\t(<RegionType.PARAGRAPH: 'paragraph'>, <RegionType.PHYSICAL_STRUCTURE_DOC: 'physical_structure_doc'>, <RegionType.TEXT_REGION: 'text_region'>, <RegionType.PAGEXML_DOC: 'pagexml_doc'>)\n",
      "BEGIN\tEND\t('wel Edele Hoog Agtbare wijze voorsienige', 'Zeer Genereuse Heeren')\t[0.9977117776870728, 2.2301003274952103e-13, 0.0022881925106048584, 1.289978577922275e-14]\t(<RegionType.PARAGRAPH: 'paragraph'>, <RegionType.PHYSICAL_STRUCTURE_DOC: 'physical_structure_doc'>, <RegionType.TEXT_REGION: 'text_region'>, <RegionType.PAGEXML_DOC: 'pagexml_doc'>)\n",
      "END\tEND\t('Batavia', 'Casteel van', 'd: Hoog agtbare', '11: maert 1703.')\t[9.922102435666602e-06, 4.461634617314303e-08, 0.9999901056289673, 5.317619903303294e-15]\t(<RegionType.MARGINALIA: 'marginalia'>, <RegionType.PHYSICAL_STRUCTURE_DOC: 'physical_structure_doc'>, <RegionType.TEXT_REGION: 'text_region'>, <RegionType.PAGEXML_DOC: 'pagexml_doc'>)\n",
      "END\tEND\t('Corn: Chasselein', 'Math„s De Haan')\t[3.0968470010606097e-09, 0.0007599066011607647, 0.9992401599884033, 3.216803722266154e-13]\t(<RegionType.PARAGRAPH: 'paragraph'>, <RegionType.PHYSICAL_STRUCTURE_DOC: 'physical_structure_doc'>, <RegionType.TEXT_REGION: 'text_region'>, <RegionType.PAGEXML_DOC: 'pagexml_doc'>)\n",
      "END\tEND\t\"('Goodes zeegen haare voorwaarts gemelte', 'rijse Gerustelijk te kunnen onderneemen', 'Dit al het geene zijnde hoog Edele groot', 'agtb:re heereen heeren, dat wij van die boodem', 'weeten te berigten, zoo zullen wij in hoope', 'van hier meede voldaan te hebben, met alle', 'schuldige Eerbied en diepste ontsag blijven /:o', 'derstond:/ uw hoog Edelens Gants onder', 'nige en trouwschuldige Dienaaren /:was', \"\"getekend:/ f:s van Nek, J:r D' boer, Rr Brug\"\", 'man, J:n De wit, Jan van Thiel, Jan van', 'hennekelaar, J: v: O Beek Matthijs de', \"\"Bruijn /:in margine:/ Batavia den 27:' sep\"\", '1740. /:daar onder:/ hier meede Conformeere ik', 'mij / /was getekend :/ A: J: Guldenarm.')\"\t[0.00024283466336783022, 3.1231861612468492e-06, 0.999754011631012, 1.3331820456624621e-12]\t(<RegionType.PARAGRAPH: 'paragraph'>, <RegionType.PHYSICAL_STRUCTURE_DOC: 'physical_structure_doc'>, <RegionType.TEXT_REGION: 'text_region'>, <RegionType.PAGEXML_DOC: 'pagexml_doc'>)\n",
      "IN\tIN\t\"('verleent Citatie bij edicte, Contrarie de positie van ge„', 'melde Rade bij haaren brief, niets van haar heb„', '„ben gevordert als waar van bij het door den pro', 'interim Water Fiscaal bij ons ingedient Request', 'meldinge is gemaakt, nadien dien Officier ons wel', 'duidelijk bij zijn supplicq heeft te kennen gegeven,', 'dat hij den 4. Januari des morgens vroeg den', 'Heer Raad Eietra Ordinair en Prasident Schip¬', \"\"„pers van 't een en ander, en van zyn vettig\"\", 'regt met exclusie van alle anderen hadde gein¬', '„formeert, en dat zyn Ed. ook gezegt hadde, over', 'de zaak met den Advocaat Fiscaal, die', 'toen naar boord was te zullen spreken, dus', 'voor het verlenen van de Citatie bij edicte, dat', 'eerst den 6. daar aan is geschiet.', 'Wij nemen de vryheid het gedrag zo door on')\"\t[2.4122531613102183e-05, 0.999970555305481, 5.3157605179876555e-06, 1.098460211679253e-11]\t(<RegionType.PARAGRAPH: 'paragraph'>, <RegionType.PHYSICAL_STRUCTURE_DOC: 'physical_structure_doc'>, <RegionType.TEXT_REGION: 'text_region'>, <RegionType.PAGEXML_DOC: 'pagexml_doc'>)\n",
      "IN\tIN\t('en Eeindelijk het gevaar, dat uit sodanige eene', 'vroegere aanbesteeding, om het slegt Cre„', 'diet so van Jnlanders als Europeesen was', 'te dugten:')\t[0.02097133919596672, 0.9789972901344299, 3.1394527468364686e-05, 1.570353569402272e-10]\t(<RegionType.PARAGRAPH: 'paragraph'>, <RegionType.PHYSICAL_STRUCTURE_DOC: 'physical_structure_doc'>, <RegionType.TEXT_REGION: 'text_region'>, <RegionType.PAGEXML_DOC: 'pagexml_doc'>)\n",
      "IN\tEND\t\"('Aan Weesmeesteren zijn verleent authenticque Copijen van twee na Neder„', \"\"op nieuw verleende assijland gesondene dog waarscheijnelijk met de scheepen Perzijnenburg 't\"\", 'zoek geraakte assignatien van ƒ33600„ - ten behoeve des boedels van', 'den koopman Iacob Alexander van der werp.', 'Insgelijks aan den Koopman Ieremias Saimpe Uxoris nomine', 'nieuwe assignatien in stede van de mede met voorsz: bodems', '„1380 — . versondene groot ƒ3611„10„ — door den burger Johannes', 'de Haas geremitteerd.', 'Wijders versoeken wij UwelEd:e Hoog agtb: om een spoedig voldoe„', '„ning van een nader overgaand Eijschje van spijkers voor de', \"\"Timmerwerven wijl w'aan die soorten ten eenemaal gebrek\"\", 'hebben. —', 'Waar meede na verbidding van Comp:s belangen en de dierbaare')\"\t[0.010918576270341873, 0.9890738129615784, 7.644583092769608e-06, 8.752824853797136e-11]\t(<RegionType.PARAGRAPH: 'paragraph'>, <RegionType.PHYSICAL_STRUCTURE_DOC: 'physical_structure_doc'>, <RegionType.TEXT_REGION: 'text_region'>, <RegionType.PAGEXML_DOC: 'pagexml_doc'>)\n",
      "IN\tIN\t('condideratie daar over',)\t[1.0909539330944407e-12, 0.9999996423721313, 3.3228334928026015e-07, 2.4061913486000952e-12]\t(<RegionType.MARGINALIA: 'marginalia'>, <RegionType.PHYSICAL_STRUCTURE_DOC: 'physical_structure_doc'>, <RegionType.TEXT_REGION: 'text_region'>, <RegionType.PAGEXML_DOC: 'pagexml_doc'>)\n",
      "END\tEND\t('Accordeerd.', 'P„s V Berendregt')\t[0.14930734038352966, 0.00028488360112532973, 0.8504077792167664, 2.120385464432495e-11]\t(<RegionType.PHYSICAL_STRUCTURE_DOC: 'physical_structure_doc'>, <RegionType.TEXT_REGION: 'text_region'>, <RegionType.PAGEXML_DOC: 'pagexml_doc'>, <RegionType.SIGNATURE_MARK: 'signature-mark'>)\n",
      "IN\tIN\t('het swerven van hunne sche', 'ontrangenaam')\t[0.02482980117201805, 0.9751701951026917, 2.7428614046698385e-08, 5.664172256225619e-11]\t(<RegionType.MARGINALIA: 'marginalia'>, <RegionType.PHYSICAL_STRUCTURE_DOC: 'physical_structure_doc'>, <RegionType.TEXT_REGION: 'text_region'>, <RegionType.PAGEXML_DOC: 'pagexml_doc'>)\n",
      "END\tEND\t('Uwer wel Edele Hoog agtbare', 'zeer oolmoedige en gehoorzame dienaaren')\t[5.738819163525477e-05, 1.2919818210069267e-12, 0.9999426603317261, 2.2610355292695603e-14]\t(<RegionType.PARAGRAPH: 'paragraph'>, <RegionType.PHYSICAL_STRUCTURE_DOC: 'physical_structure_doc'>, <RegionType.TEXT_REGION: 'text_region'>, <RegionType.PAGEXML_DOC: 'pagexml_doc'>)\n",
      "END\tEND\t('Den Gouverneur Gene„', '„raal ende de Raden van India.', 'op', 'Joan van Ho', 'Ee')\t[0.001595189212821424, 1.164250625151908e-05, 0.9983931183815002, 8.343032861790611e-12]\t(<RegionType.PARAGRAPH: 'paragraph'>, <RegionType.PHYSICAL_STRUCTURE_DOC: 'physical_structure_doc'>, <RegionType.TEXT_REGION: 'text_region'>, <RegionType.PAGEXML_DOC: 'pagexml_doc'>)\n",
      "BEGIN\tBEGIN\t('Wel Edele hoog Achtbare, Wijze, voorzienige', 'en', 'Zeer Genereuse Heeren')\t[0.9999971389770508, 5.087531344115544e-17, 2.831648089340888e-06, 2.714604276585084e-16]\t(<RegionType.PARAGRAPH: 'paragraph'>, <RegionType.PHYSICAL_STRUCTURE_DOC: 'physical_structure_doc'>, <RegionType.TEXT_REGION: 'text_region'>, <RegionType.PAGEXML_DOC: 'pagexml_doc'>)\n",
      "IN\tBEGIN\t('Hoe schorvoetende en stuksgewijse men', 'hier te werk heefd moeten gaan inhet')\t[0.00012068955402355641, 0.9981995820999146, 0.0016796636627987027, 1.3000380771899245e-09]\t(<RegionType.PARAGRAPH: 'paragraph'>, <RegionType.PHYSICAL_STRUCTURE_DOC: 'physical_structure_doc'>, <RegionType.TEXT_REGION: 'text_region'>, <RegionType.PAGEXML_DOC: 'pagexml_doc'>)\n",
      "BEGIN\tBEGIN\t('spoedigh aenlangen', 'van deselve tot de laep')\t[0.9700425863265991, 0.029918372631072998, 3.905467747244984e-05, 4.857728368862224e-12]\t(<RegionType.MARGINALIA: 'marginalia'>, <RegionType.PHYSICAL_STRUCTURE_DOC: 'physical_structure_doc'>, <RegionType.TEXT_REGION: 'text_region'>, <RegionType.PAGEXML_DOC: 'pagexml_doc'>)\n",
      "END\tBEGIN\t('2191', 'Battavia 18 Jan 1765')\t[3.471855052339379e-07, 4.475383320823312e-06, 0.9999951124191284, 8.88231979287446e-13]\t(<RegionType.PHYSICAL_STRUCTURE_DOC: 'physical_structure_doc'>, <RegionType.TEXT_REGION: 'text_region'>, <RegionType.PAGEXML_DOC: 'pagexml_doc'>, <RegionType.HEADER: 'header'>)\n",
      "BEGIN\tEND\t('den 29 Maij 1792', 'P: S: na de afsluiting van deese hebben wij den 22: dezer, met', 'een Particuliere scheeps occagie, ontvangen eene aparte', 'brief van den Heer Gouverneur van Mallabaar van', 'Angelbeek, ged: den 29. maart: I„o Leeden, waar van wij', 'uwe Ed„e Hoog Achtb=e een afschrift neevens deesen', 'aanbieden de reedenen waarom wij vermeend hebben', 'zijn Ed: versoek, om desselfs ontslag uit het bestier', 'van Mallabaar niet te kunnen accordeeren, ver„', 'meld zijnde bij ons antwoord op die brief, versoeken', 'wij uwelEd„e Hoog Achtb=e aen den inhoud daar van te', 'mogen overwijzen, waar toe een Copia van dezelve', 'onder de bylagen overgaat. — wij vertrouwen intus„', 'schen, dat onse dispositie daar omtrent Hoogst„', 'derselve goedkeuring zal erlangen, alzo wij een parig', 'vermeenen, dat het belang van de Comp=e het aan', 'zijn van ged: Heer van Angelbeek „ volstrekt gordert', 'tot zo lange de gewigtige saken bij gem: brief voor„', '„komende geschikt zijn.', 'Wij maaken voorts van deese geleegendheid noch gebruik„', 'om uwelEd„e Hoog Achtb=r te laate toekoomen, Copia van', 'Dr elgenart', 'van een door ons aan het Ministerie van Ceilon afgezonden')\t[0.999985933303833, 1.3193664017308038e-05, 8.50241121952422e-07, 1.0359147350688658e-12]\t(<RegionType.PARAGRAPH: 'paragraph'>, <RegionType.PHYSICAL_STRUCTURE_DOC: 'physical_structure_doc'>, <RegionType.TEXT_REGION: 'text_region'>, <RegionType.PAGEXML_DOC: 'pagexml_doc'>)\n",
      "END\tEND\t('2', 'J„ Loeiser', 'JW. Mleuren')\t[1.19938661669039e-07, 6.049985756817478e-08, 0.9999997615814209, 5.429229728993849e-18]\t(<RegionType.PHYSICAL_STRUCTURE_DOC: 'physical_structure_doc'>, <RegionType.TEXT_REGION: 'text_region'>, <RegionType.PAGEXML_DOC: 'pagexml_doc'>, <RegionType.SIGNATURE_MARK: 'signature-mark'>)\n",
      "END\tEND\t('uwer Wel Edele Hoog Agtb. ootmoedige en', 'seer gehoorsaame Dienaaren', 'Den Gouverneur Generaal en de Raaden', '.', 'van Indie')\t[4.5863721425121184e-06, 2.277704691522331e-09, 0.9999954700469971, 3.196606797621279e-14]\t(<RegionType.PARAGRAPH: 'paragraph'>, <RegionType.PHYSICAL_STRUCTURE_DOC: 'physical_structure_doc'>, <RegionType.TEXT_REGION: 'text_region'>, <RegionType.PAGEXML_DOC: 'pagexml_doc'>)\n",
      "IN\tEND\t\"('§62', \"\"D' Manbaas der scheeps\"\", 'timmerlieden op de', 'Equipagie werff')\"\t[0.002002985216677189, 0.9971879124641418, 0.000809056160505861, 4.960120855712624e-11]\t(<RegionType.MARGINALIA: 'marginalia'>, <RegionType.PHYSICAL_STRUCTURE_DOC: 'physical_structure_doc'>, <RegionType.TEXT_REGION: 'text_region'>, <RegionType.PAGEXML_DOC: 'pagexml_doc'>)\n",
      "IN\tBEGIN\t('de straat sunda geraakt.',)\t[0.04718543961644173, 0.9528145790100098, 1.0993059795794125e-09, 3.025214567742296e-08]\t(<RegionType.MARGINALIA: 'marginalia'>, <RegionType.PHYSICAL_STRUCTURE_DOC: 'physical_structure_doc'>, <RegionType.TEXT_REGION: 'text_region'>, <RegionType.PAGEXML_DOC: 'pagexml_doc'>)\n",
      "IN\tIN\t('waar mede hij na ceilen woord=', 'gereustijeerd')\t[8.297764679809916e-07, 0.6150994300842285, 0.38489973545074463, 1.3648986385561557e-09]\t(<RegionType.MARGINALIA: 'marginalia'>, <RegionType.PHYSICAL_STRUCTURE_DOC: 'physical_structure_doc'>, <RegionType.TEXT_REGION: 'text_region'>, <RegionType.PAGEXML_DOC: 'pagexml_doc'>)\n",
      "END\tEND\t('Batavia', 'in het Casteel van')\t[8.380894911397263e-08, 3.079378814163647e-07, 0.9999995231628418, 9.360158047949652e-13]\t(<RegionType.PARAGRAPH: 'paragraph'>, <RegionType.PHYSICAL_STRUCTURE_DOC: 'physical_structure_doc'>, <RegionType.TEXT_REGION: 'text_region'>, <RegionType.PAGEXML_DOC: 'pagexml_doc'>)\n",
      "BEGIN\tEND\t('Wel Edele Hoog Achtbaare Wijse Voorsienige',)\t[0.999941349029541, 3.6156545795286e-15, 5.8592315326677635e-05, 1.034350683649563e-15]\t(<RegionType.PARAGRAPH: 'paragraph'>, <RegionType.PHYSICAL_STRUCTURE_DOC: 'physical_structure_doc'>, <RegionType.TEXT_REGION: 'text_region'>, <RegionType.PAGEXML_DOC: 'pagexml_doc'>)\n",
      "BEGIN\tBEGIN\t('Edele Erntfeste Hoogh„', '„aghtbaare, manhafte, wijse', 'Voorsienige, seer genereuse', 'Heeren')\t[0.9898276329040527, 3.783838735671452e-07, 0.010172014124691486, 4.5366822278014585e-12]\t(<RegionType.PARAGRAPH: 'paragraph'>, <RegionType.PHYSICAL_STRUCTURE_DOC: 'physical_structure_doc'>, <RegionType.TEXT_REGION: 'text_region'>, <RegionType.PAGEXML_DOC: 'pagexml_doc'>)\n",
      "IN\tIN\t('Ontfangene Coopmanz.',)\t[0.16067545115947723, 0.8390818238258362, 0.00024272962764371186, 7.59577845066417e-10]\t(<RegionType.MARGINALIA: 'marginalia'>, <RegionType.PHYSICAL_STRUCTURE_DOC: 'physical_structure_doc'>, <RegionType.TEXT_REGION: 'text_region'>, <RegionType.PAGEXML_DOC: 'pagexml_doc'>)\n",
      "END\tEND\t\"('met de Macassaren, continueren zall. ende dat de voors', 'drie schepen. die metten eersten Innewaerts vertrecken. In', 'passant Macassar aen doen, en haer alle mogeljk affbreck', \"\"doen zullen, tot revenje. ende straffe van d' exectabele moort.\"\", 'bij haerlieden gedaen. Waer door oock hopen te Peter van', 'Amboijna ende Manda blijven zullen.', 'soo Gijsbert van Viamen. (die eertijts het Gouverneucet', 'vande Moluques bedickt heeft:) met het Schip den Engel', \"\"herwerts gecomen Is. met commissie van d' Heer Grenhaell\"\", 'Reaell. omme als Commandeur, met de Schepen- naert', \"\"Vaderlandt te keren. Ende alhoewel t'selve tegens\"\", 'v. Ed: ordre strijt. Is nochtans bijden Raedt. naer', 'verscheijden consuderatien. goetgevonden. om Jacousie. ene contentie', 'Persoon. In die qualite. met', 'te weren. de voorss.', 'Sierickse: te laten keeren. Twelck v. Ed: ten goede', 'gelieven te verstaen.', \"\"Int' Schip TWapen van Amsterdam. Legen ende bijde eijlanden\"\", 'van Jacatra. adn. 5. october. @o 1618:')\"\t[0.0014271684922277927, 0.4812045395374298, 0.5173683166503906, 6.491561732602236e-10]\t(<RegionType.PARAGRAPH: 'paragraph'>, <RegionType.PHYSICAL_STRUCTURE_DOC: 'physical_structure_doc'>, <RegionType.TEXT_REGION: 'text_region'>, <RegionType.PAGEXML_DOC: 'pagexml_doc'>)\n",
      "BEGIN\tBEGIN\t('Ter vergadering van 17=mn gecommitteerd', 'de Generaale Nederlandsche geoctroijeerde', 'oost indische Comp:e repraesenteerende', 'ter Praesidiale kamer.')\t[0.9999250173568726, 7.432993152178824e-05, 6.307528792603989e-07, 3.4163010961818507e-12]\t(<RegionType.PARAGRAPH: 'paragraph'>, <RegionType.PHYSICAL_STRUCTURE_DOC: 'physical_structure_doc'>, <RegionType.TEXT_REGION: 'text_region'>, <RegionType.PAGEXML_DOC: 'pagexml_doc'>)\n",
      "IN\tIN\t('dat gezag te aan vaarden, zoo als Uwel Ed: Hoog', 'Agtb: nader zal blijken, uijt het nevens der„', '„zen in Copia overgaand Request van gem: Capitain', 'vaartjes.')\t[5.866756964678643e-06, 0.9936903715133667, 0.006303792353719473, 1.1022167553664808e-11]\t(<RegionType.PARAGRAPH: 'paragraph'>, <RegionType.PHYSICAL_STRUCTURE_DOC: 'physical_structure_doc'>, <RegionType.TEXT_REGION: 'text_region'>, <RegionType.PAGEXML_DOC: 'pagexml_doc'>)\n",
      "BEGIN\tBEGIN\t\"(\"\"De Schepen asia, 't Wapen van Z: Zee\"\", 'T Wapen van Alkmaar, ende den Briel', 'sijn de Heere sijdancq 9 deses in goede', 'ordre, ende van dringwater, en andere', \"\"nootlickheden behoorlijk voorsien van't\"\", \"\"princen Eijlant 't zee gesteeken, ende met een\"\", 'goede wint voortgeseijlt, in Compagnie', \"\"van't Jaght Voorhout, gedestineert nae de\"\", 'Cabo de Bonne Esperance. de Heere', 'willen wij verhopen, dat deselve voort', 'geleijden, mitsgaders voorspoedigh ende', 'behouden, in de havenen des lieven vaderl', \"\"brengen sall, 't welg ons te sijner tijt\"\", 'een gansch aangename tijdinge sal wesen', 'Nu volgt, naebeloften, het Jaght muijerberg', 'met onse naarder consideranien over, ofte')\"\t[0.6246290802955627, 0.0005974416271783412, 0.37477347254753113, 4.248267362894076e-11]\t(<RegionType.PARAGRAPH: 'paragraph'>, <RegionType.PHYSICAL_STRUCTURE_DOC: 'physical_structure_doc'>, <RegionType.TEXT_REGION: 'text_region'>, <RegionType.PAGEXML_DOC: 'pagexml_doc'>)\n",
      "BEGIN\tBEGIN\t('De WelEdele Hoog agtbare Heeren',)\t[0.9984449744224548, 2.6497026794913836e-11, 0.0015550360549241304, 1.351296732930024e-13]\t(<RegionType.PARAGRAPH: 'paragraph'>, <RegionType.PHYSICAL_STRUCTURE_DOC: 'physical_structure_doc'>, <RegionType.TEXT_REGION: 'text_region'>, <RegionType.PAGEXML_DOC: 'pagexml_doc'>)\n",
      "BEGIN\tBEGIN\t('Wel-Edele, Hoog Agtbaare, Wijze,', 'Voorzienige en zeer Genereuse', 'Heeren.')\t[0.948194682598114, 6.604183752602008e-15, 0.05180535092949867, 1.681071731471362e-13]\t(<RegionType.PARAGRAPH: 'paragraph'>, <RegionType.PHYSICAL_STRUCTURE_DOC: 'physical_structure_doc'>, <RegionType.TEXT_REGION: 'text_region'>, <RegionType.PAGEXML_DOC: 'pagexml_doc'>)\n",
      "END\tEND\t('verrigtingen, zullen wij naar gedienstige', 'guoete verblijven', 'Edele Hoog agtb: Heeren', 'UEd.:le Hoog agtb: onderdanig', 'en gehoorsame dienaren', 'Den gouverneur generaal', 'ende de Raden van India', 'aan van Hoorn')\t[5.261032924863684e-07, 1.2246269420757017e-07, 0.9999994039535522, 1.0366678218978742e-12]\t(<RegionType.PARAGRAPH: 'paragraph'>, <RegionType.PHYSICAL_STRUCTURE_DOC: 'physical_structure_doc'>, <RegionType.TEXT_REGION: 'text_region'>, <RegionType.PAGEXML_DOC: 'pagexml_doc'>)\n",
      "IN\tIN\t\"('dat sij na malacca weder souden koomen afsacken,', 'en vernemen, of daer ook eenig onraet was, om soo', 'doende in dit wijt uijtgestrekte gebied alomme te decken', \"\"de plaetsen die wel 't meeste perijkel mogten loopen,\"\", 'van door de fransen te werden aengetast; hebbende wij', 'met de voorsz: schepen mede na Ceijlon bestelt de pro„', '„visien voor de Ceijlonse retourschepen van spek,', 'vlijs en rijs ƒ 100 lb in Contant en nog ƒ 200 l', \"\"voor't gouvernement van Chormandel\"\", \"\"waer op den 12:' september daer aen over Tutucorijn\"\", 'na persia gevolgt is de fluijt voorschooten met', \"\"ons schrijven onder den selven datum en 't manquerende\"\", \"\"voor de retourschepen en diverse behoeften voor 't Ceijlons\"\", \"\"gouvernement om 't een en 't ander op Colombo Enpass:\"\", 'over te geven, en dan ter eerstgen: plaetse in te ne„', \"\"„men 't opperhooft alexander bergaigne met sijn baga„\"\", '„gie, die wij tot directeur van persia hebben aen„', 'gestelt, middelerwijlen dat wij bij die occasien den', 'gouverneur Thomas van rhee hebben kennisse')\"\t[0.00014018248475622386, 0.9974405765533447, 0.0024191744159907103, 3.840891493744891e-10]\t(<RegionType.PARAGRAPH: 'paragraph'>, <RegionType.PHYSICAL_STRUCTURE_DOC: 'physical_structure_doc'>, <RegionType.TEXT_REGION: 'text_region'>, <RegionType.PAGEXML_DOC: 'pagexml_doc'>)\n",
      "END\tEND\t('vaan de roor', 'frans Castelijn', 'Matth„s De Haan', 'J: Zuurierman')\t[0.026499556377530098, 0.0004263805749360472, 0.9730739593505859, 9.204496973641563e-13]\t(<RegionType.PARAGRAPH: 'paragraph'>, <RegionType.PHYSICAL_STRUCTURE_DOC: 'physical_structure_doc'>, <RegionType.TEXT_REGION: 'text_region'>, <RegionType.PAGEXML_DOC: 'pagexml_doc'>)\n",
      "IN\tIN\t('Die van mallabaar', 'is de bevordering van', 'mom Inzaam aan„', 'geschreven.')\t[6.782274297734148e-09, 0.999995231628418, 4.738546977023361e-06, 1.8612507368676035e-12]\t(<RegionType.MARGINALIA: 'marginalia'>, <RegionType.PHYSICAL_STRUCTURE_DOC: 'physical_structure_doc'>, <RegionType.TEXT_REGION: 'text_region'>, <RegionType.PAGEXML_DOC: 'pagexml_doc'>)\n",
      "END\tEND\t('naar onse eerbiedige Groetenisse de', 'genadige bescherminge godes almaghtigh', 'bevelen; ende verblijven', 'VEds Eer en Trouwschuldige', 'dienaeren', 'Den Gouv:r Generaal', 'en de Raden van Jndia')\t[5.3216059114902237e-08, 3.70852575315439e-07, 0.9999996423721313, 8.291533692278419e-13]\t(<RegionType.PARAGRAPH: 'paragraph'>, <RegionType.PHYSICAL_STRUCTURE_DOC: 'physical_structure_doc'>, <RegionType.TEXT_REGION: 'text_region'>, <RegionType.PAGEXML_DOC: 'pagexml_doc'>)\n",
      "IN\tIN\t('verwitselde belasting',)\t[8.448080990319795e-08, 0.9999998807907104, 1.9779928563112836e-12, 1.6974756669729807e-11]\t(<RegionType.MARGINALIA: 'marginalia'>, <RegionType.PHYSICAL_STRUCTURE_DOC: 'physical_structure_doc'>, <RegionType.TEXT_REGION: 'text_region'>, <RegionType.PAGEXML_DOC: 'pagexml_doc'>)\n",
      "BEGIN\tBEGIN\t('Bij twee aparte briefjes van',)\t[1.0, 4.765683507546026e-12, 2.796661124904176e-09, 1.1135365497521796e-13]\t(<RegionType.PARAGRAPH: 'paragraph'>, <RegionType.PHYSICAL_STRUCTURE_DOC: 'physical_structure_doc'>, <RegionType.TEXT_REGION: 'text_region'>, <RegionType.PAGEXML_DOC: 'pagexml_doc'>)\n",
      "IN\tIN\t\"('aanstaande Eerste besendinge der retourschepen', \"\"na 't patria te vertrecken, hebben toegestaan\"\", 'mitschij indien tijt geen gagie zal winnen off', \"\"eenige Emolimenten van d' E: Comp=e genieten;\"\", 'zoo ok den Lustenantmiste: en dewijle den Lieuten ant Jan Holscher diverse', 'instantien heeft gedaan om van de te regt', 'stelling voor den achtb. n raad van Justitie', 'alhier geëexcuseert te mogen wesen, en op', '6. e Ianuarij voorleden daar nevens bij', \"\"request, dat hem 'tgene hij tegens den gouv=r\"\", 'in ternaten mogte misdaan hebben met den', 'gevolge en aankleven van dien genadelijk mogte', 'geremitteert, en hij in zijn vorige staat en', 'qualiteijt herstelt en geemploijert werden,', \"\"zoo hebben wij 't Eerste toegestaan en hem\"\", 'al mede sijne Grove misslagen geremitteert maar')\"\t[0.05583341792225838, 0.9414224624633789, 0.0027441352140158415, 2.0080988261117483e-10]\t(<RegionType.PARAGRAPH: 'paragraph'>, <RegionType.PHYSICAL_STRUCTURE_DOC: 'physical_structure_doc'>, <RegionType.TEXT_REGION: 'text_region'>, <RegionType.PAGEXML_DOC: 'pagexml_doc'>)\n",
      "IN\tEND\t('Sommeert als aan de omme syde ƒ201858: 8:—',)\t[5.173784529688419e-07, 0.9978470802307129, 0.0021524541079998016, 5.835285379895971e-12]\t(<RegionType.PARAGRAPH: 'paragraph'>, <RegionType.PHYSICAL_STRUCTURE_DOC: 'physical_structure_doc'>, <RegionType.TEXT_REGION: 'text_region'>, <RegionType.PAGEXML_DOC: 'pagexml_doc'>)\n",
      "BEGIN\tBEGIN\t('Gedateerd den 29. April A„o 1773',)\t[0.99986732006073, 2.5379665657965234e-07, 0.00013237676466815174, 4.882572753224512e-13]\t(<RegionType.PARAGRAPH: 'paragraph'>, <RegionType.PHYSICAL_STRUCTURE_DOC: 'physical_structure_doc'>, <RegionType.TEXT_REGION: 'text_region'>, <RegionType.PAGEXML_DOC: 'pagexml_doc'>)\n",
      "IN\tIN\t\"('toe te staan, om in plaats van de voor haar', 'geprojecteerde 12000: roa tot een schenkagie, —', 'gouv:r en sijn soon, alschoon wij 20000: ro/a aan goederen voor haar aan tenemen', 'en te vernegotieren; want wij sien dese —', 'voorslag voor seer sinister, en een saak van', 'een bijsonder quaat gevolg aan, niet alleen', 'om dat noijt de practijcq van de Comp: is —', 'geweest voor anderen te negotieeren, maar', 'ook omme te vermijden de moeijelijkheden', \"\"die in 't vervolg daar door souden konnen ontstaan\"\", 'dewelke wij altijt gewoon sijn met den', 'regenten te vermijden, als tragtende met de', 'selve soo veel mogelijk in vruntschap te —', 'leven; dog op dat dit refuis gem: gouverneur', 'en sijn soon te minder misnoegen mogt', 'toebrengen, hebben wij den directeur en raad', 'geadviseert, dat wij nog veel liever souden', 'sien en konnen toestaan, de aan haar beloofde', 'en nog niet afgegeve schenkagie van 12000: ro/as', 'een weijnig wierde vergroot, dan te accorderen')\"\t[3.9689879486104473e-05, 0.9942065477371216, 0.005753751378506422, 6.702554622428636e-10]\t(<RegionType.PARAGRAPH: 'paragraph'>, <RegionType.PHYSICAL_STRUCTURE_DOC: 'physical_structure_doc'>, <RegionType.TEXT_REGION: 'text_region'>, <RegionType.PAGEXML_DOC: 'pagexml_doc'>)\n",
      "BEGIN\tBEGIN\t('Erntfeste wijse voorsienige ende seer', 'discrete Heeren.')\t[0.9978774785995483, 2.1224968804745004e-07, 0.002122326986864209, 3.1145848703936774e-13]\t(<RegionType.PARAGRAPH: 'paragraph'>, <RegionType.PHYSICAL_STRUCTURE_DOC: 'physical_structure_doc'>, <RegionType.TEXT_REGION: 'text_region'>, <RegionType.PAGEXML_DOC: 'pagexml_doc'>)\n",
      "END\tEND\t('Vel Edele Hoog Agtbaare wije, voorienige', 'Hier Genereuse Heeren!', 'Uwer: Wel Edele Hoog Agtb:', 'oodmoedige en gehoorzame diendaren, Den', 'Gouverneur Generaal, en de Raaden van Indie.')\t[0.0019857212901115417, 8.711196694544121e-12, 0.9980142116546631, 4.006450932732969e-13]\t(<RegionType.PARAGRAPH: 'paragraph'>, <RegionType.PHYSICAL_STRUCTURE_DOC: 'physical_structure_doc'>, <RegionType.TEXT_REGION: 'text_region'>, <RegionType.PAGEXML_DOC: 'pagexml_doc'>)\n",
      "END\tEND\t('JV: Viegerman', 'P.  7, van ouerstraten')\t[0.018829643726348877, 0.08102361112833023, 0.9001467227935791, 2.486889583153129e-10]\t(<RegionType.PARAGRAPH: 'paragraph'>, <RegionType.PHYSICAL_STRUCTURE_DOC: 'physical_structure_doc'>, <RegionType.TEXT_REGION: 'text_region'>, <RegionType.PAGEXML_DOC: 'pagexml_doc'>)\n",
      "IN\tEND\t('voor 1½ rx. r, de Comp. e die dan int vaderlant', 'de eijgenaers ook sall moeten goetdoen, off haer', 'Touw ongelijck geschieden, dat nodich hebben geacht', 'hier in te voegen, niet te vreesen zijnde d EComp:', 'daer bij eenige schaade te verwachten heeft, om', 'hebbende de Comp. e daar dat wij reets bevinden soo well als de provintie', 'Daalders, en andere swaere specien, deselve', 'abondant vervoert worden')\t[0.0009599357726983726, 0.9988429546356201, 0.0001971342135220766, 3.482078167471592e-11]\t(<RegionType.PARAGRAPH: 'paragraph'>, <RegionType.PHYSICAL_STRUCTURE_DOC: 'physical_structure_doc'>, <RegionType.TEXT_REGION: 'text_region'>, <RegionType.PAGEXML_DOC: 'pagexml_doc'>)\n",
      "IN\tIN\t('en van 236. dienaren',)\t[7.817940058885142e-06, 0.9999867677688599, 5.361572220863309e-06, 3.681851644312534e-14]\t(<RegionType.MARGINALIA: 'marginalia'>, <RegionType.PHYSICAL_STRUCTURE_DOC: 'physical_structure_doc'>, <RegionType.TEXT_REGION: 'text_region'>, <RegionType.PAGEXML_DOC: 'pagexml_doc'>)\n",
      "BEGIN\tBEGIN\t\"('Nevens', \"\"D' Edele hoog Agtb: heeren\"\", 'Bewindhebberen', 'Ter vergaderinge van Seventhienen gecommit„', '„teerd, de voorsz: maatschappije Represen„', '„teerende ter Praesidiale kamer')\"\t[0.8009108901023865, 0.19666695594787598, 0.0024221062194556, 4.2154939261518365e-11]\t(<RegionType.PARAGRAPH: 'paragraph'>, <RegionType.PHYSICAL_STRUCTURE_DOC: 'physical_structure_doc'>, <RegionType.TEXT_REGION: 'text_region'>, <RegionType.PAGEXML_DOC: 'pagexml_doc'>)\n",
      "IN\tIN\t\"('Bantam werden waaromme de behande„', '„linge en terug sendinge in onse', 'als mede van het pa„ ministers hebben geimprobeerd', 'invoegen mede geschied is over', \"\"dat men d' 2500. Rd:s in paijement\"\", 'hollandia sijn majesteijt niet', 'Insgelijx had laten behouden,', 'niet tegens 30. dubbelde stuijv:s', 'de rd„s soo als hij die begeert', 'hadde maar met 12. p„r Cento', 'opgeld navolgens ons aanschrij„', \"\"„ven van den 9:' Iunij 1728 en\"\", 'de gehoudene afreecq.: met sijn', 'majesteijt van den 13„en october', '1727. en 22„e februarij 1728.', 'welke ordre voor het aenstaende')\"\t[1.7229798743301217e-07, 0.9999991655349731, 7.128631409614172e-07, 1.2931568793214665e-12]\t(<RegionType.PARAGRAPH: 'paragraph'>, <RegionType.PHYSICAL_STRUCTURE_DOC: 'physical_structure_doc'>, <RegionType.TEXT_REGION: 'text_region'>, <RegionType.PAGEXML_DOC: 'pagexml_doc'>)\n",
      "IN\tIN\t\"(\"\"'tselve te verkoopen en\"\", 'een nieuw te bouwen')\"\t[0.0029655499383807182, 0.9970340728759766, 3.368660657088185e-07, 8.710633603303819e-11]\t(<RegionType.MARGINALIA: 'marginalia'>, <RegionType.PHYSICAL_STRUCTURE_DOC: 'physical_structure_doc'>, <RegionType.TEXT_REGION: 'text_region'>, <RegionType.PAGEXML_DOC: 'pagexml_doc'>)\n",
      "END\tEND\t('groete bevelen, inde genadige bescherminge', 'des alderhoochsten, die vEd. Regeeringe', 'hier in India, meer ende meer gelieve', 'te Zegenen./', 'In v Ed: Casteel. Batavia den eersten april 1655', 'u Ed. Trouw schuldige', 'Dienaren.', 'Den Gouverneur generael', 'ende Raaden van India', 'Joan Maersuyters', 'Gerard Hulst', 'Carel hartzinck', 'Terces', 'Joan', 'Nicolaes Verbir', 'an', 'Steur', 'Willem vandeer beeck')\t[3.019181704644325e-08, 2.5431272643317016e-09, 1.0, 8.718395247245042e-16]\t(<RegionType.PARAGRAPH: 'paragraph'>, <RegionType.PHYSICAL_STRUCTURE_DOC: 'physical_structure_doc'>, <RegionType.TEXT_REGION: 'text_region'>, <RegionType.PAGEXML_DOC: 'pagexml_doc'>)\n",
      "BEGIN\tEND\t('Wel Edele Hoog Agtb: wijze, voorzienige en zeer', 'genereuse Heeren.')\t[0.8832245469093323, 7.905389884377279e-12, 0.11677546054124832, 1.4407441168914903e-12]\t(<RegionType.PARAGRAPH: 'paragraph'>, <RegionType.PHYSICAL_STRUCTURE_DOC: 'physical_structure_doc'>, <RegionType.TEXT_REGION: 'text_region'>, <RegionType.PAGEXML_DOC: 'pagexml_doc'>)\n",
      "BEGIN\tBEGIN\t('No. 95 Duplicaat Lijste der bestelkasjes op dien bodem',)\t[0.9392150640487671, 0.06078488007187843, 2.0254001142916422e-08, 1.2948740968354855e-09]\t(<RegionType.PARAGRAPH: 'paragraph'>, <RegionType.PHYSICAL_STRUCTURE_DOC: 'physical_structure_doc'>, <RegionType.TEXT_REGION: 'text_region'>, <RegionType.PAGEXML_DOC: 'pagexml_doc'>)\n",
      "IN\tIN\t\"(\"\"het schip t' huijs te\"\", 'Spijk over ligoor naar', 'Siam affgeveerdigt.')\"\t[0.005918585695326328, 0.9935076236724854, 0.0005738133913837373, 4.450359525343117e-11]\t(<RegionType.MARGINALIA: 'marginalia'>, <RegionType.PHYSICAL_STRUCTURE_DOC: 'physical_structure_doc'>, <RegionType.TEXT_REGION: 'text_region'>, <RegionType.PAGEXML_DOC: 'pagexml_doc'>)\n",
      "END\tBEGIN\t('genavigeert zin door',)\t[0.00021043205924797803, 0.2667273283004761, 0.7330621480941772, 9.910407783308983e-08]\t(<RegionType.PHYSICAL_STRUCTURE_DOC: 'physical_structure_doc'>, <RegionType.TEXT_REGION: 'text_region'>, <RegionType.PAGEXML_DOC: 'pagexml_doc'>)\n",
      "END\tEND\t('Laurent Pijl', 'ƒ', '1', '0', 'do', 'Jomas van Tia', 'Jacob van dam', 'Transwolt')\t[1.530509689473547e-05, 9.002849401440471e-05, 0.9998947381973267, 9.32516000182182e-13]\t(<RegionType.PARAGRAPH: 'paragraph'>, <RegionType.PHYSICAL_STRUCTURE_DOC: 'physical_structure_doc'>, <RegionType.TEXT_REGION: 'text_region'>, <RegionType.PAGEXML_DOC: 'pagexml_doc'>)\n",
      "IN\tIN\t('wat daar op is ver„', 'staan de ministers', 'te geladen')\t[1.3398897442951085e-11, 1.0, 2.4466016777628663e-13, 1.2791930446923234e-18]\t(<RegionType.MARGINALIA: 'marginalia'>, <RegionType.PHYSICAL_STRUCTURE_DOC: 'physical_structure_doc'>, <RegionType.TEXT_REGION: 'text_region'>, <RegionType.PAGEXML_DOC: 'pagexml_doc'>)\n",
      "IN\tIN\t\"('om ons wegens hunne bevinding daar van te die„', '„nen van bericht, en de Dispositie daar omtrent tot', 'zoo lang te surcheeren.', '2=e bij de opgelegde belasting van de voorn: te min', 'uitgeleeverde 70 lb. Peeper op 2000. lb te blijven per„', '„sisteeren, vermits de daar van door hem geallegueer„', '„de reedenen, te weeten de slegtheid der zakken, van', 'geen Valeur bevonden is, door dien bij de bevinding', 'dier Lading ten gem: Gouvernemente blijkt, dat dezelvee', 'in dubbelde middelbaare Stroozatken is ontvangen.', '3=e te passeeren, de gemelde minderheid op de Nooten tot 3 1/16 p=s', 'C=o op 119. en — 3/8 pC=o op 60 lb nagulen, dewijl deese Articulen', 'in onbeschadigde Kasten zijn uitgeleverd, en dies die minde„', '„ring aan indroging moest toegeschreeven worden, mitsg=s', 'zijne reekening van de belasting daar voor te ontheffen.', '4=o dewijl hij omtrend de voorn: minderheid van 17½ lb foelij', 'op 90. lb allegueerd, dat dit aan een abuis moest worden', 'toegekend, alsoo het soekeltje, volgens factuur had moeten', 'weegen, 91. lb brutto, en bij uitleevering gewoogen heeft, 89:', \"\"lb bruetto, en 'er dus maar 2. lb te min zouden dienen te zijn,\"\")\"\t[2.1169255237651896e-09, 1.0, 4.607066372841473e-08, 3.3400174986875086e-12]\t(<RegionType.PARAGRAPH: 'paragraph'>, <RegionType.PHYSICAL_STRUCTURE_DOC: 'physical_structure_doc'>, <RegionType.TEXT_REGION: 'text_region'>, <RegionType.PAGEXML_DOC: 'pagexml_doc'>)\n",
      "IN\tIN\t\"('§26 wy hebben dit mede gepasseerd. Schoon het daar', 'voor opgebragte tot ƒ1039:16 sonder dat de', \"\"Compagnie daar van 't vereijschte niet heeft\"\", 'gehad, al wy hoog loopt, en men bevoorens', 'hadde behooren te weten, dat de Reparatien', 'aan de vaartuijgen te Maneldo niet na be„', '„hooven heeft kunnen geschieden, intus schen', 'hebben wy de nadere door de ministers ge„', '„stelde order, dat de Equipagie op siender en', 'baas der scheeps Timmerlieden voor wiens', 'rekening word gelaten het defectieuse, dat', 'in der tyd aan de vaartuygen mogte ontdekt', 'by vertrek van eenvaar„ worden, voortaan by vertrek van ieder Com„', '„pagnies vaartuyg van de Ternaatse rheede', 'gehouden sullen weesen aan den Gouver', '„neur te overhandigen, een door den gesag„')\"\t[0.00017258299340028316, 0.9998261332511902, 1.3603921615867876e-06, 1.4653318489155076e-11]\t(<RegionType.PARAGRAPH: 'paragraph'>, <RegionType.PHYSICAL_STRUCTURE_DOC: 'physical_structure_doc'>, <RegionType.TEXT_REGION: 'text_region'>, <RegionType.PAGEXML_DOC: 'pagexml_doc'>)\n",
      "BEGIN\tBEGIN\t\"('Wel Edele Hoog', 'Agtb: Wijse voorsie„', \"\"Op den 26. ' maart deses jaers\"\", \"\"geschreven met 's grave hadden wij d'er van de\"\", '„vruse Heeren.')\"\t[0.9981033802032471, 2.443596158752115e-10, 0.0018965352792292833, 1.3674929515584272e-13]\t(<RegionType.PARAGRAPH: 'paragraph'>, <RegionType.PHYSICAL_STRUCTURE_DOC: 'physical_structure_doc'>, <RegionType.TEXT_REGION: 'text_region'>, <RegionType.PAGEXML_DOC: 'pagexml_doc'>)\n",
      "IN\tEND\t\"('521', \"\"Advijsen of Schepen becomen, die alle dagen in 't gemoet\"\", 'sien stende sullen de voor-hantsche besendingen naer Jappan', 'Tayouan Siam Chormandel Malacca Attchyn', 'Sumatras west- Cust ende Jamby in corte by der', 'handt nemen ende soo inde vorder besendingen op synen', 'tydt vervolgen Den almogenden willes al ons goddt', 'voornemen tot Comp es progres zegenen waermede aff„', 'brekende')\"\t[0.002805861411616206, 0.5507070422172546, 0.44648703932762146, 2.0597867161908923e-11]\t(<RegionType.PARAGRAPH: 'paragraph'>, <RegionType.PHYSICAL_STRUCTURE_DOC: 'physical_structure_doc'>, <RegionType.TEXT_REGION: 'text_region'>, <RegionType.PAGEXML_DOC: 'pagexml_doc'>)\n",
      "IN\tIN\t('Chormandel toe betrekkelijke papieren, aangeschreeven', 'tot den voorschreeven opneem bij Eerste bequa„', 'me gelegendheid naar Nagapatnam te laaten', 'overgaan, een van de aldaar aan handen zijn„', 'de Capitain Ingenieurs, van wiens grondige.', 'kennis, naauwkeurigheid, en probiteit men', 'zig ten vollen kan verzeekert houden zijn„', '„de de Chormandelsche ministers in tus„', 'on intuschengen epes hergelast geene reparatien voor het ontvan„', 'ten de redstoegestaan gen van onze nadere dispositie onderhanden te', 'laaten neemen, en maar een', 'lijk de bij onzen brief van den', '5: Maij 1776. geaccordeerde ver„', 'nieuwingen van het Casteel', 'afgezondert van de buijten wer„', 'ken onder het oog en op zigt van')\t[6.265423144213855e-05, 0.9999324083328247, 4.9519094318384305e-06, 1.3293532941105468e-10]\t(<RegionType.PARAGRAPH: 'paragraph'>, <RegionType.PHYSICAL_STRUCTURE_DOC: 'physical_structure_doc'>, <RegionType.TEXT_REGION: 'text_region'>, <RegionType.PAGEXML_DOC: 'pagexml_doc'>)\n",
      "BEGIN\tBEGIN\t('Ed=le ho: agtb: gestrenge', 'wijse, voorsienige, seer genereuse', 'heeren')\t[0.9944998025894165, 3.3288255508523434e-05, 0.005466817412525415, 2.5819055227138676e-10]\t(<RegionType.PARAGRAPH: 'paragraph'>, <RegionType.PHYSICAL_STRUCTURE_DOC: 'physical_structure_doc'>, <RegionType.TEXT_REGION: 'text_region'>, <RegionType.PAGEXML_DOC: 'pagexml_doc'>)\n",
      "BEGIN\tIN\t('als verovert na de gemaakte Vreede',)\t[0.987154483795166, 0.00599751528352499, 0.00684792036190629, 9.915018139849963e-09]\t(<RegionType.PARAGRAPH: 'paragraph'>, <RegionType.PHYSICAL_STRUCTURE_DOC: 'physical_structure_doc'>, <RegionType.TEXT_REGION: 'text_region'>, <RegionType.PAGEXML_DOC: 'pagexml_doc'>)\n",
      "BEGIN\tBEGIN\t('Originele Generale missive',)\t[1.0, 7.442331195761653e-09, 4.928180086238854e-09, 1.6630063645606263e-11]\t(<RegionType.PHYSICAL_STRUCTURE_DOC: 'physical_structure_doc'>, <RegionType.TEXT_REGION: 'text_region'>, <RegionType.PAGEXML_DOC: 'pagexml_doc'>)\n",
      "BEGIN\tBEGIN\t('Per de voorzeilder', 'het schip Enkhuisen.')\t[0.9996150732040405, 0.00038492673775181174, 4.6787619112365064e-08, 7.161204815990876e-14]\t(<RegionType.MARGINALIA: 'marginalia'>, <RegionType.PHYSICAL_STRUCTURE_DOC: 'physical_structure_doc'>, <RegionType.TEXT_REGION: 'text_region'>, <RegionType.PAGEXML_DOC: 'pagexml_doc'>)\n",
      "END\tEND\t\"(\"\"Batavia in 't Casteel\"\", 'van UwelEd: Hoog Achtbaare.', 'den 8e may')\"\t[4.2544393181742635e-06, 3.979524001995749e-11, 0.9999957084655762, 4.383266329516548e-15]\t(<RegionType.PARAGRAPH: 'paragraph'>, <RegionType.PHYSICAL_STRUCTURE_DOC: 'physical_structure_doc'>, <RegionType.TEXT_REGION: 'text_region'>, <RegionType.PAGEXML_DOC: 'pagexml_doc'>)\n",
      "IN\tIN\t\"('van God behoude ruijsen hebben, erlangt,', 'tot aan dese hoofdplaats; en wijders', \"\"dat w' p=r de Susanna gem: hadden\"\", 'ontfangen nadere advisen uijt houglij', \"\"van dato 25:' maart bevorens, ook\"\", 'dat ons onder alle, uijt dies Contenuen', 'ware gebleecken, dat op de respective', 'petitien voor anno 1734. was voldoen', 'in Rethouren aan waarde 43½.', 'thonnen schats; wijders dat de Jnsamen', 'op de gedane aanbestedingen, en', 'verdere negotiatien, op de eijsschen', 'voor nederland en Jndia voor anno', '1735, zoo tot houglij, als Cassemba„', 'Iaar en Pattena behielden een ge„', \"\"wenschte voortgank; 't sedert zijn ons\"\")\"\t[3.96014996795202e-07, 0.9999980926513672, 1.5325674667110434e-06, 2.466393842631698e-12]\t(<RegionType.PARAGRAPH: 'paragraph'>, <RegionType.PHYSICAL_STRUCTURE_DOC: 'physical_structure_doc'>, <RegionType.TEXT_REGION: 'text_region'>, <RegionType.PAGEXML_DOC: 'pagexml_doc'>)\n",
      "BEGIN\tBEGIN\t\"('Mette schepen walcheren, oijevaer en Diemermeer', 'voorde presidiale Camer Zeelant, de phenix, rijsende', \"\"zon, noteboom, 't wapen van hoorn, amstellant ende\"\", 'Brederode voorde Camer Amsterdam, honingen voor', 'rotterdam ende de jonge prins voor hoorn, 23 de„', 'cember verleden uijt dese rheede vertrocken, hebben', 'wij uEd=e inde name des heeren toegeveerdigt een', 'ongemeen treffelijk retour specerijen ende andere', 'Coopmanschappen deser Landen bedragende incoops,', 'mette costen, een somme van 3503267. guldens,', 'deselve retourschepen sijn al weder soo veel dagen', 'later van hier vertrocken als uEd=e ordre luijdt,', 'ende wij wel hadden gewenscht: maer de spade', 'aencomste der costelijkste retouren van diverse', 'plaetsen is daer oorsaek van geweest, waerop', 'wij dan versoeken dat uEd=e het selve na haer', 'gewoone discretie, gelieven te excuseren, sijnde', 'ten dienste vande Comp=e geschiet, ende doordien', 'dat wij niet van ons hebben connen vercrijgen', 'soo merckelijken capitael, hier vruchteloos')\"\t[0.9829627275466919, 0.0009294413612224162, 0.016107821837067604, 4.3391570718476213e-13]\t(<RegionType.PARAGRAPH: 'paragraph'>, <RegionType.PHYSICAL_STRUCTURE_DOC: 'physical_structure_doc'>, <RegionType.TEXT_REGION: 'text_region'>, <RegionType.PAGEXML_DOC: 'pagexml_doc'>)\n",
      "BEGIN\tBEGIN\t('rigineele', 'Generale Missive', 'Geschreven door haar Edelens', 'den Gouverneur Generaal', 'ende Raden van Jndia', 'Tot', 'Batavia', 'Aan de Hoog Edele Heeren', 'Seventhienen', 'int', 'Patria')\t[0.9999921321868896, 2.0527759261312895e-06, 5.861543741048081e-06, 1.4223947540636939e-12]\t(<RegionType.PARAGRAPH: 'paragraph'>, <RegionType.PHYSICAL_STRUCTURE_DOC: 'physical_structure_doc'>, <RegionType.TEXT_REGION: 'text_region'>, <RegionType.PAGEXML_DOC: 'pagexml_doc'>)\n",
      "BEGIN\tBEGIN\t('Aan de Hoog Edele', 'Heeren Seventhiene')\t[1.0, 8.461654228859861e-13, 1.4831453773456182e-11, 7.202089539931801e-18]\t(<RegionType.PARAGRAPH: 'paragraph'>, <RegionType.PHYSICAL_STRUCTURE_DOC: 'physical_structure_doc'>, <RegionType.TEXT_REGION: 'text_region'>, <RegionType.PAGEXML_DOC: 'pagexml_doc'>)\n",
      "IN\tIN\t\"('§12, Welm: zijn Londschap is dan ook op', 'receptie van den 5 van de gepasseerde maand', 'zijn Landschap maart ter deezer Rheede gearri¬', '„de houneur:veert met het oorlagschip sion, in', 'gezelschap van het Comp: schip Hin„', '„dostan het van zijn transport', 'bodem gedaem salut, hebben mij met', 'gelijke schooten van het kasteel laaten.', 'beantwoorden — vervolgens is', \"\"zijn Londschap s'daags daar aan„\"\", 'aan boord vierwelkomt, door de', 'Heeren Rgten Extra ordinair', 'Titsingh en Wiegerman, nee', '„vens den Eersten secretaris onser', 'vergadering van de weest, en bij', 'zijn komsterende wat op den 8 Maart,', 'in het Gouvernement, binnen dit', 'kasteel gerecipieerd, onder liet gewoon', 'ceremgnieel, bij aankomst van een', 'lid onzer vergateering terwijl wy', 'aan zijn Londschap hebben toege', '„kend, de militaire honnensaan', 'de Hoofdwagt en elders, die aan den', 'Heer Goiterneur Generaal wos', '„den beweesen, onder toevreging', 'van een Lijffwacht, int de alhier mij', 'liteerende Manschappen van het', 'Regiment van Wirtemberg', '§13 En ten einde aan zijn Londschap')\"\t[0.05934988707304001, 0.7452629208564758, 0.19538716971874237, 4.1230363567734685e-10]\t(<RegionType.PARAGRAPH: 'paragraph'>, <RegionType.PHYSICAL_STRUCTURE_DOC: 'physical_structure_doc'>, <RegionType.TEXT_REGION: 'text_region'>, <RegionType.PAGEXML_DOC: 'pagexml_doc'>)\n",
      "IN\tIN\t\"('octroij veijligh konde blijven staan, en', 'egter onder dies bevrijt blijven, van een', 'gedeelte van dat mineraal aantenemen,', \"\"welke men haar andersins ondanx in't\"\", 'geheel soude hebben konnen opdringen.', 'Wij hebben bij meer gem: onse missive van primo', 'wat prijsden maij deses jaars, de residenten aangesz:,', 'dat indien het geviel dat den oija berke„', '„langh tegens onse verwagtinge den prijs', 'van den thin quame te verhogen, men in', 'alle manieren egter van de oude prijsen', 'niet moeste afwijken, nog iets van dat', 'mineraal aannemen, dan tegen sodanige', \"\"prijsen als de oude ordres en't Contract\"\", 'medebragten, en den thin daar voor met', 'konnende bekomen, datse als dan daar', 'van afsien souden.', \"\"'T is wel voor soo verre goet, dat den Chinees,\"\", 'tot ligorhad vervalst was gelijk men ons schrijft, welke op ligoor', 'den thin hadde vervalst aldaar ontdekt')\"\t[3.651304680829526e-08, 0.9999990463256836, 9.722936056277831e-07, 1.7123440252536648e-12]\t(<RegionType.PARAGRAPH: 'paragraph'>, <RegionType.PHYSICAL_STRUCTURE_DOC: 'physical_structure_doc'>, <RegionType.TEXT_REGION: 'text_region'>, <RegionType.PAGEXML_DOC: 'pagexml_doc'>)\n",
      "BEGIN\tBEGIN\t\"('Nederland', 'Aan de Eedele Hoog Agtbaare Heeren', 'Bewindhebberen', 'Ter vergadering van seventhienen gecommitteert', \"\"de Generale g'octroijeerde Oost-Indische\"\", 'Compagnie, representerende', 'AVNS', 'AREe', 'Ter Praesidialen Kamer')\"\t[0.9997406601905823, 1.3153124811537964e-08, 0.00025930156698450446, 2.1236831737603268e-13]\t(<RegionType.PARAGRAPH: 'paragraph'>, <RegionType.PHYSICAL_STRUCTURE_DOC: 'physical_structure_doc'>, <RegionType.TEXT_REGION: 'text_region'>, <RegionType.PAGEXML_DOC: 'pagexml_doc'>)\n",
      "END\tEND\t('Den Gouverneur Generael', 'ende Raden van Jndia', 'L', 'ƒ', 'EvanSwoll', 'francs Castelijn.')\t[2.0274439521017484e-05, 2.836319981724955e-05, 0.9999513626098633, 2.357134398691535e-13]\t(<RegionType.PARAGRAPH: 'paragraph'>, <RegionType.PHYSICAL_STRUCTURE_DOC: 'physical_structure_doc'>, <RegionType.TEXT_REGION: 'text_region'>, <RegionType.PAGEXML_DOC: 'pagexml_doc'>)\n",
      "BEGIN\tBEGIN\t('t schip de Cameel niet vernemen,',)\t[0.973882257938385, 0.02611754834651947, 2.3292214734738081e-07, 3.6832602939851355e-11]\t(<RegionType.PARAGRAPH: 'paragraph'>, <RegionType.PHYSICAL_STRUCTURE_DOC: 'physical_structure_doc'>, <RegionType.TEXT_REGION: 'text_region'>, <RegionType.PAGEXML_DOC: 'pagexml_doc'>)\n",
      "BEGIN\tIN\t\"(\"\"Iapan. Mits het arrivement van 't schip\"\", \"\"Burg, in 't laast van 't gepasseerde\"\", 'Jaar uit Japan, hadden wij ter dier')\"\t[0.9946436882019043, 0.005355300847440958, 1.0153410130442353e-06, 5.1638355050287466e-12]\t(<RegionType.PARAGRAPH: 'paragraph'>, <RegionType.PHYSICAL_STRUCTURE_DOC: 'physical_structure_doc'>, <RegionType.TEXT_REGION: 'text_region'>, <RegionType.PAGEXML_DOC: 'pagexml_doc'>)\n",
      "BEGIN\tEND\t\"('Bij dese gaer een pacquet', \"\"brieven. voor d' engels Comp=a\"\")\"\t[0.9842437505722046, 0.0009847148321568966, 0.014771562069654465, 1.1094882790274596e-09]\t(<RegionType.PARAGRAPH: 'paragraph'>, <RegionType.PHYSICAL_STRUCTURE_DOC: 'physical_structure_doc'>, <RegionType.TEXT_REGION: 'text_region'>, <RegionType.PAGEXML_DOC: 'pagexml_doc'>)\n",
      "IN\tIN\t('endat niet mogen', 'werden voldaan de Jo:', 'gevorderde manufacturen', 'voor den Chinesen handel')\t[4.265304198725062e-08, 1.0, 1.0555042256887859e-10, 1.3880559299617873e-14]\t(<RegionType.MARGINALIA: 'marginalia'>, <RegionType.PHYSICAL_STRUCTURE_DOC: 'physical_structure_doc'>, <RegionType.TEXT_REGION: 'text_region'>, <RegionType.PAGEXML_DOC: 'pagexml_doc'>)\n",
      "IN\tIN\t('verhalen van seekere',)\t[0.074985571205616, 0.8996298313140869, 0.025384454056620598, 1.8505265586554742e-07]\t(<RegionType.MARGINALIA: 'marginalia'>, <RegionType.PHYSICAL_STRUCTURE_DOC: 'physical_structure_doc'>, <RegionType.TEXT_REGION: 'text_region'>, <RegionType.PAGEXML_DOC: 'pagexml_doc'>)\n",
      "IN\tIN\t('ons gevolen daar ontr:t',)\t[2.2755531972507015e-05, 0.9999735355377197, 3.746337824850343e-06, 1.250747443982958e-12]\t(<RegionType.MARGINALIA: 'marginalia'>, <RegionType.PHYSICAL_STRUCTURE_DOC: 'physical_structure_doc'>, <RegionType.TEXT_REGION: 'text_region'>, <RegionType.PAGEXML_DOC: 'pagexml_doc'>)\n",
      "BEGIN\tEND\t\"(\"\"Duijten de gemeene brieven 's Comp:s wegen\"\", 'in het laatste van Novemb: 1719, en medio', 'Ianuarij jongstleden med de Retourschepen', \"\"van d' eerste, en tweede besending tot UW Ed:\"\")\"\t[0.9999655485153198, 1.30922262542299e-06, 3.314428613521159e-05, 7.216806904679351e-13]\t(<RegionType.PARAGRAPH: 'paragraph'>, <RegionType.PHYSICAL_STRUCTURE_DOC: 'physical_structure_doc'>, <RegionType.TEXT_REGION: 'text_region'>, <RegionType.PAGEXML_DOC: 'pagexml_doc'>)\n",
      "IN\tIN\t\"('per op gale was over', \"\"gebleven na 't ver„\"\", 'treck den retour', 'schepen.', 'de')\"\t[0.28434041142463684, 0.7156595587730408, 4.088480110020498e-10, 2.8036179280932494e-11]\t(<RegionType.MARGINALIA: 'marginalia'>, <RegionType.PHYSICAL_STRUCTURE_DOC: 'physical_structure_doc'>, <RegionType.TEXT_REGION: 'text_region'>, <RegionType.PAGEXML_DOC: 'pagexml_doc'>)\n",
      "IN\tIN\t('het slot dezer materie',)\t[0.006615467369556427, 0.9933845400810242, 6.595616053317599e-09, 1.4523051164450074e-11]\t(<RegionType.MARGINALIA: 'marginalia'>, <RegionType.PHYSICAL_STRUCTURE_DOC: 'physical_structure_doc'>, <RegionType.TEXT_REGION: 'text_region'>, <RegionType.PAGEXML_DOC: 'pagexml_doc'>)\n",
      "IN\tIN\t('onthefting wegens opge„',)\t[6.048647693823739e-12, 1.0, 5.656765542636812e-16, 5.267179938327248e-15]\t(<RegionType.MARGINALIA: 'marginalia'>, <RegionType.PHYSICAL_STRUCTURE_DOC: 'physical_structure_doc'>, <RegionType.TEXT_REGION: 'text_region'>, <RegionType.PAGEXML_DOC: 'pagexml_doc'>)\n",
      "IN\tIN\t('consideratien over ge„', 'rieffelijkh=t.')\t[1.6813032743812073e-07, 0.9999157190322876, 8.405514381593093e-05, 1.640962365989651e-11]\t(<RegionType.MARGINALIA: 'marginalia'>, <RegionType.PHYSICAL_STRUCTURE_DOC: 'physical_structure_doc'>, <RegionType.TEXT_REGION: 'text_region'>, <RegionType.PAGEXML_DOC: 'pagexml_doc'>)\n",
      "END\tIN\t\"('van Juffrouw Sara ackersdijcq', 'om aan den E. Cornelis valkenier', 'Commandeur vande laest vertrocke', \"\"retourtloot nae 't Patria tot\"\", 'Amsterdam te restitueeren, drie', '1„', 'duijsent twee hondert veertigh', 'brabantse C. daelders, en —', 'vijftien schell - - - - - - - „ 3241')\"\t[0.03173721954226494, 0.0024180770851671696, 0.9658446311950684, 2.0898309124883774e-11]\t(<RegionType.PARAGRAPH: 'paragraph'>, <RegionType.PHYSICAL_STRUCTURE_DOC: 'physical_structure_doc'>, <RegionType.TEXT_REGION: 'text_region'>, <RegionType.PAGEXML_DOC: 'pagexml_doc'>)\n",
      "BEGIN\tBEGIN\t('Na het vertrek van de ingehuurde rethour', 'scheepen voor de eerte bezending, Ionge Jacob, Oost„', '„zaandam, De Vlissinger, de Juffrouw Johan', '„na, de Mentor, Broederlust, en de Eens„', '„gezindheid, staande de goede Intentie eerlang te', 'volgen met welke onse Iongste eerbiedige rescriptie')\t[0.9966862797737122, 6.001217843731865e-05, 0.0032537339720875025, 4.228629890690172e-09]\t(<RegionType.PARAGRAPH: 'paragraph'>, <RegionType.PHYSICAL_STRUCTURE_DOC: 'physical_structure_doc'>, <RegionType.TEXT_REGION: 'text_region'>, <RegionType.PAGEXML_DOC: 'pagexml_doc'>)\n",
      "IN\tIN\t\"(\"\"Groote clachten werden van d'onse gedaen, dat in Firaudo soo\"\", 'wel als voor desen, niet getracteert, maer seer onbeleeft ende', 'qualijck beregent werden; off dese mishandelinge alleen van', \"\"d'Heer van firando ende de sijne comt, dan off het door ordre\"\", 'vant Hoff geschiet, is ons noch onbekendt.', 'In Nangesacque werden de Roomsche Christenen uijttermaten', 'hert vervolcht, ende vele menschen seer wreedel mishandelt', \"\"ende om t'leuen gebracht, t'schijnt dat voor hebben de Christelijcke\"\", 'Religie t‛eenemael in Japan uijt te roeijen', 'De voorgaende zaeckenen sijn in Japan tegen coper verruijlt;', 'Neijenroode wenschte datter geen andere gecomen waren, van', 'Nieu gecomene had 80. stucx vercocht, ende vreest dat met', 'de resterende lange beset sal blijuen, gelijck mede met eenige', 'andere Nederlandtsche waren, als pr. missive speciale geaduiseert', 'werdt, ende UEd: bij de neuens gaende copie van dien naerder', 'sullen connen vernemen, verwacht toecomende Jaer geene, ten', 'ware 40. a 60. stucx roode.')\"\t[0.29282689094543457, 0.6804727911949158, 0.026700003072619438, 3.2098404290081817e-07]\t(<RegionType.PARAGRAPH: 'paragraph'>, <RegionType.PHYSICAL_STRUCTURE_DOC: 'physical_structure_doc'>, <RegionType.TEXT_REGION: 'text_region'>, <RegionType.PAGEXML_DOC: 'pagexml_doc'>)\n",
      "END\tEND\t('eerbiedingh, ende gedienstigh Groeten, Inde genadige', 'beschermingh des alderhooghsten bevolen laten, die wij-', 'gestadigh bidden, u. Ed: Indischen Standt, meer, ende', 'meer te willen segenen, tot dienst vant vaderlant,', 'proffijt der participanten, ende voor al tot Godes.')\t[2.428621428407496e-06, 0.00028595884214155376, 0.9997116923332214, 7.269763784012451e-12]\t(<RegionType.PARAGRAPH: 'paragraph'>, <RegionType.PHYSICAL_STRUCTURE_DOC: 'physical_structure_doc'>, <RegionType.TEXT_REGION: 'text_region'>, <RegionType.PAGEXML_DOC: 'pagexml_doc'>)\n",
      "END\tEND\t\"(\"\"Ende tsedert t'sluijten van onse neffens gaende niet anders\"\", 'aduiserens waerdich voorgevallen sijnde, sullen wij')\"\t[0.08010128885507584, 0.04028475657105446, 0.879613995552063, 3.1291397251109743e-10]\t(<RegionType.PARAGRAPH: 'paragraph'>, <RegionType.PHYSICAL_STRUCTURE_DOC: 'physical_structure_doc'>, <RegionType.TEXT_REGION: 'text_region'>, <RegionType.PAGEXML_DOC: 'pagexml_doc'>)\n",
      "END\tEND\t\"('Waarmede wij deezen voor tegenwoordig beslui=', '„tende, uwer welEdele Hoog Agtb: gevenereerde', \"\"Cherzoonen in 's Comp=s importante belangen,\"\", 'in de heijlige protectie des allerhoogsten bevee„', '„len en met het meeste respect ver-')\"\t[5.592309753410518e-05, 0.00011329769040457904, 0.9998307228088379, 7.158923454042565e-11]\t(<RegionType.PARAGRAPH: 'paragraph'>, <RegionType.PHYSICAL_STRUCTURE_DOC: 'physical_structure_doc'>, <RegionType.TEXT_REGION: 'text_region'>, <RegionType.PAGEXML_DOC: 'pagexml_doc'>)\n",
      "END\tEND\t('en betuyging dat wy syn.', 'Edele hoog agtb=re heeren', 'VWel Edele Hoog Agtbare', 'onderdanige en Getrouwe', 'Dienaren', 'Den Gouverneur Generaal ende', 'Raden van India —', 'Tedens')\t[0.00010847798694157973, 4.0930001610206546e-09, 0.9998915195465088, 6.354049231216408e-12]\t(<RegionType.PARAGRAPH: 'paragraph'>, <RegionType.PHYSICAL_STRUCTURE_DOC: 'physical_structure_doc'>, <RegionType.TEXT_REGION: 'text_region'>, <RegionType.PAGEXML_DOC: 'pagexml_doc'>)\n",
      "IN\tBEGIN\t('de twee naschepen', 'amron, en', 'Corsloot.')\t[0.47881317138671875, 0.5211820006370544, 4.801263457920868e-06, 2.888219385877022e-10]\t(<RegionType.PARAGRAPH: 'paragraph'>, <RegionType.PHYSICAL_STRUCTURE_DOC: 'physical_structure_doc'>, <RegionType.TEXT_REGION: 'text_region'>, <RegionType.PAGEXML_DOC: 'pagexml_doc'>)\n",
      "IN\tIN\t('„soek vanden tommagon van', 'soucapoura om de successie')\t[4.898480483461753e-07, 0.9999995231628418, 1.3580053748185605e-10, 6.0570750075750884e-15]\t(<RegionType.MARGINALIA: 'marginalia'>, <RegionType.PHYSICAL_STRUCTURE_DOC: 'physical_structure_doc'>, <RegionType.TEXT_REGION: 'text_region'>, <RegionType.PAGEXML_DOC: 'pagexml_doc'>)\n",
      "BEGIN\tBEGIN\t('Edele, Erntfeste, Hoog achtbare, Wijse,',)\t[0.5082659125328064, 4.15661022311678e-14, 0.49173402786254883, 2.9068364468948227e-12]\t(<RegionType.PHYSICAL_STRUCTURE_DOC: 'physical_structure_doc'>, <RegionType.TEXT_REGION: 'text_region'>, <RegionType.PAGEXML_DOC: 'pagexml_doc'>, <RegionType.HEADER: 'header'>)\n",
      "IN\tIN\t('moeder van Anthony de Polemne in Malacca', 'overleden, schijnt versuymt te wesen, wordende', 'in de brieven tsedert het jaer 1646 nae', 'Malacca gesz= daer van geen gewach', 'gemaeckt, dat jegenwoordich geschiet', 'waer van UEd=le het aenstaende jaer', 'sullen dienen van advys. —', 'Het sommarium deser vloote hebben', 'wij volgens UEd=lens ordre, den E. command=r', 'ter hant gesteldt, om bij ontmoetinge van', 'scheepen UEd=le toegesonden te worden, daer', 'bij instructie toe gelast is, ende comen', 'UEd=le mits desen vooruijt toe; de scheepen', 'Walvisch, Mallacca, Princesse Royale,', 'ende den Oliphant, sijnde daerin gescheept', 'aen verscheijde geeijschte coopmanschappen', 'de somma van ƒ 1091324„9„ 10„ gelijck', 'UEd=le bij de facturen hier nevens gaende', 'specificie gelieven nae te sien, Godt almachtich', 'geve deselve een spoedige behouden reyse doen,', 'ende voorsz: coopmanschappen wel geconditioneert', 'mogen aen de merckt brengen, ende dat de')\t[0.18917952477931976, 0.7996526956558228, 0.011167756281793118, 2.9968385550915855e-09]\t(<RegionType.PARAGRAPH: 'paragraph'>, <RegionType.PHYSICAL_STRUCTURE_DOC: 'physical_structure_doc'>, <RegionType.TEXT_REGION: 'text_region'>, <RegionType.PAGEXML_DOC: 'pagexml_doc'>)\n",
      "IN\tIN\t\"('aangedaan was, door den Capitain op het', 'engelse schip albemarle, William beuwes', 'genaamt, in het vorderen van water en', \"\"brandhout. dog om in't aanslaande van\"\", 'diergelijke actien bevrijd te wesen en', 'dog ondirpeijke toor aan besroven tegens dese natie, om kleijnigheeden geent', 'harnasch aan te trecken, voor al in dese', 'tijden, hebben wij goetgedagt, het waterhalen', 'van de eijlanden, als maar een gerief sijnde', \"\"buijten 's Comp:s nadeel, aan den gouv:r\"\", 'te defereeren; dog dat deselve om brandhout', 'versoekende, op eijge benoodigtheijt af', 'ert tot den vrijborger gewesen souden werden,', 'om aldaar hun gerieft voor geld te', 'erlangen, sijnde de bedienden wijders', 'gerecommandeert naauwe toesigt te')\"\t[1.9354597498022486e-06, 0.9999980926513672, 1.9102634141177077e-08, 4.675047241692321e-13]\t(<RegionType.PARAGRAPH: 'paragraph'>, <RegionType.PHYSICAL_STRUCTURE_DOC: 'physical_structure_doc'>, <RegionType.TEXT_REGION: 'text_region'>, <RegionType.PAGEXML_DOC: 'pagexml_doc'>)\n",
      "IN\tIN\t\"('huijsen ten Eenemael bedurven bevonden meden', 'aende medicinale winkel tot stoking van', 'olij te laten affgeeven mitsg:s de daer uijtge„', 'Ende res=s quantiteijd als sogte parthij van 640: lb: als nog goed', 'ter verstrecking en Leverbaer aenden kleen winkelier', 'ter distributie aende scheepen als andersints', 'de gereq=e door de sijlos te verstrecken en voorts bij onse sitting', \"\"van den 17:' daer aen verstaende door\"\", 'de Ceijlonse minist:s van Uwel Ed=e', \"\"hoog agtb: g'Eijschte duijten tere somme\"\", '„', \"\"van rd:s 20'000: —. —. uijt onsen\"\", 'voorraed te laten voldoen en deselve', 'bij Eerste scheeps gelegenth:t na dermaerts', 'te senden, mitsgaders het voors:', 'gouvernem:t soodanig als uijt neder„', 'land sijn aengesz: te doen aenreekenen,')\"\t[4.863843514613109e-06, 0.9999896287918091, 5.531861916097114e-06, 1.3348074381913655e-11]\t(<RegionType.PARAGRAPH: 'paragraph'>, <RegionType.PHYSICAL_STRUCTURE_DOC: 'physical_structure_doc'>, <RegionType.TEXT_REGION: 'text_region'>, <RegionType.PAGEXML_DOC: 'pagexml_doc'>)\n",
      "END\tEND\t('Eerbiedige groete blijven, en althoos', 'bethonen te zijn')\t[4.579609746979685e-10, 4.667370376409963e-06, 0.9999953508377075, 2.018589288776962e-12]\t(<RegionType.PARAGRAPH: 'paragraph'>, <RegionType.PHYSICAL_STRUCTURE_DOC: 'physical_structure_doc'>, <RegionType.TEXT_REGION: 'text_region'>, <RegionType.PAGEXML_DOC: 'pagexml_doc'>)\n",
      "IN\tIN\t('nae verkoop vande hier voorgem: goederen, sijn bij', 'de packhuijsen, eenelijck maer per Restant', 'berustende gebleven', 'parthije -Radix China', 'bensuijn', 'Zandelhont, en', 'mallabaarse areecq:')\t[0.008784478530287743, 0.990519106388092, 0.0006964841741137207, 1.8783616884121557e-09]\t(<RegionType.PARAGRAPH: 'paragraph'>, <RegionType.PHYSICAL_STRUCTURE_DOC: 'physical_structure_doc'>, <RegionType.TEXT_REGION: 'text_region'>, <RegionType.PAGEXML_DOC: 'pagexml_doc'>)\n",
      "BEGIN\tBEGIN\t('Middelburg in Zeeland',)\t[0.9999604225158691, 8.688765262832021e-09, 3.960329559049569e-05, 7.084904884990806e-11]\t(<RegionType.PARAGRAPH: 'paragraph'>, <RegionType.PHYSICAL_STRUCTURE_DOC: 'physical_structure_doc'>, <RegionType.TEXT_REGION: 'text_region'>, <RegionType.PAGEXML_DOC: 'pagexml_doc'>)\n",
      "BEGIN\tBEGIN\t\"('Cl', \"\"Aan D'Edele hoog Agtb:e heeren.\"\", 'bewinthebberen van de Generale,', 'Vereenigde, Nederlantse, Geoctroijeerde,', 'Oostindische Comp:e ter vergaderinge van', 'de XVW:, binnen de Prasidiale Camer', 'Amsterdam.')\"\t[0.9910156726837158, 9.953416338248644e-06, 0.008974325843155384, 9.959411073623414e-11]\t(<RegionType.PARAGRAPH: 'paragraph'>, <RegionType.PHYSICAL_STRUCTURE_DOC: 'physical_structure_doc'>, <RegionType.TEXT_REGION: 'text_region'>, <RegionType.PAGEXML_DOC: 'pagexml_doc'>)\n",
      "IN\tIN\t('vertrek van Pattena', 'n malanga.', 'Crala')\t[0.44380971789360046, 0.5561901330947876, 1.7014568243212125e-07, 8.913690341394442e-10]\t(<RegionType.MARGINALIA: 'marginalia'>, <RegionType.PHYSICAL_STRUCTURE_DOC: 'physical_structure_doc'>, <RegionType.TEXT_REGION: 'text_region'>, <RegionType.PAGEXML_DOC: 'pagexml_doc'>)\n",
      "IN\tIN\t('wat van daar in 1783', 'is ontvangen')\t[0.0001015850793919526, 0.9998766183853149, 2.1821142581757158e-05, 1.6094626174335824e-13]\t(<RegionType.MARGINALIA: 'marginalia'>, <RegionType.PHYSICAL_STRUCTURE_DOC: 'physical_structure_doc'>, <RegionType.TEXT_REGION: 'text_region'>, <RegionType.PAGEXML_DOC: 'pagexml_doc'>)\n",
      "BEGIN\tBEGIN\t('Den Command:r hendrick pronckis', 'op 15 Januarij van hier vertrocken met', '12 schepen en een Cargasoen den be„', 'drage van ƒ 3844688: 12:')\t[0.914955735206604, 0.06866345554590225, 0.016380716115236282, 4.2487374729560656e-11]\t(<RegionType.MARGINALIA: 'marginalia'>, <RegionType.PHYSICAL_STRUCTURE_DOC: 'physical_structure_doc'>, <RegionType.TEXT_REGION: 'text_region'>, <RegionType.PAGEXML_DOC: 'pagexml_doc'>)\n",
      "IN\tIN\t('het voorstel tot den', 'verkoop op Credit en 17 October 170')\t[0.06993546336889267, 0.9297704100608826, 0.0002941835846286267, 2.9362995368487077e-10]\t(<RegionType.MARGINALIA: 'marginalia'>, <RegionType.PHYSICAL_STRUCTURE_DOC: 'physical_structure_doc'>, <RegionType.TEXT_REGION: 'text_region'>, <RegionType.PAGEXML_DOC: 'pagexml_doc'>)\n",
      "BEGIN\tIN\t('96 duplicaat van dit Register', '97 duplicaat particuliere missive van', 'welm: haar Edelens tot Ba„', 'tavia aan de Edele Heeren Be„', 'windhebberen ter Camer tot', 'Rotterdam voorn:t als bij N. o 90')\t[0.955049991607666, 0.04264826327562332, 0.0023016745690256357, 1.5895346150429646e-09]\t(<RegionType.PARAGRAPH: 'paragraph'>, <RegionType.PHYSICAL_STRUCTURE_DOC: 'physical_structure_doc'>, <RegionType.TEXT_REGION: 'text_region'>, <RegionType.PAGEXML_DOC: 'pagexml_doc'>)\n",
      "BEGIN\tBEGIN\t('Gedateerd Ultimo: December 1758',)\t[0.6601014137268066, 0.0002676713920664042, 0.33963096141815186, 9.654514965262706e-10]\t(<RegionType.PHYSICAL_STRUCTURE_DOC: 'physical_structure_doc'>, <RegionType.TEXT_REGION: 'text_region'>, <RegionType.PAGEXML_DOC: 'pagexml_doc'>, <RegionType.CATCH_WORD: 'catch-word'>)\n",
      "IN\tIN\t('handel is verkeerd', 'begreepen')\t[7.803740231793199e-08, 0.9999998807907104, 1.1754585083068037e-09, 2.1269906680127654e-13]\t(<RegionType.MARGINALIA: 'marginalia'>, <RegionType.PHYSICAL_STRUCTURE_DOC: 'physical_structure_doc'>, <RegionType.TEXT_REGION: 'text_region'>, <RegionType.PAGEXML_DOC: 'pagexml_doc'>)\n",
      "IN\tIN\t\"('bij visite van die directie, nader en meer„', 'der tot laste van gedagten E. de buquoij', 'Sal. r. mogte uijtvinden daer de vergoeding', 'op nieuw dan van zoude kunnen gepre¬', 'tendeerd werden.', 'Bevoorens dat, zoo drae deze Retour¬', 'scheepen zullen zijn afgegaen, den Opper¬', \"\"d' Opperkoopman de vogel koopman de vogel die den 6. e der gepas„\"\", 'seerde Maend Pr. de Beurs van Cheijlon', 'geene zaken mede werden hier aengekoomen, mede diverse zaken', 'zal dienen te verandwoorden; ten welken', 'eijnde welgem. Hr. Commissaris denselven', 'van Ceylon herwaerds aen heefd gezonden,', 'anders zijn intentie geweest zynde,', 'om over dien weg te repatrieren.', 'Van hoedanigen Timmeragie gem. Schip —', \"\"'t Casteel batavia is, zal UEd. Ho. Agtb.\"\", 'het schriftelijk rapport der voorsz Gecom¬', 'mitteerdens ter resolutie van 26. e Octob', 'geinsereert ontledigen, zijnde hegt en', 'sterk, mitsgaders zodanig het Hol voor')\"\t[1.4310815288354206e-07, 0.9999995231628418, 3.75112421124868e-07, 6.892052575348251e-13]\t(<RegionType.PARAGRAPH: 'paragraph'>, <RegionType.PHYSICAL_STRUCTURE_DOC: 'physical_structure_doc'>, <RegionType.TEXT_REGION: 'text_region'>, <RegionType.PAGEXML_DOC: 'pagexml_doc'>)\n",
      "IN\tIN\t('§S 276', 'En daar de ministers bij hunne', 'brief van 24 october 1791 § 215 selfs', 'zeggen, het eijgentlijke geheijm, van', 'die munt erij niet te konnen ontdek', '„ken, wijl hen ieder, die daar meede be', 'schuldigt was, sijn eijgen forten, vrder', 'den naam dier kooplieden, soo veel mo', '„gelijk te bedekken sogt, en sij dus alle', 'verdre navorsing daaromtrend had', '„den moeten staaken, soo hebben wij ons', 'nadien wij daar toe nog te minder in', 'staat waaren, wel verpligt gevonden', 'deese mijsteriense zaak by onse gemee', '„ne brief van 19 Junij 1742 § 230 onderbee', '„tuijging nogmaals, van ons mis noegen')\t[0.0012883315794169903, 0.9984355568885803, 0.0002761220093816519, 1.512522225521895e-11]\t(<RegionType.PARAGRAPH: 'paragraph'>, <RegionType.PHYSICAL_STRUCTURE_DOC: 'physical_structure_doc'>, <RegionType.TEXT_REGION: 'text_region'>, <RegionType.PAGEXML_DOC: 'pagexml_doc'>)\n",
      "IN\tBEGIN\t('Twapen van', 'arriument vant')\t[1.5160456314333715e-05, 0.9985522627830505, 0.0014325885567814112, 1.0947002988337742e-13]\t(<RegionType.MARGINALIA: 'marginalia'>, <RegionType.PHYSICAL_STRUCTURE_DOC: 'physical_structure_doc'>, <RegionType.TEXT_REGION: 'text_region'>, <RegionType.PAGEXML_DOC: 'pagexml_doc'>)\n",
      "BEGIN\tBEGIN\t('Patria', 'Aan DEdele Hoog agtbare Heeren', 'Bewindhebberen ter vergadering', 'van de seventhiene gecommitteerd', 'Representerende de generale', 'vereenigde Nederlandse', 'geoctroijeerde oost Jndische', 'Compagnie Ter Praesidiale', 'Camer')\t[0.999998927116394, 1.4734943043492876e-08, 1.0464266324561322e-06, 8.831429782352879e-15]\t(<RegionType.PARAGRAPH: 'paragraph'>, <RegionType.PHYSICAL_STRUCTURE_DOC: 'physical_structure_doc'>, <RegionType.TEXT_REGION: 'text_region'>, <RegionType.PAGEXML_DOC: 'pagexml_doc'>)\n",
      "BEGIN\tBEGIN\t('Edele Erntfeste, Welwijse,', 'voorsienige en seer Discrete Heeren.')\t[0.999863862991333, 9.316362785394272e-12, 0.00013615649368148297, 6.543483745298506e-13]\t(<RegionType.PARAGRAPH: 'paragraph'>, <RegionType.PHYSICAL_STRUCTURE_DOC: 'physical_structure_doc'>, <RegionType.TEXT_REGION: 'text_region'>, <RegionType.PAGEXML_DOC: 'pagexml_doc'>)\n",
      "BEGIN\tBEGIN\t('Wij hebben door den behouden aankomst van', 'beandwoording het schip Roosenburg, op den 1e deeser, de', 'eer gehad te ontvangen Uwel Edele Hoog Achtb:', 'zeer gevenereerde missive van den 19e August„', '2o p„s nevens de daar bij gevoegde missive van', 'Hun Hoog Mogende de Heeren Staaten', 'Generaal in dato 27 Iulij bevoorens, mits„', 'gaders Hoogst derselver resolutie van dien')\t[0.9999624490737915, 4.973495606463985e-07, 3.710602686624043e-05, 1.96428290299977e-12]\t(<RegionType.PARAGRAPH: 'paragraph'>, <RegionType.PHYSICAL_STRUCTURE_DOC: 'physical_structure_doc'>, <RegionType.TEXT_REGION: 'text_region'>, <RegionType.PAGEXML_DOC: 'pagexml_doc'>)\n",
      "BEGIN\tBEGIN\t\"(\"\"en de schepen Schoonhovens, ende d'orange boom\"\", 'dus Godt geleijde, zijn onse soncxtes op 26. en 29.', 'Martio passato ges, waer van bij dese copie', \"\"gaen, ende d' Inhoude confirmeren, T' Sedert sijn\"\", 'hier Godt loff verscheijde schepen vanto vaderlant', \"\"wel aengecomen, als Namentlijk. den 15. Maijo t'schip\"\", 'de Leeuwinnes, 27 do walcheren, 3 Junij Gorcum,', '6 d o delffshaven, 14 d=o heusden, 16 d o woerden,', '11 Iulij munnekehdam, 22 dos Twapen van Hoorn', 'ende 14 augto. de fluijt Edam, wij verhoopen', 'dat de vrede ende de witteh heer op de Custe van', 'Coromandel mede wel geariveert zullen zijn', \"\"d'almog wil de resterende drie Mauritius,\"\", \"\"T'wapen van Rotterdam, ende zijn Jacht mede behouden\"\", 'geleiden.')\"\t[0.7834238409996033, 0.19864222407341003, 0.017933964729309082, 1.203638577695898e-10]\t(<RegionType.PARAGRAPH: 'paragraph'>, <RegionType.PHYSICAL_STRUCTURE_DOC: 'physical_structure_doc'>, <RegionType.TEXT_REGION: 'text_region'>, <RegionType.PAGEXML_DOC: 'pagexml_doc'>)\n",
      "BEGIN\tBEGIN\t\"(\"\"Corts naer 't affsenden, van onse laetste particuliere Brieven\"\", 'bij de Generale pampieren gevoeght, met de Schepen', 'Vogelstruijs, Malacca, Salmander, Haerlem, ende den —', 'Witten Olijphane, Inhebbende, een Cargasoen ter monture —', 'F. 1120414. 11: 8: op den 22: decembris, ende 16: Januarij', 'onder de vlagge vanden Commandeur Jeremias van Vlietk', 'van dese Rheede geseijt, welckers behouden overvaeren', 'den Almogenden geve, Is ons mede wel toegecomen, U E:', 'particuliere Missive, gedateert 16=e April 1646. p=r', \"\"'t Jacht den Prommelaris, ende de Fuijt Campen over\"\", \"\"Brasil, dewelcke eerst op den 30:en ende 31. ' der selver\"\", 'maendt Januarij, alhier sijn aengelanght, hebbende', 'omtrent de Eijlanden Dorcades, ende Tera, hart weder', 'ontmoet, den Trommelaris een sterck Leck, mitsgaders', 'Campen, een breuck inden grooten mast (die van binnen heel', 'vermolsemt was :) gecregen, waer door genootsaeckt werden')\"\t[0.9840219616889954, 0.012568797916173935, 0.0034091975539922714, 1.0407269664114427e-11]\t(<RegionType.PARAGRAPH: 'paragraph'>, <RegionType.PHYSICAL_STRUCTURE_DOC: 'physical_structure_doc'>, <RegionType.TEXT_REGION: 'text_region'>, <RegionType.PAGEXML_DOC: 'pagexml_doc'>)\n",
      "BEGIN\tBEGIN\t('seer genereuse Heeren.',)\t[0.9999997615814209, 6.946466513980953e-13, 2.4228691586358764e-07, 7.157888978463907e-16]\t(<RegionType.PHYSICAL_STRUCTURE_DOC: 'physical_structure_doc'>, <RegionType.TEXT_REGION: 'text_region'>, <RegionType.PAGEXML_DOC: 'pagexml_doc'>, <RegionType.HEADER: 'header'>)\n",
      "BEGIN\tIN\t('Ternate Tverleden Jaer hebben wij uEd. bekent', 'gemaeckt, was provisien en nootlijckheden voor', 'molucco over de wech van ambonia p. r de', 'schepen Drommedaris ende haes, derwaerts sijn', 'gedimitteert, tsedert sijn ons vandaer over')\t[0.7062842845916748, 0.18806064128875732, 0.10565505176782608, 5.055945662135741e-10]\t(<RegionType.PARAGRAPH: 'paragraph'>, <RegionType.PHYSICAL_STRUCTURE_DOC: 'physical_structure_doc'>, <RegionType.TEXT_REGION: 'text_region'>, <RegionType.PAGEXML_DOC: 'pagexml_doc'>)\n",
      "END\tEND\t('Batavia in uw Hoog', 'Elens', 'Ed: Casteel den eersten', 'december A:o 1703.')\t[2.1362800453061936e-06, 1.0378206627414954e-10, 0.9999978542327881, 2.1553250974742184e-16]\t(<RegionType.MARGINALIA: 'marginalia'>, <RegionType.PHYSICAL_STRUCTURE_DOC: 'physical_structure_doc'>, <RegionType.TEXT_REGION: 'text_region'>, <RegionType.PAGEXML_DOC: 'pagexml_doc'>)\n",
      "END\tEND\t('Consumtie Reekeningen',)\t[0.0005328400293365121, 0.40528547763824463, 0.5941815972328186, 1.795441484375715e-08]\t(<RegionType.PHYSICAL_STRUCTURE_DOC: 'physical_structure_doc'>, <RegionType.TEXT_REGION: 'text_region'>, <RegionType.PAGEXML_DOC: 'pagexml_doc'>)\n",
      "BEGIN\tBEGIN\t\"('atra', \"\"Aan d' Edele Hoog agtbare Heeren\"\", 'Bewindhebberen ter vergaderinge', 'van de seventhienen Gecommitteerd', 'Repraesenteerende de Generale', 'ƒ', 'vereenigde Nederlandse geoctroijeerde', 'Oost Jndische Compagnie ter Prasidiale', 'Caser Tot Middelburg')\"\t[0.9999994039535522, 8.482099050910463e-11, 6.455136940530792e-07, 6.18747827090373e-16]\t(<RegionType.PARAGRAPH: 'paragraph'>, <RegionType.PHYSICAL_STRUCTURE_DOC: 'physical_structure_doc'>, <RegionType.TEXT_REGION: 'text_region'>, <RegionType.PAGEXML_DOC: 'pagexml_doc'>)\n",
      "END\tEND\t('dierbare Persoonen en Comp importante belangens in de', 'veijlige hoede Godes en blyven uit het weest respect')\t[0.00010498633491806686, 1.2862455989193222e-08, 0.9998949766159058, 1.0692219332142372e-10]\t(<RegionType.PARAGRAPH: 'paragraph'>, <RegionType.PHYSICAL_STRUCTURE_DOC: 'physical_structure_doc'>, <RegionType.TEXT_REGION: 'text_region'>, <RegionType.PAGEXML_DOC: 'pagexml_doc'>)\n",
      "BEGIN\tBEGIN\t('Wel Edele Hoog Achtbaare Wijze Voorzienige', 'en', 'Leer Genereuse Heeren!')\t[0.9646852612495422, 8.175244509134316e-11, 0.03531477600336075, 7.090292762634842e-12]\t(<RegionType.PARAGRAPH: 'paragraph'>, <RegionType.PHYSICAL_STRUCTURE_DOC: 'physical_structure_doc'>, <RegionType.TEXT_REGION: 'text_region'>, <RegionType.PAGEXML_DOC: 'pagexml_doc'>)\n",
      "BEGIN\tEND\t('toe te senden ne', 'gen retourschepen', 'sterdam 2 voor Zes', 'lant1, voor Delft', 'een voor Rotterdam', 'en een voor Enchuijsen XXX. 1.')\t[0.9999862909317017, 4.76651439385023e-06, 8.908996278478298e-06, 3.597227496345695e-13]\t(<RegionType.MARGINALIA: 'marginalia'>, <RegionType.PHYSICAL_STRUCTURE_DOC: 'physical_structure_doc'>, <RegionType.TEXT_REGION: 'text_region'>, <RegionType.PAGEXML_DOC: 'pagexml_doc'>)\n",
      "BEGIN\tEND\t('Wel Edele Hoog Agtbare', 'Wijse voorsienige en zeer', 'genereuse Heeren')\t[0.9984166622161865, 6.9642382138912495e-12, 0.001583356992341578, 1.3640646111154038e-15]\t(<RegionType.PARAGRAPH: 'paragraph'>, <RegionType.PHYSICAL_STRUCTURE_DOC: 'physical_structure_doc'>, <RegionType.TEXT_REGION: 'text_region'>, <RegionType.PAGEXML_DOC: 'pagexml_doc'>)\n",
      "END\tIN\t('In Presentie vanden E', 'Berkman')\t[6.86307976138778e-06, 0.0012258150381967425, 0.9987672567367554, 2.7240067840272886e-12]\t(<RegionType.MARGINALIA: 'marginalia'>, <RegionType.PHYSICAL_STRUCTURE_DOC: 'physical_structure_doc'>, <RegionType.TEXT_REGION: 'text_region'>, <RegionType.PAGEXML_DOC: 'pagexml_doc'>)\n",
      "IN\tIN\t\"(\"\"soo verre dat de patnase ropij, van 't gerequireerde aloij, een\"\", 'hoger, als lager, van intrinsique waarde zal zijn als de', 'Carim-abadse of Bengaalse', 'Ten derden: dat hier uijt resulteert, dat indien de', 'Comp:s in de Carimabatsemunt bij Continuatie zodanig', 'gefraudeert wierd, den verkoop als dan, booven de ver„', \"\"„munting, te prefereeren zoude zijn, wijl 't different van\"\", \"\"3. p:r C:t niets is, in teegenstelling van't gevaar en intrest\"\", 'ongerekend het ongerieff.', '„ken, dat het meer dan tijd is, de minist:s en verdere be„', '„diendens in Bengalen, haaren gedaanen Eed van troud en', 'Eerlijkheid beeter nakomen, zo heeft men den voorm: Direct:r', \"\"Bibdom, en 't Cassimbazaars opperhoofd vernet, speti„\"\", '„aal, niet termen van klen, en nadruk gerecommandeert', 'daar toe alle vlijt en applicatie aantewenden, onsin dat')\"\t[1.0624487956079065e-08, 0.9999994039535522, 5.932097906224953e-07, 2.5217734150873028e-11]\t(<RegionType.PARAGRAPH: 'paragraph'>, <RegionType.PHYSICAL_STRUCTURE_DOC: 'physical_structure_doc'>, <RegionType.TEXT_REGION: 'text_region'>, <RegionType.PAGEXML_DOC: 'pagexml_doc'>)\n",
      "END\tEND\t('VEd: tronschuldige dienaren', 'den Gouverneur Generael ende', 'Raden van India.')\t[0.009920300915837288, 0.0008903059060685337, 0.9891893863677979, 4.255396313102011e-10]\t(<RegionType.PARAGRAPH: 'paragraph'>, <RegionType.PHYSICAL_STRUCTURE_DOC: 'physical_structure_doc'>, <RegionType.TEXT_REGION: 'text_region'>, <RegionType.PAGEXML_DOC: 'pagexml_doc'>)\n",
      "IN\tIN\t('Wij hebben aan den Capitains en Gezag„', '„hebbers van dezelve op hunne daar toe aan', 'onse gedaane verzoeken toegestaan, zich van', 'de benodigde scheeps provisien, ter voort„', '„zetting verleend, als wij de Eer zullen hebben')\t[0.000323278276482597, 0.9996699094772339, 6.876912266307045e-06, 4.1043377030369754e-11]\t(<RegionType.PARAGRAPH: 'paragraph'>, <RegionType.PHYSICAL_STRUCTURE_DOC: 'physical_structure_doc'>, <RegionType.TEXT_REGION: 'text_region'>, <RegionType.PAGEXML_DOC: 'pagexml_doc'>)\n",
      "BEGIN\tBEGIN\t('Zeer Genereuse Heeren!',)\t[0.9999943971633911, 1.7871687120461392e-16, 5.550420610234141e-06, 1.433716596236246e-14]\t(<RegionType.PARAGRAPH: 'paragraph'>, <RegionType.PHYSICAL_STRUCTURE_DOC: 'physical_structure_doc'>, <RegionType.TEXT_REGION: 'text_region'>, <RegionType.PAGEXML_DOC: 'pagexml_doc'>)\n",
      "IN\tIN\t\"(\"\"op een ander Extract van 15:' sep„\"\", 'tember 1730. sprekende van den', '„peper', '„insaam, en afscheep ten tijde', 'van de Commissianten Ian', 'Landsheer en Ian Matthijs de', 'broun, dienen zij ten andwoord', 'dat het gewasch in dat Iaer', '1727. wel was geslaagd, en al den', 'redenen van den opulen, peper toen mogelijk in handen', \"\"van d' E Comp:e was gevallen door\"\", 'het niet verschijnen van Chineese', 'Ioncken, Europeanen en andere')\"\t[0.0011783045483753085, 0.9988204836845398, 1.1404241604395793e-06, 7.599959724047256e-12]\t(<RegionType.PARAGRAPH: 'paragraph'>, <RegionType.PHYSICAL_STRUCTURE_DOC: 'physical_structure_doc'>, <RegionType.TEXT_REGION: 'text_region'>, <RegionType.PAGEXML_DOC: 'pagexml_doc'>)\n",
      "BEGIN\tEND\t\"('eder aangekomen', \"\"nae 't Vaderlandt sijn\"\")\"\t[0.9993846416473389, 0.0006151647539809346, 9.202884143633128e-08, 3.670356119728213e-13]\t(<RegionType.PARAGRAPH: 'paragraph'>, <RegionType.PHYSICAL_STRUCTURE_DOC: 'physical_structure_doc'>, <RegionType.TEXT_REGION: 'text_region'>, <RegionType.PAGEXML_DOC: 'pagexml_doc'>)\n",
      "IN\tIN\t('gevordert van heem„', 'raden')\t[2.6725796575810534e-10, 1.0, 6.300434618466966e-10, 1.4634674611912728e-17]\t(<RegionType.MARGINALIA: 'marginalia'>, <RegionType.PHYSICAL_STRUCTURE_DOC: 'physical_structure_doc'>, <RegionType.TEXT_REGION: 'text_region'>, <RegionType.PAGEXML_DOC: 'pagexml_doc'>)\n",
      "BEGIN\tBEGIN\t('Originele Missive van den', 'Gouverneur generael en Raden', 'van India tot Batavia, aan de', 'Edele Heeren Bewinthebberen', 'van de Generale Neeerlandse', 'Oost Indische Compagnie, ter', 'Vergadering van de Seventienen', 'tot Amsterdam, gedateerd', 'den 23„e Maart A:o 1717.')\t[0.9999940395355225, 1.963702743523754e-06, 4.002554760518251e-06, 7.846570073376247e-13]\t(<RegionType.PARAGRAPH: 'paragraph'>, <RegionType.PHYSICAL_STRUCTURE_DOC: 'physical_structure_doc'>, <RegionType.TEXT_REGION: 'text_region'>, <RegionType.PAGEXML_DOC: 'pagexml_doc'>)\n",
      "IN\tIN\t('die uyt syn ampt', 'gesteld is.')\t[0.0005816878983750939, 0.997639536857605, 0.001778737991116941, 7.540503221825645e-10]\t(<RegionType.MARGINALIA: 'marginalia'>, <RegionType.PHYSICAL_STRUCTURE_DOC: 'physical_structure_doc'>, <RegionType.TEXT_REGION: 'text_region'>, <RegionType.PAGEXML_DOC: 'pagexml_doc'>)\n",
      "END\tEND\t('D Riemsdijk', 'A: V: Basel', '3')\t[4.755748523166403e-05, 1.652810865948595e-08, 0.9999524354934692, 1.3500619282995167e-14]\t(<RegionType.PHYSICAL_STRUCTURE_DOC: 'physical_structure_doc'>, <RegionType.TEXT_REGION: 'text_region'>, <RegionType.PAGEXML_DOC: 'pagexml_doc'>, <RegionType.SIGNATURE_MARK: 'signature-mark'>)\n",
      "END\tBEGIN\t('Wel Edele Hoog Agtbare', 'wijze voorzienige en zeer ge„', '„nereuse Heeren.')\t[0.1267774999141693, 5.810528707489437e-12, 0.8732224702835083, 3.1281153746931176e-14]\t(<RegionType.PARAGRAPH: 'paragraph'>, <RegionType.PHYSICAL_STRUCTURE_DOC: 'physical_structure_doc'>, <RegionType.TEXT_REGION: 'text_region'>, <RegionType.PAGEXML_DOC: 'pagexml_doc'>)\n",
      "BEGIN\tBEGIN\t('So neemst aldaer de pepe in.',)\t[0.9839910268783569, 0.01572274975478649, 0.0002862087276298553, 2.4954411870226068e-09]\t(<RegionType.PHYSICAL_STRUCTURE_DOC: 'physical_structure_doc'>, <RegionType.TEXT_REGION: 'text_region'>, <RegionType.PAGEXML_DOC: 'pagexml_doc'>)\n",
      "IN\tEND\t\"('edoch daer toe geen ordre hebbende, willen niet nalaten, dit', 'Jreguliere preadvijs voor uijt te schicken, om vande vrunden', 'door verkeert uijtgeven in geen bedencken gebraght, off tot', \"\"nadeel vande Comp. e g'abuseert te worden,\"\", 'Wes tot besluijt seggen. dat Comp.s affoiren hier te lande, voor soo', 'veel ons tot heden bekent is, Cercept dat wat schaers van', 'volck sijn) hun in gewenschte postuijre, buijten eenigh', 'merckelijck ongeval, bevinden, daer voor den albestierder', 'dancken: loven, ende prijsen, in welckers heijlige protectie', 'v. Edele achtbare wijse voorsienige heeren, naer onse groete', 'ende hertelijcke gebiedenisse bevolen laten,', 'Den', \"\"In't Casteel Batavia, desen 16 Novemb:r 1641. /\"\", \"\"V: Ed: g'affectionneerde Vrunden\"\", 'ende troúwschúldige dienaeren.', 'den gouverneur generael en de', 'Raden van Jndia')\"\t[1.7864100300357677e-05, 0.985184907913208, 0.01479729637503624, 1.7583610956162232e-10]\t(<RegionType.PARAGRAPH: 'paragraph'>, <RegionType.PHYSICAL_STRUCTURE_DOC: 'physical_structure_doc'>, <RegionType.TEXT_REGION: 'text_region'>, <RegionType.PAGEXML_DOC: 'pagexml_doc'>)\n",
      "END\tEND\t('Batavia', '„Casteel den 5:', 'raart 1750:')\t[2.468582493975191e-08, 1.0559406149468487e-07, 0.9999998807907104, 4.056812155408656e-16]\t(<RegionType.MARGINALIA: 'marginalia'>, <RegionType.PHYSICAL_STRUCTURE_DOC: 'physical_structure_doc'>, <RegionType.TEXT_REGION: 'text_region'>, <RegionType.PAGEXML_DOC: 'pagexml_doc'>)\n",
      "IN\tIN\t('vande geschillen der', 'Cerammers onder Elcand. r')\t[0.004064270760864019, 0.9959141612052917, 2.1609603209071793e-05, 2.089275280559022e-11]\t(<RegionType.MARGINALIA: 'marginalia'>, <RegionType.PHYSICAL_STRUCTURE_DOC: 'physical_structure_doc'>, <RegionType.TEXT_REGION: 'text_region'>, <RegionType.PAGEXML_DOC: 'pagexml_doc'>)\n",
      "IN\tIN\t('1692', 'hoeveel inde jaren 2/1693.', 'hier en op Jambij gewonnen en', 'en geconsumeert is, —', 'konnen wij uEd:le ho: agtb:e Jaren', 'nog niet bekent maeken', 'E')\t[1.4517074760078685e-06, 0.9999971389770508, 1.4283110658652731e-06, 2.7109242043028836e-13]\t(<RegionType.MARGINALIA: 'marginalia'>, <RegionType.PHYSICAL_STRUCTURE_DOC: 'physical_structure_doc'>, <RegionType.TEXT_REGION: 'text_region'>, <RegionType.PAGEXML_DOC: 'pagexml_doc'>)\n",
      "END\tIN\t('Waar mede wij deze voor tegenswoordig', 'besluitende uwe wel Edele Hoog Agtb:', 'gevenereerde perzoonen en Comp:s in portante', 'belangen in de heijlige protectie des', 'Allerhoogsten beveelen, en met het meeste')\t[0.00015712017193436623, 0.0995638370513916, 0.9002791047096252, 1.310946351473774e-10]\t(<RegionType.PARAGRAPH: 'paragraph'>, <RegionType.PHYSICAL_STRUCTURE_DOC: 'physical_structure_doc'>, <RegionType.TEXT_REGION: 'text_region'>, <RegionType.PAGEXML_DOC: 'pagexml_doc'>)\n",
      "BEGIN\tBEGIN\t\"(\"\"Aan d' Edele Hoog agtbare Heeren\"\", 'Bewindhebberen', 'Ter Vergaderinge van de seventhiene', 'gecommitteerd, Representeerende de', 'Generale Goctroijeerde Oost', 'Jndische Compagnie', 'der Vereenigde Nee„', '„derlanden ter', 'Praesidiale', 'Kamer', 'Tot')\"\t[0.9998347759246826, 1.2111556202398788e-07, 0.0001650517078815028, 2.708866659630049e-13]\t(<RegionType.PARAGRAPH: 'paragraph'>, <RegionType.PHYSICAL_STRUCTURE_DOC: 'physical_structure_doc'>, <RegionType.TEXT_REGION: 'text_region'>, <RegionType.PAGEXML_DOC: 'pagexml_doc'>)\n",
      "BEGIN\tIN\t('Tot Sous Lieutenants ter zee', 'wyl na eene voor afgegane Examinatie daar', 'toe bequaam bevonden synde Cadets Jan', 'Cornelis wisse Fredrik Boterkoper Pieter', 'Franciscus overbeer Frans Delvoet Roeloff', 'Dirk Hogerwaard Gerrit Lunke, Iohan„', '„nes Cornenslo, Aarnoud Specht, Jan', 'Jurriaan Sonderman, de Botteliers', 'Avie Pampus de vos, en Pieter Crommenien', 'En Sous Luitenants')\t[0.8838461637496948, 0.0009918359573930502, 0.11516191810369492, 6.845096017782382e-11]\t(<RegionType.PARAGRAPH: 'paragraph'>, <RegionType.PHYSICAL_STRUCTURE_DOC: 'physical_structure_doc'>, <RegionType.TEXT_REGION: 'text_region'>, <RegionType.PAGEXML_DOC: 'pagexml_doc'>)\n",
      "END\tIN\t\"('Dat moejelijckheden Wij tot Batavia hebben', 'gehad met den Engelsen Coopman Griffet', 'ende zijne over 86 kisten aangehaelden Am„', '„phioen, Welcke deselve op Javas Oost Cust', 'sogten te verkoopen, en aldus te infringeren', \"\"'s Comp:s voor reght om alleen den Amphioen\"\", \"\"in 't gebied vanden Sousouhounang te\"\", 'mogen aanbrengen en verkoopen, zal UEd=le', 'Hoog Achtb: omstandigh blijcken uijt het', 'ample relaes te vinden zijnde op het Eijnde')\"\t[0.0019093252485617995, 0.016520904377102852, 0.981569766998291, 5.180303963570054e-10]\t(<RegionType.PARAGRAPH: 'paragraph'>, <RegionType.PHYSICAL_STRUCTURE_DOC: 'physical_structure_doc'>, <RegionType.TEXT_REGION: 'text_region'>, <RegionType.PAGEXML_DOC: 'pagexml_doc'>)\n",
      "IN\tBEGIN\t('molucos Een jaerover',)\t[0.0001459098857594654, 0.9901896119117737, 0.009664454497396946, 2.273850968625979e-10]\t(<RegionType.MARGINALIA: 'marginalia'>, <RegionType.PHYSICAL_STRUCTURE_DOC: 'physical_structure_doc'>, <RegionType.TEXT_REGION: 'text_region'>, <RegionType.PAGEXML_DOC: 'pagexml_doc'>)\n",
      "END\tEND\t('En betuijging dat wij sijn:', 'Edele Hoog Agtbare Heeren', 'Uwel Ed: Hoog Agtb: onderdanige', 'En getrouwe Dienaren', 'Den Gouverneur Generaal ende', 'Raden van India', 'Em', 'Am. Patras')\t[2.029275378845341e-07, 1.8344705962625163e-11, 0.9999997615814209, 1.5988379782443107e-13]\t(<RegionType.PARAGRAPH: 'paragraph'>, <RegionType.PHYSICAL_STRUCTURE_DOC: 'physical_structure_doc'>, <RegionType.TEXT_REGION: 'text_region'>, <RegionType.PAGEXML_DOC: 'pagexml_doc'>)\n",
      "BEGIN\tBEGIN\t\"(\"\"De Heer Capitain Commandeur van 's Lands Equa¬\"\", '„der Oorlogscheepen, Willem Silvester, blij„', '„kens onse jongste eerbiedige secreete lette„', '„ren van den 16:e November laastleeden,')\"\t[0.974579930305481, 0.02168096974492073, 0.0037391558289527893, 1.300831775630229e-09]\t(<RegionType.PARAGRAPH: 'paragraph'>, <RegionType.PHYSICAL_STRUCTURE_DOC: 'physical_structure_doc'>, <RegionType.TEXT_REGION: 'text_region'>, <RegionType.PAGEXML_DOC: 'pagexml_doc'>)\n",
      "IN\tEND\t\"('Peper van Jamby.', 'peper met Groekingh van', \"\"Garebij voord' onse verwaert\"\")\"\t[0.022852757945656776, 0.9765107035636902, 0.0006365225999616086, 1.144440878869668e-11]\t(<RegionType.MARGINALIA: 'marginalia'>, <RegionType.PHYSICAL_STRUCTURE_DOC: 'physical_structure_doc'>, <RegionType.TEXT_REGION: 'text_region'>, <RegionType.PAGEXML_DOC: 'pagexml_doc'>)\n",
      "IN\tBEGIN\t('aanbrengen beantwoor„', 'ding der brief van 19.', 'augustus 1791.')\t[0.006292926613241434, 0.9936927556991577, 1.4294379980128724e-05, 1.1733304215374996e-12]\t(<RegionType.MARGINALIA: 'marginalia'>, <RegionType.PHYSICAL_STRUCTURE_DOC: 'physical_structure_doc'>, <RegionType.TEXT_REGION: 'text_region'>, <RegionType.PAGEXML_DOC: 'pagexml_doc'>)\n",
      "IN\tIN\t('Wijders zal VEd: hoog agtb: al ver„', '„der bij den briev van den 24„en', 'september Jongstleeden voorko„', '„men dat er in de Extirpatie', 'der specerijboomen op de onge„', '„permitteerde plaatsen en op', 'bouro, waren uijtgeroeijd 60.', '„ne en 146. jonge ofte tesamen', '363. p:s nooten, en 2. nagelbonen', 'mitsgaders op Cerams Cust en', 'het gebergte te waralocatta', 'vier volwassene en 42. mid„', '„delbare noteboomen bene„', '„vens een groote meenigte', 'spruijtjes.', 'gerecommandeert de Coffij Culp de ongopermitter vrugtdragende, 157. halv was se„')\t[9.144980140263215e-06, 0.999560534954071, 0.0004302507149986923, 5.0393821060534805e-12]\t(<RegionType.PARAGRAPH: 'paragraph'>, <RegionType.PHYSICAL_STRUCTURE_DOC: 'physical_structure_doc'>, <RegionType.TEXT_REGION: 'text_region'>, <RegionType.PAGEXML_DOC: 'pagexml_doc'>)\n"
     ]
    }
   ],
   "source": [
    "import csv\n",
    "import random\n",
    "import sys\n",
    "\n",
    "import torch\n",
    "from torcheval.metrics import MulticlassF1Score, MulticlassPrecision, MulticlassRecall\n",
    "\n",
    "from document_segmentation.pagexml.datamodel.label import Label\n",
    "\n",
    "writer = csv.DictWriter(\n",
    "    sys.stdout,\n",
    "    fieldnames=(\"Predicted\", \"Actual\", \"Lines\", \"Scores\", \"Types\"),\n",
    "    delimiter=\"\\t\",\n",
    ")\n",
    "\n",
    "writer.writeheader()\n",
    "\n",
    "precision_metric = MulticlassPrecision(average=None, num_classes=len(Label))\n",
    "recall_metric = MulticlassRecall(average=None, num_classes=len(Label))\n",
    "f1_metric = MulticlassF1Score(average=None, num_classes=len(Label))\n",
    "\n",
    "for batch in test_data.batches(BATCH_SIZE):\n",
    "    predicted = model(batch)\n",
    "    labels = batch.labels()\n",
    "    types = [region.types for region in batch.regions()]\n",
    "\n",
    "    _labels = torch.Tensor([label.value - 1 for label in labels]).to(int)\n",
    "    precision_metric.update(predicted, _labels)\n",
    "    recall_metric.update(predicted, _labels)\n",
    "    f1_metric.update(predicted, _labels)\n",
    "\n",
    "    # print every nth line:\n",
    "    if random.random() > 0.9:\n",
    "        for region, pred, label, types in zip(\n",
    "            batch.regions(), predicted, labels, types\n",
    "        ):\n",
    "            pred_label = Label(pred.argmax().item() + 1)\n",
    "            writer.writerow(\n",
    "                {\n",
    "                    \"Predicted\": pred_label.name,\n",
    "                    \"Actual\": label.name,\n",
    "                    \"Lines\": region.lines,\n",
    "                    \"Scores\": str(pred.tolist()),\n",
    "                    \"Types\": str(types),\n",
    "                }\n",
    "            )"
   ]
  },
  {
   "cell_type": "code",
   "execution_count": 24,
   "metadata": {},
   "outputs": [
    {
     "name": "stderr",
     "output_type": "stream",
     "text": [
      "WARNING:root:tensor([[3]]) classes have zero instances in both the predictions and the ground truth labels. Precision is still logged as zero.\n",
      "WARNING:root:One or more NaNs identified, as no ground-truth instances of [3] have been seen. These have been converted to zero.\n",
      "WARNING:root:Warning: Some classes do not exist in the target. F1 scores for these classes will be cast to zeros.\n"
     ]
    },
    {
     "name": "stdout",
     "output_type": "stream",
     "text": [
      "Metric\tBEGIN\tIN\tEND\tOUT\n",
      "MulticlassPrecision\t0.7827\t0.7841\t0.8238\t0.0000\n",
      "MulticlassRecall\t0.8003\t0.8606\t0.7212\t0.0000\n",
      "MulticlassF1Score\t0.7914\t0.8205\t0.7691\t0.0000\n"
     ]
    }
   ],
   "source": [
    "writer = csv.DictWriter(\n",
    "    sys.stdout, fieldnames=[\"Metric\"] + [label.name for label in Label], delimiter=\"\\t\"\n",
    ")\n",
    "writer.writeheader()\n",
    "\n",
    "for metric in (precision_metric, recall_metric, f1_metric):\n",
    "    scores = {\n",
    "        label.name: f\"{score:.4f}\"\n",
    "        for label, score in zip(Label, metric.compute().tolist())\n",
    "    }\n",
    "    writer.writerow({\"Metric\": metric.__class__.__name__} | scores)"
   ]
  }
 ],
 "metadata": {
  "kernelspec": {
   "display_name": ".venv",
   "language": "python",
   "name": "python3"
  },
  "language_info": {
   "codemirror_mode": {
    "name": "ipython",
    "version": 3
   },
   "file_extension": ".py",
   "mimetype": "text/x-python",
   "name": "python",
   "nbconvert_exporter": "python",
   "pygments_lexer": "ipython3",
   "version": "3.11.2"
  }
 },
 "nbformat": 4,
 "nbformat_minor": 2
}
