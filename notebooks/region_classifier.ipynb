{
 "cells": [
  {
   "cell_type": "code",
   "execution_count": 73,
   "metadata": {},
   "outputs": [
    {
     "name": "stdout",
     "output_type": "stream",
     "text": [
      "The autoreload extension is already loaded. To reload it, use:\n",
      "  %reload_ext autoreload\n"
     ]
    }
   ],
   "source": [
    "%load_ext autoreload\n",
    "%autoreload now"
   ]
  },
  {
   "cell_type": "markdown",
   "metadata": {},
   "source": [
    "# Read Data"
   ]
  },
  {
   "cell_type": "code",
   "execution_count": 74,
   "metadata": {},
   "outputs": [],
   "source": [
    "TRAINING_SIZE = 0.8\n",
    "TEST_SIZE = 0.2\n",
    "\n",
    "MIN_REGION_LENGTH = 20"
   ]
  },
  {
   "cell_type": "code",
   "execution_count": 75,
   "metadata": {},
   "outputs": [
    {
     "name": "stderr",
     "output_type": "stream",
     "text": [
      "Reading JSON files:   0%|          | 0/909 [00:00<?, ?file/s]"
     ]
    },
    {
     "name": "stderr",
     "output_type": "stream",
     "text": [
      "Reading JSON files:  19%|█▉        | 174/909 [00:13<00:53, 13.72file/s]WARNING:root:No pages found in document id='354' inventory_nr=1684 inventory_part=None pages=[].\n",
      "Reading JSON files:  35%|███▍      | 314/909 [00:22<00:42, 13.93file/s]WARNING:root:No pages found in document id='353' inventory_nr=1684 inventory_part=None pages=[].\n",
      "Reading JSON files:  38%|███▊      | 348/909 [00:24<00:18, 29.81file/s]WARNING:root:No pages found in document id='352' inventory_nr=1684 inventory_part=None pages=[].\n",
      "Reading JSON files:  58%|█████▊    | 528/909 [01:45<00:20, 18.92file/s]WARNING:root:No pages found in document id='412' inventory_nr=1887 inventory_part=None pages=[].\n",
      "Reading JSON files: 100%|██████████| 909/909 [04:11<00:00,  3.61file/s]\n"
     ]
    }
   ],
   "source": [
    "from document_segmentation.model.dataset import PageDataset\n",
    "from document_segmentation.settings import GENERALE_MISSIVEN_DOCUMENT_DIR\n",
    "\n",
    "pages = PageDataset.from_dir(GENERALE_MISSIVEN_DOCUMENT_DIR)"
   ]
  },
  {
   "cell_type": "code",
   "execution_count": 76,
   "metadata": {},
   "outputs": [
    {
     "data": {
      "text/plain": [
       "580439"
      ]
     },
     "execution_count": 76,
     "metadata": {},
     "output_type": "execute_result"
    }
   ],
   "source": [
    "from document_segmentation.model.dataset import RegionDataset\n",
    "\n",
    "all_regions = RegionDataset.from_page_dataset(pages).remove_empty(MIN_REGION_LENGTH)\n",
    "len(all_regions)"
   ]
  },
  {
   "cell_type": "code",
   "execution_count": 77,
   "metadata": {},
   "outputs": [
    {
     "data": {
      "text/plain": [
       "Counter({<Label.IN: 2>: 573225, <Label.END: 3>: 3752, <Label.BEGIN: 1>: 3462})"
      ]
     },
     "execution_count": 77,
     "metadata": {},
     "output_type": "execute_result"
    }
   ],
   "source": [
    "all_regions._class_counts()"
   ]
  },
  {
   "cell_type": "code",
   "execution_count": 78,
   "metadata": {},
   "outputs": [
    {
     "data": {
      "text/plain": [
       "10966"
      ]
     },
     "execution_count": 78,
     "metadata": {},
     "output_type": "execute_result"
    }
   ],
   "source": [
    "from document_segmentation.pagexml.datamodel.label import Label\n",
    "\n",
    "sample_size = all_regions._class_counts()[Label.END]\n",
    "regions = all_regions.balance(sample_size).shuffle()\n",
    "\n",
    "len(regions)"
   ]
  },
  {
   "cell_type": "code",
   "execution_count": 79,
   "metadata": {},
   "outputs": [
    {
     "data": {
      "text/plain": [
       "Counter({<Label.END: 3>: 3752, <Label.IN: 2>: 3752, <Label.BEGIN: 1>: 3462})"
      ]
     },
     "execution_count": 79,
     "metadata": {},
     "output_type": "execute_result"
    }
   ],
   "source": [
    "regions._class_counts()"
   ]
  },
  {
   "cell_type": "code",
   "execution_count": 80,
   "metadata": {},
   "outputs": [
    {
     "data": {
      "text/plain": [
       "[3.166618538839157, 2.9219291233679723, 2.9219291233679723, 10966.0]"
      ]
     },
     "execution_count": 80,
     "metadata": {},
     "output_type": "execute_result"
    }
   ],
   "source": [
    "regions.class_weights()"
   ]
  },
  {
   "cell_type": "code",
   "execution_count": 81,
   "metadata": {},
   "outputs": [],
   "source": [
    "split = int(len(regions) * TRAINING_SIZE)\n",
    "\n",
    "training_data = regions[:split]\n",
    "test_data = regions[split:]"
   ]
  },
  {
   "cell_type": "code",
   "execution_count": 82,
   "metadata": {},
   "outputs": [
    {
     "data": {
      "text/plain": [
       "Counter({<Label.END: 3>: 3007, <Label.IN: 2>: 2988, <Label.BEGIN: 1>: 2777})"
      ]
     },
     "execution_count": 82,
     "metadata": {},
     "output_type": "execute_result"
    }
   ],
   "source": [
    "training_data._class_counts()"
   ]
  },
  {
   "cell_type": "code",
   "execution_count": 83,
   "metadata": {},
   "outputs": [
    {
     "data": {
      "text/plain": [
       "Counter({<Label.IN: 2>: 764, <Label.END: 3>: 745, <Label.BEGIN: 1>: 685})"
      ]
     },
     "execution_count": 83,
     "metadata": {},
     "output_type": "execute_result"
    }
   ],
   "source": [
    "test_data._class_counts()"
   ]
  },
  {
   "cell_type": "markdown",
   "metadata": {},
   "source": [
    "# Train Model"
   ]
  },
  {
   "cell_type": "code",
   "execution_count": 92,
   "metadata": {},
   "outputs": [],
   "source": [
    "%autoreload now"
   ]
  },
  {
   "cell_type": "code",
   "execution_count": 93,
   "metadata": {},
   "outputs": [],
   "source": [
    "BATCH_SIZE = 16\n",
    "EPOCHS = 50\n",
    "\n",
    "DEVICE = \"mps\""
   ]
  },
  {
   "cell_type": "code",
   "execution_count": 94,
   "metadata": {},
   "outputs": [
    {
     "data": {
      "text/plain": [
       "RegionClassifierSentenceTransformer(\n",
       "  (_transformer_model): SentenceTransformer(\n",
       "    (0): Transformer({'max_seq_length': 128, 'do_lower_case': False}) with Transformer model: RobertaModel \n",
       "    (1): Pooling({'word_embedding_dimension': 768, 'pooling_mode_cls_token': False, 'pooling_mode_mean_tokens': True, 'pooling_mode_max_tokens': False, 'pooling_mode_mean_sqrt_len_tokens': False, 'pooling_mode_weightedmean_tokens': False, 'pooling_mode_lasttoken': False})\n",
       "  )\n",
       "  (_region_type): Embedding(9, 16)\n",
       "  (_linear): Linear(in_features=784, out_features=4, bias=True)\n",
       "  (_softmax): Softmax(dim=1)\n",
       ")"
      ]
     },
     "execution_count": 94,
     "metadata": {},
     "output_type": "execute_result"
    }
   ],
   "source": [
    "from document_segmentation.model.region_classifier import (\n",
    "    RegionClassifierSentenceTransformer,\n",
    ")\n",
    "\n",
    "model = RegionClassifierSentenceTransformer(device=DEVICE)\n",
    "model"
   ]
  },
  {
   "cell_type": "code",
   "execution_count": 95,
   "metadata": {},
   "outputs": [
    {
     "name": "stderr",
     "output_type": "stream",
     "text": [
      "  0%|          | 0/548.25 [00:00<?, ?batch/s]"
     ]
    },
    {
     "name": "stderr",
     "output_type": "stream",
     "text": [
      "549batch [01:21,  6.76batch/s]                         \n"
     ]
    },
    {
     "name": "stdout",
     "output_type": "stream",
     "text": [
      "[Loss:\t2.417]\n"
     ]
    },
    {
     "name": "stderr",
     "output_type": "stream",
     "text": [
      "549batch [00:02, 235.31batch/s]                         \n"
     ]
    },
    {
     "name": "stdout",
     "output_type": "stream",
     "text": [
      "[Loss:\t2.313]\n"
     ]
    },
    {
     "name": "stderr",
     "output_type": "stream",
     "text": [
      "549batch [00:02, 238.58batch/s]                         \n"
     ]
    },
    {
     "name": "stdout",
     "output_type": "stream",
     "text": [
      "[Loss:\t2.290]\n"
     ]
    },
    {
     "name": "stderr",
     "output_type": "stream",
     "text": [
      "549batch [00:02, 218.69batch/s]                         \n"
     ]
    },
    {
     "name": "stdout",
     "output_type": "stream",
     "text": [
      "[Loss:\t2.281]\n"
     ]
    },
    {
     "name": "stderr",
     "output_type": "stream",
     "text": [
      "549batch [00:02, 235.20batch/s]                         \n"
     ]
    },
    {
     "name": "stdout",
     "output_type": "stream",
     "text": [
      "[Loss:\t2.277]\n"
     ]
    },
    {
     "name": "stderr",
     "output_type": "stream",
     "text": [
      "549batch [00:02, 219.35batch/s]                         \n"
     ]
    },
    {
     "name": "stdout",
     "output_type": "stream",
     "text": [
      "[Loss:\t2.274]\n"
     ]
    },
    {
     "name": "stderr",
     "output_type": "stream",
     "text": [
      "549batch [00:02, 205.61batch/s]                         \n"
     ]
    },
    {
     "name": "stdout",
     "output_type": "stream",
     "text": [
      "[Loss:\t2.272]\n"
     ]
    },
    {
     "name": "stderr",
     "output_type": "stream",
     "text": [
      "549batch [00:02, 241.21batch/s]                         \n"
     ]
    },
    {
     "name": "stdout",
     "output_type": "stream",
     "text": [
      "[Loss:\t2.271]\n"
     ]
    },
    {
     "name": "stderr",
     "output_type": "stream",
     "text": [
      "549batch [00:02, 240.18batch/s]                         \n"
     ]
    },
    {
     "name": "stdout",
     "output_type": "stream",
     "text": [
      "[Loss:\t2.270]\n"
     ]
    },
    {
     "name": "stderr",
     "output_type": "stream",
     "text": [
      "549batch [00:02, 236.14batch/s]                         \n"
     ]
    },
    {
     "name": "stdout",
     "output_type": "stream",
     "text": [
      "[Loss:\t2.269]\n"
     ]
    },
    {
     "name": "stderr",
     "output_type": "stream",
     "text": [
      "549batch [00:02, 244.59batch/s]                         \n"
     ]
    },
    {
     "name": "stdout",
     "output_type": "stream",
     "text": [
      "[Loss:\t2.268]\n"
     ]
    },
    {
     "name": "stderr",
     "output_type": "stream",
     "text": [
      "549batch [00:02, 239.52batch/s]                         \n"
     ]
    },
    {
     "name": "stdout",
     "output_type": "stream",
     "text": [
      "[Loss:\t2.268]\n"
     ]
    },
    {
     "name": "stderr",
     "output_type": "stream",
     "text": [
      "549batch [00:02, 241.77batch/s]                         \n"
     ]
    },
    {
     "name": "stdout",
     "output_type": "stream",
     "text": [
      "[Loss:\t2.267]\n"
     ]
    },
    {
     "name": "stderr",
     "output_type": "stream",
     "text": [
      "549batch [00:02, 240.86batch/s]                         \n"
     ]
    },
    {
     "name": "stdout",
     "output_type": "stream",
     "text": [
      "[Loss:\t2.267]\n"
     ]
    },
    {
     "name": "stderr",
     "output_type": "stream",
     "text": [
      "549batch [00:02, 240.42batch/s]                         \n"
     ]
    },
    {
     "name": "stdout",
     "output_type": "stream",
     "text": [
      "[Loss:\t2.266]\n"
     ]
    },
    {
     "name": "stderr",
     "output_type": "stream",
     "text": [
      "549batch [00:02, 229.30batch/s]                         \n"
     ]
    },
    {
     "name": "stdout",
     "output_type": "stream",
     "text": [
      "[Loss:\t2.266]\n"
     ]
    },
    {
     "name": "stderr",
     "output_type": "stream",
     "text": [
      "549batch [00:02, 236.73batch/s]                         \n"
     ]
    },
    {
     "name": "stdout",
     "output_type": "stream",
     "text": [
      "[Loss:\t2.266]\n"
     ]
    },
    {
     "name": "stderr",
     "output_type": "stream",
     "text": [
      "549batch [00:02, 235.54batch/s]                         \n"
     ]
    },
    {
     "name": "stdout",
     "output_type": "stream",
     "text": [
      "[Loss:\t2.266]\n"
     ]
    },
    {
     "name": "stderr",
     "output_type": "stream",
     "text": [
      "549batch [00:02, 241.98batch/s]                         \n"
     ]
    },
    {
     "name": "stdout",
     "output_type": "stream",
     "text": [
      "[Loss:\t2.266]\n"
     ]
    },
    {
     "name": "stderr",
     "output_type": "stream",
     "text": [
      "549batch [00:02, 237.24batch/s]                         \n"
     ]
    },
    {
     "name": "stdout",
     "output_type": "stream",
     "text": [
      "[Loss:\t2.265]\n"
     ]
    },
    {
     "name": "stderr",
     "output_type": "stream",
     "text": [
      "549batch [00:02, 246.51batch/s]                         \n"
     ]
    },
    {
     "name": "stdout",
     "output_type": "stream",
     "text": [
      "[Loss:\t2.265]\n"
     ]
    },
    {
     "name": "stderr",
     "output_type": "stream",
     "text": [
      "549batch [00:02, 245.46batch/s]                         \n"
     ]
    },
    {
     "name": "stdout",
     "output_type": "stream",
     "text": [
      "[Loss:\t2.265]\n"
     ]
    },
    {
     "name": "stderr",
     "output_type": "stream",
     "text": [
      "549batch [00:02, 238.43batch/s]                         \n"
     ]
    },
    {
     "name": "stdout",
     "output_type": "stream",
     "text": [
      "[Loss:\t2.265]\n"
     ]
    },
    {
     "name": "stderr",
     "output_type": "stream",
     "text": [
      "549batch [00:02, 236.04batch/s]                         \n"
     ]
    },
    {
     "name": "stdout",
     "output_type": "stream",
     "text": [
      "[Loss:\t2.265]\n"
     ]
    },
    {
     "name": "stderr",
     "output_type": "stream",
     "text": [
      "549batch [00:02, 227.92batch/s]                         \n"
     ]
    },
    {
     "name": "stdout",
     "output_type": "stream",
     "text": [
      "[Loss:\t2.265]\n"
     ]
    },
    {
     "name": "stderr",
     "output_type": "stream",
     "text": [
      "549batch [00:02, 237.54batch/s]                         \n"
     ]
    },
    {
     "name": "stdout",
     "output_type": "stream",
     "text": [
      "[Loss:\t2.265]\n"
     ]
    },
    {
     "name": "stderr",
     "output_type": "stream",
     "text": [
      "549batch [00:02, 235.38batch/s]                         \n"
     ]
    },
    {
     "name": "stdout",
     "output_type": "stream",
     "text": [
      "[Loss:\t2.265]\n"
     ]
    },
    {
     "name": "stderr",
     "output_type": "stream",
     "text": [
      "549batch [00:02, 236.96batch/s]                         \n"
     ]
    },
    {
     "name": "stdout",
     "output_type": "stream",
     "text": [
      "[Loss:\t2.265]\n"
     ]
    },
    {
     "name": "stderr",
     "output_type": "stream",
     "text": [
      "549batch [00:02, 239.68batch/s]                         \n"
     ]
    },
    {
     "name": "stdout",
     "output_type": "stream",
     "text": [
      "[Loss:\t2.265]\n"
     ]
    },
    {
     "name": "stderr",
     "output_type": "stream",
     "text": [
      "549batch [00:02, 239.01batch/s]                         \n"
     ]
    },
    {
     "name": "stdout",
     "output_type": "stream",
     "text": [
      "[Loss:\t2.265]\n"
     ]
    },
    {
     "name": "stderr",
     "output_type": "stream",
     "text": [
      "549batch [00:02, 240.98batch/s]                         \n"
     ]
    },
    {
     "name": "stdout",
     "output_type": "stream",
     "text": [
      "[Loss:\t2.265]\n"
     ]
    },
    {
     "name": "stderr",
     "output_type": "stream",
     "text": [
      "549batch [00:02, 242.35batch/s]                         \n"
     ]
    },
    {
     "name": "stdout",
     "output_type": "stream",
     "text": [
      "[Loss:\t2.265]\n"
     ]
    },
    {
     "name": "stderr",
     "output_type": "stream",
     "text": [
      "549batch [00:02, 243.50batch/s]                         \n"
     ]
    },
    {
     "name": "stdout",
     "output_type": "stream",
     "text": [
      "[Loss:\t2.265]\n"
     ]
    },
    {
     "name": "stderr",
     "output_type": "stream",
     "text": [
      "549batch [00:02, 246.23batch/s]                         \n"
     ]
    },
    {
     "name": "stdout",
     "output_type": "stream",
     "text": [
      "[Loss:\t2.265]\n"
     ]
    },
    {
     "name": "stderr",
     "output_type": "stream",
     "text": [
      "549batch [00:02, 246.59batch/s]                         \n"
     ]
    },
    {
     "name": "stdout",
     "output_type": "stream",
     "text": [
      "[Loss:\t2.265]\n"
     ]
    },
    {
     "name": "stderr",
     "output_type": "stream",
     "text": [
      "549batch [00:02, 243.56batch/s]                         \n"
     ]
    },
    {
     "name": "stdout",
     "output_type": "stream",
     "text": [
      "[Loss:\t2.265]\n"
     ]
    },
    {
     "name": "stderr",
     "output_type": "stream",
     "text": [
      "549batch [00:02, 250.54batch/s]                         \n"
     ]
    },
    {
     "name": "stdout",
     "output_type": "stream",
     "text": [
      "[Loss:\t2.265]\n"
     ]
    },
    {
     "name": "stderr",
     "output_type": "stream",
     "text": [
      "549batch [00:02, 245.53batch/s]                         \n"
     ]
    },
    {
     "name": "stdout",
     "output_type": "stream",
     "text": [
      "[Loss:\t2.265]\n"
     ]
    },
    {
     "name": "stderr",
     "output_type": "stream",
     "text": [
      "549batch [00:02, 246.20batch/s]                         \n"
     ]
    },
    {
     "name": "stdout",
     "output_type": "stream",
     "text": [
      "[Loss:\t2.265]\n"
     ]
    },
    {
     "name": "stderr",
     "output_type": "stream",
     "text": [
      "549batch [00:02, 245.64batch/s]                         \n"
     ]
    },
    {
     "name": "stdout",
     "output_type": "stream",
     "text": [
      "[Loss:\t2.265]\n"
     ]
    },
    {
     "name": "stderr",
     "output_type": "stream",
     "text": [
      "549batch [00:02, 246.67batch/s]                         \n"
     ]
    },
    {
     "name": "stdout",
     "output_type": "stream",
     "text": [
      "[Loss:\t2.265]\n"
     ]
    },
    {
     "name": "stderr",
     "output_type": "stream",
     "text": [
      "549batch [00:02, 229.39batch/s]                         \n"
     ]
    },
    {
     "name": "stdout",
     "output_type": "stream",
     "text": [
      "[Loss:\t2.265]\n"
     ]
    },
    {
     "name": "stderr",
     "output_type": "stream",
     "text": [
      "549batch [00:02, 242.07batch/s]                         \n"
     ]
    },
    {
     "name": "stdout",
     "output_type": "stream",
     "text": [
      "[Loss:\t2.264]\n"
     ]
    },
    {
     "name": "stderr",
     "output_type": "stream",
     "text": [
      "549batch [00:02, 245.64batch/s]                         \n"
     ]
    },
    {
     "name": "stdout",
     "output_type": "stream",
     "text": [
      "[Loss:\t2.264]\n"
     ]
    },
    {
     "name": "stderr",
     "output_type": "stream",
     "text": [
      "549batch [00:02, 242.68batch/s]                         \n"
     ]
    },
    {
     "name": "stdout",
     "output_type": "stream",
     "text": [
      "[Loss:\t2.264]\n"
     ]
    },
    {
     "name": "stderr",
     "output_type": "stream",
     "text": [
      "549batch [00:02, 244.54batch/s]                         \n"
     ]
    },
    {
     "name": "stdout",
     "output_type": "stream",
     "text": [
      "[Loss:\t2.264]\n"
     ]
    },
    {
     "name": "stderr",
     "output_type": "stream",
     "text": [
      "549batch [00:02, 247.15batch/s]                         \n"
     ]
    },
    {
     "name": "stdout",
     "output_type": "stream",
     "text": [
      "[Loss:\t2.264]\n"
     ]
    },
    {
     "name": "stderr",
     "output_type": "stream",
     "text": [
      "549batch [00:02, 245.91batch/s]                         \n"
     ]
    },
    {
     "name": "stdout",
     "output_type": "stream",
     "text": [
      "[Loss:\t2.264]\n"
     ]
    },
    {
     "name": "stderr",
     "output_type": "stream",
     "text": [
      "549batch [00:02, 246.24batch/s]                         \n"
     ]
    },
    {
     "name": "stdout",
     "output_type": "stream",
     "text": [
      "[Loss:\t2.264]\n"
     ]
    },
    {
     "name": "stderr",
     "output_type": "stream",
     "text": [
      "549batch [00:02, 246.30batch/s]                         "
     ]
    },
    {
     "name": "stdout",
     "output_type": "stream",
     "text": [
      "[Loss:\t2.264]\n"
     ]
    },
    {
     "name": "stderr",
     "output_type": "stream",
     "text": [
      "\n"
     ]
    }
   ],
   "source": [
    "model.train_(training_data, EPOCHS, BATCH_SIZE, regions.class_weights())"
   ]
  },
  {
   "cell_type": "markdown",
   "metadata": {},
   "source": [
    "# Evaluation"
   ]
  },
  {
   "cell_type": "code",
   "execution_count": 96,
   "metadata": {},
   "outputs": [
    {
     "name": "stdout",
     "output_type": "stream",
     "text": [
      "Predicted\tActual\tLines\tScores\tTypes\n",
      "BEGIN\tBEGIN\t('Ed: Erntfeste. Achtbare. Wijse:', 'voorsienige seer discrete heeren,')\t[0.8025423288345337, 5.298455107549671e-06, 0.19745247066020966, 5.164666472268209e-10]\t(<RegionType.PARAGRAPH: 'paragraph'>, <RegionType.PHYSICAL_STRUCTURE_DOC: 'physical_structure_doc'>, <RegionType.TEXT_REGION: 'text_region'>, <RegionType.PAGEXML_DOC: 'pagexml_doc'>)\n",
      "IN\tIN\t\"('verdrukte goed regt te laaten weedervaaren, dog seer', 'oneijgen oordeelende, dat alle die ingehoudene', 'maandgelden ten laste van de Comp:e soude komen;', \"\"is zulx meede g'inpro, over zulx ook g'arresteerd, gem: Gouvern:r Abele¬\"\", 'hebbende gagie ensz. „ ven insgelijks op te leggen, niet alleen, aan ged:te', 'te', 'Elin te vergoeden, zijne stil gestaan hebbende Gagie„', 'kostgelden en Emolumenten, gereekent van den tijd', 'sijner afsettinge, tot desselfs overkomste alhier, die', 'men teffens heeft gereserveerd gelaaten, zijne Actie we„', '„gens geleede Injurien, smaat en schaade, maar ook', 'aan de Comp:e te restitueeren, de gagie van den onder„', 'nog al het kostgeld en de Emolumenten, dat den', 'door sijn E: op sijne privée tot Commandeerende Cas:', 'Luytenant, buijten de minste noodsakelijkheid, super', \"\"zo hebben wij 't een en ander, ingelijker voegen gants eene Jnpernumeraire tot zijne aanlandinge te deeser Hoofdplaatse item\"\", 'met derzelver dimotie, waarts opsendinge met stilstand van gagien, item aan de Comp: koopman Schorer, sedert dat daar is gecesseert,')\"\t[2.3311930164027217e-09, 0.9997966885566711, 0.00020335968292783946, 1.4644979673406056e-11]\t(<RegionType.PARAGRAPH: 'paragraph'>, <RegionType.PHYSICAL_STRUCTURE_DOC: 'physical_structure_doc'>, <RegionType.TEXT_REGION: 'text_region'>, <RegionType.PAGEXML_DOC: 'pagexml_doc'>)\n",
      "END\tBEGIN\t('retter', 'Coeergonders „ 20. 7 Julii')\t[9.166039671981707e-05, 0.0033104897011071444, 0.9965978264808655, 5.0865813297495954e-12]\t(<RegionType.PARAGRAPH: 'paragraph'>, <RegionType.PHYSICAL_STRUCTURE_DOC: 'physical_structure_doc'>, <RegionType.TEXT_REGION: 'text_region'>, <RegionType.PAGEXML_DOC: 'pagexml_doc'>)\n",
      "BEGIN\tBEGIN\t('van de Retourvloot', 'het schip')\t[0.9999991655349731, 7.655924605387554e-07, 1.726944560687116e-07, 1.7459364303699237e-13]\t(<RegionType.MARGINALIA: 'marginalia'>, <RegionType.PHYSICAL_STRUCTURE_DOC: 'physical_structure_doc'>, <RegionType.TEXT_REGION: 'text_region'>, <RegionType.PAGEXML_DOC: 'pagexml_doc'>)\n",
      "BEGIN\tBEGIN\t('Ed„le Gestr: Ho: achtb:', 'wijse, voorsienige, seer', 'genereuse Heeren:')\t[0.999263346195221, 1.1548748261702713e-05, 0.000725136196706444, 1.596961625438542e-11]\t(<RegionType.PARAGRAPH: 'paragraph'>, <RegionType.PHYSICAL_STRUCTURE_DOC: 'physical_structure_doc'>, <RegionType.TEXT_REGION: 'text_region'>, <RegionType.PAGEXML_DOC: 'pagexml_doc'>)\n",
      "IN\tEND\t('WEd. Dientwb', 'Carpentier')\t[0.4735804498195648, 0.5263146162033081, 0.00010487636609468609, 5.19016474243017e-08]\t(<RegionType.PHYSICAL_STRUCTURE_DOC: 'physical_structure_doc'>, <RegionType.TEXT_REGION: 'text_region'>, <RegionType.PAGEXML_DOC: 'pagexml_doc'>, <RegionType.SIGNATURE_MARK: 'signature-mark'>)\n",
      "BEGIN\tBEGIN\t\"(\"\"Dadelijck naert'affscheijt der schepen. Leijden, Thoolen, en\"\", \"\"t' Wapen van Enchuijsen den 15 en deser maent in comp. e naer\"\", \"\"t'Vaderslant vertrocken, hebben wij voorts onderhanden,\"\", \"\"genomen d'affladinge vant' schip Schiedam, ende goedt\"\", \"\"gevonden sonder wtstel, t Ed t'selve als nu mede toe te\"\", 'semden met een Cargasoen van ƒ 177035. 3. 7. bestaende', \"\"in t' naervolgende, te wesen\"\", '7597. sacken Peper van Sumatra.', '16131. cattij rouwe zijde,', '12814. P verscheijden sorteringe Porceleijn', '368. Picol Sapanhout van Chiam,', '13725. lb. Wit catoene garen bestaene in 93 pac ende', 'Godt almachtich laet te Ed: dit, ende de doorafgesondene', 'cargasoenen behouden toecoomen,', 'Andermael gaet bij desen Copije onser Missiven met de bovengemel„', 'te schepen gesonden, gelijck mede alsulcke bescheijden meer, als e', \"\"Wij t'sedert na de cortheijt des tijts hebben connen gereet crijged„\"\", 'Naementlijck', 'Eene reeckeninge vande lasten bij de Generaele Compe. alleen', \"\"tot Bantams, besettinge gedragen, t'sedert pmo october 1625\"\", 'tot Vl. mo november 1626: monterende volgens onsen Tade', \"\"f 31115. 14. 12. T'geene te vooren in desen gepresseert is,\"\", 'daer van sijn VEd: met de schepenlant voorleden Jaer de', 'reeckeningen mede toegesonden,', 'Noch gaet hier bij eene Verthooninge vande Lasten tot maintenue', 'vande Garnisoenen ende forten inde Molucos, amboijna', 'ende banda gevallen, gelijck mede wat vruchten in dese', 'respective quartieren bij de Generaele Comp. e geint ende', \"\"betaelt sijn, t' sedert pmo meert 1625 tot Pmo. meert 1626.\"\", \"\"In welcke lasten ende Incoop d' Engelsen een derdepart,\"\", \"\"volgens t' Tractaet hadden behooren te fournieren, ende daer\"\", \"\"tegen een derde vande Vruchten t' ontfn; Doch sij sijn dit\"\", 'Jaer al mede gelijck als de voorgaende Jaeren (daer van tE', 'de bescheijden toegesonden sijn) in gebreecke gebleven; Ende is', \"\"apparent, soo U Ed. ginder met d'Engelsen niet anders verdrae„\"\", 'gen als wij tot noch toe vernemen, niet licht wederomme daer in', \"\"sullen treeden, Insonderheijt soo lange men t' vervoeren der\"\", 'Nagelen niet beter beletten can, als tot noch toe heeft connen', 'geschieden; Waer tegen het hooghtijdt is versien werde, off', \"\"t' sal van quaet tot erger vervallen, ende daer resseert (onder\"\", 'correctie, in dese Consuncture (onses oordeels) geen ander middel')\"\t[0.9996441602706909, 0.0003553506394382566, 4.3090901158393535e-07, 7.838148879946161e-11]\t(<RegionType.PARAGRAPH: 'paragraph'>, <RegionType.PHYSICAL_STRUCTURE_DOC: 'physical_structure_doc'>, <RegionType.TEXT_REGION: 'text_region'>, <RegionType.PAGEXML_DOC: 'pagexml_doc'>)\n",
      "IN\tIN\t('zullen hare portien', 'van thee en Coffij p=r', 'naasten ontfangen', 'daarij')\t[1.7894535631057806e-05, 0.9999169111251831, 6.518718146253377e-05, 1.6217063499371354e-12]\t(<RegionType.MARGINALIA: 'marginalia'>, <RegionType.PHYSICAL_STRUCTURE_DOC: 'physical_structure_doc'>, <RegionType.TEXT_REGION: 'text_region'>, <RegionType.PAGEXML_DOC: 'pagexml_doc'>)\n",
      "IN\tIN\t('en is geconsingeerd met', 'Ambenaar')\t[1.0769037300361467e-13, 1.0, 1.6742993103058268e-10, 9.938553344017442e-14]\t(<RegionType.MARGINALIA: 'marginalia'>, <RegionType.PHYSICAL_STRUCTURE_DOC: 'physical_structure_doc'>, <RegionType.TEXT_REGION: 'text_region'>, <RegionType.PAGEXML_DOC: 'pagexml_doc'>)\n",
      "BEGIN\tBEGIN\t('Wel Edele, Hoog Agtbare, wijze, voorzienige', 'en zeer Genereuse Heeren!')\t[0.9999966621398926, 1.2993340847700097e-09, 3.394461828065687e-06, 1.9080420023912664e-13]\t(<RegionType.PARAGRAPH: 'paragraph'>, <RegionType.PHYSICAL_STRUCTURE_DOC: 'physical_structure_doc'>, <RegionType.TEXT_REGION: 'text_region'>, <RegionType.PAGEXML_DOC: 'pagexml_doc'>)\n",
      "END\tEND\t('JG„ Suchtilen.', 'P„r Macaré', 'JA haronnes', 'Cr. a. quesne', 'J: O: Seneuk', 'Elaas Guillot', 'H')\t[1.4983631047016388e-07, 3.04643847925945e-08, 0.9999998807907104, 4.0488489297385577e-13]\t(<RegionType.PARAGRAPH: 'paragraph'>, <RegionType.PHYSICAL_STRUCTURE_DOC: 'physical_structure_doc'>, <RegionType.TEXT_REGION: 'text_region'>, <RegionType.PAGEXML_DOC: 'pagexml_doc'>)\n",
      "IN\tBEGIN\t\"(\"\"Agent wegen 't retourneren\"\", 'hunner 2 schepen van bantam', 'ontfangen.')\"\t[0.28358858823776245, 0.7164053916931152, 5.971185601083562e-06, 3.131505366127385e-08]\t(<RegionType.MARGINALIA: 'marginalia'>, <RegionType.PHYSICAL_STRUCTURE_DOC: 'physical_structure_doc'>, <RegionType.TEXT_REGION: 'text_region'>, <RegionType.PAGEXML_DOC: 'pagexml_doc'>)\n",
      "IN\tEND\t\"('Aan Weesmeesteren zijn verleent authenticque Copijen van twee na Neder„', \"\"op nieuw verleende assijland gesondene dog waarscheijnelijk met de scheepen Perzijnenburg 't\"\", 'zoek geraakte assignatien van ƒ33600„ - ten behoeve des boedels van', 'den koopman Iacob Alexander van der werp.', 'Insgelijks aan den Koopman Ieremias Saimpe Uxoris nomine', 'nieuwe assignatien in stede van de mede met voorsz: bodems', '„1380 — . versondene groot ƒ3611„10„ — door den burger Johannes', 'de Haas geremitteerd.', 'Wijders versoeken wij UwelEd:e Hoog agtb: om een spoedig voldoe„', '„ning van een nader overgaand Eijschje van spijkers voor de', \"\"Timmerwerven wijl w'aan die soorten ten eenemaal gebrek\"\", 'hebben. —', 'Waar meede na verbidding van Comp:s belangen en de dierbaare')\"\t[0.002898715203627944, 0.9971008896827698, 3.7051745493954513e-07, 2.6966128982564008e-11]\t(<RegionType.PARAGRAPH: 'paragraph'>, <RegionType.PHYSICAL_STRUCTURE_DOC: 'physical_structure_doc'>, <RegionType.TEXT_REGION: 'text_region'>, <RegionType.PAGEXML_DOC: 'pagexml_doc'>)\n",
      "END\tEND\t('P„r Schreuder.', 'A„k V„n Basel', 'Poeerk')\t[5.509089896804653e-05, 2.451433900318989e-08, 0.9999449253082275, 2.5139295823533615e-14]\t(<RegionType.PARAGRAPH: 'paragraph'>, <RegionType.PHYSICAL_STRUCTURE_DOC: 'physical_structure_doc'>, <RegionType.TEXT_REGION: 'text_region'>, <RegionType.PAGEXML_DOC: 'pagexml_doc'>)\n",
      "IN\tBEGIN\t\"('Van Zuratte is alhier over Ceijlon 25=e februarij wel', 'gearriveert, het schip Hendrick mauries met 450. lasten rijs -', 'tot Gale ingescheept, zijnde de scheepen Sumatra, Tulpenburgh', 'Coevorden en Silversteijn aldaar noch verbleeven, om gesamentl.', 'naar persia over te gaan, zoo laast den tijt wat eerder zoude —', \"\"verstreecken zijn, ende d'apparentie vande overcomsde der —\"\", 'francen te laten, verbij gaan, die den 15e November aldaar —', 'noch niet waaren verscheenen, maar dagelijx verwacht', 'wierden, Godtgeeve dat wij in Corte wat goets moogen —', 'Hooren„')\"\t[0.12603355944156647, 0.8739660978317261, 3.32934178004507e-07, 1.9286123809081346e-09]\t(<RegionType.PARAGRAPH: 'paragraph'>, <RegionType.PHYSICAL_STRUCTURE_DOC: 'physical_structure_doc'>, <RegionType.TEXT_REGION: 'text_region'>, <RegionType.PAGEXML_DOC: 'pagexml_doc'>)\n",
      "BEGIN\tBEGIN\t('Edele: hoogh Achtbare, Eerntfeste,',)\t[0.9999278783798218, 1.5234572714462047e-08, 7.20888128853403e-05, 8.803877765695134e-11]\t(<RegionType.PHYSICAL_STRUCTURE_DOC: 'physical_structure_doc'>, <RegionType.TEXT_REGION: 'text_region'>, <RegionType.PAGEXML_DOC: 'pagexml_doc'>, <RegionType.HEADER: 'header'>)\n",
      "IN\tBEGIN\t('Arriuement is Jongh', 'brieun en schepen.')\t[0.0004102939274162054, 0.9744505286216736, 0.025139231234788895, 3.890122890481962e-09]\t(<RegionType.MARGINALIA: 'marginalia'>, <RegionType.PHYSICAL_STRUCTURE_DOC: 'physical_structure_doc'>, <RegionType.TEXT_REGION: 'text_region'>, <RegionType.PAGEXML_DOC: 'pagexml_doc'>)\n",
      "BEGIN\tBEGIN\t('men heeft de laastemael', 'land.')\t[0.7593332529067993, 0.24066655337810516, 1.5034629541332833e-07, 5.379198753097114e-10]\t(<RegionType.MARGINALIA: 'marginalia'>, <RegionType.PHYSICAL_STRUCTURE_DOC: 'physical_structure_doc'>, <RegionType.TEXT_REGION: 'text_region'>, <RegionType.PAGEXML_DOC: 'pagexml_doc'>)\n",
      "BEGIN\tEND\t('Matih„s Esdaan', 'frans Cartelijn.', 'Colling.', 'an de roor', 'Een hoofelaar', 'ked d„s de haede,', 'S: Rimmermag')\t[0.9925615191459656, 0.005725291091948748, 0.0017132373759523034, 9.38606831146771e-11]\t(<RegionType.PARAGRAPH: 'paragraph'>, <RegionType.PHYSICAL_STRUCTURE_DOC: 'physical_structure_doc'>, <RegionType.TEXT_REGION: 'text_region'>, <RegionType.PAGEXML_DOC: 'pagexml_doc'>)\n",
      "BEGIN\tBEGIN\t\"('Door de eerste besending des Jaers 1696.', \"\"sijn den 15:' der Jongste gepasseerde maand Januarij\"\")\"\t[1.0, 5.913782796795886e-09, 2.8406276442183298e-08, 5.035780278016266e-13]\t(<RegionType.PARAGRAPH: 'paragraph'>, <RegionType.PHYSICAL_STRUCTURE_DOC: 'physical_structure_doc'>, <RegionType.TEXT_REGION: 'text_region'>, <RegionType.PAGEXML_DOC: 'pagexml_doc'>)\n",
      "IN\tIN\t('voorslag wegens de', 'Jongste negotie')\t[0.3722018599510193, 0.6275753974914551, 0.0002225180942332372, 2.1254874127407675e-07]\t(<RegionType.MARGINALIA: 'marginalia'>, <RegionType.PHYSICAL_STRUCTURE_DOC: 'physical_structure_doc'>, <RegionType.TEXT_REGION: 'text_region'>, <RegionType.PAGEXML_DOC: 'pagexml_doc'>)\n",
      "BEGIN\tBEGIN\t\"('seer discrete Heeren', 'dan diest geleth dat desen datum abusivelijck is gestelt, mogende wesen 14 d', 'guste ee24', 'Onsen jongsten aen u Ed: is geweest den 27 en January lantleden', 'met de Scheepen Hollandia, Gouda, end Middelburch, van batav', 'hier op sijn van Suratte den 22en. april daer aen met 412 bale', 'persiche sijde, goede ptije Jndigo, en andere geeijste retouren/', 'gevolcht, de Scheepen Dordrecht ende weseph. Item vande', \"\"Custe Choromandel den 12en. October laestleden, t' Schip\"\", 'Schoonhoven ende in april passato (soo wij verhoopen de', 'Leuwinne, welcke seven stucx wij vertrouwen Godt almachtich', 'UEd: dit loopende jaer behouden zal hebben toegebracht', \"\"'sedert is hier vant' vaderslandt met vEd: voorlop. n advisen\"\", \"\"t Jacrtde Har in Batavia den 4en. Junij arij jonghst wel aengecomen, t' Jacht de Hase\"\", 'bij welcke onder anderen verstaen hebben, wat subsidien vEd:', 'voorgenomen hadden, op den herfst @ 1624. en dit voor jaer', 'na Indien te seijnden, tot noch toe hebben gene der selver vernomen', 'Godtwille in salvo ter gedestmeerder plaetsen geleijden', 'van Suratte sijn hier in Junio laestleden met 829. packen', 'alderhande sorteringhe Guseratse Cleden wel aengecomen', 'de Schepen, N: Bantam ende Zuijt Hollandt, waermede', 'vstaen hebben den goeden standt en wenschelijk succes van des', 'Comp=es affairen in dese respective quartiere van guseratte,', 'en Persia, tot meerder verseeckeringhe van v Ed: rijcke', 'middelen, mitsgaders tot vigoreuser vervolch vanden handel', 'aldaer, hebben wij goetgevonden toe te rusten, ende dienvolgende', 'Hr: Bantam van Batamia op heden derwaerts tezenden, de Schepen de goede fortuijne', \"\"N: Bantam, ende d' Engelsz Beer, met soo veele specerijen\"\", 'als voor de respective quartieren van Suratte, Persien, ende Mocha.', 'geerft sijn, beneffens noch eenighe andere Coopmanschappen', 'ende 50. Ogt. in Contant, daer toe zullende dit Cargasoen', 'naer onse reecke. daer telande waerdich wesen, aende cant van', \"\"400 O gt, in voeghe dat t'secours van Nederlandt, ende van\"\", 'hier met lieft in Suratte arriverende aldaer een bastante', 'macht, ende goet Capitael wesen sal, om den handel met redel.', 'ende seeckeringhe, ene reputatie te vervolgen, mitsgaders om', 'vEd: een goet retour, ene Indien sijnen Eysch van Cleden te', 'beschicken, ende dan noch wat overbehouden omme haer aldaer', \"\"tot t' naeste jaers ontseth van Nederlandt, ende van hier eenich\"\", 'sints te behelpen, wij maecken staet dat in gemelte quartieren', 'wesen sal wanneer alles met lieff over sal comen, ende met', 'gewoonelijcke advance vertiert werden, een Capitael daer te', 'lande waerdich alle Oncosten affgetrocken, § 4½: tonnen goutsruijm', 'd: Erntfeste, achtbare wijse voorsienigh')\"\t[0.9994656443595886, 3.346086430155992e-08, 0.0005343896336853504, 4.0064522879856845e-12]\t(<RegionType.PARAGRAPH: 'paragraph'>, <RegionType.PHYSICAL_STRUCTURE_DOC: 'physical_structure_doc'>, <RegionType.TEXT_REGION: 'text_region'>, <RegionType.PAGEXML_DOC: 'pagexml_doc'>)\n",
      "BEGIN\tBEGIN\t('„ de scheepen hollandse thuijn',)\t[0.9980054497718811, 0.001500388840213418, 0.000494239036925137, 4.538102185702719e-11]\t(<RegionType.MARGINALIA: 'marginalia'>, <RegionType.PHYSICAL_STRUCTURE_DOC: 'physical_structure_doc'>, <RegionType.TEXT_REGION: 'text_region'>, <RegionType.PAGEXML_DOC: 'pagexml_doc'>)\n",
      "END\tBEGIN\t('Batavia in uw ho:', 'Ed:s Casteel den 8:en Martij 1686')\t[1.0590811143629253e-05, 1.8951995528482257e-09, 0.99998939037323, 3.840993549695387e-14]\t(<RegionType.PARAGRAPH: 'paragraph'>, <RegionType.PHYSICAL_STRUCTURE_DOC: 'physical_structure_doc'>, <RegionType.TEXT_REGION: 'text_region'>, <RegionType.PAGEXML_DOC: 'pagexml_doc'>)\n",
      "BEGIN\tBEGIN\t('de Groote Geld-kamer, als',)\t[0.5203595161437988, 4.023187557322672e-06, 0.47963646054267883, 1.878426081347584e-09]\t(<RegionType.PHYSICAL_STRUCTURE_DOC: 'physical_structure_doc'>, <RegionType.TEXT_REGION: 'text_region'>, <RegionType.PAGEXML_DOC: 'pagexml_doc'>)\n",
      "IN\tIN\t\"('Batavia Heeren M„r Arnoldus Adrianus van', 'Tels en Jacob Riemersma, en in qualiteid', 'van alleen overgebleven Executeur des boedels', 'van gemelden Heer Hartingh, op zijn aan', \"\"„bod g'accepteert als borg, en hem met eenige\"\", 'alteratie van ons voren geciteert vroeger', 'besluit, laten volstaan, met het passeren', 'en overleveren aan ons van een voldoende', 'bergtogt ten behoeven van de Comp: zo voor', \"\"ƒ8340:6. als Rd=s 10'000. - op het aandeel\"\", 'der voorschreven Heeren van Iets en Rie„', 'mersma in de gementioneerde sommas', 'vermond al mede tive: mitsgaders den Heer Divecteur Generaal', 'van Riemsdijk, en den Heer Raad ordinair', 'Allingh ter onzer eerstgemelde sessie gequa„')\"\t[5.284944109007483e-07, 0.9994663596153259, 0.00053315149853006, 4.206724968369713e-10]\t(<RegionType.PARAGRAPH: 'paragraph'>, <RegionType.PHYSICAL_STRUCTURE_DOC: 'physical_structure_doc'>, <RegionType.TEXT_REGION: 'text_region'>, <RegionType.PAGEXML_DOC: 'pagexml_doc'>)\n",
      "BEGIN\tBEGIN\t('Het voorleden Jaer hebben wij vier generale', 'brieven aen uEd. geschreven, de eerste mette schepen', 'muijden, weesp, draeck ende schellinck, volgens uEd.', 'ordre inde maent november voor afgesonden, de tweede', 'mette schepen perel, princesse Roijael, Dolphijn,', 'Gideon, henriette louijsa, Cartolen, Coninck van', 'Polit, Dordrecht ende Breda, onder de vlagge vanden —', 'E. Rijcklof van goens, int lest van Januario van dese', 'reede vertrocken; De derde mettet ingehuijrde schip', 'de prins te paert, pro. april, Ende de vierde mette', 'Engelse Coopman over london, gedateert 12. Julij', 'verleden. Alle welcke Comp. s schepen wij gantselijk', 'verhoopen dat behouden gevaren sullen sijn, ende dat', 'het Cargasoen daermede geretourneert, ten bedragen', 'van 2846. 146. guldens, wel geconditioneert overgekomen', 'sijnde, een goede marct sal hebben aengetroffen,', 'het welck te sijner tijt seer sullen verlangen uijt uEd.', 'brieven te mogen verstaen, ende dat uEd. haer ons—', 'doen ende bedrijf inden dienst vande Comp. e tot die')\t[0.9999998807907104, 3.734960074552873e-08, 1.62367442158029e-07, 9.269723253964648e-14]\t(<RegionType.PARAGRAPH: 'paragraph'>, <RegionType.PHYSICAL_STRUCTURE_DOC: 'physical_structure_doc'>, <RegionType.TEXT_REGION: 'text_region'>, <RegionType.PAGEXML_DOC: 'pagexml_doc'>)\n",
      "BEGIN\tBEGIN\t('Volgens vorige ordre en gewoonte geven', 'wij ons thans de eere uEd:e Hoog', 'agtb: bij ditt aparte briefke met', 'Eerbied de vereijschte kennisse te')\t[0.8520323038101196, 0.0026750003453344107, 0.14529260993003845, 3.410450810648058e-09]\t(<RegionType.PARAGRAPH: 'paragraph'>, <RegionType.PHYSICAL_STRUCTURE_DOC: 'physical_structure_doc'>, <RegionType.TEXT_REGION: 'text_region'>, <RegionType.PAGEXML_DOC: 'pagexml_doc'>)\n",
      "IN\tIN\t\"('bevel aan den Gezaghebber Lurac„', 'de detachering om als er geen beduchting was, dat', 'ang geapprobeerdde Sentongers door het voordeel', 'der Balemboangers aangemoedigt', 'zig weder versamelen zouden,', 'om op Djember of daar om streeks', 'iets te onderneemen, dan, zoo veel', 'Europeers van daar naar Balem¬', 'boang te detacheeren, als aan dien', 'kant met gerustheijd zonder de', 'magt te zeer te verzwakken, kon¬', 'den werden gemist, heeft, eeven', 'als het Commandeeren derwaarts', 'ook het Com„ van den Lieutenant Heinrich en', 'twee vaandrigs, item de deferentie', \"\"van 't gezag te Djember aan den\"\")\"\t[1.295103686516086e-07, 0.9999998807907104, 1.4162997163946756e-10, 9.90324792657371e-13]\t(<RegionType.PARAGRAPH: 'paragraph'>, <RegionType.PHYSICAL_STRUCTURE_DOC: 'physical_structure_doc'>, <RegionType.TEXT_REGION: 'text_region'>, <RegionType.PAGEXML_DOC: 'pagexml_doc'>)\n",
      "IN\tIN\t\"(\"\"Mocha 'T sedert de saken Concerneerende\"\", 'dit Compt:r bij onsen brieff van den 10:e 9ber: jongs„', '„leeden aen uEd:e hoog Agtb: beschreeven', 'sijn heeft men ons van daer over Mallabaar', 'en Ceijlon zien toebrengen de nadere advijsen', \"\"der bediendens van dato 15:' aug:s des voorigen\"\", 'Iaers uijt welkers verwarden en Confusen', 'inhoud soo kort doenlijk tot de kennisse van', 'uEdele Hoog Agtb: zal worden gebragt', \"\"'t geen men agt in desen plaets temoeten hebben\"\", 'en uijt welken hoofde aenvankelijk noteeren', 'hoe de aldaer bescheijden geweest sijnde residen„', 'ten den Coopman Willem van den', '„der onse nader ordre bergh benevens de onderCoopl:n Jacob', 'Akersloot en Iohan alphonse', 'Cailliou blijkens hunne resolutie van')\"\t[0.0009836952667683363, 0.9969238638877869, 0.0020924487616866827, 4.0377018395432174e-10]\t(<RegionType.PARAGRAPH: 'paragraph'>, <RegionType.PHYSICAL_STRUCTURE_DOC: 'physical_structure_doc'>, <RegionType.TEXT_REGION: 'text_region'>, <RegionType.PAGEXML_DOC: 'pagexml_doc'>)\n",
      "IN\tIN\t\"('aangedaan vandes mogols gesant,', 'die op eijgen authoriteijt in persoon', 'is gaan afhaalen den Heer seijd', 'moesiaffer die veele jaaren langh', 'onder de regeringe vanden ouden Captusia', 'de Cancelerije loffelijck heeft bedient,', 'en door dese Coninck (die hij selffs heeft', 'op den throon gebracht) daar van a:o', '1673 gepost paneert, en op een tractament', 'van 12 Opagoden Jaarlijx in sijn', 'huijs geconfineert is, niet soo veel uijt', \"\"eijgen beweginge als door 't ingeven vanden\"\", 'bramine madoena, die in zeijd moesiaffers', 'dienst van de straat op gebeurt en aan', 'gequeekt is, en daer nae sijn Eijgen wal', \"\"op dese wijse heeft besteecken, 'twelck dien\"\", 'ouden staats man duslange geduldigh', 'sigh heeft onderworpen, tot dat hij', \"\"Eijndelijck soo 'tschijnt van zijnne zonen\"\", 'opgemaekt, en bewoogen is, sijne verlos„', 'singe (indese perplexe tijt) te bearbeijden,', \"\"'tzij bij den gesant off wel bij sijnen meester\"\")\"\t[2.0712717741844244e-05, 0.9998328685760498, 0.00014641316374763846, 9.14017611597373e-11]\t(<RegionType.PARAGRAPH: 'paragraph'>, <RegionType.PHYSICAL_STRUCTURE_DOC: 'physical_structure_doc'>, <RegionType.TEXT_REGION: 'text_region'>, <RegionType.PAGEXML_DOC: 'pagexml_doc'>)\n",
      "IN\tIN\t\"(\"\"d' ondergende specoijen aangaande de g'arresteerde en g'effec„\"\", 'tueerde verbranding van Specerijen', 'ten overstaan van Expresse gecom„', 'mitteerdens na Jaarlijxe ge¬', 'woonte onze Resol: van den 22.', 'aug: Pass=o komende gewagte', 'maken zal men met een onder', 'danig refert aan dezelve ten', 'vervolge onzer Communica¬', 'tie Uwel Edele Hoog Agtb:', 'het provenueuijtd nala bij deezen voor oogen brengen', \"\"Caillou in Cassa gedrag, de gevallene dispositie op den 28:'\"\", 'April Pass=o om den boedel en', 'Nalatenschap van den overleeden', 'onderkoopman en geweezen', 'derden resident in Mochd', 'vin', '8')\"\t[1.4892360411522532e-07, 0.9999991655349731, 6.971596917537681e-07, 7.660575732787445e-13]\t(<RegionType.PARAGRAPH: 'paragraph'>, <RegionType.PHYSICAL_STRUCTURE_DOC: 'physical_structure_doc'>, <RegionType.TEXT_REGION: 'text_region'>, <RegionType.PAGEXML_DOC: 'pagexml_doc'>)\n",
      "IN\tIN\t\"('daer en boven scheen ook niets bijsonders', 'te noteeren was over de depeche, ende', 'ladingen van voorm: dry schipen her„', '„waard dewelcke op een tamelijcke wijse', \"\"tamelyck uytgekomen hebben gerespondeert, en daarom d' onder„\"\", '„wigten ook zijn gepasseerd, maar aan de', 'scheeps overheden van carthago niet', 'goed gedaan het onderwigt, het welcke', 'sij ter quantiteyt van lb 3694. makende', 'op hun inlading 3/8 percento gaarne', 'niet geaccepteerd. zouden hebben genoten gehad, ter saeke', 'men ontdeckte, dat volck niet alleen', 'particulier Sappanhout, maar ook')\"\t[5.392278580984566e-06, 0.9999946355819702, 2.1102998459809896e-08, 1.1201310712305457e-11]\t(<RegionType.PARAGRAPH: 'paragraph'>, <RegionType.PHYSICAL_STRUCTURE_DOC: 'physical_structure_doc'>, <RegionType.TEXT_REGION: 'text_region'>, <RegionType.PAGEXML_DOC: 'pagexml_doc'>)\n",
      "BEGIN\tBEGIN\t('Door het arrivement ter deser rheede so',)\t[0.9989330172538757, 0.0010670317569747567, 1.2557725042119938e-12, 7.66157563824102e-14]\t(<RegionType.PARAGRAPH: 'paragraph'>, <RegionType.PHYSICAL_STRUCTURE_DOC: 'physical_structure_doc'>, <RegionType.TEXT_REGION: 'text_region'>, <RegionType.PAGEXML_DOC: 'pagexml_doc'>)\n",
      "IN\tIN\t('Amboina en de barcq, Noordwijk', 'zijnde volgens der ministers ad', 'geen wijsen de Brigantijn De ongehoor„', 'saamheid, met een lading hout', 'werken den 29 Iunij pass:o van', 'Haroeko vertrokken, door een schie„', '„lijke onstaane swaaronweer, naar', 'verlies van de groote mast, voor', 'steng en het roer, tegen de oost', 'wal van Letjemor aangeslagen', 'en vervolgens omtrent de hoek van', 'Hoetoemoerij, in een bogt tusschen', 'de klippen geraakt en verbrijseld, waar', 'van de menschen egter door behulp', 'van de naast aangelegene negorijs', 'volkeren waren gesalveert, benevens')\t[1.8964026821777225e-05, 0.9999810457229614, 3.227249356640982e-09, 1.1884421398378198e-12]\t(<RegionType.PARAGRAPH: 'paragraph'>, <RegionType.PHYSICAL_STRUCTURE_DOC: 'physical_structure_doc'>, <RegionType.TEXT_REGION: 'text_region'>, <RegionType.PAGEXML_DOC: 'pagexml_doc'>)\n",
      "IN\tIN\t('d onderhoud van den', 'vrouwen e kinderen', 'der krijgs gevangenen')\t[0.005459883250296116, 0.8883391618728638, 0.10620099306106567, 2.756545824933454e-10]\t(<RegionType.MARGINALIA: 'marginalia'>, <RegionType.PHYSICAL_STRUCTURE_DOC: 'physical_structure_doc'>, <RegionType.TEXT_REGION: 'text_region'>, <RegionType.PAGEXML_DOC: 'pagexml_doc'>)\n",
      "BEGIN\tBEGIN\t('§1. Sedert de inrichting onzer jongste aan Uwel Edele Hoog', 'Achtb: van den 4:e. July deezes Jaars in origineel afgezondene')\t[0.999942421913147, 5.649652302963659e-05, 1.0539367849560222e-06, 2.437748267136719e-11]\t(<RegionType.PARAGRAPH: 'paragraph'>, <RegionType.PHYSICAL_STRUCTURE_DOC: 'physical_structure_doc'>, <RegionType.TEXT_REGION: 'text_region'>, <RegionType.PAGEXML_DOC: 'pagexml_doc'>)\n",
      "END\tEND\t('F', 'Liebeeck', 'O', 'Thomas van Wht', 'Joan Oops', 'Jacob van dam', '106', 'Vae', 'H', 'H', 'Transwor')\t[5.9414963970994e-07, 1.2306199392853046e-09, 0.9999994039535522, 6.929885179117587e-16]\t(<RegionType.PARAGRAPH: 'paragraph'>, <RegionType.PHYSICAL_STRUCTURE_DOC: 'physical_structure_doc'>, <RegionType.TEXT_REGION: 'text_region'>, <RegionType.PAGEXML_DOC: 'pagexml_doc'>)\n",
      "BEGIN\tBEGIN\t('Wij hebben door den behouden aankomst van', 'beandwoording het schip Roosenburg, op den 1e deeser, de', 'eer gehad te ontvangen Uwel Edele Hoog Achtb:', 'zeer gevenereerde missive van den 19e August„', '2o p„s nevens de daar bij gevoegde missive van', 'Hun Hoog Mogende de Heeren Staaten', 'Generaal in dato 27 Iulij bevoorens, mits„', 'gaders Hoogst derselver resolutie van dien')\t[0.9999772310256958, 1.0820219813467702e-06, 2.166210106224753e-05, 8.600716493167848e-12]\t(<RegionType.PARAGRAPH: 'paragraph'>, <RegionType.PHYSICAL_STRUCTURE_DOC: 'physical_structure_doc'>, <RegionType.TEXT_REGION: 'text_region'>, <RegionType.PAGEXML_DOC: 'pagexml_doc'>)\n",
      "BEGIN\tBEGIN\t('Hunne Hoog Edelheeden, den Gouverneur', 'Generaal en de Raden van Indie')\t[0.9819570779800415, 1.571977736603003e-05, 0.01802721619606018, 4.695239752550151e-10]\t(<RegionType.PARAGRAPH: 'paragraph'>, <RegionType.PHYSICAL_STRUCTURE_DOC: 'physical_structure_doc'>, <RegionType.TEXT_REGION: 'text_region'>, <RegionType.PAGEXML_DOC: 'pagexml_doc'>)\n",
      "IN\tIN\t('geldleening aand. Cochim„',)\t[3.176950716388127e-11, 0.9066283702850342, 0.09337160736322403, 8.894861409924903e-12]\t(<RegionType.MARGINALIA: 'marginalia'>, <RegionType.PHYSICAL_STRUCTURE_DOC: 'physical_structure_doc'>, <RegionType.TEXT_REGION: 'text_region'>, <RegionType.PAGEXML_DOC: 'pagexml_doc'>)\n",
      "IN\tIN\t\"(\"\"geene, d'onse op de rijse is wedervaren\"\", 'ende datse om de noord van China geen appr', 'tie tot den gehoopten handel siende,', 'genootsaekt waeren geworden, nae de', 'maccause eijlanden afte saeken &=a hebben', 'wij hier in passanc aengehaelt: en', 'welcken aengaende nu noch wat speciaelde', 'sullen seggen, dat hunne eerste aencont', \"\"is geweest voor het papen eijlant, 'ttelk\"\", 'een', 'sij bevonden vrugtbaer te sijn, vol van', 'wild en alderhande gevogelte mitsgrs: het', 'waeter, soo van binnen als van buijten', 'ongemeer visch rijck, werdende alleen', 'bewoont van 30 heijdense tempeliers en', 'meest om de vrugtbaerheijt door de', 'copinse rovers, die het oock tot een schuijl', 'plaets hielden bevaren (: ende welcke paper', \"\"d'onse op hun eerste aencomste groote hope\"\", 'tot een goede negotie gaven, maer cort', 'daer aen was gebleeken dat sij onder', 'dien schijn waren advocaten van ged=e rovers,', 'die onse scheepen onder versekeringh van', 'goede negotie, zoo Lange sochten aente', 'houden tot dat die see schuijmers formidaer', \"\"waren gewerden om 't eene soo wel als\"\", \"\"t'ander zonder geldt aen te slaen\"\")\"\t[0.00041681909351609647, 0.9995830655097961, 6.847135125553905e-08, 2.0674970069300969e-10]\t(<RegionType.PARAGRAPH: 'paragraph'>, <RegionType.PHYSICAL_STRUCTURE_DOC: 'physical_structure_doc'>, <RegionType.TEXT_REGION: 'text_region'>, <RegionType.PAGEXML_DOC: 'pagexml_doc'>)\n",
      "IN\tIN\t('Artikelen van het verbond waarover', 'de Hollandse Comp wil handelen mot', 'den Nabab Heder Alikan Baden', 'Art v')\t[0.0012921430170536041, 0.9974712133407593, 0.001236676354892552, 1.7645293559631625e-10]\t(<RegionType.PARAGRAPH: 'paragraph'>, <RegionType.PHYSICAL_STRUCTURE_DOC: 'physical_structure_doc'>, <RegionType.TEXT_REGION: 'text_region'>, <RegionType.PAGEXML_DOC: 'pagexml_doc'>)\n",
      "IN\tIN\t\"('behoeften, als dezelve bij hun', 'provisioneelen Eijsch die met', 'Doornik alhier is ontfangen', 'reets hebben gerequireerd en', 'per naasten nog zouden moe', 'vorderen tot voortsettingeva', 'den handel langs deze kust', 'alwaar volgens de overgekom', '„ne negotie boeken onder ult„o', 'I„o leden gesloten de lasten En ongelden', \"\"bij d'EComp: gedragen in het J„s boek\"\", 'hebben belopens guldens 163089:14', 'Inde winsten met de inkomsten', 'daar en tegen gedurende dien', 'tijd maar. . . . . ..')\"\t[5.354834353710203e-09, 0.9999973773956299, 2.598023684186046e-06, 8.423565122338272e-13]\t(<RegionType.PARAGRAPH: 'paragraph'>, <RegionType.PHYSICAL_STRUCTURE_DOC: 'physical_structure_doc'>, <RegionType.TEXT_REGION: 'text_region'>, <RegionType.PAGEXML_DOC: 'pagexml_doc'>)\n",
      "IN\tIN\t('Sallant. . . . . . . . . . . . . . „ 243016. 5. 13.',)\t[0.00031991576543077826, 0.7886149287223816, 0.2110651433467865, 1.6318288734162856e-11]\t(<RegionType.PARAGRAPH: 'paragraph'>, <RegionType.PHYSICAL_STRUCTURE_DOC: 'physical_structure_doc'>, <RegionType.TEXT_REGION: 'text_region'>, <RegionType.PAGEXML_DOC: 'pagexml_doc'>)\n",
      "IN\tIN\t('26965:10½ Ducatons en schell: tegens reductie', 'rds 437192: 1/48 ƒ1049261:13:—', 'als boven')\t[3.713900582624774e-07, 0.9999992847442627, 3.9960286812856793e-07, 1.240104807037623e-11]\t(<RegionType.PARAGRAPH: 'paragraph'>, <RegionType.PHYSICAL_STRUCTURE_DOC: 'physical_structure_doc'>, <RegionType.TEXT_REGION: 'text_region'>, <RegionType.PAGEXML_DOC: 'pagexml_doc'>)\n",
      "END\tEND\t('en betuijging dat wij zijn', 'Wel Edele hoog Agtb: Heeren', 'uwel Edele hoog agtb:', 'onderdanige en Getrouwe dienaron', 'D: V: Vel', 'Hof', 'J=s Mersen:/', 'enKeel', 'Waeijen', 'Par d& Genra', 'Mluijsenaer', 'JVrijsel', 'Hen', 'A: V: Broijerl', 'Iacob van den Bosch:')\t[6.0854108596686274e-05, 4.126360586553801e-09, 0.9999390840530396, 1.9660022308048974e-12]\t(<RegionType.PARAGRAPH: 'paragraph'>, <RegionType.PHYSICAL_STRUCTURE_DOC: 'physical_structure_doc'>, <RegionType.TEXT_REGION: 'text_region'>, <RegionType.PAGEXML_DOC: 'pagexml_doc'>)\n",
      "IN\tBEGIN\t('aende heeren Bewinthebberen', 'Tot amstelredamme')\t[0.03377285599708557, 0.9651442170143127, 0.0010828647064045072, 1.6536587377213863e-10]\t(<RegionType.PARAGRAPH: 'paragraph'>, <RegionType.PHYSICAL_STRUCTURE_DOC: 'physical_structure_doc'>, <RegionType.TEXT_REGION: 'text_region'>, <RegionType.PAGEXML_DOC: 'pagexml_doc'>)\n",
      "END\tEND\t('Uwer welEdele Hoog Achtbare', 'onderdanige en gehoorzame dienaren', 'Den Gouverneur Generaal', 'en de Raden van Jndie', 'W A Alting')\t[2.6770262451236704e-08, 1.9420676622416977e-08, 1.0, 1.192301194840456e-13]\t(<RegionType.PARAGRAPH: 'paragraph'>, <RegionType.PHYSICAL_STRUCTURE_DOC: 'physical_structure_doc'>, <RegionType.TEXT_REGION: 'text_region'>, <RegionType.PAGEXML_DOC: 'pagexml_doc'>)\n",
      "IN\tIN\t('vermijden was zal moeten', 'vergoed werden tegens ƒ 50 de', '100 lb.')\t[7.340028590694368e-16, 1.0, 4.685439970036898e-12, 1.2019354111099975e-15]\t(<RegionType.PARAGRAPH: 'paragraph'>, <RegionType.PHYSICAL_STRUCTURE_DOC: 'physical_structure_doc'>, <RegionType.TEXT_REGION: 'text_region'>, <RegionType.PAGEXML_DOC: 'pagexml_doc'>)\n",
      "END\tEND\t\"('Batavia', \"\"In't Casteel van\"\", 'uEd: Hoog agtb:', 'Den 2„e Febr: a:o 1731', 'ssen')\"\t[8.111936040222645e-06, 1.6688504729245324e-06, 0.9999902248382568, 2.185943178583446e-14]\t(<RegionType.PARAGRAPH: 'paragraph'>, <RegionType.PHYSICAL_STRUCTURE_DOC: 'physical_structure_doc'>, <RegionType.TEXT_REGION: 'text_region'>, <RegionType.PAGEXML_DOC: 'pagexml_doc'>)\n",
      "BEGIN\tBEGIN\t('Edele; Erntfeste, hoogh Achtbaare„', 'manhafte wijse voorsienige, genereuse—', 'Heeren.')\t[0.999935507774353, 2.5001991588169403e-08, 6.450405635405332e-05, 1.1132556682058592e-11]\t(<RegionType.PARAGRAPH: 'paragraph'>, <RegionType.PHYSICAL_STRUCTURE_DOC: 'physical_structure_doc'>, <RegionType.TEXT_REGION: 'text_region'>, <RegionType.PAGEXML_DOC: 'pagexml_doc'>)\n",
      "BEGIN\tBEGIN\t\"(\"\"Aan d' Edele Hoog agtbare heeren\"\", 'Bewinthebbers van de Generale vereenigde', \"\"Nederlandse g'octroijeerde Oost jndische\"\", 'dere', 'Comp„e der vergaderinge van de xvij=en', 'binnen de praesidiate Camer')\"\t[0.9997112154960632, 0.00010287388431606814, 0.00018589773389976472, 1.5529476316000768e-10]\t(<RegionType.PARAGRAPH: 'paragraph'>, <RegionType.PHYSICAL_STRUCTURE_DOC: 'physical_structure_doc'>, <RegionType.TEXT_REGION: 'text_region'>, <RegionType.PAGEXML_DOC: 'pagexml_doc'>)\n",
      "BEGIN\tBEGIN\t\"('jnt begin van deselve hebben wij uEd=e bekent', 'gemaect de behouden aencomste uijt het Vaderlant', 'vande schepen het Jacht Lansmeer, over het eijlan', \"\"Mauritius, 't wapen van hoorn, outshoorn, peerl,\"\", \"\"wassende maen, 't hof van Zeelant, Cattenburgh,\"\", \"\"Nieupoort, jonge prins, brederode en 't slot van\"\", 'honingen, alle over de Caep ende met tamelijk', 'gesont volk.')\"\t[0.9998736381530762, 3.5848548577632755e-05, 9.04683765838854e-05, 2.92534940715683e-10]\t(<RegionType.PARAGRAPH: 'paragraph'>, <RegionType.PHYSICAL_STRUCTURE_DOC: 'physical_structure_doc'>, <RegionType.TEXT_REGION: 'text_region'>, <RegionType.PAGEXML_DOC: 'pagexml_doc'>)\n",
      "IN\tIN\t\"('De Hopvogel van Ceijlon te deser', \"\"arrivement van den E: rheede op den 16:' april, heeft men\"\", 'daer mede alhier sien aanlanden', \"\"den door VEd: hoog agtb: g'Eligeerd\"\", 'gouverneur van dat Eijland den', 'E. M:r Diderik van Domburg', 'nevens den gaalsen Capitain', 'Carel Rudolph van Glan, met', 'nog twee leden van den Colom„', 'bosen politicquen raad, de Coop„', 'lieden Willem Bernard Albi„', 'nus en Ian Elias van Mij„', 'eendonk ter zaeke den heer', 'Ceijlons commissaris Iacob', 'Christiaan Pielat en sijnen', 'rade, ingevolge het gedemandeerde')\"\t[0.0003867830091621727, 0.9995998740196228, 1.3355745068110991e-05, 9.660171967906805e-11]\t(<RegionType.PARAGRAPH: 'paragraph'>, <RegionType.PHYSICAL_STRUCTURE_DOC: 'physical_structure_doc'>, <RegionType.TEXT_REGION: 'text_region'>, <RegionType.PAGEXML_DOC: 'pagexml_doc'>)\n",
      "BEGIN\tBEGIN\t\"('Onse Jongste hebben wij aen uE ses dubbeld geschreven', 'Jongste scheijven op 27: den 27=en December a. o 1634: met vertrouwen op des', 'heeren Segen, dat uE die gewerden souden, met de', 'Schepen Prins Willem, Zeelandia ende Sutpheen', 'die den 30:=en derselver Maend van Batavia sijn gescheijde', 'Ende met Banda, Egmont ende des Hertogen Bosch', 'uijt de Perlise ende Suratse Quartieren tot', 'vaederlandse Retour Schepen geordineert, om aende', 'Capo de Bona Isperance bij een te comen, ende van', 'daer naert vaederlant te seijlen, onder het Comando', 'vanden E Pieter Vlack, Metwelcke ses Schepen uen', 'toegesonden is een redelijck Cargasoen te saemen', 'bedraegende 982050036/10//15/. Bij Brieven', 'door gemelten E vlack aende voorsz Caepgelaeten', 'ende ons toegebraght met het Schip Amsterdam', 'hebben wij met groot verheugen verstaen, dat alle de', 'selve ses Schepen daer in goede ordre successive wel', 'bij een waeren gearriveert, ende datse gesaementlijk', 'den 25en Meert geresolveert waeren, van daer naert', 'vaederlant te vertrecken, aghter Engelant, Schotlan', 'ende Yrlant om, Ende alsoot doen daer toe was een', 'seer bequaem Saijsoen, Soo blijven wij verhoopende', 'datse uE vreedigh ende behouden, spoedigh sullen', 'wesen toegecomen, te meer aengemelte Caep, eenige', 'Daer eenige Roervincken siditieuse Roervincken vant Schip Sutpheen', 'exemplaerlijcken waeren gestraft.', 'T, zeedert hebben wij naer ons uijtterste vermogen getraght', \"\"om te bewijsen, t' geene wij uE bij ons gemelte Jongste\"\", 'hebben aengeschreven, het welcke is, dat wij tot de', 'bevoorderingh vandes vermeerderinge der bevoorderingh van des Comptns. besten', 'dienst, egeene assistentie altoos hadden verlooren', 'aende van hier vertrocken persoonen, die ons mede', 'helpers ende Raeden sijn geweest, Maer sijn den', 'Almaghtigen hebbe loff, door den genaedigen ende', 'overvloedigen Segen, die hij over onsen gestaedigen', 'ende onverdrietigen arbeijt heeft gelieven te verleenen', 'gecomen tot een groot gedeelte vant wit onses —', 'voornemens, Dat is, om u E toe te seijnden cleene', 'het gewenschte wit Brieven, goede tijdingen, ende groote Retouren, niet', 'vaste hoope vande Jaerlijckse vermeerderinge der', 'selver, ende eghter om met groote redenen van uE', 'te versoecken, matelijcke ende oncostelijcke Equipagne', 'Dat is te senden groote ende cleene vaederlandse Capitaelen, Cargasoenen en')\"\t[0.9999558925628662, 9.947286372380404e-08, 4.3943302443949506e-05, 1.3173311400049847e-11]\t(<RegionType.PARAGRAPH: 'paragraph'>, <RegionType.PHYSICAL_STRUCTURE_DOC: 'physical_structure_doc'>, <RegionType.TEXT_REGION: 'text_region'>, <RegionType.PAGEXML_DOC: 'pagexml_doc'>)\n",
      "END\tEND\t\"('Batavia', \"\"In 't Casteel van\"\", 'Vwel Ed: Hoog Achtb=r')\"\t[0.000142212666105479, 4.867786174145294e-10, 0.9998577833175659, 6.715909431223924e-14]\t(<RegionType.MARGINALIA: 'marginalia'>, <RegionType.PHYSICAL_STRUCTURE_DOC: 'physical_structure_doc'>, <RegionType.TEXT_REGION: 'text_region'>, <RegionType.PAGEXML_DOC: 'pagexml_doc'>)\n",
      "END\tIN\t('tot Justificatie uijt',)\t[0.001295749330893159, 0.4622056186199188, 0.5364986062049866, 3.513703106250432e-08]\t(<RegionType.MARGINALIA: 'marginalia'>, <RegionType.PHYSICAL_STRUCTURE_DOC: 'physical_structure_doc'>, <RegionType.TEXT_REGION: 'text_region'>, <RegionType.PAGEXML_DOC: 'pagexml_doc'>)\n",
      "END\tEND\t\"('wij bewelen hier mede uwer wel Edele Hoog', \"\"agtb: dierbaare perzoonen in 's comp:s\"\", 'importante belangen in de veijlige hoede', 'van god almagtig en blijven met de')\"\t[1.0174472890867037e-06, 0.00032375447335653007, 0.9996751546859741, 4.942160222731751e-11]\t(<RegionType.PARAGRAPH: 'paragraph'>, <RegionType.PHYSICAL_STRUCTURE_DOC: 'physical_structure_doc'>, <RegionType.TEXT_REGION: 'text_region'>, <RegionType.PAGEXML_DOC: 'pagexml_doc'>)\n",
      "END\tEND\t\"('Goodes zeegen haare voorwaarts gemelte', 'rijse Gerustelijk te kunnen onderneemen', 'Dit al het geene zijnde hoog Edele groot', 'agtb:re heereen heeren, dat wij van die boodem', 'weeten te berigten, zoo zullen wij in hoope', 'van hier meede voldaan te hebben, met alle', 'schuldige Eerbied en diepste ontsag blijven /:o', 'derstond:/ uw hoog Edelens Gants onder', 'nige en trouwschuldige Dienaaren /:was', \"\"getekend:/ f:s van Nek, J:r D' boer, Rr Brug\"\", 'man, J:n De wit, Jan van Thiel, Jan van', 'hennekelaar, J: v: O Beek Matthijs de', \"\"Bruijn /:in margine:/ Batavia den 27:' sep\"\", '1740. /:daar onder:/ hier meede Conformeere ik', 'mij / /was getekend :/ A: J: Guldenarm.')\"\t[0.0025551237631589174, 0.0021221227943897247, 0.9953227639198303, 9.819090679430431e-11]\t(<RegionType.PARAGRAPH: 'paragraph'>, <RegionType.PHYSICAL_STRUCTURE_DOC: 'physical_structure_doc'>, <RegionType.TEXT_REGION: 'text_region'>, <RegionType.PAGEXML_DOC: 'pagexml_doc'>)\n",
      "BEGIN\tBEGIN\t('Bewindhebberen', 'Ter vergadering van seventienen', 'gecommitteerd de generaale', 'geoctroijeerde', 'Nederlandsche Oostindische', 'Compagnie reprae', 'senteerende', 'Ten', 'Praesidiale Kamer', 'Amsterdam')\t[0.9982753992080688, 0.0016072442522272468, 0.00011729443940566853, 4.941209334058394e-12]\t(<RegionType.PARAGRAPH: 'paragraph'>, <RegionType.PHYSICAL_STRUCTURE_DOC: 'physical_structure_doc'>, <RegionType.TEXT_REGION: 'text_region'>, <RegionType.PAGEXML_DOC: 'pagexml_doc'>)\n",
      "IN\tEND\t('Restanten van zodanige', 'Graanen Pavij en Wesmeer', 'als er onder ultimo Augustus', 'A„o 1788 volgens den opneem en', 'sCompagnie Praan Maguazijn', 'in waare weesen per Restant', 'bevonden zijn; Nament¬', '6186')\t[0.17043377459049225, 0.8295189142227173, 4.732661909656599e-05, 1.4654669699964984e-09]\t(<RegionType.PARAGRAPH: 'paragraph'>, <RegionType.PHYSICAL_STRUCTURE_DOC: 'physical_structure_doc'>, <RegionType.TEXT_REGION: 'text_region'>, <RegionType.PAGEXML_DOC: 'pagexml_doc'>)\n",
      "END\tIN\t('staat van Cheribon', 'in 176 8/9.')\t[0.013556931167840958, 0.005109059624373913, 0.9813340306282043, 6.460747048464555e-09]\t(<RegionType.MARGINALIA: 'marginalia'>, <RegionType.PHYSICAL_STRUCTURE_DOC: 'physical_structure_doc'>, <RegionType.TEXT_REGION: 'text_region'>, <RegionType.PAGEXML_DOC: 'pagexml_doc'>)\n",
      "BEGIN\tIN\t\"('het schip Papenburg en de', \"\"Chialoup d' Iaa anna sij\"\", 'Eijnde rls in den rexl.t')\"\t[0.9999706745147705, 5.482566393766319e-06, 2.3871280063758604e-05, 3.487397436802153e-12]\t(<RegionType.MARGINALIA: 'marginalia'>, <RegionType.PHYSICAL_STRUCTURE_DOC: 'physical_structure_doc'>, <RegionType.TEXT_REGION: 'text_region'>, <RegionType.PAGEXML_DOC: 'pagexml_doc'>)\n",
      "BEGIN\tEND\t\"('Met het thans tot voor zeijlder', \"\"uijt d' eerste bezending van dit Jaar in\"\", 'gereedheijd gebragte schip Lijcochton', 'geconzigneert aan de kamer Hoorn', \"\"hebben wij d' eer uwel Edele Agtbr: ter\"\", 'kennisse te brengen, dat zedert het')\"\t[0.9999791383743286, 4.851964149565902e-06, 1.5918736608000472e-05, 2.8934694917825965e-11]\t(<RegionType.PARAGRAPH: 'paragraph'>, <RegionType.PHYSICAL_STRUCTURE_DOC: 'physical_structure_doc'>, <RegionType.TEXT_REGION: 'text_region'>, <RegionType.PAGEXML_DOC: 'pagexml_doc'>)\n",
      "END\tEND\t('WelEdele Hoog Agtb: wijte oosingan', 'Zeer Genereuse Heeren', 'Uw Wel Edele Hoog Agtb:', 'Ootmoedige en Gehoorzame', 'Dienaaren', 'Den Gouverneur Generaal', 'en de Raden van jndie', 'W AAssing', 'H. Moens.', 'J: Vos')\t[3.2031320529313234e-07, 9.419690505038658e-13, 0.9999996423721313, 4.713531675431051e-15]\t(<RegionType.PARAGRAPH: 'paragraph'>, <RegionType.PHYSICAL_STRUCTURE_DOC: 'physical_structure_doc'>, <RegionType.TEXT_REGION: 'text_region'>, <RegionType.PAGEXML_DOC: 'pagexml_doc'>)\n",
      "END\tEND\t('Wel Edele Hoog Achtbare, Wijse', 'Voorsienige in seer Genoreuse Heeren!', 'Uwel Edele Hoog Achtbare', 'onderdanige en getrouwe dienaren', 'Generaal en de', 'Gouverneur', 'den', 'heben van Jndia', 'Savd Bans')\t[0.0011904374696314335, 3.5101916182611603e-06, 0.9988061189651489, 4.8275463487845727e-11]\t(<RegionType.PARAGRAPH: 'paragraph'>, <RegionType.PHYSICAL_STRUCTURE_DOC: 'physical_structure_doc'>, <RegionType.TEXT_REGION: 'text_region'>, <RegionType.PAGEXML_DOC: 'pagexml_doc'>)\n",
      "END\tEND\t('19', 'J V: Wiegerman', 'A elgesteret')\t[5.337697395191299e-09, 5.208622422259168e-09, 1.0, 1.2555310185068634e-14]\t(<RegionType.PARAGRAPH: 'paragraph'>, <RegionType.PHYSICAL_STRUCTURE_DOC: 'physical_structure_doc'>, <RegionType.TEXT_REGION: 'text_region'>, <RegionType.PAGEXML_DOC: 'pagexml_doc'>)\n",
      "BEGIN\tBEGIN\t('Nademalen uwel Edele Hoog',)\t[0.9997298121452332, 1.2482249189815775e-07, 0.00027000089175999165, 1.9924275562743787e-09]\t(<RegionType.PARAGRAPH: 'paragraph'>, <RegionType.PHYSICAL_STRUCTURE_DOC: 'physical_structure_doc'>, <RegionType.TEXT_REGION: 'text_region'>, <RegionType.PAGEXML_DOC: 'pagexml_doc'>)\n",
      "BEGIN\tBEGIN\t('P:r de Retour„', 'vloot.')\t[0.9998743534088135, 4.018769672597955e-08, 0.00012559328752104193, 1.0657064965745311e-13]\t(<RegionType.MARGINALIA: 'marginalia'>, <RegionType.PHYSICAL_STRUCTURE_DOC: 'physical_structure_doc'>, <RegionType.TEXT_REGION: 'text_region'>, <RegionType.PAGEXML_DOC: 'pagexml_doc'>)\n",
      "END\tIN\t('als zijn Ed: zal kunnen missen, ver„', '„soekende wijders ten aanzien deses', 'asseire ons te mogen gedraagen aan', 'de ten dier opzigte geschreevene se„', '„creete Brieven, soo aan den Heer Javas', 'gouverneur als aan de Residenten', 'en Koning.')\t[0.11192144453525543, 0.10129205882549286, 0.7867864966392517, 2.40295505715693e-10]\t(<RegionType.PARAGRAPH: 'paragraph'>, <RegionType.PHYSICAL_STRUCTURE_DOC: 'physical_structure_doc'>, <RegionType.TEXT_REGION: 'text_region'>, <RegionType.PAGEXML_DOC: 'pagexml_doc'>)\n",
      "END\tEND\t\"(\"\"Batavia in 't Casteel\"\", 'van Uw: wel Ed: Hoog Agtb:', 'den 29. october 1774.', 'J: V: Ctockum.', 'n dde haer', '8')\"\t[7.418825276328533e-11, 7.712533389714338e-11, 1.0, 5.331216899689094e-16]\t(<RegionType.PARAGRAPH: 'paragraph'>, <RegionType.PHYSICAL_STRUCTURE_DOC: 'physical_structure_doc'>, <RegionType.TEXT_REGION: 'text_region'>, <RegionType.PAGEXML_DOC: 'pagexml_doc'>)\n",
      "IN\tEND\t\"('antwoorde van die', 'voor ijder een vrij eors,', \"\"D'Engelse gaen\"\", 'buijten het accoordt', \"\"d'onser met die an bantam\"\", \"\"d'onderhandelinghe\"\", 'veruolp.', 'Aan Ao 1619.')\"\t[0.00015419040573760867, 0.9997974038124084, 4.8426631110487506e-05, 7.46357212144666e-11]\t(<RegionType.MARGINALIA: 'marginalia'>, <RegionType.PHYSICAL_STRUCTURE_DOC: 'physical_structure_doc'>, <RegionType.TEXT_REGION: 'text_region'>, <RegionType.PAGEXML_DOC: 'pagexml_doc'>)\n",
      "BEGIN\tEND\t\"(\"\"baert v: midels met 'tschip\"\", 'Galsoen', 'Craijer van met tschip d', '1635', 'terdam')\"\t[0.6414769887924194, 1.6484216757817194e-05, 0.3585065007209778, 7.43347169842451e-13]\t(<RegionType.PARAGRAPH: 'paragraph'>, <RegionType.PHYSICAL_STRUCTURE_DOC: 'physical_structure_doc'>, <RegionType.TEXT_REGION: 'text_region'>, <RegionType.PAGEXML_DOC: 'pagexml_doc'>)\n",
      "END\tBEGIN\t('leyden', '1: de Haze', 'Medenblicq')\t[2.0676707208622247e-05, 1.0566058961103408e-07, 0.9999792575836182, 1.5262237654245503e-11]\t(<RegionType.MARGINALIA: 'marginalia'>, <RegionType.PHYSICAL_STRUCTURE_DOC: 'physical_structure_doc'>, <RegionType.TEXT_REGION: 'text_region'>, <RegionType.PAGEXML_DOC: 'pagexml_doc'>)\n",
      "IN\tBEGIN\t('vertrek van Belveuld met', 'de thee voor de resp: Cameren')\t[5.78970411879709e-06, 0.999994158744812, 1.4797087111162455e-08, 3.371232806803626e-11]\t(<RegionType.MARGINALIA: 'marginalia'>, <RegionType.PHYSICAL_STRUCTURE_DOC: 'physical_structure_doc'>, <RegionType.TEXT_REGION: 'text_region'>, <RegionType.PAGEXML_DOC: 'pagexml_doc'>)\n",
      "IN\tIN\t\"('45 Cognoiscement vande verstrekte kliden', 'en Contanten aanden boekhou„', \"\"der van't schip Westhoven om„\"\", 'me op de reijse aan het volk te', 'werden verstrekt, en daar voor', 'hunner reek: gedebiteerd.')\"\t[4.6724379920704e-10, 0.9999915361404419, 8.509156032232568e-06, 2.523846930058138e-11]\t(<RegionType.PARAGRAPH: 'paragraph'>, <RegionType.PHYSICAL_STRUCTURE_DOC: 'physical_structure_doc'>, <RegionType.TEXT_REGION: 'text_region'>, <RegionType.PAGEXML_DOC: 'pagexml_doc'>)\n",
      "END\tEND\t\"('Batavia', \"\"in 't Casteel van\"\", 'UEdele Hoog Achtb:', \"\"den 5:' October\"\", 'A„o 1752:')\"\t[0.0002474136999808252, 2.118769693026934e-08, 0.9997525811195374, 1.0183762470458713e-12]\t(<RegionType.MARGINALIA: 'marginalia'>, <RegionType.PHYSICAL_STRUCTURE_DOC: 'physical_structure_doc'>, <RegionType.TEXT_REGION: 'text_region'>, <RegionType.PAGEXML_DOC: 'pagexml_doc'>)\n",
      "BEGIN\tBEGIN\t('Patria.', 'Aan de Wel Edele Hoog Agtbare Heeren', 'Bewindhebberen;', 'Ter Vergadering van Seventienen gecommitteerd,', 'de Generaale Nederlandse Geoctroij„', 'eerde Oost Indische Com„', 'pagnie, representeerende,', 'ter Praesidiale Kamer')\t[0.9999980926513672, 7.507837835873943e-07, 1.1504318990773754e-06, 2.9980696744646984e-12]\t(<RegionType.PARAGRAPH: 'paragraph'>, <RegionType.PHYSICAL_STRUCTURE_DOC: 'physical_structure_doc'>, <RegionType.TEXT_REGION: 'text_region'>, <RegionType.PAGEXML_DOC: 'pagexml_doc'>)\n",
      "BEGIN\tBEGIN\t('Den Heer Thomas Hope, Representant', 'van zijn Doorlugtigste Hoogheid, den', 'Heere Prince van Orange en', 'Nassau etc:a etc:a etc:a', 'Nevens')\t[0.9999252557754517, 1.7018724065565038e-06, 7.30479514459148e-05, 1.812179573068562e-10]\t(<RegionType.PARAGRAPH: 'paragraph'>, <RegionType.PHYSICAL_STRUCTURE_DOC: 'physical_structure_doc'>, <RegionType.TEXT_REGION: 'text_region'>, <RegionType.PAGEXML_DOC: 'pagexml_doc'>)\n",
      "BEGIN\tBEGIN\t('overgaende', 'Detour met', 'schiedam.')\t[0.999996542930603, 3.515166326906183e-06, 2.7565212334934586e-08, 1.2130855348013725e-11]\t(<RegionType.MARGINALIA: 'marginalia'>, <RegionType.PHYSICAL_STRUCTURE_DOC: 'physical_structure_doc'>, <RegionType.TEXT_REGION: 'text_region'>, <RegionType.PAGEXML_DOC: 'pagexml_doc'>)\n",
      "END\tIN\t('5308', 'en permissie', '„vaar van goede')\t[2.4195814796179604e-10, 0.10425565391778946, 0.8957443237304688, 1.6926772483660812e-11]\t(<RegionType.MARGINALIA: 'marginalia'>, <RegionType.PHYSICAL_STRUCTURE_DOC: 'physical_structure_doc'>, <RegionType.TEXT_REGION: 'text_region'>, <RegionType.PAGEXML_DOC: 'pagexml_doc'>)\n",
      "BEGIN\tBEGIN\t('wel Edele Hoog', 'Agtb: wijse voorsien:', 'en seer genereuse', 'Heeren')\t[0.9998469352722168, 5.612495442619547e-05, 9.685625991551206e-05, 5.334205733370512e-12]\t(<RegionType.PARAGRAPH: 'paragraph'>, <RegionType.PHYSICAL_STRUCTURE_DOC: 'physical_structure_doc'>, <RegionType.TEXT_REGION: 'text_region'>, <RegionType.PAGEXML_DOC: 'pagexml_doc'>)\n",
      "IN\tIN\t('mitteerdens na de zuijd', 'wester Eijlanden')\t[0.00010538001515669748, 0.9998946189880371, 1.6963934257319124e-08, 1.6644383649122574e-09]\t(<RegionType.MARGINALIA: 'marginalia'>, <RegionType.PHYSICAL_STRUCTURE_DOC: 'physical_structure_doc'>, <RegionType.TEXT_REGION: 'text_region'>, <RegionType.PAGEXML_DOC: 'pagexml_doc'>)\n",
      "IN\tIN\t('latCoper om de', 'Hoge Prijs niet', 'aenbesteedt.')\t[7.855377771193162e-05, 0.9993459582328796, 0.0005754513549618423, 7.432741089274941e-09]\t(<RegionType.MARGINALIA: 'marginalia'>, <RegionType.PHYSICAL_STRUCTURE_DOC: 'physical_structure_doc'>, <RegionType.TEXT_REGION: 'text_region'>, <RegionType.PAGEXML_DOC: 'pagexml_doc'>)\n",
      "BEGIN\tBEGIN\t('Nevens', 'De Heeren Bewindhebberen', 'ter Vergadering van Seventienen', 'gecommitteert de Generale Neder', 'landsche Oost Indische Com¬', 'pagnie representeerende ter', 'Praesidiale kamer te')\t[0.9999954700469971, 4.5771394070470706e-06, 4.376611517642459e-09, 9.152767519587934e-13]\t(<RegionType.PARAGRAPH: 'paragraph'>, <RegionType.PHYSICAL_STRUCTURE_DOC: 'physical_structure_doc'>, <RegionType.TEXT_REGION: 'text_region'>, <RegionType.PAGEXML_DOC: 'pagexml_doc'>)\n",
      "BEGIN\tBEGIN\t('Wel Edele Hoog agtbare', 'wijse voorsienige en seer', 'genereuse Heeren', 'ter')\t[0.9996888637542725, 2.259036477880727e-07, 0.00031092565041035414, 7.996335933896717e-14]\t(<RegionType.PARAGRAPH: 'paragraph'>, <RegionType.PHYSICAL_STRUCTURE_DOC: 'physical_structure_doc'>, <RegionType.TEXT_REGION: 'text_region'>, <RegionType.PAGEXML_DOC: 'pagexml_doc'>)\n",
      "BEGIN\tBEGIN\t('Wel Edele Hoog Agtb:', 'wijse voorsienige, en', 'Seer Genereuse Heeren.')\t[0.9989803433418274, 9.649156140767445e-08, 0.0010195322101935744, 2.8290518799128916e-12]\t(<RegionType.PARAGRAPH: 'paragraph'>, <RegionType.PHYSICAL_STRUCTURE_DOC: 'physical_structure_doc'>, <RegionType.TEXT_REGION: 'text_region'>, <RegionType.PAGEXML_DOC: 'pagexml_doc'>)\n",
      "END\tEND\t('Edele Hoog agtb: Wyse voorsienige', 'en seer genereuse Heeren', 'Uwer Edele Hoog Agtb: onderdanige', 'en getrouwe Dienaren', 'Den gouverneur generaal ende', 'Raden van India', 'D. 1.')\t[5.416058229457121e-06, 1.866154564211797e-09, 0.9999946355819702, 4.3074151558943063e-13]\t(<RegionType.PARAGRAPH: 'paragraph'>, <RegionType.PHYSICAL_STRUCTURE_DOC: 'physical_structure_doc'>, <RegionType.TEXT_REGION: 'text_region'>, <RegionType.PAGEXML_DOC: 'pagexml_doc'>)\n",
      "IN\tIN\t('ook andere lieden zou aansetten, om met', 'hunne eigen ote gehuirde Vaartuigen', 'suuker en arak naar Persien en andere', 'plaatsen te vervoeren:')\t[1.1715960681613069e-05, 0.9956516623497009, 0.00433666305616498, 1.3680474530985975e-09]\t(<RegionType.PARAGRAPH: 'paragraph'>, <RegionType.PHYSICAL_STRUCTURE_DOC: 'physical_structure_doc'>, <RegionType.TEXT_REGION: 'text_region'>, <RegionType.PAGEXML_DOC: 'pagexml_doc'>)\n",
      "IN\tEND\t\"(\"\"Alsoo Schoonhoven ende d'orangeboom noch ontrent 10 a\"\", '20 lasten peper souden connen laden, ende hier niet meer', \"\"bij der handt is, maer dagelicx t' postpaert volladen\"\", 'van Jambij verwachten, hebben dese schepen eenige', 'dagen daer na op gehouden, ende als nu wederom goet', 'gevonden, naer sluijten van deses tot ul=mo deser', 'te vertoeven')\"\t[0.3552023470401764, 0.5969482660293579, 0.04784921556711197, 1.2245502034602396e-07]\t(<RegionType.PARAGRAPH: 'paragraph'>, <RegionType.PHYSICAL_STRUCTURE_DOC: 'physical_structure_doc'>, <RegionType.TEXT_REGION: 'text_region'>, <RegionType.PAGEXML_DOC: 'pagexml_doc'>)\n",
      "BEGIN\tBEGIN\t('Ter Vergadering van Seventienen gecommitteerd', 'de Generaale Nederlandsche Geoctroijeerde', 'oost Indische Compagnie representee„', 'rende ter presidiale Kamer')\t[0.9999998807907104, 1.2624509793113248e-07, 1.3935756194849436e-11, 5.3184250081196593e-14]\t(<RegionType.PARAGRAPH: 'paragraph'>, <RegionType.PHYSICAL_STRUCTURE_DOC: 'physical_structure_doc'>, <RegionType.TEXT_REGION: 'text_region'>, <RegionType.PAGEXML_DOC: 'pagexml_doc'>)\n",
      "IN\tIN\t\"('jegenstaande is gelast dat gem: van vlerden', 'na onse vorige ordre tot souratta een somma', 'en staat Evenwel aldaer ƒ100:- van 10000: gl: aan paerlen zal incopen, indien', 'civiel te becomen mogten wesen, en dat van soda', '„nige sortementen, als hij meijnen sal in het va', 'hebbendez', 'persoonen', '„derland de meeste winsten te connengeren, om', 'te ervaren of dat zeegewasch in dese directie', 'niet alsoo goet koop te becomen zij als in', 'persia, off tot tutucorijn. —', 'Vande Engelsen en fransen, is boven het geene', 'uEd=le Ho: agtb: den 18=e xber: 1695: bij den', 'directeur en raad, mitsgaders hier voor is', 'wegens de engelsen en franschen bekent gemaeckt, niets meer te seggen, en', \"\"van souratta over Teijlon zalge„ 't gene zedert van deselve mogt wesen voorgeval„\"\", '„len, zal uEd=le Ho: agtb: over Ceijlon uijt dese', 'directie werden ter kennisse gebragt. van', 'beschrijv')\"\t[9.523950517120738e-09, 0.9999997615814209, 2.1662566496161162e-07, 2.3132429131933474e-13]\t(<RegionType.PARAGRAPH: 'paragraph'>, <RegionType.PHYSICAL_STRUCTURE_DOC: 'physical_structure_doc'>, <RegionType.TEXT_REGION: 'text_region'>, <RegionType.PAGEXML_DOC: 'pagexml_doc'>)\n",
      "IN\tIN\t\"('ten hoogsten merk waardig aangesien de jonge Nawab sin', '„raaij Ud-doula na dat de Engelschen Calcatta en Chandie', 'gekreegen', '„dernagoor verovert en den Tieran met de Wapenen', 'in de Vrijst tot het maaken van Vreede genoodzaakt', \"\"hadden, op 't onvoorsienste door sijne Rijks Grooten\"\", 'met behulp der Engelsche van den Troon gebonst, en', 'ijammerlijk ter nader gecabelt is. ontfangende do', 'den zoon zijner veelvuldige Gewoldenarijen en hijlink on', 'Regeeringe van de hand deze geenen, die hij een Jaar', 'bevoorens so geweldig en gruwsaam mishandelt en', 'Verdreeven hadde.', 'zijn Groot Ooms Jaspar Aleichan heeft den Throons', 'en vijwand Oom weder op weeder beklommen, zijnde daartoe door de Britten', 'verheeven, die mitsdien niet alleen van deese Vorst', 'zeer begunstigt werden, maar ook reeds tot vergading', 'van de geleeden Schaade onder de Regeering van den', 'handel.', 'heijd en ont', 'in de')\"\t[9.858512930804864e-05, 0.9998934268951416, 8.00620091467863e-06, 5.641699329927974e-10]\t(<RegionType.PARAGRAPH: 'paragraph'>, <RegionType.PHYSICAL_STRUCTURE_DOC: 'physical_structure_doc'>, <RegionType.TEXT_REGION: 'text_region'>, <RegionType.PAGEXML_DOC: 'pagexml_doc'>)\n",
      "IN\tIN\t('is de nogitie in duijgen', 'geraakt')\t[4.400523323511152e-08, 1.0, 3.460404851551857e-09, 1.2363747525778734e-10]\t(<RegionType.MARGINALIA: 'marginalia'>, <RegionType.PHYSICAL_STRUCTURE_DOC: 'physical_structure_doc'>, <RegionType.TEXT_REGION: 'text_region'>, <RegionType.PAGEXML_DOC: 'pagexml_doc'>)\n",
      "BEGIN\tBEGIN\t\"('Wij zouden bij het vertrek van het schip Nieuwstad, welke bo', '„den den 24 huiss deeze rheeden verlaten heeft, niet in gebreeken', 'zijn gebleeven om aan UweeEd: Hoog Achtb: verslag te doen van', 'de door ons genomene dispositien, op de diversen door de Heeren', 'Gecommitteerdens van wegens Hunnen Hoog Mogende tot', \"\"den opneem van s' Comp: Fortificatien en Militairen staad\"\", 'in Jndien I: O: Saillant C: A verheult en I: J Le Grovesteer')\"\t[0.9971029162406921, 0.0008816393674351275, 0.002015475882217288, 1.0117031518097619e-10]\t(<RegionType.PARAGRAPH: 'paragraph'>, <RegionType.PHYSICAL_STRUCTURE_DOC: 'physical_structure_doc'>, <RegionType.TEXT_REGION: 'text_region'>, <RegionType.PAGEXML_DOC: 'pagexml_doc'>)\n",
      "IN\tIN\t('voorgaand belasting wee„', 'gens gelijke min wigten')\t[2.304838915279106e-07, 0.9999991655349731, 5.528035558199917e-07, 5.393554700083847e-11]\t(<RegionType.MARGINALIA: 'marginalia'>, <RegionType.PHYSICAL_STRUCTURE_DOC: 'physical_structure_doc'>, <RegionType.TEXT_REGION: 'text_region'>, <RegionType.PAGEXML_DOC: 'pagexml_doc'>)\n",
      "IN\tIN\t('den maldiros en sultan is', 'naargewoonte behandelt')\t[3.096259604262741e-08, 0.9999117851257324, 8.818115020403638e-05, 1.4558763916650008e-11]\t(<RegionType.MARGINALIA: 'marginalia'>, <RegionType.PHYSICAL_STRUCTURE_DOC: 'physical_structure_doc'>, <RegionType.TEXT_REGION: 'text_region'>, <RegionType.PAGEXML_DOC: 'pagexml_doc'>)\n",
      "IN\tIN\t('kleijne hope tot verbetering', 'redenen waarom')\t[0.0025037690065801144, 0.9974961876869202, 3.44983348554706e-08, 8.892287461925719e-10]\t(<RegionType.MARGINALIA: 'marginalia'>, <RegionType.PHYSICAL_STRUCTURE_DOC: 'physical_structure_doc'>, <RegionType.TEXT_REGION: 'text_region'>, <RegionType.PAGEXML_DOC: 'pagexml_doc'>)\n",
      "END\tEND\t('Jacob van dam', 'Fvan Swoel')\t[2.5427371319608483e-10, 3.545246443081851e-07, 0.9999996423721313, 5.258189716972339e-13]\t(<RegionType.PHYSICAL_STRUCTURE_DOC: 'physical_structure_doc'>, <RegionType.TEXT_REGION: 'text_region'>, <RegionType.PAGEXML_DOC: 'pagexml_doc'>, <RegionType.SIGNATURE_MARK: 'signature-mark'>)\n",
      "END\tEND\t\"(\"\"Batavia in't Casteel\"\", 'van Uwel Edele Hoog Achtbare', 'den 17 April 1792.')\"\t[0.0009766496950760484, 7.365900955846882e-08, 0.9990231990814209, 1.534971628969206e-11]\t(<RegionType.MARGINALIA: 'marginalia'>, <RegionType.PHYSICAL_STRUCTURE_DOC: 'physical_structure_doc'>, <RegionType.TEXT_REGION: 'text_region'>, <RegionType.PAGEXML_DOC: 'pagexml_doc'>)\n",
      "BEGIN\tBEGIN\t('heijd der jongste', 'tour schepen.')\t[0.9999011754989624, 9.887164924293756e-05, 8.510536164685334e-10, 5.073374446246115e-12]\t(<RegionType.MARGINALIA: 'marginalia'>, <RegionType.PHYSICAL_STRUCTURE_DOC: 'physical_structure_doc'>, <RegionType.TEXT_REGION: 'text_region'>, <RegionType.PAGEXML_DOC: 'pagexml_doc'>)\n",
      "IN\tIN\t('schip met Coopmans', 'na banssaloor.')\t[0.2004229575395584, 0.7995418906211853, 3.509440284688026e-05, 5.787708090565502e-10]\t(<RegionType.MARGINALIA: 'marginalia'>, <RegionType.PHYSICAL_STRUCTURE_DOC: 'physical_structure_doc'>, <RegionType.TEXT_REGION: 'text_region'>, <RegionType.PAGEXML_DOC: 'pagexml_doc'>)\n",
      "BEGIN\tBEGIN\t('Wel Edele Hoog Achtbaare Wijze Voorzienige', 'en', 'Leer Genereuse Heeren!')\t[0.9983773231506348, 3.690526864374988e-05, 0.0015857117250561714, 1.788959674842161e-10]\t(<RegionType.PARAGRAPH: 'paragraph'>, <RegionType.PHYSICAL_STRUCTURE_DOC: 'physical_structure_doc'>, <RegionType.TEXT_REGION: 'text_region'>, <RegionType.PAGEXML_DOC: 'pagexml_doc'>)\n",
      "END\tEND\t('Batavia', 'den 6=en Novemb:', 'A:o 1741.')\t[4.3723532144213095e-05, 5.123268056195229e-05, 0.999904990196228, 2.023843592713348e-11]\t(<RegionType.PARAGRAPH: 'paragraph'>, <RegionType.PHYSICAL_STRUCTURE_DOC: 'physical_structure_doc'>, <RegionType.TEXT_REGION: 'text_region'>, <RegionType.PAGEXML_DOC: 'pagexml_doc'>)\n",
      "BEGIN\tBEGIN\t\"('Aan de Edele Hoog Agtbare Heeren', 'Bewinthebberen Ter', 'Vergadering van seventhiene ge„', 'committeert Representeerende', 'De Generale Vereenigde nederland„', \"\"se G'octroijeerde oost Indische Comp:\"\", 'ter Praesidiale Kamer')\"\t[0.9999991655349731, 6.257851055124775e-07, 2.5888851951094694e-07, 1.5079808929341354e-11]\t(<RegionType.PARAGRAPH: 'paragraph'>, <RegionType.PHYSICAL_STRUCTURE_DOC: 'physical_structure_doc'>, <RegionType.TEXT_REGION: 'text_region'>, <RegionType.PAGEXML_DOC: 'pagexml_doc'>)\n",
      "END\tBEGIN\t('dele Hoog Agtbaere,', 'Wijse„ voorsienige en', 'seer geneureuse Heeren,')\t[0.33556991815567017, 9.044058970175683e-06, 0.664421021938324, 1.737753718700219e-09]\t(<RegionType.PARAGRAPH: 'paragraph'>, <RegionType.PHYSICAL_STRUCTURE_DOC: 'physical_structure_doc'>, <RegionType.TEXT_REGION: 'text_region'>, <RegionType.PAGEXML_DOC: 'pagexml_doc'>)\n",
      "IN\tIN\t('Huijsselijke Zaaken Geap¬', 'probeerd en voor communicatie aangeno„')\t[0.44108521938323975, 0.5589147210121155, 7.244437938425108e-08, 1.198735208318702e-11]\t(<RegionType.PARAGRAPH: 'paragraph'>, <RegionType.PHYSICAL_STRUCTURE_DOC: 'physical_structure_doc'>, <RegionType.TEXT_REGION: 'text_region'>, <RegionType.PAGEXML_DOC: 'pagexml_doc'>)\n",
      "BEGIN\tBEGIN\t\"('Wat aansienelijcke retouren wij machtigh', \"\"zijn geweest dit Saisoen voor d'eerste en\"\", 'tweede besendinge met seven capitale', 'bodems naar het Vaderlandt aff te steken,', 'zal uwer Ed:s zoo wij verhoopen, bij derselver', 'voorspoedigh en behouden vaaren, voor', 'ontfangh deses, ten genoegen hebben', 'konnen blijcken; wesende de eerste', 'vier uijt dese rheede affgezeijlt den', \"\"eerste 4. retourschepen den 29:' 9ber 9:' November, namentlijk de —\"\", 'Burght van Leijden, Prins Willem', \"\"Hendrik, China en 't wapen van\"\", 'Alkmaar, voor de praesidiale Cameren', 'van Zeelandt en Amsterdam, onder', 'het commando vanden H=r Extraord:s', 'raad van India Rijkloff van goens', 'de Ionge, en de andere drie dewelcke', 'mede onder de vlagge van sijn E: zijn', 'gedestineert, omme aan Caap de goede')\"\t[0.9996607303619385, 9.392158517584903e-07, 0.00033832626650109887, 3.687921062284216e-12]\t(<RegionType.PARAGRAPH: 'paragraph'>, <RegionType.PHYSICAL_STRUCTURE_DOC: 'physical_structure_doc'>, <RegionType.TEXT_REGION: 'text_region'>, <RegionType.PAGEXML_DOC: 'pagexml_doc'>)\n",
      "IN\tIN\t\"('ofte daar na toe vertrocken zijnde, mitsgad„s', '76. bodems van verscheijde chanten hier', 'in Jndia wesende, en tesamen uijtmakende', \"\"110. schepen, vertoont werd, dat als 'en volgens\"\", 'VEho: Ed:s gedagten bij hare geeerde missive', 'vanden 9„e 7ber 1645. maar 75. schepen', 'waren, gevolgelijk indecember 1687. hier', 'in Jndia niet meer dan maar 41 bodems', \"\"geresteert, en 'tselve al te sober omgekomen\"\", 'soude hebben; soovolgt het ook van selfs', 'dat sulx ook sodanig bevonden soude wirden', \"\"wanneer 't gros volgens 't soo even geciteerde\"\", 'reglement maar op 5. meer ofte 80. schepen', 'genomen wierd: de rederien blijken', 'genoegsaam uijt den gemelten onsen brief', 'van den 23„e december 1687. dese tewesen,', 's')\"\t[0.0007086684345267713, 0.9992843270301819, 7.030221240711398e-06, 2.574759849771624e-11]\t(<RegionType.PARAGRAPH: 'paragraph'>, <RegionType.PHYSICAL_STRUCTURE_DOC: 'physical_structure_doc'>, <RegionType.TEXT_REGION: 'text_region'>, <RegionType.PAGEXML_DOC: 'pagexml_doc'>)\n",
      "BEGIN\tBEGIN\t('van hollant ende Egmont',)\t[0.9989744424819946, 8.942709428083617e-06, 0.001016675028949976, 1.521368364620912e-09]\t(<RegionType.PHYSICAL_STRUCTURE_DOC: 'physical_structure_doc'>, <RegionType.TEXT_REGION: 'text_region'>, <RegionType.PAGEXML_DOC: 'pagexml_doc'>)\n",
      "END\tEND\t('uwer wel Edele Hoog Agtbare', 'onderdanige en gehoorsame Dienaaren', 'De Gouverneur Generaal', 'en de Raaden van Indie.', 'W AAlting', 'J V: Htockum')\t[2.0274562757549575e-06, 3.8495020504569766e-08, 0.9999979734420776, 2.9971413805646163e-13]\t(<RegionType.PARAGRAPH: 'paragraph'>, <RegionType.PHYSICAL_STRUCTURE_DOC: 'physical_structure_doc'>, <RegionType.TEXT_REGION: 'text_region'>, <RegionType.PAGEXML_DOC: 'pagexml_doc'>)\n",
      "BEGIN\tEND\t('Liebeeck', 'Laurens Pijl')\t[0.954643189907074, 7.71119232467754e-07, 0.04535600543022156, 1.907993318894796e-09]\t(<RegionType.PHYSICAL_STRUCTURE_DOC: 'physical_structure_doc'>, <RegionType.TEXT_REGION: 'text_region'>, <RegionType.PAGEXML_DOC: 'pagexml_doc'>, <RegionType.SIGNATURE_MARK: 'signature-mark'>)\n",
      "IN\tIN\t\"('van daegs daer aen gebleeken sijnde hoege„', 'mackelijk haer Eerw: dit gedoente gepasseerd', 'hadden met den selven daer over Eenelijk', 'inkerken rade te reprimendeeren En aen', 'den meergem=ten gouverneur generael tot het', 'versoeken van Excus overtewijsen mensig', 'uijt aenmerking vande quade gevolgen de', \"\"welke daer uijt in't vervolg te dugten\"\", 'waren geensints met dese ligte Correctie', 'heeft konnen Conformeeren maer daer en', 'tegen geoordeelt dat dit Ergerlijke versuijm=', 'Een vrij sensibeler ressentiment quam te', 'meriteeren en den selven oversulx voor den', 'tijd van ses maenden van ampt en be„', 'diening met stilstand van sijne gage', 'En Emolumenten anderen ten Exempel')\"\t[4.518682908383198e-05, 0.999951958656311, 2.9099962830514414e-06, 1.6128119673108898e-11]\t(<RegionType.PARAGRAPH: 'paragraph'>, <RegionType.PHYSICAL_STRUCTURE_DOC: 'physical_structure_doc'>, <RegionType.TEXT_REGION: 'text_region'>, <RegionType.PAGEXML_DOC: 'pagexml_doc'>)\n",
      "END\tEND\t('W: van Outhoorn', 'Joan Sarehuijs', 'Fredl. Bengh')\t[2.3286592210070012e-08, 9.366980524561086e-10, 1.0, 1.7392564574973332e-14]\t(<RegionType.PHYSICAL_STRUCTURE_DOC: 'physical_structure_doc'>, <RegionType.TEXT_REGION: 'text_region'>, <RegionType.PAGEXML_DOC: 'pagexml_doc'>, <RegionType.SIGNATURE_MARK: 'signature-mark'>)\n",
      "END\tEND\t('Cres', 'Uwel Ed: Hoog agtb: ootmoedigen,')\t[3.743588240467943e-05, 1.2950152061819153e-08, 0.999962568283081, 3.842088539679489e-12]\t(<RegionType.PARAGRAPH: 'paragraph'>, <RegionType.PHYSICAL_STRUCTURE_DOC: 'physical_structure_doc'>, <RegionType.TEXT_REGION: 'text_region'>, <RegionType.PAGEXML_DOC: 'pagexml_doc'>)\n",
      "IN\tIN\t('die de bedientens hadden', 'belooft de behulphande')\t[1.9915403754566796e-05, 0.99774569272995, 0.002234400948509574, 2.7187282980456473e-10]\t(<RegionType.MARGINALIA: 'marginalia'>, <RegionType.PHYSICAL_STRUCTURE_DOC: 'physical_structure_doc'>, <RegionType.TEXT_REGION: 'text_region'>, <RegionType.PAGEXML_DOC: 'pagexml_doc'>)\n",
      "BEGIN\tBEGIN\t\"('Bewindhebberen', 'Ter vergadering van de Zeventienen', 'Gecommitteert, Representerende', 'de Generaale Nederlandsche', \"\"g'octroijeerde oost Indische\"\", 'Compagnie ter presi¬', 'diale Kamer te', 'Middelburg')\"\t[0.9999973773956299, 2.5784841000131564e-06, 3.9726280931517977e-08, 1.372924235236439e-12]\t(<RegionType.PARAGRAPH: 'paragraph'>, <RegionType.PHYSICAL_STRUCTURE_DOC: 'physical_structure_doc'>, <RegionType.TEXT_REGION: 'text_region'>, <RegionType.PAGEXML_DOC: 'pagexml_doc'>)\n",
      "IN\tIN\t\"(\"\"Wij sullen 't gene op de materie van amboire\"\", 'in gem: uEd: hoog agtb: missive vanden 8: Julij', '1693. nader te beantwoordenvalt, specialijk de', \"\"daarin gepoteerde wanladentheijt van't schip\"\")\"\t[0.02216045930981636, 0.975825309753418, 0.0020141988061368465, 1.2184633302325665e-09]\t(<RegionType.PARAGRAPH: 'paragraph'>, <RegionType.PHYSICAL_STRUCTURE_DOC: 'physical_structure_doc'>, <RegionType.TEXT_REGION: 'text_region'>, <RegionType.PAGEXML_DOC: 'pagexml_doc'>)\n",
      "END\tEND\t('Edele Hoog Agtb:', 'Wize Voorsienige', 'en seer Gene„', 'reuse Hee„', 'ren.')\t[0.09214670211076736, 6.153819498422308e-08, 0.9078531861305237, 1.459047401126956e-12]\t(<RegionType.PARAGRAPH: 'paragraph'>, <RegionType.PHYSICAL_STRUCTURE_DOC: 'physical_structure_doc'>, <RegionType.TEXT_REGION: 'text_region'>, <RegionType.PAGEXML_DOC: 'pagexml_doc'>)\n",
      "BEGIN\tBEGIN\t('Arruiee van', 'Vaderlantsche', 'Schepen')\t[0.9535617828369141, 0.04643787443637848, 3.8169150684552733e-07, 1.0798816268281497e-12]\t(<RegionType.MARGINALIA: 'marginalia'>, <RegionType.PHYSICAL_STRUCTURE_DOC: 'physical_structure_doc'>, <RegionType.TEXT_REGION: 'text_region'>, <RegionType.PAGEXML_DOC: 'pagexml_doc'>)\n",
      "BEGIN\tBEGIN\t\"('Origineele Generaale Missive', 'Geschreeven door Haar hoog Edelens', 'Den Gouverneur Generaal en de', 'Raden van India te Batavia', \"\"Aan D'Edele Hoog Achtbare Heer een\"\", 'Bewindhebberen.', 'Ten vergadering van Seventhienen gecom¬', 'mitteerde Representeerende de Generale', \"\"Nederlandsche G' octroijeerde Oost- Indische\"\", 'Compagnie ter Presidiale Kamer', 'te', 'Amsterdam')\"\t[0.9999997615814209, 3.172855755906312e-08, 2.3078558797351434e-07, 5.735920093931368e-14]\t(<RegionType.PARAGRAPH: 'paragraph'>, <RegionType.PHYSICAL_STRUCTURE_DOC: 'physical_structure_doc'>, <RegionType.TEXT_REGION: 'text_region'>, <RegionType.PAGEXML_DOC: 'pagexml_doc'>)\n",
      "END\tEND\t('H:V', 'Corn: Chaste leins.')\t[1.1746099204401617e-08, 0.007587007246911526, 0.9924129843711853, 1.0632852237568713e-11]\t(<RegionType.PARAGRAPH: 'paragraph'>, <RegionType.PHYSICAL_STRUCTURE_DOC: 'physical_structure_doc'>, <RegionType.TEXT_REGION: 'text_region'>, <RegionType.PAGEXML_DOC: 'pagexml_doc'>)\n",
      "IN\tIN\t\"('Amboina- op vande bedienden aldaar te Er„', 'naesten zullen delibe„ langen; Waer aen Wij ons voor', 'ditmaal sullen refereren en soo', 'mede aen de schriftelijke weder„', '„legging, door gemten Ordinaris', 'Raed Dirk de haas den 12=en', 'deser maend 9ber: in Rade van', 'Jndia daer tegen ingelevert zijn de', 'dog ten Tijden der aestaende', 'reschriptie na Amboina daer over', 't nodige resolveren, en niet mind=le', \"\"als mede over 't geordonneer, over 't gene ons dien aengaen de\"\", 'bij U Ed=le hoog Achtb=s voor', '„melte brieven van den 7:en Septb:r', 'Den 26=en november 1696. ge¬', '„injungeerd werd; waer van het', 'besluijt met de na schepen aen', 'u Ed=le hoog Achtb=s gecommuniceerd')\"\t[0.0004327002679929137, 0.9995552897453308, 1.1977942449448165e-05, 1.4736598052955685e-10]\t(<RegionType.PARAGRAPH: 'paragraph'>, <RegionType.PHYSICAL_STRUCTURE_DOC: 'physical_structure_doc'>, <RegionType.TEXT_REGION: 'text_region'>, <RegionType.PAGEXML_DOC: 'pagexml_doc'>)\n",
      "END\tEND\t('van uw wel Ed: Hoog Agtb:',)\t[0.4984947741031647, 4.242013801558642e-06, 0.5015009641647339, 4.134307562964068e-09]\t(<RegionType.MARGINALIA: 'marginalia'>, <RegionType.PHYSICAL_STRUCTURE_DOC: 'physical_structure_doc'>, <RegionType.TEXT_REGION: 'text_region'>, <RegionType.PAGEXML_DOC: 'pagexml_doc'>)\n",
      "IN\tIN\t('gestel aan desal gekomen',)\t[4.695852151570534e-09, 1.0, 1.7424482809304948e-13, 3.10886949864142e-13]\t(<RegionType.MARGINALIA: 'marginalia'>, <RegionType.PHYSICAL_STRUCTURE_DOC: 'physical_structure_doc'>, <RegionType.TEXT_REGION: 'text_region'>, <RegionType.PAGEXML_DOC: 'pagexml_doc'>)\n",
      "BEGIN\tBEGIN\t('Den Command:r hendrick pronckis', 'op 15 Januarij van hier vertrocken met', '12 schepen en een Cargasoen den be„', 'drage van ƒ 3844688: 12:')\t[0.8910906314849854, 0.10890387743711472, 5.4768984227848705e-06, 1.0060700536551614e-11]\t(<RegionType.MARGINALIA: 'marginalia'>, <RegionType.PHYSICAL_STRUCTURE_DOC: 'physical_structure_doc'>, <RegionType.TEXT_REGION: 'text_region'>, <RegionType.PAGEXML_DOC: 'pagexml_doc'>)\n",
      "END\tEND\t('J', 'Corns puelman', 'Batrha Jan Bort')\t[1.277054764159402e-07, 1.415177930397249e-08, 0.9999998807907104, 6.131285258149932e-14]\t(<RegionType.PARAGRAPH: 'paragraph'>, <RegionType.PHYSICAL_STRUCTURE_DOC: 'physical_structure_doc'>, <RegionType.TEXT_REGION: 'text_region'>, <RegionType.PAGEXML_DOC: 'pagexml_doc'>)\n",
      "BEGIN\tBEGIN\t('Edele hoogh Achtbare, voorsienige', 'seer genereuse heeren')\t[0.9999409914016724, 1.2615084870049031e-06, 5.769177369074896e-05, 9.964568233045146e-12]\t(<RegionType.PARAGRAPH: 'paragraph'>, <RegionType.PHYSICAL_STRUCTURE_DOC: 'physical_structure_doc'>, <RegionType.TEXT_REGION: 'text_region'>, <RegionType.PAGEXML_DOC: 'pagexml_doc'>)\n",
      "END\tEND\t('Jn. Boch', 'J: H: Viegerman')\t[2.2235482788346417e-08, 9.83374164320594e-08, 0.9999998807907104, 1.4151790260757014e-14]\t(<RegionType.PHYSICAL_STRUCTURE_DOC: 'physical_structure_doc'>, <RegionType.TEXT_REGION: 'text_region'>, <RegionType.PAGEXML_DOC: 'pagexml_doc'>, <RegionType.SIGNATURE_MARK: 'signature-mark'>)\n",
      "BEGIN\tIN\t\"(\"\"D'onse haer compste was den quinamsen Coninck seer\"\", 'aengenaem, ende is gem: ducker den 28en. April passto.', 'pr. de fluijt rarab, alhier verschenen, omme aen ons', 'mondelingh wegen den quinamsen handel rapport te doen;', 'hebbende Compes. effecten getransporteert, aenden Coopman', 'Caesar voornt, ende denselven met Instructie versien,', 'daernaer sich tot voordernisse van Compes. Negotie, ende', 'opcoop van sijde, geduijrende sijn affwesen hadde te', 'richten 100 pes. syde, ende 1500: a 2000. picols swarte,', 'suijcker, verclaerde geseijden ducker voor sijn vertreck —', 'hoope van negotie gecontracteert te hebben, ende dat nae alle apparentie —', '350. a 400. picols sijde, Item 2500. a 3000. pls. Suijcker', 'met goede quantite sijde stoffen, in Japan dienstich tot', 'retour, voort bovenstaende aengebrachte capitael, teghen.', 'souden', 'Julij off Augusto gereet souden wesen, omme nae Japan.', \"\"te seijnden, t'welck soo breet, niet uijtgevallen is, Sulcx.\"\", 'dat duijcker ons verkeert rapport heeft gedaen, off dat', 'den Coopman Caesar, doorde Japanse Chinesen is vercloeckt', 'geworden, de voordere gepasseerde particulariteijten —', 'toe')\"\t[0.9014497399330139, 0.09794460982084274, 0.0006056124693714082, 3.744628163104835e-09]\t(<RegionType.PARAGRAPH: 'paragraph'>, <RegionType.PHYSICAL_STRUCTURE_DOC: 'physical_structure_doc'>, <RegionType.TEXT_REGION: 'text_region'>, <RegionType.PAGEXML_DOC: 'pagexml_doc'>)\n",
      "IN\tBEGIN\t('opt selve is quade', 'ordre gehouden.')\t[1.7682074693325944e-09, 0.9999998807907104, 1.304833148196849e-07, 4.13506937024799e-11]\t(<RegionType.MARGINALIA: 'marginalia'>, <RegionType.PHYSICAL_STRUCTURE_DOC: 'physical_structure_doc'>, <RegionType.TEXT_REGION: 'text_region'>, <RegionType.PAGEXML_DOC: 'pagexml_doc'>)\n",
      "IN\tIN\t('Het betragten van sComp interest', 'heeft ons doen bewilligen dat de ministers ge', '„accepteerd hadden de uit eygen beweging en', 'dus vrywillige aanbieding der gesamentlikee', 'handelaars van de 5 portien om sig als borgen', 'borgstelling voor een te stellen voor die van het 6=ten gedeelte, om het', 'gene aande Laaste op Leverancie reeds was', 'en nog stond gefieerd te werden, en deugd', '„same Lywaten Compleet te verand woorden', 'aangezien het verval nunner financien al„', '„daar kennelyken lugtbaar geworden synde', 'men het sonder deze praecautie soude hebbe', 'moeten secluderen vande Leverancie waar')\t[9.259498483515927e-07, 0.999998927116394, 9.40992137543617e-08, 1.9151208396905872e-12]\t(<RegionType.PARAGRAPH: 'paragraph'>, <RegionType.PHYSICAL_STRUCTURE_DOC: 'physical_structure_doc'>, <RegionType.TEXT_REGION: 'text_region'>, <RegionType.PAGEXML_DOC: 'pagexml_doc'>)\n",
      "END\tEND\t\"('Batavia Jn', \"\"'tCasteel van VEd:\"\", 'hoog agtb: den', \"\"25:' Januarij 1738.\"\")\"\t[1.0639503500442515e-07, 9.834867142899384e-08, 0.9999997615814209, 8.714844167492797e-14]\t(<RegionType.PARAGRAPH: 'paragraph'>, <RegionType.PHYSICAL_STRUCTURE_DOC: 'physical_structure_doc'>, <RegionType.TEXT_REGION: 'text_region'>, <RegionType.PAGEXML_DOC: 'pagexml_doc'>)\n",
      "END\tEND\t('uwer wel Edele Hoog Agtbare', 'onderdanige en gehoorsame Dienaaren', 'De Gouverneur Generaal', 'en de Raaden van Jndie', 'W A Alsing', 'J: V: Stockum.')\t[9.326556096311833e-07, 2.449506382617983e-06, 0.999996542930603, 2.318214630675497e-12]\t(<RegionType.PARAGRAPH: 'paragraph'>, <RegionType.PHYSICAL_STRUCTURE_DOC: 'physical_structure_doc'>, <RegionType.TEXT_REGION: 'text_region'>, <RegionType.PAGEXML_DOC: 'pagexml_doc'>)\n",
      "END\tEND\t('Jn u Ed:e Casteel batavia', 'den 25: januarij a:o 1706.')\t[1.4209994105840451e-06, 1.3250154040633788e-07, 0.9999984502792358, 1.8012257267316367e-14]\t(<RegionType.PARAGRAPH: 'paragraph'>, <RegionType.PHYSICAL_STRUCTURE_DOC: 'physical_structure_doc'>, <RegionType.TEXT_REGION: 'text_region'>, <RegionType.PAGEXML_DOC: 'pagexml_doc'>)\n",
      "IN\tIN\t\"('tot de aloude gecontracteerde', 'Prijsen, med een avance van', 'ƒ 8592:11:8: ofte 363', '3/32: p„r Cento,', 'sommige aenmerchinge de bediendens van Uw Ed: hoog', 'Achtb:s klagen bij die gelegentheijt', 'ook seer, nopens de slegtheijt en', 'gebreck aan de fijnte. „ Lengte', 'en brete van die Cleden en Lijn¬', '„waten, uijt dewelke men ons', '500: p:s Zanen bengalse heeft', 'dienen te rug te senden, over¬', \"\"„mids bij s' Vorsten factoren\"\", 'Voor onaannemelijk zijn gehou¬', '„den, en geensints nog in deugt,', 'Lengtens, nog bretens quadreerde', 'med de aloude monstercleden,')\"\t[0.029114017263054848, 0.8900954127311707, 0.08079056441783905, 2.729395598422002e-10]\t(<RegionType.PARAGRAPH: 'paragraph'>, <RegionType.PHYSICAL_STRUCTURE_DOC: 'physical_structure_doc'>, <RegionType.TEXT_REGION: 'text_region'>, <RegionType.PAGEXML_DOC: 'pagexml_doc'>)\n",
      "END\tEND\t\"('Ed: Erentfelte, wyse, voorsienige ende seer', 'viscrete Heeren, sullen wij ons recommanderen in u E gunstige', \"\"benevolentie, ende d' Almogenden bldden, dat hij u E saecken in Indien\"\", 'ende Neerland meer ende meer soo gelieve te begenadigen, als wij sijne', 'segeninge daegelijcx sijn gevoelende, op dat sijnen heijligen naeme daer', 'vooren looven prijsen ende dancken mogen.', 'Actum int Casteel Batavia desen 15=en Augusto 1633.', 'U E Trou schuldige Dienaren')\"\t[0.0009415507083758712, 6.141816015770019e-07, 0.9990578293800354, 7.884122174561803e-12]\t(<RegionType.PARAGRAPH: 'paragraph'>, <RegionType.PHYSICAL_STRUCTURE_DOC: 'physical_structure_doc'>, <RegionType.TEXT_REGION: 'text_region'>, <RegionType.PAGEXML_DOC: 'pagexml_doc'>)\n",
      "BEGIN\tBEGIN\t('Copii', 'aende heere Maijores', 'Ed: Erntfeste wijse voorsinnige zeer,', 'E', 'disscrete Heeren')\t[0.7142590880393982, 0.2780449688434601, 0.007695953827351332, 2.5533951689138412e-11]\t(<RegionType.PARAGRAPH: 'paragraph'>, <RegionType.PHYSICAL_STRUCTURE_DOC: 'physical_structure_doc'>, <RegionType.TEXT_REGION: 'text_region'>, <RegionType.PAGEXML_DOC: 'pagexml_doc'>)\n",
      "END\tEND\t(': Valckeni', ':', 'J: Schaghen', 'm', 'f', 'H', 'E')\t[5.761563670603209e-08, 2.5009899928818413e-08, 1.0, 6.40463041352542e-15]\t(<RegionType.PARAGRAPH: 'paragraph'>, <RegionType.PHYSICAL_STRUCTURE_DOC: 'physical_structure_doc'>, <RegionType.TEXT_REGION: 'text_region'>, <RegionType.PAGEXML_DOC: 'pagexml_doc'>)\n",
      "IN\tIN\t\"('hoofdplaatse temelden; maar na„', 'demalen buijten de reets geciteerde', 'posten bij onse vorige generaale', 'missive van maart en meij deses', 'Jaars ook voorwaarts onder', 'de Collegie desen niets van sonder„', '„linge remarque daar ontrent', 'tenoteren is so zullen wij ons', 'ook niet lange daar mede op„', '„houden, maar alleen citeren', \"\"onse resolutien van den 28. ' Junij\"\", \"\"en 12. ' Julij waarbij d'avancemen„\"\", '„ten op de generale secretarije,', 'de negotie, visite, en andere Comptoi„', '„ren volgens Jaarlijxe gebruijk', 'geschiedende genoteert zijn, terwijl')\"\t[0.0001921174698509276, 0.9998075366020203, 3.5162867106919293e-07, 1.0585359845605158e-11]\t(<RegionType.PARAGRAPH: 'paragraph'>, <RegionType.PHYSICAL_STRUCTURE_DOC: 'physical_structure_doc'>, <RegionType.TEXT_REGION: 'text_region'>, <RegionType.PAGEXML_DOC: 'pagexml_doc'>)\n",
      "END\tEND\t('Cornelis van der Lyn',)\t[3.7582215099973837e-06, 1.6104218957480043e-05, 0.999980092048645, 1.8771115772864277e-09]\t(<RegionType.PARAGRAPH: 'paragraph'>, <RegionType.PHYSICAL_STRUCTURE_DOC: 'physical_structure_doc'>, <RegionType.TEXT_REGION: 'text_region'>, <RegionType.PAGEXML_DOC: 'pagexml_doc'>)\n",
      "BEGIN\tBEGIN\t('„ 114: Duplicaat Lijst der bestelkasjes, op', 'dien bodem')\t[0.9519580602645874, 0.04804188013076782, 2.2953134504177797e-08, 7.86043591327612e-11]\t(<RegionType.PARAGRAPH: 'paragraph'>, <RegionType.PHYSICAL_STRUCTURE_DOC: 'physical_structure_doc'>, <RegionType.TEXT_REGION: 'text_region'>, <RegionType.PAGEXML_DOC: 'pagexml_doc'>)\n",
      "BEGIN\tEND\t('den 5 November 1785 en nadere', 'Missive van den 23 der gemel', 'den maand, waar over wy on¬', 'ze besoignes reeds hebben begor', 'nen')\t[0.9830546975135803, 0.016938377171754837, 6.91712330080918e-06, 6.042722433541314e-10]\t(<RegionType.PARAGRAPH: 'paragraph'>, <RegionType.PHYSICAL_STRUCTURE_DOC: 'physical_structure_doc'>, <RegionType.TEXT_REGION: 'text_region'>, <RegionType.PAGEXML_DOC: 'pagexml_doc'>)\n",
      "IN\tIN\t\"('boeken tot voorkominge van alle ver', '„waarlosinge zijn ingenomen, sonder', 'dat den regten Crediteur teweten de', 'generale Comp„e daarvoor is goet gedaen', 'geworden, dog dese daad eenmede oorsake', 'geweest zijnde dat men in vorige Jaren', 'slordige misslagen bij de staat reecq: heeft', \"\"begaen, soo als sulx 't vergange Jaar is\"\", 'aangewesen, maar principal„r dewijle het', 'selve dog eens op de generale Comp„e soude', 'moeten overgeschreven werden, soo is bij de', 'nu overgaande boeken het een en ander nev:s', 'eenige nadre getaxeerde goederen op de voors=e', 'reecq: overgedragen, sullende sodanig met de', 'batavise goederen als de bijboeken, met die van', 'de negotie zijn over den gebragt ende vergeleken', 'mede konnen gehandelt werden, waar door dan', 'boeken', 'is veroorsaekt dat de generale comp:s onbe„', '„lemmert van oneffenheden sullen blijven', 'en bijgevolge dat de uijtkomste van dese stadts', 'reecq: in waarh„t sal accorderen met de', 'gesamentlijk reslanten van de resp:e comtoi„', '„ren in de nu overgaande balance uijt', 'gedrukt staende namentlijk —', \"\"voor reecq. van 't Comtoir Cheijlon\"\", 'als op f„o 51. werd aangewesen. „ 789802„ 10„ 4.', \"\"'t Comtoir gamron als op f„o 151. . „ 4048„ 10„ 3.\"\", \"\"'t Comtoir padang f„o 240-. . „ 37584„ 10„ 10.\"\", \"\"'t Comtoir amboina fo 281. „ 113910„ 17„12.\"\", \"\"'tComtoir banda f„o 325. . „ 118436„ 13„ 12\"\", \"\"'t Comtoir palimbang f„o 370. . „ 2514„17„—\"\", \"\"'tComtoir Timor f„o 401 - „ 8208„4„3.\"\", \"\"'tComtoir bengale fo„ 483 „ 120„-„-\"\", \"\"'t Comtoir Malacca fo„ 598. / 18130/16„14\"\", \"\"'t Comboir padang andermael op f„o 683. „ 103„ 14„ 11.\"\", \"\"'t Comtoir souratta fo„ 734. „ 1427„1„13\"\")\"\t[2.739355409175914e-07, 0.9999996423721313, 1.3735687787175266e-07, 6.030137500445676e-11]\t(<RegionType.PARAGRAPH: 'paragraph'>, <RegionType.PHYSICAL_STRUCTURE_DOC: 'physical_structure_doc'>, <RegionType.TEXT_REGION: 'text_region'>, <RegionType.PAGEXML_DOC: 'pagexml_doc'>)\n",
      "BEGIN\tBEGIN\t('Edele, Erntfeste, Hoogh-wijse', 'Voorsienige, ende seer bescheijden', 'Heeren')\t[0.9968714118003845, 1.6908505706680899e-09, 0.0031285996083170176, 2.805360544561042e-12]\t(<RegionType.PARAGRAPH: 'paragraph'>, <RegionType.PHYSICAL_STRUCTURE_DOC: 'physical_structure_doc'>, <RegionType.TEXT_REGION: 'text_region'>, <RegionType.PAGEXML_DOC: 'pagexml_doc'>)\n",
      "BEGIN\tBEGIN\t('de Jongste naschepen', 'zee geraakt')\t[0.9999946355819702, 5.407083335740026e-06, 9.94354880552717e-13, 3.3178890407672967e-13]\t(<RegionType.MARGINALIA: 'marginalia'>, <RegionType.PHYSICAL_STRUCTURE_DOC: 'physical_structure_doc'>, <RegionType.TEXT_REGION: 'text_region'>, <RegionType.PAGEXML_DOC: 'pagexml_doc'>)\n",
      "END\tEND\t\"(\"\"Batavia in't Casteel\"\", 'van uEd: hoog agtb:', \"\"den 22:' Septemb: 1749\"\")\"\t[3.099207290802042e-08, 6.964460226299707e-07, 0.9999992847442627, 2.2745338463170048e-14]\t(<RegionType.MARGINALIA: 'marginalia'>, <RegionType.PHYSICAL_STRUCTURE_DOC: 'physical_structure_doc'>, <RegionType.TEXT_REGION: 'text_region'>, <RegionType.PAGEXML_DOC: 'pagexml_doc'>)\n",
      "BEGIN\tBEGIN\t('Ter vergadering van zeeven bienen gecommitteerd,', 'de Generale Nederlandsche Oostindische', 'Compagnie Representeerende.', 'ter presidiale kamer')\t[1.0, 3.5888545468765187e-09, 2.353584341308057e-12, 4.802156309185795e-15]\t(<RegionType.PARAGRAPH: 'paragraph'>, <RegionType.PHYSICAL_STRUCTURE_DOC: 'physical_structure_doc'>, <RegionType.TEXT_REGION: 'text_region'>, <RegionType.PAGEXML_DOC: 'pagexml_doc'>)\n",
      "IN\tIN\t('Agtb: bij ons Eerbiedig schrijven van', 'ok van 6=en December laestleden ter kennisse', 'ggebragt hebben, except dat sijnen ordi„', '„niairen afgesant, om de gewoone Jaarlijxe', 'recognitie van 4200 pard:s afgekomen', 'op rebve sijnde, voor den gouverneur van den', 'nieuwen manaergoissen soubedaer eenige', 'beeis of therwegteringe Eerkleeden mede gebragt heeft,', 'seen weder naer sijn vorst gekeert is,', 'aanwelckers gesant met voorm=te recognitie gelden, nae dat', 'daervoor de behoorlijcke quitantie was', 'gepasseerd, en een weder smal geschenk', 'aan ged=te soubedaer en een ander voor desen', 'gesant was gedaen. —', 'dog met de moorse en andere zeijdense regenten', 'va sijnde saken in dien staet niet verbleven', 'maar verergert, dewijl den fousdaer tot')\t[3.654120155260898e-05, 0.9999634027481079, 3.542513837828665e-08, 6.037082183989184e-13]\t(<RegionType.PARAGRAPH: 'paragraph'>, <RegionType.PHYSICAL_STRUCTURE_DOC: 'physical_structure_doc'>, <RegionType.TEXT_REGION: 'text_region'>, <RegionType.PAGEXML_DOC: 'pagexml_doc'>)\n",
      "IN\tIN\t('met twee Capitalen ad„', 'vans laten voldoen.')\t[5.804330385217327e-07, 0.9999924898147583, 6.916152869962389e-06, 7.1078032348737e-11]\t(<RegionType.MARGINALIA: 'marginalia'>, <RegionType.PHYSICAL_STRUCTURE_DOC: 'physical_structure_doc'>, <RegionType.TEXT_REGION: 'text_region'>, <RegionType.PAGEXML_DOC: 'pagexml_doc'>)\n",
      "IN\tIN\t('de nooten plantagie naent Noolen Plantagie heeft tot nog toe een', 'tragen voortgang zijnde door het ongestadige', 'weer, een aanzienlijk getal Jonge telgen ver„', '„droogd en gestorven, mitsgaders bij den Jongsten', 'opneem, onder het Hoofd Comptoir, ende onderhoo„', '„rige Negorijen in weezen bevonden,', '133. vrugtdragende of 10. ,', '133. halfwassene - - - „ 32. en', '296= Jonge aankomende „ 150: boomen, dan', 'wel 1228. te zaamen, of maar 200. boomen,', 'meerder als in het voorleden Jaar, terwijl ook', 'onder Hila en Loehoe uit hoofde van de daar', 'grasseerende ziektens en sterkte, de aanbevolen', 'visitatie der noote Boomen, tot betere Ge„', '„legentheid, reeds had moeten werden uitgesteld.', 'wij hebben, dit passeerende, daar en tegen met', '§ 19. De')\t[0.006644248031079769, 0.9933556318283081, 1.7081642056382407e-07, 1.0846466835801039e-08]\t(<RegionType.PARAGRAPH: 'paragraph'>, <RegionType.PHYSICAL_STRUCTURE_DOC: 'physical_structure_doc'>, <RegionType.TEXT_REGION: 'text_region'>, <RegionType.PAGEXML_DOC: 'pagexml_doc'>)\n",
      "END\tEND\t\"('Batavia', \"\"in't Casteel van uw e wel Edele\"\", 'Hoog Agtbaare, den', '24:e october :o 1791 —')\"\t[3.740950705832802e-05, 4.149931065455803e-09, 0.999962568283081, 7.794796980185176e-14]\t(<RegionType.MARGINALIA: 'marginalia'>, <RegionType.PHYSICAL_STRUCTURE_DOC: 'physical_structure_doc'>, <RegionType.TEXT_REGION: 'text_region'>, <RegionType.PAGEXML_DOC: 'pagexml_doc'>)\n",
      "IN\tIN\t('weegen van de Jan„', 'den bij de Leverantien')\t[0.00044120996608398855, 0.9995587468147278, 6.956305043104294e-08, 5.165029103200436e-13]\t(<RegionType.MARGINALIA: 'marginalia'>, <RegionType.PHYSICAL_STRUCTURE_DOC: 'physical_structure_doc'>, <RegionType.TEXT_REGION: 'text_region'>, <RegionType.PAGEXML_DOC: 'pagexml_doc'>)\n",
      "END\tEND\t\"('Batavia', \"\"in 't Casteel uwerwelEd.\"\", 'Hoog Agtb: den 6: Februari')\"\t[1.130021337303333e-05, 8.72084696124098e-11, 0.9999886751174927, 2.2174545406388477e-15]\t(<RegionType.MARGINALIA: 'marginalia'>, <RegionType.PHYSICAL_STRUCTURE_DOC: 'physical_structure_doc'>, <RegionType.TEXT_REGION: 'text_region'>, <RegionType.PAGEXML_DOC: 'pagexml_doc'>)\n",
      "IN\tIN\t\"(\"\"Mallabaar onse resol: van den 30' aug:s 1718. ogt aen\"\", 'duyt zal inkomen hebbe wy nog tans goed', '1', '„gesonden dezelve egter voor als nog maar', 'by die boeken te laten voortzo pemen op de', 'voldoening daar van zo wel als van syne', 'nieuwe schuld nog per resto groot', 'zynde ƒ 52677:-6: by alle voorkomende', 'occagien door de ministers te doen aandrin', '„gen en bezorgen dat zo dra zulx geraden', 'zy deselve schuld door den verkoop van', 'zyn daar voor verpand schip verevent', 'of vermindert wierden', 'Volgens des Gouverneur apakte schry', '„ven van den 10 october 1774 had die Koning', 'van')\"\t[1.6344769093734612e-08, 0.9999977350234985, 2.30097361963999e-06, 1.0758569599436663e-12]\t(<RegionType.PARAGRAPH: 'paragraph'>, <RegionType.PHYSICAL_STRUCTURE_DOC: 'physical_structure_doc'>, <RegionType.TEXT_REGION: 'text_region'>, <RegionType.PAGEXML_DOC: 'pagexml_doc'>)\n",
      "IN\tEND\t('meesters, p:r naasten', 'te sullen submini„', 'streeren, onse formee„', 'het een en ander,')\t[7.126851414795965e-05, 0.9851062297821045, 0.01482256781309843, 1.6673189218163742e-10]\t(<RegionType.MARGINALIA: 'marginalia'>, <RegionType.PHYSICAL_STRUCTURE_DOC: 'physical_structure_doc'>, <RegionType.TEXT_REGION: 'text_region'>, <RegionType.PAGEXML_DOC: 'pagexml_doc'>)\n",
      "END\tEND\t('het nevensgaende Packet vanden', 'Engelsen President tot bantam,', 'versoecken uw Ed: mede', 'gelieven te doen bestellen.')\t[0.191035196185112, 0.2895389497280121, 0.5194258689880371, 1.7799246798677615e-10]\t(<RegionType.PARAGRAPH: 'paragraph'>, <RegionType.PHYSICAL_STRUCTURE_DOC: 'physical_structure_doc'>, <RegionType.TEXT_REGION: 'text_region'>, <RegionType.PAGEXML_DOC: 'pagexml_doc'>)\n",
      "IN\tIN\t('een anderen negotient', 'wordpolitijq gecorri„', '„geerd en gemult„', '„teerd')\t[1.9498917758209444e-10, 0.9994708895683289, 0.0005291045526973903, 1.6674171765540535e-10]\t(<RegionType.MARGINALIA: 'marginalia'>, <RegionType.PHYSICAL_STRUCTURE_DOC: 'physical_structure_doc'>, <RegionType.TEXT_REGION: 'text_region'>, <RegionType.PAGEXML_DOC: 'pagexml_doc'>)\n",
      "IN\tIN\t('het vaartuijg en dies inhebbende Lading', '&a')\t[0.09628038853406906, 0.9037084579467773, 1.108490596379852e-05, 3.688027383486059e-10]\t(<RegionType.PARAGRAPH: 'paragraph'>, <RegionType.PHYSICAL_STRUCTURE_DOC: 'physical_structure_doc'>, <RegionType.TEXT_REGION: 'text_region'>, <RegionType.PAGEXML_DOC: 'pagexml_doc'>)\n",
      "BEGIN\tBEGIN\t('Op den 23:e deser hebben wij u. Ed:s noch toegeveerdicht', 'de schepen Vrijheijt, Jonge prins ende amerongen te', 'samen met een cargasoen van 852433: gulden, wanneer', 'des volgenden daegs hier van de Westcust van sumatra', 'is komen aen te landen de fluijt den Handelaer in', 'onse vorige gemelt met 1520½ bhaer peper en 411.', 'theijlen swaerte goudt met malcanderen ende eenige', 'ongewilde kleeden belopende 111809 guld. s na het', 'schrijven van den Resident Jacob pits ende den Raed', 'getekent 16. deser stonden comp:s saken langs de geer', 'cust genoechsaem na wensch. doch van manicabo', 'en was tot dato niemant afgecomen. het welck den', 'swaren regen, die daer een tijdt langh was gevallen', 'toegeschreven wert, ende oorsaeck is geweest, dat', 'de voorss. quantiteijt goudt niet groter heeft')\t[0.9881775975227356, 0.006805519573390484, 0.005016895476728678, 1.7186944922809033e-10]\t(<RegionType.PARAGRAPH: 'paragraph'>, <RegionType.PHYSICAL_STRUCTURE_DOC: 'physical_structure_doc'>, <RegionType.TEXT_REGION: 'text_region'>, <RegionType.PAGEXML_DOC: 'pagexml_doc'>)\n",
      "END\tEND\t('belangen in de veijlige hoede Gode en blijven met het meeste re„', 'spect')\t[2.9943002743948455e-08, 8.890889148460701e-05, 0.9999110698699951, 1.2323420929549744e-11]\t(<RegionType.PARAGRAPH: 'paragraph'>, <RegionType.PHYSICAL_STRUCTURE_DOC: 'physical_structure_doc'>, <RegionType.TEXT_REGION: 'text_region'>, <RegionType.PAGEXML_DOC: 'pagexml_doc'>)\n",
      "BEGIN\tBEGIN\t('Wel Edele Hoog Achtbare„', 'wijse, voorsienige en seer', 'Genereuse Heeren!')\t[0.9999593496322632, 4.0276254553717195e-10, 4.060033825226128e-05, 2.7941266921710506e-13]\t(<RegionType.PARAGRAPH: 'paragraph'>, <RegionType.PHYSICAL_STRUCTURE_DOC: 'physical_structure_doc'>, <RegionType.TEXT_REGION: 'text_region'>, <RegionType.PAGEXML_DOC: 'pagexml_doc'>)\n",
      "IN\tEND\t('Nu volgt het bedragen van', 'Ider bodems inlading, namentlijk')\t[1.2899610624117486e-07, 0.9999998807907104, 2.315062141988733e-09, 1.7162014864791075e-11]\t(<RegionType.PARAGRAPH: 'paragraph'>, <RegionType.PHYSICAL_STRUCTURE_DOC: 'physical_structure_doc'>, <RegionType.TEXT_REGION: 'text_region'>, <RegionType.PAGEXML_DOC: 'pagexml_doc'>)\n",
      "BEGIN\tBEGIN\t('Edele Hoog achtbare wijse', 'voorsienige seer Genereuse', 'Heeren')\t[0.9417120218276978, 8.45428803586401e-06, 0.058279529213905334, 4.7695552368720584e-11]\t(<RegionType.PARAGRAPH: 'paragraph'>, <RegionType.PHYSICAL_STRUCTURE_DOC: 'physical_structure_doc'>, <RegionType.TEXT_REGION: 'text_region'>, <RegionType.PAGEXML_DOC: 'pagexml_doc'>)\n",
      "BEGIN\tEND\t\"('Intusschen hebben wy de', \"\"eer na afbidding van 's\"\", 'Hemels Zeegen over uwe', 'Edele Hoog Agtb: Pen', 'Sonen en Compagnies be', 'langens, ons met de vol', 'maaktste Hoog agting')\"\t[0.9022732973098755, 0.014370600692927837, 0.08335613459348679, 2.2856849746233365e-09]\t(<RegionType.PARAGRAPH: 'paragraph'>, <RegionType.PHYSICAL_STRUCTURE_DOC: 'physical_structure_doc'>, <RegionType.TEXT_REGION: 'text_region'>, <RegionType.PAGEXML_DOC: 'pagexml_doc'>)\n",
      "IN\tEND\t\"(\"\"Aen d' Ed=le heeren gecommitteerde bewintheb„\"\",)\"\t[0.0026438403874635696, 0.997353196144104, 2.9169684694352327e-06, 6.62027932474274e-11]\t(<RegionType.PHYSICAL_STRUCTURE_DOC: 'physical_structure_doc'>, <RegionType.TEXT_REGION: 'text_region'>, <RegionType.PAGEXML_DOC: 'pagexml_doc'>)\n",
      "BEGIN\tBEGIN\t\"('Edele Erntfeste Wijse voor„', 'ren', 'Bhirijge ende zeer bescheijdene h„r', 'ons', 'sijn Heeren Omme U Ed: haotijtelijck als doenelj wert', 'stroc 6. te preadverteren, tjammerlijck ongeval de retour', 'schepen, Haerlem Maestricht, ende de fluijt Berckhout', 'tusschen 22 ende 23 februarij passadol nae dat den', '24=en januarij passado de straet zunda hadden verlaten ede', 'en gecomen waren ter lengte van 111½ zuijder breete', 'savt 6gredend doort rehementen storm aengetroffen ende', 'U:Ed: ingevolge over der zelver tordance buijten bee¬', 'dencken te brengen, zijn te rade geworden, desen over', \"\"suratte met de retour schepen van d'Engelsche\"\", 'Comp„e mitsgaders door parssija over Allippo off', '-', 'constantinopolen te doen bestellen, wij sullen ons', 'niet anniseren met lange deductien ene verhalen.', \"\"wegen 't' gevaerlijck rescontre ende voorder succes\"\", 'der schepen N: Haerlemeurberckhout tot aent Eij¬', 'lant Mouritius mitsgaders wat ordre en adsistentie', 'soo tijtelijck als van dit disalter kennisse begamen', 'daer op gestelt, ende derwaerts gehonden hebben,', 'bbsanaer gedragen alles aende nevengaende pampieren', \"\"van daer becomen als onse advijsen p:r de fluijttd' Een¬\"\", 'dracht aenden Commandeur Adriaen vane stel ende', 'den oppercoopman Cornelis jansen Silvius afgesonden', 'mitsgaders de resolutie over die zake genomen ende', 'de factura van de goederen als nootwendicheden der„', 'opwaerts gegaen.', 'Belangende Maestrichts wedervaren blijft ons tot', \"\"nu onbekent d'almogenden geve den storm smisgeloopen\"\", 'ende bij V: Ed: halvo aengecomen sij, ten overvleede', 'blijft aende commandeur Adriaen vande stel gelast,', \"\"gemelte schip Aen t' eijlant Madagascor op te hoecken\"\", 'tom tpria virwo, t ascistr')\"\t[0.9940166473388672, 0.0036418261006474495, 0.0023415405303239822, 1.2324513631867262e-10]\t(<RegionType.PARAGRAPH: 'paragraph'>, <RegionType.PHYSICAL_STRUCTURE_DOC: 'physical_structure_doc'>, <RegionType.TEXT_REGION: 'text_region'>, <RegionType.PAGEXML_DOC: 'pagexml_doc'>)\n",
      "BEGIN\tBEGIN\t('Nagesien', 'H. Dunltinenr')\t[0.9816442728042603, 5.424874416348757e-06, 0.018350305035710335, 1.1344204048358009e-10]\t(<RegionType.MARGINALIA: 'marginalia'>, <RegionType.PHYSICAL_STRUCTURE_DOC: 'physical_structure_doc'>, <RegionType.TEXT_REGION: 'text_region'>, <RegionType.PAGEXML_DOC: 'pagexml_doc'>)\n",
      "IN\tIN\t('verlegenth:t door', 'gebrek van schepen')\t[0.02728118933737278, 0.97264164686203, 7.713358354521915e-05, 1.308099323305001e-10]\t(<RegionType.MARGINALIA: 'marginalia'>, <RegionType.PHYSICAL_STRUCTURE_DOC: 'physical_structure_doc'>, <RegionType.TEXT_REGION: 'text_region'>, <RegionType.PAGEXML_DOC: 'pagexml_doc'>)\n",
      "IN\tIN\t\"(\"\"'tversogte voorden\"\", 'als nangasicki')\"\t[0.0003196926263626665, 0.9996391534805298, 4.111161979380995e-05, 1.3188468546421195e-11]\t(<RegionType.MARGINALIA: 'marginalia'>, <RegionType.PHYSICAL_STRUCTURE_DOC: 'physical_structure_doc'>, <RegionType.TEXT_REGION: 'text_region'>, <RegionType.PAGEXML_DOC: 'pagexml_doc'>)\n",
      "IN\tIN\t('voldoen, hebben de Ministers hunne', 'zendelingen ten antwoord gegeven, dat', 'zij als nog geen reeden hadden zig', 'dus ongerust en verleegen te toonen', 'en dat, schoon hen de reeden van', 'die verandering niet konde worden', 'bekent gemaakt, zij egter verse„', '„', 'kert konden blijven, dat de Comp:n', 'Chettua niet ten eenemaal verlaten', 'nog manqueeren zoude hen tee', 'protegeeren, zo lang zij zig vreed„', 'saam en als welgeschikte vazal„', 'len bleeven gedraagen, en zorg¬', '„vuldig wagteden voor eeniger hande', 'engagementen met den koning,', 'sammorijn, of iemand, wie het', 'de')\t[3.011035332178835e-08, 0.999998927116394, 1.064259549821145e-06, 3.96903031274487e-11]\t(<RegionType.PARAGRAPH: 'paragraph'>, <RegionType.PHYSICAL_STRUCTURE_DOC: 'physical_structure_doc'>, <RegionType.TEXT_REGION: 'text_region'>, <RegionType.PAGEXML_DOC: 'pagexml_doc'>)\n",
      "IN\tIN\t('soo dat deselve', 'bestaan sal uijt', 'scheepen')\t[8.697113003108825e-07, 0.9850602746009827, 0.01493881642818451, 4.856180041423741e-11]\t(<RegionType.MARGINALIA: 'marginalia'>, <RegionType.PHYSICAL_STRUCTURE_DOC: 'physical_structure_doc'>, <RegionType.TEXT_REGION: 'text_region'>, <RegionType.PAGEXML_DOC: 'pagexml_doc'>)\n",
      "END\tEND\t\"('Tolling.', \"\"J van Crn: d' Hbering\"\", 'J. Groot')\"\t[1.8600994522444125e-08, 1.8279216362770967e-08, 1.0, 9.306278993682481e-16]\t(<RegionType.PARAGRAPH: 'paragraph'>, <RegionType.PHYSICAL_STRUCTURE_DOC: 'physical_structure_doc'>, <RegionType.TEXT_REGION: 'text_region'>, <RegionType.PAGEXML_DOC: 'pagexml_doc'>)\n",
      "END\tEND\t('met onse Eerbiedige groete en betuijginge', 'dat wij zijn', 'Ed: Ho: Agtb: Heeren', 'UW Edele Hoog Agtb: onderda„', '„nige en getrouwe Dienaren', 'Batavia in', 'Den Gouverneur Generael', 'uw Ed: Ho: agtb: Casteel', 'ende de raden van India —', 'den 15„en Januarij 1717.', 'P: S: nae het sluijten deses arriveeren', 'uijt Ziam de scheepen carthago', 'en donkervliet met schrijven der', 'Transwou', 'residenten van den 30„e november', 'waer uijt het noodige ten naesten', 'sal werden aengeroert.', 'frans Costelijn')\t[0.002644188702106476, 6.268952347454615e-06, 0.9973495006561279, 3.219672575424659e-12]\t(<RegionType.PARAGRAPH: 'paragraph'>, <RegionType.PHYSICAL_STRUCTURE_DOC: 'physical_structure_doc'>, <RegionType.TEXT_REGION: 'text_region'>, <RegionType.PAGEXML_DOC: 'pagexml_doc'>)\n",
      "IN\tIN\t('den opperchuur„', 'gijn Dekker tot', 'de te houden levens„', 'wijze op de scheepen', 'mag worden geintro„', 'duceert')\t[8.38915159562248e-09, 0.999971866607666, 2.8135269531048834e-05, 3.4215300731554876e-11]\t(<RegionType.MARGINALIA: 'marginalia'>, <RegionType.PHYSICAL_STRUCTURE_DOC: 'physical_structure_doc'>, <RegionType.TEXT_REGION: 'text_region'>, <RegionType.PAGEXML_DOC: 'pagexml_doc'>)\n",
      "IN\tIN\t\"('Inden Lantbouw is op het Eijlant seijlen inson„', 'derheijt inde Landen van Jaffenepatnam vrij wat', \"\"te doen. maer 't ontbreekt overal aen arbeijtsaem\"\", 'volk, ende sal ook te goede coop rijs ongetwijffelt', 'oorstek wesen dat het planten van deselve minder', 'beijvert sal worden. waerom considetabel is of men', 'die van buijten incomt niet wat meer sal dienen', 'te beswaren omse op een redelijke prijs te houden,')\"\t[2.7678419556309564e-08, 1.0, 3.759882183373975e-09, 1.4740896003839765e-11]\t(<RegionType.PARAGRAPH: 'paragraph'>, <RegionType.PHYSICAL_STRUCTURE_DOC: 'physical_structure_doc'>, <RegionType.TEXT_REGION: 'text_region'>, <RegionType.PAGEXML_DOC: 'pagexml_doc'>)\n",
      "END\tEND\t('J Heedens', 'Coijett', 'W: Ca')\t[4.321348751545884e-05, 2.6798835150998457e-08, 0.9999567270278931, 1.0714826248481302e-10]\t(<RegionType.PHYSICAL_STRUCTURE_DOC: 'physical_structure_doc'>, <RegionType.TEXT_REGION: 'text_region'>, <RegionType.PAGEXML_DOC: 'pagexml_doc'>, <RegionType.SIGNATURE_MARK: 'signature-mark'>)\n",
      "BEGIN\tBEGIN\t('Aan den wel Edele Hoog Agtb: Heeren', 'Dewandooeren', 'Ter vergadering van Zeeventienen', 'Gecommitteerd de Generaale', 'Oostindische Compagnie', 'Representeerende ter', 'Presidiate Kamer')\t[0.9999984502792358, 6.65840360625225e-08, 1.477496994084504e-06, 6.414709258564799e-14]\t(<RegionType.PARAGRAPH: 'paragraph'>, <RegionType.PHYSICAL_STRUCTURE_DOC: 'physical_structure_doc'>, <RegionType.TEXT_REGION: 'text_region'>, <RegionType.PAGEXML_DOC: 'pagexml_doc'>)\n",
      "END\tEND\t('Ed„le Hoog agtb: Heeren', 'Elens', 'Ed=len Hoog agtb: onderdanige', 'gehoorsame, en Getrouwe dienaren', 'Den Gouverneur Generaal, ende', 'de Raden van India.', 'W: van Outhoore', 'de', 'Joan van Hoor', 'rto', 'H: V: Rieberk', 'Laurens zie', 'Joans: Cops', 'is', 'Wale', 'Cae')\t[0.018468966707587242, 2.9544355584221194e-06, 0.9815280437469482, 3.7745209735540186e-11]\t(<RegionType.PARAGRAPH: 'paragraph'>, <RegionType.PHYSICAL_STRUCTURE_DOC: 'physical_structure_doc'>, <RegionType.TEXT_REGION: 'text_region'>, <RegionType.PAGEXML_DOC: 'pagexml_doc'>)\n",
      "END\tEND\t('m', 'Ed=le Hoog achtb: manhafte wel', 'wijse voorsienige seer genereuse', 'Heeren willen wij uEd:e naar onse eerbiedige', 'Groetenisse Inde Genadige bescherminge', 'Godes almachtigh beveelen die u Ede staat', 'en regeringe, in dese noch becommerlijcke tijden', 'meer en meer Gelieve te zegenen tot ver„', 'breijdinge van zijn heijligen naam welvaren ende', 'reputatie onses lieven vaderlants ende voordeel', 'der Gemene participanten', 'UEd=l eer en Trouwschuldige', 'dienaeren')\t[2.6465477276360616e-07, 1.1318279646843621e-08, 0.9999997615814209, 3.2819732175004557e-13]\t(<RegionType.PARAGRAPH: 'paragraph'>, <RegionType.PHYSICAL_STRUCTURE_DOC: 'physical_structure_doc'>, <RegionType.TEXT_REGION: 'text_region'>, <RegionType.PAGEXML_DOC: 'pagexml_doc'>)\n",
      "BEGIN\tBEGIN\t('d. Erntfeste. wijse. voorsienige. seer', 'discrete Heeren.')\t[0.9999585151672363, 2.2506154095935926e-07, 4.12563094869256e-05, 1.1773023528283133e-11]\t(<RegionType.PARAGRAPH: 'paragraph'>, <RegionType.PHYSICAL_STRUCTURE_DOC: 'physical_structure_doc'>, <RegionType.TEXT_REGION: 'text_region'>, <RegionType.PAGEXML_DOC: 'pagexml_doc'>)\n",
      "END\tEND\t('F', 'JAmir:', 'Radermacer', 'o', 'Joon nen enbonk', 'F: V: Ctockum', 'P: J: Hraan')\t[1.718636440273258e-06, 2.5132159862550907e-05, 0.9999731779098511, 2.0371057271595383e-12]\t(<RegionType.PARAGRAPH: 'paragraph'>, <RegionType.PHYSICAL_STRUCTURE_DOC: 'physical_structure_doc'>, <RegionType.TEXT_REGION: 'text_region'>, <RegionType.PAGEXML_DOC: 'pagexml_doc'>)\n",
      "BEGIN\tIN\t('3 159', 'qualificatie aan den', 'van een Conventel met', 'de engelsen')\t[0.7211675047874451, 0.27013447880744934, 0.008697968907654285, 2.492605899462319e-09]\t(<RegionType.MARGINALIA: 'marginalia'>, <RegionType.PHYSICAL_STRUCTURE_DOC: 'physical_structure_doc'>, <RegionType.TEXT_REGION: 'text_region'>, <RegionType.PAGEXML_DOC: 'pagexml_doc'>)\n",
      "END\tEND\t('d„le Hoog Agtb: Heeren', 'VEd„le Hoog Agtb: onderda¬', 'Batavia', '„nige en getrouwe dienaren', 'in VEd: Ho: agtb:', 'Den Gouverneur Generaal', 'ende de Raden van India.', 'C van Swoll', 'frans Castelijn', 'Tolling. Match„s De Haan', 'Dor ond bliugj oe eten e', 'D Groot', 'is')\t[8.831938771436398e-07, 3.247296120889587e-08, 0.9999991655349731, 6.715412053477296e-14]\t(<RegionType.PARAGRAPH: 'paragraph'>, <RegionType.PHYSICAL_STRUCTURE_DOC: 'physical_structure_doc'>, <RegionType.TEXT_REGION: 'text_region'>, <RegionType.PAGEXML_DOC: 'pagexml_doc'>)\n",
      "IN\tBEGIN\t('Behalven de reeds, zo wel bij onze gemeene als secreete Fjrie„', 'ven in deeze maand aan uwel Ed: Hoog Achtb: ins gereedheid ge„', 'bragt, en reeds afgezonden, met nadruk genoteerde naden„', 'kelijke omstandigheeden, waar in wij door het aanhoudend', 'en meer en meers toeneemend geld gebrek gebragt zijn, en onze', 'kennis geeving, dat alle vooruitsigten op zedding, door ne„', 'gotiatie wan gelden in deeze uitgepuste Calonie, ten einde')\t[0.008213378489017487, 0.9906112551689148, 0.0011753553990274668, 7.1700405612773466e-09]\t(<RegionType.PARAGRAPH: 'paragraph'>, <RegionType.PHYSICAL_STRUCTURE_DOC: 'physical_structure_doc'>, <RegionType.TEXT_REGION: 'text_region'>, <RegionType.PAGEXML_DOC: 'pagexml_doc'>)\n",
      "IN\tIN\t('en andere hoofden om een', 'Compaghies en prasionen', 'ondar hun Cofteerende')\t[1.203797594939715e-08, 0.9999880790710449, 1.1856190212711226e-05, 5.8186003758231575e-12]\t(<RegionType.MARGINALIA: 'marginalia'>, <RegionType.PHYSICAL_STRUCTURE_DOC: 'physical_structure_doc'>, <RegionType.TEXT_REGION: 'text_region'>, <RegionType.PAGEXML_DOC: 'pagexml_doc'>)\n",
      "IN\tEND\t\"('Dl souden VEd: mede in een a twee Jaren geen', 'Zijde Coussens souden daerom niet verlegen wesen, die', 'van Taijouhan hebben ons met soo grooten pertije', 'slechte Chinese sijde Coussens overcropt, dat niet weten', 'wanneer die quijt sullen worden, wenschte dat goede', 'rouwe zijde, suijckeren, radicx china, ende andere', 'proffijt gevende Coopmanschappen daer voor gesonde', 'hadden, beter dienst waer de Compe. geschiet.', 'Met dit Jachtgaet over den Ondercoopman Jan', \"\"peijn voor ballast sonder gagie, met d'aenstaende\"\", 'vloote hebben vEd: meer diergelijcke ondienstige', 'personen te verwachten./', 'Hiermede', 'Ed: Erntfeste Wijse voorsieninge seer discrete', 'Heeren na hartelijcke groetenisse blijft de', 'genadige protextie des alderhoochsten bevolen', 'Int Casteel Batavia aen 18. meert A o 1629.', 'VEd dienst willee', 'Coe')\"\t[0.004459220450371504, 0.7411940097808838, 0.2543467581272125, 1.7939669305633288e-08]\t(<RegionType.PARAGRAPH: 'paragraph'>, <RegionType.PHYSICAL_STRUCTURE_DOC: 'physical_structure_doc'>, <RegionType.TEXT_REGION: 'text_region'>, <RegionType.PAGEXML_DOC: 'pagexml_doc'>)\n",
      "BEGIN\tBEGIN\t('Edele, Erntfeste, welwijse —', 'voorsienige, seer discrete Heeren.')\t[0.9999643564224243, 1.6889752929571955e-09, 3.5689619835466146e-05, 3.5882095905659384e-11]\t(<RegionType.PARAGRAPH: 'paragraph'>, <RegionType.PHYSICAL_STRUCTURE_DOC: 'physical_structure_doc'>, <RegionType.TEXT_REGION: 'text_region'>, <RegionType.PAGEXML_DOC: 'pagexml_doc'>)\n",
      "IN\tBEGIN\t('In het korte wegens den staat', 'gevallen is reedsver van India en Eenige seer notable', 'gepasseerde gevallen sedert')\t[0.00013047757965978235, 0.9998694658279419, 4.963620625630938e-08, 4.0787612870518686e-11]\t(<RegionType.PARAGRAPH: 'paragraph'>, <RegionType.PHYSICAL_STRUCTURE_DOC: 'physical_structure_doc'>, <RegionType.TEXT_REGION: 'text_region'>, <RegionType.PAGEXML_DOC: 'pagexml_doc'>)\n",
      "IN\tIN\t('over 2: jaren, en in jongst hier op', 'anders verlost')\t[8.15593830338912e-06, 0.999991774559021, 6.278160924466647e-08, 1.2703180174433726e-10]\t(<RegionType.MARGINALIA: 'marginalia'>, <RegionType.PHYSICAL_STRUCTURE_DOC: 'physical_structure_doc'>, <RegionType.TEXT_REGION: 'text_region'>, <RegionType.PAGEXML_DOC: 'pagexml_doc'>)\n",
      "END\tEND\t('Emepste', 'Wijse voor¬', 'sienige seer bescheijdene Heeren, willen ver=en', 'Naer onse eerbieddige groete inde genadige beschermings', 'vanden almogenden bevelen, die Bed„en Indischen', 'stant meer ende meer gelieve te zegenen, tot verbreijdingh', 'van sijnen heijligen Naem, reputatie onses vaderlandts —', 'ende voordeel der gemene participanten, Amen', 'Een', 'geschreven inUE', '„Casteel', 'Batavia desen 18„en Januarij A. o 1649', 'VEd: Trouwschuldige dienaren', 'den Gouverneur Generael', 'ende de Raden van India')\t[0.00015773334598634392, 0.0004887509858235717, 0.9993534684181213, 4.442844009355795e-11]\t(<RegionType.PARAGRAPH: 'paragraph'>, <RegionType.PHYSICAL_STRUCTURE_DOC: 'physical_structure_doc'>, <RegionType.TEXT_REGION: 'text_region'>, <RegionType.PAGEXML_DOC: 'pagexml_doc'>)\n",
      "IN\tBEGIN\t('Verwacht noch veel retour', 'van Andere plaetsen om', 'naert patriates eynden')\t[1.3327506167115644e-05, 0.9975519776344299, 0.0024347014259546995, 1.2714634900490296e-09]\t(<RegionType.MARGINALIA: 'marginalia'>, <RegionType.PHYSICAL_STRUCTURE_DOC: 'physical_structure_doc'>, <RegionType.TEXT_REGION: 'text_region'>, <RegionType.PAGEXML_DOC: 'pagexml_doc'>)\n",
      "BEGIN\tBEGIN\t('Middelburg', 'in', 'Zeeland', 'Wel Edele Hoog Agtbare wijze voorzienige', '4', 'en')\t[0.969474732875824, 9.481009897172044e-07, 0.030524373054504395, 7.187200053854204e-13]\t(<RegionType.PARAGRAPH: 'paragraph'>, <RegionType.PHYSICAL_STRUCTURE_DOC: 'physical_structure_doc'>, <RegionType.TEXT_REGION: 'text_region'>, <RegionType.PAGEXML_DOC: 'pagexml_doc'>)\n",
      "BEGIN\tBEGIN\t('Het was op den 25. e december des afgeweken', 'jaars 1688. dat uijt dese Rheede hun', 'ankers ligten, en vertrokken de Retour schepen', 'Oosterlandt, Java, voorschoten, de Schelde,', 'Langewijk, en Oosthuijzen, alle onder het gesagh')\t[0.9999992847442627, 7.64742367209692e-07, 2.9203174989334002e-08, 3.1543243711462665e-11]\t(<RegionType.PARAGRAPH: 'paragraph'>, <RegionType.PHYSICAL_STRUCTURE_DOC: 'physical_structure_doc'>, <RegionType.TEXT_REGION: 'text_region'>, <RegionType.PAGEXML_DOC: 'pagexml_doc'>)\n",
      "END\tEND\t('Op welcke onse billicke Jnstantie dan Tsoot alre', 'niet gedaen sij, gelijck (wij verhopen Jae) wij sns', 'volcomentlijck verseeckert houden, u Ed: sonder', 'eenige voorder protractie, geeijschte ordre stelle', 'sullen: Met welck vertrouwen desen eijndigende', 'wij Godt Almachtich bidden')\t[0.00020442248205654323, 1.8653873894436401e-06, 0.9997937083244324, 1.807832356037764e-11]\t(<RegionType.PARAGRAPH: 'paragraph'>, <RegionType.PHYSICAL_STRUCTURE_DOC: 'physical_structure_doc'>, <RegionType.TEXT_REGION: 'text_region'>, <RegionType.PAGEXML_DOC: 'pagexml_doc'>)\n",
      "BEGIN\tBEGIN\t('Wel Edele hoog Agtb:', 'Wijse, voorsienige en', 'seer Genereuse Heeren.')\t[0.9998199343681335, 6.469745272852379e-08, 0.0001800013706088066, 1.2848304017931689e-11]\t(<RegionType.PARAGRAPH: 'paragraph'>, <RegionType.PHYSICAL_STRUCTURE_DOC: 'physical_structure_doc'>, <RegionType.TEXT_REGION: 'text_region'>, <RegionType.PAGEXML_DOC: 'pagexml_doc'>)\n",
      "IN\tIN\t('hhet stabileeren van eenig', 'Lijwaat handel is so ui', 'van een voordeelig', 'zijde.')\t[8.603026735443109e-09, 0.9999942779541016, 5.717119620385347e-06, 4.061782106403594e-13]\t(<RegionType.MARGINALIA: 'marginalia'>, <RegionType.PHYSICAL_STRUCTURE_DOC: 'physical_structure_doc'>, <RegionType.TEXT_REGION: 'text_region'>, <RegionType.PAGEXML_DOC: 'pagexml_doc'>)\n",
      "IN\tIN\t\"('Leeden van dien regtbank aan dus voor te dragen', '-', 'en wij op de becomene kennisse dat alle daar toe', 'gereegen waren, en haren dienst quamen aantebieden', 'hadden benoemd en gecommitteert m:r Gerrardus', 'Gerlag en M=r Jacob van den bosch als de oudste', 'ualter', 'zoo dat dese 2. laaste benevens m=r Gerrardts', 'schutten', 'Verhat, en M„r jacob Lakeman zijnde vaende', 'vorige gecommitt=s nog overig gebleeven', 'dat werk als nu staan te resumeeren, en tot perfectie', '„ niet', 'tebrengen, gelijk wij ook souden nagelaten hebben', 'alten Eersten tedisponeeren, over Een versoek', 'dat ons uijtwijsens het nevensleggende afschrift', \"\"en daar besijden g'exhibeerde documenten\"\", 'door den advocaat fiscaal van India M=r', 'adriauns bergsma, onder een Protestatie van', 'onvermogen om bij continuatie van sodanige be„', '„handelinge als door den meerm:s Raad van', 'Justitie omtrent de daarbij vermeld staande affaire', 'was gepractiseert geworden, dat swaarwigtig', 'ampt te kunnen waarneemen is gedaan geworden', 'indienwij niet beeter geoordeelt hebden haar agtb: alvorens', 'te hooren, en ten dien Eijnde het dierwegens ingeleverde')\"\t[0.01966908760368824, 0.6517220735549927, 0.328608900308609, 3.346253407698896e-08]\t(<RegionType.PARAGRAPH: 'paragraph'>, <RegionType.PHYSICAL_STRUCTURE_DOC: 'physical_structure_doc'>, <RegionType.TEXT_REGION: 'text_region'>, <RegionType.PAGEXML_DOC: 'pagexml_doc'>)\n",
      "IN\tIN\t('van hem Lloijd geaccepteerd hebben, te„', '„gens rd„s 500:—. aan contanten, met een', 'korting van 18: p:r C:o op het zelve bedra„', '„gen.')\t[1.0579449138958807e-07, 0.99959796667099, 0.00040191676816903055, 1.4071749321331595e-10]\t(<RegionType.PARAGRAPH: 'paragraph'>, <RegionType.PHYSICAL_STRUCTURE_DOC: 'physical_structure_doc'>, <RegionType.TEXT_REGION: 'text_region'>, <RegionType.PAGEXML_DOC: 'pagexml_doc'>)\n",
      "END\tEND\t\"('Batavia', \"\"in 't Casteel van\"\", 'uw Ed: hoog agtb:', \"\"den 10:' november\"\", '1738.')\"\t[2.6067562330922556e-08, 3.593428055115311e-10, 1.0, 3.3374650309695277e-15]\t(<RegionType.MARGINALIA: 'marginalia'>, <RegionType.PHYSICAL_STRUCTURE_DOC: 'physical_structure_doc'>, <RegionType.TEXT_REGION: 'text_region'>, <RegionType.PAGEXML_DOC: 'pagexml_doc'>)\n",
      "END\tEND\t('Simer:', 'J: Hoockum', 'JVermeule.', 'Jan Greeve.')\t[9.852234228446832e-08, 2.2296368310664727e-13, 0.9999998807907104, 1.1915086472875339e-15]\t(<RegionType.PARAGRAPH: 'paragraph'>, <RegionType.PHYSICAL_STRUCTURE_DOC: 'physical_structure_doc'>, <RegionType.TEXT_REGION: 'text_region'>, <RegionType.PAGEXML_DOC: 'pagexml_doc'>)\n",
      "IN\tIN\t('604: 46 –„ 1451: 18.',)\t[1.4650250079739635e-07, 0.9526264071464539, 0.04737350344657898, 1.440591534951352e-10]\t(<RegionType.PARAGRAPH: 'paragraph'>, <RegionType.PHYSICAL_STRUCTURE_DOC: 'physical_structure_doc'>, <RegionType.TEXT_REGION: 'text_region'>, <RegionType.PAGEXML_DOC: 'pagexml_doc'>)\n",
      "END\tEND\t('Vw Hoog Ed:le getrouwe ende', 'onderdanige dienaaren', 'Den gouverneur generaal', 'ende de raden van India')\t[8.884996350388974e-05, 3.022154828613566e-07, 0.999910831451416, 2.4103275798881274e-12]\t(<RegionType.PARAGRAPH: 'paragraph'>, <RegionType.PHYSICAL_STRUCTURE_DOC: 'physical_structure_doc'>, <RegionType.TEXT_REGION: 'text_region'>, <RegionType.PAGEXML_DOC: 'pagexml_doc'>)\n",
      "BEGIN\tBEGIN\t('2938.', 'Aan de wel Edele Hoog Achtbare Heeren', 'Bewindhebberen', 'ter vergadering van 17=en gecommitteerd,', 'de Generale Nederlandsche geoctroi„', '„eerde oostjndische Compagnie', 'repraesenterende ter Prae„', '„sidiale kamer')\t[0.9999982118606567, 6.530090246315012e-08, 1.6971680452115834e-06, 2.5052269964466814e-14]\t(<RegionType.PARAGRAPH: 'paragraph'>, <RegionType.PHYSICAL_STRUCTURE_DOC: 'physical_structure_doc'>, <RegionType.TEXT_REGION: 'text_region'>, <RegionType.PAGEXML_DOC: 'pagexml_doc'>)\n",
      "BEGIN\tBEGIN\t('Amsterdam', 'Wel Edele, Hoog Agtbaare Wijze,', 'Voorzienige, en zeer Genereuse', 'Heeren.')\t[0.99997878074646, 1.6184507076535959e-12, 2.11678197956644e-05, 2.7972563433858837e-14]\t(<RegionType.PARAGRAPH: 'paragraph'>, <RegionType.PHYSICAL_STRUCTURE_DOC: 'physical_structure_doc'>, <RegionType.TEXT_REGION: 'text_region'>, <RegionType.PAGEXML_DOC: 'pagexml_doc'>)\n",
      "IN\tIN\t('van de Graakt bij ond 71 Van onse approbatie is ook geweest', 'dat de Ministers de Gage van den')\t[0.0007151464815251529, 0.999277651309967, 7.206539976323256e-06, 1.1578571434966989e-10]\t(<RegionType.PARAGRAPH: 'paragraph'>, <RegionType.PHYSICAL_STRUCTURE_DOC: 'physical_structure_doc'>, <RegionType.TEXT_REGION: 'text_region'>, <RegionType.PAGEXML_DOC: 'pagexml_doc'>)\n",
      "END\tEND\t('473„0„8', '4092„8„8', '2368„6-', '1268„14-', '7429„14„8')\t[0.0026118033565580845, 9.425578900845721e-05, 0.9972938895225525, 5.390305424235464e-10]\t(<RegionType.PARAGRAPH: 'paragraph'>, <RegionType.PHYSICAL_STRUCTURE_DOC: 'physical_structure_doc'>, <RegionType.TEXT_REGION: 'text_region'>, <RegionType.PAGEXML_DOC: 'pagexml_doc'>)\n"
     ]
    }
   ],
   "source": [
    "import csv\n",
    "import random\n",
    "import sys\n",
    "\n",
    "import torch\n",
    "from torcheval.metrics import MulticlassF1Score, MulticlassPrecision, MulticlassRecall\n",
    "\n",
    "from document_segmentation.pagexml.datamodel.label import Label\n",
    "\n",
    "writer = csv.DictWriter(\n",
    "    sys.stdout,\n",
    "    fieldnames=(\"Predicted\", \"Actual\", \"Lines\", \"Scores\", \"Types\"),\n",
    "    delimiter=\"\\t\",\n",
    ")\n",
    "\n",
    "writer.writeheader()\n",
    "\n",
    "precision_metric = MulticlassPrecision(average=None, num_classes=len(Label))\n",
    "recall_metric = MulticlassRecall(average=None, num_classes=len(Label))\n",
    "f1_metric = MulticlassF1Score(average=None, num_classes=len(Label))\n",
    "\n",
    "for batch in test_data.batches(BATCH_SIZE):\n",
    "    predicted = model(batch)\n",
    "    labels = batch.labels()\n",
    "    types = [region.types for region in batch.regions()]\n",
    "\n",
    "    _labels = torch.Tensor([label.value - 1 for label in labels]).to(int)\n",
    "    precision_metric.update(predicted, _labels)\n",
    "    recall_metric.update(predicted, _labels)\n",
    "    f1_metric.update(predicted, _labels)\n",
    "\n",
    "    # print every nth line:\n",
    "    if random.random() > 0.9:\n",
    "        for region, pred, label, types in zip(\n",
    "            batch.regions(), predicted, labels, types\n",
    "        ):\n",
    "            pred_label = Label(pred.argmax().item() + 1)\n",
    "            writer.writerow(\n",
    "                {\n",
    "                    \"Predicted\": pred_label.name,\n",
    "                    \"Actual\": label.name,\n",
    "                    \"Lines\": region.lines,\n",
    "                    \"Scores\": str(pred.tolist()),\n",
    "                    \"Types\": str(types),\n",
    "                }\n",
    "            )"
   ]
  },
  {
   "cell_type": "code",
   "execution_count": 97,
   "metadata": {},
   "outputs": [
    {
     "name": "stderr",
     "output_type": "stream",
     "text": [
      "WARNING:root:One or more NaNs identified, as no ground-truth instances of [3] have been seen. These have been converted to zero.\n",
      "WARNING:root:Warning: Some classes do not exist in the target. F1 scores for these classes will be cast to zeros.\n"
     ]
    },
    {
     "name": "stdout",
     "output_type": "stream",
     "text": [
      "Metric\tBEGIN\tIN\tEND\tOUT\n",
      "MulticlassPrecision\t0.7842\t0.7793\t0.8668\t0.0000\n",
      "MulticlassRecall\t0.8117\t0.8783\t0.7248\t0.0000\n",
      "MulticlassF1Score\t0.7977\t0.8258\t0.7895\t0.0000\n"
     ]
    }
   ],
   "source": [
    "writer = csv.DictWriter(\n",
    "    sys.stdout, fieldnames=[\"Metric\"] + [label.name for label in Label], delimiter=\"\\t\"\n",
    ")\n",
    "writer.writeheader()\n",
    "\n",
    "for metric in (precision_metric, recall_metric, f1_metric):\n",
    "    scores = {\n",
    "        label.name: f\"{score:.4f}\"\n",
    "        for label, score in zip(Label, metric.compute().tolist())\n",
    "    }\n",
    "    writer.writerow({\"Metric\": metric.__class__.__name__} | scores)"
   ]
  }
 ],
 "metadata": {
  "kernelspec": {
   "display_name": ".venv",
   "language": "python",
   "name": "python3"
  },
  "language_info": {
   "codemirror_mode": {
    "name": "ipython",
    "version": 3
   },
   "file_extension": ".py",
   "mimetype": "text/x-python",
   "name": "python",
   "nbconvert_exporter": "python",
   "pygments_lexer": "ipython3",
   "version": "3.11.2"
  }
 },
 "nbformat": 4,
 "nbformat_minor": 2
}
