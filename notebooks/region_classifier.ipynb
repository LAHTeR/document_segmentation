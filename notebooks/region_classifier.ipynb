{
 "cells": [
  {
   "cell_type": "code",
   "execution_count": 1,
   "metadata": {},
   "outputs": [],
   "source": [
    "%load_ext autoreload\n",
    "%autoreload now"
   ]
  },
  {
   "cell_type": "markdown",
   "metadata": {},
   "source": [
    "# Read Data"
   ]
  },
  {
   "cell_type": "code",
   "execution_count": 2,
   "metadata": {},
   "outputs": [],
   "source": [
    "TRAINING_SIZE = 0.8\n",
    "TEST_SIZE = 0.2\n",
    "\n",
    "MIN_REGION_LENGTH = 20"
   ]
  },
  {
   "cell_type": "code",
   "execution_count": 3,
   "metadata": {},
   "outputs": [
    {
     "name": "stderr",
     "output_type": "stream",
     "text": [
      "Reading JSON files:  19%|█▉        | 175/909 [00:12<00:48, 15.16file/s]WARNING:root:No pages found in document id='354' inventory_nr=1684 inventory_part=None pages=[].\n",
      "Reading JSON files:  35%|███▍      | 314/909 [00:21<00:36, 16.46file/s]WARNING:root:No pages found in document id='353' inventory_nr=1684 inventory_part=None pages=[].\n",
      "Reading JSON files:  38%|███▊      | 349/909 [00:22<00:17, 31.85file/s]WARNING:root:No pages found in document id='352' inventory_nr=1684 inventory_part=None pages=[].\n",
      "Reading JSON files:  58%|█████▊    | 528/909 [00:36<00:17, 21.65file/s]WARNING:root:No pages found in document id='412' inventory_nr=1887 inventory_part=None pages=[].\n",
      "Reading JSON files: 100%|██████████| 909/909 [01:09<00:00, 13.13file/s]\n"
     ]
    }
   ],
   "source": [
    "from document_segmentation.model.dataset import PageDataset\n",
    "from document_segmentation.settings import GENERALE_MISSIVEN_DOCUMENT_DIR\n",
    "\n",
    "pages = PageDataset.from_dir(GENERALE_MISSIVEN_DOCUMENT_DIR)"
   ]
  },
  {
   "cell_type": "code",
   "execution_count": 4,
   "metadata": {},
   "outputs": [
    {
     "data": {
      "text/plain": [
       "580439"
      ]
     },
     "execution_count": 4,
     "metadata": {},
     "output_type": "execute_result"
    }
   ],
   "source": [
    "from document_segmentation.model.dataset import RegionDataset\n",
    "\n",
    "\n",
    "all_regions = RegionDataset.from_page_dataset(pages).remove_empty(MIN_REGION_LENGTH)\n",
    "len(all_regions)"
   ]
  },
  {
   "cell_type": "code",
   "execution_count": 5,
   "metadata": {},
   "outputs": [
    {
     "data": {
      "text/plain": [
       "Counter({<Label.IN: 2>: 573225, <Label.END: 3>: 3752, <Label.BEGIN: 1>: 3462})"
      ]
     },
     "execution_count": 5,
     "metadata": {},
     "output_type": "execute_result"
    }
   ],
   "source": [
    "all_regions._class_counts()"
   ]
  },
  {
   "cell_type": "code",
   "execution_count": 6,
   "metadata": {},
   "outputs": [
    {
     "data": {
      "text/plain": [
       "10966"
      ]
     },
     "execution_count": 6,
     "metadata": {},
     "output_type": "execute_result"
    }
   ],
   "source": [
    "from document_segmentation.pagexml.datamodel.label import Label\n",
    "\n",
    "sample_size = all_regions._class_counts()[Label.END]\n",
    "regions = all_regions.balance(sample_size).shuffle()\n",
    "\n",
    "len(regions)"
   ]
  },
  {
   "cell_type": "code",
   "execution_count": 7,
   "metadata": {},
   "outputs": [
    {
     "data": {
      "text/plain": [
       "Counter({<Label.IN: 2>: 3752, <Label.END: 3>: 3752, <Label.BEGIN: 1>: 3462})"
      ]
     },
     "execution_count": 7,
     "metadata": {},
     "output_type": "execute_result"
    }
   ],
   "source": [
    "regions._class_counts()"
   ]
  },
  {
   "cell_type": "code",
   "execution_count": 8,
   "metadata": {},
   "outputs": [
    {
     "data": {
      "text/plain": [
       "[3.166618538839157, 2.9219291233679723, 2.9219291233679723, 10966.0]"
      ]
     },
     "execution_count": 8,
     "metadata": {},
     "output_type": "execute_result"
    }
   ],
   "source": [
    "regions.class_weights()"
   ]
  },
  {
   "cell_type": "code",
   "execution_count": 9,
   "metadata": {},
   "outputs": [],
   "source": [
    "split = int(len(regions) * TRAINING_SIZE)\n",
    "\n",
    "training_data = regions[:split]\n",
    "test_data = regions[split:]"
   ]
  },
  {
   "cell_type": "code",
   "execution_count": 10,
   "metadata": {},
   "outputs": [
    {
     "data": {
      "text/plain": [
       "Counter({<Label.END: 3>: 3026, <Label.IN: 2>: 3013, <Label.BEGIN: 1>: 2733})"
      ]
     },
     "execution_count": 10,
     "metadata": {},
     "output_type": "execute_result"
    }
   ],
   "source": [
    "training_data._class_counts()"
   ]
  },
  {
   "cell_type": "code",
   "execution_count": 11,
   "metadata": {},
   "outputs": [
    {
     "data": {
      "text/plain": [
       "Counter({<Label.IN: 2>: 739, <Label.BEGIN: 1>: 729, <Label.END: 3>: 726})"
      ]
     },
     "execution_count": 11,
     "metadata": {},
     "output_type": "execute_result"
    }
   ],
   "source": [
    "test_data._class_counts()"
   ]
  },
  {
   "cell_type": "markdown",
   "metadata": {},
   "source": [
    "# Train Model"
   ]
  },
  {
   "cell_type": "code",
   "execution_count": 12,
   "metadata": {},
   "outputs": [],
   "source": [
    "BATCH_SIZE = 16\n",
    "EPOCHS = 50\n",
    "\n",
    "DEVICE = \"mps\""
   ]
  },
  {
   "cell_type": "code",
   "execution_count": 13,
   "metadata": {},
   "outputs": [
    {
     "data": {
      "text/plain": [
       "RegionClassifier(\n",
       "  (_transformer_model): BertModel(\n",
       "    (embeddings): BertEmbeddings(\n",
       "      (word_embeddings): Embedding(30500, 768, padding_idx=0)\n",
       "      (position_embeddings): Embedding(512, 768)\n",
       "      (token_type_embeddings): Embedding(2, 768)\n",
       "      (LayerNorm): LayerNorm((768,), eps=1e-12, elementwise_affine=True)\n",
       "      (dropout): Dropout(p=0.1, inplace=False)\n",
       "    )\n",
       "    (encoder): BertEncoder(\n",
       "      (layer): ModuleList(\n",
       "        (0-11): 12 x BertLayer(\n",
       "          (attention): BertAttention(\n",
       "            (self): BertSelfAttention(\n",
       "              (query): Linear(in_features=768, out_features=768, bias=True)\n",
       "              (key): Linear(in_features=768, out_features=768, bias=True)\n",
       "              (value): Linear(in_features=768, out_features=768, bias=True)\n",
       "              (dropout): Dropout(p=0.1, inplace=False)\n",
       "            )\n",
       "            (output): BertSelfOutput(\n",
       "              (dense): Linear(in_features=768, out_features=768, bias=True)\n",
       "              (LayerNorm): LayerNorm((768,), eps=1e-12, elementwise_affine=True)\n",
       "              (dropout): Dropout(p=0.1, inplace=False)\n",
       "            )\n",
       "          )\n",
       "          (intermediate): BertIntermediate(\n",
       "            (dense): Linear(in_features=768, out_features=3072, bias=True)\n",
       "            (intermediate_act_fn): GELUActivation()\n",
       "          )\n",
       "          (output): BertOutput(\n",
       "            (dense): Linear(in_features=3072, out_features=768, bias=True)\n",
       "            (LayerNorm): LayerNorm((768,), eps=1e-12, elementwise_affine=True)\n",
       "            (dropout): Dropout(p=0.1, inplace=False)\n",
       "          )\n",
       "        )\n",
       "      )\n",
       "    )\n",
       "    (pooler): BertPooler(\n",
       "      (dense): Linear(in_features=768, out_features=768, bias=True)\n",
       "      (activation): Tanh()\n",
       "    )\n",
       "  )\n",
       "  (_region_type): Embedding(9, 16)\n",
       "  (_linear): Linear(in_features=784, out_features=4, bias=True)\n",
       "  (_softmax): Softmax(dim=1)\n",
       ")"
      ]
     },
     "execution_count": 13,
     "metadata": {},
     "output_type": "execute_result"
    }
   ],
   "source": [
    "from document_segmentation.model.region_classifier import RegionClassifier\n",
    "\n",
    "model = RegionClassifier(device=DEVICE)\n",
    "model"
   ]
  },
  {
   "cell_type": "code",
   "execution_count": 18,
   "metadata": {},
   "outputs": [
    {
     "name": "stderr",
     "output_type": "stream",
     "text": [
      "549batch [00:10, 51.22batch/s]                         \n"
     ]
    },
    {
     "name": "stdout",
     "output_type": "stream",
     "text": [
      "[Loss:\t2.401]\n"
     ]
    },
    {
     "name": "stderr",
     "output_type": "stream",
     "text": [
      "549batch [00:07, 75.41batch/s]                          \n"
     ]
    },
    {
     "name": "stdout",
     "output_type": "stream",
     "text": [
      "[Loss:\t2.388]\n"
     ]
    },
    {
     "name": "stderr",
     "output_type": "stream",
     "text": [
      "549batch [00:05, 94.44batch/s]                          \n"
     ]
    },
    {
     "name": "stdout",
     "output_type": "stream",
     "text": [
      "[Loss:\t2.378]\n"
     ]
    },
    {
     "name": "stderr",
     "output_type": "stream",
     "text": [
      "549batch [00:08, 63.01batch/s]                          \n"
     ]
    },
    {
     "name": "stdout",
     "output_type": "stream",
     "text": [
      "[Loss:\t2.371]\n"
     ]
    },
    {
     "name": "stderr",
     "output_type": "stream",
     "text": [
      "549batch [00:05, 96.49batch/s]                          \n"
     ]
    },
    {
     "name": "stdout",
     "output_type": "stream",
     "text": [
      "[Loss:\t2.363]\n"
     ]
    },
    {
     "name": "stderr",
     "output_type": "stream",
     "text": [
      "549batch [00:03, 148.86batch/s]                         \n"
     ]
    },
    {
     "name": "stdout",
     "output_type": "stream",
     "text": [
      "[Loss:\t2.357]\n"
     ]
    },
    {
     "name": "stderr",
     "output_type": "stream",
     "text": [
      "549batch [00:04, 134.42batch/s]                         \n"
     ]
    },
    {
     "name": "stdout",
     "output_type": "stream",
     "text": [
      "[Loss:\t2.350]\n"
     ]
    },
    {
     "name": "stderr",
     "output_type": "stream",
     "text": [
      "549batch [00:10, 53.25batch/s]                         \n"
     ]
    },
    {
     "name": "stdout",
     "output_type": "stream",
     "text": [
      "[Loss:\t2.344]\n"
     ]
    },
    {
     "name": "stderr",
     "output_type": "stream",
     "text": [
      "549batch [00:08, 63.35batch/s]                          \n"
     ]
    },
    {
     "name": "stdout",
     "output_type": "stream",
     "text": [
      "[Loss:\t2.339]\n"
     ]
    },
    {
     "name": "stderr",
     "output_type": "stream",
     "text": [
      "549batch [00:09, 58.38batch/s]                          \n"
     ]
    },
    {
     "name": "stdout",
     "output_type": "stream",
     "text": [
      "[Loss:\t2.334]\n"
     ]
    },
    {
     "name": "stderr",
     "output_type": "stream",
     "text": [
      "549batch [00:08, 64.77batch/s]                         \n"
     ]
    },
    {
     "name": "stdout",
     "output_type": "stream",
     "text": [
      "[Loss:\t2.330]\n"
     ]
    },
    {
     "name": "stderr",
     "output_type": "stream",
     "text": [
      "549batch [00:08, 62.90batch/s]                         \n"
     ]
    },
    {
     "name": "stdout",
     "output_type": "stream",
     "text": [
      "[Loss:\t2.327]\n"
     ]
    },
    {
     "name": "stderr",
     "output_type": "stream",
     "text": [
      "549batch [00:07, 76.46batch/s]                          \n"
     ]
    },
    {
     "name": "stdout",
     "output_type": "stream",
     "text": [
      "[Loss:\t2.325]\n"
     ]
    },
    {
     "name": "stderr",
     "output_type": "stream",
     "text": [
      "549batch [00:07, 69.52batch/s]                         \n"
     ]
    },
    {
     "name": "stdout",
     "output_type": "stream",
     "text": [
      "[Loss:\t2.323]\n"
     ]
    },
    {
     "name": "stderr",
     "output_type": "stream",
     "text": [
      "549batch [00:08, 62.65batch/s]                         \n"
     ]
    },
    {
     "name": "stdout",
     "output_type": "stream",
     "text": [
      "[Loss:\t2.320]\n"
     ]
    },
    {
     "name": "stderr",
     "output_type": "stream",
     "text": [
      "549batch [00:09, 55.06batch/s]                         \n"
     ]
    },
    {
     "name": "stdout",
     "output_type": "stream",
     "text": [
      "[Loss:\t2.318]\n"
     ]
    },
    {
     "name": "stderr",
     "output_type": "stream",
     "text": [
      "549batch [00:06, 80.45batch/s]                          \n"
     ]
    },
    {
     "name": "stdout",
     "output_type": "stream",
     "text": [
      "[Loss:\t2.316]\n"
     ]
    },
    {
     "name": "stderr",
     "output_type": "stream",
     "text": [
      "549batch [00:03, 158.14batch/s]                         \n"
     ]
    },
    {
     "name": "stdout",
     "output_type": "stream",
     "text": [
      "[Loss:\t2.313]\n"
     ]
    },
    {
     "name": "stderr",
     "output_type": "stream",
     "text": [
      "549batch [00:05, 92.03batch/s]                          \n"
     ]
    },
    {
     "name": "stdout",
     "output_type": "stream",
     "text": [
      "[Loss:\t2.311]\n"
     ]
    },
    {
     "name": "stderr",
     "output_type": "stream",
     "text": [
      "549batch [00:08, 62.32batch/s]                          "
     ]
    },
    {
     "name": "stdout",
     "output_type": "stream",
     "text": [
      "[Loss:\t2.309]\n"
     ]
    },
    {
     "name": "stderr",
     "output_type": "stream",
     "text": [
      "\n"
     ]
    }
   ],
   "source": [
    "model.train_(training_data, EPOCHS, BATCH_SIZE, regions.class_weights())"
   ]
  },
  {
   "cell_type": "markdown",
   "metadata": {},
   "source": [
    "# Evaluation"
   ]
  },
  {
   "cell_type": "code",
   "execution_count": 25,
   "metadata": {},
   "outputs": [
    {
     "name": "stdout",
     "output_type": "stream",
     "text": [
      "Predicted\tActual\tLines\tScores\tTypes\n",
      "IN\tIN\t\"(\"\"§ 29 Het versoek van 't Opperhoofd van Este, om\"\", \"\"de versogte voordragt van 't op na Expiratie van zijn onderkoopmans verband,\"\", 'uwe welEd: Hoog Agtb: tot de Qualiteid van', 'koopman te worden voorgedragen, is door', 'ons als strijdende met het reglement op de', 'bevordering der', 'Dienaaren zo wel ontzegd, als zijne teffens', 'gedaane instantie, om middelerwijle met dien', 'titul en rang te worden gebeneficeerd. —')\"\t[0.14257393777370453, 0.846371591091156, 0.011054456233978271, 1.006368165884508e-12]\t(<RegionType.PARAGRAPH: 'paragraph'>, <RegionType.PHYSICAL_STRUCTURE_DOC: 'physical_structure_doc'>, <RegionType.TEXT_REGION: 'text_region'>, <RegionType.PAGEXML_DOC: 'pagexml_doc'>)\n",
      "IN\tIN\t('zodanig gebruik gemaakt hebben, als', 'wij na de gesteldheid van tyden en', 'e', 'plaatsen, dienstig hebben geoordeeld.', 'Bij voorschreeven ons secreet schrij„', 'ren van den 2 Febr: ll: sullen uw', 'wel Edele Hoog Achtb: so wij vertrou„', '„wen voor den ontfangst deser reeds', 'ontwaard hebben, wat emploij wij', 'met concurrentie en adveu van den', 'voorm: Heer Capitain Commandeur', 'van de tot gedagte Esquader gehoo„', '„rende Freguatten de Ceres en Sipio', 'hebben gemaakt, terwijl als toen', 'de overige Freguatten de Amphitri¬', 'te, Hoorn de Lijnx en de Tijl, alhier', 'ter rheede nog niet waaren opge„', '„daagd', 'Deselve vervolgens den 12e. en 20e.', 'Febr: ll: onder Commando van den', 'Heer Captn Frans Jacob. Wiertz alhier')\t[0.0665210485458374, 0.5358654260635376, 0.3976134955883026, 3.566214268335699e-10]\t(<RegionType.PARAGRAPH: 'paragraph'>, <RegionType.PHYSICAL_STRUCTURE_DOC: 'physical_structure_doc'>, <RegionType.TEXT_REGION: 'text_region'>, <RegionType.PAGEXML_DOC: 'pagexml_doc'>)\n",
      "BEGIN\tBEGIN\t('Med de tehende ankond van het Amsterdamae Kamer Schip Vol Gia', 'land de Eever gehad hebbende te ceipieren uwr wel Edele Hoog agten', 'zeer geede aparte Missive van den 10. april deezes Jaars, houdende')\t[0.9962673783302307, 0.00012688525021076202, 0.003605844685807824, 1.8611215270736975e-13]\t(<RegionType.PARAGRAPH: 'paragraph'>, <RegionType.PHYSICAL_STRUCTURE_DOC: 'physical_structure_doc'>, <RegionType.TEXT_REGION: 'text_region'>, <RegionType.PAGEXML_DOC: 'pagexml_doc'>)\n",
      "END\tEND\t('A erden', 'D: Volthenius', 'Verbeik', 'a Rotemmear', 'Mluijsenaer;', 'Iacob van den Bosch:', 'J', 'H')\t[2.137541662769471e-12, 1.4104857282148942e-09, 1.0, 1.6055189564329267e-20]\t(<RegionType.PARAGRAPH: 'paragraph'>, <RegionType.PHYSICAL_STRUCTURE_DOC: 'physical_structure_doc'>, <RegionType.TEXT_REGION: 'text_region'>, <RegionType.PAGEXML_DOC: 'pagexml_doc'>)\n",
      "BEGIN\tBEGIN\t('Origineele Missive', 'van', 'Hunnes voogdelheden', 'Den Gouverneur Generaal', 'in', 'De Raaden van Indic', '5„', 'Batavia')\t[0.9993651509284973, 1.6523523527212092e-06, 0.0006331996992230415, 5.823310219517136e-16]\t(<RegionType.PARAGRAPH: 'paragraph'>, <RegionType.PHYSICAL_STRUCTURE_DOC: 'physical_structure_doc'>, <RegionType.TEXT_REGION: 'text_region'>, <RegionType.PAGEXML_DOC: 'pagexml_doc'>)\n",
      "IN\tIN\t('Jermassing heeft behoor„', '„lijke satisfactie gegeven', 'wegens de gepleegde hoo„', 'huijde pattin')\t[0.0407579243183136, 0.9570047855377197, 0.002237263834103942, 3.43422122336956e-14]\t(<RegionType.MARGINALIA: 'marginalia'>, <RegionType.PHYSICAL_STRUCTURE_DOC: 'physical_structure_doc'>, <RegionType.TEXT_REGION: 'text_region'>, <RegionType.PAGEXML_DOC: 'pagexml_doc'>)\n",
      "BEGIN\tBEGIN\t\"('Origineele Generale Missive', 'Geschreven door Haar Hoog Edelens den', 'Gouverneur Generaal en de Raden', 'van India te', 'Batavia', 'Aan de Wel Edele Hoog achtbaare Heeren', 'Bewindhebberen', 'Ter vergadering van Seventienen gecom¬', '„mitteerd, representeerende de Generale', \"\"Nederlandsche g'octroijeerde Oost\"\", 'Indische Compagnie ter presidiale', 'kamer')\"\t[1.0, 3.2197935290190216e-11, 1.2173372310186892e-09, 1.0488812501367604e-18]\t(<RegionType.PARAGRAPH: 'paragraph'>, <RegionType.PHYSICAL_STRUCTURE_DOC: 'physical_structure_doc'>, <RegionType.TEXT_REGION: 'text_region'>, <RegionType.PAGEXML_DOC: 'pagexml_doc'>)\n",
      "END\tEND\t('Conid=r', 'Hasselaar:', 'A: Huijsman')\t[9.453795080105465e-09, 0.0004775129782501608, 0.9995224475860596, 1.3259600994467852e-17]\t(<RegionType.PARAGRAPH: 'paragraph'>, <RegionType.PHYSICAL_STRUCTURE_DOC: 'physical_structure_doc'>, <RegionType.TEXT_REGION: 'text_region'>, <RegionType.PAGEXML_DOC: 'pagexml_doc'>)\n",
      "END\tEND\t('Batavia', 'in het Casteel van', 'uwe Wel Edele Hoogdgt', 'den 22e: October', '1771.')\t[4.1645587771199644e-05, 4.00947465095669e-06, 0.999954342842102, 3.0984448666950055e-17]\t(<RegionType.MARGINALIA: 'marginalia'>, <RegionType.PHYSICAL_STRUCTURE_DOC: 'physical_structure_doc'>, <RegionType.TEXT_REGION: 'text_region'>, <RegionType.PAGEXML_DOC: 'pagexml_doc'>)\n",
      "BEGIN\tEND\t\"('noch maer ten uijttersten voor den tijt van vijff maenden', 'sal cunnen strecken, onderentusschen verhoopen noch', 'eenige provisien, cleeden, en ander uijt Banda zullen', 'becomen.', 'Soo hebben ondertusschen gants noodich geacht het wel', \"\"bezeijlde jacht Concordia van hier op 't spoedichste naer\"\", 'de straet Bouton aff te vaerdigen, dat op den 23=en der', 'voorleeden maendt April (soo daeghs te vooren de', 'Griffioen en fluijt Castricum waeren aen gelanckt)', 'versien met onse behoorlijcke instructie, tot haer', 'gouverne, met onsen capitain Paulus Andriesz: der„', \"\"waerts is t' zeyl gegaen, omme soo met de thien\"\", 'kisjes met geberght gelt in passant aen de scheepen', 'de Plu t, de Trouw en Overschie zijn in gescheept', \"\"en naer Batavia vertrocken, neffens d' andere\"\", 'geberchde goederen in te nemen en naer behoorlijcke', 'vermogen gedane assistentie herwaerts te brengen.', 'Godt geve haer reijse voorspoedich derwaerts mogen', \"\"erlangen, als wanneer vertrouwen, door haer in't\"\", 'bergen van de goederen uijt de verongeluckte scheepen', 'seer goede diensten sal werden gedaen, te meer alsoo', 'verstaen, de twee fluijten, die alhoewel vertrouwe', 'voor dato deses bij den E. h:r Gouverneur uijt', \"\"Amboyna naer Batavia affgesonden, voor 't jacht\"\", 'Concordia in de straet Bouton zullen aengelanckt', 'zijn, die vermidts volladen gants weijnich van de', 'geberghde goederen zullen cunnen laeden, daer', 'Concordia leedich en wij ten hoochsten hier in de', 'Moluccus, om de comptanten benoodicht zijn, daer', \"\"van d' effecten nu met verlangen dagelijcx\"\")\"\t[0.7291280031204224, 0.10812120884656906, 0.16275081038475037, 9.890013114022267e-11]\t(<RegionType.PARAGRAPH: 'paragraph'>, <RegionType.PHYSICAL_STRUCTURE_DOC: 'physical_structure_doc'>, <RegionType.TEXT_REGION: 'text_region'>, <RegionType.PAGEXML_DOC: 'pagexml_doc'>)\n",
      "BEGIN\tBEGIN\t('Wel Edele Hoog Agtbare, Wijze, Voorzienige', 'en Zeer Genereuse Heeren!')\t[0.9706886410713196, 0.0024143322370946407, 0.026897091418504715, 1.6370346918315182e-12]\t(<RegionType.PARAGRAPH: 'paragraph'>, <RegionType.PHYSICAL_STRUCTURE_DOC: 'physical_structure_doc'>, <RegionType.TEXT_REGION: 'text_region'>, <RegionType.PAGEXML_DOC: 'pagexml_doc'>)\n",
      "BEGIN\tBEGIN\t('Aan de Edele Hoog Agtbaare Heeren', 'Bewindhebberen Ter vergadering', 'van de seventhienen Gecommitteerd', 'Representerende de Generale Geoctroijeerde', 'Oost Indische Compagnie der verEenigde', 'Nederlanden Ter Praesidiale kamer')\t[0.9992976188659668, 7.60942384658847e-06, 0.0006946896319277585, 4.847595391641252e-15]\t(<RegionType.PARAGRAPH: 'paragraph'>, <RegionType.PHYSICAL_STRUCTURE_DOC: 'physical_structure_doc'>, <RegionType.TEXT_REGION: 'text_region'>, <RegionType.PAGEXML_DOC: 'pagexml_doc'>)\n",
      "IN\tIN\t('lingen als den text', 'aanrijst.')\t[0.0022731157951056957, 0.9956839084625244, 0.0020430220756679773, 1.6060162097777941e-12]\t(<RegionType.MARGINALIA: 'marginalia'>, <RegionType.PHYSICAL_STRUCTURE_DOC: 'physical_structure_doc'>, <RegionType.TEXT_REGION: 'text_region'>, <RegionType.PAGEXML_DOC: 'pagexml_doc'>)\n",
      "IN\tBEGIN\t('Septemb. 1665', 'Ontfangen over Engelant')\t[0.0006280236411839724, 0.9991104006767273, 0.0002616115380078554, 5.617531315333171e-14]\t(<RegionType.MARGINALIA: 'marginalia'>, <RegionType.PHYSICAL_STRUCTURE_DOC: 'physical_structure_doc'>, <RegionType.TEXT_REGION: 'text_region'>, <RegionType.PAGEXML_DOC: 'pagexml_doc'>)\n",
      "IN\tIN\t('geen naderen verkoop inde Eliphan',)\t[0.0015108418883755803, 0.9974226951599121, 0.0010664884466677904, 1.8260580547657668e-11]\t(<RegionType.MARGINALIA: 'marginalia'>, <RegionType.PHYSICAL_STRUCTURE_DOC: 'physical_structure_doc'>, <RegionType.TEXT_REGION: 'text_region'>, <RegionType.PAGEXML_DOC: 'pagexml_doc'>)\n",
      "IN\tIN\t('her onbevoegt gedoentn den', 'pattenase bediendens', 'bestraft.')\t[1.3985151578466137e-11, 1.0, 2.2837406878778443e-12, 5.537704850355558e-19]\t(<RegionType.MARGINALIA: 'marginalia'>, <RegionType.PHYSICAL_STRUCTURE_DOC: 'physical_structure_doc'>, <RegionType.TEXT_REGION: 'text_region'>, <RegionType.PAGEXML_DOC: 'pagexml_doc'>)\n",
      "BEGIN\tBEGIN\t('Met de gemaakte preparatien tot het in', 'gereedheid brengen van eenige scheepen om', 'in dit Iaar te repatrieeren tans zo verre', 'gevorderd zynde dat wy in onderstelling van den', 'erlangde tyding eener gewenschte vreede spol', 'dig te zullen ontvangen op heeden hebben aangelegd')\t[0.9996699094772339, 0.0003005682083312422, 2.9607612304971553e-05, 4.250825697839876e-14]\t(<RegionType.PARAGRAPH: 'paragraph'>, <RegionType.PHYSICAL_STRUCTURE_DOC: 'physical_structure_doc'>, <RegionType.TEXT_REGION: 'text_region'>, <RegionType.PAGEXML_DOC: 'pagexml_doc'>)\n",
      "END\tEND\t('Diderik Durven', 'Homd=s Hasselaar=', 'Hendrik van Baerle', 'WW: Hlom', 'Wille an Schoolen', 'H:1:', 'Js P: van der Schuer.')\t[1.3941388488092343e-06, 5.343362772691762e-06, 0.9999932050704956, 3.7276017493252886e-17]\t(<RegionType.PARAGRAPH: 'paragraph'>, <RegionType.PHYSICAL_STRUCTURE_DOC: 'physical_structure_doc'>, <RegionType.TEXT_REGION: 'text_region'>, <RegionType.PAGEXML_DOC: 'pagexml_doc'>)\n",
      "END\tEND\t('P: G: van Overstaaten.', 'JW Lelgerart')\t[7.171960169216618e-05, 0.03790825605392456, 0.9620200395584106, 5.089680413239428e-12]\t(<RegionType.PARAGRAPH: 'paragraph'>, <RegionType.PHYSICAL_STRUCTURE_DOC: 'physical_structure_doc'>, <RegionType.TEXT_REGION: 'text_region'>, <RegionType.PAGEXML_DOC: 'pagexml_doc'>)\n",
      "BEGIN\tBEGIN\t('Bewindhebberen', 'Ter Vergadering van XVII. Gecom„', '„mitteerd, de Generaale Nederlandsche', 'Geoctroijeerde Oost Indische', 'Compagnie representeeren„', '„de ter Presidiale', 'Kamer', 'Amsterdam')\t[0.9995658993721008, 0.00042427267180755734, 9.7286529125995e-06, 1.5049415977731045e-13]\t(<RegionType.PARAGRAPH: 'paragraph'>, <RegionType.PHYSICAL_STRUCTURE_DOC: 'physical_structure_doc'>, <RegionType.TEXT_REGION: 'text_region'>, <RegionType.PAGEXML_DOC: 'pagexml_doc'>)\n",
      "BEGIN\tBEGIN\t('van de Retourvloot', 'het schip')\t[0.9654198884963989, 0.03457881510257721, 1.3206700941736926e-06, 4.780742892762733e-16]\t(<RegionType.MARGINALIA: 'marginalia'>, <RegionType.PHYSICAL_STRUCTURE_DOC: 'physical_structure_doc'>, <RegionType.TEXT_REGION: 'text_region'>, <RegionType.PAGEXML_DOC: 'pagexml_doc'>)\n",
      "IN\tEND\t('een dadelijke desobedientie, en in allen', 'gevalle, niets minder includeert, dan', 'een opzettelijke transgressie der voorwaards bij', 'gebragte orders van uwe WelEd: Hoog Agtb,', 'mitsgaders een Concludent bewijs tevens, dat nog', 'de magt en het vermogen, waar meede mij tot', 'hier toe begiftigd zijn, nog de so dikmaals her„', 'haalde orders van uwe welEd: Hoog Agtb:', 'op dat Collegie die ingressie en uitwerking', 'hebben, die en nogtans noodsakelyk weezen moeste', 'en zonder welke mij volmondig declareeren: dat', 'de handlaving der wetten, en het doen administreer', 'van regt en Iustitie, ons zo hoog en duur aan„', 'bevolen, volstrekt buijten en boven ons vermo„', 'gen is, en dat mij dus of dien voet en sonder', 'onverwijld redres, niet in staat zyn, de', 'hoofdpligten onser bestemming, na hed en ge„', 'houdenisse, te vervullen.')\t[0.00020839607168454677, 0.9468625783920288, 0.052929025143384933, 2.0677674850144712e-11]\t(<RegionType.PARAGRAPH: 'paragraph'>, <RegionType.PHYSICAL_STRUCTURE_DOC: 'physical_structure_doc'>, <RegionType.TEXT_REGION: 'text_region'>, <RegionType.PAGEXML_DOC: 'pagexml_doc'>)\n",
      "END\tBEGIN\t('Edele Hoog', 'el', 'Agtb: Wijse voorsie„', '„nige, en seer Genereu„', 'se Heeren.')\t[0.3519129753112793, 6.241812400276103e-08, 0.6480870246887207, 2.1126663583164763e-14]\t(<RegionType.PARAGRAPH: 'paragraph'>, <RegionType.PHYSICAL_STRUCTURE_DOC: 'physical_structure_doc'>, <RegionType.TEXT_REGION: 'text_region'>, <RegionType.PAGEXML_DOC: 'pagexml_doc'>)\n",
      "BEGIN\tBEGIN\t('Voorsienige, seer Discrete Heeren.',)\t[0.9999897480010986, 1.022418109641876e-05, 3.815248117433612e-11, 2.6538929315966904e-19]\t(<RegionType.PARAGRAPH: 'paragraph'>, <RegionType.PHYSICAL_STRUCTURE_DOC: 'physical_structure_doc'>, <RegionType.TEXT_REGION: 'text_region'>, <RegionType.PAGEXML_DOC: 'pagexml_doc'>)\n",
      "IN\tIN\t('engelse vaert aldaer', '„gaders')\t[0.0006165920058265328, 0.9960407018661499, 0.003342720912769437, 3.0458767452667956e-11]\t(<RegionType.MARGINALIA: 'marginalia'>, <RegionType.PHYSICAL_STRUCTURE_DOC: 'physical_structure_doc'>, <RegionType.TEXT_REGION: 'text_region'>, <RegionType.PAGEXML_DOC: 'pagexml_doc'>)\n",
      "BEGIN\tBEGIN\t('Edele: Erntfeste Hoog agtbare', 'Manhafte wijse, voorsieni¬', '„ge seer genereuse heeren.')\t[0.9999843835830688, 2.177031888095371e-09, 1.5608213288942352e-05, 1.0670414834974793e-18]\t(<RegionType.PARAGRAPH: 'paragraph'>, <RegionType.PHYSICAL_STRUCTURE_DOC: 'physical_structure_doc'>, <RegionType.TEXT_REGION: 'text_region'>, <RegionType.PAGEXML_DOC: 'pagexml_doc'>)\n",
      "IN\tIN\t('den Iongst gedanen Eijsch van 61 stx', 'diverse Lakenen voor batavia met', 'nog 100 â 120 stx: vergroot onder')\t[0.00022239699319470674, 0.9997422099113464, 3.5381774068810046e-05, 5.215560903488623e-16]\t(<RegionType.MARGINALIA: 'marginalia'>, <RegionType.PHYSICAL_STRUCTURE_DOC: 'physical_structure_doc'>, <RegionType.TEXT_REGION: 'text_region'>, <RegionType.PAGEXML_DOC: 'pagexml_doc'>)\n",
      "BEGIN\tBEGIN\t('Het ter overbreng van den Caabschen Eijsch, na', 'dien uithoek gedestineerde Sluit-schip de Hoop', 'tans vertrekkende, senden wij daar meede deezen', 'af, om uwe wel Edele Hoog Agtb: eerbiediglijk', 'te preadverteeren van den door ons op den 21 Novem„', '„ber passato beslooten aanleg na Nederland van de', 'kort bevoorens van Ceilon hier gearriveerde gewapende', 'scheepen', 'De Ganges,')\t[0.9996852874755859, 7.312680827453732e-05, 0.00024151636171154678, 3.0082605938214603e-15]\t(<RegionType.PARAGRAPH: 'paragraph'>, <RegionType.PHYSICAL_STRUCTURE_DOC: 'physical_structure_doc'>, <RegionType.TEXT_REGION: 'text_region'>, <RegionType.PAGEXML_DOC: 'pagexml_doc'>)\n",
      "BEGIN\tBEGIN\t('Aan de WelEdele Hoog Agtbare Heeren', 'Bewindhebberen', 'Ter vergadering van XVs1 gecommit„', '„teerd de Generale Nederland„', '„sche Geoctroijeerde oost In„', '„dische Compagnie', 'representeerende', 'ter Prosedia„', '„lekamer.')\t[0.9998351335525513, 1.985111339308787e-05, 0.00014492620539385825, 1.3224918528993365e-14]\t(<RegionType.PARAGRAPH: 'paragraph'>, <RegionType.PHYSICAL_STRUCTURE_DOC: 'physical_structure_doc'>, <RegionType.TEXT_REGION: 'text_region'>, <RegionType.PAGEXML_DOC: 'pagexml_doc'>)\n",
      "END\tEND\t('Joan Maetsuyker', 'N.', 'Verburch', 'No.', 'Laurens Pit', 'P. A. Overtwater', 'Pieter van Hoorn')\t[3.09808640963638e-08, 7.352497721768714e-09, 1.0, 5.188143803562206e-18]\t(<RegionType.PARAGRAPH: 'paragraph'>, <RegionType.PHYSICAL_STRUCTURE_DOC: 'physical_structure_doc'>, <RegionType.TEXT_REGION: 'text_region'>, <RegionType.PAGEXML_DOC: 'pagexml_doc'>)\n",
      "END\tEND\t\"(\"\"Batavia in 't casteel\"\", 'van uwelEd. Hoog Agtb:', \"\"den 31:' december\"\")\"\t[1.11569715954829e-06, 1.028962939159106e-12, 0.999998927116394, 4.22356187381922e-18]\t(<RegionType.MARGINALIA: 'marginalia'>, <RegionType.PHYSICAL_STRUCTURE_DOC: 'physical_structure_doc'>, <RegionType.TEXT_REGION: 'text_region'>, <RegionType.PAGEXML_DOC: 'pagexml_doc'>)\n",
      "END\tEND\t('Carel Rener', 'Leeds', 'v', 'Bedute Cum', 'Gerard Demmer')\t[6.700822723360034e-07, 3.18353727379872e-06, 0.9999960660934448, 1.2546135137736503e-11]\t(<RegionType.PARAGRAPH: 'paragraph'>, <RegionType.PHYSICAL_STRUCTURE_DOC: 'physical_structure_doc'>, <RegionType.TEXT_REGION: 'text_region'>, <RegionType.PAGEXML_DOC: 'pagexml_doc'>)\n",
      "IN\tIN\t('Uwe Wel Ed=e Hoog Agtb: daarop te dienen; van',)\t[0.01328722108155489, 0.9867103695869446, 2.440082198518212e-06, 1.2097171027964228e-16]\t(<RegionType.PHYSICAL_STRUCTURE_DOC: 'physical_structure_doc'>, <RegionType.TEXT_REGION: 'text_region'>, <RegionType.PAGEXML_DOC: 'pagexml_doc'>, <RegionType.HEADER: 'header'>)\n",
      "END\tBEGIN\t('P„r het Engels scheepje', 'orangie over banca oulo')\t[0.36158138513565063, 0.003357970854267478, 0.6350606083869934, 4.1057174343271316e-14]\t(<RegionType.PARAGRAPH: 'paragraph'>, <RegionType.PHYSICAL_STRUCTURE_DOC: 'physical_structure_doc'>, <RegionType.TEXT_REGION: 'text_region'>, <RegionType.PAGEXML_DOC: 'pagexml_doc'>)\n",
      "END\tBEGIN\t\"(\"\"Aan d' Edele Hoog Agtb: Heeren\"\", 'Bewindhebberen ter Vergadering', 'van de seventhiene gecommitteerd', 'Representeerende de generale', 'VerEenigde Nederlandse', 'geoctroijeerde oost indische', 'Comp: ter presidiale kamer')\"\t[0.02603459730744362, 0.006566987838596106, 0.967398464679718, 4.011482118704279e-12]\t(<RegionType.PARAGRAPH: 'paragraph'>, <RegionType.PHYSICAL_STRUCTURE_DOC: 'physical_structure_doc'>, <RegionType.TEXT_REGION: 'text_region'>, <RegionType.PAGEXML_DOC: 'pagexml_doc'>)\n",
      "IN\tIN\t('secretaris van keenraden',)\t[0.006390834227204323, 0.9928222298622131, 0.0007868997636251152, 5.581331752969659e-15]\t(<RegionType.MARGINALIA: 'marginalia'>, <RegionType.PHYSICAL_STRUCTURE_DOC: 'physical_structure_doc'>, <RegionType.TEXT_REGION: 'text_region'>, <RegionType.PAGEXML_DOC: 'pagexml_doc'>)\n",
      "IN\tIN\t('dog geapprobeert de', 'ordre tot een tijdiger', 'uijt pattena na duglij„')\t[6.327632479293465e-20, 1.0, 1.6146583328493573e-20, 1.6762218796665555e-26]\t(<RegionType.MARGINALIA: 'marginalia'>, <RegionType.PHYSICAL_STRUCTURE_DOC: 'physical_structure_doc'>, <RegionType.TEXT_REGION: 'text_region'>, <RegionType.PAGEXML_DOC: 'pagexml_doc'>)\n",
      "BEGIN\tEND\t('P:r de na schepen de spiegel, en', 'thuijs te duijnen')\t[0.9940365552902222, 0.004648223984986544, 0.001315177883952856, 4.823078785312629e-14]\t(<RegionType.MARGINALIA: 'marginalia'>, <RegionType.PHYSICAL_STRUCTURE_DOC: 'physical_structure_doc'>, <RegionType.TEXT_REGION: 'text_region'>, <RegionType.PAGEXML_DOC: 'pagexml_doc'>)\n",
      "END\tBEGIN\t('Edele Erntfeste, welwijse', 'voorsienige, seer discrete Heeren,', 'ƒ')\t[7.447705866070464e-05, 4.3629029295456155e-17, 0.9999254941940308, 2.390700697352387e-17]\t(<RegionType.PARAGRAPH: 'paragraph'>, <RegionType.PHYSICAL_STRUCTURE_DOC: 'physical_structure_doc'>, <RegionType.TEXT_REGION: 'text_region'>, <RegionType.PAGEXML_DOC: 'pagexml_doc'>)\n",
      "IN\tIN\t('Gemelt Coningje van Limboeno', 'was bij de ministers gekomen, en')\t[2.4331982331204927e-06, 0.9999903440475464, 7.253174317156663e-06, 4.02402165713587e-16]\t(<RegionType.PARAGRAPH: 'paragraph'>, <RegionType.PHYSICAL_STRUCTURE_DOC: 'physical_structure_doc'>, <RegionType.TEXT_REGION: 'text_region'>, <RegionType.PAGEXML_DOC: 'pagexml_doc'>)\n",
      "END\tEND\t\"(\"\"Joan Corn:d'HAbling;\"\",)\"\t[0.14051172137260437, 0.02372678741812706, 0.8357614874839783, 3.7441033606810947e-10]\t(<RegionType.PHYSICAL_STRUCTURE_DOC: 'physical_structure_doc'>, <RegionType.TEXT_REGION: 'text_region'>, <RegionType.PAGEXML_DOC: 'pagexml_doc'>, <RegionType.HEADER: 'header'>)\n",
      "END\tBEGIN\t\"('T zeedert heeft ons onsen Resident tot Bantam bij zijne missijve', 'van dato den 27en Jannuarij 1633: Geadvijseert, dat den Engelschen', 'president M=r hoar van meeninge was. Eerstdaeghs naer Engelan', 'te vertrecken met het Schip den GuilJam, dat van Jambij met', 'peper Is Gelaeden Gecoomen, de Spiedwel In Indien blijvende', 'Om dat Jambij soo weijnich peeper vuijtgelevert heeft, waer', 'over wij niet hebben connen naerlaeten, bij deese Gelegentheijt', \"\"aen U. E. te advijseeren, T' Gene t' zeedert t' vertreck onser gemelter\"\", 'Scheepen, alhier Is Gepasseert, niet tegenstaende wij voornemens', 'zijn, Soo wanneer maer weegen den Stant, van VE: affairen', 'In Jappan eenich advijs becoomen. UE: noch vollaeden toe te', 'Zenden, het Schip leeuwaerden, dat wij door Gebreck van', 'Omtrent 80: a 100. lasten peper, die tot Supplement van zijn', 'volcoomen ladinge, noch coomen te mancqueren, tot ons Groot', 'leetweesen, tot op dato Opgehouden, ende zonder Importante', 'Redenen niet hebben durven vE: buijtens tijts, ende wanlaeden', 'toesenden. veroorsaeckende Jambijs soobere vuijtleeveringe, dat', 'Brouwershaven Int landt moeten houden.', 'Van Jambij Is ons den 20=en December wel toegecoomen, het', 'Jacht Maccauw, medebrengende 1591: picol 90: Cattij peper', 'Costende als Pr. factuijre de Somme van ƒ 25647:5:')\"\t[0.3911624550819397, 0.02869531512260437, 0.5801421999931335, 1.235022067253011e-12]\t(<RegionType.PARAGRAPH: 'paragraph'>, <RegionType.PHYSICAL_STRUCTURE_DOC: 'physical_structure_doc'>, <RegionType.TEXT_REGION: 'text_region'>, <RegionType.PAGEXML_DOC: 'pagexml_doc'>)\n",
      "IN\tIN\t('te stellen omde mochase wissels op zijn tijd te', 'voldoen off wel deswegen de nodige schic„', '„kingen temaeken tot voorkoming van', 'sodanigen opschudding, als deselve laast', 'veroorsaekt hebben, nadien het montan„', 'van dien het aanstaande Jaer door dit', 'inconvenient notoir tot veel grooter', 'somma soude vermeerderen dan die in', 'voorgaande Jaaren geweest waren.', 'onderwijlen consteerd nog uijt de voormelte Jong', '„ste advijsen dat de nodige besorging en', 'repartitie van den Eijsch haer het voor„', '„gaande Jaar toegesonden tot de aanbeste„', '„ding en incoop der Retouren was geschiejn', 'Jtem bij den overgaanden beandwoorden', 'Eijsch welke soorten van goederen nu op')\t[7.63003260573214e-09, 0.9999998807907104, 1.0427570629190086e-07, 3.450851529442772e-14]\t(<RegionType.PARAGRAPH: 'paragraph'>, <RegionType.PHYSICAL_STRUCTURE_DOC: 'physical_structure_doc'>, <RegionType.TEXT_REGION: 'text_region'>, <RegionType.PAGEXML_DOC: 'pagexml_doc'>)\n",
      "IN\tBEGIN\t('berigt wegens de J=o vertrockene',)\t[0.008882209658622742, 0.9910963773727417, 2.1430543711176142e-05, 4.876760887478904e-13]\t(<RegionType.MARGINALIA: 'marginalia'>, <RegionType.PHYSICAL_STRUCTURE_DOC: 'physical_structure_doc'>, <RegionType.TEXT_REGION: 'text_region'>, <RegionType.PAGEXML_DOC: 'pagexml_doc'>)\n",
      "BEGIN\tBEGIN\t('Aan de Wel Edele Hoog agtbare Heeren!', 'Bewindhebberen.')\t[0.9551026225090027, 0.0004918392514809966, 0.044405486434698105, 4.5878120746856155e-11]\t(<RegionType.PARAGRAPH: 'paragraph'>, <RegionType.PHYSICAL_STRUCTURE_DOC: 'physical_structure_doc'>, <RegionType.TEXT_REGION: 'text_region'>, <RegionType.PAGEXML_DOC: 'pagexml_doc'>)\n",
      "BEGIN\tIN\t('gesonden r:s 15000: Contant.',)\t[0.908094584941864, 0.08359319716691971, 0.00831223651766777, 3.8853780761315126e-14]\t(<RegionType.MARGINALIA: 'marginalia'>, <RegionType.PHYSICAL_STRUCTURE_DOC: 'physical_structure_doc'>, <RegionType.TEXT_REGION: 'text_region'>, <RegionType.PAGEXML_DOC: 'pagexml_doc'>)\n",
      "IN\tBEGIN\t('Origineeli', 'Generale Missive Geschreven', 'door Haar Edelens den', 'Gouverneur Generaal', 'en de Raden van', 'India', 'tot', 'Batavia')\t[0.039039406925439835, 0.5447708964347839, 0.41618970036506653, 1.5025548156288372e-15]\t(<RegionType.PARAGRAPH: 'paragraph'>, <RegionType.PHYSICAL_STRUCTURE_DOC: 'physical_structure_doc'>, <RegionType.TEXT_REGION: 'text_region'>, <RegionType.PAGEXML_DOC: 'pagexml_doc'>)\n",
      "IN\tIN\t('anbreng van sourats', 'attoen dat jaar', 'tragt, Item zo daer')\t[0.014828487299382687, 0.7439572811126709, 0.24121423065662384, 1.0784042062117472e-11]\t(<RegionType.MARGINALIA: 'marginalia'>, <RegionType.PHYSICAL_STRUCTURE_DOC: 'physical_structure_doc'>, <RegionType.TEXT_REGION: 'text_region'>, <RegionType.PAGEXML_DOC: 'pagexml_doc'>)\n",
      "BEGIN\tBEGIN\t('Middelburg in Zeeland.',)\t[0.92950838804245, 0.06899228692054749, 0.0014993578661233187, 8.162946707468421e-11]\t(<RegionType.PARAGRAPH: 'paragraph'>, <RegionType.PHYSICAL_STRUCTURE_DOC: 'physical_structure_doc'>, <RegionType.TEXT_REGION: 'text_region'>, <RegionType.PAGEXML_DOC: 'pagexml_doc'>)\n",
      "END\tEND\t('de Raden van Jndie', 'W: A Alsing', 'Den Gouverneur Generaal en', 'J: : Bockum', ':')\t[0.2198796421289444, 4.2991843656636775e-05, 0.7800774574279785, 3.5995210718314796e-12]\t(<RegionType.PARAGRAPH: 'paragraph'>, <RegionType.PHYSICAL_STRUCTURE_DOC: 'physical_structure_doc'>, <RegionType.TEXT_REGION: 'text_region'>, <RegionType.PAGEXML_DOC: 'pagexml_doc'>)\n",
      "BEGIN\tBEGIN\t('Ed=e Eo: achtb: wijse, voor', 'sienige, seer Genereuse', 'Heeren.')\t[0.999832034111023, 6.378612852131482e-06, 0.00016151348245330155, 7.27682510975262e-16]\t(<RegionType.PARAGRAPH: 'paragraph'>, <RegionType.PHYSICAL_STRUCTURE_DOC: 'physical_structure_doc'>, <RegionType.TEXT_REGION: 'text_region'>, <RegionType.PAGEXML_DOC: 'pagexml_doc'>)\n",
      "IN\tEND\t('Batavia', 'Jn het kasteel van', 'uw wel Edele Hoog Agtb:', 'Den 31. December 1770.')\t[0.0007382379262708127, 0.7466001510620117, 0.25266164541244507, 5.430994204502098e-16]\t(<RegionType.PARAGRAPH: 'paragraph'>, <RegionType.PHYSICAL_STRUCTURE_DOC: 'physical_structure_doc'>, <RegionType.TEXT_REGION: 'text_region'>, <RegionType.PAGEXML_DOC: 'pagexml_doc'>)\n",
      "IN\tEND\t('ter /als boedratten. „',)\t[0.003080383175984025, 0.9923171997070312, 0.0046024383045732975, 1.0477245292054085e-14]\t(<RegionType.PHYSICAL_STRUCTURE_DOC: 'physical_structure_doc'>, <RegionType.TEXT_REGION: 'text_region'>, <RegionType.PAGEXML_DOC: 'pagexml_doc'>)\n",
      "IN\tIN\t('graffiner ketels dot sjoppra', 'terooft, sijn gerestitueert', 'testerkje tot den handel van', 'erente ragia dhierza voor den —', 'de schenkje van ƒ253. 8.')\t[6.18451565514988e-07, 0.9999936819076538, 5.676018190570176e-06, 8.107521438432345e-18]\t(<RegionType.MARGINALIA: 'marginalia'>, <RegionType.PHYSICAL_STRUCTURE_DOC: 'physical_structure_doc'>, <RegionType.TEXT_REGION: 'text_region'>, <RegionType.PAGEXML_DOC: 'pagexml_doc'>)\n",
      "BEGIN\tBEGIN\t('Wel Edele Hoog Agtb„re', 'wijse voorsienige, en', 'Seer Genereuse Heeren.')\t[0.9929125905036926, 2.3081113909029227e-07, 0.007087199483066797, 7.216005137172798e-14]\t(<RegionType.PARAGRAPH: 'paragraph'>, <RegionType.PHYSICAL_STRUCTURE_DOC: 'physical_structure_doc'>, <RegionType.TEXT_REGION: 'text_region'>, <RegionType.PAGEXML_DOC: 'pagexml_doc'>)\n",
      "IN\tBEGIN\t('Niet sonder weersin vatten wij tans', 'weder de penne op om, ten vervolge', 'onder reverente van den 22. Augustus')\t[0.0006977377342991531, 0.9987253546714783, 0.0005768409464508295, 4.6419688528026305e-17]\t(<RegionType.PARAGRAPH: 'paragraph'>, <RegionType.PHYSICAL_STRUCTURE_DOC: 'physical_structure_doc'>, <RegionType.TEXT_REGION: 'text_region'>, <RegionType.PAGEXML_DOC: 'pagexml_doc'>)\n",
      "IN\tIN\t\"('„ schenen te Bevestigen ook niet veel', 'spaans gelet door denselven kan gesloken', 'wesen, ondertusschen laten wij ons wel', \"\"gevallen; dat 'er voor Comps geregligheyt\"\", '„nog 118 7/8: Rx=s bij wegen van accoort', 'door hem waren voldaan, niet tenina', '„meriteert de geseijde specificatie al', '„zonderlinge opmerckinge ten aensien', '„ daar bij consteren vijff posten', '„ van bodemarij tesamen ten bedrage van', '4565 Rd„s alle toebehoorende malaxse', '„ Ingesetenen, 2700 R=a die hij voor het', '„', '„ verkogte hoecker op Ceijlonschuldigh was,', '„ en waar vanden malaxsen borger han', '„beeck de Commissie hadde, Item 1500 Rx', '„ voor de Chialoup de krop gans, met zijn', '„ Rotting ladinge vanden burger Christiaen', '„ aarts gekogt, in welcke laeste wij')\"\t[1.2939617022311722e-07, 0.9999731779098511, 2.6706447897595353e-05, 1.7061861905948161e-13]\t(<RegionType.PARAGRAPH: 'paragraph'>, <RegionType.PHYSICAL_STRUCTURE_DOC: 'physical_structure_doc'>, <RegionType.TEXT_REGION: 'text_region'>, <RegionType.PAGEXML_DOC: 'pagexml_doc'>)\n",
      "IN\tIN\t\"('Batavia/ds us: o: egt: ben on asgende Indias tmutbe', 'zal te vooren komen', 'van de hebben nog oe genden uw ho: Ed:s bij den', 'bekent te maaken dat de gerepatineerden Heere', 'Gouverneur Generaal Joan van Hoorn', \"\"'t onser vergadering op 16„e Iulij deses vaars) ust\"\", 'overgegeven een Christuur vervaltende welgem: zijn', 'Ed:s consideraten over den meer en Maer toene„', '„mende vooraad der Nagulen, welk Eehristur uEd:', 'hoog agtb: vinden sullen intireer, ter generale', 'resolutien van den 16„e Iulij voormelt, Zijnde dat', 'gedelte van ons desolutie boek reets met de vooraf', 'vertrecke schapen aan u Ed:l ho: agtb: voors gesonden')\"\t[2.1903049855609424e-05, 0.997593104839325, 0.0023849434219300747, 7.586401125359021e-14]\t(<RegionType.PARAGRAPH: 'paragraph'>, <RegionType.PHYSICAL_STRUCTURE_DOC: 'physical_structure_doc'>, <RegionType.TEXT_REGION: 'text_region'>, <RegionType.PAGEXML_DOC: 'pagexml_doc'>)\n",
      "END\tBEGIN\t\"(\"\"Nae, dat t' Schip vianen tot bevoirderinge van sijn geIntendeerde\"\", \"\"reijse naer t'vaderslandt, den 6en deser van hier vertrocken, en omtrent\"\", \"\"Pulo painiang voor Bantam gecomen was Is t'selue van een\"\", 'Stravade beloopen, ende daer bij soo ranck bevonden geworden, dat', \"\"d'ouerhooffden vandien niet raedsaem oordeelden, hun daer mede t'zee te\"\", 'begeuen, maer gesamentlijck verstonden naer Battavia te keeren,', \"\"om t'selue met meerder last van cooper te stijuen. Welcken volgende\"\", \"\"Wij Dadelijck op sijn wedercompste, de saecke in consideratie van d'oudtste\"\", 'ende gequalificeerste Schippers hier ter Reede geleijdt hebben, welcke', 'met eenparige stemmen goet vonden, datmen tot stijninge vant schip', 'daer Inne noch 40. lasten cooper laden soude. Doch alsoo gemelte', 'Ouerhooffden verstonden, dat met geseijde quantité den oirboor', \"\"vant' Schip niet conde verschaft werden, hebben andermael daerouer\"\", \"\"t'aduijs van voorsz Schippers gevoirdert, welcke eenstemmich verstonden\"\", 'geensints geraden te wesen meerder quantite cooper op een plaetse', 'te hoopen, ende dat het sonder groot tijt verlies, niet doenl soude', \"\"sijn t'Schip t'eenemael t'ontlossen, omme de geeijschte Quantité cooper\"\", \"\"ouer t'geheele Lichaem van dien, naer behooren te distribueren\"\", 'ende verdeelen; In voegen dat wij met aduis als vooren, goedt', \"\"gevonden hebben t' Schip vianen met stijuinge van 40. lasten cooper\"\", \"\"andermael naer t' Vaderslandt te depescheren; Godt Almachtich\"\", \"\"gelieue UEd: t'selue ter bequamer tijt in saluo toe te laten comen.\"\", 'Wat veranderinge Int ouergaende cargasoen met gemelte Schip', 'geschiedt sij, sullen VEd: p. r neffens gaende facture sien connen.', \"\"Osedert t'eijndigen van onse neffens gaende, is hier t'Schip Edam\"\", \"\"van Firando ende Siam wel aengecomen; Voor de Coopman vant' Jacht\"\", 'de Cleene Hoope was ons geseijdt, dat van Firando voor Teijonhan', 'daerinne gescheept was veertich Duijsent Realen van 8en swaerte in', 'Japons siluer, Noch hebben nu verstaen datter niet meer dan 22 O', 'Realen in geweest sijn.')\"\t[0.2143600881099701, 0.06612586230039597, 0.7195140719413757, 3.1064442684858307e-11]\t(<RegionType.PARAGRAPH: 'paragraph'>, <RegionType.PHYSICAL_STRUCTURE_DOC: 'physical_structure_doc'>, <RegionType.TEXT_REGION: 'text_region'>, <RegionType.PAGEXML_DOC: 'pagexml_doc'>)\n",
      "END\tIN\t('toe bedoregender versonde gschenken',)\t[0.005031342152506113, 0.0008088077884167433, 0.9941598176956177, 8.560100565391856e-15]\t(<RegionType.MARGINALIA: 'marginalia'>, <RegionType.PHYSICAL_STRUCTURE_DOC: 'physical_structure_doc'>, <RegionType.TEXT_REGION: 'text_region'>, <RegionType.PAGEXML_DOC: 'pagexml_doc'>)\n",
      "BEGIN\tEND\t('en betuijging dat wij sijn', 'Edele Hoog agtbare Heeren', 'uEd: hoog agtbare Onderdanige', 'en getrouwe Dienaren', 'Den Gouverneur Generaal en de Raden', 'van India:', 'E')\t[0.5265566110610962, 1.1440153002695297e-06, 0.4734422266483307, 5.419530672352195e-15]\t(<RegionType.PARAGRAPH: 'paragraph'>, <RegionType.PHYSICAL_STRUCTURE_DOC: 'physical_structure_doc'>, <RegionType.TEXT_REGION: 'text_region'>, <RegionType.PAGEXML_DOC: 'pagexml_doc'>)\n",
      "END\tEND\t('en betuijgen dat wij zijn.', 'Edele Hoog agtbare heeren', 'UEd=le hoog agtb=re onderdanige', 'getrouwe Dienaren', 'Den gouverneur Generaal', 'en de Raden van India', 'J:W: Canor', 'E')\t[3.3690724876578315e-08, 3.871385417103523e-12, 1.0, 1.780216134920539e-18]\t(<RegionType.PARAGRAPH: 'paragraph'>, <RegionType.PHYSICAL_STRUCTURE_DOC: 'physical_structure_doc'>, <RegionType.TEXT_REGION: 'text_region'>, <RegionType.PAGEXML_DOC: 'pagexml_doc'>)\n",
      "END\tEND\t\"('Monteert het gescheepte in vorenstr', \"\"10. schepen naer 't patria gesonden ƒ 2553833„7„9\"\", 'Hier mede', 'Edele hoogachtbare wijse voorsienige seer genereuse h. r', 'willen u. Ed. e na onse eerbiedige groetenisse, inde genadige', 'bescherminge Godes almachtich bevelen, die u. Ed.e Regeringe', 'ende desleijnen meer en meer gelieve te segenen, tot verbreijdinge', 'van sijnen H: naem, welvaren ende reputatie onses lieven', 'vaderlants, ende voordeel der gemene participanten. amen.', 'u. Ed. e eer en trouwschuldige dien:', 'den Gouverneur Generael', 'en Raden van Jndia.')\"\t[3.435974421650556e-11, 1.0459489569038059e-17, 1.0, 1.3518601377220709e-18]\t(<RegionType.PARAGRAPH: 'paragraph'>, <RegionType.PHYSICAL_STRUCTURE_DOC: 'physical_structure_doc'>, <RegionType.TEXT_REGION: 'text_region'>, <RegionType.PAGEXML_DOC: 'pagexml_doc'>)\n",
      "IN\tBEGIN\t('doch tot bantam noch all', 'eenige wijll opgehouden')\t[0.0002654936979524791, 0.9996793270111084, 5.523680374608375e-05, 5.8560461371043836e-15]\t(<RegionType.MARGINALIA: 'marginalia'>, <RegionType.PHYSICAL_STRUCTURE_DOC: 'physical_structure_doc'>, <RegionType.TEXT_REGION: 'text_region'>, <RegionType.PAGEXML_DOC: 'pagexml_doc'>)\n",
      "END\tBEGIN\t('Wel Edele, Hoog Agtbaare', 'wijse, voorzienige en zeer', 'Genereuse Heeren,')\t[1.730192522586549e-08, 2.647920216425348e-10, 1.0, 1.9262272491974005e-15]\t(<RegionType.PARAGRAPH: 'paragraph'>, <RegionType.PHYSICAL_STRUCTURE_DOC: 'physical_structure_doc'>, <RegionType.TEXT_REGION: 'text_region'>, <RegionType.PAGEXML_DOC: 'pagexml_doc'>)\n",
      "IN\tBEGIN\t('Den inhoud van Uw Edele Hoog=', 'Agtbaarens gerespecteerde aparte', 'Missive van den 4en. October des', 'voorleeden Jaars ter sessie van', 'den 10=en: Junij overwoogen zijnde,', 'hebben wij na gedaan onderzoek be„', '„vonden, dat de afgave van het daarbij', 'vermeld Extract uijt het geresolveerde', 'ter onser Vergadering van den 2e:', 'september 1755. raakende de', '1')\t[0.4536016583442688, 0.5463927984237671, 5.515466000360902e-06, 9.409621248412242e-14]\t(<RegionType.PARAGRAPH: 'paragraph'>, <RegionType.PHYSICAL_STRUCTURE_DOC: 'physical_structure_doc'>, <RegionType.TEXT_REGION: 'text_region'>, <RegionType.PAGEXML_DOC: 'pagexml_doc'>)\n",
      "IN\tIN\t\"('te wesen, gemerkt het jaar te vooren deselve', 'oog seer beswaarlijk vande hant hebben kunne', 'geschoven werden, ter oorsaeke om dat', 'Parsien geduurigh met schoone witte broo', '„', 'Suijker van Mascatta wert vervult', 'van waar deselve met seer kleene oncosten', 'van Equippagie tot Samron aan de Jppar', 'merkt kan werden gebraght, en gevolgelijk', 'aldaar betercoop als de Batavise te krijgen', 'is, sulx wij den aanbreng van dien (gelijk', 'VEd:e bij onsen jongsten hebben geadviseert', 'in toecomende wat sullen moeten matige', \"\"en die meest tot retour voor't vaderland\"\", 'gebruijken, waartoe ordinaris de beste', '9„', 'suijker wert gevordert')\"\t[8.26656673780235e-07, 0.999775230884552, 0.00022391176025848836, 1.7164172643954756e-12]\t(<RegionType.PARAGRAPH: 'paragraph'>, <RegionType.PHYSICAL_STRUCTURE_DOC: 'physical_structure_doc'>, <RegionType.TEXT_REGION: 'text_region'>, <RegionType.PAGEXML_DOC: 'pagexml_doc'>)\n",
      "IN\tIN\t\"('de verdere culturen', 'aldaar zijn mede niet', \"\"van 't beste succes\"\")\"\t[0.0008773743757046759, 0.9991162419319153, 6.34330763205071e-06, 2.7714083198487893e-13]\t(<RegionType.MARGINALIA: 'marginalia'>, <RegionType.PHYSICAL_STRUCTURE_DOC: 'physical_structure_doc'>, <RegionType.TEXT_REGION: 'text_region'>, <RegionType.PAGEXML_DOC: 'pagexml_doc'>)\n",
      "BEGIN\tBEGIN\t('Aan De Wel- Edele Hoog Agtbaare Heeren', 'Bewindhebberen')\t[0.9993669390678406, 0.0002780247014015913, 0.0003549708635546267, 1.1067733643628508e-13]\t(<RegionType.PARAGRAPH: 'paragraph'>, <RegionType.PHYSICAL_STRUCTURE_DOC: 'physical_structure_doc'>, <RegionType.TEXT_REGION: 'text_region'>, <RegionType.PAGEXML_DOC: 'pagexml_doc'>)\n",
      "IN\tIN\t('aan kermi thans zouden',)\t[0.003877857234328985, 0.994531512260437, 0.0015906349290162325, 1.2020446487140402e-13]\t(<RegionType.MARGINALIA: 'marginalia'>, <RegionType.PHYSICAL_STRUCTURE_DOC: 'physical_structure_doc'>, <RegionType.TEXT_REGION: 'text_region'>, <RegionType.PAGEXML_DOC: 'pagexml_doc'>)\n",
      "BEGIN\tBEGIN\t\"('Ter vergadering van de zeventienen', 'Gecommitteert, Representerende', 'de Generale Nederlandsche', \"\"g'octroijeerde Oost Jndische\"\", 'Compagnie, ter pre„', 'sidiale Kamerte', 'Middelburg')\"\t[0.9999986886978149, 2.4421626179660372e-11, 1.3123350299792946e-06, 1.0817379187226477e-17]\t(<RegionType.PARAGRAPH: 'paragraph'>, <RegionType.PHYSICAL_STRUCTURE_DOC: 'physical_structure_doc'>, <RegionType.TEXT_REGION: 'text_region'>, <RegionType.PAGEXML_DOC: 'pagexml_doc'>)\n",
      "IN\tIN\t('aftrek van eenige guastos', 'in convaij gemaakt')\t[0.00043315946822986007, 0.9992005228996277, 0.0003662988601718098, 3.1167627615076576e-14]\t(<RegionType.MARGINALIA: 'marginalia'>, <RegionType.PHYSICAL_STRUCTURE_DOC: 'physical_structure_doc'>, <RegionType.TEXT_REGION: 'text_region'>, <RegionType.PAGEXML_DOC: 'pagexml_doc'>)\n",
      "BEGIN\tBEGIN\t('Middelburg in Zeeland',)\t[0.6507390141487122, 0.32657724618911743, 0.02268373593688011, 7.157849210267034e-14]\t(<RegionType.PARAGRAPH: 'paragraph'>, <RegionType.PHYSICAL_STRUCTURE_DOC: 'physical_structure_doc'>, <RegionType.TEXT_REGION: 'text_region'>, <RegionType.PAGEXML_DOC: 'pagexml_doc'>)\n",
      "END\tBEGIN\t('beagonders 20. 7 Julii',)\t[0.0763392448425293, 0.20153239369392395, 0.7221283912658691, 7.612861621479616e-13]\t(<RegionType.PHYSICAL_STRUCTURE_DOC: 'physical_structure_doc'>, <RegionType.TEXT_REGION: 'text_region'>, <RegionType.PAGEXML_DOC: 'pagexml_doc'>)\n",
      "BEGIN\tBEGIN\t\"('de Met voorspoed en sonder eenige ongemakken ge„', 'kig ten voorspoedigheden te hebben, zijn door des Heeren goedreijt', \"\"op den 5:' decemb: pass:o, buijten Zundas Eng„\"\", '„te in zee geraakt, de retourschepen die wij op', 'den eersten van gem: maand, ten getale', 'van dertien, onder de vlagge vanden Comman„', '„deur Haijman de Laver uijt dese rheede', 'hebben laten vertrecken.')\"\t[0.9947546720504761, 0.005245343316346407, 2.2699373491974484e-09, 4.2982948959237528e-16]\t(<RegionType.PARAGRAPH: 'paragraph'>, <RegionType.PHYSICAL_STRUCTURE_DOC: 'physical_structure_doc'>, <RegionType.TEXT_REGION: 'text_region'>, <RegionType.PAGEXML_DOC: 'pagexml_doc'>)\n",
      "END\tBEGIN\t\"('Bij onse Jongst voorgaande van den', \"\"12:' october passato hebben wij d'eere\"\")\"\t[0.05253208801150322, 0.005839149001985788, 0.9416287541389465, 3.627481954680996e-14]\t(<RegionType.PARAGRAPH: 'paragraph'>, <RegionType.PHYSICAL_STRUCTURE_DOC: 'physical_structure_doc'>, <RegionType.TEXT_REGION: 'text_region'>, <RegionType.PAGEXML_DOC: 'pagexml_doc'>)\n",
      "BEGIN\tBEGIN\t('Wel Edele hoog Agtbare', 'Wijse voorsienige, en seer', 'genereuse Heeren. —')\t[0.9999175071716309, 8.38840275019237e-10, 8.246246579801664e-05, 1.2199019328333269e-14]\t(<RegionType.PARAGRAPH: 'paragraph'>, <RegionType.PHYSICAL_STRUCTURE_DOC: 'physical_structure_doc'>, <RegionType.TEXT_REGION: 'text_region'>, <RegionType.PAGEXML_DOC: 'pagexml_doc'>)\n",
      "IN\tIN\t('Europesche en', 'Bougineese')\t[0.35073477029800415, 0.6338455080986023, 0.015419687144458294, 1.0348170887894415e-12]\t(<RegionType.MARGINALIA: 'marginalia'>, <RegionType.PHYSICAL_STRUCTURE_DOC: 'physical_structure_doc'>, <RegionType.TEXT_REGION: 'text_region'>, <RegionType.PAGEXML_DOC: 'pagexml_doc'>)\n",
      "BEGIN\tBEGIN\t\"('Voor de eerste besendinge deses Iaers, hebben wij', 'op den 18:en decemb: jongstleden onder de vlagge ende', 'het gebiet van de Heere Ioan Ciniaus ordinarie', \"\"raedt van India nae't lieve vaderlandt afgevaerdicht\"\", 'ses scheepen, namentlijk de Paere ende malacca voor', 'de Camer amsterdam, het schip orangie voor', 'Zeelandt, den Hector voor de Camer delft den', 'achilles voor rotterdam, ende de gecroonde Leeuw voor', 'Enckhuijsen te samen met een retour indische', 'coopmanschappen ende waeren, hier te lande costende', '1819008. gulden. deselve Costelycke scheepen,/ sijn den', '25:en daeraen des avondts met een ruijme windt', 'ende voor stroom buijten het Princen Eijlandt', 'ende in ruijm zee geraeckt, de goedertieren', \"\"godt wilse voort geleijden, ende behouden in't\"\", 'vaderlandt brengen, amen, UE: ordre aengaende', 'het mannen der retour scheepen, is met deselve', 'tot ons leet wesen weder al vrij te buijten ge„', 'gaen, dat bij comt door de onbevaren soldaten', 'siecken ende impotenten die met deselve over„', 'gaen, ende voor geen mannen gerekent connen')\"\t[0.9970943927764893, 0.000474333472084254, 0.0024312809109687805, 2.5893300090867877e-12]\t(<RegionType.PARAGRAPH: 'paragraph'>, <RegionType.PHYSICAL_STRUCTURE_DOC: 'physical_structure_doc'>, <RegionType.TEXT_REGION: 'text_region'>, <RegionType.PAGEXML_DOC: 'pagexml_doc'>)\n",
      "END\tEND\t('no', 'be11', 'Math„s De Haan')\t[0.0017444973345845938, 0.011947546154260635, 0.9863079190254211, 2.748720847288444e-13]\t(<RegionType.PARAGRAPH: 'paragraph'>, <RegionType.PHYSICAL_STRUCTURE_DOC: 'physical_structure_doc'>, <RegionType.TEXT_REGION: 'text_region'>, <RegionType.PAGEXML_DOC: 'pagexml_doc'>)\n",
      "IN\tIN\t\"('Bij dese gelegentheijt zo had', 'den gesant ingevolge de aan', 'hem mede gegeve Instructie', 'zijne doleantien aan gedagte', 'hovelingen gedaan, uijt name', \"\"van d'E Comp:e over de Imper„\"\", 'tinente gedoentens der wrevel„', 'moedige putelangse Wanniassen', 'dog sonder obtineeringe over den schat arreecq en peper', 'dog sonder genietinge van eenige', 'satisfactie, zo als dat VEd:le', 'hoog agtb: omstandig zullen ge', 'lieven te beoogen, om dese', 'niet te veel te verlengen', 'bij het overkomende Copia', 'dagregister door den gesant')\"\t[4.9191082318600365e-09, 0.9999998807907104, 1.7005497454647411e-07, 4.485717743813814e-18]\t(<RegionType.PARAGRAPH: 'paragraph'>, <RegionType.PHYSICAL_STRUCTURE_DOC: 'physical_structure_doc'>, <RegionType.TEXT_REGION: 'text_region'>, <RegionType.PAGEXML_DOC: 'pagexml_doc'>)\n",
      "BEGIN\tBEGIN\t('Wel Edele Hoog', 'Agtb: wijze voorsz:,', 'en seer genereuse', 'Heeren.')\t[0.9835953712463379, 0.001422012923285365, 0.014982503838837147, 2.3923479300011485e-13]\t(<RegionType.PARAGRAPH: 'paragraph'>, <RegionType.PHYSICAL_STRUCTURE_DOC: 'physical_structure_doc'>, <RegionType.TEXT_REGION: 'text_region'>, <RegionType.PAGEXML_DOC: 'pagexml_doc'>)\n",
      "IN\tIN\t('Jtem omtrent den oproer„', 'maker dieuw. —')\t[0.003597081871703267, 0.9773409366607666, 0.01906196027994156, 5.2105065054264266e-12]\t(<RegionType.MARGINALIA: 'marginalia'>, <RegionType.PHYSICAL_STRUCTURE_DOC: 'physical_structure_doc'>, <RegionType.TEXT_REGION: 'text_region'>, <RegionType.PAGEXML_DOC: 'pagexml_doc'>)\n",
      "END\tEND\t('Batavia in uE. casteel', 'den 22 april 1662')\t[6.416092946892604e-05, 1.0563786418060772e-05, 0.9999252557754517, 2.8754911863063115e-13]\t(<RegionType.PARAGRAPH: 'paragraph'>, <RegionType.PHYSICAL_STRUCTURE_DOC: 'physical_structure_doc'>, <RegionType.TEXT_REGION: 'text_region'>, <RegionType.PAGEXML_DOC: 'pagexml_doc'>)\n",
      "END\tEND\t('Jn uw: Ed=le Casteel', 'Batavia den 19', 'februarij @ 1685:')\t[2.9163342333049513e-05, 4.332148151320325e-08, 0.9999707937240601, 1.6525326927311701e-15]\t(<RegionType.MARGINALIA: 'marginalia'>, <RegionType.PHYSICAL_STRUCTURE_DOC: 'physical_structure_doc'>, <RegionType.TEXT_REGION: 'text_region'>, <RegionType.PAGEXML_DOC: 'pagexml_doc'>)\n",
      "BEGIN\tBEGIN\t('Aan de Edele Hoog Agtbare', 'Heeren Bewindhebberen', 'Ter vergaderinge van seventhienen', 'Gecommitteerd, de Generale Neder„', '„Landsche Goctroijeerde Oost„', '„ Indische Compagnie', 'Representeerende Ter', 'Praesidiale kamer', 'Tot')\t[0.9993464350700378, 9.252027666661888e-05, 0.0005610089283436537, 9.908806483940069e-17]\t(<RegionType.PARAGRAPH: 'paragraph'>, <RegionType.PHYSICAL_STRUCTURE_DOC: 'physical_structure_doc'>, <RegionType.TEXT_REGION: 'text_region'>, <RegionType.PAGEXML_DOC: 'pagexml_doc'>)\n",
      "IN\tEND\t\"('I. na het afsluiten deses den visitateur Generaal', 'er Jndische Negotie Boeken Caree Fredrik Sereten zijnde', 'omen te overleiden, hebben wij daar toe weder aangesteld aen', 'W AAttting', 'egens §72 van onse jongste october briett, met den titie en Rang', '„ Visitateur Generaal gehonoreerde koopman Petrus Albertus', 'in der Patra en wij versoeken dus op deese aanstelling uwer Wel Edele', \"\"hoog Agtb g'eerde approbatie met de tot dat amw staande qua\"\", 'Pieron', 'iteit en gage voor gem: van der Parra, deese en onse verdere Papie„', 'en in gereedheid gebragt, en den Capitain van het veel gemold Deensen', 'tien de Graate van Schimmelman d: H. Cornbeik door den eerstgetekende onder', 'aden zynde over de noodsaakelykheid om den ontmoeting van een gelsche scheeper', 'inneer deese sijn schip mogten Willen visiteeren als aan de kassen met Papieren', 'Noord te werpen en dus te sorge dat de zelve niet in handen onser Vijanden geraa.', '=declareerden denselven dat de ordas die bij gehouden was te observeeren hem niet', 'uden Permitteeren eenige Papionen bij ontnoeting van rapers ok scheep en', 'oorlagende Mogendheeden eenige capieren in zee te werzen wel daar C. Oroens.', '& de aanhaling van zijn schur op ten minsten eenig nadelige in convenient dal', 'verpligt was te vermijden zoude konnen resulteeren en aan Chij tig dus daar', 'niet konde verbinden', 'is hebben ons dus door dit onverwagt decluratoer waar van', 'uiter des de gegrondheid geensints konnen bevroeden in de', 'aangenaame noodsaaklijkheid gevonden na een andere', 'meer securiteus geëvende geleegendheid te moeten denaer', 'wij gemeend hebben alleen te resideren in de res„', 'onderng te hier voor als omtrend ouw Genraed : Wadermaker', 'rijsen van 1781 is geschied waarom wijders ook de kassen die anders met', 'voormelde schip de Graaff van Schimmelman soude zyn noortgeschind met', 't schip de Nestrunis, waar meede het andere stee na Cabo de Goede Hoop', 'd gedegecteert na straat Sunda hebben versonden om daar te worden', 'te geeven aan een ver die Engte behruissende oorlog scheepen nament ek W CMy', 'Diamant met Cast aan den daarop commandeerende capitiu', 'e deselve aan een van de uit China te rugkeerende Sweedsche', 'deensene scheepen af te geeven en aan dien overheeden uit onse', ':r V: Stockum', 'om om een scade addier besorging te versoeken het geen wij ook', 'geere doen bij een daar toe ingerigte breek en waar omtrend we„', 'mogen vleijen nu niet minder te sullen renisseren aan ten', '„ hem der voorm: Papieren van 1781 is gescheed bij sonder', 'gem de geriestigkheeren door de Equisagie van het', 'ensen schip de Princes Charlotta Amelina hier geroode', 'hun gemaakt.', 'waar na den in de eerste Plaats sal worden')\"\t[1.38956720547867e-05, 0.9965291619300842, 0.0034568950068205595, 4.720509532850532e-14]\t(<RegionType.PARAGRAPH: 'paragraph'>, <RegionType.PHYSICAL_STRUCTURE_DOC: 'physical_structure_doc'>, <RegionType.TEXT_REGION: 'text_region'>, <RegionType.PAGEXML_DOC: 'pagexml_doc'>)\n",
      "IN\tIN\t\"('uijtmaekende, de vandaer gedane Eijsch van 400E:', 'guldens, daerde apparentie niet vreemt toesijn', 'uijt redelnk dat den oudejapans handelende Chinese', 'Ionck verleden jaer de reijs vandaer tot Japan', 'niet heeft connen volbrengen maer door zee noot„', 'weer heeft moeten retourneren, ende alschoon die', \"\"van Japan ach ons op 25:' decemb:r verleden adviseren,\"\", 'dat vandaer een Chinees Ionck derwaerts stindt.', 'tegaen, welligt met schrijvens, tot ontdeckinge,', 'waer het ack haperen moght, dat het verleden', 'Iaer d. o Ionck in Japan niet en is verschenen', \"\"soo is 'twaerschijnelijck 'tselve derwaerts geen groot\"\", 'Capitael vervoert sal hebben. —', 'Engels vaertuijgh en is van bantam ook naer tonc„', 'quin niet versonden, of ten ware dat hun scheepie den', '1„', \"\"Egel, in't begin van Iunij naer taijouan, met en\"\", 'ladinge bestaende in sandelhout, 40: lasten peper, partij', 'Engelse laekenen, andere d:o stoffen, ende 4000: rE: Con„', 'tant uijt bantam vertrocken, omden handel in snick„', 'seo te ondernemen, en passant op sijn wederkeer vande', 'noort lonckin aengierde, maer alsoo dan den jncoop', 'der zijde der vroege, ja selfs nateelt allange sal —', 'geeijndigt wesen, soo sal als gesegt, d:o geretourneerde.', 'chinese joncq met sijne volle ladinge, of selfs het', 'van Japan gestierde Ioncq gelk naemwaerdige incoop.')\"\t[0.0004920182400383055, 0.9994981288909912, 9.823524123930838e-06, 1.3241666064426477e-13]\t(<RegionType.PARAGRAPH: 'paragraph'>, <RegionType.PHYSICAL_STRUCTURE_DOC: 'physical_structure_doc'>, <RegionType.TEXT_REGION: 'text_region'>, <RegionType.PAGEXML_DOC: 'pagexml_doc'>)\n",
      "BEGIN\tBEGIN\t('Wel Edele Hoog Achtbaare', 'Wijze. Voorsienige en', 'zeer Genereuse Heeren')\t[0.9375487565994263, 0.048771508038043976, 0.01367972232401371, 3.141662480838324e-14]\t(<RegionType.PARAGRAPH: 'paragraph'>, <RegionType.PHYSICAL_STRUCTURE_DOC: 'physical_structure_doc'>, <RegionType.TEXT_REGION: 'text_region'>, <RegionType.PAGEXML_DOC: 'pagexml_doc'>)\n",
      "BEGIN\tBEGIN\t\"('Generael register van alle', 'de brieven boeken, en verdere', 'papieren gaende van hier', '-', \"\"over Cabod' boa Esperance p=r\"\", 'het retourschip westhoven in', 'Comp: van de schepen de gener. l', 'vreede, donkervliet, ijsselmonde', 'abbekerk, dehaek, sirjansljant', 'de unie, diemen, Ilpendam', 'en deflora, Naer de havenen', 'onses lieven vaderlants, geconsign:t', \"\"aen d' hoog Ed. le heeren bewinthebb:\"\", 'vande generale vereenigde', 'nederlantse geoctroijeerde', 'oost Indise Comp: ter presidiale', 'Camer tot middelburg in', 'Zeelant')\"\t[0.9999972581863403, 1.7542919339419427e-09, 2.76975697488524e-06, 5.433249336550539e-13]\t(<RegionType.PARAGRAPH: 'paragraph'>, <RegionType.PHYSICAL_STRUCTURE_DOC: 'physical_structure_doc'>, <RegionType.TEXT_REGION: 'text_region'>, <RegionType.PAGEXML_DOC: 'pagexml_doc'>)\n",
      "END\tEND\t('UEd: Casteel', 'tavia den 0', 'Augusto A: 1678')\t[3.129370540477794e-09, 1.0274505513052645e-07, 0.9999998807907104, 2.8023922725713313e-19]\t(<RegionType.PARAGRAPH: 'paragraph'>, <RegionType.PHYSICAL_STRUCTURE_DOC: 'physical_structure_doc'>, <RegionType.TEXT_REGION: 'text_region'>, <RegionType.PAGEXML_DOC: 'pagexml_doc'>)\n",
      "END\tEND\t('P. vanden Boogaerden',)\t[0.00034557346953079104, 0.06795445084571838, 0.9317000508308411, 1.0153401557022601e-11]\t(<RegionType.PARAGRAPH: 'paragraph'>, <RegionType.PHYSICAL_STRUCTURE_DOC: 'physical_structure_doc'>, <RegionType.TEXT_REGION: 'text_region'>, <RegionType.PAGEXML_DOC: 'pagexml_doc'>)\n",
      "BEGIN\tEND\t('deesen hier meede besluijtende',)\t[0.9998620748519897, 3.558121761670918e-06, 0.00013427641533780843, 2.7569805408428284e-16]\t(<RegionType.PARAGRAPH: 'paragraph'>, <RegionType.PHYSICAL_STRUCTURE_DOC: 'physical_structure_doc'>, <RegionType.TEXT_REGION: 'text_region'>, <RegionType.PAGEXML_DOC: 'pagexml_doc'>)\n",
      "BEGIN\tBEGIN\t\"('Der de Engelse scheepen', 'Chloocester treguat, en', \"\"d' unie.\"\")\"\t[0.999537467956543, 0.00041028065606951714, 5.231956311035901e-05, 8.601410997504159e-16]\t(<RegionType.PARAGRAPH: 'paragraph'>, <RegionType.PHYSICAL_STRUCTURE_DOC: 'physical_structure_doc'>, <RegionType.TEXT_REGION: 'text_region'>, <RegionType.PAGEXML_DOC: 'pagexml_doc'>)\n",
      "END\tEND\t('W: A Alting', 'J: V: Crockum', 'H: Moens.', 'D Smith:', 'Diber', '„„ 8012.', 'Siegerman', 'ABelgevare')\t[3.928621039595015e-10, 7.676572977288743e-08, 0.9999998807907104, 4.408533520856491e-17]\t(<RegionType.PHYSICAL_STRUCTURE_DOC: 'physical_structure_doc'>, <RegionType.TEXT_REGION: 'text_region'>, <RegionType.PAGEXML_DOC: 'pagexml_doc'>, <RegionType.SIGNATURE_MARK: 'signature-mark'>)\n",
      "END\tBEGIN\t('Ik versoeke verlof, om uw Ed hoog Agtbare ditmaal', 'te mogen onderhouden over mijn particulier belang„', 'en derselver gunstige dispositie af te smeken, over', 'mijn Intrest in de bewuste fransche Scheepen;', 'minder vrijmoedig zoude ik dat doen, zo ik met', 'meesters te doen hadde, die ik niet zo grootmoedig', 'oordeelde en van zo gunstige geneijgtheijd tot mij', 'en het mijne; indien ik niet eene saak voorhadde,', 'die ik denke dat regtmatig is, en als een gunst', 'van uw Ed: hoog Agtb=re handen zogte te Ontfangen')\t[0.05484217777848244, 0.27058902382850647, 0.674568772315979, 8.100037161189524e-14]\t(<RegionType.PARAGRAPH: 'paragraph'>, <RegionType.PHYSICAL_STRUCTURE_DOC: 'physical_structure_doc'>, <RegionType.TEXT_REGION: 'text_region'>, <RegionType.PAGEXML_DOC: 'pagexml_doc'>)\n",
      "IN\tIN\t\"('als alleen ten principale tewesen de verhoging der', 'op de Comptoiren daar deselve werden aanbesteedt', 'en ingekogt. welk een en ander den sleet daar van', 'tot palembang sterk gestremt heeft, gelijk mede op', \"\"sumatras westcust en malacca. voorts ook dat 'er\"\", 'op bantam en Javas oost custwaar over men anders', 'ten tijde der laast gemaakte contracten met die vor„', 'hope heeft gehad, niet van eenigh belang ook wert ver„', '„tiert. soo soude men wel mogen proguosticeeren dat', 'het de Comp: op die voet hier te lande niet lang sal kunnen', 'en jndische Coopmanschappen, uijt de eene plaats nade', 'andere vervoert werdende, niet meer en voordeliger', \"\"komt tewakkeren; 't welk de goede god anders wil doen\"\", 'uijtvallen.', 'uijt alle de voorsz: plaatsen geklaagt wert, mitsgaders semete de segte klede ende hope prijsen en vermindering der deugtsaamheijt allomme', '887. pakken en daar onder 481: gem: gebl:t en 23. ruwgutes ongelijken op bantam en Javas oost sten in den jare 1678. en 1684. seer goede gedagten en', \"\"genoteert is) dat men op Chormandel ong'eijschteen in al d'EComp: op die woet niet stellen, beswaarlijk als den sleet van de vaderlandse\"\")\"\t[9.664541389398096e-10, 1.0, 4.666621933324677e-08, 3.171596815776704e-16]\t(<RegionType.PARAGRAPH: 'paragraph'>, <RegionType.PHYSICAL_STRUCTURE_DOC: 'physical_structure_doc'>, <RegionType.TEXT_REGION: 'text_region'>, <RegionType.PAGEXML_DOC: 'pagexml_doc'>)\n",
      "IN\tIN\t\"('Cormandel, en behoeftens voor dit gouvernement,', 'heeft men voldaen na mate van ons', 'vermogen, maar instede van 40. sockels', 'foelij die gevordert waren, niet meer', 'konden voldoen dan 30. ditos, en zoo', 'mede mede 36000. lb: nagelen op haren', 'eijsch van 45000. lb:, onderbelofte om', 'hun nader med goude specien te', 'voorsien, wanneer deselve tijdig aan', 'handen mogten komen, en hoe wel', 'daerop zedert niets is gevolgt, hebben', \"\"w' de bedientens ter deser custe gere„\"\", '„commandeert de petitie voor het', 'patria en India alegter zoo na moge„', '„lijk te besorgen in deugdsaam goed', 'tegens de civielste prijsen; zijnde')\"\t[9.65174962175297e-08, 0.9999963045120239, 3.6347576042317087e-06, 2.5212582130569594e-13]\t(<RegionType.PARAGRAPH: 'paragraph'>, <RegionType.PHYSICAL_STRUCTURE_DOC: 'physical_structure_doc'>, <RegionType.TEXT_REGION: 'text_region'>, <RegionType.PAGEXML_DOC: 'pagexml_doc'>)\n",
      "END\tIN\t('verkeerd ge eijgende', 'slaeven ontslagen')\t[1.878214425232727e-05, 0.0014108564937487245, 0.9985703229904175, 6.668477835897191e-12]\t(<RegionType.MARGINALIA: 'marginalia'>, <RegionType.PHYSICAL_STRUCTURE_DOC: 'physical_structure_doc'>, <RegionType.TEXT_REGION: 'text_region'>, <RegionType.PAGEXML_DOC: 'pagexml_doc'>)\n",
      "IN\tIN\t('goed als uijt verkogt,', 'en deselve van goede')\t[0.007567212916910648, 0.9924151301383972, 1.7659165678196587e-05, 1.1969708451270216e-16]\t(<RegionType.MARGINALIA: 'marginalia'>, <RegionType.PHYSICAL_STRUCTURE_DOC: 'physical_structure_doc'>, <RegionType.TEXT_REGION: 'text_region'>, <RegionType.PAGEXML_DOC: 'pagexml_doc'>)\n",
      "END\tBEGIN\t('petronella alida', 'noordbeek, dendam', 'en haaxburg. —', 'rode, Luchtenburg')\t[0.0021561875473707914, 9.29820816963911e-06, 0.9978345036506653, 3.257462658987076e-12]\t(<RegionType.PARAGRAPH: 'paragraph'>, <RegionType.PHYSICAL_STRUCTURE_DOC: 'physical_structure_doc'>, <RegionType.TEXT_REGION: 'text_region'>, <RegionType.PAGEXML_DOC: 'pagexml_doc'>)\n",
      "END\tEND\t('betuijginge dat wij zijn', 'Ed„le Hoog Achtb: Heeren', 'Batavia in uw Ed„le Uw Ed„le Hoog Achtb: onder„', '9', 'Hoog Achtb: Casteel', '„danige en getrouwe dienaren', 'den 6e: December', 'Den Gouverneur generaal en', 'A„o 1718', 'de Raden van India.')\t[0.00014645328337792307, 3.0104257575658266e-07, 0.9998531341552734, 6.33182877874186e-14]\t(<RegionType.PARAGRAPH: 'paragraph'>, <RegionType.PHYSICAL_STRUCTURE_DOC: 'physical_structure_doc'>, <RegionType.TEXT_REGION: 'text_region'>, <RegionType.PAGEXML_DOC: 'pagexml_doc'>)\n",
      "IN\tIN\t('Mallabaar die dewegen sig eenigermaten gevoe„', 'aannerkingen op de man„ lig toonende bij missive van den 13:en maij,', '&', 'vanden mojor en Command:r wierd dat sodanig beantwoord door voorm:', 'Heer Baaker, als VEd: Ho: agtb: sulx ont„', 'moeten sullen bij onsen vorengen: brief', 'van 30:n septb: waartoe wij ons in dat Cas', 'gedragen, en soo ook in opsigten van het', 'gene aldaar is genoteerd over de ongenoem„', '„de plenipotentiarissen van den sammo', '„rijn, en het gebrek ontrent de Trains', 'Item oijt onbreekend resolutien, die maar tendeelen, dog het', 'train, en dies resolutien trains dagregister in het geheel ons', 'niet is toegekomen.', 'des men sig alleen ten principalen verkla„', 'rende op den inhoude der bovengem: 6:', 'nieuwe articuls, soo als die lagen, heeft', 'men moeten oordeelen, dat de verminde„', '„ring 144896: Calicoetse fanums, waar')\t[4.5778341117852506e-09, 0.9999998807907104, 1.7402247465270193e-07, 7.300045035693939e-15]\t(<RegionType.PARAGRAPH: 'paragraph'>, <RegionType.PHYSICAL_STRUCTURE_DOC: 'physical_structure_doc'>, <RegionType.TEXT_REGION: 'text_region'>, <RegionType.PAGEXML_DOC: 'pagexml_doc'>)\n",
      "END\tEND\t('J. H. V. Siar.', 'H: V: Bakel', 'Favdwaarar')\t[0.000515596941113472, 9.966280777007341e-05, 0.9993846416473389, 2.620332596736663e-11]\t(<RegionType.PHYSICAL_STRUCTURE_DOC: 'physical_structure_doc'>, <RegionType.TEXT_REGION: 'text_region'>, <RegionType.PAGEXML_DOC: 'pagexml_doc'>, <RegionType.SIGNATURE_MARK: 'signature-mark'>)\n",
      "END\tIN\t('daar omtrent beraamt',)\t[0.19193699955940247, 0.12232092022895813, 0.6857421398162842, 2.9182488673826223e-13]\t(<RegionType.MARGINALIA: 'marginalia'>, <RegionType.PHYSICAL_STRUCTURE_DOC: 'physical_structure_doc'>, <RegionType.TEXT_REGION: 'text_region'>, <RegionType.PAGEXML_DOC: 'pagexml_doc'>)\n",
      "IN\tEND\t('nog het hoge water moet waarnemen; dat veel moeijt', 'en tijd spilling komt te veroorsaken.')\t[8.469956680468016e-11, 0.9999992847442627, 7.123086902538489e-07, 1.0408008458501567e-19]\t(<RegionType.PARAGRAPH: 'paragraph'>, <RegionType.PHYSICAL_STRUCTURE_DOC: 'physical_structure_doc'>, <RegionType.TEXT_REGION: 'text_region'>, <RegionType.PAGEXML_DOC: 'pagexml_doc'>)\n",
      "BEGIN\tEND\t('wel Edele Hoog Agtbare, wyze, voorzienige', 'en zeen Genereuse Heeren')\t[0.9998111128807068, 6.657804618726004e-08, 0.0001887585240183398, 2.2646455519270226e-16]\t(<RegionType.PARAGRAPH: 'paragraph'>, <RegionType.PHYSICAL_STRUCTURE_DOC: 'physical_structure_doc'>, <RegionType.TEXT_REGION: 'text_region'>, <RegionType.PAGEXML_DOC: 'pagexml_doc'>)\n",
      "IN\tIN\t\"('Siam soo direct als over ligor,', \"\"deperhe van 2: scheepen zyn op den 16 Iuly, en 3:' septb:\"\", 'na dese residentie gedepecheert de', 'scheepen Thof met altyd somer', 'ende Berbice, hebbende soo aan', 'contanten, koopmansz:, be„', 'hoeftens, silverwerken, en ge„', 'schencken voor den vorst &:a, te', 'samen ten dienste van die beyde', 'comptoiren op de van daar ont„', 'fangene respective Eysschen vervoert', 'ƒ315483:12:— zynde onder de gem:', 'onder de laaste zyn geschencken ook begrepen twee', 'persiaanse of Eijgentlyk Iat„', 'fanapatnamse hengsten voor', 'den vorst; weens dienaren met')\"\t[9.466887604503427e-06, 0.9999662637710571, 2.431447501294315e-05, 1.0139649536666795e-12]\t(<RegionType.PARAGRAPH: 'paragraph'>, <RegionType.PHYSICAL_STRUCTURE_DOC: 'physical_structure_doc'>, <RegionType.TEXT_REGION: 'text_region'>, <RegionType.PAGEXML_DOC: 'pagexml_doc'>)\n",
      "END\tEND\t\"('Batavia in VE5:', \"\"Casteel den 18. '\"\", 'seb.')\"\t[2.621760813781293e-06, 4.216281990210291e-09, 0.9999973773956299, 6.1780966034631126e-18]\t(<RegionType.MARGINALIA: 'marginalia'>, <RegionType.PHYSICAL_STRUCTURE_DOC: 'physical_structure_doc'>, <RegionType.TEXT_REGION: 'text_region'>, <RegionType.PAGEXML_DOC: 'pagexml_doc'>)\n",
      "IN\tIN\t\"('en wat dies meer is gegeven, als uEd:le Ho: agtb:re', \"\"bij het afgaande Indisch brief-boek in 't brede sullen\"\", 'konnen sien, die wij willen hopen van u Edele', 'Ho: agtb:re approbatie te sullen wesen', 'Volgens de advijsen van daar ontfangen bleven de', '„geblijven nog als voorleden jaar zaken met de moorse regeringe nog al op dien', 'selven voet continueren als uEd.le Ho: agtb. re', 'voorleden haar bekent gemaakt is; hebbende', 'den Prince Aziem wel laten sakken verscheijde', \"\"pretentien tegen d' E. Comp. . , dog practiseren\"\", \"\"hij en de sijne gestadig op 't formeren van\"\", \"\"nieuwe, gelijk zij hebben gedaan in't gevangen\"\", 'nemen van een Europeaans soldaat (tot', 'opsiender van parthij geld van Ouglij na', 'Cassimabasaar gesonden sijnde :) onder pre„', '„text dat hij in de weg een Jnlander soude', 'dood geschoten hebben, tot welkers redemptie')\"\t[1.7808712726719023e-08, 0.999996542930603, 3.391630116311717e-06, 3.0851291302463196e-14]\t(<RegionType.PARAGRAPH: 'paragraph'>, <RegionType.PHYSICAL_STRUCTURE_DOC: 'physical_structure_doc'>, <RegionType.TEXT_REGION: 'text_region'>, <RegionType.PAGEXML_DOC: 'pagexml_doc'>)\n",
      "END\tEND\t('hier mede', 'Ed:le Erntfeste Ho: Agtb: wijse', 'voorsienige en seer Genereuse Heeren', 'Sullen wij desen voor ditmael Eijndigen, en n uEde Ho: agtb: personen en samiser', 'godes genadije bewaringe bevoolen te hebben, met een Eerbidige groete verblijven.', 'v', '(nderstont) Ed:l hoog gebiedende heren, uEd:e Hd: agtb: getrouwe en mderenge deveren', 'was geteijkent) W: van Outhoorn, I: van hoorn, abraham van rebeek, Laurers pijl, Jonnes', 'Cops, Emanuel borneree, Jacob van dan, Ehristoffel van Swol, abraham doniglas, I: Hemb. .', 'winkelman, Adam van zijn ter bijde, Batavia in uw: hoog Ed:l asel en 1: Septemb.r', '1703:')\t[1.5492018475352087e-12, 4.6524321396269885e-14, 1.0, 1.8613932827717475e-17]\t(<RegionType.PARAGRAPH: 'paragraph'>, <RegionType.PHYSICAL_STRUCTURE_DOC: 'physical_structure_doc'>, <RegionType.TEXT_REGION: 'text_region'>, <RegionType.PAGEXML_DOC: 'pagexml_doc'>)\n",
      "END\tEND\t\"('onverslachte remotie van Laguindij ende haer Wederkeerenta', 'Batavia, gelijck mede wegens hare presente insufficantie', 'van macht ende voornemelijck van substantieel Capitael, en de volhopelijk', 'presente onderhandelinge tusschen ons ende die van Bantham, en', 'dese gevreesde swaricheijt, achten wij, off in Europa selfs', 'beter Wtcompsse geobtineert hebben, offf emmer alhier had', 'veranderinge ten bestenvinden', \"\"Als noch connen niet vernemen, d'Engelsen meer als een schip, gelijck\"\", 'wij UEd in onsenvoorigen geadviseert hebben, dit haer sond', 'ander ontseth met retouren naer Engelant sullen connen seunde', 'Hier nevens gaer een geauctentiseert verbael vanden Italiaen', 'voorgende', 'overgaende wael Jan Maria moretti, daer van wij VEd. in onse ^ Generael', 'missive geschreven, ende oock eenige stucken toegesonden hebb', 'In welck hij een ampelenarree gedaen heeft, van zijn eerste', 'aencompste in India, Item hoe in kennisse ende convers', \"\"met d' Engelsen geraect is, Item hoe hij noijt in Obbligatie\"\", \"\"ofte dienst van d' Engelsche Comp. e is geweest, ende voorts\"\", 'hoe sij hem in Maccassar mishandelt hebben, ende daerop', 'als nu met haer in proces voor den Ordinarij Raedt van Justi', 'deses Casteels gecomen is, met welcke acte V Ed: haer', 'aldaer, soot te passe comt, dienen mogen', \"\"Hier nevens gaer t' Cassa boeck van de Generale Incompsten dese\"\", 'Rijcx Batavia, Bij welcke VEd sien connen, hoe dezelve', \"\"den tijt van twaelff maenden t'sedert Janu 1626 tot UEmo\"\", 'december monteren aende cant van F 244O sijnde niet tege', 'staende den dooden tijt ende slappen toevoer wt des mattarams ean', \"\"evenwel omtrent 200 gls, meer als t' voorleden Jaer aengewassen\"\", 'Welck Godt geve, van Iaer op Jaer soo toenemen ende betere', 'mach,', 'Hier mede', 'E: Edrent sesse. Achtbaere, Wijse, Voorsienige, seer discre', 'Heeren, desen eijndigende sullen wij Godt almachtich bidden s', 'VEd Welvaren ende voorspoedige bestieringhe ter zalicheijt', 'Int Casteel Batavia adij 26. en december @o 1626', 'D. E. diensteb al.', '8', 'Carventie', 'Wybrant Scholeen', '1646', ': Jacques Specx')\"\t[0.15499593317508698, 0.021360814571380615, 0.8236432671546936, 4.736845030800518e-12]\t(<RegionType.PARAGRAPH: 'paragraph'>, <RegionType.PHYSICAL_STRUCTURE_DOC: 'physical_structure_doc'>, <RegionType.TEXT_REGION: 'text_region'>, <RegionType.PAGEXML_DOC: 'pagexml_doc'>)\n",
      "BEGIN\tBEGIN\t\"('Den 13=e Courant hebben wij met de retoer vloot onse Iaer=', 'lijcxe ampele advijsen aende respective Cameren over', 'gesonden, bestaende deselve uijt acht scheepen namentlijk', \"\"affrica, America, en d'gehuerde fluyt de Jonas voor\"\", 'Amsterdam, Hendrick Maurits en maccasser voor', 'Zeelant; zilversteijn, voor derft en Enckhuijsen, —', \"\"„Hellevoet Sluijs voor rotterdam, ende d' gehuerde\"\", 'fluijt Joff=r Maria voor de Camer Hoorn, welcke', \"\"scheepen alle met redelyjcke spoet bantham, en 't naer\"\", 'tussen dwers inde wech ende Iava zijn gepasseerd —', 'zulcx wij verkoopen, de selve heeden al buijten de —', 'straet sunda Geadvanceerd ende in ruijm zee —', 'zullen geraect wesen, ende dat Godt de heere haer alle', 'de haevenen des lieven vaderlants spoedich en geluc=', 'kig zal laten bezeijlen ende VEd=e soo wel als wij', 'reedenen mogen hebben zijne divina maij=t daar', \"\"voor te looven ende te dancken; en oft wij wel 't zedert\"\", 'weynich materie hebben aen VEd=e voor present', \"\"ijets nader te schriven; soo Is (mits 't vertreck\"\", \"\"van 't Engels schip d'anna van bantham nae Engeland:)\"\")\"\t[0.9098803400993347, 0.0014926217263564467, 0.08862704038619995, 2.620361566618712e-11]\t(<RegionType.PARAGRAPH: 'paragraph'>, <RegionType.PHYSICAL_STRUCTURE_DOC: 'physical_structure_doc'>, <RegionType.TEXT_REGION: 'text_region'>, <RegionType.PAGEXML_DOC: 'pagexml_doc'>)\n",
      "IN\tIN\t('gesamentlijke onderda„',)\t[4.7778703446965665e-06, 0.8070551753044128, 0.19294008612632751, 1.7692030108859775e-16]\t(<RegionType.MARGINALIA: 'marginalia'>, <RegionType.PHYSICAL_STRUCTURE_DOC: 'physical_structure_doc'>, <RegionType.TEXT_REGION: 'text_region'>, <RegionType.PAGEXML_DOC: 'pagexml_doc'>)\n",
      "END\tEND\t('en blijven met de meeste hoog agting', 'welEdele Hoog Agtbaare wijze', 'voorzienige en zeer Genereuse', 'Heeren')\t[0.1249401792883873, 0.0008277980959974229, 0.8742320537567139, 1.2757522360566653e-14]\t(<RegionType.PARAGRAPH: 'paragraph'>, <RegionType.PHYSICAL_STRUCTURE_DOC: 'physical_structure_doc'>, <RegionType.TEXT_REGION: 'text_region'>, <RegionType.PAGEXML_DOC: 'pagexml_doc'>)\n",
      "IN\tIN\t\"('werden, de besettinge vanden dalm ver', 'sterkt door eenige Europlanen en', 'sComp:s onderhorige Jambijneesen,', 'met ordre om goede wagt entoesigt te', 'houden; maar ook uijt een alte groote', 'voorsigtigheijt, met voorkennis en', 'toestemming vanden sultan, door 2: affi', '„stenten, en 2: inlandse Hoofden het Ca.', 'non rijksornamenten, en meubelen', 'laten inventariseeren, en in bewaring', 'gehouden, soo als deselve door des sultans', 'eerste vrouw enden Rijksbestierder', 'Natta Ningrat aan de gecommitteerd. s', 'waren opgegeven en aangewesen, welkers', 'Specificatie tot VEd: Ho: agtb: speculatie', \"\"van't opperh:t ontr:t overgaat: ook had gem: resident des\"\", 'konings nagelate vrouwen belet met', 'eenige hoofden der bovenlanders te')\"\t[1.0967457342303533e-07, 0.9999781847000122, 2.1664889573003165e-05, 4.059400927382273e-13]\t(<RegionType.PARAGRAPH: 'paragraph'>, <RegionType.PHYSICAL_STRUCTURE_DOC: 'physical_structure_doc'>, <RegionType.TEXT_REGION: 'text_region'>, <RegionType.PAGEXML_DOC: 'pagexml_doc'>)\n",
      "END\tBEGIN\t('Ed„le Gestrenge Hoog', 'Agtbare Wijse, Voorsienige seer', 'Genereuse Heeren')\t[0.45364850759506226, 1.0713592556513274e-13, 0.5463514924049377, 5.797805528079717e-16]\t(<RegionType.PARAGRAPH: 'paragraph'>, <RegionType.PHYSICAL_STRUCTURE_DOC: 'physical_structure_doc'>, <RegionType.TEXT_REGION: 'text_region'>, <RegionType.PAGEXML_DOC: 'pagexml_doc'>)\n",
      "IN\tIN\t('„bharen.', 'aanwijsing vandegge heeft in 132803. lb: of 241 „ ruijm', 'sijnde 92835. lb: minder dan', 'door den jnlander nagissinge was', 'opgegeven, dog ons egter voor eerst', 'eenigermaten heeft gered, uijt onse', 'de Indische eijschen sijn verlegentheit, en onvermogen tot', 'het voldoen der Jndische eijsschen', 'van dese specerije, insonderheijt uijt', 'het Cormandelse gouvernement,', 'alwaar densleet ongemeen was', 'toegenomen, dog den voorraad', 'alhier integendeel vrij sober wierd', 'semaltegrotevesending bevonden, door een alte kloeke', 'men gebrek heeft gehad versendinge na nederland in de', 'retourscheepen des voorleden Jaers,', 'tegens de Jntentie en recommandatie')\t[7.822575298632728e-08, 0.9999997615814209, 1.5493516514197836e-07, 5.3042209432205625e-14]\t(<RegionType.PARAGRAPH: 'paragraph'>, <RegionType.PHYSICAL_STRUCTURE_DOC: 'physical_structure_doc'>, <RegionType.TEXT_REGION: 'text_region'>, <RegionType.PAGEXML_DOC: 'pagexml_doc'>)\n",
      "IN\tIN\t\"('dat hij gevlugt was, maar dat men met', 'zekerheyd iets vernemende zyn Excellentie', 'immediaat daar van kennisse zouden', 'geeven; Waar mede alle argwaan beno„', 'men en het hoff genoegen gegeven was.', 'Den fausdaar, had den heer directeur versogt, als', 'naast bij der hand zynde 50000:—: ropias', 'na billazoor te remitteeren, om zijne vij„', 'dog', 'anden aldaar het hooft te bieden,', 'vergeefs, om dat het vaartuijg blyvende', 'off de vyand de overhant krygende', \"\"men 'er voor zoude moeten respondeeren\"\", 'behalven dat dit met de onzijdigheijd', 'daar men zig altijd stipt aangehouden', 'had geensints zoude Convenieeren. Egter', 'hadden zij den francen directeur daar toe')\"\t[2.5826705218889856e-09, 0.999998927116394, 1.1229966503378819e-06, 4.122600495031804e-14]\t(<RegionType.PARAGRAPH: 'paragraph'>, <RegionType.PHYSICAL_STRUCTURE_DOC: 'physical_structure_doc'>, <RegionType.TEXT_REGION: 'text_region'>, <RegionType.PAGEXML_DOC: 'pagexml_doc'>)\n",
      "END\tEND\t('en betuijging dat wij sijn', 'Hoog', 'Edele „ agtbare Heeren', 'Uw Edele Hoog agtbr: onderdanige')\t[2.9772286524142044e-13, 1.3331546803996286e-11, 1.0, 1.805043200064778e-21]\t(<RegionType.PARAGRAPH: 'paragraph'>, <RegionType.PHYSICAL_STRUCTURE_DOC: 'physical_structure_doc'>, <RegionType.TEXT_REGION: 'text_region'>, <RegionType.PAGEXML_DOC: 'pagexml_doc'>)\n",
      "IN\tIN\t\"('ensesden dat die van rombouwo als vassalen', '6', 'en onderdaenen van Iohor zinde tselve sullen', 'mogen bliven, mits hun voortaan weder', 'gedraegende als getrouwe bontgenoten van', 'malacca, en oocq opregtelijk nacomende en', 'onderhoudende den Vrede die jnsgelyx opde', 'voorsz conditien met haar sal gesloten werden', 'mits deselve mede met eede beswerende', 'en sevenden datsoo wel die van rombou als', 'nanningh, elcq drie a vier persoonen van qualiteyt', \"\"'t hunner eyge Costen tot macalla onder onse\"\", 'magt sullen lanen, om aldaar gedienigh als', 'oslagiens te verblijven, tot des temeerder')\"\t[3.084066975134192e-07, 0.9983646273612976, 0.0016350237419828773, 3.2649735779571865e-12]\t(<RegionType.PARAGRAPH: 'paragraph'>, <RegionType.PHYSICAL_STRUCTURE_DOC: 'physical_structure_doc'>, <RegionType.TEXT_REGION: 'text_region'>, <RegionType.PAGEXML_DOC: 'pagexml_doc'>)\n",
      "IN\tIN\t('§ 117.', 'de reek: van het', 'bekoftigde aan de', 'Canneel plantagien')\t[1.7399532907802495e-06, 0.9999978542327881, 4.4024008616361243e-07, 1.3365154203713294e-18]\t(<RegionType.MARGINALIA: 'marginalia'>, <RegionType.PHYSICAL_STRUCTURE_DOC: 'physical_structure_doc'>, <RegionType.TEXT_REGION: 'text_region'>, <RegionType.PAGEXML_DOC: 'pagexml_doc'>)\n",
      "IN\tIN\t('Voortegenwoordig van 6de', 'gouvernement niets m', 'te noteeren hebbende gaa', 'wij over tot')\t[3.058845265968557e-07, 0.9998798370361328, 0.0001198159807245247, 3.2148668155990877e-18]\t(<RegionType.PARAGRAPH: 'paragraph'>, <RegionType.PHYSICAL_STRUCTURE_DOC: 'physical_structure_doc'>, <RegionType.TEXT_REGION: 'text_region'>, <RegionType.PAGEXML_DOC: 'pagexml_doc'>)\n",
      "IN\tIN\t('t berigen ordre om de pers. paarden', 'etc.:a aanden nieuwen vorst', 'op te senden.')\t[0.003185235895216465, 0.9967576861381531, 5.706139563699253e-05, 1.2577914106299062e-15]\t(<RegionType.MARGINALIA: 'marginalia'>, <RegionType.PHYSICAL_STRUCTURE_DOC: 'physical_structure_doc'>, <RegionType.TEXT_REGION: 'text_region'>, <RegionType.PAGEXML_DOC: 'pagexml_doc'>)\n",
      "IN\tIN\t('te geloven datse de straat', 'sundo uijtgeraekt sullen', 'wesen')\t[0.016657618805766106, 0.9495224356651306, 0.03381992504000664, 1.8301773128687887e-13]\t(<RegionType.MARGINALIA: 'marginalia'>, <RegionType.PHYSICAL_STRUCTURE_DOC: 'physical_structure_doc'>, <RegionType.TEXT_REGION: 'text_region'>, <RegionType.PAGEXML_DOC: 'pagexml_doc'>)\n",
      "BEGIN\tBEGIN\t('Ed: Erntfeste Hoog agt', 'bare, manhafte, Wijse', 'Voorsinnige seer gene„', '„reuse Heeren')\t[0.9999926090240479, 3.664322317797897e-11, 7.335421287280042e-06, 4.8921612095978695e-17]\t(<RegionType.PARAGRAPH: 'paragraph'>, <RegionType.PHYSICAL_STRUCTURE_DOC: 'physical_structure_doc'>, <RegionType.TEXT_REGION: 'text_region'>, <RegionType.PAGEXML_DOC: 'pagexml_doc'>)\n",
      "BEGIN\tBEGIN\t('Aan de hoog Edele Heeren',)\t[0.99946528673172, 0.0005234458367340267, 1.1326475942041725e-05, 8.922279783418296e-16]\t(<RegionType.PHYSICAL_STRUCTURE_DOC: 'physical_structure_doc'>, <RegionType.TEXT_REGION: 'text_region'>, <RegionType.PAGEXML_DOC: 'pagexml_doc'>, <RegionType.HEADER: 'header'>)\n",
      "IN\tIN\t('vande Gemachtigde vanden E: Joan vander Spijck', 'zal:r omme aan p. r Jacobus vande', 'Capelle ende agnieta vander Spijcq ofte', 'haere Erffgenamen wonende tot Amstm.', 'te voldoen negen Duijsent vierhondert', 'twee dertigh B cruijs Daeld. rs. „ 9432')\t[1.934634019562509e-05, 0.9970071911811829, 0.002973491558805108, 2.556312231121946e-14]\t(<RegionType.PARAGRAPH: 'paragraph'>, <RegionType.PHYSICAL_STRUCTURE_DOC: 'physical_structure_doc'>, <RegionType.TEXT_REGION: 'text_region'>, <RegionType.PAGEXML_DOC: 'pagexml_doc'>)\n",
      "IN\tIN\t\"('ƒ 24758: 12:—', 'van den 10:e Aug:s 1756. op de bekomene tijding van een te din', '„tene aanstaanden oorlog tot een besluijt getreeden zijnde, om', 'als meede het in staat stel de Arthillerij te Nagapatnam van het benodigde te laaten', 'voorsien, waar door ze dezelve in staat gebragt hadden om', \"\"behoorlijk te kunnen werden gebruijkt, soo hebben w' sulks als\"\", 'volslagen over een komende met hunne gehoudenis en onse', 'verleende ordre niet alleen goetgekeurt, maar ook teffens ge„', 'passeert soo wel de afgave te bimilipatnam van ropijen 500', 'voor een vaartuijg, dat die bediend:s bij weege van precan„', '„tie op de verwagte aankomst der Maratthijs in huurge„', 'Jten het in hurneemen cureeren, als het indienst neemen van 20 Extra ord:re Rronsom„', 'de vervallene factorie ende onderhorige dorpe gade te')\"\t[3.0068845191522087e-09, 0.9999990463256836, 9.27652251903055e-07, 1.836273070176999e-14]\t(<RegionType.PARAGRAPH: 'paragraph'>, <RegionType.PHYSICAL_STRUCTURE_DOC: 'physical_structure_doc'>, <RegionType.TEXT_REGION: 'text_region'>, <RegionType.PAGEXML_DOC: 'pagexml_doc'>)\n",
      "BEGIN\tBEGIN\t\"('Met welcke gemelte schepen ons neffens de particuliere', 'Missiven van V Ed:e respectiue Cameren mede wel zin', 'geworden. VEd:e generale missiven gedateert 27en Augusti', '30„ ende 23 Martij 1631, daer opede requisite antwoorde-', \"\"nettens t'verder gepasseerde. t'zedert onsen gemelsten\"\", 'Jongsten) in desen volgen zal —', \"\"Die vant t' Jacht Grooten broeck hebben ons ter aencomst\"\", 'gerapporteert, datse op den 13 decemb 1630 ter hoochte.', 'Van 9: graden Noortlycker breete, verouert hadden. seecker', 'fluijt schip Groot ontrent 170 Lasten genaempt Nossa', 'Genora de piedade, commende van S:t thome. geladen', 'met 17000 erroben suijcker van 32 pont ider ende 20:', 'sacken Cattoen, gemonteert met 6 lepel ende 2 steen', 'stucken midtsgaders 32 portugiesen met 33- Casters —', \"\"welcke fluijt bijden raet Goet geuonden zijnde met 17:'\"\", \"\"Nederlanders 10 portugiesen ende 25 Cassers naar't\"\", 'Vaderlant te zenden, verwondert ons dat opt vertreck')\"\t[0.987497091293335, 0.00019065930973738432, 0.012312191538512707, 1.3625386626262004e-12]\t(<RegionType.PARAGRAPH: 'paragraph'>, <RegionType.PHYSICAL_STRUCTURE_DOC: 'physical_structure_doc'>, <RegionType.TEXT_REGION: 'text_region'>, <RegionType.PAGEXML_DOC: 'pagexml_doc'>)\n",
      "IN\tIN\t('op de ter onser sessie van den 20. deeser maand aan', 'ons gedaane te kennen gave, door de erfgenaamen', 'van wijlen het opperhoofd over het generale soldij', 'Comptoir en Curator ad litis Thomas Fredrik', 'wannemaaker, dat wij bij besluijt van den 9. aug=s', '1781, op het ten dien dage door den successeur', 'van ged: wannemaker, arnoldus Constantijn', 'Mom, ingediend bericht, het College van weesmees„', '„teren, als administreerende de boedel van op')\t[1.1484260539873503e-05, 0.999988317489624, 2.052535990060278e-07, 6.394640824582858e-16]\t(<RegionType.PARAGRAPH: 'paragraph'>, <RegionType.PHYSICAL_STRUCTURE_DOC: 'physical_structure_doc'>, <RegionType.TEXT_REGION: 'text_region'>, <RegionType.PAGEXML_DOC: 'pagexml_doc'>)\n",
      "END\tBEGIN\t('nsgemenenagortshijven van', 'den 12:e februarij in Copia hier nevens')\t[0.007933996617794037, 0.04939684644341469, 0.942669153213501, 1.2186126131623343e-13]\t(<RegionType.MARGINALIA: 'marginalia'>, <RegionType.PHYSICAL_STRUCTURE_DOC: 'physical_structure_doc'>, <RegionType.TEXT_REGION: 'text_region'>, <RegionType.PAGEXML_DOC: 'pagexml_doc'>)\n",
      "IN\tEND\t('minder', '0: jZ: m: o:', 'gevolgelijk')\t[3.736678522159309e-08, 0.9999983310699463, 1.651146021686145e-06, 1.2279628025259821e-19]\t(<RegionType.PARAGRAPH: 'paragraph'>, <RegionType.PHYSICAL_STRUCTURE_DOC: 'physical_structure_doc'>, <RegionType.TEXT_REGION: 'text_region'>, <RegionType.PAGEXML_DOC: 'pagexml_doc'>)\n",
      "BEGIN\tBEGIN\t('Edele Hoog agtbare, wijse', 'voorsienige, seer genereuse', 'Heeren.')\t[0.9601008892059326, 1.9241279005655088e-05, 0.039879847317934036, 6.089955471334785e-13]\t(<RegionType.PARAGRAPH: 'paragraph'>, <RegionType.PHYSICAL_STRUCTURE_DOC: 'physical_structure_doc'>, <RegionType.TEXT_REGION: 'text_region'>, <RegionType.PAGEXML_DOC: 'pagexml_doc'>)\n",
      "IN\tIN\t('majoor ten Haghuijs ontboden hebbend', 'en dese versterkt met al het geene men', 'dewelk van de wertkantent Veerder van Europeesen en inlanders in de', 'quartieren missen konde, met goed succe¬', 'doorgetrokken ende vijand dus tusse', 'twee vuuren geraakt zijnde, de Heer Commtasih', '„saris met zijn Corps van de west zijde a', 'verder door brekende en toeban inmidda', 'ook verovert hebbende, gelijk lassum door', 'ten Vlaghuij vaorthefen ten haghuijs op den 15:. Julij der madurea', 'andermaal en so wij hopen voor de laast', 'maal weder ontnomen wierd, so drongen', 'de wapenen van de Maatschappije de Regen', 'van Sidaijoe sodanig, dat hij sig eijndelijk', 'saijn borauw gmegeet so dra de heer Versel de mine maakte de', 'plaats te water en te Land teffens', 'ulx', 'kwe')\t[3.209069632248429e-07, 0.9999986886978149, 9.989327054427122e-07, 8.005790176840791e-14]\t(<RegionType.PARAGRAPH: 'paragraph'>, <RegionType.PHYSICAL_STRUCTURE_DOC: 'physical_structure_doc'>, <RegionType.TEXT_REGION: 'text_region'>, <RegionType.PAGEXML_DOC: 'pagexml_doc'>)\n",
      "END\tEND\t('Jacob van dam', 'Evan Swoll')\t[0.0015996810980141163, 0.0011918072123080492, 0.9972084164619446, 1.5926556948264725e-12]\t(<RegionType.PARAGRAPH: 'paragraph'>, <RegionType.PHYSICAL_STRUCTURE_DOC: 'physical_structure_doc'>, <RegionType.TEXT_REGION: 'text_region'>, <RegionType.PAGEXML_DOC: 'pagexml_doc'>)\n",
      "END\tEND\t('Anth. hurdtz', 'W: van Outhoorn')\t[1.8891771480511466e-10, 2.811615384956667e-09, 1.0, 8.887695858315822e-18]\t(<RegionType.PARAGRAPH: 'paragraph'>, <RegionType.PHYSICAL_STRUCTURE_DOC: 'physical_structure_doc'>, <RegionType.TEXT_REGION: 'text_region'>, <RegionType.PAGEXML_DOC: 'pagexml_doc'>)\n",
      "END\tEND\t('Jvan Camgpbeeijs', 'Mpe', 'Wed. . Bent')\t[0.002193690510466695, 0.0008652585675008595, 0.9969410300254822, 3.464771872185857e-11]\t(<RegionType.PHYSICAL_STRUCTURE_DOC: 'physical_structure_doc'>, <RegionType.TEXT_REGION: 'text_region'>, <RegionType.PAGEXML_DOC: 'pagexml_doc'>, <RegionType.SIGNATURE_MARK: 'signature-mark'>)\n",
      "BEGIN\tBEGIN\t('Ons gebiedende Heeren. —', 'Dat wij het fregat Eijkelenburgh den 3=en november', 'het voorleden, enden 8=en februarij deses jaers noch')\t[0.9999995231628418, 3.233609220387734e-07, 1.323670488773132e-07, 4.045963410359782e-15]\t(<RegionType.PARAGRAPH: 'paragraph'>, <RegionType.PHYSICAL_STRUCTURE_DOC: 'physical_structure_doc'>, <RegionType.TEXT_REGION: 'text_region'>, <RegionType.PAGEXML_DOC: 'pagexml_doc'>)\n",
      "IN\tIN\t('vernietiging van', 'specerijen door t', 'vuur')\t[0.007991481572389603, 0.9645379781723022, 0.027470586821436882, 1.5892445345833117e-11]\t(<RegionType.MARGINALIA: 'marginalia'>, <RegionType.PHYSICAL_STRUCTURE_DOC: 'physical_structure_doc'>, <RegionType.TEXT_REGION: 'text_region'>, <RegionType.PAGEXML_DOC: 'pagexml_doc'>)\n",
      "END\tEND\t('Van Werden', 'D olthenius')\t[0.019557194784283638, 0.4322052001953125, 0.5482375621795654, 2.163429374882342e-12]\t(<RegionType.PARAGRAPH: 'paragraph'>, <RegionType.PHYSICAL_STRUCTURE_DOC: 'physical_structure_doc'>, <RegionType.TEXT_REGION: 'text_region'>, <RegionType.PAGEXML_DOC: 'pagexml_doc'>)\n",
      "IN\tBEGIN\t('met de Chinasche Re„', '„tour scheepen moe„', '„ten vergonden Wor„', 've', '„den.')\t[2.8706626835628413e-05, 0.9997817873954773, 0.0001894698798423633, 2.357629023845782e-17]\t(<RegionType.MARGINALIA: 'marginalia'>, <RegionType.PHYSICAL_STRUCTURE_DOC: 'physical_structure_doc'>, <RegionType.TEXT_REGION: 'text_region'>, <RegionType.PAGEXML_DOC: 'pagexml_doc'>)\n",
      "BEGIN\tBEGIN\t\"(\"\"d' Edele Heeren Bewinshebberen, van de Generale\"\", 'oostjndische Comp:e ter vergaderinge van 17:en', 'tot Amsterdam', 'Ontfangen over Engelant', 'Edele Erntfeste, hooghagtbare, wijse, voorsienige', 'seer Genereuse Heeren', 'den 16 Augusti 1678.')\"\t[0.9966697096824646, 1.8894167914257354e-12, 0.0033303413074463606, 1.0827039167855994e-16]\t(<RegionType.PARAGRAPH: 'paragraph'>, <RegionType.PHYSICAL_STRUCTURE_DOC: 'physical_structure_doc'>, <RegionType.TEXT_REGION: 'text_region'>, <RegionType.PAGEXML_DOC: 'pagexml_doc'>)\n",
      "BEGIN\tBEGIN\t\"('Patria', 'Aan de Edele Hoog agtbare Heeren', 'Bewindhebberen', 'Ter vergadering van de seventhienen gecom„', 'mitteerd Representeerende de generaele', \"\"g'octroijeerde oost Indische Comp:e der\"\", 'ver eenigde Nederlanden ter praesidiale', 'Tot', 'kamer', 'Amsterdam', 'Wel Edele Hoog agtb:', 'wijse voorsienige en seer', 'genereuse Heeren')\"\t[0.9999979734420776, 8.484213533688583e-17, 1.9926817458326695e-06, 3.012146922844938e-19]\t(<RegionType.PARAGRAPH: 'paragraph'>, <RegionType.PHYSICAL_STRUCTURE_DOC: 'physical_structure_doc'>, <RegionType.TEXT_REGION: 'text_region'>, <RegionType.PAGEXML_DOC: 'pagexml_doc'>)\n",
      "BEGIN\tEND\t('en zeer Genereuse Heeren.',)\t[0.9993048906326294, 0.0006892303354106843, 5.8314694797445554e-06, 1.4762178084416224e-15]\t(<RegionType.PARAGRAPH: 'paragraph'>, <RegionType.PHYSICAL_STRUCTURE_DOC: 'physical_structure_doc'>, <RegionType.TEXT_REGION: 'text_region'>, <RegionType.PAGEXML_DOC: 'pagexml_doc'>)\n",
      "END\tEND\t('Diebeeck', 'Transwoll', 'Abraham Douglas', 'Voer', ':', 'J: D Rijn')\t[2.5396876848727754e-15, 8.338957779505107e-13, 1.0, 7.381809307955405e-24]\t(<RegionType.PARAGRAPH: 'paragraph'>, <RegionType.PHYSICAL_STRUCTURE_DOC: 'physical_structure_doc'>, <RegionType.TEXT_REGION: 'text_region'>, <RegionType.PAGEXML_DOC: 'pagexml_doc'>)\n",
      "END\tEND\t('UEd dienstwill', 'Antonis vande')\t[2.114231938321609e-05, 9.696705092210323e-06, 0.9999692440032959, 8.120273625332377e-15]\t(<RegionType.PHYSICAL_STRUCTURE_DOC: 'physical_structure_doc'>, <RegionType.TEXT_REGION: 'text_region'>, <RegionType.PAGEXML_DOC: 'pagexml_doc'>, <RegionType.SIGNATURE_MARK: 'signature-mark'>)\n",
      "END\tBEGIN\t('Cauus anciter', '-', '#avanmaan.')\t[0.0030974827241152525, 0.012710224837064743, 0.9841922521591187, 4.102738981881515e-12]\t(<RegionType.MARGINALIA: 'marginalia'>, <RegionType.PHYSICAL_STRUCTURE_DOC: 'physical_structure_doc'>, <RegionType.TEXT_REGION: 'text_region'>, <RegionType.PAGEXML_DOC: 'pagexml_doc'>)\n",
      "BEGIN\tBEGIN\t('onse. Gebiedende Heeren',)\t[0.9998936653137207, 1.834973044009553e-14, 0.0001063544987118803, 1.4944389076129693e-19]\t(<RegionType.PARAGRAPH: 'paragraph'>, <RegionType.PHYSICAL_STRUCTURE_DOC: 'physical_structure_doc'>, <RegionType.TEXT_REGION: 'text_region'>, <RegionType.PAGEXML_DOC: 'pagexml_doc'>)\n",
      "END\tEND\t('Marth van den Brouck', 'Van Hoornen')\t[0.0718117356300354, 0.012511519715189934, 0.9156767129898071, 8.329480334634543e-12]\t(<RegionType.PARAGRAPH: 'paragraph'>, <RegionType.PHYSICAL_STRUCTURE_DOC: 'physical_structure_doc'>, <RegionType.TEXT_REGION: 'text_region'>, <RegionType.PAGEXML_DOC: 'pagexml_doc'>)\n",
      "IN\tEND\t('Per transp„t ƒ588086„8„7',)\t[0.0002304313675267622, 0.9711054563522339, 0.028664128854870796, 9.390604299955199e-18]\t(<RegionType.PHYSICAL_STRUCTURE_DOC: 'physical_structure_doc'>, <RegionType.TEXT_REGION: 'text_region'>, <RegionType.PAGEXML_DOC: 'pagexml_doc'>, <RegionType.HEADER: 'header'>)\n",
      "END\tEND\t('suratta', '165', 'n', 'copie missive door den', 'directr. ene Raedt aen', 'haer Ed. pr. tmoorsschip', 'Emmedy over bantam', 'gsz. den 13 april')\t[0.4708186984062195, 3.3175125281559303e-05, 0.5291481018066406, 1.0560433414243467e-13]\t(<RegionType.PARAGRAPH: 'paragraph'>, <RegionType.PHYSICAL_STRUCTURE_DOC: 'physical_structure_doc'>, <RegionType.TEXT_REGION: 'text_region'>, <RegionType.PAGEXML_DOC: 'pagexml_doc'>)\n",
      "BEGIN\tBEGIN\t('Aan de Edele Hoog Agtbaare Heeren', 'Den Heer Representant van zijn Doorlugtige', 'Hoogheid nevens de Heeren Bewindhebberen', 'van de Generaale Nederlandse Geoclroijeerde', 'Oostjndische Compagniester Presidiale', 'kamer aldaar')\t[0.9999896287918091, 2.76000591270531e-08, 1.0380374988017138e-05, 2.2481876488223123e-15]\t(<RegionType.PARAGRAPH: 'paragraph'>, <RegionType.PHYSICAL_STRUCTURE_DOC: 'physical_structure_doc'>, <RegionType.TEXT_REGION: 'text_region'>, <RegionType.PAGEXML_DOC: 'pagexml_doc'>)\n",
      "END\tEND\t('VEdele ver, en Trouw„', '„schuldige dienaren.', 'den gouverneur generaal', 'ende de raden van India.', 'Joan van Aoor', 'J', 'eilbierk', 'Avan Swoll', 'H: De Wilder', 'Abraham Douglgs', 'D„ Vevos', 'Nivinsen')\t[9.087371921623344e-08, 7.678255542487022e-08, 0.9999997615814209, 4.546068603077666e-15]\t(<RegionType.PARAGRAPH: 'paragraph'>, <RegionType.PHYSICAL_STRUCTURE_DOC: 'physical_structure_doc'>, <RegionType.TEXT_REGION: 'text_region'>, <RegionType.PAGEXML_DOC: 'pagexml_doc'>)\n",
      "END\tEND\t('anderkoor', '4', 'van den Heere Direc„', 'Door indispositie', 'Francois Castelijn,')\t[0.0715775266289711, 0.0010572802275419235, 0.9273651838302612, 9.734699788074234e-15]\t(<RegionType.PARAGRAPH: 'paragraph'>, <RegionType.PHYSICAL_STRUCTURE_DOC: 'physical_structure_doc'>, <RegionType.TEXT_REGION: 'text_region'>, <RegionType.PAGEXML_DOC: 'pagexml_doc'>)\n",
      "END\tEND\t('P: S: De in deezen vermelden Larchet,', 'door zwaare indispositie verhindert wordende', 'met Brenger deezes het schip Bredenhof de', 'reize naar Nederland aantenemen, heeft', 'derhalvend alhier moeten worden aangehouden. —')\t[0.0013160724192857742, 0.003355383174493909, 0.9953285455703735, 1.9680769600821657e-12]\t(<RegionType.PARAGRAPH: 'paragraph'>, <RegionType.PHYSICAL_STRUCTURE_DOC: 'physical_structure_doc'>, <RegionType.TEXT_REGION: 'text_region'>, <RegionType.PAGEXML_DOC: 'pagexml_doc'>)\n",
      "END\tEND\t\"('Batavia', \"\"den 20:' October\"\", 'A:o 1767:')\"\t[2.2963473384152167e-05, 1.551251642695206e-07, 0.9999768733978271, 8.050817770690472e-14]\t(<RegionType.MARGINALIA: 'marginalia'>, <RegionType.PHYSICAL_STRUCTURE_DOC: 'physical_structure_doc'>, <RegionType.TEXT_REGION: 'text_region'>, <RegionType.PAGEXML_DOC: 'pagexml_doc'>)\n",
      "BEGIN\tEND\t\"(\"\"Batavia den 10. '\"\", 'Februarij A:o 1708.')\"\t[0.739270806312561, 0.003178214654326439, 0.2575508952140808, 8.378225820364002e-14]\t(<RegionType.PARAGRAPH: 'paragraph'>, <RegionType.PHYSICAL_STRUCTURE_DOC: 'physical_structure_doc'>, <RegionType.TEXT_REGION: 'text_region'>, <RegionType.PAGEXML_DOC: 'pagexml_doc'>)\n",
      "END\tEND\t('H: Moens.', 'Smith:', 'G', 'Lagber', 'J Viegerman', 'F')\t[3.834893291809749e-09, 4.891771823167801e-07, 0.9999995231628418, 4.666522365117772e-19]\t(<RegionType.PHYSICAL_STRUCTURE_DOC: 'physical_structure_doc'>, <RegionType.TEXT_REGION: 'text_region'>, <RegionType.PAGEXML_DOC: 'pagexml_doc'>, <RegionType.SIGNATURE_MARK: 'signature-mark'>)\n",
      "END\tEND\t\"(\"\"d' E. M. r Gijsbert Ferreris, lid in den agtbaren raa\"\", 'van Justitie, is gister seer schielijk deser wereld over', 'waar door, dewijle denselven raad tot het getal van', \"\"personen geraekt is, en 't selve tot leven gefixeert is\"\", 'geworden; soo sullen wij eerdaegs, volgens qualificat', 'van VEd: hoog achtb:s onse gedagten laten gaan, om een', 'ander in des afgesturven plaets te krijgen. Onvermind', \"\"dat d' E. m. r gualterus bodaan nog verwagt werd\"\", 'alsoo deselve bij overkomste, eerst het laeste getal sal', 'suppleren, hier mede, Ed: Erntfeste, hoog agtb: wijse voors', 'en seer genereuse heeren, sullen wij desen voor ditmael eijn', 'en na VEd: ho: agtb: Personen en familien godes genodige', 'bewaringe bevolen te hebben, met een Eerbiedige groete b', '(onderstond) Ed: hoog gebiedende heeren, EEd: hoog achtb: gete', 'en onderdanige dienaren, den Gouverneur Generael Ende de ra', 'van India (getekent) W.:m van Outhoorn, Ioan van Hoorn, a. r', 'riebeek, Laurens Pijl, Ioannes Cops, Em: bornezee, Jacob', 'dam, C. l van swoll, abraham douglas, Hendrik Joan', 'Winkelman, en A:m van Rijn (in margine) batavia in', 'hoog Ed. s Casteel den 4. e september 1703:—')\"\t[5.514228291758627e-07, 1.3627299040308571e-06, 0.9999980926513672, 1.839242682986778e-15]\t(<RegionType.PARAGRAPH: 'paragraph'>, <RegionType.PHYSICAL_STRUCTURE_DOC: 'physical_structure_doc'>, <RegionType.TEXT_REGION: 'text_region'>, <RegionType.PAGEXML_DOC: 'pagexml_doc'>)\n",
      "BEGIN\tEND\t('van UEd=e camer desen Jaere ontfangen in mergiene', 'aengeteeckent hebbende, het bericht dat wij op de selve', 'voordesen tut hebben weeten te geven, gelijck u Ed=e connen', 'sien, willende vertrouwen, de persoonen daer aen gelegen', 'synde, daer mede sall worden gedaen contentement,', 'synde bij de selve gevoecht 2 verclaringen waer toe', 'gerefereert wort')\t[0.6687195301055908, 0.00028251513140276074, 0.3309979736804962, 8.615426705382845e-10]\t(<RegionType.PARAGRAPH: 'paragraph'>, <RegionType.PHYSICAL_STRUCTURE_DOC: 'physical_structure_doc'>, <RegionType.TEXT_REGION: 'text_region'>, <RegionType.PAGEXML_DOC: 'pagexml_doc'>)\n",
      "BEGIN\tBEGIN\t('Wij haasten ons, deezen met het reeds zeil„', 'rhee leggende retourschip de Africaan aftezenden,', 'naar Cabo de goede Hoop, om aldaar op de Jongst', 'van hier vertrokken Parquet boot de Faam,', 'dan wel een der eerst van dien uithoek naar')\t[0.9984739422798157, 0.0014159484999254346, 0.000110079170553945, 8.356376436082988e-14]\t(<RegionType.PARAGRAPH: 'paragraph'>, <RegionType.PHYSICAL_STRUCTURE_DOC: 'physical_structure_doc'>, <RegionType.TEXT_REGION: 'text_region'>, <RegionType.PAGEXML_DOC: 'pagexml_doc'>)\n",
      "END\tEND\t\"('PS: Na dat deeze afgeslooten was hebbenden', 'Supercarga en Capitain van een den 22 deezer', \"\"alhier g'arriveerd Americaans scheepje The\"\", 'Naneij Isaac Gouverneur en Charles Smith.', 'aan ons overgegeeven zodanige deilaratoen', 'als wij de Eer hebben UwelEd: Hoog agtb:', 'nevens deeze aan te bieden, waar bij zij ver„', '„klaaren, dat hun niet bekend is, dat door', 'de overheeden van de scheepen en minde„', '„re vaarthuijgen hunner Natie die sedert', 'de oprichting van hunne republiek', '„sche Comp:s in deeze gewesten wandel', 'op plaatsen der Nederl: oostzinde:/ A: Wiegerman')\"\t[0.1575711965560913, 0.2322729527950287, 0.6101558208465576, 6.338937708072478e-10]\t(<RegionType.PARAGRAPH: 'paragraph'>, <RegionType.PHYSICAL_STRUCTURE_DOC: 'physical_structure_doc'>, <RegionType.TEXT_REGION: 'text_region'>, <RegionType.PAGEXML_DOC: 'pagexml_doc'>)\n",
      "BEGIN\tBEGIN\t('Register', 'Generaal', 'O', 'Papieren voor de Camer tot', 'der')\t[0.9989320635795593, 0.0010662291897460818, 1.6699040088496986e-06, 6.591342309605159e-15]\t(<RegionType.PARAGRAPH: 'paragraph'>, <RegionType.PHYSICAL_STRUCTURE_DOC: 'physical_structure_doc'>, <RegionType.TEXT_REGION: 'text_region'>, <RegionType.PAGEXML_DOC: 'pagexml_doc'>)\n",
      "IN\tBEGIN\t('aengekomen schepen', 'uijt het vaderland')\t[0.006747161503881216, 0.9907940030097961, 0.002458843169733882, 8.39286746248365e-15]\t(<RegionType.MARGINALIA: 'marginalia'>, <RegionType.PHYSICAL_STRUCTURE_DOC: 'physical_structure_doc'>, <RegionType.TEXT_REGION: 'text_region'>, <RegionType.PAGEXML_DOC: 'pagexml_doc'>)\n",
      "BEGIN\tEND\t\"('Wij hebben de eer na MwelEd. Hoog', \"\"Agtb: persoonen en 's Comp=s belangen\"\", 'in de bescherming Godes aanbevolen te')\"\t[0.6811807155609131, 0.057922109961509705, 0.2608972191810608, 8.569992046743302e-14]\t(<RegionType.PARAGRAPH: 'paragraph'>, <RegionType.PHYSICAL_STRUCTURE_DOC: 'physical_structure_doc'>, <RegionType.TEXT_REGION: 'text_region'>, <RegionType.PAGEXML_DOC: 'pagexml_doc'>)\n",
      "BEGIN\tBEGIN\t\"('Den eersten vande verleden maant augustij', 'Jongstleden hebben wij uEd: met het engels', 'schip de fenix over bantam een Cleijn', 'advijs briefken laten toecomen, dat wij onder', 'des Heeren Zegen verhopen uEd=le wel zal', \"\"toegekomen wesen, gaende de Copie van't\"\", \"\"selve nochmaal hier nevens, 't zedert\"\", 'hebben wij de nodige depeschies nae diverse—', 'quartieren hier onder aangehaalt affgeleijt,', 'ende waar mede den tijt soo verre is', \"\"doorgeschooten, dat wij 't gehuurde schip —\"\", 'de Romeijn niet voor heden Connen afsenden,', 'daar en boven al vrijelijk in Consideratie', \"\"gecomen zijnde, om voor't vertrek van 'tselve\"\")\"\t[0.9919034838676453, 0.004023542627692223, 0.004073013085871935, 1.3966627854244962e-10]\t(<RegionType.PARAGRAPH: 'paragraph'>, <RegionType.PHYSICAL_STRUCTURE_DOC: 'physical_structure_doc'>, <RegionType.TEXT_REGION: 'text_region'>, <RegionType.PAGEXML_DOC: 'pagexml_doc'>)\n",
      "BEGIN\tEND\t('Wel Edele Hoog Achtbare', 'wijze, Voorzienige & zeer Genereuse Heeren')\t[0.5744838714599609, 7.826027399460145e-07, 0.425515353679657, 1.3400799838293037e-13]\t(<RegionType.PARAGRAPH: 'paragraph'>, <RegionType.PHYSICAL_STRUCTURE_DOC: 'physical_structure_doc'>, <RegionType.TEXT_REGION: 'text_region'>, <RegionType.PAGEXML_DOC: 'pagexml_doc'>)\n",
      "END\tEND\t('Van uw hoog Vorstelijke doorlugtigheid', 'uw Edel Hoog Agtbaare', 'de zeer onderdanige en getrouwe', 'dienaaren', 'de Gouverneur Generaal en', 'Raden van Indie', 'Pardledats', 'Riemsdijn', 'J„n Schruider./')\t[3.7706283251282e-07, 2.224598505407016e-09, 0.9999996423721313, 2.167002637792201e-16]\t(<RegionType.PARAGRAPH: 'paragraph'>, <RegionType.PHYSICAL_STRUCTURE_DOC: 'physical_structure_doc'>, <RegionType.TEXT_REGION: 'text_region'>, <RegionType.PAGEXML_DOC: 'pagexml_doc'>)\n",
      "IN\tBEGIN\t\"(\"\"wijders voor d'Eerste principale besending\"\",)\"\t[0.10848259925842285, 0.8915169835090637, 4.224267513563973e-07, 1.8097771596088793e-15]\t(<RegionType.PARAGRAPH: 'paragraph'>, <RegionType.PHYSICAL_STRUCTURE_DOC: 'physical_structure_doc'>, <RegionType.TEXT_REGION: 'text_region'>, <RegionType.PAGEXML_DOC: 'pagexml_doc'>)\n",
      "IN\tIN\t('overheden vande scheepen heeft voorge„', 'schreven soo in het bestellen van voor„', 'melten brieff, het opeijschen van vaer„', 'tuijg, volk en goed, den tijd die hij daer toe', 'sal moeten nemen, en meer andere kleine', 'remarques, waer van men om geen', 'abuijsen te sien begaan, ook selvs de', 'aller geringste omstandigheden speciaal', 'heeft moeten determineeren, die anders', 'bij sonders hoedanigen setis van selvs spreeken, als ook omtrend de', 'satisfactie selvs, en wat hij bij willigheijt', 'sal hebben te eijsschen voorvaertuijg en goed,', 'waer van naer gedagten geen restitutie sal', 'kunnen werden gedaan om dat het Laaste', 'meest in Equipage en weijnige schenkagie', 'goederen, buijten de provisie, monture')\t[1.1859847326434192e-08, 0.9999958276748657, 4.125282885070192e-06, 1.1522831571287445e-13]\t(<RegionType.PARAGRAPH: 'paragraph'>, <RegionType.PHYSICAL_STRUCTURE_DOC: 'physical_structure_doc'>, <RegionType.TEXT_REGION: 'text_region'>, <RegionType.PAGEXML_DOC: 'pagexml_doc'>)\n",
      "BEGIN\tEND\t('Antonio van diemen,', 'Antonio Caen', 'Cornelis vander Lijn')\t[0.6013209819793701, 0.006449047476053238, 0.39222997426986694, 8.13397526416848e-13]\t(<RegionType.PARAGRAPH: 'paragraph'>, <RegionType.PHYSICAL_STRUCTURE_DOC: 'physical_structure_doc'>, <RegionType.TEXT_REGION: 'text_region'>, <RegionType.PAGEXML_DOC: 'pagexml_doc'>)\n",
      "IN\tIN\t\"(\"\"van 't ander iets had konnen ontdekken, volgens\"\", \"\"desselfs rapport, bij 'tquartier der ontfangene\"\", 'brieven uijt ambon Ingeschreven staande.', 'Het is egter te beklagen dat wij met een suspicie', 'van het contrarie moeten beset blijven, door de', 'diefstallen der specerijen, die ons selfs hoewel', 'maar ten hade batavi is odngen desen jare voorgekomen sijn hier te rhede begaen,', \"\"Eende d' Engelsen daar mede gefavoriseert te sijn;\"\", 'gelijk dat uEd:le ho: agtb: breder te voren sal', 'komen uijt het criminele proces voor den', 'raad van Iustitie deses casteels geventileert', 'sijnde tegen den schipper van het jagt de co=s', 'van bantam Jan bogaart, en het vonnis van', 'gem.:ten regter, over dat hij uijt dien bodem 10.', \"\"picols ofte 1250. lb. gariophel nagelen aand'\"\", 'Engelsen gelevert, ende verkost had; behalven', \"\"'tgeene inde materie van banda van den\"\", 'noten diefstal van den schipper hendrik van', 'der waart geadviseert werd. Wij hebben', 'tot voorkominge van dien soodanige Cantelen', 'beraamt, als uEd=le ho: agtb=re bij onse')\"\t[8.95739231054904e-06, 0.9928580522537231, 0.007133049890398979, 6.64387273495437e-13]\t(<RegionType.PARAGRAPH: 'paragraph'>, <RegionType.PHYSICAL_STRUCTURE_DOC: 'physical_structure_doc'>, <RegionType.TEXT_REGION: 'text_region'>, <RegionType.PAGEXML_DOC: 'pagexml_doc'>)\n",
      "END\tEND\t('en betuijging dat wij sijn', 'Edele Hoog agtb Heeren.', 'uwel Edele hoog agtb:', 'onderdanige en getrouwe', 'dienaren.', 'den gouverneur generaal, ende', 'Raden van India.', 'Matth„s De Haan')\t[0.00011609894863795489, 1.1806564543803688e-06, 0.999882698059082, 8.658658100409167e-13]\t(<RegionType.PARAGRAPH: 'paragraph'>, <RegionType.PHYSICAL_STRUCTURE_DOC: 'physical_structure_doc'>, <RegionType.TEXT_REGION: 'text_region'>, <RegionType.PAGEXML_DOC: 'pagexml_doc'>)\n",
      "IN\tIN\t('het getal van vaar.', '„tuijgen is almede', 'oosthoek')\t[0.0001879781048046425, 0.9998078942298889, 4.189758783468278e-06, 4.5325068432624724e-14]\t(<RegionType.MARGINALIA: 'marginalia'>, <RegionType.PHYSICAL_STRUCTURE_DOC: 'physical_structure_doc'>, <RegionType.TEXT_REGION: 'text_region'>, <RegionType.PAGEXML_DOC: 'pagexml_doc'>)\n",
      "IN\tIN\t\"('Cormandel, met de poeijer encandij zuijker', 'tot mazulipatnam berustende, had', 'men de bediendens aldaar gequali„', 'ficeerd, de hand wat te ligten en deselve', 'aftestaan tegens 10: p„s de eerste, gevende', '66 5/8. percento, en 18: p a/o de laaste soort,', 'henderende 41 1/8. percento advance, om„', 'excusoeut ver hopen entrent het gedane bot van ½. pagood', 'verhoging voor een bhaar caliatours', 'hout wat al te Liberaal na onse ge„', 'dagte tewerk sijnde gegaan, gelijk wij', \"\"bij missive van den 23:' Julij aan den\"\", 'gouverneur en nagapatnamschen raad', 'tekennen hebben gegeven die men de„', 'hand nog mer raden selve daar op ten antwoord, dat', 'zij naderhand genoodsaekt sijn geweest')\"\t[1.0264359674716506e-11, 1.0, 1.1560258306175797e-09, 2.2557525000742405e-16]\t(<RegionType.PARAGRAPH: 'paragraph'>, <RegionType.PHYSICAL_STRUCTURE_DOC: 'physical_structure_doc'>, <RegionType.TEXT_REGION: 'text_region'>, <RegionType.PAGEXML_DOC: 'pagexml_doc'>)\n",
      "IN\tBEGIN\t('lasting op reecq) te werden verstrekt als—',)\t[0.023091178387403488, 0.9279649257659912, 0.048943862318992615, 3.7512553827112605e-12]\t(<RegionType.PHYSICAL_STRUCTURE_DOC: 'physical_structure_doc'>, <RegionType.TEXT_REGION: 'text_region'>, <RegionType.PAGEXML_DOC: 'pagexml_doc'>)\n",
      "IN\tIN\t('ingecataelde quart:t', 'van die bladeren')\t[0.001324947108514607, 0.9945732951164246, 0.004101784899830818, 7.343373955789878e-13]\t(<RegionType.MARGINALIA: 'marginalia'>, <RegionType.PHYSICAL_STRUCTURE_DOC: 'physical_structure_doc'>, <RegionType.TEXT_REGION: 'text_region'>, <RegionType.PAGEXML_DOC: 'pagexml_doc'>)\n",
      "END\tEND\t('met de meeste erbied te blijven. —', 'Wel Edele Hoog Agtb: wijze voorzienige', 'en zeer Genereuse Heeren')\t[2.8853143874130183e-08, 1.8137683582608588e-05, 0.9999818801879883, 4.1905785101148114e-16]\t(<RegionType.PARAGRAPH: 'paragraph'>, <RegionType.PHYSICAL_STRUCTURE_DOC: 'physical_structure_doc'>, <RegionType.TEXT_REGION: 'text_region'>, <RegionType.PAGEXML_DOC: 'pagexml_doc'>)\n",
      "IN\tIN\t('waren, om zig tot een langer', 'verblijf te engageeren.', 'Op de gevraagde 25 Matroosen heb¬', 'ben wij er ter Contrarie maar vijf', 'gekort, als overigens benoodigd tot', 'de Vaartuigen en op de Werf ginde¬', 'en schoon de eisch van ambagts¬', 'lieden wel excessief was bijzonder', 'als men considereert, dat er ginder', 'meer waren, dan gedagte memo¬', 'rie toereikelijk oordeelt, heeft', 'men egter, wijl er volgens het', 'voorgaande meer, dan naa gewoon„', 'nevons tien Ambigste zal moeten gewerkt worden,', 'tien gezenden, gelijk wij ook daar', 'om, hoewel niet ten eenemaal de„')\t[2.0810894056921825e-06, 0.9999978542327881, 6.7722223384691915e-09, 6.36456983146635e-17]\t(<RegionType.PARAGRAPH: 'paragraph'>, <RegionType.PHYSICAL_STRUCTURE_DOC: 'physical_structure_doc'>, <RegionType.TEXT_REGION: 'text_region'>, <RegionType.PAGEXML_DOC: 'pagexml_doc'>)\n",
      "IN\tIN\t\"('De gemelte ongelden hebben dan desen Iare', 'bestaan in de volgende', '12 18.', 'Mondkosten tot Nanhasaksij in / /8. ƒ 15553. 15. 6.', 'Huijs oncosten its:. . . . . . . . . . . „ 7083. 5. —', 'Extraordinarije ongelden - - - - - - - „ 5457. 6. 13', 'onkosten van vier schepen. . . . . . „ 9869. 4. 12', 'Schenkagies. . . . - - - - - - - - - „101912. 7. 2', 'Maandgelden - - - - - - - - - - „ 2550. —. —', 'betaalde intressen. . . . . . . . . . „ 8211. —. —', \"\"huure van 't Eijland en 't ammn=\"\", '„nitie pakhuijs. . . . . . . . . . „ 19530. —. —', 'Tesamen. . . . . . . . . . ƒ170166. 19. 1', 'De overwigten zijn geweest op de bengaalse zijde', '4, de chineese 1/8, de Tonquinse 1 3/3', '16. „ flovette', 'garen 5/16. / en de nagelen ruijm ½ p=r c=to')\"\t[3.278680105189835e-10, 0.9999880790710449, 1.1935682778130285e-05, 2.2008339277989258e-16]\t(<RegionType.PARAGRAPH: 'paragraph'>, <RegionType.PHYSICAL_STRUCTURE_DOC: 'physical_structure_doc'>, <RegionType.TEXT_REGION: 'text_region'>, <RegionType.PAGEXML_DOC: 'pagexml_doc'>)\n",
      "IN\tIN\t('Met de gevorderde satsumase Camphur is', 'den Eijsch van Camphur is het wat ruijmer omgekomen, want in plaets', 'allen nieuwe Coubangs, voldaen van 34. â 35Ø. lb: welcke wij hadden gevordert', 'hebbende bedienden, tot vermijding der schadelijke')\t[1.458745464333333e-05, 0.9999854564666748, 1.1544760702975054e-08, 3.648104315784961e-18]\t(<RegionType.PARAGRAPH: 'paragraph'>, <RegionType.PHYSICAL_STRUCTURE_DOC: 'physical_structure_doc'>, <RegionType.TEXT_REGION: 'text_region'>, <RegionType.PAGEXML_DOC: 'pagexml_doc'>)\n",
      "END\tIN\t('en mits het overlyden', 'alvan agreen')\t[0.24257004261016846, 0.013044610619544983, 0.7443853616714478, 2.178496966154242e-11]\t(<RegionType.MARGINALIA: 'marginalia'>, <RegionType.PHYSICAL_STRUCTURE_DOC: 'physical_structure_doc'>, <RegionType.TEXT_REGION: 'text_region'>, <RegionType.PAGEXML_DOC: 'pagexml_doc'>)\n",
      "IN\tEND\t('en diepsten eerbied te noemen.',)\t[0.0011466387659311295, 0.931615948677063, 0.06723742932081223, 7.717561941074369e-13]\t(<RegionType.PARAGRAPH: 'paragraph'>, <RegionType.PHYSICAL_STRUCTURE_DOC: 'physical_structure_doc'>, <RegionType.TEXT_REGION: 'text_region'>, <RegionType.PAGEXML_DOC: 'pagexml_doc'>)\n",
      "IN\tIN\t('Diverse Partijen van min„', '„dere belang te samen', '„ 32974: 18:8', 'bedragen met elkanderen - - - - ƒ 68009: 1:9', '13 Dit Schip Holland was den 17 January 1787', 'van hier na Ternaten gestevend mede verkemende', 'tot - - - - - - . . „ 2666: 7: —8')\t[7.128092420316534e-06, 0.999956488609314, 3.6385998100740835e-05, 2.33415802013354e-14]\t(<RegionType.PARAGRAPH: 'paragraph'>, <RegionType.PHYSICAL_STRUCTURE_DOC: 'physical_structure_doc'>, <RegionType.TEXT_REGION: 'text_region'>, <RegionType.PAGEXML_DOC: 'pagexml_doc'>)\n",
      "END\tEND\t('Wel Edele, Hoog Achtbare,', 'Wijse, Voorsienige, en zeer', 'Genereuse Heeren,', 'U Wel Edele Hoog Echt Cerse', 'Onderdanige en getrouwe dienaren', 'Den Gouverneur Generaal, en', 'de Raaaten van India', 'Pard Badras')\t[0.017522990703582764, 2.2149420146888588e-06, 0.9824747443199158, 3.489317286105016e-16]\t(<RegionType.PARAGRAPH: 'paragraph'>, <RegionType.PHYSICAL_STRUCTURE_DOC: 'physical_structure_doc'>, <RegionType.TEXT_REGION: 'text_region'>, <RegionType.PAGEXML_DOC: 'pagexml_doc'>)\n",
      "END\tEND\t('andermael naer eerbiedigh groeten inde genadige', 'beschermingh des alderhooghsten bevolen laten,')\t[0.21624355018138885, 0.00022660681861452758, 0.7835298180580139, 1.616766507998857e-12]\t(<RegionType.PARAGRAPH: 'paragraph'>, <RegionType.PHYSICAL_STRUCTURE_DOC: 'physical_structure_doc'>, <RegionType.TEXT_REGION: 'text_region'>, <RegionType.PAGEXML_DOC: 'pagexml_doc'>)\n",
      "END\tEND\t\"('indien het ons gelijck wij hooven', 'nog tijdig aen de hant komt', 'Waermede wij affbreeken, en uw Edle Ho.', \"\"agtb: alle tesamen, en ijder in't bijsonder\"\", 'naer onse eerbiedige groetenis, in de genadig', 'bescherming goodes almagtigh beveelen,', 'die gebeden blijft den staet', 'na', 'van de Generale Compagnie', 'U Edle Regeringe ende desteijnen', 'meer en meer te willen Tegenen', 'tot Eer en grootmaecking van zijnen', 'H. Naem, Welvaeren en reputatie', 'onses lieven vaderlants, en', 'na', 'voordeel der Generale', 'Participanten Amen.')\"\t[3.9535252849276503e-10, 2.240888585802736e-09, 1.0, 2.3906600000662494e-17]\t(<RegionType.PARAGRAPH: 'paragraph'>, <RegionType.PHYSICAL_STRUCTURE_DOC: 'physical_structure_doc'>, <RegionType.TEXT_REGION: 'text_region'>, <RegionType.PAGEXML_DOC: 'pagexml_doc'>)\n",
      "END\tEND\t\"(\"\"Batavia in 't Cas„\"\", '„teel van uwel Ed:', \"\"Hoog Agtb: den 3 d 4. ' Februarij\"\", 'hie Decber  1778.')\"\t[0.003043582895770669, 6.925963134563062e-06, 0.9969494938850403, 3.097073650055321e-14]\t(<RegionType.MARGINALIA: 'marginalia'>, <RegionType.PHYSICAL_STRUCTURE_DOC: 'physical_structure_doc'>, <RegionType.TEXT_REGION: 'text_region'>, <RegionType.PAGEXML_DOC: 'pagexml_doc'>)\n",
      "END\tEND\t('en betuijging dat wij zijn', 'Edele hoog Agtb: Heeren', 'Uwel Ed: Hoog Agtb: onderdanige', 'en getrouwe Dienaren', 'Den Gouverneur Generaal ende', 'Raden van India', 'Een')\t[3.46444903404834e-15, 1.3023786846176375e-19, 1.0, 3.6404342956719666e-22]\t(<RegionType.PARAGRAPH: 'paragraph'>, <RegionType.PHYSICAL_STRUCTURE_DOC: 'physical_structure_doc'>, <RegionType.TEXT_REGION: 'text_region'>, <RegionType.PAGEXML_DOC: 'pagexml_doc'>)\n",
      "BEGIN\tBEGIN\t('Wel Edele Hoog Agtbare', 'Wijse Voorsienige, en zeer', 'Genereuse Heeren.', 'Dat de derthien retourschepen van de')\t[0.927871823310852, 0.06918442994356155, 0.00294375023804605, 1.313241507726326e-12]\t(<RegionType.PARAGRAPH: 'paragraph'>, <RegionType.PHYSICAL_STRUCTURE_DOC: 'physical_structure_doc'>, <RegionType.TEXT_REGION: 'text_region'>, <RegionType.PAGEXML_DOC: 'pagexml_doc'>)\n",
      "BEGIN\tBEGIN\t('Gedateert den 25:e April A:o 1760.',)\t[0.9910549521446228, 0.003546958090737462, 0.005398017354309559, 1.6077720751961344e-12]\t(<RegionType.PARAGRAPH: 'paragraph'>, <RegionType.PHYSICAL_STRUCTURE_DOC: 'physical_structure_doc'>, <RegionType.TEXT_REGION: 'text_region'>, <RegionType.PAGEXML_DOC: 'pagexml_doc'>)\n",
      "END\tEND\t\"(\"\"aanbevoolen te hebben met 't meeste respect\"\", 'Wel Edele Hoog Agtbare wijze, voorzienige„', 'en zeer Genereuse Heeren', 'zuwer wel Edele Hoog Agtbare ootmoe„', '„dige en gehoorsaame Dienaaren', 'Den Gouverneur Generaal en de Raden', 'van Indië')\"\t[0.00026859057834371924, 2.5889720597395416e-13, 0.9997313618659973, 2.380990755013872e-17]\t(<RegionType.PARAGRAPH: 'paragraph'>, <RegionType.PHYSICAL_STRUCTURE_DOC: 'physical_structure_doc'>, <RegionType.TEXT_REGION: 'text_region'>, <RegionType.PAGEXML_DOC: 'pagexml_doc'>)\n",
      "BEGIN\tEND\t('Ed„le hoog agtbare gestrenge, wel', 'wijse, voorsienige, ende seer genereuse', 'heeren.')\t[0.9945749044418335, 2.6470932112943046e-09, 0.005425038281828165, 9.688301440806011e-16]\t(<RegionType.PARAGRAPH: 'paragraph'>, <RegionType.PHYSICAL_STRUCTURE_DOC: 'physical_structure_doc'>, <RegionType.TEXT_REGION: 'text_region'>, <RegionType.PAGEXML_DOC: 'pagexml_doc'>)\n",
      "BEGIN\tBEGIN\t('Edele Hoogh agtbare, Wijse,', 'voorsienige seer genereuse. —', 'Heeren. —')\t[0.9191449880599976, 1.99767600861378e-05, 0.08083502948284149, 1.5933116642458806e-13]\t(<RegionType.PARAGRAPH: 'paragraph'>, <RegionType.PHYSICAL_STRUCTURE_DOC: 'physical_structure_doc'>, <RegionType.TEXT_REGION: 'text_region'>, <RegionType.PAGEXML_DOC: 'pagexml_doc'>)\n",
      "IN\tIN\t('overde in - en afschryvingen', 'cheert')\t[0.027732202783226967, 0.9308621883392334, 0.04140564799308777, 2.2576072955526882e-12]\t(<RegionType.MARGINALIA: 'marginalia'>, <RegionType.PHYSICAL_STRUCTURE_DOC: 'physical_structure_doc'>, <RegionType.TEXT_REGION: 'text_region'>, <RegionType.PAGEXML_DOC: 'pagexml_doc'>)\n",
      "END\tIN\t('dienst ontslaagen in 1780',)\t[0.2166554480791092, 0.05306262895464897, 0.7302818894386292, 4.082503141154912e-15]\t(<RegionType.PHYSICAL_STRUCTURE_DOC: 'physical_structure_doc'>, <RegionType.TEXT_REGION: 'text_region'>, <RegionType.PAGEXML_DOC: 'pagexml_doc'>)\n",
      "IN\tIN\t('nog so schielijk geen gevaan werk te', 'kunnen krijgen alto de ministers berig„', 'ten dat door de verschrikkelijke aardbeving', 'op den 25: november des gepasseerden Jaars', 'voorgevallen weederom veele gebouwen', 'beschadigt en de smits winkel benevens', 'eenige muuren in de arthillerij ten', 'eenemaal waren ingestort so dat de', 'metselaars en timmerlieden hunne', 'dagelijkse beligheijt vonden met de', 'woningen van hunne voornaamtte', 'gebreken ter herstellen.', 'En dit artikel brengt seekerlyk', 'ook veel bij dat de lasten debepaling', 'bij de memorie van menage nog in„', '„mer te boven gaan hebbende deselve')\t[4.7069610786820704e-07, 0.9999786615371704, 2.0875822883681394e-05, 5.984993859016463e-14]\t(<RegionType.PARAGRAPH: 'paragraph'>, <RegionType.PHYSICAL_STRUCTURE_DOC: 'physical_structure_doc'>, <RegionType.TEXT_REGION: 'text_region'>, <RegionType.PAGEXML_DOC: 'pagexml_doc'>)\n",
      "IN\tIN\t('dat gantsche Ceremonieel',)\t[1.452442148774935e-07, 0.9990400671958923, 0.0009597571915946901, 1.8423357032030157e-17]\t(<RegionType.MARGINALIA: 'marginalia'>, <RegionType.PHYSICAL_STRUCTURE_DOC: 'physical_structure_doc'>, <RegionType.TEXT_REGION: 'text_region'>, <RegionType.PAGEXML_DOC: 'pagexml_doc'>)\n",
      "IN\tIN\t('so mede tegens den', 'morshandel in', 'Canneet Olij.')\t[0.0009138004388660192, 0.999022364616394, 6.38288474874571e-05, 2.70483315649786e-13]\t(<RegionType.MARGINALIA: 'marginalia'>, <RegionType.PHYSICAL_STRUCTURE_DOC: 'physical_structure_doc'>, <RegionType.TEXT_REGION: 'text_region'>, <RegionType.PAGEXML_DOC: 'pagexml_doc'>)\n",
      "END\tEND\t('van uw wel Ed: Hoog Agtb:',)\t[0.0005468642921186984, 5.365759836450934e-09, 0.9994531273841858, 1.9643914913712565e-19]\t(<RegionType.MARGINALIA: 'marginalia'>, <RegionType.PHYSICAL_STRUCTURE_DOC: 'physical_structure_doc'>, <RegionType.TEXT_REGION: 'text_region'>, <RegionType.PAGEXML_DOC: 'pagexml_doc'>)\n",
      "IN\tIN\t('Onder dit selvde Hoofddeel, bij ver',)\t[0.004510196857154369, 0.9954774975776672, 1.2356271327007562e-05, 4.480421770896269e-14]\t(<RegionType.PARAGRAPH: 'paragraph'>, <RegionType.PHYSICAL_STRUCTURE_DOC: 'physical_structure_doc'>, <RegionType.TEXT_REGION: 'text_region'>, <RegionType.PAGEXML_DOC: 'pagexml_doc'>)\n",
      "IN\tBEGIN\t('Wij verzoeken eerbiedig ons te mogen gedragen aande afschriften', 'eersten', 'onzer Iongste van den 8:e d) en 6: November, zijnde van eerstgem', 'reeds een origineel en Dupp=t met twee differente Engelsche', 'scheepen afgezonden over Tranquibaar terwijl het Tripli„', '„caat neevens het origineel vande tweede gemelde aan uwelEd:', 'Hoog Achtb: zal worden afgezonden met de Paket boot de', 'Expeditie welke zeildach bepaald, is geweest op den 14. der', 'gepasseerde maand, doch seedert opgehouden is geworden', 'ter afwagting van de depeches die de Hoog Edelheeren Com„', '„missarissen Generaal over geheel Neederlandsch Indien daer')\t[0.4279318153858185, 0.4474620521068573, 0.12460608780384064, 3.973927853451187e-10]\t(<RegionType.PARAGRAPH: 'paragraph'>, <RegionType.PHYSICAL_STRUCTURE_DOC: 'physical_structure_doc'>, <RegionType.TEXT_REGION: 'text_region'>, <RegionType.PAGEXML_DOC: 'pagexml_doc'>)\n",
      "BEGIN\tBEGIN\t('Edele Hoogh achtbare wijse', 'voorsienige seer Genereuse', 'Heeren')\t[0.9999792575836182, 9.912606735440477e-09, 2.0799367121071555e-05, 2.159250433440252e-17]\t(<RegionType.PARAGRAPH: 'paragraph'>, <RegionType.PHYSICAL_STRUCTURE_DOC: 'physical_structure_doc'>, <RegionType.TEXT_REGION: 'text_region'>, <RegionType.PAGEXML_DOC: 'pagexml_doc'>)\n",
      "IN\tIN\t('dis bekoning van dehand', 'gemasen.')\t[0.007009129039943218, 0.9539441466331482, 0.0390467494726181, 2.3456551371398016e-12]\t(<RegionType.MARGINALIA: 'marginalia'>, <RegionType.PHYSICAL_STRUCTURE_DOC: 'physical_structure_doc'>, <RegionType.TEXT_REGION: 'text_region'>, <RegionType.PAGEXML_DOC: 'pagexml_doc'>)\n",
      "IN\tIN\t('Rompe waermede zij de hand',)\t[0.05530256778001785, 0.87095707654953, 0.07374037802219391, 5.9717876836325266e-15]\t(<RegionType.MARGINALIA: 'marginalia'>, <RegionType.PHYSICAL_STRUCTURE_DOC: 'physical_structure_doc'>, <RegionType.TEXT_REGION: 'text_region'>, <RegionType.PAGEXML_DOC: 'pagexml_doc'>)\n",
      "IN\tIN\t('Een memorie weg:s de', 'Erreuren inde soldij boeken', 'van het voorige Jaer heeft', 'ter observantie')\t[7.559806545032188e-05, 0.9972724318504333, 0.0026519151870161295, 4.729507457970096e-16]\t(<RegionType.MARGINALIA: 'marginalia'>, <RegionType.PHYSICAL_STRUCTURE_DOC: 'physical_structure_doc'>, <RegionType.TEXT_REGION: 'text_region'>, <RegionType.PAGEXML_DOC: 'pagexml_doc'>)\n",
      "END\tBEGIN\t('22:—:—: ƒ 4267: 2:', '15: —:—:')\t[0.0014214330585673451, 0.0006909238873049617, 0.9978876709938049, 3.317230387947512e-14]\t(<RegionType.PARAGRAPH: 'paragraph'>, <RegionType.PHYSICAL_STRUCTURE_DOC: 'physical_structure_doc'>, <RegionType.TEXT_REGION: 'text_region'>, <RegionType.PAGEXML_DOC: 'pagexml_doc'>)\n",
      "IN\tIN\t('§ 67: Bij de meerm: missive van den 30.', 'slegte gesteld„ Januarij 1791 N 152 en 153. hebben de', 'ontvangene Tutu bediendens ons gemeld, dat de', 'en ordre daarom Tutucorijnsche doeken, die zij in', '1790. ontvangen hadden, weeder zeer', 'sterk gevlakt waren bevonden.', 'wij hebben derhalven op het door', 'hen daar toe gedaan verzoek, de', 'Ceelmsche Ministers, onder toe', 'zending van een Extract uit even„', 'gen: missive gerecommandeerd, om', 'teegens de overzending van sterk', 'gevlakte Lijwaaten de nodige', 'precautien te stellen')\t[7.045759531365547e-08, 0.9999994039535522, 5.018820843361027e-07, 3.161401821344433e-15]\t(<RegionType.PARAGRAPH: 'paragraph'>, <RegionType.PHYSICAL_STRUCTURE_DOC: 'physical_structure_doc'>, <RegionType.TEXT_REGION: 'text_region'>, <RegionType.PAGEXML_DOC: 'pagexml_doc'>)\n",
      "END\tBEGIN\t('voorzeilder', 'etourvloot')\t[0.000213155712117441, 0.0002513188519515097, 0.9995355606079102, 2.11297992991355e-11]\t(<RegionType.MARGINALIA: 'marginalia'>, <RegionType.PHYSICAL_STRUCTURE_DOC: 'physical_structure_doc'>, <RegionType.TEXT_REGION: 'text_region'>, <RegionType.PAGEXML_DOC: 'pagexml_doc'>)\n",
      "BEGIN\tBEGIN\t('per des Retourscheepen Edeld, hoog-Agtbare,', 'Tandenburg etc:', 'Wijse, Voorsienige, ende', 'onder de vlagge van', 'de Hr: Raad Extraord', 'seer genereuse Heeren', 'Joannes van Steeland.')\t[0.9999866485595703, 5.150997139935498e-08, 1.3352506357477978e-05, 8.996399401467784e-16]\t(<RegionType.PARAGRAPH: 'paragraph'>, <RegionType.PHYSICAL_STRUCTURE_DOC: 'physical_structure_doc'>, <RegionType.TEXT_REGION: 'text_region'>, <RegionType.PAGEXML_DOC: 'pagexml_doc'>)\n",
      "END\tEND\t('Cavel hartsinck', 'Oudtshoorn', 'Verburch', 'Steur.')\t[5.043029887019657e-06, 4.729276881221267e-08, 0.9999949932098389, 1.5773162993638863e-16]\t(<RegionType.PHYSICAL_STRUCTURE_DOC: 'physical_structure_doc'>, <RegionType.TEXT_REGION: 'text_region'>, <RegionType.PAGEXML_DOC: 'pagexml_doc'>, <RegionType.SIGNATURE_MARK: 'signature-mark'>)\n",
      "IN\tEND\t\"('welcke in voorige tijden plachten betaelt te werden; doch', \"\"alle onse Inductien, soo't schijnt, conden haer van hun voornemen\"\", 'niet doen affstaen, maer persisteerden vast daerbij, dat hij naer', 'Bantam wilden ende moesten gaen. Wij en vonden niet', 'goet haer prompte ende resolute antwoorde hier op te geuen,', 'maer naemen (alsoot een saecke van grooten gewichte was,', 'tijdt van beraedt; Ondertusschen sijn sij tot noch toe om', 'antwoorde niet wederom gecomen; wij geloouen vastel dit', 'haer voorstel principalijck tendeert, om in cas van resistentie', 'actie tegen UEd: op te leggen, te meer om dat wij genouchsaem', 'verseeckert sijn, dat sij tegenwoordich van middelen gants', 'ontbloot sitten, Immer van soodaenige, als tot den peperhandel', 'van Bantam gerequireert werden; alsoo niet anders hebbende', 'sijn, als haer Jongst sober becomen ontsedt, met haer Mauritius', 'van Choromandelsche Cleeden, welcke altsaenen noch voor Bantam in', 'niet dienstich sijn, ende dienvolgende weijnich tot vorderinge', 'van den handel aldaer connen bij brengen. Ons voornemen', 'i', 'Is De saecke soo te beleijden, dat U Een. ten Desen regarde', 'in Europa geene molestatie ontstae, sonder nochtans haer onse', 'toestemminge off consent toe te seggen, maer haer op hun', 'eijgen goetvinden te laten gewerden) te meer om dat', 'Bantam meest alle sijn peper tot Battavia Geleust heeft,', 'ende de weijnige resterende, welcke op schaers 10 O sacken', 'estimeren, ten meerderen deele, eerlang van daer hoopen te', 'becomen: Soo dat sij schoon nae Bantam gaende, HEd:', 'aldaer minder voordeel sullen connen affsien, als niet', 'Actien in Europa beswaren, indien wij haer alhier eenich', 'empeschement boden. Met volgende gelegentheijt hebben UEden', 'Particulierder bescheijdt te verwachten, soo van der Engelschen', 'aenspraecke, als mede vande redenen ende weder redenen', 'aen wedersijden gevallen, ende wat voirder bij haer in desen', 'sal wesen geIntendeert, Ons mede desen aengaende', \"\"refererende aende mondelinge rapporten van d'ouergaende\"\", 'Vrunden')\"\t[0.049367986619472504, 0.8936343193054199, 0.05699768289923668, 1.316126136026441e-12]\t(<RegionType.PARAGRAPH: 'paragraph'>, <RegionType.PHYSICAL_STRUCTURE_DOC: 'physical_structure_doc'>, <RegionType.TEXT_REGION: 'text_region'>, <RegionType.PAGEXML_DOC: 'pagexml_doc'>)\n",
      "IN\tIN\t('hand stellen, grood en ten behoeve als even,', 'de ndern asvorgaarde in sleede van de twee Eerste die absent ge„', 'raakt zijn, op welks, wij zo wel betating ver', '„zoeken als de Compleite voldoening in de onder', 'sheede specienr en Articulen van onsen')\t[0.09647715091705322, 0.895975649356842, 0.007547195069491863, 2.4161083290313856e-12]\t(<RegionType.PARAGRAPH: 'paragraph'>, <RegionType.PHYSICAL_STRUCTURE_DOC: 'physical_structure_doc'>, <RegionType.TEXT_REGION: 'text_region'>, <RegionType.PAGEXML_DOC: 'pagexml_doc'>)\n",
      "IN\tIN\t('of tagulanda was nog geen',)\t[0.1993759125471115, 0.8005960583686829, 2.806049451464787e-05, 1.911256323019507e-14]\t(<RegionType.MARGINALIA: 'marginalia'>, <RegionType.PHYSICAL_STRUCTURE_DOC: 'physical_structure_doc'>, <RegionType.TEXT_REGION: 'text_region'>, <RegionType.PAGEXML_DOC: 'pagexml_doc'>)\n",
      "BEGIN\tIN\t('schip volgoet', 'aan de verwagting')\t[0.9719811081886292, 0.021107053384184837, 0.006911791395395994, 9.144506156319853e-17]\t(<RegionType.MARGINALIA: 'marginalia'>, <RegionType.PHYSICAL_STRUCTURE_DOC: 'physical_structure_doc'>, <RegionType.TEXT_REGION: 'text_region'>, <RegionType.PAGEXML_DOC: 'pagexml_doc'>)\n",
      "IN\tIN\t\"('batavia gedoente van haer Eerw: wel na eene', 'Compleete illusie onser niet Eens maer', 'te meermalen gegevene beveelen enin„', \"\"sonderheijt van d' afkeuring hunner\"\", 'in A:o 1729 gedane verkiesing geleijken„', 'de, en dienvolgende al ruijm soo min', 'die om redenen mede af„ dan de voorige goed te keuren sijnde,', 'heeft men dese laatste verkiesing', \"\"almeede g'improbeerd, en haer Eerw:\"\", 'daer benev:s met eenen gerecommand:t', 'daer omtrend met wat meerder dis„', 'tincte van personen reflectie op haer', \"\"Caracter en d' ampten die deselve\"\", 'dog Een derde nrominatie bekleeden te werk te gaen het geene E', 'dan ook in soo verre bij den kerkenraad', 'schijnt in agt genoomen te weesen dat')\"\t[3.6383862589417504e-10, 0.9999842643737793, 1.576844988449011e-05, 6.748084380066028e-16]\t(<RegionType.PARAGRAPH: 'paragraph'>, <RegionType.PHYSICAL_STRUCTURE_DOC: 'physical_structure_doc'>, <RegionType.TEXT_REGION: 'text_region'>, <RegionType.PAGEXML_DOC: 'pagexml_doc'>)\n",
      "END\tEND\t('Batavia in uw Hoog', 'Elens', 'Ed: Casteel den eersten', 'december A:o 1703.')\t[3.025903794195983e-08, 6.632992488597722e-10, 1.0, 1.3194717774399805e-18]\t(<RegionType.MARGINALIA: 'marginalia'>, <RegionType.PHYSICAL_STRUCTURE_DOC: 'physical_structure_doc'>, <RegionType.TEXT_REGION: 'text_region'>, <RegionType.PAGEXML_DOC: 'pagexml_doc'>)\n",
      "BEGIN\tEND\t('gecollationeert door',)\t[0.9079042673110962, 0.00027052330551669, 0.09182514995336533, 8.789238867962235e-13]\t(<RegionType.PARAGRAPH: 'paragraph'>, <RegionType.PHYSICAL_STRUCTURE_DOC: 'physical_structure_doc'>, <RegionType.TEXT_REGION: 'text_region'>, <RegionType.PAGEXML_DOC: 'pagexml_doc'>)\n",
      "IN\tIN\t('dat omtrend Eueropeese du„', 'caten en goude mooren„', 'Insgelijx zal moeten', 'geschieden.')\t[2.474149496389799e-10, 0.9999990463256836, 9.176557682621933e-07, 1.1687020469546954e-16]\t(<RegionType.MARGINALIA: 'marginalia'>, <RegionType.PHYSICAL_STRUCTURE_DOC: 'physical_structure_doc'>, <RegionType.TEXT_REGION: 'text_region'>, <RegionType.PAGEXML_DOC: 'pagexml_doc'>)\n",
      "END\tEND\t('Batavia, int Casteel', 'van uwel Edele Hoog', 'Agtbare, den 15:e', 'October Ao: 1768')\t[3.474368713796139e-05, 3.463811015791407e-09, 0.9999653100967407, 1.6813386868087067e-18]\t(<RegionType.PARAGRAPH: 'paragraph'>, <RegionType.PHYSICAL_STRUCTURE_DOC: 'physical_structure_doc'>, <RegionType.TEXT_REGION: 'text_region'>, <RegionType.PAGEXML_DOC: 'pagexml_doc'>)\n",
      "END\tBEGIN\t('Den Gouverneur generaal', 'ende de raden van Jndia.', '„—', 'Jan Camphuijs', 'Anth. hurd', 'W: van Outhoorn')\t[0.001842983067035675, 3.982753332820721e-05, 0.998117208480835, 1.3265233432694848e-16]\t(<RegionType.PARAGRAPH: 'paragraph'>, <RegionType.PHYSICAL_STRUCTURE_DOC: 'physical_structure_doc'>, <RegionType.TEXT_REGION: 'text_region'>, <RegionType.PAGEXML_DOC: 'pagexml_doc'>)\n",
      "BEGIN\tBEGIN\t('Aan de wel Edele Hoog Achtbare Heeren', 'Bewindhebberen', 'Ter vergadering van ƒV 1=en gecommit„', 'teerd de generale Nederlandsche', 'geoctroijeerde Oost Jndische', 'Comp: representeerende', 'ter Praesidiale', 'kamer')\t[0.9998369216918945, 8.784778628978529e-07, 0.000162168696988374, 1.0234775334638964e-14]\t(<RegionType.PARAGRAPH: 'paragraph'>, <RegionType.PHYSICAL_STRUCTURE_DOC: 'physical_structure_doc'>, <RegionType.TEXT_REGION: 'text_region'>, <RegionType.PAGEXML_DOC: 'pagexml_doc'>)\n",
      "IN\tBEGIN\t('aan de scheepen hollantsen thuijn', 'en vrijheijt nagesonden.')\t[0.14594164490699768, 0.8523961901664734, 0.0016622381517663598, 1.4806387019228318e-11]\t(<RegionType.MARGINALIA: 'marginalia'>, <RegionType.PHYSICAL_STRUCTURE_DOC: 'physical_structure_doc'>, <RegionType.TEXT_REGION: 'text_region'>, <RegionType.PAGEXML_DOC: 'pagexml_doc'>)\n",
      "END\tBEGIN\t('Ontfangen over Eng', 'lant den 7 Octob. 1679')\t[0.018319202587008476, 0.00014276932051870972, 0.9815380573272705, 1.6244205416557356e-12]\t(<RegionType.MARGINALIA: 'marginalia'>, <RegionType.PHYSICAL_STRUCTURE_DOC: 'physical_structure_doc'>, <RegionType.TEXT_REGION: 'text_region'>, <RegionType.PAGEXML_DOC: 'pagexml_doc'>)\n",
      "IN\tIN\t('dus besluijt overde', 'vermindering den diena', 'ren &=a')\t[1.018337206915021e-05, 0.9693298935890198, 0.030659964308142662, 7.956144051142911e-15]\t(<RegionType.MARGINALIA: 'marginalia'>, <RegionType.PHYSICAL_STRUCTURE_DOC: 'physical_structure_doc'>, <RegionType.TEXT_REGION: 'text_region'>, <RegionType.PAGEXML_DOC: 'pagexml_doc'>)\n",
      "END\tEND\t('Riebeeck', 'C van Swoll', 'Abraham Dougla', 'L„r Dever', 'v')\t[1.0179364835494198e-05, 2.147268423868809e-05, 0.999968409538269, 1.8570900568205817e-13]\t(<RegionType.PARAGRAPH: 'paragraph'>, <RegionType.PHYSICAL_STRUCTURE_DOC: 'physical_structure_doc'>, <RegionType.TEXT_REGION: 'text_region'>, <RegionType.PAGEXML_DOC: 'pagexml_doc'>)\n",
      "END\tBEGIN\t('Nagezien', 'E„ „ d„r straaten')\t[0.008457133546471596, 0.035445891320705414, 0.9560970067977905, 1.2515837975388133e-12]\t(<RegionType.MARGINALIA: 'marginalia'>, <RegionType.PHYSICAL_STRUCTURE_DOC: 'physical_structure_doc'>, <RegionType.TEXT_REGION: 'text_region'>, <RegionType.PAGEXML_DOC: 'pagexml_doc'>)\n",
      "IN\tIN\t('187. Voorts bij voorn: bericht noch', 'gevorderde aangetoond zijnde, dat onder de', 'van een ver„verminderde inkomsten ook', 'was een bedragen van rd 2243:', '21„„–: „ Kelke Piaconen vermeen', '„den, dat door den Negotie boekhou', '„der bij de bereekening der renten„', 'op het bij de Comp: â deposito voort', '„lopend Capitaal, te min beree„', '„kend waaren geworden, zoo is dien', 'bediende door ons gelast, om', 'daar omtrend nadere Nawwijsing')\t[2.430244672169124e-09, 1.0, 1.6418559567465962e-10, 4.636203403933136e-18]\t(<RegionType.PARAGRAPH: 'paragraph'>, <RegionType.PHYSICAL_STRUCTURE_DOC: 'physical_structure_doc'>, <RegionType.TEXT_REGION: 'text_region'>, <RegionType.PAGEXML_DOC: 'pagexml_doc'>)\n",
      "END\tIN\t('En', 'Transporteere ƒ23960: 1: ƒ8286:9:')\t[0.0009913856629282236, 0.026827512308955193, 0.9721811413764954, 1.5930468923344807e-16]\t(<RegionType.PARAGRAPH: 'paragraph'>, <RegionType.PHYSICAL_STRUCTURE_DOC: 'physical_structure_doc'>, <RegionType.TEXT_REGION: 'text_region'>, <RegionType.PAGEXML_DOC: 'pagexml_doc'>)\n",
      "BEGIN\tBEGIN\t('wel Edele Hoog Agtbaare wijze voorzini„', '„ge en zeer Genereuse, Heeren.')\t[0.9999943971633911, 6.027780585782239e-08, 5.489084287546575e-06, 4.0473394195185e-19]\t(<RegionType.PARAGRAPH: 'paragraph'>, <RegionType.PHYSICAL_STRUCTURE_DOC: 'physical_structure_doc'>, <RegionType.TEXT_REGION: 'text_region'>, <RegionType.PAGEXML_DOC: 'pagexml_doc'>)\n",
      "IN\tBEGIN\t('15. „ tucucoreijns vlaggedoek',)\t[0.3423584997653961, 0.6415411233901978, 0.016100438311696053, 4.0056076511252314e-11]\t(<RegionType.PHYSICAL_STRUCTURE_DOC: 'physical_structure_doc'>, <RegionType.TEXT_REGION: 'text_region'>, <RegionType.PAGEXML_DOC: 'pagexml_doc'>)\n",
      "BEGIN\tIN\t('goede hoop tot verkoop van', 'goederen.')\t[0.659027099609375, 0.3407829701900482, 0.00018992515106219798, 6.456449264113928e-11]\t(<RegionType.MARGINALIA: 'marginalia'>, <RegionType.PHYSICAL_STRUCTURE_DOC: 'physical_structure_doc'>, <RegionType.TEXT_REGION: 'text_region'>, <RegionType.PAGEXML_DOC: 'pagexml_doc'>)\n",
      "BEGIN\tBEGIN\t('Aan de WelEdele Hoog Agtbare Heeren Bewindhebberen', 'Ter Vergadering van zeventhienen gecommitteerd,', 'De Generaale Nederlandsche geoctroyeerde', 'oost Indische Compagnie representerende', 'ter Praesidiale kamer')\t[0.9999558925628662, 9.906018469700226e-14, 4.404824358061887e-05, 3.8936531391152687e-19]\t(<RegionType.PARAGRAPH: 'paragraph'>, <RegionType.PHYSICAL_STRUCTURE_DOC: 'physical_structure_doc'>, <RegionType.TEXT_REGION: 'text_region'>, <RegionType.PAGEXML_DOC: 'pagexml_doc'>)\n",
      "END\tEND\t('te gebruicken als om tot kleedinge voor de ministers', 'ende jngezetenen vercocht te werden, maer om', 'tot schenckagie te gebruijcken, soude dienstich wezen', 'dat UEd. ons konde toe zenden stucken van niet meer', 'als 15 a 16 ellen alzoo een geheel stuck anders dickmaels', 'te hooge beloopt, ende het gescheurde voor lappen', 'aengezien wort, en soo aengenaem niet en is, daer', 'UEd op gelieven te letten, de groenen, schoon geele', 'coleur den acker ende hooch roode couleuren sijn onder', 'deze natien boven anderen gewilt', 'Deze komt U Ed toe met het Engels schip de', 'Willem waerbij tot vorder extentie deesmael sonder-', 'linge niets offreszerende zullen.', 'UEdele erentfeste wijze voorsienige zeer bescheijdene', 'Heeren UEd naer geheel eerbiedige ende hartgrondige', 'groete ende heijlsame protestie des alderhoogsten', 'gerecomandeert houden, die U Ed deszijnen gelieve', 'te begenadigen', 'Geschreven in UEd Casteel Batavia den 10 feb. . Ao 1651', 'UEd Vrouschuldige dienaeren der', 'Gouverneur generael & Raden van India', 'Carel Rrenier', 'Loan Maetsuycker', 'Gerard Demmer', 'Joan Cunaeus', 'Wilhem', 'Jacob de With', 'P. S. Steur')\t[8.452236943412572e-05, 2.4245573513326235e-05, 0.9998912811279297, 2.6512794052340827e-15]\t(<RegionType.PARAGRAPH: 'paragraph'>, <RegionType.PHYSICAL_STRUCTURE_DOC: 'physical_structure_doc'>, <RegionType.TEXT_REGION: 'text_region'>, <RegionType.PAGEXML_DOC: 'pagexml_doc'>)\n",
      "END\tEND\t('franse Castelijn', 'Matth„s De Haan')\t[1.5960213204380125e-05, 2.5312424440926407e-06, 0.9999815225601196, 2.1687228293591765e-14]\t(<RegionType.PARAGRAPH: 'paragraph'>, <RegionType.PHYSICAL_STRUCTURE_DOC: 'physical_structure_doc'>, <RegionType.TEXT_REGION: 'text_region'>, <RegionType.PAGEXML_DOC: 'pagexml_doc'>)\n",
      "IN\tEND\t\"(\"\"31. ' Januarij 1730. —\"\",)\"\t[0.003361874958500266, 0.6075268387794495, 0.3891112804412842, 2.1003147138154432e-11]\t(<RegionType.PARAGRAPH: 'paragraph'>, <RegionType.PHYSICAL_STRUCTURE_DOC: 'physical_structure_doc'>, <RegionType.TEXT_REGION: 'text_region'>, <RegionType.PAGEXML_DOC: 'pagexml_doc'>)\n",
      "IN\tIN\t('Niet dan bij gebrek zind', 'men ondere dan gevragn', 'specie')\t[4.6262033720267937e-05, 0.9986333250999451, 0.0013203542912378907, 5.820867659406259e-12]\t(<RegionType.MARGINALIA: 'marginalia'>, <RegionType.PHYSICAL_STRUCTURE_DOC: 'physical_structure_doc'>, <RegionType.TEXT_REGION: 'text_region'>, <RegionType.PAGEXML_DOC: 'pagexml_doc'>)\n",
      "IN\tIN\t\"('Dat zedert eenigen tijd herwaarts', 'die van de Chinese-natie, zo inde boven', 'Landen als binnen dese Stad, ende', 'voor-steeden van dien, haar zonder', 'eenige wettige reden of oirsaak niet', 'hebben komen te ontzien diverse', 'Commotien aan te regten, mitsgads', 'verder tot een openbare Rebellie', \"\"tegens d'E Comp:e uijt te bersten\"\", 'in zo verre zelfs, dat zij met alleen')\"\t[6.206425496202428e-06, 0.9999275207519531, 6.623338413191959e-05, 4.494683349332484e-15]\t(<RegionType.PARAGRAPH: 'paragraph'>, <RegionType.PHYSICAL_STRUCTURE_DOC: 'physical_structure_doc'>, <RegionType.TEXT_REGION: 'text_region'>, <RegionType.PAGEXML_DOC: 'pagexml_doc'>)\n",
      "IN\tIN\t('in sulen directel / allen Adrichen',)\t[0.007477233652025461, 0.9007688164710999, 0.09175392985343933, 9.792469298549461e-14]\t(<RegionType.MARGINALIA: 'marginalia'>, <RegionType.PHYSICAL_STRUCTURE_DOC: 'physical_structure_doc'>, <RegionType.TEXT_REGION: 'text_region'>, <RegionType.PAGEXML_DOC: 'pagexml_doc'>)\n",
      "IN\tBEGIN\t('Gedateerd den 29. April A„o 1773',)\t[0.2278434932231903, 0.7539930939674377, 0.01816345937550068, 4.0485673147294676e-10]\t(<RegionType.PARAGRAPH: 'paragraph'>, <RegionType.PHYSICAL_STRUCTURE_DOC: 'physical_structure_doc'>, <RegionType.TEXT_REGION: 'text_region'>, <RegionType.PAGEXML_DOC: 'pagexml_doc'>)\n",
      "IN\tIN\t('Dog den gouv:r en raad', 'aanbevolen haar intoe„', 'te wagten')\t[8.328385092681856e-07, 0.9999842643737793, 1.4938810636522248e-05, 1.1056155889085668e-15]\t(<RegionType.MARGINALIA: 'marginalia'>, <RegionType.PHYSICAL_STRUCTURE_DOC: 'physical_structure_doc'>, <RegionType.TEXT_REGION: 'text_region'>, <RegionType.PAGEXML_DOC: 'pagexml_doc'>)\n",
      "END\tEND\t\"('weten', 'Oostcappel van Jambij met 3000. picols ofte 150. lasten peper, die aen N:', 'Rotterdam word overgegeven.', 'Ende den Engel van Cambodja, met 125. lasten rijs, eenigen Benjuijn, —', \"\"gommelacca, Gout, lauwse Muscus, rs. d'adeijsen vande respective\"\", 'Comptoiren worden U. Ed: pe. voors. Rotterdam, gecommuniceert,', 'Soo verwachten alle ure den vice gouverneur Jan van Tobist met', 'nader advijsen van Malacca, desen dan affbreeckende', 'sullen u. Ed:', 'Achtbare, wijse, voorsienige, en seer bescheijdene heeren, naer onse', 'eerbiedige groete, inde genadige beschermingh vanden Almogenden', 'bevolen laten, die u. Ed: Indisen stand meer en meer gelieve', 'te regenen, tot verbreijdingh van sijn heijligen Naem, reputatie', 'onses vaderlands, ende voordeel der gemene participanten.', 'Amen.')\"\t[0.0034741030540317297, 3.0751707527088e-05, 0.9964951872825623, 9.746272799232569e-14]\t(<RegionType.PARAGRAPH: 'paragraph'>, <RegionType.PHYSICAL_STRUCTURE_DOC: 'physical_structure_doc'>, <RegionType.TEXT_REGION: 'text_region'>, <RegionType.PAGEXML_DOC: 'pagexml_doc'>)\n",
      "IN\tBEGIN\t('Dat het onderwerp van ons secreet schrijven van den', '24 October 1778, eene zeer onaangenaame stoffe', 'voor UwelEdele Hoog Agtb: deliberatien zoude ople„', '„veren, dicteerde ons vooraf de aard der zaake,')\t[0.1574472188949585, 0.8420171141624451, 0.0005356763140298426, 1.4196984516809397e-12]\t(<RegionType.PARAGRAPH: 'paragraph'>, <RegionType.PHYSICAL_STRUCTURE_DOC: 'physical_structure_doc'>, <RegionType.TEXT_REGION: 'text_region'>, <RegionType.PAGEXML_DOC: 'pagexml_doc'>)\n",
      "IN\tBEGIN\t\"(\"\"Agent wegen 't retourneren\"\", 'hunner 2 schepen van bantam', 'ontfangen.')\"\t[0.0207326989620924, 0.9788756370544434, 0.0003916898858733475, 8.332687465647127e-15]\t(<RegionType.MARGINALIA: 'marginalia'>, <RegionType.PHYSICAL_STRUCTURE_DOC: 'physical_structure_doc'>, <RegionType.TEXT_REGION: 'text_region'>, <RegionType.PAGEXML_DOC: 'pagexml_doc'>)\n",
      "IN\tIN\t('nodige orders te stellen, en een ieder te waar„', '„schouwen, dat men geen de minste over„', '„treding der passen, waaromtrent men het', 'verregaand misbruik, dat daar van reeds', 'gemaakt was, maar altezeer in de Blok„', '„Rade van Riouw had ontwaard, zou Con„', '„niveeren of dulden, maar dese interdic„', '„tie na rigeur executeeren, terwijl wij ten', 'opzigte van Palembang, wienst vorst,', 'zo het scheen, aan den hand kwam, en', 'tragtede genoegen te geven, alleen toeston„', '„den den vervoer derw„s mondjes maat,', 'en niet meer als men tot eigen Consump„', '„tie oordeelde nodig te zijn, om dus ook al„', '„daar de occagie aftesnijden, dat geen', 'verkeerde wegen wierden ingeslagen,', 'het geen toen te noodsakelijker was, mits', 'de opbraak der blokkade van Riouw en', 'het gevaar van een Jnvasie, waarmede', 'Malacca gedreigd wierd, zo door de Ri„')\t[8.290896857943153e-09, 0.9999971389770508, 2.886104539356893e-06, 1.2523272857904635e-14]\t(<RegionType.PARAGRAPH: 'paragraph'>, <RegionType.PHYSICAL_STRUCTURE_DOC: 'physical_structure_doc'>, <RegionType.TEXT_REGION: 'text_region'>, <RegionType.PAGEXML_DOC: 'pagexml_doc'>)\n",
      "IN\tEND\t('na ceijlon uijt de tafel„', 'daij')\t[0.3277415633201599, 0.6634381413459778, 0.00882029440253973, 2.016252616254821e-12]\t(<RegionType.MARGINALIA: 'marginalia'>, <RegionType.PHYSICAL_STRUCTURE_DOC: 'physical_structure_doc'>, <RegionType.TEXT_REGION: 'text_region'>, <RegionType.PAGEXML_DOC: 'pagexml_doc'>)\n",
      "IN\tIN\t('men attribueerd', 'vallen negen en het ver„', 'loopen der Iavaanse', 'huurlingen')\t[2.868583806048264e-07, 0.9999996423721313, 2.748549654540966e-08, 4.7071123038913866e-17]\t(<RegionType.MARGINALIA: 'marginalia'>, <RegionType.PHYSICAL_STRUCTURE_DOC: 'physical_structure_doc'>, <RegionType.TEXT_REGION: 'text_region'>, <RegionType.PAGEXML_DOC: 'pagexml_doc'>)\n",
      "BEGIN\tBEGIN\t('Edele, Agtbaere,', 'wijse, voorsienige,', 'en seer genereuse', 'Heeren')\t[1.0, 3.308756379993838e-09, 3.5136795816653743e-12, 1.6273681710488574e-17]\t(<RegionType.PARAGRAPH: 'paragraph'>, <RegionType.PHYSICAL_STRUCTURE_DOC: 'physical_structure_doc'>, <RegionType.TEXT_REGION: 'text_region'>, <RegionType.PAGEXML_DOC: 'pagexml_doc'>)\n",
      "IN\tBEGIN\t\"('Ed: Hoog agtb: gestrenge wijse man hafte', 'Pr d Engels Jagt de Aymuij marchian', 'voorsinnige seer Genereuse Heeren', 'Over Engelandt', 'Ed: hoog: Agtbare heeren', 'Dewijle de Heeren Engelse, althans door haar deslogiement uijt bantam, alhier in Comp:s stadt,', 'residerende, haer gehuurde schip daymuij Marchiant, onder den Capitein Nicolasen, naer engelandt', 'Expedieren, twelk inde maenden maij en Iunij met nog vier andere met name de China Marchiant, de', \"\"Toncquin Marcheant, de kent en d'oklander, hier ter rheede uijt engelandt gearriveert was, zoo hebben wij\"\", 'Gemeent van onsen pligt tewesen, uEd: Agtb: door dit kort proe advis, eerbiedelijk teverstendigen, summenlijk', \"\"en ins generale termen 't voorneemste van't geene, zedert onsen onderdanigen Jongsten vanden 29 xb:r\"\", 'p:r de scheepen Hollandse Thuyn en vryheijt, beijde aende Camer Zeelandt geconsigneert, in sonderheijt hier', \"\"bij en omtrent geoccureert en voorgevallen zij, om uEd: kort nadesen, en soo wij hoopen tegen 't Eijnde\"\", 'van dese maent, door de gereede fluijten thuijs te spik, ende thuijs te strijen gehorende tot het retour vanden', \"\"Jaere 1681, mitsgaders 't kloecke schip Europa, op affkortinge van dit Jaars remis, van't een en\"\", \"\"'t ander uEd: staet in Jndia betreffende, met de vereijschte omstandigheden schuldige reeckeninge tee\"\", 'en gelijk uEd: Agtb: uijt onse voorige brieven alvoordesen sullen verstaen hebben, dat de saaken op', 'Bantam tusschen den gewesen ouden, en zyn oudste soon den Jongen Co: int midden vanden Iaere 1680', 'tot absoluijt Co: met alle de gewoonlyke verbewysingen opentlijk geinstalleere, sig selff de regeringe', 'tenemael onttreckende, alsmede tusschen de voorneemste grooten bestaende in menigte princen vanden', 'bloede, soo broeders als soonen vanden Oude en verscheijde na bloedverwanten, alvry wat descrepeerde', 'soo is dat vervolgens van slimmer tot erger voortgegaen, en eyndelinge tot een openbare vijandlijk', 'rupture in groote bitterheijt van wederzijden uijtgeborsten, dEn den Jongen wettigen vorst ten', 'principale van al de zyne verlaten: om den Jonger broeder Pangoran Tourbaya ten gevalle van de vader', \"\"op den throon te stellen en hem van boven ter neder tebonten, ni 'twelcke zijn toevlugt tot de Comp\"\", \"\"nemende heeft hij den resident Caaff expres herwaarts gesonden, die ons op den 10. ' feb: uijt de naem\"\", 'en van wegen zijn hoogh:t quam versoeken ende seer „terative reequireren indese zijne verlegentheijt om es', 'Comp. s bescherminge en adsistentie, daar nog soo veel ootmoedige ende presserende instantien opgevolgt —', 'dat wij naer Examinatie en overlegh van saaken, niet hebben konnen nog mogen naerlaten zijne supplicatien', 'te admitteren, en hem met eenparige advisen, onder uEd: bescherminge ken en op tenemen, nietteni', 'niet arrest, om alvorens te dien eynde te procederen, off tot eenige feytelikheden te treden, onse gebuurlijke', \"\"mediatie tusschen vader en soone aentebieden, waartoe twee brieven d'eene aende vader en d'ander aende\"\", 'zoone sijnde gesz:, soo is daermede by syden onse verdere Ordres tot narigt vanden majoor Isaak s: mant', \"\"den zelven behoorlijk geadsisteert per 't schip Europie en't hoeker de Goudvincq den 6. ' maart met ses Compp\"\", 'van ruijm 50 Coppen europese militairen onder geprobeerde officieren derwaerts gedimitteert, en den E', \"\"Jan Albert Sloot soo sijn E secunde gequalificeert, naar dat den 15 ' feb: eerst thoeken twoud enden\"\", \"\"2:e' Maart 'tjagt den alexander tot retrairtte van onse Residentie (des noots zijnde) daar heene waare\"\", \"\"gesonden, alsmede den 3. e' maart savonts de Jaghten gekroonde vreede en roemerswael met een derde\"\", 'voors: militie, alsoo den Co„ sig onvermegens verclaart had, onse Logie ent volk daer in bescheijden', 'tegen tgewelt zyner rebellen te konnen protegeren, gelik in efferte derebellen, haar ook meester vand', 'stranden de fortificatien Langs de selve, sulcx mede van alle advenuen gemaakt, en zijn hoogh:t', 'zooverre in syn Casteel nieuwelijcx geextrueert, en maar kort tevooren in dafenie gebragt be', \"\"belegent hadde, datter d' raeuwijx eenigen toegangh als by nagt voor Enckele wegkunnd\"\")\"\t[0.024076659232378006, 0.8481736779212952, 0.12774965167045593, 2.7975189439283232e-12]\t(<RegionType.PARAGRAPH: 'paragraph'>, <RegionType.PHYSICAL_STRUCTURE_DOC: 'physical_structure_doc'>, <RegionType.TEXT_REGION: 'text_region'>, <RegionType.PAGEXML_DOC: 'pagexml_doc'>)\n",
      "IN\tIN\t('830. 37 „ 1993. 17. -',)\t[0.3154487609863281, 0.6682453155517578, 0.01630587875843048, 1.1027441980393515e-12]\t(<RegionType.PARAGRAPH: 'paragraph'>, <RegionType.PHYSICAL_STRUCTURE_DOC: 'physical_structure_doc'>, <RegionType.TEXT_REGION: 'text_region'>, <RegionType.PAGEXML_DOC: 'pagexml_doc'>)\n",
      "IN\tBEGIN\t('van Zuepheen sijn', 'gestraft.')\t[0.0022390217054635286, 0.938214123249054, 0.05954688414931297, 7.800636872556943e-12]\t(<RegionType.MARGINALIA: 'marginalia'>, <RegionType.PHYSICAL_STRUCTURE_DOC: 'physical_structure_doc'>, <RegionType.TEXT_REGION: 'text_region'>, <RegionType.PAGEXML_DOC: 'pagexml_doc'>)\n",
      "END\tEND\t\"('Batavia', \"\"in 't Casteel van uwer\"\")\"\t[0.0191501397639513, 1.140703352575656e-05, 0.980838418006897, 8.640197694950117e-16]\t(<RegionType.MARGINALIA: 'marginalia'>, <RegionType.PHYSICAL_STRUCTURE_DOC: 'physical_structure_doc'>, <RegionType.TEXT_REGION: 'text_region'>, <RegionType.PAGEXML_DOC: 'pagexml_doc'>)\n",
      "END\tEND\t('Wy bevelen uwer welEd. Hoog Agtb: dier„', '„baare persoonen en sComp=s importante', 'belangen in de veylige hoede gods en blyven')\t[3.464993369561853e-06, 0.001634705811738968, 0.9983618855476379, 2.8275777512053353e-14]\t(<RegionType.PARAGRAPH: 'paragraph'>, <RegionType.PHYSICAL_STRUCTURE_DOC: 'physical_structure_doc'>, <RegionType.TEXT_REGION: 'text_region'>, <RegionType.PAGEXML_DOC: 'pagexml_doc'>)\n",
      "IN\tIN\t('Wat er op den Eisch', 'van speceryen', 'voldaan is.')\t[0.0007066638208925724, 0.9979625940322876, 0.001330730738118291, 2.4382490384361466e-12]\t(<RegionType.MARGINALIA: 'marginalia'>, <RegionType.PHYSICAL_STRUCTURE_DOC: 'physical_structure_doc'>, <RegionType.TEXT_REGION: 'text_region'>, <RegionType.PAGEXML_DOC: 'pagexml_doc'>)\n",
      "BEGIN\tBEGIN\t('Middelburg in Zeeland', 'gedateerd den 12 October 1792')\t[0.999988317489624, 5.858669886033008e-12, 1.1683482625812758e-05, 4.029157059076395e-17]\t(<RegionType.PARAGRAPH: 'paragraph'>, <RegionType.PHYSICAL_STRUCTURE_DOC: 'physical_structure_doc'>, <RegionType.TEXT_REGION: 'text_region'>, <RegionType.PAGEXML_DOC: 'pagexml_doc'>)\n"
     ]
    }
   ],
   "source": [
    "import csv\n",
    "import random\n",
    "import sys\n",
    "\n",
    "import torch\n",
    "from torcheval.metrics import MulticlassF1Score, MulticlassPrecision, MulticlassRecall\n",
    "\n",
    "from document_segmentation.pagexml.datamodel.label import Label\n",
    "\n",
    "writer = csv.DictWriter(\n",
    "    sys.stdout,\n",
    "    fieldnames=(\"Predicted\", \"Actual\", \"Lines\", \"Scores\", \"Types\"),\n",
    "    delimiter=\"\\t\",\n",
    ")\n",
    "\n",
    "writer.writeheader()\n",
    "\n",
    "precision_metric = MulticlassPrecision(average=None, num_classes=len(Label))\n",
    "recall_metric = MulticlassRecall(average=None, num_classes=len(Label))\n",
    "f1_metric = MulticlassF1Score(average=None, num_classes=len(Label))\n",
    "\n",
    "for batch in test_data.batches(BATCH_SIZE):\n",
    "    predicted = model(batch)\n",
    "    labels = batch.labels()\n",
    "    types = [region.types for region in batch.regions()]\n",
    "\n",
    "    _labels = torch.Tensor([label.value - 1 for label in labels]).to(int)\n",
    "    precision_metric.update(predicted, _labels)\n",
    "    recall_metric.update(predicted, _labels)\n",
    "    f1_metric.update(predicted, _labels)\n",
    "\n",
    "    # print every nth line:\n",
    "    if random.random() > 0.9:\n",
    "        for region, pred, label, types in zip(\n",
    "            batch.regions(), predicted, labels, types\n",
    "        ):\n",
    "            pred_label = Label(pred.argmax().item() + 1)\n",
    "            writer.writerow(\n",
    "                {\n",
    "                    \"Predicted\": pred_label.name,\n",
    "                    \"Actual\": label.name,\n",
    "                    \"Lines\": region.lines,\n",
    "                    \"Scores\": str(pred.tolist()),\n",
    "                    \"Types\": str(types),\n",
    "                }\n",
    "            )"
   ]
  },
  {
   "cell_type": "code",
   "execution_count": 26,
   "metadata": {},
   "outputs": [
    {
     "name": "stderr",
     "output_type": "stream",
     "text": [
      "WARNING:root:tensor([[3]]) classes have zero instances in both the predictions and the ground truth labels. Precision is still logged as zero.\n",
      "WARNING:root:One or more NaNs identified, as no ground-truth instances of [3] have been seen. These have been converted to zero.\n",
      "WARNING:root:Warning: Some classes do not exist in the target. F1 scores for these classes will be cast to zeros.\n"
     ]
    },
    {
     "name": "stdout",
     "output_type": "stream",
     "text": [
      "Metric\tBEGIN\tIN\tEND\tOUT\n",
      "MulticlassPrecision\t0.7871\t0.7390\t0.7719\t0.0000\n",
      "MulticlassRecall\t0.6845\t0.8850\t0.7176\t0.0000\n",
      "MulticlassF1Score\t0.7322\t0.8054\t0.7438\t0.0000\n"
     ]
    }
   ],
   "source": [
    "writer = csv.DictWriter(\n",
    "    sys.stdout, fieldnames=[\"Metric\"] + [label.name for label in Label], delimiter=\"\\t\"\n",
    ")\n",
    "writer.writeheader()\n",
    "\n",
    "for metric in (precision_metric, recall_metric, f1_metric):\n",
    "    scores = {\n",
    "        label.name: f\"{score:.4f}\"\n",
    "        for label, score in zip(Label, metric.compute().tolist())\n",
    "    }\n",
    "    writer.writerow({\"Metric\": metric.__class__.__name__} | scores)"
   ]
  }
 ],
 "metadata": {
  "kernelspec": {
   "display_name": ".venv",
   "language": "python",
   "name": "python3"
  },
  "language_info": {
   "codemirror_mode": {
    "name": "ipython",
    "version": 3
   },
   "file_extension": ".py",
   "mimetype": "text/x-python",
   "name": "python",
   "nbconvert_exporter": "python",
   "pygments_lexer": "ipython3",
   "version": "3.11.2"
  }
 },
 "nbformat": 4,
 "nbformat_minor": 2
}
